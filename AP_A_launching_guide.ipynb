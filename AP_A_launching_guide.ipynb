{
 "cells": [
  {
   "cell_type": "markdown",
   "metadata": {},
   "source": [
    "# <font class='ign_color'>ROS IN 5 DAYS </font>"
   ]
  },
  {
   "cell_type": "markdown",
   "metadata": {},
   "source": [
    "# APPENDIX A: What to do now?"
   ]
  },
  {
   "cell_type": "markdown",
   "metadata": {},
   "source": [
    "Now that you have finished the Robot Ignite Academy Course... What should you do now?<br>\n",
    "Do you want to continue practising with the same simulations, or do you want to use them for your own projects?<br>\n",
    "Do you want to keep learning different topics?<br>\n",
    "Then you are in the right place!<br>"
   ]
  },
  {
   "cell_type": "markdown",
   "metadata": {},
   "source": [
    "<table style=\"width:100%\">\n",
    "  <tr>\n",
    "    <th>\n",
    "     <ul>\n",
    "  <li><a href=\"#where_to_launch\">Where to continue working with the simulations</a></li>\n",
    "  <li><a href=\"#how_to_launch\">Where to keep learning</a></li>\n",
    "</ul>\n",
    "\n",
    "   </th>\n",
    "  </tr>\n",
    "</table>"
   ]
  },
  {
   "cell_type": "markdown",
   "metadata": {},
   "source": [
    "## Where to launch the simulations <p id=\"where_to_launch\"></p>"
   ]
  },
  {
   "cell_type": "markdown",
   "metadata": {},
   "source": [
    "<img src=\"img/RDS_logo.png\" width=\"400\"/>"
   ]
  },
  {
   "cell_type": "markdown",
   "metadata": {},
   "source": [
    "At the <a href=\"http://www.theconstructsim.com/rds-ros-development-studio/\">ROS Development Studio</a>, of course! There are various options to continue your work and develop all that you have learned with this Course..<br>\n",
    "<ul>\n",
    "    <li>\n",
    "    You can create your own simulations from scratch. \n",
    "    <br><br>\n",
    "    <div style=\"text-align: left\">\n",
    "    <img src=\"img/create_sim1.png\" width=\"400\" style=\"float: left; margin: 0px 0px 15px 15px;\"/>\n",
    "    <img src=\"img/create_sim2.png\" width=\"400\" style=\"float: left; margin: 0px 0px 15px 15px;\"/>\n",
    "    </div>\n",
    "    <br>\n",
    "    </li>\n",
    "    <br><br><br><br><br><br><br><br><br><br><br><br><br><br><br><br>\n",
    "    <li>If you don't have a simulation, or don't want to create one, there are plug and play simulations available, including the ones in the Course, to apply your newly acquired knowledge.<br>\n",
    "    <img src=\"img/rds_examples.png\" width=\"800\"/>\n",
    "    <br>\n",
    "    </li>\n",
    "</ul>"
   ]
  },
  {
   "cell_type": "markdown",
   "metadata": {},
   "source": [
    "## Do you want to keep learning? <p id=\"how_to_launch\"></p>"
   ]
  },
  {
   "cell_type": "markdown",
   "metadata": {},
   "source": [
    "<img src=\"img/robotignite_logo_text.png\" width=\"500\"/>"
   ]
  },
  {
   "cell_type": "markdown",
   "metadata": {},
   "source": [
    "Once you have finished the Course, there are still a lot of interesting ROS subjects to learn.\n",
    "<ul>\n",
    "   <li>\n",
    "   Take more some of our more advanced Main Courses at the <a href=\"http://www.robotigniteacademy.com/\">Robot Ignite Academy</a>, like Navigation, Perception, and Manipulation.\n",
    "   </li>\n",
    "   <li>\n",
    "   Or, you can get more specific, but very useful, knowledge, such as how to work with TFs or URDFs, or how to get started with ROS Industrial.\n",
    "   </li>\n",
    "   <li>\n",
    "   You can also download simulation robot models to practice in a local installation of ROS through <a href=\"http://www.theconstructsim.com/shop-landing-page-default/\">Robository</a>.\n",
    "   </li> \n",
    "</ul>"
   ]
  }
 ],
 "metadata": {
  "anaconda-cloud": {},
  "kernelspec": {
   "display_name": "Python [Root]",
   "language": "python",
   "name": "Python [Root]"
  },
  "language_info": {
   "codemirror_mode": {
    "name": "ipython",
    "version": 2
   },
   "file_extension": ".py",
   "mimetype": "text/x-python",
   "name": "python",
   "nbconvert_exporter": "python",
   "pygments_lexer": "ipython2",
   "version": "2.7.12"
  }
 },
 "nbformat": 4,
 "nbformat_minor": 1
}
