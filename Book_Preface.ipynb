{
 "cells": [
  {
   "cell_type": "markdown",
   "metadata": {},
   "source": [
    "# Preface"
   ]
  },
  {
   "cell_type": "markdown",
   "metadata": {},
   "source": [
    "This book relies on a series of Gazebo simulations in order to teach you ROS. You need to have the simulations running while following the course, if you really want to learn ROS in 5 days, since we heavily rely on them to explain you the complex concepts of ROS."
   ]
  },
  {
   "cell_type": "markdown",
   "metadata": {},
   "source": [
    "## The simulations"
   ]
  },
  {
   "cell_type": "markdown",
   "metadata": {},
   "source": [
    "The list of simulations that you need to execute are the following:"
   ]
  },
  {
   "cell_type": "markdown",
   "metadata": {},
   "source": [
    "**Kobuki**"
   ]
  },
  {
   "cell_type": "markdown",
   "metadata": {
    "caption": "Kobuki",
    "image": true,
    "name": "kobuki",
    "width": "5cm"
   },
   "source": [
    "<img src=\"img/kobuki.jpg\" width=\"212\" height=\"236\"/>"
   ]
  },
  {
   "cell_type": "markdown",
   "metadata": {},
   "source": [
    "**WAM**"
   ]
  },
  {
   "cell_type": "markdown",
   "metadata": {
    "caption": "Wam Arm",
    "image": true,
    "name": "iri_wam",
    "width": "5cm"
   },
   "source": [
    "<img src=\"img/iri_wam.jpg\" width=\"212\" height=\"236\"/>"
   ]
  },
  {
   "cell_type": "markdown",
   "metadata": {},
   "source": [
    "**BB-8**"
   ]
  },
  {
   "cell_type": "markdown",
   "metadata": {
    "caption": "BB8",
    "image": true,
    "name": "bb8",
    "width": "5cm"
   },
   "source": [
    "<img src=\"img/bb8.jpg\" width=\"212\" height=\"236\"/>"
   ]
  },
  {
   "cell_type": "markdown",
   "metadata": {},
   "source": [
    "**Parrot Drone**"
   ]
  },
  {
   "cell_type": "markdown",
   "metadata": {
    "caption": "Parrot Drone",
    "image": true,
    "name": "drone",
    "width": "5cm"
   },
   "source": [
    "<img src=\"img/drone.jpg\" width=\"212\" height=\"236\"/>"
   ]
  },
  {
   "cell_type": "markdown",
   "metadata": {},
   "source": [
    "**Sphero**"
   ]
  },
  {
   "cell_type": "markdown",
   "metadata": {
    "caption": "Sphero",
    "image": true,
    "name": "sphero",
    "width": "5cm"
   },
   "source": [
    "<img src=\"img/sphero.png\" width=\"212\" height=\"236\"/>"
   ]
  },
  {
   "cell_type": "markdown",
   "metadata": {},
   "source": [
    "## How to launch the simulations"
   ]
  },
  {
   "cell_type": "markdown",
   "metadata": {},
   "source": [
    "In order to launch the simulations you have two options:"
   ]
  },
  {
   "cell_type": "markdown",
   "metadata": {},
   "source": [
    "1- **Launch the simulations in our ROS Development Studio (ROSDS) using the ROSjects we provide**. ROSDS is the The Construct web based tool to program ROS robots online. It is recommended that you use this option since it is very simple and requires no installation in your computer. Hence, you can use any type of computer to follow this book (Windows, Linux or Mac). Additionally, free accounts are available. You just need to paste the ROSject link we will provide to you in each Unit to a browser's URL, and you will automatically have the simulation prepared in your ROSDS workspace."
   ]
  },
  {
   "cell_type": "markdown",
   "metadata": {},
   "source": [
    "2- **Launch the simulations in your own computer**. This option requires that you have a running Linux computer with ROS and Gazebo simulator installed in your computer. We do not cover those steps (but more information below)"
   ]
  },
  {
   "cell_type": "markdown",
   "metadata": {},
   "source": [
    "### 1. Launch the simulation using ROSjects"
   ]
  },
  {
   "cell_type": "markdown",
   "metadata": {},
   "source": [
    "You will find a complete guide about **ROSjects** and how to open them in the next Chapter of the Book."
   ]
  },
  {
   "cell_type": "markdown",
   "metadata": {},
   "source": [
    "### 2. Launch the simulation in your own computer\n"
   ]
  },
  {
   "cell_type": "markdown",
   "metadata": {},
   "source": [
    "We do not recommend this option because it requires you to know about ROS concepts that you still don’t have (because you are going to learn them in this book). However, we provide this option for more advanced users who more or less know what they are doing. If that is not your case, use the option of launching the simulations on the RDS, which requires no previous knowledge of ROS."
   ]
  },
  {
   "cell_type": "markdown",
   "metadata": {},
   "source": [
    "For this option you will need to:"
   ]
  },
  {
   "cell_type": "markdown",
   "metadata": {},
   "source": [
    "1- Download the simulations from Robository, following the  links provided above."
   ]
  },
  {
   "cell_type": "markdown",
   "metadata": {},
   "source": [
    "2- Install and set up a ROS environment in your PC. The instructions to do that are explained in the official page of ROS (www.ros.org). Bear in mind that the simulations you downloaded are supported for ROS Indigo with Gazebo 7. Any other ROS version might not compile or work correctly."
   ]
  },
  {
   "cell_type": "markdown",
   "metadata": {},
   "source": [
    "3- Create a catkin workspace on your computer. Instructions about how to do that, here (http://wiki.ros.org/catkin/commands/catkin_make)."
   ]
  },
  {
   "cell_type": "markdown",
   "metadata": {},
   "source": [
    "4- Unzip the downloaded simulations into your local catkin workspace (**catkin_ws/src folder**)."
   ]
  },
  {
   "cell_type": "markdown",
   "metadata": {},
   "source": [
    "5- Go to the **catkin_ws** folder and manually compile the simulation issuing the command **catkin_make**."
   ]
  },
  {
   "cell_type": "markdown",
   "metadata": {},
   "source": [
    "6- Manually launch the correct simulation for each chapter of the book. The proper instructions are provided at the beginning of each chapter."
   ]
  },
  {
   "cell_type": "markdown",
   "metadata": {},
   "source": [
    "## Consultations"
   ]
  },
  {
   "cell_type": "markdown",
   "metadata": {},
   "source": [
    "If you have any doubts while doing the Course, or you get really sucked in some of the exercises, you can ask for support in our forum:"
   ]
  },
  {
   "cell_type": "markdown",
   "metadata": {},
   "source": [
    "http://www.theconstructsim.com/forums/forum/robot-ignite-academy-forum/"
   ]
  }
 ],
 "metadata": {
  "anaconda-cloud": {},
  "kernelspec": {
   "display_name": "Python [Root]",
   "language": "python",
   "name": "Python [Root]"
  },
  "language_info": {
   "codemirror_mode": {
    "name": "ipython",
    "version": 2
   },
   "file_extension": ".py",
   "mimetype": "text/x-python",
   "name": "python",
   "nbconvert_exporter": "python",
   "pygments_lexer": "ipython2",
   "version": "2.7.12"
  },
  "latex_metadata": {
   "chapter": "Preface",
   "chapter_title": "Preface",
   "course_title": "ROS BASICS IN 5 DAYS"
  }
 },
 "nbformat": 4,
 "nbformat_minor": 0
}
