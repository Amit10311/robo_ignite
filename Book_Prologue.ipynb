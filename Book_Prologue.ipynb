{
 "cells": [
  {
   "cell_type": "markdown",
   "metadata": {},
   "source": [
    "## Prologue"
   ]
  },
  {
   "cell_type": "markdown",
   "metadata": {},
   "source": [
    "ROS, the most popular open-source, meta-operating system for robots, provides you with tools and libraries that allow breaking up code into modular and reusable packages. In this form, you can benefit from third-party code that your community has developed and share your own creations easily. However, this rather large system assumes good working knowledge of networking paradigms, so the ROS learning curve is a little steep and to become proficient is pretty hard for a complete beginner."
   ]
  },
  {
   "cell_type": "markdown",
   "metadata": {},
   "source": [
    "**ROS in 5 days** is the book associated to a course giving you the basic tools and knowledge to be able to understand and create any basic ROS related project. You will be able to move robots, read their sensor data, do parallel tasks, see visual representations of complex data... and much more. This course is divided in two main parts. In the first one, about learning ROS with exercises, you will learn executing code and using different simulated robots for it. The second one is about developing a project where you will apply what you have learned in each unit in a full project controlling a simple robot.\n"
   ]
  },
  {
   "cell_type": "markdown",
   "metadata": {},
   "source": [
    "**Cecilio Angulo**, Barcelona 2016\n",
    "\n",
    "Associated professor, research leader and former coordinator of the Master’s degree in Automatic Control and Robotics at Technical University of Catalonia"
   ]
  }
 ],
 "metadata": {
  "kernelspec": {
   "display_name": "Python [Root]",
   "language": "python",
   "name": "Python [Root]"
  },
  "language_info": {
   "codemirror_mode": {
    "name": "ipython",
    "version": 2
   },
   "file_extension": ".py",
   "mimetype": "text/x-python",
   "name": "python",
   "nbconvert_exporter": "python",
   "pygments_lexer": "ipython2",
   "version": "2.7.12"
  },
  "latex_metadata": {
   "chapter": "Prologue",
   "chapter_title": "Prologue",
   "course_title": "ROS BASICS IN 5 DAYS"
  }
 },
 "nbformat": 4,
 "nbformat_minor": 0
}
