{
 "cells": [
  {
   "cell_type": "markdown",
   "metadata": {},
   "source": [
    "<img src=\"img/drone_navigation.png\" width=\"700\" />"
   ]
  },
  {
   "cell_type": "markdown",
   "metadata": {},
   "source": [
    "<img src=\"img/robotignite_logo_text.png\" width=\"700\" />"
   ]
  },
  {
   "cell_type": "markdown",
   "metadata": {},
   "source": [
    "# Programming Drones"
   ]
  },
  {
   "cell_type": "markdown",
   "metadata": {},
   "source": [
    "## Unit 4: Drone Navigation using MoveIt!"
   ]
  },
  {
   "cell_type": "markdown",
   "metadata": {},
   "source": [
    "<p style=\"background:green;color:white;\">SUMMARY</p>"
   ]
  },
  {
   "cell_type": "markdown",
   "metadata": {},
   "source": [
    "Estimated time to completion: <b>2 hours</b><br><br>\n",
    "In this unit, you are going to see how you can perform Drone Navigation using MoveIt."
   ]
  },
  {
   "cell_type": "markdown",
   "metadata": {},
   "source": [
    "<p style=\"background:green;color:white;\">END OF SUMMARY</p>"
   ]
  },
  {
   "cell_type": "markdown",
   "metadata": {},
   "source": [
    "## What is MoveIt?"
   ]
  },
  {
   "cell_type": "markdown",
   "metadata": {},
   "source": [
    "MoveIt is a ROS framework that allows you to perform motion planning with a specific robot. And... what does this mean? Well, it basically means that it allows you to plan movements (motions) from point A to point B, without colliding with anything."
   ]
  },
  {
   "cell_type": "markdown",
   "metadata": {},
   "source": [
    "An important thing to mention is that MoveIt is, by default, prepared to work with Manipulation robots, and that's what it's usually used for. Therefore, we will have to take some extra steps in order to use it for our purpose, which is to plan trajectories for our drone. But, you'll see this while you advance through the different sections of this chapter."
   ]
  },
  {
   "cell_type": "markdown",
   "metadata": {},
   "source": [
    "MoveIt is a very complex and useful tool. So, within this chapter, we are not going to dive into the details of how MoveIt works, or all of the features that it provides. If you are intereseted in learning more about MoveIt, you can have a look at the official website here: http://moveit.ros.org/"
   ]
  },
  {
   "cell_type": "markdown",
   "metadata": {},
   "source": [
    "Fortunately, MoveIt provides a very nice and easy-to-use GUI, which will help us interact with the robot in order to perform motion planning. However, before being able to actually use MoveIt, we need to build a package. This package will generate all the configuration and launch files required for using our defined robot (the one that is defined in the URDF file) with MoveIt. \n",
    "<br><br>\n",
    "In order to generate this package, just follow all the steps described in the following exercise!"
   ]
  },
  {
   "cell_type": "markdown",
   "metadata": {},
   "source": [
    "### Generating MoveIt! configuration package using Setup Assistant tool"
   ]
  },
  {
   "cell_type": "markdown",
   "metadata": {},
   "source": [
    "<p style=\"background:#EE9023;color:white;\">Exercise 3.1</p>\n",
    "<br>\n",
    "a) First of all, you'll need to launch the MoveIt Setup Assistant. You can do that by typing the following command:\n",
    "<br>\n",
    "<table style=\"float:left;background: #407EAF\">\n",
    "<tr>\n",
    "<th>\n",
    "<p class=\"transparent\">Execute in WebShell #1</p>\n",
    "</th>\n",
    "</tr>\n",
    "</table>"
   ]
  },
  {
   "cell_type": "code",
   "execution_count": null,
   "metadata": {
    "collapsed": true
   },
   "outputs": [],
   "source": [
    "roslaunch moveit_setup_assistant setup_assistant.launch<br>"
   ]
  },
  {
   "cell_type": "markdown",
   "metadata": {
    "caption": "MoveIt Setup Assistant",
    "image": true,
    "name": "setup_assistant",
    "width": "9cm"
   },
   "source": [
    "Now, if you open the Graphic Tools by hitting this icon, \n",
    "<img src=\"img/font-awesome_desktop.png\"width=\"25\"/>\n",
    "you will see something like this:\n",
    "<img src=\"img/setup_assistant.png\" width=\"500\" />"
   ]
  },
  {
   "cell_type": "markdown",
   "metadata": {},
   "source": [
    "Great! You are now at the MoveIt Setup Assistant. The next thing you'll need to do is load your robot file. So, let's continue!"
   ]
  },
  {
   "cell_type": "markdown",
   "metadata": {
    "caption": "Create New Package",
    "image": true,
    "name": "load_xacro",
    "width": "9cm"
   },
   "source": [
    "b) Click on the \"Create New MoveIt Configuration Package\" button. A new section like this will appear:<br>\n",
    "<img src=\"img/load_xacro.png\" width=\"500\" />"
   ]
  },
  {
   "cell_type": "markdown",
   "metadata": {
    "caption": "Load URDF",
    "image": true,
    "name": "shadow_rviz1",
    "width": "9cm"
   },
   "source": [
    "Now, just click the \"Browse\" button, select the Xacro file named **quadrotor_sensors.urdf.xacro** located in the **cvg_sim_gazebo/urdf** package, and click on the \"Load Files\" button. You should now see this:<br>\n",
    "<img src=\"img/drone_moveit1.png\" width=\"500\" />"
   ]
  },
  {
   "cell_type": "markdown",
   "metadata": {},
   "source": [
    "Great! So, you've loaded your robot's xacro file to the MoveIt Setup Assistant. Now, let's start configuring some things."
   ]
  },
  {
   "cell_type": "markdown",
   "metadata": {
    "caption": "Self-Collisions",
    "image": true,
    "name": "shadow_rviz2",
    "width": "9cm"
   },
   "source": [
    "c) Go to the \"Self-Collisions\" tab, and click on the \"Regenerate Default Collision Matrix\" button. You will end up with something like this:<br>\n",
    "<img src=\"img/drone_moveit2.png\" width=\"500\" />"
   ]
  },
  {
   "cell_type": "markdown",
   "metadata": {},
   "source": [
    "Here, you are just defining pairs of links that don't need to be considered when performing collision checking. For instance, because they are adjacent links, they will always be in collision."
   ]
  },
  {
   "cell_type": "markdown",
   "metadata": {},
   "source": [
    "d) Next, move to the \"Virtual Joints\" tab. Here, you will define a virtual joint for the base of the robot. Click the \"Add Virtual Joint\" button, and set the name of this joint to **virtual_joint**. The Child link will be **base_link**, and the Parent frame will be **world**. Also, set the Joint type to **floating**. Just like this:"
   ]
  },
  {
   "cell_type": "markdown",
   "metadata": {
    "caption": "Virtual Joints",
    "image": true,
    "name": "shadow_rviz3",
    "width": "9cm"
   },
   "source": [
    "<img src=\"img/drone_virt_joint.png\" width=\"700\" />"
   ]
  },
  {
   "cell_type": "markdown",
   "metadata": {},
   "source": [
    "Finally, click the \"Save\" button."
   ]
  },
  {
   "cell_type": "markdown",
   "metadata": {},
   "source": [
    "<img src=\"img/drone_moveit3.png\" width=\"700\" />"
   ]
  },
  {
   "cell_type": "markdown",
   "metadata": {},
   "source": [
    "Basically, what you are doing here is creating an \"imaginary\" joint that will connect the base of your robot to the simulated world. This virtual joint represents the motion of the base of the robot on a plane. This virtual joint will be a floating joint since the quadrotor is a multi degree-of-freedom object."
   ]
  },
  {
   "cell_type": "markdown",
   "metadata": {},
   "source": [
    "e) Now, open the \"Planning Groups\" tab and click the \"Add Group\" button. Now, you will create a new group called **ardrone_group**. Just like this:"
   ]
  },
  {
   "cell_type": "markdown",
   "metadata": {
    "caption": "Planning Group",
    "image": true,
    "name": "arm0",
    "width": "9cm"
   },
   "source": [
    "<img src=\"img/drone_moveit5.png\" width=\"700\" />"
   ]
  },
  {
   "cell_type": "markdown",
   "metadata": {},
   "source": [
    "Next, you will click on the \"Add Joints\" button, and you will add the **virtual_joint**. Just like this:"
   ]
  },
  {
   "cell_type": "markdown",
   "metadata": {
    "caption": "Add Joints",
    "image": true,
    "name": "add_joints",
    "width": "9cm"
   },
   "source": [
    "<img src=\"img/drone_moveit6.png\" width=\"500\" />"
   ]
  },
  {
   "cell_type": "markdown",
   "metadata": {},
   "source": [
    "Now, repeat the same process, except for Adding a link. In this case, you will add the **base_link**."
   ]
  },
  {
   "cell_type": "markdown",
   "metadata": {},
   "source": [
    "<img src=\"img/drone_moveit_links.png\" width=\"500\" />"
   ]
  },
  {
   "cell_type": "markdown",
   "metadata": {},
   "source": [
    "Finally, click the \"Save\" button and you will end up with something like this:"
   ]
  },
  {
   "cell_type": "markdown",
   "metadata": {
    "caption": "Planning Group 2",
    "image": true,
    "name": "arm",
    "width": "9cm"
   },
   "source": [
    "<img src=\"img/drone_moveit4.png\" width=\"700\" />"
   ]
  },
  {
   "cell_type": "markdown",
   "metadata": {},
   "source": [
    "Planning groups are used for semantically describing different parts of the quadrotor, such as defining an end effector. For our quadrotor model, we don’t have an end effector, but we define a planning group named **ardrone_group**, which contains the floating virtual_joint and the base_link. We can leave the kinematic solver set to none since we are treating the quadrotor as a simple single object."
   ]
  },
  {
   "cell_type": "markdown",
   "metadata": {},
   "source": [
    "f) Next, you can skip directly to the \"Author Information\" tab. Here, just enter your name and e-mail."
   ]
  },
  {
   "cell_type": "markdown",
   "metadata": {},
   "source": [
    "g) Finally, go to the \"Configuration Files\" tab and click the \"Browse\" button. Navigate to the **catkin_ws/src** directory, create a new directory, and name it **ardrone_moveit_config**. Choose the directory you've just created."
   ]
  },
  {
   "cell_type": "markdown",
   "metadata": {
    "caption": "Generate Package",
    "image": true,
    "name": "conf_pkg",
    "width": "9cm"
   },
   "source": [
    "<img src=\"img/drone_moveit_pkg.png\" width=\"600\" />"
   ]
  },
  {
   "cell_type": "markdown",
   "metadata": {},
   "source": [
    " Now, click the \"Generate Package\" button. If everything goes well, you should see something like this:"
   ]
  },
  {
   "cell_type": "markdown",
   "metadata": {
    "caption": "Package Generated",
    "image": true,
    "name": "conf_pkg2",
    "width": "9cm"
   },
   "source": [
    "<img src=\"img/drone_moveit_success.png\" width=\"700\" />"
   ]
  },
  {
   "cell_type": "markdown",
   "metadata": {},
   "source": [
    "And that's it! You have just created a MoveIt package for your articulated robot."
   ]
  },
  {
   "cell_type": "markdown",
   "metadata": {},
   "source": [
    "<p style=\"background:#EE9023;color:white;\">End of Exercise 3.1</p>"
   ]
  },
  {
   "cell_type": "markdown",
   "metadata": {},
   "source": [
    "<table style=\"float:left;\">\n",
    "<tr>\n",
    "<th>\n",
    "<p style=\"background:#3B8F10;color:white;\">Data for Exercise 3.1</p>\n",
    "<br>\n",
    "Check the following notes in order to complete the exercise:\n",
    "<br><br>\n",
    "<span style=\"color:orange\">Note 1: </span>If, for any reason, you need to <b>edit</b> your MoveIt package (for instance, in future exercises you detect that you made an error), you can do so by selecting the <b>Edit Existing Moveit Configuration Package</b> option in the Setup Assistant, and then selecting your package. \n",
    "<br>\n",
    "<img src=\"img/setup_assistant.png\" width=\"500\" />\n",
    "<br>\n",
    "<span style=\"color:orange\">Note 1: </span>If you modify your MoveIt package, you will need to restart the simulation in order to make these changes take effect. You can do that by moving to the next chapter (Chapter 3), and then going back to this one (Chapter 2).\n",
    "<br>\n",
    "</th>\n",
    "</tr>\n",
    "</table>"
   ]
  },
  {
   "cell_type": "markdown",
   "metadata": {},
   "source": [
    "And that's it! You've created your MoveIt package for your drone. But... now what?"
   ]
  },
  {
   "cell_type": "markdown",
   "metadata": {},
   "source": [
    "### Testing the MoveIt! package"
   ]
  },
  {
   "cell_type": "markdown",
   "metadata": {},
   "source": [
    "Well... to start, you can launch the MoveIt RVIZ environment and start doing some tests in order to check that everything is working fine. So, follow the next exercise to do so!"
   ]
  },
  {
   "cell_type": "markdown",
   "metadata": {},
   "source": [
    "<p style=\"background:#EE9023;color:white;\">Exercise 3.2</p>\n",
    "<br>\n",
    "a) Execute the following command in order to start the MoveIt RVIZ demo environment.\n",
    "<table style=\"float:left;background: #407EAF\">\n",
    "<tr>\n",
    "<th>\n",
    "<p class=\"transparent\">Execute in WebShell #1</p>\n",
    "</th>\n",
    "</tr>\n",
    "</table>"
   ]
  },
  {
   "cell_type": "code",
   "execution_count": null,
   "metadata": {
    "collapsed": true
   },
   "outputs": [],
   "source": [
    "roslaunch ardrone_moveit_config demo.launch"
   ]
  },
  {
   "cell_type": "markdown",
   "metadata": {},
   "source": [
    "<p style=\"color:red;\"><b>NOTE:</b> The MoveIt RVIZ window might appear out of focus. Like this:</p>"
   ]
  },
  {
   "cell_type": "markdown",
   "metadata": {
    "caption": "Bad Focus",
    "image": true,
    "name": "focus_bad",
    "width": "7cm"
   },
   "source": [
    "<img src=\"img/focus_bad.png\" width=\"300\" />"
   ]
  },
  {
   "cell_type": "markdown",
   "metadata": {},
   "source": [
    "<p style=\"color:red;\">If so, just type the following command into the Web Shell:</p>"
   ]
  },
  {
   "cell_type": "code",
   "execution_count": null,
   "metadata": {
    "collapsed": true
   },
   "outputs": [],
   "source": [
    "wmctrl -r :ACTIVE: -e 0,65,24,1500,550"
   ]
  },
  {
   "cell_type": "markdown",
   "metadata": {},
   "source": [
    "<p style=\"color:red;\">Your MoveIt RVIZ window should appear like this:</p>"
   ]
  },
  {
   "cell_type": "markdown",
   "metadata": {
    "caption": "Good Focus",
    "image": true,
    "name": "focus_good",
    "width": "7cm"
   },
   "source": [
    "<img src=\"img/focus_good.png\" width=\"300\" />"
   ]
  },
  {
   "cell_type": "markdown",
   "metadata": {},
   "source": [
    "<p style=\"color:red;\">Now, you can just double-click on the top coloured part of the window to maximize it.</p>"
   ]
  },
  {
   "cell_type": "markdown",
   "metadata": {},
   "source": [
    "If everything goes OK, you will see something like this:"
   ]
  },
  {
   "cell_type": "markdown",
   "metadata": {
    "caption": "MoveIt RViz with UR5",
    "image": true,
    "name": "shadow_rviz0",
    "width": "9cm"
   },
   "source": [
    "<img src=\"img/drone_moveit_demo.png\" width=\"700\" />"
   ]
  },
  {
   "cell_type": "markdown",
   "metadata": {},
   "source": [
    "b) Now, move to the Planning tab. Here:"
   ]
  },
  {
   "cell_type": "markdown",
   "metadata": {
    "caption": "Planning Tab",
    "image": true,
    "name": "shadow_rviz9",
    "width": "9cm"
   },
   "source": [
    "<img src=\"img/drone_moveit_planning.png\" width=\"700\" />"
   ]
  },
  {
   "cell_type": "markdown",
   "metadata": {},
   "source": [
    "c) Before you start planning anything, it is always a good practice to update the current Start State."
   ]
  },
  {
   "cell_type": "markdown",
   "metadata": {
    "caption": "Query",
    "image": true,
    "name": "start_position",
    "width": "6cm"
   },
   "source": [
    "<img src=\"img/start_position.png\" width=\"250\" />"
   ]
  },
  {
   "cell_type": "markdown",
   "metadata": {},
   "source": [
    "d) Now, you will have to set the **workspace to a value bigger than the current one**. Remember that MoveIt is, by default, a tool for manipulator robots, which usually operate in small workspaces. In our case, though, we are going to work with a drone, so we will need to make our workspace bigger. For instance, you can set it to **10x10x10**."
   ]
  },
  {
   "cell_type": "markdown",
   "metadata": {
    "caption": "Updated Scene",
    "image": true,
    "name": "update_scene",
    "width": "9cm"
   },
   "source": [
    "<img src=\"img/drone_moveit_workspace.png\" width=\"500\" />"
   ]
  },
  {
   "cell_type": "markdown",
   "metadata": {},
   "source": [
    "e) You can move the drone using the interactive arrows. Move it to a desired goal position and click on the Plan button. You will see how a trajectory is planned."
   ]
  },
  {
   "cell_type": "markdown",
   "metadata": {
    "caption": "Robot Planning",
    "image": true,
    "name": "plan_traj",
    "width": "9cm"
   },
   "source": [
    "<img src=\"img/drone_plan1.gif\" width=\"700\" />"
   ]
  },
  {
   "cell_type": "markdown",
   "metadata": {},
   "source": [
    "g) Now just play with the new tool! You can repeat this same process a few more times. Also, you can try to play with the workspace values, or turn the different displays on and off to see how they affect the simulation."
   ]
  },
  {
   "cell_type": "markdown",
   "metadata": {},
   "source": [
    "<p style=\"background:#EE9023;color:white;\">End of Exercise 3.2</p>"
   ]
  },
  {
   "cell_type": "markdown",
   "metadata": {},
   "source": [
    "So, you've already checked that everything works as expected, and you're also a little more familiar with MoveIt. The next step will be to integrate the environment into MoveIt because we need to be aware of what environment we want our drone to navigate in, if we want to avoid any obstacle. And we are going to do that by using an **octomap**."
   ]
  },
  {
   "cell_type": "markdown",
   "metadata": {},
   "source": [
    "### Octomaps"
   ]
  },
  {
   "cell_type": "markdown",
   "metadata": {},
   "source": [
    "An octomap is, basically, a 3D occupancy grid map of an environment. The map implementation is based on an octree. Octomaps are provided by the Octomap library. You can find more information regarding the Octomap library here: http://octomap.github.io/"
   ]
  },
  {
   "cell_type": "markdown",
   "metadata": {},
   "source": [
    "The octomap is incorporated into MoveIt as a plugin (called the Occupany Map Updator plugin), which can update octree from different kinds of sensor inputs, such as PointClouds and depth images from 3D vision sensors. "
   ]
  },
  {
   "cell_type": "markdown",
   "metadata": {},
   "source": [
    "In our case, though, we do not have any 3D sensors mounted on our drone, so we won't be able to use this plugin. Instead, we are going to do a simple and fast workaround in order to be able to introduce an octomap into the MoveIt planning scene."
   ]
  },
  {
   "cell_type": "markdown",
   "metadata": {},
   "source": [
    "First of all, since we don't have any 3D sensors on our drone, we will have to build this octomap in some other way. In this case, we have built the octomap using a Husky robot, which does have a Kinect camera mounted on it. Octomaps can be built using the **octomap_mapping** ROS package. You can find more information on how to build an octomap with the following link: http://wiki.ros.org/octomap_mapping.\n",
    "\n",
    "Once the octomap is created, you can easily save it into a file to use later. In our case, this octomap is stored in a file called **simple_octomap.bt**, located in the **cvg_sim_gazebo/maps** package."
   ]
  },
  {
   "cell_type": "markdown",
   "metadata": {},
   "source": [
    "Once you have created and saved an octomap, you can provide this octomap using the **octomap_server** ROS package. In order to provide an octomap, you can use the following command:"
   ]
  },
  {
   "cell_type": "code",
   "execution_count": null,
   "metadata": {
    "collapsed": true
   },
   "outputs": [],
   "source": [
    "rosrun octomap_server octomap_server_node /path_to_octomap_file"
   ]
  },
  {
   "cell_type": "markdown",
   "metadata": {},
   "source": [
    "In our case, the command would be as follows:"
   ]
  },
  {
   "cell_type": "markdown",
   "metadata": {},
   "source": [
    "<table style=\"float:left;background: #407EAF\">\n",
    "<tr>\n",
    "<th>\n",
    "Execute in WebShell #1\n",
    "</th>\n",
    "</tr>\n",
    "</table>"
   ]
  },
  {
   "cell_type": "code",
   "execution_count": null,
   "metadata": {
    "collapsed": true
   },
   "outputs": [],
   "source": [
    "roscd cvg_sim_gazebo;\n",
    "cd maps;"
   ]
  },
  {
   "cell_type": "code",
   "execution_count": null,
   "metadata": {
    "collapsed": true
   },
   "outputs": [],
   "source": [
    "rosrun octomap_server octomap_server_node small_octomap.bt"
   ]
  },
  {
   "cell_type": "markdown",
   "metadata": {},
   "source": [
    "Great! But now... how do I know that my octomap is being published somewhere? Well, let's find out!"
   ]
  },
  {
   "cell_type": "markdown",
   "metadata": {},
   "source": [
    "Once you execute the above command, the full octomap contained within the specified file is published into a topic named **/octomap_full**, as a **octomap_msgs/Octomap** message. Also, the octomap is published into the topic **occupied_cells_vis_array** as \"box\" markers for visualization in RVIZ, using the **visualization_msgs/MarkerArray** message."
   ]
  },
  {
   "cell_type": "markdown",
   "metadata": {},
   "source": [
    "So, if we want to visualize the octomap in RVIZ, we will have to open an RVIZ window, add a **Marker Array** element, and configure it with the **occupied_cells_vis_array** topic. You should then be able to visualise something like this:"
   ]
  },
  {
   "cell_type": "markdown",
   "metadata": {},
   "source": [
    "<img src=\"img/octomap_rviz.png\" width=\"600\" />"
   ]
  },
  {
   "cell_type": "markdown",
   "metadata": {},
   "source": [
    "Excellent! So, now we've seen that our octomap is being properly published. But how can we add this octomap to the MoveIt planning scene? Let's see!"
   ]
  },
  {
   "cell_type": "markdown",
   "metadata": {},
   "source": [
    "<p style=\"background:#EE9023;color:white;\">Exercise 3.3</p>\n",
    "<br>\n",
    "a) First of all, create a new package that will be named **load_octomap**. Add **rospy** as a dependency."
   ]
  },
  {
   "cell_type": "markdown",
   "metadata": {},
   "source": [
    "<table style=\"float:left;background: #407EAF\">\n",
    "<tr>\n",
    "<th>\n",
    "Execute in WebShell #1\n",
    "</th>\n",
    "</tr>\n",
    "</table>"
   ]
  },
  {
   "cell_type": "code",
   "execution_count": null,
   "metadata": {
    "collapsed": true
   },
   "outputs": [],
   "source": [
    "catkin_create_pkg load_octomap rospy"
   ]
  },
  {
   "cell_type": "markdown",
   "metadata": {},
   "source": [
    "b) Inside the **src** folder of this new package, create a new file named **octoload.py**. Next, copy the following content into it:"
   ]
  },
  {
   "cell_type": "code",
   "execution_count": null,
   "metadata": {
    "collapsed": true
   },
   "outputs": [],
   "source": [
    "#! /usr/bin/env python\n",
    "\n",
    "import rospy\n",
    "from octomap_msgs.msg import Octomap\n",
    "from moveit_msgs.msg import PlanningScene, PlanningSceneWorld\n",
    "\n",
    "class OctoHandler():\n",
    "    mapMsg = None\n",
    "\n",
    "    def __init__(self):\n",
    "        rospy.init_node('moveit_octomap_handler')\n",
    "        rospy.Subscriber('octomap_full', Octomap, self.cb, queue_size=1)\n",
    "        pub = rospy.Publisher('move_group/monitored_planning_scene', PlanningScene, queue_size=1)\n",
    "        r = rospy.Rate(0.25)\n",
    "        while(not rospy.is_shutdown()):\n",
    "            if(self.mapMsg is not None):\n",
    "                pub.publish(self.mapMsg)\n",
    "            else:\n",
    "                pass\n",
    "            r.sleep()\n",
    "\n",
    "    def cb(self, msg):\n",
    "        psw = PlanningSceneWorld()\n",
    "        psw.octomap.header.stamp = rospy.Time.now()\n",
    "        psw.octomap.header.frame_id = 'map'\n",
    "        psw.octomap.octomap = msg\n",
    "\n",
    "        psw.octomap.origin.position.x = 0\n",
    "        psw.octomap.origin.orientation.w = 1\n",
    "\n",
    "        ps = PlanningScene()\n",
    "        ps.world = psw\n",
    "        ps.is_diff = True\n",
    "        self.mapMsg = ps\n",
    "        \n",
    "if __name__ == '__main__':\n",
    "    octomap_object = OctoHandler()\n",
    "    "
   ]
  },
  {
   "cell_type": "markdown",
   "metadata": {},
   "source": [
    "Don't worry if you don't understand much of this code right now; we are going to have a look at it later."
   ]
  },
  {
   "cell_type": "markdown",
   "metadata": {},
   "source": [
    "c) Inside your package, create a new folder named **launch**, and add a launch file there to start this code. You can name it **load_octomap.launch**. Also, add a **&lt;node&gt;** tag for providing the octomap. It could be something like this:"
   ]
  },
  {
   "cell_type": "code",
   "execution_count": null,
   "metadata": {
    "collapsed": true
   },
   "outputs": [],
   "source": [
    "<launch>\n",
    "\n",
    "    <arg name=\"path\" default=\"/home/user/simulation_ws/src/small_octomap.bt\"/>\n",
    "\n",
    "    <node pkg=\"octomap_server\" type=\"octomap_server_node\" name=\"octomap_talker\" output=\"screen\" args=\"$(arg path)\">\n",
    "    </node>\n",
    "    \n",
    "    <node pkg=\"load_octomap\" type=\"octoload.py\" name=\"moveit_octomap_handler\" output=\"screen\">\n",
    "    </node>\n",
    "    \n",
    "</launch>"
   ]
  },
  {
   "cell_type": "markdown",
   "metadata": {},
   "source": [
    "d) Execute your launch file, and launch the MoveIt environment again, as you saw before in this chapter. Check that the octomap is properly loaded into the MoveIt planning scene."
   ]
  },
  {
   "cell_type": "markdown",
   "metadata": {
    "collapsed": true
   },
   "source": [
    "<img src=\"img/drone_moveit_octomap.png\" width=\"700\" />"
   ]
  },
  {
   "cell_type": "markdown",
   "metadata": {},
   "source": [
    "<p style=\"background:#EE9023;color:white;\">End of Exercise 3.3</p>"
   ]
  },
  {
   "cell_type": "markdown",
   "metadata": {},
   "source": [
    "Great! So, we are now able to load our octomap into the MoveIt planning scene. But how did we achieve this? What did the code that was used really do? Let's have a look!"
   ]
  },
  {
   "cell_type": "code",
   "execution_count": null,
   "metadata": {
    "collapsed": true
   },
   "outputs": [],
   "source": [
    "from octomap_msgs.msg import Octomap\n",
    "from moveit_msgs.msg import PlanningScene, PlanningSceneWorld"
   ]
  },
  {
   "cell_type": "markdown",
   "metadata": {},
   "source": [
    "Here, we are importing some messages that we need. The **Octomap** message, to be able to handle the octomap, and the **PlanningScene** and **PlanningSceneWorld**, to be able to publish into the MoveIt planning scene."
   ]
  },
  {
   "cell_type": "code",
   "execution_count": null,
   "metadata": {
    "collapsed": true
   },
   "outputs": [],
   "source": [
    "class OctoHandler():\n",
    "    mapMsg = None"
   ]
  },
  {
   "cell_type": "markdown",
   "metadata": {},
   "source": [
    "Here, we are just creating a class called **OctoHandler**, and intializing a **mapMsg** variable."
   ]
  },
  {
   "cell_type": "code",
   "execution_count": null,
   "metadata": {
    "collapsed": true
   },
   "outputs": [],
   "source": [
    "rospy.init_node('moveit_octomap_handler')\n",
    "        rospy.Subscriber('octomap_full', Octomap, self.cb, queue_size=1)\n",
    "        pub = rospy.Publisher('move_group/monitored_planning_scene', PlanningScene, queue_size=1)\n",
    "        r = rospy.Rate(0.25)\n",
    "        while(not rospy.is_shutdown()):\n",
    "            if(self.mapMsg is not None):\n",
    "                pub.publish(self.mapMsg)\n",
    "            else:\n",
    "                pass\n",
    "            r.sleep()"
   ]
  },
  {
   "cell_type": "markdown",
   "metadata": {},
   "source": [
    "This is the constructor of the class. Here, we are basically defining a Subscriber of the **/octomap_full** topic so that we are able to get the octomap from this topic. Remember, we saw earlier that this is the topic where the octomap is published when we provide it through the **small_octomap.bt** file. Also, we define a Publisher that will allow us to publish a message into the **move_group/monitored_planning_scene**, which is the topic that MoveIt uses to build the planning scene."
   ]
  },
  {
   "cell_type": "markdown",
   "metadata": {},
   "source": [
    "Finally, we create a loop for publishing our octomap into the MoveIt planning scene. The **mapMsg** always has a value (this value will be the octomap)."
   ]
  },
  {
   "cell_type": "code",
   "execution_count": null,
   "metadata": {
    "collapsed": true
   },
   "outputs": [],
   "source": [
    "def cb(self, msg):\n",
    "        psw = PlanningSceneWorld()\n",
    "        psw.octomap.header.stamp = rospy.Time.now()\n",
    "        psw.octomap.header.frame_id = 'map'\n",
    "        psw.octomap.octomap = msg\n",
    "\n",
    "        psw.octomap.origin.position.x = 0\n",
    "        psw.octomap.origin.orientation.w = 1\n",
    "\n",
    "        ps = PlanningScene()\n",
    "        ps.world = psw\n",
    "        ps.is_diff = True\n",
    "        self.mapMsg = ps"
   ]
  },
  {
   "cell_type": "markdown",
   "metadata": {},
   "source": [
    "This is the callback for the Subscriber we defined before. Every time a message is published into the **/octomap_full** topic, this callback will be activated. Inside this callback, we are basically building the **PlanningScene()** message, which will be the one that we will use to publish into the **move_group/monitored_planning_scene** topic."
   ]
  },
  {
   "cell_type": "markdown",
   "metadata": {},
   "source": [
    "First, we build a **PlanningSceneWorld()** message, then we fill it with the octomap message, along with other required values:"
   ]
  },
  {
   "cell_type": "code",
   "execution_count": null,
   "metadata": {
    "collapsed": true
   },
   "outputs": [],
   "source": [
    "psw = PlanningSceneWorld()\n",
    "        psw.octomap.header.stamp = rospy.Time.now()\n",
    "        psw.octomap.header.frame_id = 'map'\n",
    "        psw.octomap.octomap = msg\n",
    "\n",
    "        psw.octomap.origin.position.x = 0\n",
    "        psw.octomap.origin.orientation.w = 1"
   ]
  },
  {
   "cell_type": "markdown",
   "metadata": {},
   "source": [
    "We then pass this message to the **world** variable of the **PlanningScene()** message."
   ]
  },
  {
   "cell_type": "code",
   "execution_count": null,
   "metadata": {
    "collapsed": true
   },
   "outputs": [],
   "source": [
    "ps = PlanningScene()\n",
    "        ps.world = psw\n",
    "        ps.is_diff = True"
   ]
  },
  {
   "cell_type": "markdown",
   "metadata": {},
   "source": [
    "Finally, we save this message into the **mapMsg** variable of the class, which is the variable we are going to publish into the **move_group/monitored_planning_scene** topic. Remember the loop in the previous snippet of code."
   ]
  },
  {
   "cell_type": "code",
   "execution_count": null,
   "metadata": {
    "collapsed": true
   },
   "outputs": [],
   "source": [
    "if(self.mapMsg is not None):\n",
    "                pub.publish(self.mapMsg)"
   ]
  },
  {
   "cell_type": "markdown",
   "metadata": {},
   "source": [
    "And that's it! Now everything makes more sense, right?"
   ]
  },
  {
   "cell_type": "markdown",
   "metadata": {},
   "source": [
    "So, at this point, we have our MoveIt package built, and we can publish our octomap into the MoveIt planning scene so that the drone is aware of its environment. This way, it can avoid the obstacles that are in its way. But we still have a couple of things to do. First of all, we need to connect the MoveIt environment to the real drone (in this case, for obvious reasons, the real drone is the simulated one). Up until this point, we have only been working with the drone within the MoveIt application. This is very useful because you can do many tests without worrying about any damage. But the final goal will always be to move the real robot, right?"
   ]
  },
  {
   "cell_type": "markdown",
   "metadata": {},
   "source": [
    "### Connecting MoveIt to the real drone"
   ]
  },
  {
   "cell_type": "markdown",
   "metadata": {},
   "source": [
    "The MoveIt package you've created is able to provide the necessary ROS services and actions in order to plan trajectories, but it isn't able to pass these trajectories to the real robot to execute. All the plans you've done were executed in an internal simulator that MoveIt provides. In order to communicate with the real drone, it will be necessary to do some modifications to the MoveIt package you created at the beginning of this chapter."
   ]
  },
  {
   "cell_type": "markdown",
   "metadata": {},
   "source": [
    "But before that, you need to learn a couple of things about how MoveIt works."
   ]
  },
  {
   "cell_type": "markdown",
   "metadata": {},
   "source": [
    "The primary node used in MoveIt is the **move_group** node. As shown in the system architecture image below, the move_group node integrates all of the external nodes in order to provide a set of ROS actions and services for users. These external nodes include the quadrotor’s sensors and controllers, data from the parameter server, and a user interface. You can read more about MoveIt concepts here: http://moveit.ros.org/documentation/concepts/."
   ]
  },
  {
   "cell_type": "markdown",
   "metadata": {},
   "source": [
    "<img src=\"img/moveit_concepts.png\" width=\"500\" />"
   ]
  },
  {
   "cell_type": "markdown",
   "metadata": {},
   "source": [
    "The move_group node communicates with the drone using ROS topics and actions. The node receives the current state information, such as the position and orientation of the drone, by listening to the **/joint_states** topic. Therefore, it will be necessary to launch a joint_state_publisher node to broadcast the state of the drone. The move_group node also receives global information about the quadrotor’s pose using the ROS TF library. The TF provides the transformation between the base frame of the robot and the world or map frame. In order to publish this information, a **robot_state_publisher** node is executed. \n",
    "\n",
    "\n",
    "The move_group node interacts with the quadrotor’s control system through the **FollowJointTrajectoryAction** interface. But, as I already warned you at the beginning of the chapter, the MoveIt package was originally created with the manipulation of robot arms in mind, which is not what we are doing here. Therefore, the FollowJointTrajectoryAction action will have to be modified to accommodate the multi degree-of-freedom (DOF) dynamics of the drone. This new action will be called **MultiDofFollowJointTrajectory**. In this system, this action is already provided, so you don't have to bother with creating it. You just have to configure MoveIt to use it. If you want to check out more information about it, you can have a look at the following repo, developed by **Alessio Tonioni**: https://github.com/AlessioTonioni/Autonomous-Flight-ROS."
   ]
  },
  {
   "cell_type": "markdown",
   "metadata": {},
   "source": [
    "Great! So... with all this new knowledge you've got, let's begin doing some proper modifications in order to connect the MoveIt package to the real drone!"
   ]
  },
  {
   "cell_type": "markdown",
   "metadata": {},
   "source": [
    "<p style=\"background:#EE9023;color:white;\">Exercise 3.4</p>\n",
    "<br>\n",
    "a) First of all, you'll need to create a file to define how you will control the joints of your \"real\" robot. Inside the <i><b>config</b></i> folder of your MoveIt package, create a new file named <i><b>controllers.yaml</b></i>. Copy the following content into it:"
   ]
  },
  {
   "cell_type": "code",
   "execution_count": null,
   "metadata": {
    "collapsed": true
   },
   "outputs": [],
   "source": [
    "controller_list:\n",
    "  - name: multi_dof_joint_trajectory_action\n",
    "    type: MultiDofFollowJointTrajectory\n",
    "    default: true\n",
    "    joints:\n",
    "      - virtual_joint"
   ]
  },
  {
   "cell_type": "markdown",
   "metadata": {},
   "source": [
    "So, basically, here you are defining the action server that you will use for controlling the joints of your robot. In this case, the only joint you have on your drone is the **virtual_joint**. And the action server we are going to use in order to control it is the **MultiDofFollowJointTrajectory**, as explained above. The name parameter defines the name of the controller, and the default parameter specifies if the controller is the primary controller chosen by MoveIt for communicating with a particular set of joints."
   ]
  },
  {
   "cell_type": "markdown",
   "metadata": {},
   "source": [
    "b) Next, you'll have to create a file to define the limits of the joints of the drone. For our drone, we are going to limit its maximum velocity and acceleration. Again, inside the <i><b>config</b></i> directory, create a new file called <i><b>joint_limits.yaml</b></i>, and copy the following content into it:"
   ]
  },
  {
   "cell_type": "code",
   "execution_count": null,
   "metadata": {
    "collapsed": true
   },
   "outputs": [],
   "source": [
    "joint_limits:\n",
    "  virtual_joint:\n",
    "    has_velocity_limits: true\n",
    "    max_velocity: 0.2\n",
    "    has_acceleration_limits: true\n",
    "    max_acceleration: 0.04"
   ]
  },
  {
   "cell_type": "markdown",
   "metadata": {},
   "source": [
    "c) Now, if you open the <i><b>smart_grasping_sandbox_moveit_controller_manager.launch.xml</b></i>, which is inside the <i><b>launch</b></i> directory, you'll see that it's empty. Copy the following content into it:"
   ]
  },
  {
   "cell_type": "code",
   "execution_count": null,
   "metadata": {
    "collapsed": true
   },
   "outputs": [],
   "source": [
    "<launch>\n",
    " <!-- Set the param that trajectory_execution_manager needs to find the controller plugin -->\n",
    " <arg name=\"moveit_controller_manager\" default=\"moveit_simple_controller_manager/MoveItSimpleControllerManager\" />\n",
    " <param name=\"moveit_controller_manager\" value=\"$(arg moveit_controller_manager)\"/>\n",
    " <!-- load controller_list -->\n",
    " <rosparam file=\"$(find ardrone_moveit_config)/config/controllers.yaml\"/>\n",
    "</launch>"
   ]
  },
  {
   "cell_type": "markdown",
   "metadata": {},
   "source": [
    "What you are doing here is basically loading the <i>controllers.yaml</i> file you just created, and the <i>MoveItSimpleControllerManager</i> plugin, which will allow you to send the plans calculated in MoveIt to your \"real\" robot, in this case, the simulated robot."
   ]
  },
  {
   "cell_type": "markdown",
   "metadata": {},
   "source": [
    "d) Finally, you will have to create a new launch file that sets up the entire system to control your robot. So, inside the **launch** directory, create a new launch file called **ardrone_navigation.launch**."
   ]
  },
  {
   "cell_type": "code",
   "execution_count": null,
   "metadata": {
    "collapsed": true
   },
   "outputs": [],
   "source": [
    "<launch>\n",
    "  <param name=\"use_sim_time\" value=\"true\" />\n",
    "  <!-- Take the name of the package in which config is stored-->\n",
    "  <arg name=\"config_pkg\" default=\"$(find ardrone_moveit_config)\" />\n",
    "\n",
    "  <!-- By default, we are not in debug mode -->\n",
    "  <arg name=\"debug\" default=\"false\" />\n",
    "\n",
    "  <!-- Load the URDF, SRDF and other .yaml configuration files on the param server -->\n",
    "  <include file=\"$(arg config_pkg)/launch/planning_context.launch\">\n",
    "    <arg name=\"load_robot_description\" value=\"true\"/>\n",
    "  </include>\n",
    "  \n",
    "  <node pkg=\"tf\" type=\"static_transform_publisher\" name=\"world_to_footprint\" args=\"0 0 0 0 0 0 world odom 5\" />\n",
    "  <node pkg=\"tf\" type=\"static_transform_publisher\" name=\"odom_to_nav\" args=\"0 0 0 0 0 0 odom nav 5\" />\n",
    "  <node pkg=\"tf\" type=\"static_transform_publisher\" name=\"virtual_joint_broadcaster_0\" args=\"0 0 0 0 0 0 base_footprint base_link 5\" />\n",
    "  <node pkg=\"tf\" type=\"static_transform_publisher\" name=\"odom_map_broadcaster\" args=\"0 0 0 0 0 0 map world 5\" />\n",
    "\n",
    "  <!-- We do not have a robot connected, so publish fake joint states -->\n",
    "  <node name=\"joint_state_publisher\" pkg=\"joint_state_publisher\" type=\"joint_state_publisher\">\n",
    "    <param name=\"/use_gui\" value=\"false\"/>\n",
    "    <rosparam param=\"/source_list\">[/move_group/fake_controller_joint_states]</rosparam>\n",
    "  </node>\n",
    "\n",
    "  <!-- Given the published joint states, publish tf for the robot links -->\n",
    " <node name=\"robot_state_publisher\" pkg=\"robot_state_publisher\" type=\"robot_state_publisher\" respawn=\"true\" output=\"screen\" />\n",
    "\n",
    " <node name=\"action_controller\" pkg=\"action_controller\" type=\"action_controller\" ></node>\n",
    "\n",
    "  <!-- Run the main MoveIt executable without trajectory execution (we do not have controllers configured by default) -->\n",
    "  <include file=\"$(arg config_pkg)/launch/move_group.launch\">\n",
    "    <arg name=\"allow_trajectory_execution\" value=\"true\"/>\n",
    "    <arg name=\"fake_execution\" value=\"true\"/>\n",
    "    <arg name=\"info\" value=\"true\"/>\n",
    "    <arg name=\"debug\" value=\"$(arg debug)\"/>\n",
    "  </include>\n",
    "\n",
    "  <!-- Run Rviz and load the default config to see the state of the move_group node -->\n",
    "  <include file=\"$(arg config_pkg)/launch/moveit_rviz.launch\">\n",
    "    <arg name=\"config\" value=\"true\"/>\n",
    "    <arg name=\"debug\" value=\"$(arg debug)\"/>\n",
    "  </include>\n",
    "</launch>"
   ]
  },
  {
   "cell_type": "markdown",
   "metadata": {},
   "source": [
    "Finally, we are starting the launch files that we need in order to set up the MoveIt environment. The most important things here are the following:"
   ]
  },
  {
   "cell_type": "code",
   "execution_count": null,
   "metadata": {
    "collapsed": true
   },
   "outputs": [],
   "source": [
    "<node pkg=\"tf\" type=\"static_transform_publisher\" name=\"world_to_footprint\" args=\"0 0 0 0 0 0 world odom 5\" />\n",
    "  <node pkg=\"tf\" type=\"static_transform_publisher\" name=\"odom_to_nav\" args=\"0 0 0 0 0 0 odom nav 5\" />\n",
    "  <node pkg=\"tf\" type=\"static_transform_publisher\" name=\"virtual_joint_broadcaster_0\" args=\"0 0 0 0 0 0 base_footprint   base_link 5\" />\n",
    "  <node pkg=\"tf\" type=\"static_transform_publisher\" name=\"odom_map_broadcaster\" args=\"0 0 0 0 0 0 map world 5\" />"
   ]
  },
  {
   "cell_type": "markdown",
   "metadata": {},
   "source": [
    "Here, we are publishing some transforms that we need, since we are publishing our octomap in an unnusual way. Also, we are connecting some links that are not connected by default. This is because, as we've been saying throughout the chapter, MoveIt is not a tool that was initially created to navigate with drones."
   ]
  },
  {
   "cell_type": "code",
   "execution_count": null,
   "metadata": {
    "collapsed": true
   },
   "outputs": [],
   "source": [
    "<node name=\"action_controller\" pkg=\"action_controller\" type=\"action_controller\" ></node>"
   ]
  },
  {
   "cell_type": "markdown",
   "metadata": {},
   "source": [
    "We are starting the **MultiDofFollowJointTrajectory** action server that we talked about in the beginning of this section."
   ]
  },
  {
   "cell_type": "code",
   "execution_count": null,
   "metadata": {
    "collapsed": true
   },
   "outputs": [],
   "source": [
    "<include file=\"$(arg config_pkg)/launch/move_group.launch\">\n",
    "    <arg name=\"allow_trajectory_execution\" value=\"true\"/>\n",
    "    <arg name=\"fake_execution\" value=\"true\"/>\n",
    "    <arg name=\"info\" value=\"true\"/>\n",
    "    <arg name=\"debug\" value=\"$(arg debug)\"/>\n",
    "  </include>"
   ]
  },
  {
   "cell_type": "markdown",
   "metadata": {},
   "source": [
    "This is the main MoveIt launch, which launches all of the MoveIt environments."
   ]
  },
  {
   "cell_type": "markdown",
   "metadata": {},
   "source": [
    "<p style=\"background:#EE9023;color:white;\">End of Exercise 3.4</p>"
   ]
  },
  {
   "cell_type": "markdown",
   "metadata": {},
   "source": [
    "Great! You have finished all of the MoveIt setup in order to be able to calculate trajectories for your drone within an environment that is represented by the octomap. But let's do a very quick summary in order to organize all the recent information that you've received:"
   ]
  },
  {
   "cell_type": "markdown",
   "metadata": {},
   "source": [
    "Typically, MoveIt relies on pre-defined action files, such as **FollowJointTrajectory** and **GripperCommand** actions. Since MoveIt wasn’t developed with a drone's navigation in mind, we have defined our own action. The **MultiDofFollowJointTrajectory** action defines the goal, feedback, and result fields needed to enable MoveIt to develop and transmit multi degree-of-freedom trajectories for the drone to follow. This action is already built into the system, so you don't have to worry about it. \n",
    "\n",
    "The quadrotor is treated as a single multi-degree-of-freedom joint. Then, we defined the **controllers.yaml** file, in order to tell MoveIt to use this action. This action generates trajectories in the form of a **set of waypoints** that the drone has to follow. "
   ]
  },
  {
   "cell_type": "markdown",
   "metadata": {},
   "source": [
    "Now what we'll have to do is add some kind of code that is capable of reading these waypoints and trasnforming them into real movements by the drone."
   ]
  },
  {
   "cell_type": "markdown",
   "metadata": {},
   "source": [
    "### Executing the trajectory with the real drone"
   ]
  },
  {
   "cell_type": "markdown",
   "metadata": {},
   "source": [
    "MoveIt does not currently come with the ability to execute the multi degree-of-freedom trajectories required to take full advantage of the quadrotor’s dynamics. Instead, we will have to add some custom code in order to handle the trajectories generated by the **MultiDofFollowJointTrajectoryAction** action server. \n",
    "\n",
    "For that, we will use a couple of Python scripts that have already been developed by the **eYSIP**. You can find their repository here: https://github.com/eYSIP-2017"
   ]
  },
  {
   "cell_type": "markdown",
   "metadata": {},
   "source": [
    "#### Download the code"
   ]
  },
  {
   "cell_type": "markdown",
   "metadata": {},
   "source": [
    "Make sure to first go to the src folder in your workspace."
   ]
  },
  {
   "cell_type": "markdown",
   "metadata": {
    "collapsed": true
   },
   "source": [
    "<table style=\"float:left;background: #407EAF\">\n",
    "<tr>\n",
    "<th>\n",
    "Execute in WebShell #1\n",
    "</th>\n",
    "</tr>\n",
    "</table>"
   ]
  },
  {
   "cell_type": "code",
   "execution_count": null,
   "metadata": {
    "collapsed": true
   },
   "outputs": [],
   "source": [
    "roscd;\n",
    "cd ..;\n",
    "cd src;"
   ]
  },
  {
   "cell_type": "markdown",
   "metadata": {},
   "source": [
    "You can now download the package using the followng command:"
   ]
  },
  {
   "cell_type": "markdown",
   "metadata": {},
   "source": [
    "<table style=\"float:left;background: #407EAF\">\n",
    "<tr>\n",
    "<th>\n",
    "Execute in WebShell #1\n",
    "</th>\n",
    "</tr>\n",
    "</table>"
   ]
  },
  {
   "cell_type": "code",
   "execution_count": null,
   "metadata": {
    "collapsed": true
   },
   "outputs": [],
   "source": [
    "git clone https://github.com/tum-vision/tum_ardrone.git"
   ]
  },
  {
   "cell_type": "markdown",
   "metadata": {},
   "source": [
    "In the end, you should be able to visualise the package in your workspace, like this:"
   ]
  },
  {
   "cell_type": "markdown",
   "metadata": {
    "collapsed": true
   },
   "source": [
    "<img src=\"img/drone_downloaded_pkg.png\" width=\"500\" />"
   ]
  },
  {
   "cell_type": "markdown",
   "metadata": {},
   "source": [
    "#### Compile the package"
   ]
  },
  {
   "cell_type": "markdown",
   "metadata": {},
   "source": [
    "Now, let's compile the package:"
   ]
  },
  {
   "cell_type": "markdown",
   "metadata": {
    "collapsed": true
   },
   "source": [
    "<table style=\"float:left;background: #407EAF\">\n",
    "<tr>\n",
    "<th>\n",
    "Execute in WebShell #1\n",
    "</th>\n",
    "</tr>\n",
    "</table>"
   ]
  },
  {
   "cell_type": "code",
   "execution_count": null,
   "metadata": {
    "collapsed": true
   },
   "outputs": [],
   "source": [
    "roscd;\n",
    "cd ..;\n",
    "catkin_make;"
   ]
  },
  {
   "cell_type": "markdown",
   "metadata": {},
   "source": [
    "Great! You now have the package installed in your system and ready to use. So, let's complete the whole process and navigate our drone!"
   ]
  },
  {
   "cell_type": "markdown",
   "metadata": {},
   "source": [
    "<p style=\"background:#EE9023;color:white;\">Exercise 3.5</p>"
   ]
  },
  {
   "cell_type": "markdown",
   "metadata": {},
   "source": [
    "a) The first step will be to publish the octomap, as you learned in Exercise 3.3. "
   ]
  },
  {
   "cell_type": "markdown",
   "metadata": {
    "collapsed": true
   },
   "source": [
    "<table style=\"float:left;background: #407EAF\">\n",
    "<tr>\n",
    "<th>\n",
    "Execute in WebShell #1\n",
    "</th>\n",
    "</tr>\n",
    "</table>"
   ]
  },
  {
   "cell_type": "code",
   "execution_count": null,
   "metadata": {
    "collapsed": true
   },
   "outputs": [],
   "source": [
    "roslaunch load_octomap load_octomap.launch"
   ]
  },
  {
   "cell_type": "markdown",
   "metadata": {},
   "source": [
    "b) Next, let's start the RVIZ environment by executing the launch file you created in Exercise 3.4."
   ]
  },
  {
   "cell_type": "markdown",
   "metadata": {
    "collapsed": true
   },
   "source": [
    "<table style=\"float:left;background: #407EAF\">\n",
    "<tr>\n",
    "<th>\n",
    "Execute in WebShell #2\n",
    "</th>\n",
    "</tr>\n",
    "</table>"
   ]
  },
  {
   "cell_type": "code",
   "execution_count": null,
   "metadata": {
    "collapsed": true
   },
   "outputs": [],
   "source": [
    "roslaunch ardrone_moveit_config ardrone_navigation.launch"
   ]
  },
  {
   "cell_type": "markdown",
   "metadata": {},
   "source": [
    "c) Let's start the waypoint action server by issuing the following command:"
   ]
  },
  {
   "cell_type": "markdown",
   "metadata": {
    "collapsed": true
   },
   "source": [
    "<table style=\"float:left;background: #407EAF\">\n",
    "<tr>\n",
    "<th>\n",
    "Execute in WebShell #3\n",
    "</th>\n",
    "</tr>\n",
    "</table>"
   ]
  },
  {
   "cell_type": "code",
   "execution_count": null,
   "metadata": {
    "collapsed": true
   },
   "outputs": [],
   "source": [
    "rosrun drone_application move_to_waypoint.py _real_drone:=false _aruco_mapping:=false"
   ]
  },
  {
   "cell_type": "markdown",
   "metadata": {},
   "source": [
    "d) And now, let's have the drone take off."
   ]
  },
  {
   "cell_type": "markdown",
   "metadata": {
    "collapsed": true
   },
   "source": [
    "<table style=\"float:left;background: #407EAF\">\n",
    "<tr>\n",
    "<th>\n",
    "Execute in WebShell #4\n",
    "</th>\n",
    "</tr>\n",
    "</table>"
   ]
  },
  {
   "cell_type": "code",
   "execution_count": null,
   "metadata": {
    "collapsed": true
   },
   "outputs": [],
   "source": [
    "rostopic pub /ardrone/takeoff std_msgs/Empty [TAB][TAB]"
   ]
  },
  {
   "cell_type": "markdown",
   "metadata": {},
   "source": [
    "You will see how the drone takes off in MoveIt."
   ]
  },
  {
   "cell_type": "markdown",
   "metadata": {},
   "source": [
    "e) Next, let's go to the MoveIt window, select a goal position for the drone using the interactive arrows, and plan a trajectory to get there."
   ]
  },
  {
   "cell_type": "markdown",
   "metadata": {},
   "source": [
    "e) Finally, execute the follow trajectory node in order to execute the planned trajectory."
   ]
  },
  {
   "cell_type": "markdown",
   "metadata": {
    "collapsed": true
   },
   "source": [
    "<table style=\"float:left;background: #407EAF\">\n",
    "<tr>\n",
    "<th>\n",
    "Execute in WebShell #4\n",
    "</th>\n",
    "</tr>\n",
    "</table>"
   ]
  },
  {
   "cell_type": "code",
   "execution_count": null,
   "metadata": {
    "collapsed": true
   },
   "outputs": [],
   "source": [
    "rosrun drone_application follow_trajectory.py _real_drone:=false _aruco_coords:=false _visualise_trajectory:=false"
   ]
  },
  {
   "cell_type": "markdown",
   "metadata": {},
   "source": [
    "<p style=\"background:#EE9023;color:white;\">End of Exercise 3.5</p>"
   ]
  },
  {
   "cell_type": "markdown",
   "metadata": {},
   "source": [
    "Let's do a quick summary of the code to better understand what's going on:"
   ]
  },
  {
   "cell_type": "markdown",
   "metadata": {},
   "source": [
    "Basically, you have two main files: **move_to_waypoint.py** and **follow_trajectory.py**."
   ]
  },
  {
   "cell_type": "markdown",
   "metadata": {},
   "source": [
    "The functionality of the **move_to_waypoint.py** script is to create an action server that is able to convert the waypoints-based trajectory into real movement of the drone. So, it handles the actual movement of the drone and publishes the feedback."
   ]
  },
  {
   "cell_type": "code",
   "execution_count": null,
   "metadata": {
    "collapsed": true
   },
   "outputs": [],
   "source": [
    "class moveAction(object):"
   ]
  },
  {
   "cell_type": "markdown",
   "metadata": {},
   "source": [
    "The action server is defined inside a class named **moveAction**."
   ]
  },
  {
   "cell_type": "code",
   "execution_count": null,
   "metadata": {
    "collapsed": true
   },
   "outputs": [],
   "source": [
    "def __init__(self, name, real_drone, aruco_mapping):"
   ]
  },
  {
   "cell_type": "markdown",
   "metadata": {},
   "source": [
    "The **__init__()** function is the constructor of the class. It creates the simple action server alongside other things that are necessary to move the drone. For instance, it also creates a Publisher to send messages to the **/cmd_vel** topic."
   ]
  },
  {
   "cell_type": "markdown",
   "metadata": {},
   "source": [
    "You can see both of these in the lines right below:"
   ]
  },
  {
   "cell_type": "code",
   "execution_count": null,
   "metadata": {
    "collapsed": true
   },
   "outputs": [],
   "source": [
    "# Creates the Publisher\n",
    "self.pub = rospy.Publisher('/cmd_vel', Twist, queue_size=5)\n",
    "# Creates the Action Server\n",
    "self._as = actionlib.SimpleActionServer(\n",
    "            self._action_name,\n",
    "            drone_application.msg.moveAction,\n",
    "            execute_cb=self.execute_cb,\n",
    "            auto_start=False)"
   ]
  },
  {
   "cell_type": "code",
   "execution_count": null,
   "metadata": {
    "collapsed": true
   },
   "outputs": [],
   "source": [
    "def moniter_transform(self):"
   ]
  },
  {
   "cell_type": "markdown",
   "metadata": {},
   "source": [
    "The **moniter_transform()** function provides data about the current pose of the drone based on the odometry readings."
   ]
  },
  {
   "cell_type": "code",
   "execution_count": null,
   "metadata": {
    "collapsed": true
   },
   "outputs": [],
   "source": [
    "def get_camera_pose(self, temp_pose):"
   ]
  },
  {
   "cell_type": "markdown",
   "metadata": {},
   "source": [
    "This **get_camera_pose()** function is only used when working with aruco markers, which is not the case here. So, we are not using this function."
   ]
  },
  {
   "cell_type": "code",
   "execution_count": null,
   "metadata": {
    "collapsed": true
   },
   "outputs": [],
   "source": [
    "def move_to_waypoint(self, waypoint):"
   ]
  },
  {
   "cell_type": "markdown",
   "metadata": {},
   "source": [
    "The **move_to_waypoint()** function is the most important one here. This is the function that actually makes the drone move. It takes the waypoint and the current pose of controls pid. Then, it calls the pid controller until the current pose is equal to the waypoint received."
   ]
  },
  {
   "cell_type": "code",
   "execution_count": null,
   "metadata": {
    "collapsed": true
   },
   "outputs": [],
   "source": [
    "def execute_cb(self, goal):"
   ]
  },
  {
   "cell_type": "markdown",
   "metadata": {},
   "source": [
    "Finally, the **execute_cb()** function is the callback function of the action server. Each time a new goal is sent to the action server, this callback function is activated. It basically calls the **move_to_waypoint()** function, passing a waypoint."
   ]
  },
  {
   "cell_type": "markdown",
   "metadata": {},
   "source": [
    "The functionality of the **follow_trajectory.py** script is to create an action client that extracts the waypoints contained in the trajectory, which are generated by MoveIt, and send them  as goals to the **moveAction** action server created in the **move_to_waypoint.py** script."
   ]
  },
  {
   "cell_type": "code",
   "execution_count": null,
   "metadata": {
    "collapsed": true
   },
   "outputs": [],
   "source": [
    "def send_trajectory(waypoints, client=None):"
   ]
  },
  {
   "cell_type": "markdown",
   "metadata": {},
   "source": [
    "This **send_trajectory()** function, as its name says, sends the waypoints to be followed to the action server. It sends each individual waypoint as a goal to the **moveAction** action server."
   ]
  },
  {
   "cell_type": "code",
   "execution_count": null,
   "metadata": {
    "collapsed": true
   },
   "outputs": [],
   "source": [
    "def get_waypoints(data):"
   ]
  },
  {
   "cell_type": "markdown",
   "metadata": {},
   "source": [
    "This **get_waypoints()** function, basically, extracts the waypoints from the MoveIt-generated trajectory (which is published in the **move_group/display_planned_path** topic). This function has a very dirty implementation."
   ]
  },
  {
   "cell_type": "code",
   "execution_count": null,
   "metadata": {
    "collapsed": true
   },
   "outputs": [],
   "source": [
    "def legacy_get_waypoints(data):"
   ]
  },
  {
   "cell_type": "markdown",
   "metadata": {},
   "source": [
    "The **legacy_get_waypoints()** function has the same utility as the function right above, but it has a much cleaner implementation. This is the one that is actually used."
   ]
  },
  {
   "cell_type": "markdown",
   "metadata": {},
   "source": [
    "As you can see at the end of this **legacy_get_waypoints()** function:"
   ]
  },
  {
   "cell_type": "code",
   "execution_count": null,
   "metadata": {
    "collapsed": true
   },
   "outputs": [],
   "source": [
    "# once waypoints are ready send to move_to_waypoint\n",
    "send_trajectory(waypoints)\n",
    "# land once the trajectory is executed\n",
    "land_pub.publish()"
   ]
  },
  {
   "cell_type": "markdown",
   "metadata": {},
   "source": [
    "Right after sending the trajectory to be executed, it publishes a message into the **/ardrone/land** topic. This is why, after executing the trajectory, the drone lands. If you want, you can try to change this behavior by modifying a little bit of the code."
   ]
  },
  {
   "cell_type": "markdown",
   "metadata": {},
   "source": [
    "And that's it! You finally know the whole process to Navigate a Drone using MoveIt!"
   ]
  }
 ],
 "metadata": {
  "anaconda-cloud": {},
  "kernelspec": {
   "display_name": "Python [Root]",
   "language": "python",
   "name": "Python [Root]"
  },
  "language_info": {
   "codemirror_mode": {
    "name": "ipython",
    "version": 2
   },
   "file_extension": ".py",
   "mimetype": "text/x-python",
   "name": "python",
   "nbconvert_exporter": "python",
   "pygments_lexer": "ipython2",
   "version": "2.7.12"
  },
  "latex_metadata": {
   "chapter": "2 - Motion Planning using Graphical Interfaces",
   "chapter_title": "Chapter 2. Motion Planning using Graphical Interfaces",
   "course_title": "ROS MANIPULATION IN 5 DAYS"
  }
 },
 "nbformat": 4,
 "nbformat_minor": 1
}
