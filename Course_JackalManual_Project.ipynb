{
 "cells": [
  {
   "cell_type": "markdown",
   "metadata": {},
   "source": [
    "# Patrol with Jackal Micro Project "
   ]
  },
  {
   "cell_type": "markdown",
   "metadata": {},
   "source": [
    "<img src=\"img/jackal_clearpath_instruction_manual_project_intro2.gif\"/>"
   ]
  },
  {
   "cell_type": "markdown",
   "metadata": {},
   "source": [
    "<img src=\"img/Clearpath-Logo.png\" width=\"300\"/>"
   ]
  },
  {
   "cell_type": "markdown",
   "metadata": {},
   "source": [
    "<img src=\"img/robotignite_logo_text.png\" width=\"300\"/>"
   ]
  },
  {
   "cell_type": "markdown",
   "metadata": {},
   "source": [
    "In this microproject you will have to apply all that you learned in previous units to create a program that makes Jackal patrole around a using indoor navigation when inside a building and GPS data when it is outdoors.<br>\n",
    "If it finds someone on its path, it will have to stop its movement and give alarm."
   ]
  },
  {
   "cell_type": "markdown",
   "metadata": {},
   "source": [
    "## Scene"
   ]
  },
  {
   "cell_type": "markdown",
   "metadata": {},
   "source": [
    "Your Jackal starts in a structure.<br>\n",
    "Surounding that structure you can find a big outdoor terrain. There you can find three persons. Each person is standing near a signal. Some people will be static, some of them won't."
   ]
  },
  {
   "cell_type": "markdown",
   "metadata": {},
   "source": [
    "<img src=\"img/jackal_clearpath_instruction_manual_project_scene_orginal_sketch.jpg\"/>"
   ]
  },
  {
   "cell_type": "markdown",
   "metadata": {},
   "source": [
    "<img src=\"img/jackal_clearpath_instruction_manual_project_scene_orginal_sketch2.jpg\"/>"
   ]
  },
  {
   "cell_type": "markdown",
   "metadata": {},
   "source": [
    "Take a strole around to have a closer look at all the terrain and elements. Also get used on how Jackal performs in this terrain. Use the **start_teleop.launch** launch to move it."
   ]
  },
  {
   "cell_type": "markdown",
   "metadata": {},
   "source": [
    "<table style=\"float:left;background: #407EAF\">\n",
    "<tr>\n",
    "<th>\n",
    "<p class=\"transparent\">Execute in WebShell #1</p><br>\n",
    "roslaunch jackal_tools start_teleop.launch\n",
    "</th>\n",
    "</tr>\n",
    "</table>"
   ]
  },
  {
   "cell_type": "markdown",
   "metadata": {},
   "source": [
    "## Jackal Model"
   ]
  },
  {
   "cell_type": "markdown",
   "metadata": {},
   "source": [
    "In this project you have the same exact robot you have been working with all the course."
   ]
  },
  {
   "cell_type": "markdown",
   "metadata": {},
   "source": [
    "## Tasks to accomplish"
   ]
  },
  {
   "cell_type": "markdown",
   "metadata": {},
   "source": [
    "To consider finished succesfully the project, you will have to fullfill these tasks:\n",
    "* Create a script that moves the robot around with simple /cmd_vel publishing. See the range of movement of this new robot model.\n",
    "* Create the mapping launches, and map the simple wooden structure. You have to finish with a clean map of that structure and specially have mapped the way out.\n",
    "* Set up the move base system so that you can publish a goal to move_base outside the structure and Jackal can get out of the structure by itself. This can be quite chalenging because you will have to tweek the parameters of the costmaps to move around narrow spaces.\n",
    "* Setup the launch to be able to localise the Jackal only with GPS, odometry and IMU data. For this you will have to convert the GPS data into XY, publish this data into TF and also publish the TF of the map frame with the ekf system.\n",
    "* Create a program that allows the JAckal navigate outdoors only by giving it GPS coordinates. For that you will have to create a program that publishes into the movebase action server. Bare in mind that you will also have to convert the latitude and longitude to normal XY space.\n",
    "* Create a program that when it detects a person, it publishes the GPS location into a topic called **/intruders**. The detections have to be a combination of leg detection through lasers and image recognition. This combination can be just with a custom program or through Kalman Filters, as you see fit. If you don't know how to do this, please have a look at the course on Perception where you can learn how to make people recognition using KalmanFilters.<br>\n",
    "The topic of **/intruders** will have GPS position of detection and reliability index of that detection.\n",
    "* Finaly, create a global program that combines all prior. This means that it will have to be able to change from map navigation to GPS navigation based on its location. It will also have to be able to move following a circuit. If a human detection is made it has to notify it and change of circuit."
   ]
  }
 ],
 "metadata": {
  "kernelspec": {
   "display_name": "Python 2",
   "language": "python",
   "name": "python2"
  },
  "language_info": {
   "codemirror_mode": {
    "name": "ipython",
    "version": 2
   },
   "file_extension": ".py",
   "mimetype": "text/x-python",
   "name": "python",
   "nbconvert_exporter": "python",
   "pygments_lexer": "ipython2",
   "version": "2.7.12"
  }
 },
 "nbformat": 4,
 "nbformat_minor": 1
}
