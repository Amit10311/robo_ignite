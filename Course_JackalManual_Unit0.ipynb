{
 "cells": [
  {
   "cell_type": "markdown",
   "metadata": {},
   "source": [
    "<img src=\"img/Clearpath-Logo.png\" width=\"700\"/>"
   ]
  },
  {
   "cell_type": "markdown",
   "metadata": {
    "collapsed": true
   },
   "source": [
    "<img src=\"img/jackal_clearpath_instruction_manual_unit0_intro3.png\"/>"
   ]
  },
  {
   "cell_type": "markdown",
   "metadata": {},
   "source": [
    "<img src=\"img/robotignite_logo_text.png\" width=\"400\"/>"
   ]
  },
  {
   "cell_type": "markdown",
   "metadata": {},
   "source": [
    "# Unit 0: Introducing ClearPath Jackal Robot"
   ]
  },
  {
   "cell_type": "markdown",
   "metadata": {},
   "source": [
    "<a href=\"https://www.clearpathrobotics.com/jackal-small-unmanned-ground-vehicle/\">Jackal</a> is a small, fast, entry-level field robotics research platform. It has an onboard computer, GPS and IMU fully integrated with ROS for out-of-the-box autonomous capability. As with all Clearpath robots, Jackal is plug-and-play compatible with a huge list of robot accessories to quickly expand your research and development."
   ]
  },
  {
   "cell_type": "markdown",
   "metadata": {},
   "source": [
    "Want to know how to use Jackal robot for your projects?"
   ]
  },
  {
   "cell_type": "markdown",
   "metadata": {},
   "source": [
    "## Demo Move Around"
   ]
  },
  {
   "cell_type": "markdown",
   "metadata": {},
   "source": [
    "Lets move around Jackal robot shall we? This way you will get a hang of it. You can move Jackal in three different ways:\n",
    "* Publishing into the topic **/cmd_vel** directly."
   ]
  },
  {
   "cell_type": "markdown",
   "metadata": {},
   "source": [
    "This robot need that you publish the Twist message continuously, otherwise it will stop moving. This is normal to avoid security issues. The rate will depend on how smooth you want the movement to be. Here is an example of a 1 Hz publish:"
   ]
  },
  {
   "cell_type": "code",
   "execution_count": null,
   "metadata": {
    "collapsed": true
   },
   "outputs": [],
   "source": [
    "rostopic pub -r1 /cmd_vel geometry_msgs/Twist \"linear:\n",
    "  x: 0.0\n",
    "  y: 0.0\n",
    "  z: 0.0\n",
    "angular:\n",
    "  x: 0.0\n",
    "  y: 0.0\n",
    "  z: 1.0\""
   ]
  },
  {
   "cell_type": "markdown",
   "metadata": {},
   "source": [
    "<p style=\"background:#9E0E01;color:white;\">Warning:</p>"
   ]
  },
  {
   "cell_type": "markdown",
   "metadata": {},
   "source": [
    "Be carefull when typing this command.<br>\n",
    "**Do NOT copy paste**, otherwise the format might not be the correct one.<br>\n",
    "This is a quirk of ROS commands.<br>\n",
    "You have to type the command like this:"
   ]
  },
  {
   "cell_type": "code",
   "execution_count": null,
   "metadata": {
    "collapsed": true
   },
   "outputs": [],
   "source": [
    "rostopic pub -r1 /cmd_vel geometry_msgs/Twist "
   ]
  },
  {
   "cell_type": "markdown",
   "metadata": {},
   "source": [
    "And after giving space after \"..Twist \", **double TAB**. This will auto generate the message structure necessary to publish it correctly, based on the **geometry_msgs/Twist** that you stated."
   ]
  },
  {
   "cell_type": "markdown",
   "metadata": {},
   "source": [
    "If you want to **COPY and PASTE** the command, you will have to copy and paste in this format:"
   ]
  },
  {
   "cell_type": "code",
   "execution_count": null,
   "metadata": {
    "collapsed": true
   },
   "outputs": [],
   "source": [
    "rostopic pub -r 1 /cmd_vel geometry_msgs/Twist  '{linear:  {x: 0.0, y: 0.0, z: 0.0}, angular: {x: 0.0,y: 0.0,z: 1.0}}'"
   ]
  },
  {
   "cell_type": "markdown",
   "metadata": {},
   "source": [
    "<p style=\"background:#9E0E01;color:white;\">END Warning:</p>"
   ]
  },
  {
   "cell_type": "markdown",
   "metadata": {},
   "source": [
    "* Launching the keyboard teleop launch , and move it with the keyboard."
   ]
  },
  {
   "cell_type": "markdown",
   "metadata": {},
   "source": [
    "<table style=\"float:left;background: #407EAF\">\n",
    "<tr>\n",
    "<th>\n",
    "<p class=\"transparent\">Execute in WebShell #1</p><br>\n",
    "roslaunch jackal_tools start_teleop.launch\n",
    "</th>\n",
    "</tr>\n",
    "</table>"
   ]
  },
  {
   "cell_type": "markdown",
   "metadata": {},
   "source": [
    "<table style=\"float:left;\">\n",
    "<tr>\n",
    "<th>\n",
    "Now, you can use the keys indicated in the WebShell Output in order to move the robot around.<br>\n",
    "<table>\n",
    "<tr>\n",
    "<th>i</th>\n",
    "<th>Move Forward</th>\n",
    "</tr>\n",
    "<tr>\n",
    "<th>,</th>\n",
    "<th>Move Backward</th>\n",
    "</tr>\n",
    "<tr>\n",
    "<th>k</th>\n",
    "<th>Stop</th>\n",
    "</tr>\n",
    "<tr>\n",
    "<th>l</th>\n",
    "<th>Turn left</th>\n",
    "</tr>\n",
    "<tr>\n",
    "<th>j</th>\n",
    "<th>Turn Right</th>\n",
    "</tr>\n",
    "<tr>\n",
    "<th>u</th>\n",
    "<th>Turn Left and Forward</th>\n",
    "</tr>\n",
    "<tr>\n",
    "<th>o</th>\n",
    "<th>Turn Right and Forward</th>\n",
    "</tr>\n",
    "<tr>\n",
    "<th>m</th>\n",
    "<th>Turn Left and Backward</th>\n",
    "</tr>\n",
    "<tr>\n",
    "<th>.</th>\n",
    "<th>Turn Right and Backward</th>\n",
    "</tr>\n",
    "<tr>\n",
    "<th>q/z</th>\n",
    "<th>Increase/decrease Speed</th>\n",
    "</tr>\n",
    "</table>\n",
    "\n",
    "Try it!! When you're done, you can Ctrl+C to stop the execution of the program.<br>\n",
    "</th>\n",
    "</tr>\n",
    "</table>"
   ]
  },
  {
   "cell_type": "markdown",
   "metadata": {},
   "source": [
    "* Using in RVIZ Interactive Markers to publish in /cmd_vel."
   ]
  },
  {
   "cell_type": "markdown",
   "metadata": {},
   "source": [
    "\n",
    "<table style=\"float:left;background: #407EAF\">\n",
    "<tr>\n",
    "<th>\n",
    "<p class=\"transparent\">Execute in WebShell #1</p><br>\n",
    "roslaunch jackal_tools view_robot.launch config:=basic\n",
    "</th>\n",
    "</tr>\n",
    "</table>"
   ]
  },
  {
   "cell_type": "markdown",
   "metadata": {},
   "source": [
    "This is launching the RVIZ, so you will have to open the Graphical Tools by clicking on the icon:"
   ]
  },
  {
   "cell_type": "markdown",
   "metadata": {},
   "source": [
    "<img src=\"img/font-awesome_desktop.png\">"
   ]
  },
  {
   "cell_type": "markdown",
   "metadata": {},
   "source": [
    "You should get something like this:"
   ]
  },
  {
   "cell_type": "markdown",
   "metadata": {},
   "source": [
    "<img src=\"img/jackal_clearpath_instruction_manual_unit0_interactivemove.gif\">"
   ]
  },
  {
   "cell_type": "markdown",
   "metadata": {},
   "source": [
    "As you can experiment, you have an interactive marker that publishes linear velocity ( red arows) and angular turn ( blue circle)."
   ]
  },
  {
   "cell_type": "markdown",
   "metadata": {
    "collapsed": true
   },
   "source": [
    "## Demo Navigation"
   ]
  },
  {
   "cell_type": "markdown",
   "metadata": {},
   "source": [
    "Of course in this course you will learn how to make Jackal Navigate autonomously among other things.<br>\n",
    "Here you are going to see two examples of navigation: without map and with map."
   ]
  },
  {
   "cell_type": "markdown",
   "metadata": {},
   "source": [
    "### Navigate without Map"
   ]
  },
  {
   "cell_type": "markdown",
   "metadata": {},
   "source": [
    "To start the navigation without a map launch the following command:"
   ]
  },
  {
   "cell_type": "markdown",
   "metadata": {},
   "source": [
    "\n",
    "<table style=\"float:left;background: #407EAF\">\n",
    "<tr>\n",
    "<th>\n",
    "<p class=\"transparent\">Execute in WebShell #1</p><br>\n",
    "roslaunch jackal_tools start_localmap_navigation.launch\n",
    "</th>\n",
    "</tr>\n",
    "</table>"
   ]
  },
  {
   "cell_type": "markdown",
   "metadata": {},
   "source": [
    "This command will start the navigation with only a localCostmap generated on the fly by the laser readings. This will be used by the planner to plan the best route based on the obtsacles it detects."
   ]
  },
  {
   "cell_type": "markdown",
   "metadata": {},
   "source": [
    "This is launching the RVIZ, so you will have to open the Graphical Tools by clicking on the icon:"
   ]
  },
  {
   "cell_type": "markdown",
   "metadata": {},
   "source": [
    "<img src=\"img/font-awesome_desktop.png\">"
   ]
  },
  {
   "cell_type": "markdown",
   "metadata": {},
   "source": [
    "<img src=\"img/jackal_clearpath_instruction_manual_unit0_nav_odom.png\">"
   ]
  },
  {
   "cell_type": "markdown",
   "metadata": {},
   "source": [
    "Now here you can select the icon **2D Nav Goal** to set a goal for Jackal. It will try to get there without coliding into obstacles that it detects with its Laser. These obstacles are drawn in the localCostmap that you can see as blue areas that it should not trespass. You should get a result similar to thisone:"
   ]
  },
  {
   "cell_type": "markdown",
   "metadata": {},
   "source": [
    "<img src=\"img/jackal_clearpath_instruction_manual_unit0_navodom2.gif\">"
   ]
  },
  {
   "cell_type": "markdown",
   "metadata": {},
   "source": [
    "### Navigate with Map"
   ]
  },
  {
   "cell_type": "markdown",
   "metadata": {},
   "source": [
    "Now, once Jackal has a map, it will navigate better and further. Execute the following command to start the **map navigation** and the **RVIZ for map navigation**."
   ]
  },
  {
   "cell_type": "markdown",
   "metadata": {},
   "source": [
    "\n",
    "<table style=\"float:left;background: #407EAF\">\n",
    "<tr>\n",
    "<th>\n",
    "<p class=\"transparent\">Execute in WebShell #1</p><br>\n",
    "roslaunch jackal_tools start_map_navigation.launch\n",
    "</th>\n",
    "</tr>\n",
    "</table>"
   ]
  },
  {
   "cell_type": "markdown",
   "metadata": {},
   "source": [
    "This is launching the RVIZ, so you will have to open the Graphical Tools by clicking on the icon:"
   ]
  },
  {
   "cell_type": "markdown",
   "metadata": {},
   "source": [
    "<img src=\"img/font-awesome_desktop.png\">"
   ]
  },
  {
   "cell_type": "markdown",
   "metadata": {},
   "source": [
    "<img src=\"img/jackal_clearpath_instruction_manual_unit0_nav_map1.png\">"
   ]
  },
  {
   "cell_type": "markdown",
   "metadata": {},
   "source": [
    "**Warning**: If your robot is not where it should be, indicate the position and orientation with the **2D Pose Estimate**. Otherwise Jackal will find much more difficult to localise itself."
   ]
  },
  {
   "cell_type": "markdown",
   "metadata": {},
   "source": [
    "Now here you can select the icon **2D Nav Goal** to set a goal for Jackal."
   ]
  },
  {
   "cell_type": "markdown",
   "metadata": {},
   "source": [
    "<img src=\"img/jackal_clearpath_instruction_manual_unit0_nav_map2.gif\">"
   ]
  },
  {
   "cell_type": "markdown",
   "metadata": {},
   "source": [
    "## In this course you will learn to:"
   ]
  },
  {
   "cell_type": "markdown",
   "metadata": {},
   "source": [
    "In this course you will learn all you need to operate and use the JAckal robot platform from ClearPath in the real world.<br>\n",
    "You will learn it through hands on experience with a simulated version of the real robot which will have the same exact interface as the real one, thanks to ROS infraestructure."
   ]
  },
  {
   "cell_type": "markdown",
   "metadata": {},
   "source": [
    "You will learn:"
   ]
  },
  {
   "cell_type": "markdown",
   "metadata": {},
   "source": [
    "* How to set up the navigation stack to make it navigate in an indoor environment, generating maps by its own.\n",
    "* How to create a program to navigate in outdoors environments through GPS data.\n",
    "* How to detect persons with the laser sensor.\n",
    "* How to detect person with its RGB stereo camera.\n",
    "* How to Set WayPoints in a map to make it follow that path to patrole.\n",
    "* Use the StereoCam to generate PointCloud Data\n",
    "* Create a reactive programs based on all previously mentioned and create a patroling program that reacts to person detections."
   ]
  },
  {
   "cell_type": "markdown",
   "metadata": {},
   "source": [
    "## How you will learn all this? "
   ]
  },
  {
   "cell_type": "markdown",
   "metadata": {},
   "source": [
    "Like always, all the courses in RobotIgniteAcademy are based on learning through hands on experience.\n",
    "In this case you will work with the Jacka Robot in the configuration with:"
   ]
  },
  {
   "cell_type": "markdown",
   "metadata": {},
   "source": [
    "* <a href=\"https://www.sick.com/de/en/detection-and-ranging-solutions/2d-lidar-sensors/lms1xx/c/g91901\">SICK-Laser</a>\n",
    "* <a href=\"https://www.ptgrey.com/bumblebee2-firewire-stereo-vision-camera-systems\">Bumblebee2-StereoCam</a>\n",
    "* **GPS**\n",
    "* **IMU**"
   ]
  },
  {
   "cell_type": "markdown",
   "metadata": {},
   "source": [
    "<img src=\"img/jackal_clearpath_instruction_manual_unit0_config2.png\">"
   ]
  },
  {
   "cell_type": "markdown",
   "metadata": {},
   "source": [
    "## Requirements"
   ]
  },
  {
   "cell_type": "markdown",
   "metadata": {},
   "source": [
    "Its essential that before starting this course you know the following:<br>\n",
    "\n",
    "* ROS Basics: You need to know all the basics of ROS to be able to follow this course. If you don't, please do our **ROS Basics in five days course.**\n",
    "* Highy advisable to have done the RobotIgnite Courses for **ROS Navigation** to be able to understand all what is done in this course.\n",
    "* Its not necessary but would give you a better background having done **ROS Perception** course.\n",
    "* Python basic knowledge"
   ]
  },
  {
   "cell_type": "markdown",
   "metadata": {},
   "source": [
    "## Special thanks"
   ]
  },
  {
   "cell_type": "markdown",
   "metadata": {},
   "source": [
    "We have to thank the following inidviduals and organizations:<br>\n",
    "\n",
    "* First of all, thanks to our partner for this course <a href=\"https://www.clearpathrobotics.com/\">clearpathrobotics</a>, creators of the <a href=\"https://www.clearpathrobotics.com/jackal-small-unmanned-ground-vehicle/\">Real Jackal Robot</a>.\n",
    "\n",
    "<img src=\"img/Clearpath-Logo.png\" width=\"700\"/>\n",
    "\n",
    "* <a href=\"http://www.pyimagesearch.com/author/adrian/\">About Adrian Rosebrock</a> for its amazing pedestrian program detection with OpenCV <a href=\"http://www.pyimagesearch.com/2015/11/09/pedestrian-detection-opencv/\">Program</a>.\n",
    "\n",
    "* <a href=\"https://github.com/bsb808\">Brian Bingham</a> for the geonav GPS conversor <a href=\"https://github.com/bsb808/geonav_transform\">Program</a>.\n",
    "\n",
    "* <a href=\"https://github.com/danielsnider\">Daniel Snider</a> for its great Waypoints manager <a href=\"https://github.com/danielsnider/follow_waypoints\">Program</a>.\n",
    "\n",
    "* The <a href=\"http://www.makehuman.org/\">MakerHuman Software</a> used for the creation of the people.\n",
    "* This course wouldn't have been possible without knowledge and work of the <a href=\"http://www.ros.org/\">ROS Community</a>, <a href=\"https://www.osrfoundation.org/\">OSRF</a> and <a href=\"http://gazebosim.org/\">Gazebo Team</a>\n",
    "\n",
    "\n",
    "<img src=\"img/ros_logo.jpg\" width=\"300\"/>\n",
    "<img src=\"img/gazebo_logo.png\" width=\"100\"/>"
   ]
  }
 ],
 "metadata": {
  "kernelspec": {
   "display_name": "Python 2",
   "language": "python",
   "name": "python2"
  },
  "language_info": {
   "codemirror_mode": {
    "name": "ipython",
    "version": 2
   },
   "file_extension": ".py",
   "mimetype": "text/x-python",
   "name": "python",
   "nbconvert_exporter": "python",
   "pygments_lexer": "ipython2",
   "version": "2.7.12"
  }
 },
 "nbformat": 4,
 "nbformat_minor": 1
}
