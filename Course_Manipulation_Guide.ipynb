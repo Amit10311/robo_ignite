{
 "cells": [
  {
   "cell_type": "markdown",
   "metadata": {},
   "source": [
    "# <font class='ign_color'>ROS Manipulation in 5 Days </font>"
   ]
  },
  {
   "cell_type": "markdown",
   "metadata": {},
   "source": [
    "## Chapter 0: A Guide to ROS Manipulation in 5 Days"
   ]
  },
  {
   "cell_type": "markdown",
   "metadata": {},
   "source": [
    "<img src=\"img/manipulation.png\" width=\"800\"/>"
   ]
  },
  {
   "cell_type": "markdown",
   "metadata": {},
   "source": [
    "## ROS Manipulation in 5 days, I cannot believe it!"
   ]
  },
  {
   "cell_type": "markdown",
   "metadata": {},
   "source": [
    "You have probably heard of ROS Manipulation and how long it takes students to learn. You're probably thinking that learning ROS Manipulation in 5 days is impossible... so let me tell you the good news:"
   ]
  },
  {
   "cell_type": "markdown",
   "metadata": {},
   "source": [
    "<center><b><h2>It is possible to learn ROS Manipulation fast, if you use the proper method!</h2></b></center>"
   ]
  },
  {
   "cell_type": "markdown",
   "metadata": {},
   "source": [
    "<img src=\"img/200.gif\" />"
   ]
  },
  {
   "cell_type": "markdown",
   "metadata": {},
   "source": [
    "### How is it possible?\n",
    "\n",
    "We have created a learning method that allows you to get the most out of ROS Manipulation in the minimum amount of time. Our method has 4 parts:<br>\n",
    "<ol>\n",
    "   <li><b>DECONSTRUCTION</b>: We have identified the important parts of ROS Manipulation that you must learn in order to understand at least 80% of ROS Manipulation. You will concentrate on mastering these parts.</li>\n",
    "   <li><b>REMOVING</b>: We have removed many things that are not needed and just add noise to your learning.</li>\n",
    "   <li><b>LEARNING</b>: We guide you, step-by-step in a progressive manner, through all those important parts, starting always with a robot that does things.</li>\n",
    "   <li><b>PRACTICING</b>: We make you practice a lot on every step, always using one of our simulated robots.</li>\n",
    "</ol>"
   ]
  },
  {
   "cell_type": "markdown",
   "metadata": {},
   "source": [
    "<ul>\n",
    "<li>Want to learn more about this method? Read this book: <a target=\"_blank\" href=\"https://www.amazon.com/gp/product/1591846943/ref=as_li_tl?ie=UTF8&camp=1789&creative=9325&creativeASIN=1591846943&linkCode=as2&tag=theconsim-20&linkId=88feac086be2a46c28909cb9909a6860\">The First 20 Hours: How to Learn Anything . . . Fast!</a><img src=\"//ir-na.amazon-adsystem.com/e/ir?t=theconsim-20&l=am2&o=1&a=1591846943\" width=\"1\" height=\"1\" border=\"0\" alt=\"\" style=\"border:none !important; margin:0px !important;\" />.</li>\n",
    "  <li>Want to have scientific evidence of this method? Read this paper: <a href=\"https://pdfs.semanticscholar.org/6ce5/af5973ecec36eb9c699e7cae739743c8b4b5.pdf\">Cognitive Skill Acquisition</a>.</li>\n",
    "</ul>"
   ]
  },
  {
   "cell_type": "markdown",
   "metadata": {},
   "source": [
    "### Which robots are you going to use throughout the course?\n",
    "\n",
    "Throughout this course, you are going to program several different types of robots. Hence, you will be applying the same concepts over and over again, with different configurations and styles of robots. Applying the same concepts on different robots will make the concepts stick in your head."
   ]
  },
  {
   "cell_type": "markdown",
   "metadata": {},
   "source": [
    "The following robots will be used throughout the course:\n",
    "<table border=\"0\" style=\"width:825px;border:0px;\">\n",
    "  <tr>\n",
    "    <th>\n",
    "        <img src=\"img/kobuki.jpg\" width=\"212\" height=\"236\"/>\n",
    "    </th>\n",
    "    <th>\n",
    "      <center><h2>Kobuki</h2></center>\n",
    "    </th>\n",
    "    <th>\n",
    "        <img src=\"img/husky.png\" width=\"212\" height=\"236\" />\n",
    "    </th>\n",
    "    <th>\n",
    "      <center><h2>Husky</h2></center>\n",
    "    </th>\n",
    "  </tr>\n",
    "  <tr>\n",
    "    <th>\n",
    "        <img src=\"img/summit_xl.png\" width=\"212\" height=\"236\" />\n",
    "    </th>\n",
    "    <th>\n",
    "      <center><h2>Summit XL</h2></center>\n",
    "    </th>\n",
    "  </tr>\n",
    "</table>\n"
   ]
  },
  {
   "cell_type": "markdown",
   "metadata": {},
   "source": [
    "## Main Objective of this course"
   ]
  },
  {
   "cell_type": "markdown",
   "metadata": {},
   "source": [
    "<ul>\n",
    "  <li>The objective of this course is to give you the basic tools and knowledge to be able to understand and create any basic ROS Navigation-related project. You will be able to <b>create maps of environments, localize the robots in the environment, make the robots perform path planning, visualize data from the different navigation processes, debug errors using Rviz, and configure the different navigation nodes...</b></li>\n",
    "  <li>The course will allow you to <b>understand Navigation packages that others have done</b>, so you can take ROS code made by others and understand what is happening and how to modify it for your own purposes.</li>\n",
    "  <li>This course can serve as an introduction to be able to better understand the official ROS Navigation documentation or external Navigation documentation and projects.</li>\n",
    "</ul>"
   ]
  },
  {
   "cell_type": "markdown",
   "metadata": {},
   "source": [
    "## Learning ROS Manipulation: Attack in Two Ways"
   ]
  },
  {
   "cell_type": "markdown",
   "metadata": {},
   "source": [
    "The course provides teaching lessons in <span class=\"ign_red\">two different ways</span>:<br>\n",
    "    <ol>\n",
    "        <li><span class=\"ign_green\"><b>Learn ROS Navigation by programming several robots</b></span>: This part consists of units that each teach you a topic of ROS Navigation. But, you will learn creating and executing code while using different robots (the robots above).<span class=\"ign_blue\">You will theory through hands-on experience</span>.</li>\n",
    "        <li><span class=\"ign_green\"><b>Apply what you learnt to a Robot Project</b></span>: Here you will apply what you have learnt in the previous units by attacking a <span class=\"ign_blue\">full project, controlling a Summit XL robot</span>. The objective is to make the Summit XL navigate to different spots in the environment, autonomously.</li>\n",
    "    </ol>\n",
    "    <img src=\"img/nav_project.png\" />"
   ]
  },
  {
   "cell_type": "markdown",
   "metadata": {},
   "source": [
    "### Learning ROS Manipulation by programming several robots:"
   ]
  },
  {
   "cell_type": "markdown",
   "metadata": {},
   "source": [
    "We will teach you the main ROS concepts that are at the core of ROS Navigation. These are the most important concepts that you have to master. Once you master them, the rest of ROS Navigation will easily follow.\n",
    "\n",
    "Throughout the units of this course, you will learn:<br>\n",
    "<ul>\n",
    "<li>Unit 1: How <b>ROS Navigation Basic Structure</b> works.</li>\n",
    "<li>Unit 2: How to create a <b>Map</b> of the environment.</li>\n",
    "<li>Unit 3: How to <b>Localize</b> a robot in an environment.</li>\n",
    "<li>Unit 4: How to <b>Plan a Trajectory</b> in this environment.</li>\n",
    "<li>Unit 5: How to <b>Execute a Trajectory</b> and <b>Avoid Obstacles</b> while performing this trajectory.</li>\n",
    "</ul>"
   ]
  },
  {
   "cell_type": "markdown",
   "metadata": {},
   "source": [
    "Each unit is meant to be done in <span class=\"ign_green\">one session of about 4-5 hours</span>. We will use Python language to teach you and to program the robots."
   ]
  },
  {
   "cell_type": "markdown",
   "metadata": {},
   "source": [
    "### Apply what you learnt to a Robot Project:"
   ]
  },
  {
   "cell_type": "markdown",
   "metadata": {},
   "source": [
    "As you master the different concepts of ROS Navigation, you will have to apply your learning in a complete robot project. \n",
    "We suggest that you combine the learning of the lessons with your progress on the project. That is why we have divided the project into 4 sessions:<br>\n",
    "<ul>\n",
    "<li>Project Section 1: Create a Map of the environment that you want to navigate.</li>\n",
    "<li>Project Section 2: Create a service that reads the current pose of the robot and saves it with a label, when used.</li>\n",
    "<li>Project Section 3: Configure and test the Path Planning System for your robot.</li>\n",
    "<li>Project Section 4: Create a global program that receives a string indicating a specific label, and navigate the robot to the pose assigned to that label.</li>\n",
    "</ul>"
   ]
  },
  {
   "cell_type": "markdown",
   "metadata": {},
   "source": [
    "### <span id=\"how_to_proceed\" >How to proceed with the whole course?</span>"
   ]
  },
  {
   "cell_type": "markdown",
   "metadata": {},
   "source": [
    "The course has been designed to allow you to complete the whole thing in only 5 days, dedicating 6 hours of work per day.\n",
    "\n",
    "However, <b>YOU ARE NOT REQUIRED TO DO THE COURSE IN 5 DAYS!</b> You can do it in as many days as you want, because <b>this is a self-paced course</b> and you won't be restricted in the time of usage.\n",
    "\n",
    "In any case, if you decide to take our proposal of 5 days, we recommend you follow along in this order:<br>"
   ]
  },
  {
   "cell_type": "markdown",
   "metadata": {},
   "source": [
    "<div class=\"tree\">\n",
    "    <ol>\n",
    "        <li>\n",
    "            <p><b>DAY 1</b>**</p>\n",
    "            <ul>\n",
    "                <li>Unit 1: How ROS Navigation Basic Structure works, <span class=\"ign_blue\">Time: 3h</span></li>\n",
    "                <li><span class=\"ign_green\">Start </span>Unit 2: Mapping,<span class=\"ign_blue\">Time: 1h</span></li>\n",
    "                <li>Work on Project Section 1, <span class=\"ign_blue\">Time: 2h</span></li>\n",
    "            </ul>\n",
    "            <br>\n",
    "        </li>\n",
    "        \n",
    "        <li>\n",
    "            <p><b>DAY 2</b>**</p>\n",
    "            <ul>\n",
    "                <li><span class=\"ign_red\">Finish </span>Unit 2: Mapping, <span class=\"ign_blue\">3h</span></li>\n",
    "                <li><span class=\"ign_green\">Start </span>Unit 3: Localization, <span class=\"ign_blue\">Time: 1h</span></li>\n",
    "                <li>Finish Project Section 1, <span class=\"ign_blue\">Time: 2h</span></li>\n",
    "            </ul>\n",
    "            <br>\n",
    "        </li>\n",
    "        \n",
    "        <li>\n",
    "            <p><b>DAY 3</b>**</p>\n",
    "            <ul>\n",
    "                <li><span class=\"ign_green\">Finish </span>Unit 3: Localization, <span class=\"ign_blue\">Time: 3h</span></li>\n",
    "                <li><span class=\"ign_green\">Start </span>Unit 4: Path Planning Part 1, <span class=\"ign_blue\">Time: 1h</span>\n",
    "                <li>Finish Project Section 2, <span class=\"ign_blue\">Time: 2h</span></li>\n",
    "            </ul>\n",
    "            <br>\n",
    "        </li>\n",
    "        \n",
    "        <li>\n",
    "            <p><b>DAY 4</b>**</p>\n",
    "            <ul>\n",
    "                <li><span class=\"ign_red\">Finish </span>Unit 4: Path Planning Part 1, <span class=\"ign_blue\">Time: 3h</span></li>\n",
    "                <li><span class=\"ign_green\">Start </span>Unit 5: Path Planning Part 2, <span class=\"ign_blue\">Time: 1h</span></li>\n",
    "                <li>Finish Project Section 3, <span class=\"ign_blue\">Time: 2h</span></li>\n",
    "            </ul>\n",
    "            <br>\n",
    "        </li>\n",
    "        \n",
    "        <li>\n",
    "            <p><b>DAY 5</b>**</p>\n",
    "            <ul>\n",
    "                <li><span class=\"ign_red\">Finish </span>Unit 5: Path Planning Part 2, <span class=\"ign_blue\">Time: 4h</span></li>\n",
    "                <li>Finish Project Section 4, <span class=\"ign_blue\">Time: 3h</span></li>\n",
    "            </ul>\n",
    "            <br>\n",
    "        </li>\n",
    "    </ol>\n",
    "    The most important thing that must be taken into account is:<br><p style=\"color:red;\" align=\"center\"><b>DO NOT SKIP EXERCISES.</b></p><br>\n",
    "    Exercises are the core of this teaching method (remember: practice, practice, practice). If you avoid them, you will be missing the whole point. \n",
    "</div>"
   ]
  },
  {
   "cell_type": "markdown",
   "metadata": {},
   "source": [
    "### Where to go when finished"
   ]
  },
  {
   "cell_type": "markdown",
   "metadata": {},
   "source": [
    "Once you have finished the course, you can still learn a lot of interesting subjects of ROS.\n",
    "<ul>\n",
    "   <li>Take more advanced courses that we offer at <a href=\"http://www.robotigniteacademy.com/\">Ignite Academy</a>, like  Perception or Manipulation. </li>\n",
    "   <li>You can apply all that you have learned in the free simulating environment of <a href=\"http://www.theconstructsim.com/the-construct-new-homepage/\">The Construct</a> and create your own programs for ROS-based robots.</li> \n",
    "   <li>You can download simulation robot models to practice in a local installation of ROS through <a href=\"http://www.theconstructsim.com/shop-landing-page-default/\">Robository</a>.</li> \n",
    "   <li>Or, you can go to the <a href=\"http://wiki.ros.org/\">ROS Wiki</a> and check the official documentation of ROS, now with new eyes.</li>\n",
    "</ul>"
   ]
  }
 ],
 "metadata": {
  "anaconda-cloud": {},
  "kernelspec": {
   "display_name": "Python 3",
   "language": "python",
   "name": "python3"
  },
  "language_info": {
   "codemirror_mode": {
    "name": "ipython",
    "version": 3
   },
   "file_extension": ".py",
   "mimetype": "text/x-python",
   "name": "python",
   "nbconvert_exporter": "python",
   "pygments_lexer": "ipython3",
   "version": "3.6.1"
  }
 },
 "nbformat": 4,
 "nbformat_minor": 1
}
