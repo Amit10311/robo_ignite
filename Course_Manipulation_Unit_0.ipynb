{
 "cells": [
  {
   "cell_type": "markdown",
   "metadata": {},
   "source": [
    "# ROS Manipulation in 5 Days"
   ]
  },
  {
   "cell_type": "markdown",
   "metadata": {
    "caption": "Manipulation Course Image",
    "image": true,
    "name": "manipulation",
    "width": "15cm"
   },
   "source": [
    "<img src=\"img/manipulation.png\" />"
   ]
  },
  {
   "cell_type": "markdown",
   "metadata": {},
   "source": [
    "## Unit 0: Introduction to the Course"
   ]
  },
  {
   "cell_type": "markdown",
   "metadata": {},
   "source": [
    "<p style=\"background:green;color:white;\">**SUMMARY**</p>"
   ]
  },
  {
   "cell_type": "markdown",
   "metadata": {},
   "source": [
    "Estimated time of completion: <b>10 min</b><br><br>\n",
    "This Unit is an introduction to the ROS Manipulation Course. You'll have a quick preview of the contents that you are going to cover during the Course, and you will also view a practical demo."
   ]
  },
  {
   "cell_type": "markdown",
   "metadata": {},
   "source": [
    "<p style=\"background:green;color:white;\">**END OF SUMMARY**</p>"
   ]
  },
  {
   "cell_type": "markdown",
   "metadata": {},
   "source": [
    "## What is ROS Manipulation?"
   ]
  },
  {
   "cell_type": "markdown",
   "metadata": {},
   "source": [
    "ROS Manipulation is the term used to refer to any robot that manipulates something in its environment. And what does this mean? Well, it means that it physically alters something in the world, for instance, changing it from its initial position."
   ]
  },
  {
   "cell_type": "markdown",
   "metadata": {},
   "source": [
    "The main goal of this course is to teach you the basic tools you need to know in order to be able to understand how ROS Manipulation works, and for you to learn how to implement it for any manipulator robot."
   ]
  },
  {
   "cell_type": "markdown",
   "metadata": {},
   "source": [
    "## Do you want to have a taste?"
   ]
  },
  {
   "cell_type": "markdown",
   "metadata": {},
   "source": [
    "With the proper introductions made, it is time to actually start. And... as we always do in the Robot Ignite Academy, let's start with practice! In the following demo, you will be testing apredefined script in a simulation, so you can have a practical look at what you are going to learn by completing this course. So... let's go!"
   ]
  },
  {
   "cell_type": "markdown",
   "metadata": {},
   "source": [
    "<p style=\"background:#EE9023;color:white;\">**Demo 1.1**</p>\n",
    "<br>\n",
    "\n",
    "a) Execute the following piece of code in order to start the control system.<br>"
   ]
  },
  {
   "cell_type": "markdown",
   "metadata": {},
   "source": [
    "<b>Note:</b> You can execute a piece of Python code like this by clicking on it and then clicking on the play button on the top right-hand corner of the IPython notebook.<br> \n",
    "<div class='white_bg'><img src=\"img/font-awesome_step-forward.png\" style=\"float:left\"/><br><br></div>\n",
    "<br>\n",
    "You can also press <i>[CTRL]+[Enter]</i> to execute it."
   ]
  },
  {
   "cell_type": "code",
   "execution_count": null,
   "metadata": {
    "collapsed": true
   },
   "outputs": [],
   "source": [
    "from smart_grasping_sandbox.smart_grasper import SmartGrasper\n",
    "from tf.transformations import quaternion_from_euler\n",
    "from math import pi\n",
    "import time\n",
    "\n",
    "sgs = SmartGrasper()"
   ]
  },
  {
   "cell_type": "markdown",
   "metadata": {},
   "source": [
    "After executing the previous code and waiting for a few seconds, the robot should look like this:"
   ]
  },
  {
   "cell_type": "markdown",
   "metadata": {
    "caption": "Robot Arm Initialized",
    "image": true,
    "name": "grasp_demo_pos",
    "width": "10cm"
   },
   "source": [
    "<img src=\"img/grasp_demo_pos.png\" width=\"600\" />"
   ]
  },
  {
   "cell_type": "markdown",
   "metadata": {},
   "source": [
    "b) When the controllers are loaded, you can execute the following line of code in order to start the demo."
   ]
  },
  {
   "cell_type": "code",
   "execution_count": null,
   "metadata": {
    "collapsed": true
   },
   "outputs": [],
   "source": [
    "sgs.pick()"
   ]
  },
  {
   "cell_type": "markdown",
   "metadata": {},
   "source": [
    "<p style=\"background:#AE0202;color:white;\">**Expected Result for Demo 1.1**</p>"
   ]
  },
  {
   "cell_type": "markdown",
   "metadata": {
    "caption": "Grasping Process",
    "image": true,
    "name": "grasp_demo",
    "width": "10cm"
   },
   "source": [
    "<img src=\"img/grasp_demo.gif\" width=600/>"
   ]
  },
  {
   "cell_type": "markdown",
   "metadata": {},
   "source": [
    "<p style=\"background:#EE9023;color:white;\">**End of Demo 1.1**</p>"
   ]
  },
  {
   "cell_type": "markdown",
   "metadata": {},
   "source": [
    "<p style=\"background:red;color:white;\">**IMPORTANT NOTE**</p>\n",
    "<br>\n",
    "Once you are done with the demo, execute the following line of code in order to reset the world."
   ]
  },
  {
   "cell_type": "code",
   "execution_count": null,
   "metadata": {
    "collapsed": true
   },
   "outputs": [],
   "source": [
    "sgs.reset_world()"
   ]
  },
  {
   "cell_type": "markdown",
   "metadata": {},
   "source": [
    "<p style=\"background:red;color:white;\">**IMPORTANT NOTE**</p>"
   ]
  },
  {
   "cell_type": "markdown",
   "metadata": {},
   "source": [
    "Cool, right? In the previous Demo, what you've done is combine Motion Planning with Grasping and Perception, in order to be able to pick up the red ball that is lying on the table. \n",
    "<br><br>\n",
    "By completing this course, you will learn how to do this, and how you can apply it to any Manipulator robot."
   ]
  },
  {
   "cell_type": "markdown",
   "metadata": {},
   "source": [
    "## What will you learn with this Course?"
   ]
  },
  {
   "cell_type": "markdown",
   "metadata": {},
   "source": [
    "Basically, during this course, you will address the following topics:\n",
    "\n",
    "* Basics of ROS Manipulation.\n",
    "* How to create and configure a MoveIt! package for a Manipulator robot.\n",
    "* How to perform Motion Planning.\n",
    "* How to perform Grasping."
   ]
  },
  {
   "cell_type": "markdown",
   "metadata": {},
   "source": [
    "## Why you should learn it?"
   ]
  },
  {
   "cell_type": "markdown",
   "metadata": {},
   "source": [
    "There are many reasons why you should learn to perform manipulation. Manipulation and manipulator robots are already being used in many environments, providing a solution to tasks that are really hard to develop for us humans, for many reasons. For instance:"
   ]
  },
  {
   "cell_type": "markdown",
   "metadata": {},
   "source": [
    "### Dangerous workspaces\t\n",
    "This refers to environments that are dangerous for humans to be in. For instance:\n",
    "\n",
    "* Space exploration\n",
    "* Foundries\n",
    "* Underwater Environments\n",
    "* Factories"
   ]
  },
  {
   "cell_type": "markdown",
   "metadata": {
    "caption": "Image taken from http://srv.uib.es/trident/",
    "image": true,
    "name": "uw",
    "width": "10cm"
   },
   "source": [
    "<img src=\"img/uw.jpg\" width=\"500\" />"
   ]
  },
  {
   "cell_type": "markdown",
   "metadata": {},
   "source": [
    "### Repetitive or unpleasant work"
   ]
  },
  {
   "cell_type": "markdown",
   "metadata": {},
   "source": [
    "Basically, this refers to industrial environments, where robots have to do repetitive tasks for prolonged periods of time."
   ]
  },
  {
   "cell_type": "markdown",
   "metadata": {
    "caption": "Image from http://www.mhi.org",
    "image": true,
    "name": "robots1",
    "width": "13cm"
   },
   "source": [
    "<img src=\"img/robots1.jpg\" width=\"600\" />"
   ]
  },
  {
   "cell_type": "markdown",
   "metadata": {},
   "source": [
    "### Human intractable workspaces\t\n",
    "This refers to workspaces that are very hard to be managed by humans. For instance:\n",
    "\n",
    "* Too small workspaces\n",
    "* Too big workspaces\n",
    "* Workspaces where too much precision is needed"
   ]
  },
  {
   "cell_type": "markdown",
   "metadata": {
    "caption": "Image from http://www.controldesign.com",
    "image": true,
    "name": "abb_manip",
    "width": "10cm"
   },
   "source": [
    "<img src=\"img/abb_manip.png\" width=\"500\" />"
   ]
  },
  {
   "cell_type": "markdown",
   "metadata": {},
   "source": [
    "But, there are also many other fields that are beginning to use Manipulator robots."
   ]
  },
  {
   "cell_type": "markdown",
   "metadata": {},
   "source": [
    "### Surgery"
   ]
  },
  {
   "cell_type": "markdown",
   "metadata": {
    "caption": "Image from www.avensonline.org",
    "image": true,
    "name": "surgery",
    "width": "10cm"
   },
   "source": [
    "<img src=\"img/surgery.jpg\" width=\"400\" />"
   ]
  },
  {
   "cell_type": "markdown",
   "metadata": {},
   "source": [
    "### Patient care"
   ]
  },
  {
   "cell_type": "markdown",
   "metadata": {
    "caption": "Image from http://www.huffingtonpost.com",
    "image": true,
    "name": "patient_care",
    "width": "10cm"
   },
   "source": [
    "<img src=\"img/patient_care.jpg\" width=\"400\" />"
   ]
  },
  {
   "cell_type": "markdown",
   "metadata": {},
   "source": [
    "### Delivery Tasks"
   ]
  },
  {
   "cell_type": "markdown",
   "metadata": {},
   "source": [
    "Anyway, in the near future, when current limitations are overcome, manipulation could be used in many other situations and environments. And you can be the first one to develop such technology! Why not?\n",
    "<br>"
   ]
  },
  {
   "cell_type": "markdown",
   "metadata": {},
   "source": [
    "## How will you learn it?"
   ]
  },
  {
   "cell_type": "markdown",
   "metadata": {},
   "source": [
    "You will learn through hands-on experience from day one! This means that you will be working and testing your knowledge with various simulations. In the first section of the course, you'll work a Shadow robot simulation."
   ]
  },
  {
   "cell_type": "markdown",
   "metadata": {
    "caption": "Shadow Robot",
    "image": true,
    "name": "shadow",
    "width": "10cm"
   },
   "source": [
    "<img src=\"img/shadow.png\" width=\"400\" />"
   ]
  },
  {
   "cell_type": "markdown",
   "metadata": {},
   "source": [
    "In the third and fourth chapters, you'll work with a Fetch robot."
   ]
  },
  {
   "cell_type": "markdown",
   "metadata": {
    "caption": "Fetch Robot",
    "image": true,
    "name": "fetch",
    "width": "7cm"
   },
   "source": [
    "<img src=\"img/fetch.png\" width=\"400\" />"
   ]
  },
  {
   "cell_type": "markdown",
   "metadata": {},
   "source": [
    "And you will also have a Final Project based on a RB-1 simulation, like this one:"
   ]
  },
  {
   "cell_type": "markdown",
   "metadata": {
    "caption": "RB-1 Robot",
    "image": true,
    "name": "rb1",
    "width": "7cm"
   },
   "source": [
    "<img src=\"img/rb1.png\" width=\"400\" />"
   ]
  },
  {
   "cell_type": "markdown",
   "metadata": {},
   "source": [
    "## Minimum requirements for the Course"
   ]
  },
  {
   "cell_type": "markdown",
   "metadata": {},
   "source": [
    "In order to be able to fully understand the contents of this course, it is highly recommended to have the following knowledge:\n",
    "\n",
    "* Basic ROS. You can get this knowledge by following the <b>ROS in 5 Days</b>  Course.\n",
    "* Basic Unix shell knowledge.\n",
    "* Basic Joints knowledge. You can get this knowledge by following the <b>TF ROS 101</b>  Course.\n",
    "* Basic URDF knowledge. You can get this knowledge by following the <b>URDF 101</b>  Course.\n",
    "* Python Knowledge."
   ]
  },
  {
   "cell_type": "markdown",
   "metadata": {},
   "source": [
    "## Special Thanks"
   ]
  },
  {
   "cell_type": "markdown",
   "metadata": {},
   "source": [
    "* The <a href=\"http://www.shadowrobot.com\" target=\"_blank\">Shadow Robot</a> Company (especially Ugo Cupcic)."
   ]
  },
  {
   "cell_type": "markdown",
   "metadata": {
    "caption": "Shadow Robot Company",
    "image": true,
    "name": "shadow-logo",
    "width": "9cm"
   },
   "source": [
    "<img src=\"img/shadow-logo.jpg\" width=\"500\" />"
   ]
  },
  {
   "cell_type": "markdown",
   "metadata": {},
   "source": [
    "* <a href=\"http://fetchrobotics.com\" target=\"_blank\">Fetch Robotics</a>"
   ]
  },
  {
   "cell_type": "markdown",
   "metadata": {
    "caption": "Fetch Robotics",
    "image": true,
    "name": "fetchLogo",
    "width": "7cm"
   },
   "source": [
    "<img src=\"img/fetchLogo.png\" width=\"400\" />"
   ]
  },
  {
   "cell_type": "markdown",
   "metadata": {},
   "source": [
    "* <a href=\"http://www.robotnik.es\" target=\"_blank\">Robotnik</a>"
   ]
  },
  {
   "cell_type": "markdown",
   "metadata": {
    "caption": "Robotnik",
    "collapsed": true,
    "image": true,
    "name": "logo_robotnik",
    "width": "7cm"
   },
   "source": [
    "<img src=\"img/logo_robotnik.jpg\" width=\"500\" />"
   ]
  },
  {
   "cell_type": "markdown",
   "metadata": {},
   "source": [
    "* <a href=\"https://github.com/davetcoleman/\" target=\"_blank\">Dave Coleman</a>, creator and maintainer of the moveit_simples_grasps package."
   ]
  },
  {
   "cell_type": "markdown",
   "metadata": {},
   "source": [
    "* And, of course, we have to thank the whole ROS community for all the work done related to Robotics Manipulation."
   ]
  },
  {
   "cell_type": "markdown",
   "metadata": {
    "caption": "ROS.org",
    "collapsed": true,
    "image": true,
    "name": "rosorg",
    "width": "8cm"
   },
   "source": [
    "<img src=\"img/rosorg.jpg\" width=\"500\" />"
   ]
  },
  {
   "cell_type": "markdown",
   "metadata": {},
   "source": [
    "Website: http://www.ros.org"
   ]
  }
 ],
 "metadata": {
  "anaconda-cloud": {},
  "kernelspec": {
   "display_name": "Python [Root]",
   "language": "python",
   "name": "Python [Root]"
  },
  "language_info": {
   "codemirror_mode": {
    "name": "ipython",
    "version": 2
   },
   "file_extension": ".py",
   "mimetype": "text/x-python",
   "name": "python",
   "nbconvert_exporter": "python",
   "pygments_lexer": "ipython2",
   "version": "2.7.12"
  },
  "latex_metadata": {
   "chapter": "0 - Introduction to the Course",
   "chapter_title": "Unit 0. Introduction to the Course",
   "course_title": "ROS MANIPULATION IN 5 DAYS"
  }
 },
 "nbformat": 4,
 "nbformat_minor": 1
}
