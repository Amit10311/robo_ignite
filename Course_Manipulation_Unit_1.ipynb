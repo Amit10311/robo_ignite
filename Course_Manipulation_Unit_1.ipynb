{
 "cells": [
  {
   "cell_type": "markdown",
   "metadata": {},
   "source": [
    "# ROS Manipulation in 5 Days"
   ]
  },
  {
   "cell_type": "markdown",
   "metadata": {},
   "source": [
    "## Unit 1: Basic Concepts"
   ]
  },
  {
   "cell_type": "markdown",
   "metadata": {},
   "source": [
    "<p style=\"background:green;color:white;\">**SUMMARY**</p>"
   ]
  },
  {
   "cell_type": "markdown",
   "metadata": {},
   "source": [
    "Estimated time of completion: <b>1h</b><br><br>\n",
    "This unit is an introduction to some basic concepts regarding ROS Manipulation that you need to know in order to be able to fully understand the contents of the course."
   ]
  },
  {
   "cell_type": "markdown",
   "metadata": {},
   "source": [
    "<p style=\"background:green;color:white;\">**END OF SUMMARY**</p>"
   ]
  },
  {
   "cell_type": "markdown",
   "metadata": {},
   "source": [
    "Let's imagine the next scenario. You're chilling in your lab, listening to your favourite 80s music remix while carrying out a detailed investigation into the latest kitten videos that have been uploaded to Youtube... when suddenly, your boss comes into the room and says the magic words: ¡Hey (Insert Your Name Here)! I have a new project for you. I need you to make this robot grasp objects with ROS, and I need it yesterday.\n",
    "<br><br>\n",
    "You'll probably start to sweat, while asking yourself questions like: Grasping? Yesterday? With ROS? What the hell do I need? Where do I start? How does BB-8 climb stairs? \n",
    "<br>\n",
    "<br>\n",
    "Don't panic! Keep calm... Robot Ignite Academy to the rescue!!"
   ]
  },
  {
   "cell_type": "markdown",
   "metadata": {},
   "source": [
    "## What do you need to perform ROS Manipulation?"
   ]
  },
  {
   "cell_type": "markdown",
   "metadata": {},
   "source": [
    "Basically, you'll need to go through the following 4 main topics:\n",
    "\n",
    "* <b>MoveIt</b>\n",
    "* <b>Motion Planning</b>\n",
    "* <b>Perception</b>\n",
    "* <b>Grasping</b>"
   ]
  },
  {
   "cell_type": "markdown",
   "metadata": {},
   "source": [
    "### MoveIt"
   ]
  },
  {
   "cell_type": "markdown",
   "metadata": {},
   "source": [
    "So, as we've pointed out before, the first thing you'll need to know about is <b>MoveIt</b>. "
   ]
  },
  {
   "cell_type": "markdown",
   "metadata": {},
   "source": [
    "MoveIt is a set of packages and tools that allow you to perform manipulation with ROS. MoveIt provides software and tools in order to do Motion Planning, Manipulation, Perception, Kinematics, Collision Checking, Control, and Navigation. Yes! It is a huge and very useful tool, and it is basic knowledge if you want to learn about ROS Manipulation. You can learn more about it by checking all of its documentation on the official website: http://moveit.ros.org"
   ]
  },
  {
   "cell_type": "markdown",
   "metadata": {},
   "source": [
    "In the following, you're going to have a first look at this tool. So, let's stop the talking, and get to the action!"
   ]
  },
  {
   "cell_type": "markdown",
   "metadata": {},
   "source": [
    "<p style=\"background:#EE9023;color:white;\">**Demo 1.1**</p>\n",
    "<br>\n",
    "a) Launch the MoveIt RViz environment. To do that, you can just execute the following command:\n",
    "<table style=\"float:left;background: #407EAF\">\n",
    "<tr>\n",
    "<th>\n",
    "Execute in WebShell #1\n",
    "</th>\n",
    "</tr>\n",
    "</table>"
   ]
  },
  {
   "cell_type": "code",
   "execution_count": null,
   "metadata": {
    "collapsed": true
   },
   "outputs": [],
   "source": [
    "roslaunch smart_grasp_mod_moveit_config demo.launch"
   ]
  },
  {
   "cell_type": "markdown",
   "metadata": {
    "caption": "MoveIt RViz",
    "image": true,
    "name": "shadow_rviz9",
    "width": "10cm"
   },
   "source": [
    "Now, if you open the Graphic Tools by hitting this icon "
   ]
  },
  {
   "cell_type": "markdown",
   "metadata": {
    "caption": "",
    "image": true,
    "name": "font-awesome_desktop",
    "width": "1.3cm"
   },
   "source": [
    "<img src=\"img/font-awesome_desktop.png\"width=\"25\"/>"
   ]
  },
  {
   "cell_type": "markdown",
   "metadata": {},
   "source": [
    "you will see something like this:"
   ]
  },
  {
   "cell_type": "markdown",
   "metadata": {
    "caption": "MoveIt RViz environment",
    "image": true,
    "name": "shadow_rviz9",
    "width": "10cm"
   },
   "source": [
    "<img src=\"img/shadow_rviz9.png\" width=\"600\" />"
   ]
  },
  {
   "cell_type": "markdown",
   "metadata": {},
   "source": [
    "b) Move around the different options that the toll provides, and try to see if you can figure anything out!"
   ]
  },
  {
   "cell_type": "markdown",
   "metadata": {},
   "source": [
    "<p style=\"background:#EE9023;color:white;\">**End of Demo 1.1**</p>"
   ]
  },
  {
   "cell_type": "markdown",
   "metadata": {},
   "source": [
    "<p style=\"background:red;color:white;\">**IMPORTANT NOTE**</p>\n",
    "<br>\n",
    "Once you are done with this exercise, kill the MoveIt RViz environment by hitting <b>Ctrl + C</b> in the webshell where you executed the command."
   ]
  },
  {
   "cell_type": "markdown",
   "metadata": {},
   "source": [
    "<p style=\"background:red;color:white;\">**IMPORTANT NOTE**</p>"
   ]
  },
  {
   "cell_type": "markdown",
   "metadata": {},
   "source": [
    "Awesome, right? You are probably a little bit confused right now, since MoveIt is a huge tool that provides lots of options. But, don't get stressed! In the next unit (<b>Chapter 2</b>), you will learn how to deal with MoveIt and you'll see how this tool can help you to perform Manipulation in ROS."
   ]
  },
  {
   "cell_type": "markdown",
   "metadata": {},
   "source": [
    "### Motion Planning"
   ]
  },
  {
   "cell_type": "markdown",
   "metadata": {},
   "source": [
    "Great! So.... what else do you need in order to learn ROS Manipulation? Well, you'll need to know how to perform <b>Motion Planning</b>! And... what does Motion Planning mean? Well, it bascially means to plan a movement (motion) from point A to point B, without colliding with anything."
   ]
  },
  {
   "cell_type": "markdown",
   "metadata": {},
   "source": [
    "In other words, you will need to be able to control the different joints and links of your robot, avoiding collisions between them or with other elements in the environment."
   ]
  },
  {
   "cell_type": "markdown",
   "metadata": {},
   "source": [
    "Let's see a better practical example of what this is about! Don't you agree?"
   ]
  },
  {
   "cell_type": "markdown",
   "metadata": {},
   "source": [
    "<p style=\"background:#EE9023;color:white;\">**Demo 1.2**</p>\n",
    "<br>\n",
    "a) Launch the MoveIt Rviz environment again. To do that, you can just execute the following commands:\n",
    "<table style=\"float:left;background: #407EAF\">\n",
    "<tr>\n",
    "<th>\n",
    "Execute in WebShell #1\n",
    "</th>\n",
    "</tr>\n",
    "</table>"
   ]
  },
  {
   "cell_type": "code",
   "execution_count": null,
   "metadata": {
    "collapsed": true
   },
   "outputs": [],
   "source": [
    "roslaunch smart_grasp_mod_moveit_config smart_grasping_planning_execution.launch"
   ]
  },
  {
   "cell_type": "markdown",
   "metadata": {},
   "source": [
    "If everything goes well, you should see something like this:"
   ]
  },
  {
   "cell_type": "markdown",
   "metadata": {
    "caption": "MoveIt RViz environment",
    "image": true,
    "name": "shadow_rviz9",
    "width": "10cm"
   },
   "source": [
    "<img src=\"img/shadow_rviz9.png\" width=\"500\" />"
   ]
  },
  {
   "cell_type": "markdown",
   "metadata": {},
   "source": [
    "b) Now, execute the following piece of code in order to control the joints of the robot."
   ]
  },
  {
   "cell_type": "code",
   "execution_count": null,
   "metadata": {
    "collapsed": true
   },
   "outputs": [],
   "source": [
    "#! /usr/bin/env python\n",
    "\n",
    "import sys\n",
    "import copy\n",
    "import rospy\n",
    "import moveit_commander\n",
    "import moveit_msgs.msg\n",
    "import geometry_msgs.msg\n",
    "\n",
    "moveit_commander.roscpp_initialize(sys.argv)\n",
    "rospy.init_node('move_group_python_interface_tutorial', anonymous=True)\n",
    "\n",
    "robot = moveit_commander.RobotCommander()\n",
    "scene = moveit_commander.PlanningSceneInterface()    \n",
    "group = moveit_commander.MoveGroupCommander(\"arm\")\n",
    "display_trajectory_publisher = rospy.Publisher('/move_group/display_planned_path', moveit_msgs.msg.DisplayTrajectory)\n",
    "\n",
    "group_variable_values = group.get_current_joint_values()\n",
    "\n",
    "group_variable_values[1] = -1.5\n",
    "group.set_joint_value_target(group_variable_values)\n",
    "\n",
    "plan2 = group.plan()\n",
    "\n",
    "rospy.sleep(5)\n",
    "group.go(wait=True)\n",
    "rospy.sleep(5)\n",
    "\n",
    "group_variable_values[2] = 1.5\n",
    "group.set_joint_value_target(group_variable_values)\n",
    "\n",
    "plan2 = group.plan()\n",
    "\n",
    "rospy.sleep(5)\n",
    "group.go(wait=True)\n",
    "rospy.sleep(5)\n",
    "\n",
    "moveit_commander.roscpp_shutdown()"
   ]
  },
  {
   "cell_type": "markdown",
   "metadata": {},
   "source": [
    "You should see something like this (a little bit slower):"
   ]
  },
  {
   "cell_type": "markdown",
   "metadata": {
    "caption": "Motion Demo",
    "image": true,
    "name": "smart_motion",
    "width": "10cm"
   },
   "source": [
    "<img src=\"img/smart_motion.gif\" width=\"500\" />"
   ]
  },
  {
   "cell_type": "markdown",
   "metadata": {},
   "source": [
    "<p style=\"background:#EE9023;color:white;\">**End of Demo 1.2**</p>"
   ]
  },
  {
   "cell_type": "markdown",
   "metadata": {},
   "source": [
    "<p style=\"background:red;color:white;\">**IMPORTANT NOTE**</p>\n",
    "<br>\n",
    "Once you are done with this exercise, kill the MoveIt RViz environment by hitting <b>Ctrl + C</b> in the webshell where you executed the command."
   ]
  },
  {
   "cell_type": "markdown",
   "metadata": {},
   "source": [
    "<p style=\"background:red;color:white;\">**IMPORTANT NOTE**</p>"
   ]
  },
  {
   "cell_type": "markdown",
   "metadata": {},
   "source": [
    "Interesting, right? But, how does this work? Well... be patient! You'll learn how to perform Motion Planning in the third unit (<b>Chapter 3</b>)."
   ]
  },
  {
   "cell_type": "markdown",
   "metadata": {},
   "source": [
    "### Perception"
   ]
  },
  {
   "cell_type": "markdown",
   "metadata": {},
   "source": [
    "You'll also need to know about Perception, of course! In order to be able to interact with any object in the environment, you first need to be able to visualize it. You need to know where it is, how it is, etc... and that's what Perception is for!"
   ]
  },
  {
   "cell_type": "markdown",
   "metadata": {},
   "source": [
    "Perception is usually done using RGBD cameras, like a Kinect. In the following Demo, you'll have a look at the data that the Kinect camera placed in the simulation is capturing. "
   ]
  },
  {
   "cell_type": "markdown",
   "metadata": {},
   "source": [
    "<p style=\"background:#EE9023;color:white;\">**Demo 1.3**</p>\n",
    "<br>\n",
    "a) Launch RViz in order to visualize the RGBD data captured with the Kinect camera placed in the simulation. \n",
    "<table style=\"float:left;background: #407EAF\">\n",
    "<tr>\n",
    "<th>\n",
    "Execute in WebShell #1\n",
    "</th>\n",
    "</tr>\n",
    "</table>"
   ]
  },
  {
   "cell_type": "code",
   "execution_count": null,
   "metadata": {
    "collapsed": true
   },
   "outputs": [],
   "source": [
    "rosrun rviz rviz"
   ]
  },
  {
   "cell_type": "markdown",
   "metadata": {},
   "source": [
    "b) Add to RViz a <b>PointCloud2</b> element in order to visualize the PointCloud captured by the Kinect Camera. After a few seconds, you should get an error, like this one: "
   ]
  },
  {
   "cell_type": "markdown",
   "metadata": {
    "caption": "RViz Error",
    "image": true,
    "name": "depth_error",
    "width": "6cm"
   },
   "source": [
    "<img src=\"img/depth_error.png\" width=\"300\" />"
   ]
  },
  {
   "cell_type": "markdown",
   "metadata": {},
   "source": [
    "The <b>PointCloud2</b> element in RViz allows you to visualize PointCloud data captured by RGBD cameras. "
   ]
  },
  {
   "cell_type": "markdown",
   "metadata": {},
   "source": [
    "<b>Note:</b> Keep in mind that PointClouds consume lots of resources, since they carry lots of data. So, this process may slow your computer."
   ]
  },
  {
   "cell_type": "markdown",
   "metadata": {},
   "source": [
    "c) Execute the following command in order to get the frame related to the RGBD camera.\n",
    "<br>\n",
    "<table style=\"float:left;background: #407EAF\">\n",
    "<tr>\n",
    "<th>\n",
    "Execute in WebShell #1\n",
    "</th>\n",
    "</tr>\n",
    "</table>"
   ]
  },
  {
   "cell_type": "code",
   "execution_count": null,
   "metadata": {
    "collapsed": true
   },
   "outputs": [],
   "source": [
    "rostopic echo -n1 /camera/depth/points/header/frame_id"
   ]
  },
  {
   "cell_type": "markdown",
   "metadata": {
    "caption": "Depth Frame",
    "image": true,
    "name": "depth_frame",
    "width": "13cm"
   },
   "source": [
    "<img src=\"img/depth_frame.png\" width=\"700\" />"
   ]
  },
  {
   "cell_type": "markdown",
   "metadata": {},
   "source": [
    "d) Modify the Fixed Frame in RViz for the frame that was obtained with the previous command. It won't appear in the available frames, so you will have to write it manually."
   ]
  },
  {
   "cell_type": "markdown",
   "metadata": {},
   "source": [
    "If everything goes okay, you should end up with something like this:"
   ]
  },
  {
   "cell_type": "markdown",
   "metadata": {
    "caption": "Depth Cloud in RViz",
    "image": true,
    "name": "depth_cloud",
    "width": "10cm"
   },
   "source": [
    "<img src=\"img/depth_cloud.png\" width=\"600\" />"
   ]
  },
  {
   "cell_type": "markdown",
   "metadata": {},
   "source": [
    "<p style=\"background:#EE9023;color:white;\">**End of Demo 1.3**</p>"
   ]
  },
  {
   "cell_type": "markdown",
   "metadata": {},
   "source": [
    "<p style=\"background:red;color:white;\">**IMPORTANT NOTE**</p>\n",
    "<br>\n",
    "Once you are done with this exercise, kill the RViz environment by hitting <b>Ctrl + C</b> in the webshell where you executed the command."
   ]
  },
  {
   "cell_type": "markdown",
   "metadata": {},
   "source": [
    "<p style=\"background:red;color:white;\">**IMPORTANT NOTE**</p>"
   ]
  },
  {
   "cell_type": "markdown",
   "metadata": {},
   "source": [
    "So, you have now visualized data that the Kinect camera in the simulation is capturing right now. Obviously, we can use this data in order to improve manipulation tasks, such as detecting new objects that spawn into the simulation. \n",
    "<br><br>\n",
    "Anyway, you will get deeper into Perception in <b>Chapter 4</b>, so just be patient!"
   ]
  },
  {
   "cell_type": "markdown",
   "metadata": {},
   "source": [
    "### Grasping"
   ]
  },
  {
   "cell_type": "markdown",
   "metadata": {},
   "source": [
    "Finally, you'll need to know about <b>Grasping</b>. And what is Grasping? Well, the word Grasping refers to the action of catching an object from the environment in order to do an action with it; for instance, change its position. Inside the Grasping process, there are other variables that take place, such as the Perception of the environment. \n",
    "<br><br>\n",
    "In the previous chapter, <b>Introduction to the Course</b>, you already saw a Grasping demo, so you are not going to repeat it this time."
   ]
  },
  {
   "cell_type": "markdown",
   "metadata": {},
   "source": [
    "Even though Grasping may look like a very easy and simple task, it is not. Not at all! There are lots of variables that need to be taken into account, and there are lots of things that can go wrong!"
   ]
  },
  {
   "cell_type": "markdown",
   "metadata": {},
   "source": [
    "You will learn the basics about Grasping in <b>Chapter 5</b>."
   ]
  },
  {
   "cell_type": "markdown",
   "metadata": {},
   "source": [
    "### And of course... you'll need a Manipulator robot!"
   ]
  },
  {
   "cell_type": "markdown",
   "metadata": {},
   "source": [
    "And what is a Manipulator robot? Well, we know that a Maniplator Robot is any kind of robot that is able to physically alter the environment it works in."
   ]
  },
  {
   "cell_type": "markdown",
   "metadata": {},
   "source": [
    "#### Structure of a Manipulator Robot"
   ]
  },
  {
   "cell_type": "markdown",
   "metadata": {},
   "source": [
    "A Manipulator robot is modeled as a\tchain of rigid <b>links</b>, which are connected by <b>joints</b>, and which end in what is known as the <b>end-effector</b> of the robot. So, basically, any Manipulator is composed of these 3 elemental parts:\n",
    "\n",
    "* <b>Links</b>: Rigid pieces that connect the joints of the manipulator.\n",
    "* <b>Joints</b>: Connectors between the links of the manipulator, and which provide either translational or rotational movement.\n",
    "* <b>End Effector</b>\n",
    "  * Grippers / Tools\n",
    "  * Sensors"
   ]
  },
  {
   "cell_type": "markdown",
   "metadata": {
    "caption": "Manipulator Robot",
    "image": true,
    "name": "manipulator_robot",
    "width": "12cm"
   },
   "source": [
    "<img src=\"img/manipulator_robot.png\" width=\"600\" />"
   ]
  },
  {
   "cell_type": "markdown",
   "metadata": {},
   "source": [
    "<p style=\"background:#EE9023;color:white;\">**Exercise 1.1**</p>"
   ]
  },
  {
   "cell_type": "markdown",
   "metadata": {},
   "source": [
    "Have a look at the Manipulator robot that you are working with in this unit, and identify the names of all the links, joints, and end effectors that are part of it."
   ]
  },
  {
   "cell_type": "markdown",
   "metadata": {},
   "source": [
    "<p style=\"background:#EE9023;color:white;\">**End of Exercise 1.1**</p>"
   ]
  },
  {
   "cell_type": "markdown",
   "metadata": {},
   "source": [
    "## Basic Terminology"
   ]
  },
  {
   "cell_type": "markdown",
   "metadata": {},
   "source": [
    "Finally, it would be good to be familiar with some basic terminology that is often used in Robotic Manipulation."
   ]
  },
  {
   "cell_type": "markdown",
   "metadata": {},
   "source": [
    "### DoFs for Manipulation"
   ]
  },
  {
   "cell_type": "markdown",
   "metadata": {},
   "source": [
    "<b>DoFs</b> is the word used to refer to the <b>Degrees of Freedom</b> of a robot. And what does this mean? Well, it basically means the number of ways in which a robotic arm can move. A system has <i><b>n</b></i> DoFs if exactly <i><b>n</b></i> parameters are required to completely specify the configuration.\t\n",
    "\n",
    "* In the case of a manipulator robot:\t\n",
    "  * The configuration is determined by the number of joints that the robot has.\n",
    "  * So,\tthe\tnumber of joints determines the number of DoFs of the manipulator.\n",
    "\n",
    "* A rigid object in\ta 3D space has 6 parameters\t\n",
    "  * 3 for positioning (x, y, z) and 3 for the orientation (roll, pitch, and\tyaw\tangles)</li>"
   ]
  },
  {
   "cell_type": "markdown",
   "metadata": {},
   "source": [
    "If a manipulator has less than 6 DoFs, the arm\tcannot reach every point in\tthe workspace with arbitrary orientation\t\n",
    "<br>\n",
    "If a manipulator has more than 6 DoFs, the robot is\tkinematically redundant. Also, the more DoFs a manipulator has, the harder it will be to control it."
   ]
  },
  {
   "cell_type": "markdown",
   "metadata": {},
   "source": [
    "<p style=\"background:#EE9023;color:white;\">**Exercise 1.2**</p>"
   ]
  },
  {
   "cell_type": "markdown",
   "metadata": {},
   "source": [
    "Determine the number of DoFs that the simulated robot has."
   ]
  },
  {
   "cell_type": "markdown",
   "metadata": {},
   "source": [
    "<p style=\"background:#EE9023;color:white;\">**End of Exercise 1.2**</p>"
   ]
  },
  {
   "cell_type": "markdown",
   "metadata": {},
   "source": [
    "### Grippers"
   ]
  },
  {
   "cell_type": "markdown",
   "metadata": {},
   "source": [
    "A gripper is a device that enables the holding of an object to be manipulated. The easier way to describe a gripper is to think of the human hand. Just like a hand, a gripper enables holding, tightening, handling, and releasing of an object. A gripper can be attached to a robot or it can be part of a fixed automation system. Many styles and sizes of grippers exist so that the correct model can be selected for the application. "
   ]
  },
  {
   "cell_type": "markdown",
   "metadata": {
    "caption": "Image from https://academy.autodesk.com",
    "image": true,
    "name": "gripper_red",
    "width": "7cm"
   },
   "source": [
    "<img src=\"img/gripper_red.png\" width=\"400\" />"
   ]
  },
  {
   "cell_type": "markdown",
   "metadata": {},
   "source": [
    "Well, that's all for this first unit! I hope it has helped you to better structure your ideas regarding Manipulation. Anyway, the good stuff begins now. So... let's go!"
   ]
  }
 ],
 "metadata": {
  "anaconda-cloud": {},
  "kernelspec": {
   "display_name": "Python [Root]",
   "language": "python",
   "name": "Python [Root]"
  },
  "language_info": {
   "codemirror_mode": {
    "name": "ipython",
    "version": 2
   },
   "file_extension": ".py",
   "mimetype": "text/x-python",
   "name": "python",
   "nbconvert_exporter": "python",
   "pygments_lexer": "ipython2",
   "version": "2.7.12"
  },
  "latex_metadata": {
   "chapter": "1 - Basic Concepts",
   "chapter_title": "Unit 1. Basic Concepts",
   "course_title": "ROS MANIPULATION IN 5 DAYS"
  }
 },
 "nbformat": 4,
 "nbformat_minor": 1
}
