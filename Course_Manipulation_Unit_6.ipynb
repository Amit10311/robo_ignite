{
 "cells": [
  {
   "cell_type": "markdown",
   "metadata": {},
   "source": [
    "# ROS Manipulation in 5 Days"
   ]
  },
  {
   "cell_type": "markdown",
   "metadata": {},
   "source": [
    "## Unit 6: Project"
   ]
  },
  {
   "cell_type": "markdown",
   "metadata": {},
   "source": [
    "<p style=\"background:green;color:white;\">**SUMMARY**</p>"
   ]
  },
  {
   "cell_type": "markdown",
   "metadata": {},
   "source": [
    "Estimated time of completion: <b>2h</b>"
   ]
  },
  {
   "cell_type": "markdown",
   "metadata": {},
   "source": [
    "<p style=\"background:green;color:white;\">**END OF SUMMARY**</p>"
   ]
  },
  {
   "cell_type": "markdown",
   "metadata": {},
   "source": [
    "This last unit is meant to put together all of the knowledge that you've gained during this course. You will do this by doing a project, which will be based on the RB1 simulation. Using this simulation, you will have to practice everything you've learned during the course: build and configure a MoveIt Package, connect this package to the running simulation, perform Motion Planning using Python, and finally, perform Grasping. "
   ]
  },
  {
   "cell_type": "markdown",
   "metadata": {},
   "source": [
    "The Project will be divided in 4 parts. In order to complete it, just follow the steps tht will be described below. Are you ready? Then let's go!"
   ]
  },
  {
   "cell_type": "markdown",
   "metadata": {},
   "source": [
    "### 1. Build the MoveIt package"
   ]
  },
  {
   "cell_type": "markdown",
   "metadata": {},
   "source": [
    "First of all, you will need to create a MoveIt package for your manipulator. To do this, you can just follow the steps described in Chapter 2 of this course, bearing in mind the differences between both robots."
   ]
  },
  {
   "cell_type": "markdown",
   "metadata": {},
   "source": [
    "You should create 3 predefined Poses for the robot. For instance, they could be these 3:"
   ]
  },
  {
   "cell_type": "markdown",
   "metadata": {},
   "source": [
    "Pose 1:"
   ]
  },
  {
   "cell_type": "markdown",
   "metadata": {
    "caption": "Pose 1",
    "image": true,
    "name": "rb1_pose1",
    "width": "12cm"
   },
   "source": [
    "<img src=\"img/rb1_pose1.png\" width=\"600\" style=\"float: left; margin: 0px 0px 15px 15px;\"/>"
   ]
  },
  {
   "cell_type": "markdown",
   "metadata": {},
   "source": [
    "Pose 2:"
   ]
  },
  {
   "cell_type": "markdown",
   "metadata": {
    "caption": "Pose 2",
    "image": true,
    "name": "rb1_pose2",
    "width": "12cm"
   },
   "source": [
    "<img src=\"img/rb1_pose2.png\" width=\"600\" style=\"float: left; margin: 0px 0px 15px 15px;\"/>"
   ]
  },
  {
   "cell_type": "markdown",
   "metadata": {},
   "source": [
    "Pose 3:"
   ]
  },
  {
   "cell_type": "markdown",
   "metadata": {
    "caption": "Pose 3",
    "image": true,
    "name": "rb1_pose3",
    "width": "12cm"
   },
   "source": [
    "<img src=\"img/rb1_pose3.png\" width=\"600\" style=\"float: left; margin: 0px 0px 15px 15px;\"/>"
   ]
  },
  {
   "cell_type": "markdown",
   "metadata": {},
   "source": [
    "Once the package is created, test that it works properly by launching the <i><b>demo.launch</b></i> file, and Planning some trajectories."
   ]
  },
  {
   "cell_type": "markdown",
   "metadata": {},
   "source": [
    "At the end, you should be able to see something like this:"
   ]
  },
  {
   "cell_type": "markdown",
   "metadata": {
    "caption": "RB1 Robot in MoveIt",
    "image": true,
    "name": "rb1_moveit",
    "width": "12cm"
   },
   "source": [
    "<img src=\"img/rb1_moveit.png\" width=\"600\" />"
   ]
  },
  {
   "cell_type": "markdown",
   "metadata": {},
   "source": [
    "### 2. Connect the MoveIt package with the simulation"
   ]
  },
  {
   "cell_type": "markdown",
   "metadata": {},
   "source": [
    "Once you can successfully perform Motion Planning in MoveIt, it's time to connect it to the simulation in order to be able to move the \"real\" robot. You can follow the last part of the second chapter to complete this."
   ]
  },
  {
   "cell_type": "markdown",
   "metadata": {},
   "source": [
    "Before trying to execute any trajectory, though, you should follow the next steps:"
   ]
  },
  {
   "cell_type": "markdown",
   "metadata": {},
   "source": [
    "a) First of all, execute the following command in a webshell:"
   ]
  },
  {
   "cell_type": "code",
   "execution_count": null,
   "metadata": {
    "collapsed": true
   },
   "outputs": [],
   "source": [
    "rqt"
   ]
  },
  {
   "cell_type": "markdown",
   "metadata": {
    "caption": "rqt GUI",
    "image": true,
    "name": "rqt",
    "width": "12cm"
   },
   "source": [
    "<img src=\"img/rqt0.png\" width=\"600\" />"
   ]
  },
  {
   "cell_type": "markdown",
   "metadata": {},
   "source": [
    "b) Now, open the <b>Plugins</b> menu, select the <b>Robot Tools</b> option, and then the <b>Joint Trajectory Controller</b> option."
   ]
  },
  {
   "cell_type": "markdown",
   "metadata": {
    "caption": "Joint Trajectory Controller",
    "image": true,
    "name": "rqt1",
    "width": "9cm"
   },
   "source": [
    "<img src=\"img/rqt1.png\" width=\"600\" />"
   ]
  },
  {
   "cell_type": "markdown",
   "metadata": {},
   "source": [
    "c) Now, let's connect the <b>mico_arm_controller</b>. In the <b>controller manager ns</b> menu, select <b>/rb1/controller_manager</b>. And in the <b>controller</b> menu, select the <b>mico_arm_controller</b> option. Finally, click on the <b>Enable</b> button."
   ]
  },
  {
   "cell_type": "markdown",
   "metadata": {
    "caption": "Enable Controller",
    "image": true,
    "name": "rqt2",
    "width": "12cm"
   },
   "source": [
    "<img src=\"img/rqt2.png\" width=\"600\" />"
   ]
  },
  {
   "cell_type": "markdown",
   "metadata": {},
   "source": [
    "d) Finally, set the <b>mico_joint_3</b> to \"-1.5.\""
   ]
  },
  {
   "cell_type": "markdown",
   "metadata": {
    "caption": "Move Joints",
    "image": true,
    "name": "rqt3",
    "width": "12cm"
   },
   "source": [
    "<img src=\"img/rqt3.png\" width=\"600\" />"
   ]
  },
  {
   "cell_type": "markdown",
   "metadata": {},
   "source": [
    "At the end, you should have the RB1 robot like this:"
   ]
  },
  {
   "cell_type": "markdown",
   "metadata": {
    "caption": "RB1 Moved",
    "image": true,
    "name": "rb1_moved",
    "width": "8cm"
   },
   "source": [
    "<img src=\"img/rb1_moved.png\" width=\"400\" />"
   ]
  },
  {
   "cell_type": "markdown",
   "metadata": {},
   "source": [
    "Now, you can begin executing your trajectories with the real robot!"
   ]
  },
  {
   "cell_type": "markdown",
   "metadata": {},
   "source": [
    "<img src=\"img/rb1_motion.gif\" width=\"500\" />"
   ]
  },
  {
   "cell_type": "markdown",
   "metadata": {},
   "source": [
    "### 3. Python Script"
   ]
  },
  {
   "cell_type": "markdown",
   "metadata": {},
   "source": [
    "Once everything is working, and you are able to move the robot in the simulation through MoveIt, it's time to do it with code! In this last step of the project, you will have to create a Python Script that does the following:"
   ]
  },
  {
   "cell_type": "markdown",
   "metadata": {},
   "source": [
    "* First, it moves the robot to one of the predefined Poses you set in Step 2.\n",
    "* Then, it moves the robot to the second predefined Pose.\n",
    "* After this, it goes back to the previous Pose.\n",
    "* Finally, it returns to it's initial Pose."
   ]
  },
  {
   "cell_type": "markdown",
   "metadata": {},
   "source": [
    "### 4. Add Perception to the MoveIt package"
   ]
  },
  {
   "cell_type": "markdown",
   "metadata": {},
   "source": [
    "Now, you will have to add Perception to your MoveIt package, just as you learned to do in Chapter 4. The steps you should follow are the following:"
   ]
  },
  {
   "cell_type": "markdown",
   "metadata": {},
   "source": [
    "* Create an object to spawn into the simulation.</li>\n",
    "* Make the proper modification to your MoveIt package in order to add Perception.</li>\n",
    "* Launch the MoveIt package and check that you are able to visualize the environment.</li>"
   ]
  },
  {
   "cell_type": "markdown",
   "metadata": {},
   "source": [
    "Here is an example of what you should see."
   ]
  },
  {
   "cell_type": "markdown",
   "metadata": {},
   "source": [
    "### 5. Grasping"
   ]
  },
  {
   "cell_type": "markdown",
   "metadata": {},
   "source": [
    "Finally, you will have to spawn into the simulation a table with a cube on its surface. Then, you will have to create the proper Python script to do the following:"
   ]
  },
  {
   "cell_type": "markdown",
   "metadata": {},
   "source": [
    "* Approach the cube and grasps it.</li>\n",
    "* Pick up the cube and elevate it a little bit.</li>\n",
    "* Finally, place the cube in another position on the table.</li>"
   ]
  },
  {
   "cell_type": "markdown",
   "metadata": {},
   "source": [
    "Here you can see an example of what your script should do."
   ]
  },
  {
   "cell_type": "markdown",
   "metadata": {},
   "source": [
    "### 5. Congratulations! You completed the Course!"
   ]
  },
  {
   "cell_type": "markdown",
   "metadata": {},
   "source": [
    "So, that's it! You have completed 100% of the course! But... what could you do now? If you want to know what you can do after finishing this course, have a look at the next unit!"
   ]
  }
 ],
 "metadata": {
  "anaconda-cloud": {},
  "kernelspec": {
   "display_name": "Python [Root]",
   "language": "python",
   "name": "Python [Root]"
  },
  "language_info": {
   "codemirror_mode": {
    "name": "ipython",
    "version": 2
   },
   "file_extension": ".py",
   "mimetype": "text/x-python",
   "name": "python",
   "nbconvert_exporter": "python",
   "pygments_lexer": "ipython2",
   "version": "2.7.12"
  },
  "latex_metadata": {
   "chapter": "6 - Course Project",
   "chapter_title": "Unit 6. Course Project",
   "course_title": "ROS MANIPULATION IN 5 DAYS"
  }
 },
 "nbformat": 4,
 "nbformat_minor": 1
}
