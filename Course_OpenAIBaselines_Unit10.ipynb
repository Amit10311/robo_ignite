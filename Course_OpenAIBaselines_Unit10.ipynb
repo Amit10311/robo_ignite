{
 "cells": [
  {
   "cell_type": "markdown",
   "metadata": {},
   "source": [
    "# I'm finished, now what?"
   ]
  },
  {
   "cell_type": "markdown",
   "metadata": {},
   "source": [
    "## ROS Development Studio (RDS)"
   ]
  },
  {
   "cell_type": "markdown",
   "metadata": {},
   "source": [
    "<img src=\"img/RDS_logo.png\" width=\"500\"/>"
   ]
  },
  {
   "cell_type": "markdown",
   "metadata": {},
   "source": [
    "<li>There are plug and play simulations available in <a href=\"http://www.theconstructsim.com/rds-ros-development-studio/\">RosDevelopementStudio</a>  to apply your new knowledge to new robot simulations, like Husky, BB8, or Wam arms.<br>\n",
    "<img src=\"img/rds_examples.png\" width=\"800\"/>"
   ]
  },
  {
   "cell_type": "markdown",
   "metadata": {},
   "source": [
    "# Want to learn more?"
   ]
  },
  {
   "cell_type": "markdown",
   "metadata": {},
   "source": [
    "<img src=\"img/robotignite_logo_text.png\" width=\"500\"/>"
   ]
  },
  {
   "cell_type": "markdown",
   "metadata": {},
   "source": [
    "Once you have finished the course, you can still learn a lot of interesting ROS subjects.\n",
    "<ul>\n",
    "   <li>\n",
    "   Take more advanced courses we offer at <a href=\"http://www.robotigniteacademy.com/\">Ignite Academy</a>, like Perception or Manipulation.\n",
    "   </li>\n",
    "   <li>\n",
    "   Or you can go to the <a href=\"http://wiki.ros.org/\">ROS Wiki</a> and check out the official documentation of ROS, now with fresh eyes.\n",
    "   </li>\n",
    "   <li>\n",
    "   You can download simulation robot models to practice in a local installation of ROS through <a href=\"http://www.theconstructsim.com/shop-landing-page-default/\">Robository</a>.\n",
    "   </li> \n",
    "</ul>"
   ]
  },
  {
   "cell_type": "markdown",
   "metadata": {},
   "source": [
    "# Thank You and hope to see you soon! "
   ]
  },
  {
   "cell_type": "markdown",
   "metadata": {},
   "source": [
    "<img src=\"img/tc_logo.png\" width=\"500\"/>"
   ]
  }
 ],
 "metadata": {
  "anaconda-cloud": {},
  "kernelspec": {
   "display_name": "Python 3",
   "language": "python",
   "name": "python3"
  },
  "language_info": {
   "codemirror_mode": {
    "name": "ipython",
    "version": 3
   },
   "file_extension": ".py",
   "mimetype": "text/x-python",
   "name": "python",
   "nbconvert_exporter": "python",
   "pygments_lexer": "ipython3",
   "version": "3.6.1"
  }
 },
 "nbformat": 4,
 "nbformat_minor": 1
}
