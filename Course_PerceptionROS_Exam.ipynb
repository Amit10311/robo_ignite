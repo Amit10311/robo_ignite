{
 "cells": [
  {
   "cell_type": "markdown",
   "metadata": {},
   "source": [
    "# Perception ROS EXAM"
   ]
  },
  {
   "cell_type": "raw",
   "metadata": {},
   "source": [
    "[CREATE a turtlebot with top camera primatic or downscale the people so that the turtlebot can see their faces]"
   ]
  },
  {
   "cell_type": "markdown",
   "metadata": {},
   "source": [
    "The exam will be with a turtlebot in an obstacle course, like so. Bear in mind that you can move the robot by hand to the different test locations; It only counts if the tasks are met, not if they are met in one go, unless you want full marks:<br>\n",
    "<ul>\n",
    "<li>First, it will have to detect the faces of the two persons in front and recognise one</li>[2pt]\n",
    "<li>Look for a red ball and go towards it.</li>[1pt]\n",
    "<li>Then, look for a yellow line and follow it until you reach the green star</li>[2pt]\n",
    "<li>Then, look for a person and track them, following them until you go over a blue star</li>[2pt]\n",
    "<li>Then, you have to search for a table with objects and go towards it</li>[1pt]\n",
    "<li>Then, recognise all the objects on the table</li>[2pt]\n",
    "<li>Extra Point if the robot does all this in one go.</li>[EXTRA +1pt]\n",
    "</ul>"
   ]
  }
 ],
 "metadata": {
  "kernelspec": {
   "display_name": "Python 3",
   "language": "python",
   "name": "python3"
  },
  "language_info": {
   "codemirror_mode": {
    "name": "ipython",
    "version": 3
   },
   "file_extension": ".py",
   "mimetype": "text/x-python",
   "name": "python",
   "nbconvert_exporter": "python",
   "pygments_lexer": "ipython3",
   "version": "3.6.1"
  }
 },
 "nbformat": 4,
 "nbformat_minor": 1
}
