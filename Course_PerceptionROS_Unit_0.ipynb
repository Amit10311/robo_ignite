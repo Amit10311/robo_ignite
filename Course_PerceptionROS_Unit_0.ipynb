{
 "cells": [
  {
   "cell_type": "markdown",
   "metadata": {
    "collapsed": true
   },
   "source": [
    "# Unit 0: Presentation in ROS"
   ]
  },
  {
   "cell_type": "markdown",
   "metadata": {},
   "source": [
    "When we think of robotics, we all think of robots that recognise different people, follow them, can tell you if they are seeing a tomato or a cup, and can move around like any other form of life on this planet.\n",
    "\n",
    "But, actually, this has been the main battle in Robotics since the 70's. In reality, it is very difficult for a robot to tell the difference between a person and any other object, or know if John or Sakura is saying **<i>hi</i>**. It takes a lot of work to perform just one of those tasks.\n",
    "\n",
    "Fortunately for all of us, ROS is here to help. Thanks to its package system, you are able to use the work of countless other roboticists before you, to have a robot do all those things in a relatively short period of time."
   ]
  },
  {
   "cell_type": "markdown",
   "metadata": {},
   "source": [
    "## Working Example: Mira Robot Follows the Ball"
   ]
  },
  {
   "cell_type": "markdown",
   "metadata": {},
   "source": [
    "In the simulation on the right, you can see a small egg-shaped robot called <a href=\"https://www.youtube.com/watch?v=0vfuOW1tsX0\">Mira</a>. That robot is running a small colour red tracking program. This means that she will try to follow the red ball that she has in front of her. So, you are going to move the ball around and see how she tries to follow it."
   ]
  },
  {
   "cell_type": "markdown",
   "metadata": {},
   "source": [
    "### Step 1: Open the graphical tools interface"
   ]
  },
  {
   "cell_type": "markdown",
   "metadata": {},
   "source": [
    "Click on the Graphical Interface Icon:"
   ]
  },
  {
   "cell_type": "markdown",
   "metadata": {
    "caption": "Graphical Tools Icon",
    "image": true,
    "name": "font-awesome_desktop",
    "width": "1.3cm"
   },
   "source": [
    "<img src=\"img/font-awesome_desktop.png\">"
   ]
  },
  {
   "cell_type": "markdown",
   "metadata": {},
   "source": [
    "This will show you a tiny gui with the Mira Robot camera. It should show you a red ball with a red square around it. This means she has detected the ball."
   ]
  },
  {
   "cell_type": "markdown",
   "metadata": {
    "caption": "Red ball with blob box in MiraRobot camera ",
    "image": true,
    "name": "perception_unit0_balldetect",
    "width": "6cm"
   },
   "source": [
    "<img src=\"img/perception_unit0_balldetect.png\"/>"
   ]
  },
  {
   "cell_type": "markdown",
   "metadata": {},
   "source": [
    "## Step 2: Move the red ball with the keyboard"
   ]
  },
  {
   "cell_type": "markdown",
   "metadata": {},
   "source": [
    "<table style=\"float:left;background: #407EAF\">\n",
    "<tr>\n",
    "<th>\n",
    "<p class=\"transparent\">Execute in WebShell #1</p>\n",
    "</th>\n",
    "</tr>\n",
    "</table>"
   ]
  },
  {
   "cell_type": "code",
   "execution_count": null,
   "metadata": {
    "collapsed": true
   },
   "outputs": [],
   "source": [
    "roslaunch blob_tracking move_ball_keyboard.launch"
   ]
  },
  {
   "cell_type": "markdown",
   "metadata": {},
   "source": [
    "By executing this, you can now move the red ball as you would a normal robot. You can lower the speed of the movement by pressing the keyboard key \"Z,\" slightly lowering the speed each time you press it. The basic keys to move the ball are the following:"
   ]
  },
  {
   "cell_type": "markdown",
   "metadata": {},
   "source": [
    "<table style=\"width:100%\">\n",
    "  \n",
    "  <tr>\n",
    "    <th>\n",
    "    <figure>\n",
    "        <img src=\"img/key_i.png\"width=\"40\"></img>\n",
    "        \n",
    "    </figure>\n",
    "    </th>\n",
    "    <th>\n",
    "    <p style=\"text-align: center;\">Move forward</p>\n",
    "    </th> \n",
    "  </tr>\n",
    "  <tr>\n",
    "    <th>\n",
    "    <figure>\n",
    "        <img src=\"img/key_comma.png\"width=\"40\"></img>\n",
    "        \n",
    "    </figure>\n",
    "    </th>\n",
    "    <th>\n",
    "    <p style=\"text-align: center;\">Move backward</p>\n",
    "    </th> \n",
    "  </tr>\n",
    "  <tr>\n",
    "    <th>\n",
    "    <figure>\n",
    "        <img src=\"img/key_j.png\"width=\"40\"></img>\n",
    "        \n",
    "    </figure>\n",
    "    </th>\n",
    "    <th>\n",
    "    <p style=\"text-align: center;\">Turn left and Backward</p>\n",
    "    </th> \n",
    "  </tr>\n",
    "  <tr>\n",
    "    <th>\n",
    "    <figure>\n",
    "        <img src=\"img/key_l.png\"width=\"40\"></img>\n",
    "        \n",
    "    </figure>\n",
    "    </th>\n",
    "    <th>\n",
    "    <p style=\"text-align: center;\">Turn right and Forward</p>\n",
    "    </th> \n",
    "  </tr>\n",
    "  <tr>\n",
    "    <th>\n",
    "    <figure>\n",
    "        <img src=\"img/key_k.png\"width=\"40\"></img>\n",
    "        \n",
    "    </figure>\n",
    "    </th>\n",
    "    <th>\n",
    "    <p style=\"text-align: center;\">Stop</p>\n",
    "    </th> \n",
    "  </tr>\n",
    "  <tr>\n",
    "    <th>\n",
    "    <figure>\n",
    "        <img src=\"img/key_q.png\"width=\"40\"></img>\n",
    "        <img src=\"img/key_z.png\"width=\"40\"></img>\n",
    "        \n",
    "    </figure>\n",
    "    </th>\n",
    "    <th>\n",
    "    <p style=\"text-align: center;\">Increase / Decrease Speed</p>\n",
    "    </th> \n",
    "  </tr>\n",
    "  \n",
    "</table>"
   ]
  },
  {
   "cell_type": "markdown",
   "metadata": {},
   "source": [
    "## Step 3: Now just have fun"
   ]
  },
  {
   "cell_type": "markdown",
   "metadata": {},
   "source": [
    "Move the ball in front of Mira and see how she follows it. See how fast you can go until she loses track of the ball, and try to make her follow it in a 360-degree circle around her."
   ]
  },
  {
   "cell_type": "markdown",
   "metadata": {},
   "source": [
    "You should see something like this:"
   ]
  },
  {
   "cell_type": "markdown",
   "metadata": {
    "caption": "Simulation Left and Camera blob tracking Right",
    "image": true,
    "name": "perception_unit0_demo",
    "width": "15cm"
   },
   "source": [
    "<img src=\"img/perception_unit0_demo.gif\"/>"
   ]
  },
  {
   "cell_type": "markdown",
   "metadata": {},
   "source": [
    "As you can see, this is a very simple example of what you are going to learn in this Course. You will have to build programs that provide perception to robots, and you will run the programs and see the results based on the robots used and the environment provided in the simulation."
   ]
  },
  {
   "cell_type": "markdown",
   "metadata": {},
   "source": [
    "## In this course, you will learn to:"
   ]
  },
  {
   "cell_type": "markdown",
   "metadata": {},
   "source": [
    "\n",
    "* Use OpenCV with ROS\n",
    "* Make robots track objects by their colour blobs\n",
    "* Make robots navigate following floor lines with only a RGB camera\n",
    "* Make robots detect human faces and track them\n",
    "* Make robots recognise different faces\n",
    "* Make robots track a person through a 3D environment\n",
    "* Make robots recognise flat surfaces, like tables where objects might be placed\n",
    "* Make robots recognise objects and track them in a 3D space with PointCloudSensors\n"
   ]
  },
  {
   "cell_type": "markdown",
   "metadata": {},
   "source": [
    "## How will you learn all this? "
   ]
  },
  {
   "cell_type": "markdown",
   "metadata": {},
   "source": [
    "All Robot Ignite Courses are based on hands-on learning because we have experienced that it is the best and fastest way to learn about robotics.<br>\n",
    "That's why to learn all the above mentioned topics, you will work with different robots and environments.<br>\n",
    "You will work with:"
   ]
  },
  {
   "cell_type": "markdown",
   "metadata": {},
   "source": [
    "\n",
    "* Mira Robot for Blob Tracking\n",
    "* TurtleBot for line following\n",
    "* Fetch Robot for people and object tracking, and detection in different environments.\n",
    "* Aibo Robot for the Final Project\n"
   ]
  },
  {
   "cell_type": "markdown",
   "metadata": {},
   "source": [
    "Mira Robot:"
   ]
  },
  {
   "cell_type": "markdown",
   "metadata": {
    "caption": "Mira Robot",
    "image": true,
    "name": "perception_unit1_miraball1",
    "width": "10cm"
   },
   "source": [
    "<img src=\"img/perception_unit1_miraball1.png\"/>"
   ]
  },
  {
   "cell_type": "markdown",
   "metadata": {},
   "source": [
    "Turtlebot:"
   ]
  },
  {
   "cell_type": "markdown",
   "metadata": {
    "caption": "Turtlebot Robot",
    "image": true,
    "name": "perception_unit2_linefollower1",
    "width": "15cm"
   },
   "source": [
    "<img src=\"img/perception_unit2_linefollower1.png\"/>"
   ]
  },
  {
   "cell_type": "markdown",
   "metadata": {},
   "source": [
    "Fetch:"
   ]
  },
  {
   "cell_type": "markdown",
   "metadata": {
    "caption": "Fetch Robot",
    "image": true,
    "name": "perception_unit3_demo",
    "width": "10cm"
   },
   "source": [
    "<img src=\"img/perception_unit3_demo.png\"/>"
   ]
  },
  {
   "cell_type": "markdown",
   "metadata": {},
   "source": [
    "Fetch 2:"
   ]
  },
  {
   "cell_type": "markdown",
   "metadata": {
    "caption": "Fetch Robot with people models",
    "image": true,
    "name": "perception_unit4_peopleintro",
    "width": "10cm"
   },
   "source": [
    "<img src=\"img/perception_unit4_peopleintro.png\"/>"
   ]
  },
  {
   "cell_type": "markdown",
   "metadata": {},
   "source": [
    "Aibo:"
   ]
  },
  {
   "cell_type": "markdown",
   "metadata": {
    "caption": "Aibo Robot",
    "image": true,
    "name": "perception_proyect_aibopresentation",
    "width": "10cm"
   },
   "source": [
    "<img src=\"img/perception_proyect_aibopresentation.png\" />"
   ]
  },
  {
   "cell_type": "markdown",
   "metadata": {},
   "source": [
    "## Requirements"
   ]
  },
  {
   "cell_type": "markdown",
   "metadata": {},
   "source": [
    "It's essential that before starting this course, you know the following:<br>\n",
    "\n",
    "* ROS Basics: You need to know all the basics of ROS to be able to follow this course. If you don't, please do our **ROS Basics in 5 days Course.** \n",
    "* It is highly advisable to have done the Robot Ignite Courses for **TF and URDF** to be able to understand everything is done in this course. You will be able to do the basic exercises, but will struggle a bit more in the EXTRA exercises.\n",
    "* Basic knowledge of **Python**\n",
    "* Robotics Perception Basic Knowledge (only for a smoother experience)\n",
    "* Some knowledge of how **PIDs** work"
   ]
  },
  {
   "cell_type": "markdown",
   "metadata": {},
   "source": [
    "## Special thanks"
   ]
  },
  {
   "cell_type": "markdown",
   "metadata": {},
   "source": [
    "We would like to thank the following individuals and organizations:<br>\n",
    "\n",
    "* The Guys at <a href=\"http://staff.lincoln.ac.uk\">University of Lincoln</a> that created the people tracking technology you are going to learn about in this course. Here you have the <a href=\"http://eprints.lincoln.ac.uk/17545/1/dondrup.pdf\">original paper</a>.\n",
    "\n",
    "* <a href=\"https://twitter.com/alonsorobots\">Alonso Martinez</a> for his amazing robot MiraRobot, of which we were delighted to generate a simulation.\n",
    "\n",
    "* Face Recognition module creators https://github.com/ageitgey, https://github.com/ageitgey/face_recognition. \n",
    "\n",
    "* Thank you for this amazing blob tracking code and explanations: http://www.transistor.io/color-blob-tracking-with-ros.html\n",
    "\n",
    "*  The barebones on which was built the Aibo simulation, thanks to <a href=\"https://github.com/sergibada\">Sergi Bada</a>,<a href=\"https://github.com/sergibada/aiboers7_description\">AiboDescriptionOriginal Package</a>\n",
    "\n",
    "* Aibo Bone, extracted from the <a href=\"https://www.thingiverse.com/thing:2141985\">model,</a> generated by <a href=\"https://www.thingiverse.com/dani_b/about\">Dany_b</a>.\n",
    "\n",
    "* <a href=\"https://github.com/introlab\">The introlab team</a>, who created the object recognition system you are going to learn to use: http://introlab.github.io/find-object/\n",
    "\n",
    "* The <a href=\"http://www.makehuman.org/\">MakerHuman Software</a> used for the creation of the people in the different simulations.\n",
    "\n",
    "* This course wouldn't have been possible without the knowledge and work of the <a href=\"http://www.ros.org/\">ROS Community</a>, <a href=\"https://www.osrfoundation.org/\">OSRF</a>, and <a href=\"http://gazebosim.org/\">Gazebo Team</a>"
   ]
  },
  {
   "cell_type": "markdown",
   "metadata": {},
   "source": [
    "## So let's start right away on perception with ROS!"
   ]
  }
 ],
 "metadata": {
  "anaconda-cloud": {},
  "kernelspec": {
   "display_name": "Python [Root]",
   "language": "python",
   "name": "Python [Root]"
  },
  "language_info": {
   "codemirror_mode": {
    "name": "ipython",
    "version": 2
   },
   "file_extension": ".py",
   "mimetype": "text/x-python",
   "name": "python",
   "nbconvert_exporter": "python",
   "pygments_lexer": "ipython2",
   "version": "2.7.12"
  },
  "latex_metadata": {
   "chapter": "0 - Presentation in ROS",
   "chapter_title": "Unit 0: Presentation in ROS",
   "course_title": "ROS PERCEPTION IN 5 DAYS"
  }
 },
 "nbformat": 4,
 "nbformat_minor": 1
}
