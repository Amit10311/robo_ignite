{
 "cells": [
  {
   "cell_type": "markdown",
   "metadata": {},
   "source": [
    "# Unit 0: Presentation in ROS"
   ]
  },
  {
   "cell_type": "markdown",
   "metadata": {},
   "source": [
    "Do you want to create a kind of augmented reality visualization in RVIZ for your robots?<br>\n",
    "Do you want to visualize overlapping menus and data information on top of your robot, like in the anime Mecha robot displays?<br>\n",
    "Well, this is the course for you!"
   ]
  },
  {
   "cell_type": "markdown",
   "metadata": {},
   "source": [
    "<img src=\"img/rvizmarkers_overlaycomplete.gif\"/>"
   ]
  },
  {
   "cell_type": "markdown",
   "metadata": {},
   "source": [
    "Visualizing data in the correct way is vital for extracting meaningful conclusions. This is especially true in Robotics.\n",
    "One of the problems you tend to have in robotics is knowing what the robot is actually seeing, what is the virtual representation of the world in his mind. It's also very important to represent visually complex data in one place only. That's why RVIZ and all its markers and plugins have made robotics more user-friendly and powerful than ever before!<br>"
   ]
  },
  {
   "cell_type": "markdown",
   "metadata": {},
   "source": [
    "## Let's Play"
   ]
  },
  {
   "cell_type": "markdown",
   "metadata": {},
   "source": [
    "In the simulation that you have running, you can see a person following a circular trajectory and a tiny, spherical green robot floating, like so:"
   ]
  },
  {
   "cell_type": "markdown",
   "metadata": {},
   "source": [
    "<img src=\"img/rvizmarkers_demointro1.png\"/>"
   ]
  },
  {
   "cell_type": "markdown",
   "metadata": {},
   "source": [
    "Click on the GraphicalTools icon:"
   ]
  },
  {
   "cell_type": "markdown",
   "metadata": {},
   "source": [
    "<img src=\"img/font-awesome_desktop.png\">"
   ]
  },
  {
   "cell_type": "markdown",
   "metadata": {},
   "source": [
    "You should see something like this:"
   ]
  },
  {
   "cell_type": "markdown",
   "metadata": {},
   "source": [
    "<img src=\"img/rvizmarkers_introdemoresult.gif\"/>"
   ]
  },
  {
   "cell_type": "markdown",
   "metadata": {},
   "source": [
    "Now place the Graphical Tools window to one side of the screen and the main page on the other side, so you can see both at the same time."
   ]
  },
  {
   "cell_type": "markdown",
   "metadata": {},
   "source": [
    "<img src=\"img/rvizmarkers_introdemo2.png\"/>"
   ]
  },
  {
   "cell_type": "markdown",
   "metadata": {},
   "source": [
    "Now, execute the following command in a Web Shell:"
   ]
  },
  {
   "cell_type": "markdown",
   "metadata": {},
   "source": [
    "<table style=\"float:left;background: #407EAF\">\n",
    "<tr>\n",
    "<th>\n",
    "<p class=\"transparent\">Execute in WebShell #1</p><br>\n",
    "roslaunch haro_description move_haro_keyboard.launch\n",
    "</th>\n",
    "</tr>\n",
    "</table>"
   ]
  },
  {
   "cell_type": "markdown",
   "metadata": {},
   "source": [
    "This command allows you to move the robot around with the keyboard. You can press the keys <b>t</b> to go UP, and <b>b</b> to go DOWN. Then <b>i</b> for forwards and <b>,</b> for backwards, and so on. It's the classical keyboard teleop functionality."
   ]
  },
  {
   "cell_type": "markdown",
   "metadata": {},
   "source": [
    "<b>Play around and see all that is being displayed on RVIZ.</b>"
   ]
  },
  {
   "cell_type": "markdown",
   "metadata": {},
   "source": [
    "## In this course, you will learn:"
   ]
  },
  {
   "cell_type": "markdown",
   "metadata": {},
   "source": [
    "<ul>\n",
    "<li>How to use Basic RVIZ Markers</li>\n",
    "<li>How to create BoundingBoxes Arrays that change dynamically</li>\n",
    "<li>How to add Overlay text, graphs, and menus in RVIZ</li>\n",
    "<li>How to draw TFTRajectories, RobotFootsteps, and occupancy grids that change based on real robot data</li>\n",
    "<li>How to draw pictograms from FontAwsome to represent detections and real objects in the world</li>\n",
    "<li>How to represent TwistStamped commands issued to the robot</li>\n",
    "<li>How to create Interactive displays in RVIZ that allow you to execute programs from RVIZ with custom icons</li>\n",
    "<li>How to record videos of RVIZ</li>\n",
    "</ul>"
   ]
  },
  {
   "cell_type": "markdown",
   "metadata": {},
   "source": [
    "## How will you learn all this? "
   ]
  },
  {
   "cell_type": "markdown",
   "metadata": {},
   "source": [
    "Like always, all the courses in Robot Ignite Academy are based on learning through hands-on experience.<br>\n",
    "In this case, you will work with a simulated model of the GundamSeries Robot, named Haro, a 3D model courtesy of <a href=\"https://sketchfab.com/models/7d22e515167d4af3a11c71f3b2ae1713#\"><b>Haro (Gundam 00) by KIΣITO, which is licensed under CC Attribution</b></a>.<br>\n",
    "It's a floating robot that can move around space freely."
   ]
  },
  {
   "cell_type": "markdown",
   "metadata": {},
   "source": [
    "<img src=\"img/rvizmarkers_haro.png\"/>"
   ]
  },
  {
   "cell_type": "markdown",
   "metadata": {},
   "source": [
    "## Requirements"
   ]
  },
  {
   "cell_type": "markdown",
   "metadata": {},
   "source": [
    "It's essential that before starting this course, you know the following:<br>\n",
    "<ul>\n",
    "<li>ROS Basics: You need to know all the basics of ROS to be able to follow this course. If you don't, please do our <b>ROS Basics in Five Days course.</b> </li>\n",
    "<li>It is highy advisable to have done the Robot Ignite Courses for <b>TF and URDF robot creation,</b> to be able to understand all that is done in this course.</li>\n",
    "<li>Basic Python knowledge</li>\n",
    "</ul>"
   ]
  },
  {
   "cell_type": "markdown",
   "metadata": {},
   "source": [
    "## Special thanks"
   ]
  },
  {
   "cell_type": "markdown",
   "metadata": {},
   "source": [
    "We have to thank the following individuals and organizations:<br>\n",
    "<ul>\n",
    "<li>\n",
    "The people at <a href=\"http://www.jsk.t.u-tokyo.ac.jp/\">Jouhou System Kougaku laboratory</a>, from <a href=\"http://www.u-tokyo.ac.jp/en/\">The University of Tokyo,</a> that created all the <a href=\"https://github.com/jsk-ros-pkg\">plugins and markers</a> used in this course, except the basic markers.\n",
    "</li>\n",
    "<li>\n",
    "<a href=\"https://sketchfab.com/kyrayamato07\">KIΣITO</a> for its amazing robot, <a href=\"https://sketchfab.com/models/7d22e515167d4af3a11c71f3b2ae1713#\">Haro Model</a>.\n",
    "</li>\n",
    "<li>The <a href=\"http://www.makehuman.org/\">MakerHuman Software</a> used for the creation of the people.\n",
    "<li>This course wouldn't have been possible without the knowledge and work of the <a href=\"http://www.ros.org/\">ROS Community</a>, <a href=\"https://www.osrfoundation.org/\">OSRF</a> and <a href=\"http://gazebosim.org/\">Gazebo Team</a></li>\n",
    "</ul>"
   ]
  }
 ],
 "metadata": {
  "kernelspec": {
   "display_name": "Python 3",
   "language": "python",
   "name": "python3"
  },
  "language_info": {
   "codemirror_mode": {
    "name": "ipython",
    "version": 3
   },
   "file_extension": ".py",
   "mimetype": "text/x-python",
   "name": "python",
   "nbconvert_exporter": "python",
   "pygments_lexer": "ipython3",
   "version": "3.6.1"
  }
 },
 "nbformat": 4,
 "nbformat_minor": 1
}
