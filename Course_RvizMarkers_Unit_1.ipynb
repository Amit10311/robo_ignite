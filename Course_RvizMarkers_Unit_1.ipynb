{
 "cells": [
  {
   "cell_type": "markdown",
   "metadata": {},
   "source": [
    "# Unit 1: Basic Markers"
   ]
  },
  {
   "cell_type": "markdown",
   "metadata": {},
   "source": [
    "To understand why you have to learn more than just the <a href=\"http://wiki.ros.org/rviz/DisplayTypes/Marker\">plain old RVIZ markers</a>, what better way than to use them yourself?<br>\n",
    "Don't misunderstand. Most of the markers in RVIZ are based on these basic markers. But the same way you don't normally write code in assembler, you need more powerful, complex markers to represent complex data.<br>\n",
    "You can make anything with basic markers, but it will take longer to get the same result as using higher level markers."
   ]
  },
  {
   "cell_type": "markdown",
   "metadata": {},
   "source": [
    "## First, get a feel for the simulation"
   ]
  },
  {
   "cell_type": "markdown",
   "metadata": {},
   "source": [
    "<img src=\"img/rviz_markers_unit1_intro.png\"/>"
   ]
  },
  {
   "cell_type": "markdown",
   "metadata": {},
   "source": [
    "This is the simulation in which you are going to learn all the elements of this course, so you might as well understand a bit about how it works.<br>\n",
    "You have two elements: <b>Haro the robot and StandingPerson</b>.<br>\n",
    "Both can be moved through publishing Twist messages and both publish their TFs so that you can visualise them in RVIZ.<br>\n",
    "TFs will play an important role in this course because, with that data, you will calculate distances, heights, and positions.<br>\n",
    "In real systems, you would use perception, AI, and navigation systems to obtain that TF data at the end. Here it is already given to you. "
   ]
  },
  {
   "cell_type": "markdown",
   "metadata": {},
   "source": [
    "The topics to move the HaroRobot and StandingPerson are:"
   ]
  },
  {
   "cell_type": "raw",
   "metadata": {},
   "source": [
    "/haro/cmd_vel                                       \n",
    "/person_standing/cmd_vel"
   ]
  },
  {
   "cell_type": "markdown",
   "metadata": {},
   "source": [
    "You can publish directly when needed in python scripts to move them.<br>\n",
    "To test it, it may also be useful to move them through launch file keyboard teleop:"
   ]
  },
  {
   "cell_type": "markdown",
   "metadata": {},
   "source": [
    "<p style=\"background:#EE9023;color:white;\">Exercise U1-1</p>"
   ]
  },
  {
   "cell_type": "markdown",
   "metadata": {},
   "source": [
    "First, open an empty RVIZ and add the TF elements, selecting the <b>world</b> frame as the fixed frame."
   ]
  },
  {
   "cell_type": "markdown",
   "metadata": {},
   "source": [
    "<p style=\"background:red;color:white;\">Warning</p>"
   ]
  },
  {
   "cell_type": "markdown",
   "metadata": {},
   "source": [
    "The Robot Description is **NOT** in the typical **robot_description** variable. It's in its own namespace, and therefore, you will have to put **/haro/robot_description** instead. You should see something like this:"
   ]
  },
  {
   "cell_type": "markdown",
   "metadata": {},
   "source": [
    "<img src=\"img/haro_model.png\"/>"
   ]
  },
  {
   "cell_type": "markdown",
   "metadata": {},
   "source": [
    "<table style=\"float:left;background: #407EAF\">\n",
    "<tr>\n",
    "<th>\n",
    "<p class=\"transparent\">Execute in WebShell #1 to move Haro</p><br>\n",
    "roslaunch haro_description move_haro_keyboard.launch\n",
    "</th>\n",
    "</tr>\n",
    "</table>"
   ]
  },
  {
   "cell_type": "markdown",
   "metadata": {},
   "source": [
    "<table style=\"float:left;background: #407EAF\">\n",
    "<tr>\n",
    "<th>\n",
    "<p class=\"transparent\">Execute in WebShell #2 to move Person</p><br>\n",
    "roslaunch person_sim move_person_standing.launch\n",
    "</th>\n",
    "</tr>\n",
    "</table>"
   ]
  },
  {
   "cell_type": "markdown",
   "metadata": {},
   "source": [
    "Move HaroRobot and StandingPerson Around to get a feel for them."
   ]
  },
  {
   "cell_type": "markdown",
   "metadata": {},
   "source": [
    "<p style=\"background:#EE9023;color:white;\">END Exercise U1-1</p>"
   ]
  },
  {
   "cell_type": "markdown",
   "metadata": {},
   "source": [
    "## Create Your First Basic Marker"
   ]
  },
  {
   "cell_type": "markdown",
   "metadata": {},
   "source": [
    "Markers can have many shapes, colors, and properties. In this case, you are going to create a publisher that publishes data of a spherical-shaped marker."
   ]
  },
  {
   "cell_type": "markdown",
   "metadata": {},
   "source": [
    "### Set the environment"
   ]
  },
  {
   "cell_type": "markdown",
   "metadata": {},
   "source": [
    "Create a package called <b>my_rviz_markers</b>, where you will store all the files for this course."
   ]
  },
  {
   "cell_type": "markdown",
   "metadata": {},
   "source": [
    "<table style=\"float:left;background: #407EAF\">\n",
    "<tr>\n",
    "<th>\n",
    "<p class=\"transparent\">Execute in WebShell #2 to move Person</p><br>\n",
    "roscd;cd ../src<br>\n",
    "catkin_create_pkg my_rviz_markers rospy\n",
    "</th>\n",
    "</tr>\n",
    "</table>"
   ]
  },
  {
   "cell_type": "markdown",
   "metadata": {},
   "source": [
    "You will obviously add more packages when you need them."
   ]
  },
  {
   "cell_type": "markdown",
   "metadata": {},
   "source": [
    "### Create the Script that publishes the Marker's data"
   ]
  },
  {
   "cell_type": "markdown",
   "metadata": {},
   "source": [
    "You are going to publish the message type <b>Marker</b> from package <b>visualization_msgs</b>. It has this structure:"
   ]
  },
  {
   "cell_type": "code",
   "execution_count": null,
   "metadata": {
    "collapsed": true
   },
   "outputs": [],
   "source": [
    "\"\"\"\n",
    "[visualization_msgs/Marker]:                                                                                                                                              \n",
    "uint8 ARROW=0                                                                                                                                                             \n",
    "uint8 CUBE=1                                                                                                                                                              \n",
    "uint8 SPHERE=2                                                                                                                                                            \n",
    "uint8 CYLINDER=3                                                                                                                                                          \n",
    "uint8 LINE_STRIP=4                                                                                                                                                        \n",
    "uint8 LINE_LIST=5                                                                                                                                                         \n",
    "uint8 CUBE_LIST=6                                                                                                                                                         \n",
    "uint8 SPHERE_LIST=7                                                                                                                                                       \n",
    "uint8 POINTS=8                                                                                                                                                            \n",
    "uint8 TEXT_VIEW_FACING=9                                                                                                                                                  \n",
    "uint8 MESH_RESOURCE=10                                                                                                                                                    \n",
    "uint8 TRIANGLE_LIST=11                                                                                                                                                    \n",
    "uint8 ADD=0                                                                                                                                                               \n",
    "uint8 MODIFY=0                                                                                                                                                            \n",
    "uint8 DELETE=2                                                                                                                                                            \n",
    "std_msgs/Header header                                                                                                                                                    \n",
    "  uint32 seq                                                                                                                                                              \n",
    "  time stamp                                                                                                                                                              \n",
    "  string frame_id                                                                                                                                                         \n",
    "string ns                                                                                                                                                                 \n",
    "int32 id                                                                                                                                                                  \n",
    "int32 type                                                                                                                                                                \n",
    "int32 action                                                                                                                                                              \n",
    "geometry_msgs/Pose pose                                                                                                                                                   \n",
    "  geometry_msgs/Point position                                                                                                                                            \n",
    "    float64 x                                                                                                                                                             \n",
    "    float64 y                                                                                                                                                             \n",
    "    float64 z                                                                                                                                                             \n",
    "  geometry_msgs/Quaternion orientation                                                                                                                                    \n",
    "    float64 x                                                                                                                                                             \n",
    "    float64 y                                                                                                                                                             \n",
    "    float64 z                                                                                                                                                             \n",
    "    float64 w                                                                                                                                                             \n",
    "geometry_msgs/Vector3 scale                                                                                                                                               \n",
    "  float64 x                                                                                                                                                               \n",
    "  float64 y                                                                                                                                                               \n",
    "  float64 z                                                                                                                                                               \n",
    "std_msgs/ColorRGBA color                                                                                                                                                  \n",
    "  float32 r                                                                                                                                                               \n",
    "  float32 g                                                                                                                                                               \n",
    "  float32 b \n",
    "duration lifetime                                                                                                                                                         \n",
    "bool frame_locked                                                                                                                                                         \n",
    "geometry_msgs/Point[] points                                                                                                                                              \n",
    "  float64 x                                                                                                                                                               \n",
    "  float64 y                                                                                                                                                               \n",
    "  float64 z                                                                                                                                                               \n",
    "std_msgs/ColorRGBA[] colors                                                                                                                                               \n",
    "  float32 r                                                                                                                                                               \n",
    "  float32 g                                                                                                                                                               \n",
    "  float32 b                                                                                                                                                               \n",
    "  float32 a                                                                                                                                                               \n",
    "string text                                                                                                                                                               \n",
    "string mesh_resource                                                                                                                                                      \n",
    "bool mesh_use_embedded_materials\n",
    "\"\"\""
   ]
  },
  {
   "cell_type": "markdown",
   "metadata": {},
   "source": [
    "We will talk about all these variables now that you have to create a python script. Let's talk about the necessary pieces of code:"
   ]
  },
  {
   "cell_type": "code",
   "execution_count": null,
   "metadata": {
    "collapsed": true
   },
   "outputs": [],
   "source": [
    "#!/usr/bin/env python\n",
    "\n",
    "import rospy\n",
    "from visualization_msgs.msg import Marker\n",
    "from geometry_msgs.msg import Point"
   ]
  },
  {
   "cell_type": "markdown",
   "metadata": {},
   "source": [
    "So, here you import the Marker type and the Point type necessary for certain operations."
   ]
  },
  {
   "cell_type": "code",
   "execution_count": null,
   "metadata": {
    "collapsed": true
   },
   "outputs": [],
   "source": [
    "marker_objectlisher = rospy.Publisher('/marker_basic', Marker, queue_size=1)"
   ]
  },
  {
   "cell_type": "markdown",
   "metadata": {},
   "source": [
    "Then, you need to create a publisher that publishes this marker in a topic. The name of the topic is irrelevant because you will select that topic in the RVIZ elements. Give it a descriptive name."
   ]
  },
  {
   "cell_type": "code",
   "execution_count": null,
   "metadata": {
    "collapsed": true
   },
   "outputs": [],
   "source": [
    "marker_object = Marker()\n",
    "marker_object.header.frame_id = \"/world\"\n",
    "marker_object.header.stamp    = rospy.get_rostime()\n",
    "marker_object.ns = \"haro\"\n",
    "marker_object.id = index\n",
    "marker_object.type = Marker.SPHERE\n",
    "marker_object.action = Marker.ADD"
   ]
  },
  {
   "cell_type": "markdown",
   "metadata": {},
   "source": [
    "Here you create the Marker object, and fill in some interesting fields.<br>\n",
    "<ul>\n",
    "<li>header: The header is really important for RVIZ to know, whether the message is old or not; and also to know in which frame to represent it. In this case, it is referenced to the world frame. You are getting the current time to make it as fresh as the message can be.</li>\n",
    "<li>ns: The namespace is only for filtering reasons, in case you want to know where this message comes from.</li>\n",
    "<li>id: Is the index that identifies each Marker. This is needed because, with the same marker, you can add multiple markers, and you have to give them a unique id.</li>\n",
    "<li><b>type</b>: This is one of the most important variables. It sets the shape and special properties of the marker. Here you decide if it will be a sphere, square, line, or any of the other options stated in the message definition:<br> \n",
    "uint8 ARROW=0<br>                                       \n",
    "uint8 CUBE=1<br>                                           \n",
    "uint8 SPHERE=2<br>                                         \n",
    "uint8 CYLINDER=3<br>                                       \n",
    "uint8 LINE_STRIP=4<br>                                     \n",
    "uint8 LINE_LIST=5<br>                                     \n",
    "uint8 CUBE_LIST=6<br>                                     \n",
    "uint8 SPHERE_LIST=7<br>                                   \n",
    "uint8 POINTS=8<br>                                         \n",
    "uint8 TEXT_VIEW_FACING=9<br>                               \n",
    "uint8 MESH_RESOURCE=10<br>                                 \n",
    "uint8 TRIANGLE_LIST=11<br>\n",
    "</li>\n",
    "<li><b>action</b>: This is also a very important field. It's used for stating what will happen when you publish this Marker message. It can take these values:<br>\n",
    "uint8 ADD=0, It will add the marker to the scene.<br>                                          \n",
    "uint8 MODIFY=0, It will modify the one existing in the scene.<br>                                         \n",
    "uint8 DELETE=2, It will delete a previously added element.<br>\n",
    "</li>\n",
    "</ul>"
   ]
  },
  {
   "cell_type": "code",
   "execution_count": 1,
   "metadata": {},
   "outputs": [
    {
     "ename": "NameError",
     "evalue": "name 'Point' is not defined",
     "output_type": "error",
     "traceback": [
      "\u001b[1;31m---------------------------------------------------------------------------\u001b[0m",
      "\u001b[1;31mNameError\u001b[0m                                 Traceback (most recent call last)",
      "\u001b[1;32m<ipython-input-1-5b18fb7998ea>\u001b[0m in \u001b[0;36m<module>\u001b[1;34m()\u001b[0m\n\u001b[1;32m----> 1\u001b[1;33m \u001b[0mmy_point\u001b[0m \u001b[1;33m=\u001b[0m \u001b[0mPoint\u001b[0m\u001b[1;33m(\u001b[0m\u001b[1;33m)\u001b[0m\u001b[1;33m\u001b[0m\u001b[0m\n\u001b[0m\u001b[0;32m      2\u001b[0m \u001b[0mmy_point\u001b[0m\u001b[1;33m.\u001b[0m\u001b[0mz\u001b[0m \u001b[1;33m=\u001b[0m \u001b[0mz_val\u001b[0m\u001b[1;33m\u001b[0m\u001b[0m\n\u001b[0;32m      3\u001b[0m \u001b[0mmarker_object\u001b[0m\u001b[1;33m.\u001b[0m\u001b[0mpose\u001b[0m\u001b[1;33m.\u001b[0m\u001b[0mposition\u001b[0m \u001b[1;33m=\u001b[0m \u001b[0mmy_point\u001b[0m\u001b[1;33m\u001b[0m\u001b[0m\n\u001b[0;32m      4\u001b[0m \u001b[0mmarker_object\u001b[0m\u001b[1;33m.\u001b[0m\u001b[0mpose\u001b[0m\u001b[1;33m.\u001b[0m\u001b[0morientation\u001b[0m\u001b[1;33m.\u001b[0m\u001b[0mx\u001b[0m \u001b[1;33m=\u001b[0m \u001b[1;36m0\u001b[0m\u001b[1;33m\u001b[0m\u001b[0m\n\u001b[0;32m      5\u001b[0m \u001b[0mmarker_object\u001b[0m\u001b[1;33m.\u001b[0m\u001b[0mpose\u001b[0m\u001b[1;33m.\u001b[0m\u001b[0morientation\u001b[0m\u001b[1;33m.\u001b[0m\u001b[0my\u001b[0m \u001b[1;33m=\u001b[0m \u001b[1;36m0\u001b[0m\u001b[1;33m\u001b[0m\u001b[0m\n",
      "\u001b[1;31mNameError\u001b[0m: name 'Point' is not defined"
     ]
    }
   ],
   "source": [
    "my_point = Point()\n",
    "my_point.z = z_val\n",
    "marker_object.pose.position = my_point\n",
    "marker_object.pose.orientation.x = 0\n",
    "marker_object.pose.orientation.y = 0\n",
    "marker_object.pose.orientation.z = 0\n",
    "marker_object.pose.orientation.w = 1.0\n",
    "marker_object.scale.x = 1.0\n",
    "marker_object.scale.y = 1.0\n",
    "marker_object.scale.z = 1.0"
   ]
  },
  {
   "cell_type": "markdown",
   "metadata": {},
   "source": [
    "Here you state the <b>Pose</b> of the Marker. In this case, it would be the position = [0,0,0] and the orientation using quaternions, and no rotation is applied. You will also state that the scale will be one to one. You will use this to change the marker's size."
   ]
  },
  {
   "cell_type": "code",
   "execution_count": null,
   "metadata": {
    "collapsed": true
   },
   "outputs": [],
   "source": [
    "marker_object.color.r = 0.0\n",
    "marker_object.color.g = 0.0\n",
    "marker_object.color.b = 1.0\n",
    "# This has to be; otherwise, it will be transparent\n",
    "marker_object.color.a = 1.0\n",
    "\n",
    "# If we want it forever, 0, otherwise seconds before disappearing\n",
    "marker_object.lifetime = rospy.Duration(0)"
   ]
  },
  {
   "cell_type": "markdown",
   "metadata": {},
   "source": [
    "Here you state the color (blue, in this case) and transparency (a) of the marker. You also state how long it will be visible in the RVIZ scene. If you state Duration zero, then it will stay there forever, until it's deleted."
   ]
  },
  {
   "cell_type": "code",
   "execution_count": null,
   "metadata": {
    "collapsed": true
   },
   "outputs": [],
   "source": [
    "marker_object.mesh_resource = \"package://my_rviz_markers/meshes/my_custom.dae\";\n",
    "marker_object.mesh_use_embedded_materials = True"
   ]
  },
  {
   "cell_type": "markdown",
   "metadata": {},
   "source": [
    "This is only necessary if you are going to use the type <b>MESH_RESOURCE</b>. Here you state the package where the dae file is located. You also state if you want to use the materials it has or if you want to use the colors given."
   ]
  },
  {
   "cell_type": "code",
   "execution_count": null,
   "metadata": {
    "collapsed": true
   },
   "outputs": [],
   "source": [
    "self.marker_objectlisher.publish(self.marker_object)"
   ]
  },
  {
   "cell_type": "markdown",
   "metadata": {},
   "source": [
    "And finally, you can publish the marker. It is in this moment that you have to open RVIZ, and add an element called.. You guessed it, <b>Marker</b>. Also notice that there is an option for <b>MarkerArray</b>. This is used when you want to group multiple markers or try to make composed shapes of basic markers more easily."
   ]
  },
  {
   "cell_type": "markdown",
   "metadata": {},
   "source": [
    "<img src=\"img/rvizmarkers_unit1_markerelement.png\"/>"
   ]
  },
  {
   "cell_type": "markdown",
   "metadata": {},
   "source": [
    "Here you have an example code using classes:"
   ]
  },
  {
   "cell_type": "markdown",
   "metadata": {},
   "source": [
    "<p style=\"background:green;color:white;\">basic_marker.py</p>"
   ]
  },
  {
   "cell_type": "code",
   "execution_count": 2,
   "metadata": {},
   "outputs": [
    {
     "ename": "ModuleNotFoundError",
     "evalue": "No module named 'rospy'",
     "output_type": "error",
     "traceback": [
      "\u001b[1;31m---------------------------------------------------------------------------\u001b[0m",
      "\u001b[1;31mModuleNotFoundError\u001b[0m                       Traceback (most recent call last)",
      "\u001b[1;32m<ipython-input-2-f1770731890b>\u001b[0m in \u001b[0;36m<module>\u001b[1;34m()\u001b[0m\n\u001b[0;32m      1\u001b[0m \u001b[1;31m#!/usr/bin/env python\u001b[0m\u001b[1;33m\u001b[0m\u001b[1;33m\u001b[0m\u001b[0m\n\u001b[0;32m      2\u001b[0m \u001b[1;33m\u001b[0m\u001b[0m\n\u001b[1;32m----> 3\u001b[1;33m \u001b[1;32mimport\u001b[0m \u001b[0mrospy\u001b[0m\u001b[1;33m\u001b[0m\u001b[0m\n\u001b[0m\u001b[0;32m      4\u001b[0m \u001b[1;32mfrom\u001b[0m \u001b[0mvisualization_msgs\u001b[0m\u001b[1;33m.\u001b[0m\u001b[0mmsg\u001b[0m \u001b[1;32mimport\u001b[0m \u001b[0mMarker\u001b[0m\u001b[1;33m\u001b[0m\u001b[0m\n\u001b[0;32m      5\u001b[0m \u001b[1;32mfrom\u001b[0m \u001b[0mgeometry_msgs\u001b[0m\u001b[1;33m.\u001b[0m\u001b[0mmsg\u001b[0m \u001b[1;32mimport\u001b[0m \u001b[0mPoint\u001b[0m\u001b[1;33m\u001b[0m\u001b[0m\n",
      "\u001b[1;31mModuleNotFoundError\u001b[0m: No module named 'rospy'"
     ]
    }
   ],
   "source": [
    "#!/usr/bin/env python\n",
    "\n",
    "import rospy\n",
    "from visualization_msgs.msg import Marker\n",
    "from geometry_msgs.msg import Point\n",
    "\n",
    "\n",
    "class MarkerBasics(object):\n",
    "\n",
    "    def __init__(self):\n",
    "        self.marker_objectlisher = rospy.Publisher('/marker_basic', Marker, queue_size=1)\n",
    "        self.rate = rospy.Rate(1)\n",
    "        self.init_marker(index=0,z_val=0)\n",
    "    \n",
    "    def init_marker(self,index=0, z_val=0):\n",
    "        self.marker_object = Marker()\n",
    "        self.marker_object.header.frame_id = \"/world\"\n",
    "        self.marker_object.header.stamp    = rospy.get_rostime()\n",
    "        self.marker_object.ns = \"haro\"\n",
    "        self.marker_object.id = index\n",
    "        self.marker_object.type = Marker.SPHERE\n",
    "        self.marker_object.action = Marker.ADD\n",
    "        \n",
    "        my_point = Point()\n",
    "        my_point.z = z_val\n",
    "        self.marker_object.pose.position = my_point\n",
    "        \n",
    "        self.marker_object.pose.orientation.x = 0\n",
    "        self.marker_object.pose.orientation.y = 0\n",
    "        self.marker_object.pose.orientation.z = 0.0\n",
    "        self.marker_object.pose.orientation.w = 1.0\n",
    "        self.marker_object.scale.x = 1.0\n",
    "        self.marker_object.scale.y = 1.0\n",
    "        self.marker_object.scale.z = 1.0\n",
    "    \n",
    "        self.marker_object.color.r = 0.0\n",
    "        self.marker_object.color.g = 0.0\n",
    "        self.marker_object.color.b = 1.0\n",
    "        # This has to be, otherwise it will be transparent\n",
    "        self.marker_object.color.a = 1.0\n",
    "            \n",
    "        # If we want it for ever, 0, otherwise seconds before desapearing\n",
    "        self.marker_object.lifetime = rospy.Duration(0)\n",
    "    \n",
    "    def start(self):\n",
    "        while not rospy.is_shutdown():\n",
    "            self.marker_objectlisher.publish(self.marker_object)\n",
    "            self.rate.sleep()\n",
    "   \n",
    "\n",
    "if __name__ == '__main__':\n",
    "    rospy.init_node('marker_basic_node', anonymous=True)\n",
    "    markerbasics_object = MarkerBasics()\n",
    "    try:\n",
    "        markerbasics_object.start()\n",
    "    except rospy.ROSInterruptException:\n",
    "        pass\n",
    "    \n"
   ]
  },
  {
   "cell_type": "markdown",
   "metadata": {},
   "source": [
    "<p style=\"background:green;color:white;\">END basic_marker.py</p>"
   ]
  },
  {
   "cell_type": "markdown",
   "metadata": {},
   "source": [
    "<p style=\"background:#EE9023;color:white;\">Exercise U1-2</p>"
   ]
  },
  {
   "cell_type": "markdown",
   "metadata": {},
   "source": [
    "Add the  basic_marker.py to your package and execute it. Then, visualize it in RVIZ.<br>\n",
    "When you are finished, save the RVIZ file in your package in a folder called <b>rviz_config</b> with a name like <b>my_rviz_markers.rviz</b>. You will use this file from now on, so you have all the markers available, if you want them in the same RVIZ config file."
   ]
  },
  {
   "cell_type": "markdown",
   "metadata": {},
   "source": [
    "<p style=\"background:#EE9023;color:white;\">END Exercise U1-2</p>"
   ]
  },
  {
   "cell_type": "markdown",
   "metadata": {},
   "source": [
    "You should have something similar to this:"
   ]
  },
  {
   "cell_type": "markdown",
   "metadata": {},
   "source": [
    "<img src=\"img/rvizmarker_unit1_ex2.png\"/>"
   ]
  },
  {
   "cell_type": "markdown",
   "metadata": {},
   "source": [
    "### Congratulations! You created your very first marker!"
   ]
  },
  {
   "cell_type": "markdown",
   "metadata": {},
   "source": [
    "## Create a custom mesh marker:"
   ]
  },
  {
   "cell_type": "markdown",
   "metadata": {},
   "source": [
    "This is exactly the same as before, but with the additional necessary settings to get the mesh:"
   ]
  },
  {
   "cell_type": "code",
   "execution_count": null,
   "metadata": {
    "collapsed": true
   },
   "outputs": [],
   "source": [
    "marker_object.mesh_resource = \"package://my_rviz_markers/meshes/my_custom.dae\";\n",
    "marker_object.mesh_use_embedded_materials = True"
   ]
  },
  {
   "cell_type": "markdown",
   "metadata": {},
   "source": [
    "<p style=\"background:#EE9023;color:white;\">Exercise U1-3</p>"
   ]
  },
  {
   "cell_type": "markdown",
   "metadata": {},
   "source": [
    "Upload a dae file to your meshes folder inside your package, and change the sphere of exercise U1-2 to your custom dae and see what happens."
   ]
  },
  {
   "cell_type": "markdown",
   "metadata": {},
   "source": [
    "<p style=\"background:#EE9023;color:white;\">END Exercise U1-3</p>"
   ]
  },
  {
   "cell_type": "markdown",
   "metadata": {},
   "source": [
    "You should get something similar to this:"
   ]
  },
  {
   "cell_type": "markdown",
   "metadata": {},
   "source": [
    "<img src=\"img/rviz_markers_unit1_dae.png\"/>"
   ]
  },
  {
   "cell_type": "markdown",
   "metadata": {},
   "source": [
    "In this case, the dae used is the same one used for the simulation of HaroRobot. The only difference is the absence of textures. This is because the colors of the dae aren't embedded textures per se, only diffusion values, and therefore, you see it as all white. But if you use a Model with embeded textures, it will render with textures."
   ]
  },
  {
   "cell_type": "markdown",
   "metadata": {},
   "source": [
    "<img src=\"img/rvizmarkers_unit1_turtlemarker.png\"/>"
   ]
  },
  {
   "cell_type": "markdown",
   "metadata": {},
   "source": [
    "Here you can see a dae model of a turtle with embedded textures. You just have to be careful on the texture paths you state in the dae file and place them accordingly."
   ]
  },
  {
   "cell_type": "markdown",
   "metadata": {},
   "source": [
    "The most important aspect is the setting of the colors:"
   ]
  },
  {
   "cell_type": "code",
   "execution_count": null,
   "metadata": {
    "collapsed": true
   },
   "outputs": [],
   "source": [
    "self.marker_object.color.r = 0.0\n",
    "self.marker_object.color.g = 0.0\n",
    "self.marker_object.color.b = 0.0\n",
    "# This has to be, otherwise it will be transparent\n",
    "self.marker_object.color.a = 0.0\n",
    "self.marker_object.mesh_resource = \"package://haro_description/meshes/turtle_real_textures.dae\";\n",
    "self.marker_object.mesh_use_embedded_materials = True"
   ]
  },
  {
   "cell_type": "markdown",
   "metadata": {},
   "source": [
    "The colors have to be zero, including the transparency element (a). Otherwise, we will set the colors on top of the textures. It's also important to set the mesh_use_embedded_materials, otherwise it wont work."
   ]
  },
  {
   "cell_type": "markdown",
   "metadata": {},
   "source": [
    "Here is the example code:"
   ]
  },
  {
   "cell_type": "code",
   "execution_count": null,
   "metadata": {
    "collapsed": true
   },
   "outputs": [],
   "source": [
    "#!/usr/bin/env python\n",
    "\n",
    "import rospy\n",
    "from visualization_msgs.msg import Marker\n",
    "from geometry_msgs.msg import Point\n",
    "\n",
    "\n",
    "class MarkerBasics(object):\n",
    "\n",
    "    def __init__(self):\n",
    "        self.marker_objectlisher = rospy.Publisher('/marker_basic', Marker, queue_size=1)\n",
    "        self.rate = rospy.Rate(1)\n",
    "        self.init_marker(index=0,z_val=0)\n",
    "    \n",
    "    def init_marker(self,index=0, z_val=0):\n",
    "        self.marker_object = Marker()\n",
    "        self.marker_object.header.frame_id = \"/world\"\n",
    "        self.marker_object.header.stamp    = rospy.get_rostime()\n",
    "        self.marker_object.ns = \"haro\"\n",
    "        self.marker_object.id = index\n",
    "        self.marker_object.type = Marker.MESH_RESOURCE\n",
    "        self.marker_object.action = Marker.ADD\n",
    "        \n",
    "        my_point = Point()\n",
    "        my_point.z = z_val\n",
    "        self.marker_object.pose.position = my_point\n",
    "        \n",
    "        self.marker_object.pose.orientation.x = 0\n",
    "        self.marker_object.pose.orientation.y = 0\n",
    "        self.marker_object.pose.orientation.z = 0.0\n",
    "        self.marker_object.pose.orientation.w = 1.0\n",
    "        self.marker_object.scale.x = 2.0\n",
    "        self.marker_object.scale.y = 2.0\n",
    "        self.marker_object.scale.z = 2.0\n",
    "    \n",
    "        self.marker_object.color.r = 0.0\n",
    "        self.marker_object.color.g = 0.0\n",
    "        self.marker_object.color.b = 0.0\n",
    "        # This has to be otherwise it will be transparent\n",
    "        self.marker_object.color.a = 0.0\n",
    "        self.marker_object.mesh_resource = \"package://haro_description/meshes/turtle_real_textures.dae\";\n",
    "        self.marker_object.mesh_use_embedded_materials = True\n",
    "        # If we want it forever, 0; otherwise, seconds before disappearing\n",
    "        self.marker_object.lifetime = rospy.Duration(0)\n",
    "    \n",
    "    def start(self):\n",
    "        while not rospy.is_shutdown():\n",
    "            self.marker_objectlisher.publish(self.marker_object)\n",
    "            self.rate.sleep()\n",
    "   \n",
    "\n",
    "if __name__ == '__main__':\n",
    "    rospy.init_node('marker_basic_node', anonymous=True)\n",
    "    markerbasics_object = MarkerBasics()\n",
    "    try:\n",
    "        markerbasics_object.start()\n",
    "    except rospy.ROSInterruptException:\n",
    "        pass\n",
    "    \n"
   ]
  },
  {
   "cell_type": "markdown",
   "metadata": {},
   "source": [
    "Now, it's your turn to experiment. Here you have some extra exercises to practice:"
   ]
  },
  {
   "cell_type": "markdown",
   "metadata": {},
   "source": [
    "<p style=\"background:#EE9023;color:white;\">EXTRA Exercise U1-3</p>"
   ]
  },
  {
   "cell_type": "markdown",
   "metadata": {},
   "source": [
    "Here you have some ideas for what to try to practice what you have learned:<br>\n",
    "<ul>\n",
    "<li>Try all the other types, including the text type.</li>\n",
    "<li>Try creating a method that makes the markers rotate and move around, and control them via keyboard teleop.</li>\n",
    "<li>Try adding more than one marker and see what happens. Try to also apply the movement methods to them.</li>\n",
    "<li>Try to create some kind of effect with markers, such as colors changing dynamically based on the height of the HaroRobot TF.</li>\n",
    "<li>Try to create the same effect you saw in the demos, such as the trajectory described by the TF or the icons on top of Haro and the person. Try to make them move up and down while they are still on top of an object that is moving.</li>\n",
    "</ul>"
   ]
  },
  {
   "cell_type": "markdown",
   "metadata": {},
   "source": [
    "<p style=\"background:#EE9023;color:white;\">END EXTRA Exercise U1-3</p>"
   ]
  },
  {
   "cell_type": "markdown",
   "metadata": {},
   "source": [
    "## Congratulations, you now know how to use basic markers!"
   ]
  },
  {
   "cell_type": "markdown",
   "metadata": {},
   "source": [
    "Next, you will start with higher level markers from the jsk-rviz-plugins."
   ]
  }
 ],
 "metadata": {
  "kernelspec": {
   "display_name": "Python 3",
   "language": "python",
   "name": "python3"
  },
  "language_info": {
   "codemirror_mode": {
    "name": "ipython",
    "version": 3
   },
   "file_extension": ".py",
   "mimetype": "text/x-python",
   "name": "python",
   "nbconvert_exporter": "python",
   "pygments_lexer": "ipython3",
   "version": "3.6.1"
  }
 },
 "nbformat": 4,
 "nbformat_minor": 1
}
