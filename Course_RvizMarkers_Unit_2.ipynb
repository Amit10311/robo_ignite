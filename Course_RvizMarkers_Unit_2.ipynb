{
 "cells": [
  {
   "cell_type": "markdown",
   "metadata": {},
   "source": [
    "# Unit 2: BoundingBoxes, RobotFootsteps, PolygonArray, OccupancyGrids, and Pictograms"
   ]
  },
  {
   "cell_type": "markdown",
   "metadata": {},
   "source": [
    "Wow, that's a long title!<br>\n",
    "Here you will learn how to use the most important jsk Markers. There are more, but these are the most important ones, which are close to how the basic markers work."
   ]
  },
  {
   "cell_type": "markdown",
   "metadata": {},
   "source": [
    "## Where to find all these elements in RVIZ"
   ]
  },
  {
   "cell_type": "markdown",
   "metadata": {},
   "source": [
    "You have to select Add Element in RVIZ and go to the jsk folder. There you will have all the markers you will learn about in this course:"
   ]
  },
  {
   "cell_type": "markdown",
   "metadata": {},
   "source": [
    "<img src=\"img/rvizmarkers_unit2_elementlist.png\"/>"
   ]
  },
  {
   "cell_type": "markdown",
   "metadata": {},
   "source": [
    "## BoundingBoxes"
   ]
  },
  {
   "cell_type": "markdown",
   "metadata": {},
   "source": [
    "Bounding boxes can be used for loads of things. You can represent simplified versions of the world as seen by a Depth sensor, virtual walls given to the robot so that it can travel in certain areas, or even find a way of visualising data."
   ]
  },
  {
   "cell_type": "markdown",
   "metadata": {},
   "source": [
    "There are two types: BoundingBox and BoundingBoxArray. Depending on what you want to do, you will select one or the other.<br>\n",
    "<b>The rule of thumb is:</b><br>\n",
    "<i>If each marker is not related, use different BoundingBox publishers. If they are related, use the BoundingBoxArray.</i>"
   ]
  },
  {
   "cell_type": "markdown",
   "metadata": {},
   "source": [
    "Here you have an example of how to create a flying, rotating, and changing-shape bounding box:"
   ]
  },
  {
   "cell_type": "markdown",
   "metadata": {},
   "source": [
    "<p style=\"background:green;color:white;\">bounding_box.py</p>"
   ]
  },
  {
   "cell_type": "code",
   "execution_count": null,
   "metadata": {
    "collapsed": true
   },
   "outputs": [],
   "source": [
    "#!/usr/bin/env python\n",
    "import rospy\n",
    "from jsk_recognition_msgs.msg import BoundingBox\n",
    "import math\n",
    "from geometry_msgs.msg import Pose, Vector3\n",
    "import tf\n",
    "import std_msgs.msg\n",
    "\n",
    "\"\"\"\n",
    "# BoundingBox represents an oriented bounding box.                                                                                                                         \n",
    "Header header                                                                                                                                                             \n",
    "geometry_msgs/Pose pose                                                                                                                                                   \n",
    "geometry_msgs/Vector3 dimensions  # size of bounding box (x, y, z)                                                                                                        \n",
    "# You can use this field to hold value such as likelihood                                                                                                                 \n",
    "float32 value                                                                                                                                                             \n",
    "uint32 label\n",
    "\"\"\"\n",
    "\n",
    "def dummyBoundingBoxPublisher():\n",
    "    pub = rospy.Publisher('/dummy_bounding_box', BoundingBox, queue_size=1)\n",
    "    rospy.init_node('dummyBoundingBoxPublisher_node', anonymous=True)\n",
    "    rate = rospy.Rate(25)\n",
    "    \n",
    "    boundingBox_object = BoundingBox()\n",
    "    i = 0\n",
    "    pose_object = Pose()\n",
    "    dimensions_object = Vector3()\n",
    "    minimum_dimension = 0.2\n",
    "    boundingBox_object.label = 1234\n",
    "    \n",
    "    while not rospy.is_shutdown():\n",
    "        h = std_msgs.msg.Header()\n",
    "        h.stamp = rospy.Time.now() # Note you need to call rospy.init_node() before this will work\n",
    "        h.frame_id = \"world\"\n",
    "        \n",
    "        boundingBox_object.header = h \n",
    "        \n",
    "        \n",
    "        sinus_value = math.sin(i/10.0)\n",
    "        boundingBox_object.value = sinus_value\n",
    "        \n",
    "        \n",
    "        # Change Pose to see effects\n",
    "        pose_object.position.x = 1.0\n",
    "        pose_object.position.y = 0.0\n",
    "        pose_object.position.z = sinus_value\n",
    "        \n",
    "        \n",
    "        # ai, aj, ak == roll, pitch, yaw\n",
    "        quaternion = tf.transformations.quaternion_from_euler(ai=0, aj=0, ak=sinus_value)\n",
    "        pose_object.orientation.x = quaternion[0]\n",
    "        pose_object.orientation.y = quaternion[1]\n",
    "        pose_object.orientation.z = quaternion[2]\n",
    "        pose_object.orientation.w = quaternion[3]\n",
    "\n",
    "        dimensions_object.x = sinus_value/10 + minimum_dimension\n",
    "        dimensions_object.y = minimum_dimension\n",
    "        dimensions_object.z = minimum_dimension\n",
    "        \n",
    "        # Assign pose and dimension objects\n",
    "        boundingBox_object.pose = pose_object\n",
    "        boundingBox_object.dimensions = dimensions_object\n",
    "        pub.publish(boundingBox_object)\n",
    "        rate.sleep()\n",
    "        \n",
    "        i += 1\n",
    "\n",
    "if __name__ == '__main__':\n",
    "    try:\n",
    "        dummyBoundingBoxPublisher()\n",
    "    except rospy.ROSInterruptException:\n",
    "        pass"
   ]
  },
  {
   "cell_type": "markdown",
   "metadata": {},
   "source": [
    "<p style=\"background:green;color:white;\">END bounding_box.py</p>"
   ]
  },
  {
   "cell_type": "markdown",
   "metadata": {},
   "source": [
    "So, things to talk about:"
   ]
  },
  {
   "cell_type": "code",
   "execution_count": null,
   "metadata": {
    "collapsed": true
   },
   "outputs": [],
   "source": [
    "pub = rospy.Publisher('/dummy_bounding_box', BoundingBox, queue_size=1)"
   ]
  },
  {
   "cell_type": "markdown",
   "metadata": {},
   "source": [
    "As with the basic markers, these bounding boxes are published in topics."
   ]
  },
  {
   "cell_type": "code",
   "execution_count": null,
   "metadata": {
    "collapsed": true
   },
   "outputs": [],
   "source": [
    "boundingBox_object = BoundingBox()\n",
    "boundingBox_object.label = 1234\n",
    "h = std_msgs.msg.Header()\n",
    "h.stamp = rospy.Time.now() # Note you need to call rospy.init_node() before this will work\n",
    "h.frame_id = \"world\"\n",
    "\n",
    "boundingBox_object.header = h"
   ]
  },
  {
   "cell_type": "markdown",
   "metadata": {},
   "source": [
    "Here you can see that it is very similar to basic markers. Instead of <b>id,</b> it is called label. The header works exactly the same."
   ]
  },
  {
   "cell_type": "code",
   "execution_count": null,
   "metadata": {
    "collapsed": true
   },
   "outputs": [],
   "source": [
    "boundingBox_object.value = sinus_value"
   ]
  },
  {
   "cell_type": "markdown",
   "metadata": {},
   "source": [
    "This is only a value that is contained in each bounding box, useful for containing some extra data. It is not visualised directly through the RVIZ."
   ]
  },
  {
   "cell_type": "code",
   "execution_count": null,
   "metadata": {
    "collapsed": true
   },
   "outputs": [],
   "source": [
    "# Change Pose to see effects\n",
    "pose_object.position.x = 1.0\n",
    "pose_object.position.y = 0.0\n",
    "pose_object.position.z = sinus_value\n",
    "\n",
    "\n",
    "# ai, aj, ak == roll, pitch, yaw\n",
    "quaternion = tf.transformations.quaternion_from_euler(ai=0, aj=0, ak=sinus_value)\n",
    "pose_object.orientation.x = quaternion[0]\n",
    "pose_object.orientation.y = quaternion[1]\n",
    "pose_object.orientation.z = quaternion[2]\n",
    "pose_object.orientation.w = quaternion[3]"
   ]
  },
  {
   "cell_type": "markdown",
   "metadata": {},
   "source": [
    "Position and orientation."
   ]
  },
  {
   "cell_type": "code",
   "execution_count": null,
   "metadata": {
    "collapsed": true
   },
   "outputs": [],
   "source": [
    "dimensions_object.x = sinus_value/10 + minimum_dimension\n",
    "dimensions_object.y = minimum_dimension\n",
    "dimensions_object.z = minimum_dimension"
   ]
  },
  {
   "cell_type": "markdown",
   "metadata": {},
   "source": [
    "The dimensions of the box. In this case, they change over time."
   ]
  },
  {
   "cell_type": "code",
   "execution_count": null,
   "metadata": {
    "collapsed": true
   },
   "outputs": [],
   "source": [
    "# Assign pose and dimension objects\n",
    "boundingBox_object.pose = pose_object\n",
    "boundingBox_object.dimensions = dimensions_object\n",
    "pub.publish(boundingBox_object)"
   ]
  },
  {
   "cell_type": "markdown",
   "metadata": {},
   "source": [
    "Finally, you assign and publish here."
   ]
  },
  {
   "cell_type": "markdown",
   "metadata": {},
   "source": [
    "Note that bounding boxes don't assign colors. They are auto-assigned or set in the RVIZ element."
   ]
  },
  {
   "cell_type": "markdown",
   "metadata": {},
   "source": [
    "<p style=\"background:#EE9023;color:white;\">Exercise U2-1</p>"
   ]
  },
  {
   "cell_type": "markdown",
   "metadata": {},
   "source": [
    "Execute this script in your package. See what happens and why.<br>\n",
    "Try the following EXTRA:<br>\n",
    "<ul>\n",
    "<li>Make the bounding box react when the Haro Robot gets near it</li>\n",
    "</ul>"
   ]
  },
  {
   "cell_type": "markdown",
   "metadata": {},
   "source": [
    "<p style=\"background:#EE9023;color:white;\">END Exercise U2-1</p>"
   ]
  },
  {
   "cell_type": "markdown",
   "metadata": {},
   "source": [
    "You should see something similar to this:"
   ]
  },
  {
   "cell_type": "markdown",
   "metadata": {},
   "source": [
    "<img src=\"img/rvizmarkers_unit2_boundingbox.gif\"/>"
   ]
  },
  {
   "cell_type": "markdown",
   "metadata": {},
   "source": [
    "Now, what if you need related bounding boxes? Use BoundingBoxArray.<br>\n",
    "Here you have an example of how to create a sequence of bounding boxes that describe different movements:"
   ]
  },
  {
   "cell_type": "markdown",
   "metadata": {},
   "source": [
    "<p style=\"background:green;color:white;\">bounding_box_array.py</p>"
   ]
  },
  {
   "cell_type": "code",
   "execution_count": 2,
   "metadata": {},
   "outputs": [
    {
     "ename": "ModuleNotFoundError",
     "evalue": "No module named 'rospy'",
     "output_type": "error",
     "traceback": [
      "\u001b[1;31m---------------------------------------------------------------------------\u001b[0m",
      "\u001b[1;31mModuleNotFoundError\u001b[0m                       Traceback (most recent call last)",
      "\u001b[1;32m<ipython-input-2-46fdad4e4c01>\u001b[0m in \u001b[0;36m<module>\u001b[1;34m()\u001b[0m\n\u001b[0;32m      1\u001b[0m \u001b[1;31m#!/usr/bin/env python\u001b[0m\u001b[1;33m\u001b[0m\u001b[1;33m\u001b[0m\u001b[0m\n\u001b[1;32m----> 2\u001b[1;33m \u001b[1;32mimport\u001b[0m \u001b[0mrospy\u001b[0m\u001b[1;33m\u001b[0m\u001b[0m\n\u001b[0m\u001b[0;32m      3\u001b[0m \u001b[1;32mfrom\u001b[0m \u001b[0mjsk_recognition_msgs\u001b[0m\u001b[1;33m.\u001b[0m\u001b[0mmsg\u001b[0m \u001b[1;32mimport\u001b[0m \u001b[0mBoundingBox\u001b[0m\u001b[1;33m,\u001b[0m \u001b[0mBoundingBoxArray\u001b[0m\u001b[1;33m\u001b[0m\u001b[0m\n\u001b[0;32m      4\u001b[0m \u001b[1;32mimport\u001b[0m \u001b[0mthreading\u001b[0m\u001b[1;33m\u001b[0m\u001b[0m\n\u001b[0;32m      5\u001b[0m \u001b[1;32mimport\u001b[0m \u001b[0mmath\u001b[0m\u001b[1;33m\u001b[0m\u001b[0m\n",
      "\u001b[1;31mModuleNotFoundError\u001b[0m: No module named 'rospy'"
     ]
    }
   ],
   "source": [
    "#!/usr/bin/env python\n",
    "import rospy\n",
    "from jsk_recognition_msgs.msg import BoundingBox, BoundingBoxArray\n",
    "import threading\n",
    "import math\n",
    "from geometry_msgs.msg import Pose, Vector3\n",
    "import tf\n",
    "import std_msgs.msg\n",
    "import random\n",
    "\"\"\"\n",
    "[jsk_recognition_msgs/BoundingBoxArray]:                                                                                       \n",
    "std_msgs/Header header                                                                                                         \n",
    "  uint32 seq                                                                                                                   \n",
    "  time stamp                                                                                                                   \n",
    "  string frame_id                                                                                                              \n",
    "jsk_recognition_msgs/BoundingBox[] boxes\n",
    "\"\"\"\n",
    "\n",
    "class BoundingBoxArrayPublisher(object):\n",
    "    def __init__(self):\n",
    "        self.pub = rospy.Publisher('/dummy_bounding_box_array', BoundingBoxArray, queue_size=1)\n",
    "        self.init_boundingboxarray()\n",
    "        self.state = 0\n",
    "\n",
    "    \n",
    "    def get_init_time(self):\n",
    "        self.init_seconds = rospy.get_time()\n",
    "        \n",
    "            \n",
    "    def publish_once(self, boundingBoxArray_object):\n",
    "        rate = rospy.Rate(10)\n",
    "        while not rospy.is_shutdown():\n",
    "            connections = self.pub.get_num_connections()\n",
    "            if connections > 0:\n",
    "                self.pub.publish(boundingBoxArray_object)\n",
    "                break\n",
    "            else:\n",
    "                rospy.loginfo(\"Waiting for Subscriber...\")\n",
    "                rate.sleep()\n",
    "\n",
    "    def init_boundingboxarray(self, num_boxes=30):\n",
    "        self.boundingBoxArray_object = BoundingBoxArray()\n",
    "        \n",
    "        h = std_msgs.msg.Header()\n",
    "        h.stamp = rospy.Time.now() # Note you need to call rospy.init_node() before this will work\n",
    "        h.frame_id = \"world\"\n",
    "        \n",
    "        self.boundingBoxArray_object.header = h\n",
    "        \n",
    "        self.minimum_dimension = 0.2\n",
    "        self.init_x_position = 1.0\n",
    "\n",
    "        for i in range(num_boxes):\n",
    "            new_box = BoundingBox()\n",
    "            new_box.header = h\n",
    "            \n",
    "            new_box.pose = Pose()\n",
    "            new_box.pose.position.x = self.init_x_position + i*self.minimum_dimension\n",
    "            \n",
    "            new_box.dimensions = Vector3()\n",
    "            new_box.dimensions.x = self.minimum_dimension\n",
    "            new_box.dimensions.y = self.minimum_dimension\n",
    "            new_box.dimensions.z = self.minimum_dimension\n",
    "            \n",
    "            new_box.label = i\n",
    "            new_box.value = i*self.minimum_dimension\n",
    "\n",
    "            \n",
    "            self.boundingBoxArray_object.boxes.append(new_box)\n",
    "        \n",
    "        self.publish_once(self.boundingBoxArray_object)\n",
    "        \n",
    "        \n",
    "        \n",
    "    def start_bounding_box_array_demo(self):\n",
    "\n",
    "        \n",
    "        rate = rospy.Rate(5)\n",
    "        self.get_init_time()\n",
    "        i = 0\n",
    "        while not rospy.is_shutdown():\n",
    "            now = rospy.get_time()\n",
    "            dif_seconds = now - self.init_seconds\n",
    "            if i == 20:\n",
    "                self.state += 1\n",
    "                i = 0\n",
    "                if self.state > 3:\n",
    "                    self.state = 0\n",
    "                else:\n",
    "                    pass\n",
    "            else:\n",
    "                pass\n",
    "\n",
    "            for index, box in enumerate(self.boundingBoxArray_object.boxes):\n",
    "                index_value = index/10.0\n",
    "                angle = dif_seconds + index_value\n",
    "                \n",
    "                if self.state == 0:\n",
    "                    self.boundingBoxArray_object.boxes[index].pose.position.x = self.init_x_position + index*self.minimum_dimension\n",
    "                    self.boundingBoxArray_object.boxes[index].pose.position.y = math.sin(angle)\n",
    "                    self.boundingBoxArray_object.boxes[index].pose.position.z = 0.0\n",
    "                elif self.state == 1:\n",
    "                    self.boundingBoxArray_object.boxes[index].pose.position.x = self.init_x_position + index*self.minimum_dimension\n",
    "                    self.boundingBoxArray_object.boxes[index].pose.position.y = 0.0\n",
    "                    self.boundingBoxArray_object.boxes[index].pose.position.z = math.sin(angle)\n",
    "                elif self.state == 2:\n",
    "                    self.boundingBoxArray_object.boxes[index].pose.position.x = self.init_x_position + index*self.minimum_dimension\n",
    "                    self.boundingBoxArray_object.boxes[index].pose.position.y = math.sin(angle)\n",
    "                    self.boundingBoxArray_object.boxes[index].pose.position.z = math.cos(angle)\n",
    "                else:\n",
    "                    self.boundingBoxArray_object.boxes[index].pose.position.x = math.sin(angle)\n",
    "                    self.boundingBoxArray_object.boxes[index].pose.position.y = math.cos(angle)\n",
    "                    self.boundingBoxArray_object.boxes[index].pose.position.z = 0.0\n",
    "                \n",
    "                \n",
    "            \n",
    "            self.publish_once(self.boundingBoxArray_object)\n",
    "            rate.sleep()\n",
    "            \n",
    "            i += 1\n",
    "            \n",
    "\n",
    "\n",
    "\n",
    "def start_demo():\n",
    "    rospy.init_node('dummyBoundingBoxArrayPublisher_node', anonymous=True)\n",
    "    boundingbox_array_object = BoundingBoxArrayPublisher()\n",
    "    try:\n",
    "        boundingbox_array_object.start_bounding_box_array_demo()\n",
    "    except rospy.ROSInterruptException:\n",
    "        boundingbox_array_object.close()\n",
    "\n",
    "if __name__ == '__main__':\n",
    "    start_demo()"
   ]
  },
  {
   "cell_type": "markdown",
   "metadata": {},
   "source": [
    "<p style=\"background:green;color:white;\">End bounding_box_array.py</p>"
   ]
  },
  {
   "cell_type": "markdown",
   "metadata": {},
   "source": [
    "Although it seems more complex, it is actually exactly the same thing that you did with a single bounding box, only now, you are generating a bunch of them and saving them in an array. That's it."
   ]
  },
  {
   "cell_type": "markdown",
   "metadata": {},
   "source": [
    "In this code, the positions of the bounding boxes and the way they evolve change, creating some interesting effects."
   ]
  },
  {
   "cell_type": "markdown",
   "metadata": {},
   "source": [
    "<p style=\"background:#EE9023;color:white;\">Exercise U2-2</p>"
   ]
  },
  {
   "cell_type": "markdown",
   "metadata": {},
   "source": [
    "Execute this script in your package. See what happens and why.<br>\n",
    "Try the following EXTRA:<br>\n",
    "<ul>\n",
    "<li>Make it change the way it moves depending on the distance of Haro to a certain point in space. You will need to know about TFs to work this out.</li>\n",
    "</ul>"
   ]
  },
  {
   "cell_type": "markdown",
   "metadata": {},
   "source": [
    "How do you calculate distance and angle between two TF frames? Here is an example:"
   ]
  },
  {
   "cell_type": "markdown",
   "metadata": {},
   "source": [
    "<p style=\"background:green;color:white;\">tf_haro_to_object_listener.py</p>"
   ]
  },
  {
   "cell_type": "code",
   "execution_count": 1,
   "metadata": {},
   "outputs": [
    {
     "ename": "ModuleNotFoundError",
     "evalue": "No module named 'rospy'",
     "output_type": "error",
     "traceback": [
      "\u001b[1;31m---------------------------------------------------------------------------\u001b[0m",
      "\u001b[1;31mModuleNotFoundError\u001b[0m                       Traceback (most recent call last)",
      "\u001b[1;32m<ipython-input-1-c6fb1386bffb>\u001b[0m in \u001b[0;36m<module>\u001b[1;34m()\u001b[0m\n\u001b[0;32m      1\u001b[0m \u001b[1;31m#!/usr/bin/env python\u001b[0m\u001b[1;33m\u001b[0m\u001b[1;33m\u001b[0m\u001b[0m\n\u001b[0;32m      2\u001b[0m \u001b[1;32mimport\u001b[0m \u001b[0msys\u001b[0m\u001b[1;33m\u001b[0m\u001b[0m\n\u001b[1;32m----> 3\u001b[1;33m \u001b[1;32mimport\u001b[0m \u001b[0mrospy\u001b[0m\u001b[1;33m\u001b[0m\u001b[0m\n\u001b[0m\u001b[0;32m      4\u001b[0m \u001b[1;32mimport\u001b[0m \u001b[0mmath\u001b[0m\u001b[1;33m\u001b[0m\u001b[0m\n\u001b[0;32m      5\u001b[0m \u001b[1;32mimport\u001b[0m \u001b[0mtf\u001b[0m\u001b[1;33m\u001b[0m\u001b[0m\n",
      "\u001b[1;31mModuleNotFoundError\u001b[0m: No module named 'rospy'"
     ]
    }
   ],
   "source": [
    "#!/usr/bin/env python\n",
    "import sys\n",
    "import rospy\n",
    "import math\n",
    "import tf\n",
    "from geometry_msgs.msg import Twist, Vector3\n",
    "\n",
    "if __name__ == '__main__':\n",
    "    rospy.init_node('tf_listener_haro_to_person')\n",
    "\n",
    "    listener = tf.TransformListener()\n",
    "\n",
    "    if len(sys.argv) < 3:\n",
    "        print(\"usage: tf_haro_to_object_listener.py parent child\")\n",
    "    else:\n",
    "        follower_model_name = sys.argv[1]\n",
    "        model_to_be_followed_name = sys.argv[2]\n",
    "        \n",
    "        topic_to_publish_name = \"/\"+str(follower_model_name)+\"_to_\"+str(model_to_be_followed_name)+\"_tf_translation\"\n",
    "        # We will publish a Twist message but it's positional data not speed, just reusing an existing structure.\n",
    "        tf_translation = rospy.Publisher(topic_to_publish_name, Twist ,queue_size=1)\n",
    "        \n",
    "        rate = rospy.Rate(10.0)\n",
    "        ctrl_c = False\n",
    "        \n",
    "        follower_model_frame = \"/\"+follower_model_name\n",
    "        model_to_be_followed_frame = \"/\"+model_to_be_followed_name\n",
    "        \n",
    "        def shutdownhook():\n",
    "            # works better than the rospy.is_shut_down()\n",
    "            global ctrl_c\n",
    "            ctrl_c = True\n",
    "\n",
    "        rospy.on_shutdown(shutdownhook)\n",
    "        \n",
    "        while not ctrl_c:\n",
    "            try:\n",
    "                (trans,rot) = listener.lookupTransform(follower_model_frame, model_to_be_followed_frame, rospy.Time(0))\n",
    "                translation_object = Vector3()\n",
    "                translation_object.x = trans[0]\n",
    "                translation_object.y = trans[1]\n",
    "                translation_object.z = trans[2]\n",
    "                \n",
    "                angular = math.atan2(translation_object.y, translation_object.x)\n",
    "                linear = math.sqrt(translation_object.x ** 2 + translation_object.y ** 2)\n",
    "                cmd = Twist()\n",
    "                cmd.linear.x = linear\n",
    "                cmd.angular.z = angular\n",
    "                tf_translation.publish(cmd)\n",
    "                \n",
    "            except (tf.LookupException, tf.ConnectivityException, tf.ExtrapolationException):\n",
    "                continue\n",
    "    \n",
    "            \n",
    "    \n",
    "            rate.sleep()"
   ]
  },
  {
   "cell_type": "markdown",
   "metadata": {},
   "source": [
    "<p style=\"background:green;color:white;\">end tf_haro_to_object_listener.py</p>"
   ]
  },
  {
   "cell_type": "markdown",
   "metadata": {},
   "source": [
    "<p style=\"background:#EE9023;color:white;\">END Exercise U2-2</p>"
   ]
  },
  {
   "cell_type": "markdown",
   "metadata": {},
   "source": [
    "The effect that you should see is the following:"
   ]
  },
  {
   "cell_type": "markdown",
   "metadata": {},
   "source": [
    "<img src=\"img/rvizmarker_unit2_boundingboxarray.gif\"/>"
   ]
  },
  {
   "cell_type": "markdown",
   "metadata": {},
   "source": [
    "## RobotFootsteps"
   ]
  },
  {
   "cell_type": "markdown",
   "metadata": {},
   "source": [
    "For walking robots, this is really useful. Through these messages, you can publish a marker that represents the footsteps and the sequence. This is vital for knowing why your robot is falling, or if the next step will make it fall or collide into something."
   ]
  },
  {
   "cell_type": "markdown",
   "metadata": {},
   "source": [
    "Here is the message type used from jsk_footstep_msgs package, type FootstepArray."
   ]
  },
  {
   "cell_type": "code",
   "execution_count": 3,
   "metadata": {},
   "outputs": [
    {
     "data": {
      "text/plain": [
       "\"\\n[jsk_footstep_msgs/FootstepArray]:\\nstd_msgs/Header header                                                                                                         \\n  uint32 seq                                                                                                                   \\n  time stamp                                                                                                                   \\n  string frame_id                                                                                                              \\njsk_footstep_msgs/Footstep[] footsteps\\n\\n[jsk_footstep_msgs/Footstep]:                                                                                                                                             \\nuint8 RIGHT=2\\nuint8 LEFT=1\\n\\n# Constants to visualize progress --> This doesn't change anything, it might be some legacy code\\nuint8 REJECTED=3\\nuint8 APPROVED=4\\n\\n## limb_indicator values\\nuint8 LLEG=1\\nuint8 RLEG=2\\nuint8 LARM=5\\nuint8 RARM=6\\n\\nuint8 leg ## value should be one of limb_indicator values.\\ngeometry_msgs/Pose pose ## 'pose' represents nominal pose. It may be an end-effector of limb.\\nduration duration\\n# optional parameters\\nuint32 footstep_group\\ngeometry_msgs/Vector3 dimensions ## cube [length(x), width(y), height(z)]\\ngeometry_msgs/Vector3 offset     ## offset from pose to center of cube\\nfloat32 swing_height\\nfloat32 cost\\n\""
      ]
     },
     "execution_count": 3,
     "metadata": {},
     "output_type": "execute_result"
    }
   ],
   "source": [
    "\"\"\"\n",
    "[jsk_footstep_msgs/FootstepArray]:\n",
    "std_msgs/Header header                                                                                                         \n",
    "  uint32 seq                                                                                                                   \n",
    "  time stamp                                                                                                                   \n",
    "  string frame_id                                                                                                              \n",
    "jsk_footstep_msgs/Footstep[] footsteps\n",
    "\n",
    "[jsk_footstep_msgs/Footstep]:                                                                                                                                             \n",
    "uint8 RIGHT=2\n",
    "uint8 LEFT=1\n",
    "\n",
    "# Constants to visualize progress --> This doesn't change anything, it might be some legacy code\n",
    "uint8 REJECTED=3\n",
    "uint8 APPROVED=4\n",
    "\n",
    "## limb_indicator values\n",
    "uint8 LLEG=1\n",
    "uint8 RLEG=2\n",
    "uint8 LARM=5\n",
    "uint8 RARM=6\n",
    "\n",
    "uint8 leg ## value should be one of limb_indicator values.\n",
    "geometry_msgs/Pose pose ## 'pose' represents nominal pose. It may be an end-effector of limb.\n",
    "duration duration\n",
    "# optional parameters\n",
    "uint32 footstep_group\n",
    "geometry_msgs/Vector3 dimensions ## cube [length(x), width(y), height(z)]\n",
    "geometry_msgs/Vector3 offset     ## offset from pose to center of cube\n",
    "float32 swing_height\n",
    "float32 cost\n",
    "\"\"\""
   ]
  },
  {
   "cell_type": "markdown",
   "metadata": {},
   "source": [
    "To visualise the message in RVIZ, after adding its element, all you have to do is select the topic. That's it. There are some interesting variables, like the group color and the dimensions of each footstep: "
   ]
  },
  {
   "cell_type": "markdown",
   "metadata": {},
   "source": [
    "<img src=\"img/rvizmarkers_unit2_footstepselement.png\"/>"
   ]
  },
  {
   "cell_type": "markdown",
   "metadata": {},
   "source": [
    "To publish this kind of message:"
   ]
  },
  {
   "cell_type": "code",
   "execution_count": null,
   "metadata": {
    "collapsed": true
   },
   "outputs": [],
   "source": [
    "self.pub = rospy.Publisher('/dummy_footstep_array', FootstepArray, queue_size=1)"
   ]
  },
  {
   "cell_type": "markdown",
   "metadata": {},
   "source": [
    "The publisher, of course."
   ]
  },
  {
   "cell_type": "code",
   "execution_count": null,
   "metadata": {
    "collapsed": true
   },
   "outputs": [],
   "source": [
    "footstep_object = Footstep()\n",
    "footstep_object.leg = footstep_object.RLEG\n",
    "footstep_object.pose.position.x = pos_x / 2.0\n",
    "footstep_object.pose.position.y = pos_y / 2.0\n",
    "quaternion = tf.transformations.quaternion_from_euler(ai=0, aj=0, ak=yaw)\n",
    "footstep_object.pose.orientation.x = quaternion[0]\n",
    "footstep_object.pose.orientation.y = quaternion[1]\n",
    "footstep_object.pose.orientation.z = quaternion[2]\n",
    "footstep_object.pose.orientation.w = quaternion[3]\n",
    "footstep_object.duration = rospy.Duration.from_sec(0.2)"
   ]
  },
  {
   "cell_type": "markdown",
   "metadata": {},
   "source": [
    "You create the Footstep Object. Then, you set the following:<br>\n",
    "<ul>\n",
    "<li>leg: Here you state the type of leg. There are various options available. It was designed to have a biped, therefore, you have only RightLeg and LeftLeg options. You also have RightArm and LeftArm options. You have: LLEG=1, RLEG=2, LARM=5, and RARM=6. You also have the option of setting them to REJECTED=3 or APPROVED=4. Depending on the type selected, it will change the color and the TAG.</li>\n",
    "<li>pose: Where the Footstep Marker will be.</li>\n",
    "<li>duration: It should affect the duration of the footsteps, but there is no other effect. This is changed in the RVIZ element options, once added</li>\n",
    "</ul>"
   ]
  },
  {
   "cell_type": "code",
   "execution_count": null,
   "metadata": {
    "collapsed": true
   },
   "outputs": [],
   "source": [
    "footstep_object.footstep_group = group_num\n",
    "# Not shown in RVIZ, for locomotion purposes only\n",
    "footstep_object.swing_height = 2.0\n",
    "footstep_object.cost = 3.25"
   ]
  },
  {
   "cell_type": "markdown",
   "metadata": {},
   "source": [
    "And these are the optional values. Here you can assign a group to each footstep, and color them in RVIZ based on the group they are from.<br>\n",
    "The swing height and the cost are variables for locomotion, not represented in RVIZ."
   ]
  },
  {
   "cell_type": "code",
   "execution_count": null,
   "metadata": {
    "collapsed": true
   },
   "outputs": [],
   "source": [
    "h = std_msgs.msg.Header()\n",
    "h.stamp = rospy.Time.now() # Note you need to call rospy.init_node() before this will work\n",
    "h.frame_id = \"world\"\n",
    "self.footstepArray_object.header = h\n",
    "self.footstepArray_object.footsteps.append(new_footstep)\n",
    "self.publish_once(self.footstepArray_object)"
   ]
  },
  {
   "cell_type": "markdown",
   "metadata": {},
   "source": [
    "Don't forget the headers and the frame in reference to what represents it. Finally, append the new footstep and publish it."
   ]
  },
  {
   "cell_type": "markdown",
   "metadata": {},
   "source": [
    "Here you have an example of a dummy generator of footsteps in a circle:"
   ]
  },
  {
   "cell_type": "markdown",
   "metadata": {},
   "source": [
    "<p style=\"background:green;color:white;\">footsteps.py</p>"
   ]
  },
  {
   "cell_type": "code",
   "execution_count": null,
   "metadata": {
    "collapsed": true
   },
   "outputs": [],
   "source": [
    "#!/usr/bin/env python\n",
    "import rospy\n",
    "from jsk_footstep_msgs.msg import Footstep, FootstepArray\n",
    "import math\n",
    "from geometry_msgs.msg import Pose, Vector3\n",
    "import tf\n",
    "import std_msgs.msg\n",
    "import random\n",
    "\n",
    "\n",
    "\n",
    "\n",
    "class FootStepArrayPublisher(object):\n",
    "    def __init__(self):\n",
    "        self.pub = rospy.Publisher('/dummy_footstep_array', FootstepArray, queue_size=1)\n",
    "        self.init_footstep_array()\n",
    "        self.state = 0\n",
    "\n",
    "    \n",
    "    def get_init_time(self):\n",
    "        self.init_seconds = rospy.get_time()\n",
    "        \n",
    "            \n",
    "    def publish_once(self, object_to_publish):\n",
    "        rate = rospy.Rate(10)\n",
    "        while not rospy.is_shutdown():\n",
    "            connections = self.pub.get_num_connections()\n",
    "            if connections > 0:\n",
    "                self.pub.publish(object_to_publish)\n",
    "                break\n",
    "            else:\n",
    "                rospy.loginfo(\"Waiting for Subscriber...\")\n",
    "                rate.sleep()\n",
    "\n",
    "\n",
    "    def generate_new_footstep(self, pos_x=0, pos_y=0, yaw=0, is_right=True, is_leg=True, group_num = 1, regected=False, approved=False):\n",
    "        footstep_object = Footstep()\n",
    "    \n",
    "        if is_leg:\n",
    "            if is_right:\n",
    "                footstep_object.leg = footstep_object.RLEG\n",
    "                \n",
    "                footstep_object.pose.position.x = pos_x / 2.0\n",
    "                footstep_object.pose.position.y = pos_y / 2.0\n",
    "            else:\n",
    "                footstep_object.leg = footstep_object.LLEG\n",
    "                \n",
    "                footstep_object.pose.position.x = pos_x\n",
    "                footstep_object.pose.position.y = pos_y\n",
    "            \n",
    "            footstep_object.pose.position.z = 0.0\n",
    "            \n",
    "        else:\n",
    "            if is_right:\n",
    "                footstep_object.leg = footstep_object.RARM\n",
    "                \n",
    "                footstep_object.pose.position.x = pos_x / 2.0\n",
    "                footstep_object.pose.position.y = pos_y / 2.0\n",
    "                \n",
    "            else:\n",
    "                footstep_object.leg = footstep_object.LARM\n",
    "                \n",
    "                footstep_object.pose.position.x = pos_x\n",
    "                footstep_object.pose.position.y = pos_y\n",
    "            \n",
    "            footstep_object.pose.position.z = 1.5\n",
    "            \n",
    "        if regected:\n",
    "            footstep_object.leg = footstep_object.REJECTED\n",
    "        if approved:\n",
    "            footstep_object.leg = footstep_object.APPROVED\n",
    "        \n",
    "        \n",
    "        \n",
    "        \n",
    "        # ai, aj, ak == roll, pitch, yaw\n",
    "        quaternion = tf.transformations.quaternion_from_euler(ai=0, aj=0, ak=yaw)\n",
    "        footstep_object.pose.orientation.x = quaternion[0]\n",
    "        footstep_object.pose.orientation.y = quaternion[1]\n",
    "        footstep_object.pose.orientation.z = quaternion[2]\n",
    "        footstep_object.pose.orientation.w = quaternion[3]\n",
    "        \n",
    "        \n",
    "        footstep_object.duration = rospy.Duration.from_sec(0.2)\n",
    "        \n",
    "        # Optional Values\n",
    "        \n",
    "        footstep_object.footstep_group = group_num\n",
    "\n",
    "        # Not shown in RVIZ, for locomotion purposes only\n",
    "        footstep_object.swing_height = 2.0\n",
    "        \n",
    "        footstep_object.cost = 3.25\n",
    "        \n",
    "        return footstep_object\n",
    "\n",
    "    def init_footstep_array(self):\n",
    "        self.footstepArray_object = FootstepArray()\n",
    "        new_footstep = self.generate_new_footstep()\n",
    "        \n",
    "        h = std_msgs.msg.Header()\n",
    "        h.stamp = rospy.Time.now() # Note you need to call rospy.init_node() before this will work\n",
    "        h.frame_id = \"world\"\n",
    "        self.footstepArray_object.header = h\n",
    "\n",
    "        self.footstepArray_object.footsteps.append(new_footstep)\n",
    "        \n",
    "        self.publish_once(self.footstepArray_object)\n",
    "        \n",
    "        \n",
    "        \n",
    "    def start_demo(self):\n",
    "\n",
    "        \n",
    "        rate = rospy.Rate(1)\n",
    "        self.get_init_time()\n",
    "        i = 0\n",
    "        \n",
    "        is_right = (i % 2 == 0)\n",
    "        #is_leg = (i % 3 == 0)\n",
    "        is_leg = True\n",
    "        \n",
    "        max_steps = 10\n",
    "        \n",
    "        while not rospy.is_shutdown():\n",
    "            angle = i/5.0\n",
    "            \n",
    "            is_right = (i % 2 == 0)\n",
    "            #is_leg = (i % 3 == 0)\n",
    "            is_leg = True\n",
    "            \n",
    "            group_num = i % 2\n",
    "            \n",
    "            new_footstep = self.generate_new_footstep(  pos_x=math.sin(angle),\n",
    "                                                        pos_y=math.cos(angle),\n",
    "                                                        yaw=-angle,\n",
    "                                                        is_right=is_right,\n",
    "                                                        is_leg = is_leg,\n",
    "                                                        group_num = group_num)\n",
    "            \n",
    "            # The path will appear in the order you append, whether you append once at a time or a lot\n",
    "            self.footstepArray_object.footsteps.append(new_footstep)\n",
    "            \n",
    "            if len(self.footstepArray_object.footsteps) > max_steps:\n",
    "                self.footstepArray_object.footsteps.pop(0)\n",
    "            \n",
    "            i += 1\n",
    "            self.publish_once(self.footstepArray_object)\n",
    "            rate.sleep()\n",
    "            \n",
    "            \n",
    "\n",
    "\n",
    "\n",
    "def main_start_demo():\n",
    "    rospy.init_node('dummyFootStepArrayPublisher_node', anonymous=True)\n",
    "    footstep_array_object = FootStepArrayPublisher()\n",
    "    try:\n",
    "        footstep_array_object.start_demo()\n",
    "    except rospy.ROSInterruptException:\n",
    "        pass\n",
    "\n",
    "if __name__ == '__main__':\n",
    "    main_start_demo()"
   ]
  },
  {
   "cell_type": "markdown",
   "metadata": {},
   "source": [
    "Bear in mind that if you don't remove the footsteps from the array, they will stay there forever. That's why the <b>pop</b> method is used in the example:"
   ]
  },
  {
   "cell_type": "code",
   "execution_count": null,
   "metadata": {
    "collapsed": true
   },
   "outputs": [],
   "source": [
    "if len(self.footstepArray_object.footsteps) > max_steps:\n",
    "    self.footstepArray_object.footsteps.pop(0)"
   ]
  },
  {
   "cell_type": "markdown",
   "metadata": {},
   "source": [
    "<p style=\"background:green;color:white;\">END footsteps.py</p>"
   ]
  },
  {
   "cell_type": "markdown",
   "metadata": {},
   "source": [
    "<p style=\"background:#EE9023;color:white;\">Exercise U2-3</p>"
   ]
  },
  {
   "cell_type": "markdown",
   "metadata": {},
   "source": [
    "Execute the footsteps.py script and see the effect.<br>\n",
    "Try this as an EXTRA:\n",
    "<ul>\n",
    "<li>Make the footsteps appear below the standing person when it moves. You will have to access its TF and base the footsteps frame on it. Then, move it with cmd_vel.</li>\n",
    "</ul>"
   ]
  },
  {
   "cell_type": "markdown",
   "metadata": {},
   "source": [
    "<p style=\"background:#EE9023;color:white;\">END Exercise U2-3</p>"
   ]
  },
  {
   "cell_type": "markdown",
   "metadata": {},
   "source": [
    "The basic script should give you something like this:"
   ]
  },
  {
   "cell_type": "markdown",
   "metadata": {},
   "source": [
    "<img src=\"img/rvizmarkers_unit2_footstepsdemo.gif\"/>"
   ]
  },
  {
   "cell_type": "markdown",
   "metadata": {},
   "source": [
    "## Polygon Array"
   ]
  },
  {
   "cell_type": "markdown",
   "metadata": {},
   "source": [
    "These arrays are used in systems like table_top detection, object surface_segmentation, and so on. It's widely used in perception. It allows you to represent surfaces based on its normal and the perimeter points. You can do any shape you want, filled or only the perimeter."
   ]
  },
  {
   "cell_type": "markdown",
   "metadata": {},
   "source": [
    "You will use <b>PolygonArray</b> from the package <b>jsk_recognition_msgs</b>."
   ]
  },
  {
   "cell_type": "code",
   "execution_count": null,
   "metadata": {
    "collapsed": true
   },
   "outputs": [],
   "source": [
    "\"\"\"\n",
    "[jsk_recognition_msgs/PolygonArray]:                                                                                           \n",
    "std_msgs/Header header                                                                                                         \n",
    "  uint32 seq                                                                                                                   \n",
    "  time stamp                                                                                                                   \n",
    "  string frame_id                                                                                                              \n",
    "geometry_msgs/PolygonStamped[] polygons                                                                                        \n",
    "  std_msgs/Header header                                                                                                       \n",
    "    uint32 seq                                                                                                                 \n",
    "    time stamp                                                                                                                 \n",
    "    string frame_id                                                                                                            \n",
    "  geometry_msgs/Polygon polygon                                                                                                \n",
    "    geometry_msgs/Point32[] points                                                                                             \n",
    "      float32 x                                                                                                                \n",
    "      float32 y                                                                                                                \n",
    "      float32 z                                                                                                                \n",
    "uint32[] labels                                                                                                                \n",
    "float32[] likelihood\n",
    "\"\"\""
   ]
  },
  {
   "cell_type": "markdown",
   "metadata": {},
   "source": [
    "In this example, you have various shapes and also dynamically changing polygons in movement and shape. But the basics are the same:"
   ]
  },
  {
   "cell_type": "markdown",
   "metadata": {},
   "source": [
    "To create a square, you will have to:"
   ]
  },
  {
   "cell_type": "code",
   "execution_count": null,
   "metadata": {
    "collapsed": true
   },
   "outputs": [],
   "source": [
    "p = PolygonStamped()\n",
    "p.header = header\n",
    "p.polygon.points = [Point32(x=1.0, y=1.0),\n",
    "            Point32(x=-1.0, y=1.0),\n",
    "            Point32(x=-1.0, y=-1.0),\n",
    "            Point32(x=1.0, y=-1.0)]\n",
    "\n",
    "msg = PolygonArray()\n",
    "header = Header()\n",
    "header.frame_id = \"world\"\n",
    "header.stamp = rospy.Time.now()\n",
    "msg.header = header\n",
    "msg.polygons = [p]\n",
    "msg.labels = [0]\n",
    "msg.likelihood = [np.random.ranf()]\n",
    "pub.publish(msg)"
   ]
  },
  {
   "cell_type": "markdown",
   "metadata": {},
   "source": [
    "Here you generate the points; in this case, four.<br>\n",
    "Then, you select the world frame to base it there. And then, you add the PolygonStamped to the PolygonArray.<br>\n",
    "Give a label to each PolygonStamped added in the polygons.<br>\n",
    "As for the likelihood, this will be used for some color classification in RVIZ. This is used a lot in perception to indicate that the surface is correct or has a great probability of being wrong. In this case, it's given a random number."
   ]
  },
  {
   "cell_type": "markdown",
   "metadata": {},
   "source": [
    "To visualise it, RVIZ always selects the element and the topic. An interesting option is the coloring, which can be done automatically (as in the likelihood) or given a flat color:"
   ]
  },
  {
   "cell_type": "markdown",
   "metadata": {},
   "source": [
    "<img src=\"img/rvizmarkers_unit2_polygonelement.png\"/>"
   ]
  },
  {
   "cell_type": "markdown",
   "metadata": {},
   "source": [
    "<p style=\"background:green;color:white;\">polygon_array.py</p>"
   ]
  },
  {
   "cell_type": "code",
   "execution_count": null,
   "metadata": {
    "collapsed": true
   },
   "outputs": [],
   "source": [
    "#!/usr/bin/env python\n",
    "\n",
    "import rospy\n",
    "from jsk_recognition_msgs.msg import PolygonArray\n",
    "from geometry_msgs.msg import Polygon, PolygonStamped, Point32\n",
    "from std_msgs.msg import Header\n",
    "from math import sin, cos, pi\n",
    "import numpy as np\n",
    "\n",
    "def SquarePolygon(header):\n",
    "    p = PolygonStamped()\n",
    "    p.header = header\n",
    "    p.polygon.points = [Point32(x=1.0, y=1.0),\n",
    "                        Point32(x=-1.0, y=1.0),\n",
    "                        Point32(x=-1.0, y=-1.0),\n",
    "                        Point32(x=1.0, y=-1.0)]\n",
    "    return p\n",
    "    \n",
    "def RectanglePolygon(header):\n",
    "    p = PolygonStamped()\n",
    "    p.header = header\n",
    "    p.polygon.points = [Point32(x=-1.0, y=1.0, z=1.0),\n",
    "                        Point32(x=-2.0, y=1.0, z=1.0),\n",
    "                        Point32(x=-2.0, y=-1.0, z=1.0),\n",
    "                        Point32(x=-1.0, y=-1.0, z=1.0)]\n",
    "    return p\n",
    "def CirclePolygon(header):\n",
    "    p = PolygonStamped()\n",
    "    p.header = header\n",
    "    for i in range(100):\n",
    "        theta = i / 100.0 * 2.0 * pi\n",
    "        x = 1.0 * cos(theta) + 3.0\n",
    "        y = 1.0 * sin(theta)\n",
    "        p.polygon.points.append(Point32(x=x, y=y))\n",
    "    return p\n",
    "    \n",
    "    # star\n",
    "def StarPolygon(header):\n",
    "    p = PolygonStamped()\n",
    "    p.header = header\n",
    "    p.polygon.points = [Point32(x= .0000, y= 1.0000 + 3.0),\n",
    "                        Point32(x= .2245, y= .3090 + 3.0),\n",
    "                        Point32(x= .9511, y= .3090 + 3.0),\n",
    "                        Point32(x= .3633, y= -.1180 + 3.0),\n",
    "                        Point32(x= .5878, y= -.8090 + 3.0),\n",
    "                        Point32(x= .0000, y= -.3820 + 3.0),\n",
    "                        Point32(x= -.5878, y= -.8090 + 3.0),\n",
    "                        Point32(x= -.3633, y= -.1180 + 3.0),\n",
    "                        Point32(x= -.9511, y= .3090 + 3.0),\n",
    "                        Point32(x= -.2245, y= .3090 + 3.0)]\n",
    "    return p\n",
    "\n",
    "\n",
    "def DynamicPolygon(header):\n",
    "    \"\"\"\n",
    "    Dynamicly changing poligon\n",
    "    \"\"\"\n",
    "    \n",
    "    p = PolygonStamped()\n",
    "    p.header = header\n",
    "    \n",
    "    # Minimum 3, otherwise the normals can't be calculated and gives error.\n",
    "    random_number_edges = np.random.randint(low=3, high=15,size=1)[0]\n",
    "    \n",
    "    for i in range(random_number_edges):\n",
    "        point_object = Point32(x= np.random.ranf(), y= np.random.ranf())\n",
    "        p.polygon.points.append(point_object)\n",
    "    \n",
    "    return p\n",
    "    \n",
    "def MovingSquare(header):\n",
    "    \"\"\"\n",
    "    Dynamicly moving Square\n",
    "    \"\"\"\n",
    "    \n",
    "    p = PolygonStamped()\n",
    "    p.header = header\n",
    "    #print header.stamp.nsecs/100000000.0\n",
    "    dynamic_position_val = sin(header.stamp.nsecs/1000000000.0)\n",
    "    dynamic_position_cos = cos(header.stamp.nsecs/1000000000.0)\n",
    "    #print dynamic_position_val\n",
    "    p.polygon.points = [Point32(x=dynamic_position_val+1.0, y=dynamic_position_val+1.0, z=dynamic_position_val),\n",
    "                        Point32(x=dynamic_position_val-1.0, y=dynamic_position_val+1.0, z=dynamic_position_cos),\n",
    "                        Point32(x=dynamic_position_val-1.0, y=dynamic_position_val-1.0, z=dynamic_position_cos),\n",
    "                        Point32(x=dynamic_position_val+1.0, y=dynamic_position_val-1.0, z=dynamic_position_val)]\n",
    "    return p\n",
    "    \n",
    "\n",
    "\n",
    "\n",
    "def sample_demo():\n",
    "    \"\"\"\n",
    "    Draws a star, circle, rectangle and square \n",
    "    \"\"\"\n",
    "    rospy.init_node(\"polygon_array_sample\")\n",
    "    pub = rospy.Publisher(\"~output\", PolygonArray, queue_size=1)\n",
    "    r = rospy.Rate(10)\n",
    "    while not rospy.is_shutdown():\n",
    "        msg = PolygonArray()\n",
    "        header = Header()\n",
    "        header.frame_id = \"world\"\n",
    "        header.stamp = rospy.Time.now()\n",
    "        msg.header = header\n",
    "        msg.polygons = [SquarePolygon(header),\n",
    "                        RectanglePolygon(header),\n",
    "                        CirclePolygon(header),\n",
    "                        StarPolygon(header)]\n",
    "        msg.labels = [0, 1, 2, 3]\n",
    "        msg.likelihood = [np.random.ranf(), np.random.ranf(), np.random.ranf(), np.random.ranf()]\n",
    "        pub.publish(msg)\n",
    "        r.sleep()\n",
    "        \n",
    "        \n",
    "def dynamic_custom_polygon_demo():\n",
    "    \n",
    "    rospy.init_node(\"polygon_array_dynamic\")\n",
    "    # /polygon_array_dynamic/output\n",
    "    pub = rospy.Publisher(\"~output\", PolygonArray, queue_size=1)\n",
    "    r = rospy.Rate(5)\n",
    "    while not rospy.is_shutdown():\n",
    "        msg = PolygonArray()\n",
    "        header = Header()\n",
    "        header.frame_id = \"world\"\n",
    "        header.stamp = rospy.Time.now()\n",
    "        msg.header = header\n",
    "        msg.polygons = [DynamicPolygon(header)]\n",
    "        msg.labels = [0]\n",
    "        msg.likelihood = [np.random.ranf()]\n",
    "        pub.publish(msg)\n",
    "        r.sleep()\n",
    "        \n",
    "\n",
    "def dynamic_moving_square_demo():\n",
    "    \n",
    "    rospy.init_node(\"polygon_array_dynamic_square\")\n",
    "    # /polygon_array_dynamic/output\n",
    "    pub = rospy.Publisher(\"~output\", PolygonArray, queue_size=1)\n",
    "    r = rospy.Rate(25)\n",
    "    while not rospy.is_shutdown():\n",
    "        msg = PolygonArray()\n",
    "        header = Header()\n",
    "        header.frame_id = \"world\"\n",
    "        header.stamp = rospy.Time.now()\n",
    "        msg.header = header\n",
    "        \n",
    "        msg.polygons = [MovingSquare(header)]\n",
    "        msg.labels = [0]\n",
    "        msg.likelihood = [np.random.ranf()]\n",
    "        pub.publish(msg)\n",
    "        \n",
    "        r.sleep()\n",
    "    \n",
    "    \n",
    "if __name__ == \"__main__\":\n",
    "    #sample_demo()\n",
    "    #dynamic_custom_polygon_demo()\n",
    "    dynamic_moving_square_demo()\n"
   ]
  },
  {
   "cell_type": "markdown",
   "metadata": {},
   "source": [
    "<p style=\"background:green;color:white;\">END polygon_array.py</p>"
   ]
  },
  {
   "cell_type": "markdown",
   "metadata": {},
   "source": [
    "<p style=\"background:#EE9023;color:white;\">Exercise U2-4</p>"
   ]
  },
  {
   "cell_type": "markdown",
   "metadata": {},
   "source": [
    "Execute the polygon_array.pyscript and see the effect.<br>\n",
    "Try this as an EXTRA:\n",
    "<ul>\n",
    "<li>Create a virtual four-wall room around HaroRobot and make them react when Haro gets closer to their position by changing their colors. You can do that by changing the <b>likelihood</b>.</li>\n",
    "<li>Make this virtual room's walls change shape, from square to star, when HaroRobot is turning, simulating perception time to detect when turning.</li>\n",
    "</ul>"
   ]
  },
  {
   "cell_type": "markdown",
   "metadata": {},
   "source": [
    "<p style=\"background:#EE9023;color:white;\">END Exercise U2-4</p>"
   ]
  },
  {
   "cell_type": "markdown",
   "metadata": {},
   "source": [
    "The basic script should be something like this:"
   ]
  },
  {
   "cell_type": "markdown",
   "metadata": {},
   "source": [
    "<img src=\"img/rvizmarkers_unit2_polygons.gif\"/>"
   ]
  },
  {
   "cell_type": "markdown",
   "metadata": {},
   "source": [
    "## Occupancy Grids:"
   ]
  },
  {
   "cell_type": "markdown",
   "metadata": {},
   "source": [
    "This is used a lot in navigation algorithms to indicate which regions of the map, divided in cells, have obstacles or are free."
   ]
  },
  {
   "cell_type": "code",
   "execution_count": null,
   "metadata": {
    "collapsed": true
   },
   "outputs": [],
   "source": [
    "\"\"\"\n",
    "[jsk_recognition_msgs/SimpleOccupancyGridArray]:                                                                                                                          \n",
    "std_msgs/Header header                                                                                                                                                    \n",
    "  uint32 seq                                                                                                                                                              \n",
    "  time stamp                                                                                                                                                              \n",
    "  string frame_id                                                                                                                                                         \n",
    "jsk_recognition_msgs/SimpleOccupancyGrid[] grids                                                                                                                          \n",
    "  std_msgs/Header header                                                                                                                                                  \n",
    "    uint32 seq                                                                                                                                                            \n",
    "    time stamp                                                                                                                                                            \n",
    "    string frame_id                                                                                                                                                       \n",
    "  float32[4] coefficients                                                                                                                                                 \n",
    "  float32 resolution                                                                                                                                                      \n",
    "  geometry_msgs/Point[] cells                                                                                                                                             \n",
    "    float64 x                                                                                                                                                             \n",
    "    float64 y                                                                                                                                                             \n",
    "    float64 z \n",
    "\"\"\""
   ]
  },
  {
   "cell_type": "markdown",
   "metadata": {},
   "source": [
    "It's an array, and therefore, you can represent multiple colored grids. The color is normally assigned automatically, a different one for each grid.<br>\n",
    "Each grid is of the type SimpleOccupancyGrid. As you can see in the message definition, there are TWO headers. One for the array and one for each grid. The relevant one is for each grid and that will condition the representation."
   ]
  },
  {
   "cell_type": "code",
   "execution_count": null,
   "metadata": {
    "collapsed": true
   },
   "outputs": [],
   "source": [
    "occupancy_grid_array = SimpleOccupancyGridArray()\n",
    "\n",
    "free_cell_array = []\n",
    "cell_separation = 0.05\n",
    "offset = 0.0\n",
    "x = 1.0\n",
    "y = 1.0\n",
    "z = 0.0\n",
    "free_cell_array.append(Point(x, y , z ))\n",
    "\n",
    "\n",
    "# Free\n",
    "free_grid = SimpleOccupancyGrid()\n",
    "free_grid.header.frame_id = \"world\"\n",
    "free_grid.header.stamp = now\n",
    "# Orientation of plane normal, [x_vector_value, y_vector_value, z_vector_value, -height], practical effects\n",
    "free_grid.coefficients = [0,0, 1, 0]\n",
    "# Size of each square side in the grid\n",
    "free_grid.resolution = 0.05    #5cm resolution\n",
    "# Here we specify the position of each square in the grid\n",
    "free_grid.cells = free_cell_array\n",
    "\n",
    "\n",
    "occupancy_grid_array.grids.append(free_grid)\n",
    "\n",
    "occupancy_grid_array.header.stamp = now\n",
    "occupancy_grid_array.header.frame_id = \"world\"\n",
    "p.publish(occupancy_grid_array)"
   ]
  },
  {
   "cell_type": "markdown",
   "metadata": {},
   "source": [
    "Some elements to comment on:<br>\n",
    "<ul>\n",
    "<li>You have basically three different elements embedded:<br>\n",
    "The lowest is the free_cell_array. It has all the positions of all the tiles of each grid.<br>\n",
    "Then, you have the SimpleOccupancyGrid, which has all those positions inside the <b>cells</b> variable, defined in the free_cell_array.<br>\n",
    "And the highest is the <b>SimpleOccupancyGridArray</b>. This one has all the grids defined inside it.</li>\n",
    "<li>\n",
    "SimpleOccupancyGrid has some variables worth explaining:<br>\n",
    "<b>coefficients</b>: Although it seems like statistical data, in reality, it is the orientation of the grid.<br>\n",
    "<b>resolution</b>: Size of each tile in the grid<br>\n",
    "</li>\n",
    "</ul>"
   ]
  },
  {
   "cell_type": "markdown",
   "metadata": {},
   "source": [
    "Here you have an example of multiple ways to use it and one where an occupancy grid is implemented. Using two grids, one that represents free spaces and one that is occupied, it reads data from a topic called <b>/haro_world_baselink_tf_translation,</b> which will publish the translation of the HaroRobot to the world frame, giving more or less the position in the grid."
   ]
  },
  {
   "cell_type": "markdown",
   "metadata": {},
   "source": [
    "<p style=\"background:green;color:white;\">occupancy_grid.py</p>"
   ]
  },
  {
   "cell_type": "code",
   "execution_count": null,
   "metadata": {
    "collapsed": true
   },
   "outputs": [],
   "source": [
    "#!/usr/bin/env python\n",
    "\n",
    "import rospy\n",
    "from jsk_recognition_msgs.msg import SimpleOccupancyGridArray, SimpleOccupancyGrid\n",
    "from geometry_msgs.msg import Point, Vector3\n",
    "\n",
    "import random\n",
    "import numpy as np\n",
    "import tf\n",
    "\n",
    "OCP_DIM_ATRIX = 10\n",
    "CELL_SEP_MAX = 0.5\n",
    "CELL_OFFSET_MAX = CELL_SEP_MAX/2.0\n",
    "\n",
    "def cells(x_offset, cell_separation=0.05, random_z=False, z_init = 0):\n",
    "    \"\"\"\n",
    "    Z value is referenced to the one stated in the coefficients -array[3]\n",
    "    \"\"\"\n",
    "    ret = []\n",
    "    for i in range(0, 20):\n",
    "        for j in range(0, 20):\n",
    "            if random_z:\n",
    "                z_value = random.random() + z_init\n",
    "            else:\n",
    "                z_value = z_init\n",
    "            \n",
    "            ret.append(Point(x = cell_separation * i + x_offset, y = cell_separation * j, z = z_value))\n",
    "    return ret\n",
    "\n",
    "\n",
    "\n",
    "def update_free_ocup_cellarrays(occupancy_matrix, cell_separation=CELL_SEP_MAX, offset=CELL_OFFSET_MAX):\n",
    "    \"\"\"\n",
    "    \n",
    "    occupancy_matrix = np.zeros((dim,dim), dtype = 'bool')\n",
    "    \"\"\"\n",
    "    free_cell_array, ocup_cell_array = init_cells()\n",
    "    \n",
    "    for (x,y), value in np.ndenumerate(occupancy_matrix):\n",
    "        if value:\n",
    "            ocup_cell_array.append(Point(x = cell_separation * x + offset, y = cell_separation * y + offset, z = 0))\n",
    "        else:\n",
    "            free_cell_array.append(Point(x = cell_separation * x + offset, y = cell_separation * y + offset, z = 0))\n",
    "    \n",
    "\n",
    "    return free_cell_array, ocup_cell_array\n",
    "\n",
    "\n",
    "\n",
    "def update_occupancy_matrix(matrix_pos):\n",
    "\n",
    "    occupancy_matrix = init_occupancy_matrix(matrix_dim=OCP_DIM_ATRIX)\n",
    "    x_len = occupancy_matrix.shape[0]\n",
    "    y_len = occupancy_matrix.shape[1]\n",
    "    \n",
    "    if not(matrix_pos >= x_len*y_len):\n",
    "    \n",
    "        x_pos = matrix_pos / x_len\n",
    "        y_pos = matrix_pos % x_len\n",
    "        occupancy_matrix[x_pos][y_pos] = True\n",
    "    \n",
    "    return occupancy_matrix\n",
    "\n",
    "\n",
    "def get_haro_world_pos():\n",
    "    haro_pose = None\n",
    "    \n",
    "    try:                \n",
    "        haro_pose = rospy.wait_for_message('/haro_world_baselink_tf_translation', Vector3, timeout=1)\n",
    "    except:\n",
    "        rospy.loginfo(\"Current haro pose not ready yet, retrying\")\n",
    "        \n",
    "    return haro_pose\n",
    "\n",
    "def update_occupancy_matrix_tf():\n",
    "    \"\"\"\n",
    "    Be careful with the grid size.\n",
    "    \"\"\"\n",
    "    x_pos = 0\n",
    "    y_pos = 0\n",
    "    occupancy_matrix = init_occupancy_matrix(matrix_dim=OCP_DIM_ATRIX)\n",
    "    haro_pose = get_haro_world_pos()\n",
    "    if haro_pose:\n",
    "        \n",
    "        x_len = occupancy_matrix.shape[0]\n",
    "        y_len = occupancy_matrix.shape[1]\n",
    "        CELL_SEP_MAX\n",
    "        \n",
    "        x_pos_raw = int(haro_pose.x / CELL_SEP_MAX)\n",
    "        y_pos_raw = int(haro_pose.y / CELL_SEP_MAX)\n",
    "        x_pos = min([x_pos_raw,x_len-1])\n",
    "        y_pos = min([y_pos_raw,y_len-1])\n",
    "    \n",
    "    occupancy_matrix[x_pos][y_pos] = True\n",
    "        \n",
    "    return occupancy_matrix\n",
    "\n",
    "def init_occupancy_matrix(matrix_dim=OCP_DIM_ATRIX):\n",
    "    return np.zeros((matrix_dim,matrix_dim), dtype = 'bool')\n",
    "\n",
    "def init_cells():\n",
    "    return [], []\n",
    "\n",
    "\n",
    "def ocup_matrix_test():\n",
    "    r = rospy.Rate(1)\n",
    "    \n",
    "\n",
    "    while not rospy.is_shutdown():\n",
    "        occupancy_matrix = update_occupancy_matrix_tf()\n",
    "        print occupancy_matrix\n",
    "        r.sleep()\n",
    "\n",
    "\n",
    "\n",
    "def integrated_twogrids_demo():\n",
    "    p = rospy.Publisher(\"/occupancy_grid\", SimpleOccupancyGridArray,  queue_size=1)\n",
    "    r = rospy.Rate(10)\n",
    "    \n",
    "\n",
    "    \n",
    "    free_cell_array, ocup_cell_array = init_cells()\n",
    "    \n",
    "    matrix_pos = 0\n",
    "    while not rospy.is_shutdown():\n",
    "        now = rospy.Time.now()\n",
    "        occupancy_grid_array = SimpleOccupancyGridArray()\n",
    "\n",
    "        #occupancy_matrix = update_occupancy_matrix(matrix_pos)\n",
    "        occupancy_matrix = update_occupancy_matrix_tf()\n",
    "        \n",
    "        free_cell_array, ocup_cell_array = update_free_ocup_cellarrays(occupancy_matrix, cell_separation=CELL_SEP_MAX)\n",
    "\n",
    "        # Free\n",
    "        free_grid = SimpleOccupancyGrid()\n",
    "        free_grid.header.frame_id = \"world\"\n",
    "        free_grid.header.stamp = now\n",
    "        # Orientation of plane normal, [x_vector_value, x_vector_value, x_vector_value, -height], practical effects\n",
    "        free_grid.coefficients = [0,0, 1, 0]\n",
    "        # Size of each square side in the grid\n",
    "        free_grid.resolution = CELL_SEP_MAX    #5cm resolution\n",
    "        # Here we specify the position of each square in the grid\n",
    "        free_grid.cells = free_cell_array\n",
    "        \n",
    "        # Ocup\n",
    "        oc_grid = SimpleOccupancyGrid()\n",
    "        oc_grid.header.frame_id = \"world\"\n",
    "        oc_grid.header.stamp = now\n",
    "        # Orientation of plane normal, [x_vector_value, x_vector_value, x_vector_value, -height], practical effects\n",
    "        oc_grid.coefficients = [0,0, 1, 0]\n",
    "        # Size of each square side in the grid\n",
    "        oc_grid.resolution =CELL_SEP_MAX    #5cm resolution\n",
    "        # Here we specify the position of each square in the grid\n",
    "        oc_grid.cells = ocup_cell_array\n",
    "        \n",
    "        occupancy_grid_array.grids.append(free_grid)\n",
    "        occupancy_grid_array.grids.append(oc_grid)\n",
    "\n",
    "        occupancy_grid_array.header.stamp = now\n",
    "        occupancy_grid_array.header.frame_id = \"world\"\n",
    "        p.publish(occupancy_grid_array)\n",
    "        r.sleep()\n",
    "        matrix_pos += 1\n",
    "        if matrix_pos > occupancy_matrix.size:\n",
    "            matrix_pos = 0\n",
    "\n",
    "\n",
    "def dynamic_grid_demo():\n",
    "    p = rospy.Publisher(\"/occupancy_grid\", SimpleOccupancyGridArray,  queue_size=1)\n",
    "    r = rospy.Rate(1)\n",
    "    \n",
    "    while not rospy.is_shutdown():\n",
    "        now = rospy.Time.now()\n",
    "        occupancy_grid_array = SimpleOccupancyGridArray()\n",
    "        for i in range(1):\n",
    "            occupancy_grid = SimpleOccupancyGrid()\n",
    "            occupancy_grid.header.frame_id = \"world\"\n",
    "            occupancy_grid.header.stamp = now\n",
    "            # Orientation of plane normal, [x_vector_value, x_vector_value, x_vector_value, -height], practical effects\n",
    "            occupancy_grid.coefficients = [0,0, 1, 0]\n",
    "            # Size of each square side in the grid\n",
    "            occupancy_grid.resolution = 0.5    #5cm resolution\n",
    "            # Here we specify the position of each square in the grid\n",
    "            occupancy_grid.cells = cells(x_offset=0.0, cell_separation=0.5, random_z=True, z_init = 0)\n",
    "            occupancy_grid_array.grids.append(occupancy_grid)\n",
    "        occupancy_grid_array.header.stamp = now\n",
    "        occupancy_grid_array.header.frame_id = \"world\"\n",
    "        p.publish(occupancy_grid_array)\n",
    "        r.sleep()\n",
    "\n",
    "def sample_demo():\n",
    "    \n",
    "    p = rospy.Publisher(\"/occupancy_grid\", SimpleOccupancyGridArray,  queue_size=1)\n",
    "\n",
    "    r = rospy.Rate(1)\n",
    "    \n",
    "    while not rospy.is_shutdown():\n",
    "        now = rospy.Time.now()\n",
    "        occupancy_grid_array = SimpleOccupancyGridArray()\n",
    "        for i in range(10):\n",
    "            occupancy_grid = SimpleOccupancyGrid()\n",
    "            occupancy_grid.header.frame_id = \"world\"\n",
    "            occupancy_grid.header.stamp = now\n",
    "            occupancy_grid.coefficients = [0, 0, 1, i * 0.2]\n",
    "            occupancy_grid.resolution = 0.05      #5cm resolution\n",
    "            occupancy_grid.cells = cells(i / 2.0)\n",
    "            occupancy_grid_array.grids.append(occupancy_grid)\n",
    "        occupancy_grid_array.header.stamp = now\n",
    "        occupancy_grid_array.header.frame_id = \"world\"\n",
    "        p.publish(occupancy_grid_array)\n",
    "        r.sleep()\n",
    "\n",
    "\n",
    "if __name__ == \"__main__\":\n",
    "    rospy.init_node(\"test_occupancy_grid\")\n",
    "    #sample_demo()\n",
    "    #dynamic_grid_demo()\n",
    "    integrated_twogrids_demo()\n",
    "    #ocup_matrix_test()\n",
    "\n",
    "  "
   ]
  },
  {
   "cell_type": "markdown",
   "metadata": {},
   "source": [
    "<p style=\"background:green;color:white;\">END occupancy_grid.py</p>"
   ]
  },
  {
   "cell_type": "markdown",
   "metadata": {},
   "source": [
    "<p style=\"background:#EE9023;color:white;\">Exercise U2-5</p>"
   ]
  },
  {
   "cell_type": "markdown",
   "metadata": {},
   "source": [
    "Execute the occupancy_grid.py script and see the effect.<br>\n",
    "Try this as an EXTRA:\n",
    "<ul>\n",
    "<li>Create a dynamic grid that changes color, depending on the height of Haro.</li>\n",
    "<li>Make an occupancy grid with better resolution. Have smaller tiles that turn another color around the location of Haro. They have to react in a radius from that location. Make it able to change that radius.</li>\n",
    "</ul>"
   ]
  },
  {
   "cell_type": "markdown",
   "metadata": {},
   "source": [
    "<p style=\"background:#EE9023;color:white;\">END Exercise U2-5</p>"
   ]
  },
  {
   "cell_type": "markdown",
   "metadata": {},
   "source": [
    "You should see something similar to this if you execute the <b>integrated_twogrids_demo<b>."
   ]
  },
  {
   "cell_type": "markdown",
   "metadata": {},
   "source": [
    "<img src=\"img/rvizmarkers_unit2_ocupancygrid.gif\"/>"
   ]
  },
  {
   "cell_type": "markdown",
   "metadata": {},
   "source": [
    "## Pictograms"
   ]
  },
  {
   "cell_type": "markdown",
   "metadata": {},
   "source": [
    "Pictograms are nothing more than icons extracted from fontawsome that can appear in RVIZ. This is very useful to graphically show the detections made by the robot. For example, if it's doing object recognition, when it recognises an apple, an apple icon could appear just above the location where the apple has been detected. For people as well. Or even text recognition, because it can also depict simple text instead of pictograms."
   ]
  },
  {
   "cell_type": "markdown",
   "metadata": {},
   "source": [
    "Let's comment on the fundamentals of this:"
   ]
  },
  {
   "cell_type": "code",
   "execution_count": null,
   "metadata": {
    "collapsed": true
   },
   "outputs": [],
   "source": [
    "p = rospy.Publisher(\"/pictogram_array\", PictogramArray,  queue_size=1)"
   ]
  },
  {
   "cell_type": "markdown",
   "metadata": {},
   "source": [
    "First, as always, you have to create the publisher that RVIZ will use."
   ]
  },
  {
   "cell_type": "code",
   "execution_count": null,
   "metadata": {
    "collapsed": true
   },
   "outputs": [],
   "source": [
    "arr = PictogramArray()\n",
    "arr.header.frame_id = \"/world\"\n",
    "arr.header.stamp = rospy.Time.now()"
   ]
  },
  {
   "cell_type": "markdown",
   "metadata": {},
   "source": [
    "Create a PictogramArray, where all the pictograms will be stored.<br>\n",
    "Here you will also set the global header."
   ]
  },
  {
   "cell_type": "code",
   "execution_count": null,
   "metadata": {
    "collapsed": true
   },
   "outputs": [],
   "source": [
    "msg = Pictogram()\n",
    "msg.header.frame_id = object_frames[index]\n",
    "msg.action = actions[0]\n",
    "msg.header.stamp = rospy.Time.now()\n",
    "msg.pose.position.x = 0\n",
    "msg.pose.position.y = 0\n",
    "msg.pose.position.z = 0.5\n",
    "# It has to be like this to have them vertically orient the icons.\n",
    "msg.pose.orientation.w = 0.7\n",
    "msg.pose.orientation.x = 0\n",
    "msg.pose.orientation.y = -0.7\n",
    "msg.pose.orientation.z = 0\n",
    "msg.size = 1\n",
    "msg.color.r = 25 / 255.0\n",
    "msg.color.g = 255 / 255.0\n",
    "msg.color.b = 240 / 255.0\n",
    "msg.color.a = 1.0\n",
    "character = \"fa-adn\"\n",
    "msg.character = character\n",
    "arr.pictograms.append(msg)"
   ]
  },
  {
   "cell_type": "markdown",
   "metadata": {},
   "source": [
    "Here you create a Pictogram object. Let's talk about the important values:<br>\n",
    "<ul>\n",
    "<li>header.frame_id: This is very important because if you set this to the base frame of the object, it will position the icon that is always referred to it.</li>\n",
    "<li>action: Action is what you want it to be doing. Basically, you can make the icon spin in X,Y, or Z (ROTATE_Z=2, ROTATE_Y=3, ROTATE_X=4). And you can also make it jump once (JUMP_ONCE=6) when it appears, or continue jumping forever (JUMP=5).</li>\n",
    "<li>pose: Relative to the frame given.</li>\n",
    "<li>color: The color of the icon</li>\n",
    "<li>character: The FontAwsome character of the ones with available extras. Here you have a list: [List of All available Icons](extra_files/all_icons_list.txt)</li>\n",
    "</ul>"
   ]
  },
  {
   "cell_type": "markdown",
   "metadata": {},
   "source": [
    "This is the complete variable tree:"
   ]
  },
  {
   "cell_type": "code",
   "execution_count": 4,
   "metadata": {},
   "outputs": [
    {
     "data": {
      "text/plain": [
       "'\\n[jsk_rviz_plugins/Pictogram]:                                                                                                                                             \\nuint8 ADD=0                                                                                                                                                               \\nuint8 DELETE=1  \\n\\n# Rotate in different axis while active\\nuint8 ROTATE_Z=2                                                                                                                                                          \\nuint8 ROTATE_Y=3                                                                                                                                                          \\nuint8 ROTATE_X=4                                                                                                                                                          \\n\\n# continuosly jump icon\\nuint8 JUMP=5\\n# jump only once icon \\nuint8 JUMP_ONCE=6                                                                                                                                                        \\n\\n# Will show the pictograms associated with the strings given\\nuint8 PICTOGRAM_MODE=0\\n# Will show the strings and not the icons associated\\nuint8 STRING_MODE=1\\n\\nstd_msgs/Header header                                                                                                                                                    \\n  uint32 seq                                                                                                                                                              \\n  time stamp                                                                                                                                                              \\n  string frame_id                                                                                                                                                         \\ngeometry_msgs/Pose pose                                                                                                                                                   \\n  geometry_msgs/Point position                                                                                                                                            \\n    float64 x                                                                                                                                                             \\n    float64 y                                                                                                                                                             \\n    float64 z                                                                                                                                                             \\n  geometry_msgs/Quaternion orientation                                                                                                                                    \\n    float64 x                                                                                                                                                             \\n    float64 y                                                                                                                                                             \\n    float64 z                                                                                                                                                             \\n    float64 w                                                                                                                                                             \\nuint8 action                                                                                                                                                              \\nuint8 mode                                                                                                                                                                \\nstring character                                                                                                                                                          \\nfloat64 size  \\n# Time in seconds it is active and then disappears\\nfloat64 ttl\\n# Speed of rotation, no effect on jump\\nfloat64 speed                                                                                                                                                             \\nstd_msgs/ColorRGBA color                                                                                                                                                  \\n  float32 r                                                                                                                                                               \\n  float32 g                                                                                                                                                               \\n  float32 b                                                                                                                                                               \\n  float32 a \\n'"
      ]
     },
     "execution_count": 4,
     "metadata": {},
     "output_type": "execute_result"
    }
   ],
   "source": [
    "\"\"\"\n",
    "[jsk_rviz_plugins/Pictogram]:                                                                                                                                             \n",
    "uint8 ADD=0                                                                                                                                                               \n",
    "uint8 DELETE=1  \n",
    "\n",
    "# Rotate in different axis while active\n",
    "uint8 ROTATE_Z=2                                                                                                                                                          \n",
    "uint8 ROTATE_Y=3                                                                                                                                                          \n",
    "uint8 ROTATE_X=4                                                                                                                                                          \n",
    "\n",
    "# continuosly jump icon\n",
    "uint8 JUMP=5\n",
    "# jump only once icon \n",
    "uint8 JUMP_ONCE=6                                                                                                                                                        \n",
    "\n",
    "# Will show the pictograms associated with the strings given\n",
    "uint8 PICTOGRAM_MODE=0\n",
    "# Will show the strings and not the icons associated\n",
    "uint8 STRING_MODE=1\n",
    "\n",
    "std_msgs/Header header                                                                                                                                                    \n",
    "  uint32 seq                                                                                                                                                              \n",
    "  time stamp                                                                                                                                                              \n",
    "  string frame_id                                                                                                                                                         \n",
    "geometry_msgs/Pose pose                                                                                                                                                   \n",
    "  geometry_msgs/Point position                                                                                                                                            \n",
    "    float64 x                                                                                                                                                             \n",
    "    float64 y                                                                                                                                                             \n",
    "    float64 z                                                                                                                                                             \n",
    "  geometry_msgs/Quaternion orientation                                                                                                                                    \n",
    "    float64 x                                                                                                                                                             \n",
    "    float64 y                                                                                                                                                             \n",
    "    float64 z                                                                                                                                                             \n",
    "    float64 w                                                                                                                                                             \n",
    "uint8 action                                                                                                                                                              \n",
    "uint8 mode                                                                                                                                                                \n",
    "string character                                                                                                                                                          \n",
    "float64 size  \n",
    "# Time in seconds it is active and then disappears\n",
    "float64 ttl\n",
    "# Speed of rotation, no effect on jump\n",
    "float64 speed                                                                                                                                                             \n",
    "std_msgs/ColorRGBA color                                                                                                                                                  \n",
    "  float32 r                                                                                                                                                               \n",
    "  float32 g                                                                                                                                                               \n",
    "  float32 b                                                                                                                                                               \n",
    "  float32 a \n",
    "\"\"\""
   ]
  },
  {
   "cell_type": "markdown",
   "metadata": {},
   "source": [
    "This is the code used for the demo you saw at the beginning that puts icons obove the robot, the standing person, and in the center of the world."
   ]
  },
  {
   "cell_type": "markdown",
   "metadata": {},
   "source": [
    "<p style=\"background:green;color:white;\">pictogram_array_objects_demo.py</p>"
   ]
  },
  {
   "cell_type": "code",
   "execution_count": null,
   "metadata": {
    "collapsed": true
   },
   "outputs": [],
   "source": [
    "#!/usr/bin/env python\n",
    "\n",
    "#\n",
    "# Please run rviz by rosrun rviz rviz -d `rospack find jsk_rviz_plugins`/config/pictogram.rviz\n",
    "#\n",
    "\n",
    "import rospy\n",
    "import math\n",
    "from jsk_rviz_plugins.msg import Pictogram, PictogramArray\n",
    "from random import random, choice\n",
    "rospy.init_node(\"pictogram_object_demo_node\")\n",
    "p = rospy.Publisher(\"/pictogram_array\", PictogramArray,  queue_size=1)\n",
    "\n",
    "r = rospy.Rate(1)\n",
    "actions = [Pictogram.JUMP, Pictogram.JUMP_ONCE, Pictogram.ADD, \n",
    "           Pictogram.ROTATE_X, Pictogram.ROTATE_Y, Pictogram.ROTATE_Z]\n",
    "pictograms = [\"fa-adn\",\"fa-align-center\",\"fa-align-justify\"]\n",
    "object_frames = [\"/world\",\"/person_standing\",\"haro_base_link\"]\n",
    "\n",
    "while not rospy.is_shutdown():\n",
    "    \n",
    "    arr = PictogramArray()\n",
    "    arr.header.frame_id = \"/world\"\n",
    "    arr.header.stamp = rospy.Time.now()\n",
    "    for index, character in enumerate(pictograms):\n",
    "        msg = Pictogram()\n",
    "        msg.header.frame_id = object_frames[index]\n",
    "        msg.action = actions[0]\n",
    "        msg.header.stamp = rospy.Time.now()\n",
    "        msg.pose.position.x = 0\n",
    "        msg.pose.position.y = 0\n",
    "        msg.pose.position.z = 0.5\n",
    "        # It has to be like this to have them vertically orient the icons.\n",
    "        msg.pose.orientation.w = 0.7\n",
    "        msg.pose.orientation.x = 0\n",
    "        msg.pose.orientation.y = -0.7\n",
    "        msg.pose.orientation.z = 0\n",
    "        msg.size = 1\n",
    "        msg.color.r = 25 / 255.0\n",
    "        msg.color.g = 255 / 255.0\n",
    "        msg.color.b = 240 / 255.0\n",
    "        msg.color.a = 1.0\n",
    "        msg.character = character\n",
    "        arr.pictograms.append(msg)\n",
    "        \n",
    "    p.publish(arr)\n",
    "    r.sleep()\n",
    "\n"
   ]
  },
  {
   "cell_type": "markdown",
   "metadata": {},
   "source": [
    "<p style=\"background:green;color:white;\">END pictogram_array_objects_demo.py</p>"
   ]
  },
  {
   "cell_type": "markdown",
   "metadata": {},
   "source": [
    "<p style=\"background:#EE9023;color:white;\">Exercise U2-6</p>"
   ]
  },
  {
   "cell_type": "markdown",
   "metadata": {},
   "source": [
    "Execute the pictogram_array_objects_demo.py script and see the effect.<br>\n",
    "Try this as an EXTRA:\n",
    "<ul>\n",
    "<li>Create icons that only appear when you go over certain locations on the map, and then they stay there.</li>\n",
    "<li>Make the icon over the HaroRobot jump when Haro moves, and stop jumping when it stops.</li>\n",
    "</ul>"
   ]
  },
  {
   "cell_type": "markdown",
   "metadata": {},
   "source": [
    "<p style=\"background:#EE9023;color:white;\">END Exercise U2-6</p>"
   ]
  },
  {
   "cell_type": "markdown",
   "metadata": {},
   "source": [
    "### Congratulations! This unit was long, wasn't it? But you learned tons of very useful Special Markers."
   ]
  },
  {
   "cell_type": "markdown",
   "metadata": {},
   "source": [
    "Next, we will be adding displays in the RVIZ"
   ]
  }
 ],
 "metadata": {
  "kernelspec": {
   "display_name": "Python 3",
   "language": "python",
   "name": "python3"
  },
  "language_info": {
   "codemirror_mode": {
    "name": "ipython",
    "version": 3
   },
   "file_extension": ".py",
   "mimetype": "text/x-python",
   "name": "python",
   "nbconvert_exporter": "python",
   "pygments_lexer": "ipython3",
   "version": "3.6.1"
  }
 },
 "nbformat": 4,
 "nbformat_minor": 1
}
