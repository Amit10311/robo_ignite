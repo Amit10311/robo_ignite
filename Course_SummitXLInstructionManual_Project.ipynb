{
 "cells": [
  {
   "cell_type": "markdown",
   "metadata": {},
   "source": [
    "# Patrole with Summit XL Micro Project "
   ]
  },
  {
   "cell_type": "markdown",
   "metadata": {},
   "source": [
    "<img src=\"img/robotnik_logo.png\" width=\"300\"/>"
   ]
  },
  {
   "cell_type": "markdown",
   "metadata": {},
   "source": [
    "<img src=\"img/robotignite_logo_text.png\" width=\"300\"/>"
   ]
  },
  {
   "cell_type": "markdown",
   "metadata": {},
   "source": [
    "In this microproject you will have to apply all that you learned in previous units to create a program that makes the omnidirectional wheels mode Summit XL patrole around a building using indoor navigation when insdie a building and GPS data when outdoors.<br>\n",
    "If it finds someone on its path, it will have to stop its movement and give alarm."
   ]
  },
  {
   "cell_type": "markdown",
   "metadata": {},
   "source": [
    "<img src=\"img/summit_xl_project_intro1.png\"/>"
   ]
  },
  {
   "cell_type": "markdown",
   "metadata": {},
   "source": [
    "## Scene"
   ]
  },
  {
   "cell_type": "markdown",
   "metadata": {},
   "source": [
    "Your Summit XL with omnidirectional wheels starts in a structure.<br>\n",
    "Surounding that structure you can find a big outdoor terrain. There you can find three persons. Each person is standing near a signal. Some people will be static, some of them won't."
   ]
  },
  {
   "cell_type": "markdown",
   "metadata": {},
   "source": [
    "<img src=\"img/summit_xl_project_intro2.png\"/>"
   ]
  },
  {
   "cell_type": "markdown",
   "metadata": {},
   "source": [
    "Take a strole around to have a closer look at all the terrain and elements. Also get used to the way this new weels perform."
   ]
  },
  {
   "cell_type": "markdown",
   "metadata": {},
   "source": [
    "<table style=\"float:left;background: #407EAF\">\n",
    "<tr>\n",
    "<th>\n",
    "<p class=\"transparent\">Execute in WebShell #1</p><br>\n",
    "roslaunch summit_xl_gazebo keyboard.launch\n",
    "</th>\n",
    "</tr>\n",
    "</table>"
   ]
  },
  {
   "cell_type": "markdown",
   "metadata": {},
   "source": [
    "You can also publish in the topic **/summit_xl_control/cmd_vel** if you want a full controle and move the robot sideways. This is something that the standard robot didnt have, the ability of moving sideways. In the simulation the wheels dont move to produce this movement, but in reality they do. This is due to the limitations of friction simulation."
   ]
  },
  {
   "cell_type": "raw",
   "metadata": {},
   "source": [
    "rostopic pub /summit_xl_control/cmd_vel geometry_msgs/Twist \"linear:\n",
    "  x: 0.0\n",
    "  y: 1.0\n",
    "  z: 0.0\n",
    "angular:\n",
    "  x: 0.0\n",
    "  y: 0.0\n",
    "  z: 0.0\""
   ]
  },
  {
   "cell_type": "markdown",
   "metadata": {},
   "source": [
    "<img src=\"img/summit_xl_manual_project_sideways.gif\"/>"
   ]
  },
  {
   "cell_type": "markdown",
   "metadata": {},
   "source": [
    "See it in real action to see that it performs exactly as in simulation, <a href=\"https://www.youtube.com/watch?v=_tmiu1wpp_E\">Video Demo</a>."
   ]
  },
  {
   "cell_type": "markdown",
   "metadata": {},
   "source": [
    "## Summit Model"
   ]
  },
  {
   "cell_type": "markdown",
   "metadata": {},
   "source": [
    "The model you are using in this project is exactly the same one, except that:\n",
    "* The sensors are on a tray, this means that the readings will be slighly different.\n",
    "* The most important, is that the wheels are omnidirectional. This menas that the robot will be able to move on th e terrain with more freedom."
   ]
  },
  {
   "cell_type": "markdown",
   "metadata": {},
   "source": [
    "<img src=\"img/summit_xl_project_model.png\"/>"
   ]
  },
  {
   "cell_type": "markdown",
   "metadata": {},
   "source": [
    "## Tasks to accomplish"
   ]
  },
  {
   "cell_type": "markdown",
   "metadata": {},
   "source": [
    "To consider finished succesfully the project, you will have to fullfill these tasks:\n",
    "* Create a script that moves the robot around with simple /cmd_vel publishing. See the range of movement of this new robot model.\n",
    "* Create the mapping launches, and map the simple wooden structure. You have to finish with a clean map of that structure and specially have mapped the way out.\n",
    "* Set up the move base system so that you can publish a goal to move_base outside the structure and SummitXL can get out of the structure by itself. This can be quite chalenging because you will have to tweek the parameters of the costmaps to move around narrow spaces.\n",
    "* Setup the launch to be able to localise the SummitXL only with GPS, odometry and IMU data. For this you will have to convert the GPS data into XY, publish this data into TF and also publish the TF of the map frame.\n",
    "* Create a program that allows the SummitXL navigate outdoors only by giving it GPS coordinates. For that you will have to create a program that publishes into the movebase action server. Bare in mind that you will also have to convert the latitude and longitude to normal XY space.\n",
    "* Create a program that when it detects a person, it publishes the GPS location into a topic called **/intruders**. The detections have to be a combination of leg detection through lasers and image recognition. The topic of **/intruders** will have GPS position of detection and reliability index of that detection.\n",
    "* Finaly, create a global program that combines all prior. This means that it will have to be able to change from map navigation to GPS navigation based on its location. It will also have to be able to move following a circuit. If a human detection is made it has to notify it and change of circuit."
   ]
  }
 ],
 "metadata": {
  "kernelspec": {
   "display_name": "Python 2",
   "language": "python",
   "name": "python2"
  },
  "language_info": {
   "codemirror_mode": {
    "name": "ipython",
    "version": 2
   },
   "file_extension": ".py",
   "mimetype": "text/x-python",
   "name": "python",
   "nbconvert_exporter": "python",
   "pygments_lexer": "ipython2",
   "version": "2.7.12"
  }
 },
 "nbformat": 4,
 "nbformat_minor": 1
}
