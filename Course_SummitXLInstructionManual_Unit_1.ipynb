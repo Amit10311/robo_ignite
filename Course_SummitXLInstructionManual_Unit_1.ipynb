{
 "cells": [
  {
   "cell_type": "markdown",
   "metadata": {},
   "source": [
    "# Unit 1: Set Indoor Navigation Stack"
   ]
  },
  {
   "cell_type": "markdown",
   "metadata": {},
   "source": [
    "<img src=\"img/summit_xl_instruction_manual_unit1_intro_v2.png\"/>"
   ]
  },
  {
   "cell_type": "markdown",
   "metadata": {},
   "source": [
    "<img src=\"img/robotnik_logo.png\" width=\"300\"/>"
   ]
  },
  {
   "cell_type": "markdown",
   "metadata": {},
   "source": [
    "<img src=\"img/robotignite_logo_text.png\" width=\"300\"/>"
   ]
  },
  {
   "cell_type": "markdown",
   "metadata": {},
   "source": [
    "The first thing you will need for a robot that patroles is the ability to move around without crashing into everything. For this you will learn:<br>\n",
    "* How to move the robot\n",
    "* How to set the navigation stack to be able to send him a location and be able to reach that destination.\n",
    "* How to send it a sequence of waypoints and execute those movements."
   ]
  },
  {
   "cell_type": "markdown",
   "metadata": {},
   "source": [
    "## Move Summit XL"
   ]
  },
  {
   "cell_type": "markdown",
   "metadata": {},
   "source": [
    "In this case you have the standard wheel model with skid-steering. In escence this make it a normal vehicle that has manouver much more to get to a location and orientation. In th eproject you will use the omnidirectional wheels model."
   ]
  },
  {
   "cell_type": "markdown",
   "metadata": {},
   "source": [
    "To move it you just have to publish in the topic **/summit_xl_control/cmd_vel**."
   ]
  },
  {
   "cell_type": "markdown",
   "metadata": {},
   "source": [
    "<p style=\"background:#EE9023;color:white;\">Exercise U1-1</p>"
   ]
  },
  {
   "cell_type": "markdown",
   "metadata": {},
   "source": [
    "Publish through the web shell in the mentioned topic and see if you can make SummitXL move forwards, backwards, left, right and in circles."
   ]
  },
  {
   "cell_type": "markdown",
   "metadata": {},
   "source": [
    "<p style=\"background:#EE9023;color:white;\">END Exercise U1-1</p>"
   ]
  },
  {
   "cell_type": "markdown",
   "metadata": {},
   "source": [
    "You should have done something like this:"
   ]
  },
  {
   "cell_type": "markdown",
   "metadata": {},
   "source": [
    "<table style=\"float:left;background: #407EAF\">\n",
    "<tr>\n",
    "<th>\n",
    "<p class=\"transparent\">Execute in WebShell #1</p><br>\n",
    "rostopic pub /summit_xl_control/cmd_vel geometry_msgs/Twist [TAB][TAB]\n",
    "</th>\n",
    "</tr>\n",
    "</table>"
   ]
  },
  {
   "cell_type": "markdown",
   "metadata": {},
   "source": [
    "With this command you can then fill in the structure that appears after hitting TAB key two consecutive times, to publish the message."
   ]
  },
  {
   "cell_type": "markdown",
   "metadata": {},
   "source": [
    "<table style=\"float:left;background: #407EAF\">\n",
    "<tr>\n",
    "<th>\n",
    "<p class=\"transparent\">Execute in WebShell #1</p><br>\n",
    "rostopic info /summit_xl_control/cmd_vel\n",
    "</th>\n",
    "</tr>\n",
    "</table>"
   ]
  },
  {
   "cell_type": "markdown",
   "metadata": {},
   "source": [
    "Like this you would get the type of message to publish in that topic."
   ]
  },
  {
   "cell_type": "raw",
   "metadata": {},
   "source": [
    "Type: geometry_msgs/Twist\n",
    "Publishers:\n",
    " * /twist_mux (http://ip-172-31-42-0:38506/)\n",
    "Subscribers:\n",
    " * /summit_xl_robot_control (http://ip-172-31-42-0:52042/)"
   ]
  },
  {
   "cell_type": "markdown",
   "metadata": {},
   "source": [
    "As you can see the type of the message is the classical **geometry_msgs/Twist**. It will move as any differential drive that you have used. That is you move it by only publishing in the **linear.x** and the **angular.z**.<br>\n",
    "Of ocurse this is not the way you will use it. You normally need to move it manually to make tests, so the best way is to create a keyboard teleop system that can move the SummitXL through the keyboard or any other similar device.<br>\n",
    "Here you have an example of launch file that could be used for this matter:"
   ]
  },
  {
   "cell_type": "markdown",
   "metadata": {},
   "source": [
    "**start_teleop.launch**"
   ]
  },
  {
   "cell_type": "code",
   "execution_count": null,
   "metadata": {
    "collapsed": true
   },
   "outputs": [],
   "source": [
    "<launch>\n",
    "  <!-- turtlebot_teleop_key already has its own built in velocity smoother -->\n",
    "  <node pkg=\"turtlebot_teleop\" type=\"turtlebot_teleop_key.py\" name=\"turtlebot_teleop_keyboard\"  output=\"screen\">\n",
    "    <param name=\"scale_linear\" value=\"0.5\" type=\"double\"/>\n",
    "    <param name=\"scale_angular\" value=\"1.5\" type=\"double\"/>\n",
    "    <remap from=\"turtlebot_teleop_keyboard/cmd_vel\" to=\"/summit_xl_control/cmd_vel\"/>\n",
    "  </node>\n",
    "</launch>"
   ]
  },
  {
   "cell_type": "markdown",
   "metadata": {},
   "source": [
    "There two point to talk about here:<br>\n",
    "* turtlebot_teleop_key.py: This is the program used to capture the keys pressed in the terminal and converts them to Twist commands that are then published into the topic **turtlebot_teleop_keyboard/cmd_vel**\n",
    "\n",
    "* remap: This remap is to transfer all the information published in **turtlebot_teleop_keyboard/cmd_vel** in the topic that SummitXL controller is listening to **/summit_xl_control/cmd_vel**."
   ]
  },
  {
   "cell_type": "markdown",
   "metadata": {},
   "source": [
    "Of ocurse you could publish directly into **/summit_xl_control/cmd_vel**, but then you would have to create your own version of **turtlebot_teleop_key.py**. Thanks to the ROS infraestructure, this way you recicle code, and get work done faster."
   ]
  },
  {
   "cell_type": "markdown",
   "metadata": {},
   "source": [
    "<p style=\"background:#EE9023;color:white;\">Exercise U1-2</p>"
   ]
  },
  {
   "cell_type": "markdown",
   "metadata": {},
   "source": [
    "Create a package that you  will use along the rest of this course where you can have all your programs. Use the name **my_sumit_xl_tools** for future refference.<br>\n",
    "Then create your own launch for keyboard teleoperation based on the example and play around with SummitXL. See how it moves and its limitations. This is crucial to know what you can do with your robot."
   ]
  },
  {
   "cell_type": "markdown",
   "metadata": {},
   "source": [
    "<p style=\"background:#EE9023;color:white;\">END Exercise U1-2</p>"
   ]
  },
  {
   "cell_type": "markdown",
   "metadata": {},
   "source": [
    "Remember that you can also use the **interactive_markers** to move Summit_XL around. To have them operational you just have to launch the node **marker_server** from the package **interactive_marker_twist_server**.\n",
    "This node just publishes by default in the topic **twist_marker_server/cmd_vel** Twist commands through the **RVIZ** interactive marker element.\n",
    "You have more informaion <a href=\"http://wiki.ros.org/interactive_marker_twist_server\">here</a>."
   ]
  },
  {
   "cell_type": "markdown",
   "metadata": {},
   "source": [
    "Here you have an example on how it should be launched:"
   ]
  },
  {
   "cell_type": "markdown",
   "metadata": {},
   "source": [
    "**start_interactivemarker.launch**"
   ]
  },
  {
   "cell_type": "code",
   "execution_count": null,
   "metadata": {
    "collapsed": true
   },
   "outputs": [],
   "source": [
    "<launch>\n",
    "    <node pkg=\"interactive_marker_twist_server\" type=\"marker_server\" name=\"twist_marker_server\">\n",
    "        <remap from=\"twist_marker_server/cmd_vel\" to=\"/cmd_vel\" />\n",
    "    </node>\n",
    "</launch>"
   ]
  },
  {
   "cell_type": "markdown",
   "metadata": {},
   "source": [
    "Note that there is a **remap** to the topic where the Sumit_XL listens to **Twists** commands. In this case **/cmd_vel**, which is the standard.<br>\n",
    "You now only have to add into the RVIZ session, an **interactive_marker** element and select the topic **/twist_marker_server/update**."
   ]
  },
  {
   "cell_type": "markdown",
   "metadata": {},
   "source": [
    "<img src=\"img/summit_xl_manual_unit1_interactivemarker.png\" width=\"300\"/>"
   ]
  },
  {
   "cell_type": "markdown",
   "metadata": {},
   "source": [
    "When you launch the **start_interactivemarker.launch** and added the corresponding element in RVIZ, you shoudl get something similar to this:"
   ]
  },
  {
   "cell_type": "markdown",
   "metadata": {},
   "source": [
    "<img src=\"img/summit_xl_manual_rviz_interactivezoom.png\"/>"
   ]
  },
  {
   "cell_type": "markdown",
   "metadata": {},
   "source": [
    "## How to navigate without map"
   ]
  },
  {
   "cell_type": "markdown",
   "metadata": {},
   "source": [
    "Here you will learn how to reproduce the system that you launched in the Demo to make Summit XL navigate only with the map generated localy by the detection of obstacles."
   ]
  },
  {
   "cell_type": "markdown",
   "metadata": {},
   "source": [
    "Here we will go over the files and only point out particular elements for Summit XL. If you want to know more details on how navigation is performed in ROS, please do consider to do **RobotIgnites Navigation in ROS Course** before continuing."
   ]
  },
  {
   "cell_type": "markdown",
   "metadata": {},
   "source": [
    "### Create the launch file for move base"
   ]
  },
  {
   "cell_type": "markdown",
   "metadata": {},
   "source": [
    "This is the core of how to make Summit XL move around. The package <a href=\"http://wiki.ros.org/move_base\">move_base</a> makes all the path planning for you.<br>\n",
    "You will use **move_base** for all the navigation, but here it only has Summit XL sensors to detect obstacles.<br>\n",
    "Here you have an example of how **move_base** should be launched."
   ]
  },
  {
   "cell_type": "markdown",
   "metadata": {},
   "source": [
    "**move_base_odom.launch**"
   ]
  },
  {
   "cell_type": "code",
   "execution_count": null,
   "metadata": {
    "collapsed": true
   },
   "outputs": [],
   "source": [
    "<?xml version=\"1.0\"?>\n",
    "<!-- NEW SUMIT XL NAVIGATION -->\n",
    "<launch>\n",
    "   \n",
    "    <arg name=\"no_static_map\" default=\"true\"/>\n",
    "    \n",
    "    <arg name=\"base_global_planner\" default=\"navfn/NavfnROS\"/>\n",
    "    <arg name=\"base_local_planner\" default=\"dwa_local_planner/DWAPlannerROS\"/>\n",
    "    <!-- <arg name=\"base_local_planner\" default=\"base_local_planner/TrajectoryPlannerROS\"/> -->\n",
    "    \n",
    "    <node pkg=\"move_base\" type=\"move_base\" respawn=\"false\" name=\"move_base\" output=\"screen\">\n",
    "        \n",
    "        <param name=\"base_global_planner\" value=\"$(arg base_global_planner)\"/>\n",
    "        <param name=\"base_local_planner\" value=\"$(arg base_local_planner)\"/>  \n",
    "        <rosparam file=\"$(find sumit_xl_tools)/config/planner.yaml\" command=\"load\"/>\n",
    "        \n",
    "        <!-- observation sources located in costmap_common.yaml -->\n",
    "        <rosparam file=\"$(find sumit_xl_tools)/config/costmap_common.yaml\" command=\"load\" ns=\"global_costmap\" />\n",
    "        <rosparam file=\"$(find sumit_xl_tools)/config/costmap_common.yaml\" command=\"load\" ns=\"local_costmap\" />\n",
    "        \n",
    "        <!-- local costmap, needs size -->\n",
    "        <rosparam file=\"$(find sumit_xl_tools)/config/costmap_local.yaml\" command=\"load\" ns=\"local_costmap\" />\n",
    "        <param name=\"local_costmap/width\" value=\"5.0\"/>\n",
    "        <param name=\"local_costmap/height\" value=\"5.0\"/>\n",
    "        \n",
    "        <!-- static global costmap, static map provides size -->\n",
    "        <rosparam file=\"$(find sumit_xl_tools)/config/costmap_global_static.yaml\" command=\"load\" ns=\"global_costmap\" unless=\"$(arg no_static_map)\"/>\n",
    "        \n",
    "        <!-- global costmap with laser, for odom_navigation_demo -->\n",
    "        <rosparam file=\"$(find sumit_xl_tools)/config/costmap_global_laser.yaml\" command=\"load\" ns=\"global_costmap\" if=\"$(arg no_static_map)\"/>\n",
    "        <param name=\"global_costmap/width\" value=\"100.0\" if=\"$(arg no_static_map)\"/>\n",
    "        <param name=\"global_costmap/height\" value=\"100.0\" if=\"$(arg no_static_map)\"/>\n",
    "    </node>\n",
    "\n",
    "</launch>"
   ]
  },
  {
   "cell_type": "markdown",
   "metadata": {},
   "source": [
    "Here we have some elements to comment on:<br>\n",
    "Basically **move_base** takes in configuration files of .yaml format that define everything. From which **planner** its going to use, to how the maps are used or sensors. All of them will be located in a folder, which in this case is caled **config** inside your **my_sumit_xl_tools** package. So lets comment on them:"
   ]
  },
  {
   "cell_type": "markdown",
   "metadata": {},
   "source": [
    "**costmap_common.yaml**"
   ]
  },
  {
   "cell_type": "code",
   "execution_count": null,
   "metadata": {
    "collapsed": true
   },
   "outputs": [],
   "source": [
    "footprint: [[0.35, -0.3], [0.35, 0.3], [-0.35,0.3], [-0.35, -0.3]]\n",
    "footprint_padding: 0.01\n",
    "\n",
    "robot_base_frame: base_link\n",
    "update_frequency: 4.0\n",
    "publish_frequency: 3.0\n",
    "transform_tolerance: 0.5\n",
    "\n",
    "resolution: 0.05\n",
    "\n",
    "obstacle_range: 5.5\n",
    "raytrace_range: 6.0\n",
    "\n",
    "#layer definitions\n",
    "static:\n",
    "    map_topic: /map\n",
    "    subscribe_to_updates: true\n",
    "\n",
    "obstacles_laser:\n",
    "    observation_sources: hokuyo_laser\n",
    "    hokuyo_laser: {sensor_frame: hokuyo_base_link, data_type: LaserScan, clearing: true, marking: true, topic: hokuyo_base/scan, inf_is_valid: true}\n",
    "\n",
    "inflation:\n",
    "    inflation_radius: 1.0\n"
   ]
  },
  {
   "cell_type": "markdown",
   "metadata": {},
   "source": [
    "Comment on some elements that reffer to Summit XL directly:\n",
    "*  **footprint and footprint_padding**: Parameters define the simplified model of the robot into a simple box that surrounds the robot. If you want the robot to navigate always very close to objects, make the padding **smaller**. In this case the value is **0.1** because this model of Summit with normal wheels tends to have certain error when turning, and therefore it not as manuverable as its brother Summit XL with Omnidirectional wheels.\n",
    "* **obstacles_laser**: here the sensor from which the laser data for navigation is defined. In this case the topic is **/hokuyo_base/scan**."
   ]
  },
  {
   "cell_type": "markdown",
   "metadata": {},
   "source": [
    "Also comment on the fact that this file **costmap_common.yaml** is loaded for both namespaces **global_costmap** and **local_costmap**. This menas that it will be used in the local and global planning and generation of both costmaps. Is just a way to recicle code."
   ]
  },
  {
   "cell_type": "markdown",
   "metadata": {},
   "source": [
    "**costmap_local.yaml**"
   ]
  },
  {
   "cell_type": "code",
   "execution_count": null,
   "metadata": {
    "collapsed": true
   },
   "outputs": [],
   "source": [
    "global_frame: odom\n",
    "rolling_window: true\n",
    "\n",
    "plugins:\n",
    "  - {name: obstacles_laser,           type: \"costmap_2d::ObstacleLayer\"}\n",
    "  - {name: inflation,                 type: \"costmap_2d::InflationLayer\"}"
   ]
  },
  {
   "cell_type": "markdown",
   "metadata": {},
   "source": [
    "Here comment:\n",
    "* The **plugins**: here the plugins for the obstacle detection and inflation are loaded and executed. \n",
    "* **global_frame**: In case of the LocalPlanning, it normally can be set always to odom, but it could also be set to /map... Depending on your preferences."
   ]
  },
  {
   "cell_type": "markdown",
   "metadata": {},
   "source": [
    "Also we have to comment on the parameters that are set outside the **yaml** file. This is normaly done when these parameters are needed to be easy to access. As you can see they are set in the **local_costmap** namse space:<br>\n",
    "* **local_costmap/width**\n",
    "* **local_costmap/height**"
   ]
  },
  {
   "cell_type": "markdown",
   "metadata": {},
   "source": [
    "Now in the next loading of the **costmap_global_XX.yaml** , see that there are two options, that will be loaded one or the other, depending on the value of the boolean argument **no_static_map**. In case of having **NO map** you will load the second one **costmap_global_laser.yaml** by setting **no_static_map** to **true**. If **false**, then it will load the **costmap_global_static.yaml** file, which is for situations when you **have** a map.<br>\n",
    "We will talk about both files in this section to have a better understanding."
   ]
  },
  {
   "cell_type": "markdown",
   "metadata": {},
   "source": [
    "**costmap_global_laser.yaml**"
   ]
  },
  {
   "cell_type": "code",
   "execution_count": null,
   "metadata": {
    "collapsed": true
   },
   "outputs": [],
   "source": [
    "global_frame: odom\n",
    "rolling_window: true\n",
    "track_unknown_space: true\n",
    "\n",
    "plugins:\n",
    "  - {name: obstacles_laser,           type: \"costmap_2d::ObstacleLayer\"}\n",
    "  - {name: inflation,                 type: \"costmap_2d::InflationLayer\"}"
   ]
  },
  {
   "cell_type": "markdown",
   "metadata": {},
   "source": [
    "**costmap_global_static.yaml**"
   ]
  },
  {
   "cell_type": "code",
   "execution_count": null,
   "metadata": {
    "collapsed": true
   },
   "outputs": [],
   "source": [
    "global_frame: map\n",
    "rolling_window: false\n",
    "track_unknown_space: true\n",
    "\n",
    "plugins:\n",
    "  - {name: static,                  type: \"costmap_2d::StaticLayer\"}\n",
    "  - {name: inflation,               type: \"costmap_2d::InflationLayer\"}"
   ]
  },
  {
   "cell_type": "markdown",
   "metadata": {},
   "source": [
    "So as you can see the only differences between moving with a map or without are:\n",
    "* **global_frame**: This is set to MAP when you have one, to **odom** if you dont have a map.\n",
    "* **plugins**: The plugins are different becuase they will be based on an existing map or not, because its completely different the way to obtain the costmaps. One is with map data and the other one with laser data."
   ]
  },
  {
   "cell_type": "markdown",
   "metadata": {},
   "source": [
    "And finally coment on the **planners selected**:"
   ]
  },
  {
   "cell_type": "code",
   "execution_count": null,
   "metadata": {
    "collapsed": true
   },
   "outputs": [],
   "source": [
    "    <arg name=\"base_global_planner\" default=\"navfn/NavfnROS\"/>\n",
    "    <arg name=\"base_local_planner\" default=\"dwa_local_planner/DWAPlannerROS\"/>\n",
    "    <!-- <arg name=\"base_local_planner\" default=\"base_local_planner/TrajectoryPlannerROS\"/> -->"
   ]
  },
  {
   "cell_type": "markdown",
   "metadata": {},
   "source": [
    "**planner.yaml**"
   ]
  },
  {
   "cell_type": "code",
   "execution_count": null,
   "metadata": {
    "collapsed": true
   },
   "outputs": [],
   "source": [
    "controller_frequency: 5.0\n",
    "recovery_behaviour_enabled: true\n",
    "\n",
    "NavfnROS:\n",
    "  allow_unknown: true # Specifies whether or not to allow navfn to create plans that traverse unknown space.\n",
    "  default_tolerance: 0.1 # A tolerance on the goal point for the planner.\n",
    "\n",
    "TrajectoryPlannerROS:\n",
    "  # Robot Configuration Parameters\n",
    "  acc_lim_x: 2.5\n",
    "  acc_lim_theta:  3.2\n",
    "\n",
    "  max_vel_x: 1.0\n",
    "  min_vel_x: 0.0\n",
    "\n",
    "  max_vel_theta: 1.0\n",
    "  min_vel_theta: -1.0\n",
    "  min_in_place_vel_theta: 0.2\n",
    "\n",
    "  holonomic_robot: false\n",
    "  escape_vel: -0.1\n",
    "\n",
    "  # Goal Tolerance Parameters\n",
    "  yaw_goal_tolerance: 0.1\n",
    "  xy_goal_tolerance: 0.2\n",
    "  latch_xy_goal_tolerance: false\n",
    "\n",
    "  # Forward Simulation Parameters\n",
    "  sim_time: 2.0\n",
    "  sim_granularity: 0.02\n",
    "  angular_sim_granularity: 0.02\n",
    "  vx_samples: 6\n",
    "  vtheta_samples: 20\n",
    "  controller_frequency: 20.0\n",
    "\n",
    "  # Trajectory scoring parameters\n",
    "  meter_scoring: true # Whether the gdist_scale and pdist_scale parameters should assume that goal_distance and path_distance are expressed in units of meters or cells. Cells are assumed by default (false).\n",
    "  occdist_scale:  0.1 #The weighting for how much the controller should attempt to avoid obstacles. default 0.01\n",
    "  pdist_scale: 0.75  #     The weighting for how much the controller should stay close to the path it was given . default 0.6\n",
    "  gdist_scale: 1.0 #     The weighting for how much the controller should attempt to reach its local goal, also controls speed  default 0.8\n",
    "\n",
    "  heading_lookahead: 0.325  #How far to look ahead in meters when scoring different in-place-rotation trajectories\n",
    "  heading_scoring: false  #Whether to score based on the robot's heading to the path or its distance from the path. default false\n",
    "  heading_scoring_timestep: 0.8   #How far to look ahead in time in seconds along the simulated trajectory when using heading scoring (double, default: 0.8)\n",
    "  dwa: true #Whether to use the Dynamic Window Approach (DWA)_ or whether to use Trajectory Rollout\n",
    "  simple_attractor: false\n",
    "  publish_cost_grid_pc: true  \n",
    "\n",
    "  # Oscillation Prevention Parameters\n",
    "  oscillation_reset_dist: 0.25 #How far the robot must travel in meters before oscillation flags are reset (double, default: 0.05)\n",
    "  escape_reset_dist: 0.1\n",
    "  escape_reset_theta: 0.1\n",
    "\n",
    "DWAPlannerROS:\n",
    "  # Robot configuration parameters  \n",
    "  acc_lim_x: 2.5\n",
    "  acc_lim_y: 0\n",
    "  acc_lim_th: 3.2\n",
    "\n",
    "  max_vel_x: 0.5\n",
    "  min_vel_x: 0.0\n",
    "  max_vel_y: 0\n",
    "  min_vel_y: 0\n",
    "\n",
    "  max_trans_vel: 0.5\n",
    "  min_trans_vel: 0.1\n",
    "  max_rot_vel: 1.0\n",
    "  min_rot_vel: 0.2\n",
    "\n",
    "  # Goal Tolerance Parameters\n",
    "  yaw_goal_tolerance: 0.1\n",
    "  xy_goal_tolerance: 0.2\n",
    "  latch_xy_goal_tolerance: false\n",
    "\n",
    "  # # Forward Simulation Parameters\n",
    "  # sim_time: 2.0\n",
    "  # sim_granularity: 0.02\n",
    "  # vx_samples: 6\n",
    "  # vy_samples: 0\n",
    "  # vtheta_samples: 20\n",
    "  # penalize_negative_x: true\n",
    "\n",
    "  # # Trajectory scoring parameters\n",
    "  # path_distance_bias: 32.0 # The weighting for how much the controller should stay close to the path it was given\n",
    "  # goal_distance_bias: 24.0 # The weighting for how much the controller should attempt to reach its local goal, also controls speed\n",
    "  # occdist_scale: 0.01 # The weighting for how much the controller should attempt to avoid obstacles\n",
    "  # forward_point_distance: 0.325 # The distance from the center point of the robot to place an additional scoring point, in meters\n",
    "  # stop_time_buffer: 0.2  # The amount of time that the robot must stThe absolute value of the veolicty at which to start scaling the robot's footprint, in m/sop before a collision in order for a trajectory to be considered valid in seconds\n",
    "  # scaling_speed: 0.25 # The absolute value of the veolicty at which to start scaling the robot's footprint, in m/s\n",
    "  # max_scaling_factor: 0.2 # The maximum factor to scale the robot's footprint by\n",
    "\n",
    "  # # Oscillation Prevention Parameters\n",
    "  # oscillation_reset_dist: 0.25 #How far the robot must travel in meters before oscillation flags are reset (double, default: 0.05)"
   ]
  },
  {
   "cell_type": "markdown",
   "metadata": {},
   "source": [
    "Here we could comment loads of parameters. Just point out a few really important:\n",
    "* yaw_goal_tolerance: This will indicate how precise you want the robot to be in relation to the given pose. In this case the orientation in the XY plane.\n",
    "*  xy_goal_tolerance: The same but refferd to the position in the plane XY.\n",
    "* holonomic_robot: This is important because the Summit XL when it has Omnidirectional wheels, it can be considered Holonomic. In the cirrent SUmmit Model you are using, its not."
   ]
  },
  {
   "cell_type": "markdown",
   "metadata": {},
   "source": [
    "<a href=\"http://wiki.ros.org/dwa_local_planner\">DWAPlannerROS</a> is the planner used for the local planner. You could also use the <a href=\"http://wiki.ros.org/base_local_planner\">TrajectoryPlannerROS</a>. The main difference is the way the velocities are sampled. But they perform in general cases more or less at the same level."
   ]
  },
  {
   "cell_type": "markdown",
   "metadata": {},
   "source": [
    "<p style=\"background:#EE9023;color:white;\">Exercise U1-3</p>"
   ]
  },
  {
   "cell_type": "markdown",
   "metadata": {},
   "source": [
    "* Inside the new **my_sumit_xl_tools** create the files given examples and the launch file **move_base_odom.launch**.\n",
    "* Then launch rviz through the command:"
   ]
  },
  {
   "cell_type": "markdown",
   "metadata": {},
   "source": [
    "<table style=\"float:left;background: #407EAF\">\n",
    "<tr>\n",
    "<th>\n",
    "<p class=\"transparent\">Execute in WebShell #1</p><br>\n",
    "rosrun rviz rviz\n",
    "</th>\n",
    "</tr>\n",
    "</table>"
   ]
  },
  {
   "cell_type": "markdown",
   "metadata": {},
   "source": [
    "* Add the RVIZ elements: "
   ]
  },
  {
   "cell_type": "markdown",
   "metadata": {},
   "source": [
    "<img src=\"img/summit_xl_manual_unit1_rvizelements_odomnav.png\"/>"
   ]
  },
  {
   "cell_type": "markdown",
   "metadata": {},
   "source": [
    "* The fixed frame: has to be **odom**, you dont have any map frame for the moment.\n",
    "* Note the two paths, one for the local and another for the global planner.\n",
    "* Two maps. One for the **LocalCostmap** and the other for the **GlobalCostmap**.\n",
    "* **move_base_simple/goal** will be the value of the topic for the **Pose**\n",
    "* RobotFootprint: you can select the local or global.Its usefull to see if you set the correct robot dimensions."
   ]
  },
  {
   "cell_type": "markdown",
   "metadata": {},
   "source": [
    "Remember to save the configuration of RVIZ when finished to use it afterwards. Name it **navigation_odom** and save it in a folder called **rviz**."
   ]
  },
  {
   "cell_type": "markdown",
   "metadata": {},
   "source": [
    "<p style=\"background:#EE9023;color:white;\">END Exercise U1-3</p>"
   ]
  },
  {
   "cell_type": "markdown",
   "metadata": {},
   "source": [
    "You should get the same result as in the Demo:"
   ]
  },
  {
   "cell_type": "markdown",
   "metadata": {},
   "source": [
    "<img src=\"img/summit_xl_instruction_manual_unit1_navodom1.png\"/>"
   ]
  },
  {
   "cell_type": "markdown",
   "metadata": {},
   "source": [
    "Check that there is a difference in the Global and Local Costmaps, the size. Try to change it."
   ]
  },
  {
   "cell_type": "markdown",
   "metadata": {},
   "source": [
    "<img src=\"img/summit_xl_instruction_manual_unit1_navodom2.png\"/>"
   ]
  },
  {
   "cell_type": "markdown",
   "metadata": {},
   "source": [
    "<img src=\"img/summit_xl_instruction_manual_unit1_navodom3.png\"/>"
   ]
  },
  {
   "cell_type": "markdown",
   "metadata": {},
   "source": [
    "## Navigate with Map"
   ]
  },
  {
   "cell_type": "markdown",
   "metadata": {},
   "source": [
    "Now you are going to learn how to navigate with a map. But first you have to generate that map:"
   ]
  },
  {
   "cell_type": "markdown",
   "metadata": {},
   "source": [
    "### Create a Map"
   ]
  },
  {
   "cell_type": "markdown",
   "metadata": {},
   "source": [
    "To create a Map you need to launch two elements: **GMapping** and **MoveBase**.\n",
    "* **GMapping**: in the one in charge of generating and saving the map. More info <a href=\"http://wiki.ros.org/gmapping\">here</a>.\n",
    "* **MoveBase**: The one in charge of sending the commands to /cmd_vel to move the robot around based on sensors and now a map."
   ]
  },
  {
   "cell_type": "markdown",
   "metadata": {},
   "source": [
    "So you can create a launch file that launches both:"
   ]
  },
  {
   "cell_type": "markdown",
   "metadata": {},
   "source": [
    "**start_mapping.launch**"
   ]
  },
  {
   "cell_type": "code",
   "execution_count": null,
   "metadata": {
    "collapsed": true
   },
   "outputs": [],
   "source": [
    "<launch>\n",
    "\n",
    "  <!--- Run gmapping -->\n",
    "  <include file=\"$(find my_sumit_xl_tools)/launch/gmapping.launch\" />\n",
    "\n",
    "  <!--- Run Move Base -->\n",
    "  <include file=\"$(find my_sumit_xl_tools)/launch/move_base_map.launch\" />\n",
    "\n",
    "</launch>"
   ]
  },
  {
   "cell_type": "markdown",
   "metadata": {},
   "source": [
    "So first, take a look at the **gmapping.launch**. It should be something similar to this:"
   ]
  },
  {
   "cell_type": "code",
   "execution_count": null,
   "metadata": {
    "collapsed": true
   },
   "outputs": [],
   "source": [
    "<launch>\n",
    "    <node pkg=\"gmapping\" type=\"slam_gmapping\" name=\"slam_gmapping\" output=\"screen\">\n",
    "      <!-- simulation remap from=\"scan\" to=\"/hokuyo_laser_topic\"/ -->\n",
    "      <!-- real -->\n",
    "      <!-- remap from=\"scan\" to=\"/scan_filtered\"/ -->\n",
    "      <remap from=\"scan\" to =\"/hokuyo_base/scan\"/>\n",
    "      <param name=\"base_frame\" value=\"base_footprint\"/>\n",
    "      <param name=\"odom_frame\" value=\"odom\"/>\n",
    "      <!-- Process 1 out of every this many scans (set it to a higher number to skip more scans)  -->\n",
    "    <param name=\"throttle_scans\" value=\"1\"/>\n",
    "\n",
    "    <param name=\"map_update_interval\" value=\"5.0\"/> <!-- default: 5.0 -->\n",
    "\n",
    "    <!-- The maximum usable range of the laser. A beam is cropped to this value.  -->\n",
    "    <param name=\"maxUrange\" value=\"5.0\"/>\n",
    "\n",
    "    <!-- The maximum range of the sensor. If regions with no obstacles within the range of the sensor should appear as free space in the map, set maxUrange < maximum range of the real sensor <= maxRange -->\n",
    "    <param name=\"maxRange\" value=\"10.0\"/>\n",
    "      <param name=\"sigma\" value=\"0.05\"/>\n",
    "      <param name=\"kernelSize\" value=\"1\"/>\n",
    "      <param name=\"lstep\" value=\"0.05\"/>\n",
    "      <param name=\"astep\" value=\"0.05\"/>\n",
    "      <param name=\"iterations\" value=\"5\"/>\n",
    "      <param name=\"lsigma\" value=\"0.075\"/>\n",
    "      <param name=\"ogain\" value=\"3.0\"/>\n",
    "      <param name=\"lskip\" value=\"0\"/>\n",
    "      <param name=\"srr\" value=\"0.1\"/>\n",
    "      <param name=\"srt\" value=\"0.2\"/>\n",
    "      <param name=\"str\" value=\"0.1\"/>\n",
    "      <param name=\"stt\" value=\"0.2\"/>\n",
    "      <param name=\"linearUpdate\" value=\"0.2\"/>\n",
    "      <param name=\"angularUpdate\" value=\"0.1\"/>\n",
    "      <param name=\"temporalUpdate\" value=\"3.0\"/>\n",
    "      <param name=\"resampleThreshold\" value=\"0.5\"/>\n",
    "      <param name=\"particles\" value=\"100\"/>\n",
    "      <param name=\"xmin\" value=\"-50.0\"/>\n",
    "      <param name=\"ymin\" value=\"-50.0\"/>\n",
    "      <param name=\"xmax\" value=\"50.0\"/>\n",
    "      <param name=\"ymax\" value=\"50.0\"/>\n",
    "      <param name=\"delta\" value=\"0.05\"/>\n",
    "      <param name=\"llsamplerange\" value=\"0.01\"/>\n",
    "      <param name=\"llsamplestep\" value=\"0.01\"/>\n",
    "      <param name=\"lasamplerange\" value=\"0.005\"/>\n",
    "      <param name=\"lasamplestep\" value=\"0.005\"/>\n",
    "    </node>\n",
    "</launch>"
   ]
  },
  {
   "cell_type": "markdown",
   "metadata": {},
   "source": [
    "The most import ant values are:\n",
    "* maxUrange and maxrange: This is how far your laser will be considered to create the map. Greater range will create maps faster and its less probable that the robot gets lost. The downside its that consumes more resources.\n",
    "* throttle_scans: Very usefull to lower resource consumption."
   ]
  },
  {
   "cell_type": "markdown",
   "metadata": {},
   "source": [
    "If you need mor information about all these parameters, please go to the slam_gmapping node docs: http://docs.ros.org/hydro/api/gmapping/html/"
   ]
  },
  {
   "cell_type": "markdown",
   "metadata": {},
   "source": [
    "**move_base_map.launch**"
   ]
  },
  {
   "cell_type": "code",
   "execution_count": null,
   "metadata": {
    "collapsed": true
   },
   "outputs": [],
   "source": [
    "<?xml version=\"1.0\"?>\n",
    "<!-- NEW SUMIT XL NAVIGATION -->\n",
    "<launch>\n",
    "   \n",
    "    <arg name=\"no_static_map\" default=\"false\"/>\n",
    "    \n",
    "    <arg name=\"base_global_planner\" default=\"navfn/NavfnROS\"/>\n",
    "    <arg name=\"base_local_planner\" default=\"dwa_local_planner/DWAPlannerROS\"/>\n",
    "    <!-- <arg name=\"base_local_planner\" default=\"base_local_planner/TrajectoryPlannerROS\"/> -->\n",
    "    \n",
    "    <node pkg=\"move_base\" type=\"move_base\" respawn=\"false\" name=\"move_base\" output=\"screen\">\n",
    "        \n",
    "        <param name=\"base_global_planner\" value=\"$(arg base_global_planner)\"/>\n",
    "        <param name=\"base_local_planner\" value=\"$(arg base_local_planner)\"/>  \n",
    "        <rosparam file=\"$(find sumit_xl_tools)/config/planner.yaml\" command=\"load\"/>\n",
    "        \n",
    "        <!-- observation sources located in costmap_common.yaml -->\n",
    "        <rosparam file=\"$(find sumit_xl_tools)/config/costmap_common.yaml\" command=\"load\" ns=\"global_costmap\" />\n",
    "        <rosparam file=\"$(find sumit_xl_tools)/config/costmap_common.yaml\" command=\"load\" ns=\"local_costmap\" />\n",
    "        \n",
    "        <!-- local costmap, needs size -->\n",
    "        <rosparam file=\"$(find sumit_xl_tools)/config/costmap_local.yaml\" command=\"load\" ns=\"local_costmap\" />\n",
    "        <param name=\"local_costmap/width\" value=\"5.0\"/>\n",
    "        <param name=\"local_costmap/height\" value=\"5.0\"/>\n",
    "        \n",
    "        <!-- static global costmap, static map provides size -->\n",
    "        <rosparam file=\"$(find sumit_xl_tools)/config/costmap_global_static.yaml\" command=\"load\" ns=\"global_costmap\" unless=\"$(arg no_static_map)\"/>\n",
    "        \n",
    "        <!-- global costmap with laser, for odom_navigation_demo -->\n",
    "        <rosparam file=\"$(find sumit_xl_tools)/config/costmap_global_laser.yaml\" command=\"load\" ns=\"global_costmap\" if=\"$(arg no_static_map)\"/>\n",
    "        <param name=\"global_costmap/width\" value=\"100.0\" if=\"$(arg no_static_map)\"/>\n",
    "        <param name=\"global_costmap/height\" value=\"100.0\" if=\"$(arg no_static_map)\"/>\n",
    "    </node>\n",
    "\n",
    "</launch>"
   ]
  },
  {
   "cell_type": "markdown",
   "metadata": {},
   "source": [
    "As you can see its exactly the same as the move base without map, just that we deactivate the **no_static_map** argument. This will change the **global_costmap/global_frame** to **map** and launch the **costmap_2d::StaticLayer** plugin."
   ]
  },
  {
   "cell_type": "markdown",
   "metadata": {},
   "source": [
    "<p style=\"background:#EE9023;color:white;\">Exercise U1-4</p>"
   ]
  },
  {
   "cell_type": "markdown",
   "metadata": {},
   "source": [
    "Now you just have to launch the **start_mapping.launch** to start all the system and start creating the map. You also need to launch rviz adding the propper elements. Once you finish mapping all the area, continue to the next secction **without closing anything**."
   ]
  },
  {
   "cell_type": "markdown",
   "metadata": {},
   "source": [
    "<table style=\"float:left;background: #407EAF\">\n",
    "<tr>\n",
    "<th>\n",
    "<p class=\"transparent\">Execute in WebShell #1</p><br>\n",
    "roslaunch my_sumit_xl_tools start_mapping.launch\n",
    "</th>\n",
    "</tr>\n",
    "</table>"
   ]
  },
  {
   "cell_type": "markdown",
   "metadata": {},
   "source": [
    "<table style=\"float:left;background: #407EAF\">\n",
    "<tr>\n",
    "<th>\n",
    "<p class=\"transparent\">Execute in WebShell #2</p><br>\n",
    "rosrun rviz rviz\n",
    "</th>\n",
    "</tr>\n",
    "</table>"
   ]
  },
  {
   "cell_type": "markdown",
   "metadata": {},
   "source": [
    "* Add the RVIZ elements: "
   ]
  },
  {
   "cell_type": "markdown",
   "metadata": {},
   "source": [
    "<img src=\"img/summit_xl_manual_unit1_rvizelements_mapcreate.png\"/>"
   ]
  },
  {
   "cell_type": "markdown",
   "metadata": {},
   "source": [
    "* The fixed frame: has to be **map**.\n",
    "* Note the two paths, one for the local and another for the global planner.\n",
    "* Two maps. One for the **LocalCostmap** and the other for the **GlobalCostmap**. Its really only important to have the localCostmap to see the inmediate dangers.\n",
    "* Add an extra map for the global map to be able to see the generation of the map.\n",
    "* **move_base_simple/goal** will be the value of the topic for the **Pose**\n",
    "* RobotFootprint: you can select the local or global.Its usefull to see if you set the correct robot dimensions."
   ]
  },
  {
   "cell_type": "markdown",
   "metadata": {},
   "source": [
    "Save the RVIZ configuration in a file called **create_map.rviz**."
   ]
  },
  {
   "cell_type": "markdown",
   "metadata": {},
   "source": [
    "You need to now move the robot around to generate a complete map. You can use the **start_teleop.launch** you created or **send poses 2D** in RVIZ. Use the keyboard in dificult to navigate places, and the poses to easy big areas."
   ]
  },
  {
   "cell_type": "markdown",
   "metadata": {},
   "source": [
    "Now start moving the robot around the room to create the map."
   ]
  },
  {
   "cell_type": "markdown",
   "metadata": {},
   "source": [
    "<p style=\"background:#EE9023;color:white;\">Exercise U1-4</p>"
   ]
  },
  {
   "cell_type": "markdown",
   "metadata": {},
   "source": [
    "You should get something similar to this:"
   ]
  },
  {
   "cell_type": "markdown",
   "metadata": {},
   "source": [
    "<img src=\"img/summit_xl_instruction_manual_unit1_createmap1.png\" width=\"800\"></img>"
   ]
  },
  {
   "cell_type": "markdown",
   "metadata": {},
   "source": [
    "<img src=\"img/summit_create_map.gif\"></img>"
   ]
  },
  {
   "cell_type": "markdown",
   "metadata": {},
   "source": [
    "### Save the created map"
   ]
  },
  {
   "cell_type": "markdown",
   "metadata": {},
   "source": [
    "Once you have all the map as you would like, then you have to save it to be able to use it for navigation.<br>\n",
    "For this you have to execute the following command where you want the map files to be saved. You have a sugesstion on where to put it but its up to you:"
   ]
  },
  {
   "cell_type": "markdown",
   "metadata": {},
   "source": [
    "<table style=\"float:left;background: #407EAF\">\n",
    "<tr>\n",
    "<th>\n",
    "<p class=\"transparent\">Execute in WebShell #1</p><br>\n",
    "roscd my_sumit_xl_tools<br>\n",
    "mkdir maps<br>\n",
    "cd maps<br>\n",
    "rosrun map_server map_saver -f mymap\n",
    "</th>\n",
    "</tr>\n",
    "</table>"
   ]
  },
  {
   "cell_type": "markdown",
   "metadata": {},
   "source": [
    "This should have generated two files: **mymap.pgm and mymap.yaml**.<br>\n",
    "You will use the **pgm** image for cleaning the map generated, and the **yaml** is the file directly used by the PathPLanning afterwards. It also contains valuable information like the path to the image of the maps dimmensions."
   ]
  },
  {
   "cell_type": "markdown",
   "metadata": {},
   "source": [
    "<img src=\"img/fetch_map.png\" width=\"600\"></img>"
   ]
  },
  {
   "cell_type": "markdown",
   "metadata": {},
   "source": [
    "### Navigate with Map that you just created"
   ]
  },
  {
   "cell_type": "markdown",
   "metadata": {},
   "source": [
    "**start_navigation_with_map.launch**"
   ]
  },
  {
   "cell_type": "code",
   "execution_count": null,
   "metadata": {
    "collapsed": true
   },
   "outputs": [],
   "source": [
    "<launch>\n",
    "\n",
    "    <!-- Run the map server -->\n",
    "    <arg name=\"map_file\" default=\"$(find my_sumit_xl_tools)/maps/mymap.yaml\"/>\n",
    "    <node name=\"map_server\" pkg=\"map_server\" type=\"map_server\" args=\"$(arg map_file)\" />\n",
    "    \n",
    "    <!--- Run AMCL -->\n",
    "    <include file=\"$(find my_sumit_xl_tools)/launch/amcl.launch\" />\n",
    "    \n",
    "    <!--- Run Move Base -->\n",
    "    <include file=\"$(find my_sumit_xl_tools)/launch/move_base_map.launch\" />\n",
    "\n",
    "</launch>"
   ]
  },
  {
   "cell_type": "markdown",
   "metadata": {},
   "source": [
    "Here there three main parts:\n",
    "* **map_server**: The Node that publishes the map saved.\n",
    "* **amcl**: The node that localises Summit XL based on map readings\n",
    "* **move_base**: This move base has the configuration of moving with a map."
   ]
  },
  {
   "cell_type": "markdown",
   "metadata": {},
   "source": [
    "So really there is only one launch file to comment on which is:"
   ]
  },
  {
   "cell_type": "markdown",
   "metadata": {},
   "source": [
    "**amcl.launch**"
   ]
  },
  {
   "cell_type": "code",
   "execution_count": null,
   "metadata": {
    "collapsed": true
   },
   "outputs": [],
   "source": [
    "<launch>\n",
    "<node pkg=\"amcl\" type=\"amcl\" name=\"amcl\" output=\"screen\">\n",
    "\n",
    "  <remap from=\"scan\" to=\"/hokuyo_base/scan\" />\n",
    "  <remap from=\"cmd_vel\" to=\"/summit_xl_controller/cmd_vel\"/>\n",
    "\n",
    "  <!-- Publish scans from best pose at a max of 10 Hz -->\n",
    "  <param name=\"odom_model_type\" value=\"diff\"/>\n",
    "  <param name=\"odom_alpha5\" value=\"0.1\"/>\n",
    "  <param name=\"transform_tolerance\" value=\"0.2\" />\n",
    "  <param name=\"gui_publish_rate\" value=\"10.0\"/>\n",
    "  <param name=\"laser_max_beams\" value=\"30\"/>\n",
    "  <param name=\"min_particles\" value=\"500\"/>\n",
    "  <param name=\"max_particles\" value=\"5000\"/>\n",
    "  <param name=\"kld_err\" value=\"0.05\"/>\n",
    "  <param name=\"kld_z\" value=\"0.99\"/>\n",
    "  <param name=\"odom_alpha1\" value=\"0.2\"/>\n",
    "  <param name=\"odom_alpha2\" value=\"0.2\"/>\n",
    "  <param name=\"odom_alpha3\" value=\"0.8\"/>\n",
    "  <param name=\"odom_alpha4\" value=\"0.2\"/>\n",
    "  <param name=\"laser_z_hit\" value=\"0.5\"/>\n",
    "  <param name=\"laser_z_short\" value=\"0.05\"/>\n",
    "  <param name=\"laser_z_max\" value=\"0.05\"/>\n",
    "  <param name=\"laser_z_rand\" value=\"0.5\"/>\n",
    "  <param name=\"laser_sigma_hit\" value=\"0.2\"/>\n",
    "  <param name=\"laser_lambda_short\" value=\"0.1\"/>\n",
    "  <param name=\"laser_lambda_short\" value=\"0.1\"/>\n",
    "  <param name=\"laser_model_type\" value=\"likelihood_field\"/>\n",
    "  <param name=\"laser_likelihood_max_dist\" value=\"2.0\"/>\n",
    "  <param name=\"update_min_d\" value=\"0.2\"/>\n",
    "  <param name=\"update_min_a\" value=\"0.5\"/>\n",
    "  <param name=\"odom_frame_id\" value=\"odom\"/>\n",
    "  <param name=\"base_frame_id\" value=\"base_footprint\"/>\n",
    "  <param name=\"global_frame_id\" value=\"map\"/>\n",
    "  <param name=\"resample_interval\" value=\"1\"/>\n",
    "  <param name=\"transform_tolerance\" value=\"0.1\"/>\n",
    "  <param name=\"recovery_alpha_slow\" value=\"0.0\"/>\n",
    "  <param name=\"recovery_alpha_fast\" value=\"0.0\"/>\n",
    "  <param name=\"initial_pose_x\" value =\"0.0\"/>\n",
    "  <param name=\"initial_pose_y\" value =\"0.0\"/>\n",
    "  <param name=\"initial_pose_a\" value =\"0.0\"/>\n",
    "\n",
    "</node>\n",
    "\n",
    "</launch>"
   ]
  },
  {
   "cell_type": "markdown",
   "metadata": {},
   "source": [
    "<p style=\"background:#EE9023;color:white;\">Exercise U1-5</p>"
   ]
  },
  {
   "cell_type": "markdown",
   "metadata": {},
   "source": [
    "Launch the node and check in RViz that the Summit robot correctly localizes itseld in the Map."
   ]
  },
  {
   "cell_type": "markdown",
   "metadata": {},
   "source": [
    "* Add the RVIZ elements: "
   ]
  },
  {
   "cell_type": "markdown",
   "metadata": {},
   "source": [
    "<img src=\"img/summit_xl_manual_unit1_rvizelements_navmap.png\"></img>"
   ]
  },
  {
   "cell_type": "markdown",
   "metadata": {},
   "source": [
    "* The only real change from the **create_map.rviz** file is the **PoseArray** element susbrcibed to the **/particlecloud** topic.This will give the estimated position whereSummit thinks it is."
   ]
  },
  {
   "cell_type": "markdown",
   "metadata": {},
   "source": [
    "<p style=\"background:#EE9023;color:white;\">END Exercise U1-5</p>"
   ]
  },
  {
   "cell_type": "markdown",
   "metadata": {},
   "source": [
    "If you've done all the previous steps correctly, you should see in Rviz something like this:"
   ]
  },
  {
   "cell_type": "markdown",
   "metadata": {},
   "source": [
    "<img src=\"img/summit_xl_instruction_manual_unit1_navigationmap_final.png\" width=\"600\"></img>"
   ]
  },
  {
   "cell_type": "markdown",
   "metadata": {},
   "source": [
    "See how when you move , the estimated locations seem to concentrate on the real place. This is a test on how well your loacalization is working."
   ]
  },
  {
   "cell_type": "markdown",
   "metadata": {},
   "source": [
    "<img src=\"img/summit_navigation_map.gif\"></img>"
   ]
  },
  {
   "cell_type": "markdown",
   "metadata": {},
   "source": [
    "### Create a Table of Positions and send Summit there"
   ]
  },
  {
   "cell_type": "markdown",
   "metadata": {},
   "source": [
    "Once you've checked that localization is working fine, you'll need to create a table with 3 different spots in the environemnt. For each point, assign a tag (with the name of the spot) alongside its coordinates in the Map."
   ]
  },
  {
   "cell_type": "markdown",
   "metadata": {},
   "source": [
    "The 3 spots you'll have to register into the table are the next ones:\n",
    "\n",
    "* Room1 Center\n",
    "<br>\n",
    "<img src=\"img/fetch_room.png\" width=\"500\"></img>\n",
    "<br>\n",
    "* Facing the Turtle's Poster\n",
    "<br>\n",
    "<img src=\"img/turtle_poster.png\" width=\"500\"></img>\n",
    "* Besides the Table\n",
    "<br>\n",
    "<img src=\"img/besides_table.png\" width=\"500\"></img>\n",
    "<br>"
   ]
  },
  {
   "cell_type": "markdown",
   "metadata": {},
   "source": [
    "You can access the coordinates of each position by looking into the topics the amcl node publishes on. The only data you really need to save are the position and orientation. "
   ]
  },
  {
   "cell_type": "markdown",
   "metadata": {},
   "source": [
    "Next you have a screenshot of the <i>/amcl_pose</i> topic:"
   ]
  },
  {
   "cell_type": "markdown",
   "metadata": {},
   "source": [
    "<img src=\"img/echo_amcl_pose.png\" width=\"800\"></img>"
   ]
  },
  {
   "cell_type": "markdown",
   "metadata": {},
   "source": [
    "Create a file named <b>spots.txt</b> and write in the pose data you've get from the 3 spots."
   ]
  },
  {
   "cell_type": "markdown",
   "metadata": {},
   "source": [
    "### Create a ROS Service that saves the different spots into a file"
   ]
  },
  {
   "cell_type": "markdown",
   "metadata": {},
   "source": [
    "In the previous section, you created a file with the coordinates of the 3 spots. But the whole process was too cumbersome, don't you think so? Why don't we create a ROS Service that does the work for us? Sounds like a good idea, right? Then let's do it!\n",
    "\n",
    "So now, you'll create a ROS program that will do the following:\n",
    "\n",
    "1. It will launch a node named <b>spot_recorder</b>.\n",
    "2. This node will contain a Service Server named <b>/save_spot</b>, that will take an string as input.\n",
    "3. When this service is called, it will store the current coordinates of the robot (position and orientation values) alongside with a label, that will be the string provided on the service call.\n",
    "4. When the <i>end</i> string is provided in the service call, the node will write all the values stored into a file named <b>spots.txt</b>.\n",
    "5. Finally, the service will return a message indicating if the file has been saved correctly."
   ]
  },
  {
   "cell_type": "markdown",
   "metadata": {},
   "source": [
    "In order to achieve this, let's divide it into smaller parts."
   ]
  },
  {
   "cell_type": "markdown",
   "metadata": {},
   "source": [
    "#### 1 Service Message"
   ]
  },
  {
   "cell_type": "markdown",
   "metadata": {},
   "source": [
    "First of all, you'll have to determine the kind of data you need for your service message.\n",
    "\n",
    "1. Determine what input data you need ( <span class=\"ign_blue\"><b>request</b></span> )\n",
    "2. Determine what data you want the service to return ( <span class=\"ign_blue\"><b>response</b></span> )"
   ]
  },
  {
   "cell_type": "markdown",
   "metadata": {},
   "source": [
    "Next, search if there exists an already built message in the system that suits your needs. If it doesn't, then you'll have to create your own custom message with the data you want."
   ]
  },
  {
   "cell_type": "markdown",
   "metadata": {},
   "source": [
    "If this is the case, then do the following. Inside the pacakge you just created, create a new directory named <b>srv</b>. Inside this directory, create a file named <b>SumitXLPose.srv</b>, that will contain the definition of your service message. "
   ]
  },
  {
   "cell_type": "markdown",
   "metadata": {},
   "source": [
    "This file could be something like this:"
   ]
  },
  {
   "cell_type": "raw",
   "metadata": {},
   "source": [
    "# request\n",
    "string label\n",
    "---\n",
    "#response\n",
    "bool navigation_successfull\n",
    "string message"
   ]
  },
  {
   "cell_type": "markdown",
   "metadata": {},
   "source": [
    "Now you'll have to modify the <b>package.xml</b> and <b>CMakeLists.txt</b> files of your package, in order to compile the new message. Assuming the only dependency you added to your package is <b>rospy</b>, you should do the following modifications to these files:"
   ]
  },
  {
   "cell_type": "markdown",
   "metadata": {},
   "source": [
    "#### In CMakeLists.txt"
   ]
  },
  {
   "cell_type": "markdown",
   "metadata": {},
   "source": [
    "You will have to edit/uncomment four functions inside this file:\n",
    "\n",
    "* find_package()\n",
    "* add_service_files()\n",
    "* generate_messages()\n",
    "* catkin_package()"
   ]
  },
  {
   "cell_type": "raw",
   "metadata": {},
   "source": [
    "find_package(catkin REQUIRED COMPONENTS\n",
    "  rospy\n",
    "  std_msgs\n",
    "  message_generation\n",
    ")"
   ]
  },
  {
   "cell_type": "markdown",
   "metadata": {},
   "source": [
    "add_service_files(\n",
    "  FILES\n",
    "  MyCustomServiceMessage.srv\n",
    ")"
   ]
  },
  {
   "cell_type": "markdown",
   "metadata": {},
   "source": [
    "generate_messages(\n",
    "  DEPENDENCIES\n",
    "  std_msgs\n",
    ")"
   ]
  },
  {
   "cell_type": "raw",
   "metadata": {},
   "source": [
    "catkin_package(\n",
    "      CATKIN_DEPENDS\n",
    "      rospy\n",
    ")"
   ]
  },
  {
   "cell_type": "markdown",
   "metadata": {},
   "source": [
    "#### In package.xml:"
   ]
  },
  {
   "cell_type": "markdown",
   "metadata": {},
   "source": [
    "Add this 2 lines to the file:"
   ]
  },
  {
   "cell_type": "raw",
   "metadata": {},
   "source": [
    "<build_depend>message_generation</build_depend>\n",
    "<run_depend>message_runtime</run_depend>"
   ]
  },
  {
   "cell_type": "markdown",
   "metadata": {},
   "source": [
    "When you've finshed with the modifications, compile your package and check that your message has been correctly compiled and is ready to use. In order to check this, you can use the command <b><i>rossrv show MyServiceMessage</i></b>."
   ]
  },
  {
   "cell_type": "markdown",
   "metadata": {},
   "source": [
    "catkin_make output:"
   ]
  },
  {
   "cell_type": "markdown",
   "metadata": {},
   "source": [
    "<img src=\"img/catkin_make_output.png\" width=\"600\"></img>"
   ]
  },
  {
   "cell_type": "markdown",
   "metadata": {},
   "source": [
    "rossrv show output:"
   ]
  },
  {
   "cell_type": "markdown",
   "metadata": {},
   "source": [
    "<img src=\"img/service_msg_output.png\" width=\"600\"></img>"
   ]
  },
  {
   "cell_type": "markdown",
   "metadata": {},
   "source": [
    "#### Service Code"
   ]
  },
  {
   "cell_type": "markdown",
   "metadata": {},
   "source": [
    "Once your message is created, you're ready to use it in your service! So, let's write the code for our service. Inside the src directory of your package, create a file named <b>spots_to_file.py</b>. Inside this file, write the code necessary for you Service."
   ]
  },
  {
   "cell_type": "code",
   "execution_count": null,
   "metadata": {
    "collapsed": true
   },
   "outputs": [],
   "source": [
    "#! /usr/bin/env python\n",
    "import os\n",
    "import rospy\n",
    "from sumit_xl_tools.srv import SumitXLPose, SumitXLPoseResponse, SumitXLPoseRequest\n",
    "from geometry_msgs.msg import PoseWithCovarianceStamped\n",
    "import rospkg\n",
    "\n",
    "\"\"\"\n",
    "# topic: /amcl_pose\n",
    "# geometry_msgs/PoseWithCovarianceStamped \n",
    "\n",
    "std_msgs/Header header                                                                                                                                       \n",
    "  uint32 seq                                                                                                                                                 \n",
    "  time stamp                                                                                                                                                 \n",
    "  string frame_id                                                                                                                                            \n",
    "geometry_msgs/PoseWithCovariance pose                                                                                                                        \n",
    "  geometry_msgs/Pose pose                                                                                                                                    \n",
    "    geometry_msgs/Point position                                                                                                                             \n",
    "      float64 x                                                                                                                                              \n",
    "      float64 y                                                                                                                                              \n",
    "      float64 z                                                                                                                                              \n",
    "    geometry_msgs/Quaternion orientation                                                                                                                     \n",
    "      float64 x                                                                                                                                              \n",
    "      float64 y                                                                                                                                              \n",
    "      float64 z                                                                                                                                              \n",
    "      float64 w                                                                                                                                              \n",
    "  float64[36] covariance\n",
    "\"\"\"\n",
    "\n",
    "class SummitXLPose(object):\n",
    "    def __init__(self):\n",
    "        self.pose_service = rospy.Service('/get_pose_sumitxl_service', SumitXLPose , self.pose_service_callback) # create the Service called my_service with the defined callback\n",
    "        rospy.Subscriber(\"/amcl_pose\", PoseWithCovarianceStamped, self.amcl_pose_callback)\n",
    "        self.pose_now = PoseWithCovarianceStamped()\n",
    "        \n",
    "        rospack = rospkg.RosPack()\n",
    "        self.spot_file_path = rospack.get_path('my_sumit_xl_tools') + \"/spots/spots_saved.txt\"\n",
    "        \n",
    "        try:\n",
    "            os.remove(self.spot_file_path)\n",
    "        except:\n",
    "            rospy.loginfo(\"File Not Found \"+str(self.spot_file_path) )\n",
    "        # Init File for Spot saving\n",
    "        file2write=open(self.spot_file_path,'a')\n",
    "        file2write.write(\"### This is the Spot Saving File ###\\n\")\n",
    "        file2write.close()\n",
    "        \n",
    "    def start_loop_service(self):\n",
    "        rospy.spin() # mantain the service open.\n",
    "        \n",
    "    def pose_service_callback(self, request):\n",
    "        spot_name = request.label\n",
    "        \n",
    "        with open(self.spot_file_path, \"a\") as myfile:\n",
    "            spot_pose = self.pose_now.pose.pose\n",
    "            myfile.write(spot_name+\":\\n\"+str(spot_pose)+\"\\n\\n\")\n",
    "\n",
    "        response = SumitXLPoseResponse()\n",
    "        response.navigation_successfull = True\n",
    "        response.message = \"Spot <\"+spot_name+\"> Saved\"\n",
    "\n",
    "        return response\n",
    "    \n",
    "    def amcl_pose_callback(self, message):\n",
    "        self.pose_now = message\n",
    "        \n",
    "\n",
    "\n",
    "def startPoseService():\n",
    "    rospy.init_node('sumitxl_poseservice_server')\n",
    "    sumitpose = SummitXLPose()\n",
    "    sumitpose.start_loop_service()\n",
    "\n",
    "if __name__ == \"__main__\":\n",
    "    startPoseService()\n",
    "    "
   ]
  },
  {
   "cell_type": "markdown",
   "metadata": {},
   "source": [
    "Create a launch file for the node you've just created. You can also launch this node in the same launch file you've created to launch the slam_gmapping node. It's up to you."
   ]
  },
  {
   "cell_type": "markdown",
   "metadata": {},
   "source": [
    "Using the keyboard teleop, move the robot to the 3 different spots showed above. At each one of these spots, perform a service call to the service you've just created. In the service call, provide the string with the name you want to give to each spot.\n",
    "<br><br>\n",
    "For example, when you are at the center of a room1, call your service like this:"
   ]
  },
  {
   "cell_type": "raw",
   "metadata": {},
   "source": [
    "rosservice call /record_spot \"label: room1\""
   ]
  },
  {
   "cell_type": "markdown",
   "metadata": {},
   "source": [
    "Repeat this for the 3 different spots. When finished, do a last service call providing <i>end</i> as the string in order to create the file."
   ]
  },
  {
   "cell_type": "markdown",
   "metadata": {},
   "source": [
    "### Create a ROS program that interacts with the Navigation Stack"
   ]
  },
  {
   "cell_type": "markdown",
   "metadata": {},
   "source": [
    "In the Step 2 of this project you created a table with 3 different spots, each one associated with a label. You may have been wondering why you were asked to do that, right? Well, then now you'll get the answer!\n",
    "<br><br>\n",
    "In this final Step you will have to create a ROS node that will interact with the Navigation Stack. This node will contain a Service that will take a string as input. This string will indicate one of the labels you selected in Step 2 for the different spots in the simulation. When this service receives a call with the label, it will get the coordinates (position and orientation) associated to that label, and will send this coordinates to the move_base Action Server. If it finished correctly, the service will return an \"OK\" message."
   ]
  },
  {
   "cell_type": "markdown",
   "metadata": {},
   "source": [
    "Summarizing, you will have to create a node which contains:\n",
    "\n",
    "* A Service that will take an String as input. Those strings will be the labels you selected in Step 2 for each one of the spots.\n",
    "* An Action Client that will send goals to the move_base Action Server."
   ]
  },
  {
   "cell_type": "markdown",
   "metadata": {},
   "source": [
    "In order to achieve this, follow the next steps:<br>"
   ]
  },
  {
   "cell_type": "markdown",
   "metadata": {},
   "source": [
    "<table style=\"float:left;background: #407EAF\">\n",
    "<tr>\n",
    "<th>\n",
    "<p class=\"transparent\">1. Create the package</p>\n",
    "</th>\n",
    "</tr>\n",
    "</table>"
   ]
  },
  {
   "cell_type": "markdown",
   "metadata": {},
   "source": [
    "Create the package called <i>my_summit_navigation</i> that will contain all the files related to this project. Remember to specify the <b>rospy</b> dependency."
   ]
  },
  {
   "cell_type": "markdown",
   "metadata": {},
   "source": [
    "<table style=\"float:left;background: #407EAF\">\n",
    "<tr>\n",
    "<th>\n",
    "<p class=\"transparent\">2. Create the service message</p>\n",
    "</th>\n",
    "</tr>\n",
    "</table>"
   ]
  },
  {
   "cell_type": "markdown",
   "metadata": {},
   "source": [
    "First of all, you'll have to determine the kind of data you need for your mesage.\n",
    "\n",
    "1. Determine what input data you need ( <span class=\"ign_blue\"><b>request</b></span> )\n",
    "2. Determine what data you want the service to return ( <span class=\"ign_blue\"><b>response</b></span> )"
   ]
  },
  {
   "cell_type": "markdown",
   "metadata": {},
   "source": [
    "Next, search if there exists an already built message in the system that suits your needs. If it doesn't, then you'll have to create your own custom message with the data you want."
   ]
  },
  {
   "cell_type": "markdown",
   "metadata": {},
   "source": [
    "If this is the case, then do the following. Inside the pacakge you just created, create a new directory named <b>srv</b>. Inside this directory, create a file named <b>MyServiceMessage.srv</b>, that will contain the definition of your service message. "
   ]
  },
  {
   "cell_type": "markdown",
   "metadata": {},
   "source": [
    "This file could be something like this:"
   ]
  },
  {
   "cell_type": "raw",
   "metadata": {},
   "source": [
    "# request\n",
    "string label\n",
    "---\n",
    "#response\n",
    "bool navigation_successfull\n",
    "string message"
   ]
  },
  {
   "cell_type": "markdown",
   "metadata": {},
   "source": [
    "Now you'll have to modify the <b>package.xml</b> and <b>CMakeLists.txt</b> files of your package, in order to compile the new message. Assuming the only dependency you added to your package is <b>rospy</b>, you should do the following modifications to these files:"
   ]
  },
  {
   "cell_type": "markdown",
   "metadata": {},
   "source": [
    "#### In CMakeLists.txt"
   ]
  },
  {
   "cell_type": "markdown",
   "metadata": {},
   "source": [
    "You will have to edit/uncomment four functions inside this file:\n",
    "\n",
    "* find_package()\n",
    "* add_service_files()\n",
    "* generate_messages()\n",
    "* catkin_package()"
   ]
  },
  {
   "cell_type": "raw",
   "metadata": {},
   "source": [
    "find_package(catkin REQUIRED COMPONENTS\n",
    "  rospy\n",
    "  std_msgs\n",
    "  message_generation\n",
    ")"
   ]
  },
  {
   "cell_type": "markdown",
   "metadata": {},
   "source": [
    "add_service_files(\n",
    "  FILES\n",
    "  MyCustomServiceMessage.srv\n",
    ")"
   ]
  },
  {
   "cell_type": "markdown",
   "metadata": {},
   "source": [
    "generate_messages(\n",
    "  DEPENDENCIES\n",
    "  std_msgs\n",
    ")"
   ]
  },
  {
   "cell_type": "raw",
   "metadata": {},
   "source": [
    "catkin_package(\n",
    "      CATKIN_DEPENDS\n",
    "      rospy\n",
    ")"
   ]
  },
  {
   "cell_type": "markdown",
   "metadata": {},
   "source": [
    "#### In package.xml:"
   ]
  },
  {
   "cell_type": "markdown",
   "metadata": {},
   "source": [
    "Add this 2 lines to the file:"
   ]
  },
  {
   "cell_type": "raw",
   "metadata": {},
   "source": [
    "<build_depend>message_generation</build_depend>\n",
    "<run_depend>message_runtime</run_depend>"
   ]
  },
  {
   "cell_type": "markdown",
   "metadata": {},
   "source": [
    "When you've finshed with the modifications, compile your package and check that your message has been correctly compiled and is ready to use. In order to check this, you can use the command <b><i>rossrv show MyServiceMessage</i></b>."
   ]
  },
  {
   "cell_type": "markdown",
   "metadata": {},
   "source": [
    "catkin_make output:"
   ]
  },
  {
   "cell_type": "markdown",
   "metadata": {},
   "source": [
    "<img src=\"img/catkin_make_output.png\" width=\"600\"></img>"
   ]
  },
  {
   "cell_type": "markdown",
   "metadata": {},
   "source": [
    "rossrv show output:"
   ]
  },
  {
   "cell_type": "markdown",
   "metadata": {},
   "source": [
    "<img src=\"img/service_msg_output.png\" width=\"600\"></img>"
   ]
  },
  {
   "cell_type": "markdown",
   "metadata": {},
   "source": [
    "<table style=\"float:left;background: #407EAF\">\n",
    "<tr>\n",
    "<th>\n",
    "<p class=\"transparent\">3. Create the Service.</p>\n",
    "</th>\n",
    "</tr>\n",
    "</table>"
   ]
  },
  {
   "cell_type": "markdown",
   "metadata": {},
   "source": [
    "Once your message is created, you're ready to use it in your service! So, let's write the code for our service. Inside the src directory of your package, create a file named <b>my_navigation_program.py</b>. Inside this file, write the code necessary for you Service."
   ]
  },
  {
   "cell_type": "markdown",
   "metadata": {},
   "source": [
    "<table style=\"float:left;background: #407EAF\">\n",
    "<tr>\n",
    "<th>\n",
    "<p class=\"transparent\">4. Create the Action Client</p>\n",
    "</th>\n",
    "</tr>\n",
    "</table>"
   ]
  },
  {
   "cell_type": "markdown",
   "metadata": {},
   "source": [
    "Inside the src directory, create a file that will contain the code of an Action Client."
   ]
  },
  {
   "cell_type": "markdown",
   "metadata": {},
   "source": [
    "Once you've finished writting your code, it's time to test it! Call your service providing one of the labels, and check that the Summit robot navigates to that spot. For example, if your label is \"fetch_room\", type in a web shell the following:"
   ]
  },
  {
   "cell_type": "raw",
   "metadata": {},
   "source": [
    "rosservice call my_summitnavigation/MyServiceMessage \"label: 'fetch_room'\" "
   ]
  },
  {
   "cell_type": "markdown",
   "metadata": {},
   "source": [
    "## Add WayPoints"
   ]
  },
  {
   "cell_type": "markdown",
   "metadata": {},
   "source": [
    "So there you have it. Now your summit XL can navigate around one position at a time. But what if you want to generate in an easy way a sequence of waypoints so that it patroles around the **main interest points of the area**?"
   ]
  },
  {
   "cell_type": "markdown",
   "metadata": {},
   "source": [
    "You are going to use a ROS package called **follow_waypoints**, you can get more information http://wiki.ros.org/follow_waypoints.\n",
    "This package basically tracks the **Estimate pose** that you place in RVIZ and stores it. Then when you have finished you just have to publish in a topic that starts sending those positions to the movebase system."
   ]
  },
  {
   "cell_type": "markdown",
   "metadata": {},
   "source": [
    "### Steps to do it:"
   ]
  },
  {
   "cell_type": "markdown",
   "metadata": {},
   "source": [
    "The first step is to start the start_navigation_with_map.launch if you don't have it running:"
   ]
  },
  {
   "cell_type": "markdown",
   "metadata": {},
   "source": [
    "<table style=\"float:left;background: #407EAF\">\n",
    "<tr>\n",
    "<th>\n",
    "<p class=\"transparent\">Execute in WebShell #1</p><br>\n",
    "roslaunch my_sumit_xl_tools start_navigation_with_map.launch\n",
    "</th>\n",
    "</tr>\n",
    "</table>"
   ]
  },
  {
   "cell_type": "markdown",
   "metadata": {},
   "source": [
    "The Second step is to start the waypoint server. This server will listen to publications into the topic **/initialpose** and store those poses until its instructed to send them to move_base to be executed:"
   ]
  },
  {
   "cell_type": "markdown",
   "metadata": {},
   "source": [
    "<table style=\"float:left;background: #407EAF\">\n",
    "<tr>\n",
    "<th>\n",
    "<p class=\"transparent\">Execute in WebShell #1</p><br>\n",
    "roslaunch follow_waypoints follow_waypoints.launch\n",
    "</th>\n",
    "</tr>\n",
    "</table>"
   ]
  },
  {
   "cell_type": "markdown",
   "metadata": {},
   "source": [
    "Then you have to start RVIZ, and add a **PoseArray** element, susbcribed to the topic **/waypoints**, and change its name to WayPoints. This will now show all the waypoints you set from now on."
   ]
  },
  {
   "cell_type": "markdown",
   "metadata": {},
   "source": [
    "<table style=\"float:left;background: #407EAF\">\n",
    "<tr>\n",
    "<th>\n",
    "<p class=\"transparent\">Execute in WebShell #2</p><br>\n",
    "rosrun rviz rviz\n",
    "</th>\n",
    "</tr>\n",
    "</table>"
   ]
  },
  {
   "cell_type": "markdown",
   "metadata": {},
   "source": [
    "<img src=\"img/summit_xl_instruction_manual_unit1_waypoints1.png\" width=\"600\"></img>"
   ]
  },
  {
   "cell_type": "markdown",
   "metadata": {},
   "source": [
    "You can change the colour also if you want. In this example its changed to black to see it better."
   ]
  },
  {
   "cell_type": "markdown",
   "metadata": {},
   "source": [
    "Now you have to set the waypoints, for this you have to select the **PoseEstimate** and set it where you want."
   ]
  },
  {
   "cell_type": "markdown",
   "metadata": {},
   "source": [
    "<img src=\"img/summit_xl_instruction_manual_unit1_waypoints3.png\" width=\"100\"></img>"
   ]
  },
  {
   "cell_type": "markdown",
   "metadata": {},
   "source": [
    "You should get something similar to this:"
   ]
  },
  {
   "cell_type": "markdown",
   "metadata": {},
   "source": [
    "<img src=\"img/summit_xl_instruction_manual_unit1_waypoints2.png\" width=\"600\"></img>"
   ]
  },
  {
   "cell_type": "markdown",
   "metadata": {},
   "source": [
    "You should also get in webshell where you launched the waypoint server a message stating that it recieved the waypoint:"
   ]
  },
  {
   "cell_type": "code",
   "execution_count": null,
   "metadata": {
    "collapsed": true
   },
   "outputs": [],
   "source": [
    "[INFO][139816504842048][/follow_waypoints/execute:92]: Waiting to recieve waypoints via Pose msg on topic /initialpose         \n",
    "[INFO][139816504842048][/follow_waypoints/execute:93]: To start following waypoints: 'rostopic pub /path_ready std_msgs/Empty -\n",
    "1'                                                                                                                             \n",
    "[INFO][139816504842048][/follow_waypoints/execute:104]: Recieved new waypoint                                                  \n",
    "[INFO][139816504842048][/follow_waypoints/execute:104]: Recieved new waypoint                                                  \n",
    "[INFO][139816504842048][/follow_waypoints/execute:104]: Recieved new waypoint                                                  \n",
    "[INFO][139816504842048][/follow_waypoints/execute:104]: Recieved new waypoint                                                  \n",
    "[INFO][139816504842048][/follow_waypoints/execute:104]: Recieved new waypoint                                                  \n",
    "[INFO][139816504842048][/follow_waypoints/execute:104]: Recieved new waypoint                                                  \n",
    "[INFO][139816504842048][/follow_waypoints/execute:104]: Recieved new waypoint                                                  \n",
    "[INFO][139816504842048][/follow_waypoints/execute:104]: Recieved new waypoint                                                  \n",
    "[INFO][139816504842048][/follow_waypoints/execute:104]: Recieved new waypoint                                                  \n",
    "[INFO][139816504842048][/follow_waypoints/execute:104]: Recieved new waypoint                                                  \n",
    "[INFO][139816504842048][/follow_waypoints/execute:104]: Recieved new waypoint"
   ]
  },
  {
   "cell_type": "markdown",
   "metadata": {},
   "source": [
    "Now you just have to publish in the topic **/path_ready** to start sending waypoints to the movebase."
   ]
  },
  {
   "cell_type": "markdown",
   "metadata": {},
   "source": [
    "If you want to see the global path generated just activate it in RVIZ."
   ]
  },
  {
   "cell_type": "markdown",
   "metadata": {},
   "source": [
    "<table style=\"float:left;background: #407EAF\">\n",
    "<tr>\n",
    "<th>\n",
    "<p class=\"transparent\">Execute in WebShell #3</p><br>\n",
    "rostopic pub /path_ready std_msgs/Empty -1\n",
    "</th>\n",
    "</tr>\n",
    "</table>"
   ]
  },
  {
   "cell_type": "markdown",
   "metadata": {},
   "source": [
    "You should get something similar to this for each waypoint executed:"
   ]
  },
  {
   "cell_type": "markdown",
   "metadata": {},
   "source": [
    "<img src=\"img/summit_xl_instruction_manual_unit1_waypoints4.png\" width=\"600\"></img>"
   ]
  },
  {
   "cell_type": "markdown",
   "metadata": {},
   "source": [
    "<img src=\"img/summit_xl_instruction_manual_unit1_waypoints5.png\" width=\"600\"></img>"
   ]
  },
  {
   "cell_type": "markdown",
   "metadata": {},
   "source": [
    "As you can see, its a nice way to do it , but its a bit cumbersome and messy. Specially because it has to change the initial position of the robot which is not very desirable. This is because this waypoint manager listenes to the topic **/initialpose**. Th eproblem is that **amlc localiser** also. Thats why when changed, the robot localises itself also in another place.<br>\n",
    "So the next step is creating your own version. So you will part from the code that you just used that is installed in the system and is courtsesy of <a href=\"https://github.com/danielsnider\">Daniel Snider</a> ,who created the original Waypoints manager <a href=\"https://github.com/danielsnider/follow_waypoints\">Program</a>."
   ]
  },
  {
   "cell_type": "markdown",
   "metadata": {},
   "source": [
    "In order to avoid touching the **/initialpose**, the topic that the **follow_points** listens to, this has to be changed. Not only that put it has to be configurable. See here the final code:"
   ]
  },
  {
   "cell_type": "markdown",
   "metadata": {},
   "source": [
    "**custom_follow_waypoints.py**"
   ]
  },
  {
   "cell_type": "code",
   "execution_count": null,
   "metadata": {
    "collapsed": true
   },
   "outputs": [],
   "source": [
    "#!/usr/bin/env python\n",
    "\n",
    "import threading\n",
    "import rospy\n",
    "import actionlib\n",
    "\n",
    "from smach import State,StateMachine\n",
    "from move_base_msgs.msg import MoveBaseAction, MoveBaseGoal\n",
    "from geometry_msgs.msg import PoseWithCovarianceStamped, PoseArray\n",
    "from std_msgs.msg import Empty\n",
    "\n",
    "waypoints = []\n",
    "\n",
    "class FollowPath(State):\n",
    "    def __init__(self):\n",
    "        State.__init__(self, outcomes=['success'], input_keys=['waypoints'])\n",
    "        self.frame_id = rospy.get_param('~goal_frame_id','map')\n",
    "        # Get a move_base action client\n",
    "        self.client = actionlib.SimpleActionClient('move_base', MoveBaseAction)\n",
    "        rospy.loginfo('Connecting to move_base...')\n",
    "        self.client.wait_for_server()\n",
    "        rospy.loginfo('Connected to move_base.')\n",
    "\n",
    "    def execute(self, userdata):\n",
    "        global waypoints\n",
    "        # Execute waypoints each in sequence\n",
    "        for waypoint in waypoints:\n",
    "            # Break if preempted\n",
    "            if waypoints == []:\n",
    "                rospy.loginfo('The waypoint queue has been reset.')\n",
    "                break\n",
    "            # Otherwise publish next waypoint as goal\n",
    "            goal = MoveBaseGoal()\n",
    "            goal.target_pose.header.frame_id = self.frame_id\n",
    "            goal.target_pose.pose.position = waypoint.pose.pose.position\n",
    "            goal.target_pose.pose.orientation = waypoint.pose.pose.orientation\n",
    "            rospy.loginfo('Executing move_base goal to position (x,y): %s, %s' %\n",
    "                    (waypoint.pose.pose.position.x, waypoint.pose.pose.position.y))\n",
    "            rospy.loginfo(\"To cancel the goal: 'rostopic pub -1 /move_base/cancel actionlib_msgs/GoalID -- {}'\")\n",
    "            self.client.send_goal(goal)\n",
    "            self.client.wait_for_result()\n",
    "        return 'success'\n",
    "\n",
    "def convert_PoseWithCovArray_to_PoseArray(waypoints):\n",
    "    \"\"\"Used to publish waypoints as pose array so that you can see them in rviz, etc.\"\"\"\n",
    "    poses = PoseArray()\n",
    "    poses.header.frame_id = 'map'\n",
    "    poses.poses = [pose.pose.pose for pose in waypoints]\n",
    "    return poses\n",
    "\n",
    "class GetPath(State):\n",
    "    def __init__(self):\n",
    "        State.__init__(self, outcomes=['success'], input_keys=['waypoints'], output_keys=['waypoints'])\n",
    "        # Create publsher to publish waypoints as pose array so that you can see them in rviz, etc.\n",
    "        self.poseArray_publisher = rospy.Publisher('/waypoints', PoseArray, queue_size=1)\n",
    "        self._custom_waypointstopic = rospy.get_param('~custom_waypointstopic','/my_waypoints_list')\n",
    "        # Start thread to listen for reset messages to clear the waypoint queue\n",
    "        def wait_for_path_reset():\n",
    "            \"\"\"thread worker function\"\"\"\n",
    "            global waypoints\n",
    "            while not rospy.is_shutdown():\n",
    "                data = rospy.wait_for_message('/path_reset', Empty)\n",
    "                rospy.loginfo('Recieved path RESET message')\n",
    "                self.initialize_path_queue()\n",
    "                rospy.sleep(3) # Wait 3 seconds because `rostopic echo` latches\n",
    "                               # for three seconds and wait_for_message() in a\n",
    "                               # loop will see it again.\n",
    "        reset_thread = threading.Thread(target=wait_for_path_reset)\n",
    "        reset_thread.start()\n",
    "\n",
    "    def initialize_path_queue(self):\n",
    "        global waypoints\n",
    "        waypoints = [] # the waypoint queue\n",
    "        # publish empty waypoint queue as pose array so that you can see them the change in rviz, etc.\n",
    "        self.poseArray_publisher.publish(convert_PoseWithCovArray_to_PoseArray(waypoints))\n",
    "\n",
    "    def execute(self, userdata):\n",
    "        global waypoints\n",
    "        self.initialize_path_queue()\n",
    "        self.path_ready = False\n",
    "\n",
    "        # Start thread to listen for when the path is ready (this function will end then)\n",
    "        def wait_for_path_ready():\n",
    "            \"\"\"thread worker function\"\"\"\n",
    "            data = rospy.wait_for_message('/path_ready', Empty)\n",
    "            rospy.loginfo('Recieved path READY message')\n",
    "            self.path_ready = True\n",
    "        ready_thread = threading.Thread(target=wait_for_path_ready)\n",
    "        ready_thread.start()\n",
    "\n",
    "        topic = self._custom_waypointstopic\n",
    "        rospy.loginfo(\"Waiting to recieve waypoints via Pose msg on topic %s\" % topic)\n",
    "        rospy.loginfo(\"To start following waypoints: 'rostopic pub /path_ready std_msgs/Empty -1'\")\n",
    "\n",
    "        # Wait for published waypoints\n",
    "        while not self.path_ready:\n",
    "            try:\n",
    "                pose = rospy.wait_for_message(topic, PoseWithCovarianceStamped, timeout=1)\n",
    "            except rospy.ROSException as e:\n",
    "                if 'timeout exceeded' in e.message:\n",
    "                    continue  # no new waypoint within timeout, looping...\n",
    "                else:\n",
    "                    raise e\n",
    "            rospy.loginfo(\"Recieved new waypoint\")\n",
    "            waypoints.append(pose)\n",
    "            # publish waypoint queue as pose array so that you can see them in rviz, etc.\n",
    "            self.poseArray_publisher.publish(convert_PoseWithCovArray_to_PoseArray(waypoints))\n",
    "\n",
    "        # Path is ready! return success and move on to the next state (FOLLOW_PATH)\n",
    "        return 'success'\n",
    "\n",
    "class PathComplete(State):\n",
    "    def __init__(self):\n",
    "        State.__init__(self, outcomes=['success'])\n",
    "\n",
    "    def execute(self, userdata):\n",
    "        rospy.loginfo('###############################')\n",
    "        rospy.loginfo('##### REACHED FINISH GATE #####')\n",
    "        rospy.loginfo('###############################')\n",
    "        return 'success'\n",
    "\n",
    "def main():\n",
    "    rospy.init_node('custom_follow_waypoints')\n",
    "\n",
    "    sm = StateMachine(outcomes=['success'])\n",
    "\n",
    "    with sm:\n",
    "        StateMachine.add('GET_PATH', GetPath(),\n",
    "                           transitions={'success':'FOLLOW_PATH'},\n",
    "                           remapping={'waypoints':'waypoints'})\n",
    "        StateMachine.add('FOLLOW_PATH', FollowPath(),\n",
    "                           transitions={'success':'PATH_COMPLETE'},\n",
    "                           remapping={'waypoints':'waypoints'})\n",
    "        StateMachine.add('PATH_COMPLETE', PathComplete(),\n",
    "                           transitions={'success':'GET_PATH'})\n",
    "\n",
    "    outcome = sm.execute()\n",
    "\n",
    "if __name__ == \"__main__\":\n",
    "    main()"
   ]
  },
  {
   "cell_type": "markdown",
   "metadata": {},
   "source": [
    "The new topic is retrived through a parameter setting."
   ]
  },
  {
   "cell_type": "code",
   "execution_count": null,
   "metadata": {
    "collapsed": true
   },
   "outputs": [],
   "source": [
    "self._custom_waypointstopic = rospy.get_param('~custom_waypointstopic','/my_waypoints_list')"
   ]
  },
  {
   "cell_type": "markdown",
   "metadata": {},
   "source": [
    "This means that when this node is launched, it will have to be set this parameter if we don't want it to have its default value **/my_waypoints_list**.<br>\n",
    "Here you have an example of how it should be launched:"
   ]
  },
  {
   "cell_type": "markdown",
   "metadata": {},
   "source": [
    "**start_follow_waypoints.launch**"
   ]
  },
  {
   "cell_type": "code",
   "execution_count": null,
   "metadata": {
    "collapsed": true
   },
   "outputs": [],
   "source": [
    "<launch>\n",
    "    <env name=\"ROSCONSOLE_FORMAT\" value=\"[${severity}][${thread}][${node}/${function}:${line}]: ${message}\"/>\n",
    "     <arg name=\"waypoints_topic\" default=\"/my_sumit_xl_waypoints\"/>\n",
    "    \n",
    "    <node pkg=\"my_sumit_xl_tools\" type=\"custom_follow_waypoints.py\" name=\"custom_follow_waypoints\" output=\"screen\" clear_params=\"true\">\n",
    "        <param name=\"goal_frame_id\" value=\"map\"/>\n",
    "        <param name=\"custom_waypointstopic\" value=\"$(arg waypoints_topic)\"/>\n",
    "    </node>\n",
    "\n",
    "</launch>"
   ]
  },
  {
   "cell_type": "markdown",
   "metadata": {},
   "source": [
    "Lets comment on various elements here:"
   ]
  },
  {
   "cell_type": "code",
   "execution_count": null,
   "metadata": {
    "collapsed": true
   },
   "outputs": [],
   "source": [
    "<env name=\"ROSCONSOLE_FORMAT\" value=\"[${severity}][${thread}][${node}/${function}:${line}]: ${message}\"/>"
   ]
  },
  {
   "cell_type": "markdown",
   "metadata": {},
   "source": [
    "This line changes the way the logs are shown, in this case it will show which node, function and line in the code is that log executed."
   ]
  },
  {
   "cell_type": "code",
   "execution_count": null,
   "metadata": {
    "collapsed": true
   },
   "outputs": [],
   "source": [
    "<arg name=\"waypoints_topic\" default=\"/my_sumit_xl_waypoints\"/>"
   ]
  },
  {
   "cell_type": "markdown",
   "metadata": {},
   "source": [
    "Here you state which topic where you will have to publish the waypoint."
   ]
  },
  {
   "cell_type": "code",
   "execution_count": null,
   "metadata": {
    "collapsed": true
   },
   "outputs": [],
   "source": [
    "<param name=\"goal_frame_id\" value=\"map\"/>\n",
    "<param name=\"custom_waypointstopic\" value=\"$(arg waypoints_topic)\"/>"
   ]
  },
  {
   "cell_type": "markdown",
   "metadata": {},
   "source": [
    "Here you state which is the frame and the topic params values."
   ]
  },
  {
   "cell_type": "markdown",
   "metadata": {},
   "source": [
    "<p style=\"background:#EE9023;color:white;\">Exercise U1-3</p>"
   ]
  },
  {
   "cell_type": "markdown",
   "metadata": {},
   "source": [
    "Now create a python script that generates those waypoints and when finished executes the moving system to follow those waypoints.<br>\n",
    "To do so, you will need to publish directly into the topic **/my_sumit_xl_waypoints** or the value that you stated in tha launch file **start_follow_waypoints.launch**.<br>\n",
    "Then you will have to publish to start in the topic **/path_ready**.<br>\n",
    "Tasks:\n",
    "* Make it generate circular paths\n",
    "* Eight shaped paths\n",
    "* Dynamic waypoints based on the position of the standing person. For this last one you will need to acces the TF data of the standingPerson."
   ]
  },
  {
   "cell_type": "markdown",
   "metadata": {},
   "source": [
    "<p style=\"background:#EE9023;color:white;\">Exercise U1-3</p>"
   ]
  },
  {
   "cell_type": "markdown",
   "metadata": {},
   "source": [
    "<p style=\"background:green;color:white;\">Solution Exercise U.3</p>"
   ]
  },
  {
   "cell_type": "markdown",
   "metadata": {},
   "source": [
    "Please Try to do it by yourself unless you get stuck or need some inspiration. You will learn much more if you fight for each exercise."
   ]
  },
  {
   "cell_type": "markdown",
   "metadata": {},
   "source": [
    "<img src=\"img/robotignite_logo_text.png\"/>"
   ]
  },
  {
   "cell_type": "markdown",
   "metadata": {},
   "source": [
    "Here you have an example of a publisher that generates a straight line waypoint path and executes it."
   ]
  },
  {
   "cell_type": "markdown",
   "metadata": {},
   "source": [
    "**waypoint_publisher.py**"
   ]
  },
  {
   "cell_type": "code",
   "execution_count": null,
   "metadata": {
    "collapsed": true
   },
   "outputs": [],
   "source": [
    "#!/usr/bin/env python\n",
    "# license removed for brevity\n",
    "import rospy\n",
    "from std_msgs.msg import String\n",
    "from geometry_msgs.msg import PoseWithCovarianceStamped\n",
    "import time\n",
    "import tf\n",
    "from std_msgs.msg import Empty\n",
    "\n",
    "\"\"\"\n",
    "user:~$ rosmsg show geometry_msgs/PoseWithCovarianceStamped                                                                                                               \n",
    "std_msgs/Header header                                                                                                                                                    \n",
    "  uint32 seq                                                                                                                                                              \n",
    "  time stamp                                                                                                                                                              \n",
    "  string frame_id                                                                                                                                                         \n",
    "geometry_msgs/PoseWithCovariance pose                                                                                                                                     \n",
    "  geometry_msgs/Pose pose                                                                                                                                                 \n",
    "    geometry_msgs/Point position                                                                                                                                          \n",
    "      float64 x                                                                                                                                                           \n",
    "      float64 y                                                                                                                                                           \n",
    "      float64 z                                                                                                                                                           \n",
    "    geometry_msgs/Quaternion orientation                                                                                                                                  \n",
    "      float64 x                                                                                                                                                           \n",
    "      float64 y                                                                                                                                                           \n",
    "      float64 z                                                                                                                                                           \n",
    "      float64 w                                                                                                                                                           \n",
    "  float64[36] covariance \n",
    "\"\"\"\n",
    "\n",
    "def talker():\n",
    "    pub_wp = rospy.Publisher('/my_sumit_xl_waypoints', PoseWithCovarianceStamped, queue_size=1)\n",
    "    \n",
    "    pub_init_wp = rospy.Publisher('/path_ready', Empty, queue_size=1)\n",
    "    \n",
    "    rospy.init_node('waypoint_publisher', anonymous=True)\n",
    "    rate = rospy.Rate(10) # 10hz\n",
    "    \n",
    "    my_wp = PoseWithCovarianceStamped()\n",
    "    my_wp.header.stamp = rospy.Time.now()\n",
    "    my_wp.header.frame_id = \"/map\"\n",
    "    \n",
    "    \n",
    "    init_value = 2.0\n",
    "    \n",
    "    roll = 0\n",
    "    pitch = 0\n",
    "    yaw = 0.7\n",
    "    quaternion = tf.transformations.quaternion_from_euler(roll, pitch, yaw)\n",
    "    #type(pose) = geometry_msgs.msg.Pose\n",
    "    my_wp.pose.pose.orientation.x = quaternion[0]\n",
    "    my_wp.pose.pose.orientation.y = quaternion[1]\n",
    "    my_wp.pose.pose.orientation.z = quaternion[2]\n",
    "    my_wp.pose.pose.orientation.w = quaternion[3]\n",
    "\n",
    "\n",
    "    for i in range(5):\n",
    "        rospy.loginfo(str(i))\n",
    "        my_wp.pose.pose.position.x = float(i) + init_value \n",
    "        my_wp.pose.pose.position.y = float(i) + init_value\n",
    "        \n",
    "        while not rospy.is_shutdown():\n",
    "            connections = pub_wp.get_num_connections()\n",
    "            if connections > 0:\n",
    "                pub_wp.publish(my_wp)\n",
    "                break\n",
    "            rospy.loginfo(\"Waiting for /my_sumit_xl_waypoints topic\")\n",
    "            rate.sleep()\n",
    "        rospy.loginfo(\"Published waypoint number =\"+str(i))\n",
    "        time.sleep(2)\n",
    "    \n",
    "    start_command = Empty()\n",
    "    \n",
    "    while not rospy.is_shutdown():\n",
    "            connections = pub_init_wp.get_num_connections()\n",
    "            if connections > 0:\n",
    "                pub_init_wp.publish(start_command)\n",
    "                rospy.loginfo(\"Sent waypoint list execution command\")\n",
    "                break\n",
    "            rospy.loginfo(\"Waiting for /path_ready topic\")\n",
    "            rate.sleep()\n",
    "\n",
    "\n",
    "if __name__ == '__main__':\n",
    "    try:\n",
    "        talker()\n",
    "    except rospy.ROSInterruptException:\n",
    "        pass"
   ]
  },
  {
   "cell_type": "markdown",
   "metadata": {},
   "source": [
    "### Extra: Launch your RVIZ configs easily"
   ]
  },
  {
   "cell_type": "markdown",
   "metadata": {},
   "source": [
    "Here you have an example of how to launch RVIZ sessions faster. You just have to create this tinny launch that retrieves the name of the **rviz** configuration file saved in the **rviz** folder. You will use it in the next units for sure."
   ]
  },
  {
   "cell_type": "markdown",
   "metadata": {},
   "source": [
    "**view_robot.launch**"
   ]
  },
  {
   "cell_type": "code",
   "execution_count": null,
   "metadata": {
    "collapsed": true
   },
   "outputs": [],
   "source": [
    "<launch>\n",
    "  <param name=\"use_gui\" value=\"true\"/>\n",
    "  <arg name=\"config\" default=\"complete\" />\n",
    "  <node name=\"rviz\" pkg=\"rviz\" type=\"rviz\" args=\"-d $(find my_summitxl_tools)/rviz/$(arg config).rviz\" />\n",
    "</launch>"
   ]
  },
  {
   "cell_type": "markdown",
   "metadata": {},
   "source": [
    "And you can use it like so in any launch file:"
   ]
  },
  {
   "cell_type": "code",
   "execution_count": null,
   "metadata": {
    "collapsed": true
   },
   "outputs": [],
   "source": [
    "<!-- Start RVIZ for Localization -->\n",
    "<include file=\"$(find my_sumit_xl_tools)/launch/view_robot.launch\">\n",
    "    <arg name=\"config\" value=\"navigation_map\" />\n",
    "</include>"
   ]
  },
  {
   "cell_type": "markdown",
   "metadata": {},
   "source": [
    "This one will load in RVIZ the file called **localization.rviz**."
   ]
  },
  {
   "cell_type": "markdown",
   "metadata": {},
   "source": [
    "### Congratulations! You now have a fully functional indoor navigating Summit XL. In next Chapter you will learn how to navigate outdoors using GPS data."
   ]
  }
 ],
 "metadata": {
  "anaconda-cloud": {},
  "kernelspec": {
   "display_name": "Python 2",
   "language": "python",
   "name": "python2"
  },
  "language_info": {
   "codemirror_mode": {
    "name": "ipython",
    "version": 2
   },
   "file_extension": ".py",
   "mimetype": "text/x-python",
   "name": "python",
   "nbconvert_exporter": "python",
   "pygments_lexer": "ipython2",
   "version": "2.7.12"
  },
  "latex_metadata": {
   "chapter": "6 - Course Project",
   "chapter_title": "Chapter 6. Course Project",
   "course_title": "ROS NAVIGATION IN 5 DAYS"
  }
 },
 "nbformat": 4,
 "nbformat_minor": 0
}
