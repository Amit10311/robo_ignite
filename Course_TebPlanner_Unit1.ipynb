{
 "cells": [
  {
   "cell_type": "markdown",
   "metadata": {},
   "source": [
    "# TEB Planner MicroCourse"
   ]
  },
  {
   "cell_type": "markdown",
   "metadata": {},
   "source": [
    "<img src=\"img/teb_intro.png\" width=\"600\" />"
   ]
  },
  {
   "cell_type": "markdown",
   "metadata": {},
   "source": [
    "<img src=\"img/robotignite_logo_text.png\" width=\"400\"/>"
   ]
  },
  {
   "cell_type": "markdown",
   "metadata": {},
   "source": [
    "## Unit 1: Set Up the Navigation Stack"
   ]
  },
  {
   "cell_type": "markdown",
   "metadata": {},
   "source": [
    "<p style=\"background:green;color:white;\">SUMMARY</p>"
   ]
  },
  {
   "cell_type": "markdown",
   "metadata": {},
   "source": [
    "Estimated time to completion: **1 hour**"
   ]
  },
  {
   "cell_type": "markdown",
   "metadata": {},
   "source": [
    "The first thing you will need to do to be able to use the TEB Local Planner is set up the Navigation Stack. And that's exactly what you are going to learn in this unit! For this, you will learn how to:\n",
    "\n",
    "* Set up the gmapping node\n",
    "* Set up the amcl node\n",
    "* Set up the move_base node\n",
    "* Set TEB as the Local Planner to be used"
   ]
  },
  {
   "cell_type": "markdown",
   "metadata": {},
   "source": [
    "<p style=\"background:green;color:white;\">END OF SUMMARY</p>"
   ]
  },
  {
   "cell_type": "markdown",
   "metadata": {},
   "source": [
    "## Set up the gmapping node"
   ]
  },
  {
   "cell_type": "markdown",
   "metadata": {},
   "source": [
    "The first thing you need to do in order to set up the ROS Navigation Stack is create a map of the environment you want to navigate. For that, you are going to need the **<a href=\"http://wiki.ros.org/gmapping\">slam_gmapping</a>** node that the Navigation Stack provides. To see how to do this, follow the next exercise:"
   ]
  },
  {
   "cell_type": "markdown",
   "metadata": {},
   "source": [
    "<p style=\"background:#EE9023;color:white;\">Exercise 1.1</p>"
   ]
  },
  {
   "cell_type": "markdown",
   "metadata": {},
   "source": [
    "a) First of all, let's create a new package where we'll put all the files related to navigation."
   ]
  },
  {
   "cell_type": "markdown",
   "metadata": {},
   "source": [
    "<table style=\"float:left;background: #407EAF\">\n",
    "<tr>\n",
    "<th>\n",
    "<p class=\"transparent\">Execute in WebShell #1</p>\n",
    "</th>\n",
    "</tr>\n",
    "</table>"
   ]
  },
  {
   "cell_type": "code",
   "execution_count": null,
   "metadata": {
    "collapsed": true
   },
   "outputs": [],
   "source": [
    "catkin_create_pkg teb_navigation"
   ]
  },
  {
   "cell_type": "markdown",
   "metadata": {},
   "source": [
    "b) Inside this new package, let's create two new directories: one named **launch** and the other one named **config**."
   ]
  },
  {
   "cell_type": "markdown",
   "metadata": {},
   "source": [
    "c) Now, let's create a launch file to start our slam_gmapping node!"
   ]
  },
  {
   "cell_type": "markdown",
   "metadata": {},
   "source": [
    "**gmapping.launch**"
   ]
  },
  {
   "cell_type": "code",
   "execution_count": null,
   "metadata": {
    "collapsed": true
   },
   "outputs": [],
   "source": [
    "<?xml version=\"1.0\"?>\n",
    "\n",
    "<launch>\n",
    "\n",
    "  <arg name=\"scan_topic\" default=\"scan\" />\n",
    "\n",
    "  <node pkg=\"gmapping\" type=\"slam_gmapping\" name=\"slam_gmapping\">\n",
    "    <rosparam>\n",
    "      odom_frame: odom\n",
    "      base_frame: base_link\n",
    "      map_frame: map\n",
    "\n",
    "      map_update_interval: 0.5 # Publish new map\n",
    "\n",
    "      maxUrange: 10.0 # Should be just less than sensor range\n",
    "      maxRange: 12.0 # Should be just greater than sensor range\n",
    "      particles: 100 # Increased from 80\n",
    "\n",
    "      # Update frequencies\n",
    "      linearUpdate: 0.3\n",
    "      angularUpdate: 0.5\n",
    "      temporalUpdate: 2.0\n",
    "      resampleThreshold: 0.5\n",
    "\n",
    "      # Initial Map Size\n",
    "      xmin: -100.0\n",
    "      ymin: -100.0\n",
    "      xmax: 100.0\n",
    "      ymax: 100.0\n",
    "      delta: 0.05\n",
    "\n",
    "      # All default\n",
    "      sigma: 0.05\n",
    "      kernelSize: 1\n",
    "      lstep: 0.05\n",
    "      astep: 0.05\n",
    "      iterations: 5\n",
    "      lsigma: 0.075\n",
    "      ogain: 3.0\n",
    "      lskip: 0\n",
    "      llsamplerange: 0.01\n",
    "      llsamplestep: 0.01\n",
    "      lasamplerange: 0.005\n",
    "      lasamplestep: 0.005\n",
    "\n",
    "    </rosparam>\n",
    "    <remap from=\"scan\" to=\"$(arg scan_topic)\"/>\n",
    "  </node>\n",
    "</launch>\n"
   ]
  },
  {
   "cell_type": "markdown",
   "metadata": {},
   "source": [
    "The most important parameters in these file are:\n",
    "\n",
    "* **maxUrange**: This parameter sets how far your laser will reach to create the map. Greater range will create maps faster and its less probable that the robot gets lost. The downside is that it consumes more resources."
   ]
  },
  {
   "cell_type": "markdown",
   "metadata": {},
   "source": [
    "If you need more information about all these parameters, please go to the slam_gmapping node docs: http://wiki.ros.org/gmapping"
   ]
  },
  {
   "cell_type": "markdown",
   "metadata": {},
   "source": [
    "d) Now, you can proceed to start this launch file. "
   ]
  },
  {
   "cell_type": "markdown",
   "metadata": {},
   "source": [
    "e) Let's now launch RVIZ to be able to visualize the mapping process. You will need to add the proper elements for visualizing the mapping process (**LaserScan**, **Map**, and **RobotModel**)."
   ]
  },
  {
   "cell_type": "markdown",
   "metadata": {},
   "source": [
    "You should see something like this:"
   ]
  },
  {
   "cell_type": "markdown",
   "metadata": {},
   "source": [
    "<img src=\"img/husky_gmapping.png\" width=\"600\" />"
   ]
  },
  {
   "cell_type": "markdown",
   "metadata": {},
   "source": [
    "f) Now, you can start moving the robot around the environment to generate a full map. In order to move the robot with the keyboard, you can use the following command:"
   ]
  },
  {
   "cell_type": "code",
   "execution_count": null,
   "metadata": {
    "collapsed": true
   },
   "outputs": [],
   "source": [
    "roslaunch husky_launch keyboard_teleop.launch"
   ]
  },
  {
   "cell_type": "markdown",
   "metadata": {},
   "source": [
    "g) You can also play with the values in the **maxUrange** parameter, to see how it affects the mapping process."
   ]
  },
  {
   "cell_type": "markdown",
   "metadata": {},
   "source": [
    "<p style=\"color:red;\">**IMPORTANT**: DO NOT CLOSE ANYTHING when you finalize the exercise (i.e. have created the full map). You will have to work with this.</p>"
   ]
  },
  {
   "cell_type": "markdown",
   "metadata": {},
   "source": [
    "<p style=\"background:#EE9023;color:white;\">End of Exercise 1.1</p>"
   ]
  },
  {
   "cell_type": "markdown",
   "metadata": {},
   "source": [
    "Great! So, you have now created a full map of the environment. Now what? Well, now it's time to save this map, so you can use it in the Path Planning system!"
   ]
  },
  {
   "cell_type": "markdown",
   "metadata": {},
   "source": [
    "## Saving the map"
   ]
  },
  {
   "cell_type": "markdown",
   "metadata": {},
   "source": [
    "Another of the packages available in the ROS Navigation Stack is the map_server package. This package provides the map_saver node, which allows us to access the map data from a ROS Service, and save it into a file."
   ]
  },
  {
   "cell_type": "markdown",
   "metadata": {},
   "source": [
    "You can save the built map at anytime by using the following command:"
   ]
  },
  {
   "cell_type": "code",
   "execution_count": null,
   "metadata": {
    "collapsed": true
   },
   "outputs": [],
   "source": [
    "rosrun map_server map_saver -f name_of_map"
   ]
  },
  {
   "cell_type": "markdown",
   "metadata": {},
   "source": [
    "This command will get the map data from the map topic, and write it out into two files: name_of_map.pgm and name_of_map.yaml."
   ]
  },
  {
   "cell_type": "markdown",
   "metadata": {},
   "source": [
    "<p style=\"background:#EE9023;color:white;\">**Exercise 1.2**</p>"
   ]
  },
  {
   "cell_type": "markdown",
   "metadata": {},
   "source": [
    "a) Save the map created in the previous exercise into a file.\n",
    "<table style=\"float:left;background: #407EAF\">\n",
    "<tr>\n",
    "<th>\n",
    "<p class=\"transparent\">Execute in WebShell #3</p>\n",
    "</th>\n",
    "</tr>\n",
    "</table>\n",
    "<br>"
   ]
  },
  {
   "cell_type": "code",
   "execution_count": null,
   "metadata": {
    "collapsed": true
   },
   "outputs": [],
   "source": [
    "roscd teb_navigation;\n",
    "mkdir maps;\n",
    "cd maps;\n",
    "rosrun map_server map_saver -f my_map;"
   ]
  },
  {
   "cell_type": "markdown",
   "metadata": {},
   "source": [
    "<p style=\"background:#EE9023;color:white;\">**End of Exercise 1.2**</p>"
   ]
  },
  {
   "cell_type": "markdown",
   "metadata": {},
   "source": [
    "You should end up with two new files: **my_map.yaml** and **my_map.pgm**."
   ]
  },
  {
   "cell_type": "markdown",
   "metadata": {},
   "source": [
    "The PGM file is the one that contains the occupancy data of the map (the really important data); and the YAML file contains some metadata about the map, like the map dimensions and resolution, or the path to the PGM file."
   ]
  },
  {
   "cell_type": "markdown",
   "metadata": {},
   "source": [
    "**my_map.yaml**"
   ]
  },
  {
   "cell_type": "code",
   "execution_count": null,
   "metadata": {
    "collapsed": true
   },
   "outputs": [],
   "source": [
    "image: my_map.pgm\n",
    "resolution: 0.050000\n",
    "origin: [-10.000000, -10.000000, 0.000000]\n",
    "negate: 0\n",
    "occupied_thresh: 0.65\n",
    "free_thresh: 0.196"
   ]
  },
  {
   "cell_type": "markdown",
   "metadata": {},
   "source": [
    "**my_map.pgm**"
   ]
  },
  {
   "cell_type": "markdown",
   "metadata": {},
   "source": [
    "<img src=\"img/map2_pgm.png\" width=\"500\" />"
   ]
  },
  {
   "cell_type": "markdown",
   "metadata": {},
   "source": [
    "## Set up the AMCL node"
   ]
  },
  {
   "cell_type": "markdown",
   "metadata": {},
   "source": [
    "So, after generating the map, the next thing we'll need to do is be able to localize the robot into that map. If we don't do this, the map would be totally useless. Right?"
   ]
  },
  {
   "cell_type": "markdown",
   "metadata": {},
   "source": [
    "For that, we are going to use the **AMCL** node from the Navigation Stack. So, as you did for the mapping process, let's create a launch file to start this node."
   ]
  },
  {
   "cell_type": "markdown",
   "metadata": {},
   "source": [
    "<p style=\"background:#EE9023;color:white;\">Exercise 1.3</p>"
   ]
  },
  {
   "cell_type": "markdown",
   "metadata": {},
   "source": [
    "a) Inside your package, create a new launch file to start the localization node."
   ]
  },
  {
   "cell_type": "markdown",
   "metadata": {},
   "source": [
    "**amcl.launch**"
   ]
  },
  {
   "cell_type": "code",
   "execution_count": null,
   "metadata": {
    "collapsed": true
   },
   "outputs": [],
   "source": [
    "<?xml version=\"1.0\"?>\n",
    "\n",
    "<launch>\n",
    "  \n",
    "  <arg name=\"map_file\" default=\"$(find teb_navigation)/maps/my_map.yaml\"/>\n",
    "  <node name=\"map_server\" pkg=\"map_server\" type=\"map_server\" args=\"$(arg map_file)\" />\n",
    "\n",
    "  <arg name=\"use_map_topic\" default=\"true\"/>\n",
    "  <arg name=\"scan_topic\" default=\"scan\" />\n",
    "\n",
    "  <node pkg=\"amcl\" type=\"amcl\" name=\"amcl\">\n",
    "    <param name=\"use_map_topic\" value=\"$(arg use_map_topic)\"/>\n",
    "    <!-- Publish scans from best pose at a max of 10 Hz -->\n",
    "    <param name=\"odom_model_type\" value=\"diff\"/>\n",
    "    <param name=\"odom_alpha5\" value=\"0.1\"/>\n",
    "    <param name=\"gui_publish_rate\" value=\"10.0\"/>\n",
    "    <param name=\"laser_max_beams\" value=\"60\"/>\n",
    "    <param name=\"laser_max_range\" value=\"12.0\"/>\n",
    "    <param name=\"min_particles\" value=\"500\"/>\n",
    "    <param name=\"max_particles\" value=\"2000\"/>\n",
    "    <param name=\"kld_err\" value=\"0.05\"/>\n",
    "    <param name=\"kld_z\" value=\"0.99\"/>\n",
    "    <param name=\"odom_alpha1\" value=\"0.2\"/>\n",
    "    <param name=\"odom_alpha2\" value=\"0.2\"/>\n",
    "    <!-- translation std dev, m -->\n",
    "    <param name=\"odom_alpha3\" value=\"0.2\"/>\n",
    "    <param name=\"odom_alpha4\" value=\"0.2\"/>\n",
    "    <param name=\"laser_z_hit\" value=\"0.5\"/>\n",
    "    <param name=\"laser_z_short\" value=\"0.05\"/>\n",
    "    <param name=\"laser_z_max\" value=\"0.05\"/>\n",
    "    <param name=\"laser_z_rand\" value=\"0.5\"/>\n",
    "    <param name=\"laser_sigma_hit\" value=\"0.2\"/>\n",
    "    <param name=\"laser_lambda_short\" value=\"0.1\"/>\n",
    "    <param name=\"laser_model_type\" value=\"likelihood_field\"/>\n",
    "    <!-- <param name=\"laser_model_type\" value=\"beam\"/> -->\n",
    "    <param name=\"laser_likelihood_max_dist\" value=\"2.0\"/>\n",
    "    <param name=\"update_min_d\" value=\"0.25\"/>\n",
    "    <param name=\"update_min_a\" value=\"0.2\"/>\n",
    "    <param name=\"odom_frame_id\" value=\"odom\"/>\n",
    "    <param name=\"resample_interval\" value=\"1\"/>\n",
    "    <!-- Increase tolerance because the computer can get quite busy -->\n",
    "    <param name=\"transform_tolerance\" value=\"1.0\"/>\n",
    "    <param name=\"recovery_alpha_slow\" value=\"0.0\"/>\n",
    "    <param name=\"recovery_alpha_fast\" value=\"0.0\"/>\n",
    "    <remap from=\"scan\" to=\"$(arg scan_topic)\"/>    \n",
    "  </node>\n",
    "\n",
    "</launch>\n"
   ]
  },
  {
   "cell_type": "markdown",
   "metadata": {},
   "source": [
    "The most important parameters in these files are:\n",
    "\n",
    "* **min_particles, max_particles**: This parameter sets the number of particles that the filter will use to localize the robot. The more you use, the more precise the localization will be, but the more resources it will consume.\n",
    "* **laser_max_range**: Maximum range of the laser beams."
   ]
  },
  {
   "cell_type": "markdown",
   "metadata": {},
   "source": [
    "If you need more information about all these parameters, please go to the AMCL node docs: http://wiki.ros.org/amcl."
   ]
  },
  {
   "cell_type": "markdown",
   "metadata": {},
   "source": [
    "d) Now, you can start this launch file. "
   ]
  },
  {
   "cell_type": "markdown",
   "metadata": {},
   "source": [
    "e) Let's launch RVIZ in order to be able to visualize the localization process. You can use the same setup you used for the mapping process, adding one more display: **Pose Array**."
   ]
  },
  {
   "cell_type": "markdown",
   "metadata": {},
   "source": [
    "You should see something like this:"
   ]
  },
  {
   "cell_type": "markdown",
   "metadata": {},
   "source": [
    "<img src=\"img/husky_localization.png\" width=\"600\" />"
   ]
  },
  {
   "cell_type": "markdown",
   "metadata": {},
   "source": [
    "f) Now, you can start moving the robot around the environment to localize the robot. As you move the robot, you will see in RVIZ how the particles keep getting closer, which means that the estimated poses of the robot are getting closer to the real place. This is a test of how good your localization system is working."
   ]
  },
  {
   "cell_type": "markdown",
   "metadata": {},
   "source": [
    "<img src=\"img/husky_localization2.png\" width=\"600\" />"
   ]
  },
  {
   "cell_type": "markdown",
   "metadata": {},
   "source": [
    "g) You can also play with the values in the **min_particles** and **max_particles** parameters, to see how they affect the localization process."
   ]
  },
  {
   "cell_type": "markdown",
   "metadata": {},
   "source": [
    "<p style=\"background:#EE9023;color:white;\">End of Exercise 1.3</p>"
   ]
  },
  {
   "cell_type": "markdown",
   "metadata": {},
   "source": [
    "Great! So, at this point, you've already built a map of the environment and you are able to localize the Turtlebot3 robot on the map. This means that everything is ready to navigate the robot!"
   ]
  },
  {
   "cell_type": "markdown",
   "metadata": {},
   "source": [
    "## Set up the move_base node"
   ]
  },
  {
   "cell_type": "markdown",
   "metadata": {},
   "source": [
    "For doing Path Planning, you'll need to combine everything you've done up until now. Plus, you will have to use the **move_base** node from the Navigation Stack, which will manage the Path Planning system for you. So, as you've done in the previous exercises, let's create our launch file in order to launch the Path Planning system. This time, though, you'll have some extra work to do, since there are a lot of parameters involved that you'll need to set. But don't worry, you can follow the next exercise and be guided through the process!"
   ]
  },
  {
   "cell_type": "markdown",
   "metadata": {},
   "source": [
    "<p style=\"background:#EE9023;color:white;\">Exercise 1.4</p>"
   ]
  },
  {
   "cell_type": "markdown",
   "metadata": {},
   "source": [
    "a) Inside your package, create a new launch file to start the move_base node."
   ]
  },
  {
   "cell_type": "markdown",
   "metadata": {},
   "source": [
    "**move_base.launch**"
   ]
  },
  {
   "cell_type": "code",
   "execution_count": null,
   "metadata": {
    "collapsed": true
   },
   "outputs": [],
   "source": [
    "<launch>\n",
    "\n",
    "  <!--- Run AMCL -->\n",
    "  <include file=\"$(find teb_navigation)/launch/amcl.launch\" />\n",
    "\n",
    "  <node pkg=\"move_base\" type=\"move_base\" respawn=\"false\" name=\"move_base\" output=\"screen\">\n",
    "\n",
    "    <param name=\"base_global_planner\" value=\"navfn/NavfnROS\"/>\n",
    "    <param name=\"base_local_planner\" value=\"dwa_local_planner/DWAPlannerROS\"/>\n",
    "    <rosparam file=\"$(find teb_navigation)/config/base_global_planner.yaml\" command=\"load\"/>\n",
    "    <rosparam file=\"$(find teb_navigation)/config/base_local_planner.yaml\" command=\"load\"/>\n",
    "\n",
    "    <!-- observation sources located in costmap_common.yaml -->\n",
    "    <rosparam file=\"$(find teb_navigation)/config/costmap_common_params.yaml\" command=\"load\" ns=\"global_costmap\" />\n",
    "    <rosparam file=\"$(find teb_navigation)/config/costmap_common_params.yaml\" command=\"load\" ns=\"local_costmap\" />\n",
    "\n",
    "    <!-- local costmap, needs size -->\n",
    "    <rosparam file=\"$(find teb_navigation)/config/local_costmap_params.yaml\" command=\"load\" ns=\"local_costmap\" />\n",
    "    <param name=\"local_costmap/width\" value=\"10.0\"/>\n",
    "    <param name=\"local_costmap/height\" value=\"10.0\"/>\n",
    "\n",
    "    <!-- static global costmap, static map provides size -->\n",
    "    <rosparam file=\"$(find teb_navigation)/config/global_costmap_params.yaml\" command=\"load\" ns=\"global_costmap\"/>\n",
    "    \n",
    "  </node>\n",
    "\n",
    "</launch>\n"
   ]
  },
  {
   "cell_type": "markdown",
   "metadata": {},
   "source": [
    "We can see there two main parts:\n",
    "\n",
    "* **AMCL**: The node that localizes the robot based on laser readings\n",
    "* **move_base**: The node that will provide Path Planning and Obstacle Avoidance"
   ]
  },
  {
   "cell_type": "markdown",
   "metadata": {},
   "source": [
    "So, you will just need to create all these parameter files that are being loaded for the move_base node."
   ]
  },
  {
   "cell_type": "markdown",
   "metadata": {},
   "source": [
    "b) Create all the parameter files required by the move_base node."
   ]
  },
  {
   "cell_type": "markdown",
   "metadata": {},
   "source": [
    "**costmap_common_params.yaml**"
   ]
  },
  {
   "cell_type": "code",
   "execution_count": null,
   "metadata": {
    "collapsed": true
   },
   "outputs": [],
   "source": [
    "footprint: [[-0.5, -0.33], [-0.5, 0.33], [0.5, 0.33], [0.5, -0.33]]\n",
    "footprint_padding: 0.01\n",
    "\n",
    "robot_base_frame: base_link\n",
    "update_frequency: 4.0\n",
    "publish_frequency: 3.0\n",
    "transform_tolerance: 0.5\n",
    "\n",
    "resolution: 0.05\n",
    "\n",
    "obstacle_range: 5.5\n",
    "raytrace_range: 6.0\n",
    "\n",
    "#layer definitions\n",
    "static:\n",
    "    enable: true\n",
    "    map_topic: /map\n",
    "    subscribe_to_updates: true\n",
    "\n",
    "obstacles_laser:\n",
    "    enabled: true\n",
    "    observation_sources: laser\n",
    "    laser: {data_type: LaserScan, clearing: true, marking: true, topic: /scan, inf_is_valid: true}\n",
    "\n",
    "inflation:\n",
    "    enabled: true\n",
    "    inflation_radius: 1.0\n"
   ]
  },
  {
   "cell_type": "markdown",
   "metadata": {},
   "source": [
    "Just note the observation_sources parameters, which use the topic/scan to read laser readings. The camera is not used for navigation.\n",
    "Also note that the ray trace range is only 3.5 meters. This is just to make detections faster and not meant for areas that aren't close enough."
   ]
  },
  {
   "cell_type": "markdown",
   "metadata": {},
   "source": [
    "**local_costmap_params.yaml**"
   ]
  },
  {
   "cell_type": "code",
   "execution_count": null,
   "metadata": {
    "collapsed": true
   },
   "outputs": [],
   "source": [
    "global_frame: odom\n",
    "robot_base_frame: base_link\n",
    "rolling_window: true\n",
    "\n",
    "plugins:\n",
    "  - {name: obstacles_laser,           type: \"costmap_2d::ObstacleLayer\"}\n",
    "  - {name: inflation,                 type: \"costmap_2d::InflationLayer\"}"
   ]
  },
  {
   "cell_type": "markdown",
   "metadata": {},
   "source": [
    "Note that the static_map parameter is set to False. This is because the local costmap is built from the laser readings, not from any static map."
   ]
  },
  {
   "cell_type": "markdown",
   "metadata": {},
   "source": [
    "**global_costmap_params.yaml**"
   ]
  },
  {
   "cell_type": "code",
   "execution_count": null,
   "metadata": {
    "collapsed": true
   },
   "outputs": [],
   "source": [
    "global_frame: map\n",
    "robot_base_frame: base_link\n",
    "rolling_window: false\n",
    "track_unknown_space: true\n",
    "\n",
    "plugins:\n",
    "  - {name: static,                  type: \"costmap_2d::StaticLayer\"}\n",
    "  - {name: obstacles_laser,         type: \"costmap_2d::VoxelLayer\"}\n",
    "  - {name: inflation,               type: \"costmap_2d::InflationLayer\"}\n"
   ]
  },
  {
   "cell_type": "markdown",
   "metadata": {},
   "source": [
    "Note that the static_map parameter here is set to True. This is because the global costmap is built from the static map you created in the previous steps."
   ]
  },
  {
   "cell_type": "markdown",
   "metadata": {},
   "source": [
    "**base_global_planner.yaml**"
   ]
  },
  {
   "cell_type": "code",
   "execution_count": null,
   "metadata": {
    "collapsed": true
   },
   "outputs": [],
   "source": [
    "controller_frequency: 5.0\n",
    "recovery_behaviour_enabled: true\n",
    "\n",
    "NavfnROS:\n",
    "  allow_unknown: true # Specifies whether or not to allow navfn to create plans that traverse unknown space.\n",
    "  default_tolerance: 0.1 # A tolerance on the goal point for the planner."
   ]
  },
  {
   "cell_type": "markdown",
   "metadata": {},
   "source": [
    "**base_local_planner.yaml**"
   ]
  },
  {
   "cell_type": "code",
   "execution_count": null,
   "metadata": {
    "collapsed": true
   },
   "outputs": [],
   "source": [
    "TrajectoryPlannerROS:\n",
    "  # Robot Configuration Parameters\n",
    "  acc_lim_x: 2.5\n",
    "  acc_lim_theta:  3.2\n",
    "\n",
    "  max_vel_x: 1.0\n",
    "  min_vel_x: 0.0\n",
    "\n",
    "  max_vel_theta: 1.0\n",
    "  min_vel_theta: -1.0\n",
    "  min_in_place_vel_theta: 0.2\n",
    "\n",
    "  holonomic_robot: false\n",
    "  escape_vel: -0.1\n",
    "\n",
    "  # Goal Tolerance Parameters\n",
    "  yaw_goal_tolerance: 0.1\n",
    "  xy_goal_tolerance: 0.2\n",
    "  latch_xy_goal_tolerance: false\n",
    "\n",
    "  # Forward Simulation Parameters\n",
    "  sim_time: 2.0\n",
    "  sim_granularity: 0.02\n",
    "  angular_sim_granularity: 0.02\n",
    "  vx_samples: 6\n",
    "  vtheta_samples: 20\n",
    "  controller_frequency: 20.0\n",
    "\n",
    "  # Trajectory scoring parameters\n",
    "  meter_scoring: true # Whether the gdist_scale and pdist_scale parameters should assume that goal_distance and path_distance are expressed in units of meters or cells. Cells are assumed by default (false).\n",
    "  occdist_scale:  0.1 #The weighting for how much the controller should attempt to avoid obstacles. default 0.01\n",
    "  pdist_scale: 0.75  #     The weighting for how much the controller should stay close to the path it was given . default 0.6\n",
    "  gdist_scale: 1.0 #     The weighting for how much the controller should attempt to reach its local goal, also controls speed  default 0.8\n",
    "\n",
    "  heading_lookahead: 0.325  #How far to look ahead in meters when scoring different in-place-rotation trajectories\n",
    "  heading_scoring: false  #Whether to score based on the robot's heading to the path or its distance from the path. default false\n",
    "  heading_scoring_timestep: 0.8   #How far to look ahead in time in seconds along the simulated trajectory when using heading scoring (double, default: 0.8)\n",
    "  dwa: true #Whether to use the Dynamic Window Approach (DWA)_ or whether to use Trajectory Rollout\n",
    "  simple_attractor: false\n",
    "  publish_cost_grid_pc: true  \n",
    "\n",
    "  # Oscillation Prevention Parameters\n",
    "  oscillation_reset_dist: 0.25 #How far the robot must travel in meters before oscillation flags are reset (double, default: 0.05)\n",
    "  escape_reset_dist: 0.1\n",
    "  escape_reset_theta: 0.1\n",
    "\n",
    "DWAPlannerROS:\n",
    "  # Robot configuration parameters  \n",
    "  acc_lim_x: 2.5\n",
    "  acc_lim_y: 0\n",
    "  acc_lim_th: 3.2\n",
    "\n",
    "  max_vel_x: 2.0\n",
    "  min_vel_x: 0.0\n",
    "  max_vel_y: 0\n",
    "  min_vel_y: 0\n",
    "\n",
    "  max_trans_vel: 2.0\n",
    "  min_trans_vel: 0.1\n",
    "  max_rot_vel: 2.0\n",
    "  min_rot_vel: 0.2\n",
    "\n",
    "  # Goal Tolerance Parameters\n",
    "  yaw_goal_tolerance: 0.1\n",
    "  xy_goal_tolerance: 0.2\n",
    "  latch_xy_goal_tolerance: false\n",
    "\n",
    "  # # Forward Simulation Parameters\n",
    "  # sim_time: 2.0\n",
    "  # sim_granularity: 0.02\n",
    "  # vx_samples: 6\n",
    "  # vy_samples: 0\n",
    "  # vtheta_samples: 20\n",
    "  # penalize_negative_x: true\n",
    "\n",
    "  # # Trajectory scoring parameters\n",
    "  # path_distance_bias: 32.0 # The weighting for how much the controller should stay close to the path it was given\n",
    "  # goal_distance_bias: 24.0 # The weighting for how much the controller should attempt to reach its local goal, also controls speed\n",
    "  # occdist_scale: 0.01 # The weighting for how much the controller should attempt to avoid obstacles\n",
    "  # forward_point_distance: 0.325 # The distance from the center point of the robot to place an additional scoring point, in meters\n",
    "  # stop_time_buffer: 0.2  # The amount of time that the robot must stThe absolute value of the veolicty at which to start scaling the robot's footprint, in m/sop before a collision in order for a trajectory to be considered valid in seconds\n",
    "  # scaling_speed: 0.25 # The absolute value of the velocity at which to start scaling the robot's footprint, in m/s\n",
    "  # max_scaling_factor: 0.2 # The maximum factor to scale the robot's footprint by\n",
    "\n",
    "  # # Oscillation Prevention Parameters\n",
    "  # oscillation_reset_dist: 0.25 #How far the robot must travel in meters before oscillation flags are reset (double, default: 0.05)"
   ]
  },
  {
   "cell_type": "markdown",
   "metadata": {},
   "source": [
    "These are some parameters related to the local planners."
   ]
  },
  {
   "cell_type": "markdown",
   "metadata": {},
   "source": [
    "<p style=\"color: red;\">**NOTE**: If you want more details on how all these parameter files work, you can have a look at the **ROS Navigation in 5 Days Course**.</p>"
   ]
  },
  {
   "cell_type": "markdown",
   "metadata": {},
   "source": [
    "c) Execute your launch file to start the navigation system."
   ]
  },
  {
   "cell_type": "code",
   "execution_count": null,
   "metadata": {
    "collapsed": true
   },
   "outputs": [],
   "source": [
    "roslaunch teb_navigation move_base.launch"
   ]
  },
  {
   "cell_type": "markdown",
   "metadata": {},
   "source": [
    "d) Let's now launch RVIZ in order to be able to visualize the Path Planning process. For that, you will need to add Displays for the costmaps (local and global) and the plans."
   ]
  },
  {
   "cell_type": "markdown",
   "metadata": {},
   "source": [
    "You should see something like this:"
   ]
  },
  {
   "cell_type": "markdown",
   "metadata": {},
   "source": [
    "<img src=\"img/global_costmap_husky.png\" width=\"600\" />"
   ]
  },
  {
   "cell_type": "markdown",
   "metadata": {},
   "source": [
    "e) Use the 2D Pose Estimate tool in RVIZ to localize the robot in the map, just as you did in the demo of the previous unit."
   ]
  },
  {
   "cell_type": "markdown",
   "metadata": {},
   "source": [
    "f) Use the 2D Nav Goal tool in RVIZ to send a goal (desired pose) to the robot, just as you did in the demo of the previous unit."
   ]
  },
  {
   "cell_type": "markdown",
   "metadata": {},
   "source": [
    "You should now see the Husky robot going to that position in the simulation. In RVIZ, you can also visualize the planned path that it follows."
   ]
  },
  {
   "cell_type": "markdown",
   "metadata": {},
   "source": [
    "<img src=\"img/husky_planning.png\" width=\"600\" />"
   ]
  },
  {
   "cell_type": "markdown",
   "metadata": {},
   "source": [
    "g) You can also play with some of the values in the parameter files you created previously, to see how they affect the Path Planning process."
   ]
  },
  {
   "cell_type": "markdown",
   "metadata": {},
   "source": [
    "<p style=\"background:#EE9023;color:white;\">End of Exercise 1.4</p>"
   ]
  },
  {
   "cell_type": "markdown",
   "metadata": {},
   "source": [
    "## Set up the TEB Local Planner"
   ]
  },
  {
   "cell_type": "markdown",
   "metadata": {},
   "source": [
    "So, there you have it. Now, your mobile robot can navigate around one position at a time. But until now, the TEB Local Planner has been nowhere to be seen, right? Let's change that!"
   ]
  },
  {
   "cell_type": "markdown",
   "metadata": {},
   "source": [
    "Once we have set up the whole Navigation Stack, configuring it to use the TEB Local Planner is quite simple. You can follow the below steps to see how to do it:"
   ]
  },
  {
   "cell_type": "markdown",
   "metadata": {},
   "source": [
    "### Steps to do it:"
   ]
  },
  {
   "cell_type": "markdown",
   "metadata": {},
   "source": [
    "The first step will be to modify the **move_base.launch** file. Specifically, you will need to modify these two lines:"
   ]
  },
  {
   "cell_type": "code",
   "execution_count": null,
   "metadata": {
    "collapsed": true
   },
   "outputs": [],
   "source": [
    "<param name=\"base_local_planner\" value=\"teb_local_planner/TebLocalPlannerROS\"/>\n",
    "\n",
    "<rosparam file=\"$(find teb_navigation)/config/teb_local_planner.yaml\" command=\"load\"/>"
   ]
  },
  {
   "cell_type": "markdown",
   "metadata": {},
   "source": [
    "As you can see, we have just modified the value of the parameter **base_local_planner** to load **TebLocalPlannerROS**, instead of DWAPlannerROS. And we have also modified the parameters file to load, so that now it will load **teb_local_planner.yaml**. But... we don't have this file yet, right? Well then, let's create it!"
   ]
  },
  {
   "cell_type": "markdown",
   "metadata": {},
   "source": [
    "Here you have an example of how this file could be created:"
   ]
  },
  {
   "cell_type": "markdown",
   "metadata": {},
   "source": [
    "**teb_local_planner.yaml**"
   ]
  },
  {
   "cell_type": "code",
   "execution_count": null,
   "metadata": {
    "collapsed": true
   },
   "outputs": [],
   "source": [
    "TebLocalPlannerROS:\n",
    "\n",
    " odom_topic: odom\n",
    "    \n",
    " # Trajectory\n",
    "  \n",
    " teb_autosize: True\n",
    " dt_ref: 0.3\n",
    " dt_hysteresis: 0.1\n",
    " global_plan_overwrite_orientation: True\n",
    " allow_init_with_backwards_motion: False\n",
    " max_global_plan_lookahead_dist: 3.0\n",
    " feasibility_check_no_poses: 5\n",
    "    \n",
    " # Robot\n",
    "         \n",
    " max_vel_x: 2.0\n",
    " max_vel_x_backwards: 2.2\n",
    " max_vel_y: 0.0\n",
    " max_vel_theta: 2.0\n",
    " acc_lim_x: 2.5\n",
    " acc_lim_theta: 2.5\n",
    " min_turning_radius: 0.0 # diff-drive robot (can turn on place!)\n",
    "\n",
    " footprint_model:\n",
    "   type: \"point\"\n",
    "\n",
    " # GoalTolerance\n",
    "    \n",
    " xy_goal_tolerance: 0.2\n",
    " yaw_goal_tolerance: 0.1\n",
    " free_goal_vel: False\n",
    "    \n",
    " # Obstacles\n",
    "    \n",
    " min_obstacle_dist: 0.75 # This value must also include our robot radius, since footprint_model is set to \"point\".\n",
    " include_costmap_obstacles: True\n",
    " costmap_obstacles_behind_robot_dist: 1.5\n",
    " obstacle_poses_affected: 30\n",
    " costmap_converter_plugin: \"\"\n",
    " costmap_converter_spin_thread: True\n",
    " costmap_converter_rate: 5\n",
    "\n",
    " # Optimization\n",
    "    \n",
    " no_inner_iterations: 5\n",
    " no_outer_iterations: 4\n",
    " optimization_activate: True\n",
    " optimization_verbose: False\n",
    " penalty_epsilon: 0.1\n",
    " weight_max_vel_x: 2\n",
    " weight_max_vel_theta: 1\n",
    " weight_acc_lim_x: 1\n",
    " weight_acc_lim_theta: 1\n",
    " weight_kinematics_nh: 1000\n",
    " weight_kinematics_forward_drive: 1\n",
    " weight_kinematics_turning_radius: 1\n",
    " weight_optimaltime: 1\n",
    " weight_obstacle: 50\n",
    " weight_dynamic_obstacle: 10 # not in use yet\n",
    " weight_adapt_factor: 2\n",
    "\n",
    " # Homotopy Class Planner\n",
    "\n",
    " enable_homotopy_class_planning: True\n",
    " enable_multithreading: True\n",
    " simple_exploration: False\n",
    " max_number_classes: 4\n",
    " selection_cost_hysteresis: 1.0\n",
    " selection_obst_cost_scale: 1.0\n",
    " selection_alternative_time_cost: False\n",
    " \n",
    " roadmap_graph_no_samples: 15\n",
    " roadmap_graph_area_width: 5\n",
    " h_signature_prescaler: 0.5\n",
    " h_signature_threshold: 0.1\n",
    " obstacle_keypoint_offset: 0.1\n",
    " obstacle_heading_threshold: 0.45\n",
    " visualize_hc_graph: False"
   ]
  },
  {
   "cell_type": "markdown",
   "metadata": {},
   "source": [
    "Alright! Everything's ready now. Pretty simple, right? So, the final step will be to test everything. For that, just launch your **move_base.launch** file again."
   ]
  },
  {
   "cell_type": "markdown",
   "metadata": {},
   "source": [
    "<table style=\"float:left;background: #407EAF\">\n",
    "<tr>\n",
    "<th>\n",
    "<p class=\"transparent\">Execute in WebShell #1</p>\n",
    "</th>\n",
    "</tr>\n",
    "</table>"
   ]
  },
  {
   "cell_type": "code",
   "execution_count": null,
   "metadata": {
    "collapsed": true
   },
   "outputs": [],
   "source": [
    "roslaunch teb_navigation move_base.launch"
   ]
  },
  {
   "cell_type": "markdown",
   "metadata": {},
   "source": [
    "You can now repeat the process you followed in **Exercise 1.4** to send goals to your repeat. Also, you can check the local planner you are currently using by executing the following command:"
   ]
  },
  {
   "cell_type": "code",
   "execution_count": null,
   "metadata": {
    "collapsed": true
   },
   "outputs": [],
   "source": [
    "rosparam get /move_base/base_local_planner"
   ]
  },
  {
   "cell_type": "markdown",
   "metadata": {},
   "source": [
    "If you've done everything right, you should see something like this:"
   ]
  },
  {
   "cell_type": "markdown",
   "metadata": {
    "collapsed": true
   },
   "source": [
    "<img src=\"img/teb_local_planner.png\" width=\"600\" />"
   ]
  },
  {
   "cell_type": "markdown",
   "metadata": {},
   "source": [
    "## Congratulations!! You are now capable of creating your own navigation set up with the TEB Local Planner."
   ]
  }
 ],
 "metadata": {
  "anaconda-cloud": {},
  "kernelspec": {
   "display_name": "Python 3",
   "language": "python",
   "name": "python3"
  },
  "language_info": {
   "codemirror_mode": {
    "name": "ipython",
    "version": 3
   },
   "file_extension": ".py",
   "mimetype": "text/x-python",
   "name": "python",
   "nbconvert_exporter": "python",
   "pygments_lexer": "ipython3",
   "version": "3.6.1"
  },
  "latex_metadata": {
   "chapter": "6 - Course Project",
   "chapter_title": "Chapter 6. Course Project",
   "course_title": "ROS NAVIGATION IN 5 DAYS"
  }
 },
 "nbformat": 4,
 "nbformat_minor": 1
}
