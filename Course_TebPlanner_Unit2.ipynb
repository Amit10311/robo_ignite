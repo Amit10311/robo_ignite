{
 "cells": [
  {
   "cell_type": "markdown",
   "metadata": {},
   "source": [
    "# TEB Planner MicroCourse"
   ]
  },
  {
   "cell_type": "markdown",
   "metadata": {},
   "source": [
    "<img src=\"img/teb_intro.png\" width=\"600\"></img>"
   ]
  },
  {
   "cell_type": "markdown",
   "metadata": {},
   "source": [
    "<img src=\"img/robotignite_logo_text.png\" width=\"400\"/>"
   ]
  },
  {
   "cell_type": "markdown",
   "metadata": {},
   "source": [
    "## Unit 2: Configuration and Optimization"
   ]
  },
  {
   "cell_type": "markdown",
   "metadata": {},
   "source": [
    "<p style=\"background:green;color:white;\">**SUMMARY**</p>"
   ]
  },
  {
   "cell_type": "markdown",
   "metadata": {},
   "source": [
    "Estimated time to completion: **2 hours**<br><br>What will you learn with this unit?\n",
    "\n",
    "  * How to launch the Optimization node\n",
    "  * How to customize the planner parameters\n",
    "  * How to visualize the trajectories in RVIZ"
   ]
  },
  {
   "cell_type": "markdown",
   "metadata": {},
   "source": [
    "<p style=\"background:green;color:white;\">**END OF SUMMARY**</p>"
   ]
  },
  {
   "cell_type": "markdown",
   "metadata": {},
   "source": [
    "So, at this point, you have already set up your Navigation System with the TEB Local Planner. But what if your robot needs a different setup? Depending on the robot you are using and the usage you want, the parameters you configure for your planner will vary. Hopefully, the **teb_local_planner** provides a nice and easy-to-use tool that will allow you to test how modifying some parameters will affect the plans generated. So... let's begin!"
   ]
  },
  {
   "cell_type": "markdown",
   "metadata": {},
   "source": [
    "## Configure Optimization"
   ]
  },
  {
   "cell_type": "markdown",
   "metadata": {},
   "source": [
    "The **teb_local_planner** package comes with a ROS node, which is called **test_optim_node**, which optimizes a trajectory between a fixed start and goal pose. First, we will configure the planning parameters of a single trajectory (Timed-Elastic-Band) between start and goal."
   ]
  },
  {
   "cell_type": "markdown",
   "metadata": {},
   "source": [
    "### Optimization of a Single Trajectory"
   ]
  },
  {
   "cell_type": "markdown",
   "metadata": {},
   "source": [
    "Follow the next exercise to see how you can use the **test_optim_node** to optimize your planning trajectories."
   ]
  },
  {
   "cell_type": "markdown",
   "metadata": {},
   "source": [
    "<p style=\"background:#EE9023;color:white;\">**Exercise 2.1**</p>"
   ]
  },
  {
   "cell_type": "markdown",
   "metadata": {},
   "source": [
    "a) First of all, you'll need to deactivate the parallel planning using the ROS parameter server. This will allow us to focus on one single trajectory."
   ]
  },
  {
   "cell_type": "markdown",
   "metadata": {},
   "source": [
    "<table style=\"float:left;background: #407EAF\">\n",
    "<tr>\n",
    "<th>\n",
    "<p class=\"transparent\">Execute in WebShell #1</p>\n",
    "</th>\n",
    "</tr>\n",
    "</table>"
   ]
  },
  {
   "cell_type": "code",
   "execution_count": null,
   "metadata": {
    "collapsed": true
   },
   "outputs": [],
   "source": [
    "rosparam set /test_optim_node/enable_homotopy_class_planning False"
   ]
  },
  {
   "cell_type": "markdown",
   "metadata": {},
   "source": [
    "b) Next, let's launch the **test_optim_node** in combination with a preconfigured RVIZ node for visualization:"
   ]
  },
  {
   "cell_type": "markdown",
   "metadata": {},
   "source": [
    "<table style=\"float:left;background: #407EAF\">\n",
    "<tr>\n",
    "<th>\n",
    "<p class=\"transparent\">Execute in WebShell #1</p>\n",
    "</th>\n",
    "</tr>\n",
    "</table>"
   ]
  },
  {
   "cell_type": "code",
   "execution_count": null,
   "metadata": {
    "collapsed": true
   },
   "outputs": [],
   "source": [
    "roslaunch teb_local_planner test_optim_node.launch"
   ]
  },
  {
   "cell_type": "markdown",
   "metadata": {},
   "source": [
    "Now, if you open the Graphic Tools by hitting this icon \n",
    "<img src=\"img/font-awesome_desktop.png\"width=\"25\"/>\n",
    "you will see something like this:\n",
    "<img src=\"img/single_planning_rviz.png\" width=\"600\" />"
   ]
  },
  {
   "cell_type": "markdown",
   "metadata": {},
   "source": [
    "As you can see, three obstacles appear shaped like cubes. They are represented as an interactive_markers type, which means that they can be moved around by clicking and holding the circle that appears around each obstacle. Have a look at the following gif:"
   ]
  },
  {
   "cell_type": "markdown",
   "metadata": {},
   "source": [
    "<img src=\"img/single_optim.gif\" width=\"600\" />"
   ]
  },
  {
   "cell_type": "markdown",
   "metadata": {},
   "source": [
    "Move the obstacles around and see how they affect the trajectory calculated by the local planner."
   ]
  },
  {
   "cell_type": "markdown",
   "metadata": {},
   "source": [
    "c) Now, let's try to optimize these trajectories by modifying the local planner parameters. For that, execute the following command:"
   ]
  },
  {
   "cell_type": "markdown",
   "metadata": {},
   "source": [
    "<table style=\"float:left;background: #407EAF\">\n",
    "<tr>\n",
    "<th>\n",
    "<p class=\"transparent\">Execute in WebShell #2</p>\n",
    "</th>\n",
    "</tr>\n",
    "</table>"
   ]
  },
  {
   "cell_type": "code",
   "execution_count": null,
   "metadata": {
    "collapsed": true
   },
   "outputs": [],
   "source": [
    "rosrun rqt_reconfigure rqt_reconfigure"
   ]
  },
  {
   "cell_type": "markdown",
   "metadata": {},
   "source": [
    "After a few seconds, a new screen, like this one, should appear:"
   ]
  },
  {
   "cell_type": "markdown",
   "metadata": {},
   "source": [
    "<img src=\"img/rqt_reconfigure1.png\" width=\"600\" />"
   ]
  },
  {
   "cell_type": "markdown",
   "metadata": {},
   "source": [
    "Now, just click on the **test_optim_node** on the left menu, and the parameters will appear in the center of the screen. Try to modify some of the parameters and see how they affect the trajectory that is being calculated by the local planner."
   ]
  },
  {
   "cell_type": "markdown",
   "metadata": {},
   "source": [
    "<img src=\"img/rqt_reconfigure2.png\" width=\"600\" />"
   ]
  },
  {
   "cell_type": "markdown",
   "metadata": {},
   "source": [
    "<p style=\"color: red;\">**NOTE**: Modify the parameters only slightly, since some parameter sets could lead to unwanted convergence behavior or a bad performance (especially by changing the optimization parameters).\n",
    "</p>"
   ]
  },
  {
   "cell_type": "markdown",
   "metadata": {},
   "source": [
    "<p style=\"color: red;\">**NOTE 2**: You can change between screens (RVIZ and rqt) by using the bottom menu.\n",
    "</p>"
   ]
  },
  {
   "cell_type": "markdown",
   "metadata": {},
   "source": [
    "<img src=\"img/change_screen.png\" width=\"600\" />"
   ]
  },
  {
   "cell_type": "markdown",
   "metadata": {},
   "source": [
    "<p style=\"background:#EE9023;color:white;\">**END of Exercise 2.1**</p>"
   ]
  },
  {
   "cell_type": "markdown",
   "metadata": {},
   "source": [
    "### Optimization of Multiple Trajectories in Distinctive Topologies"
   ]
  },
  {
   "cell_type": "markdown",
   "metadata": {},
   "source": [
    "Great! So now you've seen how you can test and optimize the setup for a single trajectory. But let me tell you that this is not the usual behavior of a TEB Local Planner. By default, parallel planning is enabled, which provides better results, but also requires more computational resources."
   ]
  },
  {
   "cell_type": "markdown",
   "metadata": {},
   "source": [
    "Let's see how we can test the parallel planning in the following exercise!"
   ]
  },
  {
   "cell_type": "markdown",
   "metadata": {},
   "source": [
    "<p style=\"background:#EE9023;color:white;\">**Exercise 2.2**</p>"
   ]
  },
  {
   "cell_type": "markdown",
   "metadata": {},
   "source": [
    "a) First of all, let's enable the extended planner:"
   ]
  },
  {
   "cell_type": "markdown",
   "metadata": {},
   "source": [
    "<table style=\"float:left;background: #407EAF\">\n",
    "<tr>\n",
    "<th>\n",
    "<p class=\"transparent\">Execute in WebShell #1</p>\n",
    "</th>\n",
    "</tr>\n",
    "</table>"
   ]
  },
  {
   "cell_type": "code",
   "execution_count": null,
   "metadata": {
    "collapsed": true
   },
   "outputs": [],
   "source": [
    "rosparam set /test_optim_node/enable_homotopy_class_planning True"
   ]
  },
  {
   "cell_type": "markdown",
   "metadata": {},
   "source": [
    "b) Now, let's launch the **test_optim_node** in combination with a preconfigured RVIZ node for visualization:"
   ]
  },
  {
   "cell_type": "markdown",
   "metadata": {},
   "source": [
    "<table style=\"float:left;background: #407EAF\">\n",
    "<tr>\n",
    "<th>\n",
    "<p class=\"transparent\">Execute in WebShell #1</p>\n",
    "</th>\n",
    "</tr>\n",
    "</table>"
   ]
  },
  {
   "cell_type": "code",
   "execution_count": null,
   "metadata": {
    "collapsed": true
   },
   "outputs": [],
   "source": [
    "roslaunch teb_local_planner test_optim_node.launch"
   ]
  },
  {
   "cell_type": "markdown",
   "metadata": {},
   "source": [
    "Now, if you open the Graphic Tools by hitting this icon \n",
    "<img src=\"img/font-awesome_desktop.png\"width=\"25\"/>\n",
    "you will see something like this:\n",
    "<img src=\"img/paralel_planning_rviz.png\" width=\"600\" />"
   ]
  },
  {
   "cell_type": "markdown",
   "metadata": {},
   "source": [
    "Like in the previous exercise, you can move all the obstacles around by holding the circle that appears around them. "
   ]
  },
  {
   "cell_type": "markdown",
   "metadata": {},
   "source": [
    "<img src=\"img/paralel_optim.gif\" width=\"600\" />"
   ]
  },
  {
   "cell_type": "markdown",
   "metadata": {},
   "source": [
    "Change the obstacle configuration and observe what's happening. You see many plans at the same time, right? Something like this:"
   ]
  },
  {
   "cell_type": "markdown",
   "metadata": {},
   "source": [
    "<img src=\"img/paralel_planning_rviz2.png\" width=\"600\" />"
   ]
  },
  {
   "cell_type": "markdown",
   "metadata": {},
   "source": [
    "What's actually happening is that the current best trajectory (in the sense of the cheapest optimization cost) is highlighted by showing the individual poses (as red arrows) at each trajectory configuration."
   ]
  },
  {
   "cell_type": "markdown",
   "metadata": {},
   "source": [
    "c) Let's now launch the rqt_reconfigure node again to customize the parameters."
   ]
  },
  {
   "cell_type": "markdown",
   "metadata": {},
   "source": [
    "<table style=\"float:left;background: #407EAF\">\n",
    "<tr>\n",
    "<th>\n",
    "<p class=\"transparent\">Execute in WebShell #2</p>\n",
    "</th>\n",
    "</tr>\n",
    "</table>"
   ]
  },
  {
   "cell_type": "code",
   "execution_count": null,
   "metadata": {
    "collapsed": true
   },
   "outputs": [],
   "source": [
    "rosrun rqt_reconfigure rqt_reconfigure"
   ]
  },
  {
   "cell_type": "markdown",
   "metadata": {},
   "source": [
    "Try to modify some of the parameters and see how they affect the trajectory that is being calculated by the local planner."
   ]
  },
  {
   "cell_type": "markdown",
   "metadata": {},
   "source": [
    "<p style=\"background:#EE9023;color:white;\">**END of Exercise 2.2**</p>"
   ]
  },
  {
   "cell_type": "markdown",
   "metadata": {},
   "source": [
    "### How obstacle avoidance works"
   ]
  },
  {
   "cell_type": "markdown",
   "metadata": {},
   "source": [
    "Obstacle avoidance is achieved as a part of the optimization process. Basically, the optimization process aims for the trajectory with the **minimum cost** among all the trajectories that are calculated. For instance, if one of the trajectories violates a desired distance from obstacles, the cost of that trajectory will increase, so it will likely be discarded at the end. The allowed minimum distance to an obstacle can be configured in the parameter **min_obstacl_dist**. So, let's say that we set this value to 0.2 meters; then, if a trajectory has a distance to an obstacle that is below 0.2 meters, the cost of this trajectory will increase. \n",
    "\n",
    "But there are many more penalty (cost) terms. Therefore, the optimizer may have a small violation (increase of the cost) in order to achieve an overall better cost for the trajectory. You can adjust the optimization weights (scaling of the individual costs) on the parameter **weight_obstacle**. But be careful. If you set the values too high here, it may lead to poor behavior.\n",
    "\n",
    "You can also shift penalty terms. For instance, by adding a small extra margin to the min_obstacle_dist parameter, you implicitly increase the cost value at 0.2 meters. There's also one parameter to shift all penalty terms at once: it is done with the **penalty_epsilon** parameter. But be careful here, since this parameter will have a huge impact on the optimization results."
   ]
  },
  {
   "cell_type": "markdown",
   "metadata": {},
   "source": [
    "A feasibility check is performed after the optimizer returns a trajectory and before the velocity commands are sent to the robot. The purpose of this check is to identify an invalid/infeasible trajectory that might be produced by the optimizer."
   ]
  },
  {
   "cell_type": "markdown",
   "metadata": {},
   "source": [
    "Currently, the algorithm iterates the first n poses (n = **feasibility_check_no_poses** parameter), starting from the current robot pose, and checks whether those poses are collision-free. For detecting if a collision occurs, the **costmap footprint** is used (not the footprint mode, which you'll see in the next unit).\n",
    "\n",
    "The value of **feasibility_check_no_poses** should not be too high, since the optimizer might not be converged completely. Figuratively, small obstacle violations in the (far) future could be corrected while the robot is moving towards the goal."
   ]
  },
  {
   "cell_type": "markdown",
   "metadata": {},
   "source": [
    "If you are driving in narrow environments, make sure to configure the obstacle avoidance behavior (local planner and global planner) properly. Otherwise, the local planner might reject an infeasible trajectory (from its point of view), but the global planner, in contrast, could think that the selected (global) plan is feasible; the robot could get stuck."
   ]
  },
  {
   "cell_type": "markdown",
   "metadata": {},
   "source": [
    "### Save the parameters"
   ]
  },
  {
   "cell_type": "markdown",
   "metadata": {},
   "source": [
    "You may have noticed that when you close the **rqt_reconfigure** node, all the modifications you've made to the parameters are lost. When you launch the node back again later, the parameters will be set to their defaults, losing all the work you've done. \n",
    "\n",
    "Thankfully, rqt_reconfigure allows you to save your parameters to a file very easily. You just have to click on the Save button that appears right above the parameters..."
   ]
  },
  {
   "cell_type": "markdown",
   "metadata": {},
   "source": [
    "<img src=\"img/save_rqt.png\" width=\"100\" />"
   ]
  },
  {
   "cell_type": "markdown",
   "metadata": {},
   "source": [
    "...and select the folder where you want to save them."
   ]
  },
  {
   "cell_type": "markdown",
   "metadata": {},
   "source": [
    "<img src=\"img/save_rqt2.png\" width=\"600\" />"
   ]
  },
  {
   "cell_type": "markdown",
   "metadata": {},
   "source": [
    "<p style=\"color: red;\">**NOTE**: We recommend that you save your parameter files somewhere inside **catkin_ws/src**.\n",
    "</p>"
   ]
  },
  {
   "cell_type": "markdown",
   "metadata": {},
   "source": [
    "### Inspect optimization feedback"
   ]
  },
  {
   "cell_type": "markdown",
   "metadata": {},
   "source": [
    "Great! So, now you've learned how to launch the **test_optim_node** to optimize your plans by customizing the **teb_local_planner** parameters. Also, you've seen how to visualize the resulting trajectories in RVIZ, which makes the whole process (which is quite complicated) much more easy to understand.\n",
    "\n",
    "However, these trajectories you were visualizing in RVIZ didn't contain any temporal information. They were only trajectories represented into the space. And, as you may have already seen, you had some parameters that were related to the velocities of the robot. So, we will need to add some temporal information to our trajectories, since velocity depends on time. For this, the teb_local_planner package provides a feedback message, **teb_local_planner/FeedbackMsg**, which contains all this information. Furthermore, the feedback message contains all the alternative trajectories, and the currently selected one is stored in an index.\n",
    "\n",
    "This feedback message can be published into a topic named **/test_optim_node/teb_feedback**. This feedback message, though, is disabled by default in order to reduce the computational resources used, but can be easily enabled."
   ]
  },
  {
   "cell_type": "markdown",
   "metadata": {},
   "source": [
    "### Visualize the velocity profile"
   ]
  },
  {
   "cell_type": "markdown",
   "metadata": {},
   "source": [
    "In the following exercise, you are going to create a small Python script that subscribes to the /test_optim_node/teb_feedback topics, and generates a plot with the velocity information associated with the trajectories. "
   ]
  },
  {
   "cell_type": "markdown",
   "metadata": {},
   "source": [
    "<p style=\"background:#EE9023;color:white;\">**Exercise 2.3**</p>"
   ]
  },
  {
   "cell_type": "markdown",
   "metadata": {},
   "source": [
    "a) Inside your navigation package, create a new Python script named **visualize_velocities.py**. Copy the following code into it:"
   ]
  },
  {
   "cell_type": "markdown",
   "metadata": {},
   "source": [
    "**visualize_velocities.py**"
   ]
  },
  {
   "cell_type": "code",
   "execution_count": null,
   "metadata": {
    "collapsed": true
   },
   "outputs": [],
   "source": [
    "#!/usr/bin/env python\n",
    " \n",
    "import rospy, math\n",
    "from teb_local_planner.msg import FeedbackMsg, TrajectoryMsg, TrajectoryPointMsg\n",
    "from geometry_msgs.msg import PolygonStamped, Point32\n",
    "import numpy as np\n",
    "import matplotlib.pyplot as plotter\n",
    "\n",
    "def feedback_callback(data):\n",
    "  global trajectory\n",
    "\n",
    "  if not data.trajectories: # empty\n",
    "    trajectory = []\n",
    "    return\n",
    "  trajectory = data.trajectories[data.selected_trajectory_idx].trajectory\n",
    "\n",
    "   \n",
    "def plot_velocity_profile(fig, ax_v, ax_omega, t, v, omega):\n",
    "  ax_v.cla()\n",
    "  ax_v.grid()\n",
    "  ax_v.set_ylabel('Trans. velocity [m/s]')\n",
    "  ax_v.plot(t, v, '-bx')\n",
    "  ax_omega.cla()\n",
    "  ax_omega.grid()\n",
    "  ax_omega.set_ylabel('Rot. velocity [rad/s]')\n",
    "  ax_omega.set_xlabel('Time [s]')\n",
    "  ax_omega.plot(t, omega, '-bx')\n",
    "  fig.canvas.draw()\n",
    "\n",
    "  \n",
    "\n",
    "def velocity_plotter():\n",
    "  global trajectory\n",
    "  rospy.init_node(\"visualize_velocity_profile\", anonymous=True)\n",
    "\n",
    "  topic_name = \"/test_optim_node/teb_feedback\" # define feedback topic here!\n",
    "  rospy.Subscriber(topic_name, FeedbackMsg, feedback_callback, queue_size = 1) \n",
    "\n",
    "  rospy.loginfo(\"Visualizing velocity profile published on '%s'.\",topic_name) \n",
    "  rospy.loginfo(\"Make sure to enable rosparam 'publish_feedback' in the teb_local_planner.\")\n",
    "\n",
    "  # two subplots sharing the same t axis\n",
    "  fig, (ax_v, ax_omega) = plotter.subplots(2, sharex=True)\n",
    "  plotter.ion()\n",
    "  plotter.show()\n",
    "\n",
    "\n",
    "  r = rospy.Rate(2) # define rate here\n",
    "  while not rospy.is_shutdown():\n",
    "\n",
    "    t = []\n",
    "    v = []\n",
    "    omega = []\n",
    "\n",
    "    for point in trajectory:\n",
    "      t.append(point.time_from_start.to_sec())\n",
    "      v.append(point.velocity.linear.x)\n",
    "      omega.append(point.velocity.angular.z)\n",
    "\n",
    "    plot_velocity_profile(fig, ax_v, ax_omega, np.asarray(t), np.asarray(v), np.asarray(omega))\n",
    "\n",
    "    r.sleep()\n",
    "\n",
    "if __name__ == '__main__': \n",
    "  try:\n",
    "    trajectory = []\n",
    "    velocity_plotter()\n",
    "  except rospy.ROSInterruptException:\n",
    "    pass"
   ]
  },
  {
   "cell_type": "markdown",
   "metadata": {},
   "source": [
    "b) Next, we'll enable the publishing of the feedback message, then we'll start the test_optim_node, and finally, we'll run our Python script."
   ]
  },
  {
   "cell_type": "markdown",
   "metadata": {},
   "source": [
    "<table style=\"float:left;background: #407EAF\">\n",
    "<tr>\n",
    "<th>\n",
    "<p class=\"transparent\">Execute in WebShell #1</p>\n",
    "</th>\n",
    "</tr>\n",
    "</table>"
   ]
  },
  {
   "cell_type": "code",
   "execution_count": null,
   "metadata": {
    "collapsed": true
   },
   "outputs": [],
   "source": [
    "rosparam set /test_optim_node/publish_feedback true\n",
    "roslaunch teb_local_planner test_optim_node.launch"
   ]
  },
  {
   "cell_type": "markdown",
   "metadata": {},
   "source": [
    "<table style=\"float:left;background: #407EAF\">\n",
    "<tr>\n",
    "<th>\n",
    "<p class=\"transparent\">Execute in WebShell #2</p>\n",
    "</th>\n",
    "</tr>\n",
    "</table>"
   ]
  },
  {
   "cell_type": "code",
   "execution_count": null,
   "metadata": {
    "collapsed": true
   },
   "outputs": [],
   "source": [
    "rosrun teb_local_planner_tutorials visualize_velocity_profile.py # or call your own script here"
   ]
  },
  {
   "cell_type": "markdown",
   "metadata": {},
   "source": [
    "If everything goes OK, you should see a plot with the velocities associated with the trajectory now."
   ]
  },
  {
   "cell_type": "markdown",
   "metadata": {},
   "source": [
    "<img src=\"img/visualize_velocities.png\" width=\"600\" />"
   ]
  },
  {
   "cell_type": "markdown",
   "metadata": {},
   "source": [
    "<p style=\"background:#EE9023;color:white;\">**END of Exercise 2.3**</p>"
   ]
  },
  {
   "cell_type": "markdown",
   "metadata": {},
   "source": [
    "## Congratulations!! You are now capable of optimizing your trajectories!"
   ]
  }
 ],
 "metadata": {
  "anaconda-cloud": {},
  "kernelspec": {
   "display_name": "Python 3",
   "language": "python",
   "name": "python3"
  },
  "language_info": {
   "codemirror_mode": {
    "name": "ipython",
    "version": 3
   },
   "file_extension": ".py",
   "mimetype": "text/x-python",
   "name": "python",
   "nbconvert_exporter": "python",
   "pygments_lexer": "ipython3",
   "version": "3.6.1"
  },
  "latex_metadata": {
   "chapter": "4 - Path Planning 1",
   "chapter_title": "Unit 4. Path Planning 1",
   "course_title": "ROS NAVIGATION IN 5 DAYS"
  }
 },
 "nbformat": 4,
 "nbformat_minor": 1
}
