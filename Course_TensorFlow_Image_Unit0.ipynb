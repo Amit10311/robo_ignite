{
 "cells": [
  {
   "cell_type": "markdown",
   "metadata": {},
   "source": [
    "<img src=\"img/TF_image_unit0_intro.png\" width=\"700\" />"
   ]
  },
  {
   "cell_type": "markdown",
   "metadata": {},
   "source": [
    "<img src=\"img/robotignite_logo_text.png\" width=\"700\" />"
   ]
  },
  {
   "cell_type": "markdown",
   "metadata": {},
   "source": [
    "# Image Recognition with TensorFlow DeepLearning in ROS"
   ]
  },
  {
   "cell_type": "markdown",
   "metadata": {},
   "source": [
    "## Unit 0: Introduction to the Course"
   ]
  },
  {
   "cell_type": "markdown",
   "metadata": {},
   "source": [
    "<p style=\"background:green;color:white;\">SUMMARY</p>"
   ]
  },
  {
   "cell_type": "markdown",
   "metadata": {},
   "source": [
    "Estimated time to completion: <b>10 min</b><br><br>\n",
    "This unit is an introduction to the DeepLearning in ROS Course. You'll have a quick preview of the contents that you are going to cover during the course, and you will also view a practical demo."
   ]
  },
  {
   "cell_type": "markdown",
   "metadata": {},
   "source": [
    "<p style=\"background:green;color:white;\">END OF SUMMARY</p>"
   ]
  },
  {
   "cell_type": "markdown",
   "metadata": {},
   "source": [
    "## What's this course about?"
   ]
  },
  {
   "cell_type": "markdown",
   "metadata": {},
   "source": [
    "DeepLearning... A topic that we hear a lot about and that promises a lot. Deep learning is the technology behind intelligent **drone flight, self-driving cars, robots recognising a huge number of objects, people tracking video feeds...**<br>\n",
    "**But how can it be used?**"
   ]
  },
  {
   "cell_type": "markdown",
   "metadata": {},
   "source": [
    "In this course, you will focus on learning the essentials for beginning image recognition with **DeepLearning**. You won't learn each and every nook and cranny of DeepLearning, but the few elements you will learn will help you put them into use and apply them in **real life integrated with ROS**."
   ]
  },
  {
   "cell_type": "markdown",
   "metadata": {},
   "source": [
    "You will use the **Google** **Tensor-Flow** API. It's one of the main DeepLearning infrastructures and has a huge basis for image recognition."
   ]
  },
  {
   "cell_type": "markdown",
   "metadata": {},
   "source": [
    "<img src=\"img/markblogtensorflow.png\" width=\"700\" />"
   ]
  },
  {
   "cell_type": "markdown",
   "metadata": {},
   "source": [
    "## We like demos!"
   ]
  },
  {
   "cell_type": "markdown",
   "metadata": {},
   "source": [
    "With the proper introductions made, it is time to actually start. And... as we always do in the Robot Ignite Academy, let's start with practice! In the following example, you will be testing a ready-to-go robot with object recognition using DeepLearning to recognise loads of objects. So... let's go!"
   ]
  },
  {
   "cell_type": "markdown",
   "metadata": {},
   "source": [
    "<p style=\"background:#EE9023;color:white;\">Demo 1.1</p>"
   ]
  },
  {
   "cell_type": "markdown",
   "metadata": {},
   "source": [
    "a) The first thing you have to do is be able to see what Mira Robot's camera is registering. For that, you only have to open the Graphical Interface icon:"
   ]
  },
  {
   "cell_type": "markdown",
   "metadata": {},
   "source": [
    "<img src=\"img/font-awesome_desktop.png\">"
   ]
  },
  {
   "cell_type": "markdown",
   "metadata": {},
   "source": [
    "You should see the images registered by the camera. If the image is too small, just maximaze the window."
   ]
  },
  {
   "cell_type": "markdown",
   "metadata": {},
   "source": [
    "<img src=\"img/tensorflow_image_tenisball_cone_unit0.png\" width=\"700\">"
   ]
  },
  {
   "cell_type": "markdown",
   "metadata": {},
   "source": [
    "b) Send a twist command to Mira Robot to make it turn its head to look at the object that you want it to recognise.<br>"
   ]
  },
  {
   "cell_type": "markdown",
   "metadata": {},
   "source": [
    "<table style=\"float:left;background: #407EAF\">\n",
    "<tr>\n",
    "<th>\n",
    "<p class=\"transparent\">Execute in WebShell #1</p>\n",
    "</th>\n",
    "</tr>\n",
    "</table>"
   ]
  },
  {
   "cell_type": "code",
   "execution_count": null,
   "metadata": {
    "collapsed": true
   },
   "outputs": [],
   "source": [
    "rosrun teleop_twist_keyboard teleop_twist_keyboard.py"
   ]
  },
  {
   "cell_type": "markdown",
   "metadata": {},
   "source": [
    "Now, you can press the **J** key to turn Mira's head **Left** or press the **L** key to turn the head **RIGHT**. You can lower the turning speed by repetedly pressing the **Q** key, and lower it with the **Z** key."
   ]
  },
  {
   "cell_type": "markdown",
   "metadata": {},
   "source": [
    "<img src=\"img/tensorflow_image_unit0_mira_move_head.gif\">"
   ]
  },
  {
   "cell_type": "markdown",
   "metadata": {},
   "source": [
    "c) Now that you can move Mira's head, it is time to point it towards the object you want it to recognise and let the recognition system do its work.<br>\n",
    "To see what the DeepLearning with TensorFlow is recognising, you just have to read from the topic **/result**."
   ]
  },
  {
   "cell_type": "markdown",
   "metadata": {},
   "source": [
    "<table style=\"float:left;background: #407EAF\">\n",
    "<tr>\n",
    "<th>\n",
    "<p class=\"transparent\">Execute in WebShell #2</p>\n",
    "</th>\n",
    "</tr>\n",
    "</table>"
   ]
  },
  {
   "cell_type": "code",
   "execution_count": null,
   "metadata": {
    "collapsed": true
   },
   "outputs": [],
   "source": [
    "rostopic echo /result"
   ]
  },
  {
   "cell_type": "markdown",
   "metadata": {},
   "source": [
    "You should get a stream of recognition. **Be patient** because it may take a few seconds to make up its mind as to what object it is seeing. Also, it's not perfect, so it might confuse objects with similar shapes."
   ]
  },
  {
   "cell_type": "markdown",
   "metadata": {},
   "source": [
    "<img src=\"img/tensorflow_image_unit0_tenisballrecog.png\">"
   ]
  },
  {
   "cell_type": "markdown",
   "metadata": {},
   "source": [
    "As you can see here, it's detecting a *Tennis Ball**, but sometimes it might detect a **Granny Smith Apple*, which makes sense since they both are of a similar greenish colour."
   ]
  },
  {
   "cell_type": "markdown",
   "metadata": {},
   "source": [
    "<p style=\"background:#EE9023;color:white;\">End of Demo 1.1</p>"
   ]
  },
  {
   "cell_type": "markdown",
   "metadata": {},
   "source": [
    "## What will you learn with this Course?"
   ]
  },
  {
   "cell_type": "markdown",
   "metadata": {},
   "source": [
    "Basically, during this course, you will address the following topics:\n",
    "\n",
    "* How to use the Google TensorFlow Image Recognition DB to recognise hundreds of different objects with ROS\n",
    "* Generate your own TensorFlow Inference graph to make it learn custom objects.\n",
    "* Use the TensorBoard Web visualiser to monitor how the learning process is going."
   ]
  },
  {
   "cell_type": "markdown",
   "metadata": {},
   "source": [
    "## How will you learn it?"
   ]
  },
  {
   "cell_type": "markdown",
   "metadata": {},
   "source": [
    "You will learn through hands-on experience from day one! Here, you can see some of the simulations you are going to use during the course:"
   ]
  },
  {
   "cell_type": "markdown",
   "metadata": {},
   "source": [
    "**Mira Robot**:"
   ]
  },
  {
   "cell_type": "markdown",
   "metadata": {},
   "source": [
    "<img src=\"img/mira_closeup_tensorflow_image_unit0.png\" width=\"400\"/>"
   ]
  },
  {
   "cell_type": "markdown",
   "metadata": {},
   "source": [
    "**GarbageCollector Robot**:"
   ]
  },
  {
   "cell_type": "markdown",
   "metadata": {},
   "source": [
    "<img src=\"img/tensorflow_image_unit0_garbagecollectorrobot.png\" width=\"400\"/>"
   ]
  },
  {
   "cell_type": "markdown",
   "metadata": {},
   "source": [
    "## Minimum requirements for the Course"
   ]
  },
  {
   "cell_type": "markdown",
   "metadata": {},
   "source": [
    "In order to be able to fully understand the contents of this course, it is highly recommended that you have the following knowledge:\n",
    "\n",
    "* Basic ROS. You can get this knowledge by following the **ROS in 5 Days** Course.\n",
    "* Basic Python.\n",
    "* Basic Unix shell knowledge.\n",
    "* Other Courses that are related to this one are the **OpenAI Gym for Robotics 101**, **ROS Perception in 5 Days**, and **Robot Creation with URDF** courses."
   ]
  },
  {
   "cell_type": "markdown",
   "metadata": {},
   "source": [
    "## Special Thanks"
   ]
  },
  {
   "cell_type": "markdown",
   "metadata": {},
   "source": [
    "<li>This course wouldn't be possible without the amazing work done by <a href=\"https://twitter.com/alonsorobots\">Alonso Martinez</a> on the amazing Mira Robot. You can see a full video where <a href=\"https://twitter.com/alonsorobots\">Alonso Martinez</a> shows Mira off on the great <a href=\"https://youtu.be/0vfuOW1tsX0\">Tested YouTube Channel</a>. Highly advisable if you want to feel inspired to create your own robots.\n",
    "</li>"
   ]
  },
  {
   "cell_type": "markdown",
   "metadata": {},
   "source": [
    "<li>This course wouldn't be possible without the amazing work done by <a href=\"https://towardsdatascience.com/@datitran\">Dan Tan</a> on the tensorflow tutorial on racoon recognition. Also, a big shout out to <a href=\"https://www.youtube.com/user/sentdex/featured\">sentdex</a> for the amazing tutorial on Image Recognition and other python related topics. Highly advisable: <a href=\"https://pythonprogramming.net/\">pythonprogramming</a>.\n",
    "</li>"
   ]
  },
  {
   "cell_type": "markdown",
   "metadata": {},
   "source": [
    "<li>Thanks to <a href=\"https://github.com/eborghi10\">Emiliano Borghi</a> for the <a href=\"https://github.com/eborghi10/my_ROS_mobile_robot\">Basic-Diferential Drive Frame</a> used as a template for the microproject **GarbageCollector-Robot**.\n",
    "</li>"
   ]
  },
  {
   "cell_type": "markdown",
   "metadata": {},
   "source": [
    "<li>Thanks to all the people that created the different 3DModels, like <a href=\"https://www.blendswap.com/user/daniel123ayala\">daniel123ayala</a> for the <a href=\"https://www.blendswap.com/blends/view/86427\">Banana</a>, \n",
    "    \n",
    "<a href=\"https://www.osrfoundation.org/team/john-hsu/\">John Hsu</a> for the CokeCan,\n",
    "\n",
    "<a href=\"https://www.blendswap.com/user/gabriel\">gabriel</a> for the <a href=\"http://www.blendswap.com/blends/view/51185\">TennisBall</a>, and\n",
    "\n",
    "<a href=\"https://www.blendswap.com/user/SSimpossible\">SSimpossible</a> for the <a href=\"https://www.blendswap.com/blends/view/15886\">WaterMelon</a>.\n",
    "    \n",
    "</li>"
   ]
  },
  {
   "cell_type": "markdown",
   "metadata": {},
   "source": [
    "<li>Thanks to the creation of <a href=\"https://github.com/OTL/rostensorflow\">rostensorflow</a>.\n",
    "</li>"
   ]
  },
  {
   "cell_type": "markdown",
   "metadata": {},
   "source": [
    "<li>Thanks to the creation of <a href=\"https://github.com/tzutalin/labelImg\">labelImg</a>.\n",
    "</li>"
   ]
  },
  {
   "cell_type": "markdown",
   "metadata": {},
   "source": [
    "<li>This course wouldn't be possible without the amazing work done by <a href=\"https://www.tensorflow.org/\">TensorFlow Team</a> for its DeepLearning API. Thanks to <a href=\"https://www.google.com/\">Google</a> for opening it to the public.</li>"
   ]
  },
  {
   "cell_type": "markdown",
   "metadata": {},
   "source": [
    "<img src=\"img/tensorflow_logo.png\" width=\"200\"/>"
   ]
  },
  {
   "cell_type": "markdown",
   "metadata": {},
   "source": [
    "* This course wouldn't have been possible without the knowledge and work of the <a href=\"http://www.ros.org/\">ROS Community</a>, <a href=\"https://www.osrfoundation.org/\">OSRF</a>, and <a href=\"http://gazebosim.org/\">Gazebo Team</a>."
   ]
  },
  {
   "cell_type": "markdown",
   "metadata": {},
   "source": [
    "<img src=\"img/ros_logo.jpg\" width=\"400\"/>"
   ]
  },
  {
   "cell_type": "markdown",
   "metadata": {},
   "source": [
    "<img src=\"img/gazebo_logo.png\" width=\"200\"/>"
   ]
  }
 ],
 "metadata": {
  "kernelspec": {
   "display_name": "Python 3",
   "language": "python",
   "name": "python3"
  },
  "language_info": {
   "codemirror_mode": {
    "name": "ipython",
    "version": 3
   },
   "file_extension": ".py",
   "mimetype": "text/x-python",
   "name": "python",
   "nbconvert_exporter": "python",
   "pygments_lexer": "ipython3",
   "version": "3.6.1"
  }
 },
 "nbformat": 4,
 "nbformat_minor": 2
}
