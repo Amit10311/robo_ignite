{
 "cells": [
  {
   "cell_type": "markdown",
   "metadata": {},
   "source": [
    "<img src=\"img/tiago_robot.jpeg\" width=\"700\" />"
   ]
  },
  {
   "cell_type": "markdown",
   "metadata": {},
   "source": [
    "<img src=\"img/robotignite_logo_text.png\" width=\"700\" />"
   ]
  },
  {
   "cell_type": "markdown",
   "metadata": {},
   "source": [
    "<img src=\"img/pal-logo.png\" width=\"600\" />"
   ]
  },
  {
   "cell_type": "markdown",
   "metadata": {},
   "source": [
    "# Mastering with ROS: TIAGo"
   ]
  },
  {
   "cell_type": "markdown",
   "metadata": {},
   "source": [
    "## Unit 0: Introduction to the Course"
   ]
  },
  {
   "cell_type": "markdown",
   "metadata": {},
   "source": [
    "<p style=\"background:green;color:white;\">SUMMARY</p>"
   ]
  },
  {
   "cell_type": "markdown",
   "metadata": {},
   "source": [
    "Estimated time of completion: <b>10 min</b><br><br>\n",
    "This Unit is an introduction to the TIAGo robot Micro Course. You'll a have a quick preview of the contents you are going to cover during the Course, and you will also view a practical demo."
   ]
  },
  {
   "cell_type": "markdown",
   "metadata": {},
   "source": [
    "<p style=\"background:green;color:white;\">END OF SUMMARY</p>"
   ]
  },
  {
   "cell_type": "markdown",
   "metadata": {},
   "source": [
    "## What's this course about?"
   ]
  },
  {
   "cell_type": "markdown",
   "metadata": {},
   "source": [
    "**TIAGo** is a service robot designed to work in indoor environments. TIAGo’s features make it the ideal platform for research, especially on ambient assisted living or light industry. It combines mobility, perception, manipulation and human-robot interaction capabilities for one specific goal: to be able to assist in research."
   ]
  },
  {
   "cell_type": "markdown",
   "metadata": {},
   "source": [
    "TIAGo robot has been developed by **PAL Robotics**. PAL Robotics is a worldwide leading company in biped humanoid robots based in Barcelona. Our mission is to develop service robots that enhance people’s quality of life. The team is composed of passionate engineers that design, craft and customize humanoid robots to help you to push your organization to the next level. Founded in 2004 by four engineers, we have successfully built several robots for services and research, contributed to open-source projects and participated in several robotic competitions."
   ]
  },
  {
   "cell_type": "markdown",
   "metadata": {},
   "source": [
    "Within this Course, you are going to learn how you can start working with the TIAGo robot, explore its functionalitities, and how to build build some interesting ROS applications for it."
   ]
  },
  {
   "cell_type": "markdown",
   "metadata": {},
   "source": [
    "## Do you want to have a taste?"
   ]
  },
  {
   "cell_type": "markdown",
   "metadata": {},
   "source": [
    "With the proper introductions made, it is time to actually start. And... as we always do in the Robot Ignite academy, let's start with practice! In the following example you will be testing a pre-built Navigation application. So... let's go!"
   ]
  },
  {
   "cell_type": "markdown",
   "metadata": {},
   "source": [
    "<p style=\"background:#EE9023;color:white;\">Demo 1.1</p>\n",
    "<br>\n",
    "\n",
    "a) Execute the following command in order start the axclient tool."
   ]
  },
  {
   "cell_type": "markdown",
   "metadata": {},
   "source": [
    "<table style=\"float:left;background: #407EAF\">\n",
    "<tr>\n",
    "<th>\n",
    "<p class=\"transparent\">Execute in WebShell #1</p>\n",
    "</th>\n",
    "</tr>\n",
    "</table>"
   ]
  },
  {
   "cell_type": "code",
   "execution_count": null,
   "metadata": {
    "collapsed": true
   },
   "outputs": [],
   "source": [
    "rosrun actionlib axclient.py /play_motion"
   ]
  },
  {
   "cell_type": "markdown",
   "metadata": {},
   "source": [
    "Now, if you open the Graphic Tools by hitting this icon \n",
    "<img src=\"img/font-awesome_desktop.png\"width=\"25\"/>\n",
    "you will see something like this:\n",
    "<img src=\"img/axclient.png\" width=\"600\" />"
   ]
  },
  {
   "cell_type": "markdown",
   "metadata": {},
   "source": [
    "b) Now, you can fill in the name of the **motion_name** parameter, which is the motion you want to perform. The rest of the parameters you can leave them as they are. For instance, you can try with the **wave** motion."
   ]
  },
  {
   "cell_type": "markdown",
   "metadata": {},
   "source": [
    "<img src=\"img/axclient_play_motion.jpg\" width=\"600\" />"
   ]
  },
  {
   "cell_type": "markdown",
   "metadata": {},
   "source": [
    "c) Finally, just click the **SEND GOAL** button and see how the motion is performed by TIAGo robot."
   ]
  },
  {
   "cell_type": "markdown",
   "metadata": {},
   "source": [
    "<img src=\"img/tiago_wave.gif\" width=\"600\" />"
   ]
  },
  {
   "cell_type": "markdown",
   "metadata": {},
   "source": [
    "d) You can try to execute other motions, like **home** or **head_tour**."
   ]
  },
  {
   "cell_type": "markdown",
   "metadata": {},
   "source": [
    "<p style=\"background:#EE9023;color:white;\">End of Demo 1.1</p>"
   ]
  },
  {
   "cell_type": "markdown",
   "metadata": {},
   "source": [
    "## What will you learn with this Course?"
   ]
  },
  {
   "cell_type": "markdown",
   "metadata": {},
   "source": [
    "Basically, during this Course you will adress the following topics:\n",
    "\n",
    "* Control of TIAGos joints.\n",
    "* Navigation wth TIAGo.\n",
    "* Motion Planning with MoveIt!\n",
    "* Perception with OpenCV\n",
    "* Perception with PCL"
   ]
  },
  {
   "cell_type": "markdown",
   "metadata": {},
   "source": [
    "## How will you learn it?"
   ]
  },
  {
   "cell_type": "markdown",
   "metadata": {},
   "source": [
    "You will learn through hands on experience from day one! You will be using the TIAGo robot within different environments."
   ]
  },
  {
   "cell_type": "markdown",
   "metadata": {},
   "source": [
    "**TIAGo robot**:"
   ]
  },
  {
   "cell_type": "markdown",
   "metadata": {},
   "source": [
    "<img src=\"img/tiago.png\" width=\"600\" />"
   ]
  },
  {
   "cell_type": "markdown",
   "metadata": {},
   "source": [
    "## Minimum requirements for the Course"
   ]
  },
  {
   "cell_type": "markdown",
   "metadata": {},
   "source": [
    "In order to be able to fully understand the contents of this Course, it is highly recommended to have the following knowledge:\n",
    "\n",
    "* Basic ROS. You can get this knowledge by following the **ROS in 5 Days** Course.\n",
    "* Basic Python.\n",
    "* Basic Unix shell knowledge.\n",
    "* Basic TF. You can get this knowledge by following the **TF ROS 101** Course.\n",
    "* Other Courses that are related to his one are the **ROS Navigation in 5 Days**, **ROS Perception in 5 Days** and the **ROS Manipulation in 5 Days** Courses."
   ]
  },
  {
   "cell_type": "markdown",
   "metadata": {},
   "source": [
    "## Special Thanks"
   ]
  },
  {
   "cell_type": "markdown",
   "metadata": {},
   "source": [
    "<li>This course wouldn't be possible without the amazing work done by <a href=\"http://pal-robotics.com/es/home/\" target=\"_blank\">PAL Robotics</a>."
   ]
  },
  {
   "cell_type": "markdown",
   "metadata": {},
   "source": [
    "<img src=\"img/pal-logo.png\" width=\"400\" />"
   ]
  },
  {
   "cell_type": "markdown",
   "metadata": {},
   "source": [
    "* This course wouldn't have been possible without knowledge and work of the <a href=\"http://www.ros.org/\">ROS Community</a>, <a href=\"https://www.osrfoundation.org/\">OSRF</a> and <a href=\"http://gazebosim.org/\">Gazebo Team</a>."
   ]
  },
  {
   "cell_type": "markdown",
   "metadata": {},
   "source": [
    "<img src=\"img/ros_logo.jpg\" width=\"400\"/>"
   ]
  },
  {
   "cell_type": "markdown",
   "metadata": {},
   "source": [
    "<img src=\"img/gazebo_logo.png\" width=\"200\"/>"
   ]
  }
 ],
 "metadata": {
  "anaconda-cloud": {},
  "kernelspec": {
   "display_name": "Python [Root]",
   "language": "python",
   "name": "Python [Root]"
  },
  "language_info": {
   "codemirror_mode": {
    "name": "ipython",
    "version": 2
   },
   "file_extension": ".py",
   "mimetype": "text/x-python",
   "name": "python",
   "nbconvert_exporter": "python",
   "pygments_lexer": "ipython2",
   "version": "2.7.12"
  }
 },
 "nbformat": 4,
 "nbformat_minor": 0
}
