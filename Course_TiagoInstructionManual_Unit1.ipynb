{
 "cells": [
  {
   "cell_type": "markdown",
   "metadata": {},
   "source": [
    "# Mastering with ROS: TIAGo"
   ]
  },
  {
   "cell_type": "markdown",
   "metadata": {},
   "source": [
    "<img src=\"img/pal-logo.png\" width=\"400\" />"
   ]
  },
  {
   "cell_type": "markdown",
   "metadata": {},
   "source": [
    "<img src=\"img/tiago_wall.png\" width=\"500\" />"
   ]
  },
  {
   "cell_type": "markdown",
   "metadata": {},
   "source": [
    "<img src=\"img/robotignite_logo_text.png\" width=\"400\"/>"
   ]
  },
  {
   "cell_type": "markdown",
   "metadata": {},
   "source": [
    "## Unit 1: Control"
   ]
  },
  {
   "cell_type": "markdown",
   "metadata": {},
   "source": [
    "<p style=\"background:green;color:white;\">SUMMARY</p>"
   ]
  },
  {
   "cell_type": "markdown",
   "metadata": {},
   "source": [
    "Estimated time of completion: <b>1h</b><br><br>\n",
    "In this Unit, you are going to see some basic information and tools that will allow you to control the TIAGo robot: move it around, move its joints... and even some interesting features that TIAGo provides!"
   ]
  },
  {
   "cell_type": "markdown",
   "metadata": {},
   "source": [
    "<p style=\"background:green;color:white;\">END OF SUMMARY</p>"
   ]
  },
  {
   "cell_type": "markdown",
   "metadata": {},
   "source": [
    "The very first thing you usually want to do when you start working with a robot like TIAgo, is to be able to move it and control it, right?"
   ]
  },
  {
   "cell_type": "markdown",
   "metadata": {},
   "source": [
    "Well then, in this first part of the Chapter, you are going to see how you can easily move the robot by using two different methods:\n",
    "\n",
    "* Publishing directly to topics\n",
    "* Using the key_teleop package"
   ]
  },
  {
   "cell_type": "markdown",
   "metadata": {},
   "source": [
    "So... let's stop the talking and go for it!"
   ]
  },
  {
   "cell_type": "markdown",
   "metadata": {},
   "source": [
    "## Move the robot publishing to topics"
   ]
  },
  {
   "cell_type": "markdown",
   "metadata": {},
   "source": [
    "The first we need to know in order to move the hand through topics, is which topics are the ones that will allow us to do that, right? Let's then have a look at the topics provided by the simulation and see if we can figure that out."
   ]
  },
  {
   "cell_type": "markdown",
   "metadata": {},
   "source": [
    "<table style=\"float:left;background: #407EAF\">\n",
    "<tr>\n",
    "<th>\n",
    "Execute in WebShell #1\n",
    "</th>\n",
    "</tr>\n",
    "</table>"
   ]
  },
  {
   "cell_type": "code",
   "execution_count": null,
   "metadata": {
    "collapsed": true
   },
   "outputs": [],
   "source": [
    "rostopic list"
   ]
  },
  {
   "cell_type": "markdown",
   "metadata": {},
   "source": [
    "Can you guess which one it is? "
   ]
  },
  {
   "cell_type": "markdown",
   "metadata": {},
   "source": [
    "Well, the topic used in order to control the velocities of the robot is **/mobile_base_controller/cmd_vel**. Publishing to this topic, we will be able to control the movement of the Turtlebot3 robot. But how is that done? What do we need to publish into this topic? Let's have a look at how this works!"
   ]
  },
  {
   "cell_type": "markdown",
   "metadata": {},
   "source": [
    "<table style=\"float:left;background: #407EAF\">\n",
    "<tr>\n",
    "<th>\n",
    "Execute in WebShell #1\n",
    "</th>\n",
    "</tr>\n",
    "</table>"
   ]
  },
  {
   "cell_type": "code",
   "execution_count": null,
   "metadata": {
    "collapsed": true
   },
   "outputs": [],
   "source": [
    "rostopic info /mobile_base_controller/cmd_vel"
   ]
  },
  {
   "cell_type": "markdown",
   "metadata": {},
   "source": [
    "<img src=\"img/cmd_vel_info.png\" width=\"500\" />"
   ]
  },
  {
   "cell_type": "markdown",
   "metadata": {},
   "source": [
    "As you can see, this topic uses the **geometry_msgs/Twist** message. So this is the type of message that we will need to send to the topic in order to control the hand. So, let's have a look at this message!"
   ]
  },
  {
   "cell_type": "markdown",
   "metadata": {},
   "source": [
    "<table style=\"float:left;background: #407EAF\">\n",
    "<tr>\n",
    "<th>\n",
    "Execute in WebShell #1\n",
    "</th>\n",
    "</tr>\n",
    "</table>"
   ]
  },
  {
   "cell_type": "code",
   "execution_count": null,
   "metadata": {
    "collapsed": true
   },
   "outputs": [],
   "source": [
    "rosmsg show geometry_msgs/Twist"
   ]
  },
  {
   "cell_type": "markdown",
   "metadata": {},
   "source": [
    "<img src=\"img/twist_msg.png\" width=\"500\" />"
   ]
  },
  {
   "cell_type": "markdown",
   "metadata": {},
   "source": [
    "As you can see, the message contains 2 vectors: one for the linear velocities, and the other one for the angular velocities. Each of this vectors has its corresponding component in x,y and z. Anyways, the Turtlebot uses the differential drive mechanism in order to move. So what does this mean? This means that we just need to worry about the linear x and angular z components, which are the only ones that have effect into a differential drive robot. So, not all the fields need to be filled, but just the ones we are interested in. So now, if you want to see how you can fill this message in order to control the hand, just follow the next exercise!"
   ]
  },
  {
   "cell_type": "markdown",
   "metadata": {},
   "source": [
    "<p style=\"background:#EE9023;color:white;\">Exercise 1.1</p>\n",
    "<br>\n",
    "a) Execute the following command in order to generate the structure of the geometry_msgs/Twist message.\n",
    "<table style=\"float:left;background: #407EAF\">\n",
    "<tr>\n",
    "<th>\n",
    "Execute in WebShell #1\n",
    "</th>\n",
    "</tr>\n",
    "</table>"
   ]
  },
  {
   "cell_type": "code",
   "execution_count": null,
   "metadata": {
    "collapsed": true
   },
   "outputs": [],
   "source": [
    "rostopic pub /mobile_base_controller/cmd_vel [TAB][TAB]"
   ]
  },
  {
   "cell_type": "markdown",
   "metadata": {},
   "source": [
    "You will see something like this:"
   ]
  },
  {
   "cell_type": "markdown",
   "metadata": {},
   "source": [
    "<img src=\"img/msg_example.png\" width=\"700\" />"
   ]
  },
  {
   "cell_type": "markdown",
   "metadata": {},
   "source": [
    "b) Now, fill in the message with the proper velocities you want to send to your robot. For this exercise, let's set the **linear velocity in x to 0.5**, and the **angular velocity in z to 0.5**, aswell. Also, you will have to add at the end of the message the argument **-r 3**. This argument **-r 3** specifies that the message will be published 3 times per second. This is necessary to maintain a constant speed as the mobile_base_controller only applies a given velocity for less than a second for safety reasons. The idea is that client that wants to move the mobile base keeps publishing the desired speeds, otherwise, if the client dies, the latest sent velocities would still be applied possibly leading to a collision with the environment."
   ]
  },
  {
   "cell_type": "markdown",
   "metadata": {},
   "source": [
    "<img src=\"img/msg_complete.png\" width=\"700\" />"
   ]
  },
  {
   "cell_type": "markdown",
   "metadata": {},
   "source": [
    "c) Finally, just press enter in order to send the message! If everything went OK, you should see your TIAGo robot doing a circular movement."
   ]
  },
  {
   "cell_type": "markdown",
   "metadata": {},
   "source": [
    "<img src=\"img/tiago_square.gif\" width=\"600\" />"
   ]
  },
  {
   "cell_type": "markdown",
   "metadata": {},
   "source": [
    "d) In order to stop the robot's movement, just press **Ctrl+C** on the web shell."
   ]
  },
  {
   "cell_type": "markdown",
   "metadata": {},
   "source": [
    "<p style=\"background:#EE9023;color:white;\">End of Exercise 1.1</p>"
   ]
  },
  {
   "cell_type": "markdown",
   "metadata": {},
   "source": [
    "Great! So you have been able to move the robot by publishing directly into the **/cmd_vel** topic. Now let's how else you can achieve this."
   ]
  },
  {
   "cell_type": "markdown",
   "metadata": {},
   "source": [
    "## Moving the robot with the keyboard"
   ]
  },
  {
   "cell_type": "markdown",
   "metadata": {
    "collapsed": true
   },
   "source": [
    "Sometimes, it's just too cumberstome to have to publish the velocities into a topic each time we want to move the robot, and gets much more complicated when we want to execute more complex trajectories. Fortunately, there is a very nice ROS tool that allows us to control the movement of the robot by just using the keyboard. Sounds good, right?"
   ]
  },
  {
   "cell_type": "markdown",
   "metadata": {
    "collapsed": true
   },
   "source": [
    "In order to see how you can control the TIAGo robot with the keyboard, follow the next exercise!"
   ]
  },
  {
   "cell_type": "markdown",
   "metadata": {},
   "source": [
    "<p style=\"background:#EE9023;color:white;\">Exercise 1.2</p>\n",
    "<br>\n",
    "a) Execute the following command in order to start the keyboard teleoperation program."
   ]
  },
  {
   "cell_type": "markdown",
   "metadata": {},
   "source": [
    "<table style=\"float:left;background: #407EAF\">\n",
    "<tr>\n",
    "<th>\n",
    "Execute in WebShell #1\n",
    "</th>\n",
    "</tr>\n",
    "</table>"
   ]
  },
  {
   "cell_type": "code",
   "execution_count": null,
   "metadata": {
    "collapsed": true
   },
   "outputs": [],
   "source": [
    "rosrun key_teleop key_teleop.py"
   ]
  },
  {
   "cell_type": "markdown",
   "metadata": {},
   "source": [
    "Now, you will be able to control the robot by using the keyboard. "
   ]
  },
  {
   "cell_type": "markdown",
   "metadata": {
    "collapsed": true
   },
   "source": [
    "<img src=\"img/key_teleop.png\" width=\"600\" />"
   ]
  },
  {
   "cell_type": "markdown",
   "metadata": {
    "collapsed": true
   },
   "source": [
    "<img src=\"img/key_arrows.png\" width=\"300\" />"
   ]
  },
  {
   "cell_type": "markdown",
   "metadata": {},
   "source": [
    "b) Just move the robot around!"
   ]
  },
  {
   "cell_type": "markdown",
   "metadata": {},
   "source": [
    "<p style=\"background:#EE9023;color:white;\">End of Exercise 1.2</p>"
   ]
  },
  {
   "cell_type": "markdown",
   "metadata": {},
   "source": [
    "As you can see, it is much more easy to control the movement of the robot by using this method, right?"
   ]
  },
  {
   "cell_type": "markdown",
   "metadata": {},
   "source": [
    "## Joint Trajectory Controller"
   ]
  },
  {
   "cell_type": "markdown",
   "metadata": {},
   "source": [
    "In the following section we are going to see how to use the joint_trajectory_controller to move the arm of TIAGo. This action server can be used to give a trajectory to the arm expressed in several waypoints."
   ]
  },
  {
   "cell_type": "markdown",
   "metadata": {},
   "source": [
    "For instance, let's run an example with two waypoints that will bring TIAGO to the following joint space configurations of the arm. "
   ]
  },
  {
   "cell_type": "markdown",
   "metadata": {},
   "source": [
    "First waypoint:"
   ]
  },
  {
   "cell_type": "code",
   "execution_count": null,
   "metadata": {
    "collapsed": true
   },
   "outputs": [],
   "source": [
    "arm_1_joint: 0.2\n",
    "arm_2_joint: 0.0\n",
    "arm_3_joint: -1.5\n",
    "arm_4_joint: 1.94\n",
    "arm_5_joint: -1.57\n",
    "arm_6_joint: -0.5\n",
    "arm_7_joint: 0.0"
   ]
  },
  {
   "cell_type": "markdown",
   "metadata": {},
   "source": [
    "Second waypoints:"
   ]
  },
  {
   "cell_type": "code",
   "execution_count": null,
   "metadata": {
    "collapsed": true
   },
   "outputs": [],
   "source": [
    "arm_1_joint: 2.5\n",
    "arm_2_joint: 0.2\n",
    "arm_3_joint: -2.1\n",
    "arm_4_joint: 1.9\n",
    "arm_5_joint: 1.0\n",
    "arm_6_joint: -0.5\n",
    "arm_7_joint: 0.0"
   ]
  },
  {
   "cell_type": "markdown",
   "metadata": {},
   "source": [
    "The node that will take care to execute the set of waypoints to reach such a kinematic configuration is **run_traj_control** included in the **tiago_trajectory_controller** package. Follow the next exercise in order to see how to use this node!"
   ]
  },
  {
   "cell_type": "markdown",
   "metadata": {},
   "source": [
    "<p style=\"background:#EE9023;color:white;\">Exercise 1.3</p>\n",
    "<br>\n",
    "a) Execute the following command in order to execute the trajectories defined in the above waypoints."
   ]
  },
  {
   "cell_type": "code",
   "execution_count": null,
   "metadata": {
    "collapsed": true
   },
   "outputs": [],
   "source": [
    "rosrun tiago_trajectory_controller run_traj_control"
   ]
  },
  {
   "cell_type": "markdown",
   "metadata": {},
   "source": [
    "<img src=\"img/tiago_trajectory.gif\" width=\"600\" />"
   ]
  },
  {
   "cell_type": "markdown",
   "metadata": {},
   "source": [
    "<p style=\"background:#EE9023;color:white;\">End of Exercise 1.3</p>"
   ]
  },
  {
   "cell_type": "markdown",
   "metadata": {},
   "source": [
    "### Inspecting the code"
   ]
  },
  {
   "cell_type": "markdown",
   "metadata": {},
   "source": [
    "Let's have a quick look at the code you've just executed in the previous Exercise."
   ]
  },
  {
   "cell_type": "code",
   "execution_count": null,
   "metadata": {
    "collapsed": true
   },
   "outputs": [],
   "source": [
    "// C++ standard headers\n",
    "#include <exception>\n",
    "#include <string>\n",
    "\n",
    "// Boost headers\n",
    "#include <boost/shared_ptr.hpp>\n",
    "\n",
    "// ROS headers\n",
    "#include <ros/ros.h>\n",
    "#include <actionlib/client/simple_action_client.h>\n",
    "#include <control_msgs/FollowJointTrajectoryAction.h>\n",
    "#include <ros/topic.h>\n",
    "\n",
    "\n",
    "// Our Action interface type for moving TIAGo's head, provided as a typedef for convenience\n",
    "typedef actionlib::SimpleActionClient<control_msgs::FollowJointTrajectoryAction> arm_control_client;\n",
    "typedef boost::shared_ptr< arm_control_client>  arm_control_client_Ptr;\n",
    "\n",
    "\n",
    "// Create a ROS action client to move TIAGo's arm\n",
    "void createArmClient(arm_control_client_Ptr& actionClient)\n",
    "{\n",
    "  ROS_INFO(\"Creating action client to arm controller ...\");\n",
    "\n",
    "  actionClient.reset( new arm_control_client(\"/arm_controller/follow_joint_trajectory\") );\n",
    "\n",
    "  int iterations = 0, max_iterations = 3;\n",
    "  // Wait for arm controller action server to come up\n",
    "  while( !actionClient->waitForServer(ros::Duration(2.0)) && ros::ok() && iterations < max_iterations )\n",
    "  {\n",
    "    ROS_DEBUG(\"Waiting for the arm_controller_action server to come up\");\n",
    "    ++iterations;\n",
    "  }\n",
    "\n",
    "  if ( iterations == max_iterations )\n",
    "    throw std::runtime_error(\"Error in createArmClient: arm controller action server not available\");\n",
    "}\n",
    "\n",
    "\n",
    "// Generates a simple trajectory with two waypoints to move TIAGo's arm \n",
    "void waypoints_arm_goal(control_msgs::FollowJointTrajectoryGoal& goal)\n",
    "{\n",
    "  // The joint names, which apply to all waypoints\n",
    "  goal.trajectory.joint_names.push_back(\"arm_1_joint\");\n",
    "  goal.trajectory.joint_names.push_back(\"arm_2_joint\");\n",
    "  goal.trajectory.joint_names.push_back(\"arm_3_joint\");\n",
    "  goal.trajectory.joint_names.push_back(\"arm_4_joint\");\n",
    "  goal.trajectory.joint_names.push_back(\"arm_5_joint\");\n",
    "  goal.trajectory.joint_names.push_back(\"arm_6_joint\");\n",
    "  goal.trajectory.joint_names.push_back(\"arm_7_joint\");\n",
    "\n",
    "  // Two waypoints in this goal trajectory\n",
    "  goal.trajectory.points.resize(2);\n",
    "\n",
    "  // First trajectory point\n",
    "  // Positions\n",
    "  int index = 0;\n",
    "  goal.trajectory.points[index].positions.resize(7);\n",
    "  goal.trajectory.points[index].positions[0] = 0.2;\n",
    "  goal.trajectory.points[index].positions[1] = 0.0;\n",
    "  goal.trajectory.points[index].positions[2] = -1.5;\n",
    "  goal.trajectory.points[index].positions[3] = 1.94;\n",
    "  goal.trajectory.points[index].positions[4] = -1.57;\n",
    "  goal.trajectory.points[index].positions[5] = -0.5;\n",
    "  goal.trajectory.points[index].positions[6] = 0.0;\n",
    "  // Velocities\n",
    "  goal.trajectory.points[index].velocities.resize(7);\n",
    "  for (int j = 0; j < 7; ++j)\n",
    "  {\n",
    "    goal.trajectory.points[index].velocities[j] = 1.0;\n",
    "  }\n",
    "  // To be reached 2 second after starting along the trajectory\n",
    "  goal.trajectory.points[index].time_from_start = ros::Duration(2.0);\n",
    "\n",
    "  // Second trajectory point\n",
    "  // Positions\n",
    "  index += 1;\n",
    "  goal.trajectory.points[index].positions.resize(7);\n",
    "  goal.trajectory.points[index].positions[0] = 2.5;\n",
    "  goal.trajectory.points[index].positions[1] = 0.2;\n",
    "  goal.trajectory.points[index].positions[2] = -2.1;\n",
    "  goal.trajectory.points[index].positions[3] = 1.9;\n",
    "  goal.trajectory.points[index].positions[4] = 1.0;\n",
    "  goal.trajectory.points[index].positions[5] = -0.5;\n",
    "  goal.trajectory.points[index].positions[6] = 0.0;\n",
    "  // Velocities\n",
    "  goal.trajectory.points[index].velocities.resize(7);\n",
    "  for (int j = 0; j < 7; ++j)\n",
    "  {\n",
    "    goal.trajectory.points[index].velocities[j] = 0.0;\n",
    "  }\n",
    "  // To be reached 4 seconds after starting along the trajectory\n",
    "  goal.trajectory.points[index].time_from_start = ros::Duration(4.0);\n",
    "}\n",
    "\n",
    "\n",
    "// Entry point\n",
    "int main(int argc, char** argv)\n",
    "{\n",
    "  // Init the ROS node\n",
    "  ros::init(argc, argv, \"run_traj_control\");\n",
    "\n",
    "  ROS_INFO(\"Starting run_traj_control application ...\");\n",
    " \n",
    "  // Precondition: Valid clock\n",
    "  ros::NodeHandle nh;\n",
    "  if (!ros::Time::waitForValid(ros::WallDuration(10.0))) // NOTE: Important when using simulated clock\n",
    "  {\n",
    "    ROS_FATAL(\"Timed-out waiting for valid time.\");\n",
    "    return EXIT_FAILURE;\n",
    "  }\n",
    "\n",
    "  // Create an arm controller action client to move the TIAGo's arm\n",
    "  arm_control_client_Ptr ArmClient;\n",
    "  createArmClient(ArmClient);\n",
    "\n",
    "  // Generates the goal for the TIAGo's arm\n",
    "  control_msgs::FollowJointTrajectoryGoal arm_goal;\n",
    "  waypoints_arm_goal(arm_goal);\n",
    "\n",
    "  // Sends the command to start the given trajectory 1s from now\n",
    "  arm_goal.trajectory.header.stamp = ros::Time::now() + ros::Duration(1.0);\n",
    "  ArmClient->sendGoal(arm_goal);\n",
    "\n",
    "  // Wait for trajectory execution\n",
    "  while(!(ArmClient->getState().isDone()) && ros::ok())\n",
    "  {\n",
    "    ros::Duration(4).sleep(); // sleep for four seconds\n",
    "  }\n",
    "\n",
    "  return EXIT_SUCCESS;\n",
    "}"
   ]
  },
  {
   "cell_type": "markdown",
   "metadata": {},
   "source": [
    "The key parts of the code are the following:\n",
    "\n",
    "* Create an arm controller action client\n",
    "* Wait for arm controller action server to come up\n",
    "* Generates a simple trajectory with two waypoints (goal)\n",
    "* Sends the command to start the given trajectory\n",
    "* Give time for trajectory execution"
   ]
  },
  {
   "cell_type": "markdown",
   "metadata": {},
   "source": [
    "Note that for the first waypoint, for each joint in the trajectory, we use a velocity of 1.0 m/s. It specifies the velocity of the trajectory when reaching the waypoint. We obtain it with the following line of code"
   ]
  },
  {
   "cell_type": "code",
   "execution_count": null,
   "metadata": {
    "collapsed": true
   },
   "outputs": [],
   "source": [
    "goal.trajectory.points[index].velocities[j] = 1.0;"
   ]
  },
  {
   "cell_type": "markdown",
   "metadata": {},
   "source": [
    "As we want the robot to move smoothly when reaching the first target waypoint. By setting the velocity to 0.0 m/s will cause a step-wise movement, where the robot will stop in each waypoint. We set the velocity to 0.0 m/s just for the last waypoint."
   ]
  },
  {
   "cell_type": "markdown",
   "metadata": {},
   "source": [
    "The **joint_trajectory_controller** will map the position+velocity trajectory to position commands through a PID loop."
   ]
  },
  {
   "cell_type": "markdown",
   "metadata": {},
   "source": [
    "Joint trajectory messages allow to specify the time at which the trajectory should start executing by means of the header timestamp. In the following line of code, the node will start the given trajectory 1s from \"now\"."
   ]
  },
  {
   "cell_type": "code",
   "execution_count": null,
   "metadata": {
    "collapsed": true
   },
   "outputs": [],
   "source": [
    "arm_goal.trajectory.header.stamp = ros::Time::now() + ros::Duration(1.0);"
   ]
  },
  {
   "cell_type": "markdown",
   "metadata": {},
   "source": [
    "The required control commands are sent to the arm controller through the topic of their action interfaces:"
   ]
  },
  {
   "cell_type": "markdown",
   "metadata": {},
   "source": [
    "/arm_controller/follow_joint_trajectory"
   ]
  },
  {
   "cell_type": "markdown",
   "metadata": {},
   "source": [
    "### Available interfaces"
   ]
  },
  {
   "cell_type": "markdown",
   "metadata": {},
   "source": [
    "There are two mechanisms for sending trajectories to the controller, as written in **joint_trajectory_controller**. By means of the **action interface** or the **topic interface**. Both use the **trajectory_msgs/JointTrajectory** message to specify trajectories."
   ]
  },
  {
   "cell_type": "markdown",
   "metadata": {},
   "source": [
    "For the TIAGo robot, the following interfaces are available: torso control, head control, arm control. The following interfaces are used."
   ]
  },
  {
   "cell_type": "markdown",
   "metadata": {},
   "source": [
    "### 1. Torso controller"
   ]
  },
  {
   "cell_type": "markdown",
   "metadata": {},
   "source": [
    "The torso prismatic joint can be controlled with the following joint trajectory interfaces:"
   ]
  },
  {
   "cell_type": "markdown",
   "metadata": {},
   "source": [
    "* **/torso_controller/command (trajectory_msgs/JointTrajectory)**: Topic interface to move the torso lifter"
   ]
  },
  {
   "cell_type": "markdown",
   "metadata": {},
   "source": [
    "* **/torso_controller/follow_joint_trajectory (control_msgs/FollowJointTrajectoryAction)**: Action interface to move the torso lifter"
   ]
  },
  {
   "cell_type": "markdown",
   "metadata": {},
   "source": [
    "### 2. Head controller"
   ]
  },
  {
   "cell_type": "markdown",
   "metadata": {},
   "source": [
    "The 2 joints of the head can be controlled defining trajectories using the following interfaces:"
   ]
  },
  {
   "cell_type": "markdown",
   "metadata": {},
   "source": [
    "* **/head_controller/command (trajectory_msgs/JointTrajectory)**: Topic interface to move the head\n"
   ]
  },
  {
   "cell_type": "markdown",
   "metadata": {},
   "source": [
    "* **/head_controller/follow_joint_trajectory (control_msgs/FollowJointTrajectoryAction)**: Action interface to move the head"
   ]
  },
  {
   "cell_type": "markdown",
   "metadata": {},
   "source": [
    "### 3. Arm controller"
   ]
  },
  {
   "cell_type": "markdown",
   "metadata": {},
   "source": [
    "Trajectories for the 7 joints of the arm can be controlled using the following interfaces:"
   ]
  },
  {
   "cell_type": "markdown",
   "metadata": {},
   "source": [
    "* **/arm_controller/command (trajectory_msgs/JointTrajectory)**: Topic interface to move the arm"
   ]
  },
  {
   "cell_type": "markdown",
   "metadata": {},
   "source": [
    "* **/arm_controller/follow_joint_trajectory (control_msgs/FollowJointTrajectoryAction)**: Action interface to move the arm"
   ]
  },
  {
   "cell_type": "markdown",
   "metadata": {},
   "source": [
    "### 4. Hey5 hand controller"
   ]
  },
  {
   "cell_type": "markdown",
   "metadata": {},
   "source": [
    "For the titanium version of TIAGo the hand control interface is also available:\n",
    "\n"
   ]
  },
  {
   "cell_type": "markdown",
   "metadata": {},
   "source": [
    "* **/hand_controller/command (trajectory_msgs/JointTrajectory)**: Topic interface to move the 3 motors of the Hey5 hand."
   ]
  },
  {
   "cell_type": "markdown",
   "metadata": {},
   "source": [
    "* **/hand_controller/follow_joint_trajectory (control_msgs/FollowJointTrajectory)**: Action interface to move the 3 motors of the Hey5 hand.\n"
   ]
  },
  {
   "cell_type": "markdown",
   "metadata": {},
   "source": [
    "### 5. Gripper controller"
   ]
  },
  {
   "cell_type": "markdown",
   "metadata": {},
   "source": [
    "For the steel version of TIAGo the gripper control interface is available:"
   ]
  },
  {
   "cell_type": "markdown",
   "metadata": {},
   "source": [
    "* **/parallel_gripper_controller/command (trajectory_msgs/JointTrajectory)**: Topic interface to move the parallel gripper virtual joint, i.e. to control the separation of the fingers."
   ]
  },
  {
   "cell_type": "markdown",
   "metadata": {},
   "source": [
    "* **/parallel_gripper_controller/follow_joint_trajectory (control_msgs/FollowJointTrajectoryAction)**: Action interface to control the separation of the fingers of the gripper"
   ]
  },
  {
   "cell_type": "markdown",
   "metadata": {},
   "source": [
    "* **/gripper_controller/command (trajectory_msgs/JointTrajectory)**: Topic interface to move the 2 motors of the gripper, i.e. each finger, individually."
   ]
  },
  {
   "cell_type": "markdown",
   "metadata": {},
   "source": [
    "## Moving individual joints"
   ]
  },
  {
   "cell_type": "markdown",
   "metadata": {},
   "source": [
    "In the previous section, you saw how you can execute trajectories by passing to the robot a set ofwaypoints, specifying the desired positions for each joint. But you can also move each joint individually, if you want. And that's what you are going to see in this section!"
   ]
  },
  {
   "cell_type": "markdown",
   "metadata": {},
   "source": [
    "ROS provides a very nice tool which is called **rqt**. Rqt is a software framework of ROS that implements the various GUI tools in the form of plugins. One of this tools is the **rqt_joint_trajectory_controller**, which allows you to interact with the **joint trajectory controller** in a graphic way. In the following exercise, you are going to see how you can use this tool in order to control the different TIAGo joints."
   ]
  },
  {
   "cell_type": "markdown",
   "metadata": {},
   "source": [
    "<p style=\"background:#EE9023;color:white;\">Exercise 1.4</p>\n",
    "<br>\n",
    "a) Execute the following command in order to the rqt GUI"
   ]
  },
  {
   "cell_type": "markdown",
   "metadata": {},
   "source": [
    "<table style=\"float:left;background: #407EAF\">\n",
    "<tr>\n",
    "<th>\n",
    "Execute in WebShell #1\n",
    "</th>\n",
    "</tr>\n",
    "</table>"
   ]
  },
  {
   "cell_type": "code",
   "execution_count": null,
   "metadata": {
    "collapsed": true
   },
   "outputs": [],
   "source": [
    "rosrun rqt_joint_trajectory_controller rqt_joint_trajectory_controller"
   ]
  },
  {
   "cell_type": "markdown",
   "metadata": {},
   "source": [
    "Now, if you open the Graphic Tools by hitting this icon \n",
    "<img src=\"img/font-awesome_desktop.png\"width=\"25\"/>\n",
    "you will see something like this:\n",
    "<img src=\"img/rqt1.png\" width=\"600\" />"
   ]
  },
  {
   "cell_type": "markdown",
   "metadata": {},
   "source": [
    "b) In the **controller manager ns** menu, select the **/controller_manager** option, and in the **controller** menu, select the **arm_controller** option."
   ]
  },
  {
   "cell_type": "markdown",
   "metadata": {},
   "source": [
    "<img src=\"img/rqt2.png\" width=\"600\" />"
   ]
  },
  {
   "cell_type": "markdown",
   "metadata": {},
   "source": [
    "c) Now, if you click on the red button, you will be able to individually control the different joints related to the arm controller."
   ]
  },
  {
   "cell_type": "markdown",
   "metadata": {},
   "source": [
    "<img src=\"img/rqt3.png\" width=\"600\" />"
   ]
  },
  {
   "cell_type": "markdown",
   "metadata": {},
   "source": [
    "d) Change the values of the joints and check how the TIAGo arm moves. Note that there is a scaling factor for the speed that will be applied to the joints in the bottom part of the GUI."
   ]
  },
  {
   "cell_type": "markdown",
   "metadata": {},
   "source": [
    "<p style=\"background:#EE9023;color:white;\">End of Exercise 1.4</p>"
   ]
  },
  {
   "cell_type": "markdown",
   "metadata": {},
   "source": [
    "## Head control"
   ]
  },
  {
   "cell_type": "markdown",
   "metadata": {},
   "source": [
    "The TIAGo robot provides a node named **head_action**. This node provides an action interface, which can be used to make the robot head to look at any point expressed in any frame. Follow the next exercise in order to see how to use this node!"
   ]
  },
  {
   "cell_type": "markdown",
   "metadata": {},
   "source": [
    "<p style=\"background:#EE9023;color:white;\">Exercise 1.5</p>\n",
    "<br>\n",
    "a) Move the robot to a position so it is facing the wall."
   ]
  },
  {
   "cell_type": "markdown",
   "metadata": {},
   "source": [
    "<img src=\"img/tiago_wall.png\" width=\"400\" />"
   ]
  },
  {
   "cell_type": "markdown",
   "metadata": {},
   "source": [
    "b) Execute the following command in order to start the **head_action** node."
   ]
  },
  {
   "cell_type": "markdown",
   "metadata": {},
   "source": [
    "<table style=\"float:left;background: #407EAF\">\n",
    "<tr>\n",
    "<th>\n",
    "Execute in WebShell #1\n",
    "</th>\n",
    "</tr>\n",
    "</table>"
   ]
  },
  {
   "cell_type": "code",
   "execution_count": null,
   "metadata": {
    "collapsed": true
   },
   "outputs": [],
   "source": [
    "rosrun look_to_point look_to_point"
   ]
  },
  {
   "cell_type": "markdown",
   "metadata": {},
   "source": [
    "Now, if you open the Graphic Tools by hitting this icon \n",
    "<img src=\"img/font-awesome_desktop.png\"width=\"25\"/>\n",
    "you will see something like this:\n",
    "<img src=\"img/head_action.png\" width=\"600\" />"
   ]
  },
  {
   "cell_type": "markdown",
   "metadata": {},
   "source": [
    "Basically, this node subscribes to the following topics:\n",
    "\n",
    "* **/xtion/rgb/camera_info**\n",
    "* **/xtion/rgb/image_raw**\n",
    "\n",
    "The first topic contains the instrinsic parameters of the camera and the second one the rgb image from the RGBD camera of TIAGo's head."
   ]
  },
  {
   "cell_type": "markdown",
   "metadata": {},
   "source": [
    "b) Now, by clicking on any pixel of the image the robot will move its head in order to look at that point. With this we can easily lower or raise the head, look right or leftwards, etc."
   ]
  },
  {
   "cell_type": "markdown",
   "metadata": {},
   "source": [
    "<img src=\"img/tiago_head_action.gif\" width=\"600\" />"
   ]
  },
  {
   "cell_type": "markdown",
   "metadata": {},
   "source": [
    "<p style=\"background:#EE9023;color:white;\">End of Exercise 1.5</p>"
   ]
  },
  {
   "cell_type": "markdown",
   "metadata": {},
   "source": [
    "## Playing pre-defined upper body motions"
   ]
  },
  {
   "cell_type": "markdown",
   "metadata": {},
   "source": [
    "In this last section of the first chapter, you are going to see how to run pre-defined upper body motions with TIAGo. This is pretty easy by using the **play_motion** package, which enables executing simultaneous trajectories in multiple groups of joints."
   ]
  },
  {
   "cell_type": "markdown",
   "metadata": {},
   "source": [
    "When the TIAGo simulation is launched, the **play_motion** action server is automatically launched and the motions defined in **tiago_bringup/config/tiago_motions_titanium.yaml** have been loaded in the ROS parameter server."
   ]
  },
  {
   "cell_type": "markdown",
   "metadata": {},
   "source": [
    "In order to see the names of the motions defined run the following instruction in the second console:"
   ]
  },
  {
   "cell_type": "markdown",
   "metadata": {},
   "source": [
    "rosparam list | grep  \"play_motion/motions\""
   ]
  },
  {
   "cell_type": "markdown",
   "metadata": {},
   "source": [
    "You will see something like this:"
   ]
  },
  {
   "cell_type": "markdown",
   "metadata": {},
   "source": [
    "<img src=\"img/motions.png\" width=\"600\" />"
   ]
  },
  {
   "cell_type": "markdown",
   "metadata": {},
   "source": [
    "The relevant information of a motion is stored in the following parameters:"
   ]
  },
  {
   "cell_type": "code",
   "execution_count": null,
   "metadata": {
    "collapsed": true
   },
   "outputs": [],
   "source": [
    "/play_motion/motions/wave/joints\n",
    "/play_motion/motions/wave/points"
   ]
  },
  {
   "cell_type": "markdown",
   "metadata": {},
   "source": [
    "In the case of the **wave** motion, the **joints** parameter specifies which joints intervene in the motion. You can check this parameter with the following command:"
   ]
  },
  {
   "cell_type": "code",
   "execution_count": null,
   "metadata": {
    "collapsed": true
   },
   "outputs": [],
   "source": [
    "rosparam get /play_motion/motions/wave/joints"
   ]
  },
  {
   "cell_type": "markdown",
   "metadata": {},
   "source": [
    "<img src=\"img/wave1.png\" width=\"800\" />"
   ]
  },
  {
   "cell_type": "markdown",
   "metadata": {},
   "source": [
    "This means that in order to execute this wave motion, the group of joints of the arm will be used."
   ]
  },
  {
   "cell_type": "markdown",
   "metadata": {},
   "source": [
    "The joint trajectory that composes this motion can be retrieved as follows:"
   ]
  },
  {
   "cell_type": "code",
   "execution_count": null,
   "metadata": {
    "collapsed": true
   },
   "outputs": [],
   "source": [
    "rosparam get /play_motion/motions/wave/points"
   ]
  },
  {
   "cell_type": "markdown",
   "metadata": {},
   "source": [
    "<img src=\"img/wave2.png\" width=\"800\" />"
   ]
  },
  {
   "cell_type": "markdown",
   "metadata": {},
   "source": [
    "Each row of positions denote the position that each joint has to attain at the given time with respect to the start of the motion."
   ]
  },
  {
   "cell_type": "markdown",
   "metadata": {},
   "source": [
    "So, in order to execute this motions, we have to send a goal to the **play_motion** action server. So for this, we can use the **axclient** tool. This tool that ROS provides allows to interact with an action server in a graphical way."
   ]
  },
  {
   "cell_type": "markdown",
   "metadata": {},
   "source": [
    "<p style=\"background:#EE9023;color:white;\">Exercise 1.6</p>\n",
    "<br>\n",
    "a) Execute the following command in order start the axclient tool."
   ]
  },
  {
   "cell_type": "markdown",
   "metadata": {},
   "source": [
    "<table style=\"float:left;background: #407EAF\">\n",
    "<tr>\n",
    "<th>\n",
    "Execute in WebShell #1\n",
    "</th>\n",
    "</tr>\n",
    "</table>"
   ]
  },
  {
   "cell_type": "code",
   "execution_count": null,
   "metadata": {
    "collapsed": true
   },
   "outputs": [],
   "source": [
    "rosrun actionlib axclient.py /play_motion"
   ]
  },
  {
   "cell_type": "markdown",
   "metadata": {},
   "source": [
    "Now, if you open the Graphic Tools by hitting this icon \n",
    "<img src=\"img/font-awesome_desktop.png\"width=\"25\"/>\n",
    "you will see something like this:\n",
    "<img src=\"img/axclient.png\" width=\"600\" />"
   ]
  },
  {
   "cell_type": "markdown",
   "metadata": {},
   "source": [
    "b) Now, you just need to fill in the name of the **motion_name** parameter, which is the motion you want to perform. The **skip_planning** is set by default to False, which means that the transition to the first position of the joint trajectory will use planning to prevent collisions. The remaining of the trajectory is always executed without planning as it is responsibility of the programmer to define a safe trajectory. Set skip_planning to True only if you are sure that it is safe to reach the first positions in the trajectory from the current kinematic configuration of the robot."
   ]
  },
  {
   "cell_type": "markdown",
   "metadata": {},
   "source": [
    "<img src=\"img/axclient_play_motion.jpg\" width=\"600\" />"
   ]
  },
  {
   "cell_type": "markdown",
   "metadata": {},
   "source": [
    "c) Then, just click the **SEND GOAL** button and see how the action is performed by TIAGo robot."
   ]
  },
  {
   "cell_type": "markdown",
   "metadata": {},
   "source": [
    "<img src=\"img/tiago_wave.gif\" width=\"600\" />"
   ]
  },
  {
   "cell_type": "markdown",
   "metadata": {},
   "source": [
    "<p style=\"background:#EE9023;color:white;\">End of Exercise 1.5</p>"
   ]
  },
  {
   "cell_type": "markdown",
   "metadata": {},
   "source": [
    "## Congratulations! You now know how to fully control TIAGo robot!"
   ]
  }
 ],
 "metadata": {
  "anaconda-cloud": {},
  "kernelspec": {
   "display_name": "Python [Root]",
   "language": "python",
   "name": "Python [Root]"
  },
  "language_info": {
   "codemirror_mode": {
    "name": "ipython",
    "version": 2
   },
   "file_extension": ".py",
   "mimetype": "text/x-python",
   "name": "python",
   "nbconvert_exporter": "python",
   "pygments_lexer": "ipython2",
   "version": "2.7.12"
  }
 },
 "nbformat": 4,
 "nbformat_minor": 0
}
