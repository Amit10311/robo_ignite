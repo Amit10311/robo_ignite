{
 "cells": [
  {
   "cell_type": "markdown",
   "metadata": {},
   "source": [
    "# Mastering with ROS: TIAGo"
   ]
  },
  {
   "cell_type": "markdown",
   "metadata": {},
   "source": [
    "<img src=\"img/pal-logo.png\" width=\"400\" />"
   ]
  },
  {
   "cell_type": "markdown",
   "metadata": {},
   "source": [
    "<img src=\"img/small_office.png\" width=\"600\"/>"
   ]
  },
  {
   "cell_type": "markdown",
   "metadata": {},
   "source": [
    "<img src=\"img/robotignite_logo_text.png\" width=\"400\"/>"
   ]
  },
  {
   "cell_type": "markdown",
   "metadata": {},
   "source": [
    "## Unit 2: Autonomous Navigation with TIAGo"
   ]
  },
  {
   "cell_type": "markdown",
   "metadata": {},
   "source": [
    "<p style=\"background:green;color:white;\">SUMMARY</p>"
   ]
  },
  {
   "cell_type": "markdown",
   "metadata": {},
   "source": [
    "Estimated time of completion: **4h**"
   ]
  },
  {
   "cell_type": "markdown",
   "metadata": {},
   "source": [
    "The first thing you will need for a robot that patroles is the ability to move around without crashing into everything, right?. Well, that's what you are going to learn in this Unit! For this you will learn:\n",
    "\n",
    "* How to create a map of an environment\n",
    "* Localize the robot within the map\n",
    "* Path Planning with Obstacle Avoidance\n",
    "* Send a sequence of waypoints and execute those movements"
   ]
  },
  {
   "cell_type": "markdown",
   "metadata": {},
   "source": [
    "<p style=\"background:green;color:white;\">END OF SUMMARY</p>"
   ]
  },
  {
   "cell_type": "markdown",
   "metadata": {},
   "source": [
    "## Creating a Map"
   ]
  },
  {
   "cell_type": "markdown",
   "metadata": {},
   "source": [
    "The first thing you need in order to perform ROS Navigation, is to create a Map of the environment you want to navigate. For that, you are going to need the **<a href=\"http://wiki.ros.org/gmapping\">slam_gmapping</a>** node that the Navigation Stack provides. For seeing how to do this, follow the next exercise:"
   ]
  },
  {
   "cell_type": "markdown",
   "metadata": {},
   "source": [
    "<p style=\"background:#EE9023;color:white;\">Exercise 2.1</p>"
   ]
  },
  {
   "cell_type": "markdown",
   "metadata": {},
   "source": [
    "a) First of all, let's launch the slam_gmapping node with the following command."
   ]
  },
  {
   "cell_type": "markdown",
   "metadata": {},
   "source": [
    "<table style=\"float:left;background: #407EAF\">\n",
    "<tr>\n",
    "<th>\n",
    "<p class=\"transparent\">Execute in WebShell #1</p>\n",
    "</th>\n",
    "</tr>\n",
    "</table>"
   ]
  },
  {
   "cell_type": "code",
   "execution_count": null,
   "metadata": {
    "collapsed": true
   },
   "outputs": [],
   "source": [
    "roslaunch tiago_2dnav mapping_gmapping.launch"
   ]
  },
  {
   "cell_type": "markdown",
   "metadata": {},
   "source": [
    "b) Launch RViz and add the necessary displays in order to visualize the mapping process. Basically, you will need the following:\n",
    "\n",
    "* RobotModel (optional)\n",
    "* LaserScan\n",
    "* Map"
   ]
  },
  {
   "cell_type": "markdown",
   "metadata": {},
   "source": [
    "Set the correct topics for each display. At the end, you should see something like this:"
   ]
  },
  {
   "cell_type": "markdown",
   "metadata": {},
   "source": [
    "<img src=\"img/map_eviz1.png\" width=\"600\" />"
   ]
  },
  {
   "cell_type": "markdown",
   "metadata": {},
   "source": [
    "c) Now, just launch the **key_teleop** node and move the robot around the whole environment in order to generate a full map."
   ]
  },
  {
   "cell_type": "markdown",
   "metadata": {},
   "source": [
    "<table style=\"float:left;background: #407EAF\">\n",
    "<tr>\n",
    "<th>\n",
    "<p class=\"transparent\">Execute in WebShell #2</p>\n",
    "</th>\n",
    "</tr>\n",
    "</table>"
   ]
  },
  {
   "cell_type": "code",
   "execution_count": null,
   "metadata": {
    "collapsed": true
   },
   "outputs": [],
   "source": [
    "rosrun key_teleop key_teleop.py"
   ]
  },
  {
   "cell_type": "markdown",
   "metadata": {},
   "source": [
    "At the end, you should have something like this:"
   ]
  },
  {
   "cell_type": "markdown",
   "metadata": {},
   "source": [
    "<img src=\"img/map_rviz2.png\" width=\"600\" />"
   ]
  },
  {
   "cell_type": "markdown",
   "metadata": {},
   "source": [
    "<p style=\"color:red;\">**IMPORTANT**: DO NOT CLOSE anything when you finalise with the exercise (have created the full map). You will have to work with this.</p>"
   ]
  },
  {
   "cell_type": "markdown",
   "metadata": {},
   "source": [
    "<p style=\"background:#EE9023;color:white;\">End of Exercise 2.1</p>"
   ]
  },
  {
   "cell_type": "markdown",
   "metadata": {},
   "source": [
    "Great! So now, you have already created a full map of the environment. So now what? Well, now it's time to save this map, so you can use it in the Pat Planning system!"
   ]
  },
  {
   "cell_type": "markdown",
   "metadata": {},
   "source": [
    "## Saving the map"
   ]
  },
  {
   "cell_type": "markdown",
   "metadata": {},
   "source": [
    "Another of the packages available in the ROS Navigation Stack is the map_server package. This package provides the map_saver node, which allows us to access the map data from a ROS Service, and save it into a file."
   ]
  },
  {
   "cell_type": "markdown",
   "metadata": {},
   "source": [
    "You can save the built map at anytime by using the following command:"
   ]
  },
  {
   "cell_type": "code",
   "execution_count": null,
   "metadata": {
    "collapsed": true
   },
   "outputs": [],
   "source": [
    "rosrun map_server map_saver -f name_of_map"
   ]
  },
  {
   "cell_type": "markdown",
   "metadata": {},
   "source": [
    "This command will get the map data from the map topic, and write it out into 2 files, name_of_map.pgm and name_of_map.yaml."
   ]
  },
  {
   "cell_type": "markdown",
   "metadata": {},
   "source": [
    "<p style=\"background:#EE9023;color:white;\">**Exercise 2.2**</p>"
   ]
  },
  {
   "cell_type": "markdown",
   "metadata": {},
   "source": [
    "a) Create a new directory in your workspace called **maps**."
   ]
  },
  {
   "cell_type": "markdown",
   "metadata": {},
   "source": [
    "<table style=\"float:left;background: #407EAF\">\n",
    "<tr>\n",
    "<th>\n",
    "<p class=\"transparent\">Execute in WebShell #3</p>\n",
    "</th>\n",
    "</tr>\n",
    "</table>"
   ]
  },
  {
   "cell_type": "code",
   "execution_count": null,
   "metadata": {
    "collapsed": true
   },
   "outputs": [],
   "source": [
    "roscd;\n",
    "cd ../src;\n",
    "mkdir maps;\n",
    "cd maps;"
   ]
  },
  {
   "cell_type": "markdown",
   "metadata": {},
   "source": [
    "b) Save the map created in the previous exercise into a file.\n",
    "<table style=\"float:left;background: #407EAF\">\n",
    "<tr>\n",
    "<th>\n",
    "<p class=\"transparent\">Execute in WebShell #4</p>\n",
    "</th>\n",
    "</tr>\n",
    "</table>"
   ]
  },
  {
   "cell_type": "code",
   "execution_count": null,
   "metadata": {
    "collapsed": true
   },
   "outputs": [],
   "source": [
    "rosrun map_server map_saver -f map;"
   ]
  },
  {
   "cell_type": "markdown",
   "metadata": {},
   "source": [
    "You should end up with something like this:"
   ]
  },
  {
   "cell_type": "markdown",
   "metadata": {},
   "source": [
    "<img src=\"img/maps_folder.png\" width=\"300\" />"
   ]
  },
  {
   "cell_type": "markdown",
   "metadata": {},
   "source": [
    "<p style=\"background:#EE9023;color:white;\">**End of Exercise 2.2**</p>"
   ]
  },
  {
   "cell_type": "markdown",
   "metadata": {},
   "source": [
    "You should end up with 2 new files: **map.yaml** and **map.pgm**."
   ]
  },
  {
   "cell_type": "markdown",
   "metadata": {},
   "source": [
    "The PGM file is the one that contains the occupancy data of the map (the really important data), and the YAML file contains some metadata about the map, like the map dimensions and resolution, or the path to the PGM file."
   ]
  },
  {
   "cell_type": "markdown",
   "metadata": {},
   "source": [
    "**map.yaml**"
   ]
  },
  {
   "cell_type": "code",
   "execution_count": null,
   "metadata": {
    "collapsed": true
   },
   "outputs": [],
   "source": [
    "image: map.pgm\n",
    "resolution: 0.050000\n",
    "origin: [-50.000000, -50.000000, 0.000000]\n",
    "negate: 0\n",
    "occupied_thresh: 0.65\n",
    "free_thresh: 0.196"
   ]
  },
  {
   "cell_type": "markdown",
   "metadata": {},
   "source": [
    "**map.pgm**"
   ]
  },
  {
   "cell_type": "markdown",
   "metadata": {},
   "source": [
    "<img src=\"img/map_pgm.png\" width=\"300\" />"
   ]
  },
  {
   "cell_type": "markdown",
   "metadata": {},
   "source": [
    "## Localize the robot"
   ]
  },
  {
   "cell_type": "markdown",
   "metadata": {},
   "source": [
    "So after generating the map, the next thing we'll need to do is to be able to localize the robot into that map. If we don't do this, the map would be totally useless. Right?"
   ]
  },
  {
   "cell_type": "markdown",
   "metadata": {},
   "source": [
    "For that, we are going to use the **amcl** node from the Navigation Stack. So, as you did for the mapping process, let's follow the next exercise in order to see how to do this."
   ]
  },
  {
   "cell_type": "markdown",
   "metadata": {},
   "source": [
    "<p style=\"background:#EE9023;color:white;\">Exercise 2.3</p>"
   ]
  },
  {
   "cell_type": "markdown",
   "metadata": {},
   "source": [
    "a) Execute the following command in order the amcl node."
   ]
  },
  {
   "cell_type": "markdown",
   "metadata": {},
   "source": [
    "<table style=\"float:left;background: #407EAF\">\n",
    "<tr>\n",
    "<th>\n",
    "<p class=\"transparent\">Execute in WebShell #1</p>\n",
    "</th>\n",
    "</tr>\n",
    "</table>"
   ]
  },
  {
   "cell_type": "code",
   "execution_count": null,
   "metadata": {
    "collapsed": true
   },
   "outputs": [],
   "source": [
    "roslaunch tiago_2dnav localization.launch"
   ]
  },
  {
   "cell_type": "markdown",
   "metadata": {},
   "source": [
    "b) Launch RViz and add the necessary displays in order to visualize the mapping process. Basically, you will need the following:\n",
    "\n",
    "* RobotModel (optional)\n",
    "* LaserScan\n",
    "* Map\n",
    "* Pose Array"
   ]
  },
  {
   "cell_type": "markdown",
   "metadata": {},
   "source": [
    "Set the correct topics for each display. At the end, you should see something like this:"
   ]
  },
  {
   "cell_type": "markdown",
   "metadata": {},
   "source": [
    "<img src=\"img/localization_rviz1.png\" width=\"600\" />"
   ]
  },
  {
   "cell_type": "markdown",
   "metadata": {},
   "source": [
    "c) Now, you'll need to use the **2D Pose Estimate** tool in order to localize the robot in the map. Check in your simulation where the TIAGo robot is, and set this Pose in RViz."
   ]
  },
  {
   "cell_type": "markdown",
   "metadata": {},
   "source": [
    "<img src=\"img/2d_pose_estimate_rviz.png\" width=\"300\" />"
   ]
  },
  {
   "cell_type": "markdown",
   "metadata": {},
   "source": [
    "f) Now, you can start moving the robot around the environment in order to localize the robot. As you move the robot, you will se in RViz how the particles keep getting closer, which means that the estimated poses of the robot are getting closer to the real place. This is a test on how good your localization system is working."
   ]
  },
  {
   "cell_type": "markdown",
   "metadata": {},
   "source": [
    "<img src=\"img/localization_rviz2.png\" width=\"600\" />"
   ]
  },
  {
   "cell_type": "markdown",
   "metadata": {},
   "source": [
    "<p style=\"background:#EE9023;color:white;\">End of Exercise 2.3</p>"
   ]
  },
  {
   "cell_type": "markdown",
   "metadata": {},
   "source": [
    "Great! So at this point, you've already built a map of the environment and you are able to localize the Turtlebot3 robot on the map. This means eberything is ready to Navigate the robot!"
   ]
  },
  {
   "cell_type": "markdown",
   "metadata": {},
   "source": [
    "## Path Planning and Obstacle Avoidance"
   ]
  },
  {
   "cell_type": "markdown",
   "metadata": {},
   "source": [
    "For doing Path Planning, you'll need to combine everything you've donetill now. Plus, you will have to use the **move_base** node from the Navigation Stack, which will manage all the Path Planning system for you. You can follow the next exercise in order to be guided through the process!"
   ]
  },
  {
   "cell_type": "markdown",
   "metadata": {},
   "source": [
    "<p style=\"background:#EE9023;color:white;\">Exercise 2.4</p>"
   ]
  },
  {
   "cell_type": "markdown",
   "metadata": {},
   "source": [
    "a) Execute the following command in order to start the move_base node."
   ]
  },
  {
   "cell_type": "markdown",
   "metadata": {},
   "source": [
    "<table style=\"float:left;background: #407EAF\">\n",
    "<tr>\n",
    "<th>\n",
    "<p class=\"transparent\">Execute in WebShell #1</p>\n",
    "</th>\n",
    "</tr>\n",
    "</table>"
   ]
  },
  {
   "cell_type": "code",
   "execution_count": null,
   "metadata": {
    "collapsed": true
   },
   "outputs": [],
   "source": [
    "roslaunch tiago_2dnav navigation.launch"
   ]
  },
  {
   "cell_type": "markdown",
   "metadata": {},
   "source": [
    "b) Let's now launch RViz in order to be able to visualize the Path Planning process. Basically. you will need the following:\n",
    "\n",
    "* RobotModel (optional)\n",
    "* LaserScan\n",
    "* Map\n",
    "* Pose Array\n",
    "* Map (to visualize global and local costmaps)\n",
    "* Plan (to visualize global and local plans)"
   ]
  },
  {
   "cell_type": "markdown",
   "metadata": {},
   "source": [
    "You should see something like this:"
   ]
  },
  {
   "cell_type": "markdown",
   "metadata": {},
   "source": [
    "<img src=\"img/planning_rviz1.png\" width=\"600\" />"
   ]
  },
  {
   "cell_type": "markdown",
   "metadata": {},
   "source": [
    "e) Use the 2D Pose Estimate tool in Rviz to Localize the Robot in the Map. Just as you did in the Demo of the previous Unit."
   ]
  },
  {
   "cell_type": "markdown",
   "metadata": {},
   "source": [
    "f) Use the 2D Nav Goal tool in Rviz to send a Goal(desired pose) to the Robot. Just as you did in the Demo of the previous Unit."
   ]
  },
  {
   "cell_type": "markdown",
   "metadata": {},
   "source": [
    "You should now see the Turtlebot3 robot going to that position in the simulation. In Rviz, you can also visualize the planned path that it follows."
   ]
  },
  {
   "cell_type": "markdown",
   "metadata": {},
   "source": [
    "<img src=\"img/planning_rviz3.png\" width=\"600\" />"
   ]
  },
  {
   "cell_type": "markdown",
   "metadata": {},
   "source": [
    "<p style=\"background:#EE9023;color:white;\">End of Exercise 2.4</p>"
   ]
  },
  {
   "cell_type": "markdown",
   "metadata": {},
   "source": [
    "## Add WayPoints"
   ]
  },
  {
   "cell_type": "markdown",
   "metadata": {},
   "source": [
    "So there you have it. Now your TIAGo robot can navigate around one position at a time. But what if you want to generate in an easy way a sequence of waypoints so that it patroles around the **main interest points of the area**?"
   ]
  },
  {
   "cell_type": "markdown",
   "metadata": {},
   "source": [
    "You are going to use a ROS package called **follow_waypoints**, you can get more information http://wiki.ros.org/follow_waypoints.\n",
    "This package basically tracks the **Estimate pose** that you place in RVIZ and stores it. Then when you have finished you just have to publish in a topic that starts sending those positions to the movebase system."
   ]
  },
  {
   "cell_type": "markdown",
   "metadata": {},
   "source": [
    "### Steps to do it:"
   ]
  },
  {
   "cell_type": "markdown",
   "metadata": {},
   "source": [
    "The first step is to start the **start_navigation_with_map.launch** if you don't have it running:"
   ]
  },
  {
   "cell_type": "markdown",
   "metadata": {},
   "source": [
    "<table style=\"float:left;background: #407EAF\">\n",
    "<tr>\n",
    "<th>\n",
    "<p class=\"transparent\">Execute in WebShell #1</p>\n",
    "</th>\n",
    "</tr>\n",
    "</table>"
   ]
  },
  {
   "cell_type": "code",
   "execution_count": null,
   "metadata": {
    "collapsed": true
   },
   "outputs": [],
   "source": [
    "roslaunch tiago_2dnav navigation.launch"
   ]
  },
  {
   "cell_type": "markdown",
   "metadata": {},
   "source": [
    "The Second step is to start the waypoint server. This server will listen to publications into the topic **/initialpose** and store those poses until its instructed to send them to **move_base** to be executed:"
   ]
  },
  {
   "cell_type": "markdown",
   "metadata": {},
   "source": [
    "<table style=\"float:left;background: #407EAF\">\n",
    "<tr>\n",
    "<th>\n",
    "<p class=\"transparent\">Execute in WebShell #2</p>\n",
    "</th>\n",
    "</tr>\n",
    "</table>"
   ]
  },
  {
   "cell_type": "code",
   "execution_count": null,
   "metadata": {
    "collapsed": true
   },
   "outputs": [],
   "source": [
    "roslaunch follow_waypoints follow_waypoints.launch"
   ]
  },
  {
   "cell_type": "markdown",
   "metadata": {},
   "source": [
    "Then you have to start RVIZ, and add a **PoseArray** element, susbcribed to the topic **/waypoints**, and change its name to WayPoints. This will now show all the waypoints you set from now on."
   ]
  },
  {
   "cell_type": "markdown",
   "metadata": {},
   "source": [
    "You can change the colour also if you want. In this example its changed to **green** to see it better and differenciate from the posearray of **psoition estimates**."
   ]
  },
  {
   "cell_type": "markdown",
   "metadata": {},
   "source": [
    "Now you have to set the waypoints. For this you have to select the **PoseEstimate** and set it where you want it. Because this will move the estimated pose of the robot around its important that **the last waypoint is where the robot is right now**. Otherwise it will be harder for the robot to get to the place. "
   ]
  },
  {
   "cell_type": "markdown",
   "metadata": {},
   "source": [
    "<img src=\"img/tiago_waypoints1.gif\" width=\"600\"></img>"
   ]
  },
  {
   "cell_type": "markdown",
   "metadata": {},
   "source": [
    "You should also get in webshell where you launched the waypoint server a message stating that it recieved the waypoint:"
   ]
  },
  {
   "cell_type": "code",
   "execution_count": null,
   "metadata": {
    "collapsed": true
   },
   "outputs": [],
   "source": [
    "[INFO][139816504842048][/follow_waypoints/execute:92]: Waiting to recieve waypoints via Pose msg on topic /initialpose         \n",
    "[INFO][139816504842048][/follow_waypoints/execute:93]: To start following waypoints: 'rostopic pub /path_ready std_msgs/Empty -\n",
    "1'                                                                                                                             \n",
    "[INFO][139816504842048][/follow_waypoints/execute:104]: Recieved new waypoint                                                  \n",
    "[INFO][139816504842048][/follow_waypoints/execute:104]: Recieved new waypoint                                                  \n",
    "[INFO][139816504842048][/follow_waypoints/execute:104]: Recieved new waypoint                                                  \n",
    "[INFO][139816504842048][/follow_waypoints/execute:104]: Recieved new waypoint                                                  \n",
    "[INFO][139816504842048][/follow_waypoints/execute:104]: Recieved new waypoint                                       "
   ]
  },
  {
   "cell_type": "markdown",
   "metadata": {},
   "source": [
    "Now you just have to publish in the topic **/path_ready** to start sending waypoints to the movebase."
   ]
  },
  {
   "cell_type": "markdown",
   "metadata": {},
   "source": [
    "If you want to see the global path generated just activate it in RVIZ."
   ]
  },
  {
   "cell_type": "markdown",
   "metadata": {},
   "source": [
    "<table style=\"float:left;background: #407EAF\">\n",
    "<tr>\n",
    "<th>\n",
    "<p class=\"transparent\">Execute in WebShell #3</p><br>\n",
    "rostopic pub /path_ready std_msgs/Empty -1\n",
    "</th>\n",
    "</tr>\n",
    "</table>"
   ]
  },
  {
   "cell_type": "markdown",
   "metadata": {},
   "source": [
    "You should get something similar to this for each waypoint executed. Bare in mind that because you move the robot around, it will probably first do a recovery behaviour to clean up all the false obstacles generated through changing the estimate pose:"
   ]
  },
  {
   "cell_type": "markdown",
   "metadata": {},
   "source": [
    "<img src=\"img/tiago_waypoints2.gif\" width=\"600\"></img>"
   ]
  },
  {
   "cell_type": "markdown",
   "metadata": {},
   "source": [
    "As you can see, its a nice way to do it , but its a bit cumbersome and messy. Specially because it has to change the initial position of the robot which is not very desirable. This is because this waypoint manager listenes to the topic **/initialpose**. Th eproblem is that **amlc localiser** also. Thats why when changed, the robot localises itself also in another place.<br>\n",
    "So the next step is creating your own version. So you will part from the code that you just used that is installed in the system and is courtsesy of <a href=\"https://github.com/danielsnider\">Daniel Snider</a> ,who created the original Waypoints manager <a href=\"https://github.com/danielsnider/follow_waypoints\">Program</a>."
   ]
  },
  {
   "cell_type": "markdown",
   "metadata": {},
   "source": [
    "In order to avoid touching the **/initialpose**, the topic that the **follow_points** listens to, this has to be changed. Not only that put it has to be configurable. See here the final code:"
   ]
  },
  {
   "cell_type": "markdown",
   "metadata": {},
   "source": [
    "**custom_follow_waypoints.py**"
   ]
  },
  {
   "cell_type": "code",
   "execution_count": null,
   "metadata": {
    "collapsed": true
   },
   "outputs": [],
   "source": [
    "#!/usr/bin/env python\n",
    "\n",
    "import threading\n",
    "import rospy\n",
    "import actionlib\n",
    "\n",
    "from smach import State,StateMachine\n",
    "from move_base_msgs.msg import MoveBaseAction, MoveBaseGoal\n",
    "from geometry_msgs.msg import PoseWithCovarianceStamped, PoseArray\n",
    "from std_msgs.msg import Empty\n",
    "\n",
    "waypoints = []\n",
    "\n",
    "class FollowPath(State):\n",
    "    def __init__(self):\n",
    "        State.__init__(self, outcomes=['success'], input_keys=['waypoints'])\n",
    "        self.frame_id = rospy.get_param('~goal_frame_id','map')\n",
    "        # Get a move_base action client\n",
    "        self.client = actionlib.SimpleActionClient('move_base', MoveBaseAction)\n",
    "        rospy.loginfo('Connecting to move_base...')\n",
    "        self.client.wait_for_server()\n",
    "        rospy.loginfo('Connected to move_base.')\n",
    "\n",
    "    def execute(self, userdata):\n",
    "        global waypoints\n",
    "        # Execute waypoints each in sequence\n",
    "        for waypoint in waypoints:\n",
    "            # Break if preempted\n",
    "            if waypoints == []:\n",
    "                rospy.loginfo('The waypoint queue has been reset.')\n",
    "                break\n",
    "            # Otherwise publish next waypoint as goal\n",
    "            goal = MoveBaseGoal()\n",
    "            goal.target_pose.header.frame_id = self.frame_id\n",
    "            goal.target_pose.pose.position = waypoint.pose.pose.position\n",
    "            goal.target_pose.pose.orientation = waypoint.pose.pose.orientation\n",
    "            rospy.loginfo('Executing move_base goal to position (x,y): %s, %s' %\n",
    "                    (waypoint.pose.pose.position.x, waypoint.pose.pose.position.y))\n",
    "            rospy.loginfo(\"To cancel the goal: 'rostopic pub -1 /move_base/cancel actionlib_msgs/GoalID -- {}'\")\n",
    "            self.client.send_goal(goal)\n",
    "            self.client.wait_for_result()\n",
    "        return 'success'\n",
    "\n",
    "def convert_PoseWithCovArray_to_PoseArray(waypoints):\n",
    "    \"\"\"Used to publish waypoints as pose array so that you can see them in rviz, etc.\"\"\"\n",
    "    poses = PoseArray()\n",
    "    poses.header.frame_id = 'map'\n",
    "    poses.poses = [pose.pose.pose for pose in waypoints]\n",
    "    return poses\n",
    "\n",
    "class GetPath(State):\n",
    "    def __init__(self):\n",
    "        State.__init__(self, outcomes=['success'], input_keys=['waypoints'], output_keys=['waypoints'])\n",
    "        # Create publsher to publish waypoints as pose array so that you can see them in rviz, etc.\n",
    "        self.poseArray_publisher = rospy.Publisher('/waypoints', PoseArray, queue_size=1)\n",
    "        self._custom_waypointstopic = rospy.get_param('~custom_waypointstopic','/my_waypoints_list')\n",
    "        # Start thread to listen for reset messages to clear the waypoint queue\n",
    "        def wait_for_path_reset():\n",
    "            \"\"\"thread worker function\"\"\"\n",
    "            global waypoints\n",
    "            while not rospy.is_shutdown():\n",
    "                data = rospy.wait_for_message('/path_reset', Empty)\n",
    "                rospy.loginfo('Recieved path RESET message')\n",
    "                self.initialize_path_queue()\n",
    "                rospy.sleep(3) # Wait 3 seconds because `rostopic echo` latches\n",
    "                               # for three seconds and wait_for_message() in a\n",
    "                               # loop will see it again.\n",
    "        reset_thread = threading.Thread(target=wait_for_path_reset)\n",
    "        reset_thread.start()\n",
    "\n",
    "    def initialize_path_queue(self):\n",
    "        global waypoints\n",
    "        waypoints = [] # the waypoint queue\n",
    "        # publish empty waypoint queue as pose array so that you can see them the change in rviz, etc.\n",
    "        self.poseArray_publisher.publish(convert_PoseWithCovArray_to_PoseArray(waypoints))\n",
    "\n",
    "    def execute(self, userdata):\n",
    "        global waypoints\n",
    "        self.initialize_path_queue()\n",
    "        self.path_ready = False\n",
    "\n",
    "        # Start thread to listen for when the path is ready (this function will end then)\n",
    "        def wait_for_path_ready():\n",
    "            \"\"\"thread worker function\"\"\"\n",
    "            data = rospy.wait_for_message('/path_ready', Empty)\n",
    "            rospy.loginfo('Recieved path READY message')\n",
    "            self.path_ready = True\n",
    "        ready_thread = threading.Thread(target=wait_for_path_ready)\n",
    "        ready_thread.start()\n",
    "\n",
    "        topic = self._custom_waypointstopic\n",
    "        rospy.loginfo(\"Waiting to recieve waypoints via Pose msg on topic %s\" % topic)\n",
    "        rospy.loginfo(\"To start following waypoints: 'rostopic pub /path_ready std_msgs/Empty -1'\")\n",
    "\n",
    "        # Wait for published waypoints\n",
    "        while not self.path_ready:\n",
    "            try:\n",
    "                pose = rospy.wait_for_message(topic, PoseWithCovarianceStamped, timeout=1)\n",
    "            except rospy.ROSException as e:\n",
    "                if 'timeout exceeded' in e.message:\n",
    "                    continue  # no new waypoint within timeout, looping...\n",
    "                else:\n",
    "                    raise e\n",
    "            rospy.loginfo(\"Recieved new waypoint\")\n",
    "            waypoints.append(pose)\n",
    "            # publish waypoint queue as pose array so that you can see them in rviz, etc.\n",
    "            self.poseArray_publisher.publish(convert_PoseWithCovArray_to_PoseArray(waypoints))\n",
    "\n",
    "        # Path is ready! return success and move on to the next state (FOLLOW_PATH)\n",
    "        return 'success'\n",
    "\n",
    "class PathComplete(State):\n",
    "    def __init__(self):\n",
    "        State.__init__(self, outcomes=['success'])\n",
    "\n",
    "    def execute(self, userdata):\n",
    "        rospy.loginfo('###############################')\n",
    "        rospy.loginfo('##### REACHED FINISH GATE #####')\n",
    "        rospy.loginfo('###############################')\n",
    "        return 'success'\n",
    "\n",
    "def main():\n",
    "    rospy.init_node('custom_follow_waypoints')\n",
    "\n",
    "    sm = StateMachine(outcomes=['success'])\n",
    "\n",
    "    with sm:\n",
    "        StateMachine.add('GET_PATH', GetPath(),\n",
    "                           transitions={'success':'FOLLOW_PATH'},\n",
    "                           remapping={'waypoints':'waypoints'})\n",
    "        StateMachine.add('FOLLOW_PATH', FollowPath(),\n",
    "                           transitions={'success':'PATH_COMPLETE'},\n",
    "                           remapping={'waypoints':'waypoints'})\n",
    "        StateMachine.add('PATH_COMPLETE', PathComplete(),\n",
    "                           transitions={'success':'GET_PATH'})\n",
    "\n",
    "    outcome = sm.execute()\n",
    "\n",
    "if __name__ == \"__main__\":\n",
    "    main()"
   ]
  },
  {
   "cell_type": "markdown",
   "metadata": {},
   "source": [
    "The new topic is retrived through a parameter setting."
   ]
  },
  {
   "cell_type": "code",
   "execution_count": null,
   "metadata": {
    "collapsed": true
   },
   "outputs": [],
   "source": [
    "self._custom_waypointstopic = rospy.get_param('~custom_waypointstopic','/my_waypoints_list')"
   ]
  },
  {
   "cell_type": "markdown",
   "metadata": {},
   "source": [
    "This means that when this node is launched, it will have to be set this parameter if we don't want it to have its default value **/my_waypoints_list**.<br>\n",
    "Here you have an example of how it should be launched:"
   ]
  },
  {
   "cell_type": "markdown",
   "metadata": {},
   "source": [
    "**start_follow_waypoints.launch**"
   ]
  },
  {
   "cell_type": "code",
   "execution_count": null,
   "metadata": {
    "collapsed": true
   },
   "outputs": [],
   "source": [
    "<launch>\n",
    "    <env name=\"ROSCONSOLE_FORMAT\" value=\"[${severity}][${thread}][${node}/${function}:${line}]: ${message}\"/>\n",
    "     <arg name=\"waypoints_topic\" default=\"/my_tiago_waypoints\"/>\n",
    "    \n",
    "    <node pkg=\"tiago_navigation\" type=\"custom_follow_waypoints.py\" name=\"custom_follow_waypoints\" output=\"screen\" clear_params=\"true\">\n",
    "        <param name=\"goal_frame_id\" value=\"map\"/>\n",
    "        <param name=\"custom_waypointstopic\" value=\"$(arg waypoints_topic)\"/>\n",
    "    </node>\n",
    "\n",
    "</launch>"
   ]
  },
  {
   "cell_type": "markdown",
   "metadata": {},
   "source": [
    "Lets comment on various elements here:"
   ]
  },
  {
   "cell_type": "code",
   "execution_count": null,
   "metadata": {
    "collapsed": true
   },
   "outputs": [],
   "source": [
    "<env name=\"ROSCONSOLE_FORMAT\" value=\"[${severity}][${thread}][${node}/${function}:${line}]: ${message}\"/>"
   ]
  },
  {
   "cell_type": "markdown",
   "metadata": {},
   "source": [
    "This line changes the way the logs are shown, in this case it will show which node, function and line in the code is that log executed."
   ]
  },
  {
   "cell_type": "code",
   "execution_count": null,
   "metadata": {
    "collapsed": true
   },
   "outputs": [],
   "source": [
    "<arg name=\"waypoints_topic\" default=\"/my_tiago_waypoints\"/>"
   ]
  },
  {
   "cell_type": "markdown",
   "metadata": {},
   "source": [
    "Here you state which topic where you will have to publish the waypoint."
   ]
  },
  {
   "cell_type": "code",
   "execution_count": null,
   "metadata": {
    "collapsed": true
   },
   "outputs": [],
   "source": [
    "<param name=\"goal_frame_id\" value=\"map\"/>\n",
    "<param name=\"custom_waypointstopic\" value=\"$(arg waypoints_topic)\"/>"
   ]
  },
  {
   "cell_type": "markdown",
   "metadata": {},
   "source": [
    "Here you state which is the frame and the topic params values."
   ]
  },
  {
   "cell_type": "markdown",
   "metadata": {},
   "source": [
    "<p style=\"background:#EE9023;color:white;\">Exercise 2.5</p>"
   ]
  },
  {
   "cell_type": "markdown",
   "metadata": {},
   "source": [
    "Now create a python script that generates those waypoints and when finished executes the moving system to follow those waypoints.<br>\n",
    "To do so, you will need to publish directly into the topic **/my_tiago_waypoints** or the value that you stated in tha launch file **start_follow_waypoints.launch**.<br>\n",
    "Then you will have to publish to start in the topic **/path_ready**.<br>\n",
    "Tasks:\n",
    "* Make it generate circular paths\n",
    "* Eight shaped paths"
   ]
  },
  {
   "cell_type": "markdown",
   "metadata": {},
   "source": [
    "<p style=\"background:#EE9023;color:white;\">Exercise 2.5</p>"
   ]
  },
  {
   "cell_type": "markdown",
   "metadata": {},
   "source": [
    "<p style=\"background:green;color:white;\">Solution Exercise 2.5</p>"
   ]
  },
  {
   "cell_type": "markdown",
   "metadata": {},
   "source": [
    "Please Try to do it by yourself unless you get stuck or need some inspiration. You will learn much more if you fight for each exercise."
   ]
  },
  {
   "cell_type": "markdown",
   "metadata": {},
   "source": [
    "<img src=\"img/robotignite_logo_text.png\" width=\"600\" />"
   ]
  },
  {
   "cell_type": "markdown",
   "metadata": {},
   "source": [
    "Here you have an example of a publisher that generates a straight line waypoint path and executes it."
   ]
  },
  {
   "cell_type": "markdown",
   "metadata": {},
   "source": [
    "**waypoint_publisher.py**"
   ]
  },
  {
   "cell_type": "code",
   "execution_count": null,
   "metadata": {
    "collapsed": true
   },
   "outputs": [],
   "source": [
    "#!/usr/bin/env python\n",
    "# license removed for brevity\n",
    "import rospy\n",
    "from std_msgs.msg import String\n",
    "from geometry_msgs.msg import PoseWithCovarianceStamped\n",
    "import time\n",
    "import tf\n",
    "from std_msgs.msg import Empty\n",
    "\n",
    "\"\"\"\n",
    "user:~$ rosmsg show geometry_msgs/PoseWithCovarianceStamped                                                                                                               \n",
    "std_msgs/Header header                                                                                                                                                    \n",
    "  uint32 seq                                                                                                                                                              \n",
    "  time stamp                                                                                                                                                              \n",
    "  string frame_id                                                                                                                                                         \n",
    "geometry_msgs/PoseWithCovariance pose                                                                                                                                     \n",
    "  geometry_msgs/Pose pose                                                                                                                                                 \n",
    "    geometry_msgs/Point position                                                                                                                                          \n",
    "      float64 x                                                                                                                                                           \n",
    "      float64 y                                                                                                                                                           \n",
    "      float64 z                                                                                                                                                           \n",
    "    geometry_msgs/Quaternion orientation                                                                                                                                  \n",
    "      float64 x                                                                                                                                                           \n",
    "      float64 y                                                                                                                                                           \n",
    "      float64 z                                                                                                                                                           \n",
    "      float64 w                                                                                                                                                           \n",
    "  float64[36] covariance \n",
    "\"\"\"\n",
    "\n",
    "def talker():\n",
    "    pub_wp = rospy.Publisher('/my_tiago_waypoints', PoseWithCovarianceStamped, queue_size=1)\n",
    "    \n",
    "    pub_init_wp = rospy.Publisher('/path_ready', Empty, queue_size=1)\n",
    "    \n",
    "    rospy.init_node('waypoint_publisher', anonymous=True)\n",
    "    rate = rospy.Rate(10) # 10hz\n",
    "    \n",
    "    my_wp = PoseWithCovarianceStamped()\n",
    "    my_wp.header.stamp = rospy.Time.now()\n",
    "    my_wp.header.frame_id = \"/map\"\n",
    "    \n",
    "    \n",
    "    init_value = 2.0\n",
    "    \n",
    "    roll = 0\n",
    "    pitch = 0\n",
    "    yaw = 0.7\n",
    "    quaternion = tf.transformations.quaternion_from_euler(roll, pitch, yaw)\n",
    "    #type(pose) = geometry_msgs.msg.Pose\n",
    "    my_wp.pose.pose.orientation.x = quaternion[0]\n",
    "    my_wp.pose.pose.orientation.y = quaternion[1]\n",
    "    my_wp.pose.pose.orientation.z = quaternion[2]\n",
    "    my_wp.pose.pose.orientation.w = quaternion[3]\n",
    "\n",
    "\n",
    "    for i in range(5):\n",
    "        rospy.loginfo(str(i))\n",
    "        my_wp.pose.pose.position.x = float(i) + init_value \n",
    "        my_wp.pose.pose.position.y = float(i) + init_value\n",
    "        \n",
    "        while not rospy.is_shutdown():\n",
    "            connections = pub_wp.get_num_connections()\n",
    "            if connections > 0:\n",
    "                pub_wp.publish(my_wp)\n",
    "                break\n",
    "            rospy.loginfo(\"Waiting for /my_tiago_waypoints topic\")\n",
    "            rate.sleep()\n",
    "        rospy.loginfo(\"Published waypoint number =\"+str(i))\n",
    "        time.sleep(2)\n",
    "    \n",
    "    start_command = Empty()\n",
    "    \n",
    "    while not rospy.is_shutdown():\n",
    "            connections = pub_init_wp.get_num_connections()\n",
    "            if connections > 0:\n",
    "                pub_init_wp.publish(start_command)\n",
    "                rospy.loginfo(\"Sent waypoint list execution command\")\n",
    "                break\n",
    "            rospy.loginfo(\"Waiting for /path_ready topic\")\n",
    "            rate.sleep()\n",
    "\n",
    "\n",
    "if __name__ == '__main__':\n",
    "    try:\n",
    "        talker()\n",
    "    except rospy.ROSInterruptException:\n",
    "        pass"
   ]
  },
  {
   "cell_type": "markdown",
   "metadata": {},
   "source": [
    "## Congratulations! You now know how to perform Navigation with TIAGo!"
   ]
  }
 ],
 "metadata": {
  "anaconda-cloud": {},
  "kernelspec": {
   "display_name": "Python [Root]",
   "language": "python",
   "name": "Python [Root]"
  },
  "language_info": {
   "codemirror_mode": {
    "name": "ipython",
    "version": 2
   },
   "file_extension": ".py",
   "mimetype": "text/x-python",
   "name": "python",
   "nbconvert_exporter": "python",
   "pygments_lexer": "ipython2",
   "version": "2.7.12"
  },
  "latex_metadata": {
   "chapter": "6 - Course Project",
   "chapter_title": "Chapter 6. Course Project",
   "course_title": "ROS NAVIGATION IN 5 DAYS"
  }
 },
 "nbformat": 4,
 "nbformat_minor": 0
}
