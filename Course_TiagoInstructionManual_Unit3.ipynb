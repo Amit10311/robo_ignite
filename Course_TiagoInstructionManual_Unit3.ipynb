{
 "cells": [
  {
   "cell_type": "markdown",
   "metadata": {},
   "source": [
    "# Mastering with ROS: TIAGo"
   ]
  },
  {
   "cell_type": "markdown",
   "metadata": {},
   "source": [
    "<img src=\"img/pal-logo.png\" width=\"400\" />"
   ]
  },
  {
   "cell_type": "markdown",
   "metadata": {},
   "source": [
    "<img src=\"img/tiago.png\" width=\"400\"/>"
   ]
  },
  {
   "cell_type": "markdown",
   "metadata": {},
   "source": [
    "<img src=\"img/robotignite_logo_text.png\" width=\"400\"/>"
   ]
  },
  {
   "cell_type": "markdown",
   "metadata": {},
   "source": [
    "## Unit 3: Motion Planning with MoveIt! Part 1"
   ]
  },
  {
   "cell_type": "markdown",
   "metadata": {},
   "source": [
    "<p style=\"background:green;color:white;\">SUMMARY</p>"
   ]
  },
  {
   "cell_type": "markdown",
   "metadata": {},
   "source": [
    "Estimated time of completion: **1h**"
   ]
  },
  {
   "cell_type": "markdown",
   "metadata": {},
   "source": [
    "In the following Unit you are going to check different way of performing Motion Planning with TIAGo using MoveIt:\n",
    "\n",
    "* Planning in joint space\n",
    "* Planning in cartesian space"
   ]
  },
  {
   "cell_type": "markdown",
   "metadata": {},
   "source": [
    "<p style=\"background:green;color:white;\">END OF SUMMARY</p>"
   ]
  },
  {
   "cell_type": "markdown",
   "metadata": {},
   "source": [
    "## Planning in joint space"
   ]
  },
  {
   "cell_type": "markdown",
   "metadata": {},
   "source": [
    "In this first section of the chapter,you are going to see how to use MoveIt! in order to bring the torso-arm group of joints of TIAGo to a desired joint space configuration, ensuring joint limit avoidance and self-collision avoidance."
   ]
  },
  {
   "cell_type": "markdown",
   "metadata": {},
   "source": [
    "In the following exercise, you are going to run an example that will bring TIAGO to the following joint space configuration of the torso-arm group:"
   ]
  },
  {
   "cell_type": "code",
   "execution_count": null,
   "metadata": {
    "collapsed": true
   },
   "outputs": [],
   "source": [
    "torso_joint: 0\n",
    "arm_1_joint: 3.1\n",
    "arm_2_joint: 0.2\n",
    "arm_3_joint: -2.1\n",
    "arm_4_joint: 2.0\n",
    "arm_5_joint: 1.0\n",
    "arm_6_joint:-0.8\n",
    "arm_7_joint: 0"
   ]
  },
  {
   "cell_type": "markdown",
   "metadata": {},
   "source": [
    "Note that if we try to set the above kinematic configuration moving individual joints we will end up probably in a self-collision. The node that will take care to find a plan, i.e. a sequence of movements, to reach such a kinematic configuration is **plan_arm_torso_fk**, included in **tiago_moveit_tutorial** package."
   ]
  },
  {
   "cell_type": "markdown",
   "metadata": {},
   "source": [
    "<p style=\"background:#EE9023;color:white;\">Exercise 3.1</p>"
   ]
  },
  {
   "cell_type": "markdown",
   "metadata": {},
   "source": [
    "a) Execute the following command in order to start the Motion Planning."
   ]
  },
  {
   "cell_type": "markdown",
   "metadata": {},
   "source": [
    "<table style=\"float:left;background: #407EAF\">\n",
    "<tr>\n",
    "<th>\n",
    "<p class=\"transparent\">Execute in WebShell #1</p>\n",
    "</th>\n",
    "</tr>\n",
    "</table>"
   ]
  },
  {
   "cell_type": "code",
   "execution_count": null,
   "metadata": {
    "collapsed": true
   },
   "outputs": [],
   "source": [
    "rosrun tiago_moveit_tutorial plan_arm_torso_fk  0 3.1 0.2 -2.1 2.0 1.0 -0.8 0"
   ]
  },
  {
   "cell_type": "markdown",
   "metadata": {},
   "source": [
    "<img src=\"img/tiago_moveit1.gif\" width=\"600\" />"
   ]
  },
  {
   "cell_type": "markdown",
   "metadata": {},
   "source": [
    "<p style=\"background:#EE9023;color:white;\">End of Exercise 3.1</p>"
   ]
  },
  {
   "cell_type": "markdown",
   "metadata": {},
   "source": [
    "Great! So now, you have already created a full map of the environment. So now what? Well, now it's time to save this map, so you can use it in the Pat Planning system!"
   ]
  },
  {
   "cell_type": "markdown",
   "metadata": {},
   "source": [
    "### Inspecting the code"
   ]
  },
  {
   "cell_type": "markdown",
   "metadata": {},
   "source": [
    "The code to implement such a node able to plan in joint space is shown below:"
   ]
  },
  {
   "cell_type": "markdown",
   "metadata": {},
   "source": [
    "**plan_arm_torso_fk.cpp**"
   ]
  },
  {
   "cell_type": "code",
   "execution_count": null,
   "metadata": {
    "collapsed": true
   },
   "outputs": [],
   "source": [
    "// ROS headers\n",
    "#include <ros/ros.h>\n",
    "\n",
    "// MoveIt! headers\n",
    "#include <moveit/move_group_interface/move_group.h>\n",
    "\n",
    "// Std C++ headers\n",
    "#include <string>\n",
    "#include <vector>\n",
    "#include <map>\n",
    "\n",
    "int main(int argc, char** argv)\n",
    "{\n",
    "  ros::init(argc, argv, \"plan_arm_torso_fk\");\n",
    "\n",
    "  if ( argc < 9 )\n",
    "  {\n",
    "    ROS_INFO(\" \");\n",
    "    ROS_INFO(\"\\tUsage:\");\n",
    "    ROS_INFO(\" \");\n",
    "    ROS_INFO(\"\\trosrun tiago_moveit_tutorial plan_arm_torso_fk torso_lift arm_1 arm_2 arm_3 arm_4 arm_5 arm_6 arm_7\");\n",
    "    ROS_INFO(\" \");\n",
    "    ROS_INFO(\"\\twhere the list of arguments are the target values for the given joints\");\n",
    "    ROS_INFO(\" \");\n",
    "    return EXIT_FAILURE;\n",
    "  }\n",
    "\n",
    "  std::map<std::string, double> target_position;\n",
    "\n",
    "  target_position[\"torso_lift_joint\"] = atof(argv[1]);\n",
    "  target_position[\"arm_1_joint\"] = atof(argv[2]);\n",
    "  target_position[\"arm_2_joint\"] = atof(argv[3]);\n",
    "  target_position[\"arm_3_joint\"] = atof(argv[4]);\n",
    "  target_position[\"arm_4_joint\"] = atof(argv[5]);\n",
    "  target_position[\"arm_5_joint\"] = atof(argv[6]);\n",
    "  target_position[\"arm_6_joint\"] = atof(argv[7]);\n",
    "  target_position[\"arm_7_joint\"] = atof(argv[8]);\n",
    "\n",
    "  ros::NodeHandle nh;\n",
    "  ros::AsyncSpinner spinner(1);\n",
    "  spinner.start();\n",
    "\n",
    "  std::vector<std::string> torso_arm_joint_names;\n",
    "  //select group of joints\n",
    "  moveit::planning_interface::MoveGroup group_arm_torso(\"arm_torso\");\n",
    "  //choose your preferred planner\n",
    "  group_arm_torso.setPlannerId(\"SBLkConfigDefault\");\n",
    "\n",
    "  torso_arm_joint_names = group_arm_torso.getJoints();\n",
    "\n",
    "  group_arm_torso.setStartStateToCurrentState();\n",
    "  group_arm_torso.setMaxVelocityScalingFactor(1.0);\n",
    "\n",
    "  for (unsigned int i = 0; i < torso_arm_joint_names.size(); ++i)\n",
    "    if ( target_position.count(torso_arm_joint_names[i]) > 0 )\n",
    "    {\n",
    "      ROS_INFO_STREAM(\"\\t\" << torso_arm_joint_names[i] << \" goal position: \" << target_position[torso_arm_joint_names[i]]);\n",
    "      group_arm_torso.setJointValueTarget(torso_arm_joint_names[i], target_position[torso_arm_joint_names[i]]);\n",
    "    }\n",
    "\n",
    "  moveit::planning_interface::MoveGroup::Plan my_plan;\n",
    "  group_arm_torso.setPlanningTime(5.0);\n",
    "  bool success = group_arm_torso.plan(my_plan);\n",
    "\n",
    "  if ( !success )\n",
    "    throw std::runtime_error(\"No plan found\");\n",
    "\n",
    "  ROS_INFO_STREAM(\"Plan found in \" << my_plan.planning_time_ << \" seconds\");\n",
    "\n",
    "  // Execute the plan\n",
    "  ros::Time start = ros::Time::now();\n",
    "\n",
    "  group_arm_torso.move();\n",
    "\n",
    "  ROS_INFO_STREAM(\"Motion duration: \" << (ros::Time::now() - start).toSec());\n",
    "\n",
    "  spinner.stop();\n",
    "\n",
    "  return EXIT_SUCCESS;\n",
    "}"
   ]
  },
  {
   "cell_type": "markdown",
   "metadata": {},
   "source": [
    "Basically, the key parts of the code are:\n",
    "\n",
    "* Choose a group of joints\n",
    "* Choose a planner\n",
    "* Set initial and desired joint state\n",
    "* Give time to find a plan\n",
    "* Execute the plan if found"
   ]
  },
  {
   "cell_type": "markdown",
   "metadata": {},
   "source": [
    "Note that when a plan is found and is executed with the following line of code"
   ]
  },
  {
   "cell_type": "code",
   "execution_count": null,
   "metadata": {
    "collapsed": true
   },
   "outputs": [],
   "source": [
    "group_arm_torso.move();"
   ]
  },
  {
   "cell_type": "markdown",
   "metadata": {},
   "source": [
    "The required control commands are sent to the arm and torso controllers through their Action interfaces:"
   ]
  },
  {
   "cell_type": "code",
   "execution_count": null,
   "metadata": {
    "collapsed": true
   },
   "outputs": [],
   "source": [
    "/arm_controller/follow_joint_trajectory/goal\n",
    "/torso_controller/follow_joint_trajectory/goal"
   ]
  },
  {
   "cell_type": "markdown",
   "metadata": {},
   "source": [
    "## Planning in cartesian space"
   ]
  },
  {
   "cell_type": "markdown",
   "metadata": {},
   "source": [
    "In this section, you are going to see how to use MoveIt! in order to move the end-effector frame of TIAGo to a desired pose in cartesian space. An example is given in C++."
   ]
  },
  {
   "cell_type": "markdown",
   "metadata": {},
   "source": [
    "In the following exercise, you are going to run an example that will bring TIAGo's end-effector frame, i.e. arm_tool_link, to the following cartesian space configuration with respect to /base_footprint:"
   ]
  },
  {
   "cell_type": "code",
   "execution_count": null,
   "metadata": {
    "collapsed": true
   },
   "outputs": [],
   "source": [
    "x: 0.4\n",
    "y: -0.3\n",
    "z: 0.26\n",
    "Roll: -0.011\n",
    "Pitch: 1.57\n",
    "Yaw: 0.037"
   ]
  },
  {
   "cell_type": "markdown",
   "metadata": {},
   "source": [
    "which corresponds to the following pose as shown in rviz:"
   ]
  },
  {
   "cell_type": "markdown",
   "metadata": {},
   "source": [
    "<img src=\"img/tiago_goal_pose_planning_ik.jpg\" width=\"400\" />"
   ]
  },
  {
   "cell_type": "markdown",
   "metadata": {},
   "source": [
    "In order to safely reach such a cartesian goal, you will use the node **plan_arm_torso_ik**, included in **tiago_moveit_tutorial** package."
   ]
  },
  {
   "cell_type": "markdown",
   "metadata": {},
   "source": [
    "<p style=\"background:#EE9023;color:white;\">**Exercise 3.2**</p>"
   ]
  },
  {
   "cell_type": "markdown",
   "metadata": {},
   "source": [
    "a) Execute the following command in order to start the Motion Planning."
   ]
  },
  {
   "cell_type": "markdown",
   "metadata": {},
   "source": [
    "<table style=\"float:left;background: #407EAF\">\n",
    "<tr>\n",
    "<th>\n",
    "<p class=\"transparent\">Execute in WebShell #3</p>\n",
    "</th>\n",
    "</tr>\n",
    "</table>"
   ]
  },
  {
   "cell_type": "code",
   "execution_count": null,
   "metadata": {
    "collapsed": true
   },
   "outputs": [],
   "source": [
    "rosrun tiago_moveit_tutorial plan_arm_torso_ik 0.4 -0.3 0.26 -0.011, 1.57, 0.037"
   ]
  },
  {
   "cell_type": "markdown",
   "metadata": {},
   "source": [
    "You should see something like this:"
   ]
  },
  {
   "cell_type": "markdown",
   "metadata": {},
   "source": [
    "<img src=\"img/tiago_moveit2.gif\" width=\"600\" />"
   ]
  },
  {
   "cell_type": "markdown",
   "metadata": {},
   "source": [
    "Note that the final pose of /arm_tool_link is the desired one:"
   ]
  },
  {
   "cell_type": "markdown",
   "metadata": {},
   "source": [
    "<img src=\"img/mani_links.png\" width=\"600\" />"
   ]
  },
  {
   "cell_type": "markdown",
   "metadata": {},
   "source": [
    "<p style=\"background:#EE9023;color:white;\">**End of Exercise 3.2**</p>"
   ]
  },
  {
   "cell_type": "markdown",
   "metadata": {},
   "source": [
    "### Inspecting the code"
   ]
  },
  {
   "cell_type": "markdown",
   "metadata": {},
   "source": [
    "The code to implement such a node able to plan in cartesian space is shown below:"
   ]
  },
  {
   "cell_type": "markdown",
   "metadata": {},
   "source": [
    "**plan_arm_torso_ik.cpp**"
   ]
  },
  {
   "cell_type": "code",
   "execution_count": null,
   "metadata": {
    "collapsed": true
   },
   "outputs": [],
   "source": [
    "// ROS headers\n",
    "#include <ros/ros.h>\n",
    "\n",
    "// MoveIt! headers\n",
    "#include <moveit/move_group_interface/move_group.h>\n",
    "\n",
    "// Std C++ headers\n",
    "#include <string>\n",
    "#include <vector>\n",
    "#include <map>\n",
    "\n",
    "int main(int argc, char** argv)\n",
    "{\n",
    "  ros::init(argc, argv, \"plan_arm_torso_ik\");\n",
    "\n",
    "  if ( argc < 7 )\n",
    "  {\n",
    "    ROS_INFO(\" \");\n",
    "    ROS_INFO(\"\\tUsage:\");\n",
    "    ROS_INFO(\" \");\n",
    "    ROS_INFO(\"\\trosrun tiago_moveit_tutorial plan_arm_torso_ik  x y z  r p y\");\n",
    "    ROS_INFO(\" \");\n",
    "    ROS_INFO(\"\\twhere the list of arguments specify the target pose of /arm_tool_link expressed in /base_footprint\");\n",
    "    ROS_INFO(\" \");\n",
    "    return EXIT_FAILURE;\n",
    "  }\n",
    "\n",
    "  geometry_msgs::PoseStamped goal_pose;\n",
    "  goal_pose.header.frame_id = \"base_footprint\";\n",
    "  goal_pose.pose.position.x = atof(argv[1]);\n",
    "  goal_pose.pose.position.y = atof(argv[2]);\n",
    "  goal_pose.pose.position.z = atof(argv[3]);\n",
    "  goal_pose.pose.orientation = tf::createQuaternionMsgFromRollPitchYaw(atof(argv[4]), atof(argv[5]), atof(argv[6]));\n",
    "\n",
    "  ros::NodeHandle nh;\n",
    "  ros::AsyncSpinner spinner(1);\n",
    "  spinner.start();\n",
    "\n",
    "  std::vector<std::string> torso_arm_joint_names;\n",
    "  //select group of joints\n",
    "  moveit::planning_interface::MoveGroup group_arm_torso(\"arm_torso\");\n",
    "  //choose your preferred planner\n",
    "  group_arm_torso.setPlannerId(\"SBLkConfigDefault\");\n",
    "  group_arm_torso.setPoseReferenceFrame(\"base_footprint\");\n",
    "  group_arm_torso.setPoseTarget(goal_pose);\n",
    "\n",
    "  ROS_INFO_STREAM(\"Planning to move \" <<\n",
    "                  group_arm_torso.getEndEffectorLink() << \" to a target pose expressed in \" <<\n",
    "                  group_arm_torso.getPlanningFrame());\n",
    "\n",
    "  group_arm_torso.setStartStateToCurrentState();\n",
    "  group_arm_torso.setMaxVelocityScalingFactor(1.0);\n",
    "\n",
    "\n",
    "  moveit::planning_interface::MoveGroup::Plan my_plan;\n",
    "  //set maximum time to find a plan\n",
    "  group_arm_torso.setPlanningTime(5.0);\n",
    "  bool success = group_arm_torso.plan(my_plan);\n",
    "\n",
    "  if ( !success )\n",
    "    throw std::runtime_error(\"No plan found\");\n",
    "\n",
    "  ROS_INFO_STREAM(\"Plan found in \" << my_plan.planning_time_ << \" seconds\");\n",
    "\n",
    "  // Execute the plan\n",
    "  ros::Time start = ros::Time::now();\n",
    "\n",
    "  group_arm_torso.move();\n",
    "\n",
    "  ROS_INFO_STREAM(\"Motion duration: \" << (ros::Time::now() - start).toSec());\n",
    "\n",
    "  spinner.stop();\n",
    "\n",
    "  return EXIT_SUCCESS;\n",
    "}"
   ]
  },
  {
   "cell_type": "markdown",
   "metadata": {},
   "source": [
    "Note that the key parts of the code are:\n",
    "\n",
    "* Choose a group of joints\n",
    "* Choose a planner and define the reference frame, i.e. /base_footprint in this case\n",
    "* Set desired pose of /arm_tool_link encoded in a geometry_msgs::PoseStamped\n",
    "* Give time to find a plan\n",
    "* Execute the plan if found"
   ]
  },
  {
   "cell_type": "markdown",
   "metadata": {},
   "source": [
    "Note that when a plan is found and is executed with the following line of code"
   ]
  },
  {
   "cell_type": "code",
   "execution_count": null,
   "metadata": {
    "collapsed": true
   },
   "outputs": [],
   "source": [
    "group_arm_torso.move();"
   ]
  },
  {
   "cell_type": "markdown",
   "metadata": {},
   "source": [
    "The required control commands are sent to the arm and torso controllers through their Action interfaces:"
   ]
  },
  {
   "cell_type": "code",
   "execution_count": null,
   "metadata": {
    "collapsed": true
   },
   "outputs": [],
   "source": [
    "/arm_controller/follow_joint_trajectory/goal\n",
    "/torso_controller/follow_joint_trajectory/goal"
   ]
  }
 ],
 "metadata": {
  "anaconda-cloud": {},
  "kernelspec": {
   "display_name": "Python [Root]",
   "language": "python",
   "name": "Python [Root]"
  },
  "language_info": {
   "codemirror_mode": {
    "name": "ipython",
    "version": 2
   },
   "file_extension": ".py",
   "mimetype": "text/x-python",
   "name": "python",
   "nbconvert_exporter": "python",
   "pygments_lexer": "ipython2",
   "version": "2.7.12"
  },
  "latex_metadata": {
   "chapter": "6 - Course Project",
   "chapter_title": "Chapter 6. Course Project",
   "course_title": "ROS NAVIGATION IN 5 DAYS"
  }
 },
 "nbformat": 4,
 "nbformat_minor": 0
}
