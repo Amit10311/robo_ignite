{
 "cells": [
  {
   "cell_type": "markdown",
   "metadata": {},
   "source": [
    "# Microproject: Create your own Jibo"
   ]
  },
  {
   "cell_type": "markdown",
   "metadata": {},
   "source": [
    "<img src=\"img/jibo.png\" />"
   ]
  },
  {
   "cell_type": "markdown",
   "metadata": {},
   "source": [
    "Now that you have mastered the art of creating URDF models, here is a tiny microproject.<br>\n",
    "It consists of creating a RobotModel of a JIBO robot.<br>\n",
    "You will only have the dae models.<br>"
   ]
  },
  {
   "cell_type": "raw",
   "metadata": {},
   "source": [
    "roscd jibo_description \n",
    "cp ./models/jibo/meshes/jibo_final_parts_base_v3.dae /home/user/catkin_ws/src/\n",
    "cp ./models/jibo/meshes/jibo_final_parts_waist_v3.dae /home/user/catkin_ws/src/\n",
    "cp ./models/jibo/meshes/jibo_final_parts_body_v3.dae /home/user/catkin_ws/src/\n",
    "cp ./models/jibo/meshes/jibo_final_parts_head_v5.dae /home/user/catkin_ws/src/"
   ]
  },
  {
   "cell_type": "markdown",
   "metadata": {},
   "source": [
    "The rest of the data will have to come from you.<br>\n",
    "So, you will have to decide: the positions and orientation, the collision geometries, the effort limits, the weight, the inertias, the number of actuators, the number of sensors and where to put them, the PID values, and so on. "
   ]
  },
  {
   "cell_type": "markdown",
   "metadata": {},
   "source": [
    "Once you have created the URDF model and it is correctly controlled, you have these tasks to choose from (or you can do them all if you want to learn more):\n",
    "<ul>\n",
    "    <li>\n",
    "    Add the necessary sensors to be able to use the face_detector package http://wiki.ros.org/face_detector. Then, create a launch file that does face tracking and moved Jibo's body accordingly to follow the face.\n",
    "    </li>\n",
    "    <li>Add some wheels to Jibo and navigate around.</li>\n",
    "    <li>Try to add some light to Jibo to mimic its screen as an expression, based on the following: https://bitbucket.org/osrf/gazebo/pull-requests/2647/add-plugin-for-attaching-lights-to-links/diff</li>\n",
    "</ul>"
   ]
  },
  {
   "cell_type": "markdown",
   "metadata": {},
   "source": [
    "## Good luck and have fun. We would be delighted to receive the different projects and solutions that you come up with."
   ]
  }
 ],
 "metadata": {
  "kernelspec": {
   "display_name": "Python 3",
   "language": "python",
   "name": "python3"
  },
  "language_info": {
   "codemirror_mode": {
    "name": "ipython",
    "version": 3
   },
   "file_extension": ".py",
   "mimetype": "text/x-python",
   "name": "python",
   "nbconvert_exporter": "python",
   "pygments_lexer": "ipython3",
   "version": "3.6.1"
  }
 },
 "nbformat": 4,
 "nbformat_minor": 1
}
