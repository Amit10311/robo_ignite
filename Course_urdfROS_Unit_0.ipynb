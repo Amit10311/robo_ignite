{
 "cells": [
  {
   "cell_type": "markdown",
   "metadata": {},
   "source": [
    "# Unit 1: URDF Intro"
   ]
  },
  {
   "cell_type": "markdown",
   "metadata": {},
   "source": [
    "<img src=\"img/demo_intro.png\"/>"
   ]
  },
  {
   "cell_type": "markdown",
   "metadata": {},
   "source": [
    "Here you have three simulated robots:<br>\n",
    "<ul>\n",
    "<li>\n",
    "<a href=\"https://www.jibo.com/\">JIBO</a>: This is a real robot created by <a href=\"http://cynthiabreazeal.media.mit.edu/\">Cynthia Breazeal</a> and her Team. It's a social robot with 3 main movement axis. You are going to learn how to create its simulation in this course.<br>\n",
    "<img src=\"img/jibo_name.png\"/>\n",
    "</li>\n",
    "<li>\n",
    "Mira: The physical version of this very cute and tiny robot was created by \n",
    "<a href=\"https://twitter.com/alonsorobots\">Alonso Martinez,</a> a worker at <a href=\"https://www.pixar.com/#home-cars3\">Pixar</a>. It's designed to demonstrate that with very simple elements, you can give life to a robot, as only Pixar people know how. The physical version can play Peekaboo with humans by using facial recognition through its single camera. It has a very ingenious roll, pitch, and yaw movement system. You will know how to create this simulation when you finish this course and do facial recognition with it, if you so desire.<br>\n",
    "<img src=\"img/mira_name.png\"/>\n",
    "</li>\n",
    "<li>Gurdy: Its physical version was also created by <a href=\"https://twitter.com/alonsorobots\">Alonso Martinez</a>. In this case, it's a movement study robot based on the bouncing ball animation exercise. This simulation has been changed from the original, giving more freedom to its three legs. You will learn how to create it and move it around, and also use its IMU.<br>\n",
    "<img src=\"img/gurdy_name.png\"/>\n",
    "</li>\n",
    "</ul>"
   ]
  },
  {
   "cell_type": "markdown",
   "metadata": {},
   "source": [
    "To make the three robots in the simulation move, just execute the following command in the WebShell:"
   ]
  },
  {
   "cell_type": "markdown",
   "metadata": {},
   "source": [
    "<table style=\"float:left;background: #407EAF\">\n",
    "<tr>\n",
    "<th>\n",
    "<p class=\"transparent\">Execute in WebShell #1</p> \n",
    "</th>\n",
    "</tr>\n",
    "</table>"
   ]
  },
  {
   "cell_type": "code",
   "execution_count": null,
   "metadata": {
    "collapsed": true
   },
   "outputs": [],
   "source": [
    "roslaunch urdf_demo_pkg start_robot_party.launch "
   ]
  },
  {
   "cell_type": "markdown",
   "metadata": {},
   "source": [
    "You should see something similar to this:"
   ]
  },
  {
   "cell_type": "markdown",
   "metadata": {},
   "source": [
    "<img src=\"img/party.gif\"/>"
   ]
  },
  {
   "cell_type": "markdown",
   "metadata": {},
   "source": [
    "Want to see the Jibo or Mira's camera? Just type the following in another WebShell and then select the camera topic in the graphical interface. Then, select **\"/jibo/jibo/camera1/image_raw\"** or **\"/mira/mira/camera1/image_raw.\"**"
   ]
  },
  {
   "cell_type": "markdown",
   "metadata": {},
   "source": [
    "<table style=\"float:left;background: #407EAF\">\n",
    "<tr>\n",
    "<th>\n",
    "<p class=\"transparent\">Execute in WebShell #2</p>\n",
    "</th>\n",
    "</tr>\n",
    "</table>"
   ]
  },
  {
   "cell_type": "code",
   "execution_count": null,
   "metadata": {
    "collapsed": true
   },
   "outputs": [],
   "source": [
    "rosrun rqt_image_view rqt_image_view"
   ]
  },
  {
   "cell_type": "markdown",
   "metadata": {},
   "source": [
    "And click on the Graphical Interface icon to be able to visualize it:"
   ]
  },
  {
   "cell_type": "markdown",
   "metadata": {},
   "source": [
    "<img src=\"img/font-awesome_desktop.png\">"
   ]
  },
  {
   "cell_type": "markdown",
   "metadata": {},
   "source": [
    "Bear in mind that it can take up to 20 seconds to establish a video flow, so just be patient once the first image appears. Afterwards, switching to other cameras will be much faster."
   ]
  },
  {
   "cell_type": "markdown",
   "metadata": {},
   "source": [
    "<img src=\"img/JiboCamera.png\"/>"
   ]
  },
  {
   "cell_type": "markdown",
   "metadata": {},
   "source": [
    "So, what's in this course for you?<br>"
   ]
  },
  {
   "cell_type": "markdown",
   "metadata": {},
   "source": [
    "## In this course, you will learn how to go from a physical robot, or even a robot drawing, to a full-fledged simulation with physics, actuators, and sensors."
   ]
  },
  {
   "cell_type": "markdown",
   "metadata": {},
   "source": [
    "For this, you will learn how to create a file that defines your robot in the Gazebo-ROS ecosystem. In this file, you will define weights, inertias, joints, links, sensor plugins, and all that is needed to simulate a robot."
   ]
  },
  {
   "cell_type": "markdown",
   "metadata": {},
   "source": [
    "These files are called <b>URDF files</b>. They are based on XML language, so it's simple to grasp."
   ]
  },
  {
   "cell_type": "markdown",
   "metadata": {},
   "source": [
    "## Hit that NEXT button to start right now or keep on reading for more details."
   ]
  },
  {
   "cell_type": "markdown",
   "metadata": {},
   "source": [
    "## Why do I need to simulate robots?"
   ]
  },
  {
   "cell_type": "markdown",
   "metadata": {},
   "source": [
    "There are many reasons why someone would need to simulate a robot:<br>\n",
    "<ul>\n",
    "<li><b>You need some way to describe your physical robot in ROS:</b> The URDF models are not only needed for simulation, they are also used for having a virtual description of the real robot that is publishing data in ROS. Through this representation, ROS programs like RVIZ can represent the robot based on the real joint values, for example.</li>\n",
    "<li>\n",
    "<b>It's impossible to work with the real robot:</b><br>\n",
    "There are loads of robots that aren't available to the general public, like ASIMO, VALKIRIA, ROBONAUT, and ATLAS, to name a few. They are very well designed robots, but very few people can use them; and if they can, they are subjected to very strict conditions. So, why don't you create your own virtual version of it?\n",
    "</li>\n",
    "<li>\n",
    "<b>I want to create a physical robot that doesn't exist yet:</b><br>\n",
    "Building a robot is expensive, so you might as well be sure that there are no big design flaws.<br>\n",
    "By creating it first in a simulation, you will be able to iterate much faster in the design and detect any errors before you even start the 3D printing.<br>\n",
    "You will also be able to do any test and make any change in the design without any real cost. For example, what would happen if you were to add a leg, or two cameras, or use a more powerful servers, or make it heavier...The list is endless.\n",
    "</li>\n",
    "<li>\n",
    "<b>It's too risky to do my preliminary tests on the physical robot:</b><br>\n",
    "You do have the robot, but you may want to test something that's too dangerous for the integrity of the robot.<br>\n",
    "Maybe you want to try an algorithm for HumanRobotInteraction for the first time, and you don't want anyone to get hurt in the tests.\n",
    "</li>\n",
    "</ul>"
   ]
  },
  {
   "cell_type": "markdown",
   "metadata": {},
   "source": [
    "# How will you learn about URDF files"
   ]
  },
  {
   "cell_type": "markdown",
   "metadata": {},
   "source": [
    "As with all of the courses in RobotIgnite, this course will be based on practice from day one.<br>\n",
    "Minimal theory and loads of practice.<br>\n",
    "You will have to create three different robots, with different dynamics, design, controls,  and sensors.<br>\n",
    "Through these exercises, you will learn:<br>\n",
    "<ul>\n",
    "<li>How to import your 3D models so that they are in the correct format: Some tips and tricks to make that transition easier.</li>\n",
    "<li>Creating a Visual Model of the robot in URDF: No physics and no sensors. Just the links, joints, and 3D models. </li>\n",
    "<li>Adding it to the Gazebo simulator: How to add all the physics so that your URDF can be simulated.</li>\n",
    "<li>Adding Sensors: How to add some basic sensors like cameras and imus.</li>\n",
    "<li>How to go from a monolithic URDF file to the XACROS file system. This will make URDFs much simpler and more flexible towards changes.</li>\n",
    "</ul>\n"
   ]
  },
  {
   "cell_type": "markdown",
   "metadata": {},
   "source": [
    "# Requirements"
   ]
  },
  {
   "cell_type": "markdown",
   "metadata": {},
   "source": [
    "It's essential that before starting this course, you know the following:<br>\n",
    "<ul>\n",
    "<li>ROS Basics: You need to know all the basics of ROS to be able to follow this course. If you don't, please do our <b>ROS Basics in Five Days course.</b> </li>\n",
    "<li>Basic understanding of how XML files work.</li>\n",
    "<li>Basic knowledge of Python.</li>\n",
    "<li>Some basic mechanical knowledge of what Torques are and how Forces work, although you will be taught what you need to know to create your robot.</li>\n",
    "<li>Some knowledge on how PIDs work, although you will be taught what you need to know to create your robot.\n",
    "</ul>"
   ]
  },
  {
   "cell_type": "markdown",
   "metadata": {},
   "source": [
    "# Go to the next unit if you want to know how to create a simulation of any robot you want "
   ]
  },
  {
   "cell_type": "markdown",
   "metadata": {},
   "source": [
    "# Special thanks"
   ]
  },
  {
   "cell_type": "markdown",
   "metadata": {},
   "source": [
    "We would like to give our biggest thanks to:<br>\n",
    "<ul>\n",
    "<li>\n",
    "<a href=\"https://twitter.com/alonsorobots\">Alonso Martinez</a> for his amazing robots. We decided to create a simulated version of them in this course because they are so simple and yet so rich in their abilities and expressions that we couldn't resist. They are a perfect example of the simplicity in design that makes the teaching of URDF structure so much simpler. We loved them from the first time we set eyes on them. You can see a full video where <a href=\"https://twitter.com/alonsorobots\">Alonso Martinez</a> shows them on the great <a href=\"https://youtu.be/0vfuOW1tsX0\">Tested YouTube channel</a>. Highly advisable if you want to feel inspired to create your own robots.\n",
    "</li>\n",
    "<li>Also, a big shout out to <a href=\"https://www.blender-models.com/model-downloads/mechanicalelectronical/robotics/id/jibo-household-robot-0-1/\">michaelrod77</a> for his fantastic Jibo model that was used for this simulation.</li>\n",
    "<li>Thanks also to <a href=\"https://www.jibo.com/about-us\">JiboTeam</a> for creating this amazing robot that we are using as a model to teach you URDF creation.They have created an <a href=\"https://developers.jibo.com/\">SDK</a> to program the physical robot, so don't hesitate to give it a try if you are into SocialRobotics.</li>\n",
    "<li>This course wouldn't have been possible without the knowledge and work of the <a href=\"http://www.ros.org/\">ROS Community</a>, <a href=\"https://www.osrfoundation.org/\">OSRF,</a> and <a href=\"http://gazebosim.org/\">Gazebo Team</a></li>\n",
    "</ul>"
   ]
  }
 ],
 "metadata": {
  "anaconda-cloud": {},
  "kernelspec": {
   "display_name": "Python [Root]",
   "language": "python",
   "name": "Python [Root]"
  },
  "language_info": {
   "codemirror_mode": {
    "name": "ipython",
    "version": 2
   },
   "file_extension": ".py",
   "mimetype": "text/x-python",
   "name": "python",
   "nbconvert_exporter": "python",
   "pygments_lexer": "ipython2",
   "version": "2.7.12"
  }
 },
 "nbformat": 4,
 "nbformat_minor": 1
}
