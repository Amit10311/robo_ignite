{
 "cells": [
  {
   "cell_type": "markdown",
   "metadata": {},
   "source": [
    "# Unit 1: Creating the Visual Robot Model with URDF"
   ]
  },
  {
   "cell_type": "markdown",
   "metadata": {},
   "source": [
    "<img src=\"img/Course_urdfROS_Unit1_mira1.png\"/>"
   ]
  },
  {
   "cell_type": "markdown",
   "metadata": {},
   "source": [
    "In this unit, you will learn how to go from a physical robot to a visual virtual model. By visual, we understand that its not a physically working simulation model. It's only the barebones of what, at the end, will be used for simulation.<br>\n",
    "But this URDF Visual model is already very useful.<br>\n",
    "If you have a real robot and you want to use the ROS infrastructure, you need a virtual description of how the robot is connected and where each of the sensors is in some applications. For example, if you have a camera mounted on the head of the robot, through the virtual robot description (the URDF file ), you can use the TF ROS structure to know exactly where the camera is based by only the joint sensor readings.<br>\n",
    "It also allows you to represent the robot model inside RVIZ."
   ]
  },
  {
   "cell_type": "markdown",
   "metadata": {},
   "source": [
    "<p style=\"background:#E80000;color:white;\">Warning</p>"
   ]
  },
  {
   "cell_type": "markdown",
   "metadata": {},
   "source": [
    "Before starting, please check that you have terminated any of the scripts that you launched in the previous unit."
   ]
  },
  {
   "cell_type": "markdown",
   "metadata": {},
   "source": [
    "# Create your first URDF Model"
   ]
  },
  {
   "cell_type": "markdown",
   "metadata": {},
   "source": [
    "So, you will start by creating the URDF of the robot Mira.<br>\n",
    "For this, you will follow these steps:<br>\n",
    "<ul>\n",
    "<li>Learn how to use the URDF creation tools and the step-by-step procedure for creating a robot model.</li>\n",
    "<li>Learn about the morphology of the robot you want to work with.</li>\n",
    "<li>Obtain the 3D models that you will need in the correct format.</li>\n",
    "<li>Generate the link and joint structure.</li>\n",
    "<li>Test the movement of the joints.</li>\n",
    "</ul>"
   ]
  },
  {
   "cell_type": "markdown",
   "metadata": {},
   "source": [
    "So, let's get started."
   ]
  },
  {
   "cell_type": "markdown",
   "metadata": {},
   "source": [
    "## 1. Learn how to use the URDF creation tools and the creation procedure"
   ]
  },
  {
   "cell_type": "markdown",
   "metadata": {},
   "source": [
    "Let's create the URDF file in the appropriate ROS structure.<br>\n",
    "Let's create a ROS package for each robot model that you create.<br>\n",
    "In this case, create a ROS package named \"my_mira_description.\" It's a common practice to always create a \"my_robot_description\" package where you store all of the files that describe the robot. You will find this robotname_description package everywhere in ROS packages that have robot models defined."
   ]
  },
  {
   "cell_type": "markdown",
   "metadata": {},
   "source": [
    "<table style=\"float:left;background: #407EAF\">\n",
    "<tr>\n",
    "<th>\n",
    "<p class=\"transparent\">Execute in WebShell #1</p><br>\n",
    "cd /home/user/catkin_ws/src<br>\n",
    "catkin_create_pkg my_mira_description rospy rviz controller_manager gazebo_ros joint_state_publisher robot_state_publisher<br>\n",
    "</th>\n",
    "</tr>\n",
    "</table>"
   ]
  },
  {
   "cell_type": "markdown",
   "metadata": {},
   "source": [
    "Once you have the \"my_mira_description\" package, create the following folders inside it:<br>\n",
    "<ul>\n",
    "<li>launch</li>\n",
    "<li>models</li>\n",
    "<li>rviz_config</li>\n",
    "<li>config</li>\n",
    "<li>urdf</li>\n",
    "<li>worlds</li>\n",
    "</ul>"
   ]
  },
  {
   "cell_type": "markdown",
   "metadata": {},
   "source": [
    "These folders are the ones that you will need to have a fully-functional simulated robot.<br>\n",
    "Now, create a URDF file called \"mira.urdf\" in the \"urdf\" folder"
   ]
  },
  {
   "cell_type": "markdown",
   "metadata": {},
   "source": [
    "<table style=\"float:left;background: #407EAF\">\n",
    "<tr>\n",
    "<th>\n",
    "<p class=\"transparent\">Execute in WebShell #1</p><br>\n",
    "cd /home/user/catkin_ws/src;rospack profile<br>\n",
    "roscd my_mira_description<br>\n",
    "mkdir urdf<br>\n",
    "touch urdf/mira.urdf\n",
    "</th>\n",
    "</tr>\n",
    "</table>"
   ]
  },
  {
   "cell_type": "markdown",
   "metadata": {},
   "source": [
    "You can also create it through the IDE.<br>"
   ]
  },
  {
   "cell_type": "markdown",
   "metadata": {},
   "source": [
    "Now, create the simplest URDF:"
   ]
  },
  {
   "cell_type": "raw",
   "metadata": {},
   "source": [
    "<?xml version=\"1.0\"?>\n",
    "<robot name=\"mira\">\n",
    "    <link name=\"base_link\">\n",
    "        <visual>\n",
    "        <origin rpy=\"0 0 0\" xyz=\"0 0 0\"/>\n",
    "        <geometry>\n",
    "            <cylinder radius=\"0.06\" length=\"0.09\"/>\n",
    "        </geometry>\n",
    "        </visual>\n",
    "    </link>\n",
    "  \n",
    "    <link name=\"roll_M1_link\">\n",
    "        <visual>\n",
    "            <origin rpy=\"0 0 0\" xyz=\"0 0 0\"/>\n",
    "            <geometry>\n",
    "                <cylinder radius=\"0.06\" length=\"0.09\"/>\n",
    "            </geometry>\n",
    "        </visual>\n",
    "    </link>\n",
    "    \n",
    "    <joint name=\"roll_joint\" type=\"revolute\">\n",
    "        <parent link=\"base_link\"/>\n",
    "        <child link=\"roll_M1_link\"/>\n",
    "        <origin xyz=\"0.0023 0 -0.0005\" rpy=\"0 0 0\"/>\n",
    "        <limit lower=\"-0.2\" upper=\"0.2\" effort=\"0.1\" velocity=\"0.005\"/>\n",
    "        <axis xyz=\"1 0 0\"/>\n",
    "    </joint>\n",
    "  \n",
    "</robot>"
   ]
  },
  {
   "cell_type": "markdown",
   "metadata": {},
   "source": [
    "<ol>\n",
    "<li>All of the measurements in URDF are in the International Unit System. Therefore, meters for distance, radians for angles, and kilograms for weight.</li>\n",
    "<li>\n",
    "There are three basic geometry shapes that can be used: box, cylinder, and sphere. <br>\n",
    "</li>\n",
    "</ol>"
   ]
  },
  {
   "cell_type": "raw",
   "metadata": {},
   "source": [
    "<cylinder radius=\"0.06\" length=\"0.09\"/>\n",
    "<box size=\"0.0005 0.0005 0.0005\"/> x-length,y-legth and z-length\n",
    "<sphere radius=\"0.06\"/>"
   ]
  },
  {
   "cell_type": "markdown",
   "metadata": {},
   "source": [
    "## 2. Links and Joints"
   ]
  },
  {
   "cell_type": "markdown",
   "metadata": {},
   "source": [
    "In the example given, you have two links; in this case, two cylinders connected through a joint. Joints are what make elements of a robot turn and move. They are the articulations of the robot."
   ]
  },
  {
   "cell_type": "markdown",
   "metadata": {},
   "source": [
    "The main elements to define in a joint are:"
   ]
  },
  {
   "cell_type": "markdown",
   "metadata": {},
   "source": [
    "<ul>\n",
    "<li>\n",
    "Type: there are these types: revolute, continuous, prismatic, fixed, floating, and planar.\n",
    "You can learn more here: http://wiki.ros.org/urdf/XML/joint\n",
    "The joint selection will depend on how the physical model of your robot moves.\n",
    "</li>\n",
    "<li>Parent and Child: Here is where you set who is connected to your link.</li>\n",
    "<li>Origin: All of the coordinates and rpy are referenced to the Parent axis, not the child axis.</li>\n",
    "<li>Limit: This is a very important element, especially when you have to control a robot movement.</li>\n",
    "<li>Axis: Here you define around which Parent's AXIS the Child link will revolve. This, of course, depends on the type of joint; some of them don't have axis tags because they are irrelevant, such as the fixed joint.</li>\n",
    "<ul>"
   ]
  },
  {
   "cell_type": "markdown",
   "metadata": {},
   "source": [
    "## 3. See the URDF"
   ]
  },
  {
   "cell_type": "markdown",
   "metadata": {},
   "source": [
    "Once you have done this, it is time to see the result. To know how ROS will see the model and to help you position the links and joints, you will use the following launch. Create it in a file called <b>urdf_visualize.launch</b>, inside the <i>launch</i> directory of your package."
   ]
  },
  {
   "cell_type": "markdown",
   "metadata": {},
   "source": [
    "<table style=\"float:left;background: #407EAF\">\n",
    "<tr>\n",
    "<th>\n",
    "<p class=\"transparent\">Execute in WebShell #1</p><br>\n",
    "cd /home/user/catkin_ws/src<br>\n",
    "roscd my_mira_description<br>\n",
    "mkdir launch<br>\n",
    "touch launch/urdf_visualize.launch\n",
    "</th>\n",
    "</tr>\n",
    "</table>"
   ]
  },
  {
   "cell_type": "raw",
   "metadata": {},
   "source": [
    "<launch>\n",
    "\n",
    "  <!-- USE: roslaunch my_mira_description urdf_visualize.launch model:='$(find myrobot_package)/urdf/myrobot.urdf' -->\n",
    "  <arg name=\"model\" default=\"\"/>\n",
    "\n",
    "\n",
    "  <param name=\"robot_description\" command=\"cat $(arg model)\" />\n",
    "\n",
    "  <!-- send fake joint values -->\n",
    "  <node name=\"joint_state_publisher\" pkg=\"joint_state_publisher\" type=\"joint_state_publisher\">\n",
    "    <param name=\"use_gui\" value=\"TRUE\"/>\n",
    "  </node>\n",
    "\n",
    "  \n",
    "  <!-- Combine joint values -->\n",
    "  <node name=\"robot_state_publisher\" pkg=\"robot_state_publisher\" type=\"state_publisher\"/>\n",
    "\n",
    "  <!-- Show in Rviz   -->\n",
    "  <!--<node name=\"rviz\" pkg=\"rviz\" type=\"rviz\" args=\"-d $(find my_mira_pkg)/rviz_config/urdf.rviz\"/>-->\n",
    "  <node name=\"rviz\" pkg=\"rviz\" type=\"rviz\" args=\"\"/>\n",
    "\n",
    "</launch>"
   ]
  },
  {
   "cell_type": "markdown",
   "metadata": {},
   "source": [
    "In this launch file, you have:"
   ]
  },
  {
   "cell_type": "raw",
   "metadata": {},
   "source": [
    "<param name=\"robot_description\" command=\"cat $(arg model)\" />"
   ]
  },
  {
   "cell_type": "markdown",
   "metadata": {},
   "source": [
    "Here it is loading the URDF file to the param server variable called \"robot_description.\" Bear in mind that if you are loading more than one robot, you will have to load them in different variables, like \"robot1_description\" and \"robot2_description.\""
   ]
  },
  {
   "cell_type": "raw",
   "metadata": {},
   "source": [
    "<!-- send fake joint values -->\n",
    "  <node name=\"joint_state_publisher\" pkg=\"joint_state_publisher\" type=\"joint_state_publisher\">\n",
    "    <param name=\"use_gui\" value=\"TRUE\"/>\n",
    "  </node>\n",
    "\n",
    "\n",
    "  <!-- Combine joint values -->\n",
    "  <node name=\"robot_state_publisher\" pkg=\"robot_state_publisher\" type=\"state_publisher\"/>"
   ]
  },
  {
   "cell_type": "markdown",
   "metadata": {},
   "source": [
    "Start the jointstate publisher and the robotstate publisher. These will publish the TFs of the URDF of the robot links and joints.<br>\n",
    "To know more about how this works, please go to our <b>TF-ROS course</b>."
   ]
  },
  {
   "cell_type": "raw",
   "metadata": {},
   "source": [
    "<!-- Show in Rviz   -->\n",
    "  <!--<node name=\"rviz\" pkg=\"rviz\" type=\"rviz\" args=\"-d $(find urdf_demo_pkg)/rviz_config/urdf.rviz\"/>-->\n",
    "  <node name=\"rviz\" pkg=\"rviz\" type=\"rviz\" args=\"\"/>"
   ]
  },
  {
   "cell_type": "markdown",
   "metadata": {},
   "source": [
    "Run RVIZ. The part about loading your own RVIZ is commented. The first time you launch this, just save the RVIZ config file and then you will have all that is needed."
   ]
  },
  {
   "cell_type": "markdown",
   "metadata": {},
   "source": [
    "<table style=\"float:left;background: #407EAF\">\n",
    "<tr>\n",
    "<th>\n",
    "<p class=\"transparent\">Execute in WebShell #1</p><br>\n",
    "roslaunch my_mira_description urdf_visualize.launch model:='$(find my_mira_description)/urdf/mira.urdf'\n",
    "</th>\n",
    "</tr>\n",
    "</table>"
   ]
  },
  {
   "cell_type": "markdown",
   "metadata": {},
   "source": [
    "This command launches a totally empty RVIZ session, to which you will have to add the TF and RobotModel representations.<br>\n",
    "To visualize this, you will have to access the GraphicalTools by pressing the icon:<br>"
   ]
  },
  {
   "cell_type": "markdown",
   "metadata": {},
   "source": [
    "<img src=\"img/font-awesome_desktop.png\">"
   ]
  },
  {
   "cell_type": "markdown",
   "metadata": {},
   "source": [
    "You will have to add two elements in RVIZ:<br>\n",
    "<ol>\n",
    "<li>RobotModel: In this case, just select the <b>robot_description</b> variable for the <b>RobotDescription field</b>.</li>\n",
    "<li>TF: It will turn green as soon as you select the <b>correct fixed frame</b>, in this case <b>base_link</b>.<br></li>\n",
    "    <li>Save the RVIZ file so that you don't have to do this adding every time you launch.</li>\n",
    "</ol>\n",
    "If all went well, you should have something like this:"
   ]
  },
  {
   "cell_type": "markdown",
   "metadata": {},
   "source": [
    "<img src=\"img/Course_urdfROS_Unit1_1.png\">"
   ]
  },
  {
   "cell_type": "markdown",
   "metadata": {},
   "source": [
    "<p style=\"background:#E80000;color:white;\">Warning</p>"
   ]
  },
  {
   "cell_type": "markdown",
   "metadata": {},
   "source": [
    "As you can see, you have RVIZ, but also a window with a slider. This slider allows you to move the joints. It's the <b>JointStatePublisher Gui</b>.<br>\n",
    "This is vital for checking if the joints are correctly set in the URDF. It also allows you to see if the given limits in the joints are the correct ones.<br>\n",
    "If <b>you can't see the \"joint control\" window</b>, it must be behind the RVIZ window. Just move it around and, to avoid any further loss, right click on it and select in <b>Layers-->Always On Top</b>."
   ]
  },
  {
   "cell_type": "markdown",
   "metadata": {},
   "source": [
    "You can also see the Link-Joint structure of any URDF file through the <b>urdf_to_graphiz tool</b>. Just execute the following:"
   ]
  },
  {
   "cell_type": "markdown",
   "metadata": {},
   "source": [
    "<table style=\"float:left;background: #407EAF\">\n",
    "<tr>\n",
    "<th>\n",
    "<p class=\"transparent\">Execute in WebShell #1</p><br>\n",
    "roscd my_mira_description/urdf<br>\n",
    "urdf_to_graphiz mira.urdf\n",
    "</th>\n",
    "</tr>\n",
    "</table>"
   ]
  },
  {
   "cell_type": "markdown",
   "metadata": {},
   "source": [
    "This tool generates the link and joint tree:"
   ]
  },
  {
   "cell_type": "markdown",
   "metadata": {},
   "source": [
    "<img src=\"img/mira_simple_linkjoint.png\"/>"
   ]
  },
  {
   "cell_type": "markdown",
   "metadata": {},
   "source": [
    "### Great, you have your first URDF working!"
   ]
  },
  {
   "cell_type": "markdown",
   "metadata": {},
   "source": [
    "<p style=\"background:#EE9023;color:white;\">Exercise U1-1</p>"
   ]
  },
  {
   "cell_type": "markdown",
   "metadata": {},
   "source": [
    "Play around to get used to the basics of URDF.<br>\n",
    "<ul>\n",
    "<li>Change the Geometry Shapes</li>\n",
    "<li>Change the sizes and investigate how you might be able to see the links inside other links.</li>\n",
    "<li>Change the orientation and position of the different links.</li>\n",
    "<li>Change the axis of rotation of the joint to make it revolve around Y or Z.</li>\n",
    "<li>Change the type of joint to continuous. Bear in mind that you shouldn't have upper and lower limits anymore. But you should leave the effort and speed limits because those are also relevant in continuous joints.</li>\n",
    "<li>Change the base_link colour to orange and the roll_M1_link to green.</li>\n",
    "</ul>"
   ]
  },
  {
   "cell_type": "markdown",
   "metadata": {},
   "source": [
    "To change position and orientation, you have to add the origin tag, like so:"
   ]
  },
  {
   "cell_type": "raw",
   "metadata": {},
   "source": [
    "<?xml version=\"1.0\"?>\n",
    "<robot name=\"mira\">\n",
    "  <link name=\"base_link\">\n",
    "    <visual>\n",
    "      <origin rpy=\"0 0 0\" xyz=\"0 0 0\"/>\n",
    "      <geometry>\n",
    "        <cylinder radius=\"0.06\" length=\"0.09\"/>\n",
    "      </geometry>\n",
    "    </visual>\n",
    "  </link>\n",
    "</robot>"
   ]
  },
  {
   "cell_type": "markdown",
   "metadata": {},
   "source": [
    "It's based on the xyz axis of the parent frame; in this case, it's the absolute world frame because it's the first link in the URDF file. <b style=\"color:red\">X = RED</b> color AXIS, <b style=\"color:green\">Y = GREEN</b> color AXIS,  and <b style=\"color:blue\">Z = BLUE</b> color AXIS.<br>\n",
    "As for the rpy (Roll, Pitch, and Yaw ), it's also the parent's axis that corresponds to Roll = Rotation in the X axis, Pitch = Rotation in the Y axis, and Yaw = Rotation in the Z axis."
   ]
  },
  {
   "cell_type": "markdown",
   "metadata": {},
   "source": [
    "To change color in URDF, you need to define a material and assign it to the geometry, like so:"
   ]
  },
  {
   "cell_type": "raw",
   "metadata": {},
   "source": [
    "<?xml version=\"1.0\"?>\n",
    "<robot name=\"mira\">\n",
    "  \n",
    "  <material name=\"green\">\n",
    "        <color rgba=\"0 0.8 0 1\"/>\n",
    "    </material>\n",
    "\n",
    "  <link name=\"base_link\">\n",
    "    <visual>\n",
    "      <geometry>\n",
    "        <cylinder radius=\"0.06\" length=\"0.09\"/>\n",
    "      </geometry>\n",
    "      <material name=\"green\"/>\n",
    "    </visual>\n",
    "  </link>\n",
    "</robot>"
   ]
  },
  {
   "cell_type": "markdown",
   "metadata": {},
   "source": [
    "The color is defined by using the RGBA system, by using a scale of <b>0 to 1</b> instead of <b>0 to 255</b>. Learn more about RGBA at these example sites.<br>\n",
    "https://www.w3schools.com/css/css3_colors.asp<br>\n",
    "https://www.w3schools.com/css/tryit.asp?filename=trycss3_color_rgba"
   ]
  },
  {
   "cell_type": "markdown",
   "metadata": {},
   "source": [
    "<p style=\"background:#EE9023;color:white;\">END Exercise U1-1</p>"
   ]
  },
  {
   "cell_type": "markdown",
   "metadata": {},
   "source": [
    "## 4. Learn About the Morphology of your Robot"
   ]
  },
  {
   "cell_type": "markdown",
   "metadata": {},
   "source": [
    "The most important step in the creation of a URDF is knowing how the real robot moves.<br>\n",
    "You have to decide which type of joints it has and how all of the pieces are linked together.<br>\n",
    "In the simulation, you don't always have to mimic the exact way a robot works because you can simplify, as you do not have physical limitations."
   ]
  },
  {
   "cell_type": "markdown",
   "metadata": {},
   "source": [
    "Let's have a look at Mira Robot:"
   ]
  },
  {
   "cell_type": "markdown",
   "metadata": {},
   "source": [
    "The first thing to do is have a look at how it moves. For that, you should have a look at the interview with <a href=\"https://twitter.com/alonsorobots\">Alonso Martinez</a> on the <a href=\"https://youtu.be/0vfuOW1tsX0\">Tested YouTube channel</a>. Please have a look at how it moves and, more importantly, the mechanism that makes Mira's head have RollPitchYaw capabilities."
   ]
  },
  {
   "cell_type": "markdown",
   "metadata": {},
   "source": [
    "Now, have a look at what the parts of Mira's structure are made of:"
   ]
  },
  {
   "cell_type": "markdown",
   "metadata": {},
   "source": [
    "<img src=\"img/mira_diagram.png\"/>"
   ]
  },
  {
   "cell_type": "markdown",
   "metadata": {},
   "source": [
    "So, it seems that you will need the following links:<br>\n",
    "<ul>\n",
    "<li>Base_link</li>\n",
    "<li>Head_link</li>\n",
    "<li>Left_eye_link and Right_eye_link</li>\n",
    "<li>Camera_link</li>\n",
    "<li>RPYSystemLink ?</li>\n",
    "</ul>"
   ]
  },
  {
   "cell_type": "markdown",
   "metadata": {},
   "source": [
    "That's correct, except that we have to define what the RPY system is a bit better. This will also clearly define how the links are connected.<br>\n",
    "Let's have a closer look at how the RPY System should look and how it works:<br>"
   ]
  },
  {
   "cell_type": "markdown",
   "metadata": {},
   "source": [
    "<table style=\"width:100%\">\n",
    "  <tr>\n",
    "    <th>\n",
    "    <figure>\n",
    "      <img id=\"fig-A.1\" src=\"img/Course_urdfROS_Unit1_mira1.png\" width=\"300\"/>\n",
    "       <center> <figcaption><h2>Mira</h2></figcaption></center>\n",
    "    </figure>\n",
    "\n",
    "    </th>\n",
    "    <th>\n",
    "        <figure>\n",
    "      <img id=\"fig-A.2\" src=\"img/Course_urdfROS_Unit1_mira4.png\" width=\"300\"/>\n",
    "       <center> <figcaption><h2>MiraNoHead</h2></figcaption></center>\n",
    "    </figure>\n",
    "    </th>\n",
    "    \n",
    "    <th>\n",
    "        <figure>\n",
    "      <img id=\"fig-A.2\" src=\"img/Course_urdfROS_Unit1_mira5.png\" width=\"300\"/>\n",
    "       <center> <figcaption><h2>MiraNoHead RPYSystem</h2></figcaption></center>\n",
    "    </figure>\n",
    "    </th> \n",
    "\n",
    "  </tr>\n",
    "</table>"
   ]
  },
  {
   "cell_type": "markdown",
   "metadata": {},
   "source": [
    "<img src=\"img/rpy_system.png\"/>"
   ]
  },
  {
   "cell_type": "markdown",
   "metadata": {},
   "source": [
    "This system emulates the real system, giving Roll, Pitch, and Yaw Movements.<br>\n",
    "The Roll link connects to the base_link and rotates around the X axis.<br>\n",
    "The Pitch link connects to the base_link and rotates around the Y axis.<br>\n",
    "The Yaw link connects to the base_link and rotates around the Z axis.<br>\n",
    "Using the colors that match the axis helps a lot to keep the rotating axis clear. So bear that in mind when you define these kind of links.<br>\n",
    "These joints will also be the ones that are actuated when we introduce the actuators and controls in the simulation.<br>\n",
    "Note that we could have positioned the Yaw link in the center, but it's positioned in that way to be easy to see, and to slightly emulate the real system."
   ]
  },
  {
   "cell_type": "markdown",
   "metadata": {},
   "source": [
    "<p style=\"background:#EE9023;color:white;\">Exercise U1-2</p>"
   ]
  },
  {
   "cell_type": "markdown",
   "metadata": {},
   "source": [
    "Seeing that you now have the structure of Mira clear, generate the whole URDF file, using only geometric shapes to represent the links.<br>\n",
    "We recommend that you go step by step. Add one link and a joint, and test. Then, when it's okay, continue to the next one. Otherwise, it can become overwhelming."
   ]
  },
  {
   "cell_type": "markdown",
   "metadata": {},
   "source": [
    "<p style=\"background:green;color:white;\">Data for Exercise U1-2</p>"
   ]
  },
  {
   "cell_type": "markdown",
   "metadata": {},
   "source": [
    "<ul>\n",
    "<li>Joints To be defined:<br>\n",
    "roll_joint( base_link with roll_M1_link)<br>\n",
    "pitch_joint( roll_M1_link with pitch_M2_link)<br>\n",
    "yaw_joint( pitch_M2_link with yaw_M3_link)<br>\n",
    "base_head_joint( yaw_M3_link with head_link)<br>\n",
    "head_lefteye_joint( head_link with left_eye_link)<br>\n",
    "head_righteye_joint( head_link with right_eye_link)<br>\n",
    "head_camera_joint( head_link with camera_link)<br>\n",
    "</li>\n",
    "<li>To decide the Joint type, think about whether they have to move or not (fixed), and if they have to be limited (revolute) or not (continuous).</li>\n",
    "<li>\n",
    "Here you have the dimensions of the links:<br>\n",
    "base_link --> cylinder radius=\"0.06\" length=\"0.09\"<br>\n",
    "roll_M1_link --> cylinder length=\"0.005\" radius=\"0.01\"<br>\n",
    "pitch_M2_link --> cylinder length=\"0.005\" radius=\"0.01\"<br>\n",
    "yaw_M3_link --> cylinder length=\"0.005\" radius=\"0.01\"<br>\n",
    "head_link --> sphere radius=\"0.06\"<br>\n",
    "left_eye_link --> cylinder radius=\"0.00525\" length=\"0.00525\"<br>\n",
    "right_eye_link --> cylinder radius=\"0.00525\" length=\"0.00525\"<br>\n",
    "camera_link --> box size=\"0.0005 0.0005 0.0005\"<br>\n",
    "</li>\n",
    "<li>You will have to decide the origin of xyz and the RPY of each link. It doesn't have to be perfect, but try your best to experience how difficult it can be to get a model right without a blueprint. You will also get your bearings in the XYZ movement.</li>\n",
    "</ul>"
   ]
  },
  {
   "cell_type": "markdown",
   "metadata": {},
   "source": [
    "<p style=\"background:#EE9023;color:white;\">END Exercise U1-2</p>"
   ]
  },
  {
   "cell_type": "markdown",
   "metadata": {},
   "source": [
    "<p style=\"background:green;color:white;\">Solution Exercise U1-2</p>"
   ]
  },
  {
   "cell_type": "markdown",
   "metadata": {},
   "source": [
    "Please try to do it by yourself, unless you get stuck or need some inspiration. You will learn much more if you fight for each exercise."
   ]
  },
  {
   "cell_type": "markdown",
   "metadata": {},
   "source": [
    "<img src=\"img/robotignite_logo_text.png\"/>"
   ]
  },
  {
   "cell_type": "markdown",
   "metadata": {},
   "source": [
    "Here you have the whole URDF file for the Mira model:"
   ]
  },
  {
   "cell_type": "raw",
   "metadata": {},
   "source": [
    "<robot name=\"mira\">\n",
    "\n",
    "    <material name=\"blue\">\n",
    "        <color rgba=\"0 0 0.8 1\"/>\n",
    "    </material>\n",
    "    <material name=\"red\">\n",
    "        <color rgba=\"0.8 0 0 1\"/>\n",
    "    </material>\n",
    "    <material name=\"green\">\n",
    "        <color rgba=\"0 0.8 0 1\"/>\n",
    "    </material>\n",
    "    <material name=\"grey\">\n",
    "        <color rgba=\"0.75 0.75 0.75 1\"/>\n",
    "    </material>\n",
    "    <material name=\"white\">\n",
    "        <color rgba=\"1.0 1.0 1.0 1\"/>\n",
    "    </material>\n",
    "    <material name=\"black\">\n",
    "        <color rgba=\"0 0 0 1\"/>\n",
    "    </material>\n",
    "\n",
    "\t<!-- * * * Link Definitions * * * -->\n",
    "    <link name=\"base_link\">\n",
    "\n",
    "        <visual>\n",
    "            <origin rpy=\"0.0 0 0\" xyz=\"0 0 0\"/>\n",
    "            <geometry>\n",
    "                <cylinder radius=\"0.06\" length=\"0.09\"/>\n",
    "            </geometry>\n",
    "            <material name=\"grey\"/>\n",
    "        </visual>\n",
    "\t</link>\n",
    "\n",
    "\n",
    "\n",
    "    <link name=\"roll_M1_link\">\n",
    "\n",
    "        <visual>\n",
    "            <origin rpy=\"0 0 0\" xyz=\"0 0 0\"/>\n",
    "            <geometry>\n",
    "                <cylinder length=\"0.005\" radius=\"0.01\"/>\n",
    "            </geometry>\n",
    "            <material name=\"red\"/>\n",
    "        </visual>\n",
    "    </link>\n",
    "\n",
    "    <joint name=\"roll_joint\" type=\"revolute\">\n",
    "    \t<parent link=\"base_link\"/>\n",
    "    \t<child link=\"roll_M1_link\"/>\n",
    "        <origin xyz=\"0.0023 0 -0.0005\" rpy=\"0 0 0\"/>\n",
    "        <limit lower=\"-0.2\" upper=\"0.2\" effort=\"0.1\" velocity=\"0.005\"/>\n",
    "        <axis xyz=\"1 0 0\"/>\n",
    "\t</joint>\n",
    "\n",
    "\n",
    "\n",
    "    <link name=\"pitch_M2_link\">\n",
    "\n",
    "        <visual>\n",
    "            <origin rpy=\"0 0 0\" xyz=\"0 0 0\"/>\n",
    "            <geometry>\n",
    "                <cylinder length=\"0.005\" radius=\"0.01\"/>\n",
    "            </geometry>\n",
    "            <material name=\"green\"/>\n",
    "        </visual>\n",
    "    </link>\n",
    "\n",
    "\n",
    "    <joint name=\"pitch_joint\" type=\"revolute\">\n",
    "    \t<parent link=\"roll_M1_link\"/>\n",
    "    \t<child link=\"pitch_M2_link\"/>\n",
    "    \t<origin xyz=\"0 0 0\" rpy=\"0 -1.5708 0\"/>\n",
    "        <limit lower=\"0\" upper=\"0.44\" effort=\"0.1\" velocity=\"0.005\"/>\n",
    "        <axis xyz=\"0 1 0\"/>\n",
    "\t</joint>\n",
    "\n",
    "\n",
    "    <link name=\"yaw_M3_link\">\n",
    "\n",
    "        <visual>\n",
    "            <origin rpy=\"0 0 0\" xyz=\"0 0 0\"/>\n",
    "            <geometry>\n",
    "                <cylinder length=\"0.005\" radius=\"0.01\"/>\n",
    "            </geometry>\n",
    "            <material name=\"blue\"/>\n",
    "        </visual>\n",
    "    </link>\n",
    "\n",
    "    <joint name=\"yaw_joint\" type=\"continuous\">\n",
    "    \t<parent link=\"pitch_M2_link\"/>\n",
    "    \t<child link=\"yaw_M3_link\"/>\n",
    "        <origin xyz=\"0.01 0 0\" rpy=\"0 1.5708 0\"/>\n",
    "        <limit effort=\"0.1\" velocity=\"0.01\"/>\n",
    "        <axis xyz=\"0 0 1\"/>\n",
    "\t</joint>\n",
    "\n",
    "\n",
    "    <link name=\"head_link\">\n",
    "\n",
    "\t\t<visual>\n",
    "            <origin rpy=\"0.0 0 0\" xyz=\"0 0 0\"/>\n",
    "            <geometry>\n",
    "                <sphere radius=\"0.06\"/>\n",
    "            </geometry>\n",
    "            <material name=\"white\"/>\n",
    "        </visual>\n",
    "\t</link>\n",
    "\n",
    "\n",
    "    <joint name=\"base_head_joint\" type=\"fixed\">\n",
    "    \t<parent link=\"yaw_M3_link\"/>\n",
    "    \t<child link=\"head_link\"/>\n",
    "    \t<origin xyz=\"0 0 0.06\" rpy=\"0 0 0\"/>\n",
    "\t</joint>\n",
    "\n",
    "    <link name=\"left_eye_link\">\n",
    "\n",
    "\t\t<visual>\n",
    "            <origin rpy=\"0.0 0 0\" xyz=\"0 0 0\"/>\n",
    "            <geometry>\n",
    "                <cylinder radius=\"0.00525\" length=\"0.00525\"/>\n",
    "            </geometry>\n",
    "            <material name=\"black\"/>\n",
    "        </visual>\n",
    "\t</link>\n",
    "\n",
    "    <link name=\"right_eye_link\">\n",
    "\n",
    "\t\t<visual>\n",
    "            <origin rpy=\"0.0 0 0\" xyz=\"0 0 0\"/>\n",
    "            <geometry>\n",
    "                <cylinder radius=\"0.00525\" length=\"0.00525\"/>\n",
    "            </geometry>\n",
    "            <material name=\"black\"/>\n",
    "        </visual>\n",
    "\t</link>\n",
    "\n",
    "    <joint name=\"head_lefteye_joint\" type=\"fixed\">\n",
    "        <parent link=\"head_link\"/>\n",
    "        <child link=\"left_eye_link\"/>\n",
    "        <origin xyz=\"0.0095 0.057 0.0085\" rpy=\"-1.5708 0 0\"/>\n",
    "    </joint>\n",
    "\n",
    "    <joint name=\"head_righteye_joint\" type=\"fixed\">\n",
    "        <parent link=\"head_link\"/>\n",
    "        <child link=\"right_eye_link\"/>\n",
    "        <origin xyz=\"-0.0095 0.057 0.0085\" rpy=\"-1.5708 0 0\"/>\n",
    "    </joint>\n",
    "\n",
    "    <link name=\"camera_link\">\n",
    "\t\t<visual>\n",
    "            <origin rpy=\"0.0 0 0\" xyz=\"0 0 0\"/>\n",
    "            <geometry>\n",
    "                <box size=\"0.0005 0.0005 0.0005\"/>\n",
    "            </geometry>\n",
    "            <material name=\"green\"/>\n",
    "        </visual>\n",
    "\t</link>\n",
    "\n",
    "\n",
    "    <joint name=\"head_camera_joint\" type=\"fixed\">\n",
    "        <parent link=\"head_link\"/>\n",
    "        <child link=\"camera_link\"/>\n",
    "        <origin xyz=\"0 0.057 0.0255\" rpy=\"0 0 0\"/>\n",
    "    </joint>\n",
    "\n",
    "\n",
    "</robot>"
   ]
  },
  {
   "cell_type": "markdown",
   "metadata": {},
   "source": [
    "You should have something similar to this:"
   ]
  },
  {
   "cell_type": "markdown",
   "metadata": {},
   "source": [
    "<img src=\"img/mira_simple.png\"/>"
   ]
  },
  {
   "cell_type": "markdown",
   "metadata": {},
   "source": [
    "Did you manage to do something similar to this?<br>\n",
    "Naturally, one of the most difficult aspects was probably positioning the elements.<br>\n",
    "That's why it's so important to iterate step by step, and if possible, have all of the assembly measurements in blueprints, like this one:"
   ]
  },
  {
   "cell_type": "markdown",
   "metadata": {},
   "source": [
    "<img src=\"img/Medidas_Gurdy_head.PNG\"/>"
   ]
  },
  {
   "cell_type": "markdown",
   "metadata": {},
   "source": [
    "This was taken from the Solid Works model of the Gurdy Robot that you will create later on in the course.<br>\n",
    "It's highly advisable to have a CAD model fully assembled to be able to get precise measurements on how the joints have to be positioned. Otherwise, it's an iterative slow process, as you have experienced."
   ]
  },
  {
   "cell_type": "markdown",
   "metadata": {},
   "source": [
    "## 5. Learn how to import your 3D CAD models to Gazebo"
   ]
  },
  {
   "cell_type": "markdown",
   "metadata": {},
   "source": [
    "This is a very wide topic and there are many ways of doing it. Here you will learn just the basic elements needed for correctly importing 3D models.<br>\n",
    "<ul>\n",
    "<li>When using a CAD tool, the final models have to be saved in STL format or Dae format. SolidWorks, for example, gives the option of STL. The only advantage with DAE is that DAE saves color information. But that's something that can be added afterwards in Blender.</li>\n",
    "<li>Import the STL of the DAE models into Blender. Here you will have to set the origin of the model and the units. This is absolutely vital. The setting of the axis will determine how difficult it is to create the URDF model. As for the units, having a 10-foot high Mira Robot is not very realistic, apart from the effects on the inertias afterwards.</li>\n",
    "<li>Once you have the axis and units set up, you can add a material to the blender model to add color.</li>\n",
    "<li>Once done, you export it to dae format. Sometimes, blender doesn't save properly the first time, so you will have to import the new dae into blender again in an empty scene and then export it again to dae.</li>\n",
    "</ul>"
   ]
  },
  {
   "cell_type": "markdown",
   "metadata": {},
   "source": [
    "To know how to import a model from a CAD system to blender and set the origin, please have a look at our video tutorial on this matter:https://youtu.be/aP4sDyrRzpU<br>\n",
    "To correctly set the units in blender and other CAD techniques in Blender, this site is great: http://www.rab3d.com/tut_blen_2-6x_608-1.php<br>\n",
    "To add materials to blender, please refer to this tutorial: https://youtu.be/rRdKj33Keec\n",
    "\n",
    "        "
   ]
  },
  {
   "cell_type": "markdown",
   "metadata": {},
   "source": [
    "In this case, you will have already been provided with the models needed for this URDF:"
   ]
  },
  {
   "cell_type": "markdown",
   "metadata": {},
   "source": [
    "<table style=\"float:left;background: #407EAF\">\n",
    "<tr>\n",
    "<th>\n",
    "<p class=\"transparent\">Execute in WebShell #1</p><br>\n",
    "roscd mira_description <br>\n",
    "cp ./models/mira/meshes/mira_body_v3.dae /home/user/catkin_ws/src/<br>\n",
    "cp ./models/mira/meshes/mira_head_v5.dae /home/user/catkin_ws/src/<br>\n",
    "cp ./models/mira/meshes/mira_eye_v4.dae /home/user/catkin_ws/src/<br>\n",
    "roscd my_mira_description<br>\n",
    "mkdir models;cd models;mkdir mira;cd mira;mkdir meshes<br>\n",
    "cd /home/user/catkin_ws/src/;mv *.dae /home/user/catkin_ws/src/my_mira_description/models/mira/meshes/\n",
    "</th>\n",
    "</tr>\n",
    "</table>"
   ]
  },
  {
   "cell_type": "markdown",
   "metadata": {},
   "source": [
    "And now, place them inside the <b>my_mira_description/models/mira/meshes/</b>"
   ]
  },
  {
   "cell_type": "markdown",
   "metadata": {},
   "source": [
    "Finally, you just have to replace the geometry that are now spheres, cylinders, and so on by the .dae files. Here is an example of how it would be done in the base_link case:"
   ]
  },
  {
   "cell_type": "raw",
   "metadata": {},
   "source": [
    "<link name=\"base_link\">\n",
    "    <visual>\n",
    "        <origin rpy=\"0.0 0 0\" xyz=\"0 0 0\"/>\n",
    "        <geometry>\n",
    "            <mesh filename=\"package://my_mira_description/models/mira/meshes/mira_body_v3.dae\"/>\n",
    "        </geometry>\n",
    "    </visual>\n",
    "</link>"
   ]
  },
  {
   "cell_type": "markdown",
   "metadata": {},
   "source": [
    "<p style=\"background:#EE9023;color:white;\">Exercise U1-3</p>"
   ]
  },
  {
   "cell_type": "markdown",
   "metadata": {},
   "source": [
    "Replace the head, body, and eyes by their 3Dmeshes.<br>\n",
    "You will probably need to make some changes in the joint positions and orientations."
   ]
  },
  {
   "cell_type": "markdown",
   "metadata": {},
   "source": [
    "<p style=\"background:#EE9023;color:white;\">END Exercise U1-3</p>"
   ]
  },
  {
   "cell_type": "markdown",
   "metadata": {},
   "source": [
    "<p style=\"background:green;color:white;\">Solution Exercise U1-3</p>"
   ]
  },
  {
   "cell_type": "markdown",
   "metadata": {},
   "source": [
    "Please try to do it by yourself, unless you get stuck or need some inspiration. You will learn much more if you fight for each exercise."
   ]
  },
  {
   "cell_type": "markdown",
   "metadata": {},
   "source": [
    "<img src=\"img/robotignite_logo_text.png\"/>"
   ]
  },
  {
   "cell_type": "markdown",
   "metadata": {},
   "source": [
    "You should get the full model. Check that all of the limits are correct and that nothing is out of place. A good practice is to put all of the joints in maximum and minimum positions, to see if everything is okay."
   ]
  },
  {
   "cell_type": "markdown",
   "metadata": {},
   "source": [
    "<img src=\"img/Course_urdfROS_Unit1_mira3.png\"/>"
   ]
  },
  {
   "cell_type": "markdown",
   "metadata": {},
   "source": [
    "You should have something like this:"
   ]
  },
  {
   "cell_type": "raw",
   "metadata": {},
   "source": [
    "<robot name=\"mira\">\n",
    "\n",
    "    <material name=\"blue\">\n",
    "        <color rgba=\"0 0 0.8 1\"/>\n",
    "    </material>\n",
    "    <material name=\"red\">\n",
    "        <color rgba=\"0.8 0 0 1\"/>\n",
    "    </material>\n",
    "    <material name=\"green\">\n",
    "        <color rgba=\"0 0.8 0 1\"/>\n",
    "    </material>\n",
    "\n",
    "   \t<!-- * * * Link Definitions * * * -->\n",
    "    <link name=\"base_link\">\n",
    "        <visual>\n",
    "            <origin rpy=\"0.0 0 0\" xyz=\"0 0 0\"/>\n",
    "            <geometry>\n",
    "                <mesh filename=\"package://my_mira_description/models/mira/meshes/mira_body_v3.dae\"/>\n",
    "            </geometry>\n",
    "        </visual>\n",
    "\t</link>\n",
    "\n",
    "\n",
    "\n",
    "    <link name=\"roll_M1_link\">\n",
    "\n",
    "        <visual>\n",
    "            <origin rpy=\"0 0 0\" xyz=\"0 0 0\"/>\n",
    "            <geometry>\n",
    "                <cylinder length=\"0.005\" radius=\"0.01\"/>\n",
    "            </geometry>\n",
    "            <material name=\"red\"/>\n",
    "        </visual>\n",
    "    </link>\n",
    "    <!-- This is for color and physical properties in Gazebo, color won't work with the material tag in gazebo\n",
    "    only for URDF coloring -->\n",
    "    <gazebo reference=\"roll_M1_link\">\n",
    "        <kp>1000.0</kp>\n",
    "        <kd>10.0</kd>\n",
    "        <mu1>10.0</mu1>\n",
    "        <mu2>10.0</mu2>\n",
    "        <material>Gazebo/Red</material>\n",
    "    </gazebo>\n",
    "\n",
    "    <joint name=\"roll_joint\" type=\"revolute\">\n",
    "    \t<parent link=\"base_link\"/>\n",
    "    \t<child link=\"roll_M1_link\"/>\n",
    "        <origin xyz=\"0.0023 0 -0.0005\" rpy=\"0 0 0\"/>\n",
    "        <limit lower=\"-0.2\" upper=\"0.2\" effort=\"0.1\" velocity=\"0.005\"/>\n",
    "        <axis xyz=\"1 0 0\"/>\n",
    "\t</joint>\n",
    "\n",
    "\n",
    "    <link name=\"pitch_M2_link\">\n",
    "\n",
    "        <visual>\n",
    "            <origin rpy=\"0 0 0\" xyz=\"0 0 0\"/>\n",
    "            <geometry>\n",
    "                <cylinder length=\"0.005\" radius=\"0.01\"/>\n",
    "            </geometry>\n",
    "            <material name=\"green\"/>\n",
    "        </visual>\n",
    "    </link>\n",
    "\n",
    "    <!-- This is for color and physical properties in Gazebo, color won't work with the material tag in gazebo\n",
    "    only for URDF coloring -->\n",
    "    <gazebo reference=\"pitch_M2_link\">\n",
    "        <kp>1000.0</kp>\n",
    "        <kd>10.0</kd>\n",
    "        <mu1>10.0</mu1>\n",
    "        <mu2>10.0</mu2>\n",
    "        <material>Gazebo/Green</material>\n",
    "    </gazebo>\n",
    "\n",
    "    <joint name=\"pitch_joint\" type=\"revolute\">\n",
    "    \t<parent link=\"roll_M1_link\"/>\n",
    "    \t<child link=\"pitch_M2_link\"/>\n",
    "    \t<origin xyz=\"0 0 0\" rpy=\"0 -1.5708 0\"/>\n",
    "        <limit lower=\"0\" upper=\"0.44\" effort=\"0.1\" velocity=\"0.005\"/>\n",
    "        <axis xyz=\"0 1 0\"/>\n",
    "\t</joint>\n",
    "\n",
    "\n",
    "\n",
    "    <link name=\"yaw_M3_link\">\n",
    "\n",
    "        <visual>\n",
    "            <origin rpy=\"0 0 0\" xyz=\"0 0 0\"/>\n",
    "            <geometry>\n",
    "                <cylinder length=\"0.005\" radius=\"0.01\"/>\n",
    "            </geometry>\n",
    "            <material name=\"blue\"/>\n",
    "        </visual>\n",
    "    </link>\n",
    "\n",
    "    <!-- This is for color and physical properties in Gazebo, color won't work with the material tag in gazebo\n",
    "    only for URDF coloring -->\n",
    "    <gazebo reference=\"yaw_M3_link\">\n",
    "        <kp>1000.0</kp>\n",
    "        <kd>10.0</kd>\n",
    "        <mu1>10.0</mu1>\n",
    "        <mu2>10.0</mu2>\n",
    "        <material>Gazebo/Blue</material>\n",
    "    </gazebo>\n",
    "\n",
    "\n",
    "    <joint name=\"yaw_joint\" type=\"continuous\">\n",
    "    \t<parent link=\"pitch_M2_link\"/>\n",
    "    \t<child link=\"yaw_M3_link\"/>\n",
    "        <origin xyz=\"0.01 0 0\" rpy=\"0 1.5708 0\"/>\n",
    "        <limit effort=\"0.1\" velocity=\"0.01\"/>\n",
    "        <axis xyz=\"0 0 1\"/>\n",
    "\t</joint>\n",
    "\n",
    "\n",
    "    <link name=\"head_link\">\n",
    "\t\t<visual>\n",
    "            <origin rpy=\"0.0 0 0\" xyz=\"0 0 0\"/>\n",
    "            <geometry>\n",
    "                <mesh filename=\"package://my_mira_description/models/mira/meshes/mira_head_v5.dae\"/>\n",
    "            </geometry>\n",
    "        </visual>\n",
    "\t</link>\n",
    "\n",
    "\n",
    "    <joint name=\"base_head_joint\" type=\"fixed\">\n",
    "    \t<parent link=\"yaw_M3_link\"/>\n",
    "    \t<child link=\"head_link\"/>\n",
    "    \t<origin xyz=\"0 0 0\" rpy=\"0 0 0\"/>\n",
    "\t</joint>\n",
    "\n",
    "    <link name=\"left_eye_link\">\n",
    "\n",
    "\t\t<visual>\n",
    "            <origin rpy=\"0.0 0 0\" xyz=\"0 0 0\"/>\n",
    "            <geometry>\n",
    "                <!--\n",
    "                <cylinder radius=\"0.00525\" length=\"0.00525\"/>\n",
    "                -->\n",
    "                <mesh filename=\"package://my_mira_description/models/mira/meshes/mira_eye_v4.dae\"/>\n",
    "            </geometry>\n",
    "        </visual>\n",
    "\t</link>\n",
    "\n",
    "    <link name=\"right_eye_link\">\n",
    "\n",
    "\t\t<visual>\n",
    "            <origin rpy=\"0.0 0 0\" xyz=\"0 0 0\"/>\n",
    "            <geometry>\n",
    "                <!--\n",
    "                <cylinder radius=\"0.00525\" length=\"0.00525\"/>\n",
    "                -->\n",
    "                <mesh filename=\"package://my_mira_description/models/mira/meshes/mira_eye_v4.dae\"/>\n",
    "            </geometry>\n",
    "        </visual>\n",
    "\t</link>\n",
    "\n",
    "    <joint name=\"head_lefteye_joint\" type=\"fixed\">\n",
    "        <parent link=\"head_link\"/>\n",
    "        <child link=\"left_eye_link\"/>\n",
    "        <origin xyz=\"0.0095 0.057 0.0085\" rpy=\"-1.5708 0 0\"/>\n",
    "    </joint>\n",
    "\n",
    "    <joint name=\"head_righteye_joint\" type=\"fixed\">\n",
    "        <parent link=\"head_link\"/>\n",
    "        <child link=\"right_eye_link\"/>\n",
    "        <origin xyz=\"-0.0095 0.057 0.0085\" rpy=\"-1.5708 0 0\"/>\n",
    "    </joint>\n",
    "\n",
    "    <link name=\"camera_link\">\n",
    "\n",
    "\t\t<visual>\n",
    "            <origin rpy=\"0.0 0 0\" xyz=\"0 0 0\"/>\n",
    "            <geometry>\n",
    "                <box size=\"0.0005 0.0005 0.0005\"/>\n",
    "            </geometry>\n",
    "            <material name=\"green\"/>\n",
    "        </visual>\n",
    "\t</link>\n",
    "\n",
    "    <gazebo reference=\"camera_link\">\n",
    "        <material>Gazebo/Green</material>\n",
    "    </gazebo>\n",
    "\n",
    "    <joint name=\"head_camera_joint\" type=\"fixed\">\n",
    "        <parent link=\"head_link\"/>\n",
    "        <child link=\"camera_link\"/>\n",
    "        <origin xyz=\"0 0.057 0.0255\" rpy=\"0 0 0\"/>\n",
    "    </joint>\n",
    "\n",
    "\n",
    "\n",
    "\n",
    "</robot>"
   ]
  },
  {
   "cell_type": "markdown",
   "metadata": {},
   "source": [
    "For further details on all the options availabe in URDF, please refer to this link: http://wiki.ros.org/urdf/XML/joint"
   ]
  },
  {
   "cell_type": "markdown",
   "metadata": {},
   "source": [
    "### Congratulations! You are now ready to learn how to spawn this URDF file into Gazebo Simulator. Please proceed to Unit 2."
   ]
  }
 ],
 "metadata": {
  "anaconda-cloud": {},
  "kernelspec": {
   "display_name": "Python [Root]",
   "language": "python",
   "name": "Python [Root]"
  },
  "language_info": {
   "codemirror_mode": {
    "name": "ipython",
    "version": 2
   },
   "file_extension": ".py",
   "mimetype": "text/x-python",
   "name": "python",
   "nbconvert_exporter": "python",
   "pygments_lexer": "ipython2",
   "version": "2.7.12"
  }
 },
 "nbformat": 4,
 "nbformat_minor": 1
}
