{
 "cells": [
  {
   "cell_type": "markdown",
   "metadata": {},
   "source": [
    "# Unit 2: Adapt URDF for Gazebo Simulator"
   ]
  },
  {
   "cell_type": "markdown",
   "metadata": {},
   "source": [
    "URDF files are very useful, as you have seen, for having a virtual representation of the different links and joints.<br>\n",
    "But you are not simulating its weight, its inertia, what sensors it has, how it collides with other objects, the friction with the floor, or how the server position control will react to the robot. These are just some of the topics that you are going to learn about in this unit."
   ]
  },
  {
   "cell_type": "markdown",
   "metadata": {},
   "source": [
    "## 1. Add Collisions:"
   ]
  },
  {
   "cell_type": "markdown",
   "metadata": {},
   "source": [
    "One of the most crucial elements in being able to simulate a robot is how it interacts with the world around it.<br>\n",
    "At the moment, your URDF Mira Robot would be a Ghost in a simulation. There is a visual representation, but it can't interact with anything. It will go through the floor and the objects.<br>\n",
    "So, the first thing you have to do is add collisions to your URDF model. Here you have an example for the base_link:"
   ]
  },
  {
   "cell_type": "raw",
   "metadata": {},
   "source": [
    "<link name=\"base_link\">\n",
    "        <collision>\n",
    "            <origin xyz=\"0 0 0\" rpy=\"0 0 0\"/>\n",
    "            <geometry>\n",
    "                <cylinder radius=\"0.06\" length=\"0.09\"/>\n",
    "            </geometry>\n",
    "        </collision>\n",
    "        <visual>\n",
    "            <origin rpy=\"0.0 0 0\" xyz=\"0 0 0\"/>\n",
    "            <geometry>\n",
    "                <mesh filename=\"package://mira_description/models/mira/meshes/mira_body_v3.dae\"/>\n",
    "            </geometry>\n",
    "            <material name=\"grey\"/>\n",
    "        </visual>\n",
    "\t</link>"
   ]
  },
  {
   "cell_type": "markdown",
   "metadata": {},
   "source": [
    "As you can see, the only difference is that there is a new tag called <b>collision</b> that specifies the collision geometry. This is the shape used for calculating the physical contacts.<br>\n",
    "As you might have guessed, you can also use 3D meshes here, like this:"
   ]
  },
  {
   "cell_type": "raw",
   "metadata": {},
   "source": [
    "<link name=\"base_link\">\n",
    "        <collision>\n",
    "            <origin xyz=\"0 0 0\" rpy=\"0 0 0\"/>\n",
    "            <geometry>\n",
    "                <mesh filename=\"package://mira_description/models/mira/meshes/mira_body_v3.dae\"/>\n",
    "            </geometry>\n",
    "        </collision>\n",
    "        <visual>\n",
    "            <origin rpy=\"0.0 0 0\" xyz=\"0 0 0\"/>\n",
    "            <geometry>\n",
    "                <mesh filename=\"package://mira_description/models/mira/meshes/mira_body_v3.dae\"/>\n",
    "            </geometry>\n",
    "            <material name=\"grey\"/>\n",
    "        </visual>\n",
    "\t</link>"
   ]
  },
  {
   "cell_type": "markdown",
   "metadata": {},
   "source": [
    "This is not advised, as the physics calculations are more intensive as the mesh gets more complex.<br>\n",
    "That's why the collisions are normally basic geometric shapes, while the visuals are meshes.<br>\n",
    "Another alternative if the geometry of the contact is crucial, is to use a lower poly version of the virtual mesh. That way, the shape is maintained, but less calculation power is needed."
   ]
  },
  {
   "cell_type": "raw",
   "metadata": {},
   "source": [
    "<link name=\"base_link\">\n",
    "        <collision>\n",
    "            <origin xyz=\"0 0 0\" rpy=\"0 0 0\"/>\n",
    "            <geometry>\n",
    "                <mesh filename=\"package://mira_description/models/mira/meshes/mira_body_v3_lowpolygons.dae\"/>\n",
    "            </geometry>\n",
    "        </collision>\n",
    "        <visual>\n",
    "            <origin rpy=\"0.0 0 0\" xyz=\"0 0 0\"/>\n",
    "            <geometry>\n",
    "                <mesh filename=\"package://mira_description/models/mira/meshes/mira_body_v3.dae\"/>\n",
    "            </geometry>\n",
    "            <material name=\"grey\"/>\n",
    "        </visual>\n",
    "\t</link>"
   ]
  },
  {
   "cell_type": "markdown",
   "metadata": {},
   "source": [
    "## 2. Spawn a robot in Gazebo through URDF Files"
   ]
  },
  {
   "cell_type": "markdown",
   "metadata": {},
   "source": [
    "Now, how do you spawn a URDF file-defined robot into the simulated world?<br>\n",
    "Through these two launch files:"
   ]
  },
  {
   "cell_type": "markdown",
   "metadata": {},
   "source": [
    "This first one's name is <b>spawn_urdf.launch</b>:"
   ]
  },
  {
   "cell_type": "raw",
   "metadata": {},
   "source": [
    "<?xml version=\"1.0\" encoding=\"UTF-8\"?>\n",
    "\n",
    "    <launch>\n",
    "    \n",
    "        <arg name=\"x\" default=\"0.0\" />\n",
    "        <arg name=\"y\" default=\"0.0\" />\n",
    "        <arg name=\"z\" default=\"0.0\" />\n",
    "        \n",
    "        <arg name=\"urdf_robot_file\" default=\"\" />\n",
    "        <arg name=\"robot_name\" default=\"\" />\n",
    "\n",
    "        <!-- This version was created because of some errors seen in the V1 that crashed Gazebo or went too slow in spawn -->\n",
    "        <!-- Load the URDF into the ROS Parameter Server -->\n",
    "        <param name=\"robot_description\" command=\"cat $(arg urdf_robot_file)\" />\n",
    "        \n",
    "        <!-- Run a python script to send a service call to gazebo_ros to spawn a URDF robot -->\n",
    "        <node name=\"urdf_spawner\" pkg=\"gazebo_ros\" type=\"spawn_model\" respawn=\"false\" output=\"screen\"\n",
    "        args=\"-urdf -x $(arg x) -y $(arg y) -z $(arg z)  -model $(arg robot_name) -param robot_description\"/>\n",
    "    </launch>"
   ]
  },
  {
   "cell_type": "markdown",
   "metadata": {},
   "source": [
    "This first launch spawns the given URDF file into the given point in space, if a gazebo simulation is running.<br>\n",
    "You can call this first launch through a second launch, passing the necessary arguments to it:"
   ]
  },
  {
   "cell_type": "markdown",
   "metadata": {},
   "source": [
    "This second one's name is <b>spawn_mira.launch</b>:"
   ]
  },
  {
   "cell_type": "raw",
   "metadata": {},
   "source": [
    "<?xml version=\"1.0\" encoding=\"UTF-8\"?>\n",
    "<launch>\n",
    "    <include file=\"$(find my_mira_description)/launch/spawn_urdf.launch\">\n",
    "        <arg name=\"x\" value=\"0.0\" />\n",
    "        <arg name=\"y\" value=\"0.0\" />\n",
    "        <arg name=\"z\" value=\"0.2\" />\n",
    "        <arg name=\"urdf_robot_file\" value=\"$(find my_mira_description)/urdf/mira.urdf\" />\n",
    "        <arg name=\"robot_name\" value=\"mira\" />\n",
    "    </include>\n",
    "</launch>"
   ]
  },
  {
   "cell_type": "markdown",
   "metadata": {},
   "source": [
    "<p style=\"background:#EE9023;color:white;\">Exercise U2-1</p>"
   ]
  },
  {
   "cell_type": "markdown",
   "metadata": {},
   "source": [
    "Create the two previously mentioned launches to spawn your <b>mira.urdf</b> URDF file."
   ]
  },
  {
   "cell_type": "markdown",
   "metadata": {},
   "source": [
    "Then, add all of the collisions to the links that need to have them.<br>\n",
    "This means that the roll_M1_link, pitch_M2_link, yaw_M3_link, camera_link, and right_eye_link/left_eye_link <b>don't</b> need them.<br> Why?<br>\n",
    "The eyes and camera don't because they are too small or don't protrude to have any significant effect on collisions. As for the roll, pitch, and yaw, they don't have to have collisions because they are virtual links; they don't exist in reality and it would just cause problems that the real robot doesn't have."
   ]
  },
  {
   "cell_type": "markdown",
   "metadata": {},
   "source": [
    "Finally, spawn your URDF and see what happens."
   ]
  },
  {
   "cell_type": "markdown",
   "metadata": {},
   "source": [
    "<p style=\"background:#EE9023;color:white;\">END Exercise U2-1</p>"
   ]
  },
  {
   "cell_type": "markdown",
   "metadata": {},
   "source": [
    "<p style=\"background:#E80000;color:white;\">Warning</p>"
   ]
  },
  {
   "cell_type": "markdown",
   "metadata": {},
   "source": [
    "You might have seen nothing appear, or so it seems.<br>\n",
    "Execute the following command to have a list of all the models inside the simulation:"
   ]
  },
  {
   "cell_type": "markdown",
   "metadata": {},
   "source": [
    "<table style=\"float:left;background: #407EAF\">\n",
    "<tr>\n",
    "<th>\n",
    "<p class=\"transparent\">Execute in WebShell #1</p><br>\n",
    "rosservice call /gazebo/get_world_properties \"{}\"<br>\n",
    "</th>\n",
    "</tr>\n",
    "</table>"
   ]
  },
  {
   "cell_type": "raw",
   "metadata": {},
   "source": [
    "user urdf $ rosservice call /gazebo/get_world_properties \"{}\"                                                                                         \n",
    "sim_time: 17173.946                                                                                                                                   \n",
    "model_names: ['ground_plane', 'mira']                                                                                                                 \n",
    "rendering_enabled: True                                                                                                                               \n",
    "success: True                                                                                                                                         \n",
    "status_message: GetWorldProperties: got properties"
   ]
  },
  {
   "cell_type": "markdown",
   "metadata": {},
   "source": [
    "So it <b>is</b> in the simulation, but it's not represented.<br>\n",
    "That's because Gazebo needs a minimum of the <b>INERTIAS</b> of the object to have it represented, and a <b>VISUAL</b> to know how to represent it. The collisions only define how it will collide, but doesn't give any mass data, vital for a physical simulation in Gazebo.<br>\n",
    "This <b>doesn't happen</b> in <b>SDF</b> files. The inertias are automatically introduced and you can have a robot model with only the collisions and visuals."
   ]
  },
  {
   "cell_type": "markdown",
   "metadata": {},
   "source": [
    "<p style=\"background:#E80000;color:white;\">Warning</p>"
   ]
  },
  {
   "cell_type": "markdown",
   "metadata": {},
   "source": [
    "Don't forget to remove the model from the Gazebo simulation before trying to spawn a new version again. Otherwise, Gazebo won't allow you to spawn a new one."
   ]
  },
  {
   "cell_type": "markdown",
   "metadata": {},
   "source": [
    "<table style=\"float:left;background: #407EAF\">\n",
    "<tr>\n",
    "<th>\n",
    "<p class=\"transparent\">Execute in WebShell #1</p><br>\n",
    "rosservice call /gazebo/delete_model \"model_name: 'mira'\"<br>\n",
    "</th>\n",
    "</tr>\n",
    "</table>"
   ]
  },
  {
   "cell_type": "markdown",
   "metadata": {},
   "source": [
    "Or you can make your life easier by creating a client that removes the model:"
   ]
  },
  {
   "cell_type": "code",
   "execution_count": null,
   "metadata": {
    "collapsed": true
   },
   "outputs": [],
   "source": [
    "#! /usr/bin/env python\n",
    "\n",
    "import rospy\n",
    "from gazebo_msgs.srv import DeleteModel, DeleteModelRequest # Import the service message used by the service /gazebo/delete_model\n",
    "import sys \n",
    "\n",
    "rospy.init_node('remove_model_service_client') # Initialise a ROS node with the name service_client\n",
    "print \"Waiting for Service /gazebo/delete_model\"\n",
    "rospy.wait_for_service('/gazebo/delete_model') # Wait for the service client /gazebo/delete_model to be running\n",
    "delete_model_service = rospy.ServiceProxy('/gazebo/delete_model', DeleteModel) # Create the connection to the service\n",
    "kk = DeleteModelRequest() # Create an object of type DeleteModelRequest\n",
    "kk.model_name = \"mira\" # Fill the variable model_name of this object with the desired value\n",
    "print \"Deleting model =\"+str(kk)\n",
    "status_message = delete_model_service(kk) # Send through the connection the name of the object to be deleted by the service\n",
    "print status_message"
   ]
  },
  {
   "cell_type": "markdown",
   "metadata": {},
   "source": [
    "You can execute it like so:"
   ]
  },
  {
   "cell_type": "markdown",
   "metadata": {},
   "source": [
    "<table style=\"float:left;background: #407EAF\">\n",
    "<tr>\n",
    "<th>\n",
    "<p class=\"transparent\">Execute in WebShell #1</p><br>\n",
    "rosrun my_mira_description remove_mira.py<br>\n",
    "</th>\n",
    "</tr>\n",
    "</table>"
   ]
  },
  {
   "cell_type": "markdown",
   "metadata": {},
   "source": [
    "It's possible that <b>none of these systems will work</b> because there was an error in the spawn or something similar. If this happens, you can remove the model just by <b>right-clicking on it and selecting Delete</b>."
   ]
  },
  {
   "cell_type": "markdown",
   "metadata": {},
   "source": [
    "But if you can't <i>/gazebo/delete_model</i>, the gazebo has probably died. In that case, you should reboot your gazebo, or in RobotIgniteAcademy, just return to Unit 0 and come back to this unit again. That will restart everything."
   ]
  },
  {
   "cell_type": "markdown",
   "metadata": {},
   "source": [
    "## 3. Add Inertias:"
   ]
  },
  {
   "cell_type": "markdown",
   "metadata": {},
   "source": [
    "Here is an example of how the inertias would be added to the base_link:"
   ]
  },
  {
   "cell_type": "raw",
   "metadata": {},
   "source": [
    "\t<!-- * * * Link Definitions * * * -->\n",
    "    <link name=\"base_link\">\n",
    " \t    <inertial>\n",
    "            <origin xyz=\"0 0 0\" rpy=\"0 0 0\"/>\n",
    "            <mass value=\"0.18\" />\n",
    "            <inertia ixx=\"0.0002835\" ixy=\"0.0\" ixz=\"0.0\" iyy=\"0.0002835\" iyz=\"0.0\" izz=\"0.000324\"/>\n",
    "        </inertial>\n",
    "        <collision>\n",
    "            <origin xyz=\"0 0 0\" rpy=\"0 0 0\"/>\n",
    "            <geometry>\n",
    "                <cylinder radius=\"0.06\" length=\"0.09\"/>\n",
    "            </geometry>\n",
    "        </collision>\n",
    "        <visual>\n",
    "            <origin rpy=\"0.0 0 0\" xyz=\"0 0 0\"/>\n",
    "            <geometry>\n",
    "                <mesh filename=\"package://mira_description/models/mira/meshes/mira_body_v3.dae\"/>\n",
    "            </geometry>\n",
    "        </visual>\n",
    "\t</link>\n",
    "\n",
    "    <gazebo reference=\"roll_M1_link\">\n",
    "        <kp>1000.0</kp>\n",
    "        <kd>10.0</kd>\n",
    "        <mu1>10.0</mu1>\n",
    "        <mu2>10.0</mu2>\n",
    "        <!-- <material>Gazebo/Red</material> -->\n",
    "    </gazebo>"
   ]
  },
  {
   "cell_type": "markdown",
   "metadata": {},
   "source": [
    "Here are some elements to comment on:"
   ]
  },
  {
   "cell_type": "raw",
   "metadata": {},
   "source": [
    "<inertial>\n",
    "    <origin xyz=\"0 0 0\" rpy=\"0 0 0\"/>\n",
    "    <mass value=\"0.18\" />\n",
    "    <inertia ixx=\"0.0002835\" ixy=\"0.0\" ixz=\"0.0\" iyy=\"0.0002835\" iyz=\"0.0\" izz=\"0.000324\"/>\n",
    "</inertial>"
   ]
  },
  {
   "cell_type": "markdown",
   "metadata": {},
   "source": [
    "The Inertial tag has:<br>\n",
    "<ul>\n",
    "<li><b>origin</b>: As you already know, this will move the inertia element based on the axis frame of the base_link. For example, it's used for lowering the center of mass of the link element, if needed.</li>\n",
    "<li><b>mass</b>: It's very important that the weight of this link element in Kg is coherent.<br>\n",
    "The reason is that this will condition the dynamics and the power of the actuators used afterwards to move the joints. But because it is not always possible to get the weight of each part of a robot, it at least has to be proportional to the total weight, which is much easier to get.</li>\n",
    "<li><b>inertia</b>: As it states, this is the inertia matrix of the link. It will condition how the link behaves when spinning and moving around.<br>\n",
    "There could be a whole course on inertia calculations. But for you, as the user, you will always assume that the material the link is made of is homogeneous, and the matrix is diagonal. This means that you will only have values in the ixx, iyy, and izz. They will always be calculated based on primary geometric shapes.<br>\n",
    "This link has the basic inertia moments : https://en.wikipedia.org/wiki/List_of_moments_of_inertia</li>\n",
    "</ul>"
   ]
  },
  {
   "cell_type": "markdown",
   "metadata": {},
   "source": [
    "Although this way of calculating the Inertial tag data might seem poor, bear in mind that by approximating inertias to basic shapes, the results are quite close to reality. And if you really need a perfect simulation, you will have to dedicate time to obtaining the exact data from the real model."
   ]
  },
  {
   "cell_type": "markdown",
   "metadata": {},
   "source": [
    "Here you have a simple python script created to calculate the three basic inertia moments based on the mass and different variables."
   ]
  },
  {
   "cell_type": "code",
   "execution_count": null,
   "metadata": {
    "collapsed": true
   },
   "outputs": [],
   "source": [
    "#!/usr/bin/env python\n",
    "import math\n",
    "\n",
    "\n",
    "class InertialCalculator(object):\n",
    "\n",
    "    def __init__(self):\n",
    "        print \"InertialCalculator Initialised...\"\n",
    "\n",
    "    def start_ask_loop(self):\n",
    "\n",
    "        selection = \"START\"\n",
    "\n",
    "        while selection != \"Q\":\n",
    "            print \"#############################\"\n",
    "            print \"Select Geometry to Calculate:\"\n",
    "            print \"[1]Box width(w)*depth(d)*height(h)\"\n",
    "            print \"[2]Sphere radius(r)\"\n",
    "            print \"[3]Cylinder radius(r)*height(h)\"\n",
    "            print \"[Q]END program\"\n",
    "            selection = raw_input(\">>\")\n",
    "            self.select_action(selection)\n",
    "\n",
    "        print \"InertialCaluclator Quit...Thank you\"\n",
    "\n",
    "    def select_action(self, selection):\n",
    "        if selection == \"1\":\n",
    "            mass = float(raw_input(\"mass>>\"))\n",
    "            width = float(raw_input(\"width>>\"))\n",
    "            depth = float(raw_input(\"depth>>\"))\n",
    "            height = float(raw_input(\"height>>\"))\n",
    "            self.calculate_box_inertia(m=mass, w=width, d=depth, h=height)\n",
    "        elif selection == \"2\":\n",
    "            mass = float(raw_input(\"mass>>\"))\n",
    "            radius = float(raw_input(\"radius>>\"))\n",
    "            self.calculate_sphere_inertia(m=mass, r=radius)\n",
    "        elif selection == \"3\":\n",
    "            mass = float(raw_input(\"mass>>\"))\n",
    "            radius = float(raw_input(\"radius>>\"))\n",
    "            height = float(raw_input(\"height>>\"))\n",
    "            self.calculate_cylinder_inertia(m=mass, r=radius, h=height)\n",
    "        elif selection == \"Q\":\n",
    "            print \"Selected Quit\"\n",
    "        else:\n",
    "            print \"Usage: Select one of the give options\"\n",
    "\n",
    "\n",
    "    def calculate_box_inertia(self, m, w, d, h):\n",
    "        Iw = (m/12.0)*(pow(d,2)+pow(h,2))\n",
    "        Id = (m / 12.0) * (pow(w, 2) + pow(h, 2))\n",
    "        Ih = (m / 12.0) * (pow(w, 2) + pow(d, 2))\n",
    "        print \"BOX w*d*h, Iw = \"+str(Iw)+\",Id = \"+str(Id)+\",Ih = \"+str(Ih)\n",
    "\n",
    "    def calculate_sphere_inertia(self, m, r):\n",
    "        I = (2*m*pow(r,2))/5.0\n",
    "        print \"SPHERE Ix,y,z = \"+str(I)\n",
    "\n",
    "    def calculate_cylinder_inertia(self, m, r, h):\n",
    "        Ix = (m/12.0)*(3*pow(r,2)+pow(h,2))\n",
    "        Iy = Ix\n",
    "        Iz = (m*pow(r,2))/2.0\n",
    "        print \"Cylinder Ix,y = \"+str(Ix)+\",Iz = \"+str(Iz)\n",
    "\n",
    "if __name__ == \"__main__\":\n",
    "    inertial_object = InertialCalculator()\n",
    "    inertial_object.start_ask_loop()"
   ]
  },
  {
   "cell_type": "markdown",
   "metadata": {},
   "source": [
    "This will speed up the process of obtaining the inertias of all the links you work on in this course."
   ]
  },
  {
   "cell_type": "markdown",
   "metadata": {},
   "source": [
    "And there is also a \"gazebo\" tag that refers to the link that is setting the physical properties:"
   ]
  },
  {
   "cell_type": "raw",
   "metadata": {},
   "source": [
    "<gazebo reference=\"roll_M1_link\">\n",
    "    <kp>1000.0</kp>\n",
    "    <kd>10.0</kd>\n",
    "    <mu1>10.0</mu1>\n",
    "    <mu2>10.0</mu2>\n",
    "    <!-- <material>Gazebo/Red</material> -->\n",
    "</gazebo>"
   ]
  },
  {
   "cell_type": "markdown",
   "metadata": {},
   "source": [
    "Here the main physical properties of the link are defined:<br>\n",
    "<ul>\n",
    "<li>mu1: The static friction coefficient. In simple terms, it would be how much friction there is until the object starts moving.</li>\n",
    "<li>mu2: The dynamic friction coefficient. In simple terms, it would be how much friction there is when the object is moving.</li>\n",
    "\n",
    "</ul>"
   ]
  },
  {
   "cell_type": "markdown",
   "metadata": {},
   "source": [
    "Here we have the same issue. These values should be calculated through friction tests with elements with the same mass as the links you are setting these values to. You should also bear in mind the materials they are made of, and so on. But in reality, it's setting them with the values that makes the robot behave correctly, not necessarily the real ones."
   ]
  },
  {
   "cell_type": "markdown",
   "metadata": {},
   "source": [
    "<ul>\n",
    "<li>kp: This coefficient sets the static contact stiffness. This determines if the link material is closer to marble (very rigid, bigger values) or more like rubber (soft material, lower values).</li>\n",
    "<li>kp: This coefficient sets the dynamic contact stiffness. This determines if the link material is closer to marble (very rigid, bigger values) or more like rubber (soft material, lower values). It's essentially how much it deforms over a long period of time, exerting its pressure.</li>\n",
    "</ul>"
   ]
  },
  {
   "cell_type": "markdown",
   "metadata": {},
   "source": [
    "In Mira Robot's case, this is not as relevant as with Gurdy Robot, where you will work a bit longer on where locomotion depends on friction with the floor."
   ]
  },
  {
   "cell_type": "markdown",
   "metadata": {},
   "source": [
    "For further details, this Gazebo page gives you all the options for the Gazebo tag. Go to the section on <b>\"Elements For Links\"</b>: http://gazebosim.org/tutorials/?tut=ros_urdf"
   ]
  },
  {
   "cell_type": "markdown",
   "metadata": {},
   "source": [
    "<p style=\"background:#EE9023;color:white;\">Exercise U2-2</p>"
   ]
  },
  {
   "cell_type": "markdown",
   "metadata": {},
   "source": [
    "Add all of the inertial tags for all the links. Use the python programs to calculate the inertias of each link.<br>\n",
    "All of the inertia calculations will be based on the geometry of the collision geometries.<br>\n",
    "Here you have the weight of all the links:<br>\n",
    "<ul>\n",
    "<li>base_link: mass value=\"0.18\"</li>\n",
    "<li>roll_M1_link: value=\"0.001\"</li>\n",
    "<li>pitch_M2_link: value=\"0.001\"</li>\n",
    "<li>yaw_M3_link: value=\"0.001\"</li>\n",
    "<li>head_link: mass value=\"0.02\"</li>\n",
    "<li>left_eye_link: mass value=\"0.001\"</li>\n",
    "<li>right_eye_link: mass value=\"0.001\"</li>\n",
    "<li>camera_link: mass value=\"0.001\"</li>\n",
    "</ul>"
   ]
  },
  {
   "cell_type": "markdown",
   "metadata": {},
   "source": [
    "The links with mass set to <b>0.001</b> are just symbolic mass that has no real effect on the dynamics of the robot, but allow it to be represented in Gazebo."
   ]
  },
  {
   "cell_type": "markdown",
   "metadata": {},
   "source": [
    "<p style=\"background:#EE9023;color:white;\">END Exercise U2-2</p>"
   ]
  },
  {
   "cell_type": "markdown",
   "metadata": {},
   "source": [
    "<p style=\"background:green;color:white;\">Solution Exercise U2.2</p>"
   ]
  },
  {
   "cell_type": "markdown",
   "metadata": {},
   "source": [
    "Please try to do it by yourself, unless you get stuck or need some inspiration. You will learn much more if you fight for each exercise."
   ]
  },
  {
   "cell_type": "markdown",
   "metadata": {},
   "source": [
    "<img src=\"img/robotignite_logo_text.png\"/>"
   ]
  },
  {
   "cell_type": "markdown",
   "metadata": {},
   "source": [
    "When spawning, you should get a perfectly rendered Mira Robot, though it will be limp. Because we haven't set up any friction in the joints, it will continue to move with the residual spawn movement forever."
   ]
  },
  {
   "cell_type": "markdown",
   "metadata": {},
   "source": [
    "<img src=\"img/mira_nocontrollers.gif\"/>"
   ]
  },
  {
   "cell_type": "markdown",
   "metadata": {},
   "source": [
    "Your URDF should be something similar to this:"
   ]
  },
  {
   "cell_type": "raw",
   "metadata": {},
   "source": [
    "<robot name=\"mira\">\n",
    "\n",
    "    <material name=\"blue\">\n",
    "        <color rgba=\"0 0 0.8 1\"/>\n",
    "    </material>\n",
    "    <material name=\"red\">\n",
    "        <color rgba=\"0.8 0 0 1\"/>\n",
    "    </material>\n",
    "    <material name=\"green\">\n",
    "        <color rgba=\"0 0.8 0 1\"/>\n",
    "    </material>\n",
    "\n",
    "\n",
    "\t<!-- * * * Link Definitions * * * -->\n",
    "    <link name=\"base_link\">\n",
    " \t    <inertial>\n",
    "            <origin xyz=\"0 0 0\" rpy=\"0 0 0\"/>\n",
    "            <mass value=\"0.18\" />\n",
    "            <inertia ixx=\"0.0002835\" ixy=\"0.0\" ixz=\"0.0\" iyy=\"0.0002835\" iyz=\"0.0\" izz=\"0.000324\"/>\n",
    "        </inertial>\n",
    "        <collision>\n",
    "            <origin xyz=\"0 0 0\" rpy=\"0 0 0\"/>\n",
    "            <geometry>\n",
    "                <cylinder radius=\"0.06\" length=\"0.09\"/>\n",
    "            </geometry>\n",
    "        </collision>\n",
    "        <visual>\n",
    "            <origin rpy=\"0.0 0 0\" xyz=\"0 0 0\"/>\n",
    "            <geometry>\n",
    "                <mesh filename=\"package://mira_description/models/mira/meshes/mira_body_v3.dae\"/>\n",
    "            </geometry>\n",
    "        </visual>\n",
    "\t</link>\n",
    "\n",
    "    <gazebo reference=\"roll_M1_link\">\n",
    "        <kp>1000.0</kp>\n",
    "        <kd>10.0</kd>\n",
    "        <mu1>10.0</mu1>\n",
    "        <mu2>10.0</mu2>\n",
    "    </gazebo>\n",
    "\n",
    "    <link name=\"roll_M1_link\">\n",
    "        <!-- Inertial for gazebo to take it into account, Put 1gr weight -->\n",
    "        <inertial>\n",
    "            <origin xyz=\"0 0 0\" rpy=\"0 0 0\"/>\n",
    "            <mass value=\"0.001\" />\n",
    "            <inertia ixx=\"2.70833333333e-08\" ixy=\"0.0\" ixz=\"0.0\" iyy=\"2.70833333333e-08\" iyz=\"0.0\" izz=\"5e-08\"/>\n",
    "        </inertial>\n",
    "        <visual>\n",
    "            <origin rpy=\"0 0 0\" xyz=\"0 0 0\"/>\n",
    "            <geometry>\n",
    "                <cylinder length=\"0.005\" radius=\"0.01\"/>\n",
    "            </geometry>\n",
    "            <material name=\"red\"/>\n",
    "        </visual>\n",
    "    </link>\n",
    "    <!-- This is for color and physical properties in Gazebo, color won't work with the material tag in gazebo\n",
    "    only for URDF coloring -->\n",
    "    <gazebo reference=\"roll_M1_link\">\n",
    "        <kp>1000.0</kp>\n",
    "        <kd>10.0</kd>\n",
    "        <mu1>10.0</mu1>\n",
    "        <mu2>10.0</mu2>\n",
    "        <material>Gazebo/Red</material>\n",
    "    </gazebo>\n",
    "\n",
    "    <joint name=\"roll_joint\" type=\"revolute\">\n",
    "    \t<parent link=\"base_link\"/>\n",
    "    \t<child link=\"roll_M1_link\"/>\n",
    "        <origin xyz=\"0.0023 0 -0.0005\" rpy=\"0 0 0\"/>\n",
    "        <limit lower=\"-0.2\" upper=\"0.2\" effort=\"0.1\" velocity=\"0.005\"/>\n",
    "        <axis xyz=\"1 0 0\"/>\n",
    "\t</joint>\n",
    "\n",
    "\n",
    "\n",
    "    <link name=\"pitch_M2_link\">\n",
    "        <!-- Inertial for gazebo to take it into account, Put 1gr weight -->\n",
    "        <inertial>\n",
    "            <origin xyz=\"0 0 0\" rpy=\"0 0 0\"/>\n",
    "            <mass value=\"0.001\" />\n",
    "            <inertia ixx=\"2.70833333333e-08\" ixy=\"0.0\" ixz=\"0.0\" iyy=\"2.70833333333e-08\" iyz=\"0.0\" izz=\"5e-08\"/>\n",
    "        </inertial>\n",
    "        <visual>\n",
    "            <origin rpy=\"0 0 0\" xyz=\"0 0 0\"/>\n",
    "            <geometry>\n",
    "                <cylinder length=\"0.005\" radius=\"0.01\"/>\n",
    "            </geometry>\n",
    "            <material name=\"green\"/>\n",
    "        </visual>\n",
    "    </link>\n",
    "\n",
    "    <!-- This is for color and physical properties in Gazebo, color won't work with the material tag in gazebo\n",
    "    only for URDF coloring -->\n",
    "    <gazebo reference=\"pitch_M2_link\">\n",
    "        <kp>1000.0</kp>\n",
    "        <kd>10.0</kd>\n",
    "        <mu1>10.0</mu1>\n",
    "        <mu2>10.0</mu2>\n",
    "        <material>Gazebo/Green</material>\n",
    "    </gazebo>\n",
    "\n",
    "    <joint name=\"pitch_joint\" type=\"revolute\">\n",
    "    \t<parent link=\"roll_M1_link\"/>\n",
    "    \t<child link=\"pitch_M2_link\"/>\n",
    "    \t<origin xyz=\"0 0 0\" rpy=\"0 -1.5708 0\"/>\n",
    "        <limit lower=\"0\" upper=\"0.44\" effort=\"0.1\" velocity=\"0.005\"/>\n",
    "        <axis xyz=\"0 1 0\"/>\n",
    "\t</joint>\n",
    "\n",
    "\n",
    "    <link name=\"yaw_M3_link\">\n",
    "        <!-- Inertial for gazebo to take it into account, Put 1gr weight -->\n",
    "        <inertial>\n",
    "            <origin xyz=\"0 0 0\" rpy=\"0 0 0\"/>\n",
    "            <mass value=\"0.001\" />\n",
    "            <inertia ixx=\"2.70833333333e-08\" ixy=\"0.0\" ixz=\"0.0\" iyy=\"2.70833333333e-08\" iyz=\"0.0\" izz=\"5e-08\"/>\n",
    "        </inertial>\n",
    "        <visual>\n",
    "            <origin rpy=\"0 0 0\" xyz=\"0 0 0\"/>\n",
    "            <geometry>\n",
    "                <cylinder length=\"0.005\" radius=\"0.01\"/>\n",
    "            </geometry>\n",
    "            <material name=\"blue\"/>\n",
    "        </visual>\n",
    "    </link>\n",
    "\n",
    "    <!-- This is for color and physical properties in Gazebo, color won't work with the material tag in gazebo\n",
    "    only for URDF coloring -->\n",
    "    <gazebo reference=\"yaw_M3_link\">\n",
    "        <kp>1000.0</kp>\n",
    "        <kd>10.0</kd>\n",
    "        <mu1>10.0</mu1>\n",
    "        <mu2>10.0</mu2>\n",
    "        <material>Gazebo/Blue</material>\n",
    "    </gazebo>\n",
    "\n",
    "\n",
    "    <joint name=\"yaw_joint\" type=\"continuous\">\n",
    "    \t<parent link=\"pitch_M2_link\"/>\n",
    "    \t<child link=\"yaw_M3_link\"/>\n",
    "        <origin xyz=\"0.01 0 0\" rpy=\"0 1.5708 0\"/>\n",
    "        <limit effort=\"0.1\" velocity=\"0.01\"/>\n",
    "        <axis xyz=\"0 0 1\"/>\n",
    "\t</joint>\n",
    "\n",
    "\n",
    "    <link name=\"head_link\">\n",
    " \t    <inertial>\n",
    "            <origin xyz=\"0 0 0\" rpy=\"0 0 0\"/>\n",
    "            <mass value=\"0.02\" />\n",
    "            <inertia ixx=\"2.61666666667e-05\" ixy=\"0.0\" ixz=\"0.0\" iyy=\"2.61666666667e-05\" iyz=\"0.0\" izz=\"3.6e-05\"/>\n",
    "        </inertial>\n",
    "        <collision>\n",
    "            <origin xyz=\"0 0 0.015\" rpy=\"0 0 0\"/>\n",
    "            <geometry>\n",
    "                <!--\n",
    "                <cylinder radius=\"0.06\" length=\"0.035\"/>\n",
    "                -->\n",
    "                <sphere radius=\"0.06\"/>\n",
    "            </geometry>\n",
    "        </collision>\n",
    "\t\t<visual>\n",
    "            <origin rpy=\"0.0 0 0\" xyz=\"0 0 0\"/>\n",
    "            <geometry>\n",
    "                <mesh filename=\"package://mira_description/models/mira/meshes/mira_head_v5.dae\"/>\n",
    "            </geometry>\n",
    "        </visual>\n",
    "\t</link>\n",
    "\n",
    "\n",
    "    <joint name=\"base_head_joint\" type=\"fixed\">\n",
    "    \t<parent link=\"yaw_M3_link\"/>\n",
    "    \t<child link=\"head_link\"/>\n",
    "    \t<origin xyz=\"0 0 0\" rpy=\"0 0 0\"/>\n",
    "\t</joint>\n",
    "\n",
    "    <link name=\"left_eye_link\">\n",
    "        <!-- Inertial for gazebo to take it into account, Put 1gr weight -->\n",
    "        <inertial>\n",
    "            <origin xyz=\"0 0 0\" rpy=\"0 0 0\"/>\n",
    "            <mass value=\"0.001\" />\n",
    "            <inertia ixx=\"9.1875e-09\" ixy=\"0.0\" ixz=\"0.0\" iyy=\"9.1875e-09\" iyz=\"0.0\" izz=\"1.378125e-08\"/>\n",
    "        </inertial>\n",
    "\t\t<visual>\n",
    "            <origin rpy=\"0.0 0 0\" xyz=\"0 0 0\"/>\n",
    "            <geometry>\n",
    "                <!--\n",
    "                <cylinder radius=\"0.00525\" length=\"0.00525\"/>\n",
    "                -->\n",
    "                <mesh filename=\"package://mira_description/models/mira/meshes/mira_eye_v4.dae\"/>\n",
    "            </geometry>\n",
    "        </visual>\n",
    "\t</link>\n",
    "\n",
    "    <link name=\"right_eye_link\">\n",
    "        <!-- Inertial for gazebo to take it into account, Put 1gr weight -->\n",
    "        <inertial>\n",
    "            <origin xyz=\"0 0 0\" rpy=\"0 0 0\"/>\n",
    "            <mass value=\"0.001\" />\n",
    "            <inertia ixx=\"9.1875e-09\" ixy=\"0.0\" ixz=\"0.0\" iyy=\"9.1875e-09\" iyz=\"0.0\" izz=\"1.378125e-08\"/>\n",
    "        </inertial>\n",
    "\t\t<visual>\n",
    "            <origin rpy=\"0.0 0 0\" xyz=\"0 0 0\"/>\n",
    "            <geometry>\n",
    "                <!--\n",
    "                <cylinder radius=\"0.00525\" length=\"0.00525\"/>\n",
    "                -->\n",
    "                <mesh filename=\"package://mira_description/models/mira/meshes/mira_eye_v4.dae\"/>\n",
    "            </geometry>\n",
    "        </visual>\n",
    "\t</link>\n",
    "\n",
    "    <joint name=\"head_lefteye_joint\" type=\"fixed\">\n",
    "        <parent link=\"head_link\"/>\n",
    "        <child link=\"left_eye_link\"/>\n",
    "        <origin xyz=\"0.0095 0.057 0.0085\" rpy=\"-1.5708 0 0\"/>\n",
    "    </joint>\n",
    "\n",
    "    <joint name=\"head_righteye_joint\" type=\"fixed\">\n",
    "        <parent link=\"head_link\"/>\n",
    "        <child link=\"right_eye_link\"/>\n",
    "        <origin xyz=\"-0.0095 0.057 0.0085\" rpy=\"-1.5708 0 0\"/>\n",
    "    </joint>\n",
    "\n",
    "    <link name=\"camera_link\">\n",
    "        <!-- Inertial for gazebo to take it into account, Put 1gr weight -->\n",
    "        <inertial>\n",
    "            <origin xyz=\"0 0 0\" rpy=\"0 0 0\"/>\n",
    "            <mass value=\"0.001\" />\n",
    "            <inertia ixx=\"9.1875e-09\" ixy=\"0.0\" ixz=\"0.0\" iyy=\"9.1875e-09\" iyz=\"0.0\" izz=\"1.378125e-08\"/>\n",
    "        </inertial>\n",
    "\t\t<visual>\n",
    "            <origin rpy=\"0.0 0 0\" xyz=\"0 0 0\"/>\n",
    "            <geometry>\n",
    "                <box size=\"0.0005 0.0005 0.0005\"/>\n",
    "            </geometry>\n",
    "            <material name=\"green\"/>\n",
    "        </visual>\n",
    "\t</link>\n",
    "\n",
    "    <gazebo reference=\"camera_link\">\n",
    "        <material>Gazebo/Green</material>\n",
    "    </gazebo>\n",
    "\n",
    "    <joint name=\"head_camera_joint\" type=\"fixed\">\n",
    "        <parent link=\"head_link\"/>\n",
    "        <child link=\"camera_link\"/>\n",
    "        <origin xyz=\"0 0.057 0.0255\" rpy=\"0 0 0\"/>\n",
    "    </joint>\n",
    "\n",
    "\n",
    "</robot>"
   ]
  },
  {
   "cell_type": "markdown",
   "metadata": {},
   "source": [
    "<p style=\"background:#E80000;color:white;\">Warning</p>"
   ]
  },
  {
   "cell_type": "markdown",
   "metadata": {},
   "source": [
    "Don't forget to remove the model from the Gazebo simulation before trying to spawn a new version again. Otherwise, Gazebo won't allow you to spawn a new one."
   ]
  },
  {
   "cell_type": "markdown",
   "metadata": {},
   "source": [
    "<table style=\"float:left;background: #407EAF\">\n",
    "<tr>\n",
    "<th>\n",
    "<p class=\"transparent\">Execute in WebShell #1</p><br>\n",
    "rosservice call /gazebo/delete_model \"model_name: 'mira'\"<br>\n",
    "</th>\n",
    "</tr>\n",
    "</table>"
   ]
  },
  {
   "cell_type": "markdown",
   "metadata": {},
   "source": [
    "If this doesn't work, which sometimes happens in Gazebo, just right-click and hit DELETE."
   ]
  },
  {
   "cell_type": "markdown",
   "metadata": {},
   "source": [
    "## 4. Add controllers:"
   ]
  },
  {
   "cell_type": "markdown",
   "metadata": {},
   "source": [
    "As you have experienced in the previous exercise, Mira's joints don't have any effort applied and, therefore, they fall due to their weight. And we can't move them through the joints publisher gui, as you should know, because that's only a topic that indicates the sensor readings of the encoders inside the actuators (virtual or physical).<br>\n",
    "So, you have to add real actuators to move Mira's joints. These are the steps for a single joint, in this case the \"roll_joint\":"
   ]
  },
  {
   "cell_type": "markdown",
   "metadata": {},
   "source": [
    "### Step 1: Add a transmission tag linked to the joint you want to move:"
   ]
  },
  {
   "cell_type": "raw",
   "metadata": {},
   "source": [
    "    <gazebo>\n",
    "        <plugin name=\"gazebo_ros_control\" filename=\"libgazebo_ros_control.so\">\n",
    "            <robotNamespace>/mira</robotNamespace>\n",
    "        </plugin>\n",
    "    </gazebo>\n",
    "    \n",
    "    <joint name=\"roll_joint\" type=\"revolute\">\n",
    "    \t<parent link=\"base_link\"/>\n",
    "    \t<child link=\"roll_M1_link\"/>\n",
    "        <origin xyz=\"0.0023 0 -0.0005\" rpy=\"0 0 0\"/>\n",
    "        <limit lower=\"-0.2\" upper=\"0.2\" effort=\"0.1\" velocity=\"0.005\"/>\n",
    "        <axis xyz=\"1 0 0\"/>\n",
    "\t</joint>\n",
    "\n",
    "    <transmission name=\"tran1\">\n",
    "        <type>transmission_interface/SimpleTransmission</type>\n",
    "        <joint name=\"roll_joint\">\n",
    "            <hardwareInterface>EffortJointInterface</hardwareInterface>\n",
    "        </joint>\n",
    "        <actuator name=\"motor1\">\n",
    "            <hardwareInterface>EffortJointInterface</hardwareInterface>\n",
    "            <mechanicalReduction>1</mechanicalReduction>\n",
    "        </actuator>\n",
    "    </transmission>"
   ]
  },
  {
   "cell_type": "markdown",
   "metadata": {},
   "source": [
    "Tags explained:"
   ]
  },
  {
   "cell_type": "markdown",
   "metadata": {},
   "source": [
    "First, let's have a look at the joint limits:"
   ]
  },
  {
   "cell_type": "raw",
   "metadata": {},
   "source": [
    "<limit lower=\"-0.2\" upper=\"0.2\" effort=\"0.1\" velocity=\"0.005\"/>"
   ]
  },
  {
   "cell_type": "markdown",
   "metadata": {},
   "source": [
    "As you can see, there is a maximum effort of 0.1, and a maximum velocity of 0.005. This is how fast the joint will be able to go and how much effort they will allow the actuator to apply. This is like selecting the kind of server that you want. Select a server that can move the weight of that link and the ones connected to it down the tree, but don't select a huge server because it will just break your robot, or simply make it fly due to the inertia forces. Bear this in mind because it's very easy to get carried away in virual design, but then the robot behaves in the most bizarre way."
   ]
  },
  {
   "cell_type": "raw",
   "metadata": {},
   "source": [
    "<gazebo>\n",
    "    <plugin name=\"gazebo_ros_control\" filename=\"libgazebo_ros_control.so\">\n",
    "        <robotNamespace>/mira</robotNamespace>\n",
    "    </plugin>\n",
    "</gazebo>"
   ]
  },
  {
   "cell_type": "markdown",
   "metadata": {},
   "source": [
    "This activates the gazebo control plugin for the Mira namespace. This namespace will be set in the main spawn launch file."
   ]
  },
  {
   "cell_type": "raw",
   "metadata": {},
   "source": [
    "<transmission name=\"tran1\">"
   ]
  },
  {
   "cell_type": "markdown",
   "metadata": {},
   "source": [
    "Here you define the name of the transmission, which will have to be unique through the URDF file."
   ]
  },
  {
   "cell_type": "raw",
   "metadata": {},
   "source": [
    "<type>transmission_interface/SimpleTransmission</type>"
   ]
  },
  {
   "cell_type": "markdown",
   "metadata": {},
   "source": [
    "The type of transmission that, for the moment, is the only one implemented: \"transmission_interface/SimpleTransmission\""
   ]
  },
  {
   "cell_type": "raw",
   "metadata": {},
   "source": [
    "<joint name=\"roll_joint\">\n",
    "    <hardwareInterface>EffortJointInterface</hardwareInterface>\n",
    "</joint>"
   ]
  },
  {
   "cell_type": "markdown",
   "metadata": {},
   "source": [
    "Here you link the joint to the transmission and select the hardware interface, which also only has an effort interface working."
   ]
  },
  {
   "cell_type": "raw",
   "metadata": {},
   "source": [
    "<actuator name=\"motor1\">\n",
    "    <hardwareInterface>EffortJointInterface</hardwareInterface>\n",
    "    <mechanicalReduction>1</mechanicalReduction>\n",
    "</actuator>"
   ]
  },
  {
   "cell_type": "markdown",
   "metadata": {},
   "source": [
    "Here you set a unique name for the actuator and again select the hardware interface. As for the reduction, it's self-explanatory."
   ]
  },
  {
   "cell_type": "markdown",
   "metadata": {},
   "source": [
    "All these values are almost always the same, so don't worry too much because, in most cases, putting these values is more than enough."
   ]
  },
  {
   "cell_type": "markdown",
   "metadata": {},
   "source": [
    "### Step 2: Create a Control config yaml to set the PID for each transmission/motor"
   ]
  },
  {
   "cell_type": "markdown",
   "metadata": {},
   "source": [
    "Create a file called <b>mira_control.yaml</b> inside the <b>config</b> folder of your package, <b>my_mira_description</b>."
   ]
  },
  {
   "cell_type": "raw",
   "metadata": {},
   "source": [
    "mira:\n",
    "    # Publish all joint states -----------------------------------\n",
    "    joint_state_controller:\n",
    "      type: joint_state_controller/JointStateController\n",
    "      publish_rate: 50\n",
    "\n",
    "    # Position Controllers ---------------------------------------\n",
    "    roll_joint_position_controller:\n",
    "      type: effort_controllers/JointPositionController\n",
    "      joint: roll_joint\n",
    "      pid: {p: 1.0, i: 1.0, d: 0.0}\n",
    "    # To add more just add them here as the first one"
   ]
  },
  {
   "cell_type": "markdown",
   "metadata": {},
   "source": [
    "Here you will set the publish rate of the joints position, that is now controlled by the joint_state_controller.<br>\n",
    "And you set the joint controllers:<br>\n",
    "<ul>\n",
    "<li>The name of the controller is recommended to have the exact same joint name, proceeded by \"_position_controller\"</li>\n",
    "<li>Then, you select the type, which we recomment as the JointPositionController because we want to control it through the position of the joints.</li>\n",
    "<li>The JointName: This is linking the joint to the controller.</li>\n",
    "<li>pid: Sets the PID values. This is absolutely vital to making the actuators reach the desired position without oscillations or going too slow.</li>\n",
    "</ul>"
   ]
  },
  {
   "cell_type": "markdown",
   "metadata": {},
   "source": [
    "If you are uncertain of how PID work, although it's a deep subject, this tutorial is magnificent for giving a practical idea of how to diagnose PID settings and how to use them: https://www.flitetest.com/articles/p-i-and-sometimes-d-gains-in-a-nutshell"
   ]
  },
  {
   "cell_type": "markdown",
   "metadata": {},
   "source": [
    "Also, you will set a sensible PID at the start, so you can then calibrate it during the execution of movements through the DynamicReconfigure http://wiki.ros.org/dynamic_reconfigure and its GUI, rqt_reconfigure http://wiki.ros.org/rqt_reconfigure.<br>\n",
    "Through rqt_reconfigure, you can change any parameter that is made accesible at runtime. This way, you just have to move the robot and change the values until you see that it behaves in the correct way."
   ]
  },
  {
   "cell_type": "markdown",
   "metadata": {},
   "source": [
    "To use it, you will just have to execute the following command when you spawn Mira with its controllers:"
   ]
  },
  {
   "cell_type": "markdown",
   "metadata": {},
   "source": [
    "<table style=\"float:left;background: #407EAF\">\n",
    "<tr>\n",
    "<th>\n",
    "<p class=\"transparent\">Execute in WebShell #1</p><br>\n",
    "rosrun rqt_reconfigure rqt_reconfigure<br>\n",
    "</th>\n",
    "</tr>\n",
    "</table>"
   ]
  },
  {
   "cell_type": "markdown",
   "metadata": {},
   "source": [
    "### Step 3: Create the control launch file that gets everything running"
   ]
  },
  {
   "cell_type": "markdown",
   "metadata": {},
   "source": [
    "Now, it's time to turn on the switch for the controllers and the actuators. For this, you have to create the following launch file, called <b>mira_control.launch</b>:"
   ]
  },
  {
   "cell_type": "raw",
   "metadata": {},
   "source": [
    "<launch>\n",
    "  <!-- Load joint controller configurations from YAML file to parameter server -->\n",
    "  <rosparam file=\"$(find my_mira_description)/config/mira_control.yaml\" command=\"load\"/>\n",
    "\n",
    "  <!-- load the controllers -->\n",
    "\n",
    "  <node name=\"controller_spawner\" pkg=\"controller_manager\" type=\"spawner\" respawn=\"false\"\n",
    "    output=\"screen\" ns=\"/mira\" args=\"roll_joint_position_controller joint_state_controller --shutdown-timeout 3\"/>\n",
    "\n",
    "  <!-- convert joint states to TF transforms for rviz, etc -->\n",
    "  <node name=\"robot_state_publisher\" pkg=\"robot_state_publisher\" type=\"robot_state_publisher\"\n",
    "    respawn=\"false\" output=\"screen\">\n",
    "    <remap from=\"/joint_states\" to=\"/mira/joint_states\" />\n",
    "  </node>\n",
    "\n",
    "</launch>"
   ]
  },
  {
   "cell_type": "markdown",
   "metadata": {},
   "source": [
    "<b>Be careful with name spaces; they're a source of errors.</b>"
   ]
  },
  {
   "cell_type": "markdown",
   "metadata": {},
   "source": [
    "If you don't understand what's going on in this launch, please refer to our course on <b>TF_ROS</b> for a more detailed explanation.<br>\n",
    "Esentially here we are loading the <b>yaml file</b> and launching the controllers with the robot state publisher for the TF publication."
   ]
  },
  {
   "cell_type": "raw",
   "metadata": {},
   "source": [
    "<node name=\"controller_spawner\" pkg=\"controller_manager\" type=\"spawner\" respawn=\"false\"\n",
    "    output=\"screen\" ns=\"/mira\" args=\"roll_joint_position_controller joint_state_controller\"/>"
   ]
  },
  {
   "cell_type": "markdown",
   "metadata": {},
   "source": [
    "This part is the only one that is really relevant. Here you state that all the controllers that you defined in the yaml are active. In this case, you are only turning on the \"roll_joint_position_controller\" and the \"joint_state_controller.\" When adding more controllers, just add them here.<br>"
   ]
  },
  {
   "cell_type": "markdown",
   "metadata": {},
   "source": [
    "### Step 4: Spawn and launch the controllers in their own name space:"
   ]
  },
  {
   "cell_type": "markdown",
   "metadata": {},
   "source": [
    "The last step is creating a launch that spawns the Mira Robot in its own name space and starts the controllers.<br>\n",
    "Spawning in its own name space allows it to be spawned alongside more robots using the urdf_spawner and other systems."
   ]
  },
  {
   "cell_type": "markdown",
   "metadata": {},
   "source": [
    "You have to define the <b>\"spawn_with_controllers_mira.launch\"</b> that will do the real work."
   ]
  },
  {
   "cell_type": "raw",
   "metadata": {},
   "source": [
    "<?xml version=\"1.0\" encoding=\"UTF-8\"?>\n",
    "<launch>\n",
    "    <include file=\"$(find my_mira_description)/launch/spawn_mira.launch\"/>\n",
    "    <include file=\"$(find my_mira_description)/launch/mira_control.launch\"/>\n",
    "</launch>"
   ]
  },
  {
   "cell_type": "markdown",
   "metadata": {},
   "source": [
    "These two files <b>(spawn_mira.launch and mira_control.launch)</b> you already have, so now you just have to launch your <b>\"spawn_with_controllers_mira.launch.\"</b> It should spawn your Mira URDF model, with the roll joint as fully controllable."
   ]
  },
  {
   "cell_type": "markdown",
   "metadata": {},
   "source": [
    "To test that the controllers are working, you can:\n",
    "<ul>\n",
    "<li>Publish directly in the controllers topics:</li>\n",
    "<li>Publish through the rqt_gui Topic Publishing.</li>\n",
    "</ul>"
   ]
  },
  {
   "cell_type": "markdown",
   "metadata": {},
   "source": [
    "To publish directly, pick a controller command topic; in this case, there must be only one; and publish a position inside the limits of that joint (in this case lower=\"-0.2\" upper=\"0.2\"): "
   ]
  },
  {
   "cell_type": "raw",
   "metadata": {},
   "source": [
    "rostopic pub /mira/roll_joint_position_controller/command std_msgs/Float64 \"data: 0.2\""
   ]
  },
  {
   "cell_type": "markdown",
   "metadata": {},
   "source": [
    "Mira Robot should move its head in the roll direction."
   ]
  },
  {
   "cell_type": "markdown",
   "metadata": {},
   "source": [
    "To publish through the gui, just execute:"
   ]
  },
  {
   "cell_type": "markdown",
   "metadata": {},
   "source": [
    "<table style=\"float:left;background: #407EAF\">\n",
    "<tr>\n",
    "<th>\n",
    "<p class=\"transparent\">Execute in WebShell #1</p><br>\n",
    "rosrun rqt_gui rqt_gui<br>\n",
    "</th>\n",
    "</tr>\n",
    "</table>"
   ]
  },
  {
   "cell_type": "markdown",
   "metadata": {},
   "source": [
    "<img src=\"img/rqtgui.png\"/>"
   ]
  },
  {
   "cell_type": "markdown",
   "metadata": {},
   "source": [
    "<img src=\"img/rqtgui_2.png\"/>"
   ]
  },
  {
   "cell_type": "markdown",
   "metadata": {},
   "source": [
    "Introducing a sinus based on the time (i) and divided by the frequency, Mira should move its head side to side. So, because the yaw is not yet controlled, it continues to move freely."
   ]
  },
  {
   "cell_type": "markdown",
   "metadata": {},
   "source": [
    "<img src=\"img/mira_oneconstroller.gif\"/>"
   ]
  },
  {
   "cell_type": "markdown",
   "metadata": {},
   "source": [
    "<p style=\"background:#EE9023;color:white;\">Exercise U2-3</p>"
   ]
  },
  {
   "cell_type": "markdown",
   "metadata": {},
   "source": [
    "Add two more transmissions; one for the pitch_joint and the other for the yaw_joint.<br>\n",
    "When you have it working by commands, create a python script that moves Mira.<br>\n",
    "Try to make a simple set of movements and try to mimic how it moves in reality.<br>\n",
    "Remember that if you find that the movements are too fast or oscillate too much, you can always use the rqt_reconfigure to tune the PID values.<br>"
   ]
  },
  {
   "cell_type": "markdown",
   "metadata": {},
   "source": [
    "<p style=\"background:#EE9023;color:white;\">END Exercise U2-3</p>"
   ]
  },
  {
   "cell_type": "markdown",
   "metadata": {},
   "source": [
    "<p style=\"background:#E80000;color:white;\">Warning</p>"
   ]
  },
  {
   "cell_type": "markdown",
   "metadata": {},
   "source": [
    "If you have to remove the robot to restart again, due to a gazebo issue, you have to delete the model by RIGHT-clicking and hitting Delete. Don't forget to also close the control launch."
   ]
  },
  {
   "cell_type": "markdown",
   "metadata": {},
   "source": [
    "<p style=\"background:green;color:white;\">Solution Exercise U2.3</p>"
   ]
  },
  {
   "cell_type": "markdown",
   "metadata": {},
   "source": [
    "Please try to do it by yourself, unless you get stuck or need some inspiration. You will learn much more if you fight for each exercise."
   ]
  },
  {
   "cell_type": "markdown",
   "metadata": {},
   "source": [
    "<img src=\"img/robotignite_logo_text.png\"/>"
   ]
  },
  {
   "cell_type": "markdown",
   "metadata": {},
   "source": [
    "This is how your URDF should look:"
   ]
  },
  {
   "cell_type": "raw",
   "metadata": {},
   "source": [
    "<robot name=\"mira\">\n",
    "\n",
    "    <material name=\"blue\">\n",
    "        <color rgba=\"0 0 0.8 1\"/>\n",
    "    </material>\n",
    "    <material name=\"red\">\n",
    "        <color rgba=\"0.8 0 0 1\"/>\n",
    "    </material>\n",
    "    <material name=\"green\">\n",
    "        <color rgba=\"0 0.8 0 1\"/>\n",
    "    </material>\n",
    "\n",
    "    <gazebo>\n",
    "        <plugin name=\"gazebo_ros_control\" filename=\"libgazebo_ros_control.so\">\n",
    "            <robotNamespace>/mira</robotNamespace>\n",
    "        </plugin>\n",
    "    </gazebo>\n",
    "\n",
    "\t<!-- * * * Link Definitions * * * -->\n",
    "    <link name=\"base_link\">\n",
    " \t    <inertial>\n",
    "            <origin xyz=\"0 0 0\" rpy=\"0 0 0\"/>\n",
    "            <mass value=\"0.18\" />\n",
    "            <inertia ixx=\"0.0002835\" ixy=\"0.0\" ixz=\"0.0\" iyy=\"0.0002835\" iyz=\"0.0\" izz=\"0.000324\"/>\n",
    "        </inertial>\n",
    "        <collision>\n",
    "            <origin xyz=\"0 0 0\" rpy=\"0 0 0\"/>\n",
    "            <geometry>\n",
    "                <cylinder radius=\"0.06\" length=\"0.09\"/>\n",
    "            </geometry>\n",
    "        </collision>\n",
    "        <visual>\n",
    "            <origin rpy=\"0.0 0 0\" xyz=\"0 0 0\"/>\n",
    "            <geometry>\n",
    "                <mesh filename=\"package://mira_description/models/mira/meshes/mira_body_v3.dae\"/>\n",
    "            </geometry>\n",
    "        </visual>\n",
    "\t</link>\n",
    "\n",
    "    <gazebo reference=\"roll_M1_link\">\n",
    "        <kp>1000.0</kp>\n",
    "        <kd>10.0</kd>\n",
    "        <mu1>10.0</mu1>\n",
    "        <mu2>10.0</mu2>\n",
    "    </gazebo>\n",
    "\n",
    "    <link name=\"roll_M1_link\">\n",
    "        <!-- Inertial for gazebo to take it into account, Put 1gr weight -->\n",
    "        <inertial>\n",
    "            <origin xyz=\"0 0 0\" rpy=\"0 0 0\"/>\n",
    "            <mass value=\"0.001\" />\n",
    "            <inertia ixx=\"2.70833333333e-08\" ixy=\"0.0\" ixz=\"0.0\" iyy=\"2.70833333333e-08\" iyz=\"0.0\" izz=\"5e-08\"/>\n",
    "        </inertial>\n",
    "        <visual>\n",
    "            <origin rpy=\"0 0 0\" xyz=\"0 0 0\"/>\n",
    "            <geometry>\n",
    "                <cylinder length=\"0.005\" radius=\"0.01\"/>\n",
    "            </geometry>\n",
    "            <material name=\"red\"/>\n",
    "        </visual>\n",
    "    </link>\n",
    "    <!-- This is for color and physical properties in Gazebo, color won't work with the material tag in gazebo\n",
    "    only for URDF coloring -->\n",
    "    <gazebo reference=\"roll_M1_link\">\n",
    "        <kp>1000.0</kp>\n",
    "        <kd>10.0</kd>\n",
    "        <mu1>10.0</mu1>\n",
    "        <mu2>10.0</mu2>\n",
    "        <material>Gazebo/Red</material>\n",
    "    </gazebo>\n",
    "\n",
    "    <joint name=\"roll_joint\" type=\"revolute\">\n",
    "    \t<parent link=\"base_link\"/>\n",
    "    \t<child link=\"roll_M1_link\"/>\n",
    "        <origin xyz=\"0.0023 0 -0.0005\" rpy=\"0 0 0\"/>\n",
    "        <limit lower=\"-0.2\" upper=\"0.2\" effort=\"0.1\" velocity=\"0.005\"/>\n",
    "        <axis xyz=\"1 0 0\"/>\n",
    "\t</joint>\n",
    "\n",
    "    <transmission name=\"tran1\">\n",
    "        <type>transmission_interface/SimpleTransmission</type>\n",
    "        <joint name=\"roll_joint\">\n",
    "            <hardwareInterface>EffortJointInterface</hardwareInterface>\n",
    "        </joint>\n",
    "        <actuator name=\"motor1\">\n",
    "            <hardwareInterface>EffortJointInterface</hardwareInterface>\n",
    "            <mechanicalReduction>1</mechanicalReduction>\n",
    "        </actuator>\n",
    "    </transmission>\n",
    "\n",
    "\n",
    "    <link name=\"pitch_M2_link\">\n",
    "        <!-- Inertial for gazebo to take it into account, Put 1gr weight -->\n",
    "        <inertial>\n",
    "            <origin xyz=\"0 0 0\" rpy=\"0 0 0\"/>\n",
    "            <mass value=\"0.001\" />\n",
    "            <inertia ixx=\"2.70833333333e-08\" ixy=\"0.0\" ixz=\"0.0\" iyy=\"2.70833333333e-08\" iyz=\"0.0\" izz=\"5e-08\"/>\n",
    "        </inertial>\n",
    "        <visual>\n",
    "            <origin rpy=\"0 0 0\" xyz=\"0 0 0\"/>\n",
    "            <geometry>\n",
    "                <cylinder length=\"0.005\" radius=\"0.01\"/>\n",
    "            </geometry>\n",
    "            <material name=\"green\"/>\n",
    "        </visual>\n",
    "    </link>\n",
    "\n",
    "    <!-- This is for color and physical properties in Gazebo, color won't work with the material tag in gazebo\n",
    "    only for URDF coloring -->\n",
    "    <gazebo reference=\"pitch_M2_link\">\n",
    "        <kp>1000.0</kp>\n",
    "        <kd>10.0</kd>\n",
    "        <mu1>10.0</mu1>\n",
    "        <mu2>10.0</mu2>\n",
    "        <material>Gazebo/Green</material>\n",
    "    </gazebo>\n",
    "\n",
    "    <joint name=\"pitch_joint\" type=\"revolute\">\n",
    "    \t<parent link=\"roll_M1_link\"/>\n",
    "    \t<child link=\"pitch_M2_link\"/>\n",
    "    \t<origin xyz=\"0 0 0\" rpy=\"0 -1.5708 0\"/>\n",
    "        <limit lower=\"0\" upper=\"0.44\" effort=\"0.1\" velocity=\"0.005\"/>\n",
    "        <axis xyz=\"0 1 0\"/>\n",
    "\t</joint>\n",
    "\n",
    "    <transmission name=\"tran2\">\n",
    "        <type>transmission_interface/SimpleTransmission</type>\n",
    "        <joint name=\"pitch_joint\">\n",
    "            <hardwareInterface>EffortJointInterface</hardwareInterface>\n",
    "        </joint>\n",
    "        <actuator name=\"motor2\">\n",
    "            <hardwareInterface>EffortJointInterface</hardwareInterface>\n",
    "            <mechanicalReduction>1</mechanicalReduction>\n",
    "        </actuator>\n",
    "    </transmission>\n",
    "\n",
    "    <link name=\"yaw_M3_link\">\n",
    "        <!-- Inertial for gazebo to take it into account, Put 1gr weight -->\n",
    "        <inertial>\n",
    "            <origin xyz=\"0 0 0\" rpy=\"0 0 0\"/>\n",
    "            <mass value=\"0.001\" />\n",
    "            <inertia ixx=\"2.70833333333e-08\" ixy=\"0.0\" ixz=\"0.0\" iyy=\"2.70833333333e-08\" iyz=\"0.0\" izz=\"5e-08\"/>\n",
    "        </inertial>\n",
    "        <visual>\n",
    "            <origin rpy=\"0 0 0\" xyz=\"0 0 0\"/>\n",
    "            <geometry>\n",
    "                <cylinder length=\"0.005\" radius=\"0.01\"/>\n",
    "            </geometry>\n",
    "            <material name=\"blue\"/>\n",
    "        </visual>\n",
    "    </link>\n",
    "\n",
    "    <!-- This is for color and physical properties in Gazebo, color won't work with the material tag in gazebo\n",
    "    only for URDF coloring -->\n",
    "    <gazebo reference=\"yaw_M3_link\">\n",
    "        <kp>1000.0</kp>\n",
    "        <kd>10.0</kd>\n",
    "        <mu1>10.0</mu1>\n",
    "        <mu2>10.0</mu2>\n",
    "        <material>Gazebo/Blue</material>\n",
    "    </gazebo>\n",
    "\n",
    "\n",
    "    <joint name=\"yaw_joint\" type=\"continuous\">\n",
    "    \t<parent link=\"pitch_M2_link\"/>\n",
    "    \t<child link=\"yaw_M3_link\"/>\n",
    "        <origin xyz=\"0.01 0 0\" rpy=\"0 1.5708 0\"/>\n",
    "        <limit effort=\"0.1\" velocity=\"0.01\"/>\n",
    "        <axis xyz=\"0 0 1\"/>\n",
    "\t</joint>\n",
    "\n",
    "    <transmission name=\"tran3\">\n",
    "        <type>transmission_interface/SimpleTransmission</type>\n",
    "        <joint name=\"yaw_joint\">\n",
    "            <hardwareInterface>EffortJointInterface</hardwareInterface>\n",
    "        </joint>\n",
    "        <actuator name=\"motor3\">\n",
    "            <hardwareInterface>EffortJointInterface</hardwareInterface>\n",
    "            <mechanicalReduction>1</mechanicalReduction>\n",
    "        </actuator>\n",
    "    </transmission>\n",
    "\n",
    "    <link name=\"head_link\">\n",
    " \t    <inertial>\n",
    "            <origin xyz=\"0 0 0\" rpy=\"0 0 0\"/>\n",
    "            <mass value=\"0.02\" />\n",
    "            <inertia ixx=\"2.61666666667e-05\" ixy=\"0.0\" ixz=\"0.0\" iyy=\"2.61666666667e-05\" iyz=\"0.0\" izz=\"3.6e-05\"/>\n",
    "        </inertial>\n",
    "        <collision>\n",
    "            <origin xyz=\"0 0 0.015\" rpy=\"0 0 0\"/>\n",
    "            <geometry>\n",
    "                <!--\n",
    "                <cylinder radius=\"0.06\" length=\"0.035\"/>\n",
    "                -->\n",
    "                <sphere radius=\"0.06\"/>\n",
    "            </geometry>\n",
    "        </collision>\n",
    "\t\t<visual>\n",
    "            <origin rpy=\"0.0 0 0\" xyz=\"0 0 0\"/>\n",
    "            <geometry>\n",
    "                <mesh filename=\"package://mira_description/models/mira/meshes/mira_head_v5.dae\"/>\n",
    "            </geometry>\n",
    "        </visual>\n",
    "\t</link>\n",
    "\n",
    "\n",
    "    <joint name=\"base_head_joint\" type=\"fixed\">\n",
    "    \t<parent link=\"yaw_M3_link\"/>\n",
    "    \t<child link=\"head_link\"/>\n",
    "    \t<origin xyz=\"0 0 0\" rpy=\"0 0 0\"/>\n",
    "\t</joint>\n",
    "\n",
    "    <link name=\"left_eye_link\">\n",
    "        <!-- Inertial for gazebo to take it into account, Put 1gr weight -->\n",
    "        <inertial>\n",
    "            <origin xyz=\"0 0 0\" rpy=\"0 0 0\"/>\n",
    "            <mass value=\"0.001\" />\n",
    "            <inertia ixx=\"9.1875e-09\" ixy=\"0.0\" ixz=\"0.0\" iyy=\"9.1875e-09\" iyz=\"0.0\" izz=\"1.378125e-08\"/>\n",
    "        </inertial>\n",
    "\t\t<visual>\n",
    "            <origin rpy=\"0.0 0 0\" xyz=\"0 0 0\"/>\n",
    "            <geometry>\n",
    "                <!--\n",
    "                <cylinder radius=\"0.00525\" length=\"0.00525\"/>\n",
    "                -->\n",
    "                <mesh filename=\"package://mira_description/models/mira/meshes/mira_eye_v4.dae\"/>\n",
    "            </geometry>\n",
    "        </visual>\n",
    "\t</link>\n",
    "\n",
    "    <link name=\"right_eye_link\">\n",
    "        <!-- Inertial for gazebo to take it into account, Put 1gr weight -->\n",
    "        <inertial>\n",
    "            <origin xyz=\"0 0 0\" rpy=\"0 0 0\"/>\n",
    "            <mass value=\"0.001\" />\n",
    "            <inertia ixx=\"9.1875e-09\" ixy=\"0.0\" ixz=\"0.0\" iyy=\"9.1875e-09\" iyz=\"0.0\" izz=\"1.378125e-08\"/>\n",
    "        </inertial>\n",
    "\t\t<visual>\n",
    "            <origin rpy=\"0.0 0 0\" xyz=\"0 0 0\"/>\n",
    "            <geometry>\n",
    "                <!--\n",
    "                <cylinder radius=\"0.00525\" length=\"0.00525\"/>\n",
    "                -->\n",
    "                <mesh filename=\"package://mira_description/models/mira/meshes/mira_eye_v4.dae\"/>\n",
    "            </geometry>\n",
    "        </visual>\n",
    "\t</link>\n",
    "\n",
    "    <joint name=\"head_lefteye_joint\" type=\"fixed\">\n",
    "        <parent link=\"head_link\"/>\n",
    "        <child link=\"left_eye_link\"/>\n",
    "        <origin xyz=\"0.0095 0.057 0.0085\" rpy=\"-1.5708 0 0\"/>\n",
    "    </joint>\n",
    "\n",
    "    <joint name=\"head_righteye_joint\" type=\"fixed\">\n",
    "        <parent link=\"head_link\"/>\n",
    "        <child link=\"right_eye_link\"/>\n",
    "        <origin xyz=\"-0.0095 0.057 0.0085\" rpy=\"-1.5708 0 0\"/>\n",
    "    </joint>\n",
    "\n",
    "    <link name=\"camera_link\">\n",
    "        <!-- Inertial for gazebo to take it into account, Put 1gr weight -->\n",
    "        <inertial>\n",
    "            <origin xyz=\"0 0 0\" rpy=\"0 0 0\"/>\n",
    "            <mass value=\"0.001\" />\n",
    "            <inertia ixx=\"9.1875e-09\" ixy=\"0.0\" ixz=\"0.0\" iyy=\"9.1875e-09\" iyz=\"0.0\" izz=\"1.378125e-08\"/>\n",
    "        </inertial>\n",
    "\t\t<visual>\n",
    "            <origin rpy=\"0.0 0 0\" xyz=\"0 0 0\"/>\n",
    "            <geometry>\n",
    "                <box size=\"0.0005 0.0005 0.0005\"/>\n",
    "            </geometry>\n",
    "            <material name=\"green\"/>\n",
    "        </visual>\n",
    "\t</link>\n",
    "\n",
    "    <gazebo reference=\"camera_link\">\n",
    "        <material>Gazebo/Green</material>\n",
    "    </gazebo>\n",
    "\n",
    "    <joint name=\"head_camera_joint\" type=\"fixed\">\n",
    "        <parent link=\"head_link\"/>\n",
    "        <child link=\"camera_link\"/>\n",
    "        <origin xyz=\"0 0.057 0.0255\" rpy=\"0 0 0\"/>\n",
    "    </joint>\n",
    "\n",
    "\n",
    "</robot>"
   ]
  },
  {
   "cell_type": "markdown",
   "metadata": {},
   "source": [
    "And the launch control file should be similar to this:"
   ]
  },
  {
   "cell_type": "raw",
   "metadata": {},
   "source": [
    "<launch>\n",
    "  <!-- Load joint controller configurations from YAML file to parameter server -->\n",
    "  <rosparam file=\"$(find my_mira_description)/config/mira_control.yaml\" command=\"load\"/>\n",
    "\n",
    "  <!-- load the controllers -->\n",
    "\n",
    "  <node name=\"controller_spawner\" pkg=\"controller_manager\" type=\"spawner\" respawn=\"false\"\n",
    "    output=\"screen\" ns=\"/mira\" args=\"roll_joint_position_controller pitch_joint_position_controller yaw_joint_position_controller joint_state_controller --shutdown-timeout 3\"/>\n",
    "\n",
    "  <!-- convert joint states to TF transforms for rviz, etc -->\n",
    "  <node name=\"robot_state_publisher\" pkg=\"robot_state_publisher\" type=\"robot_state_publisher\"\n",
    "    respawn=\"false\" output=\"screen\">\n",
    "    <remap from=\"/joint_states\" to=\"/mira/joint_states\" />\n",
    "  </node>\n",
    "\n",
    "</launch>"
   ]
  },
  {
   "cell_type": "markdown",
   "metadata": {},
   "source": [
    "And the yaml file should be:"
   ]
  },
  {
   "cell_type": "raw",
   "metadata": {},
   "source": [
    "mira:\n",
    "    # Publish all joint states -----------------------------------\n",
    "    joint_state_controller:\n",
    "      type: joint_state_controller/JointStateController\n",
    "      publish_rate: 50\n",
    "    \n",
    "    # Position Controllers ---------------------------------------\n",
    "    roll_joint_position_controller:\n",
    "      type: effort_controllers/JointPositionController\n",
    "      joint: roll_joint\n",
    "      pid: {p: 1.0, i: 1.0, d: 0.0}\n",
    "    pitch_joint_position_controller:\n",
    "      type: effort_controllers/JointPositionController\n",
    "      joint: pitch_joint\n",
    "      pid: {p: 1.0, i: 1.0, d: 0.0}\n",
    "    yaw_joint_position_controller:\n",
    "      type: effort_controllers/JointPositionController\n",
    "      joint: yaw_joint\n",
    "      pid: {p: 1.0, i: 1.0, d: 0.0}"
   ]
  },
  {
   "cell_type": "markdown",
   "metadata": {},
   "source": [
    "And here is an example of how a moving python script could be done and what movement it should generate:"
   ]
  },
  {
   "cell_type": "markdown",
   "metadata": {},
   "source": [
    "<img src=\"img/mira_solo.gif\"/>"
   ]
  },
  {
   "cell_type": "code",
   "execution_count": 1,
   "metadata": {},
   "outputs": [
    {
     "ename": "ModuleNotFoundError",
     "evalue": "No module named 'rospy'",
     "output_type": "error",
     "traceback": [
      "\u001b[1;31m---------------------------------------------------------------------------\u001b[0m",
      "\u001b[1;31mModuleNotFoundError\u001b[0m                       Traceback (most recent call last)",
      "\u001b[1;32m<ipython-input-1-e7d9cedf10e2>\u001b[0m in \u001b[0;36m<module>\u001b[1;34m()\u001b[0m\n\u001b[0;32m      1\u001b[0m \u001b[1;31m#!/usr/bin/env python\u001b[0m\u001b[1;33m\u001b[0m\u001b[1;33m\u001b[0m\u001b[0m\n\u001b[0;32m      2\u001b[0m \u001b[1;32mimport\u001b[0m \u001b[0mtime\u001b[0m\u001b[1;33m\u001b[0m\u001b[0m\n\u001b[1;32m----> 3\u001b[1;33m \u001b[1;32mimport\u001b[0m \u001b[0mrospy\u001b[0m\u001b[1;33m\u001b[0m\u001b[0m\n\u001b[0m\u001b[0;32m      4\u001b[0m \u001b[1;32mfrom\u001b[0m \u001b[0mmath\u001b[0m \u001b[1;32mimport\u001b[0m \u001b[0mpi\u001b[0m\u001b[1;33m,\u001b[0m \u001b[0msin\u001b[0m\u001b[1;33m,\u001b[0m \u001b[0mcos\u001b[0m\u001b[1;33m,\u001b[0m \u001b[0macos\u001b[0m\u001b[1;33m\u001b[0m\u001b[0m\n\u001b[0;32m      5\u001b[0m \u001b[1;32mimport\u001b[0m \u001b[0mrandom\u001b[0m\u001b[1;33m\u001b[0m\u001b[0m\n",
      "\u001b[1;31mModuleNotFoundError\u001b[0m: No module named 'rospy'"
     ]
    }
   ],
   "source": [
    "#!/usr/bin/env python\n",
    "import time\n",
    "import rospy\n",
    "from math import pi, sin, cos, acos\n",
    "import random\n",
    "from std_msgs.msg import Float64\n",
    "from sensor_msgs.msg import JointState\n",
    "\"\"\"\n",
    "Topics To Write on:\n",
    "type: std_msgs/Float64\n",
    "/mira/pitch_joint_position_controller/command\n",
    "/mira/roll_joint_position_controller/command\n",
    "/mira/yaw_joint_position_controller/command\n",
    "\"\"\"\n",
    "\n",
    "class MiraJointMover(object):\n",
    "\n",
    "    def __init__(self):\n",
    "        rospy.init_node('jointmover_demo', anonymous=True)\n",
    "        rospy.loginfo(\"Mira JointMover Initialising...\")\n",
    "        self.pub_mira_roll_joint_position = rospy.Publisher('/mira/roll_joint_position_controller/command',\n",
    "                                                            Float64,\n",
    "                                                            queue_size=1)\n",
    "        self.pub_mira_pitch_joint_position = rospy.Publisher('/mira/pitch_joint_position_controller/command',\n",
    "                                                             Float64,\n",
    "                                                             queue_size=1)\n",
    "        self.pub_mira_yaw_joint_position = rospy.Publisher('/mira/yaw_joint_position_controller/command',\n",
    "                                                           Float64,\n",
    "                                                           queue_size=1)\n",
    "        joint_states_topic_name = \"/mira/joint_states\"\n",
    "        rospy.Subscriber(joint_states_topic_name, JointState, self.mira_joints_callback)\n",
    "        mira_joints_data = None\n",
    "        while mira_joints_data is None:\n",
    "            try:\n",
    "                mira_joints_data = rospy.wait_for_message(joint_states_topic_name, JointState, timeout=5)\n",
    "            except:\n",
    "                rospy.logwarn(\"Time out \" + str(joint_states_topic_name))\n",
    "                pass\n",
    "\n",
    "        self.mira_joint_dictionary = dict(zip(mira_joints_data.name, mira_joints_data.position))\n",
    "\n",
    "    def move_mira_all_joints(self, roll, pitch, yaw):\n",
    "        angle_roll = Float64()\n",
    "        angle_roll.data = roll\n",
    "        angle_pitch = Float64()\n",
    "        angle_pitch.data = pitch\n",
    "        angle_yaw = Float64()\n",
    "        angle_yaw.data = yaw\n",
    "        self.pub_mira_roll_joint_position.publish(angle_roll)\n",
    "        self.pub_mira_pitch_joint_position.publish(angle_pitch)\n",
    "        self.pub_mira_yaw_joint_position.publish(angle_yaw)\n",
    "\n",
    "    def move_mira_roll_joint(self, position):\n",
    "        \"\"\"\n",
    "        limits radians : lower=\"-0.2\" upper=\"0.2\"\n",
    "        :param position:\n",
    "        :return:\n",
    "        \"\"\"\n",
    "        angle = Float64()\n",
    "        angle.data = position\n",
    "        self.pub_mira_roll_joint_position.publish(angle)\n",
    "\n",
    "    def move_mira_pitch_joint(self, position):\n",
    "        \"\"\"\n",
    "        limits radians : lower=\"0\" upper=\"0.44\"\n",
    "        :param position:\n",
    "        :return:\n",
    "        \"\"\"\n",
    "        angle = Float64()\n",
    "        angle.data = position\n",
    "        self.pub_mira_pitch_joint_position.publish(angle)\n",
    "\n",
    "    def move_mira_yaw_joint(self, position):\n",
    "        \"\"\"\n",
    "        Limits : continuous, no limits\n",
    "        :param position:\n",
    "        :return:\n",
    "        \"\"\"\n",
    "        angle = Float64()\n",
    "        angle.data = position\n",
    "        self.pub_mira_yaw_joint_position.publish(angle)\n",
    "\n",
    "    def mira_joints_callback(self, msg):\n",
    "        \"\"\"\n",
    "        sensor_msgs/JointState\n",
    "        std_msgs/Header header\n",
    "        uint32 seq\n",
    "        time stamp\n",
    "        string frame_id\n",
    "        string[] name\n",
    "        float64[] position\n",
    "        float64[] velocity\n",
    "        float64[] effort\n",
    "\n",
    "        :param msg:\n",
    "        :return:\n",
    "        \"\"\"\n",
    "        self.mira_joint_dictionary = dict(zip(msg.name, msg.position))\n",
    "\n",
    "    def mira_check_joint_value(self, joint_name, value, error=0.1):\n",
    "        \"\"\"\n",
    "        Check the joint by name 'pitch_joint', 'roll_joint', 'yaw_joint' is near the value given\n",
    "        :param value:\n",
    "        :return:\n",
    "        \"\"\"\n",
    "        similar = self.mira_joint_dictionary.get(joint_name) >= (value - error ) and self.mira_joint_dictionary.get(joint_name) <= (value + error )\n",
    "\n",
    "        return similar\n",
    "\n",
    "    def convert_angle_to_unitary(self, angle):\n",
    "        \"\"\"\n",
    "        Removes complete revolutions from angle and converts to positive equivalent\n",
    "        if the angle is negative\n",
    "        :param angle: Has to be in radians\n",
    "        :return:\n",
    "        \"\"\"\n",
    "        # Convert to angle between [0,360)\n",
    "        complete_rev = 2 * pi\n",
    "        mod_angle = int(angle / complete_rev)\n",
    "        clean_angle = angle - mod_angle * complete_rev\n",
    "        # Convert Negative angles to their corresponding positive values\n",
    "        if clean_angle < 0:\n",
    "            clean_angle += 2 * pi\n",
    "\n",
    "        return clean_angle\n",
    "\n",
    "    def assertAlmostEqualAngles(self, x, y,):\n",
    "        c2 = (sin(x) - sin(y)) ** 2 + (cos(x) - cos(y)) ** 2\n",
    "        angle_diff = acos((2.0 - c2) / 2.0)\n",
    "        return angle_diff\n",
    "\n",
    "    def mira_check_continuous_joint_value(self, joint_name, value, error=0.1):\n",
    "        \"\"\"\n",
    "        Check the joint by name 'pitch_joint', 'roll_joint', 'yaw_joint' is near the value given\n",
    "        We have to convert the joint values removing whole revolutions and converting negative versions\n",
    "        of the same angle\n",
    "        :param value:\n",
    "        :return:\n",
    "        \"\"\"\n",
    "        joint_reading = self.mira_joint_dictionary.get(joint_name)\n",
    "        clean_joint_reading = self.convert_angle_to_unitary(angle=joint_reading)\n",
    "        clean_value = self.convert_angle_to_unitary(angle=value)\n",
    "\n",
    "        dif_angles = self.assertAlmostEqualAngles(clean_joint_reading, clean_value)\n",
    "        similar = dif_angles <= error\n",
    "\n",
    "        return similar\n",
    "\n",
    "    def mira_movement_sayno(self):\n",
    "        \"\"\"\n",
    "        Make Mira say no with the head\n",
    "        :return:\n",
    "        \"\"\"\n",
    "        check_rate = 5.0\n",
    "        position = 0.7\n",
    "\n",
    "\n",
    "        rate = rospy.Rate(check_rate)\n",
    "        for repetition in range(2):\n",
    "            similar = False\n",
    "            while not similar:\n",
    "                self.move_mira_yaw_joint(position=position)\n",
    "                # WARNING: THE COMMAND HAS TO BE PUBLISHED UNTIL THE GOAL IS REACHED\n",
    "                # This is because, when publishing a topic, the first time doesn't always work.\n",
    "                similar = self.mira_check_continuous_joint_value(joint_name=\"yaw_joint\", value=position)\n",
    "\n",
    "                rate.sleep()\n",
    "            position *= -1\n",
    "\n",
    "\n",
    "\n",
    "    def mira_movement_look(self, roll, pitch, yaw):\n",
    "        \"\"\"\n",
    "        Make Mira look down\n",
    "        :return:\n",
    "        \"\"\"\n",
    "        check_rate = 5.0\n",
    "        position_roll = roll\n",
    "        position_pitch = pitch\n",
    "        position_yaw = yaw\n",
    "\n",
    "        similar_roll = False\n",
    "        similar_pitch = False\n",
    "        similar_yaw = False\n",
    "        rate = rospy.Rate(check_rate)\n",
    "        while not (similar_roll and similar_pitch and similar_yaw):\n",
    "            self.move_mira_all_joints(position_roll, position_pitch, position_yaw)\n",
    "            similar_roll = self.mira_check_continuous_joint_value(joint_name=\"roll_joint\", value=position_roll)\n",
    "            similar_pitch = self.mira_check_continuous_joint_value(joint_name=\"pitch_joint\", value=position_pitch)\n",
    "            similar_yaw = self.mira_check_continuous_joint_value(joint_name=\"yaw_joint\", value=position_yaw)\n",
    "            rate.sleep()\n",
    "\n",
    "\n",
    "    def mira_lookup(self):\n",
    "\n",
    "        self.mira_movement_look(roll=0.0,pitch=0.3,yaw=1.57)\n",
    "\n",
    "    def mira_lookdown(self):\n",
    "\n",
    "        self.mira_movement_look(roll=0.0,pitch=0.0,yaw=1.57)\n",
    "\n",
    "    def mira_movement_laugh(self, set_rpy=False, roll=0.05, pitch=0.0, yaw=1.57, n_giggle=15):\n",
    "        \"\"\"\n",
    "        Giggle in a given pitch yaw configuration\n",
    "        :return:\n",
    "        \"\"\"\n",
    "        position_roll = roll\n",
    "        position_pitch = pitch\n",
    "        position_yaw = yaw\n",
    "        for repetitions in range(n_giggle):\n",
    "            if set_rpy:\n",
    "                self.move_mira_all_joints(position_roll, position_pitch, position_yaw)\n",
    "            else:\n",
    "                self.move_mira_roll_joint(position_roll)\n",
    "            time.sleep(0.1)\n",
    "            position_roll *= -1\n",
    "\n",
    "    def mira_moverandomly(self):\n",
    "        roll = random.uniform(-0.15, 0.15)\n",
    "        pitch = random.uniform(0.0, 0.3)\n",
    "        yaw = random.uniform(0.0, 2*pi)\n",
    "        self.mira_movement_look(roll, pitch, yaw)\n",
    "\n",
    "    def movement_random_loop(self):\n",
    "        \"\"\"\n",
    "        Executed movements in a random way\n",
    "        :return:\n",
    "        \"\"\"\n",
    "        rospy.loginfo(\"Start Moving Mira...\")\n",
    "        while not rospy.is_shutdown():\n",
    "            self.mira_moverandomly()\n",
    "            self.mira_movement_laugh()\n",
    "\n",
    "\n",
    "if __name__ == \"__main__\":\n",
    "    mira_jointmover_object = MiraJointMover()\n",
    "    mira_jointmover_object.movement_random_loop()\n",
    "\n"
   ]
  },
  {
   "cell_type": "markdown",
   "metadata": {},
   "source": [
    "Basically, this class publishes in the controller topics <b>( /mira/roll_joint_position_controller/command, /mira/pitch_joint_position_controller/command /mira/yaw_joint_position_controller/command )</b> and checks the <b>/mira/joint_states</b> topic to make sure that the robot has arrived at the given position.<br>\n",
    "It also deals with the fact that joint angles sometimes have negative or complete turn versions of the same angle, and you have to make a system similar to the one in the function \"assertAlmostEqualAngles\" to be sure that the angles are the same, even though they might be different versions of the same angle."
   ]
  },
  {
   "cell_type": "markdown",
   "metadata": {},
   "source": [
    "For more details:<br>\n",
    "http://gazebosim.org/tutorials/?tut=ros_control<br>\n",
    "http://wiki.ros.org/urdf/XML/Transmission"
   ]
  },
  {
   "cell_type": "markdown",
   "metadata": {},
   "source": [
    "## 5. Adding Sensors"
   ]
  },
  {
   "cell_type": "markdown",
   "metadata": {},
   "source": [
    "The last step is to add sensors to the robot. In this case, you have to add a camera where the \"camera_link\" is.<br>\n",
    "But thanks to the gazebo plugin system, this is a plug and play operation. You just have to add the following tag to the end of the URDF file:"
   ]
  },
  {
   "cell_type": "raw",
   "metadata": {},
   "source": [
    "<!-- camera -->\n",
    "  <gazebo reference=\"camera_link\">\n",
    "    <sensor type=\"camera\" name=\"camera1\">\n",
    "      <update_rate>15.0</update_rate>\n",
    "      <camera name=\"head\">\n",
    "\n",
    "          <pose>0 0 0 0 0 1.57</pose>\n",
    "\n",
    "        <horizontal_fov>1.3962634</horizontal_fov>\n",
    "        <image>\n",
    "          <width>400</width>\n",
    "          <height>400</height>\n",
    "          <format>R8G8B8</format>\n",
    "        </image>\n",
    "        <clip>\n",
    "          <near>0.01</near>\n",
    "          <far>100</far>\n",
    "        </clip>\n",
    "        <noise>\n",
    "          <type>gaussian</type>\n",
    "          <stddev>0.007</stddev>\n",
    "        </noise>\n",
    "      </camera>\n",
    "      <plugin name=\"camera_controller\" filename=\"libgazebo_ros_camera.so\">\n",
    "        <alwaysOn>true</alwaysOn>\n",
    "        <updateRate>0.0</updateRate>\n",
    "        <cameraName>mira/camera1</cameraName>\n",
    "        <imageTopicName>image_raw</imageTopicName>\n",
    "        <cameraInfoTopicName>camera_info</cameraInfoTopicName>\n",
    "        <frameName>camera_link</frameName>\n",
    "        <hackBaseline>0.07</hackBaseline>\n",
    "        <distortionK1>0.0</distortionK1>\n",
    "        <distortionK2>0.0</distortionK2>\n",
    "        <distortionK3>0.0</distortionK3>\n",
    "        <distortionT1>0.0</distortionT1>\n",
    "        <distortionT2>0.0</distortionT2>\n",
    "      </plugin>\n",
    "    </sensor>\n",
    "  </gazebo>"
   ]
  },
  {
   "cell_type": "markdown",
   "metadata": {},
   "source": [
    "As you can see, there are many variables that can be changed to adapt the camera to the real specifications. But the most important variable to set is the <b>reference=\"camera_link,\"</b> which will link the camera to the camera_link position. The <b>pose</b> tag is also important. This allows it to point the camera where it should go and not based on the camera_link axis. In this case, you can see that it's turned 90º to point in the correct direction."
   ]
  },
  {
   "cell_type": "markdown",
   "metadata": {},
   "source": [
    "To view what the camera sees, just execute rqt_image_view and select the image topic:"
   ]
  },
  {
   "cell_type": "markdown",
   "metadata": {},
   "source": [
    "<table style=\"float:left;background: #407EAF\">\n",
    "<tr>\n",
    "<th>\n",
    "<p class=\"transparent\">Execute in WebShell #2</p><br>\n",
    "rosrun rqt_image_view rqt_image_view \n",
    "</th>\n",
    "</tr>\n",
    "</table>"
   ]
  },
  {
   "cell_type": "markdown",
   "metadata": {},
   "source": [
    "Then, open GraphicalTools:"
   ]
  },
  {
   "cell_type": "markdown",
   "metadata": {},
   "source": [
    "<img src=\"img/font-awesome_desktop.png\">"
   ]
  },
  {
   "cell_type": "markdown",
   "metadata": {},
   "source": [
    "<img src=\"img/mira_cam.png\"/>"
   ]
  },
  {
   "cell_type": "markdown",
   "metadata": {},
   "source": [
    "<p style=\"background:#E80000;color:white;\">Warning</p>"
   ]
  },
  {
   "cell_type": "markdown",
   "metadata": {},
   "source": [
    "In this case, removing the robot <b>with sensors</b> will crash Gazebo in any system. This is a known issue and they are working on solving it. For you as user, when you delete a robot model with sensors, just restart your Gazebo or, in RobotIgniteCase, just go to Unit 0 and come back again, restarting all of the systems."
   ]
  },
  {
   "cell_type": "markdown",
   "metadata": {},
   "source": [
    "Another solution is executing the command \"rosservice call /gazebo/reset_simulation TAB-TAB.\" This will kill the Gazebo process that might be a zombie. Once Gazebo is killed, RobotIgniteSystem will detect it and relaunch a fresh, new Gazebo for you."
   ]
  },
  {
   "cell_type": "markdown",
   "metadata": {},
   "source": [
    "## Congratulations! You can now create any robot from scratch and simulate it in Gazebo"
   ]
  },
  {
   "cell_type": "markdown",
   "metadata": {},
   "source": [
    "In the next unit, you will learn how to create the Gurdy Robot and how to convert URDF files into XACRO format files for cleaner robot model definitions."
   ]
  }
 ],
 "metadata": {
  "kernelspec": {
   "display_name": "Python 2",
   "language": "python",
   "name": "python2"
  },
  "language_info": {
   "codemirror_mode": {
    "name": "ipython",
    "version": 2
   },
   "file_extension": ".py",
   "mimetype": "text/x-python",
   "name": "python",
   "nbconvert_exporter": "python",
   "pygments_lexer": "ipython2",
   "version": "2.7.12"
  }
 },
 "nbformat": 4,
 "nbformat_minor": 1
}
