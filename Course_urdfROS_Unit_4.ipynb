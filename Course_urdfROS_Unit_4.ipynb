{
 "cells": [
  {
   "cell_type": "markdown",
   "metadata": {},
   "source": [
    "# Unit 4: XACRO files"
   ]
  },
  {
   "cell_type": "markdown",
   "metadata": {},
   "source": [
    "As you might have experienced already, very simple robots can have really big and complex URDF files.<br>\n",
    "For this reason and to be able make URDF files more flexible for change, XACROS are used in Robot Model definitions even more than URDF files."
   ]
  },
  {
   "cell_type": "markdown",
   "metadata": {},
   "source": [
    "XACROS also give some tools for making simple Math operations inside the URDF files, as well as having Constants and MACROS."
   ]
  },
  {
   "cell_type": "markdown",
   "metadata": {},
   "source": [
    "## 1. Basics on using XACRO"
   ]
  },
  {
   "cell_type": "markdown",
   "metadata": {},
   "source": [
    "Xacro is based on a macro language. All Xacro files end up being a single URDF file, but this way, you will have much cleaner and easier-to-maintain robot model definitions."
   ]
  },
  {
   "cell_type": "markdown",
   "metadata": {},
   "source": [
    "You can generate a URDF from a XACRO file by just executing:"
   ]
  },
  {
   "cell_type": "raw",
   "metadata": {},
   "source": [
    "rosrun xacro xacro model.xacro > model.urdf"
   ]
  },
  {
   "cell_type": "markdown",
   "metadata": {},
   "source": [
    "But the best way is to generate the URDF files on the fly each time you execute a launch file. This way, you will occupy less memory. The only drawback is the fact that it has to be generated each time the launch is executed, which is slower than using a URDF directly."
   ]
  },
  {
   "cell_type": "raw",
   "metadata": {},
   "source": [
    "<param name=\"robot_description\"\n",
    "  command=\"$(find xacro)/xacro '$(find my_robot_description)/robots/myrobot.urdf.xacro'\" />"
   ]
  },
  {
   "cell_type": "markdown",
   "metadata": {},
   "source": [
    "It's common to put the XACRO files inside the \"robots\" folder."
   ]
  },
  {
   "cell_type": "markdown",
   "metadata": {},
   "source": [
    "## 2. Create your own XACRO"
   ]
  },
  {
   "cell_type": "markdown",
   "metadata": {},
   "source": [
    "You are going to make a XACRO VERSION OF the Gurdy Robot.<br>\n",
    "So, the first line in a XACRO file is:"
   ]
  },
  {
   "cell_type": "raw",
   "metadata": {},
   "source": [
    "<?xml version=\"1.0\"?>\n",
    "<robot xmlns:xacro=\"http://www.ros.org/wiki/xacro\" name=\"gurdy\">"
   ]
  },
  {
   "cell_type": "markdown",
   "metadata": {},
   "source": [
    "So, let's create a \"robot\" folder inside the my_gurdy_package; and inside that, create <b>gurdy.urdf.xacro</b>."
   ]
  },
  {
   "cell_type": "markdown",
   "metadata": {},
   "source": [
    "Let's start optimizing the original URDF file of Gurdy:"
   ]
  },
  {
   "cell_type": "markdown",
   "metadata": {},
   "source": [
    "### Constants"
   ]
  },
  {
   "cell_type": "markdown",
   "metadata": {},
   "source": [
    "<ul>\n",
    "<li>One of the easiest ways to optimize a URDF is by creating constants to avoid having to change the same value in different places. So, let's look for values that are shared and could be simplified. And because Gurdy is made up of the same repeated elements, it's highly probable that a lot of elements can be made of shared constants.</li>\n",
    "</ul>"
   ]
  },
  {
   "cell_type": "markdown",
   "metadata": {},
   "source": [
    "Here you have an example:"
   ]
  },
  {
   "cell_type": "raw",
   "metadata": {},
   "source": [
    "<link name=\"head_link\">\n",
    " \t    <inertial>\n",
    "            <origin xyz=\"0 0 0.02\" rpy=\"0 0 0\"/>\n",
    "            <mass value=\"0.01\" />\n",
    "            <inertia ixx=\"7.58333333333e-07\" ixy=\"0.0\" ixz=\"0.0\" iyy=\"7.58333333333e-07\" iyz=\"0.0\" izz=\"1.25e-06\"/>\n",
    "        </inertial>\n",
    "        <collision>\n",
    "            <origin xyz=\"0 0 0.02\" rpy=\"0 0 0\"/>\n",
    "            <geometry>\n",
    "                <cylinder radius=\"0.05\" length=\"0.04\"/>\n",
    "            </geometry>\n",
    "        </collision>\n",
    "        <visual>\n",
    "            <origin rpy=\"0.0 0 0\" xyz=\"0 0 0\"/>\n",
    "            <geometry>\n",
    "                <mesh filename=\"package://my_gurdy_description/models/gurdy/meshes/gurdy_head_v2.dae\"/>\n",
    "            </geometry>\n",
    "        </visual>\n",
    "\t</link>\n",
    "    \n",
    "<link name=\"upperleg_M1_link\">\n",
    " \t    <inertial>\n",
    "            <origin xyz=\"0 0 0.03\" rpy=\"0 0 0\"/>\n",
    "            <mass value=\"0.01\" />\n",
    "            <inertia ixx=\"3.015625e-05\" ixy=\"0.0\" ixz=\"0.0\" iyy=\"3.015625e-05\" iyz=\"0.0\" izz=\"3.125e-07\"/>\n",
    "        </inertial>\n",
    "        <collision>\n",
    "            <origin xyz=\"0 0 0.03\" rpy=\"0 0 0\"/>\n",
    "            <geometry>\n",
    "                <cylinder length=\"0.06\" radius=\"0.0025\"/>\n",
    "            </geometry>\n",
    "        </collision>\n",
    "        <visual>\n",
    "            <origin rpy=\"0.0 0 0\" xyz=\"0 0 0\"/>\n",
    "            <geometry>\n",
    "                <mesh filename=\"package://my_gurdy_description/models/gurdy/meshes/gurdy_higherleg_v2.dae\"/>\n",
    "            </geometry>\n",
    "        </visual>\n",
    "\t</link>"
   ]
  },
  {
   "cell_type": "markdown",
   "metadata": {},
   "source": [
    "These two links share the same exact mass, so why don't we create a constant that stores the mass that is shared by all the links of the Gurdy Robot?<br>\n",
    "There are also repeated values in each link because the origin of all its sub-elements is the same, so that's another candidate for XACRO simplification."
   ]
  },
  {
   "cell_type": "raw",
   "metadata": {},
   "source": [
    "<xacro:property name=\"m\" value=\"0.01\" />\n",
    "<xacro:property name=\"head_z_origin\" value=\"0.02\" />\n",
    "<xacro:property name=\"upperleg_M1_z_origin\" value=\"0.02\" />\n",
    "<xacro:property name=\"head_radius\" value=\"0.05\" />\n",
    "<xacro:property name=\"head_length\" value=\"0.04\" />\n",
    "<xacro:property name=\"upperleg_radius\" value=\"0.0025\" />\n",
    "<xacro:property name=\"upperleg_length\" value=\"0.06\" />\n",
    "\n",
    "<link name=\"head_link\">\n",
    " \t    <inertial>\n",
    "            <origin xyz=\"0 0 ${head_z_origin}\" rpy=\"0 0 0\"/>\n",
    "            <mass value=\"${m}\" />\n",
    "            <inertia ixx=\"7.58333333333e-07\" ixy=\"0.0\" ixz=\"0.0\" iyy=\"7.58333333333e-07\" iyz=\"0.0\" izz=\"1.25e-06\"/>\n",
    "        </inertial>\n",
    "        <collision>\n",
    "            <origin xyz=\"0 0 ${head_z_origin}\" rpy=\"0 0 0\"/>\n",
    "            <geometry>\n",
    "                <cylinder radius=\"${head_radius}\" length=\"${head_length}\"/>\n",
    "            </geometry>\n",
    "        </collision>\n",
    "        <visual>\n",
    "            <origin rpy=\"0.0 0 0\" xyz=\"0 0 0\"/>\n",
    "            <geometry>\n",
    "                <mesh filename=\"package://my_gurdy_description/models/gurdy/meshes/gurdy_head_v2.dae\"/>\n",
    "            </geometry>\n",
    "        </visual>\n",
    "\t</link>\n",
    "    \n",
    "<link name=\"upperleg_M1_link\">\n",
    " \t    <inertial>\n",
    "            <origin xyz=\"0 0 ${upperleg_M1_z_origin}\" rpy=\"0 0 0\"/>\n",
    "            <mass value=\"${m}\" />\n",
    "            <inertia ixx=\"3.015625e-05\" ixy=\"0.0\" ixz=\"0.0\" iyy=\"3.015625e-05\" iyz=\"0.0\" izz=\"3.125e-07\"/>\n",
    "        </inertial>\n",
    "        <collision>\n",
    "            <origin xyz=\"0 0 ${upperleg_M1_z_origin}\" rpy=\"0 0 0\"/>\n",
    "            <geometry>\n",
    "                <cylinder length=\"${upperleg_length}\" radius=\"${upperleg_radius}\"/>\n",
    "            </geometry>\n",
    "        </collision>\n",
    "        <visual>\n",
    "            <origin rpy=\"0.0 0 0\" xyz=\"0 0 0\"/>\n",
    "            <geometry>\n",
    "                <mesh filename=\"package://my_gurdy_description/models/gurdy/meshes/gurdy_higherleg_v2.dae\"/>\n",
    "            </geometry>\n",
    "        </visual>\n",
    "\t</link>"
   ]
  },
  {
   "cell_type": "markdown",
   "metadata": {},
   "source": [
    "### Math"
   ]
  },
  {
   "cell_type": "markdown",
   "metadata": {},
   "source": [
    "You can perform the basic operations (+,-,*,/), the unary minus, and use parenthesis. This allows you to, for example, calculate the inertias based on the dimensions directly in the XACRO file. Another example would be symmetrically-positioned links or joints."
   ]
  },
  {
   "cell_type": "raw",
   "metadata": {},
   "source": [
    "<xacro:property name=\"m\" value=\"0.01\" />\n",
    "<xacro:property name=\"head_z_origin\" value=\"0.02\" />\n",
    "<xacro:property name=\"r\" value=\"0.05\" />\n",
    "<xacro:property name=\"h\" value=\"0.04\" />\n",
    "<xacro:property name=\"head_ixx\" value=\"${(m/12.0)*(3*r*r+h*h))}\" />\n",
    "<xacro:property name=\"head_iyy\" value=\"${head_ixx}\" />\n",
    "<xacro:property name=\"head_izz\" value=\"${(m*r*r)/2.0}\" />\n",
    "\n",
    "<link name=\"head_link\">\n",
    " \t    <inertial>\n",
    "            <origin xyz=\"0 0 ${head_z_origin}\" rpy=\"0 0 0\"/>\n",
    "            <mass value=\"${m}\" />\n",
    "            <inertia ixx=\"${head_ixx}\" ixy=\"0.0\" ixz=\"0.0\" iyy=\"${head_iyy}\" iyz=\"0.0\" izz=\"${head_izz}\"/>\n",
    "        </inertial>\n",
    "        <collision>\n",
    "            <origin xyz=\"0 0 ${head_z_origin}\" rpy=\"0 0 0\"/>\n",
    "            <geometry>\n",
    "                <cylinder radius=\"${r}\" length=\"${h}\"/>\n",
    "            </geometry>\n",
    "        </collision>\n",
    "        <visual>\n",
    "            <origin rpy=\"0.0 0 0\" xyz=\"0 0 0\"/>\n",
    "            <geometry>\n",
    "                <mesh filename=\"package://my_gurdy_description/models/gurdy/meshes/gurdy_head_v2.dae\"/>\n",
    "            </geometry>\n",
    "        </visual>\n",
    "\t</link>"
   ]
  },
  {
   "cell_type": "markdown",
   "metadata": {},
   "source": [
    "### MACROS"
   ]
  },
  {
   "cell_type": "markdown",
   "metadata": {},
   "source": [
    "This is by far the most useful feature of XACROS. There are two main types of MACROS:"
   ]
  },
  {
   "cell_type": "markdown",
   "metadata": {},
   "source": [
    "#### Simple Macro:"
   ]
  },
  {
   "cell_type": "raw",
   "metadata": {},
   "source": [
    "<xacro:property name=\"m\" value=\"0.01\" />\n",
    "<xacro:property name=\"head_z_origin\" value=\"0.02\" />\n",
    "<xacro:property name=\"r\" value=\"0.05\" />\n",
    "<xacro:property name=\"h\" value=\"0.04\" />\n",
    "<xacro:property name=\"head_ixx\" value=\"${(m/12.0)*(3*r*r+h*h))}\" />\n",
    "<xacro:property name=\"head_iyy\" value=\"${head_ixx}\" />\n",
    "<xacro:property name=\"head_izz\" value=\"${(m*r*r)/2.0}\" />\n",
    "\n",
    "<xacro:macro name=\"default_origin\">\n",
    "    <origin xyz=\"0 0 0\" rpy=\"0 0 0\"/>\n",
    "</xacro:macro>\n",
    "\n",
    "\n",
    "\n",
    "<link name=\"head_link\">\n",
    " \t    <inertial>\n",
    "            <origin xyz=\"0 0 ${head_z_origin}\" rpy=\"0 0 0\"/>\n",
    "            <mass value=\"${m}\" />\n",
    "            <inertia ixx=\"${head_ixx}\" ixy=\"0.0\" ixz=\"0.0\" iyy=\"${head_iyy}\" iyz=\"0.0\" izz=\"${head_izz}\"/>\n",
    "        </inertial>\n",
    "        <collision>\n",
    "            <origin xyz=\"0 0 ${head_z_origin}\" rpy=\"0 0 0\"/>\n",
    "            <geometry>\n",
    "                <cylinder radius=\"${r}\" length=\"${h}\"/>\n",
    "            </geometry>\n",
    "        </collision>\n",
    "        <visual>\n",
    "            <xacro:default_origin />\n",
    "            <geometry>\n",
    "                <mesh filename=\"package://my_gurdy_description/models/gurdy/meshes/gurdy_head_v2.dae\"/>\n",
    "            </geometry>\n",
    "        </visual>\n",
    "\t</link>"
   ]
  },
  {
   "cell_type": "markdown",
   "metadata": {},
   "source": [
    "Here, the expression:"
   ]
  },
  {
   "cell_type": "raw",
   "metadata": {},
   "source": [
    "<origin xyz=\"0 0 0\" rpy=\"0 0 0\"/>"
   ]
  },
  {
   "cell_type": "markdown",
   "metadata": {},
   "source": [
    "Is substituted with a smaller expression:"
   ]
  },
  {
   "cell_type": "raw",
   "metadata": {},
   "source": [
    "<xacro:default_origin />"
   ]
  },
  {
   "cell_type": "markdown",
   "metadata": {},
   "source": [
    "#### Parametrised MACRO"
   ]
  },
  {
   "cell_type": "markdown",
   "metadata": {},
   "source": [
    "Macros can have input parameters. This input can be values or even entire blocks:"
   ]
  },
  {
   "cell_type": "raw",
   "metadata": {},
   "source": [
    "<xacro:property name=\"m\" value=\"0.01\" />\n",
    "<xacro:property name=\"head_z_origin\" value=\"0.02\" />\n",
    "<xacro:property name=\"r\" value=\"0.05\" />\n",
    "<xacro:property name=\"h\" value=\"0.04\" />\n",
    "<xacro:property name=\"head_ixx\" value=\"${(m/12.0)*(3*r*r+h*h))}\" />\n",
    "<xacro:property name=\"head_iyy\" value=\"${head_ixx}\" />\n",
    "<xacro:property name=\"head_izz\" value=\"${(m*r*r)/2.0}\" />\n",
    "\n",
    "<xacro:macro name=\"default_origin\">\n",
    "    <origin xyz=\"0 0 0\" rpy=\"0 0 0\"/>\n",
    "</xacro:macro>\n",
    "\n",
    "<xacro:macro name=\"head_geometry\" params=\"head_dae_path\">\n",
    "    <geometry>\n",
    "        <mesh filename=\"${head_dae_path}\"/>\n",
    "    </geometry>\n",
    "</xacro:macro>\n",
    "\n",
    "<link name=\"head_link\">\n",
    "    <inertial>\n",
    "        <origin xyz=\"0 0 ${head_z_origin}\" rpy=\"0 0 0\"/>\n",
    "        <mass value=\"${m}\" />\n",
    "        <inertia ixx=\"${head_ixx}\" ixy=\"0.0\" ixz=\"0.0\" iyy=\"${head_iyy}\" iyz=\"0.0\" izz=\"${head_izz}\"/>\n",
    "    </inertial>\n",
    "    <collision>\n",
    "        <origin xyz=\"0 0 ${head_z_origin}\" rpy=\"0 0 0\"/>\n",
    "        <geometry>\n",
    "            <cylinder radius=\"${r}\" length=\"${h}\"/>\n",
    "        </geometry>\n",
    "    </collision>\n",
    "    <visual>\n",
    "        <xacro:default_origin />\n",
    "        <xacro:head_geometry head_dae_path=\"package://my_gurdy_description/models/gurdy/meshes/gurdy_head_v2.dae\"/>\n",
    "    </visual>\n",
    "</link>"
   ]
  },
  {
   "cell_type": "markdown",
   "metadata": {},
   "source": [
    "Here we create a MACRO that inputs the path to the mesh, and inserts all of the geometry tags with the path input. "
   ]
  },
  {
   "cell_type": "markdown",
   "metadata": {},
   "source": [
    "And here is an example using an entire block as input. To tell that a variable is a block input, an asterisk is set before the variable name:"
   ]
  },
  {
   "cell_type": "raw",
   "metadata": {},
   "source": [
    "<xacro:macro name=\"blue_shape\" params=\"mass *shape\">\n",
    "    \n",
    " \t    <inertial>\n",
    "            <origin xyz=\"0 0 0.03\" rpy=\"0 0 0\"/>\n",
    "            <mass value=\"${mass}\" />\n",
    "            <inertia ixx=\"3.015625e-05\" ixy=\"0.0\" ixz=\"0.0\" iyy=\"3.015625e-05\" iyz=\"0.0\" izz=\"3.125e-07\"/>\n",
    "        </inertial>\n",
    "        <collision>\n",
    "            <origin xyz=\"0 0 0.03\" rpy=\"0 0 0\"/>\n",
    "            <geometry>\n",
    "                <xacro:insert_block name=\"shape\" />\n",
    "            </geometry>\n",
    "        </collision>\n",
    "        <visual>\n",
    "            <origin rpy=\"0.0 0 0\" xyz=\"0 0 0\"/>\n",
    "            <geometry>\n",
    "                <mesh filename=\"package://my_gurdy_description/models/gurdy/meshes/gurdy_higherleg_v2.dae\"/>\n",
    "            </geometry>\n",
    "        </visual>\n",
    "</xacro:macro>\n",
    "\n",
    "\n",
    "<link name=\"upperleg_M1_link\">\n",
    "    <xacro:upper_leg mass=\"0.01\">\n",
    "        <cylinder length=\"0.06\" radius=\"0.0025\"/>\n",
    "    </xacro:blue_shape>\n",
    "</link>"
   ]
  },
  {
   "cell_type": "markdown",
   "metadata": {},
   "source": [
    "Here the whole link is substituted. Inside the mass is changed, and the block of the cylinder is created."
   ]
  },
  {
   "cell_type": "markdown",
   "metadata": {},
   "source": [
    "Normally, the .xacro files are saved in a folder called \"robot\" for historical reasons."
   ]
  },
  {
   "cell_type": "markdown",
   "metadata": {},
   "source": [
    "<p style=\"background:#E80000;color:white;\">Warning</p>"
   ]
  },
  {
   "cell_type": "markdown",
   "metadata": {},
   "source": [
    "It's very important that you place the plugin for the control before the MACROS; otherwise, it won't be loaded, and could give you the warning: <b>\"Controller Spawner couldn't find the expected controller_manager ROS interface.\"</b>"
   ]
  },
  {
   "cell_type": "markdown",
   "metadata": {},
   "source": [
    "<p style=\"background:#EE9023;color:white;\">Exercise U4-1</p>"
   ]
  },
  {
   "cell_type": "markdown",
   "metadata": {},
   "source": [
    "Try to clean up the Gurdy URDF file by:<br>\n",
    "<ol>\n",
    "    <li>Creating a MACROS that removes the repeated elements, like the three upper and three lower leg and foot links that are identical, because there are very few changes, apart from their names.</li>\n",
    "    <li>Doing the same procedure with the transmissions.</li>\n",
    "    <li>Doing the same thing with the Gazebo friction coefficient tags.</li>\n",
    "</ol>"
   ]
  },
  {
   "cell_type": "markdown",
   "metadata": {},
   "source": [
    "<p style=\"background:#EE9023;color:white;\">END Exercise U4-1</p>"
   ]
  },
  {
   "cell_type": "markdown",
   "metadata": {},
   "source": [
    "<p style=\"background:green;color:white;\">Solution Exercise U4.1</p>"
   ]
  },
  {
   "cell_type": "markdown",
   "metadata": {},
   "source": [
    "Please try to do it by yourself, unless you get stuck or need some inspiration. You will learn much more if you fight for each exercise."
   ]
  },
  {
   "cell_type": "markdown",
   "metadata": {},
   "source": [
    "<img src=\"img/robotignite_logo_text.png\"/>"
   ]
  },
  {
   "cell_type": "markdown",
   "metadata": {},
   "source": [
    "Here you have an example of how it could be simplified:"
   ]
  },
  {
   "cell_type": "raw",
   "metadata": {},
   "source": [
    "<?xml version=\"1.0\"?>\n",
    "<robot xmlns:xacro=\"http://www.ros.org/wiki/xacro\" name=\"gurdy\">\n",
    "    \n",
    "    <gazebo>\n",
    "        <plugin name=\"gazebo_ros_control\" filename=\"libgazebo_ros_control.so\">\n",
    "            <robotNamespace>/gurdy</robotNamespace>\n",
    "        </plugin>\n",
    "    </gazebo>\n",
    "    \n",
    "    <!-- MACROS -->\n",
    "    <xacro:macro name=\"upperleg_link\" params=\"number\">\n",
    "        <link name=\"upperleg_M${number}_link\">\n",
    "     \t    <inertial>\n",
    "                <origin xyz=\"0 0 0.03\" rpy=\"0 0 0\"/>\n",
    "                <mass value=\"0.01\" />\n",
    "                <inertia ixx=\"3.015625e-05\" ixy=\"0.0\" ixz=\"0.0\" iyy=\"3.015625e-05\" iyz=\"0.0\" izz=\"3.125e-07\"/>\n",
    "            </inertial>\n",
    "            <collision>\n",
    "                <origin xyz=\"0 0 0.03\" rpy=\"0 0 0\"/>\n",
    "                <geometry>\n",
    "                    <cylinder length=\"0.06\" radius=\"0.0025\"/>\n",
    "                </geometry>\n",
    "            </collision>\n",
    "            <visual>\n",
    "                <origin rpy=\"0.0 0 0\" xyz=\"0 0 0\"/>\n",
    "                <geometry>\n",
    "                    <mesh filename=\"package://my_gurdy_description/models/gurdy/meshes/gurdy_higherleg_v2.dae\"/>\n",
    "                </geometry>\n",
    "            </visual>\n",
    "    \t</link>\n",
    "    </xacro:macro>\n",
    "    \n",
    "    <xacro:macro name=\"lowerleg_link\" params=\"number\">\n",
    "        <link name=\"lowerleg_M${number}_link\">\n",
    "     \t    <inertial>\n",
    "                <origin xyz=\"0 0 0.03\" rpy=\"0 0 0\"/>\n",
    "                <mass value=\"0.01\" />\n",
    "                <inertia ixx=\"3.005625e-05\" ixy=\"0.0\" ixz=\"0.0\" iyy=\"3.005625e-05\" iyz=\"0.0\" izz=\"1.125e-07\"/>\n",
    "            </inertial>\n",
    "            <collision>\n",
    "                <origin xyz=\"0 0 0.03\" rpy=\"0 0 0\"/>\n",
    "                <geometry>\n",
    "                    <cylinder length=\"0.06\" radius=\"0.0015\"/>\n",
    "                </geometry>\n",
    "            </collision>\n",
    "            <visual>\n",
    "                <origin rpy=\"0.0 0 0\" xyz=\"0 0 0\"/>\n",
    "                <geometry>\n",
    "                    <mesh filename=\"package://my_gurdy_description/models/gurdy/meshes/gurdy_lowerleg_v2.dae\"/>\n",
    "                </geometry>\n",
    "            </visual>\n",
    "    \t</link>\n",
    "        <joint name=\"upperlegM${number}_lowerlegM${number}_joint\" type=\"revolute\">\n",
    "        \t<parent link=\"upperleg_M${number}_link\"/>\n",
    "        \t<child link=\"lowerleg_M${number}_link\"/>\n",
    "            <origin xyz=\"0 0.0095 0.06\" rpy=\"0 0 3.14159\"/>\n",
    "            <limit lower=\"-2.9\" upper=\"1.5708\" effort=\"1.0\" velocity=\"0.005\"/>\n",
    "            <axis xyz=\"0 1 0\"/>\n",
    "    \t</joint>\n",
    "    </xacro:macro>\n",
    "    \n",
    "    <xacro:macro name=\"foot_link\" params=\"number colour\">\n",
    "        <link name=\"footM${number}_link\">\n",
    "     \t    <inertial>\n",
    "                <origin xyz=\"0 0 0\" rpy=\"0 0 0\"/>\n",
    "                <mass value=\"0.01\" />\n",
    "                <inertia ixx=\"1.28e-06\" ixy=\"0.0\" ixz=\"0.0\" iyy=\"1.28e-06\" iyz=\"0.0\" izz=\"1.28e-06\"/>\n",
    "            </inertial>\n",
    "            <collision>\n",
    "                <origin xyz=\"0 0 0\" rpy=\"0 0 0\"/>\n",
    "                <geometry>\n",
    "                    <sphere radius=\"0.008\"/>\n",
    "                </geometry>\n",
    "            </collision>\n",
    "            <visual>\n",
    "                <origin rpy=\"0.0 0 0\" xyz=\"0 0 0\"/>\n",
    "                <geometry>\n",
    "                    <sphere radius=\"0.008\"/>\n",
    "                </geometry>\n",
    "            </visual>\n",
    "    \t</link>\n",
    "        <gazebo reference=\"footM${number}_link\">\n",
    "            <kp>1000.0</kp>\n",
    "            <kd>1000.0</kd>\n",
    "            <mu1>10.0</mu1>\n",
    "            <mu2>10.0</mu2>\n",
    "            <material>Gazebo/${colour}</material>\n",
    "        </gazebo>\n",
    "        <joint name=\"basefoot_peg_M${number}_basefoot_peg_M${number}_joint_joint\" type=\"fixed\">\n",
    "            <parent link=\"lowerleg_M${number}_link\"/>\n",
    "            <child link=\"footM${number}_link\"/>\n",
    "            <origin xyz=\"0 0 0.06\" rpy=\"0 0 0\"/>\n",
    "        </joint>\n",
    "    </xacro:macro>\n",
    "    \n",
    "    <xacro:macro name=\"upper_transmission\" params=\"number\">\n",
    "        <transmission name=\"tran${number}\">\n",
    "            <type>transmission_interface/SimpleTransmission</type>\n",
    "            <joint name=\"head_upperlegM${number}_joint\">\n",
    "                <hardwareInterface>EffortJointInterface</hardwareInterface>\n",
    "            </joint>\n",
    "            <actuator name=\"motor${number}\">\n",
    "                <hardwareInterface>EffortJointInterface</hardwareInterface>\n",
    "                <mechanicalReduction>1</mechanicalReduction>\n",
    "            </actuator>\n",
    "        </transmission>\n",
    "    </xacro:macro>\n",
    "    \n",
    "    <xacro:macro name=\"lower_transmission\" params=\"number number_transm\">\n",
    "        \n",
    "        <transmission name=\"tran${number_transm}\">\n",
    "            <type>transmission_interface/SimpleTransmission</type>\n",
    "            <joint name=\"upperlegM${number}_lowerlegM${number}_joint\">\n",
    "                <hardwareInterface>EffortJointInterface</hardwareInterface>\n",
    "            </joint>\n",
    "            <actuator name=\"motor${number_transm}\">\n",
    "                <hardwareInterface>EffortJointInterface</hardwareInterface>\n",
    "                <mechanicalReduction>1</mechanicalReduction>\n",
    "            </actuator>\n",
    "        </transmission>\n",
    "    </xacro:macro>\n",
    "    \n",
    "    <material name=\"blue\">\n",
    "        <color rgba=\"0 0 0.8 1\"/>\n",
    "    </material>\n",
    "    <material name=\"red\">\n",
    "        <color rgba=\"0.8 0 0 1\"/>\n",
    "    </material>\n",
    "    <material name=\"green\">\n",
    "        <color rgba=\"0 0.8 0 1\"/>\n",
    "    </material>\n",
    "    \n",
    "\t<!-- * * * Link Definitions * * * -->\n",
    "\n",
    "    <link name=\"base_link\">\n",
    "        <collision>\n",
    "            <origin xyz=\"0 0 0\" rpy=\"0 0 0\"/>\n",
    "            <geometry>\n",
    "                <box size=\"0.01 0.01 0.01\"/>\n",
    "            </geometry>\n",
    "        </collision>\n",
    "\t\t<visual>\n",
    "\t\t    <origin xyz=\"0 0 0.01\" rpy=\"0 0 0\"/>\n",
    "\t\t\t<geometry>\n",
    "\t\t\t\t<box size=\"0.01 0.01 0.01\"/>\n",
    "\t\t\t</geometry>\n",
    "\t\t</visual>\n",
    "\t</link>\n",
    "\n",
    "    <link name=\"head_link\">\n",
    " \t    <inertial>\n",
    "            <origin xyz=\"0 0 0.02\" rpy=\"0 0 0\"/>\n",
    "            <mass value=\"0.01\" />\n",
    "            <inertia ixx=\"7.58333333333e-07\" ixy=\"0.0\" ixz=\"0.0\" iyy=\"7.58333333333e-07\" iyz=\"0.0\" izz=\"1.25e-06\"/>\n",
    "        </inertial>\n",
    "        <collision>\n",
    "            <origin xyz=\"0 0 0.02\" rpy=\"0 0 0\"/>\n",
    "            <geometry>\n",
    "                <cylinder radius=\"0.05\" length=\"0.04\"/>\n",
    "            </geometry>\n",
    "        </collision>\n",
    "        <visual>\n",
    "            <origin rpy=\"0.0 0 0\" xyz=\"0 0 0\"/>\n",
    "            <geometry>\n",
    "                <mesh filename=\"package://my_gurdy_description/models/gurdy/meshes/gurdy_head_v2.dae\"/>\n",
    "            </geometry>\n",
    "        </visual>\n",
    "\t</link>\n",
    "\n",
    "    <gazebo reference=\"head_link\">\n",
    "        <mu1>10.0</mu1>\n",
    "        <mu2>10.0</mu2>\n",
    "    </gazebo>\n",
    "\n",
    "    <joint name=\"fixed\" type=\"fixed\">\n",
    "        <parent link=\"base_link\"/>\n",
    "        <child link=\"head_link\"/>\n",
    "    </joint>\n",
    "\n",
    "    <xacro:upperleg_link number=\"1\"/>\n",
    "    <xacro:upper_transmission number=\"1\"/>\n",
    "\n",
    "    <xacro:upperleg_link number=\"2\"/>\n",
    "    <xacro:upper_transmission number=\"2\"/>\n",
    "\n",
    "    <xacro:upperleg_link number=\"3\"/>\n",
    "    <xacro:upper_transmission number=\"3\"/>\n",
    "\n",
    "\n",
    "    <joint name=\"head_upperlegM1_joint\" type=\"revolute\">\n",
    "    \t<parent link=\"head_link\"/>\n",
    "    \t<child link=\"upperleg_M1_link\"/>\n",
    "        <origin xyz=\"-0.02165 -0.0125 -0.008\" rpy=\"3.14159 0 0.523599\"/>\n",
    "        <limit lower=\"-1.55\" upper=\"0.0\" effort=\"1.0\" velocity=\"0.005\"/>\n",
    "        <axis xyz=\"0 1 0\"/>\n",
    "\t</joint>\n",
    "\t\n",
    "\t<joint name=\"head_upperlegM2_joint\" type=\"revolute\">\n",
    "    \t<parent link=\"head_link\"/>\n",
    "    \t<child link=\"upperleg_M2_link\"/>\n",
    "        <origin xyz=\"0.02165 -0.0125 -0.008\" rpy=\"3.14159 0 2.61799\"/>\n",
    "        <limit lower=\"-1.55\" upper=\"0.0\" effort=\"1.0\" velocity=\"0.005\"/>\n",
    "        <axis xyz=\"0 1 0\"/>\n",
    "\t</joint>\n",
    "\t\n",
    "\t<joint name=\"head_upperlegM3_joint\" type=\"revolute\">\n",
    "    \t<parent link=\"head_link\"/>\n",
    "    \t<child link=\"upperleg_M3_link\"/>\n",
    "        <origin xyz=\"0 0.025 -0.008\" rpy=\"3.14159 0 -1.5708\"/>\n",
    "        <limit lower=\"-1.55\" upper=\"0.0\" effort=\"1.0\" velocity=\"0.005\"/>\n",
    "        <axis xyz=\"0 1 0\"/>\n",
    "\t</joint>\n",
    "\n",
    "\n",
    "\n",
    "    <xacro:lowerleg_link number=\"1\"/>\n",
    "    <xacro:lower_transmission number=\"1\" number_transm=\"4\"/>\n",
    "\n",
    "    <xacro:lowerleg_link number=\"2\"/>\n",
    "    <xacro:lower_transmission number=\"2\" number_transm=\"5\"/>\n",
    "    \n",
    "\n",
    "    <xacro:lowerleg_link number=\"3\"/>\n",
    "    <xacro:lower_transmission number=\"3\" number_transm=\"6\"/>\n",
    "    \n",
    "\n",
    "    <xacro:foot_link number=\"1\" colour=\"Red\"/>\n",
    "    <xacro:foot_link number=\"2\" colour=\"Green\"/>\n",
    "    <xacro:foot_link number=\"3\" colour=\"Blue\"/>\n",
    "\n",
    "    <gazebo>\n",
    "        <plugin name=\"gazebo_ros_imu_controller\" filename=\"libgazebo_ros_imu.so\">\n",
    "          <robotNamespace>/gurdy</robotNamespace>\n",
    "          <topicName>imu/data</topicName>\n",
    "          <serviceName>imu/service</serviceName>\n",
    "          <bodyName>base_link</bodyName>\n",
    "          <gaussianNoise>0</gaussianNoise>\n",
    "          <rpyOffsets>0 0 0</rpyOffsets>\n",
    "          <updateRate>5.0</updateRate>\n",
    "          <alwaysOn>true</alwaysOn>\n",
    "          <gaussianNoise>0</gaussianNoise>\n",
    "        </plugin>\n",
    "    </gazebo>\n",
    "\n",
    "\n",
    "\n",
    "</robot>"
   ]
  },
  {
   "cell_type": "markdown",
   "metadata": {},
   "source": [
    "As you may have seen, symmetry and repetition are the best features for XACROS to make a difference and simplify quite a bit.<br>\n",
    "In essence, you can make macros for <b>one full leg,</b> and then you only have to use it with a different number three times. That's why all the macros have this <b>number</b> variable.<br>\n",
    "In this example, you have the macros: upperleg_link, lowerleg_link, foot_link, upper_transmission, and the lower_transmission. It is very intuitive, and it has been relatively easy because of the naming of each link and joint.<br> Try to use numbers if elements repeat in a URDF, and then afterwards, MACROS will be easier to apply.<br>\n",
    "The only thing that could be made macro, but does not need obvious math, is the <b>head_upperlegMX_joint</b>, which has been left as is."
   ]
  },
  {
   "cell_type": "markdown",
   "metadata": {},
   "source": [
    "Here you have an example of how you could have done the <b>spawn_gurdy_xacro.launch,</b> similar to the <b>spawn_urdf.launch</b>:"
   ]
  },
  {
   "cell_type": "raw",
   "metadata": {},
   "source": [
    "<?xml version=\"1.0\" encoding=\"UTF-8\"?>\n",
    "\n",
    "<launch>\n",
    "\n",
    "    <arg name=\"x\" default=\"0.0\" />\n",
    "    <arg name=\"y\" default=\"0.0\" />\n",
    "    <arg name=\"z\" default=\"0.0\" />\n",
    "    \n",
    "    <!--<arg name=\"xacro_robot_file\" default=\"\" />-->\n",
    "    <arg name=\"robot_name\" default=\"\" />\n",
    "\n",
    "    <!-- Load the URDF into the ROS Parameter Server -->\n",
    "    <param name=\"robot_description\" command=\"$(find xacro)/xacro '$(find my_gurdy_description)/robot/gurdy.urdf.xacro'\" />\n",
    "    \n",
    "    <!-- Run a python script to the send a service call to gazebo_ros to spawn a URDF robot -->\n",
    "    <node name=\"urdf_spawner\" pkg=\"gazebo_ros\" type=\"spawn_model\" respawn=\"false\" output=\"screen\"\n",
    "    args=\"-urdf -x $(arg x) -y $(arg y) -z $(arg z)  -model $(arg robot_name) -param robot_description\"/>\n",
    "</launch>"
   ]
  },
  {
   "cell_type": "markdown",
   "metadata": {},
   "source": [
    "And the main launch:"
   ]
  },
  {
   "cell_type": "raw",
   "metadata": {},
   "source": [
    "<?xml version=\"1.0\" encoding=\"UTF-8\"?>\n",
    "<launch>\n",
    "    <include file=\"$(find my_gurdy_description)/launch/spawn_gurdy_xacro.launch\">\n",
    "        <arg name=\"x\" value=\"0.5\" />\n",
    "        <arg name=\"y\" value=\"0.0\" />\n",
    "        <arg name=\"z\" value=\"0.18\" />\n",
    "        <arg name=\"robot_name\" value=\"gurdy\" />\n",
    "    </include>\n",
    "    <include file=\"$(find my_gurdy_description)/launch/gurdy_control.launch\"/>\n",
    "</launch>"
   ]
  },
  {
   "cell_type": "markdown",
   "metadata": {},
   "source": [
    "## Congratulations! You now know all the basics of URDF model creation. "
   ]
  },
  {
   "cell_type": "markdown",
   "metadata": {},
   "source": [
    "Go on to the next unit to start the microproject."
   ]
  }
 ],
 "metadata": {
  "anaconda-cloud": {},
  "kernelspec": {
   "display_name": "Python 3",
   "language": "python",
   "name": "python3"
  },
  "language_info": {
   "codemirror_mode": {
    "name": "ipython",
    "version": 3
   },
   "file_extension": ".py",
   "mimetype": "text/x-python",
   "name": "python",
   "nbconvert_exporter": "python",
   "pygments_lexer": "ipython3",
   "version": "3.6.1"
  }
 },
 "nbformat": 4,
 "nbformat_minor": 1
}
