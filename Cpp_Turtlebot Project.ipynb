{
 "cells": [
  {
   "cell_type": "markdown",
   "metadata": {},
   "source": [
    "# ROS IN 5 DAYS"
   ]
  },
  {
   "cell_type": "markdown",
   "metadata": {
    "caption": "Turtlebot in Maze",
    "image": true,
    "name": "turtle_proj2",
    "width": "12cm"
   },
   "source": [
    "# Course Project"
   ]
  },
  {
   "cell_type": "markdown",
   "metadata": {},
   "source": [
    "<img src=\"img/turtle_proj2.png\" width=\"600\" />"
   ]
  },
  {
   "cell_type": "markdown",
   "metadata": {},
   "source": [
    "<b>Estimated time to completion:</b> 10 hours\n",
    "<br><br>\n",
    "<b>What you will learn with this unit?</b>\n",
    "\n",
    "* Practice everything you learn through the course\n",
    "* Put together everything you learn into a big project\n",
    "* Create a main program"
   ]
  },
  {
   "cell_type": "markdown",
   "metadata": {},
   "source": [
    "## Win the TurtleBot Race!"
   ]
  },
  {
   "cell_type": "markdown",
   "metadata": {},
   "source": [
    "In this project, you will have to make a <a href=\"http://www.turtlebot.com/turtlebot2/\">Turtlebot 2 Robot</a> move along a maze faster than the other students. The fastest one will win a prize.<br>\n",
    "\n",
    "For this goal, you will have to apply all of the things that you are learning along the course. It's really important that you complete it because all of the structures that you create for this project will be asked about in our <span class=\"ign_red\"> <a href=\"http://www.theconstructsim.com/ros-certification-exam/\">Official Exam</a></span>.\n",
    "<br><br>\n",
    "Get the robot out of the maze as fast as possible and you will get the prize. The ideal would be that Turtlebot goes out cleanly, but it may happen that you collide with the maze. You can use the collision detection to get data and help you in your strategy to get out.\n",
    "\n",
    "Basically, in this project you will have to:<br>\n",
    "\n",
    "1. Apply all of the theory given in the course\n",
    "2. Decide on a strategy to solve the problem\n",
    "3. Implement this strategy in the simulation environment\n",
    "4. Make as many tests as required in the simulation environment until it works\n"
   ]
  },
  {
   "cell_type": "markdown",
   "metadata": {},
   "source": [
    "To achieve success in this project, we provide 5 steps below that you should follow with clear instructions and even solutions."
   ]
  },
  {
   "cell_type": "markdown",
   "metadata": {},
   "source": [
    "Also, remember to:\n",
    "\n",
    "* Create your packages and code in the simulation environment, as you have been doing throughout the course.\n",
    "* Use the consoles to gather information about the status of the simulated robot.\n",
    "* Use the IDE to create your programs and execute them through the consoles, observing the results on the simulation screen. You can use other consoles to watch calls to topics, services, or action servers.\n",
    "* Everything that you create in this unit will be automatically saved in your space. You can come back to this unit at any time and continue with your work from the point that you left it.\n",
    "* <span class=\"ign_green\">Every time you need to reset the position of the robot just press the restart button in the simulation window.</span>\n",
    "* Use the debugging tools to try to find what is not working and why (for instance, the rviz tool is very useful for this purpose).\n"
   ]
  },
  {
   "cell_type": "markdown",
   "metadata": {},
   "source": [
    "<b>One final note</b>: Because the program that you create should work with a real robot, if needed, you can't move the Turtlebot in a closed loop. This is because, in reality, the circuit could be different, the robot could not be as responsive, there might be errors in the readings, and so on. So in this project, you should create a program that can cope with all of these uncertainties."
   ]
  },
  {
   "cell_type": "markdown",
   "metadata": {},
   "source": [
    "## What does Turtlebot Provide to Program It?"
   ]
  },
  {
   "cell_type": "markdown",
   "metadata": {},
   "source": [
    "So the main question is, what can you do with Turtlebot from a ROS programming point of view? Which sensors and actuators does Turtlebot provide that will allow you to do the maze test?<br>\n",
    "\n",
    "Good question! Turtlebot provides the following sensors and actuators:"
   ]
  },
  {
   "cell_type": "markdown",
   "metadata": {},
   "source": [
    "#### Sensors"
   ]
  },
  {
   "cell_type": "markdown",
   "metadata": {},
   "source": [
    "\n",
    "* **Laser sensor**: Turtlebot has a 2D Laser which provides information about the environment you are in. The value of the sensor is provided through the topic <span class=\"ign_green\"><i>/kobuki/laser/scan.</i></span></li>\n",
    "* **Odometry**: The odometry of the robot can be accessed through the <span class=\"ign_green\"><i>/odom</i></span> topic.\n"
   ]
  },
  {
   "cell_type": "markdown",
   "metadata": {},
   "source": [
    "#### Actuators"
   ]
  },
  {
   "cell_type": "markdown",
   "metadata": {},
   "source": [
    "\n",
    "* **Speed**: You can send speed commands to move the robot through the <span class=\"ign_green\"><i>/cmd_vel</i></span> topic.\n"
   ]
  },
  {
   "cell_type": "markdown",
   "metadata": {},
   "source": [
    "Now that you know the relevant topics of the robot, it is your job to figure out the types of messages and how to use them in order to make the robot do the strategy you want it to do."
   ]
  },
  {
   "cell_type": "markdown",
   "metadata": {},
   "source": [
    "## Ideas to Start Working On"
   ]
  },
  {
   "cell_type": "markdown",
   "metadata": {},
   "source": [
    "Here is a list of things that you can start from. You do not have to follow them. They are provided just in case you don't know how to start."
   ]
  },
  {
   "cell_type": "markdown",
   "metadata": {},
   "source": [
    "\n",
    "1. Start watching some of the messages that the sensor topics are publishing. Try to get an idea about the information they are providing. Move the robot in the simulation and see how those messages change their values. It is very important that you understand how changes in the robot produce changes in the topics.\n",
    "2. Try to move the robot sending messages to the <i>/cmd_vel</i> (either through the console or through C++ programs).\n",
    "3. Observe how the messages of the topics change when the robot moves around the environment, or when it crashes into a wall.\n",
    "4. Is the odometry trustworthy? Can you move the robot the exact amount even when it collides with something?\n"
   ]
  },
  {
   "cell_type": "markdown",
   "metadata": {},
   "source": [
    "## Steps You Should Cover"
   ]
  },
  {
   "cell_type": "markdown",
   "metadata": {},
   "source": [
    "These are the steps that you should follow throughout the duration of the project. These steps will ensure that you have practised and created all of the structures asked for in the final exam of this course. If you perform all of the steps mentioned here, you will find the exam feasible.<br>"
   ]
  },
  {
   "cell_type": "markdown",
   "metadata": {},
   "source": [
    "\n",
    "1. <a href=\"#step1\">Step 1: Read and Write Topics (Dedicate 2 hours)</a>\n",
    "2. <a href=\"#step2\">Step 2: Use topics through Services (Dedicate 3 hours)</a>\n",
    "3. <a href=\"#step3\">Step 3: Use topics through Actions (Dedicate 4 hours)</a>\n",
    "4. <a href=\"#step4\">Step 4: Create a main program to manage everything (Dedicate 1 hour)</a>"
   ]
  },
  {
   "cell_type": "markdown",
   "metadata": {},
   "source": [
    "<b>NOTE</b>: The 5th Step may not be required, but we have found some students that organize their code in such a way that they need this step. We have provided it here just in case you need it, but you don't have to use it."
   ]
  },
  {
   "cell_type": "markdown",
   "metadata": {},
   "source": [
    "### Step 1: Read and Write Topics"
   ]
  },
  {
   "cell_type": "markdown",
   "metadata": {},
   "source": [
    "This step has 3 actions for you to do:<br>\n",
    "\n",
    "1. Create a package called <span class=\"ign_green\"><i>my_turtlebot_topics</i></span> that will contain all of the programs related to topics\n",
    "2. Create a <span class=\"ign_green\">topic publisher</span> that allows you to move the Turtlebot.\n",
    "3. Create <span class=\"ign_green\">two topic subscribers</span> that extract the data that you need from the Odometry and the Laser.\n",
    "\n",
    "\n"
   ]
  },
  {
   "cell_type": "markdown",
   "metadata": {},
   "source": [
    "So, let's get started."
   ]
  },
  {
   "cell_type": "markdown",
   "metadata": {},
   "source": [
    "<table style=\"float:left;background: #407EAF\">\n",
    "<tr>\n",
    "<th>\n",
    "<p class=\"transparent\">1. Create package my_turtlebot_topics, with <i>rospy</i> as dependency.</p>\n",
    "</th>\n",
    "</tr>\n",
    "</table>"
   ]
  },
  {
   "cell_type": "markdown",
   "metadata": {},
   "source": [
    "<table style=\"float:left;background: #407EAF\">\n",
    "<tr>\n",
    "<th>\n",
    "<p class=\"transparent\">2. Create the Topic Publisher to move Turtlebot.</p>\n",
    "</th>\n",
    "</tr>\n",
    "</table>"
   ]
  },
  {
   "cell_type": "markdown",
   "metadata": {},
   "source": [
    "To move Turtlebot, you need to publish in the topic <span class=\"ign_green\"><i>/cmd_vel</i></span>.\n",
    "<br><br>\n",
    "It's important that you always encapsulate your topic subscribers and publishers inside classes. This will allow you to store values and manage the publishing callbacks easily.<br>\n",
    "\n",
    "First, you have to see if there is a topic like <i>/cmd_vel</i> running. \n",
    "<br><br>\n",
    "<b>Note</b>: It will not always be this simple. In real robots, you will need to access the code to see what is the name of the topic that moves the robot, or even use <i>rostopic info /name_of_topic</i> to know which one it could be.\n",
    "\n",
    "\n",
    "<table style=\"float:left;background: #407EAF\">\n",
    "<tr>\n",
    "<th>\n",
    "<p class=\"transparent\">Execute in WebShell #1</p>\n",
    "</th>\n",
    "</tr>\n",
    "</table>"
   ]
  },
  {
   "cell_type": "code",
   "execution_count": null,
   "metadata": {
    "collapsed": true
   },
   "outputs": [],
   "source": [
    "rostopic list"
   ]
  },
  {
   "cell_type": "markdown",
   "metadata": {},
   "source": [
    "As you may see, there is a /cmd_vel.<br>\n",
    "You, then, have to extract the type of message that /cmd_vel uses.<br>\n",
    "\n",
    "<table style=\"float:left;background: #407EAF\">\n",
    "<tr>\n",
    "<th>\n",
    "<p class=\"transparent\">Execute in WebShell #1</p>\n",
    "</th>\n",
    "</tr>\n",
    "</table>"
   ]
  },
  {
   "cell_type": "code",
   "execution_count": null,
   "metadata": {
    "collapsed": true
   },
   "outputs": [],
   "source": [
    "rostopic info /cmd_vel"
   ]
  },
  {
   "cell_type": "markdown",
   "metadata": {},
   "source": [
    "Test that it works by publishing different values:<br>\n",
    "<table style=\"float:left;background: #407EAF\">\n",
    "<tr>\n",
    "<th>\n",
    "<p class=\"transparent\">Execute in WebShell #1</p>\n",
    "</th>\n",
    "</tr>\n",
    "</table>"
   ]
  },
  {
   "cell_type": "code",
   "execution_count": null,
   "metadata": {
    "collapsed": true
   },
   "outputs": [],
   "source": [
    "rostopic pub /cmd_vel message_type_of_cmd_vel [TAB][TAB]"
   ]
  },
  {
   "cell_type": "markdown",
   "metadata": {},
   "source": [
    "Once you have the information, you are ready to create the class.<br>\n",
    "Create a C++ file in the src folder of the package you just created, \"my_turtlebot_topics\".<br>\n",
    "This file has to have not only the class, but also a way of testing that the class works."
   ]
  },
  {
   "cell_type": "markdown",
   "metadata": {
    "collapsed": true
   },
   "source": [
    "<table style=\"float:left;background: #407EAF\">\n",
    "<tr>\n",
    "<th>\n",
    "<p class=\"transparent\">3. Create Two Topic Subscribers that extract the data that you need from the Odometry and the Laser.</p>\n",
    "</th>\n",
    "</tr>\n",
    "</table>"
   ]
  },
  {
   "cell_type": "markdown",
   "metadata": {},
   "source": [
    "To get the Odometry data and the Laser data, you need to read the appropriate topics. Try finding them by yourself,  first by typing:<br>\n",
    "\n",
    "<table style=\"float:left;background: #407EAF\">\n",
    "<tr>\n",
    "<th>\n",
    "<p class=\"transparent\">Execute in WebShell #1</p>\n",
    "</th>\n",
    "</tr>\n",
    "</table>"
   ]
  },
  {
   "cell_type": "code",
   "execution_count": null,
   "metadata": {
    "collapsed": true
   },
   "outputs": [],
   "source": [
    "rostopic list"
   ]
  },
  {
   "cell_type": "markdown",
   "metadata": {},
   "source": [
    "Have you found them? What type of message do they use? Are they the same as the ones listed here?<br>\n",
    "<span class=\"ign_blue\">/kobuki/laser/scan, type = sensor_msgs/LaserScan </span><br>\n",
    "<span class=\"ign_blue\">/odom, type = nav_msgs/Odometry</span><br>\n",
    "\n",
    "Are they publishing? What's the data like?<br>\n",
    "\n",
    "<table style=\"float:left;background: #407EAF\">\n",
    "<tr>\n",
    "<th>\n",
    "<p class=\"transparent\">Execute in WebShell #1</p>\n",
    "</th>\n",
    "</tr>\n",
    "</table>"
   ]
  },
  {
   "cell_type": "code",
   "execution_count": null,
   "metadata": {
    "collapsed": true
   },
   "outputs": [],
   "source": [
    "rostopic echo name_of_topic"
   ]
  },
  {
   "cell_type": "markdown",
   "metadata": {},
   "source": [
    "Once you have the information, you are ready to create the classes for each one.\n",
    "<br><br>\n",
    "Create two different C++ files in the src folder of the package that you just created, <b>\"my_turtlebot_topics\"</b>.<br>\n",
    "These files have to have not only the class, but also a way of testing the class objects.\n",
    "\n",
    "<span class=\"ign_red\">Remember that you need to move the Turtlebot to see the changes in both the <b>/odom</b> and the <b>/kobuki/laser/scan</b> topics. Use the previously created program to move it.</span>"
   ]
  },
  {
   "cell_type": "markdown",
   "metadata": {},
   "source": [
    "### Step 2: Use Topics through Services"
   ]
  },
  {
   "cell_type": "markdown",
   "metadata": {},
   "source": [
    "Now you need to take it a step further. Instead of having a topic subscriber/publisher on its own, you need to create a service that reads from the topics.<br>\n",
    "You have to do the following:\n",
    "<br><br>\n",
    "Create a service that, when called, it tells you if the robot is about to hit an obstacle, through the laser data. It also has to return some extra information, such as the direction that the robot should move in next."
   ]
  },
  {
   "cell_type": "markdown",
   "metadata": {},
   "source": [
    "We divided this into 3 tasks:\n",
    "\n",
    "1. Determine data\n",
    "2. Modify the subscriber\n",
    "3. Create the Server and Client\n"
   ]
  },
  {
   "cell_type": "markdown",
   "metadata": {},
   "source": [
    "<table style=\"float:left;background: #407EAF\">\n",
    "<tr>\n",
    "<th>\n",
    "<p class=\"transparent\">1. Determine data</p>\n",
    "</th>\n",
    "</tr>\n",
    "</table>"
   ]
  },
  {
   "cell_type": "markdown",
   "metadata": {},
   "source": [
    "\n",
    "1. Determine what data input you need ( <span class=\"ign_blue\"><b>request</b></span> )\n",
    "2. Determine what data you want the service to return ( <span class=\"ign_blue\"><b>response</b></span> )\n",
    "\n",
    "\n",
    "Then, you have to search for a previously done service message in the system. You can find them in the <span class=\"ign_blue\">std_srvs</span> or <span class=\"ign_blue\">rospy_tutorials</span> package. You can also find other service messages created in non-standard packages. Bear in mind that using packages that might not be installed in ROS systems or from third party packages is not recommened at this point. In this case, it's better to just generate your own service messages and use the <i>std_msgs</i> message types.<br>\n",
    "It's always preferable to use previously done messages, just because it's faster and you don't have to deal with compilation."
   ]
  },
  {
   "cell_type": "markdown",
   "metadata": {},
   "source": [
    "In this case, you need a service message of the following structure (<b>DO NOT watch unless you are stuck</b>):<br>"
   ]
  },
  {
   "cell_type": "code",
   "execution_count": null,
   "metadata": {
    "collapsed": true
   },
   "outputs": [],
   "source": [
    "# request, Empty because no data is needed\n",
    "---\n",
    "#response\n",
    "bool movement_successfull\n",
    "string extra_data"
   ]
  },
  {
   "cell_type": "markdown",
   "metadata": {},
   "source": [
    "In this case, you have a service message that has this exact structure.<br>\n",
    "It's in the <span class=\"ign_blue\"><b>std_srvs</b> package</span> and is called <span class=\"ign_blue\">Trigger.srv</span>. This is no coincidence. This service structure is very useful because, normally, you ask a service to give you data without providing any input."
   ]
  },
  {
   "cell_type": "markdown",
   "metadata": {},
   "source": [
    "So you just need to create a service that uses this <b>Trigger.srv</b> that reads from the laser topic and tells you if you are about to crash or not. It will also tell you, based on the laser data, in which direction to move in now.\n",
    "<br><br>"
   ]
  },
  {
   "cell_type": "markdown",
   "metadata": {},
   "source": [
    "<table style=\"float:left;background: #407EAF\">\n",
    "<tr>\n",
    "<th>\n",
    "<p class=\"transparent\">2. Modify the /kobuki/laser/scan topic subscriber</p>\n",
    "</th>\n",
    "</tr>\n",
    "</table>"
   ]
  },
  {
   "cell_type": "markdown",
   "metadata": {},
   "source": [
    "Now you have to modify the <b>/kobuki/laser/scan</b> topic susbcriber to be able to tell you in what direction it is going to be the crash."
   ]
  },
  {
   "cell_type": "markdown",
   "metadata": {},
   "source": [
    "A way of evaluating the threshold that you consider it may be a potential crash, is by executing the code, and then controlling the Turtlebot with the:\n",
    "<br><br>\n",
    "<span class=\"ign_blue\"><i>roslaunch turtlebot_teleop keyboard_teleop.launch</i></span>"
   ]
  },
  {
   "cell_type": "markdown",
   "metadata": {},
   "source": [
    "<table style=\"float:left;background: #407EAF\">\n",
    "<tr>\n",
    "<th>\n",
    "<p class=\"transparent\">3. Create the Server and client that tell you if there is a potential crash, and in what direction to move</p>\n",
    "</th>\n",
    "</tr>\n",
    "</table>"
   ]
  },
  {
   "cell_type": "markdown",
   "metadata": {},
   "source": [
    "Why do you need to create a client, too? Well, this is not needed for your core program to run, but it's highly recommended because it allows you to test the server."
   ]
  },
  {
   "cell_type": "markdown",
   "metadata": {},
   "source": [
    "### Step 3: Use Topics through Actions"
   ]
  },
  {
   "cell_type": "markdown",
   "metadata": {},
   "source": [
    "Now you need to create an action that, when called, will start to save odometry data and check if the robot has exited the maze.<br>\n",
    "To accomplish that, you have to measure the distance from the starting point to the current position. If the distance is larger than the maze distance, you are out. A more elaborate one would be to consider the vector, and therefore, know if you exited correctly or you just jumped over a wall.\n",
    "<br><br>\n",
    "The Action should also stop in case a certain period of time has passed without the robot exiting the maze. The task is then:"
   ]
  },
  {
   "cell_type": "markdown",
   "metadata": {},
   "source": [
    "<table style=\"float:left;background: #407EAF\">\n",
    "<tr>\n",
    "<th>\n",
    "<p class=\"transparent\">Create an action server that finishes when it has detected that the robot has exited the maze, or has been working for a certain period of time. Use only the /odom topic subscriber.</p>\n",
    "</th>\n",
    "</tr>\n",
    "</table>"
   ]
  },
  {
   "cell_type": "markdown",
   "metadata": {},
   "source": [
    "We divided it into 3 subtasks:\n",
    "\n",
    "* Define the action message\n",
    "* Create the action server, action client, and algorithm to exit the maze\n",
    "* Test it\n"
   ]
  },
  {
   "cell_type": "markdown",
   "metadata": {},
   "source": [
    "<table style=\"float:left;background: #407EAF\">\n",
    "<tr>\n",
    "<th>\n",
    "<p class=\"transparent\">1. The first thing you have to think about is what kind of message you need for this action to work as intended.</p>\n",
    "</th>\n",
    "</tr>\n",
    "</table>"
   ]
  },
  {
   "cell_type": "markdown",
   "metadata": {},
   "source": [
    "You need to call this action, without any input.\n",
    "<br><br>\n",
    "It doesn't need to give feedback because the only thing that matters is that it returns the needed data to evaluate the distance.\n",
    "It needs to return the data used to calculate the distance for post-completion calculations.\n",
    "<br><br>\n",
    "So the action message should look something like this (<b>DO NOT watch this unless you are stuck</b>):"
   ]
  },
  {
   "cell_type": "code",
   "execution_count": null,
   "metadata": {
    "collapsed": true
   },
   "outputs": [],
   "source": [
    "#goal, empty                \n",
    "---                             \n",
    "#result, Odometry array             \n",
    "nav_msgs/Odometry[] result_odom_array                \n",
    "---                             \n",
    "#feedback, empty"
   ]
  },
  {
   "cell_type": "markdown",
   "metadata": {},
   "source": [
    "This message is, as you can see, custom. Therefore, you will need to compile the package.<br>\n",
    "The steps to do this are as follows:<br>"
   ]
  },
  {
   "cell_type": "markdown",
   "metadata": {},
   "source": [
    "<span class=\"ign_green\">Step 1</span>: Create a new package called <i>my_turtlebot_actions</i> to store all the action servers and the message.<br>\n",
    "<span class=\"ign_green\">Step 2</span>: Create an <i>action</i> directory, and within, an action message called <span class=\"ign_blue\">record_odom.action</span>.<br>\n",
    "<span class=\"ign_green\">Step 3</span>: Make all of the needed changes to the package.xml and CMakeLists.txt files, in order to correctly compile the action message. These are the two files as they should be, if the only external dependency of your <i>my_turtlebot_actions package is</i>:<br>"
   ]
  },
  {
   "cell_type": "markdown",
   "metadata": {},
   "source": [
    "<table style=\"float:left;background: orange\">\n",
    "<tr>\n",
    "<th>\n",
    "<p class=\"transparent\">CMakeLists.txt</p>\n",
    "</th>\n",
    "</tr>\n",
    "</table>"
   ]
  },
  {
   "cell_type": "code",
   "execution_count": null,
   "metadata": {
    "collapsed": true
   },
   "outputs": [],
   "source": [
    "cmake_minimum_required(VERSION 2.8.3)\n",
    "project(my_turtlebot_actions)\n",
    "\n",
    "## Find catkin macros and libraries\n",
    "## if COMPONENTS list like find_package(catkin REQUIRED COMPONENTS xyz)\n",
    "## is used, also find other catkin packages\n",
    "## Here go the packages needed to COMPILE the messages of topic, services and actions.\n",
    "## in package.xml you have to state them as build\n",
    "find_package(catkin REQUIRED COMPONENTS\n",
    "  actionlib_msgs\n",
    "  nav_msgs\n",
    ")\n",
    "\n",
    "## Generate actions in the 'action' folder\n",
    "add_action_files(\n",
    "   FILES\n",
    "   record_odom.action\n",
    ")\n",
    "\n",
    "## Generate added messages and services with any dependencies listed here\n",
    "generate_messages(\n",
    "   DEPENDENCIES\n",
    "   actionlib_msgs\n",
    "   nav_msgs\n",
    " )\n",
    "\n",
    "###################################\n",
    "## catkin specific configuration ##\n",
    "###################################\n",
    "## Declare things to be passed to dependent projects\n",
    "## State here all the packages that will be needed by someone that executes something from your package\n",
    "## All the packages stated here must be in the package.xml as run_depend\n",
    "catkin_package(\n",
    "  CATKIN_DEPENDS rospy nav_msgs\n",
    ")\n",
    "\n",
    "###########\n",
    "## Build ##\n",
    "###########\n",
    "\n",
    "## Specify additional locations of header files\n",
    "## Your package locations should be listed before other locations\n",
    "# include_directories(include)\n",
    "include_directories(\n",
    "  ${catkin_INCLUDE_DIRS}\n",
    ")\n",
    "\n"
   ]
  },
  {
   "cell_type": "markdown",
   "metadata": {},
   "source": [
    "<table style=\"float:left;background: orange\">\n",
    "<tr>\n",
    "<th>\n",
    "<p class=\"transparent\">package.xml</p>\n",
    "</th>\n",
    "</tr>\n",
    "</table>"
   ]
  },
  {
   "cell_type": "code",
   "execution_count": null,
   "metadata": {
    "collapsed": true
   },
   "outputs": [],
   "source": [
    "<?xml version=\"1.0\"?>\n",
    "<package>\n",
    "  <name>my_turtlebot_actions</name>\n",
    "  <version>0.0.0</version>\n",
    "  <description>The my_turtlebot_actions package</description>\n",
    "\n",
    "  <maintainer email=\"user@todo.todo\">user</maintainer>\n",
    "  <license>TODO</license>\n",
    "\n",
    "  <buildtool_depend>catkin</buildtool_depend>\n",
    "  <build_depend>actionlib_msgs</build_depend>\n",
    "  <build_depend>nav_msgs</build_depend>\n",
    "  \n",
    "  <run_depend>rospy</run_depend>\n",
    "  <run_depend>nav_msgs</run_depend>\n",
    "\n",
    "  <export>\n",
    "  </export>\n",
    "</package>"
   ]
  },
  {
   "cell_type": "markdown",
   "metadata": {},
   "source": [
    "Once you think you have it, execute the following commands in the WebShell:"
   ]
  },
  {
   "cell_type": "markdown",
   "metadata": {},
   "source": [
    "<table style=\"float:left;background: #407EAF\">\n",
    "<tr>\n",
    "<th>\n",
    "<p class=\"transparent\">Execute in WebShell #1</p>\n",
    "</th>\n",
    "</tr>\n",
    "</table>"
   ]
  },
  {
   "cell_type": "code",
   "execution_count": null,
   "metadata": {
    "collapsed": true
   },
   "outputs": [],
   "source": [
    "roscd;cd ..\n",
    "catkin_make\n",
    "source deve/setup.bash\n",
    "rosmsg list | grep record_odom"
   ]
  },
  {
   "cell_type": "markdown",
   "metadata": {},
   "source": [
    "<table style=\"float:left;background: #407EAF\">\n",
    "<tr>\n",
    "<th>\n",
    "<p class=\"transparent\">Output in WebShell #1</p>\n",
    "</th>\n",
    "</tr>\n",
    "</table>"
   ]
  },
  {
   "cell_type": "code",
   "execution_count": null,
   "metadata": {
    "collapsed": true
   },
   "outputs": [],
   "source": [
    "my_turtlebot_actions/record_odomAction\n",
    "my_turtlebot_actions/record_odomActionFeedback\n",
    "my_turtlebot_actions/record_odomActionGoal\n",
    "my_turtlebot_actions/record_odomActionResult\n",
    "my_turtlebot_actions/record_odomFeedback\n",
    "my_turtlebot_actions/record_odomGoal\n",
    "my_turtlebot_actions/record_odomResult"
   ]
  },
  {
   "cell_type": "markdown",
   "metadata": {},
   "source": [
    "<span class=\"ign_green\"><b>rosmsg list | grep record_odom</b></span>: This command lists all of the rosmsgs defined in the system and in your <i>devel</i> folder, and only filters with the <i>grep</i> command the ones with the name <i>record_odom</i>. All of the messages compiled from your packages are stored in the devel folder.<br>\n",
    "This is one of the best ways to know that your action message has been correctly compiled and is accessible for your entire ROS system."
   ]
  },
  {
   "cell_type": "markdown",
   "metadata": {},
   "source": [
    "<table style=\"float:left;background: #407EAF\">\n",
    "<tr>\n",
    "<th>\n",
    "<p class=\"transparent\">2. Create the action server, the client, and the program to compute out of the maze.</p>\n",
    "</th>\n",
    "</tr>\n",
    "</table>"
   ]
  },
  {
   "cell_type": "markdown",
   "metadata": {},
   "source": [
    "This action server has to start recording the <i>/odom</i> topic and stop when a certain time period has passed, or the distance moved reaches a certain value."
   ]
  },
  {
   "cell_type": "markdown",
   "metadata": {},
   "source": [
    "Move your <span class=\"ign_blue\"><i>/odom</i></span> topic subscriber to your <span class=\"ign_blue\"><i>my_turtlebot_actions package</i></span>. This way, your server can use it easily.<br>\n",
    "Now create the action server and action client. It is the same here as in services: you don't need the client but it's very useful to test the server, and it also gives you a template for how to use it later in the core program. "
   ]
  },
  {
   "cell_type": "markdown",
   "metadata": {},
   "source": [
    "<b>Note</b>: It may happen that, when you test it, you get the following error:\n",
    "\n",
    "<table style=\"float:left\">\n",
    "<tr>\n",
    "<th>\n",
    "<p style=\"background: red; color: white\">ImportError: No module named my_turtlebot_actions.msg</p>\n",
    "</th>\n",
    "</tr>\n",
    "</table>\n",
    "<br><br><br><br>\n",
    "\n",
    "This error is quite common when you generate your own messages. It doesn't find the <i>my_turtlebot_actions.msg</i>. But you have compiled it and doing the rosmsg list returns the correct output. Then, why? Because in order to allow your program to find the messages, you have to compile them and execute the source devel/setup.bash. This script sets not only the ROS environment, but also other systems related to message generation.<br>\n",
    "So, in order to always make your messages work, do the following:"
   ]
  },
  {
   "cell_type": "markdown",
   "metadata": {},
   "source": [
    "<table style=\"float:left;background: #407EAF\">\n",
    "<tr>\n",
    "<th>\n",
    "<p class=\"transparent\">Execute in WebShell #1</p>\n",
    "</th>\n",
    "</tr>\n",
    "</table>"
   ]
  },
  {
   "cell_type": "code",
   "execution_count": null,
   "metadata": {
    "collapsed": true
   },
   "outputs": [],
   "source": [
    "catkin_make\n",
    "source devel/setup.bash"
   ]
  },
  {
   "cell_type": "markdown",
   "metadata": {},
   "source": [
    "Now you are ready to work on your action server."
   ]
  },
  {
   "cell_type": "markdown",
   "metadata": {},
   "source": [
    "<table style=\"float:left;background: #407EAF\">\n",
    "<tr>\n",
    "<th>\n",
    "<p class=\"transparent\">3. Test it.</p>\n",
    "</th>\n",
    "</tr>\n",
    "</table>"
   ]
  },
  {
   "cell_type": "markdown",
   "metadata": {},
   "source": [
    "Launch it:\n",
    "<br><br>\n",
    "<i>rosrun my_turtlebot_actions rec_odom_action_server.py</i><br>\n",
    "\n",
    "Check that it's working:\n",
    "<br><br>\n",
    "<i>rosnode list | grep record_odom_action_server_node</i><br>\n",
    "<i>rostopic list | grep rec_odom_as</i>\n",
    "\n",
    "Launch the client to test that it really works.\n",
    "\n",
    "1. Leave it running until the time runs out. It should return in the client side all of the <i>/odom</i> recordings up until then.\n",
    "2. Force the distance goal to be reached. Use the <i>roslaunch turtlebot_teleop keyboard_teleop.launch</i>. It should return the <i>/odom</i> topics recorded up until then as well.\n"
   ]
  },
  {
   "cell_type": "markdown",
   "metadata": {},
   "source": [
    "<div id=\"step4\"></div>"
   ]
  },
  {
   "cell_type": "markdown",
   "metadata": {
    "collapsed": true
   },
   "source": [
    "### Step 4: Create a Main Program to Manage Everything"
   ]
  },
  {
   "cell_type": "markdown",
   "metadata": {},
   "source": [
    "So, finally, you have all of the tools needed to create a main program that does the following:<br>\n",
    "\n",
    "1. Calls a service that tells you if it is going to crash and in what direction you should move.\n",
    "2. Moves the turtlebot based on the service response.\n",
    "3. Checks if it has exited the maze or the time given has run out. If so, the program ends.\n",
    "\n"
   ]
  },
  {
   "cell_type": "markdown",
   "metadata": {},
   "source": [
    "We have divided this into 3 sub-steps:"
   ]
  },
  {
   "cell_type": "markdown",
   "metadata": {},
   "source": [
    "<table style=\"float:left;background: #407EAF\">\n",
    "<tr>\n",
    "<th>\n",
    "<p class=\"transparent\">1. Create a package called <span class=\"ign_blue\"><i>my_turtlebot_main</i></span>.</p>\n",
    "</th>\n",
    "</tr>\n",
    "</table>"
   ]
  },
  {
   "cell_type": "markdown",
   "metadata": {},
   "source": [
    "This package has to contain the main program and the C++ files that it needs. You might need to copy some files of other packages."
   ]
  },
  {
   "cell_type": "markdown",
   "metadata": {},
   "source": [
    "<table style=\"float:left;background: #407EAF\">\n",
    "<tr>\n",
    "<th>\n",
    "<p class=\"transparent\">2. Create a launch file that launches the Action Server, the Service Server, and the main program.</p>\n",
    "</th>\n",
    "</tr>\n",
    "</table>"
   ]
  },
  {
   "cell_type": "markdown",
   "metadata": {},
   "source": [
    "Try it first with the <i>node</i> tags and, if it works, then generate launches for the action_server and the service_server and use the <i>include</i> tag."
   ]
  },
  {
   "cell_type": "markdown",
   "metadata": {},
   "source": [
    "<table style=\"float:left;background: #407EAF\">\n",
    "<tr>\n",
    "<th>\n",
    "<p class=\"transparent\">3. Create the main program.</p>\n",
    "</th>\n",
    "</tr>\n",
    "</table>"
   ]
  },
  {
   "cell_type": "markdown",
   "metadata": {},
   "source": [
    "Use all of the data and knowledge that you have extracted from the clients of the server and action, to reuse as much code as possible."
   ]
  },
  {
   "cell_type": "markdown",
   "metadata": {},
   "source": [
    "### Conclusion"
   ]
  },
  {
   "cell_type": "markdown",
   "metadata": {},
   "source": [
    "Now try to optimise your system. Play with the rates and the detection strategy. Play with the movement and the \"AI\" used to decide what to do.<br>\n",
    "You especially have to know this project by heart because the <span class=\"ign_red\">exam will be very similar</span>."
   ]
  }
 ],
 "metadata": {
  "anaconda-cloud": {},
  "kernelspec": {
   "display_name": "Python [Root]",
   "language": "python",
   "name": "Python [Root]"
  },
  "language_info": {
   "codemirror_mode": {
    "name": "ipython",
    "version": 2
   },
   "file_extension": ".py",
   "mimetype": "text/x-python",
   "name": "python",
   "nbconvert_exporter": "python",
   "pygments_lexer": "ipython2",
   "version": "2.7.12"
  },
  "latex_metadata": {
   "chapter": "Turtlebot Project",
   "chapter_title": "Course Project",
   "course_title": "ROS BASICS IN 5 DAYS"
  }
 },
 "nbformat": 4,
 "nbformat_minor": 1
}
