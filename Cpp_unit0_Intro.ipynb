{
 "cells": [
  {
   "cell_type": "markdown",
   "metadata": {},
   "source": [
    "# <font class='ign_color'>ROS IN 5 DAYS </font>"
   ]
  },
  {
   "cell_type": "markdown",
   "metadata": {},
   "source": [
    "## Chapter 0: A Guide for ROS in 5 Days"
   ]
  },
  {
   "cell_type": "markdown",
   "metadata": {
    "caption": "RViz Robot Model plus TF",
    "image": true,
    "name": "robotmodel",
    "width": "10cm"
   },
   "source": [
    "<img src=\"img/robotmodel.gif\" />"
   ]
  },
  {
   "cell_type": "markdown",
   "metadata": {},
   "source": [
    "## ROS in 5 days, I cannot believe it!"
   ]
  },
  {
   "cell_type": "markdown",
   "metadata": {},
   "source": [
    "You have probably heard of ROS and how long it takes to learn to all students. It is very likely that you are thinking that learning ROS in 5 days is not possible... so let me tell you the news:"
   ]
  },
  {
   "cell_type": "markdown",
   "metadata": {},
   "source": [
    "<center><b><h2>It is possible to learn ROS fast if you have the proper method!</h2></b></center>"
   ]
  },
  {
   "cell_type": "markdown",
   "metadata": {
    "caption": "Learn ROS fast if you have the proper method",
    "image": true,
    "name": "200",
    "width": "10cm"
   },
   "source": [
    "<img src=\"img/200.gif\" />"
   ]
  },
  {
   "cell_type": "markdown",
   "metadata": {},
   "source": [
    "### How is it possible?\n",
    "\n",
    "We have created a learning method that allows you to get most of ROS in the minimum amount of time. Our method has 4 parts:\n",
    "\n",
    "1. **DECONSTRUCTION**: we have identified the important parts of ROS that you must master in order to understand 80% of ROS programs. You will concentrate on learning these parts very deep.\n",
    "   \n",
    "2. **REMOVING**: we have removed many things that are not needed and just add noise to your learning.\n",
    "   \n",
    "3. **LEARNING**: we guide you step by step in a progressive manner through all those important parts, starting always from a robot that does things.\n",
    "   \n",
    "4. **PRACTICING**: we make you practice a lot on every step, always on a robot using our simulated robots.\n"
   ]
  },
  {
   "cell_type": "markdown",
   "metadata": {},
   "source": [
    "* Want to learn more about this method? Read this book: <a target=\"_blank\" href=\"https://www.amazon.com/gp/product/1591846943/ref=as_li_tl?ie=UTF8&camp=1789&creative=9325&creativeASIN=1591846943&linkCode=as2&tag=theconsim-20&linkId=88feac086be2a46c28909cb9909a6860\">The First 20 Hours: How to Learn Anything . . . Fast!</a><img src=\"//ir-na.amazon-adsystem.com/e/ir?t=theconsim-20&l=am2&o=1&a=1591846943\" width=\"1\" height=\"1\" border=\"0\" alt=\"\" style=\"border:none !important; margin:0px !important;\" />\n",
    "\n",
    "* Want to have scientific evidence of this method? Read this paper: <a href=\"https://pdfs.semanticscholar.org/6ce5/af5973ecec36eb9c699e7cae739743c8b4b5.pdf\">Cognitive Skill Acquisition</a>.\n"
   ]
  },
  {
   "cell_type": "markdown",
   "metadata": {},
   "source": [
    "### Which robots are you going to use along the course?\n",
    "\n",
    "Along this course you are going to program several robots of several types. Hence, you will be applying the same concepts over and over again, with different configurations and styles of robots. Applying the same concepts on different robots will make the concepts stick into your head."
   ]
  },
  {
   "cell_type": "markdown",
   "metadata": {},
   "source": [
    "The following robots will be used along the course:"
   ]
  },
  {
   "cell_type": "markdown",
   "metadata": {
    "caption": "",
    "image": true,
    "name": "drone",
    "width": "7cm"
   },
   "source": [
    "<img src=\"img/drone.jpg\" width=\"212\" height=\"236\" />"
   ]
  },
  {
   "cell_type": "markdown",
   "metadata": {},
   "source": [
    "<center><h2>**Parrot Drone**</h2></center>"
   ]
  },
  {
   "cell_type": "markdown",
   "metadata": {
    "caption": "",
    "image": true,
    "name": "kobuki",
    "width": "7cm"
   },
   "source": [
    "<img src=\"img/kobuki.jpg\" width=\"212\" height=\"236\"/>"
   ]
  },
  {
   "cell_type": "markdown",
   "metadata": {},
   "source": [
    "<center><h2>**Kobuki**</h2></center>"
   ]
  },
  {
   "cell_type": "markdown",
   "metadata": {
    "caption": "",
    "image": true,
    "name": "husky",
    "width": "7cm"
   },
   "source": [
    "<img src=\"img/husky.png\" width=\"212\" height=\"236\" />"
   ]
  },
  {
   "cell_type": "markdown",
   "metadata": {},
   "source": [
    "<center><h2>**Husky**</h2></center>"
   ]
  },
  {
   "cell_type": "markdown",
   "metadata": {
    "caption": "",
    "image": true,
    "name": "bb8",
    "width": "7cm"
   },
   "source": [
    "<img src=\"img/bb8.jpg\" width=\"212\" height=\"236\"/>"
   ]
  },
  {
   "cell_type": "markdown",
   "metadata": {},
   "source": [
    "<center><h2>**BB-8**</h2></center>"
   ]
  },
  {
   "cell_type": "markdown",
   "metadata": {
    "caption": "",
    "image": true,
    "name": "iri_wam",
    "width": "7cm"
   },
   "source": [
    "<img src=\"img/iri_wam.jpg\" width=\"212\" height=\"236\"/>"
   ]
  },
  {
   "cell_type": "markdown",
   "metadata": {},
   "source": [
    "<center><h2>**Wam Arm**</h2></center>"
   ]
  },
  {
   "cell_type": "markdown",
   "metadata": {},
   "source": [
    "## Main Objective of this course"
   ]
  },
  {
   "cell_type": "markdown",
   "metadata": {},
   "source": [
    "1. The objective of this course is to give you the basic tools and knowledge to be able to understand and create any basic ROS related project. You will be able to **move robots, read their sensor data, make the robots perform intelligent tasks, see visual representations of complex data such as pointclouds and debug errors in the programs.**\n",
    "\n",
    "2. The course will allow you to **understand packages that others have done**. So you can take ROS code made by others and understand what is happening and how to modify it for your own purposes.\n",
    "\n",
    "3. This course can serve as an introduction to be able to understand the ROS documentation of complex ROS packages for object recognition, text to speech, navigation and all the other areas where has ROS developed code."
   ]
  },
  {
   "cell_type": "markdown",
   "metadata": {},
   "source": [
    "## Learning ROS: attack in two ways"
   ]
  },
  {
   "cell_type": "markdown",
   "metadata": {},
   "source": [
    "The course provides teaching lessons in <span class=\"ign_red\">two different ways</span>:<br>\n",
    "    \n",
    "1.  <span class=\"ign_green\"><b>Learn ROS programming several robots</b></span>: This part consists of units that each one teaches you some topic of ROS. But you will learn creating and executing code while using different robots for it (the robots above).<span class=\"ign_blue\">Theory through hands on experience</span>.\n",
    "2. <span class=\"ign_green\"><b>Apply what you learnt to a Robot Project</b></span>: Here you will apply what you have learnt in the previous units by attacking a <span class=\"ign_blue\">full project controlling a Turtlebot robot</span>. The objective is to make the Turtlebot robot get out of a maze using its sensors' data."
   ]
  },
  {
   "cell_type": "markdown",
   "metadata": {
    "caption": "Sphero in the Maze",
    "image": true,
    "name": "sphero_maze",
    "width": "12cm"
   },
   "source": [
    "<img src=\"img/turtle_proj2.png\" width=\"400\" />"
   ]
  },
  {
   "cell_type": "markdown",
   "metadata": {},
   "source": [
    "### Learning ROS by programming several robots:"
   ]
  },
  {
   "cell_type": "markdown",
   "metadata": {},
   "source": [
    "We will teach you the main ROS concepts that are the core of ROS. These are the most important concepts that you have to master. Once you master them, the rest of ROS can follow easily.\n",
    "\n",
    "Along the units of this course, you will learn:\n",
    "\n",
    "* Unit 1: How **ROS Basic Structure** works.\n",
    "* Units 2 and 3: What are **ROS Topics** and how to use them.\n",
    "* Units 4 and 5: What are **ROS Services** and how to use them.\n",
    "* Units 7 and 8: What are **ROS Actions** and how to use them.\n",
    "* Unit 9: How to use **ROS Debugging Tools** for finding errors in your programs (especially Rviz).\n"
   ]
  },
  {
   "cell_type": "markdown",
   "metadata": {},
   "source": [
    "Each Unit is meant to be done in around <span class=\"ign_green\">one session of about 4-5 hours</span>. We will use C++ language to teach you and to program the robots."
   ]
  },
  {
   "cell_type": "markdown",
   "metadata": {},
   "source": [
    "### Apply what you learnt to a Robot Project:"
   ]
  },
  {
   "cell_type": "markdown",
   "metadata": {},
   "source": [
    "As you master the different concepts of ROS, you will have to apply your learning in a complete robot project. \n",
    "We suggest that you combine the learning of the lessons with progressing on the project. That is why, we have divided the project into 4 sessions:<br>\n",
    "\n",
    "* Project Section 1: Create topic publishers and subscribers for moving the Turtlebot robot and reading the laser data and the odometry data.\n",
    "* Project Section 2: Create a service that when used it reads the laser data and tells you which way to go.\n",
    "* Project Section 3: Create an action that when used it records the odometry and tells you what distance has moved the Turtlebot robot.\n",
    "* Project Section 4: Create a global program that reads/write into topics, uses the service and action that you created to make the robot get out of the maze.\n"
   ]
  },
  {
   "cell_type": "markdown",
   "metadata": {},
   "source": [
    "### <span id=\"how_to_proceed\" >How to proceed with the whole course?</span>"
   ]
  },
  {
   "cell_type": "markdown",
   "metadata": {},
   "source": [
    "The course has been designed to allow you to complete the whole thing in only 5 days, dedicating 6 hours of work per day.\n",
    "\n",
    "However, <b>YOU ARE NOT REQUIRED TO DO THE COURSE IN 5 DAYS!</b> You can do it in as many days as you want, because <b>this is a self paced course</b> and you wont be restricted in the time of usage.\n",
    "\n",
    "In any case, if you decide to take our proposal of 5 days we recommend you to follow this order:<br>"
   ]
  },
  {
   "cell_type": "markdown",
   "metadata": {},
   "source": [
    "* **DAY 1**\n",
    "\n",
    "  * Unit 1: How ROS Basic Structure works, <span class=\"ign_blue\">Time: 1'5h</span>\n",
    "  * Start Unit 2: ROS Topics,<span class=\"ign_blue\">Time: 2'5h</span>\n",
    "  * Work on Project Section 1, <span class=\"ign_blue\">Time: 2h</span>\n",
    "\n",
    "\n",
    "* **DAY 2**\n",
    "\n",
    "  * <span class=\"ign_red\">Finish </span>Unit 2: ROS Topics, <span class=\"ign_blue\">Time: 2'5h</span>\n",
    "  * Unit 5: ROS Debugging Tools, <span class=\"ign_blue\">Time: 1'5h</span>\n",
    "  * Finish Project Section 1, <span class=\"ign_blue\">Time: 2h</span>\n",
    "\n",
    "\n",
    "* **DAY 3**\n",
    "\n",
    "  * <span class=\"ign_green\">Start </span>Unit 3: ROS Services, <span class=\"ign_blue\">Time: 4h</span>\n",
    "  * Finish Project Section 2, <span class=\"ign_blue\">Time: 2h</span>\n",
    "\n",
    "\n",
    "* **DAY 4**\n",
    "\n",
    "  * <span class=\"ign_red\">Finish </span>Unit 3: ROS Services, <span class=\"ign_blue\">Time: 1'5h</span>\n",
    "  * <span class=\"ign_green\">Start </span>Unit 4: ROS Actions, <span class=\"ign_blue\">Time: 2'5h</span>\n",
    "  * Finish Project Section 3, <span class=\"ign_blue\">Time: 2h</span>\n",
    "\n",
    "\n",
    "* **DAY 5**\n",
    "\n",
    "  * <span class=\"ign_red\">Finish </span>Unit 4: ROS Actions, <span class=\"ign_blue\">Time: 3h</span>\n",
    "  * Finish Project Section 4, <span class=\"ign_blue\">Time: 3h</span>\n",
    "\n",
    "\n",
    "The most important thing that must take into account is:<br><p style=\"color:red;\" align=\"center\">**DO NOT SKIP EXERCISES.**</p>\n",
    "\n",
    "Exercises are the core of this teaching method (remember, practice, practice, practice). If you avoid them, you will be missing the whole thing. \n"
   ]
  },
  {
   "cell_type": "markdown",
   "metadata": {},
   "source": [
    "### Where to go when finished"
   ]
  },
  {
   "cell_type": "markdown",
   "metadata": {},
   "source": [
    "Once you have finished the course, you can still learn a lot of interesting subjects of ROS.\n",
    "\n",
    "* Take more advanced courses we offer at <a href=\"http://www.robotigniteacademy.com/\">Ignite Academy</a>, like Navigation, Perception or Manipulation. \n",
    "* You can apply all you have learned in the free simulating environment of the <a href=\"http://www.theconstructsim.com/the-construct-new-homepage/\">The Construct</a> and create your own programs for ROS based robots.\n",
    "* You can download simulation robot models to practice in a local installation of ROS through <a href=\"http://www.theconstructsim.com/shop-landing-page-default/\">Robository</a>.\n",
    "* Or you can go to the <a href=\"http://wiki.ros.org/\">ROS Wiki</a> and check the official documentation of ROS, now with different eyes.\n"
   ]
  }
 ],
 "metadata": {
  "anaconda-cloud": {},
  "kernelspec": {
   "display_name": "Python [Root]",
   "language": "python",
   "name": "Python [Root]"
  },
  "language_info": {
   "codemirror_mode": {
    "name": "ipython",
    "version": 2
   },
   "file_extension": ".py",
   "mimetype": "text/x-python",
   "name": "python",
   "nbconvert_exporter": "python",
   "pygments_lexer": "ipython2",
   "version": "2.7.12"
  },
  "latex_metadata": {
   "chapter": "0 - A guide for ROS in 5 days",
   "chapter_title": "Chapter 0. A guide for ROS in 5 days",
   "course_title": "ROS BASICS IN 5 DAYS"
  }
 },
 "nbformat": 4,
 "nbformat_minor": 1
}
