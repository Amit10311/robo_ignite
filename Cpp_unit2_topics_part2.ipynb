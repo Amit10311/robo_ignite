{
 "cells": [
  {
   "cell_type": "markdown",
   "metadata": {},
   "source": [
    "# <font class='ign_color'>ROS IN 5 DAYS</font>"
   ]
  },
  {
   "cell_type": "markdown",
   "metadata": {},
   "source": [
    "# Unit 2: Topics"
   ]
  },
  {
   "cell_type": "markdown",
   "metadata": {
    "caption": "Kobuki",
    "image": true,
    "name": "kobuki_wall",
    "width": "15cm"
   },
   "source": [
    "<img src=\"img/kobuki_wall.png\" width=\"800\"/>"
   ]
  },
  {
   "cell_type": "markdown",
   "metadata": {},
   "source": [
    "<b>Estimated time to completion:</b> 2.5 hours\n",
    "<br><br>\n",
    "<b>What will you learn with this unit?</b>\n",
    "\n",
    "* What is a Subscriber and how to create one\n",
    "* How to create your own message"
   ]
  },
  {
   "cell_type": "markdown",
   "metadata": {
    "caption": "Kobuki Robot",
    "image": true,
    "name": "kobuki",
    "width": "7cm"
   },
   "source": [
    "<img src=\"img/kobuki.jpg\" width=\"212\" height=\"236\" />"
   ]
  },
  {
   "cell_type": "markdown",
   "metadata": {},
   "source": [
    "## Part 2: Subscriber"
   ]
  },
  {
   "cell_type": "markdown",
   "metadata": {},
   "source": [
    "You've learned that a topic is a channel where nodes can either write or read information. You've also seen that you can write into a topic using a publisher, so you may be thinking that there should also be some kind of similar tool to read information from a topic. And you're right! That's called a subscriber. <b>A subscriber is a node that reads information from a topic</b>. Let's execute the next code:"
   ]
  },
  {
   "cell_type": "markdown",
   "metadata": {},
   "source": [
    "<p style=\"background:#EE9023;color:white;\">**Example 2.3**</p>"
   ]
  },
  {
   "cell_type": "markdown",
   "metadata": {},
   "source": [
    "* Create a new package named **topic_subscriber_pkg**. When creating the package, add as dependencies **roscpp** and **std_msgs**.\n",
    "\n",
    "* Inside the src folder of the package, create a new file named **simple_topic_subscriber.cpp**. Inside this file, copy the contents of <a href=\"#prg-2-2\">simple_topic_subscriber.cpp </a>\n",
    "\n",
    "* Create a launch file for launching this code.\n",
    "\n",
    "* Do the necessary modifications to your **CMakeLists.txt** file, and compile the package.\n",
    "\n",
    "* Execute the launch file to run your executable."
   ]
  },
  {
   "cell_type": "markdown",
   "metadata": {},
   "source": [
    "<p style=\"background:#EE9023;color:white;\">**END Example 2.3**</p>"
   ]
  },
  {
   "cell_type": "markdown",
   "metadata": {},
   "source": [
    "<p style=\"background:#3B8F10;color:white;\" id=\"prg-2-2\">**C++ Program {2.2}: simple_topic_subscriber.cpp** </p>"
   ]
  },
  {
   "cell_type": "code",
   "execution_count": null,
   "metadata": {
    "collapsed": true
   },
   "outputs": [],
   "source": [
    "#include <ros/ros.h>\n",
    "#include <std_msgs/Int32.h>\n",
    "\n",
    "void counterCallback(const std_msgs::Int32::ConstPtr& msg)\n",
    "{\n",
    "  ROS_INFO(\"%d\", msg->data);\n",
    "}\n",
    "\n",
    "int main(int argc, char** argv) {\n",
    "\n",
    "    ros::init(argc, argv, \"topic_subscriber\");\n",
    "    ros::NodeHandle nh;\n",
    "    \n",
    "    ros::Subscriber sub = nh.subscribe(\"counter\", 1000, counterCallback);\n",
    "    \n",
    "    ros::spin();\n",
    "    \n",
    "    return 0;\n",
    "}"
   ]
  },
  {
   "cell_type": "markdown",
   "metadata": {},
   "source": [
    "<p style=\"background:#3B8F10;color:white;\">**END C++ Program {2.2}: simple_topic_subscriber.cpp** </p><br>"
   ]
  },
  {
   "cell_type": "markdown",
   "metadata": {},
   "source": [
    "What's up? Nothing happened again? Well, that's not actually true... Let's do some checks."
   ]
  },
  {
   "cell_type": "markdown",
   "metadata": {},
   "source": [
    "Go to your webshell and type the following:"
   ]
  },
  {
   "cell_type": "markdown",
   "metadata": {},
   "source": [
    "<table style=\"float:left;background: #407EAF\">\n",
    "<tr>\n",
    "<th>\n",
    "<p class=\"transparent\">Execute in WebShell #1</p>\n",
    "</th>\n",
    "</tr>\n",
    "</table>"
   ]
  },
  {
   "cell_type": "code",
   "execution_count": null,
   "metadata": {
    "collapsed": true
   },
   "outputs": [],
   "source": [
    "rostopic echo /counter"
   ]
  },
  {
   "cell_type": "markdown",
   "metadata": {},
   "source": [
    "You should see an output like this:"
   ]
  },
  {
   "cell_type": "markdown",
   "metadata": {},
   "source": [
    "<table class=\"transparent float_l\">\n",
    "<tr>\n",
    "<th>\n",
    "<p style=\"background: #407EAF\">WebShell #1 Output</p>\n",
    "</th>\n",
    "</tr>\n",
    "</table>"
   ]
  },
  {
   "cell_type": "code",
   "execution_count": null,
   "metadata": {
    "collapsed": true
   },
   "outputs": [],
   "source": [
    "user ~ $ rostopic echo /counter\n",
    "WARNING: no messages received and simulated time is active.\n",
    "Is /clock being published?"
   ]
  },
  {
   "cell_type": "markdown",
   "metadata": {},
   "source": [
    "And what does this mean? This means that **nobody is publishing into the /counter topic**, so there's no information to be read. Let's then publish something into the topic and see what happens. For that, let's introduce a new command:"
   ]
  },
  {
   "cell_type": "code",
   "execution_count": null,
   "metadata": {
    "collapsed": true
   },
   "outputs": [],
   "source": [
    "rostopic pub <topic_name> <message_type> <value>"
   ]
  },
  {
   "cell_type": "markdown",
   "metadata": {},
   "source": [
    "This command will publish the message you specify with the value you specify, in the topic you specify."
   ]
  },
  {
   "cell_type": "markdown",
   "metadata": {},
   "source": [
    "Open another webshell (leave the one with the **<i>rostopic echo</i>** opened) and type the next command:"
   ]
  },
  {
   "cell_type": "markdown",
   "metadata": {},
   "source": [
    "<table style=\"float:left;background: #407EAF\">\n",
    "<tr>\n",
    "<th>\n",
    "<p class=\"transparent\">Execute in WebShell #2</p>\n",
    "</th>\n",
    "</tr>\n",
    "</table>"
   ]
  },
  {
   "cell_type": "code",
   "execution_count": null,
   "metadata": {
    "collapsed": true
   },
   "outputs": [],
   "source": [
    "rostopic pub /counter std_msgs/Int32 5"
   ]
  },
  {
   "cell_type": "markdown",
   "metadata": {},
   "source": [
    "Now check the output of the console where you did the **<i>rostopic echo</i>** again. You should see something like this: . "
   ]
  },
  {
   "cell_type": "markdown",
   "metadata": {},
   "source": [
    "<table class=\"transparent float_l\">\n",
    "<tr>\n",
    "<th>\n",
    "<p style=\"background: #407EAF\">WebShell #1 Output</p>\n",
    "</th>\n",
    "</tr>\n",
    "</table>"
   ]
  },
  {
   "cell_type": "code",
   "execution_count": null,
   "metadata": {
    "collapsed": true
   },
   "outputs": [],
   "source": [
    "user ~ $ rostopic echo /counter\n",
    "WARNING: no messages received and simulated time is active.\n",
    "Is /clock being published?\n",
    "data:\n",
    "5\n",
    "---"
   ]
  },
  {
   "cell_type": "markdown",
   "metadata": {},
   "source": [
    "This means that the value you published has been received by your subscriber program (which prints the value on the screen)."
   ]
  },
  {
   "cell_type": "markdown",
   "metadata": {},
   "source": [
    "Now check the output of the shell where you executed your subscriber code. You should now see something like this:"
   ]
  },
  {
   "cell_type": "markdown",
   "metadata": {
    "caption": "Notebook Output",
    "image": true,
    "name": "ipython_output",
    "width": "6cm"
   },
   "source": [
    "<img src=\"img/cpp_subscriber_output.png\" width=\"600\" />"
   ]
  },
  {
   "cell_type": "markdown",
   "metadata": {},
   "source": [
    "Before explaining everything with more detail, let's explain the code you executed."
   ]
  },
  {
   "cell_type": "code",
   "execution_count": null,
   "metadata": {
    "collapsed": true
   },
   "outputs": [],
   "source": [
    "#include <ros/ros.h>\n",
    "#include <std_msgs/Int32.h>\n",
    "\n",
    "void counterCallback(const std_msgs::Int32::ConstPtr& msg) // Define a function called 'callback' that receives a                                                                // parameter named 'msg' \n",
    "{\n",
    "  ROS_INFO(\"%d\", msg->data); // Print the value 'data' inside the 'msg' parameter\n",
    "}\n",
    "\n",
    "int main(int argc, char** argv) {\n",
    "\n",
    "    ros::init(argc, argv, \"topic_subscriber\"); // Initiate a Node called 'topic_subscriber'\n",
    "    ros::NodeHandle nh;\n",
    "    \n",
    "    ros::Subscriber sub = nh.subscribe(\"counter\", 1000, counterCallback); // Create a Subscriber object that will                                                                               // listen to the /counter topic and will\n",
    "                                                                          // call the 'callback' function each time                                                                             // it reads something from the topic\n",
    "    \n",
    "    ros::spin(); // Create a loop that will keep the program in execution\n",
    "    \n",
    "    return 0;\n",
    "}"
   ]
  },
  {
   "cell_type": "markdown",
   "metadata": {},
   "source": [
    "So now, let's explain what has just happened. You've basically created a subscriber node that listens to the /counter topic, and each time it reads something, it calls a function that does a print of the msg. Initially, nothing happened since nobody was publishing into the /counter topic, but when you executed the <i>rostopic pub</i> command, you published a message into the /counter topic, so your subscriber has printed that number and you could also see that message in the <i>rostopic echo</i> output. Now everything makes sense, right?"
   ]
  },
  {
   "cell_type": "markdown",
   "metadata": {},
   "source": [
    "Now let's do some exercises to put into practice what you've learned!"
   ]
  },
  {
   "cell_type": "markdown",
   "metadata": {},
   "source": [
    "<p id=\"ex-2.2\" style=\"background:#EE9023;color:white;\">**Exercise 2.4**</p><br>\n",
    "Modify the previous code in order to print the odometry of the robot.<br>\n",
    "<p style=\"background:#3B8F10;color:white;\">**Data for Exercice 2.4**</p><br>\n",
    "<ol>\n",
    "<li><font class='ign_green'><b>The odometry of the robot is published by the robot into the <i>/odom</i> topic.</b></font></li>\n",
    "<li><font class='ign_green'><b>You will need to figure out what message uses the <i>/odom</i> topic, and how the structure of this message is.</b></font></li>\n",
    "<li><font class='ign_green'><b>Remember to compile again your package in order to update your executable.</b></font></li>\n",
    "</ol>"
   ]
  },
  {
   "cell_type": "markdown",
   "metadata": {},
   "source": [
    "<p id=\"ex-2.2\" style=\"background:#EE9023;color:white;\">**END Exercise 2.4**</p>"
   ]
  },
  {
   "cell_type": "markdown",
   "metadata": {},
   "source": [
    "<p style=\"background:#EE9023;color:white;\">**Exercise 2.5**</p><br>\n",
    "\n",
    "1. Add to the <a href=\"#ex-2.2\">{Exercice 2.4}</a>, a C++ file that creates a publisher that indicates the age of the robot, to the previous package.\n",
    "<br>\n",
    "2. For that, you'll need to create a new message called Age.msg. See the detailed description <a href=\"#custom_topic_compilation\">How to prepare CMakeLists.txt and package.xml for custom topic message compilation.</a>"
   ]
  },
  {
   "cell_type": "markdown",
   "metadata": {},
   "source": [
    "<p id=\"ex-2.2\" style=\"background:#EE9023;color:white;\">**END Exercise 2.5**</p>"
   ]
  },
  {
   "cell_type": "markdown",
   "metadata": {},
   "source": [
    "<div id=\"custom_topic_compilation\"></div>"
   ]
  },
  {
   "cell_type": "markdown",
   "metadata": {},
   "source": [
    "## How to Prepare CMakeLists.txt and package.xml for Custom Topic Message Compilation"
   ]
  },
  {
   "cell_type": "markdown",
   "metadata": {},
   "source": [
    "Now you may be wondering... in case I need to publish some data that is not an Int32, which type of message should I use? You can use all ROS defined (**<i>rosmsg list</i>**) messages. But, in case none fit your needs, you can create a new one."
   ]
  },
  {
   "cell_type": "markdown",
   "metadata": {},
   "source": [
    "In order to create a new message, you will need to do the following steps:\n",
    "\n",
    "1. Create a directory named 'msg' inside your package\n",
    "2. Inside this directory, create a file named Name_of_your_message.msg (more information down)\n",
    "3. Modify CMakeLists.txt file (more information down)\n",
    "4. Modify package.xml file (more information down)\n",
    "5. Compile\n",
    "6. Use in code\n"
   ]
  },
  {
   "cell_type": "markdown",
   "metadata": {},
   "source": [
    "For example, let's create a message that indicates age, with years, months, and days."
   ]
  },
  {
   "cell_type": "markdown",
   "metadata": {},
   "source": [
    "1) Create a directory msg in your package."
   ]
  },
  {
   "cell_type": "code",
   "execution_count": null,
   "metadata": {
    "collapsed": true
   },
   "outputs": [],
   "source": [
    "roscd <package_name>\n",
    "mkdir msg"
   ]
  },
  {
   "cell_type": "markdown",
   "metadata": {},
   "source": [
    "2) The <b>Age.msg</b> file must contain this:"
   ]
  },
  {
   "cell_type": "code",
   "execution_count": null,
   "metadata": {
    "collapsed": true
   },
   "outputs": [],
   "source": [
    "float32 years\n",
    "float32 months\n",
    "float32 days"
   ]
  },
  {
   "cell_type": "markdown",
   "metadata": {},
   "source": [
    "3) <b>In CMakeLists.txt</b>"
   ]
  },
  {
   "cell_type": "markdown",
   "metadata": {},
   "source": [
    "You will have to edit four functions inside CMakeLists.txt:\n",
    "\n",
    "* <span class=\"ign_green\"><a href=\"#find_package\">find_package()</a></span>\n",
    "* <span class=\"ign_green\"><a href=\"#add_message_files\">add_message_files()</a></span>\n",
    "* <span class=\"ign_green\"><a href=\"#generate_messages\">generate_messages()</a></span>\n",
    "* <span class=\"ign_green\"><a href=\"#catkin_package\">catkin_package()</a></span>\n"
   ]
  },
  {
   "cell_type": "markdown",
   "metadata": {},
   "source": [
    "### <span style=\"color: green;\" id=\"find_package\">I. find_package()</span>"
   ]
  },
  {
   "cell_type": "markdown",
   "metadata": {},
   "source": [
    "This is where all the packages required to COMPILE the messages of the topics, services, and actions go.\n",
    "In package.xml, you have to state them as <b>build_depend</b>.\n"
   ]
  },
  {
   "cell_type": "markdown",
   "metadata": {},
   "source": [
    "<font class='ign_green'><b>HINT 1: If you open the CMakeLists.txt file in your IDE, you'll see that almost all of the file is commented. This includes some of the lines you will have to modify. Instead of copying and pasting the lines below, find the equivalents in the file and uncomment them, and then add the parts that are missing.</b></font>"
   ]
  },
  {
   "cell_type": "code",
   "execution_count": null,
   "metadata": {
    "collapsed": true
   },
   "outputs": [],
   "source": [
    "find_package(catkin REQUIRED COMPONENTS\n",
    "       roscpp\n",
    "       std_msgs\n",
    "       message_generation   # Add message_generation here, after the other packages\n",
    ")"
   ]
  },
  {
   "cell_type": "markdown",
   "metadata": {},
   "source": [
    "### <span style=\"color: green;\" id=\"add_message_files\">II. add_message_files()</span>"
   ]
  },
  {
   "cell_type": "markdown",
   "metadata": {},
   "source": [
    "This function includes all of the messages of this package (in the msg folder) to be compiled. The file should look like this."
   ]
  },
  {
   "cell_type": "code",
   "execution_count": null,
   "metadata": {
    "collapsed": true
   },
   "outputs": [],
   "source": [
    "add_message_files(\n",
    "      FILES\n",
    "      Age.msg\n",
    "    ) # Dont Forget to UNCOMENT the parenthesis and add_message_files TOO"
   ]
  },
  {
   "cell_type": "markdown",
   "metadata": {},
   "source": [
    "### <span style=\"color: green;\" id=\"generate_messages\">III. generate_messages()</span>"
   ]
  },
  {
   "cell_type": "markdown",
   "metadata": {},
   "source": [
    "Here is where the packages needed for the messages compilation are imported."
   ]
  },
  {
   "cell_type": "code",
   "execution_count": null,
   "metadata": {
    "collapsed": true
   },
   "outputs": [],
   "source": [
    "generate_messages(\n",
    "      DEPENDENCIES\n",
    "      std_msgs\n",
    ") # Dont Forget to uncoment here TOO"
   ]
  },
  {
   "cell_type": "markdown",
   "metadata": {},
   "source": [
    "### <span style=\"color: green;\" id=\"catkin_package\">IV. catkin_package()</span>"
   ]
  },
  {
   "cell_type": "markdown",
   "metadata": {},
   "source": [
    "State here all of the packages that will be needed by someone that executes something from your package.\n",
    "All of the packages stated here must be in the package.xml as <b>run_depend</b>."
   ]
  },
  {
   "cell_type": "code",
   "execution_count": null,
   "metadata": {
    "collapsed": true
   },
   "outputs": [],
   "source": [
    "catkin_package(\n",
    "      CATKIN_DEPENDS roscpp std_msgs message_runtime   # This will NOT be the only thing here\n",
    ")"
   ]
  },
  {
   "cell_type": "markdown",
   "metadata": {},
   "source": [
    "Summarizing, this is the minimum expression of what is needed for the CMakaelist.txt to work:"
   ]
  },
  {
   "cell_type": "markdown",
   "metadata": {},
   "source": [
    "<p style=\"color: red;\"><b>Note: </b>Keep in mind that the name of the package in the following example is <b>topic_ex</b>, so in your case, the name of the package may be different.</p>"
   ]
  },
  {
   "cell_type": "code",
   "execution_count": null,
   "metadata": {
    "collapsed": true
   },
   "outputs": [],
   "source": [
    "cmake_minimum_required(VERSION 2.8.3)\n",
    "project(topic_ex)\n",
    "\n",
    "\n",
    "find_package(catkin REQUIRED COMPONENTS\n",
    "  roscpp\n",
    "  std_msgs\n",
    "  message_generation\n",
    ")\n",
    "\n",
    "add_message_files(\n",
    "  FILES\n",
    "  Age.msg\n",
    ")\n",
    "\n",
    "generate_messages(\n",
    "  DEPENDENCIES\n",
    "  std_msgs\n",
    ")\n",
    "\n",
    "catkin_package(\n",
    "  CATKIN_DEPENDS roscpp std_msgs message_runtime\n",
    ")\n",
    "\n",
    "include_directories(\n",
    "  ${catkin_INCLUDE_DIRS}\n",
    ")"
   ]
  },
  {
   "cell_type": "markdown",
   "metadata": {},
   "source": [
    "4) <b>Modify package.xml</b>"
   ]
  },
  {
   "cell_type": "markdown",
   "metadata": {},
   "source": [
    "Just add these 2 lines to the package.xml file."
   ]
  },
  {
   "cell_type": "code",
   "execution_count": null,
   "metadata": {
    "collapsed": true
   },
   "outputs": [],
   "source": [
    "<build_depend>message_generation</build_depend> \n",
    "<run_depend>message_runtime</run_depend>"
   ]
  },
  {
   "cell_type": "markdown",
   "metadata": {},
   "source": [
    "This is the minimum expression of the package.xml"
   ]
  },
  {
   "cell_type": "markdown",
   "metadata": {},
   "source": [
    "<p style=\"color: red;\"><b>Note: </b>Keep in mind that the name of the package in the following example is <b>topic_ex</b>, so in your case, the name of the package may be different.</p>"
   ]
  },
  {
   "cell_type": "code",
   "execution_count": null,
   "metadata": {
    "collapsed": true
   },
   "outputs": [],
   "source": [
    "<?xml version=\"1.0\"?>\n",
    "<package>\n",
    "  <name>topic_ex</name>\n",
    "  <version>0.0.0</version>\n",
    "  <description>The topic_ex package</description>\n",
    "\n",
    "\n",
    "  <maintainer email=\"user@todo.todo\">user</maintainer>\n",
    "\n",
    "  <license>TODO</license>\n",
    "\n",
    " <buildtool_depend>catkin</buildtool_depend>\n",
    "  <build_depend>roscpp</build_depend>\n",
    "  <build_depend>std_msgs</build_depend>\n",
    "  <build_depend>message_generation</build_depend> \n",
    "  <run_depend>roscpp</run_depend>\n",
    "  <run_depend>std_msgs</run_depend>\n",
    "  <run_depend>message_runtime</run_depend>\n",
    "\n",
    "  <export>\n",
    "\n",
    "  </export>\n",
    "</package>"
   ]
  },
  {
   "cell_type": "markdown",
   "metadata": {},
   "source": [
    "5) Now you have to compile the msgs. To do this, you have to type in a WebShell:"
   ]
  },
  {
   "cell_type": "markdown",
   "metadata": {},
   "source": [
    "<table style=\"float:left;background: #407EAF\">\n",
    "<tr>\n",
    "<th>\n",
    "<p class=\"transparent\">Execute in WebShell #1</p>\n",
    "</th>\n",
    "</tr>\n",
    "</table>"
   ]
  },
  {
   "cell_type": "code",
   "execution_count": null,
   "metadata": {
    "collapsed": true
   },
   "outputs": [],
   "source": [
    "roscd; cd ..\n",
    "catkin_make\n",
    "source devel/setup.bash"
   ]
  },
  {
   "cell_type": "markdown",
   "metadata": {},
   "source": [
    "<span style=\"color:red;\">\n",
    "**VERY IMPORTANT**: When you compile new messages, there is still an extra step before you can use the messages. You have to type in the Webshell, in the **catkin_ws**, the following command: **<i>source devel/setup.bash</i>**. <br><br>\n",
    "This executes this bash file that sets, among other things, the newly generated messages created through the catkin_make.<br><br>\n",
    "If you don't do this, it might give you an import error, saying it doesn't find the message generated.\n",
    "</span>"
   ]
  },
  {
   "cell_type": "markdown",
   "metadata": {},
   "source": [
    "If your compilation goes fine, you should see something similar to this:"
   ]
  },
  {
   "cell_type": "markdown",
   "metadata": {},
   "source": [
    "<img src=\"img/roscpp_compiling_msg.png\" width=\"800\" />"
   ]
  },
  {
   "cell_type": "markdown",
   "metadata": {},
   "source": [
    "<font class='ign_green'><b>HINT 2: To verify that your message has been created successfully, type in your webshell <i>rosmsg show Age</i>. If the structure of the Age message appears, it will mean that your message has been created successfully and it's ready to be used in your ROS programs.</b></font>"
   ]
  },
  {
   "cell_type": "markdown",
   "metadata": {},
   "source": [
    "<table style=\"float:left;background: #407EAF\">\n",
    "<tr>\n",
    "<th>\n",
    "<p class=\"transparent\">Execute in WebShell #1</p>\n",
    "</th>\n",
    "</tr>\n",
    "</table>"
   ]
  },
  {
   "cell_type": "code",
   "execution_count": null,
   "metadata": {
    "collapsed": true
   },
   "outputs": [],
   "source": [
    "rosmsg show Age"
   ]
  },
  {
   "cell_type": "markdown",
   "metadata": {},
   "source": [
    "<table class=\"transparent float_l\">\n",
    "<tr>\n",
    "<th>\n",
    "<p style=\"background: #407EAF\">WebShell #1 Output</p>\n",
    "</th>\n",
    "</tr>\n",
    "</table>"
   ]
  },
  {
   "cell_type": "code",
   "execution_count": null,
   "metadata": {
    "collapsed": true
   },
   "outputs": [],
   "source": [
    "user ~ $ rosmsg show Age\n",
    "[topic_ex/Age]:\n",
    "float32 years\n",
    "float32 months\n",
    "float32 days"
   ]
  },
  {
   "cell_type": "markdown",
   "metadata": {},
   "source": [
    "## To use Custom Messages in Cpp files"
   ]
  },
  {
   "cell_type": "markdown",
   "metadata": {},
   "source": [
    "You will have to add to your **CMakeLists.txt** the following extra lines to compile and link your executable ( in this example its called **publish_age.cpp** ) :"
   ]
  },
  {
   "cell_type": "code",
   "execution_count": null,
   "metadata": {
    "collapsed": true
   },
   "outputs": [],
   "source": [
    "add_executable(publish_age src/publish_age.cpp)\n",
    "add_dependencies(publish_age ${publish_age_EXPORTED_TARGETS} ${catkin_EXPORTED_TARGETS})\n",
    "target_link_libraries(publish_age\n",
    "   ${catkin_LIBRARIES}\n",
    " )\n",
    "add_dependencies(publish_age topic_ex_generate_messages_cpp)"
   ]
  },
  {
   "cell_type": "markdown",
   "metadata": {
    "collapsed": true
   },
   "source": [
    "## Topics Mini Project"
   ]
  },
  {
   "cell_type": "markdown",
   "metadata": {
    "caption": "Tultlebot2",
    "image": true,
    "name": "topics_mini_project",
    "width": "10cm"
   },
   "source": [
    "<img src=\"img/topics_mini_project.png\" width=\"500\"></img>"
   ]
  },
  {
   "cell_type": "markdown",
   "metadata": {},
   "source": [
    "With all you've learned during this course, you're now able to do a small project to put everything together. Subscribers, Publisher, Messages... you will need to use all of this concepts in order to succeed!"
   ]
  },
  {
   "cell_type": "markdown",
   "metadata": {},
   "source": [
    "In this project, you will create a code to make the robot avoid the wall that is in front of him. To help you achieve this, let's divide the project down into smaller units:\n",
    "\n",
    "1. Create a Publisher that writes into the /cmd_vel topic in order to move the robot.\n",
    "2. Create a Subscriber that reads from the /kobuki/laser/scan topic. This is the topic where the laser publishes its data.\n",
    "3. Depending on the readings you receive from the laser's topic, you'll have to change the data you're sending to the /cmd_vel topic, in order to avoid the wall. This means, use the values of the laser to decide."
   ]
  },
  {
   "cell_type": "markdown",
   "metadata": {},
   "source": [
    "<font class='ign_green'><b>HINT 1: The data that is published into the /kobuki/laser/scan topic has a large structure. For this project, you just have to pay attention to the 'ranges' array.</b></font>"
   ]
  },
  {
   "cell_type": "markdown",
   "metadata": {},
   "source": [
    "<table style=\"float:left;background: #407EAF\">\n",
    "<tr>\n",
    "<th>\n",
    "<p class=\"transparent\">Execute in WebShell #1</p>\n",
    "</th>\n",
    "</tr>\n",
    "</table>"
   ]
  },
  {
   "cell_type": "code",
   "execution_count": null,
   "metadata": {
    "collapsed": true
   },
   "outputs": [],
   "source": [
    "rosmsg show sensor_msgs/LaserScan"
   ]
  },
  {
   "cell_type": "markdown",
   "metadata": {},
   "source": [
    "<table class=\"transparent float_l\">\n",
    "<tr>\n",
    "<th>\n",
    "<p style=\"background: #407EAF\">WebShell #1 Output</p>\n",
    "</th>\n",
    "</tr>\n",
    "</table>"
   ]
  },
  {
   "cell_type": "code",
   "execution_count": null,
   "metadata": {
    "collapsed": true
   },
   "outputs": [],
   "source": [
    "user ~ $ rosmsg show sensor_msgs/LaserScan\n",
    "std_msgs/Header header\n",
    "  uint32 seq\n",
    "  time stamp\n",
    "  string frame_id\n",
    "float32 angle_min\n",
    "float32 angle_max\n",
    "float32 angle_increment\n",
    "float32 time_increment\n",
    "float32 scan_time\n",
    "float32 range_min\n",
    "float32 range_max\n",
    "float32[] ranges <-- Use only this one\n",
    "float32[] intensities"
   ]
  },
  {
   "cell_type": "markdown",
   "metadata": {},
   "source": [
    "<font class='ign_green'><b>HINT 2: The 'ranges' array has a lot of values. The ones that are in the middle of the array represent the distances that the laser is detecting right in front of him. This means that the values in the middle of the array will be the ones that detect the wall. So in order to avoid the wall, you just have to read these values.</b></font>"
   ]
  },
  {
   "cell_type": "markdown",
   "metadata": {},
   "source": [
    "<font class='ign_green'><b>HINT 3: The laser has a range of 30m. When you get readings of values around 30, it means that the laser isn't detecting anything. If you get a value that is under 30, this will mean that the laser is detecting some kind of obstacle in that direction (the wall).</b></font>"
   ]
  },
  {
   "cell_type": "markdown",
   "metadata": {},
   "source": [
    "<font class='ign_green'><b>HINT 4: The scope of the laser is about 180 degrees from right to left. This means that the values at the beginning and at the end of the 'ranges' array will be the ones related to the readings on the sides of the laser (left and right), while the values in the middle of the array will be the ones related to the front of the laser.</b></font>"
   ]
  },
  {
   "cell_type": "markdown",
   "metadata": {},
   "source": [
    "## Additional material to learn more"
   ]
  },
  {
   "cell_type": "markdown",
   "metadata": {},
   "source": [
    "ROS Topics: http://wiki.ros.org/Topics\n",
    "\n",
    "\n",
    "ROS Messages: http://wiki.ros.org/Messages\n",
    "\n",
    "\n",
    "msg Files: http://wiki.ros.org/msg\n",
    "\n",
    "\n",
    "Publisher and Subscriber 1: http://wiki.ros.org/ROS/Tutorials/WritingPublisherSubscriber%28c%2B%2B%29\n",
    "\n",
    "\n",
    "Publisher and Subscriber 2: http://wiki.ros.org/ROS/Tutorials/ExaminingPublisherSubscriber"
   ]
  },
  {
   "cell_type": "markdown",
   "metadata": {},
   "source": [
    "## <p style=\"background:red;color:white;\">Solutions</p>"
   ]
  },
  {
   "cell_type": "markdown",
   "metadata": {},
   "source": [
    "Please Try to do it by yourself unless you get stuck or need some inspiration. You will learn much more if you fight for each exercise."
   ]
  },
  {
   "cell_type": "markdown",
   "metadata": {},
   "source": [
    "<img src=\"img/robotignite_logo_text.png\"/>"
   ]
  },
  {
   "cell_type": "markdown",
   "metadata": {},
   "source": [
    "Follow this link to open the solutions for the Topics Part 2:[Topics Part 2](extra_files/unit2_topics_part2_solutions_cpp.ipynb)"
   ]
  }
 ],
 "metadata": {
  "anaconda-cloud": {},
  "kernelspec": {
   "display_name": "Python [Root]",
   "language": "python",
   "name": "Python [Root]"
  },
  "language_info": {
   "codemirror_mode": {
    "name": "ipython",
    "version": 2
   },
   "file_extension": ".py",
   "mimetype": "text/x-python",
   "name": "python",
   "nbconvert_exporter": "python",
   "pygments_lexer": "ipython2",
   "version": "2.7.12"
  },
  "latex_metadata": {
   "chapter": "2 - Topics",
   "chapter_title": "Unit 2. Topics Part 2",
   "course_title": "ROS BASICS IN 5 DAYS"
  }
 },
 "nbformat": 4,
 "nbformat_minor": 1
}
