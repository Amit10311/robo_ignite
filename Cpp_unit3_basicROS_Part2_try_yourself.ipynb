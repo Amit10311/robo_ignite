{
 "cells": [
  {
   "cell_type": "markdown",
   "metadata": {},
   "source": [
    "# <font class='ign_color'>ROS IN 5 DAYS</font>"
   ]
  },
  {
   "cell_type": "markdown",
   "metadata": {},
   "source": [
    "# Unit 3: Services in ROS"
   ]
  },
  {
   "cell_type": "markdown",
   "metadata": {
    "caption": "BB8 Robot",
    "image": true,
    "name": "bb8",
    "width": "8cm"
   },
   "source": [
    "<img src=\"img/bb8.jpg\" width=\"500\" />"
   ]
  },
  {
   "cell_type": "markdown",
   "metadata": {},
   "source": [
    "<b>Estimated time to completion:</b> 3 hours\n",
    "<br><br>\n",
    "<b>What will you learn with this unit?</b>\n",
    "\n",
    "* <a href=\"#how_to_give_a_service\">How to give a service</a>\n",
    "* <a href=\"#create_your_own_service_server_message\">Create your own service server message</a>"
   ]
  },
  {
   "cell_type": "markdown",
   "metadata": {},
   "source": [
    "## Part 2: How to give a Service <p id=\"how_to_give_a_service\"></p>"
   ]
  },
  {
   "cell_type": "markdown",
   "metadata": {},
   "source": [
    "Until now, you have called services that others provided. Now, you are going to create your own."
   ]
  },
  {
   "cell_type": "markdown",
   "metadata": {},
   "source": [
    "<p style=\"background:#EE9023;color:white;\">**Exercise 3.3**</p>"
   ]
  },
  {
   "cell_type": "markdown",
   "metadata": {},
   "source": [
    "* Create a new package named **service_server_pkg**. When creating the package, add as dependency **roscpp**.\n",
    "\n",
    "* Inside the src folder of the package, create a new file named **simple_service_server.cpp**. Inside this file, copy the contents of <a href=\"#prg-3-7\">simple_service_server.cpp </a>\n",
    "\n",
    "* Create a launch file for launching this code.\n",
    "\n",
    "* Do the necessary modifications to your **CMakeLists.txt** file, and compile the package.\n",
    "\n",
    "* Execute the launch file to run your executable."
   ]
  },
  {
   "cell_type": "markdown",
   "metadata": {},
   "source": [
    "<p style=\"background:#3B8F10;color:white;\" id=\"prg-3-7\">**C++ Program {3.2}: simple_service_server.cpp** </p><br>"
   ]
  },
  {
   "cell_type": "code",
   "execution_count": null,
   "metadata": {
    "collapsed": true
   },
   "outputs": [],
   "source": [
    "#include \"ros/ros.h\"\n",
    "#include \"std_srvs/Empty.h\"\n",
    "// Import the service message header file generated from the Empty.srv message\n",
    "\n",
    "// We define the callback function of the service\n",
    "bool my_callback(std_srvs::Empty::Request  &req,\n",
    "                 std_srvs::Empty::Response &res)\n",
    "{  \n",
    "  // res.some_variable = req.some_variable + req.other_variable;\n",
    "  ROS_INFO(\"My_callback has been called\"); // We print an string whenever the Service gets called\n",
    "  return true;\n",
    "}\n",
    "\n",
    "int main(int argc, char **argv)\n",
    "{\n",
    "  ros::init(argc, argv, \"service_server\");\n",
    "  ros::NodeHandle nh;\n",
    "\n",
    "  ros::ServiceServer my_service = nh.advertiseService(\"/my_service\", my_callback); // create the Service called                                                                                          // my_service with the defined                                                                                        // callback\n",
    "  ros::spin(); // mantain the service open.\n",
    "\n",
    "  return 0;\n",
    "}"
   ]
  },
  {
   "cell_type": "markdown",
   "metadata": {},
   "source": [
    "<p style=\"background:#3B8F10;color:white;\">**END C++ Program {3.2}: simple_service_server.cpp** </p>"
   ]
  },
  {
   "cell_type": "markdown",
   "metadata": {},
   "source": [
    "Did Something happen?<br><br>\n",
    "Of course not! At the moment, you have just created and started the Service Server. So basically, you have put this service available for anyone to call it. "
   ]
  },
  {
   "cell_type": "markdown",
   "metadata": {},
   "source": [
    "This means that, if you do a **<i>rosservice list</i>**, you will be able to visualize this service among the list of available services."
   ]
  },
  {
   "cell_type": "markdown",
   "metadata": {},
   "source": [
    "<table style=\"float:left;background: #407EAF\">\n",
    "<tr>\n",
    "<th>\n",
    "<p class=\"transparent\">Execute in WebShell #1</p>\n",
    "</th>\n",
    "</tr>\n",
    "</table>"
   ]
  },
  {
   "cell_type": "code",
   "execution_count": null,
   "metadata": {
    "collapsed": true
   },
   "outputs": [],
   "source": [
    "rosservice list"
   ]
  },
  {
   "cell_type": "markdown",
   "metadata": {},
   "source": [
    "Among the list of all available services, you should see the **/my_service** service."
   ]
  },
  {
   "cell_type": "code",
   "execution_count": null,
   "metadata": {
    "collapsed": true
   },
   "outputs": [],
   "source": [
    "/base_controller/command_select\n",
    "/bb8/camera1/image_raw/compressed/set_parameters\n",
    "/bb8/camera1/image_raw/compressedDepth/set_parameters\n",
    "/bb8/camera1/image_raw/theora/set_parameters\n",
    "...\n",
    "/my_service\n",
    "..."
   ]
  },
  {
   "cell_type": "markdown",
   "metadata": {},
   "source": [
    "Now, you have to actually **CALL** it. So, call the **/my_service** service manually. Remember the calling structure discussed in the previous chapter and don't forget to TAB-TAB to autocomplete the structure of the Service message."
   ]
  },
  {
   "cell_type": "markdown",
   "metadata": {},
   "source": [
    "<table style=\"float:left;background: #407EAF\">\n",
    "<tr>\n",
    "<th>\n",
    "<p class=\"transparent\">Execute in WebShell #1</p>\n",
    "</th>\n",
    "</tr>\n",
    "</table>\n",
    "<br>"
   ]
  },
  {
   "cell_type": "code",
   "execution_count": null,
   "metadata": {
    "collapsed": true
   },
   "outputs": [],
   "source": [
    "rosservice call /my_service [TAB]+[TAB]"
   ]
  },
  {
   "cell_type": "markdown",
   "metadata": {},
   "source": [
    "Did it work? You should've seen the message, **'My callback function has been called'**, printed at the output of the shell where you executed the service server code. Great!"
   ]
  },
  {
   "cell_type": "markdown",
   "metadata": {},
   "source": [
    "<img src=\"img/roscpp_callback_called.png\" width=\"700\" />"
   ]
  },
  {
   "cell_type": "markdown",
   "metadata": {},
   "source": [
    "**INFO**: Note that, in the example, there is a commented line in **my_callback function**. That gives you an example of how you would access the **REQUEST** given by the caller of your service. It's always **req.<i>variables_in_the_request_part_of_srv_message</i>**. In this case this is not necessary, because we are working with the Empty message, which is an special message that doesn't contain anything."
   ]
  },
  {
   "cell_type": "markdown",
   "metadata": {},
   "source": [
    "So, for instance, let's do a flashback to the previous Chapter. Do you remember Example 3.5? Where you had to perform calls to a service in order to delete an object in the simulation? Well, for that case, you were passing to the Service Server the name of the object to delete in a variable called **model_name**. So. if you wanted to access the value of that **model_name** variable in the Service Server, you would have to do it like this:"
   ]
  },
  {
   "cell_type": "code",
   "execution_count": null,
   "metadata": {
    "collapsed": true
   },
   "outputs": [],
   "source": [
    "req.model_name"
   ]
  },
  {
   "cell_type": "markdown",
   "metadata": {},
   "source": [
    "Quite simple, right?"
   ]
  },
  {
   "cell_type": "markdown",
   "metadata": {},
   "source": [
    "That commented line also shows you how you would return the **RESPONSE** of the service. For that, you have to access the variables in the **RESPONSE** part of the message. It would be like this: **res.<i>variables_in_the_response_part_of_srv_message</i>**."
   ]
  },
  {
   "cell_type": "markdown",
   "metadata": {},
   "source": [
    "And why do we use **req** and **res** for accessing the **REQUEST** and **RESPONSE** parts of the service message? Well, it's just because we are defining this variables here:"
   ]
  },
  {
   "cell_type": "code",
   "execution_count": null,
   "metadata": {
    "collapsed": true
   },
   "outputs": [],
   "source": [
    "bool my_callback(std_srvs::Empty::Request  &req,\n",
    "                 std_srvs::Empty::Response &res)"
   ]
  },
  {
   "cell_type": "markdown",
   "metadata": {},
   "source": [
    "<p style=\"background:#EE9023;color:white;\">END **Exercise 3.3**</p>"
   ]
  },
  {
   "cell_type": "markdown",
   "metadata": {},
   "source": [
    "<p style=\"background:#EE9023;color:white;\">**Exercise 3.4**</p>"
   ]
  },
  {
   "cell_type": "markdown",
   "metadata": {},
   "source": [
    "* The objective of this exercise is to create a service that when called, makes BB8 robot move in a square like trajectory."
   ]
  },
  {
   "cell_type": "markdown",
   "metadata": {},
   "source": [
    "* You can work on a new package or use one of the ones you have already created."
   ]
  },
  {
   "cell_type": "markdown",
   "metadata": {},
   "source": [
    "* Create a C++ file that has a class inside. This class has to allow the movement of the BB-8 in a square like movement <a href=\"#fig-3.1\">{Fig-3.1}</a>. This class could be called, for reference, **MoveBB8**. And the C++ file that contains it, could be called **move_bb8.cpp**.<br><br>\n",
    "To move the BB-8 robot, you just have to write into the **/cmd_vel** topic, as you did in the Topics Units.<br>\n",
    "Bear in mind that although this is a simulation, BB-8 has weight and, therefore, it won't stop immediately due to inertia.<br>\n",
    "Also, when turning, friction and inertia will be playing a role. Bear in mind that by only moving through /cmd_vel, you don't have a way of checking if it turned the way you wanted (it's called an open loop system).\n",
    "Unless, of course, you find a way to have some positional feedback information. That's a challenge for advanced AstroMech builders (if you want to try, think about using the /odom topic).<br>\n",
    "But for considering the movement Ok, you just have to perform more or less move a square, it doesn't have to be perfect."
   ]
  },
  {
   "cell_type": "markdown",
   "metadata": {},
   "source": [
    "* Add a Service Server that accepts an <b>Empty</b> Service message and activates the square movement. This service could be called **/move_bb8_in_square**<br>\n",
    "This activation will be done through a call to the Class that you just have generated, called **MoveBB8**.<br>\n",
    "For that, you have to create a very similar C++ file as <a href=\"#prg-3-7\">simple_service_server.cpp</a>. You could call it **bb8_move_in_square_service_server.cpp**."
   ]
  },
  {
   "cell_type": "markdown",
   "metadata": {},
   "source": [
    "* Create a launch file called **start_bb8_move_in_square_service_server.launch**. Inside it you have to start a node that launches the **bb8_move_in_square_service_server.cpp**. "
   ]
  },
  {
   "cell_type": "markdown",
   "metadata": {},
   "source": [
    "* Launch **start_bb8_move_in_square_service_server.launch** and check that when called through the WebShell, BB8 moves in a square."
   ]
  },
  {
   "cell_type": "markdown",
   "metadata": {},
   "source": [
    "* Create a new C++ file, called **bb8_move_in_square_service_client.cpp**, that calls the service **/move_bb8_in_square**. Remember how it was done in the previous Chapter: **Services Part1**.<br>\n",
    "Then, generate a new launch file, called **call_bb8_move_in_square_service_server.launch**, that executes the code in the  **bb8_move_in_square_service_client.cpp** file."
   ]
  },
  {
   "cell_type": "markdown",
   "metadata": {},
   "source": [
    "* Finally, when you launch this **call_bb8_move_in_square_service_server.launch** file, BB-8 should move in a square."
   ]
  },
  {
   "cell_type": "markdown",
   "metadata": {},
   "source": [
    "<p style=\"background:#EE9023;color:white;\">END **Exercise 3.4**</p>"
   ]
  },
  {
   "cell_type": "markdown",
   "metadata": {
    "caption": "Fig.3.1 - BB8 Square Movement Diagram",
    "image": true,
    "name": "bb8_excercice",
    "width": "10cm"
   },
   "source": [
    "<figure>\n",
    "  <img id=\"fig-3.1\" src=\"img/bb8_excercice.png\"></img>\n",
    "   <center> <figcaption>Fig.3.1 - BB8 Square Movement Diagram</figcaption></center>\n",
    "</figure>"
   ]
  },
  {
   "cell_type": "markdown",
   "metadata": {},
   "source": [
    "## How to create your own service message<p id=\"create_your_own_service_server_message\"></p>"
   ]
  },
  {
   "cell_type": "markdown",
   "metadata": {
    "collapsed": true
   },
   "source": [
    "So, what if none of the service messages that are available in ROS fit your needs? Then, you create your own message, as you did with the Topic messages.<br><br>\n",
    "In order to create a service message, you wil have to follow the next steps:"
   ]
  },
  {
   "cell_type": "markdown",
   "metadata": {},
   "source": [
    "<p style=\"background:#407EAF;color:white;\">**Example 3.6**</p>"
   ]
  },
  {
   "cell_type": "markdown",
   "metadata": {},
   "source": [
    "1) Create a package like this:\n"
   ]
  },
  {
   "cell_type": "markdown",
   "metadata": {},
   "source": [
    "<table style=\"float:left;background: #407EAF\">\n",
    "<tr>\n",
    "<th>\n",
    "<p class=\"transparent\">Execute in WebShell #1</p>\n",
    "</th>\n",
    "</tr>\n",
    "</table>\n",
    "<br>"
   ]
  },
  {
   "cell_type": "code",
   "execution_count": null,
   "metadata": {
    "collapsed": true
   },
   "outputs": [],
   "source": [
    "roscd;cd ..;cd src\n",
    "catkin_create_pkg my_custom_srv_msg_pkg roscpp"
   ]
  },
  {
   "cell_type": "markdown",
   "metadata": {},
   "source": [
    "2) Create your own Service message with the following structure. You can put as many variables as you need, of any type supported by ROS: <a href=\"http://wiki.ros.org/msg\">ROS Message Types</a>. Create a **<i>srv</i>** folder inside your package , as you did with the topics **<i>msg</i>** folder. Then, inside this **<i>srv</i>** folder, create a file called **<i>MyCustomServiceMessage.srv</i>**. You can create with the IDE or the WebShell, as you wish."
   ]
  },
  {
   "cell_type": "markdown",
   "metadata": {},
   "source": [
    "<table style=\"float:left;background: #407EAF\">\n",
    "<tr>\n",
    "<th>\n",
    "<p class=\"transparent\">Execute in WebShell #1</p>\n",
    "</th>\n",
    "</tr>\n",
    "</table>\n",
    "<br>"
   ]
  },
  {
   "cell_type": "code",
   "execution_count": null,
   "metadata": {
    "collapsed": true
   },
   "outputs": [],
   "source": [
    "roscd my_custom_srv_msg_pkg/\n",
    "mkdir srv\n",
    "vim srv/MyCustomServiceMessage.srv"
   ]
  },
  {
   "cell_type": "markdown",
   "metadata": {},
   "source": [
    "You can also create the **<i>MyCustomServiceMessage.srv</i>** through the IDE if you don't feel confortable with vim."
   ]
  },
  {
   "cell_type": "markdown",
   "metadata": {},
   "source": [
    "The <b>MyCustomServiceMessage.srv</b> could be something like this:"
   ]
  },
  {
   "cell_type": "code",
   "execution_count": null,
   "metadata": {
    "collapsed": true
   },
   "outputs": [],
   "source": [
    "float64 radius       # The distance of each side of the square\n",
    "int32 repetitions    # The number of times BB-8 has to execute the square movement when the service is called\n",
    "---\n",
    "bool success         # Did it achieve it?"
   ]
  },
  {
   "cell_type": "markdown",
   "metadata": {},
   "source": [
    "## How to Prepare CMakeLists.txt and package.xml for Custom Service Compilation"
   ]
  },
  {
   "cell_type": "markdown",
   "metadata": {},
   "source": [
    "You have to edit two files in the package, in a similar way as we explained for Topics:\n",
    "\n",
    "* CMakeLists.txt\n",
    "* package.xml\n"
   ]
  },
  {
   "cell_type": "markdown",
   "metadata": {},
   "source": [
    "### Modification of CMakeLists.txt"
   ]
  },
  {
   "cell_type": "markdown",
   "metadata": {},
   "source": [
    "You will have to edit four functions inside CMakeLists.txt:\n",
    "\n",
    "* <span class=\"ign_green\"><a href=\"#find_package\">find_package()</a></span>\n",
    "* <span class=\"ign_green\"><a href=\"#add_action_files\">add_service_files()</a></span>\n",
    "* <span class=\"ign_green\"><a href=\"#generate_messages\">generate_messages()</a></span>\n",
    "* <span class=\"ign_green\"><a href=\"#catkin_package\">catkin_package()</a></span>\n",
    "\n"
   ]
  },
  {
   "cell_type": "markdown",
   "metadata": {},
   "source": [
    "### <span style=\"color: green;\" id=\"find_package\">I. find_package()</span>"
   ]
  },
  {
   "cell_type": "markdown",
   "metadata": {},
   "source": [
    "All the packages needed to COMPILE the messages of topic, services, and actions go here. It's only getting its paths, and not really importing them to be used in the compilation.\n",
    "<br>\n",
    "The same packages you write here, will go in <b>package.xml,</b> stating them as <b>build_depend</b>."
   ]
  },
  {
   "cell_type": "code",
   "execution_count": null,
   "metadata": {
    "collapsed": true
   },
   "outputs": [],
   "source": [
    "find_package(catkin REQUIRED COMPONENTS\n",
    "  roscpp\n",
    "  std_msgs\n",
    "  message_generation\n",
    ")"
   ]
  },
  {
   "cell_type": "markdown",
   "metadata": {},
   "source": [
    "### <span style=\"color: green;\" id=\"add_service_files\">II. add_service_files()</span>"
   ]
  },
  {
   "cell_type": "markdown",
   "metadata": {},
   "source": [
    "This function contains a list with all of the service messages defined in this package (defined in the srv folder).<br>\n",
    "For our example:"
   ]
  },
  {
   "cell_type": "code",
   "execution_count": null,
   "metadata": {
    "collapsed": true
   },
   "outputs": [],
   "source": [
    "add_service_files(\n",
    "  FILES\n",
    "  MyCustomServiceMessage.srv\n",
    ")"
   ]
  },
  {
   "cell_type": "markdown",
   "metadata": {},
   "source": [
    "### <span style=\"color: green;\" id=\"generate_messages\">III. generate_messages()</span>"
   ]
  },
  {
   "cell_type": "markdown",
   "metadata": {},
   "source": [
    "Here is where the packages needed for the service messages compilation are imported."
   ]
  },
  {
   "cell_type": "code",
   "execution_count": null,
   "metadata": {
    "collapsed": true
   },
   "outputs": [],
   "source": [
    "generate_messages(\n",
    "  DEPENDENCIES\n",
    "  std_msgs\n",
    ")"
   ]
  },
  {
   "cell_type": "markdown",
   "metadata": {},
   "source": [
    "### <span style=\"color: green;\" id=\"catkin_package\">IV. catkin_package()</span>"
   ]
  },
  {
   "cell_type": "markdown",
   "metadata": {},
   "source": [
    "State here all of the packages that will be needed by someone that executes something from your package.\n",
    "All of the packages stated here must be in the **package.xml** file as <b>&lt;run_depend&gt;</b>."
   ]
  },
  {
   "cell_type": "code",
   "execution_count": null,
   "metadata": {
    "collapsed": true
   },
   "outputs": [],
   "source": [
    "catkin_package(\n",
    "      CATKIN_DEPENDS\n",
    "      roscpp\n",
    ")"
   ]
  },
  {
   "cell_type": "markdown",
   "metadata": {},
   "source": [
    "Once you're done, you should have something similar to this:"
   ]
  },
  {
   "cell_type": "code",
   "execution_count": null,
   "metadata": {
    "collapsed": true
   },
   "outputs": [],
   "source": [
    "cmake_minimum_required(VERSION 2.8.3)\n",
    "project(my_custom_srv_msg_pkg)\n",
    "\n",
    "\n",
    "## Here go all the packages needed to COMPILE the messages of topic, services and actions.\n",
    "## Its only geting its paths, and not really importing them to be used in the compilation.\n",
    "## Its only for further functions in CMakeLists.txt to be able to find those packages.\n",
    "## In package.xml you have to state them as build\n",
    "find_package(catkin REQUIRED COMPONENTS\n",
    "  roscpp\n",
    "  std_msgs\n",
    "  message_generation\n",
    ")\n",
    "\n",
    "## Generate services in the 'srv' folder\n",
    "## In this function will be all the action messages of this package ( in the action folder ) to be compiled.\n",
    "## You can state that it gets all the actions inside the action directory: DIRECTORY action\n",
    "## Or just the action messages stated explicitly: FILES my_custom_action.action\n",
    "## In your case you only need to do one of two things, as you wish.\n",
    "add_service_files(\n",
    "  FILES\n",
    "  MyCustomServiceMessage.srv\n",
    ")\n",
    "\n",
    "## Here is where the packages needed for the action messages compilation are imported.\n",
    "generate_messages(\n",
    "  DEPENDENCIES\n",
    "  std_msgs\n",
    ")\n",
    "\n",
    "## State here all the packages that will be needed by someone that executes something from your package.\n",
    "## All the packages stated here must be in the package.xml as run_depend\n",
    "catkin_package(\n",
    "  CATKIN_DEPENDS roscpp\n",
    ")\n",
    "\n",
    "\n",
    "include_directories(\n",
    "  ${catkin_INCLUDE_DIRS}\n",
    ")"
   ]
  },
  {
   "cell_type": "markdown",
   "metadata": {},
   "source": [
    "### Modification of package.xml:"
   ]
  },
  {
   "cell_type": "markdown",
   "metadata": {},
   "source": [
    "\n",
    "\n",
    "1. Add all of the packages needed to compile the messages.<br>\n",
    "In this case, you only need to add the **<i>message_generation</i>**.<br>\n",
    "Your will have to import those packages as <b>&lt;build_depend&gt;</b>.\n",
    "<br><br>\n",
    "2. On the other hand, if you need a package for the execution of the programs inside your package, you will have to import those packages as <b>&lt;run_depend&gt;</b>.\n",
    "\n"
   ]
  },
  {
   "cell_type": "markdown",
   "metadata": {},
   "source": [
    "In this case you should have a package.xml similar to this:"
   ]
  },
  {
   "cell_type": "code",
   "execution_count": null,
   "metadata": {
    "collapsed": true,
    "raw_mimetype": "text/html"
   },
   "outputs": [],
   "source": [
    "<build_depend>message_generation</build_depend>\n",
    "<run_depend>message_runtime</run_depend>"
   ]
  },
  {
   "cell_type": "markdown",
   "metadata": {},
   "source": [
    "You should have something similar to:"
   ]
  },
  {
   "cell_type": "code",
   "execution_count": null,
   "metadata": {
    "collapsed": true
   },
   "outputs": [],
   "source": [
    "<?xml version=\"1.0\"?>\n",
    "<package>\n",
    "  <name>my_custom_srv_msg_pkg</name>\n",
    "  <version>0.0.0</version>\n",
    "  <description>The my_custom_srv_msg_pkg package</description>\n",
    "\n",
    "  <maintainer email=\"user@todo.todo\">user</maintainer>\n",
    "\n",
    "  <license>TODO</license>\n",
    "\n",
    "  <buildtool_depend>catkin</buildtool_depend>\n",
    "  <build_depend>roscpp</build_depend>\n",
    "  <build_depend>message_generation</build_depend>\n",
    "  <run_depend>roscpp</run_depend>\n",
    "  <run_depend>message_runtime</run_depend>\n",
    "\n",
    "  <export>\n",
    "  </export>\n",
    "</package>"
   ]
  },
  {
   "cell_type": "markdown",
   "metadata": {},
   "source": [
    "Once done, compile your package and source the newly generated messages:\n"
   ]
  },
  {
   "cell_type": "code",
   "execution_count": null,
   "metadata": {
    "collapsed": true
   },
   "outputs": [],
   "source": [
    "roscd;cd ..\n",
    "catkin_make\n",
    "source devel/setup.bash"
   ]
  },
  {
   "cell_type": "markdown",
   "metadata": {},
   "source": [
    "<span style=\"color:red;\">\n",
    "**Important!!** When you compile new messages through catkin_make, there is an extra step that needs to be done. You have to type in the WebShell, in the **catkin_ws** directory, the following command: **<i>source devel/setup.bash</i>**.<br><br>\n",
    "This command executes the bash file that sets, among other things, the newly generated messages created with **<i>catkin_make</i>**.<br>\n",
    "If you don't do this, it might give you a Python import error, saying that it doesn't find the message generated.\n",
    "</span>"
   ]
  },
  {
   "cell_type": "markdown",
   "metadata": {},
   "source": [
    "To check that you have the new service msg in your system prepared for use, type the following:"
   ]
  },
  {
   "cell_type": "markdown",
   "metadata": {},
   "source": [
    "<table style=\"float:left;background: #407EAF\">\n",
    "<tr>\n",
    "<th>\n",
    "<p class=\"transparent\">Execute in WebShell #1</p>\n",
    "</th>\n",
    "</tr>\n",
    "</table>"
   ]
  },
  {
   "cell_type": "code",
   "execution_count": null,
   "metadata": {
    "collapsed": true
   },
   "outputs": [],
   "source": [
    "rossrv list | grep MyCustomServiceMessage"
   ]
  },
  {
   "cell_type": "markdown",
   "metadata": {},
   "source": [
    "It should output something like:"
   ]
  },
  {
   "cell_type": "markdown",
   "metadata": {},
   "source": [
    "<p style=\"background: #407EAF\">WebShell #1 Output</p>"
   ]
  },
  {
   "cell_type": "code",
   "execution_count": null,
   "metadata": {
    "collapsed": true
   },
   "outputs": [],
   "source": [
    "user ~ $ rossrv list | grep MyCustomServiceMessage\n",
    "my_custom_srv_msg_pkg/MyCustomServiceMessage"
   ]
  },
  {
   "cell_type": "markdown",
   "metadata": {},
   "source": [
    "That's it! You have created your own service msg. Now create a Service Server that uses this type of msg. Something similar to this:"
   ]
  },
  {
   "cell_type": "markdown",
   "metadata": {},
   "source": [
    "<p style=\"background:#3B8F10;color:white;\" id=\"prg-3-3\">**C++ Program {3.3}: custom_service_server.cpp** </p><br>"
   ]
  },
  {
   "cell_type": "code",
   "execution_count": null,
   "metadata": {
    "collapsed": true
   },
   "outputs": [],
   "source": [
    "#include \"ros/ros.h\"\n",
    "#include \"my_custom_srv_msg_pkg/MyCustomServiceMessage.h\"\n",
    "\n",
    "bool my_callback(my_custom_srv_msg_pkg::MyCustomServiceMessage::Request  &req,\n",
    "                 my_custom_srv_msg_pkg::MyCustomServiceMessage::Response &res)\n",
    "{  \n",
    "  ROS_INFO(\"Request Data==> radius=%f, repetitions=%d\", req.radius, req.repetitions); \n",
    "  if (req.radius > 5.0)\n",
    "  {\n",
    "    res.success = true;\n",
    "    ROS_INFO(\"sending back response:true\");\n",
    "  }\n",
    "  else\n",
    "  {\n",
    "    res.success = false;\n",
    "    ROS_INFO(\"sending back response:false\");\n",
    "  }\n",
    "  \n",
    "  return true;\n",
    "}\n",
    "\n",
    "int main(int argc, char **argv)\n",
    "{\n",
    "  ros::init(argc, argv, \"service_server\");\n",
    "  ros::NodeHandle nh;\n",
    "\n",
    "  ros::ServiceServer my_service = nh.advertiseService(\"/my_service\", my_callback); \n",
    "  ros::spin();\n",
    "\n",
    "  return 0;\n",
    "}"
   ]
  },
  {
   "cell_type": "markdown",
   "metadata": {},
   "source": [
    "<p style=\"background:#3B8F10;color:white;\">**END C++ Program {3.3}: custom_service_server.cpp** </p><br>"
   ]
  },
  {
   "cell_type": "markdown",
   "metadata": {},
   "source": [
    "And the CMakeLists.txt needed to make this work:"
   ]
  },
  {
   "cell_type": "code",
   "execution_count": null,
   "metadata": {
    "collapsed": true
   },
   "outputs": [],
   "source": [
    "cmake_minimum_required(VERSION 2.8.3)\n",
    "project(my_custom_srv_msg_pkg)\n",
    "\n",
    "find_package(catkin REQUIRED COMPONENTS\n",
    "  roscpp\n",
    "  std_msgs\n",
    "  message_generation\n",
    ")\n",
    "\n",
    "\n",
    "add_service_files(\n",
    "   FILES\n",
    "   MyCustomServiceMessage.srv\n",
    " )\n",
    "\n",
    "generate_messages(\n",
    "   DEPENDENCIES\n",
    "   std_msgs\n",
    " )\n",
    "\n",
    "\n",
    "catkin_package(\n",
    "  CATKIN_DEPENDS roscpp\n",
    ")\n",
    "\n",
    "include_directories(include ${catkin_INCLUDE_DIRS})\n",
    "\n",
    "\n",
    "add_executable(custom_service_server src/custom_service_server.cpp)\n",
    "target_link_libraries(custom_service_server ${catkin_LIBRARIES})\n",
    "add_dependencies(custom_service_server ${my_custom_srv_msg_pkg_EXPORTED_TARGETS} ${catkin_EXPORTED_TARGETS})\n"
   ]
  },
  {
   "cell_type": "markdown",
   "metadata": {},
   "source": [
    "<p style=\"background:#407EAF;color:white;\">END **Example 3.6**</p>"
   ]
  },
  {
   "cell_type": "markdown",
   "metadata": {},
   "source": [
    "<p style=\"background:#EE9023;color:white;\">**Exercise 3.5**</p>"
   ]
  },
  {
   "cell_type": "markdown",
   "metadata": {},
   "source": [
    "* Upgrade the C++ file **move_bb8.cpp**, so that it can now move BB-8 in a square of variable size."
   ]
  },
  {
   "cell_type": "markdown",
   "metadata": {},
   "source": [
    "* Create a new C++ file, called **bb8_move_custom_service_server.cpp**. Inside this file, modify the code you used in **Exercise 3.2**, which contained a Service Server that accepted an Empty Service message to activate the square movement. This new service could be called **/move_bb8_in_square_custom**. This new service will have to use service messages of type **BB8CustomServiceMessage**, which is defined here:"
   ]
  },
  {
   "cell_type": "markdown",
   "metadata": {},
   "source": [
    "The <b>BB8CustomServiceMessage.srv</b> could be something like this:"
   ]
  },
  {
   "cell_type": "code",
   "execution_count": null,
   "metadata": {
    "collapsed": true
   },
   "outputs": [],
   "source": [
    "float64 side       # The distance of each side of the square\n",
    "int32 repetitions    # The number of times BB-8 has to execute the square movement when the service is called\n",
    "---\n",
    "bool success         # Did it achieve it?"
   ]
  },
  {
   "cell_type": "markdown",
   "metadata": {},
   "source": [
    "* Use the data passed to this new **/move_bb8_in_square_custom** to change the way BB-8 moves.<br>\n",
    "Depending on the **side** value, the service must move the BB-8 robot in a square movement based on the **side** given.<br>\n",
    "Also, the BB-8 must repeat the shape as many times as indicated in the **repetitions** variable of the message.<br> Finally, it must return **True** if everything went OK in the **success** variable. "
   ]
  },
  {
   "cell_type": "markdown",
   "metadata": {},
   "source": [
    "* Create a new launch file, called **start_bb8_move_custom_service_server.launch**, that launches the new C++ file **bb8_move_custom_service_server.cpp**."
   ]
  },
  {
   "cell_type": "markdown",
   "metadata": {},
   "source": [
    "* Test that, when calling this new **/move_bb8_in_square_custom** service, BB-8 moves accordingly. This means, the square is performed taking into account the **side** and **repetitions** variables."
   ]
  },
  {
   "cell_type": "markdown",
   "metadata": {},
   "source": [
    "* Create a new service client that calls the service **/move_bb8_in_square_custom**, and makes BB-8 move in a small square **twice**, and in a bigger square **once**. It could be called **bb8_move_custom_service_client.cpp**. The launch file that starts it could be called **call_bb8_move_in_square_custom_service_server.launch**."
   ]
  },
  {
   "cell_type": "markdown",
   "metadata": {
    "caption": "BB8 Dynamic Square/Circle Movement Diagram",
    "image": true,
    "name": "bb8_exercice_extra",
    "width": "12cm"
   },
   "source": [
    "<figure>\n",
    "  <img id=\"fig-3.2\" src=\"img/basic_unit3_variable_square.png\"></img>\n",
    "   <center> <figcaption>Fig.3.2 - BB8 Dynamic Square Diagram</figcaption></center>\n",
    "</figure>"
   ]
  },
  {
   "cell_type": "markdown",
   "metadata": {},
   "source": [
    "<p style=\"background:#EE9023;color:white;\">END **Exercise 3.5**</p>"
   ]
  },
  {
   "cell_type": "markdown",
   "metadata": {},
   "source": [
    "Congratulations! You are now ready to add All of the Services that you want to your own personal astromech droid!"
   ]
  },
  {
   "cell_type": "markdown",
   "metadata": {},
   "source": [
    "## Additional Materials to Learn More"
   ]
  },
  {
   "cell_type": "markdown",
   "metadata": {},
   "source": [
    "ROS Services: http://wiki.ros.org/Services\n",
    "\n",
    "Simple Service and Client (C++): http://wiki.ros.org/ROS/Tutorials/WritingServiceClient%28c%2B%2B%29\n",
    "\n",
    "srv Files: http://wiki.ros.org/srv"
   ]
  }
 ],
 "metadata": {
  "anaconda-cloud": {},
  "kernelspec": {
   "display_name": "Python [Root]",
   "language": "python",
   "name": "Python [Root]"
  },
  "language_info": {
   "codemirror_mode": {
    "name": "ipython",
    "version": 2
   },
   "file_extension": ".py",
   "mimetype": "text/x-python",
   "name": "python",
   "nbconvert_exporter": "python",
   "pygments_lexer": "ipython2",
   "version": "2.7.12"
  },
  "latex_metadata": {
   "chapter": "3 - Services in ROS",
   "chapter_title": "Unit 3. Services in ROS Part 2",
   "course_title": "ROS BASICS IN 5 DAYS"
  }
 },
 "nbformat": 4,
 "nbformat_minor": 1
}
