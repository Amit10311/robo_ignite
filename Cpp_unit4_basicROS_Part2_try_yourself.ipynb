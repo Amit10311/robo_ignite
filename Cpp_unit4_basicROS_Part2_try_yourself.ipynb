{
 "cells": [
  {
   "cell_type": "markdown",
   "metadata": {},
   "source": [
    "# <font class='ign_color'>ROS IN 5 DAYS</font>"
   ]
  },
  {
   "cell_type": "markdown",
   "metadata": {},
   "source": [
    "# Unit 4: ROS Actions"
   ]
  },
  {
   "cell_type": "markdown",
   "metadata": {
    "caption": "Drone",
    "image": true,
    "name": "drone",
    "width": "8cm"
   },
   "source": [
    "<img src=\"img/drone.jpg\" width=\"450\" />"
   ]
  },
  {
   "cell_type": "markdown",
   "metadata": {},
   "source": [
    "<b>Estimated time to completion:</b> 2.5 hours\n",
    "<br><br>\n",
    "<b>What will you learn with this unit?</b>\n",
    "\n",
    "* How to create an action server\n",
    "* How to build your own action message"
   ]
  },
  {
   "cell_type": "markdown",
   "metadata": {},
   "source": [
    "## Part 2"
   ]
  },
  {
   "cell_type": "markdown",
   "metadata": {},
   "source": [
    "In the previous lesson, you learned how to <b>call</b> an action server creating an action client. In this lesson, you are going to learn how to <b>create</b> your own action server."
   ]
  },
  {
   "cell_type": "markdown",
   "metadata": {
    "caption": "Action Interface Diagram Copy 2",
    "image": true,
    "name": "action_interface",
    "width": "10cm"
   },
   "source": [
    "<figure>\n",
    "  <img id=\"fig-4.5\" src=\"img/action_interface.png\"/>\n",
    "  <br>\n",
    "   <center> <figcaption>Fig.4.5 - Action Interface Diagram Copy 2</figcaption></center>\n",
    "</figure>"
   ]
  },
  {
   "cell_type": "markdown",
   "metadata": {},
   "source": [
    "## Writing an action server"
   ]
  },
  {
   "cell_type": "markdown",
   "metadata": {},
   "source": [
    "<p style=\"background:#EE9023;color:white;\">**Exercise 4.11: Test Fibonacci Action Server through Notebook**</p>"
   ]
  },
  {
   "cell_type": "markdown",
   "metadata": {},
   "source": [
    "* Create a new package named **action_server_pkg**. When creating the package, add as dependencies **roscpp**, **actionlib** and **actionlib_msgs**.\n",
    "\n",
    "* Inside the src folder of the package, create a new file named **fibonacci_action_server.cpp**. Inside this file, copy the contents of <a href=\"#prg-4.11a\">fibonacci_action_server.cpp</a>.\n",
    "\n",
    "* Create a launch file for launching this code.\n",
    "\n",
    "* Do the necessary modifications to your **CMakeLists.txt** file, and compile the package.\n",
    "\n",
    "* Execute the launch file to run your executable."
   ]
  },
  {
   "cell_type": "markdown",
   "metadata": {},
   "source": [
    "The code below is an example of a ROS action server. When called, the action server will generate a Fibonacci sequence of a given order. The action server goal message must indicate the order of the sequence to be calculated, the feedback of the sequence as it is being computed, and the result of the final Fibonacci sequence."
   ]
  },
  {
   "cell_type": "markdown",
   "metadata": {},
   "source": [
    "<p style=\"background:#EE9023;color:white;\">**END Exercise 4.11**</p>"
   ]
  },
  {
   "cell_type": "markdown",
   "metadata": {},
   "source": [
    "<p style=\"background:#3B8F10;color:white;\" id=\"prg-4.11a\">**C++ Program {4.11a}: fibonacci_action_server.cpp** </p>"
   ]
  },
  {
   "cell_type": "code",
   "execution_count": null,
   "metadata": {
    "collapsed": true
   },
   "outputs": [],
   "source": [
    "#include <ros/ros.h>\n",
    "#include <actionlib/server/simple_action_server.h>\n",
    "#include <actionlib_tutorials/FibonacciAction.h>\n",
    "\n",
    "class FibonacciAction\n",
    "{\n",
    "protected:\n",
    "\n",
    "  ros::NodeHandle nh_;\n",
    "  // NodeHandle instance must be created before this line. Otherwise strange error occurs.\n",
    "  actionlib::SimpleActionServer<actionlib_tutorials::FibonacciAction> as_; \n",
    "  std::string action_name_;\n",
    "  // create messages that are used to publish feedback and result\n",
    "  actionlib_tutorials::FibonacciFeedback feedback_;\n",
    "  actionlib_tutorials::FibonacciResult result_;\n",
    "\n",
    "public:\n",
    "\n",
    "  FibonacciAction(std::string name) :\n",
    "    as_(nh_, name, boost::bind(&FibonacciAction::executeCB, this, _1), false),\n",
    "    action_name_(name)\n",
    "  {\n",
    "    as_.start();\n",
    "  }\n",
    "\n",
    "  ~FibonacciAction(void)\n",
    "  {\n",
    "  }\n",
    "\n",
    "  void executeCB(const actionlib_tutorials::FibonacciGoalConstPtr &goal)\n",
    "  {\n",
    "    // helper variables\n",
    "    ros::Rate r(1);\n",
    "    bool success = true;\n",
    "\n",
    "    // push_back the seeds for the fibonacci sequence\n",
    "    feedback_.sequence.clear();\n",
    "    feedback_.sequence.push_back(0);\n",
    "    feedback_.sequence.push_back(1);\n",
    "\n",
    "    // publish info to the console for the user\n",
    "    ROS_INFO(\"%s: Executing, creating fibonacci sequence of order %i with seeds %i, %i\", action_name_.c_str(), goal->order, feedback_.sequence[0], feedback_.sequence[1]);\n",
    "\n",
    "    // start executing the action\n",
    "    for(int i=1; i<=goal->order; i++)\n",
    "    {\n",
    "      // check that preempt has not been requested by the client\n",
    "      if (as_.isPreemptRequested() || !ros::ok())\n",
    "      {\n",
    "        ROS_INFO(\"%s: Preempted\", action_name_.c_str());\n",
    "        // set the action state to preempted\n",
    "        as_.setPreempted();\n",
    "        success = false;\n",
    "        break;\n",
    "      }\n",
    "      feedback_.sequence.push_back(feedback_.sequence[i] + feedback_.sequence[i-1]);\n",
    "      // publish the feedback\n",
    "      as_.publishFeedback(feedback_);\n",
    "      // this sleep is not necessary, the sequence is computed at 1 Hz for demonstration purposes\n",
    "      r.sleep();\n",
    "    }\n",
    "\n",
    "    if(success)\n",
    "    {\n",
    "      result_.sequence = feedback_.sequence;\n",
    "      ROS_INFO(\"%s: Succeeded\", action_name_.c_str());\n",
    "      // set the action state to succeeded\n",
    "      as_.setSucceeded(result_);\n",
    "    }\n",
    "  }\n",
    "\n",
    "\n",
    "};\n",
    "\n",
    "\n",
    "int main(int argc, char** argv)\n",
    "{\n",
    "  ros::init(argc, argv, \"fibonacci\");\n",
    "\n",
    "  FibonacciAction fibonacci(\"fibonacci\");\n",
    "  ros::spin();\n",
    "\n",
    "  return 0;\n",
    "}"
   ]
  },
  {
   "cell_type": "markdown",
   "metadata": {},
   "source": [
    "<p style=\"background:#3B8F10;color:white;\">**Code Explanation C++ Program: {4.11a}**</p>"
   ]
  },
  {
   "cell_type": "markdown",
   "metadata": {},
   "source": [
    "In this case, the action server is using an action message definition called <i>Fibonacci.action</i>. That message has been created by ROS into its <i>actionlib_tutorials</i> package."
   ]
  },
  {
   "cell_type": "code",
   "execution_count": null,
   "metadata": {
    "collapsed": true
   },
   "outputs": [],
   "source": [
    "protected:\n",
    "\n",
    "  ros::NodeHandle nh_;\n",
    "  // NodeHandle instance must be created before this line. Otherwise strange error occurs.\n",
    "  actionlib::SimpleActionServer<actionlib_tutorials::FibonacciAction> as_;\n",
    "  std::string action_name_;\n",
    "  // create messages that are used to published feedback/result\n",
    "  actionlib_tutorials::FibonacciFeedback feedback_;\n",
    "  actionlib_tutorials::FibonacciResult result_;"
   ]
  },
  {
   "cell_type": "markdown",
   "metadata": {},
   "source": [
    "These are the protected variables of the action class. The node handle is constructed and passed into the action server during construction of the action. The action server is constructed in the constructor of the action and has been discussed below. The feedback and result messages are created for publishing in the action."
   ]
  },
  {
   "cell_type": "code",
   "execution_count": null,
   "metadata": {
    "collapsed": true
   },
   "outputs": [],
   "source": [
    "FibonacciAction(std::string name) :\n",
    "  as_(nh_, name, boost::bind(&FibonacciAction::executeCB, this, _1), false),\n",
    "  action_name_(name)\n",
    "{\n",
    "  as_.start();\n",
    "}"
   ]
  },
  {
   "cell_type": "markdown",
   "metadata": {},
   "source": [
    "In the class constructor, an action server is created. The action server takes arguments of a node handle, name of the action, and optionally an executeCB. In this example the action server is created with the arguments for the executeCB."
   ]
  },
  {
   "cell_type": "code",
   "execution_count": null,
   "metadata": {
    "collapsed": true
   },
   "outputs": [],
   "source": [
    "void executeCB(const actionlib_tutorials::FibonacciGoalConstPtr &goal)\n",
    "{"
   ]
  },
  {
   "cell_type": "markdown",
   "metadata": {},
   "source": [
    "Now the executeCB function referenced in the constructor is created. The callback function is passed a pointer to the goal message. **Note**: This is a boost shared pointer, given by appending \"ConstPtr\" to the end of the goal message type."
   ]
  },
  {
   "cell_type": "code",
   "execution_count": null,
   "metadata": {
    "collapsed": true
   },
   "outputs": [],
   "source": [
    "    ros::Rate r(1);\n",
    "    bool success = true;\n",
    "\n",
    "    // push_back the seeds for the fibonacci sequence\n",
    "    feedback_.sequence.clear();\n",
    "    feedback_.sequence.push_back(0);\n",
    "    feedback_.sequence.push_back(1);\n",
    "\n",
    "    // publish info to the console for the user\n",
    "    ROS_INFO(\"%s: Executing, creating fibonacci sequence of order %i with seeds %i, %i\", action_name_.c_str(), goal->order, feedback_.sequence[0], feedback_.sequence[1]);"
   ]
  },
  {
   "cell_type": "markdown",
   "metadata": {},
   "source": [
    "Here the internals of the action are created. In this example ROS_INFO is being published to let the user know that the action is executing."
   ]
  },
  {
   "cell_type": "code",
   "execution_count": null,
   "metadata": {
    "collapsed": true
   },
   "outputs": [],
   "source": [
    "    // start executing the action\n",
    "    for(int i=1; i<=goal->order; i++)\n",
    "    {\n",
    "      // check that preempt has not been requested by the client\n",
    "      if (as_.isPreemptRequested() || !ros::ok())\n",
    "      {\n",
    "        ROS_INFO(\"%s: Preempted\", action_name_.c_str());\n",
    "        // set the action state to preempted\n",
    "        as_.setPreempted();\n",
    "        success = false;\n",
    "        break;\n",
    "      }\n",
    "      feedback_.sequence.push_back(feedback_.sequence[i] + feedback_.sequence[i-1]);"
   ]
  },
  {
   "cell_type": "markdown",
   "metadata": {},
   "source": [
    "An important component of an action server is the ability to allow an action client to request that the current goal execution be cancelled. When a client requests that the current goal be preempted the action server should cancel the goal, perform necessary clean-up, and call the function setPreempted(), which signals that the action has been preempted by user request. Setting the rate at which the action server checks for preemption requests is left to the implementor of the server."
   ]
  },
  {
   "cell_type": "code",
   "execution_count": null,
   "metadata": {
    "collapsed": true
   },
   "outputs": [],
   "source": [
    "    // publish the feedback\n",
    "      as_.publishFeedback(feedback_);\n",
    "      // this sleep is not necessary, the sequence is computed at 1 Hz for demonstration purposes\n",
    "      r.sleep();\n",
    "    }"
   ]
  },
  {
   "cell_type": "markdown",
   "metadata": {},
   "source": [
    "Here the Fibonacci sequence is put into the feedback variable and then published on the feedback channel provided by the action server. Then the action continues on looping and publishing feedback."
   ]
  },
  {
   "cell_type": "code",
   "execution_count": null,
   "metadata": {
    "collapsed": true
   },
   "outputs": [],
   "source": [
    "    if(success)\n",
    "    {\n",
    "      result_.sequence = feedback_.sequence;\n",
    "      ROS_INFO(\"%s: Succeeded\", action_name_.c_str());\n",
    "      // set the action state to succeeded\n",
    "      as_.setSucceeded(result_);\n",
    "    }\n",
    "  }"
   ]
  },
  {
   "cell_type": "markdown",
   "metadata": {},
   "source": [
    "Once the action has finished computing the Fibonacci sequence the action notifies the action client that the action is complete by setting succeeded."
   ]
  },
  {
   "cell_type": "code",
   "execution_count": null,
   "metadata": {
    "collapsed": true
   },
   "outputs": [],
   "source": [
    "int main(int argc, char** argv)\n",
    "{\n",
    "  ros::init(argc, argv, \"fibonacci\");\n",
    "\n",
    "  FibonacciAction fibonacci(\"fibonacci\");\n",
    "  ros::spin();\n",
    "\n",
    "  return 0;\n",
    "}"
   ]
  },
  {
   "cell_type": "markdown",
   "metadata": {},
   "source": [
    "Finally the main function, creates the action and spins the node. The action will be running and waiting to receive goals."
   ]
  },
  {
   "cell_type": "markdown",
   "metadata": {},
   "source": [
    "<p style=\"background:#3B8F10;color:white;\">**End Code Explanation C++ Program: {4.11a}**</p>"
   ]
  },
  {
   "cell_type": "markdown",
   "metadata": {},
   "source": [
    "<p style=\"background:#EE9023;color:white;\">**Exercise 4.12a: Check Fibonacci action msg structure**</p><br>\n",
    "Check the structure of the Fibonacci.action message definition by visiting the <i>action</i> directory of the <i>actionlib_tutorials</i> package."
   ]
  },
  {
   "cell_type": "markdown",
   "metadata": {},
   "source": [
    "<p style=\"background:#EE9023;color:white;\">**END Exercise 4.12a**</p>"
   ]
  },
  {
   "cell_type": "markdown",
   "metadata": {},
   "source": [
    "<p style=\"background:#EE9023;color:white;\">**Exercise 4.12b: Watch feedback and result topic messages output from the action server**</p><br>\n",
    "\n",
    "Launch again the C++ code above <a href=\"#prg-4.11a\">{4.11a}</a> to have the Fibonacci server running.\n",
    "<br><br>\n",
    "Then, execute the following commands in their corresponding WebShells.<br>\n",
    "\n",
    "<table style=\"float:left;background: #407EAF\">\n",
    "<tr>\n",
    "<th>\n",
    "<p class=\"transparent\">Execute in WebShell #1: Echo the result topic</p>\n",
    "</th>\n",
    "</tr>\n",
    "</table>"
   ]
  },
  {
   "cell_type": "code",
   "execution_count": null,
   "metadata": {
    "collapsed": true
   },
   "outputs": [],
   "source": [
    "rostopic echo /fibonacci_as/result"
   ]
  },
  {
   "cell_type": "markdown",
   "metadata": {},
   "source": [
    "<table style=\"float:left;background: #407EAF\">\n",
    "<tr>\n",
    "<th>\n",
    "<p class=\"transparent\">Execute in WebShell #2: Echo the feedback topic</p>\n",
    "</th>\n",
    "</tr>\n",
    "</table>"
   ]
  },
  {
   "cell_type": "code",
   "execution_count": null,
   "metadata": {
    "collapsed": true
   },
   "outputs": [],
   "source": [
    "rostopic echo /fibonacci_as/feedback"
   ]
  },
  {
   "cell_type": "markdown",
   "metadata": {},
   "source": [
    "<table style=\"float:left;background: #407EAF\">\n",
    "<tr>\n",
    "<th>\n",
    "<p class=\"transparent\">Execute in WebShell #3: Manually send the goal to your Fibonacci server, publishing directly to the topic (as you learned in the previous chapter)</p>\n",
    "</th>\n",
    "</tr>\n",
    "</table>"
   ]
  },
  {
   "cell_type": "code",
   "execution_count": null,
   "metadata": {
    "collapsed": true
   },
   "outputs": [],
   "source": [
    "rostopic pub /fibonacci_as/goal actionlib_tutorials/FibonacciActionGoal [TAB][TAB]"
   ]
  },
  {
   "cell_type": "markdown",
   "metadata": {},
   "source": [
    "<p style=\"background:#AE0202;color:white;\">**Expected Result for Exercise 4.12b**</p><br>\n",
    "After having called the action, the feedback topic should be publishing the feedback, and the result once the calculations are finished.\n",
    "\n",
    "<br>\n",
    "\n",
    "<p style=\"background:#3B8F10;color:white;\">**Data for Exercise 4.12b**</p><br>\n",
    "<ul>\n",
    "<li>\n",
    "You must be aware that the name of the messages (the class) used in the C++ code are called FibonacciGoal, FibonacciResult, and FibonacciFeedback, while the name of the messages used in the topics are called FibonacciActionGoal, FibonacciActionResult, and FibonacciActionFeedback. \n",
    "<br>\n",
    "Do not worry about that, just bear it in mind and use it accordingly.\n",
    "</li>\n",
    "</ul>"
   ]
  },
  {
   "cell_type": "markdown",
   "metadata": {},
   "source": [
    "<p style=\"background:#EE9023;color:white;\">**END Exercise 4.12b**</p>"
   ]
  },
  {
   "cell_type": "markdown",
   "metadata": {},
   "source": [
    "<p style=\"background:#EE9023;color:white;\" id=\"ex-4-13\">**Exercice 4.13: Create Package with Action Server that moves the Ardrone in the air, making a square**</p>\n",
    "<br>\n",
    "Create a package with an action server that makes the drone move in a square when called.\n",
    "<br><br>\n",
    "Call the action server through the topics and observe the result and feedback.\n",
    "<br><br>\n",
    "Base your code in the previous Fibonacci example <a href=\"#prg-4.11a\">{4.11a}</a> and the client you did in Exercice 4.6 that moved the ardrone while taking pictures.\n",
    "<br>\n",
    "\n",
    "<p style=\"background:#AE0202;color:white;\">**Expected Result for Exercice 4.13**</p><br>\n",
    "The result must show the ardrone doing a square in the air when the action server is called, as shown in the animation beneath <a href=\"#fig-4.6\">{Fig:4.6}</a>\n",
    "<br>\n",
    "\n",
    "<p style=\"background:#3B8F10;color:white;\">**Data for Exercice 4.13**</p>\n",
    "<ul>\n",
    "<li>The size of the side of the square should be specified in the goal message as an integer.</li>\n",
    "<li>The feedback should publish the current side (as a number) the robot is at while doing the square.</li>\n",
    "<li>The result should publish the total number of seconds it took the drone to do the square</li>\n",
    "<li>Use the <span style=\"color: orange\"><i>Test.action</i></span> message for that action server. Use the shell command <span style=\"color: orange\"><i>locate Test.action</i></span> to find where that message is defined. Then, analyze the different fields of the msg in order to learn how to use it in your action server.</li>\n",
    "</ul>"
   ]
  },
  {
   "cell_type": "markdown",
   "metadata": {},
   "source": [
    "<p style=\"background:#EE9023;color:white;\" id=\"ex-4-13\">**END Exercice 4.13**</p>"
   ]
  },
  {
   "cell_type": "markdown",
   "metadata": {
    "caption": "Ardrone moved through commands issed by an custom action server Ex 4.13",
    "image": true,
    "name": "drone",
    "width": "10cm"
   },
   "source": [
    "\n",
    "\n",
    "\n",
    "<figure>\n",
    "  <img id=\"fig-4.6\" src=\"img/drone.gif\">\n",
    "  <br>\n",
    "   <center> <figcaption>Fig.4.6 - Ardrone moved through commands issed by an custom action server Ex 4.13</figcaption></center>\n",
    "</figure>"
   ]
  },
  {
   "cell_type": "markdown",
   "metadata": {},
   "source": [
    "## How to create your own action server message"
   ]
  },
  {
   "cell_type": "markdown",
   "metadata": {},
   "source": [
    "<b>It is always recommended that you use the action messages already provided by ROS.</b> These can be found in the following ROS packages:\n",
    "\n",
    "* actionlib\n",
    "    \n",
    " * Test.action\n",
    " * TestRequest.action \n",
    " * TwoInts.action\n",
    "    \n",
    "* actionlib_tutorials\n",
    "    \n",
    " * Fibonacci.action\n",
    " * Averaging.action\n",
    "    \n",
    "\n",
    "<br>"
   ]
  },
  {
   "cell_type": "markdown",
   "metadata": {},
   "source": [
    "However, it may happen that you need to create your own type. Let's learn how to do it."
   ]
  },
  {
   "cell_type": "markdown",
   "metadata": {},
   "source": [
    "To create your own custom action message you have to:"
   ]
  },
  {
   "cell_type": "markdown",
   "metadata": {},
   "source": [
    "1.- Create an **action** directory within your package.\n",
    "  \n",
    "2.- Create your Name.action message file.\n",
    "  \n",
    "      \n",
    " * The Name of the action message file will determine later the name of the classes to be used in the **action server** and/or **action client**. ROS convention indicates that the name has to be camel-case.\n",
    "        \n",
    " * Remember the Name.action file has to contain three parts, each part separated by three hyphens.  "
   ]
  },
  {
   "cell_type": "code",
   "execution_count": null,
   "metadata": {
    "collapsed": true
   },
   "outputs": [],
   "source": [
    "#goal\n",
    "package_where_message_is/message_type goal_var_name\n",
    "---\n",
    "#result\n",
    "package_where_message_is/message_type result_var_name\n",
    "---\n",
    "#feedback\n",
    "package_where_message_is/message_type feedback_var_name"
   ]
  },
  {
   "cell_type": "markdown",
   "metadata": {},
   "source": [
    "* If you do not need one part of the message (for example, you don't need to provide feedback), then you can leave that part empty. But you <b>must always specify the hyphen separtors</b>.     "
   ]
  },
  {
   "cell_type": "markdown",
   "metadata": {},
   "source": [
    "3.- Modify the file CMakeLists.txt and the package.xml to include action message compilation. Read the detailed description below."
   ]
  },
  {
   "cell_type": "markdown",
   "metadata": {},
   "source": [
    "<div id=\"custom_compilation\"></div>"
   ]
  },
  {
   "cell_type": "markdown",
   "metadata": {},
   "source": [
    "## How to prepare CMakeLists.txt and package.xml files for custom action messages compilation"
   ]
  },
  {
   "cell_type": "markdown",
   "metadata": {},
   "source": [
    "You have to edit two files in the package, in the same way that we explained for topics and services:\n",
    "\n",
    "* CMakeLists.txt\n",
    "* package.xml\n"
   ]
  },
  {
   "cell_type": "markdown",
   "metadata": {},
   "source": [
    "### Modification of CMakeLists.txt"
   ]
  },
  {
   "cell_type": "markdown",
   "metadata": {},
   "source": [
    "You will have to edit four functions inside CMakeLists.txt:\n",
    "\n",
    "* <span class=\"ign_green\"><a href=\"#find_package\">find_package()</a></span>\n",
    "* <span class=\"ign_green\"><a href=\"#add_action_files\">add_action_files()</a></span>\n",
    "* <span class=\"ign_green\"><a href=\"#generate_messages\">generate_messages()</a></span>\n",
    "* <span class=\"ign_green\"><a href=\"#catkin_package\">catkin_package()</a></span>\n",
    "\n"
   ]
  },
  {
   "cell_type": "markdown",
   "metadata": {},
   "source": [
    "<b><span class=\"ign_green\" id=\"find_package\">find_package()</span></b>"
   ]
  },
  {
   "cell_type": "markdown",
   "metadata": {},
   "source": [
    "All of the packages needed to COMPILE the messages of topic, services, and actions go here. \n",
    "<br>\n",
    "In <i>package.xml</i>, you have to state them as built."
   ]
  },
  {
   "cell_type": "code",
   "execution_count": null,
   "metadata": {
    "collapsed": true
   },
   "outputs": [],
   "source": [
    "find_package(catkin REQUIRED COMPONENTS\n",
    "      # your packages are listed here\n",
    "      actionlib_msgs\n",
    ")"
   ]
  },
  {
   "cell_type": "markdown",
   "metadata": {},
   "source": [
    "<b><span class=\"ign_green\" id=\"add_action_files\">add_action_files()</span></b>"
   ]
  },
  {
   "cell_type": "markdown",
   "metadata": {},
   "source": [
    "This function will contain all of the action messages from this package (which are stored in the <b>action</b> folder) that need to be compiled.<br>\n",
    "Place them beneath the FILES tag."
   ]
  },
  {
   "cell_type": "code",
   "execution_count": null,
   "metadata": {
    "collapsed": true
   },
   "outputs": [],
   "source": [
    "add_action_files(\n",
    "      FILES\n",
    "      Name.action\n",
    ")"
   ]
  },
  {
   "cell_type": "markdown",
   "metadata": {},
   "source": [
    "<b><span class=\"ign_green\" id=\"generate_messages\">generate_messages()</span></b>"
   ]
  },
  {
   "cell_type": "markdown",
   "metadata": {},
   "source": [
    "The packages needed for the action messages compilation are imported here. Write the same here as you wrote in the find_package."
   ]
  },
  {
   "cell_type": "code",
   "execution_count": null,
   "metadata": {
    "collapsed": true
   },
   "outputs": [],
   "source": [
    "generate_messages(\n",
    "      DEPENDENCIES\n",
    "      actionlib_msgs \n",
    "      # Your packages go here\n",
    ")"
   ]
  },
  {
   "cell_type": "markdown",
   "metadata": {},
   "source": [
    "<b><span class=\"ign_green\" id=\"catkin_package\">catkin_package()</span></b>"
   ]
  },
  {
   "cell_type": "markdown",
   "metadata": {},
   "source": [
    "State here all of the packages that will be needed by someone that executes something from your package.<br>\n",
    "All of the packages stated here must be in the package.xml as run_depend."
   ]
  },
  {
   "cell_type": "code",
   "execution_count": null,
   "metadata": {
    "collapsed": true
   },
   "outputs": [],
   "source": [
    "catkin_package(\n",
    "      CATKIN_DEPENDS\n",
    "      roscpp\n",
    "      # Your package dependencies go here\n",
    ")"
   ]
  },
  {
   "cell_type": "markdown",
   "metadata": {},
   "source": [
    "Summarizing, You should end with a CMakeLists.txt similar to this:"
   ]
  },
  {
   "cell_type": "code",
   "execution_count": null,
   "metadata": {
    "collapsed": true
   },
   "outputs": [],
   "source": [
    "cmake_minimum_required(VERSION 2.8.3)\n",
    "project(my_custom_action_msg_pkg)\n",
    "\n",
    "## Find catkin macros and libraries\n",
    "## if COMPONENTS list like find_package(catkin REQUIRED COMPONENTS xyz)\n",
    "## is used, also find other catkin packages\n",
    "find_package(catkin REQUIRED COMPONENTS\n",
    "  std_msgs \n",
    "  actionlib_msgs\n",
    ")\n",
    "\n",
    "## Generate actions in the 'action' folder\n",
    "add_action_files(\n",
    "   FILES\n",
    "   Name.action\n",
    " )\n",
    "\n",
    "## Generate added messages and services with any dependencies listed here\n",
    "generate_messages(\n",
    "   DEPENDENCIES\n",
    "   std_msgs actionlib_msgs\n",
    " )\n",
    "\n",
    "catkin_package(\n",
    " CATKIN_DEPENDS roscpp\n",
    ")\n",
    "\n",
    "## Specify additional locations of header files\n",
    "## Your package locations should be listed before other locations\n",
    "# include_directories(include)\n",
    "include_directories(\n",
    "  ${catkin_INCLUDE_DIRS}\n",
    ")"
   ]
  },
  {
   "cell_type": "markdown",
   "metadata": {},
   "source": [
    "### Modification of package.xml:"
   ]
  },
  {
   "cell_type": "markdown",
   "metadata": {},
   "source": [
    "1.- Add all of the packages needed to compile the messages.\n",
    "\n",
    "If, for example, one of your variables in the .action file uses a message defined outside the std_msgs package, let's say **nav_msgs/Odometry**, you will need to import it. To do so, you would have to add as **build_depend** the **nav_msgs** package, adding the following line:"
   ]
  },
  {
   "cell_type": "markdown",
   "metadata": {},
   "source": [
    "**<span class=\"ign_green\">&lt;build_depend&gt;nav_msgs&lt;/build_depend&gt;</span>**"
   ]
  },
  {
   "cell_type": "markdown",
   "metadata": {},
   "source": [
    "2.- On the other hand, if you need a package for the execution of the programs inside your package, you will have to import those packages as **run_depend**, adding the following line:"
   ]
  },
  {
   "cell_type": "markdown",
   "metadata": {},
   "source": [
    "**<span class=\"ign_green\">&lt;run_depend&gt;nav_msgs&lt;/run_depend&gt;</span>**"
   ]
  },
  {
   "cell_type": "markdown",
   "metadata": {},
   "source": [
    "When you compile custom action messages, it's **mandatory** to add the **actionlib_msgs** as build_dependency."
   ]
  },
  {
   "cell_type": "markdown",
   "metadata": {},
   "source": [
    "**<span class=\"ign_red\">&lt;build_depend&gt;actionlib_msgs&lt;/build_depend&gt;</span>**"
   ]
  },
  {
   "cell_type": "markdown",
   "metadata": {},
   "source": [
    "When you use C++, it's **mandatory** to add the **roscpp** as **run_dependency**."
   ]
  },
  {
   "cell_type": "markdown",
   "metadata": {},
   "source": [
    "**<span class=\"ign_red\">&lt;run_depend&gt;rospy&lt;/run_depend&gt;</span>**"
   ]
  },
  {
   "cell_type": "markdown",
   "metadata": {},
   "source": [
    "This is due to the fact that the roscpp module is needed in order to run all of your C++ ROS code."
   ]
  },
  {
   "cell_type": "markdown",
   "metadata": {},
   "source": [
    "Summarizing, you should end with a package.xml file similar to this:"
   ]
  },
  {
   "cell_type": "code",
   "execution_count": null,
   "metadata": {
    "collapsed": true
   },
   "outputs": [],
   "source": [
    "<?xml version=\"1.0\"?>\n",
    "<package>\n",
    "  <name>my_custom_action_msg_pkg</name>\n",
    "  <version>0.0.0</version>\n",
    "  <description>The my_custom_action_msg_pkg package</description>\n",
    "  <maintainer email=\"user@todo.todo\">user</maintainer>\n",
    "  <license>TODO</license>\n",
    "\n",
    "  <buildtool_depend>catkin</buildtool_depend>\n",
    "  <build_depend>std_msgs</build_depend>\n",
    "  <build_depend>actionlib_msgs</build_depend>\n",
    "  \n",
    "  <run_depend>roscpp</run_depend>\n",
    "\n",
    "  <export>\n",
    "  </export>\n",
    "</package>"
   ]
  },
  {
   "cell_type": "markdown",
   "metadata": {},
   "source": [
    "Finally, when everything is correctly set up, you just have to compile:"
   ]
  },
  {
   "cell_type": "code",
   "execution_count": null,
   "metadata": {
    "collapsed": true
   },
   "outputs": [],
   "source": [
    "roscd; cd ..\n",
    "catkin_make\n",
    "source devel/setup.bash\n",
    "rosmsg list | grep Name"
   ]
  },
  {
   "cell_type": "markdown",
   "metadata": {},
   "source": [
    "You will get an output to the last command, similar to this:"
   ]
  },
  {
   "cell_type": "code",
   "execution_count": null,
   "metadata": {
    "collapsed": true
   },
   "outputs": [],
   "source": [
    "my_custom_action_msg_pkg/NameAction\n",
    "my_custom_action_msg_pkg/NameActionFeedback\n",
    "my_custom_action_msg_pkg/NameActionGoal\n",
    "my_custom_action_msg_pkg/NameActionResult\n",
    "my_custom_action_msg_pkg/NameFeedback\n",
    "my_custom_action_msg_pkg/NameGoal\n",
    "my_custom_action_msg_pkg/NameResult"
   ]
  },
  {
   "cell_type": "markdown",
   "metadata": {},
   "source": [
    "<p style=\"background:green;color:white;\">**Note**</p><br>\n",
    "Note that you haven't imported the <b>std_msgs</b> package anywhere. But you can use the messages declared there in your custom .actions. That's because this package forms part of the roscore file systems, so therefore, it's embedded in the compilation protocols, and no declaration of use is needed."
   ]
  },
  {
   "cell_type": "markdown",
   "metadata": {},
   "source": [
    "<p style=\"background:#EE9023;color:white;\">**Exercise 4.14: Create a Package with an action server with custom action message to move ardone**</p>"
   ]
  },
  {
   "cell_type": "markdown",
   "metadata": {},
   "source": [
    "* In the previous package, you created <a href=\"#ex-4-13\">[Ex 4.13]</a>, create a new action server for the quadcopter\n",
    "* The new action server will receive two words as a goal: UP or DOWN.\n",
    "* When the action server receives the UP word, it will move the drone 1 meter up.\n",
    "* When the action server receives the DOWN word, it will move the drone 1 meter down.\n",
    "* As a feedback, it publishes once a second what action is taking place (going up or going down).\n",
    "* When the action finishes, the result will return nothing."
   ]
  },
  {
   "cell_type": "markdown",
   "metadata": {},
   "source": [
    "<p style=\"background:#3B8F10;color:white;\">**Data for Exercise 4.14**</p>"
   ]
  },
  {
   "cell_type": "markdown",
   "metadata": {},
   "source": [
    "* You need to create a new action message with the specified values as <i>String</i>. This type can be imported from the <i>std_msgs</i> package.\n",
    "* The result part of the action message will be empty.\n",
    "* Since we are talking about a drone, you can specify Twist velocities in the three axes. You will need to do that in order to move the robot up and down."
   ]
  },
  {
   "cell_type": "markdown",
   "metadata": {},
   "source": [
    "<p style=\"background:#EE9023;color:white;\">**END Exercise 4.14**</p>"
   ]
  },
  {
   "cell_type": "markdown",
   "metadata": {},
   "source": [
    "## Additional information to learn more"
   ]
  },
  {
   "cell_type": "markdown",
   "metadata": {},
   "source": [
    "ROS Actions: http://wiki.ros.org/actionlib\n",
    "\n",
    "How actions work: http://wiki.ros.org/actionlib/DetailedDescription"
   ]
  },
  {
   "cell_type": "markdown",
   "metadata": {},
   "source": [
    "## <p style=\"background:red;color:white;\">Solutions</p>"
   ]
  },
  {
   "cell_type": "markdown",
   "metadata": {},
   "source": [
    "Please Try to do it by yourself unless you get stuck or need some inspiration. You will learn much more if you fight for each exercise."
   ]
  },
  {
   "cell_type": "markdown",
   "metadata": {},
   "source": [
    "<img src=\"img/robotignite_logo_text.png\"/>"
   ]
  },
  {
   "cell_type": "markdown",
   "metadata": {},
   "source": [
    "Follow this link to open the solutions for the Actions Part 2:[Actions Part 2 Solutions](extra_files/unit4_basicROS_part2_solutions_cpp.ipynb)"
   ]
  }
 ],
 "metadata": {
  "anaconda-cloud": {},
  "kernelspec": {
   "display_name": "Python [Root]",
   "language": "python",
   "name": "Python [Root]"
  },
  "language_info": {
   "codemirror_mode": {
    "name": "ipython",
    "version": 2
   },
   "file_extension": ".py",
   "mimetype": "text/x-python",
   "name": "python",
   "nbconvert_exporter": "python",
   "pygments_lexer": "ipython2",
   "version": "2.7.12"
  },
  "latex_metadata": {
   "chapter": "4 - ROS Actions",
   "chapter_title": "Unit 4. ROS Actions Part 2",
   "course_title": "ROS BASICS IN 5 DAYS"
  }
 },
 "nbformat": 4,
 "nbformat_minor": 1
}
