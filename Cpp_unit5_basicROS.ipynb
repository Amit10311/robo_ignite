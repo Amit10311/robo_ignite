{
 "cells": [
  {
   "cell_type": "markdown",
   "metadata": {},
   "source": [
    "<h1><font class='ign_color'>ROS IN 5 DAYS</font></h1>"
   ]
  },
  {
   "cell_type": "markdown",
   "metadata": {},
   "source": [
    "# Unit 5: Debugging Tools"
   ]
  },
  {
   "cell_type": "markdown",
   "metadata": {
    "caption": "Iri Wam Robot",
    "image": true,
    "name": "iri_wam",
    "width": "8cm"
   },
   "source": [
    "<img src=\"img/iri_wam.jpg\" width=\"500\" />"
   ]
  },
  {
   "cell_type": "markdown",
   "metadata": {},
   "source": [
    "<b>Estimated time of completion:</b> 1.5 hours\n",
    "<br><br>\n",
    "<b>What will you learn with this unit?</b>\n",
    "\n",
    "* How can ROS What the F*ck help you debug\n",
    "* Add Debugging ROS logs\n",
    "* Filter ROS logs\n",
    "* Record and replay sensory data\n",
    "* Plot Topic Data\n",
    "* Draw connections between different nodes of your system\n",
    "* Basic use of RViz debugging tool"
   ]
  },
  {
   "cell_type": "markdown",
   "metadata": {},
   "source": [
    "One of the most difficult, but important, parts of robotics is: **knowing how to turn your ideas and knowledge into real projects**. There is a constant in robotics projects: **nothing works as in theory**. Reality is much more complex and, therefore, you need tools to discover what is going on and find where the problem is.\n",
    "That's why debugging and visualization tools are essential in robotics, especially when working with complex data formats such as **images**, **laser-scans**, **pointclouds** or **kinematic data**. Examples are shown in <a href=\"#fig-5.i\">{Fig-5.i}</a> and <a href=\"#fig-5.ii\">{Fig-5.ii}</a><i>."
   ]
  },
  {
   "cell_type": "markdown",
   "metadata": {
    "caption": "Rviz Example 1",
    "image": true,
    "name": "rviz_example1",
    "width": "15cm"
   },
   "source": [
    "<figure>\n",
    "    <img id=\"fig-5.i\" src=\"img/rviz_example1.jpg\"></img>\n",
    "    <center> <figcaption>Fig.5.i - Atlas Laser</figcaption></center>\n",
    "</figure>"
   ]
  },
  {
   "cell_type": "markdown",
   "metadata": {
    "caption": "Rviz Example 2",
    "image": true,
    "name": "rviz_example2",
    "width": "15cm"
   },
   "source": [
    "<figure>\n",
    "    <img id=\"fig-5.ii\" src=\"img/rviz_example2.jpg\"></img>\n",
    "    <center> <figcaption>Fig.5.ii - PR2 Laser and PointCloud</figcaption></center>\n",
    "</figure>"
   ]
  },
  {
   "cell_type": "markdown",
   "metadata": {},
   "source": [
    "So here you will be presented with the most important tools for debugging your code and visualizing what is really happening in your robot system."
   ]
  },
  {
   "cell_type": "markdown",
   "metadata": {},
   "source": [
    "### ROS What The F*ck!"
   ]
  },
  {
   "cell_type": "markdown",
   "metadata": {},
   "source": [
    "It seems like a joke, but it isn't! <b><i>Roswtf</i></b> is a great tool to shed some light when you really don't know where to start solving a problem. "
   ]
  },
  {
   "cell_type": "markdown",
   "metadata": {},
   "source": [
    "<table style=\"float:left;\">\n",
    "<tr>\n",
    "<th>\n",
    "Go to the WebShell and type the following command:<br>\n",
    "</th>\n",
    "</tr>\n",
    "</table>"
   ]
  },
  {
   "cell_type": "markdown",
   "metadata": {},
   "source": [
    "<table style=\"float:left;background: #407EAF\">\n",
    "<tr>\n",
    "<th>\n",
    "<p class=\"transparent\">Execute in WebShell #1</p>\n",
    "</th>\n",
    "</tr>\n",
    "</table>"
   ]
  },
  {
   "cell_type": "code",
   "execution_count": null,
   "metadata": {
    "collapsed": true
   },
   "outputs": [],
   "source": [
    "roswtf"
   ]
  },
  {
   "cell_type": "markdown",
   "metadata": {},
   "source": [
    "<p style=\"background: #407EAF\">WebShell #1 Output</p>"
   ]
  },
  {
   "cell_type": "code",
   "execution_count": null,
   "metadata": {
    "collapsed": true
   },
   "outputs": [],
   "source": [
    "user ~ $ roswtf\n",
    "the rosdep view is empty: call 'sudo rosdep init' and 'rosdep update'\n",
    "No package or stack in context\n",
    "================================================================================\n",
    "Static checks summary:\n",
    "\n",
    "Found 1 error(s).\n",
    "\n",
    "ERROR ROS Dep database not initialized: Please initialize rosdep database with sudo rosdep init.\n",
    "================================================================================\n",
    "Beginning tests of your ROS graph. These may take awhile...\n",
    "analyzing graph...\n",
    "... done analyzing graph\n",
    "running graph rules...\n",
    "... done running graph rules\n",
    "\n",
    "Online checks summary:\n",
    "\n",
    "Found 2 warning(s).\n",
    "Warnings are things that may be just fine, but are sometimes at fault\n",
    "\n",
    "WARNING The following node subscriptions are unconnected:\n",
    " * /gazebo:\n",
    "   * /gazebo/set_model_state\n",
    "   * /gazebo/set_link_state\n",
    "   * /iri_wam/iri_wam_controller/follow_joint_trajectory/cancel\n",
    "   * /iri_wam/iri_wam_controller/follow_joint_trajectory/goal\n",
    "   * /iri_wam/e_stop\n",
    "   * /iri_wam/iri_wam_controller/command\n",
    "\n",
    "WARNING These nodes have died:\n",
    " * urdf_spawner-4"
   ]
  },
  {
   "cell_type": "markdown",
   "metadata": {},
   "source": [
    "In this particular case, it tells you <a href=\"#webshell-out-5.1\">{webshell-out-5.1}</a> that the package <i>rosdep</i> hasn't been initialised, so you may have issues installing new ROS packages from the Internet. In this case, there is no problem because the system you are using (Robot Ignite Academy system) is not meant for installing anything.\n",
    "<br><br>\n",
    "And this takes us to the question: <b>What does <i>roswtf</i> do?</b>"
   ]
  },
  {
   "cell_type": "markdown",
   "metadata": {},
   "source": [
    "By default, it checks <b>two</b> ROS fields:\n",
    "\n",
    "    \n",
    "* <b>File-system issues:</b> It checks enviromental variables, packages, and launch files, among other things. It looks for any inconsistencies that might be errors. You can use the command <i>roswtf</i> alone to get the system global status. But you can also use it to check particular <i>launch files</i> before using them. \n",
    "    \n"
   ]
  },
  {
   "cell_type": "markdown",
   "metadata": {},
   "source": [
    "<table style=\"float:left;\">\n",
    "<tr>\n",
    "<th>\n",
    "Go to the WebShell and type the following command:<br>\n",
    "</th>\n",
    "</tr>\n",
    "</table>\n",
    "\n"
   ]
  },
  {
   "cell_type": "markdown",
   "metadata": {},
   "source": [
    "<table style=\"float:left;background: #407EAF\">\n",
    "<tr>\n",
    "<th>\n",
    "<p class=\"transparent\">Execute in WebShell #1</p>\n",
    "</th>\n",
    "</tr>\n",
    "</table>"
   ]
  },
  {
   "cell_type": "code",
   "execution_count": null,
   "metadata": {
    "collapsed": true
   },
   "outputs": [],
   "source": [
    "roslaunch iri_wam_aff_demo false_start_demo.launch"
   ]
  },
  {
   "cell_type": "markdown",
   "metadata": {},
   "source": [
    "<p style=\"background: #407EAF\">WebShell #1 Output</p>"
   ]
  },
  {
   "cell_type": "code",
   "execution_count": null,
   "metadata": {
    "collapsed": true
   },
   "outputs": [],
   "source": [
    "user ~ $ roslaunch iri_wam_aff_demo false_start_demo.launch\n",
    "... logging to /home/user/.ros/log/fd58c97c-9068-11e6-9889-02c6d37ebbf9/roslaunch-ip-172-31-20-234-12087.log\n",
    "Checking log directory for disk usage. This may take awhile.\n",
    "Press Ctrl-C to interrupt\n",
    "Done checking log file disk usage. Usage is <1GB.\n",
    "\n",
    "started roslaunch server http://ip-172-31-20-234:38217/\n",
    "\n",
    "SUMMARY\n",
    "========\n",
    "\n",
    "PARAMETERS\n",
    " * /rosdistro: indigo\n",
    " * /rosversion: 1.11.20\n",
    "\n",
    "NODES\n",
    "  /\n",
    "    iri_wam_aff_demo (iri_wam_reproduce_trajectory/iri_wam_aff_demo_node)\n",
    "    iri_wam_reproduce_trajectory (iri_wam_reproduce_trajectory/iri_wam_reproduce_trajectory_node)\n",
    "\n",
    "ROS_MASTER_URI=http://localhost:11311\n",
    "\n",
    "core service [/rosout] found\n",
    "\n",
    "\n",
    "process[iri_wam_reproduce_trajectory-1]: started with pid [12111]\n",
    "ERROR: cannot launch node of type [iri_wam_reproduce_trajectory/iri_wam_aff_demo_node]: can't locate node[iri_wam_aff_demo_node] in package [iri_wam_reproduce_trajectory]"
   ]
  },
  {
   "cell_type": "markdown",
   "metadata": {},
   "source": [
    "Any clue? It just tells you that it can't locate your <i>iri_wam_aff_demo_node</i>. Now try <b>roswtf</b> on that launch file to get a bit more information on what might be the problem:"
   ]
  },
  {
   "cell_type": "markdown",
   "metadata": {},
   "source": [
    "<table style=\"float:left;\">\n",
    "<tr>\n",
    "<th>\n",
    "Go to the WebShell and type the following commands:<br>\n",
    "</th>\n",
    "</tr>\n",
    "</table>"
   ]
  },
  {
   "cell_type": "markdown",
   "metadata": {},
   "source": [
    "<table style=\"float:left;background: #407EAF\">\n",
    "<tr>\n",
    "<th>\n",
    "<p class=\"transparent\">Execute in WebShell #1</p>\n",
    "</th>\n",
    "</tr>\n",
    "</table>"
   ]
  },
  {
   "cell_type": "code",
   "execution_count": null,
   "metadata": {
    "collapsed": true
   },
   "outputs": [],
   "source": [
    "roscd iri_wam_aff_demo/launch\n",
    "roswtf false_start_demo.launch"
   ]
  },
  {
   "cell_type": "markdown",
   "metadata": {},
   "source": [
    "<p style=\"background: #407EAF\">WebShell #1 Output</p>"
   ]
  },
  {
   "cell_type": "code",
   "execution_count": null,
   "metadata": {
    "collapsed": true
   },
   "outputs": [],
   "source": [
    "user launch $ roswtf false_start_demo.launch\n",
    "the rosdep view is empty: call 'sudo rosdep init' and 'rosdep update'\n",
    "[rospack] Error: the rosdep view is empty: call 'sudo rosdep init' and 'rosdep update'\n",
    "================================================================================\n",
    "Static checks summary:\n",
    "\n",
    "Found 2 error(s).\n",
    "\n",
    "ERROR ROS Dep database not initialized: Please initialize rosdep database with sudo rosdep init.\n",
    "ERROR Several nodes in your launch file could not be located. These are either typed incorrectly or need to be built:\n",
    " * node [iri_wam_aff_demo_node] in package [iri_wam_reproduce_trajectory]"
   ]
  },
  {
   "cell_type": "markdown",
   "metadata": {},
   "source": [
    "To make <i>roswtf yourlaunchfile.launch</i> work, you need to go to the path where the file is. That's why you had to use the <i>roscd</i> command.<br>\n",
    "The error shown above it is telling you that <i>roswtf</i> can't find the <i>iri_wam_aff_demo_node</i>. It states that because it's a binary. It might be that you haven't compiled it yet or that you spelt something wrong. Essentially, it's telling you that there is no node <i>iri_wam_aff_demo_node</i> in the package <i>iri_wam_reproduce_trajectory</i>.<br>"
   ]
  },
  {
   "cell_type": "markdown",
   "metadata": {},
   "source": [
    "\n",
    "* **Online/graph issues**: **roswtf** also checks for any inconsistencies in the connections between nodes, topics, actions, and so on. It warns you if something is not connected or it's connected where it shouldn't be. **These warnings aren't necessarily errors**. They are simply things that ROS finds odd. It's up to you to know if it's an error or if it's just the way your project is wired."
   ]
  },
  {
   "cell_type": "markdown",
   "metadata": {},
   "source": [
    "<table style=\"float:left;\">\n",
    "<tr>\n",
    "<th>\n",
    "Go to the WebShell and type the following command:<br>\n",
    "</th>\n",
    "</tr>\n",
    "</table>"
   ]
  },
  {
   "cell_type": "markdown",
   "metadata": {},
   "source": [
    "<table style=\"float:left;background: #407EAF\">\n",
    "<tr>\n",
    "<th>\n",
    "<p class=\"transparent\">Execute in WebShell #1</p>\n",
    "</th>\n",
    "</tr>\n",
    "</table>"
   ]
  },
  {
   "cell_type": "code",
   "execution_count": null,
   "metadata": {
    "collapsed": true
   },
   "outputs": [],
   "source": [
    "roswtf"
   ]
  },
  {
   "cell_type": "markdown",
   "metadata": {},
   "source": [
    "<p style=\"background: #407EAF\">WebShell #1 Output</p>"
   ]
  },
  {
   "cell_type": "code",
   "execution_count": null,
   "metadata": {
    "collapsed": true
   },
   "outputs": [],
   "source": [
    "user ~ $ roswtf\n",
    "the rosdep view is empty: call 'sudo rosdep init' and 'rosdep update'\n",
    "No package or stack in context\n",
    "================================================================================\n",
    "Static checks summary:\n",
    "\n",
    "Found 1 error(s).\n",
    "\n",
    "ERROR ROS Dep database not initialized: Please initialize rosdep database with sudo rosdep init.\n",
    "================================================================================\n",
    "Beginning tests of your ROS graph. These may take awhile...\n",
    "analyzing graph...\n",
    "... done analyzing graph\n",
    "running graph rules...\n",
    "... done running graph rules\n",
    "\n",
    "Online checks summary:\n",
    "\n",
    "Found 2 warning(s).\n",
    "Warnings are things that may be just fine, but are sometimes at fault\n",
    "\n",
    "WARNING The following node subscriptions are unconnected:\n",
    " * /gazebo:\n",
    "   * /gazebo/set_model_state\n",
    "   * /gazebo/set_link_state\n",
    "   * /iri_wam/iri_wam_controller/follow_joint_trajectory/cancel\n",
    "   * /iri_wam/iri_wam_controller/follow_joint_trajectory/goal\n",
    "   * /iri_wam/e_stop\n",
    "   * /iri_wam/iri_wam_controller/command\n",
    "\n",
    "WARNING These nodes have died:\n",
    " * urdf_spawner-4"
   ]
  },
  {
   "cell_type": "markdown",
   "metadata": {},
   "source": [
    "You executed this command at the start, but you didn't pay attention to the lower part warnings. These warnings are <i>Graph issues</i>.\n",
    "\n",
    "* It states that some subcribers are not connected to the topics that they are meant to be connected to: This is quite normal as they might be nodes that only connect at the start or in certain moments. No error here.\n",
    "* The second warning states that a node has died: This also is quite normal as nodes, like in this case, that only run when they spawn objects, die after being used. But ROS is so kind that it lets you know, just in case it shouldn't work that way.\n",
    "\n"
   ]
  },
  {
   "cell_type": "markdown",
   "metadata": {},
   "source": [
    "### ROS Debugging Messages and Rqt-Console"
   ]
  },
  {
   "cell_type": "markdown",
   "metadata": {},
   "source": [
    "Logs allow you to print them on the screen, but also to store them in the ROS framework, so you can classify, sort, filter, or else."
   ]
  },
  {
   "cell_type": "markdown",
   "metadata": {},
   "source": [
    "In logging systems, there are always levels of logging, as shown in <a href=\"#fig-5.1\">{Fig-5.1}</a>. In ROS logs case, there are <b>five</b> levels. Each level includes deeper levels. So, for example, if you use <b>Error</b> level, all the messages for <b>Error</b> and <b>Fatal</b> will be shown. If your level is <b>Warning</b>, then all the messages for levels <b>Warning</b>, <b>Error</b> and <b>Fatal</b> will be shown."
   ]
  },
  {
   "cell_type": "markdown",
   "metadata": {
    "caption": "LOG Levels",
    "image": true,
    "name": "log_level",
    "width": "8cm"
   },
   "source": [
    "<table style=\"width:100%\">\n",
    "  <tr>\n",
    "    <th>\n",
    "    <figure>\n",
    "        <img id=\"fig-5.1\" src=\"img/log_level.png\"></img>\n",
    "        <center> <figcaption>Fig.5.1 - LOG Levels</figcaption></center>\n",
    "    </figure>\n",
    "    </th>\n",
    "    <th>\n",
    "    DEBUG ==> ROS_DEBUG(\"This is a Debug Log\");<br>\n",
    "    INFO ==> ROS_INFO(\"This is an Info Log\");<br>\n",
    "    WARNING ==> ROS_WARN(\"This is a Warning Log\");<br>\n",
    "    ERROR ==> ROS_ERROR(\"This is an Error Log\");<br>\n",
    "    FATAL ==> ROS_FATAL(\"This is a Fatal Log\");<br>\n",
    "    </th> \n",
    "  </tr>\n",
    "</table>\n",
    "\n"
   ]
  },
  {
   "cell_type": "markdown",
   "metadata": {},
   "source": [
    "<table style=\"float:left;\">\n",
    "<tr>\n",
    "<th>\n",
    "Run the following C++ code:<br>\n",
    "</th>\n",
    "</tr>\n",
    "</table>"
   ]
  },
  {
   "cell_type": "markdown",
   "metadata": {},
   "source": [
    "<p style=\"background:#EE9023;color:white;\">**Exercise 5.1**</p><br>"
   ]
  },
  {
   "cell_type": "markdown",
   "metadata": {},
   "source": [
    "* Create a new package named **logs_test**. When creating the package, add as dependencies **roscpp**.\n",
    "\n",
    "* Inside the src folder of the package, create a new file named **logger_example.cpp**. Inside this file, copy the contents of <a href=\"#example-5.1\">logger_example.cpp </a>\n",
    "\n",
    "* Create a launch file for launching this code.\n",
    "\n",
    "* Do the necessary modifications to your **CMakeLists.txt** file, and compile the package.\n",
    "\n",
    "* Execute the launch file to run your executable."
   ]
  },
  {
   "cell_type": "markdown",
   "metadata": {},
   "source": [
    "<p style=\"background:#3B8F10;color:white;\" id=\"example-5.1\">**C++ Program {5.1}:  logger_example.cpp** </p><br>"
   ]
  },
  {
   "cell_type": "code",
   "execution_count": null,
   "metadata": {
    "collapsed": true
   },
   "outputs": [],
   "source": [
    "#include <ros/ros.h>\n",
    "#include <ros/console.h>\n",
    "#include <stdlib.h> \n",
    "\n",
    "int main(int argc, char** argv) {\n",
    "    \n",
    "    if( ros::console::set_logger_level(ROSCONSOLE_DEFAULT_NAME, ros::console::levels::Debug) ) \n",
    "    {\n",
    "      ros::console::notifyLoggerLevelsChanged();\n",
    "    }\n",
    "\n",
    "    ros::init(argc, argv, \"log_demo\");\n",
    "    ros::NodeHandle nh;\n",
    "    ros::Rate loop_rate(0.5); // We create a Rate object of 2Hz\n",
    "    \n",
    "    while (ros::ok()) // Endless loop until Ctrl + C\n",
    "    {\n",
    "        ROS_DEBUG(\"There is a missing droid\");\n",
    "        ROS_INFO(\"The Emperors Capuchino is done\");\n",
    "        ROS_WARN(\"Help me Obi-Wan Kenobi, you're my only hope\");\n",
    "        int exhaust_number = rand() % 100 + 1;\n",
    "        int port_number = rand() % 100 + 1;\n",
    "        ROS_ERROR(\"The thermal exhaust port %d, right below the main port %d\", exhaust_number, port_number);\n",
    "        ROS_FATAL(\"The DeathStar Is EXPLODING\");\n",
    "        loop_rate.sleep();\n",
    "        ros::spinOnce();\n",
    "    }\n",
    "    \n",
    "    return 0;\n",
    "}"
   ]
  },
  {
   "cell_type": "markdown",
   "metadata": {},
   "source": [
    "<p style=\"background:#3B8F10;color:white;\">**END C++ Program {5.1}:  logger_example.cpp** </p><br>"
   ]
  },
  {
   "cell_type": "markdown",
   "metadata": {},
   "source": [
    "The best place to read all of the logs issued by all of the ROS Systems is: <i>/rosout</i>"
   ]
  },
  {
   "cell_type": "markdown",
   "metadata": {},
   "source": [
    "<table style=\"float:left;\">\n",
    "<tr>\n",
    "<th>\n",
    "Go to the WebShell and type the following command:<br>\n",
    "</th>\n",
    "</tr>\n",
    "</table>"
   ]
  },
  {
   "cell_type": "markdown",
   "metadata": {},
   "source": [
    "<table style=\"float:left;background: #407EAF\">\n",
    "<tr>\n",
    "<th>\n",
    "<p class=\"transparent\">Execute in WebShell #1</p>\n",
    "</th>\n",
    "</tr>\n",
    "</table>"
   ]
  },
  {
   "cell_type": "code",
   "execution_count": null,
   "metadata": {
    "collapsed": true
   },
   "outputs": [],
   "source": [
    "rostopic echo /rosout"
   ]
  },
  {
   "cell_type": "markdown",
   "metadata": {},
   "source": [
    "You should see all of the ROS logs in the current nodes, running in the system."
   ]
  },
  {
   "cell_type": "markdown",
   "metadata": {},
   "source": [
    "<p style=\"background:#EE9023;color:white;\">END **Exercise 5.1**</p><br>"
   ]
  },
  {
   "cell_type": "markdown",
   "metadata": {},
   "source": [
    "<p style=\"background:#EE9023;color:white;\" id=\"ex-5.1\">**Exercise 5.2**</p>"
   ]
  },
  {
   "cell_type": "markdown",
   "metadata": {},
   "source": [
    "1- Change the LOG level in the previous code <a href=\"#example-5.1\">{logger_example.cpp}</a> and see how the different messages are printed or not in /rosout topic, depending on the level selected. \n",
    "\n",
    "2- Remember that you will need to recompile the package each time you make a modification in the code."
   ]
  },
  {
   "cell_type": "markdown",
   "metadata": {},
   "source": [
    "<p style=\"background:#EE9023;color:white;\" id=\"ex-5.1\">END **Exercise 5.2**</p>"
   ]
  },
  {
   "cell_type": "markdown",
   "metadata": {},
   "source": [
    "As you can see, with only one node publishing every 2 seconds, the amount of data is big. Now imagine <b>ten</b> nodes, publishing image data, laser data, using the actions, services, and publishing debug data of your DeepLearning node.\n",
    "It's really difficult to get the logging data that you want.\n",
    "<br><br>\n",
    "That's where <b>rqt_console</b> comes to the rescue."
   ]
  },
  {
   "cell_type": "markdown",
   "metadata": {},
   "source": [
    "<table style=\"float:left;\">\n",
    "<tr>\n",
    "<th>\n",
    "Type in the WebShell #1 the roslaunch command for launching the <a href=\"#ex-5.1\">Exercice 5.1</a> launch.<br> \n",
    "Go to the graphical interface window (hit the icon with a screen in the IDE) \n",
    "<br><br>\n",
    "<div class='white_bg'><img src=\"img/font-awesome_desktop.png\"/><br></div>\n",
    "And type in the WebShell #2 : <i>rqt_console</i>, to activate the GUI log printer. \n",
    "</th>\n",
    "</tr>\n",
    "</table>"
   ]
  },
  {
   "cell_type": "markdown",
   "metadata": {},
   "source": [
    "<table style=\"float:left;background: #407EAF\">\n",
    "<tr>\n",
    "<th>\n",
    "<p class=\"transparent\">Execute in WebShell #1</p>\n",
    "</th>\n",
    "</tr>\n",
    "</table>"
   ]
  },
  {
   "cell_type": "code",
   "execution_count": null,
   "metadata": {
    "collapsed": true
   },
   "outputs": [],
   "source": [
    "roslaunch logs_test exercise_5p1.launch"
   ]
  },
  {
   "cell_type": "markdown",
   "metadata": {},
   "source": [
    "<table style=\"float:left;background: #407EAF\">\n",
    "<tr>\n",
    "<th>\n",
    "<p class=\"transparent\">Execute in WebShell #2</p>\n",
    "</th>\n",
    "</tr>\n",
    "</table>"
   ]
  },
  {
   "cell_type": "code",
   "execution_count": null,
   "metadata": {
    "collapsed": true
   },
   "outputs": [],
   "source": [
    "rqt_console"
   ]
  },
  {
   "cell_type": "markdown",
   "metadata": {},
   "source": [
    "You will get a window similar to <a href=\"#fig-5.2\">{Fig-5.2}</a> in the browser tab that opend when clicking on the icon:"
   ]
  },
  {
   "cell_type": "markdown",
   "metadata": {
    "caption": "",
    "image": true,
    "name": "font-awesome_desktop",
    "width": "1.3cm"
   },
   "source": [
    "<img src=\"img/font-awesome_desktop.png\"/> "
   ]
  },
  {
   "cell_type": "markdown",
   "metadata": {
    "caption": "Rqt Console",
    "image": true,
    "name": "rqt_console_init",
    "width": "10cm"
   },
   "source": [
    "<figure>\n",
    "  <img id=\"fig-5.2\" src=\"img/rqt_console_init.jpg\"></img>\n",
    "  <br>\n",
    "   <center> <figcaption>Fig.5.2 - Rqt Console</figcaption></center>\n",
    "</figure>"
   ]
  },
  {
   "cell_type": "markdown",
   "metadata": {},
   "source": [
    "The rqt_console window is divided into three subpanels.\n",
    "\n",
    "\n",
    "* The first panel outputs the logs. It has data about the message, severity/level, the node generating that message, and other data. Is here where you will extract all your logs data.\n",
    "\n",
    "\n",
    "* The second one allows you to filter the messages issued on the first panel, excluding them based on criteria such as: node, severity level, or that it contains a certain word. To add a filter, just press the plus sign and select the desired one.\n",
    "\n",
    "\n",
    "* The third panel allows you to highlight certain messages, while showing the other ones.\n",
    "    \n",
    "\n",
    "\n",
    "You have to also know that clicking on the tiny white gear on the right top corner, you can change the number of messages shown. Try to keep it as low as possible to avoid performance impact in your system."
   ]
  },
  {
   "cell_type": "markdown",
   "metadata": {},
   "source": [
    "<table style=\"float:left;\">\n",
    "<tr>\n",
    "<th>\n",
    "Filter the logs so that you only see the Warning and Fatal messages of the node from exercice 5.1\n",
    "</th>\n",
    "</tr>\n",
    "</table>"
   ]
  },
  {
   "cell_type": "markdown",
   "metadata": {},
   "source": [
    "You should see something like <a href=\"#fig-5.3\">{Fig-5.3}</a>:"
   ]
  },
  {
   "cell_type": "markdown",
   "metadata": {
    "caption": "Rqt Console Filter",
    "image": true,
    "name": "rqt_console_filter",
    "width": "10cm"
   },
   "source": [
    "<figure>\n",
    "  <img id=\"fig-5.3\" src=\"img/rqt_console_filter.jpg\"></img>\n",
    "  <br>\n",
    "   <center> <figcaption>Fig.5.3 - Rqt Console Filter</figcaption></center>\n",
    "</figure>"
   ]
  },
  {
   "cell_type": "markdown",
   "metadata": {},
   "source": [
    "### Plot topic data and Rqt Plot"
   ]
  },
  {
   "cell_type": "markdown",
   "metadata": {},
   "source": [
    "This is a very common need in any scientific discipline, but especially important in robotics. You need to know if your inclination is correct, your speed is the right one, the torque readings in an arm joint is above normal, or the laser is having anomalous readings. For all these types of data, you need a graphic tool that makes some sense of all the data you are receiving in a fast and real-time way.\n",
    "Here is where <b>rqt_plot</b> comes in handy.<br>"
   ]
  },
  {
   "cell_type": "markdown",
   "metadata": {},
   "source": [
    "<font class=\"ign_red\"><b>To Continue you should have stopped the <a href=\"#ex-5.1\">Exercice 5.1</a> node launched in the WebShell #1</i></b></font><br>"
   ]
  },
  {
   "cell_type": "markdown",
   "metadata": {},
   "source": [
    "* **Go to the WebShell and type the following command to start moving the robot arm:**"
   ]
  },
  {
   "cell_type": "markdown",
   "metadata": {},
   "source": [
    "<table style=\"float:left;background: #407EAF\">\n",
    "<tr>\n",
    "<th>\n",
    "<p class=\"transparent\">Execute in WebShell #1</p>\n",
    "</th>\n",
    "</tr>\n",
    "</table>"
   ]
  },
  {
   "cell_type": "code",
   "execution_count": null,
   "metadata": {
    "collapsed": true
   },
   "outputs": [],
   "source": [
    "roslaunch iri_wam_aff_demo start_demo.launch"
   ]
  },
  {
   "cell_type": "markdown",
   "metadata": {},
   "source": [
    "* **Go to another Webshell and type the following command to see the positions and the effort made by each joint of the robot arm:**"
   ]
  },
  {
   "cell_type": "markdown",
   "metadata": {},
   "source": [
    "<table style=\"float:left;background: #407EAF\">\n",
    "<tr>\n",
    "<th>\n",
    "<p class=\"transparent\">Execute in WebShell #2</p>\n",
    "</th>\n",
    "</tr>\n",
    "</table>"
   ]
  },
  {
   "cell_type": "code",
   "execution_count": null,
   "metadata": {
    "collapsed": true
   },
   "outputs": [],
   "source": [
    "rostopic echo /joint_states -n1"
   ]
  },
  {
   "cell_type": "markdown",
   "metadata": {},
   "source": [
    "As you can probably see, knowing what's happening in the robots joints with only arrays of numbers is quite daunting.<br><br>\n",
    "So let's use the <b><i>rqt_plot</i></b> command to plot the robot joints array of data."
   ]
  },
  {
   "cell_type": "markdown",
   "metadata": {},
   "source": [
    "**Go to the graphical interface and type in a terminal the following command to open the rqt_plot GUI:**\n",
    "\n",
    "**Remmember to hit [CTRL]+[C] to stop the rostopic echo**"
   ]
  },
  {
   "cell_type": "markdown",
   "metadata": {},
   "source": [
    "<table style=\"float:left;background: #407EAF\">\n",
    "<tr>\n",
    "<th>\n",
    "<p class=\"transparent\">Execute in WebShell #2</p>\n",
    "</th>\n",
    "</tr>\n",
    "</table>"
   ]
  },
  {
   "cell_type": "code",
   "execution_count": null,
   "metadata": {
    "collapsed": true
   },
   "outputs": [],
   "source": [
    "rqt_plot"
   ]
  },
  {
   "cell_type": "markdown",
   "metadata": {},
   "source": [
    "You will get a window similar to <a href=\"#fig-5.4\">{Fig-5.4}</a>:"
   ]
  },
  {
   "cell_type": "markdown",
   "metadata": {
    "caption": "Rqt Plot",
    "image": true,
    "name": "rqt_plot_init",
    "width": "10cm"
   },
   "source": [
    "<figure>\n",
    "  <img id=\"fig-5.4\" src=\"img/rqt_plot_init.jpg\"></img>\n",
    "  <br>\n",
    "   <center> <figcaption>Fig.5.4 - Rqt Plot</figcaption></center>\n",
    "</figure>"
   ]
  },
  {
   "cell_type": "markdown",
   "metadata": {},
   "source": [
    "In the <i>topic</i> input located in the top-left corner of the window, you have to write the topic structure that leads to the data that you want to plot. Bear in mind that in order to be plotted, the topic has to publish a number. Once written, you press the <i class=\"ign_green\">PLUS SIGN</i> to start ploting the Topic.\n",
    "<br><br>\n",
    "In the case that we want to plot the robot joints, we need to plot the topic <i>/joint_states</i>, which has the following structure (that you can already get by extracting the topic message type with <i>rostopic info </i>, and afterwards using <i>rosmsg show</i> command from <b>Unit 2</b>):"
   ]
  },
  {
   "cell_type": "code",
   "execution_count": null,
   "metadata": {
    "collapsed": true
   },
   "outputs": [],
   "source": [
    "std_msgs/Header header\n",
    "string[] name\n",
    "float64[] position\n",
    "float64[] velocity\n",
    "float64[] effort                                                                                                        "
   ]
  },
  {
   "cell_type": "markdown",
   "metadata": {},
   "source": [
    "Then, to plot the velocity of the first joint of the robot, we would have to type <i>/joint_states/velocity[0]</i>.\n",
    "<br><br>\n",
    "You can add as many plots as you want by pressing the \"plus\" button."
   ]
  },
  {
   "cell_type": "markdown",
   "metadata": {},
   "source": [
    "<p style=\"background:#EE9023;color:white;\" id=\"ex-5.2\">Exercise 5.3</p>"
   ]
  },
  {
   "cell_type": "markdown",
   "metadata": {},
   "source": [
    "* Plot in rqt_plot the effort made by the four first joints of the robot while it moves."
   ]
  },
  {
   "cell_type": "markdown",
   "metadata": {},
   "source": [
    "<p style=\"background:#EE9023;color:white;\" id=\"ex-5.2\">END Exercise 5.3</p>"
   ]
  },
  {
   "cell_type": "markdown",
   "metadata": {},
   "source": [
    "### Node Connections and Rqt graph"
   ]
  },
  {
   "cell_type": "markdown",
   "metadata": {},
   "source": [
    "Is your node connected to the right place? Why are you not receiving data from a topic?\n",
    "These questions are quite normal as you might have experienced already with ROS systems. <b>Rqt_graph</b> can help you figure that out in an easier way.\n",
    "It displays a visual graph of the nodes running in ROS and their topic connections. It's important to point out that it seems to have problems with connections that aren't topics."
   ]
  },
  {
   "cell_type": "markdown",
   "metadata": {},
   "source": [
    "**Go to the graphical interface and type in a terminal the following command to open the rqt_graph GUI:**\n",
    "\n",
    "**Remember to have in the WebShell #1 the roslaunch iri_wam_aff_demo start_demo.launch**"
   ]
  },
  {
   "cell_type": "markdown",
   "metadata": {},
   "source": [
    "<table style=\"float:left;background: #407EAF\">\n",
    "<tr>\n",
    "<th>\n",
    "<p class=\"transparent\">Execute in WebShell #2</p>\n",
    "</th>\n",
    "</tr>\n",
    "</table>"
   ]
  },
  {
   "cell_type": "code",
   "execution_count": null,
   "metadata": {
    "collapsed": true
   },
   "outputs": [],
   "source": [
    "rqt_graph"
   ]
  },
  {
   "cell_type": "markdown",
   "metadata": {},
   "source": [
    "You will get something like the following image:"
   ]
  },
  {
   "cell_type": "markdown",
   "metadata": {
    "caption": "Rqt Graph Result",
    "image": true,
    "name": "rqt_graph_init",
    "width": "10cm"
   },
   "source": [
    "<figure>\n",
    "    <img id=\"fig-5.5\" src=\"img/rqt_graph_init.jpg\"/><br>\n",
    "    <center> <figcaption>Fig.5.5 - Rqt-Graph Result</figcaption></center>\n",
    "</figure>"
   ]
  },
  {
   "cell_type": "markdown",
   "metadata": {},
   "source": [
    "In the diagram <a href=\"#fig-5.5\">{Fig-5.5}</a>, you will be presented with all of the nodes currently running, connected by the topics they use to communicate with each other. There are two main elements that you need to know how to use:\n",
    "    \n",
    "* The <b>refresh button</b>: Which you have to press any time you have changed the nodes that are running:"
   ]
  },
  {
   "cell_type": "markdown",
   "metadata": {
    "caption": "",
    "image": true,
    "name": "refresh_rqt_graph",
    "width": "1.3cm"
   },
   "source": [
    "<img src=\"img/refresh_rqt_graph.png\"/>"
   ]
  },
  {
   "cell_type": "markdown",
   "metadata": {},
   "source": [
    "* The <b>filtering options</b>: These are the three boxes just beside the refresh button. The first element lets you select between only nodes or topics. The second box allows you to filter by names of nodes."
   ]
  },
  {
   "cell_type": "markdown",
   "metadata": {
    "caption": "",
    "image": true,
    "name": "filtering_rqt_graph",
    "width": "12cm"
   },
   "source": [
    "<img src=\"img/filtering_rqt_graph.png\"/>"
   ]
  },
  {
   "cell_type": "markdown",
   "metadata": {},
   "source": [
    "Here is an example where you filter to just show the <i>/gazebo</i> and the <i>/joint_states_relay</i> <a href=\"#fig-5.6\">{Fig-5.6}</a>:"
   ]
  },
  {
   "cell_type": "markdown",
   "metadata": {
    "caption": "Rqt-Graph Result Filtered",
    "image": true,
    "name": "rosgraph_init_filter",
    "width": "10cm"
   },
   "source": [
    "<figure>\n",
    "    <img id=\"fig-5.6\" src=\"img/rosgraph_init_filter.jpg\"/><br>\n",
    "    <center> <figcaption>Fig-5.6 - Rqt-Graph Result Filtered /gazebo and /joint_states_relay</figcaption></center>\n",
    "</figure>"
   ]
  },
  {
   "cell_type": "markdown",
   "metadata": {},
   "source": [
    "<p style=\"background:#EE9023;color:white;\" id=\"ex-5.3\">**Exercise 5.4**</p>"
   ]
  },
  {
   "cell_type": "markdown",
   "metadata": {},
   "source": [
    "* Create a package that launches a simple Topic publisher and a subscriber, and filter the ros_graph output to show you only the two nodes and the topic you are interested in."
   ]
  },
  {
   "cell_type": "markdown",
   "metadata": {},
   "source": [
    "<p style=\"background:#EE9023;color:white;\" id=\"ex-5.3\">END **Exercise 5.4**</p>"
   ]
  },
  {
   "cell_type": "markdown",
   "metadata": {},
   "source": [
    "You should get something like this <a href=\"#fig-5.7\">{Fig-5.7}</a>:"
   ]
  },
  {
   "cell_type": "markdown",
   "metadata": {
    "caption": "Rqt-Graph from Exercise 5.7",
    "image": true,
    "name": "rqt_graph_simple",
    "width": "10cm"
   },
   "source": [
    "<figure>\n",
    "    <img id=\"fig-5.7\" src=\"img/rqt_graph_simple.jpg\"/><br>\n",
    "    <center> <figcaption>Fig-5.7 - Rqt-Graph from Exercise 5.7</figcaption></center>\n",
    "</figure>"
   ]
  },
  {
   "cell_type": "markdown",
   "metadata": {},
   "source": [
    "### Record Experimental Data and Rosbags"
   ]
  },
  {
   "cell_type": "markdown",
   "metadata": {},
   "source": [
    "One very common scenario in robotics is the following:\n",
    "<br><br>\n",
    "You have a very expensive real robot, let's say R2-D2, and you take it to a very difficult place to get, let's say The Death Star. You execute your mission there and you go back to the base. Now, you want to reproduce the same conditions to improve R2-D2s algorithms to open doors. But you don't have the DeathStar nor R2-D2. How can you get the same exact sensory readings to make your test? Well, you record them, of course! And this is what <b>rosbag</b> does with all the ROS topics generated.\n",
    "It records all of the data passed through the ROS topics system and allows you to replay it any time through a simple file."
   ]
  },
  {
   "cell_type": "markdown",
   "metadata": {},
   "source": [
    "The commands for playing with <b>rosbag</b> are:\n",
    "\n",
    "    \n",
    "* To <b>Record</b> data from the topics you want:\n",
    "    <br><br>\n",
    "    <i>rosbag record -O name_bag_file.bag name_topic_to_record1 name_topic_to_record2 ... name_topic_to_recordN</i>\n",
    "\n",
    "    <br>\n",
    "\n",
    "* To <b>Extract</b> general information about the recorded data:\n",
    "    <br><br>\n",
    "    <i>rosbag info name_bag_file.bag</i>\n",
    "\n",
    "    <br>\n",
    "\n",
    "* To <b>Replay</b> the recorded data:\n",
    "    <br><br>\n",
    "    <i>rosbag play name_bag_file.bag</i>\n",
    "\n",
    "    <br>\n",
    "    Replaying the data will make the rosbag publish the same topics with the same data, at the same time when the data was recorded.\n",
    "</ul>"
   ]
  },
  {
   "cell_type": "markdown",
   "metadata": {},
   "source": [
    "<p style=\"background:#407EAF;color:white;\" id=\"example-5.2\">**Example 5.1**</p>"
   ]
  },
  {
   "cell_type": "markdown",
   "metadata": {},
   "source": [
    "1- Go to the WebShell and type the following command to make the robot start moving if you don't haven't already:"
   ]
  },
  {
   "cell_type": "markdown",
   "metadata": {},
   "source": [
    "<table id=\"example-cmd-1\" style=\"float:left;background: #407EAF\">\n",
    "<tr>\n",
    "<th>\n",
    "<p class=\"transparent\">Execute in WebShell #1</p>\n",
    "</th>\n",
    "</tr>\n",
    "</table>"
   ]
  },
  {
   "cell_type": "code",
   "execution_count": null,
   "metadata": {
    "collapsed": true
   },
   "outputs": [],
   "source": [
    "roslaunch iri_wam_aff_demo start_demo.launch"
   ]
  },
  {
   "cell_type": "markdown",
   "metadata": {},
   "source": [
    "2- Go to another WebShell and go to the <i>src</i> directory. Type the following command to record the data from the <i>/laser_scan</i>:"
   ]
  },
  {
   "cell_type": "markdown",
   "metadata": {},
   "source": [
    "<table id=\"example-cmd-2\" style=\"float:left;background: #407EAF\">\n",
    "<tr>\n",
    "<th>\n",
    "<p class=\"transparent\">Execute in WebShell #2</p>\n",
    "</th>\n",
    "</tr>\n",
    "</table>"
   ]
  },
  {
   "cell_type": "code",
   "execution_count": null,
   "metadata": {
    "collapsed": true
   },
   "outputs": [],
   "source": [
    "roscd; cd ../src\n",
    "rosbag record -O laser.bag laser_scan"
   ]
  },
  {
   "cell_type": "markdown",
   "metadata": {},
   "source": [
    "This last command will start the recording of data."
   ]
  },
  {
   "cell_type": "markdown",
   "metadata": {},
   "source": [
    "3- After 30 seconds or so, a lot of data have been recorded, press <span class=\"ign_green\">[CTRL]+[C]</span> in the rosbag recording <a href=\"#example-cmd-2\">WebShell #2</a> to stop recording. Check that there has been a laser.bag file generated and it has the relevant information by typing:"
   ]
  },
  {
   "cell_type": "markdown",
   "metadata": {},
   "source": [
    "<table style=\"float:left;background: #407EAF\">\n",
    "<tr>\n",
    "<th>\n",
    "<p class=\"transparent\">Execute in WebShell #2</p>\n",
    "</th>\n",
    "</tr>\n",
    "</table>"
   ]
  },
  {
   "cell_type": "code",
   "execution_count": null,
   "metadata": {
    "collapsed": true
   },
   "outputs": [],
   "source": [
    "rosbag info laser.bag"
   ]
  },
  {
   "cell_type": "markdown",
   "metadata": {},
   "source": [
    "4- Once checked, CTRL+C on the <span class=\"ign_red\">start_demo.launch</span> <a href=\"#example-cmd-1\">WebShell #1</a> to stop the robot.<br>"
   ]
  },
  {
   "cell_type": "markdown",
   "metadata": {},
   "source": [
    "5- Once the robot has stopped, type the following command to replay the <i>laser.bag</i> (the <i>-l</i> option is to loop the <i>rosbag</i> infinitely until you CTRL+C):"
   ]
  },
  {
   "cell_type": "markdown",
   "metadata": {},
   "source": [
    "<table id=\"example-cmd-3\" style=\"float:left;background: #407EAF\">\n",
    "<tr>\n",
    "<th>\n",
    "<p class=\"transparent\">Execute in WebShell #2</p>\n",
    "</th>\n",
    "</tr>\n",
    "</table>"
   ]
  },
  {
   "cell_type": "code",
   "execution_count": null,
   "metadata": {
    "collapsed": true
   },
   "outputs": [],
   "source": [
    "rosbag play -l laser.bag"
   ]
  },
  {
   "cell_type": "markdown",
   "metadata": {},
   "source": [
    "6- Go to WebShell #3 and type the following command to read the ranges[100] of Topic <i>/laser_scan </i>:"
   ]
  },
  {
   "cell_type": "markdown",
   "metadata": {},
   "source": [
    "<table id=\"example-cmd-4\" style=\"float:left;background: #407EAF\">\n",
    "<tr>\n",
    "<th>\n",
    "<p class=\"transparent\">Execute in WebShell #3</p>\n",
    "</th>\n",
    "</tr>\n",
    "</table>"
   ]
  },
  {
   "cell_type": "code",
   "execution_count": null,
   "metadata": {
    "collapsed": true
   },
   "outputs": [],
   "source": [
    "rostopic echo /laser_scan/ranges[100]"
   ]
  },
  {
   "cell_type": "markdown",
   "metadata": {},
   "source": [
    "7- Type the following command in another WebShell , like WebShell #4. Then, go to the graphical interface and see how it plots the given data with rqt_plot:"
   ]
  },
  {
   "cell_type": "markdown",
   "metadata": {},
   "source": [
    "<table id=\"example-cmd-5\" style=\"float:left;background: #407EAF\">\n",
    "<tr>\n",
    "<th>\n",
    "<p class=\"transparent\">Execute in WebShell #4</p>\n",
    "</th>\n",
    "</tr>\n",
    "</table>"
   ]
  },
  {
   "cell_type": "code",
   "execution_count": null,
   "metadata": {
    "collapsed": true
   },
   "outputs": [],
   "source": [
    "rqt_plot /laser_scan/ranges[100]"
   ]
  },
  {
   "cell_type": "markdown",
   "metadata": {},
   "source": [
    "<font class=\"ign_green\">Is it working? Did you find something odd?</font><br>\n",
    "There are various things that are wrong, but it's important that you memorize this.<br>\n",
    "\n",
    "1- The first thing you notice is that when you echo the topic <i>/laser_scan</i>, you get sudden changes in values.<br><br>\n",
    "Try getting some more information on who is publishing in the <i>/laser_scan</i> topic by writing in the WebShell:<br>\n",
    "\n",
    "<span class=\"ign_red\">Remember to hit [CTRL]+[C] if there was something running there first.</span>"
   ]
  },
  {
   "cell_type": "markdown",
   "metadata": {},
   "source": [
    "<table style=\"float:left;background: #407EAF\">\n",
    "<tr>\n",
    "<th>\n",
    "<p class=\"transparent\">Execute in WebShell #3</p>\n",
    "</th>\n",
    "</tr>\n",
    "</table>"
   ]
  },
  {
   "cell_type": "code",
   "execution_count": null,
   "metadata": {
    "collapsed": true
   },
   "outputs": [],
   "source": [
    "rostopic info /laser_scan"
   ]
  },
  {
   "cell_type": "markdown",
   "metadata": {},
   "source": [
    "You will get something similar to this:"
   ]
  },
  {
   "cell_type": "markdown",
   "metadata": {},
   "source": [
    "<p style=\"background: #407EAF\">WebShell #3 Output</p>"
   ]
  },
  {
   "cell_type": "code",
   "execution_count": null,
   "metadata": {
    "collapsed": true
   },
   "outputs": [],
   "source": [
    "user ~ $ rostopic info /laser_scan\n",
    "Type: sensor_msgs/LaserScan\n",
    "\n",
    "Publishers:\n",
    " * /gazebo (http://ip-172-31-27-126:59384/)\n",
    " * /play_1476284237447256367 (http://ip-172-31-27-126:41011/)\n",
    "\n",
    "Subscribers: None"
   ]
  },
  {
   "cell_type": "markdown",
   "metadata": {},
   "source": [
    "As you can see, **TWO** nodes are publishing in the **/laser_scan** topic: **gazebo** (the simulation ) and **play_x** (the rosbag play).\n",
    "\n",
    "This means that not only is rosbag publishing data, but also the simulated robot."
   ]
  },
  {
   "cell_type": "markdown",
   "metadata": {},
   "source": [
    "So the first thing to do is to **PAUSE** the simulation, so that gazebo stops publishing laser readings."
   ]
  },
  {
   "cell_type": "markdown",
   "metadata": {},
   "source": [
    "For that, you have to execute the following command:"
   ]
  },
  {
   "cell_type": "markdown",
   "metadata": {},
   "source": [
    "<table style=\"float:left;background: #407EAF\">\n",
    "<tr>\n",
    "<th>\n",
    "<p class=\"transparent\">Execute in WebShell #3</p>\n",
    "</th>\n",
    "</tr>\n",
    "</table>"
   ]
  },
  {
   "cell_type": "code",
   "execution_count": null,
   "metadata": {
    "collapsed": true
   },
   "outputs": [],
   "source": [
    "rosservice call /gazebo/pause_physics \"{}\""
   ]
  },
  {
   "cell_type": "markdown",
   "metadata": {},
   "source": [
    "And to <span class=\"ign_green\">UnPAUSE</span> it again, just for you to know, just:"
   ]
  },
  {
   "cell_type": "markdown",
   "metadata": {},
   "source": [
    "<table style=\"float:left;background: #407EAF\">\n",
    "<tr>\n",
    "<th>\n",
    "<p class=\"transparent\">Execute in WebShell #3</p>\n",
    "</th>\n",
    "</tr>\n",
    "</table>"
   ]
  },
  {
   "cell_type": "code",
   "execution_count": null,
   "metadata": {
    "collapsed": true
   },
   "outputs": [],
   "source": [
    "rosservice call /gazebo/unpause_physics \"{}\""
   ]
  },
  {
   "cell_type": "markdown",
   "metadata": {},
   "source": [
    "With this, you should have stopped all publishing from the simulated robot part and only left the rosbag to publish."
   ]
  },
  {
   "cell_type": "markdown",
   "metadata": {},
   "source": [
    "Now you should be able to see a proper **/laser_scan** plot in the rqt_plot."
   ]
  },
  {
   "cell_type": "markdown",
   "metadata": {},
   "source": [
    "Still nothing?"
   ]
  },
  {
   "cell_type": "markdown",
   "metadata": {},
   "source": [
    "2) Check the time you have in the rqt_plot. Do you see that, at a certain point, the time doesn't keep on going?"
   ]
  },
  {
   "cell_type": "markdown",
   "metadata": {},
   "source": [
    "That's because you have stopped the simulation so that the time is not running anymore, apart from the tiny time frame in the rosbag that you are playing now."
   ]
  },
  {
   "cell_type": "markdown",
   "metadata": {},
   "source": [
    "Once rqt_plot reaches the maximum time, it stops. It doesn't return to the start, and therefore, if the values change outside the last time period shown, you won't see anything."
   ]
  },
  {
   "cell_type": "markdown",
   "metadata": {},
   "source": [
    "**Take a look also at the rosbag play information of your currently running rosbag player**"
   ]
  },
  {
   "cell_type": "markdown",
   "metadata": {},
   "source": [
    "<p style=\"background: #407EAF\">WebShell #2 Output</p>"
   ]
  },
  {
   "cell_type": "code",
   "execution_count": null,
   "metadata": {
    "collapsed": true
   },
   "outputs": [],
   "source": [
    "user ~ $ rosbag play -l laser.bag\n",
    "[ INFO ] [1471001445.5575545086]: Opening laser.bag\n",
    "\n",
    "Waiting 0.2 seconds after advertising topics... done.\n",
    "\n",
    "Hit space to toggle paused, or 's' to stop.\n",
    "[RUNNING] Bag Time: 61.676140 Duration: 41.099140 / 41.452000"
   ]
  },
  {
   "cell_type": "markdown",
   "metadata": {},
   "source": [
    "In this example, you can see that the current time is <b>41.099</b> of <b>41.452 seconds</b> recorded.\n",
    "And the rosbag time, therefore, will reach a maximum of around <b>62</b> seconds.\n",
    "<br><br>\n",
    "<b>62</b> seconds, in this case, is the maximum time the rqt_plot will show, and will start around 20 seconds.\n",
    "<br><br>\n",
    "Therefore, you have to always <b>CLEAR</b> the plot area with the <b>clear button</b> in rqt_plot.\n",
    "<br><br>\n",
    "By doing a <b>CLEAR</b>, you should get something similar to <a href=\"#fig-5.8\">{Fig-5.8}</a>:"
   ]
  },
  {
   "cell_type": "markdown",
   "metadata": {
    "caption": "Rosbag in Rqt Plot",
    "image": true,
    "name": "rosbag_rqtplot",
    "width": "10cm"
   },
   "source": [
    "<figure>\n",
    "    <img id=\"fig-5.8\" src=\"img/rosbag_rtqplot.gif\"/><br>\n",
    "    <center> <figcaption>Fig-5.8 - RosBag Rqt-Plot</figcaption></center>\n",
    "</figure>"
   ]
  },
  {
   "cell_type": "markdown",
   "metadata": {},
   "source": [
    "<span class=\"ign_blue\">To summarize:</span>\n",
    "<br><br>\n",
    "To use rosbag files, you have to make sure that the original data generator (real robot or simulation) is NOT publishing. Otherwise, you will get really weird data (the collision between the original and the recorded data). You have to also keep in mind that if you are reading from a rosbag, time is finite and cyclical, and therefore, you have to clear the plot area to view all of the time period."
   ]
  },
  {
   "cell_type": "markdown",
   "metadata": {},
   "source": [
    "<b>rosbag</b> is especially useful when you don't have anything in your system (neither real nor simulated robot), and you run a bare <b>roscore</b>. In that situation, you would record all of the topics of the system when <b>you do have</b> either a simulated or real robot with the following command:<br>"
   ]
  },
  {
   "cell_type": "code",
   "execution_count": null,
   "metadata": {
    "collapsed": true
   },
   "outputs": [],
   "source": [
    "rosbag record -a"
   ]
  },
  {
   "cell_type": "markdown",
   "metadata": {},
   "source": [
    "This command will record <b>ALL</b> the topics that the robot is publishing. Then, you can replay it in a bare roscore system and you will get all of the topics as if you had the robot."
   ]
  },
  {
   "cell_type": "markdown",
   "metadata": {},
   "source": [
    "<font class=\"ign_red\">Before continuing any further, please check that you've done the following:</font><br>\n",
    "\n",
    "* You have stopped the rosbag play by going to the WebShell #2 where it's executing and [CTRL]+[C]\n",
    "\n",
    "* You have unpaused the simulation to have it working as normal:"
   ]
  },
  {
   "cell_type": "markdown",
   "metadata": {},
   "source": [
    "<table style=\"float:left;background: #407EAF\">\n",
    "    <tr>\n",
    "    <th>\n",
    "    <p class=\"transparent\">Execute in WebShell #3</p>\n",
    "    </th>\n",
    "    </tr>\n",
    "</table>"
   ]
  },
  {
   "cell_type": "code",
   "execution_count": null,
   "metadata": {
    "collapsed": true
   },
   "outputs": [],
   "source": [
    "rosservice call /gazebo/unpause_physics \"{}\""
   ]
  },
  {
   "cell_type": "markdown",
   "metadata": {},
   "source": [
    "<p style=\"background:#407EAF;color:white;\" id=\"example-5.2\">END **Example 5.1**</p>"
   ]
  },
  {
   "cell_type": "markdown",
   "metadata": {},
   "source": [
    "### Visualize Complex data and Rviz"
   ]
  },
  {
   "cell_type": "markdown",
   "metadata": {},
   "source": [
    "And here you have it. The <b>HollyMolly!</b> The Milenium Falcon! The most important tool for ROS debugging....<b>RVIZ</b>.\n",
    "<br><br>\n",
    "RVIZ is a tool that allows you to visualize <i>Images, PointClouds, Lasers, Kinematic Transformations, RobotModels</i>...The list is endless. You even can define your own markers. It's one of the reasons why ROS got such a great acceptance. Before RVIZ, it was really difficult to know what the Robot was perceiving. And that's the main concept:\n",
    "<br><br>\n",
    "RVIZ is <b>NOT</b> a simulation. I repeat: It's <b>NOT</b> a simulation.\n",
    "<br>\n",
    "RVIZ is a representation of what is being published in the topics, by the simulation or the real robot. "
   ]
  },
  {
   "cell_type": "markdown",
   "metadata": {},
   "source": [
    "RVIZ is a really complex tool and it would take you a whole course just to master it. Here, you will get a glimpse of what it can give you."
   ]
  },
  {
   "cell_type": "markdown",
   "metadata": {},
   "source": [
    "**Remember that you should have unpaused the simulations and stopped the rosbag as described in the rosbag section.**"
   ]
  },
  {
   "cell_type": "markdown",
   "metadata": {},
   "source": [
    "1- Type in WebShell #2 the following command:"
   ]
  },
  {
   "cell_type": "markdown",
   "metadata": {},
   "source": [
    "<table style=\"float:left;background: #407EAF\">\n",
    "<tr>\n",
    "<th>\n",
    "<p class=\"transparent\">Execute in WebShell #2</p>\n",
    "</th>\n",
    "</tr>\n",
    "</table>"
   ]
  },
  {
   "cell_type": "code",
   "execution_count": null,
   "metadata": {
    "collapsed": true
   },
   "outputs": [],
   "source": [
    "rosrun rviz rviz"
   ]
  },
  {
   "cell_type": "markdown",
   "metadata": {},
   "source": [
    "2- Then go to the graphical interface to see the RVIZ GUI:"
   ]
  },
  {
   "cell_type": "markdown",
   "metadata": {},
   "source": [
    "You will be greeted by a window like <a href=\"#fig-5.9\">{Fig-5.9}</a>:"
   ]
  },
  {
   "cell_type": "markdown",
   "metadata": {
    "caption": "RVIZ Starting Window",
    "image": true,
    "name": "rviz_init",
    "width": "10cm"
   },
   "source": [
    "<figure>\n",
    "    <img id=\"fig-5.9\" src=\"img/rviz_init.jpg\"/><br>\n",
    "    <center> <figcaption>Fig-5.9 - RVIZ Starting Window</figcaption></center>\n",
    "</figure>"
   ]
  },
  {
   "cell_type": "markdown",
   "metadata": {},
   "source": [
    "**Note: In case you don't see the lower part of Rviz (the Add button, etc.), double-click at the top of the window to maximize it. Then you'll see it properly.**"
   ]
  },
  {
   "cell_type": "markdown",
   "metadata": {},
   "source": [
    "You need only to be concerned about a few elements to start enjoying RVIZ.\n",
    "\n",
    "\n",
    "* <b>Central Panel</b>: Here is where all the magic happens. Here is where the data will be shown. It's a 3D space that you can rotate (LEFT-CLICK PRESSED), translate (CENTER MOUSE BUTTON PRESSED) and zoom in/out (LEFT-CLICK PRESSED).\n",
    "    \n",
    "    \n",
    "* <b>LEFT Displays Panel</b>: Here is where you manage/configure all the elements that you wish to visualize in the central panel. You only need to use two elements:\n",
    "    \n",
    "        \n",
    " * In <i>Global Options</i>, you have to select the <b>Fixed Frame</b> that suits you for the visualization of the data. It is the reference frame from which all the data will be referred to.\n",
    "        \n",
    "        \n",
    " * The <i>Add button</i>. Clicking here you get all of the types of elements that can be represented in RVIZ.\n",
    "        \n",
    "    \n",
    "    \n",
    "    \n"
   ]
  },
  {
   "cell_type": "markdown",
   "metadata": {},
   "source": [
    "**Go to RVIZ in the graphical interface and add a <b>TF</b> element. For that, click \"Add\" and select the element TF in the list of elements provided, as shown in <a href=\"#fig-5.10\">{Fig-5.10}</a>.**"
   ]
  },
  {
   "cell_type": "markdown",
   "metadata": {
    "caption": "RVIZ Add element",
    "image": true,
    "name": "rviz_add",
    "width": "10cm"
   },
   "source": [
    "<figure>\n",
    "    <img id=\"fig-5.10\" src=\"img/rviz_add.jpg\"/><br>\n",
    "    <center> <figcaption>Fig-5.10 - RVIZ Add element</figcaption></center>\n",
    "</figure>"
   ]
  },
  {
   "cell_type": "markdown",
   "metadata": {},
   "source": [
    "* Go to the RVIZ Left panel, select as Fixed Frame the <i>iri_wam_link_footprint</i> and make sure that the TF element checkbox is checked. In a few moments, you should see all of the Robots Elements Axis represented in the CENTRAL Panel.\n",
    "\n",
    "* Now, go to a WebShell #1 and enter the command to move the robot:"
   ]
  },
  {
   "cell_type": "markdown",
   "metadata": {},
   "source": [
    "<table style=\"float:left;background: #407EAF\">\n",
    "<tr>\n",
    "<th>\n",
    "<p class=\"transparent\">Execute in WebShell #1</p>\n",
    "</th>\n",
    "</tr>\n",
    "</table>"
   ]
  },
  {
   "cell_type": "code",
   "execution_count": null,
   "metadata": {
    "collapsed": true
   },
   "outputs": [],
   "source": [
    "roslaunch iri_wam_aff_demo start_demo.launch"
   ]
  },
  {
   "cell_type": "markdown",
   "metadata": {},
   "source": [
    "You should see something like this:"
   ]
  },
  {
   "cell_type": "markdown",
   "metadata": {
    "caption": "RVIZ TF",
    "image": true,
    "name": "rviz_unit5",
    "width": "10cm"
   },
   "source": [
    "<figure>\n",
    "    <img id=\"fig-5.11\" src=\"img/rviz_unit5.gif\"/><br>\n",
    "    <center> <figcaption>Fig-5.11 - RVIZ TF</figcaption></center>\n",
    "</figure>"
   ]
  },
  {
   "cell_type": "markdown",
   "metadata": {},
   "source": [
    "In <a href=\"#fig-5.11\">{Fig-5.11}</a>, you are seeing all of the transformations elements of the IRI Wam Simulation in real-time. This allows you to see exactly what joint transformations are sent to the robot arm to check if it's working properly."
   ]
  },
  {
   "cell_type": "markdown",
   "metadata": {},
   "source": [
    "* Now press \"Add\" and select <i>RobotModel</i>, as shown in <a href=\"#fig-5.12\">{Fig-5.12}</a><br>"
   ]
  },
  {
   "cell_type": "markdown",
   "metadata": {
    "caption": "RVIZ Add Robot Model",
    "image": true,
    "name": "robotmodel",
    "width": "10cm"
   },
   "source": [
    "<figure>\n",
    "    <img id=\"fig-5.12\" src=\"img/robotmodel.jpg\"/><br>\n",
    "    <center> <figcaption>Fig-5.12 - RVIZ Add Robot Model</figcaption></center>\n",
    "</figure>"
   ]
  },
  {
   "cell_type": "markdown",
   "metadata": {},
   "source": [
    "You should see now the 3D model of the robot, as shown in <a href=\"#fig-5.13\">{Fig-5.13}</a>:"
   ]
  },
  {
   "cell_type": "markdown",
   "metadata": {
    "caption": "RVIZ Robot Model + TF",
    "image": true,
    "name": "robotmodel",
    "width": "10cm"
   },
   "source": [
    "<figure>\n",
    "    <img id=\"fig-5.13\" src=\"img/robotmodel.gif\"/><br>\n",
    "    <center> <figcaption>Fig-5.13 - RVIZ Robot Model + TF</figcaption></center>\n",
    "</figure>"
   ]
  },
  {
   "cell_type": "markdown",
   "metadata": {},
   "source": [
    "Why can't you see the table? Or the bowl? Is there something wrong? Not at all!\n",
    "<br><br>\n",
    "Remember: RVIZ is <b>NOT</b> a simulation, <b>it represents what the TOPICS are publishing</b>. In this case the models that are represented are the ones that the <i>RobotStatePublisher node</i> is publishing in some ROS topics. There is NO node publishing about the bowl or the table.\n",
    "<br><br>\n",
    "Then how can you see the object around? Just like the robot does, through cameras, lasers, and other topic data.\n",
    "<br><br>\n",
    "<b>Remember: RVIZ shows what your robot is perceiving, nothing else.</b>"
   ]
  },
  {
   "cell_type": "markdown",
   "metadata": {},
   "source": [
    "<p style=\"background:#EE9023;color:white;\" id=\"ex-5.4\">**Exercise 5.5**</p>"
   ]
  },
  {
   "cell_type": "markdown",
   "metadata": {},
   "source": [
    "Add to RVIZ the visualization of the following elements:\n",
    "\n",
    "* What the RGB camera from the Kinect is seeing. **TIP: The topic it has to read is /camera/rgb/image_raw. It might take a while to load the images, so just be patient.**\n",
    "\n",
    "* What the Laser mounted at the end effector of the robot arm is registering. **TIP: You can adjust the appearance of the laser points through the element in the LEFT PANEL.**\n",
    "\n",
    "* What the PointCloud Camera / Kinect mounted in front of the robot arm is registering. **TIP: You can adjust the appearance of the pointcloud points through the element in the LEFT PANEL. You should select points for better performance.**"
   ]
  },
  {
   "cell_type": "markdown",
   "metadata": {},
   "source": [
    "TIP: You should have a similar result as the one depicted beneath:<br>\n",
    "<font class=\"ign_red\"><b>Notice that activating the pointcloud has a huge impact on the system performance. This is due to the huge quantity of data being represented. It's highly recommended to only use it with a high-end graphics card.</b></font><br><br>\n",
    "Play around with the type of representations of the laser, size, and so on, as well as with the pointcloud configuration."
   ]
  },
  {
   "cell_type": "markdown",
   "metadata": {},
   "source": [
    "<p style=\"background:#EE9023;color:white;\" id=\"ex-5.4\">END **Exercise 5.5**</p>"
   ]
  },
  {
   "cell_type": "markdown",
   "metadata": {
    "collapsed": true
   },
   "source": [
    "<table style=\"width:100%\">\n",
    "  <tr>\n",
    "    \n",
    "    <th>\n",
    "    <figure>\n",
    "    <img id=\"fig-5.14\" src=\"img/rviz_finex.gif\"/><br>\n",
    "    <center> <figcaption>Fig-5.14 - RVIZ Robot with camera and laser</figcaption></center>\n",
    "</figure>\n",
    "    </th>\n",
    "    \n",
    "    <th>\n",
    "    <figure>\n",
    "    <img id=\"fig-5.15\" src=\"img/rviz_finex_pointcloud.gif\"/><br>\n",
    "    <center> <figcaption>Fig-5.15 - RVIZ Robot with camera, laser, and point-cloud</figcaption></center>\n",
    "</figure>\n",
    "    </th> \n",
    "  </tr>\n",
    "</table>"
   ]
  },
  {
   "cell_type": "markdown",
   "metadata": {},
   "source": [
    "Congratulations! Now you are ready to debug any AstroMech out there! "
   ]
  },
  {
   "cell_type": "markdown",
   "metadata": {},
   "source": [
    "## Additional information to learn more"
   ]
  },
  {
   "cell_type": "markdown",
   "metadata": {},
   "source": [
    "roswtf: http://wiki.ros.org/roswtf\n",
    "\n",
    "Ros Logging System: http://wiki.ros.org/rospy/Overview/Logging\n",
    "\n",
    "rqt_console: http://wiki.ros.org/rqt_console\n",
    "\n",
    "rqt_plot: http://wiki.ros.org/rqt_plot\n",
    "\n",
    "rqt_graph: http://wiki.ros.org/rqt_graph\n",
    "\n",
    "Rosbag: http://wiki.ros.org/rosbag\n",
    "\n",
    "Rviz: http://wiki.ros.org/rviz"
   ]
  }
 ],
 "metadata": {
  "anaconda-cloud": {},
  "kernelspec": {
   "display_name": "Python [Root]",
   "language": "python",
   "name": "Python [Root]"
  },
  "language_info": {
   "codemirror_mode": {
    "name": "ipython",
    "version": 2
   },
   "file_extension": ".py",
   "mimetype": "text/x-python",
   "name": "python",
   "nbconvert_exporter": "python",
   "pygments_lexer": "ipython2",
   "version": "2.7.12"
  },
  "latex_metadata": {
   "chapter": "5 - Debugging Tools",
   "chapter_title": "Unit 5. Debugging Tools",
   "course_title": "ROS BASICS IN 5 DAYS"
  }
 },
 "nbformat": 4,
 "nbformat_minor": 1
}
