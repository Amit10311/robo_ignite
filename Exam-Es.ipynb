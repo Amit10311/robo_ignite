{
 "cells": [
  {
   "cell_type": "markdown",
   "metadata": {},
   "source": [
    "# ROS en una Sola Semana"
   ]
  },
  {
   "cell_type": "markdown",
   "metadata": {},
   "source": [
    "# Exámen"
   ]
  },
  {
   "cell_type": "markdown",
   "metadata": {},
   "source": [
    "El exámen está basado en el robot Husky de Clearpath.\n",
    "El robot está dentro de una estructura y debe averiguar cómo salir de ella. Puedes usar cualquiera de los sensores que tiene el robot para detectar el entorno, y usar los actuadores para mover el robot.\n",
    "Comprueba el gráfico inferior para ver cómo debería ser un comportamiento aproximado del robot."
   ]
  },
  {
   "cell_type": "markdown",
   "metadata": {},
   "source": [
    "<figure>\n",
    "  <img id=\"fig-ex.1\" src=\"img/husky_solves.gif\"/>\n",
    "   <center> <figcaption>Fig.ex.1 - Husky saliendo de la habitación</figcaption></center>\n",
    "</figure>"
   ]
  },
  {
   "cell_type": "markdown",
   "metadata": {},
   "source": [
    "Con el fin de conseguir el objetivo, deberás implementar las siguientes cosas:\n",
    "<ul>\n",
    "  <li>Un servicio que cuando lo llames proporcione la dirección en la que moverse.</li>\n",
    "  <li>Un action server que cuando lo llames empezará a grabar todas las posiciones de odometría que el robot visita cada segundo.\n",
    "    <ul>\n",
    "      <li><b>Goal</b>: No se envía ningún goal, sólo un mensaje Empty indicando que el action server debe empezar.</li>\n",
    "      <li><b>Feedback</b>: No se proporciona feedback.</li>\n",
    "      <li><b>Result</b>: Tras 2 minutos proporcionará la lista entera.</li>\n",
    "    </ul>\n",
    "  <li>Un nodo que lo coordine todo. Debe:\n",
    "    <ul>\n",
    "      <li>Llamar al action server cuando el robot empiece a intentar salir de la habitación, con el fin de empezar a grabar todas las posiciones que el robot ha visitado</li>\n",
    "      <li>Llamar al servicio con el fin de saber cual es la siguiente dirección en la que ha de moverse</li>\n",
    "      <li>Mover el robot en la dirección especificada</li>\n",
    "      <li>Cuando los 2 minutos hayan pasado el robot debe pararse y se deben parar todos los programas</li>\n",
    "      <li>Si el robot ha salido de la habitación debe imprimir un mensaje indicando que ha salido</li>\n",
    "    </ul>\n",
    "  </li>\n",
    "</ul>"
   ]
  },
  {
   "cell_type": "markdown",
   "metadata": {},
   "source": [
    "<b>Pista</b>: debes crear tres nodos distintos (paquetes). Para poder lanzar los 3, debes crear un fichero launch que lance los 3, uno detrás del otro."
   ]
  },
  {
   "cell_type": "markdown",
   "metadata": {},
   "source": [
    "### Cómo realizar el exámen"
   ]
  },
  {
   "cell_type": "markdown",
   "metadata": {},
   "source": [
    "<ul>\n",
    "  <li>Puedes usar el entorno de aprendizaje para desarrollar y testear tu código.</li>\n",
    "  <li>Puedes acceder a las unidades realizadas o consultar en internet para buscar nformación.</li>\n",
    "  <li>Tienes 2 horas para finalizar el examen.</li>\n",
    "  <li>Una vez tengas el código listo y funcionando, usa el IDE para descargar todos los paquetes y enviarlos en un fichero zip al email <i>certification@theconstructsim.com</i> indicando el nivel al que quieres acceder (en este caso, Level 2, Yellow Turtle Belt).</li>\n",
    "  <li>Te enviaremos el resultado y el certificado (si procede) a la siguiente semana.</li>\n",
    "</ul>"
   ]
  },
  {
   "cell_type": "markdown",
   "metadata": {},
   "source": [
    "### Puntuación"
   ]
  },
  {
   "cell_type": "markdown",
   "metadata": {},
   "source": [
    "La puntuación se basa en cuantas de las siguientes fases has conseguido:\n",
    "<ul>\n",
    "  <li>Fase 1. <b>Has conseguido leer de los tópicos relevantes</b> (los tópicos que son necesarios para resolver el problema): 0.5 puntos</li>\n",
    "  <li>Fase 2. <b>Has conseguido escribir en los tópicos relevantes</b>: 0.5 puntos</li>\n",
    "  <li>Fase 3. <b>Has creado correctamente un servicio</b>: 1 punto</li>\n",
    "  <li>Fase 4. <b>Llamas correctamente al servicio</b>: 1 punto</li>\n",
    "  <li>Fase 5. <b>Has creado correctamente el action server</b>: 1.5 puntos</li>\n",
    "  <li>Fase 6. <b>Llamas correctamente al action server</b>: 1.5 puntos</li>\n",
    "  <li>Fase 7. <b>El robot está tratando de resolver el problema mientras lee/escribe en los tópicos necesarios, llamando a servicios y actions</b>: 2 puntos</li>\n",
    "  <li>Fase 8. <b>El robot resuelve el problema y consigue salir de la estructura empezando en una posición y orientación aleatória</b>: 2 puntos</li>\n",
    "</ul>\n",
    "<br>\n",
    "<b>Sólo aquellos con un 8 sobre 10 conseguirán el certificado</b>. Esto significa que has comprendido correctamente los conceptos y cómo usarlos con el fin de resolver un problema de robótica.\n",
    "\n",
    "Conseguir un 10 sobre 10 significa que también sabes cómo aplicar dichos conceptos con el fin de lograr un objetivo. Este debería ser tu objetivo."
   ]
  },
  {
   "cell_type": "code",
   "execution_count": null,
   "metadata": {
    "collapsed": true
   },
   "outputs": [],
   "source": []
  }
 ],
 "metadata": {
  "anaconda-cloud": {},
  "kernelspec": {
   "display_name": "Python 2",
   "language": "python",
   "name": "python2"
  },
  "language_info": {
   "codemirror_mode": {
    "name": "ipython",
    "version": 2
   },
   "file_extension": ".py",
   "mimetype": "text/x-python",
   "name": "python",
   "nbconvert_exporter": "python",
   "pygments_lexer": "ipython2",
   "version": "2.7.11"
  }
 },
 "nbformat": 4,
 "nbformat_minor": 0
}
