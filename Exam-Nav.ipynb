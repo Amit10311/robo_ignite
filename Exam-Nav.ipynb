{
 "cells": [
  {
   "cell_type": "markdown",
   "metadata": {},
   "source": [
    "# ROS Navigation in 5 Days"
   ]
  },
  {
   "cell_type": "markdown",
   "metadata": {},
   "source": [
    "# Exam"
   ]
  },
  {
   "cell_type": "markdown",
   "metadata": {},
   "source": [
    "The exam is based on the Husky.\n",
    "The robot must map the environment in order to be able to navigate from one point to another. You can use any of the sensors the robot has to detect the environment, and use the actuators to move the robot."
   ]
  },
  {
   "cell_type": "markdown",
   "metadata": {},
   "source": [
    "In order to get this job done, you will have to implement the following things:"
   ]
  },
  {
   "cell_type": "markdown",
   "metadata": {},
   "source": [
    "## 0: Setup your environment"
   ]
  },
  {
   "cell_type": "markdown",
   "metadata": {},
   "source": [
    "\n",
    "    * Create a package called <span class=\"ign_green\">**navigation_exam**</span> that will contain all the files related to the Exam. Add rospy as a dependency.\n",
    "    * \n",
    "    Inside this package, create 2 more directories. One for the launches and another one for the parameter files.\n",
    "    \n",
    "    * Inside the parameters directory of your navigation_exam package, copy all the files that are located in the config directory of the husky_exam package.\n",
    ""
   ]
  },
  {
   "cell_type": "markdown",
   "metadata": {},
   "source": [
    "## 1: Generate a Map of the environment"
   ]
  },
  {
   "cell_type": "markdown",
   "metadata": {},
   "source": [
    "\n",
    "    * \n",
    "    Create a <span class=\"ign_green\">launch file</span> that will launch the slam_gmapping node and also will load the necessary parameters in order to properly configure the slam_gmapping node. .**Be carefull because some of the basic parameters might have incorrect values.**\n",
    "    \n",
    "    * **Create and Save** a map of the environment with your **slam_gmapping node**.\n",
    ""
   ]
  },
  {
   "cell_type": "markdown",
   "metadata": {},
   "source": [
    "## 2: Make the Robot Localize itself in the Map you've created"
   ]
  },
  {
   "cell_type": "markdown",
   "metadata": {},
   "source": [
    "\n",
    "    * Create a <span class=\"ign_green\">launch file</span> that will launch the amcl node and also will load the necessary parameters in order to properly configure the amcl node.**Be carefull because some of the basic parameters might be wrong.**\n",
    "    \n",
    "    * Create by hand a YAML file containing **two** different points of the map called **point1** and **point2**. You can decide the location of those points (No service needed).\n",
    ""
   ]
  },
  {
   "cell_type": "markdown",
   "metadata": {},
   "source": [
    "##  3: Set Up a the Path Planning System"
   ]
  },
  {
   "cell_type": "markdown",
   "metadata": {},
   "source": [
    "\n",
    "    * \n",
    "    Create a <span class=\"ign_green\">**launch file**</span> that will launch the move_base node and also load the necessary parameter files.\n",
    "    **Be carefull because some of the basic parameters might have wrong values.**\n",
    "    \n",
    "    * \n",
    "    Check that you can correctly visualize the global and local costmaps.\n",
    "    \n",
    "    * \n",
    "    Check that you can correctly send goals to the move_base Action Server.\n",
    "    \n",
    "    * \n",
    "    Check that you can correctly visualize the global and local plans.\n",
    "    \n",
    ""
   ]
  },
  {
   "cell_type": "markdown",
   "metadata": {},
   "source": [
    "## 4: Create a ROS program that interacts with the Navigation Stack"
   ]
  },
  {
   "cell_type": "markdown",
   "metadata": {},
   "source": [
    "Create a Python program that will do the following:\n",
    "\n",
    "1. Load the YAML file into the Parameter server.\n",
    "\n",
    "2. Contains an Action Client that will send position values as a goal to the move_base Action Server.\n",
    "\n",
    "3. Create a loop that makes the robots move from point1 to point2 and viceversa endlessly.\n"
   ]
  },
  {
   "cell_type": "markdown",
   "metadata": {},
   "source": [
    "## 5: The Extra Mile"
   ]
  },
  {
   "cell_type": "markdown",
   "metadata": {},
   "source": [
    "Create a Service that will do the following:\n",
    "\n",
    "* \n",
    "It will take an string as input with the label of the goal point.<br>\n",
    "\n",
    "* When receives a call with the label, it gets the coordinates (position and orientation) associated to that label, and sends this coordinates to the move_base Action Server, returning \"OK\" message if successful.\n",
    ""
   ]
  },
  {
   "cell_type": "markdown",
   "metadata": {},
   "source": [
    "### How to proceed with the exam"
   ]
  },
  {
   "cell_type": "markdown",
   "metadata": {},
   "source": [
    "* You can use the learning environment to develop and test your code.\n",
    "* You can recover the previous lessons or consult internet to search for information.\n",
    "* You have **two hours** to finish the exam.\n",
    "* Once you have your code done and working, use the IDE to download all the packages and send them on a zip file to the email <i>certification@theconstructsim.com</i> indicating the level you are accessing to (in this case, Level 2, Yellow Turtle Belt). Please send it before the two hours have passed.\n",
    "* We will send you your result and certificate (if applies) next week."
   ]
  },
  {
   "cell_type": "markdown",
   "metadata": {},
   "source": [
    "### Scoring"
   ]
  },
  {
   "cell_type": "markdown",
   "metadata": {},
   "source": [
    "Scoring is based on how many of the following phases you have achieved:\n",
    "\n",
    "  * Phase 1. **You achieved to save a correct map of the environment**: 2 points\n",
    "  * Phase 2. **You achieved to correctly localize the robot in the environment**: 2 points\n",
    "  * Phase 3. **You achieved to correctly send goals to the move_base Action Server, and the robot reaches those goals**: 1 point\n",
    "  * Phase 4. **You achieved to correctly generate both costmaps**: 1 point\n",
    "  * Phase 5. **You correctly load the YAML file with the points into the Parameter Server**: 0.5 points\n",
    "  * Phase 6. **You created an Action Client that correctly sends goals to the move_base Action Server **: 0.75 points\n",
    "    * Phase 7. **You created a loop that moves robot between the 2 points of the YAML file.**: 0.75 points\n",
    "  * Phase 8. **You created a service that when receives a call with the point label, gets the coordinates (position and orientation) associated to that label, and will send this coordinates to the move_base Action Server, returning \"OK\" message if successful.**: 2 points\n",
    "\n",
    "<br>\n",
    "**Only those with an 8 over 10 will get the certificate**. This means, you have correctly understood the concepts and know how to use them to solve a robotics problem.\n",
    "\n",
    "Having a 10 out of 10 means that you also know how to apply the concepts in order to get a goal done. This should be your goal."
   ]
  },
  {
   "cell_type": "code",
   "execution_count": null,
   "metadata": {
    "collapsed": true
   },
   "outputs": [],
   "source": []
  }
 ],
 "metadata": {
  "anaconda-cloud": {},
  "kernelspec": {
   "display_name": "Python [Root]",
   "language": "python",
   "name": "Python [Root]"
  },
  "language_info": {
   "codemirror_mode": {
    "name": "ipython",
    "version": 2
   },
   "file_extension": ".py",
   "mimetype": "text/x-python",
   "name": "python",
   "nbconvert_exporter": "python",
   "pygments_lexer": "ipython2",
   "version": "2.7.12"
  }
 },
 "nbformat": 4,
 "nbformat_minor": 0
}
