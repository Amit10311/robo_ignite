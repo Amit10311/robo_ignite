{
 "cells": [
  {
   "cell_type": "markdown",
   "metadata": {},
   "source": [
    "# ROS IN 5 DAYS"
   ]
  },
  {
   "cell_type": "markdown",
   "metadata": {},
   "source": [
    "# Exam"
   ]
  },
  {
   "cell_type": "markdown",
   "metadata": {},
   "source": [
    "The exam is based on the Husky robot by Clearpath.\n",
    "The robot is inside a structure and must figure its way out of there. You can use any of the sensors the robot has to detect the environment, and use the actuators to move the robot.\n",
    "Check the graphic below to see what the approximate behavior of the robot must be."
   ]
  },
  {
   "cell_type": "markdown",
   "metadata": {
    "caption": "Fig.ex.1 - Husky exiting the room",
    "image": true,
    "name": "fig-ex.1 husky_solves",
    "width": "15cm"
   },
   "source": [
    "<figure>\n",
    "  <img id=\"fig-ex.1\" src=\"img/husky_solves.gif\"/>\n",
    "   <center> <figcaption>Fig.ex.1 - Husky exiting the room</figcaption></center>\n",
    "</figure>"
   ]
  },
  {
   "cell_type": "markdown",
   "metadata": {},
   "source": [
    "In order to get this job done, you will have to implement the following things:\n",
    "\n",
    "* A service that, when called, must provide the direction to move in.\n",
    "* An action server that, when called, will start recording all of the odometry positions the robot is visiting, every second.\n",
    "    \n",
    " * **Goal**: No goal is sent, just an empty message indicating that the action server must start.\n",
    " * **Feedback**: No feedback must be provided.\n",
    " * **Result**: After two minutes it will provide the whole list.\n",
    "    \n",
    "* A node that coordinates everything. It must:\n",
    "    \n",
    " * Call the action server when the robot starts trying to get out of the room, in order to start storing all of the positions that the robot has visited\n",
    " * Call the service in order to know which is the next direction it has to move in\n",
    " * Move the robot in the specified direction\n",
    " * When the two minutes have passed, the robot must stop and end everything\n",
    " * If the robot is out of the room, it must print a message indicating it has gone out\n",
    "    \n",
    "  \n"
   ]
  },
  {
   "cell_type": "markdown",
   "metadata": {},
   "source": [
    "<b>Hint</b>: You must create three different nodes (packages). In order to launch all three, you must create a launch file that launches all three, one after another."
   ]
  },
  {
   "cell_type": "markdown",
   "metadata": {},
   "source": [
    "### How to proceed with the exam"
   ]
  },
  {
   "cell_type": "markdown",
   "metadata": {},
   "source": [
    "\n",
    "* You can use the learning environment to develop and test your code.\n",
    "* You can recover the previous lessons or consult the internet to search for information.\n",
    "* You have two hours to finish the exam.\n",
    "* Once you have your code done and working, use the IDE to download all of the packages and send them in a zip file to the email <i>certification@theconstructsim.com</i>, indicating the level that you are accessing to (in this case, Level 2, Yellow Turtle Belt). Please send it before the two hours have passed.\n",
    "* We will send you your results and certificate (if applicable) next week.\n"
   ]
  },
  {
   "cell_type": "markdown",
   "metadata": {},
   "source": [
    "### Scoring"
   ]
  },
  {
   "cell_type": "markdown",
   "metadata": {},
   "source": [
    "Scoring is based on how many of the following phases you have achieved:\n",
    "\n",
    "* Phase 1. <b>You can read from the relevant topics</b> (topics that are required for solving the problem): 0.5 points\n",
    "* Phase 2. <b>You can write into the relevant topics</b>: 0.5 points\n",
    "* Phase 3. <b>You created a proper service</b>: 1 point\n",
    "* Phase 4. <b>You are properly calling the service</b>: 1 point\n",
    "* Phase 5. <b>You created a proper action server</b>: 1.5 points\n",
    "* Phase 6. <b>You are properly calling the action server</b>: 1.5 points\n",
    "* Phase 7. <b>The robot is trying to solve the problem while reading and writing from/to topics, calling services, and calling actions</b>: 2 points\n",
    "* Phase 8. <b>The robot solved the problem and got out of the environment, starting from a random place and orientation</b>: 2 points\n",
    "\n",
    "<br>\n",
    "<b>Only those with an 8 out of 10 will get a certificate</b>. This means, you have correctly understood the concepts and know how to use them to solve a robotics problem.\n",
    "\n",
    "Having a 10 out of 10 means that you also know how to apply the concepts in order to accomplish a task. This should be your goal."
   ]
  }
 ],
 "metadata": {
  "anaconda-cloud": {},
  "kernelspec": {
   "display_name": "Python [Root]",
   "language": "python",
   "name": "Python [Root]"
  },
  "language_info": {
   "codemirror_mode": {
    "name": "ipython",
    "version": 2
   },
   "file_extension": ".py",
   "mimetype": "text/x-python",
   "name": "python",
   "nbconvert_exporter": "python",
   "pygments_lexer": "ipython2",
   "version": "2.7.12"
  },
  "latex_metadata": {
   "chapter": "Exam",
   "chapter_title": "Exam",
   "course_title": "ROS BASICS IN 5 DAYS"
  }
 },
 "nbformat": 4,
 "nbformat_minor": 1
}
