{
 "cells": [
  {
   "cell_type": "markdown",
   "metadata": {},
   "source": [
    "# <font class='ign_color'>ROS NAVIGATION IN 5 DAYS </font>"
   ]
  },
  {
   "cell_type": "markdown",
   "metadata": {},
   "source": [
    "## Unit 0: A Guide for ROS Navigation in 5 Days"
   ]
  },
  {
   "cell_type": "markdown",
   "metadata": {
    "caption": "What you are going to learn here",
    "image": true,
    "name": "ros_navi",
    "width": "10cm"
   },
   "source": [
    "<img src=\"img/ros_navi.png\" width=\"800\"/>"
   ]
  },
  {
   "cell_type": "markdown",
   "metadata": {},
   "source": [
    "## ROS Navigation in 5 days, I cannot believe it!"
   ]
  },
  {
   "cell_type": "markdown",
   "metadata": {},
   "source": [
    "You have probably heard of ROS Navigation and how long it takes to learn to all students. It is very likely that you are thinking that learning ROS Navigationin 5 days is not possible... so let me tell you the news:"
   ]
  },
  {
   "cell_type": "markdown",
   "metadata": {},
   "source": [
    "<center>**<h2>It is possible to learn ROS Navigation fast if you have the proper method!</h2>**</center>"
   ]
  },
  {
   "cell_type": "markdown",
   "metadata": {},
   "source": [
    "### How is it possible?\n",
    "\n",
    "We have created a learning method that allows you to get most of ROS Navigation in the minimum amount of time. Our method has 4 parts:<br>\n",
    "\n",
    "1. **DECONSTRUCTION**: we have identified the important parts of ROS Navigation that you must master in order to understand atleast 80% of ROS Navigation. You will concentrate on learning these parts very deep.\n",
    "2. **REMOVING**: we have removed many things that are not needed and just add noise to your learning.\n",
    "3. **LEARNING**: we guide you step by step in a progressive manner through all those important parts, starting always from a robot that does things.\n",
    "4. **PRACTICING**: we make you practice a lot on every step, always on a robot using our simulated robots."
   ]
  },
  {
   "cell_type": "markdown",
   "metadata": {},
   "source": [
    "* Want to learn more about this method? Read this book: <a target=\"_blank\" href=\"https://www.amazon.com/gp/product/1591846943/ref=as_li_tl?ie=UTF8&camp=1789&creative=9325&creativeASIN=1591846943&linkCode=as2&tag=theconsim-20&linkId=88feac086be2a46c28909cb9909a6860\">The First 20 Hours: How to Learn Anything . . . Fast!</a><img src=\"//ir-na.amazon-adsystem.com/e/ir?t=theconsim-20&l=am2&o=1&a=1591846943\" width=\"1\" height=\"1\" border=\"0\" alt=\"\" style=\"border:none !important; margin:0px !important;\" />.\n",
    "* Want to have scientific evidence of this method? Read this paper: <a href=\"https://pdfs.semanticscholar.org/6ce5/af5973ecec36eb9c699e7cae739743c8b4b5.pdf\">Cognitive Skill Acquisition</a>."
   ]
  },
  {
   "cell_type": "markdown",
   "metadata": {},
   "source": [
    "### Which robots are you going to use along the course?\n",
    "\n",
    "Along this course you are going to program several robots of several types. Hence, you will be applying the same concepts over and over again, with different configurations and styles of robots. Applying the same concepts on different robots will make the concepts stick into your head."
   ]
  },
  {
   "cell_type": "markdown",
   "metadata": {},
   "source": [
    "The following robots will be used along the course:\n"
   ]
  },
  {
   "cell_type": "markdown",
   "metadata": {
    "caption": "",
    "image": true,
    "name": "kobuki",
    "width": "10cm"
   },
   "source": [
    "<img src=\"img/kobuki.jpg\" width=\"212\" height=\"236\"/>"
   ]
  },
  {
   "cell_type": "markdown",
   "metadata": {},
   "source": [
    "<center><h2>**Kobuki**</h2></center>"
   ]
  },
  {
   "cell_type": "markdown",
   "metadata": {
    "caption": "",
    "image": true,
    "name": "husky",
    "width": "10cm"
   },
   "source": [
    "<img src=\"img/husky.png\" width=\"212\" height=\"236\" />"
   ]
  },
  {
   "cell_type": "markdown",
   "metadata": {},
   "source": [
    "<center><h2>**Husky**</h2></center>"
   ]
  },
  {
   "cell_type": "markdown",
   "metadata": {
    "caption": "",
    "image": true,
    "name": "summit_xl",
    "width": "10cm"
   },
   "source": [
    "<img src=\"img/summit_xl.png\" width=\"212\" height=\"236\" />"
   ]
  },
  {
   "cell_type": "markdown",
   "metadata": {},
   "source": [
    "<center><h2>**Summit XL**</h2></center>"
   ]
  },
  {
   "cell_type": "markdown",
   "metadata": {},
   "source": [
    "## Main Objective of this course"
   ]
  },
  {
   "cell_type": "markdown",
   "metadata": {},
   "source": [
    "* The objective of this course is to give you the basic tools and knowledge to be able to understand and create any basic ROS Navigation related project. You will be able to **create maps of environments, localize the robot in the environment, make the robots perform path planning, visualize data of the different Navigation processes and debug errors using Rviz, configure the different Navigation nodes...**\n",
    "* The course will allow you to **understand Navigation packages that others have done**. So you can take ROS code made by others and understand what is happening and how to modify it for your own purposes.\n",
    "* This course can serve as an introduction to be able to better understand the official ROS Navigation documentation or external Navigation documentation and projects."
   ]
  },
  {
   "cell_type": "markdown",
   "metadata": {},
   "source": [
    "## Learning ROS Navigation: attack in two ways"
   ]
  },
  {
   "cell_type": "markdown",
   "metadata": {},
   "source": [
    "The course provides teaching lessons in <span class=\"ign_red\">two different ways</span>:<br>\n",
    "\n",
    "1. <span class=\"ign_green\">**Learn ROS Navigation programming several robots**</span>: This part consists of units that each one teaches you some topic of ROS Navigation. But you will learn creating and executing code while using different robots for it (the robots above).<span class=\"ign_blue\">Theory through hands on experience</span>.\n",
    "2. <span class=\"ign_green\">**Apply what you learnt to a Robot Project**</span>: Here you will apply what you have learnt in the previous units by attacking a <span class=\"ign_blue\">full project controlling a Summit XL robot</span>. The objective is to make the Summit XL navigate to different spots of the environment autonomously."
   ]
  },
  {
   "cell_type": "markdown",
   "metadata": {
    "caption": "The Project of the course",
    "image": true,
    "name": "nav_project",
    "width": "16cm"
   },
   "source": [
    "<img src=\"img/nav_project.png\" />"
   ]
  },
  {
   "cell_type": "markdown",
   "metadata": {},
   "source": [
    "### Learning ROS Navigation by programming several robots:"
   ]
  },
  {
   "cell_type": "markdown",
   "metadata": {},
   "source": [
    "We will teach you the main ROS concepts that are the core of ROS Navigation. These are the most important concepts that you have to master. Once you master them, the rest of ROS Navigation can follow easily.\n",
    "\n",
    "Along the units of this course, you will learn:<br>\n",
    "\n",
    "* Unit 1: How **ROS Navigation Basic Structure** works.\n",
    "* Unit 2: How to create a **Map** of the environment.\n",
    "* Unit 3: How to **Localize** a robot in an environment.\n",
    "* Unit 4: How to **Plan a Trajectory** in this environment.\n",
    "* Unit 5: How to **Execute a Trajectory** and **Avoid Obstacles** while performing this trajectory."
   ]
  },
  {
   "cell_type": "markdown",
   "metadata": {},
   "source": [
    "Each Unit is meant to be done in around <span class=\"ign_green\">one session of about 4-5 hours</span>. We will use Python language to teach you and to program the robots."
   ]
  },
  {
   "cell_type": "markdown",
   "metadata": {},
   "source": [
    "### Apply what you learnt to a Robot Project:"
   ]
  },
  {
   "cell_type": "markdown",
   "metadata": {},
   "source": [
    "As you master the different concepts of ROS Navigation, you will have to apply your learning in a complete robot project. \n",
    "We suggest that you combine the learning of the lessons with progressing on the project. That is why, we have divided the project into 4 sessions:<br>\n",
    "\n",
    "* Project Section 1: Create a Map of the environment you want to navigate.\n",
    "* Project Section 2: Create a service that when used it reads the current pose of the robot and it saves it with a label.\n",
    "* Project Section 3: Configure and test the Path Planning System for your robot.\n",
    "* Project Section 4: Create a global program that receives an string indicating an specific label, and navigates the robot to the pose assigned to that label."
   ]
  },
  {
   "cell_type": "markdown",
   "metadata": {},
   "source": [
    "### <span id=\"how_to_proceed\" >How to proceed with the whole course?</span>"
   ]
  },
  {
   "cell_type": "markdown",
   "metadata": {},
   "source": [
    "The course has been designed to allow you to complete the whole thing in only 5 days, dedicating 6 hours of work per day.\n",
    "\n",
    "However, **YOU ARE NOT REQUIRED TO DO THE COURSE IN 5 DAYS!** You can do it in as many days as you want, because **this is a self paced course** and you wont be restricted in the time of usage.\n",
    "\n",
    "In any case, if you decide to take our proposal of 5 days we recommend you to follow this order:<br>"
   ]
  },
  {
   "cell_type": "markdown",
   "metadata": {},
   "source": [
    "* **DAY 1**\n",
    "\n",
    "  * Unit 1: How ROS Navigation Basic Structure works, <span class=\"ign_blue\">Time: 3h</span>\n",
    "  * <span style=\"color:green;\">Start</span> Unit 2: Mapping,<span style=\"color:blue;\">Time: 1h</span>\n",
    "  * Work on Project Section 1, <span style=\"color:blue;\">Time: 2h</span>\n",
    "\n",
    "\n",
    "* **DAY 2**\n",
    "\n",
    "  * <span style=\"color:red;\">Finish </span>Unit 2: Mapping, <span style=\"color:blue;\">Time: 3h</span>\n",
    "  * <span style=\"color:green;\">Start</span> Unit 3: Localization, <span style=\"color:blue;\">Time: 1h</span>\n",
    "  * Finish Project Section 1, <span style=\"color:blue;\">Time: 2h</span>\n",
    "\n",
    "\n",
    "* **DAY 3**\n",
    "\n",
    "  * <span style=\"color:red;\">Finish </span>Unit 3: Localization, <span style=\"color:blue;\">Time: 3h</span>\n",
    "  * <span style=\"color:green;\">Start</span> Unit 4: Path Planning Part 1, <span style=\"color:blue;\">Time: 1h</span>\n",
    "  * Finish Project Section 2, <span style=\"color:blue;\">Time: 2h</span>\n",
    "\n",
    "\n",
    "* **DAY 4**\n",
    "\n",
    "  * <span style=\"color:red;\">Finish </span>Unit 4: Path Planning Part 1, <span style=\"color:blue;\">Time: 3h</span>\n",
    "  * <span style=\"color:green;\">Start </span>Unit 5: Path Planning Part 2, <span style=\"color:blue;\">Time: 1h</span>\n",
    "  * Finish Project Section 3, <span style=\"color:blue;\">Time: 2h</span>\n",
    "\n",
    "\n",
    "* **DAY 5**\n",
    "\n",
    "  * <span style=\"color:red;\">Finish </span>Unit 5: Path Planning Part 2, <span style=\"color:blue;\">Time: 4h</span>\n",
    "  * Finish Project Section 4, <span style=\"color:blue;\">Time: 3h</span>"
   ]
  },
  {
   "cell_type": "markdown",
   "metadata": {},
   "source": [
    "The most important thing that must take into account is:\n",
    "\n",
    "<p style=\"color:red;\" align=\"center\">**DO NOT SKIP EXERCISES.**</p>\n",
    "\n",
    "Exercises are the core of this teaching method (remember, practice, practice, practice). If you avoid them, you will be missing the whole thing."
   ]
  },
  {
   "cell_type": "markdown",
   "metadata": {},
   "source": [
    "### Where to go when finished"
   ]
  },
  {
   "cell_type": "markdown",
   "metadata": {},
   "source": [
    "Once you have finished the course, you can still learn a lot of interesting subjects of ROS.\n",
    "\n",
    "* Take more advanced courses we offer at <a href=\"http://www.robotigniteacademy.com/\">Ignite Academy</a>, like  Perception or Manipulation.\n",
    "* You can apply all you have learned in the free development environment of the <a href=\"http://rds.theconstructsim.com\">ROS Development Studio</a> and create your own programs for ROS based robots.\n",
    "* You can download simulation robot models to practice in a local installation of ROS through <a href=\"http://www.theconstructsim.com/shop-landing-page-default/\">Robository</a>.\n",
    "* Or you can go to the <a href=\"http://wiki.ros.org/\">ROS Wiki</a> and check the official documentation of ROS, now with different eyes."
   ]
  }
 ],
 "metadata": {
  "anaconda-cloud": {},
  "kernelspec": {
   "display_name": "Python [Root]",
   "language": "python",
   "name": "Python [Root]"
  },
  "language_info": {
   "codemirror_mode": {
    "name": "ipython",
    "version": 2
   },
   "file_extension": ".py",
   "mimetype": "text/x-python",
   "name": "python",
   "nbconvert_exporter": "python",
   "pygments_lexer": "ipython2",
   "version": "2.7.12"
  },
  "latex_metadata": {
   "chapter": "0 - Introduction to the Course",
   "chapter_title": "Unit 0. Introduction to the Course",
   "course_title": "ROS NAVIGATION IN 5 DAYS"
  }
 },
 "nbformat": 4,
 "nbformat_minor": 1
}
