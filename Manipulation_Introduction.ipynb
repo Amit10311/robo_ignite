{
 "cells": [
  {
   "cell_type": "markdown",
   "metadata": {},
   "source": [
    "# Introduction"
   ]
  },
  {
   "cell_type": "markdown",
   "metadata": {},
   "source": [
    "Welcome to the fourth volume of the <b>In 5 Days</b> series of books for learning ROS."
   ]
  },
  {
   "cell_type": "markdown",
   "metadata": {},
   "source": [
    "If the first volume was dedicated to learning the basics of ROS (<i>ROS Basics in 5 days</i>), the second volume was dedicated to teach you how to use ROS for making a robot navigate in an environment (<i>ROS Navigation in 5 days</i>), the third volume was dedicated to teach how to make your robot perceive the world using ROS packages (<i>ROS Perception in 5 Days</i>), this fourth volume is dedicated to <b>make your robot able to grasp objects</b>.<br>\n",
    "<br>\n",
    "At present, making a robot interact with the environment is the final frontier in autonomy of robots. This is one of the most interesting skills for a robot because it allows it to really do tasks in human environment. If we achieve to make a robot grasp objects, then it will be able to clean rooms, bring stuff to the owner or go shopping for us.\n",
    "\n",
    "In this book you are going to learn how to use grasping algorithms on a ROS based robot. You will learn how to make the robot plan an arm trajectory to a given location by using MoveIt! and also programmatically. You will learn to add perception to the grasping system to avoid obstacles while planning an arm movement. You will also learn how to do a proper grasp of an object. "
   ]
  },
  {
   "cell_type": "markdown",
   "metadata": {},
   "source": [
    "In order to have a good grasping system, robots need to have three things: the proper sensors to perceive the object to grasp and the obstacles around, a robotic arm equipped with a gripper and the good algorithms to make sense of the sensed :-). This book is about how to program a robot grasp objects <b>on a robot equipped with a robotic arm with gripper, a camera and point cloud device</b>. That, we found, is the most common and basic setup for grasping robots."
   ]
  },
  {
   "cell_type": "markdown",
   "metadata": {
    "caption": "Robotic Hand",
    "image": true,
    "name": "manipulation_1",
    "width": "15cm"
   },
   "source": [
    "<img src=\"img/manipulation_1.png\">"
   ]
  },
  {
   "cell_type": "markdown",
   "metadata": {},
   "source": [
    "Even if we only concentrate in teaching about ROS based manipulation, the task is not simple and it will require you 5 days of full work to understand and make it work for your robot."
   ]
  },
  {
   "cell_type": "markdown",
   "metadata": {},
   "source": [
    "* On day one, you will learn basics concepts about manipulation and grasping, as well as how to <b>create a MoveIt! package for a robotic arm</b>.\n",
    "* On day two, you will learn to <b>perform motion planning of the arm programmatically</b>.\n",
    "* Day three wil be dedicated to <b>add perception to the grasping pipeline</b>, so the robot can avoid obstacles in the arm tajectory.\n",
    "* Finally days four and five will be for <b>doing grasping with the gripper</b>."
   ]
  },
  {
   "cell_type": "markdown",
   "metadata": {},
   "source": [
    "As you will see in Chapter 0, the whole book is structured on different chapters with a suggested time of completion. Follow the suggestions of that chapter if you want to maximize your learning experience. But do not stress too much if you cannot follow that rhythm. After all is just a suggestion."
   ]
  },
  {
   "cell_type": "markdown",
   "metadata": {},
   "source": [
    "### Simulations"
   ]
  },
  {
   "cell_type": "markdown",
   "metadata": {},
   "source": [
    "You are going to learn all the material using robot simulations. Robot simulations allow you to practice and see the results of your programming in real time, while you are learning and doing your tests. Simulations are also very convenient because those allow us to work with any robot of the world."
   ]
  },
  {
   "cell_type": "markdown",
   "metadata": {},
   "source": [
    "So for each chapter of the book you are going to need to launch a simulation and do your exercises with it. For that purpose we have prepared an online platform called the <a href=\"http://rds.theconstructsim.com\">ROS Development Studio </a>(RDS).<br><br>\n",
    "Using the RDS, you can develop all the exercises of the book and launch the simulations without having to install anything in your computer, being the only requirement to have a web browser. Since you will be developing online with the browser, you can use any type of computer to program ROS and launch simulations.<br><br>\n",
    "So go now to the RDS and create a free account."
   ]
  },
  {
   "cell_type": "markdown",
   "metadata": {
    "caption": "RDS Environment",
    "image": true,
    "name": "manipulation_2",
    "width": "15cm"
   },
   "source": [
    "<img src=\"img/manipulation_2.png\">"
   ]
  },
  {
   "cell_type": "markdown",
   "metadata": {},
   "source": [
    "Once you have an account on RDS, you will have to open the **ROSjects** that we will provide to you for each Chapter. In the next Chapter, you have a complete guide about **ROSjects** and how to launch them.\n",
    "\n",
    "We recommend that you perform all the exercises in the RDS using the free account, so you can see the results in the simulated robot with minimum hasle."
   ]
  },
  {
   "cell_type": "markdown",
   "metadata": {},
   "source": [
    "Regarding the debate about simulations versus real robots, our suggestion is that, once you understand a perception concept, get a real robot and try to apply to it (if you have the chance). Simulations are very good for learning and testing, but nothing replaces the experience of using a real robot."
   ]
  },
  {
   "cell_type": "markdown",
   "metadata": {},
   "source": [
    "Now is your turn to start learning. Go for it. Remember that we are here to answer your questions and doubts (contact us at feedback@theconstructsim.com). And remember that you can <b>become a ROS master</b> by studying the rest of subjects that can be found in our other books:\n",
    "\n",
    "* ROS Basics in 5 days\n",
    "* ROS Navigation in 5 days\n",
    "* ROS Perception in 5 days\n",
    "\n",
    "**Keep pushing your ROS learning!**"
   ]
  }
 ],
 "metadata": {
  "anaconda-cloud": {},
  "kernelspec": {
   "display_name": "Python [Root]",
   "language": "python",
   "name": "Python [Root]"
  },
  "language_info": {
   "codemirror_mode": {
    "name": "ipython",
    "version": 2
   },
   "file_extension": ".py",
   "mimetype": "text/x-python",
   "name": "python",
   "nbconvert_exporter": "python",
   "pygments_lexer": "ipython2",
   "version": "2.7.12"
  },
  "latex_metadata": {
   "chapter": "i - Introduction",
   "chapter_title": "Introduction",
   "course_title": "ROS MANIPULATION IN 5 DAYS"
  }
 },
 "nbformat": 4,
 "nbformat_minor": 2
}
