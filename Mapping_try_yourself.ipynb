{
 "cells": [
  {
   "cell_type": "markdown",
   "metadata": {},
   "source": [
    "# ROS Navigation"
   ]
  },
  {
   "cell_type": "markdown",
   "metadata": {},
   "source": [
    "# Unit 2: Mapping"
   ]
  },
  {
   "cell_type": "markdown",
   "metadata": {
    "caption": "",
    "image": true,
    "name": "cafe1",
    "width": "15cm"
   },
   "source": [
    "<img src=\"img/cafe1.png\" width=\"1000\"></img>"
   ]
  },
  {
   "cell_type": "markdown",
   "metadata": {},
   "source": [
    "<p style=\"background:green;color:white;\">**SUMMARY**</p>"
   ]
  },
  {
   "cell_type": "markdown",
   "metadata": {},
   "source": [
    "Estimated time of completion: **2 hours**<br><br>What will you learn with this unit?\n",
    "\n",
    "* What means Mapping in ROS Navigation\n",
    "* How does ROS Mapping work\n",
    "* How to configure ROS to make mapping work with almost any robot\n",
    "* Different ways to build a Map"
   ]
  },
  {
   "cell_type": "markdown",
   "metadata": {},
   "source": [
    "<p style=\"background:green;color:white;\">**END OF SUMMARY**</p>"
   ]
  },
  {
   "cell_type": "markdown",
   "metadata": {},
   "source": [
    "If you completed successfully the previous Unit (Basic Concepts), you must now know at least this ONE THING. **In order to perform autonomous Navigation, the robot MUST have a map of the environment**. The robot will use this map for many things such as planning trajectories, avoiding obstacles, etc.\n",
    "\n",
    "You can either give the robot a prebuilt map of the environment (in the rare case that you already have one with the proper format), or you can build one by yourself. This second option is the most frequent one. So in this Unit, we will basically show you **HOW to create a map from zero**."
   ]
  },
  {
   "cell_type": "markdown",
   "metadata": {},
   "source": [
    "Before starting, though, you need to be introduced properly to a very important tool in ROS Navigation. I'm talking, of course, about **RViz**. In the 1st Chapter you already used it to visualize the whole process of ROS Navigation. In this chapter, you're going to learn how to use it in order to visualize the Mapping process."
   ]
  },
  {
   "cell_type": "markdown",
   "metadata": {},
   "source": [
    "## Visualize Mapping in Rviz"
   ]
  },
  {
   "cell_type": "markdown",
   "metadata": {},
   "source": [
    "As you've already seen, you can launch RViz and add displays in order to watch the Mapping progress. For Mapping, you'll basically need to use 2 displays of RViz:\n",
    "\n",
    "* **LaserScan Display**\n",
    "* **Map Display**\n",
    "\n",
    "<p style=\"color:green;\">**NOTE**: There is an optional display that you may want to add to Rviz in order to make things clearer: the **Robot Model**. This display will show you the model of the robot through RViz, allowing you to see how the robot is moving around the map that it is constructing. It is also useful to detect errors.</p>\n",
    "<br>\n",
    "Follow the steps in the next exercise in order to learn how to add these displays."
   ]
  },
  {
   "cell_type": "markdown",
   "metadata": {},
   "source": [
    "<p style=\"background:#EE9023;color:white;\">**Exercise 2.1**</p><br>\n",
    "a) Execute the following command in order to launch the **slam_gmapping** node. We need to have this node running in order to visualize the map.\n",
    "<table style=\"float:left;background: #407EAF\">\n",
    "<tr>\n",
    "<th>\n",
    "<p class=\"transparent\">Execute in WebShell #1</p>\n",
    "</th>\n",
    "</tr>\n",
    "</table>\n",
    "<br>"
   ]
  },
  {
   "cell_type": "code",
   "execution_count": null,
   "metadata": {
    "collapsed": true
   },
   "outputs": [],
   "source": [
    "roslaunch turtlebot_navigation_gazebo gmapping_demo.launch"
   ]
  },
  {
   "cell_type": "markdown",
   "metadata": {},
   "source": [
    "b) Hit the icon with a screen in the top-right corner of the IDE window "
   ]
  },
  {
   "cell_type": "markdown",
   "metadata": {
    "caption": "Graphic Interface icon",
    "image": true,
    "name": "font-awesome_desktop",
    "width": "1.3cm"
   },
   "source": [
    "<img src=\"img/font-awesome_desktop.png\"/> "
   ]
  },
  {
   "cell_type": "markdown",
   "metadata": {},
   "source": [
    "in order to open the Graphic Interface."
   ]
  },
  {
   "cell_type": "markdown",
   "metadata": {},
   "source": [
    "c) Execute the following command in order to launch Rviz.\n",
    "<table style=\"float:left;background: #407EAF\">\n",
    "<tr>\n",
    "<th>\n",
    "<p class=\"transparent\">Execute in WebShell #2</p>\n",
    "</th>\n",
    "</tr>\n",
    "</table>"
   ]
  },
  {
   "cell_type": "code",
   "execution_count": null,
   "metadata": {
    "collapsed": true
   },
   "outputs": [],
   "source": [
    "rosrun rviz rviz"
   ]
  },
  {
   "cell_type": "markdown",
   "metadata": {},
   "source": [
    "d) Follow the next steps in order Add a **LaserScan** display to RViz."
   ]
  },
  {
   "cell_type": "markdown",
   "metadata": {},
   "source": [
    "#### Visualize LaserScan"
   ]
  },
  {
   "cell_type": "markdown",
   "metadata": {},
   "source": [
    "1.- Click the **Add** button under Displays and choose the LaserScan display."
   ]
  },
  {
   "cell_type": "markdown",
   "metadata": {},
   "source": [
    "<div style=\"text-align: left;\">\n",
    "<img src=\"img/mapping_add_button.png\" width=\"300\" style=\"float: left; margin: 0px 0px 15px 15px;\"/>\n",
    "<img src=\"img/mapping_laserscan_display.png\" width=\"400\" style=\"float: left; margin: 0px 0px 15px 60px;\"/>\n",
    "</div>"
   ]
  },
  {
   "cell_type": "markdown",
   "metadata": {},
   "source": [
    "2.- In the Laser Scan display properties, introduce the name of the topic where the laser is publishing its data (in this case, it's **/kobuki/laser/scan**)."
   ]
  },
  {
   "cell_type": "markdown",
   "metadata": {},
   "source": [
    "<img src=\"img/mapping_laser_topic.png\" width=\"400\" />"
   ]
  },
  {
   "cell_type": "markdown",
   "metadata": {},
   "source": [
    "3.- In Global Options, change the Fixed Frame to **odom**."
   ]
  },
  {
   "cell_type": "markdown",
   "metadata": {},
   "source": [
    "<img src=\"img/mapping_global_frame.png\" width=\"400\" />"
   ]
  },
  {
   "cell_type": "markdown",
   "metadata": {},
   "source": [
    "4.- To see the robot in the Rviz, you can choose to also add the **RobotModel** display. This will display the current situation of the robot on the screen. You can also try to display all the reference frames of the robot by adding to Rviz the TF displays.\n",
    "\n",
    "5.- The laser \"map\" that is built will disappear over time, because Rviz can only buffer a finite number of laser scans."
   ]
  },
  {
   "cell_type": "markdown",
   "metadata": {},
   "source": [
    "#### Visualize Map"
   ]
  },
  {
   "cell_type": "markdown",
   "metadata": {},
   "source": [
    "1. Click the Add button and add the Map display.\n",
    "2. In the Map display properties, set the topic to **/map**."
   ]
  },
  {
   "cell_type": "markdown",
   "metadata": {},
   "source": [
    "Now you will be able to properly visualize the Mapping progress through RViz"
   ]
  },
  {
   "cell_type": "markdown",
   "metadata": {},
   "source": [
    "<p style=\"background:#3B8F10;color:white;\">**Data for Exercise 2.1**</p>\n",
    "<br>\n",
    "Check the following Notes in order to complete the Exercise:\n",
    "<br><br>\n",
    "**Note 1**: You can change the way you visualize these elements by modifying some properties in the left panel.<br>\n",
    "**Note 2**: For example, set the size of the Laser scan to 0.05 to make the laser ray thicker.<br>\n",
    "<img src=\"img/laserscan_map_properties.png\" width=\"300\"></img>"
   ]
  },
  {
   "cell_type": "markdown",
   "metadata": {},
   "source": [
    "<p style=\"background:#AE0202;color:white;\">**Expected Result for Exercise 2.1**</p>"
   ]
  },
  {
   "cell_type": "markdown",
   "metadata": {},
   "source": [
    "RobotModel plus LaserScan visualization through RViz:"
   ]
  },
  {
   "cell_type": "markdown",
   "metadata": {
    "caption": "Laser visualization in RViz",
    "image": true,
    "name": "rviz_laserscan",
    "width": "10cm"
   },
   "source": [
    "<img src=\"img/rviz_laserscan.png\" width=\"500\"></img>"
   ]
  },
  {
   "cell_type": "markdown",
   "metadata": {},
   "source": [
    "RobotModel plus Map and LaserScan visualization through RViz:"
   ]
  },
  {
   "cell_type": "markdown",
   "metadata": {
    "caption": "Laser and Map visualization in RViz",
    "image": true,
    "name": "rviz_map",
    "width": "10cm"
   },
   "source": [
    "<img src=\"img/rviz_map.png\" width=\"500\"></img>"
   ]
  },
  {
   "cell_type": "markdown",
   "metadata": {},
   "source": [
    "<p style=\"background:#EE9023;color:white;\">**End of Exercise 2.1**</p>"
   ]
  },
  {
   "cell_type": "markdown",
   "metadata": {},
   "source": [
    "Now that you already know how to configure RViz in order to visualize the Mapping process, you're ready to create your own Map.\n",
    "<br><br>\n",
    "But first, let's see one last utility that RViz has and that will be very useful for us. In the exercise above, you've added to RViz various displays in order to be able to visualize different elements in the simulation. You also modified some things in the configuration of these displays. But... if you now close RViz, and relaunch it later, all these changes you've done will be lost, so you'll have to configure it all again. That doesn't sounds good at all, right?"
   ]
  },
  {
   "cell_type": "markdown",
   "metadata": {},
   "source": [
    "### Saving RViz configuration"
   ]
  },
  {
   "cell_type": "markdown",
   "metadata": {},
   "source": [
    "Fortunately, RViz allows you to **save your current configuration**, so you can recover it anytime you want. In order, to do so, follow the next steps:\n",
    "\n",
    "1. Go to the top left corner of the RViz screen, and open the <i>File</i> menu. Select the <i>Save Config As</i> option.\n",
    "<img src=\"img/rviz_save_config.png\" width=\"300\"></img>\n",
    "\n",
    "2. Write the name you want for your configuration file, and press <i>Save</i>.\n",
    "\n",
    "Now, you'll be able to load your saved configuration anytime you want by selecting the <i>Open Config</i> option in the <i>File</i> menu."
   ]
  },
  {
   "cell_type": "markdown",
   "metadata": {},
   "source": [
    "<p style=\"background:#EE9023;color:white;\">**Exercise 2.2**</p>"
   ]
  },
  {
   "cell_type": "markdown",
   "metadata": {},
   "source": [
    "<p style=\"color:red;\">**IMPORTANT: Before starting with this Exercise, make sure your Rviz is properly configurated in order to visualize the Mapping process.**</p>"
   ]
  },
  {
   "cell_type": "markdown",
   "metadata": {},
   "source": [
    "a) Execute the following command in order to start moving the robot around the environment.\n",
    "\n",
    "<table style=\"float:left;background: #407EAF\">\n",
    "<tr>\n",
    "<th>\n",
    "<p class=\"transparent\">Execute in WebShell #3</p>\n",
    "</th>\n",
    "</tr>\n",
    "</table>"
   ]
  },
  {
   "cell_type": "code",
   "execution_count": null,
   "metadata": {
    "collapsed": true
   },
   "outputs": [],
   "source": [
    "roslaunch turtlebot_teleop keyboard_teleop.launch"
   ]
  },
  {
   "cell_type": "markdown",
   "metadata": {},
   "source": [
    "b) Move around the whole room until you have created a **FULL MAP** of the environment."
   ]
  },
  {
   "cell_type": "markdown",
   "metadata": {},
   "source": [
    "<p style=\"background:#3B8F10;color:white;\">**Data for Exercise 2.2**</p>\n",
    "<br>\n",
    "Check the following Notes in order to complete the Exercise:\n",
    "<br><br>\n",
    "**Note 1**: Due to the way this simulation environment is built, you won't be able to enter the Kitchen. Don't worry about this issue and keep mapping the rest of the space.<br>\n",
    "**Note 2**: Remember to keep an eye at RViz so you can see if the map is being built properly or if, otherwise, you're leaving some zones without mapping.<br>"
   ]
  },
  {
   "cell_type": "markdown",
   "metadata": {},
   "source": [
    "<p style=\"background:#AE0202;color:white;\">**Expected Result for Exercise 2.2**</p>"
   ]
  },
  {
   "cell_type": "markdown",
   "metadata": {
    "caption": "Map Completed",
    "image": true,
    "name": "my_map",
    "width": "10cm"
   },
   "source": [
    "<img src=\"img/my_map.png\" width=\"800\"></img>"
   ]
  },
  {
   "cell_type": "markdown",
   "metadata": {},
   "source": [
    "<p style=\"background:#EE9023;color:white;\">**End of Exercise 2.2**</p>"
   ]
  },
  {
   "cell_type": "markdown",
   "metadata": {},
   "source": [
    "Ok so... what has just happened? In order to better understand the whole process, let's first introduce two concepts."
   ]
  },
  {
   "cell_type": "markdown",
   "metadata": {},
   "source": [
    "## SLAM"
   ]
  },
  {
   "cell_type": "markdown",
   "metadata": {},
   "source": [
    "Simultaneous Localization and Mapping (SLAM). This is the name that defines the robotic problem of **building a map of an unknown environment while simultaneously keeping track of the robot's location on the map that is being built**. This is basically the problem that Mapping is solving. The next Unit (Localization) is also involved, but we'll get there later.\n",
    "\n",
    "So, summarizing, **we need to do SLAM in order to create a Map for the robot**."
   ]
  },
  {
   "cell_type": "markdown",
   "metadata": {},
   "source": [
    "## The gmapping package"
   ]
  },
  {
   "cell_type": "markdown",
   "metadata": {},
   "source": [
    "The gmapping ROS package is an implementation of a specific SLAM algorithm called <i><a href=\"https://www.openslam.org/gmapping.html\">gmapping</a></i>. This means that, <a href=\"http://wiki.ros.org/slam_gmapping\">somebody</a> has implemented the gmapping algorithm for you to use inside ROS, without having to code it yourself. So if you use the ROS Navigation stack, you only need to know (and have to worry about) how to configure gmapping for your specific robot (which is precisely what you'll learn in this Chapter).\n",
    "<br><br>\n",
    "The gmapping package contains a ROS Node called **slam_gmapping**, which allows you to create a 2D map using the laser and pose data that your mobile robot is providing while moving around an environment.  This node **basically reads data from the laser and the transforms of the robot, and turns it into an occupancy grid map** (OGM)."
   ]
  },
  {
   "cell_type": "markdown",
   "metadata": {},
   "source": [
    "So basically, what you've just done in the previous exercise was the following:\n",
    "\n",
    "1. You used a previously created configuration launch file (**<i>gmapping_demo.launch</i>**) to launch the **gmapping** package with the Kobuki robot.\n",
    "2. That launch file started a **slam_gmapping node** (from the gmapping package). Then you moved the robot around the room.\n",
    "3. Then ,the slam_gmapping node **subscribed to the Laser (/kobuki/laser/scan) and the Transform Topics (/tf)** in order to get the data it needs, and it built a map.\n",
    "4. The generated map is published during the whole process into the **/map** topic, which is the reason you could see the process of building the map with Rviz (because Rviz just visualizes topics).\n",
    "\n",
    "The /map topic uses a message type of **nav_msgs/OccupancyGrid**, since it is an OGM. Occupancy is represented as an integer in the range {0, 100}. With 0 meaning completely free, 100 meaning completely occupied, and the special value of -1 for completely unknown."
   ]
  },
  {
   "cell_type": "markdown",
   "metadata": {},
   "source": [
    "Amazing, right?\n",
    "<br><br>\n",
    "Now, you may be worrying that you only had to do a roslaunch in order to have the robot generating the map.\n",
    "\n",
    "* What if your Kobuki does not have the laser at the center?\n",
    "* What if instead of a laser, you are using a Kinect?\n",
    "* What if you want to use the mapping with a different robot than Kobuki?\n",
    "\n",
    "In order to be able to answer those questions, you still need to learn some things first.\n",
    "\n",
    "Let's start by seeing what you can do with the Map you've just created."
   ]
  },
  {
   "cell_type": "markdown",
   "metadata": {},
   "source": [
    "## Saving the map"
   ]
  },
  {
   "cell_type": "markdown",
   "metadata": {},
   "source": [
    "Another of the packages available in the ROS Navigation Stack is the **map_server package**. This package provides the **map_saver node**, which allows us to access the map data from a ROS Service, and save it into a file."
   ]
  },
  {
   "cell_type": "markdown",
   "metadata": {},
   "source": [
    "When you request the map_saver to save the current map, the map data is saved into two files: one is the YAML file, which contains the map metadata and the image name, and second is the image itself, which has the encoded data of the occupancy grid map. "
   ]
  },
  {
   "cell_type": "markdown",
   "metadata": {},
   "source": [
    "### Command to save the map "
   ]
  },
  {
   "cell_type": "markdown",
   "metadata": {},
   "source": [
    "We can save the built map at anytime by using the following command:"
   ]
  },
  {
   "cell_type": "code",
   "execution_count": null,
   "metadata": {
    "collapsed": true
   },
   "outputs": [],
   "source": [
    "rosrun map_server map_saver -f name_of_map"
   ]
  },
  {
   "cell_type": "markdown",
   "metadata": {},
   "source": [
    "This command will get the map data from the map topic, and write it out into 2 files, **name_of_map.pgm** and **name_of_map.yaml**."
   ]
  },
  {
   "cell_type": "markdown",
   "metadata": {},
   "source": [
    "<p style=\"background:#EE9023;color:white;\">**Exercise 2.3**</p>"
   ]
  },
  {
   "cell_type": "markdown",
   "metadata": {},
   "source": [
    "a) Save the map created in the previous exercise into a file.\n",
    "<table style=\"float:left;background: #407EAF\">\n",
    "<tr>\n",
    "<th>\n",
    "<p class=\"transparent\">Execute in WebShell #4</p>\n",
    "</th>\n",
    "</tr>\n",
    "</table>\n",
    "<br>"
   ]
  },
  {
   "cell_type": "code",
   "execution_count": null,
   "metadata": {
    "collapsed": true
   },
   "outputs": [],
   "source": [
    "rosrun map_server map_saver -f my_map"
   ]
  },
  {
   "cell_type": "markdown",
   "metadata": {},
   "source": [
    "b) Go to the IDE and look for the files created, **my_map.pgm** and **my_map.yaml**. Open both of them and check what they contain."
   ]
  },
  {
   "cell_type": "markdown",
   "metadata": {},
   "source": [
    "<p style=\"background:#3B8F10;color:white;\">**Data for Exercise 2.3**</p>\n",
    "<br>\n",
    "Check the following Notes in order to complete the Exercise:\n",
    "<br><br>\n",
    "**Note 1**: The -f attribute allows you to give the files a custom name. By default (if you don't use the -f attribute), the names of the file would be map.pgm and map.yaml.\n",
    "\n",
    "**Note 2**: Remember that, in order to be able to visualize the files generated through RViz, these files must be at the **/home/user/catkin_ws/src** directory. The files will be initially saved in the directory where you execute the command.\n",
    "\n",
    "**Note 3**: You can download the files to your computer by right-clicking them, and selecting the 'Download' option."
   ]
  },
  {
   "cell_type": "markdown",
   "metadata": {},
   "source": [
    "<p style=\"background:#AE0202;color:white;\">**Expected Result for Exercise 2.3**</p>"
   ]
  },
  {
   "cell_type": "markdown",
   "metadata": {},
   "source": [
    "Image (PGM) File of the Map:"
   ]
  },
  {
   "cell_type": "markdown",
   "metadata": {
    "caption": "PGM File of the Map",
    "image": true,
    "name": "my_map_image",
    "width": "10cm"
   },
   "source": [
    "<img style=\"float:left;\" src=\"img/my_map_image.png\" width=\"400\"></img>"
   ]
  },
  {
   "cell_type": "markdown",
   "metadata": {},
   "source": [
    "YAML File of the Map."
   ]
  },
  {
   "cell_type": "markdown",
   "metadata": {
    "caption": "YAML File of the Map",
    "image": true,
    "name": "my_map_txt",
    "width": "10cm"
   },
   "source": [
    "<img style=\"float:left;\" src=\"img/my_map_txt.png\" width=\"400\"></img>"
   ]
  },
  {
   "cell_type": "markdown",
   "metadata": {},
   "source": [
    "<p style=\"background:#EE9023;color:white;\">**End of Exercise 2.3**</p>"
   ]
  },
  {
   "cell_type": "markdown",
   "metadata": {},
   "source": [
    "### YAML File"
   ]
  },
  {
   "cell_type": "markdown",
   "metadata": {
    "collapsed": true
   },
   "source": [
    "In order to visualize the YAML file generated in the previous exercise, you can do one of the following things:\n",
    "\n",
    "* Open it through the IDE. In order to be able to do this, the file must be in your **<i>catwin_ws/src</i>** directory.\n",
    "* Open it through the Web Shell. You can use, for instance, the vi editor to do so typing the command **<i>vi my_map.yaml</i>**.\n",
    "* Download the file and visualize it in your local computer with your own text editor."
   ]
  },
  {
   "cell_type": "markdown",
   "metadata": {
    "caption": "",
    "image": true,
    "name": "map_ide",
    "width": "8cm"
   },
   "source": [
    "<img src=\"img/map_ide.png\" width=\"400\"></img>"
   ]
  },
  {
   "cell_type": "markdown",
   "metadata": {},
   "source": [
    "The YAML File generated will contain the 6 following fields:\n",
    "\n",
    "* **image**: Name of the file containing the image of the generated Map.\n",
    "* **resolution**: Resolution of the map (in meters/pixel).\n",
    "* **origin**: Coordinates of the lower-left pixel in the map. This coordinates are given in 2D (x,y). The third value indicates the rotation. If there's no rotation, the value will be 0.\n",
    "* **occupied_thresh**: Pixels which have a value greater than this value will be considered as a completely occupied zone.\n",
    "* **free_thresh**: Pixels which have a value smaller than this value will be considered as a completely free zone.\n",
    "* **negate**: Inverts the colours of the Map. By default, white means completely free and black means completely occupied."
   ]
  },
  {
   "cell_type": "markdown",
   "metadata": {},
   "source": [
    "### Image File (PGM)"
   ]
  },
  {
   "cell_type": "markdown",
   "metadata": {
    "collapsed": true
   },
   "source": [
    "In order to visualize the PGM file generated in the previous exercise, you can do one of the following things:\n",
    "\n",
    "* Open it through the IDE. In order to be able to do this, the file must be in your **<i>catwin_ws/src</i>** directory.\n",
    "* Open it through the Web Shell. You can use, for instance, the vi editor to do so typing the command **<i>vi my_map.pgm</i>**.\n",
    "* Download the file and visualize it in your local computer with your own text editor."
   ]
  },
  {
   "cell_type": "markdown",
   "metadata": {},
   "source": [
    "What happens? Anything strange? Are you able to understand the file content? I'm sure you are not! If you try to visualize this file with a text editor, you'll get something similar to this:"
   ]
  },
  {
   "cell_type": "markdown",
   "metadata": {
    "caption": "",
    "image": true,
    "name": "map_pgm_ide",
    "width": "8cm"
   },
   "source": [
    "<img src=\"img/map_pgm_ide.png\" width=\"400\"></img>"
   ]
  },
  {
   "cell_type": "markdown",
   "metadata": {},
   "source": [
    "But this doesn't give us any useful information. Can you guess what's happening? This happens because this is not a text file, but a PGM (Portable Gray Map) file. A PGM is a file that represents a grayscale image. So, if you want to visualize this file properly, you should open it with an image editor. Then, you'll get something like this:\n"
   ]
  },
  {
   "cell_type": "markdown",
   "metadata": {
    "caption": "",
    "image": true,
    "name": "map_image",
    "width": "8cm"
   },
   "source": [
    "<img src=\"img/map_image.png\" width=\"400\"></img>"
   ]
  },
  {
   "cell_type": "markdown",
   "metadata": {},
   "source": [
    "The image describes the occupancy state of each cell of the world in the color of the corresponding pixel. **Whiter pixels are free**, **blacker pixels are occupied**, and **pixels in between are unknown**. Color and grayscale images are accepted, but most maps are gray (even though they may be stored as if in color). Thresholds in the YAML file are used to divide the three categories.\n",
    "\n",
    "When communicated via ROS messages, occupancy is represented as an integer in the range [0,100], with **0 meaning completely free and 100 meaning completely occupied, and the special value -1 for completely unknown**.\n",
    "\n",
    "Image data is read in via SDL_Image; supported formats vary, depending on what SDL_Image provides on a specific platform. Generally speaking, most popular image formats are widely supported."
   ]
  },
  {
   "cell_type": "markdown",
   "metadata": {},
   "source": [
    "<p style=\"color:red;\">**NOTE: A notable exception is that PNG is not supported on OS X.**</p>"
   ]
  },
  {
   "cell_type": "markdown",
   "metadata": {},
   "source": [
    "## Providing the map"
   ]
  },
  {
   "cell_type": "markdown",
   "metadata": {},
   "source": [
    "Besides the map_saver node, the map_server package also provides the **map_server node**. This node reads a map file from the disk and provides the map to any other node that requests it via a ROS Service."
   ]
  },
  {
   "cell_type": "markdown",
   "metadata": {},
   "source": [
    "Many nodes request to the **map_server** the current map in which the robot is moving. This request is done, for instance, by the move_base node in order to get data from a map and use it to perform Path Planning, or by the localization node in order to figure out where in the map the robot is. You'll see examples of this usage in following chapters."
   ]
  },
  {
   "cell_type": "markdown",
   "metadata": {},
   "source": [
    "The service to call in order to get the map is:\n",
    "\n",
    "* **static_map (nav_msgs/GetMap)**: Provides the map occupancy data through this service."
   ]
  },
  {
   "cell_type": "markdown",
   "metadata": {},
   "source": [
    "Apart from requesting the map through the service above, there are two latched topics that you can connect in order to get a ROS message with the map. The topics at which this node writes the map data are:"
   ]
  },
  {
   "cell_type": "markdown",
   "metadata": {},
   "source": [
    "* **map_metadata (nav_msgs/MapMetaData): **Provides the map metadata through this topic.\n",
    "* **map (nav_msgs/OccupancyGrid): **Provides the map occupancy data through this topic."
   ]
  },
  {
   "cell_type": "markdown",
   "metadata": {
    "collapsed": true
   },
   "source": [
    "<p style=\"color:green;\">**NOTE**: When a topic is latched, it means that the last message published to that topic will be saved. That means, any node that listens to this topic in the future will get this last message, even if nobody is publishing to this topic anymore. In order to specify that a topic will be latched, you just have to set the <i>latch</i> attribute to true when creating the topic.</p>"
   ]
  },
  {
   "cell_type": "markdown",
   "metadata": {},
   "source": [
    "### Command to launch the map server node"
   ]
  },
  {
   "cell_type": "markdown",
   "metadata": {},
   "source": [
    "To launch the map_server node in order to provide information of a map given a map file, use the following command:"
   ]
  },
  {
   "cell_type": "code",
   "execution_count": null,
   "metadata": {
    "collapsed": true
   },
   "outputs": [],
   "source": [
    "rosrun map_server map_server map_file.yaml"
   ]
  },
  {
   "cell_type": "markdown",
   "metadata": {},
   "source": [
    "<p style=\"color:red;\">**Remember**: You must have created the map (the map_file.yaml file) previously with the gmapping node. You can't provide a map that you haven't created!</p>"
   ]
  },
  {
   "cell_type": "markdown",
   "metadata": {},
   "source": [
    "<p style=\"background:#EE9023;color:white;\">**Exercise 2.4**</p>"
   ]
  },
  {
   "cell_type": "markdown",
   "metadata": {},
   "source": [
    "<p style=\"color:red;\">**IMPORTANT: Make sure to stop all the programs running in your Web Shells (by pressing Ctrl+C) before starting with this exercise.**</p>"
   ]
  },
  {
   "cell_type": "markdown",
   "metadata": {},
   "source": [
    "a) Launch the map_server node using the command tool shown above. Use the map file you've created in Exercise 2.3.\n",
    "<table style=\"float:left;background: #407EAF\">\n",
    "<tr>\n",
    "<th>\n",
    "<p class=\"transparent\">Execute in WebShell #1</p>\n",
    "</th>\n",
    "</tr>\n",
    "</table>"
   ]
  },
  {
   "cell_type": "code",
   "execution_count": null,
   "metadata": {
    "collapsed": true
   },
   "outputs": [],
   "source": [
    "rosrun map_server map_server my_map.yaml"
   ]
  },
  {
   "cell_type": "markdown",
   "metadata": {},
   "source": [
    "b) Get information of the map by accessing the topics introduced above."
   ]
  },
  {
   "cell_type": "markdown",
   "metadata": {},
   "source": [
    "<p style=\"background:#3B8F10;color:white;\">**Data for Exercise 2.4**</p>\n",
    "<br>\n",
    "Check the following Notes in order to complete the Exercise:\n",
    "<br><br>\n",
    "**Note 1**: If you launch the command from the directory where you have the map file saved, you don't have to specify the full path to the file. If you aren't in the same directory, bear in mind that you'll have to specify the full path to the file."
   ]
  },
  {
   "cell_type": "markdown",
   "metadata": {},
   "source": [
    "<p style=\"background:#AE0202;color:white;\">**Expected Result for Exercise 2.4**</p>"
   ]
  },
  {
   "cell_type": "markdown",
   "metadata": {},
   "source": [
    "Echo of the /map_metadata topic:"
   ]
  },
  {
   "cell_type": "markdown",
   "metadata": {
    "caption": "map metadata topic",
    "image": true,
    "name": "echo_map_metadata",
    "width": "10cm"
   },
   "source": [
    "<img style=\"float:left;\" src=\"img/echo_map_metadata.png\" width=\"400\"></img>"
   ]
  },
  {
   "cell_type": "markdown",
   "metadata": {},
   "source": [
    "Echo of the /map topic:"
   ]
  },
  {
   "cell_type": "markdown",
   "metadata": {
    "caption": "map topic",
    "image": true,
    "name": "echo_map",
    "width": "10cm"
   },
   "source": [
    "<img style=\"float:left;\" src=\"img/echo_map.png\" width=\"600\"></img>"
   ]
  },
  {
   "cell_type": "markdown",
   "metadata": {},
   "source": [
    "<p style=\"background:#EE9023;color:white;\">**End of Exercise 2.4**</p>"
   ]
  },
  {
   "cell_type": "markdown",
   "metadata": {},
   "source": [
    "<p style=\"background:#EE9023;color:white;\">**Exercise 2.5**</p>"
   ]
  },
  {
   "cell_type": "markdown",
   "metadata": {},
   "source": [
    "Create a launch file that launches the map_server node."
   ]
  },
  {
   "cell_type": "markdown",
   "metadata": {},
   "source": [
    "a) Create a package named **provide_map**."
   ]
  },
  {
   "cell_type": "markdown",
   "metadata": {},
   "source": [
    "b) Inside this package, create a launch file that will launch the map_server node in order to provide the map you've created."
   ]
  },
  {
   "cell_type": "markdown",
   "metadata": {},
   "source": [
    "c) Execute your launch file, and check if the map is being provided by accessing the proper topics."
   ]
  },
  {
   "cell_type": "markdown",
   "metadata": {},
   "source": [
    "<p style=\"background:#3B8F10;color:white;\">**Data for Exercise 2.5**</p>\n",
    "<br>\n",
    "Check the following Notes in order to complete the Exercise:\n",
    "<br><br>\n",
    "**Note 1**: In order to provide the map file, you'll have to add the path to your map as an argument of the &lt;node&gt; tag."
   ]
  },
  {
   "cell_type": "markdown",
   "metadata": {},
   "source": [
    "<p style=\"background:#AE0202;color:white;\">**Expected Result for Exercise 2.5**</p>"
   ]
  },
  {
   "cell_type": "markdown",
   "metadata": {},
   "source": [
    "Echo of the /map_metadata topic:"
   ]
  },
  {
   "cell_type": "markdown",
   "metadata": {
    "caption": "map metadata topic",
    "image": true,
    "name": "echo_map_metadata",
    "width": "10cm"
   },
   "source": [
    "<img style=\"float:left;\" src=\"img/echo_map_metadata.png\" width=\"400\"></img>"
   ]
  },
  {
   "cell_type": "markdown",
   "metadata": {},
   "source": [
    "Echo of the /map topic:"
   ]
  },
  {
   "cell_type": "markdown",
   "metadata": {
    "caption": "map topic",
    "image": true,
    "name": "echo_map",
    "width": "10cm"
   },
   "source": [
    "<img style=\"float:left;\" src=\"img/echo_map.png\" width=\"600\"></img>"
   ]
  },
  {
   "cell_type": "markdown",
   "metadata": {},
   "source": [
    "<p style=\"background:#EE9023;color:white;\">**End of Exercise 2.5**</p>"
   ]
  },
  {
   "cell_type": "markdown",
   "metadata": {},
   "source": [
    "In the previous exercise you've seen the topics at which the map_server node writes in order to provide the map data. But as we said previously, this node also allows to get this data from a service. The service it uses to provide the map data is the following:"
   ]
  },
  {
   "cell_type": "markdown",
   "metadata": {},
   "source": [
    "* **static_map (nav_msgs/GetMap)**: Provides the map occupancy data through this service."
   ]
  },
  {
   "cell_type": "markdown",
   "metadata": {},
   "source": [
    "<p style=\"background:#EE9023;color:white;\">**Exercise 2.6**</p><br>\n",
    "Using a Web Shell, perform a call to the service introduced above in order to get data from the map.\n",
    "<table style=\"float:left;background: #407EAF\">\n",
    "<tr>\n",
    "<th>\n",
    "<p class=\"transparent\">Execute in WebShell #1</p>\n",
    "</th>\n",
    "</tr>\n",
    "</table>\n",
    "<br>"
   ]
  },
  {
   "cell_type": "code",
   "execution_count": null,
   "metadata": {
    "collapsed": true
   },
   "outputs": [],
   "source": [
    "rosservice call /static_map \"{}\""
   ]
  },
  {
   "cell_type": "markdown",
   "metadata": {},
   "source": [
    "<p style=\"background:#AE0202;color:white;\">**Expected Result for Exercise 2.6**</p>"
   ]
  },
  {
   "cell_type": "markdown",
   "metadata": {},
   "source": [
    "Service call to /static_map:"
   ]
  },
  {
   "cell_type": "markdown",
   "metadata": {
    "caption": "Service call to static map",
    "image": true,
    "name": "service_static_map",
    "width": "10cm"
   },
   "source": [
    "<img style=\"float:left;\" src=\"img/service_static_map.png\" width=\"600\"></img>"
   ]
  },
  {
   "cell_type": "markdown",
   "metadata": {},
   "source": [
    "<p style=\"background:#EE9023;color:white;\">**End of Exercise 2.6**</p>"
   ]
  },
  {
   "cell_type": "markdown",
   "metadata": {},
   "source": [
    "<p style=\"background:#EE9023;color:white;\">**Exercise 2.7**</p>"
   ]
  },
  {
   "cell_type": "markdown",
   "metadata": {},
   "source": [
    "Create a Service Client that calls to this service."
   ]
  },
  {
   "cell_type": "markdown",
   "metadata": {},
   "source": [
    "a) Create a new package named **get_map_data**. Add rospy as a dependency."
   ]
  },
  {
   "cell_type": "markdown",
   "metadata": {},
   "source": [
    "b) Inside this package, create a file named **call_map_service.py**. Inside this file, write the code of your Service Client. This Service Client will call the **/static_map** service in order to get the map data, and then it will print the dimensions and resolution of the map in the screen."
   ]
  },
  {
   "cell_type": "markdown",
   "metadata": {},
   "source": [
    "c) Create a launch file for your Service Client, and test that it works properly."
   ]
  },
  {
   "cell_type": "markdown",
   "metadata": {},
   "source": [
    "<p style=\"background:#EE9023;color:white;\">**End of Exercise 2.7**</p>"
   ]
  },
  {
   "cell_type": "markdown",
   "metadata": {},
   "source": [
    "<p style=\"background:purple;color:white;\">**IMPORTANT REMARKS**</p>"
   ]
  },
  {
   "cell_type": "markdown",
   "metadata": {},
   "source": [
    "Having shown how to create a map of an environment with a robot, you must understand the following:\n",
    "\n",
    "* The map that you created is a **static map**. This means that the map will always stay as it was when you created it. So when you create a Map, it will capture the environment as it is at the exact moment that the mapping process is being performed. If for any reason, the environment changes in the future, these changes won't appear on the map, hence it won't be valid anymore (or it won't correspond to the actual environment).\n",
    "<br><br>\n",
    "* The map that you created is a **2D Map**. This means that, the obstacles that appear on the map don't have height. So if, for instance, you try to use this map to navigate with a drone, it won't be valid. There exist packages that allow you to generate 3D mappings, but this issue won't be covered in this Course. If you're interested in this topic, you can have a look at the following link: http://wiki.ros.org/rtabmap_ros/Tutorials/MappingAndNavigationOnTurtlebot"
   ]
  },
  {
   "cell_type": "markdown",
   "metadata": {},
   "source": [
    "<p style=\"background:purple;color:white;\">**END OF IMPORTANT REMARK**</p>"
   ]
  },
  {
   "cell_type": "markdown",
   "metadata": {},
   "source": [
    "## Hardware Requirements"
   ]
  },
  {
   "cell_type": "markdown",
   "metadata": {},
   "source": [
    "Another thing you should have learnt from the previous Unit, is that **configuration** is VERY IMPORTANT in order to build a proper Map. Without a good configuration of your robot, you won't get a good Map of the environment. And without a good Map of the environment, you won't be able to Navigate properly.\n",
    "<br><br>\n",
    "So, in order to build a proper Map, you need to fulfill these 2 requirements:\n",
    "\n",
    "1. Provide Good Laser Data\n",
    "2. Provide Good Odometry Data"
   ]
  },
  {
   "cell_type": "markdown",
   "metadata": {},
   "source": [
    "The slam_gmapping node will then try to transform each incoming laser reading to the odom frame."
   ]
  },
  {
   "cell_type": "markdown",
   "metadata": {},
   "source": [
    "<p style=\"background:#EE9023;color:white;\">**Exercise 2.8**</p>"
   ]
  },
  {
   "cell_type": "markdown",
   "metadata": {},
   "source": [
    "a) Make sure that your robot is publishing this data and identify the topic it is using in order to publish the data."
   ]
  },
  {
   "cell_type": "markdown",
   "metadata": {},
   "source": [
    "b) When you've identified the topics, check the structure of the messages of these topics."
   ]
  },
  {
   "cell_type": "markdown",
   "metadata": {},
   "source": [
    "<p style=\"background:#AE0202;color:white;\">**Expected Result for Exercise 2.8**</p>"
   ]
  },
  {
   "cell_type": "markdown",
   "metadata": {},
   "source": [
    "Topics list:"
   ]
  },
  {
   "cell_type": "markdown",
   "metadata": {
    "caption": "Topics List",
    "image": true,
    "name": "topic_list_mapping",
    "width": "8cm"
   },
   "source": [
    "<img style=\"float:left;\" src=\"img/topic_list_mapping.png\" width=\"300\"></img>"
   ]
  },
  {
   "cell_type": "markdown",
   "metadata": {},
   "source": [
    "echo /odom:"
   ]
  },
  {
   "cell_type": "markdown",
   "metadata": {
    "caption": "Odometry Message",
    "image": true,
    "name": "odom_msg",
    "width": "8cm"
   },
   "source": [
    "<img style=\"float:left;\" src=\"img/odom_msg.png\" width=\"300\"></img>"
   ]
  },
  {
   "cell_type": "markdown",
   "metadata": {},
   "source": [
    "echo /kobuki/laser/scan:"
   ]
  },
  {
   "cell_type": "markdown",
   "metadata": {
    "caption": "Laser Message",
    "image": true,
    "name": "echo_laserscan",
    "width": "12cm"
   },
   "source": [
    "<img style=\"float:left;\" src=\"img/echo_laserscan.png\" width=\"600\"></img>"
   ]
  },
  {
   "cell_type": "markdown",
   "metadata": {},
   "source": [
    "<p style=\"background:#EE9023;color:white;\">**End of Exercise 2.8**</p>"
   ]
  },
  {
   "cell_type": "markdown",
   "metadata": {},
   "source": [
    "### Transforms"
   ]
  },
  {
   "cell_type": "markdown",
   "metadata": {},
   "source": [
    "In the previous exercise you had the robot transforms properly configured, so you can trust that the laser readings will be correctly transformed into the Odom frame. But will this always be like this? NO, it doesn't have to.\n",
    "<br><br>\n",
    "In order to be able to use the laser readings, we need to set a transform between the laser and the robot base, and add it to the transform tree. Transform? Transform tree? What are you talking about?\n",
    "<br><br>\n",
    "Ok, let's clarify all this. So we have a Kobuki Robot with a laser mounted on it, right? But, **in order to be able to use the laser data, we need to tell the robot WHERE (position and orientation) this laser is mounted in the robot**. This is what is called a **<i>transform between frames</i>**. \n",
    "\n",
    "A transform specifies how data expressed in a frame can be transformed into a different frame. For instance, if you detect an obstacle with the laser at 3 cm in the front, this means that it is 3 cm from the laser, but not from the center of the robot (that is usually called the **<i>/base_link</i>**). To know the distance from the center of the robot, you need to **<i>transform</i> the 3 cm from the <i>/laser_frame</i> to the <i>/base_link</i>** frame (which is actually what the Path Planning system needs to know, what is the distance from the center of the robot to the obstacle).\n",
    "\n",
    "Don't you think so? If we don't provide this information to the robot, when the laser detects an object, how can the robot know where this object is? Is it in front of the robot? Is it behind? Is it to the right? There's no way the robot can know it if we don't tell the robot the **POSITION and the ORIENTATION** of the laser regarding to the center of the robot. In order to do this, we need to do the following:\n",
    "<br><br>\n",
    "First, we'll define two frames (coordinate frames), one at the center of the laser and another one at the center of the robot. For navigation, it is important that the center of the robot is placed at the **rotational center** of the robot. We'll name the laser frame as <i>base_laser</i> and the robot frame as <i>base_link</i>.\n",
    "\n",
    "Here you can see an scheme of how it would look like:"
   ]
  },
  {
   "cell_type": "markdown",
   "metadata": {
    "caption": "TF Diagram",
    "image": true,
    "name": "tf_diagram",
    "width": "8cm"
   },
   "source": [
    "<img src=\"img/tf_diagram.png\" width=\"400\"></img>"
   ]
  },
  {
   "cell_type": "markdown",
   "metadata": {},
   "source": [
    "For instance, in the case of the Kobuki robot that you are using in this Chapter, the frames looks like this:"
   ]
  },
  {
   "cell_type": "markdown",
   "metadata": {
    "caption": "TFs in RViz",
    "image": true,
    "name": "base_laser_tfs",
    "width": "7cm"
   },
   "source": [
    "<img src=\"img/base_laser_tfs.png\" width=\"250\"></img>"
   ]
  },
  {
   "cell_type": "markdown",
   "metadata": {},
   "source": [
    "Now, we need to define a relationship (in terms of position and orientation) between the <i>base_laser</i> and the <i>base_link</i>.\n",
    "For instance, we know that the <i>base_laser frame</i> is at a distance of 20 cm in the <i>y</i> axis and 10 cm in the <i>x</i> axis referring the <i>base_link frame</i>. Then we'll have to provide this relationship to the robot.\n",
    "**This relationship between the position of the laser and the base of the robot is known in ROS as the TRANSFORM between the laser and the robot**."
   ]
  },
  {
   "cell_type": "markdown",
   "metadata": {},
   "source": [
    "For the slam_gmapping node to work properly, you will need to provide 2 transforms:\n",
    "\n",
    "* **the frame attached to laser -> base_link**: Usually a fixed value, broadcast periodically by a robot_state_publisher, or a tf static_transform_publisher.\n",
    "* **base_link -> odom**: Usually provided by the Odometry system"
   ]
  },
  {
   "cell_type": "markdown",
   "metadata": {},
   "source": [
    "Since the robot needs to be able to access this information anytime, we will publish this information to a **transform tree**. The transform tree is like a database where we can find information about all the transformations between the different frames (elements) of the robot."
   ]
  },
  {
   "cell_type": "markdown",
   "metadata": {},
   "source": [
    "You can visualize the transform tree of your running system anytime by using the following command:"
   ]
  },
  {
   "cell_type": "code",
   "execution_count": null,
   "metadata": {
    "collapsed": true
   },
   "outputs": [],
   "source": [
    "rosrun tf view_frames"
   ]
  },
  {
   "cell_type": "markdown",
   "metadata": {},
   "source": [
    "This command will generate a pdf file containing a graph with the transform tree of your system."
   ]
  },
  {
   "cell_type": "markdown",
   "metadata": {},
   "source": [
    "<p style=\"background:#EE9023;color:white;\">**Exercise 2.9**</p><br>\n",
    "Execute the following commands in order to visualize the transform tree of your system.\n",
    "\n",
    "<table style=\"float:left;background: #407EAF\">\n",
    "<tr>\n",
    "<th>\n",
    "<p class=\"transparent\">Execute in WebShell #1</p>\n",
    "<br>\n",
    "</th>\n",
    "</tr>\n",
    "</table>\n",
    "<br>"
   ]
  },
  {
   "cell_type": "code",
   "execution_count": null,
   "metadata": {
    "collapsed": true
   },
   "outputs": [],
   "source": [
    "roscd\n",
    "cd ..\n",
    "cd src\n",
    "rosrun tf view_frames"
   ]
  },
  {
   "cell_type": "markdown",
   "metadata": {},
   "source": [
    "Download this file to your computer using the IDE <i>Download</i> option, and open it. Check if the required transforms of the slam_gmapping node are there."
   ]
  },
  {
   "cell_type": "markdown",
   "metadata": {},
   "source": [
    "<p style=\"background:#3B8F10;color:white;\">**Data for Exercise 2.9**</p>\n",
    "<br>\n",
    "Check the following Notes in order to complete the Exercise:\n",
    "<br><br>\n",
    "**Note 1**: You can download the files to your computer by right-clicking them on the IDE, and selecting the **Download** option."
   ]
  },
  {
   "cell_type": "markdown",
   "metadata": {},
   "source": [
    "<p style=\"background:#AE0202;color:white;\">**Expected Result for Exercise 2.9**</p>"
   ]
  },
  {
   "cell_type": "markdown",
   "metadata": {
    "caption": "Frames Tree PDF",
    "image": true,
    "name": "frames_pdf",
    "width": "13cm"
   },
   "source": [
    "<img style=\"\" src=\"img/frames_pdf.png\" width=\"800\"></img>"
   ]
  },
  {
   "cell_type": "markdown",
   "metadata": {},
   "source": [
    "<p style=\"background:#EE9023;color:white;\">**End of Exercise 2.9**</p>"
   ]
  },
  {
   "cell_type": "markdown",
   "metadata": {
    "collapsed": true
   },
   "source": [
    "Now, let's imagine you just mounted the laser on your robot, so the transform between your laser and the base of the robot is not set. What could you do? There are basically 2 ways of publishing a transform:\n",
    "\n",
    "* Use a **static_transform_publisher**\n",
    "* Use a **transform broadcaster**"
   ]
  },
  {
   "cell_type": "markdown",
   "metadata": {},
   "source": [
    "In this Course, we'll use the static_transform_publisher, since it's the fastest way. The static_transform_publisher is a ready-to-use node that allows us to directly publish a transform by simply using the command line. The structure of the command is the next one:"
   ]
  },
  {
   "cell_type": "code",
   "execution_count": null,
   "metadata": {
    "collapsed": true
   },
   "outputs": [],
   "source": [
    "static_transform_publisher x y z yaw pitch roll frame_id child_frame_id period_in_ms"
   ]
  },
  {
   "cell_type": "markdown",
   "metadata": {},
   "source": [
    "Where:\n",
    "\n",
    "* **x, y, z** are the offsets in meters\n",
    "* **yaw, pitch, roll** are the rotation in radians\n",
    "* **period_in_ms** specifies how often to send the transform"
   ]
  },
  {
   "cell_type": "markdown",
   "metadata": {},
   "source": [
    "You can also create a launch file that launches the command above, specifying the different values in the following way:"
   ]
  },
  {
   "cell_type": "code",
   "execution_count": null,
   "metadata": {
    "collapsed": true
   },
   "outputs": [],
   "source": [
    "<launch>\n",
    "    <node pkg=\"tf\" type=\"static_transform_publisher\" name=\"name_of_node\" \n",
    "          args=\"x y z yaw pitch roll frame_id child_frame_id period_in_ms\">\n",
    "    </node>\n",
    "</launch>"
   ]
  },
  {
   "cell_type": "markdown",
   "metadata": {},
   "source": [
    "<p style=\"background:#EE9023;color:white;\">**Exercise 2.10**</p><br>\n",
    "Create a package and a launch file in order to launch a static_transform_publisher node. This node should publish the transform between the Kinect camera mounted on the robot and the base link of the robot."
   ]
  },
  {
   "cell_type": "markdown",
   "metadata": {},
   "source": [
    "Generate again the frames graph you got in the previous exercise and check if the new transform is being published."
   ]
  },
  {
   "cell_type": "markdown",
   "metadata": {},
   "source": [
    "<p style=\"background:#AE0202;color:white;\">**Expected Result for Exercise 2.10**</p>"
   ]
  },
  {
   "cell_type": "markdown",
   "metadata": {
    "caption": "Kinect Camera Link",
    "image": true,
    "name": "kinect_link",
    "width": "13cm"
   },
   "source": [
    "<img style=\"\" src=\"img/kinect_link.png\" width=\"800\"></img>"
   ]
  },
  {
   "cell_type": "markdown",
   "metadata": {},
   "source": [
    "<p style=\"background:#EE9023;color:white;\">**End of Exercise 2.10**</p>"
   ]
  },
  {
   "cell_type": "markdown",
   "metadata": {},
   "source": [
    "<p style=\"background:purple;color:white;\">**IMPORTANT REMARK**</p>"
   ]
  },
  {
   "cell_type": "markdown",
   "metadata": {},
   "source": [
    "Having shown how to create a transform broadcaster, let me tell you a secret. This is not something that you'll usually have to do. Yeah, I'm really sorry.\n",
    "<br><br>\n",
    "In the previous Chapter (Basic Concepts), you learned that the description of the robot model is made in the URDF files, right? Well, the **publication of the transforms is also handled by the URDF files**. At least, this is the common use. There exist, though, some cases where you do have to publish a transform separately from the URDF files. For instance:\n",
    "\n",
    "* If you temporarily add a sensor to the robot. That is, you add a sensor that will be used during a few days, and then it will be removed again. In a case like this, instead of changing the URDF files of the robot (which will probably be more cumbersome), you'll just create a transform broadcaster to add the transform of this new sensor.\n",
    "<br>\n",
    "* You have a sensor that is external from your robot (and static). For instance, check the following scenario:"
   ]
  },
  {
   "cell_type": "markdown",
   "metadata": {
    "caption": "IRI Wam with external Kinect Camera",
    "image": true,
    "name": "iri_wam",
    "width": "10cm"
   },
   "source": [
    "<img src=\"img/iri_wam.png\" width=\"400\"></img>"
   ]
  },
  {
   "cell_type": "markdown",
   "metadata": {},
   "source": [
    "You have a robotic arm and, separated from it, you also have a Kinect camera, which provides information about the table to the robotic arm. In a case like this, you won't specify the transforms of the Kinect camera in the URDF files of the robot, since it's not a part of the robot. You'll also use a separated transform broadcaster."
   ]
  },
  {
   "cell_type": "markdown",
   "metadata": {},
   "source": [
    "<p style=\"background:purple;color:white;\">**END OF IMPORTANT REMARK**</p>"
   ]
  },
  {
   "cell_type": "markdown",
   "metadata": {},
   "source": [
    "## Creating a launch file for the slam_gmapping node"
   ]
  },
  {
   "cell_type": "markdown",
   "metadata": {},
   "source": [
    "At this point, I think you're prepared to create the launch file in order to start the **slam_gmapping** node. The main task to create this launch file, as you may imagine, is to correctly set the parameters for the slam_gmapping node. This node is highly configurable and has lots of parameters you can change in order to improve the mapping performance. This parameters will be read from the ROS Parameter Server, and can be set either in the launch file itself or in a separated parameter files (YAML file). If you don't set some parameters, it will just take the default values. You can have a look at the complete list of parameters available for the slam_gmapping node here: http://wiki.ros.org/gmapping\n",
    "<br><br>\n",
    "Let's now check some of the most important ones:"
   ]
  },
  {
   "cell_type": "markdown",
   "metadata": {},
   "source": [
    "### General Parameters"
   ]
  },
  {
   "cell_type": "markdown",
   "metadata": {},
   "source": [
    "* **base_frame (default: \"base_link\")**: Indicates the name of the frame attached to the mobile base.\n",
    "* **map_frame (default: \"map\")**: Indicates the name of the frame attached to the map.\n",
    "* **odom_frame (default: \"odom\")**: Indicates the name of the frame attached to the odometry system.\n",
    "* **map_update_interval (default: 5.0)**: Sets the time (in seconds) to wait until update the map."
   ]
  },
  {
   "cell_type": "markdown",
   "metadata": {},
   "source": [
    "<p style=\"background:#EE9023;color:white;\">**Exercise 2.11**</p>"
   ]
  },
  {
   "cell_type": "markdown",
   "metadata": {},
   "source": [
    "<p style=\"color:red;\">**IMPORTANT: Before starting with this Exercise, make sure you've stopped the previously launched slam_gmapping node by pressing Ctrl + C on the console where you executed the command.**</p>"
   ]
  },
  {
   "cell_type": "markdown",
   "metadata": {},
   "source": [
    "a) In the <i>turtlebot_navigation_gazebo</i> package, search for the launch file named **<i>gmapping_demo.launch</i>**. You will see that what this file actually does is to call another launch file named **<i>gmapping.launch.xml</i>**, which is in the <i>turtlebot_navigation</i> package."
   ]
  },
  {
   "cell_type": "markdown",
   "metadata": {},
   "source": [
    "b) Create a new package named **<i>my_mapping_launcher</i>**. Inside this package create a directory named launch, and inside this directory create a file named **<i>my_gmapping_launch.launch</i>**. Inside this file, copy the contents of the **<i>gmapping.launch.xml</i>** file."
   ]
  },
  {
   "cell_type": "markdown",
   "metadata": {},
   "source": [
    "c) Modify the launch file you've just created, and set the **<i>map_update_interval</i>** parameter to 15."
   ]
  },
  {
   "cell_type": "markdown",
   "metadata": {},
   "source": [
    "d) Launch the gmapping node using the new launch file created, and launch Rviz with your previously saved configuration."
   ]
  },
  {
   "cell_type": "markdown",
   "metadata": {},
   "source": [
    "e) Move the robot around and calculate the time that takes to update the map now."
   ]
  },
  {
   "cell_type": "markdown",
   "metadata": {},
   "source": [
    "<p style=\"background:#3B8F10;color:white;\">**Data for Exercise 2.11**</p>\n",
    "<br>\n",
    "Check the following Notes in order to complete the Exercise:\n",
    "<br><br>\n",
    "**Note 1**: Keep in mind that Rviz may have some delay, so the times may not be exact."
   ]
  },
  {
   "cell_type": "markdown",
   "metadata": {},
   "source": [
    "<p style=\"background:#AE0202;color:white;\">**Expected Result for Exercise 2.11**</p>"
   ]
  },
  {
   "cell_type": "markdown",
   "metadata": {},
   "source": [
    "The map now updates every 15 seconds."
   ]
  },
  {
   "cell_type": "markdown",
   "metadata": {},
   "source": [
    "<p style=\"background:#EE9023;color:white;\">**End of Exercise 2.11**</p>"
   ]
  },
  {
   "cell_type": "markdown",
   "metadata": {},
   "source": [
    "### Laser Parameters"
   ]
  },
  {
   "cell_type": "markdown",
   "metadata": {},
   "source": [
    "* **maxRange (float)**: Sets the maximum range of the laser. Set this value to something slightly higher than the real sensor's maximum range.\n",
    "* **maxUrange (default: 80.0)**: Sets the maximum usable range of the laser. The laser beams will be cropped to this value.\n",
    "* **minimumScore (default: 0.0)**: Sets the minimum score to consider a laser reading good."
   ]
  },
  {
   "cell_type": "markdown",
   "metadata": {},
   "source": [
    "<p style=\"background:#EE9023;color:white;\">**Exercise 2.12**</p>"
   ]
  },
  {
   "cell_type": "markdown",
   "metadata": {},
   "source": [
    "<p style=\"color:red;\">**IMPORTANT: Before starting with this Exercise, make sure you've stopped the previously launched slam_gmapping node by pressing Ctrl + C on the console where you executed the command.**</p>"
   ]
  },
  {
   "cell_type": "markdown",
   "metadata": {},
   "source": [
    "a) Modify again this file, and set now the **<i>maxUrange</i>** parameter to 2."
   ]
  },
  {
   "cell_type": "markdown",
   "metadata": {},
   "source": [
    "b) Launch again the node and check what happens now with the mapping area of the robot."
   ]
  },
  {
   "cell_type": "markdown",
   "metadata": {},
   "source": [
    "<p style=\"background:#AE0202;color:white;\">**Expected Result for Exercise 2.12**</p>"
   ]
  },
  {
   "cell_type": "markdown",
   "metadata": {
    "caption": "MaxUrange parameter to 2",
    "image": true,
    "name": "turtlebot_maxurange_2",
    "width": "10cm"
   },
   "source": [
    "<img src=\"img/turtlebot_maxurange_2.png\" width=\"600\"></img>"
   ]
  },
  {
   "cell_type": "markdown",
   "metadata": {},
   "source": [
    "<p style=\"background:#EE9023;color:white;\">**End of Exercise 2.12**</p>"
   ]
  },
  {
   "cell_type": "markdown",
   "metadata": {},
   "source": [
    "### Initial map dimensions and resolutions"
   ]
  },
  {
   "cell_type": "markdown",
   "metadata": {},
   "source": [
    "* **xmin (default: -100.0)**: Initial map size\n",
    "* **ymin (default: -100.0)**: Initial map size\n",
    "* **xmax (default: 100.0)**: Initial map size\n",
    "* **ymax (default: 100.0)**: Initial map size\n",
    "* **delta (default: 0.05)**: Sets the resolution of the map"
   ]
  },
  {
   "cell_type": "markdown",
   "metadata": {},
   "source": [
    "<p style=\"background:#EE9023;color:white;\">**Exercise 2.13**</p>"
   ]
  },
  {
   "cell_type": "markdown",
   "metadata": {},
   "source": [
    "<p style=\"color:red;\">**IMPORTANT: Before starting with this Exercise, make sure you've stopped the previously launched slam_gmapping node by pressing Ctrl + C on the console where you executed the command.**</p>"
   ]
  },
  {
   "cell_type": "markdown",
   "metadata": {},
   "source": [
    "a) Modify again this file, and set now the **<i>xmin, ymin, xmax and ymax</i>** parameters to 100 and -100, respectively."
   ]
  },
  {
   "cell_type": "markdown",
   "metadata": {},
   "source": [
    "b) Launch again the node and check how the initial map looks now."
   ]
  },
  {
   "cell_type": "markdown",
   "metadata": {},
   "source": [
    "<p style=\"background:#AE0202;color:white;\">**Expected Result for Exercise 2.13**</p>"
   ]
  },
  {
   "cell_type": "markdown",
   "metadata": {
    "caption": "Bigger Initial Map Size",
    "image": true,
    "name": "map_init_100",
    "width": "10cm"
   },
   "source": [
    "<img src=\"img/map_init_100.png\" width=\"600\"></img>"
   ]
  },
  {
   "cell_type": "markdown",
   "metadata": {},
   "source": [
    "<p style=\"background:#EE9023;color:white;\">**End of Exercise 2.13**</p>"
   ]
  },
  {
   "cell_type": "markdown",
   "metadata": {},
   "source": [
    "### Other Parameters"
   ]
  },
  {
   "cell_type": "markdown",
   "metadata": {},
   "source": [
    "* **linearUpdate (default: 1.0)**: Sets the linear distance that the robot has to move in order to process a laser reading.\n",
    "* **angularUpdate (default: 0.5)**: Sets the angular distance that the robot has to move in order to process a laser reading.\n",
    "* **temporalUpdate (default: -1.0)**: Sets the time (in seconds) to wait between laser readings. If this value is set to -1.0, then this function is turned off.\n",
    "* **particles (default: 30)**: Number of particles in the filter"
   ]
  },
  {
   "cell_type": "markdown",
   "metadata": {},
   "source": [
    "Now you've already seen (and played with) some of the parameters that take place in the mapping process, it's time to create your own parameters file."
   ]
  },
  {
   "cell_type": "markdown",
   "metadata": {},
   "source": [
    "But first, let me explain you one thing. In the **<i>gmapping_demo.launch</i>** file, the parameters where loaded in the launch file itself, as you've seen. So you changed the parameters directly in the launch file. But this is not the only way you have to load parameters. In fact, parameters are usually loaded from an external file. This file that contains the parameters is usually aa **YAML file**.\n",
    "<br><br>\n",
    "So, you can also write all the parameters in a YAML file, and then load this file (and the parameters) in the launch file just by adding the following line inside the **&lt;node&gt;** tag:"
   ]
  },
  {
   "cell_type": "code",
   "execution_count": null,
   "metadata": {
    "collapsed": true
   },
   "outputs": [],
   "source": [
    "<rosparam file=\"$(find my_mapping_launcher)/params/gmapping_params.yaml\" command=\"load\" />"
   ]
  },
  {
   "cell_type": "markdown",
   "metadata": {},
   "source": [
    "This will have the exact same result as if the parameters are loaded directly through the launch file. And as you will see, it is a much more clean way to do it."
   ]
  },
  {
   "cell_type": "markdown",
   "metadata": {},
   "source": [
    "<p style=\"background:#EE9023;color:white;\">**Exercise 2.15**</p>"
   ]
  },
  {
   "cell_type": "markdown",
   "metadata": {},
   "source": [
    "<p style=\"color:red;\">**IMPORTANT: Before starting with this Exercise, make sure you've stopped the previously launched slam_gmapping node by pressing Ctrl + C on the console where you executed the command.**</p>"
   ]
  },
  {
   "cell_type": "markdown",
   "metadata": {},
   "source": [
    "a) Create a new directory named **<i>params</i>** inside the package created in Exercise 2.11."
   ]
  },
  {
   "cell_type": "markdown",
   "metadata": {},
   "source": [
    "b) Create a YAML file named **<i>gmapping_params.yaml</i>**, and write in all the paremeters you want to set."
   ]
  },
  {
   "cell_type": "markdown",
   "metadata": {},
   "source": [
    "c) Remove all the parameters that are being loaded in the launch file, and load instead the YAML file you've just created."
   ]
  },
  {
   "cell_type": "markdown",
   "metadata": {},
   "source": [
    "d) Launch again the node and check that everything works fine."
   ]
  },
  {
   "cell_type": "markdown",
   "metadata": {},
   "source": [
    "<p style=\"background:#3B8F10;color:white;\">**Data for Exercise 2.15**</p>\n",
    "<br>\n",
    "Check the following Notes in order to complete the Exercise:\n",
    "<br><br>\n",
    "**Note 1**: Remember that in order to set a parameter in the YAML file, you have to use this structure:</i><br>\n",
    "<br>\n",
    "**name_of_paramter: value_of_parameter**"
   ]
  },
  {
   "cell_type": "markdown",
   "metadata": {},
   "source": [
    "<p style=\"background:#EE9023;color:white;\">**End of Exercise 2.15**</p>"
   ]
  },
  {
   "cell_type": "markdown",
   "metadata": {},
   "source": [
    "# Extra content (optional)"
   ]
  },
  {
   "cell_type": "markdown",
   "metadata": {},
   "source": [
    "## Manually modify the map (for convenience)\n",
    "\n",
    "Sometimes, the map that you create will contain stuff that you do not want to be there. For example:\n",
    "\n",
    "1. There could be people detected by the mapping process that has been included in the map. You don't want them on the map as black dots!\n",
    "2. There could be zones where you do not want the robot to move (for instance, avoid the robot going close to down stairs area to prevent it from falling down).\n",
    "\n",
    "For all these cases, you can take the map generated and modify it manually, just by using an image editor. You can include forbidden areas, or delete people and other stuff included in the map."
   ]
  },
  {
   "cell_type": "markdown",
   "metadata": {},
   "source": [
    "<p style=\"background:#EE9023;color:white;\">**Exercise 2.16**</p>"
   ]
  },
  {
   "cell_type": "markdown",
   "metadata": {},
   "source": [
    "a) Download the map file (PGM file) generated in Exercise 2.3 to your local computer"
   ]
  },
  {
   "cell_type": "markdown",
   "metadata": {},
   "source": [
    "b) Open the map with your favourite image editor."
   ]
  },
  {
   "cell_type": "markdown",
   "metadata": {},
   "source": [
    "c) Edit the file in order to prevent the robot to move close to the door."
   ]
  },
  {
   "cell_type": "markdown",
   "metadata": {},
   "source": [
    "<p style=\"background:#AE0202;color:white;\">**Expected Result for Exercise 2.16**</p>"
   ]
  },
  {
   "cell_type": "markdown",
   "metadata": {
    "caption": "Edited Map",
    "image": true,
    "name": "my_map_image-edited",
    "width": "8cm"
   },
   "source": [
    "<img src=\"img/my_map_image-edited.png\" width=\"400\"></img>"
   ]
  },
  {
   "cell_type": "markdown",
   "metadata": {},
   "source": [
    "<p style=\"background:#EE9023;color:white;\">**End of Exercise 2.16**</p>"
   ]
  },
  {
   "cell_type": "markdown",
   "metadata": {},
   "source": [
    "## Build a Map Using Logged Data"
   ]
  },
  {
   "cell_type": "markdown",
   "metadata": {},
   "source": [
    "Until now we've seen how to build a map by moving the robot in real-time. But this is not the only way of creating a map, of course! As you already know, the process of building a map is based on reading the data that is being published in the laser and the transform topics. That's why we were moving the robot around, to publish the data that the robot was getting in real-time while moving. But if we just need some data being published on those topics... doesn't it come to your mind another obvious way of creating a map? That's right! You could just use a bag file in order to publish data on those topics, and therefore build a map.\n",
    "<br><br>\n",
    "In order to build a map using logged data, you will have to follow these 2 steps (which are divided into sub-steps):"
   ]
  },
  {
   "cell_type": "markdown",
   "metadata": {},
   "source": [
    "### 1. Create the bag file"
   ]
  },
  {
   "cell_type": "markdown",
   "metadata": {},
   "source": [
    "In order to create a proper bag file for Mapping, you'll need to follow the next steps:"
   ]
  },
  {
   "cell_type": "markdown",
   "metadata": {},
   "source": [
    "a) First of all, launch your keyboard teleop to start moving the robot:"
   ]
  },
  {
   "cell_type": "code",
   "execution_count": null,
   "metadata": {
    "collapsed": true
   },
   "outputs": [],
   "source": [
    "roslaunch pkg_name keyboard_teleop_launch_file.launch"
   ]
  },
  {
   "cell_type": "markdown",
   "metadata": {},
   "source": [
    "b) Make sure that the robot is publishing its laser data and the tfs."
   ]
  },
  {
   "cell_type": "code",
   "execution_count": null,
   "metadata": {
    "collapsed": true
   },
   "outputs": [],
   "source": [
    "rostopic list"
   ]
  },
  {
   "cell_type": "markdown",
   "metadata": {},
   "source": [
    "c) Start recording scans and transforms (note that the scan topic may vary from robot to robot):\n",
    "\n",
    "[esto no puede funcionar porque no estas grabando la odometria]"
   ]
  },
  {
   "cell_type": "code",
   "execution_count": null,
   "metadata": {
    "collapsed": true
   },
   "outputs": [],
   "source": [
    "rosbag record -O mylaserdata /laser_topic /tf_topic"
   ]
  },
  {
   "cell_type": "markdown",
   "metadata": {},
   "source": [
    "This will start writing a file in the current directory called <i>mylaserdata.bag</i>."
   ]
  },
  {
   "cell_type": "markdown",
   "metadata": {},
   "source": [
    "d) Drive the robot around. General advice:"
   ]
  },
  {
   "cell_type": "markdown",
   "metadata": {},
   "source": [
    "* Try to limit fast rotations, as they are hardest on the scan-matcher. It helps to lower the speed.\n",
    "* Visualize what the robot \"sees\" with its laser; if the laser can't see it, it won't be in the map.\n",
    "* Loop closure is the hardest part; when closing a loop, be sure to drive another 5-10 meters to get plenty of overlap between the start and end of the loop."
   ]
  },
  {
   "cell_type": "markdown",
   "metadata": {},
   "source": [
    "f) Kill the rosbag instance, and note the name of the file that was created."
   ]
  },
  {
   "cell_type": "markdown",
   "metadata": {},
   "source": [
    "<p style=\"background:#EE9023;color:white;\">**Exercise 2.17**</p><br>\n",
    "Create your own bag file by following the steps shown above."
   ]
  },
  {
   "cell_type": "markdown",
   "metadata": {},
   "source": [
    "<p style=\"background:#3B8F10;color:white;\">**Data for Exercise 2.17**</p>\n",
    "<br>\n",
    "Check the following Notes in order to complete the Exercise:\n",
    "<br><br>\n",
    "**Note 1**: In order to be able to see the bag file in the IDE, you have to run the <i>rosbag record</i> command from the catkin_ws/src directory.</i><br>\n",
    "**Note 2**: You can check if a bag file has been created properly by using the next command: <i>rosbag info name_of_bag_file.bag</i>"
   ]
  },
  {
   "cell_type": "markdown",
   "metadata": {},
   "source": [
    "<p style=\"background:#AE0202;color:white;\">**Expected Result for Exercise 2.17**</p>"
   ]
  },
  {
   "cell_type": "markdown",
   "metadata": {
    "caption": "Bag File",
    "image": true,
    "name": "mylaserdata_bag",
    "width": "5cm"
   },
   "source": [
    "<img src=\"img/mylaserdata_bag.png\" width=\"200\"></img>"
   ]
  },
  {
   "cell_type": "markdown",
   "metadata": {},
   "source": [
    "<p style=\"background:#EE9023;color:white;\">**End of Exercise 2.17**</p>"
   ]
  },
  {
   "cell_type": "markdown",
   "metadata": {},
   "source": [
    "### 2. Build the Map"
   ]
  },
  {
   "cell_type": "markdown",
   "metadata": {},
   "source": [
    "Once we have the bag file, we're ready to build the map! In order to do see, you'll need to follow the next steps:"
   ]
  },
  {
   "cell_type": "markdown",
   "metadata": {},
   "source": [
    "a) Start the slam_gmapping node, which will take in laser scans (in this case, on the /kobuki/laser/scan topic) and produce a map:"
   ]
  },
  {
   "cell_type": "code",
   "execution_count": null,
   "metadata": {
    "collapsed": true
   },
   "outputs": [],
   "source": [
    "rosrun gmapping slam_gmapping scan:=kobuki/laser/scan"
   ]
  },
  {
   "cell_type": "markdown",
   "metadata": {},
   "source": [
    "b) Play the bag file to provide data to the slam_gmapping node:"
   ]
  },
  {
   "cell_type": "code",
   "execution_count": null,
   "metadata": {
    "collapsed": true
   },
   "outputs": [],
   "source": [
    "rosbag play name_of_bag_file_created_in_step_1"
   ]
  },
  {
   "cell_type": "markdown",
   "metadata": {},
   "source": [
    "Wait for rosbag to finish and exit."
   ]
  },
  {
   "cell_type": "markdown",
   "metadata": {},
   "source": [
    "c) Save the created map using the map_saver node as shown in previous sections:"
   ]
  },
  {
   "cell_type": "code",
   "execution_count": null,
   "metadata": {
    "collapsed": true
   },
   "outputs": [],
   "source": [
    "rosrun map_server map_saver -f map_name"
   ]
  },
  {
   "cell_type": "markdown",
   "metadata": {},
   "source": [
    "Now you will have 2 files (map_name.pgm and map_name.yaml) that should look the same as the ones you created in Exercise 1.3."
   ]
  },
  {
   "cell_type": "markdown",
   "metadata": {
    "collapsed": true
   },
   "source": [
    "<p style=\"background:#EE9023;color:white;\">**Exercise 2.18**</p><br>\n",
    "Create your own map from the bag file you've created in the previous exercise by following the steps shown above."
   ]
  },
  {
   "cell_type": "markdown",
   "metadata": {},
   "source": [
    "<p style=\"background:#3B8F10;color:white;\">**Data for Exercise 2.18**</p>\n",
    "<br>\n",
    "Check the following Notes in order to complete the Exercise:\n",
    "<br><br>\n",
    "**Note 1**: Remember that the files will be saved to the directory from which you've executed the command."
   ]
  },
  {
   "cell_type": "markdown",
   "metadata": {},
   "source": [
    "<p style=\"background:#AE0202;color:white;\">**Expected Result for Exercise 2.18**</p>"
   ]
  },
  {
   "cell_type": "markdown",
   "metadata": {},
   "source": [
    "Image File:"
   ]
  },
  {
   "cell_type": "markdown",
   "metadata": {
    "caption": "Map Image",
    "image": true,
    "name": "my_map_image",
    "width": "10cm"
   },
   "source": [
    "<img style=\"float:left;\" src=\"img/my_map_image.png\" width=\"500\"></img>"
   ]
  },
  {
   "cell_type": "markdown",
   "metadata": {},
   "source": [
    "YAML File:"
   ]
  },
  {
   "cell_type": "markdown",
   "metadata": {
    "caption": "Map YAML",
    "image": true,
    "name": "my_map_txt",
    "width": "10cm"
   },
   "source": [
    "<img style=\"float:left;\" src=\"img/my_map_txt.png\" width=\"500\"></img>"
   ]
  },
  {
   "cell_type": "markdown",
   "metadata": {},
   "source": [
    "<p style=\"background:#EE9023;color:white;\">**End of Exercise 2.18**</p>"
   ]
  },
  {
   "cell_type": "markdown",
   "metadata": {
    "collapsed": true
   },
   "source": [
    "## Summary"
   ]
  },
  {
   "cell_type": "markdown",
   "metadata": {
    "collapsed": true
   },
   "source": [
    "The very first thing you need in order to navigate is a Map of the environment. You can't navigate if you don't have a Map. Furthermore, this Map does have to be built properly, so it accurately represents the environment you want to navigate."
   ]
  },
  {
   "cell_type": "markdown",
   "metadata": {},
   "source": [
    "In order to create a Map of the environment, ROS provides the slam_gmapping node (of the gmapping package), which is an implementation of the SLAM (Simulatenous Localization and Mapping) algorithm. Basically, this node takes as input the laser and odometry readings of the robot (in order to get data from the environment), and creates a 2D Map. "
   ]
  },
  {
   "cell_type": "markdown",
   "metadata": {},
   "source": [
    "This Map is an occupancy represenation of the environment, so it provides information about the occupancy of each pixel in the Map. When the Map is completely built, you can save it into a file."
   ]
  },
  {
   "cell_type": "markdown",
   "metadata": {},
   "source": [
    "Also bear in mind that you only need the slam_gmapping node (the Mapper), when you are creating a map. Once the map has been created and saved, this node is not necessary anymore, hence it must be killed. At that point, you should launch the map_server node, which is the node that will provide the map that you just created to other nodes."
   ]
  }
 ],
 "metadata": {
  "anaconda-cloud": {},
  "kernelspec": {
   "display_name": "Python [Root]",
   "language": "python",
   "name": "Python [Root]"
  },
  "language_info": {
   "codemirror_mode": {
    "name": "ipython",
    "version": 2
   },
   "file_extension": ".py",
   "mimetype": "text/x-python",
   "name": "python",
   "nbconvert_exporter": "python",
   "pygments_lexer": "ipython2",
   "version": "2.7.12"
  },
  "latex_metadata": {
   "chapter": "2 - Mapping",
   "chapter_title": "Unit 2. Mapping",
   "course_title": "ROS NAVIGATION IN 5 DAYS"
  }
 },
 "nbformat": 4,
 "nbformat_minor": 1
}
