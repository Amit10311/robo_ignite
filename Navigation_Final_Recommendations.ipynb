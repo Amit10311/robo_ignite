{
 "cells": [
  {
   "cell_type": "markdown",
   "metadata": {},
   "source": [
    "# I'm finished, now what?"
   ]
  },
  {
   "cell_type": "markdown",
   "metadata": {},
   "source": [
    "## ROS Development Studio (RDS)"
   ]
  },
  {
   "cell_type": "markdown",
   "metadata": {
    "caption": "RDS logo",
    "image": true,
    "name": "RDS_logo",
    "width": "10cm"
   },
   "source": [
    "<img src=\"img/RDS_logo.png\" width=\"500\"/>"
   ]
  },
  {
   "cell_type": "markdown",
   "metadata": {},
   "source": [
    "* You have plug and play simulations available in <a href=\"http://www.theconstructsim.com/rds-ros-development-studio/\">RosDevelopementStudio</a>  to apply your new Navigation knowledge to new robot simulations."
   ]
  },
  {
   "cell_type": "markdown",
   "metadata": {
    "caption": "RDS Public Simulations",
    "image": true,
    "name": "rds_examples",
    "width": "15cm"
   },
   "source": [
    "<img src=\"img/rds_examples.png\" width=\"800\"/>"
   ]
  },
  {
   "cell_type": "markdown",
   "metadata": {},
   "source": [
    "# Want to learn more?"
   ]
  },
  {
   "cell_type": "markdown",
   "metadata": {
    "caption": "Robot Ignite Logo",
    "image": true,
    "name": "robotignite_logo_text",
    "width": "10cm"
   },
   "source": [
    "<img src=\"img/robotignite_logo_text.png\" width=\"500\"/>"
   ]
  },
  {
   "cell_type": "markdown",
   "metadata": {},
   "source": [
    "Once you have finished the course, you can still learn a lot of interesting ROS subjects.\n",
    "\n",
    "* Take more advanced courses that we offer at <a href=\"http://www.robotigniteacademy.com/\">Ignite Academy</a>, like  Perception or Manipulation.\n",
    "\n",
    "* Or, you can go to the <a href=\"http://wiki.ros.org/\">ROS Wiki</a> and check the official documentation of ROS, now with new eyes.\n",
    "\n",
    "* You can download simulation robot models to practice with in a local installation of ROS through <a href=\"http://www.theconstructsim.com/shop-landing-page-default/\">Robository</a>."
   ]
  },
  {
   "cell_type": "markdown",
   "metadata": {
    "collapsed": true
   },
   "source": [
    "# Thank You and hope to see you soon! "
   ]
  }
 ],
 "metadata": {
  "anaconda-cloud": {},
  "kernelspec": {
   "display_name": "Python [Root]",
   "language": "python",
   "name": "Python [Root]"
  },
  "language_info": {
   "codemirror_mode": {
    "name": "ipython",
    "version": 2
   },
   "file_extension": ".py",
   "mimetype": "text/x-python",
   "name": "python",
   "nbconvert_exporter": "python",
   "pygments_lexer": "ipython2",
   "version": "2.7.12"
  },
  "latex_metadata": {
   "chapter": "Final Recommendations",
   "chapter_title": "Final Recommendations",
   "course_title": "ROS MANIPULATION IN 5 DAYS"
  }
 },
 "nbformat": 4,
 "nbformat_minor": 1
}
