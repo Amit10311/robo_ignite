{
 "cells": [
  {
   "cell_type": "markdown",
   "metadata": {},
   "source": [
    "# Introduction"
   ]
  },
  {
   "cell_type": "markdown",
   "metadata": {},
   "source": [
    "Welcome to the second volume of the **In 5 Days** series of books for learning ROS."
   ]
  },
  {
   "cell_type": "markdown",
   "metadata": {},
   "source": [
    "If the first volume was dedicated to learning the basics of ROS (ROS Basics in 5 days), this second volume is dedicated to teach you **how to use ROS for making a robot navigate in an environment**.<br>\n",
    "<br>\n",
    "Navigation for a robot means, being able to move around a dynamic environment where humans and other dynamic obstacles may be present.\n",
    "In this book you are going to learn how to program a ROS based robot for creating maps of the environment, how to localize itself in that map (that is, how to identify its current position in the environment with a location in the map). You will also learn how to do a plan to go from the current location of the robot to a desired location, and move the robot along that path while avoiding all the obstacles that appear in the middle."
   ]
  },
  {
   "cell_type": "markdown",
   "metadata": {},
   "source": [
    "Navigation is the most basic skill for a service robot since it allows it to move around and reach places where to help. Because of that, the OSRF (the creators of ROS) have put a special attention at providing a system that allows navigation for any wheeled based robot from moment one. The series of ROS packages created to make possible navigation on a robot is called the **ROS navigation stack**. This book is about it, **how to make it work on a wheeled robot equipped with a laser scan**."
   ]
  },
  {
   "cell_type": "markdown",
   "metadata": {
    "caption": "One of the environments you will use in the course",
    "image": true,
    "name": "navigation_1",
    "width": "16cm"
   },
   "source": [
    "<img src=\"img/navigation_1.png\">"
   ]
  },
  {
   "cell_type": "markdown",
   "metadata": {},
   "source": [
    "There are other ways of navigation based in cameras, beacons, GPS, etc. However those methods are not going to be explained here. In this book we concentrate on laser based navigation, which is the method used in the navigation stack, and by hence the more straightforward to use."
   ]
  },
  {
   "cell_type": "markdown",
   "metadata": {},
   "source": [
    "Even if we only concentrate in explaining the navigation stack, the task is not simple and it will require you 5 days of full work to understand and make it work for your robot."
   ]
  },
  {
   "cell_type": "markdown",
   "metadata": {},
   "source": [
    "\n",
    "  * On day one, you will learn some basic concepts about navigation and quickly move to learn how to make your robot build a map of the environment using odometry and laser lectures. This is called **mapping**.\n",
    "  * On day two, you will make use of the  map created on the previous day to make the robot identify in which part of the map corresponds to its location in the real space. This is called **localization**.\n",
    "  * Then, on day three, four and five you will learn how to make the robot move from one location to another while avoiding obstacles. This is by far the most complicated part of the course and that is why you will need three days to get it right. This part, builds on the previous two and add a ton of new concepts and configurations. You will use the previous map created on day 1 and you will have to make the robot localize in that map as learnt in day 2. On top of that, you will have to configure the **move_base** system that is the one that actually makes the robot move.\n"
   ]
  },
  {
   "cell_type": "markdown",
   "metadata": {},
   "source": [
    "As you will see in Chapter 0, the whole book is structured on different chapters with a suggested time of completion. Follow the suggestions of that chapter if you want to maximize your learning experience. But do not stress too much if you cannot follow that rhythm. After all is just a suggestion."
   ]
  },
  {
   "cell_type": "markdown",
   "metadata": {},
   "source": [
    "### Simulations\n",
    "\n",
    "You are going to learn all the material using robot simulations. Robot simulations allow you to practice and see the results of your programming in real time, while you are learning and doing your tests. Simulations are also very convenient because those allow us to work with any robot of the world.\n",
    "\n",
    "So for each chapter of the book you are going to need to launch a simulation and do your exercises with it. For that purpose we have prepared an online platform called the <a href=\"http://rds.theconstructsim.com\">ROS Development Studio </a>(RDS).<br><br>\n",
    "Using the RDS, you can develop all the exercises of the book and launch the simulations without having to install anything in your computer, being the only requirement to have a web browser. Since you will be developing online with the browser, you can use any type of computer to program ROS and launch simulations.<br><br>\n",
    "So go now to the RDS and create a free account."
   ]
  },
  {
   "cell_type": "markdown",
   "metadata": {
    "caption": "The RDS development environment",
    "image": true,
    "name": "navigation_2",
    "width": "16cm"
   },
   "source": [
    "<img src=\"img/navigation_2.png\">"
   ]
  },
  {
   "cell_type": "markdown",
   "metadata": {},
   "source": [
    "Once you have an account on RDS, you will have to open the **ROSjects** that we will provide to you for each Chapter. In the next Chapter, you have a complete guide about **ROSjects** and how to launch them.\n",
    "\n",
    "We recommend that you perform all the exercises in the RDS using the free account, so you can see the results in the simulated robot with minimum hasle.\n",
    "\n",
    "Regarding the debate about simulations versus real robots, our suggestion is that, once you understand a perception concept, get a real robot and try to apply to it (if you have the chance). Simulations are very good for learning and testing, but nothing replaces the experience of using a real robot."
   ]
  },
  {
   "cell_type": "markdown",
   "metadata": {},
   "source": [
    "Now is your turn to start learning. Go for it. Remember that we are here to answer your questions and doubts (contact us at feedback@theconstructsim.com). And remember that you can **become a ROS master** by studying the rest of subjects that can be found in our other books:\n",
    "\n",
    "* ROS Basics in 5 days\n",
    "* ROS Perception in 5 days\n",
    "* ROS Manipulation in 5 days"
   ]
  },
  {
   "cell_type": "markdown",
   "metadata": {},
   "source": [
    "<center>\n",
    "**Keep pushing your ROS learning!**</center>"
   ]
  }
 ],
 "metadata": {
  "anaconda-cloud": {},
  "kernelspec": {
   "display_name": "Python [Root]",
   "language": "python",
   "name": "Python [Root]"
  },
  "language_info": {
   "codemirror_mode": {
    "name": "ipython",
    "version": 2
   },
   "file_extension": ".py",
   "mimetype": "text/x-python",
   "name": "python",
   "nbconvert_exporter": "python",
   "pygments_lexer": "ipython2",
   "version": "2.7.12"
  },
  "latex_metadata": {
   "chapter": "i - Introduction",
   "chapter_title": "Introduction",
   "course_title": "ROS NAVIGATION IN 5 DAYS"
  }
 },
 "nbformat": 4,
 "nbformat_minor": 2
}
