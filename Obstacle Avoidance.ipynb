{
 "cells": [
  {
   "cell_type": "markdown",
   "metadata": {},
   "source": [
    "# ROS Navigation"
   ]
  },
  {
   "cell_type": "markdown",
   "metadata": {},
   "source": [
    "## Chapter 6: Obstacle Avoidance"
   ]
  },
  {
   "cell_type": "markdown",
   "metadata": {},
   "source": [
    "<table style=\"width:100%\">\n",
    "  <tr>\n",
    "    <th>Estimated time of completion: 1'5 hours<br><br>What you will learn with this unit?\n",
    "<ul>\n",
    "  <li>What means Obstacle Avoidance in ROS Navigation?</li>\n",
    "  <li>How does Obstacle Avoidance work?</li>\n",
    "  <li>How do we perform Obstacle Avoidance in ROS?</li>\n",
    "</ul></th>\n",
    "    <th><img src=\"img/husky.png\" width=\"212\" height=\"236\" /></th> \n",
    "  </tr>\n",
    "</table>"
   ]
  },
  {
   "cell_type": "markdown",
   "metadata": {},
   "source": [
    "And finally... here it is. The last Chapter of the Course! But I said last, not least! In fact, Obastacle Avoidance is one of the most important parts of ROS Navigation. What's the meaning of an autonomous Navigation, if your robot can't even avoid objects? None, right? \n",
    "<br>\n",
    "Most of the environments you'll want your robot to Navigate will have obstacles. Tables, chairs, walls, even people walking in eventually. So you'll need to know how to avoid them.\n",
    "<br><br>\n",
    "And this is where this last Chapter comes to your rescue! But before starting with the core of the Chapter, let's have a look at how RViz can help us in this process, as we've done in all previous Chapters."
   ]
  },
  {
   "cell_type": "markdown",
   "metadata": {},
   "source": [
    "## Visualize Obstacle Avoidance in Rviz"
   ]
  },
  {
   "cell_type": "markdown",
   "metadata": {},
   "source": [
    "As you've already seen in previous chapters, you can also launch RViz and add displays in order to watch the Obstacle Avoidance process of the robot. For this chapter, you'll basically need to use 3 elements of RViz."
   ]
  },
  {
   "cell_type": "markdown",
   "metadata": {},
   "source": [
    "### Visualize Local Costmap"
   ]
  },
  {
   "cell_type": "markdown",
   "metadata": {},
   "source": [
    "<ol>\n",
    "<li>Click the Add button under Displays and chose the Map element.</li> \n",
    "<li>Set the topic to /move_base/local_costmap/costmap</li>\n",
    "</ol>"
   ]
  },
  {
   "cell_type": "markdown",
   "metadata": {},
   "source": [
    "### Visualize Local Plan"
   ]
  },
  {
   "cell_type": "markdown",
   "metadata": {},
   "source": [
    "<ol>\n",
    "<li>Click the Add button under Displays and chose the Plan element.</li> \n",
    "<li>Set the topic to /move_base/DWAPlannerROS/local_plan</li>\n",
    "</ol>"
   ]
  },
  {
   "cell_type": "markdown",
   "metadata": {},
   "source": [
    "### 2D Elements"
   ]
  },
  {
   "cell_type": "markdown",
   "metadata": {},
   "source": [
    "Explained in the previous Chapter"
   ]
  },
  {
   "cell_type": "markdown",
   "metadata": {},
   "source": [
    "## Path Planning vs. Obstacle Avoidance"
   ]
  },
  {
   "cell_type": "markdown",
   "metadata": {},
   "source": [
    "First of all, in order to understand what exactly is the Obstacle Avoidance and how it fits in the whole Navigation System, I think it's important that you understand the difference between Path Planning and Obstacle Avoidance. In order to accomplish this, let's do a very interesting exercise that I think will help a lot to this purpose."
   ]
  },
  {
   "cell_type": "markdown",
   "metadata": {},
   "source": [
    "<p style=\"background:#EE9023;color:white;\">Exercise 1.1</p>\n",
    "<br>\n",
    "In the next exercise we'll see an example of what's the difference between Path Planning and Obstacle Avoidance.\n",
    "<br><br>\n",
    "a) Open the Graphic Interface and execute the following command in order to start RViz.<br>\n",
    "\n",
    "<table style=\"float:left;background: #407EAF\">\n",
    "<tr>\n",
    "<th>\n",
    "<p class=\"transparent\">Execute in WebShell #1</p><br>\n",
    "rosrun rviz rviz<br>\n",
    "</th>\n",
    "</tr>\n",
    "</table>\n",
    "<br>"
   ]
  },
  {
   "cell_type": "markdown",
   "metadata": {},
   "source": [
    "b) Execute the next command in order to launch the Obstacle Avoidance demo<br>\n",
    "\n",
    "<table style=\"float:left;background: #407EAF\">\n",
    "<tr>\n",
    "<th>\n",
    "<p class=\"transparent\">Execute in WebShell #2</p><br>\n",
    "roslaunch reem_navigation move_base_demo.launch<br>\n",
    "</th>\n",
    "</tr>\n",
    "</table>\n",
    "<br>"
   ]
  },
  {
   "cell_type": "markdown",
   "metadata": {},
   "source": [
    "c) Execute the following command in the WebShell number #3 in order to spawn an obstacle in the room.<br>\n",
    "\n",
    "<table style=\"float:left;background: #407EAF\">\n",
    "<tr>\n",
    "<th>\n",
    "<p class=\"transparent\">Execute in WebShell #3</p><br>\n",
    "rosrun gazebo_ros spawn_model -file /home/user/object.urdf -urdf -x 0 -y 0 -z 1 -model my_object<br>\n",
    "</th>\n",
    "</tr>\n",
    "</table>"
   ]
  },
  {
   "cell_type": "markdown",
   "metadata": {},
   "source": [
    "d) Properly congifure RViz in order to visualize both the global plan and the local plan.<br>\n",
    "\n",
    "<table style=\"float:left;background: #407EAF\">\n",
    "<tr>\n",
    "<th>\n",
    "Image of proper RViz configuration<br>\n",
    "</th>\n",
    "</tr>\n",
    "</table>\n",
    "<br>"
   ]
  },
  {
   "cell_type": "markdown",
   "metadata": {},
   "source": [
    "e) Use the 2D Pose Estimate and Nav Goal tools in order to set an initial pose and send a goal to the robot.<br>"
   ]
  },
  {
   "cell_type": "markdown",
   "metadata": {},
   "source": [
    "f) Set a goal that forces the robot to go past the obstacle you've just inserted in step c).<br>"
   ]
  },
  {
   "cell_type": "markdown",
   "metadata": {},
   "source": [
    "<table style=\"float:left;\">\n",
    "<tr>\n",
    "<th>\n",
    "<p style=\"background:#3B8F10;color:white;\">Data for Exercise 1.1</p>\n",
    "<br>\n",
    "Check the following Notes in order to complete the Exercise:\n",
    "<br><br>\n",
    "<span style=\"color:orange\">Note 1:</span>: <br>\n",
    "<span style=\"color:orange\">Note 2:</span>: <br>\n",
    "<span style=\"color:orange\">Note 2:</span>: <br>\n",
    "</th>\n",
    "</tr>\n",
    "</table>"
   ]
  },
  {
   "cell_type": "markdown",
   "metadata": {},
   "source": [
    "<p style=\"background:#AE0202;color:white;\">Expected Result for Excercise 1.1</p>"
   ]
  },
  {
   "cell_type": "markdown",
   "metadata": {},
   "source": [
    "<img src=\"img/object.png\" width=\"800\"></img>"
   ]
  },
  {
   "cell_type": "markdown",
   "metadata": {},
   "source": [
    "<img src=\"img/global_vs_local_path.jpg\" width=\"800\"></img>"
   ]
  },
  {
   "cell_type": "markdown",
   "metadata": {},
   "source": [
    "<p style=\"background:#EE9023;color:white;\">End of Exercise 1.1</p>"
   ]
  },
  {
   "cell_type": "markdown",
   "metadata": {},
   "source": [
    "As you have seen in the previous exercise, the Global Plan and the Local Plan may not be the same one. Why do you think this can happen?\n",
    "<br><br>\n",
    "Well, the main reason is because they are based on different Costmaps, as we explained in the previous Unit (Chapter 4). \n",
    "<br><br>\n",
    "<b>The Global Planner uses the Global CostMap in order to calculate the Global Plan.</b>\n",
    "<br>\n",
    "<b>The Local Planner, instead, uses the Local Costmap in order to calculate the Local Plan.</b>\n",
    "<br>\n"
   ]
  },
  {
   "cell_type": "markdown",
   "metadata": {},
   "source": [
    "### Local Costmap"
   ]
  },
  {
   "cell_type": "markdown",
   "metadata": {},
   "source": [
    "Unlike the Global Costmap, which is based on the Static Map created in the Mapping unit (Chapter 2), this Local CostMap is continuously being updated with the robot's sensor data. This way, it'll be more precise than the Global Costmap, and it will also be able to detect any dinamic modification in the map that takes place once the robot has started its moving. For instance, a person walking into the environment."
   ]
  },
  {
   "cell_type": "markdown",
   "metadata": {},
   "source": [
    "#### Marking and Clearing"
   ]
  },
  {
   "cell_type": "markdown",
   "metadata": {},
   "source": [
    "The costmap automatically subscribes to the sensor topics and updates itself according to the data it receives from them. Each sensor is used to either mark (insert obstacle information into the costmap), clear (remove obstacle information from the costmap), or both.<br> \n",
    "A marking operation is just an index into an array to change the cost of a cell.<br>\n",
    "A clearing operation, however, cosists of raytracing through a grid from the origin of the sensor outwards for each observation reported."
   ]
  },
  {
   "cell_type": "markdown",
   "metadata": {},
   "source": [
    "#### Map Updates"
   ]
  },
  {
   "cell_type": "markdown",
   "metadata": {},
   "source": [
    "The costmap performs map update cycles at a rate specified by the <i>update_frequency</i> parameter. Each cycle works as follows:\n",
    "<ol>\n",
    "<li>Sensor data comes in</li>\n",
    "<li>Marking and clearing operations are performed</li>\n",
    "<li>The appropied cost values are assigned as described above</li>\n",
    "<li>obstacle inflation is performed on each cell with a LETHAL_OBSTACLE value. This consists of propagating cost values outwards from each occupied cell out to a specified inflation radius.</li>\n",
    "</ol>"
   ]
  },
  {
   "cell_type": "markdown",
   "metadata": {},
   "source": [
    "#### Inflation"
   ]
  },
  {
   "cell_type": "markdown",
   "metadata": {},
   "source": [
    "Inflation is the process of propagating cost values out from occupied cells that decrease with distance. For this purpose, there are 5 specific symbols defined for costmap values:\n",
    "<ul>\n",
    "<li><b>\"Lethal\"</b> cost means that there is an actual obstacle in a cell. So if the robot center were in that cell, it would obviously be in collision.</li>\n",
    "<li><b>\"Inscribed\"</b> cost means that a cell is less that the robot's inscribed radius away from an obstacle. So the robot would be in collision with an obstacle if the robot center is in a cell with this cost. </li>\n",
    "<li><b>\"Possibly Circumscribed\"</b> cost is similar to inscrived, but using the robot's circumscribed radius as cutoff distance. Thus, if the robot center lies in a cell at or above this value, then it depends on the orientation of the robot whether it collides with an obstacle or not. </li>\n",
    "<li><b>\"Freespace\"</b> cost is assumed to be zero, and it means that there is nothing that should keep the robot from going there. </li>\n",
    "<li><b>\"Unknown\"</b> cost means there is no information about a given cell. The user of the costmap can interpret this as the want. </li>\n",
    "</ul>"
   ]
  },
  {
   "cell_type": "markdown",
   "metadata": {},
   "source": [
    "All other costs are assigned a value between \"Freespace\" and \"Possibly Circumscribed\" depending on their distance from a \"Lethal\" cell and the decay function provided by the user."
   ]
  },
  {
   "cell_type": "markdown",
   "metadata": {},
   "source": [
    "#### Topics"
   ]
  },
  {
   "cell_type": "markdown",
   "metadata": {},
   "source": [
    "<ul>\n",
    "<li><b>/laser_scan_topic (sensor_msgs/LaserScan)</b>: For each \"LaserScan\" source listed in the observation_sources parameter list, information from that source is used to update the costmap.</li>\n",
    "<li><b>\"map\" (nav_msgs/OccupancyGrid)</b>: The costmap has the option of being initialized from a user-generated static mapa. If this option is selected, the costmap makes a service call to the map_server to obtan this map.</li>\n",
    "</ul>"
   ]
  },
  {
   "cell_type": "markdown",
   "metadata": {},
   "source": [
    "#### Parameters"
   ]
  },
  {
   "cell_type": "markdown",
   "metadata": {},
   "source": [
    "<ul>\n",
    "<li><b>/global_frame (string, default: \"/map\")</b>: The global frame for the costmap to operate in.</li>\n",
    "<li><b>/robot_base_frame (string, default: \"base_link\")</b>: The name of the frame for the base link of the robot.</li>\n",
    "<li><b>/transform_tolerance (double, default: 0.2)</b>: Specifies the delay in transform (tf) data that is tolerable in seconds.</li>\n",
    "<li><b>/update_frequency (double, default: 5.0)</b>: The frequency in Hz for the map to be updated.</li>\n",
    "<li><b>/publish_frequency (double, default: 0.0)</b>: The frequency in Hz for the map to be publish display information.</li>\n",
    "<li><b>/rolling_window (bool, default: false)</b>: Whether or not to use a rolling window version of the costmap. If the static_map parameter is set to true, this parameter must be set to false.</li>\n",
    "<li><b>/always_send_full_costmap (bool, default: false)</b>: If true the full costmap is published to \"/grid\" every update. If false only the part of the costmap that has changed is published on the \"/grid_updates\" topic.</li>\n",
    "</ul>"
   ]
  },
  {
   "cell_type": "markdown",
   "metadata": {},
   "source": [
    "Here you have an example of a local_costmap_params.yaml file:"
   ]
  },
  {
   "cell_type": "code",
   "execution_count": null,
   "metadata": {
    "collapsed": true
   },
   "outputs": [],
   "source": [
    "local_costmap:\n",
    "   global_frame: odom\n",
    "   robot_base_frame: /base_footprint\n",
    "   update_frequency: 5.0\n",
    "   publish_frequency: 2.0\n",
    "   static_map: false\n",
    "   rolling_window: true\n",
    "   width: 4.0\n",
    "   height: 4.0\n",
    "   resolution: 0.05\n",
    "   transform_tolerance: 0.5\n",
    "   plugins:\n",
    "    - {name: obstacle_layer,      type: \"costmap_2d::VoxelLayer\"}\n",
    "    - {name: inflation_layer,     type: \"costmap_2d::InflationLayer\"}"
   ]
  },
  {
   "cell_type": "markdown",
   "metadata": {},
   "source": [
    "<p style=\"background:#EE9023;color:white;\">Exercise 1.2</p>\n",
    "<br>\n",
    "Open RViz and visualize the Local Costmap.\n",
    "<br>"
   ]
  },
  {
   "cell_type": "markdown",
   "metadata": {},
   "source": [
    "<table style=\"float:left;\">\n",
    "<tr>\n",
    "<th>\n",
    "<p style=\"background:#3B8F10;color:white;\">Data for Exercise 1.2</p>\n",
    "<br>\n",
    "Check the following Notes in order to complete the Exercise:\n",
    "<br><br>\n",
    "<span style=\"color:orange\">Note 1:</span>: To see the costmap in Rviz, add a Map display.</i><br>\n",
    "<span style=\"color:orange\">Note 2:</span>: To see the local costmap set the topic to /move_base_node/local_costmap/costmap</b><br>\n",
    "<span style=\"color:orange\">Note 2:</span>: To see the global costmap set the topic to /move_base_node/global_costmap/costmap</b><br>\n",
    "</th>\n",
    "</tr>\n",
    "</table>"
   ]
  },
  {
   "cell_type": "markdown",
   "metadata": {},
   "source": [
    "<p style=\"background:#AE0202;color:white;\">Expected Result for Excercise 1.2</p><br>"
   ]
  },
  {
   "cell_type": "markdown",
   "metadata": {},
   "source": [
    "<img src=\"img/local_costmap_rviz.png\" width=\"500\"></img>"
   ]
  },
  {
   "cell_type": "markdown",
   "metadata": {},
   "source": [
    "<p style=\"background:#EE9023;color:white;\">End of Exercise 1.2</p>"
   ]
  },
  {
   "cell_type": "markdown",
   "metadata": {},
   "source": [
    "<p style=\"background:#EE9023;color:white;\">Exercise 1.3</p>\n",
    "<br>\n",
    "Change some of the parameters introduced above and check how they affect to the Local Costamp.\n",
    "<br>"
   ]
  },
  {
   "cell_type": "markdown",
   "metadata": {},
   "source": [
    "<p style=\"background:#AE0202;color:white;\">Expected Result for Excercise 1.3</p><br>"
   ]
  },
  {
   "cell_type": "raw",
   "metadata": {},
   "source": [
    "Images of different Costamps"
   ]
  },
  {
   "cell_type": "markdown",
   "metadata": {},
   "source": [
    "<p style=\"background:#EE9023;color:white;\">End of Exercise 1.3</p>"
   ]
  },
  {
   "cell_type": "markdown",
   "metadata": {},
   "source": [
    "### The Base Local Planner Package"
   ]
  },
  {
   "cell_type": "markdown",
   "metadata": {},
   "source": [
    "This package provides a controller that drives a mobile base in the environment. Given a plan to follow (provided by the global-planner) and a costmap (provided by costmap-2D), it provides velocity commands in order to move the robot. Unlike the global planner, the local planner gets the odometry and the laser data, and finds a collision free local plan (let's imagine the local plan as a smaller part of the global plan) for the robot."
   ]
  },
  {
   "cell_type": "markdown",
   "metadata": {},
   "source": [
    "Along the way, the planner creates, at least locally around the robot, a value function, represented as a grid map. This value function encodes the costs of traversing through the grid cells. The controller's job is to use this value function to determine which velocities it has to send to the robot."
   ]
  },
  {
   "cell_type": "markdown",
   "metadata": {},
   "source": [
    "The basic idea of how this controller works is as follows:\n",
    "<ol>\n",
    "<li>Discretely sample in the robot's control space (dx,dy,dtheta)</li>\n",
    "<li>For each sampled velocity, perform forward simulation from the robot's current state to predict what would happen if the sampled velocity were applied for some (short) period of time.</li>\n",
    "<li>Evaluate (score) each trajectory resulting from the forward simulation, using a metric that incorporates characteristics such as: proximity to obstacles, proximity to the goal, proximity to the global path, and speed. Discard illegal trajectories (those that collide with obstacles).</li>\n",
    "<li>Pick the highest-scoring trajectory and send the associated velocity to the mobile base.</li>\n",
    "<li>Rinse and repeat.</li>\n",
    "</ol>"
   ]
  },
  {
   "cell_type": "markdown",
   "metadata": {},
   "source": [
    "#### Topics involved"
   ]
  },
  {
   "cell_type": "markdown",
   "metadata": {},
   "source": [
    "<ul>\n",
    "<li><b>/global_plan (nav_msgs/Path)</b>: The portion of the global plan that the local planner is currently attempting to follow. Used primarily for visualization purposes.</li>\n",
    "<li><b>/local_plan (nav_msgs/Path)</b>: The local plan or trajectory that scored the highest on the last cycle. Used primarily for visualization purposes.</li>\n",
    "<li><b>/cost_cloud (sensor_msgs/PointCloud2)</b>: The cost grid used for planning. Used for visualization purposes. See the publish_cost_grid_pc parameter for enabling/disabling this visualization.</li>\n",
    "</ul>"
   ]
  },
  {
   "cell_type": "markdown",
   "metadata": {},
   "source": [
    "<p style=\"background:#EE9023;color:white;\">Exercise 1.4</p>\n",
    "<br>\n",
    "Open Rviz and a add a Display in order to be able to see the topics introduced above.\n",
    "\n",
    "<br>\n",
    "Subscribe to the topics where the Local Planner publishes, and have a look at them.\n",
    "<br>"
   ]
  },
  {
   "cell_type": "markdown",
   "metadata": {},
   "source": [
    "<p style=\"background:#AE0202;color:white;\">Expected Result for Excercise 1.4</p><br>"
   ]
  },
  {
   "cell_type": "markdown",
   "metadata": {},
   "source": [
    "<img src=\"img/planned_path.png\" width=\"300\"></img>"
   ]
  },
  {
   "cell_type": "raw",
   "metadata": {},
   "source": [
    "Output of rostopic echo /local_plan"
   ]
  },
  {
   "cell_type": "markdown",
   "metadata": {},
   "source": [
    "<p style=\"background:#EE9023;color:white;\">End of Exercise 1.4</p>"
   ]
  },
  {
   "cell_type": "markdown",
   "metadata": {},
   "source": [
    "<p style=\"background:#EE9023;color:white;\">Exercise 1.5</p>\n",
    "<br>\n",
    "Open Rviz and a add a Display in order to be able to see both the Global and Local Plan.\n",
    "\n",
    "<br>\n",
    "Subscribe to the topics where the Local Planner publishes, and have a look at them.\n",
    "<br>"
   ]
  },
  {
   "cell_type": "markdown",
   "metadata": {},
   "source": [
    "Execute the next command in order to insert an object in the middle of the room. See what happens<br>\n",
    "\n",
    "<table style=\"float:left;background: #407EAF\">\n",
    "<tr>\n",
    "<th>\n",
    "<p class=\"transparent\">Execute in WebShell #2</p><br>\n",
    "insert object\n",
    "<br>\n",
    "</th>\n",
    "</tr>\n",
    "</table>\n",
    "<br>"
   ]
  },
  {
   "cell_type": "markdown",
   "metadata": {},
   "source": [
    "<p style=\"background:#AE0202;color:white;\">Expected Result for Excercise 1.5</p><br>"
   ]
  },
  {
   "cell_type": "markdown",
   "metadata": {},
   "source": [
    "<img src=\"img/Obstacle.png\" width=\"300\"></img>"
   ]
  },
  {
   "cell_type": "raw",
   "metadata": {},
   "source": [
    "Output of rostopic echo /local_plan"
   ]
  },
  {
   "cell_type": "markdown",
   "metadata": {},
   "source": [
    "<p style=\"background:#EE9023;color:white;\">End of Exercise 1.5</p>"
   ]
  },
  {
   "cell_type": "markdown",
   "metadata": {},
   "source": [
    "As always, The base local planner has many parameters in order to customize its behavior. Let's check some of this parameters:"
   ]
  },
  {
   "cell_type": "markdown",
   "metadata": {},
   "source": [
    "#### Robot Configuration Parameters"
   ]
  },
  {
   "cell_type": "markdown",
   "metadata": {},
   "source": [
    "#### Goal Tolerance Parameters"
   ]
  },
  {
   "cell_type": "markdown",
   "metadata": {},
   "source": [
    "#### Forward Simulation Parameters"
   ]
  },
  {
   "cell_type": "markdown",
   "metadata": {},
   "source": [
    "#### Trajectory Scoring Parameters"
   ]
  },
  {
   "cell_type": "markdown",
   "metadata": {},
   "source": [
    "#### Oscillation Prevention Parameters"
   ]
  },
  {
   "cell_type": "markdown",
   "metadata": {},
   "source": [
    "#### Global Plan Parameters"
   ]
  },
  {
   "cell_type": "markdown",
   "metadata": {},
   "source": [
    "<p style=\"background:#EE9023;color:white;\">Exercise 1.8</p>\n",
    "<br>\n",
    "Execute the command used in the Exercise 1.1, but modify some of this parameters in order to see how they affect to the Local Path Planning.\n",
    "<br>"
   ]
  },
  {
   "cell_type": "markdown",
   "metadata": {},
   "source": [
    "<p style=\"background:#AE0202;color:white;\">Expected Result for Excercise 1.8</p><br>"
   ]
  },
  {
   "cell_type": "markdown",
   "metadata": {},
   "source": [
    "Different Local Plans such as in the Pictures below"
   ]
  },
  {
   "cell_type": "markdown",
   "metadata": {},
   "source": [
    "<p style=\"background:#EE9023;color:white;\">End of Exercise 1.8</p>"
   ]
  },
  {
   "cell_type": "markdown",
   "metadata": {},
   "source": [
    "## The DWA Local Planner Package"
   ]
  },
  {
   "cell_type": "markdown",
   "metadata": {},
   "source": [
    "This package provides an implementation of the Dynamic Window Approach to local robot navigation on a plane. Given a global plan to follow and a costmap, the local planner produces velocity commands to send to a mobile base. This package supports any robot who's footprint can be represented as a convex polygon or cicrle, and exposes its configuration as ROS parameters that can be set in a launch file. The parameters for this planner are also dynamically reconfigurable."
   ]
  },
  {
   "cell_type": "markdown",
   "metadata": {},
   "source": [
    "DWA (Dynamic Window Algorithm) differs from Trajectory Rollout in how the robot's control space is sampled. Trajectory Rollout samples from the set of achievable velocities over the entire forward simulation period given the acceleration limits of the robot, while DWA samples from the set of achievable velocities just for one simulation step given the acceleration limits of the robot.\n",
    "<br><br>\n",
    "DWA is a more efficient algorithm because it samples a smaller space, but may"
   ]
  },
  {
   "cell_type": "markdown",
   "metadata": {},
   "source": [
    "Here you have an example of the dwa_local_planner_params.yaml:"
   ]
  },
  {
   "cell_type": "code",
   "execution_count": null,
   "metadata": {
    "collapsed": true
   },
   "outputs": [],
   "source": [
    "DWAPlannerROS:\n",
    "\n",
    "# Robot Configuration Parameters - Kobuki\n",
    "  max_vel_x: 0.5  # 0.55\n",
    "  min_vel_x: 0.0\n",
    "\n",
    "  max_vel_y: 0.0  # diff drive robot\n",
    "  min_vel_y: 0.0  # diff drive robot\n",
    "\n",
    "  max_trans_vel: 0.5 # choose slightly less than the base's capability\n",
    "  min_trans_vel: 0.1  # this is the min trans velocity when there is negligible rotational velocity\n",
    "  trans_stopped_vel: 0.1\n",
    "\n",
    "  # Warning!\n",
    "  #   do not set min_trans_vel to 0.0 otherwise dwa will always think translational velocities\n",
    "  #   are non-negligible and small in place rotational velocities will be created.\n",
    "\n",
    "  max_rot_vel: 5.0  # choose slightly less than the base's capability\n",
    "  min_rot_vel: 0.4  # this is the min angular velocity when there is negligible translational velocity\n",
    "  rot_stopped_vel: 0.4\n",
    "\n",
    "  acc_lim_x: 1.0 # maximum is theoretically 2.0, but we\n",
    "  acc_lim_theta: 2.0\n",
    "  acc_lim_y: 0.0      # diff drive robot\n",
    "\n",
    "# Goal Tolerance Parameters\n",
    "  yaw_goal_tolerance: 0.3  # 0.05\n",
    "  xy_goal_tolerance: 0.15  # 0.10\n",
    "  # latch_xy_goal_tolerance: false\n",
    "\n",
    "# Forward Simulation Parameters\n",
    "  sim_time: 1.0       # 1.7\n",
    "  vx_samples: 6       # 3\n",
    "  vy_samples: 1       # diff drive robot, there is only one sample\n",
    "  vtheta_samples: 20  # 20\n",
    "\n",
    "# Trajectory Scoring Parameters\n",
    "  path_distance_bias: 64.0      # 32.0   - weighting for how much it should stick to the global path plan\n",
    "  goal_distance_bias: 24.0      # 24.0   - wighting for how much it should attempt to reach its goal\n",
    "  occdist_scale: 0.5            # 0.01   - weighting for how much the controller should avoid obstacles\n",
    "  forward_point_distance: 0.325 # 0.325  - how far along to place an additional scoring point\n",
    "    stop_time_buffer: 0.2         # 0.2    - amount of time a robot must stop in before colliding for a valid traj.\n",
    "  scaling_speed: 0.25           # 0.25   - absolute velocity at which to start scaling the robot's footprint\n",
    "  max_scaling_factor: 0.2       # 0.2    - how much to scale the robot's footprint when at speed.\n",
    "\n",
    "# Oscillation Prevention Parameters\n",
    "  oscillation_reset_dist: 0.05  # 0.05   - how far to travel before resetting oscillation flags\n",
    "\n",
    "# Debugging\n",
    "  publish_traj_pc : true\n",
    "  publish_cost_grid_pc: true\n",
    "  global_frame_id: odom\n",
    "\n",
    "\n",
    "# Differential-drive robot configuration - necessary?\n",
    "#  holonomic_robot: false"
   ]
  },
  {
   "cell_type": "markdown",
   "metadata": {},
   "source": []
  },
  {
   "cell_type": "markdown",
   "metadata": {},
   "source": []
  },
  {
   "cell_type": "markdown",
   "metadata": {},
   "source": []
  },
  {
   "cell_type": "markdown",
   "metadata": {},
   "source": []
  },
  {
   "cell_type": "markdown",
   "metadata": {},
   "source": []
  },
  {
   "cell_type": "markdown",
   "metadata": {},
   "source": [
    "### Recovery Behaviors"
   ]
  },
  {
   "cell_type": "markdown",
   "metadata": {},
   "source": [
    "<img src=\"img/recovery_behaviors.png\" width=\"700\"></img>"
   ]
  },
  {
   "cell_type": "markdown",
   "metadata": {},
   "source": [
    "Running the move_base node on a robot that is properly configured (please see navigation stack documentation for more details) results in a robot that will attempt to achieve a goal pose with its base to within a user-specified tolerance. In the absence of dynamic obstacles, the move_base node will eventually get within this tolerance of its goal or signal failure to the user. The move_base node may optionally perform recovery behaviors when the robot perceives itself as stuck. By default, the move_base node will take the following actions to attempt to clear out space:\n",
    "\n",
    "First, obstacles outside of a user-specified region will be cleared from the robot's map. Next, if possible, the robot will perform an in-place rotation to clear out space. If this too fails, the robot will more aggressively clear its map, removing all obstacles outside of the rectangular region in which it can rotate in place. This will be followed by another in-place rotation. If all this fails, the robot will consider its goal infeasible and notify the user that it has aborted. These recovery behaviors can be configured using the recovery_behaviors parameter, and disabled using the recovery_behavior_enabled parameter."
   ]
  },
  {
   "cell_type": "markdown",
   "metadata": {},
   "source": [
    "### The Rotate Recovery Package"
   ]
  },
  {
   "cell_type": "markdown",
   "metadata": {},
   "source": [
    "This package provides a simple recovery behavior that attempts to clear out space by rotating the robot 360 degrees  if local obstacles are found in the way."
   ]
  },
  {
   "cell_type": "markdown",
   "metadata": {},
   "source": [
    "It has some parameters you can customize in order to change or improve its behavior:"
   ]
  },
  {
   "cell_type": "markdown",
   "metadata": {},
   "source": [
    "#### Rotate Recovery Parameters"
   ]
  },
  {
   "cell_type": "markdown",
   "metadata": {},
   "source": [
    "<ul>\n",
    "<li><b>/sim_granularity (double, default: 0.017)</b>: The distance in radians between checks for obstacles when checking if an in-place rotation is safe. Defaults to 1 degree.</li>\n",
    "<li><b>/frequency (double, default: 20.0)</b>: The frequency in HZ at which to send velocity commands to the mobile base.</li>\n",
    "</ul>"
   ]
  },
  {
   "cell_type": "markdown",
   "metadata": {},
   "source": [
    "#### TrajectoryPlanner Parameters"
   ]
  },
  {
   "cell_type": "markdown",
   "metadata": {},
   "source": [
    "<p style=\"color:red;\"> IMPORTANT: These parameters are already set when using the base_local_planner local planner, they only need to be set explicitly for the recovery behavior if a different local planner is used.</p>"
   ]
  },
  {
   "cell_type": "markdown",
   "metadata": {},
   "source": [
    "<ul>\n",
    "<li><b>/yaw_goal_tolerance (double, default: 0.05)</b>: The tolerance in radians for the controller in yaw/rotation when achieving its goal</li>\n",
    "<li><b>/acc_lim_th (double, default: 3.2)</b>: The rotational acceleration limit of the robot in radians/sec^2</li>\n",
    "<li><b>/max_rotational_vel (double, default: 1.0)</b>: The maximum rotational velocity allowed for the base in radians/sec</li>\n",
    "<li><b>/min_in_place_rotational_vel (double, default: 0.4)</b>: The minimum rotational velocity allowed for the base while performing in-place rotations in radians/sec</li>\n",
    "</ul>"
   ]
  },
  {
   "cell_type": "markdown",
   "metadata": {},
   "source": [
    "<p style=\"background:#AE0202;color:white;\">Expected Result for Excercise 1.9</p><br>"
   ]
  },
  {
   "cell_type": "markdown",
   "metadata": {},
   "source": [
    "Gif of Robot Rotating"
   ]
  },
  {
   "cell_type": "markdown",
   "metadata": {},
   "source": [
    "<p style=\"background:#EE9023;color:white;\">End of Exercise 1.9</p>"
   ]
  },
  {
   "cell_type": "markdown",
   "metadata": {},
   "source": [
    "### The Clear Costmap Recovery package"
   ]
  },
  {
   "cell_type": "markdown",
   "metadata": {},
   "source": [
    "This package provides a simple recovery behavior that clears out space by clearing obstacles outside of a specified region from the robot's map."
   ]
  },
  {
   "cell_type": "markdown",
   "metadata": {},
   "source": [
    "The radius away from the robot (in meters) which obstacles will be removed from the costmap when they are reverted to the static map, can be setted by modifying the next parameter:\n",
    "<ul>\n",
    "<li><b>/reset_distance</b></li>\n",
    "</ul>"
   ]
  },
  {
   "cell_type": "markdown",
   "metadata": {},
   "source": []
  },
  {
   "cell_type": "markdown",
   "metadata": {},
   "source": []
  },
  {
   "cell_type": "markdown",
   "metadata": {},
   "source": []
  },
  {
   "cell_type": "markdown",
   "metadata": {},
   "source": []
  },
  {
   "cell_type": "markdown",
   "metadata": {},
   "source": []
  },
  {
   "cell_type": "markdown",
   "metadata": {},
   "source": []
  },
  {
   "cell_type": "markdown",
   "metadata": {},
   "source": []
  },
  {
   "cell_type": "markdown",
   "metadata": {},
   "source": [
    "## How Obstacle Avoidance works"
   ]
  },
  {
   "cell_type": "markdown",
   "metadata": {},
   "source": [
    "### Penalty terms"
   ]
  },
  {
   "cell_type": "markdown",
   "metadata": {},
   "source": [
    "Obstacle avoidance is achieved as part of the overall trajectory optimization. Obviously, optimization is concerned with finding a minimum cost solution (trajectory) of a specified cost function (objective function). Put simply: If a planned (future) pose violates a desired separation from obstacles, the costs of the cost function must therefore increase. Ideally, the cost function value must be infinity in those cases or the optimizer might better reject those areas completely. However, this would require optimizers handling hard constraints (resp. solving nonlinear programs). The teb_local_planner waives the ability of taking hard constraints into account in order to better account for efficiency. Hard constraints are transformed into soft constraints, leading to the composition of quadratic penalty terms with finite costs. "
   ]
  },
  {
   "cell_type": "markdown",
   "metadata": {},
   "source": [
    "<img src=\"img/obstacle_soft_constraint.png\" width=\"400\"></img>"
   ]
  },
  {
   "cell_type": "markdown",
   "metadata": {},
   "source": [
    "The figure above shows an examplary penalty term (for obstacle avoidance). The allowed minimum Euclidean distance to the obstacle (parameter min_obstacle_dist) is set to 0.2 meters. Therefore, distances below 0.2m lead to a non-zero cost. Now imagine that the optimization problem consists of many more cost terms. Some of them are conflicting such as time-optimality. Therefore it might happen, that the optimizer takes a small violation (and therefore small penalty) into account in order to minimize the overall composed cost function. Here you have two options in order to tune the behavior: "
   ]
  },
  {
   "cell_type": "markdown",
   "metadata": {},
   "source": [
    "<ol>\n",
    "<li>Adjust the optimization weights (scaling of the individual costs, here it is parameter weight_obstacle). But if you choose too high values, the optimization problem becomes ill-conditioned leading to a poor convergance behavior. </li>\n",
    "<li>Shift the argument by adding an \"extra margin\". By adding a small extra margin to the min_obstacle_dist parameter you implicitly increase the cost value at 0.2m. You might shift all penalty terms at once with the single parameter penalty_epsilon, but be careful since doing so will massively influence the optimziation results.</li>\n",
    "</ol>"
   ]
  },
  {
   "cell_type": "markdown",
   "metadata": {},
   "source": [
    "### Locally optimal solutions"
   ]
  },
  {
   "cell_type": "markdown",
   "metadata": {},
   "source": [
    "Notice, the optimizer on its own only finds locally optimal solutions. Imagine, the robot might be encapsulated laterally by two obstacles. The penalty terms are indeed non-zero, but the optimizer get stucked (to this local minimum) since moving the corresponding pose laterally towards one of the obstacles would further increase the total cost. You can try that easily with the test_optim_node (see Tutorial Set up and test Optimization and turn off homotopy class planning). The behavior should be similar to the one in the following figure: "
   ]
  },
  {
   "cell_type": "markdown",
   "metadata": {},
   "source": [
    "<img src=\"img/local_minimum_two_obstacles.png\" width=\"600\"></img>"
   ]
  },
  {
   "cell_type": "markdown",
   "metadata": {},
   "source": [
    "The trajectory cannot jump over the obstacles. Even the poses itselves are pushed away from the region between the obstacles (red arrows). Obviously, this circumstance should be avoided in practice. Hence, the homotopy class planning algorithm seeks for (topologically) alternative solutions and the feasibility check (see section below) rejects such a solution before actually commanding the robot. \n",
    "\n"
   ]
  },
  {
   "cell_type": "markdown",
   "metadata": {},
   "source": [
    "### Association between Poses and Obstacles"
   ]
  },
  {
   "cell_type": "markdown",
   "metadata": {},
   "source": [
    "The following figure depicts a snapshot of a common planning scenario: \n",
    "\n"
   ]
  },
  {
   "cell_type": "markdown",
   "metadata": {},
   "source": [
    "<img src=\"img/robot_traj_obst.png\" width=\"600\"></img>"
   ]
  },
  {
   "cell_type": "markdown",
   "metadata": {},
   "source": [
    "The scenario consists of a mobile robot which approaches a polygon-shaped obstacle while traveling to the current goal. The planned (discrete) trajectory is composed of multiple robot poses. The planner aims to arrange each two consecutive poses according to the desired temporal resolution (Parameter dt_ref). Note, the actual resolution is not fixed/freezed since the optimizer needs to adjust the transition time in order to seek for time-optimality. \n",
    "\n",
    "For obstacle avoidance, the distance between a planned pose and the obstacle has to be bounded from below. The example trajectory in the figure consists of 8 changeable poses (start and goal poses are fixed). You might agree, that many distance calculations are required in order to achieve a collision free trajectory (the optimizer invokes the computation of cost function values many times). In order to speed up the optimization, a dedicated association strategy is implemented. \n",
    "\n",
    "For each obstacle (point/ occupied costmap cell, line, polygon) the closest pose of the planned trajectory is located (see figure above). According to the value of parameter obstacle_poses_affected neighbors of the closest pose are taken into account as well. Only this selected subset of poses is taken into account in the subsequent optimization step (here 3 poses and therefore 3 penalty terms). The association process is repeated after no_inner_iterations (parameter), resp. within each outer optimization iteration. The value of obstacle_poses_affected slightly influences the smoothness of the trajectory around obstacles. Also bigger obstacles require more connected poses to avoid inadmissable shortcuts. You may also choose a high value (> trajectory length) in order to connect all poses with each obstacle. \n",
    "\n",
    "Note, the robot footprint model is taken into account for distance calculations and is therefore crucial for the required computational resources. Details are summarized in the following section. "
   ]
  },
  {
   "cell_type": "markdown",
   "metadata": {},
   "source": [
    "## Robot Footprint Model"
   ]
  },
  {
   "cell_type": "markdown",
   "metadata": {},
   "source": [
    "The robot footprint model approximates the robots' 2D contour for optimization purposes. The model is crucial for the complexity of distance calculations and hence for the computation time. Therefore, the robot footprint model constitutes a dedicated parameter instead of loading the footprint from the common costmap_2d parameters. The optimization footprint model might differ from the costmap footprint model (which is instead used for the feasibility check, see section below). \n",
    "\n",
    "The footprint model is selected and configured using the parameter server. You can add the following parameter structure to your teb_local_planner config file: "
   ]
  },
  {
   "cell_type": "raw",
   "metadata": {},
   "source": [
    "TebLocalPlannerROS:\n",
    " footprint_model: # types: \"point\", \"circular\", \"line\", \"two_circles\", \"polygon\"\n",
    "   type: \"point\"\n",
    "   radius: 0.2 # for type \"circular\"\n",
    "   line_start: [-0.3, 0.0] # for type \"line\"\n",
    "   line_end: [0.3, 0.0] # for type \"line\"\n",
    "   front_offset: 0.2 # for type \"two_circles\"\n",
    "   front_radius: 0.2 # for type \"two_circles\"\n",
    "   rear_offset: 0.2 # for type \"two_circles\"\n",
    "   rear_radius: 0.2 # for type \"two_circles\"\n",
    "   vertices: [ [0.25, -0.05], [0.18, -0.05], [0.18, -0.18], [-0.19, -0.18], [-0.25, 0], [-0.19, 0.18], [0.18, 0.18], [0.18, 0.05], [0.25, 0.05] ] # for type \"polygon\""
   ]
  },
  {
   "cell_type": "markdown",
   "metadata": {},
   "source": [
    "The default footprint model is of type \"point\". \n",
    "\n",
    "Note, the footprint is published to ~<name>/teb_markers and can be visualized in rviz (e.g. for verification).\n",
    "\n",
    "Important: For car-like robots, the pose [0,0] is located at the rear-axle (axis of rotation)! \n",
    "\n",
    "All different types are described in the following paragraphs: \n",
    "\n"
   ]
  },
  {
   "cell_type": "markdown",
   "metadata": {},
   "source": [
    "### Footprint Type: Point"
   ]
  },
  {
   "cell_type": "markdown",
   "metadata": {},
   "source": [
    "The robot is modeled as a single point. For this type the least computation time is required. "
   ]
  },
  {
   "cell_type": "markdown",
   "metadata": {},
   "source": [
    "### Footprint Type: Circular"
   ]
  },
  {
   "cell_type": "markdown",
   "metadata": {},
   "source": [
    "The robot is modeled as a simple circle with a given radius ~/footprint_model/radius. The distance calculation is similar to the one of the point-type robot, but with the exepction, that the robots' radius is added to the parameter min_obstacle_dist each function call. You can ged rid of this extra addition by chosing a point-type robot and adding the radius to the minimum obstacle distance a-priori. "
   ]
  },
  {
   "cell_type": "markdown",
   "metadata": {},
   "source": [
    "### Footprint Type: Line"
   ]
  },
  {
   "cell_type": "markdown",
   "metadata": {},
   "source": [
    "The line robot is useful for robots that exhibit different expansions/lengths in the longitudinal and lateral directions. The line (segment) can be configured using parameters ~/footprint_model/line_start and ~/footprint_model/line_end ([x,y] coordinates each). The robot (axis of rotation) is assumed to be at [0,0] (Unit: meters). Make sure to encapsulate the complete robot by further adjustment of the parameter min_obstacle_dist (see following example). "
   ]
  },
  {
   "cell_type": "markdown",
   "metadata": {},
   "source": [
    "<img src=\"img/line_model.png\" width=\"300\"></img>"
   ]
  },
  {
   "cell_type": "markdown",
   "metadata": {},
   "source": [
    "### Footprint Type: Two Circles"
   ]
  },
  {
   "cell_type": "markdown",
   "metadata": {},
   "source": [
    "Another possibility to approximate the robot's contour consists of defining two circles. Each circle is described by an offset along the robots' x-axis and a radius: ~/footprint_model/front_offset, ~/footprint_model/front_radius, ~/footprint_model/rear_offset and ~/footprint_model/rear_radius. Offsets may be negative. \n",
    "\n",
    "Refer to the following figure as an example: "
   ]
  },
  {
   "cell_type": "markdown",
   "metadata": {},
   "source": [
    "<img src=\"img/two_circles_model.png\" width=\"400\"></img>"
   ]
  },
  {
   "cell_type": "markdown",
   "metadata": {},
   "source": [
    "### Footprint Type: Polygon"
   ]
  },
  {
   "cell_type": "markdown",
   "metadata": {},
   "source": [
    "A complex model can be incorporated by defining a closed polygon. The polygon is defined in terms of a list of vertices (provide x and y coordinates for each vertex). The robots axis of rotation is assumed to be located at [0,0] (Unit: meters). Please do not repeat the first vertex since the polygon is closed automatically. \n",
    "\n",
    "Take in mind, that each additional edge significantly increases the required computation time! You may copy your footprint model from your costmap common parameter file. "
   ]
  },
  {
   "cell_type": "markdown",
   "metadata": {},
   "source": [
    "## Feasibility Check"
   ]
  },
  {
   "cell_type": "markdown",
   "metadata": {},
   "source": [
    "A feasibility check is performed after the optimizer returns a trajectory and before the velocity commands are sent to the robot. The purpose of this check is to identify an invalid/infeasible trajectory that might be produced by the optimizer (just remember: soft constraints, local minima, etc.). \n",
    "\n",
    "Currently, the algorithm iterates the first n poses (n = ~/feasibility_check_no_poses (parameter!)) starting from the current robot pose and checks whether the those poses are collision free. For detecting if a collision occurs, the costmap footprint is used (see Navigation tutorials)! Therefore, this validation-model might be more complex than the footprint used for optimization (see section above). \n",
    "\n",
    "The value ~/feasibility_check_no_poses should not be chosen too high, since the optimizer might not be converged completely: Figuratively, small obstacle violations in the (far) future could be corrected while the robot is moving towards the goal. \n",
    "\n",
    "If you are driving in narrow environments, make sure to configure the obstacle avoidance behavior (local planner and global planner) properly. Otherwise, the local planner might reject an infeasible trajectory (from its point of view), but the global planner in contrast could further think that the selected (global) plan is feasible: the robot could get stucked. "
   ]
  },
  {
   "cell_type": "code",
   "execution_count": null,
   "metadata": {
    "collapsed": true
   },
   "outputs": [],
   "source": []
  }
 ],
 "metadata": {
  "kernelspec": {
   "display_name": "Python 2",
   "language": "python",
   "name": "python2"
  },
  "language_info": {
   "codemirror_mode": {
    "name": "ipython",
    "version": 2
   },
   "file_extension": ".py",
   "mimetype": "text/x-python",
   "name": "python",
   "nbconvert_exporter": "python",
   "pygments_lexer": "ipython2",
   "version": "2.7.10"
  }
 },
 "nbformat": 4,
 "nbformat_minor": 0
}
