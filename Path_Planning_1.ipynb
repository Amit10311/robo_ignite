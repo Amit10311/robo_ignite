{
 "cells": [
  {
   "cell_type": "markdown",
   "metadata": {},
   "source": [
    "# ROS Navigation"
   ]
  },
  {
   "cell_type": "markdown",
   "metadata": {},
   "source": [
    "## Chapter 4: Path Planning Part 1"
   ]
  },
  {
   "cell_type": "markdown",
   "metadata": {
    "caption": "Husky Robot Image",
    "image": true,
    "name": "husky_sim",
    "width": "15cm"
   },
   "source": [
    "<img src=\"img/husky_sim.png\" width=\"1000\"></img>"
   ]
  },
  {
   "cell_type": "markdown",
   "metadata": {},
   "source": [
    "<p style=\"background:green;color:white;\">**SUMMARY**</p>"
   ]
  },
  {
   "cell_type": "markdown",
   "metadata": {},
   "source": [
    "Estimated time to completion: **3 hours**<br><br>What will you learn with this unit?\n",
    "\n",
    "  * What does Path Planning mean in ROS Navigation?\n",
    "  * How does Path Planning work?\n",
    "  * How does the move_base node work?\n",
    "  * What is a Costmap?\n"
   ]
  },
  {
   "cell_type": "markdown",
   "metadata": {},
   "source": [
    "<p style=\"background:green;color:white;\">**END OF SUMMARY**</p>"
   ]
  },
  {
   "cell_type": "markdown",
   "metadata": {},
   "source": [
    "We're arriving at the end of the course, guys! For now, we've seen how to create a map of an environment, and how to localize the robot in it. So, at this point (and assuming everything went well), we have all that we need in order to perform Navigation. That is, we're now ready to plan trajectories in order to move the robot from pose A to pose B.\n",
    "\n",
    "In this chapter, you'll learn how the Path Planning process works in ROS, and all of the elements that take place in it. But first, as we've been doing in previous chapters, let's have a look at our digital best friend, RViz."
   ]
  },
  {
   "cell_type": "markdown",
   "metadata": {},
   "source": [
    "## Visualize Path Planning in Rviz"
   ]
  },
  {
   "cell_type": "markdown",
   "metadata": {},
   "source": [
    "As you've already seen in previous chapters, you can also launch RViz and add displays in order to watch the Path Planning process of the robot. For this chapter, you'll basically need to use 3 elements of RViz:\n",
    "\n",
    "* Map Display (Costmaps)\n",
    "* Path Displays (Plans)\n",
    "* 2D Tools\n"
   ]
  },
  {
   "cell_type": "markdown",
   "metadata": {},
   "source": [
    "<p style=\"background:#EE9023;color:white;\">**Exercise 4.1**</p>\n",
    "<br>\n",
    "a) Execute the next command in order to launch the move_base node.<br>\n",
    "\n",
    "<table style=\"float:left;background: #407EAF\">\n",
    "<tr>\n",
    "<th>\n",
    "<p class=\"transparent\">Execute in WebShell #1</p>\n",
    "</th>\n",
    "</tr>\n",
    "</table>\n",
    "<br>"
   ]
  },
  {
   "cell_type": "code",
   "execution_count": null,
   "metadata": {
    "collapsed": true
   },
   "outputs": [],
   "source": [
    "roslaunch husky_navigation move_base_demo.launch"
   ]
  },
  {
   "cell_type": "markdown",
   "metadata": {},
   "source": [
    "b) Open the Graphic Interface and execute the following command in order to start RViz.<br>\n",
    "\n",
    "<table style=\"float:left;background: #407EAF\">\n",
    "<tr>\n",
    "<th>\n",
    "<p class=\"transparent\">Execute in WebShell #2</p>\n",
    "</th>\n",
    "</tr>\n",
    "</table>\n",
    "<br>"
   ]
  },
  {
   "cell_type": "code",
   "execution_count": null,
   "metadata": {
    "collapsed": true
   },
   "outputs": [],
   "source": [
    "rosrun rviz rviz"
   ]
  },
  {
   "cell_type": "markdown",
   "metadata": {},
   "source": [
    "c) Properly congifure RViz in order to visualize the necessary parts.<br>"
   ]
  },
  {
   "cell_type": "markdown",
   "metadata": {},
   "source": [
    "#### Visualize Costmaps"
   ]
  },
  {
   "cell_type": "markdown",
   "metadata": {},
   "source": [
    "\n",
    "* Click the Add button under Displays and chose the Map element. \n",
    "* Set the topic to **/move_base/global_costmap/costmap** in order to visualize the global costmap\n",
    "* Change the topic to **/move_base/local_costmap/costmap** in order to visualize the local costmap.\n",
    "* You can have 2 Map displays, one for each costmap.\n"
   ]
  },
  {
   "cell_type": "markdown",
   "metadata": {},
   "source": [
    "#### Visualize Plans"
   ]
  },
  {
   "cell_type": "markdown",
   "metadata": {},
   "source": [
    "\n",
    "* Click the Add button under Displays and chose the Path element. \n",
    "* Set the topic to **/move_base/NavfnROS/plan** in order to visualize the global plan. \n",
    "* Change the topic to **/move_base/DWAPlannerROS/local_plan** in order to visualize the local plan.\n",
    "* You can also have 2 Path displays, one for each plan.\n"
   ]
  },
  {
   "cell_type": "markdown",
   "metadata": {},
   "source": [
    "d) Use the 2D Pose Estimate tool in order to provide an initial pose for the robot.\n",
    "<br>\n",
    "<img src=\"img/2d_pose_estimate_rviz.png\" width=\"200\"></img>"
   ]
  },
  {
   "cell_type": "markdown",
   "metadata": {},
   "source": [
    "e) Use the 2D Nav Goal tool in order to send a goal pose to the robot. Make sure to select an unoccupied (dark grey) or unexpected (light grey) location.\n",
    "<br>\n",
    "<img style=\"\" src=\"img/2d_nav_goal_rviz.png\" width=\"200\"></img>"
   ]
  },
  {
   "cell_type": "markdown",
   "metadata": {},
   "source": [
    "<p style=\"background:#3B8F10;color:white;\">**Data for Exercise 4.1**</p>\n",
    "\n",
    "Check the following notes in order to complete the exercise:\n",
    "\n",
    "**Note 1**: Bear in mind that if you don't set a 2D Nav Goal, the planning process won't start. This means that until you do, you won't be able to visualize any plan in RViz.\n",
    "\n",
    "**Note 2**: In order for the 2D tools to work, the Fixed Frame at Rviz must be set to map."
   ]
  },
  {
   "cell_type": "markdown",
   "metadata": {},
   "source": [
    "<p style=\"background:#AE0202;color:white;\">**Expected Result for Exercise 4.1**</p>"
   ]
  },
  {
   "cell_type": "markdown",
   "metadata": {},
   "source": [
    "Global Costmap:"
   ]
  },
  {
   "cell_type": "markdown",
   "metadata": {
    "caption": "Global Costmap",
    "image": true,
    "name": "rviz_global_costmap",
    "width": "10cm"
   },
   "source": [
    "<img src=\"img/rviz_global_costmap.png\" width=\"500\"></img>"
   ]
  },
  {
   "cell_type": "markdown",
   "metadata": {},
   "source": [
    "Local Costmap:"
   ]
  },
  {
   "cell_type": "markdown",
   "metadata": {
    "caption": "Local Costmap",
    "image": true,
    "name": "rviz_local_costmap",
    "width": "10cm"
   },
   "source": [
    "<img src=\"img/rviz_local_costmap.png\" width=\"500\"></img>"
   ]
  },
  {
   "cell_type": "markdown",
   "metadata": {},
   "source": [
    "Global Plan:"
   ]
  },
  {
   "cell_type": "markdown",
   "metadata": {
    "caption": "Global Plan",
    "image": true,
    "name": "rviz_planning1",
    "width": "10cm"
   },
   "source": [
    "<img src=\"img/rviz_planning1_clean.png\" width=\"500\"></img>"
   ]
  },
  {
   "cell_type": "markdown",
   "metadata": {},
   "source": [
    "Local Plan (in red) and Global Plan (in green):"
   ]
  },
  {
   "cell_type": "markdown",
   "metadata": {
    "caption": "Local(red) and Global(green) Plans",
    "image": true,
    "name": "global_vs_local",
    "width": "10cm"
   },
   "source": [
    "<img src=\"img/global_vs_local_clean.png\" width=\"500\"></img>"
   ]
  },
  {
   "cell_type": "markdown",
   "metadata": {},
   "source": [
    "<p style=\"background:#EE9023;color:white;\">**End of Exercise 4.1**</p>"
   ]
  },
  {
   "cell_type": "markdown",
   "metadata": {},
   "source": [
    "<p style=\"color:red;\">**REMEMBER**: Remember to save your RViz configuration in order to be able to load it again whenever you want. If you don't remember how to do it, check the Mapping Chapter.</p>"
   ]
  },
  {
   "cell_type": "markdown",
   "metadata": {},
   "source": [
    "That's awesome, right? But what has just happened? What was that 2D Nav Goal tool I used in order to move the robot? And what's a Costmap? How does ROS calculate the trajectories?"
   ]
  },
  {
   "cell_type": "markdown",
   "metadata": {},
   "source": [
    "Keep calm!! By the end of this chapter, you'll be able to answer all of those questions. But let's go step by step, so that you can completely understand how the whole process works."
   ]
  },
  {
   "cell_type": "markdown",
   "metadata": {},
   "source": [
    "## The move_base package"
   ]
  },
  {
   "cell_type": "markdown",
   "metadata": {},
   "source": [
    "The move_base package contains the **move_base node**. Doesn't that sound familiar? Well, it should, since you were introduced to it in the Basic Concepts chapter! The move_base node is one of the major elements in the ROS Navigation Stack, since it links all of the elements that take place in the Navigation process. Let's say it's like the Architect in Matrix, or the Force in Star Wars. Without this node, the ROS Navigation Stack wouldn't make any sense!"
   ]
  },
  {
   "cell_type": "markdown",
   "metadata": {},
   "source": [
    "Ok! We understand that the move_base node is very important, but... what is it exactly? What does it do? Great question!"
   ]
  },
  {
   "cell_type": "markdown",
   "metadata": {},
   "source": [
    "The **main function of the move_base node is to move the robot from its current position to a goal position**. Basically, this node is an implementation of a <i>SimpleActionServer</i>, which takes a goal pose with message type <i>geometry_msgs/PoseStamped</i>. Therefore, we can send position goals to this node by using a <i>SimpleActionClient</i>. "
   ]
  },
  {
   "cell_type": "markdown",
   "metadata": {},
   "source": [
    "This Action Server provides the topic **move_base/goal**, which is the input of the Navigation Stack. This topic is then used to provide the goal pose."
   ]
  },
  {
   "cell_type": "markdown",
   "metadata": {},
   "source": [
    "<p style=\"background:#EE9023;color:white;\">**Exercise 4.2**</p>"
   ]
  },
  {
   "cell_type": "markdown",
   "metadata": {},
   "source": [
    "a) In a WebShell, visualize the <i>move_base/goal</i> topic."
   ]
  },
  {
   "cell_type": "markdown",
   "metadata": {},
   "source": [
    "b) As you did in the previous exercise, send a goal to the robot by using the 2D Nav Goal tool in RViz."
   ]
  },
  {
   "cell_type": "markdown",
   "metadata": {},
   "source": [
    "c) Check what happens in the topic that you are listening to."
   ]
  },
  {
   "cell_type": "markdown",
   "metadata": {},
   "source": [
    "<p style=\"background:#AE0202;color:white;\">**Expected Result for Exercise 4.2**</p>"
   ]
  },
  {
   "cell_type": "markdown",
   "metadata": {
    "caption": "Goal Message",
    "image": true,
    "name": "send_goal_msg",
    "width": "12cm"
   },
   "source": [
    "<img src=\"img/send_goal_msg.png\" width=\"600\"></img>"
   ]
  },
  {
   "cell_type": "markdown",
   "metadata": {},
   "source": [
    "<p style=\"background:#EE9023;color:white;\">**End of Exercise 4.2**</p>"
   ]
  },
  {
   "cell_type": "markdown",
   "metadata": {},
   "source": [
    "So, each time you set a Pose Goal using the 2D Nav Goal tool from RViz, what is really happening is that a new message is being published into the move_base/goal topic."
   ]
  },
  {
   "cell_type": "markdown",
   "metadata": {},
   "source": [
    "Anyway, this is not the only topic that the move_base Action Server provides. As every action server, it provides the following 5 topics:"
   ]
  },
  {
   "cell_type": "markdown",
   "metadata": {},
   "source": [
    "\n",
    "* **move_base/goal (move_base_msgs/MoveBaseActionGoal)**\n",
    "* **move_base/cancel (actionlib_msgs/GoalID)**\n",
    "* **move_base/feedback (move_base_msgs/MoveBaseActionFeedback)**\n",
    "* **move_base/status (actionlib_msgs/GoalStatusArray)**\n",
    "* **move_base/result (move_base_msgs/MoveBaseActionResult)**\n"
   ]
  },
  {
   "cell_type": "markdown",
   "metadata": {},
   "source": [
    "<p style=\"background:#EE9023;color:white;\">**Exercise 4.3**</p>"
   ]
  },
  {
   "cell_type": "markdown",
   "metadata": {},
   "source": [
    "Without using Rviz, send a pose goal to the move_base node."
   ]
  },
  {
   "cell_type": "markdown",
   "metadata": {},
   "source": [
    "a) Use the command line tool in order to send this goal to the Action Server of the move_base node."
   ]
  },
  {
   "cell_type": "markdown",
   "metadata": {},
   "source": [
    "b) Visualize through the webshells all of the topics involved in the action, and check their output while the action is taking place, and when it's done."
   ]
  },
  {
   "cell_type": "markdown",
   "metadata": {},
   "source": [
    "<p style=\"background:#3B8F10;color:white;\">**Data for Exercise 4.3**</p>\n",
    "\n",
    "Check the following notes in order to complete the exercise:\n",
    "\n",
    "**Note 1**: Remember that the SimpleAcionServer subscribes to the /move_base_node/goal topic in order to read the pose goal.\n",
    "\n",
    "**Note 2**: In order to see an example of a valid message for the /move_base/goal topic, you can listen to the topic while you send a pose goal via the 2D Nav Goal tool of RViz.\n",
    "\n",
    "**Note 3**: Keep in mind that in order to be able to send goals to the Action Server, the move_base node must be launched."
   ]
  },
  {
   "cell_type": "markdown",
   "metadata": {},
   "source": [
    "<p style=\"background:#AE0202;color:white;\">**Expected Result for Exercise 4.3**</p>"
   ]
  },
  {
   "cell_type": "markdown",
   "metadata": {},
   "source": [
    "Sending goal:"
   ]
  },
  {
   "cell_type": "markdown",
   "metadata": {
    "caption": "Goal Message",
    "image": true,
    "name": "send_goal_msg",
    "width": "12cm"
   },
   "source": [
    "<img src=\"img/send_goal_msg.png\" width=\"600\"></img>"
   ]
  },
  {
   "cell_type": "markdown",
   "metadata": {},
   "source": [
    "Echo feedback:"
   ]
  },
  {
   "cell_type": "markdown",
   "metadata": {
    "caption": "Echo of feedback topic",
    "image": true,
    "name": "echo_feedback",
    "width": "12cm"
   },
   "source": [
    "<img src=\"img/echo_feedback.png\" width=\"600\"></img>"
   ]
  },
  {
   "cell_type": "markdown",
   "metadata": {},
   "source": [
    "Echo status accepted:"
   ]
  },
  {
   "cell_type": "markdown",
   "metadata": {
    "caption": "Goal Accepted",
    "image": true,
    "name": "status_accepted",
    "width": "10cm"
   },
   "source": [
    "<img src=\"img/status_accepted.png\" width=\"600\"></img>"
   ]
  },
  {
   "cell_type": "markdown",
   "metadata": {},
   "source": [
    "Echo status reached:"
   ]
  },
  {
   "cell_type": "markdown",
   "metadata": {
    "caption": "Goal Reached",
    "image": true,
    "name": "status_reached",
    "width": "10cm"
   },
   "source": [
    "<img src=\"img/status_reached.png\" width=\"600\"></img>"
   ]
  },
  {
   "cell_type": "markdown",
   "metadata": {},
   "source": [
    "Echo result:"
   ]
  },
  {
   "cell_type": "markdown",
   "metadata": {
    "caption": "Echo of result topic",
    "image": true,
    "name": "echo_result",
    "width": "12cm"
   },
   "source": [
    "<img src=\"img/echo_result.png\" width=\"600\"></img>"
   ]
  },
  {
   "cell_type": "markdown",
   "metadata": {},
   "source": [
    "<p style=\"background:#EE9023;color:white;\">**End of Exercise 4.3**</p>"
   ]
  },
  {
   "cell_type": "markdown",
   "metadata": {},
   "source": [
    "<p style=\"background:#EE9023;color:white;\">**Exercise 4.4**</p>"
   ]
  },
  {
   "cell_type": "markdown",
   "metadata": {},
   "source": [
    "a) Create a new package named **send_goals**. Add rospy as a dependency."
   ]
  },
  {
   "cell_type": "markdown",
   "metadata": {},
   "source": [
    "b) Inside this package, create a file named **send_goal_client.py**. Write into this file the code for an Action Client in order to send messages to the Action Server of the move_base node."
   ]
  },
  {
   "cell_type": "markdown",
   "metadata": {},
   "source": [
    "c) Using this Action Client, move the robot to three different Poses of the Map. When the robot has reached the 3 poses, start over again creating a loop, so that the robot will keep going to these 3 poses over and over."
   ]
  },
  {
   "cell_type": "markdown",
   "metadata": {},
   "source": [
    "<p style=\"background:#AE0202;color:white;\">**Expected Result for Exercise 4.4**</p>"
   ]
  },
  {
   "cell_type": "markdown",
   "metadata": {},
   "source": [
    "The robot moves infinitely to the 3 poses given."
   ]
  },
  {
   "cell_type": "markdown",
   "metadata": {},
   "source": [
    "<p style=\"background:#EE9023;color:white;\">**End of Exercise 4.4**</p>"
   ]
  },
  {
   "cell_type": "markdown",
   "metadata": {},
   "source": [
    "So, at this point, you've checked that you can send pose goals to the move_base node by sending messages to the /move_base/goal topic of its Action Server."
   ]
  },
  {
   "cell_type": "markdown",
   "metadata": {},
   "source": [
    "When this node **receives a goal pose**, it links to components such as the <i>global planner, local planner, recovery behaviors, and costmaps</i>, and **generates an output, which is a velocity command** with the message type <i>geometry_msgs/Twist</i>, and sends it to the **/cmd_vel** topic in order to move the robot."
   ]
  },
  {
   "cell_type": "markdown",
   "metadata": {},
   "source": [
    "The move_base node, just as you saw with the slam_gmapping and the amcl nodes in previous chapters, also has parameters that you can modify. For instance, one of the parameters that you can modify is the frequency at which the move_base node sends these velocity commands to the base controller. Let's check it with a quick exercise."
   ]
  },
  {
   "cell_type": "markdown",
   "metadata": {},
   "source": [
    "<p style=\"background:#EE9023;color:white;\">**Exercise 4.5**</p>"
   ]
  },
  {
   "cell_type": "markdown",
   "metadata": {},
   "source": [
    "a) Create a new package named **<i>my_move_base_launcher</i>**. Inside this package, create 2 directories, one named **<i>launch</i>** and the other one named **<i>params</i>**. Inside the <i>launch</i> directory, create 2 new files named **<i>my_move_base_launch_1.launch</i>** and **<i>my_move_base_launch_2.launch</i>**. Inside the <i>params</i> directory, create a new file named **<i>my_move_base_params.yaml</i>**."
   ]
  },
  {
   "cell_type": "markdown",
   "metadata": {},
   "source": [
    "b) Have a look at the **<i>move_base_demo.launch</i>** and **<i>move_base.launch</i>** files of the <i>husky_navigation</i> package. Also, have a look at the **<i>planner.yaml</i>** file of the same package."
   ]
  },
  {
   "cell_type": "markdown",
   "metadata": {},
   "source": [
    "c) Copy the contents of these files to the files that you created in the first step."
   ]
  },
  {
   "cell_type": "markdown",
   "metadata": {},
   "source": [
    "d) Modify the <i>my_move_base_launch_1.launch</i> file so that it loads your second launch file."
   ]
  },
  {
   "cell_type": "markdown",
   "metadata": {},
   "source": [
    "e) Modify the <i>my_move_base_launch_2.launch</i> file so that it loads your move_base parameters file."
   ]
  },
  {
   "cell_type": "markdown",
   "metadata": {},
   "source": [
    "f) Modify the <i>my_move_base_params.yaml</i> file, and change the **<i>controller_frequency</i>** parameter."
   ]
  },
  {
   "cell_type": "markdown",
   "metadata": {},
   "source": [
    "g) Launch the <i>my_move_base_launch_1.launch</i> file, and check what happens now."
   ]
  },
  {
   "cell_type": "markdown",
   "metadata": {},
   "source": [
    "<p style=\"background:#EE9023;color:white;\">**End of Exercise 4.5**</p>"
   ]
  },
  {
   "cell_type": "markdown",
   "metadata": {},
   "source": [
    "At this point, all you know is that sending a pose goal to the move_base node activates some kind of process, which involves other nodes, and that results in the robot moving to that goal pose. That's very interesting, but... what is this process that is going on? How does it work? What are these other nodes that take place?"
   ]
  },
  {
   "cell_type": "markdown",
   "metadata": {},
   "source": [
    "Dont't worry, you'll be able to answer all of those questions by the end of this chapter. But for now, let's start by introducing one of the main parts that take place in this process: the **global planner**."
   ]
  },
  {
   "cell_type": "markdown",
   "metadata": {},
   "source": [
    "## The Global Planner"
   ]
  },
  {
   "cell_type": "markdown",
   "metadata": {},
   "source": [
    "When a new goal is received by the move_base node, this goal is immediately sent to the global planner. Then, the **global planner is in charge of calculating a safe path in order to arrive at that goal pose**. This path is calculated before the robot starts moving, so it will **not take into account the readings that the robot sensors are doing** while moving. "
   ]
  },
  {
   "cell_type": "markdown",
   "metadata": {},
   "source": [
    "Each time a new path is planned by the global planner, this path is published into the **/plan** topic. Let's do an exercise to check this."
   ]
  },
  {
   "cell_type": "markdown",
   "metadata": {},
   "source": [
    "<p style=\"background:#EE9023;color:white;\">**Exercise 4.6**</p>"
   ]
  },
  {
   "cell_type": "markdown",
   "metadata": {},
   "source": [
    "a) Open Rviz and add a Display in order to be able to visualize the Global Plan."
   ]
  },
  {
   "cell_type": "markdown",
   "metadata": {},
   "source": [
    "b) Subscribe to the topic where the Global Planner publishes its planned path, and have a look at it."
   ]
  },
  {
   "cell_type": "markdown",
   "metadata": {},
   "source": [
    "c) Using the 2D Nav Goal tool, send a new goal to the move_base node."
   ]
  },
  {
   "cell_type": "markdown",
   "metadata": {},
   "source": [
    "<p style=\"background:#AE0202;color:white;\">**Expected Result for Exercise 4.6**</p>"
   ]
  },
  {
   "cell_type": "markdown",
   "metadata": {},
   "source": [
    "Global Plan in RViz:"
   ]
  },
  {
   "cell_type": "markdown",
   "metadata": {
    "caption": "Robot Planning in RViz",
    "image": true,
    "name": "rviz_planning1",
    "width": "12cm"
   },
   "source": [
    "<img src=\"img/rviz_planning1_clean.png\" width=\"600\"></img>"
   ]
  },
  {
   "cell_type": "markdown",
   "metadata": {},
   "source": [
    "Global Plan topic:"
   ]
  },
  {
   "cell_type": "markdown",
   "metadata": {
    "caption": "Plan Message",
    "image": true,
    "name": "rostopic_echo_plan",
    "width": "8cm"
   },
   "source": [
    "<img src=\"img/rostopic_echo_plan.png\" width=\"300\"></img>"
   ]
  },
  {
   "cell_type": "markdown",
   "metadata": {},
   "source": [
    "<p style=\"background:#EE9023;color:white;\">**End of Exercise 4.6**</p>"
   ]
  },
  {
   "cell_type": "markdown",
   "metadata": {},
   "source": [
    "You've probably noticed that when you send a goal in order to visualize the path plan made by the global planner, the robot automatically starts executing this plan. This happens because by sending this goal pose, you're starting the whole navigation process."
   ]
  },
  {
   "cell_type": "markdown",
   "metadata": {},
   "source": [
    "In some cases, you might be interested in just visualizing the global plan, but not in executing that plan. For this case, the move_base node provides a service named **/make_plan**. This service allows you to calculate a global plan without causing the robot to execute the path. Let's check how it works with the next exercise."
   ]
  },
  {
   "cell_type": "markdown",
   "metadata": {},
   "source": [
    "<p style=\"background:#EE9023;color:white;\">**Exercise 4.7**</p>"
   ]
  },
  {
   "cell_type": "markdown",
   "metadata": {},
   "source": [
    "Create a Service Client that will call one of the services introduced above in order to get the plan to a given pose, without causing the robot to move."
   ]
  },
  {
   "cell_type": "markdown",
   "metadata": {},
   "source": [
    "a) Create a new package named **make_plan**. Add rospy as a dependency."
   ]
  },
  {
   "cell_type": "markdown",
   "metadata": {},
   "source": [
    "b) Inside this package, create a file named **make_plan_caller.py**. Write the code for your Service Client into this file."
   ]
  },
  {
   "cell_type": "markdown",
   "metadata": {},
   "source": [
    "<p style=\"background:#3B8F10;color:white;\">**Data for Exercise 4.7**</p>\n",
    "\n",
    "Check the following notes in order to complete the exercise:\n",
    "\n",
    "**Note 1**: The type of message used by the /make_plan service is nav_msgs/GetPlan.\n",
    "\n",
    "**Note 2**: When filing this message in order to call the service, you don't have to fill all of the fields of the message. Check the following message example:"
   ]
  },
  {
   "cell_type": "markdown",
   "metadata": {
    "caption": "Message Example",
    "image": true,
    "name": "calling_service",
    "width": "12cm"
   },
   "source": [
    "<img src=\"img/calling_service.png\" width=\"600\"></img>"
   ]
  },
  {
   "cell_type": "markdown",
   "metadata": {},
   "source": [
    "<p style=\"background:#AE0202;color:white;\">**Expected Result for Exercise 4.7**</p>"
   ]
  },
  {
   "cell_type": "markdown",
   "metadata": {},
   "source": [
    "Returned Plan:"
   ]
  },
  {
   "cell_type": "markdown",
   "metadata": {
    "caption": "Returned Plan",
    "image": true,
    "name": "service_plan",
    "width": "12cm"
   },
   "source": [
    "<img src=\"img/service_plan.png\" width=\"600\"></img>"
   ]
  },
  {
   "cell_type": "markdown",
   "metadata": {},
   "source": [
    "<p style=\"background:#EE9023;color:white;\">**End of Exercise 4.7**</p>"
   ]
  },
  {
   "cell_type": "markdown",
   "metadata": {},
   "source": [
    "So, you now know that the first step of this navigation process is to calculate a safe plan so that your robot can arrive to the user-specified goal pose. But... how is this path calculated?"
   ]
  },
  {
   "cell_type": "markdown",
   "metadata": {},
   "source": [
    "There exist different global planners. Depending on your setup (the robot you use, the environment it navigates, etc.), you would use one or another. Let's have a look at the most important ones."
   ]
  },
  {
   "cell_type": "markdown",
   "metadata": {},
   "source": [
    "### Navfn"
   ]
  },
  {
   "cell_type": "markdown",
   "metadata": {},
   "source": [
    "The Navfn planner is probably the most commonly used global planner for ROS Navigation. It uses Dijkstra's algorithm in order to calculate the shortest path between the initial pose and the goal pose. Below, you can see an animation of how this algorithm works."
   ]
  },
  {
   "cell_type": "markdown",
   "metadata": {},
   "source": [
    "<img src=\"img/Dijkstras_progress_animation.gif\" width=\"300\"></img>"
   ]
  },
  {
   "cell_type": "markdown",
   "metadata": {},
   "source": [
    "### Carrot Planner"
   ]
  },
  {
   "cell_type": "markdown",
   "metadata": {},
   "source": [
    "The carrot planner takes the goal pose and checks if this goal is in an obstacle. Then, if it is in an obstacle, it walks back along the vector between the goal and the robot until a goal point that is not in an obstacle is found. It, then, passes this goal point on as a plan to a local planner or controller. Therefore, this planner does not do any global path planning. It is helpful if you require your robot to move close to the given goal, even if the goal is unreachable. In complicated indoor environments, this planner is not very practical.\n",
    "<br><br>\n",
    "This algorithm can be useful if, for instance, you want your robot to move as close as possible to an obstacle (a table, for instance)."
   ]
  },
  {
   "cell_type": "markdown",
   "metadata": {},
   "source": [
    "### Global Planner"
   ]
  },
  {
   "cell_type": "markdown",
   "metadata": {},
   "source": [
    "The global planner is a more flexible replacement for the navfn planner. It allows you to change the algorithm used by navfn (Dijkstra's algorithm) to calculate paths for other algorithms. These options include support for A∗, toggling\n",
    "quadratic approximation, and toggling grid path."
   ]
  },
  {
   "cell_type": "markdown",
   "metadata": {},
   "source": [
    "### Change the Global Planner"
   ]
  },
  {
   "cell_type": "markdown",
   "metadata": {},
   "source": [
    "The global planner used by the move_base node it's usually specified in the move_base parameters file. In order to do this, you will add one of the following lines to the parameters file:"
   ]
  },
  {
   "cell_type": "code",
   "execution_count": null,
   "metadata": {
    "collapsed": true
   },
   "outputs": [],
   "source": [
    "base_global_planner: \"navfn/NavfnROS\" # Sets the Navfn Planner\n",
    "\n",
    "base_global_planner: \"carrot_planner/CarrotPlanner\" # Sets the Carrot Planner\n",
    "\n",
    "base_global_planner: \"global_planner/GlobalPlanner\" # Sets the Global Planner"
   ]
  },
  {
   "cell_type": "markdown",
   "metadata": {},
   "source": [
    "<span style=\"color:red;\">**NOTE:** It can also, though, be specified in the launch file, like it is our case.</span>"
   ]
  },
  {
   "cell_type": "markdown",
   "metadata": {},
   "source": [
    "<p style=\"background:#EE9023;color:white;\">**Exercise 4.8**</p>"
   ]
  },
  {
   "cell_type": "markdown",
   "metadata": {},
   "source": [
    "a) Open Rviz and add a display in order to be able to visualize the global plan."
   ]
  },
  {
   "cell_type": "markdown",
   "metadata": {},
   "source": [
    "b) Send a goal using the 2D Nav Goal tool. This goal must be \"inside\" an obstacle. Check what happens."
   ]
  },
  {
   "cell_type": "markdown",
   "metadata": {},
   "source": [
    "c) Modify the **my_move_base_launch_2.launch** file so that it now uses the carrot planner."
   ]
  },
  {
   "cell_type": "markdown",
   "metadata": {},
   "source": [
    "d) Repeat step b, and check what happens now."
   ]
  },
  {
   "cell_type": "markdown",
   "metadata": {},
   "source": [
    "<p style=\"background:#3B8F10;color:white;\">**Data for Exercise 4.8**</p>\n",
    "\n",
    "Check the following notes in order to complete the exercise:\n",
    "\n",
    "**Note 1**: To make sure you've properly changed the global planner, you can use the following command: \n",
    "\n",
    "**rosparam get /move_base/base_global_planner**.\n",
    "\n",
    "<img src=\"img/param_carrot.png\" width=\"600\"></img>"
   ]
  },
  {
   "cell_type": "markdown",
   "metadata": {},
   "source": [
    "<p style=\"background:#AE0202;color:white;\">**Expected Result for Exercise 4.8**</p>"
   ]
  },
  {
   "cell_type": "markdown",
   "metadata": {
    "caption": "Sending Goal",
    "image": true,
    "name": "goal_obstacle",
    "width": "12cm"
   },
   "source": [
    "Sending goal:\n",
    "<br>\n",
    "<img src=\"img/goal_obstacle_clean.png\" width=\"600\"></img>"
   ]
  },
  {
   "cell_type": "markdown",
   "metadata": {
    "caption": "Error using Navfn",
    "image": true,
    "name": "no_plan_found",
    "width": "12cm"
   },
   "source": [
    "Navfn:\n",
    "<br>\n",
    "<img src=\"img/no_plan_found.png\" width=\"800\"></img>"
   ]
  },
  {
   "cell_type": "markdown",
   "metadata": {
    "caption": "Sending Goal",
    "image": true,
    "name": "goal_obstacle",
    "width": "12cm"
   },
   "source": [
    "Sending goal at obstacle:\n",
    "<br>\n",
    "<img src=\"img/goal_obstacle_clean.png\" width=\"600\"></img>"
   ]
  },
  {
   "cell_type": "markdown",
   "metadata": {
    "caption": "Planning Execution with Carrot Planner",
    "image": true,
    "name": "goal_carrot",
    "width": "12cm"
   },
   "source": [
    "Carrot Planner:\n",
    "<br>\n",
    "<img src=\"img/goal_carrot.png\" width=\"600\"></img>"
   ]
  },
  {
   "cell_type": "markdown",
   "metadata": {},
   "source": [
    "<p style=\"background:#EE9023;color:white;\">**End of Exercise 4.8**</p>"
   ]
  },
  {
   "cell_type": "markdown",
   "metadata": {},
   "source": [
    "The global planner also has its own parameters in order to customize its behaviour. The parameters for the global planner are also located in a YAML file. Depending on which global planner you use, the parameters to set will be different. In this course, we will have a look at the parameters for the navfn planner because it's the one that is most commonly used. If you are interested in seeing the parameters you can set for the other planners, you can have a look at them here:\n",
    "\n",
    "carrot planner: http://wiki.ros.org/carrot_planner \n",
    "\n",
    "global planner: http://wiki.ros.org/global_planner"
   ]
  },
  {
   "cell_type": "markdown",
   "metadata": {},
   "source": [
    "### Navfn Parameters"
   ]
  },
  {
   "cell_type": "markdown",
   "metadata": {},
   "source": [
    "\n",
    "* **/allow_unknown (default: true)**: Specifies whether or not to allow navfn to create plans that traverse unknown space. NOTE: if you are using a layered costmap_2d costmap with a voxel or obstacle layer, you must also set the track_unknown_space param for that layer to be true, or it will convert all of your unknown space to free space (which navfn will then happily go right through).\n",
    "* **/planner_window_x (default: 0.0)**: Specifies the x size of an optional window to restrict the planner to. This can be useful for restricting NavFn to work in a small window of a large costmap.\n",
    "* **/planner_window_y (default: 0.0)**: Specifies the y size of an optional window to restrict the planner to. This can be useful for restricting NavFn to work in a small window of a large costmap.\n",
    "* **/default_tolerance (default: 0.0)**: A tolerance on the goal point for the planner. NavFn will attempt to create a plan that is as close to the specified goal as possible, but no farther away than the default_tolerance.\n"
   ]
  },
  {
   "cell_type": "markdown",
   "metadata": {},
   "source": [
    "\n",
    "* **cost_factor**\n",
    "* **neutral_cost**\n",
    "* **lethal_cost**\n"
   ]
  },
  {
   "cell_type": "markdown",
   "metadata": {},
   "source": [
    "Here you can see an example of a global planner parameters file:"
   ]
  },
  {
   "cell_type": "code",
   "execution_count": null,
   "metadata": {
    "collapsed": true
   },
   "outputs": [],
   "source": [
    "NavfnROS:\n",
    "  visualize_potential: false    \n",
    "  allow_unknown: false          \n",
    "                                \n",
    "  planner_window_x: 0.0         \n",
    "  planner_window_y: 0.0         \n",
    "\n",
    "  default_tolerance: 0.0"
   ]
  },
  {
   "cell_type": "markdown",
   "metadata": {},
   "source": [
    "<p style=\"background:#EE9023;color:white;\">**Exercise 4.9**</p>\n",
    "<br>\n",
    "Change the **use_dijkstra** parameter to false, and repeat Exercise 4.8. Check if something changes now.\n",
    "<br>"
   ]
  },
  {
   "cell_type": "markdown",
   "metadata": {},
   "source": [
    "<p style=\"background:#EE9023;color:white;\">**End of Exercise 4.9**</p>"
   ]
  },
  {
   "cell_type": "markdown",
   "metadata": {},
   "source": [
    "So... summarizing: "
   ]
  },
  {
   "cell_type": "markdown",
   "metadata": {},
   "source": [
    "Until now, you've seen that a global planner exists that is in charge of calculating a safe path in order to move the robot from an initial position to a goal position. You've also seen that there are different types of global planners, and that you can choose the global planner that you want to use. Finally, you've also seen that each planner has its own parameters, which modify the way the planner behaves."
   ]
  },
  {
   "cell_type": "markdown",
   "metadata": {},
   "source": [
    "But now, let me ask you a question. When you plan a trajectory, this trajectory has to be planned according to a map, right? A path without a map makes no sense. Ok, so... can you guess what map the global planner uses in order to calculate its path?"
   ]
  },
  {
   "cell_type": "markdown",
   "metadata": {},
   "source": [
    "You may be tempted to think that the map that is being used is the map that you created in the Mapping Chapter (Chapter 2) of this course... but, let me tell you, that's not entirely true."
   ]
  },
  {
   "cell_type": "markdown",
   "metadata": {},
   "source": [
    "There exists another type of map: **the costmap**. Does it sound familiar? It should since you were introduced to it back in the first exercise of this chapter. "
   ]
  },
  {
   "cell_type": "markdown",
   "metadata": {},
   "source": [
    "A costmap is a map that represents places that are safe for the robot to be in a grid of cells. Usually, the values in the costmap are binary, representing either free space or places where the robot would be in collision."
   ]
  },
  {
   "cell_type": "markdown",
   "metadata": {},
   "source": [
    "Each cell in a costmap has an integer value in the range {0,255}. There are some special values frequently used in this range, which work as follows:\n",
    "\n",
    "* **255 (NO_INFORMATION)**: Reserved for cells where not enough information is known.\n",
    "* **254 (LETHAL_OBSTACLE**: Indicates that a collision-causing obstacle was sensed in this cell\n",
    "* **253 (INSCRIBED_INFLATED_OBSTACLE)**: Indicates no obstacle, but moving the center of the robot to this location will result in a collision\n",
    "* **0 (FREE_SPACE)**: Cells where there are no obstacles and, therefore, moving the center of the robot to this position will not result in a collision"
   ]
  },
  {
   "cell_type": "markdown",
   "metadata": {},
   "source": [
    "There exist 2 types of costmaps: **global costmap** and **local costmap**. The main difference between them is, basically, the way they are built:\n",
    "\n",
    "* The **global costmap** is created from a static map.\n",
    "* The **local costmap** is created from the robot's sensor readings."
   ]
  },
  {
   "cell_type": "markdown",
   "metadata": {},
   "source": [
    "For now, we'll focus on the global costmap since it is the one used by the global planner. So, **the global planner uses the global costmap in order to calculate the path to follow**."
   ]
  },
  {
   "cell_type": "markdown",
   "metadata": {},
   "source": [
    "Let's do an exercise so that you can have a better idea of how a global costmap looks."
   ]
  },
  {
   "cell_type": "markdown",
   "metadata": {},
   "source": [
    "<p style=\"background:#EE9023;color:white;\">**Exercise 4.10**</p>\n",
    "<br>\n",
    "Launch Rviz and add the necessary display in order to visualize the global costmap.\n",
    "<br>"
   ]
  },
  {
   "cell_type": "markdown",
   "metadata": {},
   "source": [
    "<p style=\"background:#3B8F10;color:white;\">**Data for Exercise 4.10**</p>\n",
    "\n",
    "Check the following notes in order to complete the exercise:\n",
    "\n",
    "**Note 1**: You can change the colours used for the global costmap at the Color Scheme parameter in the RViz configuration: \n",
    "\n",
    "<img src=\"img/color_scheme.png\" width=\"400\"></img>"
   ]
  },
  {
   "cell_type": "markdown",
   "metadata": {},
   "source": [
    "<p style=\"background:#AE0202;color:white;\">**Expected Result for Exercise 4.10**</p>"
   ]
  },
  {
   "cell_type": "markdown",
   "metadata": {
    "caption": "Global Costmap in RViz",
    "image": true,
    "name": "global_costmap",
    "width": "12cm"
   },
   "source": [
    "<img src=\"img/global_costmap.png\" width=\"500\"></img>"
   ]
  },
  {
   "cell_type": "markdown",
   "metadata": {},
   "source": [
    "<p style=\"background:#EE9023;color:white;\">**End of Exercise 4.10**</p>"
   ]
  },
  {
   "cell_type": "markdown",
   "metadata": {},
   "source": [
    "So, now that you've seen how the global costmap looks, let's learn some more about it."
   ]
  },
  {
   "cell_type": "markdown",
   "metadata": {},
   "source": [
    "### Global Costmap"
   ]
  },
  {
   "cell_type": "markdown",
   "metadata": {},
   "source": [
    "The global costmap is created from a user-generated static map (as the one we created in the Mapping Chapter). In this case, the costmap is initialized to match the width, height, and obstacle information provided by the static map. This configuration is normally used in conjunction with a localization system, such as amcl. This is the method you'll use to initialize a **global costmap**.\n",
    "<br><br>\n",
    "The global costmap also has its own parameters, which are defined in a YAML file. Next, you can see an example of a global costmap parameters file."
   ]
  },
  {
   "cell_type": "code",
   "execution_count": null,
   "metadata": {
    "collapsed": true
   },
   "outputs": [],
   "source": [
    "global_frame: map\n",
    "static_map: true\n",
    "rolling_window: false\n",
    "\n",
    "plugins:\n",
    "  - {name: static,                  type: \"costmap_2d::StaticLayer\"}\n",
    "  - {name: inflation,               type: \"costmap_2d::InflationLayer\"}\n",
    "  - {name: obstacles,               type: \"costmap_2d::VoxelLayer\"}"
   ]
  },
  {
   "cell_type": "markdown",
   "metadata": {},
   "source": [
    "Costmap parameters are defined in 3 different files:\n",
    "\n",
    "* A YAML file that sets the parameters for the global costmap (which is the one you've seen above). Let's name this file <i>global_costmap_params.yaml</i>.\n",
    "* A YAML file that sets the parameters for the local costmap. Let's name this file <i>local_costmap_params.yaml</i>.\n",
    "* A YAML file that sets the parameters for both the global and local costmaps. Let's name this file <i>common_costmap_params.yaml</i>.\n"
   ]
  },
  {
   "cell_type": "markdown",
   "metadata": {},
   "source": [
    "Fow now, we'll focus on the global costmap parameters since it's the costmap that is used by the global planner."
   ]
  },
  {
   "cell_type": "markdown",
   "metadata": {},
   "source": [
    "### Global Costmap Parameters"
   ]
  },
  {
   "cell_type": "markdown",
   "metadata": {},
   "source": [
    "The parameters you need to know are the following:\n",
    "\n",
    "* **global_frame (default: \"/map\")**: The global frame for the costmap to operate in.\n",
    "* **static_map (default: true)**: Whether or not to use a static map to initialize the costmap.\n",
    "* **rolling_window (default: false)**: Whether or not to use a rolling window version of the costmap. If the static_map parameter is set to true, this parameter must be set to false.\n",
    "* **plugins**: Sequence of plugin specifications, one per layer. Each specification is a dictionary with a **name** and **type** fields. The name is used to define the parameter namespace for the plugin. This name will then be defined in the **common_costmap_parameters.yaml** file, which you will see in the the next Unit. The type field actually defines the plugin (source code) that is going to be used."
   ]
  },
  {
   "cell_type": "markdown",
   "metadata": {},
   "source": [
    "So, by setting the static_map parameter to true, and the rolling_window parameters to false, we will initialize the costmap by getting the data from a static map. This is the way you want to initialize a global costmap."
   ]
  },
  {
   "cell_type": "markdown",
   "metadata": {},
   "source": [
    "<p style=\"background:#EE9023;color:white;\">**Exercise 4.11**</p>"
   ]
  },
  {
   "cell_type": "markdown",
   "metadata": {},
   "source": [
    "a) Add a file named **<i>my_global_costmap_params.yaml</i>** to the <i>params</i> directory of the package you created in Exercise 4.5."
   ]
  },
  {
   "cell_type": "markdown",
   "metadata": {},
   "source": [
    "b) Copy the contents of the **<i>costmap_global_static.yaml</i>** file of the <i>husky_navigation</i> package into this file."
   ]
  },
  {
   "cell_type": "markdown",
   "metadata": {},
   "source": [
    "c) Modify the **<i>my_move_base_launch_2.launch</i>** file you created in Exercise 4.5 so that it loads the global costmap parameters files you just created."
   ]
  },
  {
   "cell_type": "markdown",
   "metadata": {},
   "source": [
    "d) Change the **<i>rolling_window</i>** parameter to true and launch the move_base node again."
   ]
  },
  {
   "cell_type": "markdown",
   "metadata": {},
   "source": [
    "e) Check what changes you see in the visualization of the global costmap."
   ]
  },
  {
   "cell_type": "markdown",
   "metadata": {},
   "source": [
    "<p style=\"background:#AE0202;color:white;\">**Expected Result for Exercise 4.11**</p>"
   ]
  },
  {
   "cell_type": "markdown",
   "metadata": {
    "caption": "Global Costmap with rolling window to True",
    "image": true,
    "name": "global_costmap_rolling",
    "width": "12cm"
   },
   "source": [
    "<img src=\"img/global_costmap_rolling.png\" width=\"500\"></img>"
   ]
  },
  {
   "cell_type": "markdown",
   "metadata": {},
   "source": [
    "<p style=\"background:#EE9023;color:white;\">**End of Exercise 4.11**</p>"
   ]
  },
  {
   "cell_type": "markdown",
   "metadata": {},
   "source": [
    "The last parameter you need to know how to set is the plugins area. In the plugins area, we will add layers to the costmap configuration. Ok, but... what are layers?"
   ]
  },
  {
   "cell_type": "markdown",
   "metadata": {},
   "source": [
    "In order to simplify (and clarify) the configuration of costmaps, ROS uses layers. Layers are like \"blocks\" of parameters that are related. For instance, the **static map, the sensed obstacles, and the inflation are separated into different layers**. These layers are defined in the **<i>common_costmap_parameters.yaml</i>** file, and then added to the **<i>local_costmap_params.yaml</i>** and **<i>global_costmap_params.yaml</i>** files."
   ]
  },
  {
   "cell_type": "markdown",
   "metadata": {},
   "source": [
    "To add a layer to a configuration file of a costmap, you will specify it in the plugins area. Have a look at the following line:"
   ]
  },
  {
   "cell_type": "code",
   "execution_count": null,
   "metadata": {
    "collapsed": true
   },
   "outputs": [],
   "source": [
    "plugins: \n",
    "    - {name: static_map,       type: \"costmap_2d::StaticLayer\"}"
   ]
  },
  {
   "cell_type": "markdown",
   "metadata": {},
   "source": [
    "Here, you're adding to your costmap configuration a layer named **static_map**, which will use the **costmap_2d::StaticLayer** plugin. You can add as many layers as you want:"
   ]
  },
  {
   "cell_type": "code",
   "execution_count": null,
   "metadata": {
    "collapsed": true
   },
   "outputs": [],
   "source": [
    "plugins: \n",
    "    - {name: static_map,       type: \"costmap_2d::StaticLayer\"}\n",
    "    - {name: obstacles,        type: \"costmap_2d::VoxelLayer\"}\n",
    "    - {name: inflation,        type: \"costmap_2d::InflationLayer\"}"
   ]
  },
  {
   "cell_type": "markdown",
   "metadata": {},
   "source": [
    "For instance, you can see an example on the local costmap parameters file shown above. In the case of the global costmap, you will usually use these 2 layers:\n",
    "\n",
    "* **costmap_2d::StaticLayer**: Used to initialize the costmap from a static map.\n",
    "* **costmap_2d::InflationLayer**: Used to inflate obstacles.\n"
   ]
  },
  {
   "cell_type": "markdown",
   "metadata": {},
   "source": [
    "You may have noticed that the layers are just being added to the parameters file. That's true. Both in the global and local costmap parameters file, the layers are just added. The specific parameters of these layers are defined in the **common costmap parameters** file. We will have a look at this file later on in the chapter."
   ]
  },
  {
   "cell_type": "markdown",
   "metadata": {},
   "source": [
    "## <p style=\"background:red;color:white;\">Solutions</p>"
   ]
  },
  {
   "cell_type": "markdown",
   "metadata": {},
   "source": [
    "Please Try to do it by yourself unless you get stuck or need some inspiration. You will learn much more if you fight for each exercise."
   ]
  },
  {
   "cell_type": "markdown",
   "metadata": {},
   "source": [
    "<img src=\"img/robotignite_logo_text.png\"/>"
   ]
  },
  {
   "cell_type": "markdown",
   "metadata": {},
   "source": [
    "Follow this link to open the solutions for the Navigation Path Planning Part 1: [Path Planning Part 1 Solutions](extra_files/unit4_path_planning_solutions.ipynb)"
   ]
  }
 ],
 "metadata": {
  "anaconda-cloud": {},
  "kernelspec": {
   "display_name": "Python [Root]",
   "language": "python",
   "name": "Python [Root]"
  },
  "language_info": {
   "codemirror_mode": {
    "name": "ipython",
    "version": 2
   },
   "file_extension": ".py",
   "mimetype": "text/x-python",
   "name": "python",
   "nbconvert_exporter": "python",
   "pygments_lexer": "ipython2",
   "version": "2.7.12"
  },
  "latex_metadata": {
   "chapter": "4 - Path Planning 1",
   "chapter_title": "Unit 4. Path Planning 1",
   "course_title": "ROS NAVIGATION IN 5 DAYS"
  }
 },
 "nbformat": 4,
 "nbformat_minor": 1
}
