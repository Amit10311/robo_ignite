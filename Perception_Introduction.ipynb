{
 "cells": [
  {
   "cell_type": "markdown",
   "metadata": {},
   "source": [
    "# Introduction"
   ]
  },
  {
   "cell_type": "markdown",
   "metadata": {},
   "source": [
    "Welcome to the third volume of the **In 5 Days** series of books for learning ROS."
   ]
  },
  {
   "cell_type": "markdown",
   "metadata": {},
   "source": [
    "If the first volume was dedicated to learning the basics of ROS (<i>ROS Basics in 5 days</i>), the second volume was dedicated to teach you how to use ROS for making a robot navigate in an environment (<i>ROS Navigation in 5 days</i>), this third volume is dedicated to teach **how to make your robot perceive the world using ROS packages**.<br>\n",
    "<br>\n",
    "Perception for a robot means, being able to sense what is happening in the environment that it is located. Perception is what allowed the navigation robot sense the obstacles to avoid. It is what makes a robot identify the can of coke. It is what allows the robot detect the line that it has to follow or the person it has to talk to.\n",
    "\n",
    "In this book you are going to learn how to use perception algorithms on a ROS based robot. You will learn to make the robot detect and follow people, identify objects using vision, identify flat locations where objects must be located, make robot follow directions based on vision, among other things."
   ]
  },
  {
   "cell_type": "markdown",
   "metadata": {},
   "source": [
    "Perception is the next most important skill for a service robot (after navigation) since it allows the robot identify the entities it has to interact with. In order to have a good perception system, robots need to have two things: the proper sensors and the good algorithms to make sense of the sensed :-). This book is about how to make the robot perceive the world **on a robot equipped with laser scan, camera and point cloud device**. Those are the most common and basic sensors available for robots, and we are going to use them for perception."
   ]
  },
  {
   "cell_type": "markdown",
   "metadata": {
    "caption": "Perception Intro Fetch Robot with StandinfPerson",
    "image": true,
    "name": "perception_1",
    "width": "10cm"
   },
   "source": [
    "<img src=\"img/perception_1.png\">"
   ]
  },
  {
   "cell_type": "markdown",
   "metadata": {},
   "source": [
    "Even if we only concentrate in teaching about ROS based perception, the task is not simple and it will require you 5 days of full work to understand and make it work for your robot."
   ]
  },
  {
   "cell_type": "markdown",
   "metadata": {},
   "source": [
    "* On day one, you will learn vision basics using OpenCV libraries with ROS, and apply it to **blob tracking** and **line followers**.\n",
    "* On day two, you will use point cloud information to do **surface recognition** and **object recognition**.\n",
    "* Day three wil be dedicated to use the camera to **detect faces and track them**.\n",
    "* Day four will be for **face recognition**. You will learn that there is a difference between face detection and face recognition. That is why both subjects are separated in different chapters.\n",
    "* Finally, on day five you will learn how to detect and track people using the camera and the laser. This is very useful when you want your robot to follow you around ;-)\n"
   ]
  },
  {
   "cell_type": "markdown",
   "metadata": {},
   "source": [
    "As you will see in Chapter 0, the whole book is structured on different chapters with a suggested time of completion. Follow the suggestions of that chapter if you want to maximize your learning experience. But do not stress too much if you cannot follow that rhythm. After all is just a suggestion."
   ]
  },
  {
   "cell_type": "markdown",
   "metadata": {},
   "source": [
    "### Simulations"
   ]
  },
  {
   "cell_type": "markdown",
   "metadata": {},
   "source": [
    "You are going to learn all the material using robot simulations. Robot simulations allow you to practice and see the results of your programming in real time, while you are learning and doing your tests. Simulations are also very convenient because those allow us to work with any robot of the world."
   ]
  },
  {
   "cell_type": "markdown",
   "metadata": {},
   "source": [
    "So for each chapter of the book you are going to need to launch a simulation and do your exercises with it. For that purpose we have prepared an online platform called the <a href=\"http://rds.theconstructsim.com\">ROS Development Studio </a>(RDS).<br><br>\n",
    "Using the RDS, you can develop all the exercises of the book and launch the simulations without having to install anything in your computer, being the only requirement to have a web browser. Since you will be developing online with the browser, you can use any type of computer to program ROS and launch simulations.<br><br>\n",
    "So go now to the RDS and create a free account."
   ]
  },
  {
   "cell_type": "markdown",
   "metadata": {
    "caption": "Perception TableTop recognition with FetchRobot",
    "image": true,
    "name": "perception_2",
    "width": "15cm"
   },
   "source": [
    "<img src=\"img/perception_2.png\">"
   ]
  },
  {
   "cell_type": "markdown",
   "metadata": {},
   "source": [
    "Once you have an account on RDS, you will have to open the **ROSjects** that we will provide to you for each Chapter. In the next Chapter, you have a complete guide about **ROSjects** and how to launch them.\n",
    "\n",
    "We recommend that you perform all the exercises in the RDS using the free account, so you can see the results in the simulated robot with minimum hasle."
   ]
  },
  {
   "cell_type": "markdown",
   "metadata": {},
   "source": [
    "Regarding the debate about simulations versus real robots, our suggestion is that, once you understand a perception concept, get a real robot and try to apply to it (if you have the chance). Simulations are very good for learning and testing, but nothing replaces the experience of using a real robot."
   ]
  },
  {
   "cell_type": "markdown",
   "metadata": {},
   "source": [
    "Now is your turn to start learning. Go for it. Remember that we are here to answer your questions and doubts (contact us at feedback@theconstructsim.com). And remember that you can **become a ROS master** by studying the rest of subjects that can be found in our other books:\n",
    "\n",
    "* ROS Basics in 5 days\n",
    "* ROS Navigation in 5 days\n",
    "* ROS Manipulation in 5 days"
   ]
  },
  {
   "cell_type": "markdown",
   "metadata": {},
   "source": [
    "<center>\n",
    "**Keep pushing your ROS learning!**</center>"
   ]
  }
 ],
 "metadata": {
  "anaconda-cloud": {},
  "kernelspec": {
   "display_name": "Python [Root]",
   "language": "python",
   "name": "Python [Root]"
  },
  "language_info": {
   "codemirror_mode": {
    "name": "ipython",
    "version": 2
   },
   "file_extension": ".py",
   "mimetype": "text/x-python",
   "name": "python",
   "nbconvert_exporter": "python",
   "pygments_lexer": "ipython2",
   "version": "2.7.12"
  },
  "latex_metadata": {
   "chapter": "Introduction",
   "chapter_title": "Introduction",
   "course_title": "ROS PERCEPTION IN 5 DAYS"
  }
 },
 "nbformat": 4,
 "nbformat_minor": 2
}
