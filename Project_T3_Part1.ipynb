{
 "cells": [
  {
   "cell_type": "markdown",
   "metadata": {},
   "source": [
    "# ROS Projects: Turtlebot3"
   ]
  },
  {
   "cell_type": "markdown",
   "metadata": {},
   "source": [
    "<img src=\"img/project_t3.png\" width=\"600\" />"
   ]
  },
  {
   "cell_type": "markdown",
   "metadata": {},
   "source": [
    "<img src=\"img/robotignite_logo_text.png\" width=\"600\"/>"
   ]
  },
  {
   "cell_type": "markdown",
   "metadata": {},
   "source": [
    "In the following notebook we are going to introduce you to a ROS project that will test different areas of your ROS knowledge. In order to successfully complete the project, you will need to complete all the exercises that are described in it. For this, you will need to use all your ROS knowledge and, maybe, get some new one. That's why in each section of this project, we are going to point to the different courses where you can get the required knowledge in order to complete the section. Good luck!\n",
    "\n",
    "The following project will be divided in 3 parts:\n",
    "\n",
    "* The first part will consist on applying some Navigation concepts.\n",
    "* The second part will consist on applying some Perception concepts.\n",
    "* The third and final part will consist on performing some Motion Plannings."
   ]
  },
  {
   "cell_type": "markdown",
   "metadata": {},
   "source": [
    "## Part 1: Navigation"
   ]
  },
  {
   "cell_type": "markdown",
   "metadata": {},
   "source": [
    "In this first part of the project you are going to need some Navigation basic concepts. In case you are already familiar with this topic, just go on with the section. In the case you are new to ROS Navigation, or you feel like you need to get more knowledge, you can learn everything you need in the **ROS Navigation in 5 Days Course**."
   ]
  },
  {
   "cell_type": "markdown",
   "metadata": {},
   "source": [
    "## Scene"
   ]
  },
  {
   "cell_type": "markdown",
   "metadata": {},
   "source": [
    "This first part of the project will be based in the following environment. As you can see, it a quite big area, with a shape that remembers a maze."
   ]
  },
  {
   "cell_type": "markdown",
   "metadata": {},
   "source": [
    "<img src=\"img/project_world.png\" width=\"800\" />"
   ]
  },
  {
   "cell_type": "markdown",
   "metadata": {},
   "source": [
    "Take a strole around to have a closer look at all the terrain and elements. Also get used on how the robot performs in this terrain. Use the **keyboard_teleop.launch** launch to move it."
   ]
  },
  {
   "cell_type": "markdown",
   "metadata": {},
   "source": [
    "<table style=\"float:left;background: #407EAF\">\n",
    "<tr>\n",
    "<th>\n",
    "<p class=\"transparent\">Execute in WebShell #1</p>\n",
    "</th>\n",
    "</tr>\n",
    "</table>"
   ]
  },
  {
   "cell_type": "code",
   "execution_count": null,
   "metadata": {
    "collapsed": true
   },
   "outputs": [],
   "source": [
    "roslaunch turtlebot_teleop keyboard_teleop.launch"
   ]
  },
  {
   "cell_type": "markdown",
   "metadata": {},
   "source": [
    "## Turtlebot3 Model"
   ]
  },
  {
   "cell_type": "markdown",
   "metadata": {},
   "source": [
    "For this part of the project, you will use the Turtlebot3 Burger model."
   ]
  },
  {
   "cell_type": "markdown",
   "metadata": {},
   "source": [
    "<img src=\"img/t3_burger.png\" width=\"400\" />"
   ]
  },
  {
   "cell_type": "markdown",
   "metadata": {},
   "source": [
    "## Sensors and actuators"
   ]
  },
  {
   "cell_type": "markdown",
   "metadata": {},
   "source": [
    "For this first part of the project, you will basically work with 2 of the sensors/actuators that the Turtlebot3 robot provides:"
   ]
  },
  {
   "cell_type": "markdown",
   "metadata": {},
   "source": [
    "* **Laser**: The Turtlebot3 robot is equipped with a 360º LiDAR laser. The data of this laser is published into the **/scan** topic.\n",
    "\n",
    "\n",
    "* **Wheels**: The Turtlebot3 robot receives velocity commands in order to move. This data has to be published into the **/cmd_vel** topic."
   ]
  },
  {
   "cell_type": "markdown",
   "metadata": {},
   "source": [
    "## Tasks to accomplish"
   ]
  },
  {
   "cell_type": "markdown",
   "metadata": {},
   "source": [
    "### 1. Create a map of the environment"
   ]
  },
  {
   "cell_type": "markdown",
   "metadata": {},
   "source": [
    "First of all you'll need to create a Map of the environment. This is always the first step when working with ROS Navigation! As you may already know, you will need to use the **slam_gmapping** node provided by the ROS Navigation Stack. So, the first task will be to create a launch file that starts this slam_gmapping node. You can detailed information on how to do this in the **Chapter 2** of the ROS Navigation in 5 Days Course."
   ]
  },
  {
   "cell_type": "markdown",
   "metadata": {},
   "source": [
    "In order to visualize the mapping process through RViz, you can use the following command, which will launch RViz with a predefined configuration."
   ]
  },
  {
   "cell_type": "code",
   "execution_count": null,
   "metadata": {
    "collapsed": true
   },
   "outputs": [],
   "source": [
    "rosrun rviz rviz -d `rospack find turtlebot3_slam`/rviz/turtlebot3_slam.rviz"
   ]
  },
  {
   "cell_type": "markdown",
   "metadata": {},
   "source": [
    "If your launch file for mapping the environment is correct, you should see in RViz something like this:"
   ]
  },
  {
   "cell_type": "markdown",
   "metadata": {},
   "source": [
    "**Before creating the map**"
   ]
  },
  {
   "cell_type": "markdown",
   "metadata": {},
   "source": [
    "<img src=\"img/project_map1.png\" width=\"600\" />"
   ]
  },
  {
   "cell_type": "markdown",
   "metadata": {},
   "source": [
    "**After creating the map**"
   ]
  },
  {
   "cell_type": "markdown",
   "metadata": {},
   "source": [
    "<img src=\"img/project_map2.png\" width=\"600\" />"
   ]
  },
  {
   "cell_type": "markdown",
   "metadata": {},
   "source": [
    "In order to succesfully finish this part, you should end up with 2 map files: **my_map.pgm** and **my_map.yaml**."
   ]
  },
  {
   "cell_type": "markdown",
   "metadata": {},
   "source": [
    "The **my_map.pgm** file should look like this:"
   ]
  },
  {
   "cell_type": "markdown",
   "metadata": {},
   "source": [
    "<img src=\"img/project_map3.png\" width=\"600\" />"
   ]
  },
  {
   "cell_type": "markdown",
   "metadata": {},
   "source": [
    "### 2. Localize the robot."
   ]
  },
  {
   "cell_type": "markdown",
   "metadata": {},
   "source": [
    "The second step will be to be able to localize the robot in the Map you have created. For that, you'll need to use the **amcl** node that the ROS Navigation Stack provides. So, you have to create a launch file in order to check if your robot is able localize itself correctly within the map. You can get detailed information on how to achieve this in the **Chapter 3** of the ROS Navigation in 5 Days Course."
   ]
  },
  {
   "cell_type": "markdown",
   "metadata": {},
   "source": [
    "For visualizing Localization through RViz, you can use the same command you used for mapping, just adding a **Pose Array** element. If you launch file for localization works correctly, you should be able to see something like this in RViz."
   ]
  },
  {
   "cell_type": "markdown",
   "metadata": {},
   "source": [
    "<img src=\"img/project_amcl1.png\" width=\"600\" />"
   ]
  },
  {
   "cell_type": "markdown",
   "metadata": {},
   "source": [
    "Also, after moving the robot a little bit around, the AMCL particles should converge into the most probable position of the robot. This is a way of checking that your Localization is working properly."
   ]
  },
  {
   "cell_type": "markdown",
   "metadata": {},
   "source": [
    "<img src=\"img/project_amcl2.png\" width=\"600\" />"
   ]
  },
  {
   "cell_type": "markdown",
   "metadata": {},
   "source": [
    "<img src=\"img/project_amcl3.png\" width=\"600\" />"
   ]
  },
  {
   "cell_type": "markdown",
   "metadata": {},
   "source": [
    "### 3. Navigate!"
   ]
  },
  {
   "cell_type": "markdown",
   "metadata": {},
   "source": [
    "Having completed the 2 previous steps, you're now ready to Navigate with your robot! So, you'll now need to create a launch file in order to start the **move_base** node provided by the ROS Navigation Stack. You can get detailed information on how the move_base node works on **Chapters 4 and 5** of the ROS Navigation in 5 Days Course."
   ]
  },
  {
   "cell_type": "markdown",
   "metadata": {},
   "source": [
    "In order to visualize all the Costmaps and the Plans, you can use the following command:"
   ]
  },
  {
   "cell_type": "code",
   "execution_count": null,
   "metadata": {
    "collapsed": true
   },
   "outputs": [],
   "source": [
    "rosrun rviz rviz -d `rospack find turtlebot3_navigation`/rviz/turtlebot3_nav.rviz"
   ]
  },
  {
   "cell_type": "markdown",
   "metadata": {},
   "source": [
    "At the end, you should be able to send Navigation Goals to your robot, and you robot should reach this goals without colliding with any obstacle."
   ]
  },
  {
   "cell_type": "markdown",
   "metadata": {},
   "source": [
    "<img src=\"img/project_nav.gif\" width=\"600\" />"
   ]
  },
  {
   "cell_type": "markdown",
   "metadata": {},
   "source": [
    "### 4. Patrol an area"
   ]
  },
  {
   "cell_type": "markdown",
   "metadata": {},
   "source": [
    "In order to end this first part of the project, you will have to make your robot patrol an area. This will be done by creating a set of waypoints that your Turtlebot3 robot will have to follow. This will give much more flexibilty to the robot, since it is not limited to follow goals 1 by 1, but it can concatenate many goals at a time. "
   ]
  },
  {
   "cell_type": "markdown",
   "metadata": {},
   "source": [
    "You can get detailed information on how to this in the final part of the **Unit 1** of the **Jackal Course**."
   ]
  },
  {
   "cell_type": "markdown",
   "metadata": {},
   "source": [
    "The final result should look something like this:"
   ]
  },
  {
   "cell_type": "markdown",
   "metadata": {},
   "source": [
    "<img src=\"img/project_waypoints.gif\" width=\"600\" />"
   ]
  }
 ],
 "metadata": {
  "anaconda-cloud": {},
  "kernelspec": {
   "display_name": "Python [Root]",
   "language": "python",
   "name": "Python [Root]"
  },
  "language_info": {
   "codemirror_mode": {
    "name": "ipython",
    "version": 2
   },
   "file_extension": ".py",
   "mimetype": "text/x-python",
   "name": "python",
   "nbconvert_exporter": "python",
   "pygments_lexer": "ipython2",
   "version": "2.7.12"
  },
  "latex_metadata": {
   "chapter": "5 - Grasping",
   "chapter_title": "Unit 5. Grasping",
   "course_title": "ROS MANIPULATION IN 5 DAYS"
  }
 },
 "nbformat": 4,
 "nbformat_minor": 1
}
