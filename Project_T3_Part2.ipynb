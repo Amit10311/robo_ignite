{
 "cells": [
  {
   "cell_type": "markdown",
   "metadata": {},
   "source": [
    "# ROS Projects: Turtlebot3"
   ]
  },
  {
   "cell_type": "markdown",
   "metadata": {},
   "source": [
    "<img src=\"img/project_objects.png\" width=\"600\" />"
   ]
  },
  {
   "cell_type": "markdown",
   "metadata": {},
   "source": [
    "<img src=\"img/robotignite_logo_text.png\" width=\"600\"/>"
   ]
  },
  {
   "cell_type": "markdown",
   "metadata": {},
   "source": [
    "In the following notebook we are going to introduce you to a ROS project that will test different areas of your ROS knowledge. In order to successfully complete the project, you will need to complete all the exercises that are described in it. For this, you will need to use all your ROS knowledge and, maybe, get some new one. That's why in each section of this project, we are going to point to the different courses where you can get the required knowledge in order to complete the section. Good luck!\n",
    "\n",
    "The following project will be divided in 3 parts:\n",
    "\n",
    "* The first part will consist on applying some Navigation concepts.\n",
    "* The second part will consist on applying some Perception concepts.\n",
    "* The third and final part will consist on performing some Motion Plannings."
   ]
  },
  {
   "cell_type": "markdown",
   "metadata": {},
   "source": [
    "## Part 2: Perception"
   ]
  },
  {
   "cell_type": "markdown",
   "metadata": {},
   "source": [
    "In this first part of the project you are going to need some Perception basic concepts. In case you are already familiar with this topic, just go on with the section. In the case you are new to ROS Perception, or you feel like you need to get more knowledge, you can learn everything you need in the **ROS Perception in 5 Days Course**."
   ]
  },
  {
   "cell_type": "markdown",
   "metadata": {},
   "source": [
    "## Scene"
   ]
  },
  {
   "cell_type": "markdown",
   "metadata": {},
   "source": [
    "This first part of the project will be based in the following environment. As you can see, it a smaller area, with some objects on it."
   ]
  },
  {
   "cell_type": "markdown",
   "metadata": {},
   "source": [
    "<img src=\"img/project_perception_scene.png\" width=\"800\" />"
   ]
  },
  {
   "cell_type": "markdown",
   "metadata": {},
   "source": [
    "The objects that appear in the simulation are the following:"
   ]
  },
  {
   "cell_type": "markdown",
   "metadata": {},
   "source": [
    "<div style=\"text-align: left\">\n",
    "<img src=\"img/pringles.png\" width=\"200\" style=\"float: left; margin: 0px 0px 15px 15px;\"/>\n",
    "<img src=\"img/coke.png\" width=\"191\" style=\"float: left; margin: 0px 0px 15px 15px;\"/>\n",
    "<img src=\"img/cookies.png\" width=\"191\" style=\"float: left; margin: 0px 0px 15px 15px;\"/>\n",
    "<img src=\"img/bifrutas.png\" width=\"159\" style=\"float: left; margin: 0px 0px 15px 15px;\"/>\n",
    "</div>"
   ]
  },
  {
   "cell_type": "markdown",
   "metadata": {},
   "source": [
    "## Turtlebot3 Model"
   ]
  },
  {
   "cell_type": "markdown",
   "metadata": {},
   "source": [
    "For this part of the project, you will use the Turtlebot3 Waffle model, with an Open Manipulator on its top (although you are not going to use it yet)."
   ]
  },
  {
   "cell_type": "markdown",
   "metadata": {},
   "source": [
    "<img src=\"img/t3_waffle_with_arm.png\" width=\"400\" />"
   ]
  },
  {
   "cell_type": "markdown",
   "metadata": {},
   "source": [
    "## Sensors and actuators"
   ]
  },
  {
   "cell_type": "markdown",
   "metadata": {},
   "source": [
    "For this first part of the project, you will basically work with 1 of the sensors/actuators that the Turtlebot3 robot provides:"
   ]
  },
  {
   "cell_type": "markdown",
   "metadata": {},
   "source": [
    "* **Camera**: The Turtlebot3 robot is equipped with an Intel RealSense 3D camera. The data of this camera is published into the following topics."
   ]
  },
  {
   "cell_type": "markdown",
   "metadata": {},
   "source": [
    "<img src=\"img/project_camera_topics.png\" width=\"800\" />"
   ]
  },
  {
   "cell_type": "markdown",
   "metadata": {},
   "source": [
    "## Tasks to accomplish"
   ]
  },
  {
   "cell_type": "markdown",
   "metadata": {},
   "source": [
    "### 1. Recognize the objects"
   ]
  },
  {
   "cell_type": "markdown",
   "metadata": {},
   "source": [
    "First of all you'll need to be able to recognize each one of the objects that appear in the simulation. For that' you are going to use the **find_object_2d** package. You will find more detailed information on how to achieve this in the **Unit 3** of the ROS Perception in 5 Days Course."
   ]
  },
  {
   "cell_type": "markdown",
   "metadata": {},
   "source": [
    "For instance, using the Pringles box as a reference, you should end up with something like this:"
   ]
  },
  {
   "cell_type": "markdown",
   "metadata": {},
   "source": [
    "<img src=\"img/project_pringles1.png\" width=\"600\" />"
   ]
  },
  {
   "cell_type": "markdown",
   "metadata": {},
   "source": [
    "### 2. Localize the objects"
   ]
  },
  {
   "cell_type": "markdown",
   "metadata": {},
   "source": [
    "The second step will be to be able to localize the robot in the 3D space. And you will do that using TFs. In order to get detailed information about how to achieve this, you can also find it in the **Unit 3** of the ROS Perception in 5 Days Course."
   ]
  },
  {
   "cell_type": "markdown",
   "metadata": {},
   "source": [
    "For instance, with the Pringles box, you should be able to see something like this in RViz."
   ]
  },
  {
   "cell_type": "markdown",
   "metadata": {},
   "source": [
    "<img src=\"img/project_pringles2.png\" width=\"600\" />"
   ]
  },
  {
   "cell_type": "markdown",
   "metadata": {},
   "source": [
    "### 3. Get the position of the objects in the world"
   ]
  },
  {
   "cell_type": "markdown",
   "metadata": {},
   "source": [
    "Finally, you are going to build a table with the position of the objects regarding the odom frame, which we are going to consider as the total zero (0,0,0) position of the world. For that, you'll need to get the position of the objects using the TFs that you publish in the previous step."
   ]
  },
  {
   "cell_type": "markdown",
   "metadata": {},
   "source": [
    "In order to better understand how to do this, you can have a look at the final part of the **Unit 5** of the **Smart Grasping System Course**."
   ]
  }
 ],
 "metadata": {
  "anaconda-cloud": {},
  "kernelspec": {
   "display_name": "Python [Root]",
   "language": "python",
   "name": "Python [Root]"
  },
  "language_info": {
   "codemirror_mode": {
    "name": "ipython",
    "version": 2
   },
   "file_extension": ".py",
   "mimetype": "text/x-python",
   "name": "python",
   "nbconvert_exporter": "python",
   "pygments_lexer": "ipython2",
   "version": "2.7.12"
  },
  "latex_metadata": {
   "chapter": "5 - Grasping",
   "chapter_title": "Unit 5. Grasping",
   "course_title": "ROS MANIPULATION IN 5 DAYS"
  }
 },
 "nbformat": 4,
 "nbformat_minor": 1
}
