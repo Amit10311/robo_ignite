{
 "cells": [
  {
   "cell_type": "markdown",
   "metadata": {},
   "source": [
    "# ROS Projects: Turtlebot3"
   ]
  },
  {
   "cell_type": "markdown",
   "metadata": {},
   "source": [
    "<img src=\"img/project_manip_image.png\" width=\"600\" />"
   ]
  },
  {
   "cell_type": "markdown",
   "metadata": {},
   "source": [
    "<img src=\"img/robotignite_logo_text.png\" width=\"600\"/>"
   ]
  },
  {
   "cell_type": "markdown",
   "metadata": {},
   "source": [
    "In the following notebook we are going to introduce you to a ROS project that will test different areas of your ROS knowledge. In order to successfully complete the project, you will need to complete all the exercises that are described in it. For this, you will need to use all your ROS knowledge and, maybe, get some new one. That's why in each section of this project, we are going to point to the different courses where you can get the required knowledge in order to complete the section. Good luck!\n",
    "\n",
    "The following project will be divided in 3 parts:\n",
    "\n",
    "* The first part will consist on applying some Navigation concepts.\n",
    "* The second part will consist on applying some Perception concepts.\n",
    "* The third and final part will consist on performing some Motion Plannings."
   ]
  },
  {
   "cell_type": "markdown",
   "metadata": {},
   "source": [
    "## Part 3: Motion Planning"
   ]
  },
  {
   "cell_type": "markdown",
   "metadata": {},
   "source": [
    "In this first part of the project you are going to need some Manipulation basic concepts. In case you are already familiar with this topic, just go on with the section. In the case you are new to ROS Perception, or you feel like you need to get more knowledge, you can learn everything you need in the **ROS Manipulation in 5 Days Course**."
   ]
  },
  {
   "cell_type": "markdown",
   "metadata": {},
   "source": [
    "## Scene"
   ]
  },
  {
   "cell_type": "markdown",
   "metadata": {},
   "source": [
    "This first part of the project will be based in the following environment. It is actually the same environment as before, but without the objects in it."
   ]
  },
  {
   "cell_type": "markdown",
   "metadata": {},
   "source": [
    "<img src=\"img/project_manip_scene.png\" width=\"800\" />"
   ]
  },
  {
   "cell_type": "markdown",
   "metadata": {},
   "source": [
    "## Turtlebot3 Model"
   ]
  },
  {
   "cell_type": "markdown",
   "metadata": {},
   "source": [
    "For this part of the project, you will use the Turtlebot3 Waffle model, with an Open Manipulator on its top. And in this final part of the project, you are going to actually use it."
   ]
  },
  {
   "cell_type": "markdown",
   "metadata": {},
   "source": [
    "<img src=\"img/t3_waffle_with_arm.png\" width=\"400\" />"
   ]
  },
  {
   "cell_type": "markdown",
   "metadata": {},
   "source": [
    "## Sensors and actuators"
   ]
  },
  {
   "cell_type": "markdown",
   "metadata": {},
   "source": [
    "For this first part of the project, you will basically work with 1 of the sensors/actuators that the Turtlebot3 robot provides:"
   ]
  },
  {
   "cell_type": "markdown",
   "metadata": {},
   "source": [
    "* **Robotic Arm**: A robotic arm can be attached to the Turtlebot3 robot in order to perform manipulation tasks. The data of this arm and its gripper is published into the following topics."
   ]
  },
  {
   "cell_type": "markdown",
   "metadata": {},
   "source": [
    "<img src=\"img/project_arm_topics.png\" width=\"800\" />"
   ]
  },
  {
   "cell_type": "markdown",
   "metadata": {},
   "source": [
    "## Tasks to accomplish"
   ]
  },
  {
   "cell_type": "markdown",
   "metadata": {},
   "source": [
    "### 1. Create a MoveIt package for the arm"
   ]
  },
  {
   "cell_type": "markdown",
   "metadata": {},
   "source": [
    "First of all, you will have to create a MoveIt package for controlling the arm of the robot with MoveIt. You can have a look at how to that in the **first part** of the **Unit 2** of the ROS Manipulation in 5 Days Course."
   ]
  },
  {
   "cell_type": "markdown",
   "metadata": {},
   "source": [
    "At the end, if you'vedone everything well, you should be able to see something like this in MoveIt:"
   ]
  },
  {
   "cell_type": "markdown",
   "metadata": {},
   "source": [
    "<img src=\"img/moveit1.png\" width=\"600\" />"
   ]
  },
  {
   "cell_type": "markdown",
   "metadata": {},
   "source": [
    "And of course, you should be able to perform some simulated motions in MoveIt."
   ]
  },
  {
   "cell_type": "markdown",
   "metadata": {},
   "source": [
    "### 2. Move the real robotic arm"
   ]
  },
  {
   "cell_type": "markdown",
   "metadata": {},
   "source": [
    "The second step will be to modify a little bit the MoveIt package in order to move the robotic arm in the simulation. For achieving this, you can have a look at the **second part** of the **Unit 2** of the ROS Manipulation in 5 Days Course."
   ]
  },
  {
   "cell_type": "markdown",
   "metadata": {},
   "source": [
    "For instance, you should be able to execute motions in the simulated robot, like the following one:"
   ]
  },
  {
   "cell_type": "markdown",
   "metadata": {},
   "source": [
    "<img src=\"img/traj_exec.gif\" width=\"600\" />"
   ]
  },
  {
   "cell_type": "markdown",
   "metadata": {},
   "source": [
    "### 3. Create a Wave Motion using code"
   ]
  },
  {
   "cell_type": "markdown",
   "metadata": {},
   "source": [
    "Finally, you will have to create a Python script that makes the robot perform a \"wave\" motion. For achieving this part, you should have a look at the **Unit 3** of the ROS Manipulation in 5 Days Course. For doing this, I highly recommend to follow the **Planning to a joint space** section. It will make things much more easiers."
   ]
  },
  {
   "cell_type": "markdown",
   "metadata": {},
   "source": [
    "Also, you can do some tests moving the different joints using the **rqt** tool. If you don't know how to work with rqt, you can have a look at the **Controlling the hand through Rqt** section of the **Unit 1** of the **Smart Grasping System Course**."
   ]
  },
  {
   "cell_type": "markdown",
   "metadata": {},
   "source": [
    "At the end, you should get a motion similar to the following one:"
   ]
  },
  {
   "cell_type": "markdown",
   "metadata": {},
   "source": [
    "<img src=\"img/t3_wave.gif\" width=\"600\" />"
   ]
  }
 ],
 "metadata": {
  "anaconda-cloud": {},
  "kernelspec": {
   "display_name": "Python [Root]",
   "language": "python",
   "name": "Python [Root]"
  },
  "language_info": {
   "codemirror_mode": {
    "name": "ipython",
    "version": 2
   },
   "file_extension": ".py",
   "mimetype": "text/x-python",
   "name": "python",
   "nbconvert_exporter": "python",
   "pygments_lexer": "ipython2",
   "version": "2.7.12"
  },
  "latex_metadata": {
   "chapter": "5 - Grasping",
   "chapter_title": "Unit 5. Grasping",
   "course_title": "ROS MANIPULATION IN 5 DAYS"
  }
 },
 "nbformat": 4,
 "nbformat_minor": 1
}
