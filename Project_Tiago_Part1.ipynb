{
 "cells": [
  {
   "cell_type": "markdown",
   "metadata": {},
   "source": [
    "# ROS Projects: TIAGo"
   ]
  },
  {
   "cell_type": "markdown",
   "metadata": {},
   "source": [
    "<img src=\"img/tiago_project_image.png\" width=\"600\" />"
   ]
  },
  {
   "cell_type": "markdown",
   "metadata": {},
   "source": [
    "<img src=\"img/robotignite_logo_text.png\" width=\"600\"/>"
   ]
  },
  {
   "cell_type": "markdown",
   "metadata": {},
   "source": [
    "In the following notebook we are going to introduce you to a ROS project that will test different areas of your ROS knowledge. In order to successfully complete the project, you will need to complete all the exercises that are described in it. For this, you will need to use all your ROS knowledge and, maybe, get some new one. That's why in each section of this project, we are going to point to the different courses where you can get the required knowledge in order to complete the section. Good luck!\n",
    "\n",
    "The following project will be divided in 2 parts:\n",
    "\n",
    "* The 1st part will consist on applying some Navigation concepts.\n",
    "* The 2nd and final part will consist on performing some Motion Plannings, combining them with Navigation."
   ]
  },
  {
   "cell_type": "markdown",
   "metadata": {},
   "source": [
    "## Scene"
   ]
  },
  {
   "cell_type": "markdown",
   "metadata": {},
   "source": [
    "This first part of the project will be based in the following environment. As you can see, it a quite big room, with several pieces of furniture."
   ]
  },
  {
   "cell_type": "markdown",
   "metadata": {},
   "source": [
    "<img src=\"img/tiago_project_scene.png\" width=\"800\" />"
   ]
  },
  {
   "cell_type": "markdown",
   "metadata": {},
   "source": [
    "Take a strole around to have a closer look at all the terrain and elements. Also get used on how the robot performs in this terrain. Use the **key_teleop.py** script to move it."
   ]
  },
  {
   "cell_type": "markdown",
   "metadata": {},
   "source": [
    "<table style=\"float:left;background: #407EAF\">\n",
    "<tr>\n",
    "<th>\n",
    "<p class=\"transparent\">Execute in WebShell #1</p>\n",
    "</th>\n",
    "</tr>\n",
    "</table>"
   ]
  },
  {
   "cell_type": "code",
   "execution_count": null,
   "metadata": {
    "collapsed": true
   },
   "outputs": [],
   "source": [
    "rosrun key_teleop key_teleop.py"
   ]
  },
  {
   "cell_type": "markdown",
   "metadata": {},
   "source": [
    "## TIAGo Model"
   ]
  },
  {
   "cell_type": "markdown",
   "metadata": {},
   "source": [
    "For this part of the project, you will use the TIAGo Steel robot."
   ]
  },
  {
   "cell_type": "markdown",
   "metadata": {},
   "source": [
    "<img src=\"img/tiago.png\" width=\"400\" />"
   ]
  },
  {
   "cell_type": "markdown",
   "metadata": {},
   "source": [
    "## Sensors and actuators"
   ]
  },
  {
   "cell_type": "markdown",
   "metadata": {},
   "source": [
    "For this first part of the project, you will basically work with 2 of the sensors/actuators that the Turtlebot3 robot provides:"
   ]
  },
  {
   "cell_type": "markdown",
   "metadata": {},
   "source": [
    "* **Laser**: The TIAGo robot is equipped with a Laser range-finder. The data of this laser is published into the **/scan** topic.\n",
    "\n",
    "\n",
    "* **Wheels**: The TIAGo robot receives velocity commands in order to move. This data has to be published into the **/mobile_base_controller/cmd_vel** topic."
   ]
  },
  {
   "cell_type": "markdown",
   "metadata": {},
   "source": [
    "## Part 1: Navigation"
   ]
  },
  {
   "cell_type": "markdown",
   "metadata": {},
   "source": [
    "In this first part of the project you are going to need some Navigation basic concepts. In case you are already familiar with this topic, just go on with the section. In the case you are new to ROS Navigation, or you feel like you need to get more knowledge, you can learn everything you need in the **ROS Navigation in 5 Days Course**."
   ]
  },
  {
   "cell_type": "markdown",
   "metadata": {},
   "source": [
    "## Tasks to accomplish"
   ]
  },
  {
   "cell_type": "markdown",
   "metadata": {},
   "source": [
    "### 1. Create a map of the environment"
   ]
  },
  {
   "cell_type": "markdown",
   "metadata": {},
   "source": [
    "First of all you'll need to create a Map of the environment. This is always the first step when working with ROS Navigation! As you may already know, you will need to use the **slam_gmapping** node provided by the ROS Navigation Stack. So, the first task will be to create a launch file that starts this slam_gmapping node. You can detailed information on how to do this in the **Chapter 2** of the **ROS Navigation in 5 Days** Course."
   ]
  },
  {
   "cell_type": "markdown",
   "metadata": {},
   "source": [
    "Also, in order to visualize the mapping process through RViz, you will have to launch RViz and add the necessary elements in order to visualize the Mapping process."
   ]
  },
  {
   "cell_type": "markdown",
   "metadata": {},
   "source": [
    "If your launch file for mapping the environment is correct, you should see in RViz something like this:"
   ]
  },
  {
   "cell_type": "markdown",
   "metadata": {},
   "source": [
    "**Before creating the map**"
   ]
  },
  {
   "cell_type": "markdown",
   "metadata": {},
   "source": [
    "<img src=\"img/tiago_map1.png\" width=\"600\" />"
   ]
  },
  {
   "cell_type": "markdown",
   "metadata": {},
   "source": [
    "**After creating the map**"
   ]
  },
  {
   "cell_type": "markdown",
   "metadata": {},
   "source": [
    "<img src=\"img/tiago_map2.png\" width=\"600\" />"
   ]
  },
  {
   "cell_type": "markdown",
   "metadata": {},
   "source": [
    "In order to succesfully finish this part, you should end up with 2 map files: **my_map.pgm** and **my_map.yaml**."
   ]
  },
  {
   "cell_type": "code",
   "execution_count": null,
   "metadata": {
    "collapsed": true
   },
   "outputs": [],
   "source": [
    "image: my_map.pgm\n",
    "resolution: 0.050000\n",
    "origin: [-50.000000, -50.000000, 0.000000]\n",
    "negate: 0\n",
    "occupied_thresh: 0.65\n",
    "free_thresh: 0.196"
   ]
  },
  {
   "cell_type": "markdown",
   "metadata": {},
   "source": [
    "The **my_map.pgm** file should look like this:"
   ]
  },
  {
   "cell_type": "markdown",
   "metadata": {},
   "source": [
    "<img src=\"img/tiago_map3.png\" width=\"600\" />"
   ]
  },
  {
   "cell_type": "markdown",
   "metadata": {},
   "source": [
    "### 2. Localize the robot."
   ]
  },
  {
   "cell_type": "markdown",
   "metadata": {},
   "source": [
    "The second step will be to be able to localize the robot in the Map you have created. For that, you'll need to use the **amcl** node that the ROS Navigation Stack provides. So, you have to create a launch file in order to check if your robot is able localize itself correctly within the map. You can get detailed information on how to achieve this in the **Chapter 3** of the **ROS Navigation in 5 Days** Course."
   ]
  },
  {
   "cell_type": "markdown",
   "metadata": {},
   "source": [
    "For visualizing Localization through RViz, you will have to add a **Pose Array** element. If your launch file for localization works correctly, you should be able to see something like this in RViz."
   ]
  },
  {
   "cell_type": "markdown",
   "metadata": {},
   "source": [
    "<img src=\"img/tiago_localization1.png\" width=\"600\" />"
   ]
  },
  {
   "cell_type": "markdown",
   "metadata": {},
   "source": [
    "Also, after moving the robot a little bit around, the AMCL particles should converge into the most probable position of the robot. This is a way of checking that your Localization is working properly."
   ]
  },
  {
   "cell_type": "markdown",
   "metadata": {},
   "source": [
    "<img src=\"img/tiago_localization2.png\" width=\"600\" />"
   ]
  },
  {
   "cell_type": "markdown",
   "metadata": {},
   "source": [
    "<img src=\"img/tiago_localization3.png\" width=\"600\" />"
   ]
  },
  {
   "cell_type": "markdown",
   "metadata": {},
   "source": [
    "### 3. Navigate!"
   ]
  },
  {
   "cell_type": "markdown",
   "metadata": {},
   "source": [
    "Having completed the 2 previous steps, you're now ready to Navigate with your robot! So, you'll now need to create a launch file in order to start the **move_base** node provided by the ROS Navigation Stack. You can get detailed information on how the move_base node works on **Chapters 4 and 5** of the **ROS Navigation in 5 Days Course**."
   ]
  },
  {
   "cell_type": "markdown",
   "metadata": {},
   "source": [
    "Also, you will have to add to RViz the required elements in order to visualize all the Costmaps and the Plans."
   ]
  },
  {
   "cell_type": "markdown",
   "metadata": {},
   "source": [
    "At the end, you should be able to send Navigation Goals to your robot, and you robot should reach this goals without colliding with any obstacle."
   ]
  },
  {
   "cell_type": "markdown",
   "metadata": {},
   "source": [
    "<img src=\"img/tiago_nav.gif\" width=\"600\" />"
   ]
  },
  {
   "cell_type": "markdown",
   "metadata": {},
   "source": [
    "### 4. Send Goals through code"
   ]
  },
  {
   "cell_type": "markdown",
   "metadata": {},
   "source": [
    "In order to end this first part of the project, you will have to make your own script that is able to send goals to the robot. So, basically, you will have to implement an Action Client that communicates with the **move_base** Action Server. "
   ]
  },
  {
   "cell_type": "markdown",
   "metadata": {},
   "source": [
    "You can get detailed information on how to create an Action Server on the **Unit 8** of the **ROS Basics in 5 Days** Course. Also, you can get detailed information of how the **move_base** node and the Path Planning system works on the **Chapters 4 and 5** of the **ROS Navigation in 5 Days** Course."
   ]
  },
  {
   "cell_type": "markdown",
   "metadata": {},
   "source": [
    "## Part 2: Pick & Place"
   ]
  },
  {
   "cell_type": "markdown",
   "metadata": {},
   "source": [
    "In this second part of the project you are going to need some Manipulation basic concepts. In case you are already familiar with this topic, just go on with the section. In the case you are new to ROS Manipulation, or you feel like you need to get more knowledge, you can learn everything you need in the **ROS Manipulation in 5 Days Course**."
   ]
  },
  {
   "cell_type": "markdown",
   "metadata": {},
   "source": [
    "### 1. Download the required code"
   ]
  },
  {
   "cell_type": "markdown",
   "metadata": {},
   "source": [
    "In order to perform a pick and place task with the TIAGo robot, you will need to download some code that it is already made by the guys of PAL Robotics. You will need to download the **tiago_pick_demo** package, which you can find in the following link:"
   ]
  },
  {
   "cell_type": "markdown",
   "metadata": {},
   "source": [
    "https://github.com/pal-robotics/tiago_tutorials/tree/master/tiago_pick_demo"
   ]
  },
  {
   "cell_type": "markdown",
   "metadata": {},
   "source": [
    "You can now try to perform a basic pick and place demo, to check that everything is working fine. In order to see how you can do that, you can have a look at the **Unit 6** of the **Mastering with ROS: TIAGo** Course. "
   ]
  },
  {
   "cell_type": "markdown",
   "metadata": {},
   "source": [
    "You should be able to perform a pick and place motion like the following one:"
   ]
  },
  {
   "cell_type": "markdown",
   "metadata": {},
   "source": [
    "<img src=\"img/pick_place_sim.gif\" width=\"600\" />"
   ]
  },
  {
   "cell_type": "markdown",
   "metadata": {},
   "source": [
    "### 2. Modify the pick and place demo"
   ]
  },
  {
   "cell_type": "markdown",
   "metadata": {},
   "source": [
    "For this last part of the Project, you are going to modify a little bit the existing pick and place demo. The new demo you are going create has to perform the following sequence:"
   ]
  },
  {
   "cell_type": "markdown",
   "metadata": {},
   "source": [
    "<ol>\n",
    "<li>**First**, it will automatically go to the table containing the object to grasp. This means, no matter where the robot is located in the room, it will go in front of the table in order to pick it.</li>\n",
    "<li>**Second**, it will pick the object from the table, without automatically executing the place motion after it.</li>\n",
    "<li>**Third**, it wil automatically go one of the other 2 tables.</li>\n",
    "<li>**Finally**, it will place the object in that table.</li>\n",
    "</ol>"
   ]
  },
  {
   "cell_type": "markdown",
   "metadata": {},
   "source": [
    "#### TIPS "
   ]
  },
  {
   "cell_type": "markdown",
   "metadata": {},
   "source": [
    "You will have to do some modification in the existing code of the pick and place demo. For instance, the current demo performs the place motion automatically after the grasp motion finishes. You can see this in the **pick_client.py** file."
   ]
  },
  {
   "cell_type": "markdown",
   "metadata": {},
   "source": [
    "Inside this file, within the **pick_aruco()** function, you can see at the end the following lines of code:"
   ]
  },
  {
   "cell_type": "code",
   "execution_count": null,
   "metadata": {
    "collapsed": true
   },
   "outputs": [],
   "source": [
    "# Place the object back to its position\n",
    "rospy.loginfo(\"Gonna place near where it was\")\n",
    "pick_g.object_pose.pose.position.z += 0.05\n",
    "self.place_as.send_goal_and_wait(pick_g)\n",
    "rospy.loginfo(\"Done!\")"
   ]
  },
  {
   "cell_type": "markdown",
   "metadata": {},
   "source": [
    "You will have to change this behavior so that TIAGo doesn't place the object back again."
   ]
  },
  {
   "cell_type": "markdown",
   "metadata": {},
   "source": [
    "Also, you will need to generate a main code that combines both Navigation and Manipulation, and performs the required call to each one of the parts. The basic structure of the code coud be something like this:"
   ]
  },
  {
   "cell_type": "code",
   "execution_count": null,
   "metadata": {
    "collapsed": true
   },
   "outputs": [],
   "source": [
    "class newDemo()\n",
    "    def goto_start()\n",
    "        # Go to the table where the object is spawned first\n",
    "    def pick()\n",
    "        # Perform the pick motion\n",
    "    def goto_table()\n",
    "        # Go to one of the other tables\n",
    "    def place()\n",
    "        # Place the object in the table\n",
    "        \n",
    "if __name__ == '__main__':\n",
    "    rospy.init_node('')\n",
    "    new_demo = newDemo()\n",
    "    new_demo.goto_start()\n",
    "    new_demo.pick()\n",
    "    new_demo.goto_table()\n",
    "    new_demo.place()"
   ]
  },
  {
   "cell_type": "markdown",
   "metadata": {},
   "source": [
    "**IMPORTANT**: Bear in mind that you don't need to create the whole code for picking and placing. It is already done! All you will need to do is to do some modifications in the existing code. Then, within the main code, you will have to write the required calls in order to activate the pick and place motions. "
   ]
  }
 ],
 "metadata": {
  "anaconda-cloud": {},
  "kernelspec": {
   "display_name": "Python [Root]",
   "language": "python",
   "name": "Python [Root]"
  },
  "language_info": {
   "codemirror_mode": {
    "name": "ipython",
    "version": 2
   },
   "file_extension": ".py",
   "mimetype": "text/x-python",
   "name": "python",
   "nbconvert_exporter": "python",
   "pygments_lexer": "ipython2",
   "version": "2.7.12"
  },
  "latex_metadata": {
   "chapter": "5 - Grasping",
   "chapter_title": "Unit 5. Grasping",
   "course_title": "ROS MANIPULATION IN 5 DAYS"
  }
 },
 "nbformat": 4,
 "nbformat_minor": 1
}
