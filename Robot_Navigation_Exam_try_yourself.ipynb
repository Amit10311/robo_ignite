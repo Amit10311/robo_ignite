{
 "cells": [
  {
   "cell_type": "markdown",
   "metadata": {},
   "source": [
    "# Robot Navigation Exam"
   ]
  },
  {
   "cell_type": "markdown",
   "metadata": {},
   "source": [
    "<img src=\"img/project1.png\">"
   ]
  },
  {
   "cell_type": "markdown",
   "metadata": {},
   "source": [
    "### Conditions of the exam:\n",
    "* You can use internet to look for solutions\n",
    "* You can use your notes\n",
    "* You can use previous projects and exercises done in class\n",
    "* You can ask the teachers questions related to the understanding of the exercise, but not related to how to solve the exercise\n",
    "* You cannot use internet to ask somebody how to do it\n",
    "* You cannot copy from somebody else\n",
    "* We will not tolerate cheating: if we find somebody that has copied from somebody else, both students will get a 0 in the exam\n",
    "* Remember that you are using a web application that is recording everything you are doing, so if you upload code from someone else, if you chat with others or if you take any cheating measure, the system is going to record it. We will use that information to justify that you were cheating, and hence, be reproved."
   ]
  },
  {
   "cell_type": "markdown",
   "metadata": {},
   "source": [
    "### Additional data "
   ]
  },
  {
   "cell_type": "markdown",
   "metadata": {},
   "source": [
    "The exam has two parts:\n",
    "* Practical part\n",
    "* Theoretical part\n",
    "\n",
    "You can do whaterver parts you want. Every part has its score points indicated, so you can select which parts want to do.\n",
    "\n",
    "Time for completion is 2 hours 40 minutes"
   ]
  },
  {
   "cell_type": "markdown",
   "metadata": {},
   "source": [
    "Once you have finished your exam or time is up, download the whole *src* directory and send it to *rtellez@theconstructsim.com*"
   ]
  },
  {
   "cell_type": "markdown",
   "metadata": {},
   "source": [
    "## Practical part (6 points)"
   ]
  },
  {
   "cell_type": "markdown",
   "metadata": {},
   "source": [
    "(estimated time for completion: 1.5 hours)"
   ]
  },
  {
   "cell_type": "markdown",
   "metadata": {},
   "source": [
    "### 1. Create a map of the environment (1.5 points)"
   ]
  },
  {
   "cell_type": "markdown",
   "metadata": {},
   "source": [
    "Create a map of the whole simulation environment. Steps to be done include:\n",
    "* Create a package with name *YOUR_NAME_mapping*\n",
    "* Create the launch file for launching the gmapping. Name the file mapping_start.launch\n",
    "* Launch that launch file to start the mapping system\n",
    "* Check that everything is correct by using the Rviz\n",
    "* Move the robot around so the map is created. Use the following command to launch the keyboard control:"
   ]
  },
  {
   "cell_type": "code",
   "execution_count": null,
   "metadata": {
    "collapsed": true
   },
   "outputs": [],
   "source": [
    "roslaunch summit_xl_gazebo keyboard_teleop.launch"
   ]
  },
  {
   "cell_type": "markdown",
   "metadata": {},
   "source": [
    "* Once you have finished the map, save it inside the package you created with name YOUR_NAME_map"
   ]
  },
  {
   "cell_type": "markdown",
   "metadata": {},
   "source": [
    "### 2. Localize the robot using your map (1.5 point) "
   ]
  },
  {
   "cell_type": "markdown",
   "metadata": {},
   "source": [
    "Use the map created in the previous point to localize the robot on it."
   ]
  },
  {
   "cell_type": "markdown",
   "metadata": {},
   "source": [
    "* Create a package with name *YOUR_NAME_localization*\n",
    "* Create a launch file for launching the amcl. Name the file localization_start.launch\n",
    "* Remember that you need to have *somebody* publishing the map you created on the previous exercise\n",
    "* Launch that launch file to start the localization system\n",
    "* Localize the robot using the Rviz\n",
    "* Take a screen capture of your robot localized in Rviz. Name the screenshot as *YOUR_NAME_localization.png* and save it inside the *YOUR_NAME_localization* package. You should provide something like the following figure:"
   ]
  },
  {
   "cell_type": "markdown",
   "metadata": {},
   "source": [
    "<img src=\"img/summit_localization3.png\">"
   ]
  },
  {
   "cell_type": "markdown",
   "metadata": {},
   "source": [
    "### 3. Move the robot around (3 points) "
   ]
  },
  {
   "cell_type": "markdown",
   "metadata": {},
   "source": [
    "Create a ROS program that makes the robot move around forever and gets the position of the robot every 5 seconds"
   ]
  },
  {
   "cell_type": "markdown",
   "metadata": {},
   "source": [
    "* Create a package with name *YOUR_NAME_move* which depends on *rospy*\n",
    "* Inside that package, create a ROS program that makes the robot move making a square of 1.5 meters each side\n",
    "* Launch the localization system of the previous exercise and localize the robot\n",
    "* Your program must get the position provided by the localization system (hint: the localization is publishing the robot position on a topic called */amcl_pose*)\n",
    "* While the robot is moving doing the 1.5 meters square, the position of the robot must be recorded in a file every 5 seconds. \n",
    "* Name that file as *YOUR_NAME_locations.txt* and save it inside your *YOUR_NAME_move* package"
   ]
  },
  {
   "cell_type": "markdown",
   "metadata": {},
   "source": [
    "## Theory part (4 points) "
   ]
  },
  {
   "cell_type": "markdown",
   "metadata": {},
   "source": [
    "(estimated time for completion: 1 hour)"
   ]
  },
  {
   "cell_type": "markdown",
   "metadata": {},
   "source": [
    "### 1. Compute the odometry (2 points) "
   ]
  },
  {
   "cell_type": "markdown",
   "metadata": {},
   "source": [
    "Given the following figure:"
   ]
  },
  {
   "cell_type": "markdown",
   "metadata": {},
   "source": [
    "<img src=\"img/odom1.png\">"
   ]
  },
  {
   "cell_type": "markdown",
   "metadata": {},
   "source": [
    "Calculate the location of the point *p'* (x, y, $\\theta$) if you have the following data:"
   ]
  },
  {
   "cell_type": "markdown",
   "metadata": {},
   "source": [
    "* The point *p* coordinates are (1.7, 0.3, 0.01)\n",
    "* The radius of the wheels is R = 0.025 m\n",
    "* The distance between wheels is 2L = 0.1 m\n",
    "* The right wheel has turned 0.07 radians\n",
    "* The left wheel has turned 0.037 radians"
   ]
  },
  {
   "cell_type": "markdown",
   "metadata": {},
   "source": [
    "### 2. Compute the optimal path (2 points) "
   ]
  },
  {
   "cell_type": "markdown",
   "metadata": {},
   "source": [
    "Given the following diagram:\n",
    "* Use Dijsktra's Algorithm to compute the optimal path to go from *s* to *t*.\n",
    "* Indicate the optimal sequence of nodes to visit and provide the total cost for that sequence."
   ]
  },
  {
   "cell_type": "markdown",
   "metadata": {},
   "source": [
    "<img src=\"img/exam_2.gif\">"
   ]
  }
 ],
 "metadata": {
  "anaconda-cloud": {},
  "kernelspec": {
   "display_name": "Python [Root]",
   "language": "python",
   "name": "Python [Root]"
  },
  "language_info": {
   "codemirror_mode": {
    "name": "ipython",
    "version": 2
   },
   "file_extension": ".py",
   "mimetype": "text/x-python",
   "name": "python",
   "nbconvert_exporter": "python",
   "pygments_lexer": "ipython2",
   "version": "2.7.12"
  }
 },
 "nbformat": 4,
 "nbformat_minor": 2
}
