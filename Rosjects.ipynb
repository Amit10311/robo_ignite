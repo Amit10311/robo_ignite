{
 "cells": [
  {
   "cell_type": "markdown",
   "metadata": {},
   "source": [
    "# ROSjects"
   ]
  },
  {
   "cell_type": "markdown",
   "metadata": {},
   "source": [
    "Throughout the whole book, you're going to **find a ROSject at the beginning of each Chapter**. With these ROSjects, you are going to be able to easily have access to all the material you'll need for each Chapter. "
   ]
  },
  {
   "cell_type": "markdown",
   "metadata": {},
   "source": [
    "## What is a ROSject?"
   ]
  },
  {
   "cell_type": "markdown",
   "metadata": {},
   "source": [
    "A ROSject is, basically, a ROS project in the ROS Development Studio (ROSDS). ROSjects can easily be shared using a link. By clicking on the link, or copying it to the URL of your web browser, you will have a copy of the specific ROSject in your ROSDS workspace. This means you will have instant access to the ROSject. Also, you will be able to modify it as you wish."
   ]
  },
  {
   "cell_type": "markdown",
   "metadata": {},
   "source": [
    "## How to open a ROSject?"
   ]
  },
  {
   "cell_type": "markdown",
   "metadata": {},
   "source": [
    "At the beginning of each Chapter, you will see a section like this one:"
   ]
  },
  {
   "cell_type": "markdown",
   "metadata": {},
   "source": [
    "<img src=\"img/rosject_chapter.png\" width=\"800\" style=\"float:left;\"/>"
   ]
  },
  {
   "cell_type": "markdown",
   "metadata": {},
   "source": [
    "1-  **Log into the ROSDS platform** at http://rds.theconstructsim.com . If you don’t have an account, you can create one for free."
   ]
  },
  {
   "cell_type": "markdown",
   "metadata": {},
   "source": [
    "2- **Copy the URL to your web browser**. Once you have copied the URL to your web browser, you will automatically have that ROSject available in your workspace."
   ]
  },
  {
   "cell_type": "markdown",
   "metadata": {},
   "source": [
    "<img src=\"img/rosject1.png\" width=\"800\" style=\"float:left;\"/>"
   ]
  },
  {
   "cell_type": "markdown",
   "metadata": {},
   "source": [
    "3- **Open the ROSject**. You can open the ROSject by clicking on the **Open ROSject** button."
   ]
  },
  {
   "cell_type": "markdown",
   "metadata": {},
   "source": [
    "## Contents of the ROSjects"
   ]
  },
  {
   "cell_type": "markdown",
   "metadata": {},
   "source": [
    "The ROSjects that are available for each chapter of the book will basically contain 2 things:\n",
    "\n",
    "* The Gazebo simulation used for the Chapter\n",
    "* All the scripts and files used for the Chapter"
   ]
  },
  {
   "cell_type": "markdown",
   "metadata": {},
   "source": [
    "In order to open the simulation, follow the next steps:"
   ]
  },
  {
   "cell_type": "markdown",
   "metadata": {},
   "source": [
    "1- In the **Simulations** menu, click on the **Select launch file...** option. A list with all the packages and launch files available will appear."
   ]
  },
  {
   "cell_type": "markdown",
   "metadata": {},
   "source": [
    "<img src=\"img/rosject2.png\" width=\"400\" style=\"float:left;\"/>"
   ]
  },
  {
   "cell_type": "markdown",
   "metadata": {},
   "source": [
    "2- Within the list, select the **package name** and **launch file** specified at the ROSject section of the chapter."
   ]
  },
  {
   "cell_type": "markdown",
   "metadata": {},
   "source": [
    "<img src=\"img/rosject3.png\" width=\"400\" style=\"float: left; margin: 0px 0px 15px 15px;\"/>"
   ]
  },
  {
   "cell_type": "markdown",
   "metadata": {},
   "source": [
    "In order to see all the files related to the chapter, follow the next steps:"
   ]
  },
  {
   "cell_type": "markdown",
   "metadata": {},
   "source": [
    "1- In the **Tools** menu, click on the **IDE** option. An IDE will appear in your workspace."
   ]
  },
  {
   "cell_type": "markdown",
   "metadata": {},
   "source": [
    "<img src=\"img/rosject4.png\" width=\"400\" style=\"float: left; margin: 0px 0px 15px 15px;\"/>"
   ]
  },
  {
   "cell_type": "markdown",
   "metadata": {},
   "source": [
    "2- You will find all the files inside the **catkin_ws** workspace. There, you have a ROS package containing all the files related to the chapter. This package will always follow the following name convention: **&lt;unitX&gt;_scripts**"
   ]
  },
  {
   "cell_type": "markdown",
   "metadata": {},
   "source": [
    "<img src=\"img/rosject5.png\" width=\"400\" style=\"float: left; margin: 0px 0px 15px 15px;\"/>"
   ]
  }
 ],
 "metadata": {
  "anaconda-cloud": {},
  "kernelspec": {
   "display_name": "Python [Root]",
   "language": "python",
   "name": "Python [Root]"
  },
  "language_info": {
   "codemirror_mode": {
    "name": "ipython",
    "version": 2
   },
   "file_extension": ".py",
   "mimetype": "text/x-python",
   "name": "python",
   "nbconvert_exporter": "python",
   "pygments_lexer": "ipython2",
   "version": "2.7.12"
  },
  "latex_metadata": {
   "chapter": "ROSjects",
   "chapter_title": "ROSjects",
   "course_title": "ROS MANIPULATION IN 5 DAYS"
  }
 },
 "nbformat": 4,
 "nbformat_minor": 0
}
