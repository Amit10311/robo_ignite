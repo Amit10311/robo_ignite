{
 "cells": [
  {
   "cell_type": "markdown",
   "metadata": {},
   "source": [
    "# RTAB-Map ROS MicroCourse"
   ]
  },
  {
   "cell_type": "markdown",
   "metadata": {},
   "source": [
    "<img src=\"img/title.png\" width=\"700\" />"
   ]
  },
  {
   "cell_type": "markdown",
   "metadata": {},
   "source": [
    "## Chapter 0: Introduction to the Course"
   ]
  },
  {
   "cell_type": "markdown",
   "metadata": {},
   "source": [
    "<p style=\"background:green;color:white;\">SUMMARY</p>"
   ]
  },
  {
   "cell_type": "markdown",
   "metadata": {},
   "source": [
    "Estimated time of completion: <b>10 min</b><br><br>\n",
    "This Unit is an introduction to the RTAB-Map ROS MicroCourse. You'll a have a quick preview of the contents you are going to cover during the Course, and you will also view a practical demo."
   ]
  },
  {
   "cell_type": "markdown",
   "metadata": {},
   "source": [
    "<p style=\"background:green;color:white;\">END OF SUMMARY</p>"
   ]
  },
  {
   "cell_type": "markdown",
   "metadata": {},
   "source": [
    "## What is RTAB-Map?"
   ]
  },
  {
   "cell_type": "markdown",
   "metadata": {},
   "source": [
    "RTAB-Map (Real-Time Appearance-Based Mapping) is a RGB-D SLAM approach based on a loop closure detector. The loop closure detector uses a bag-of-words approach in order to determinate if a new image detected by an RGB-D sensor it is from a new location or from a location that it has been already visited. Of course, this is a very summarized explanation, you will get more details on how this loop closure detector works inside this Course. For using this approach in ROS, there exists the following package:"
   ]
  },
  {
   "cell_type": "markdown",
   "metadata": {},
   "source": [
    "### rtabmap_ros"
   ]
  },
  {
   "cell_type": "markdown",
   "metadata": {},
   "source": [
    "The <b>rtabmap_ros</b> package is an implementation in ROS of the RTAB-Map approach. It basically allows us to work with the RTAB-Map approach in ROS. It has been developed by Mathieu Labbe. This is the package we will be working with during this Course."
   ]
  },
  {
   "cell_type": "markdown",
   "metadata": {},
   "source": [
    "## Do you want to have a taste?"
   ]
  },
  {
   "cell_type": "markdown",
   "metadata": {},
   "source": [
    "With the proper introductions made, it is time to actually start. And... as we always do in the Robot Ignite academy, let's start with practice! In the following example you will be testing the rtabmap_ros package with a pre-built setup, so you can have a practical look at what you can achieve with this package, which actually is what you are going to learn by completing this Micro Course. So... let's go!"
   ]
  },
  {
   "cell_type": "markdown",
   "metadata": {},
   "source": [
    "<p style=\"background:#EE9023;color:white;\">Demo 1.1</p>\n",
    "<br>\n",
    "\n",
    "a) Execute the following command in the WebShell number #1 in order to launch the rtabmap_ros package.<br>\n",
    "\n",
    "<table style=\"float:left;background: #407EAF\">\n",
    "<tr>\n",
    "<th>\n",
    "<p class=\"transparent\">Execute in WebShell #1</p><br>\n",
    "</th>\n",
    "</tr>\n",
    "</table>\n",
    "<br>"
   ]
  },
  {
   "cell_type": "raw",
   "metadata": {},
   "source": [
    "roslaunch rtabmap_ros demo_robot_mapping.launch rviz:=true rtabmapviz:=false"
   ]
  },
  {
   "cell_type": "markdown",
   "metadata": {},
   "source": [
    "b) Hit the icon with a screen in the top-right corner of the IDE window \n",
    "<img src=\"img/font-awesome_desktop.png\"/> \n",
    "in order to open the Graphic Interface."
   ]
  },
  {
   "cell_type": "markdown",
   "metadata": {},
   "source": [
    "c) Execute the following command in order to stop the simulation physics<br>\n",
    "<table style=\"float:left;background: #407EAF\">\n",
    "<tr>\n",
    "<th>\n",
    "<p class=\"transparent\">Execute in WebShell #2</p><br>\n",
    "</th>\n",
    "</tr>\n",
    "</table>\n",
    "<br>"
   ]
  },
  {
   "cell_type": "raw",
   "metadata": {},
   "source": [
    "rosservice call /gazebo/pause_physics \"{}\""
   ]
  },
  {
   "cell_type": "markdown",
   "metadata": {},
   "source": [
    "d) Go to the turtlebot_rtab package and execute the following command in order to play the bag file and start the demo.\n",
    "<table style=\"float:left;background: #407EAF\">\n",
    "<tr>\n",
    "<th>\n",
    "<p class=\"transparent\">Execute in WebShell #3</p><br>\n",
    "</th>\n",
    "</tr>\n",
    "</table>\n",
    "<br>"
   ]
  },
  {
   "cell_type": "raw",
   "metadata": {},
   "source": [
    "roscd turtlebot_rtab"
   ]
  },
  {
   "cell_type": "raw",
   "metadata": {},
   "source": [
    "rosbag play --clock demo_mapping.bag"
   ]
  },
  {
   "cell_type": "markdown",
   "metadata": {},
   "source": [
    "<table style=\"float:left;\">\n",
    "<tr>\n",
    "<th>\n",
    "<p style=\"background:#3B8F10;color:white;\">Data for Demo 1.1</p>\n",
    "<br>\n",
    "Check the following Notes in order to complete the Example:\n",
    "<br><br>\n",
    "<span style=\"color:orange\">Note 1: </span>Terminate all the programs when you finish with the demo. To terminate a program, just press Ctrl+C in the corresponding Web Shell.</i><br>\n",
    "</th>\n",
    "</tr>\n",
    "</table>"
   ]
  },
  {
   "cell_type": "markdown",
   "metadata": {},
   "source": [
    "<p style=\"color:red;\"><b>NOTE: When you are done with the demo, don't forget to unpause the simulation physics by using the following command.</b></p>"
   ]
  },
  {
   "cell_type": "raw",
   "metadata": {},
   "source": [
    "rosservice call /gazebo/unpause_physics \"{}\""
   ]
  },
  {
   "cell_type": "markdown",
   "metadata": {},
   "source": [
    "<p style=\"color:red;\"><b>NOTE: Also, when you finish with the demo, execute the following commands in order to remove a couple of parameters that have been sent and could cause conflicts during the Course.</b></p>"
   ]
  },
  {
   "cell_type": "raw",
   "metadata": {},
   "source": [
    "rosparam delete /rtabmap/rtabmap/depth/image_transport"
   ]
  },
  {
   "cell_type": "raw",
   "metadata": {},
   "source": [
    "rosparam delete /rtabmap/rtabmap/rgb/image_transport"
   ]
  },
  {
   "cell_type": "markdown",
   "metadata": {},
   "source": [
    "<p style=\"background:#AE0202;color:white;\">Expected Result for Demo 1.1</p>"
   ]
  },
  {
   "cell_type": "markdown",
   "metadata": {},
   "source": [
    "<img src=\"img/demo_rtab.png\" width=\"600\" />"
   ]
  },
  {
   "cell_type": "markdown",
   "metadata": {},
   "source": [
    "<p style=\"background:#EE9023;color:white;\">End of Demo 1.1</p>"
   ]
  },
  {
   "cell_type": "markdown",
   "metadata": {},
   "source": [
    "## What will you learn with this Course?"
   ]
  },
  {
   "cell_type": "markdown",
   "metadata": {},
   "source": [
    "Basically, during this Course you will adress the following topics:\n",
    "<ul>\n",
    "<li>Basics of RTAB-Map.</li>\n",
    "<li>How to use the rtabmap_ros package.</li>\n",
    "<li>How does loop closure detection work internally.</li>\n",
    "<li>How to create a 3D Map of an environment.</li>\n",
    "<li>Autonomous Navigation using RGB-D SLAM.</li>\n",
    "</ul>"
   ]
  },
  {
   "cell_type": "markdown",
   "metadata": {},
   "source": [
    "## Minimum requirements for the Course"
   ]
  },
  {
   "cell_type": "markdown",
   "metadata": {},
   "source": [
    "In order to be able to fully understand the contents of this Course, it is highly recommended to have the following knowledge:\n",
    "<ul>\n",
    "<li>Basic ROS. You can get this knowledge by following the <b>ROS in 5 Days</b>  Course.</li>\n",
    "<li>ROS Navigation Basics. You can get this knowledge by following the <b>ROS Navigation in 5 Days</b> Course.</li>\n",
    "</ul>"
   ]
  },
  {
   "cell_type": "markdown",
   "metadata": {},
   "source": [
    "## Special Thanks"
   ]
  },
  {
   "cell_type": "markdown",
   "metadata": {},
   "source": [
    "<li>This course wouldn't be possible without the amazing work done by the guys at IntroLab. To follow all their work, please have a look at the following links:</li>"
   ]
  },
  {
   "cell_type": "markdown",
   "metadata": {},
   "source": [
    "<img src=\"img/introlab.png\" width=\"500\" />"
   ]
  },
  {
   "cell_type": "markdown",
   "metadata": {},
   "source": [
    "IntroLab Website: https://introlab.3it.usherbrooke.ca/mediawiki-introlab/index.php/Main_Page\n",
    "<br>\n",
    "RTAB-Map: https://introlab.3it.usherbrooke.ca/mediawiki-introlab/index.php/RTAB-Map\n",
    "<br>\n",
    "Repository: https://github.com/introlab/rtabmap"
   ]
  },
  {
   "cell_type": "markdown",
   "metadata": {},
   "source": [
    "<li>And of course, we have to thank the whole ROS community for all the work done related to this package.</li>"
   ]
  },
  {
   "cell_type": "markdown",
   "metadata": {},
   "source": [
    "<img src=\"img/rosorg.jpg\" width=\"500\" />"
   ]
  },
  {
   "cell_type": "markdown",
   "metadata": {},
   "source": [
    "RTAB-Map ROS Wiki: http://wiki.ros.org/rtabmap_ros"
   ]
  }
 ],
 "metadata": {
  "anaconda-cloud": {},
  "kernelspec": {
   "display_name": "Python [Root]",
   "language": "python",
   "name": "Python [Root]"
  },
  "language_info": {
   "codemirror_mode": {
    "name": "ipython",
    "version": 2
   },
   "file_extension": ".py",
   "mimetype": "text/x-python",
   "name": "python",
   "nbconvert_exporter": "python",
   "pygments_lexer": "ipython2",
   "version": "2.7.12"
  }
 },
 "nbformat": 4,
 "nbformat_minor": 0
}
