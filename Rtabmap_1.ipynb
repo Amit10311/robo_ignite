{
 "cells": [
  {
   "cell_type": "markdown",
   "metadata": {},
   "source": [
    "# RTAB-Map ROS MicroCourse"
   ]
  },
  {
   "cell_type": "markdown",
   "metadata": {},
   "source": [
    "<img src=\"img/title.png\" width=\"700\" />"
   ]
  },
  {
   "cell_type": "markdown",
   "metadata": {},
   "source": [
    "## Chapter 1: Basic Concepts"
   ]
  },
  {
   "cell_type": "markdown",
   "metadata": {},
   "source": [
    "<p style=\"background:green;color:white;\">SUMMARY</p>"
   ]
  },
  {
   "cell_type": "markdown",
   "metadata": {},
   "source": [
    "Estimated time of completion: <b>30 min</b><br><br>\n",
    "This Unit is an introduction to the rtabmap_ros ROS package. This means you'll get a first contact with the package, building a knowledgebase in order to be able to understand more complex concepts."
   ]
  },
  {
   "cell_type": "markdown",
   "metadata": {},
   "source": [
    "<p style=\"background:green;color:white;\">END OF SUMMARY</p>"
   ]
  },
  {
   "cell_type": "markdown",
   "metadata": {},
   "source": [
    "## System Requirements"
   ]
  },
  {
   "cell_type": "markdown",
   "metadata": {},
   "source": [
    "In order to be able to use the rtabmap_ros package to perform RGB-D SLAM, you need to have, at least, a Kinect-like sensor.<br><br>\n",
    "Anyways, the recommended robot configuration is the following:\n",
    "<ul>\n",
    "<li>A 2D laser which provides <b>sensor_msgs/LaserScan messages</b>.</li>\n",
    "<li>Odometry (IMU, wheel encoders, ...) which provides a <b>nav_msgs/Odometry</b> message.</li>\n",
    "<li>A calibrated Kinect-like sensor compatible with openni_launch, openni2_launch or freenect_launch ros packages.</li>\n",
    "</ul>"
   ]
  },
  {
   "cell_type": "markdown",
   "metadata": {},
   "source": [
    "Two of the most common setups in order to perform RGB-D Slam are the following:"
   ]
  },
  {
   "cell_type": "markdown",
   "metadata": {},
   "source": [
    "#### Kinect + Odometry + 2D laser"
   ]
  },
  {
   "cell_type": "markdown",
   "metadata": {},
   "source": [
    "<img src=\"img/rtabmap_config.png\" />"
   ]
  },
  {
   "cell_type": "markdown",
   "metadata": {},
   "source": [
    "#### Kinect + Odometry + Fake 2D laser from Kinect\n"
   ]
  },
  {
   "cell_type": "markdown",
   "metadata": {},
   "source": [
    "<img src=\"img/rtabmap_config1.jpg\" />"
   ]
  },
  {
   "cell_type": "markdown",
   "metadata": {},
   "source": [
    "<p style=\"color:red;\"><b>NOTE: In the Robot Ignite Academy, you are already provided with a working system, so you don't have to worry about this. You will have to take this requirements into account if you want to use the rtabmap_ros package in a local environment.</b></p>"
   ]
  },
  {
   "cell_type": "markdown",
   "metadata": {},
   "source": [
    "<p style=\"background:#EE9023;color:white;\">Exercise 1.1</p>\n",
    "<br>\n",
    "\n",
    "a) Check that your system fulfills the requirements in order to be able to properly use the rtabmap_ros package. Identify the topics where the 2D laser, the Odometry and the 3D sensor data are being published.\n",
    "<br><br>\n",
    "b) Identify which of the above setups is the one that you'll be using during this Course.\n",
    "<table style=\"float:left;background: #407EAF\">\n",
    "<tr>\n",
    "<th>\n",
    "<input type=\"checkbox\" name=\"vehicle\" value=\"Bike\"> Kinect + Odometry + 2D Laser<br>\n",
    "<input type=\"checkbox\" name=\"vehicle\" value=\"Bike\"> Kinect + Odometry + Fake 2D Laser<br>\n",
    "</th>\n",
    "</tr>\n",
    "</table>"
   ]
  },
  {
   "cell_type": "markdown",
   "metadata": {},
   "source": [
    "<table style=\"float:left;\">\n",
    "<tr>\n",
    "<th>\n",
    "<p style=\"background:#3B8F10;color:white;\">Data for Exercise 1.1</p>\n",
    "<br>\n",
    "Check the following Notes in order to complete the Example:\n",
    "<br><br>\n",
    "<span style=\"color:orange\">Note 1: </span>Please don't look to the solution of this Exercise unless you get really stucked.</i>\n",
    "</th>\n",
    "</tr>\n",
    "</table>"
   ]
  },
  {
   "cell_type": "markdown",
   "metadata": {},
   "source": [
    "<p style=\"background:#AE0202;color:white;\">Expected Result for Exercise 1.1</p>"
   ]
  },
  {
   "cell_type": "markdown",
   "metadata": {},
   "source": [
    "<img style=\"float:left;\" src=\"img/info_odom.png\" width=\"300\"></img>"
   ]
  },
  {
   "cell_type": "markdown",
   "metadata": {},
   "source": [
    "<img style=\"float:left;\" src=\"img/info_laser.png\" width=\"300\"></img>"
   ]
  },
  {
   "cell_type": "markdown",
   "metadata": {},
   "source": [
    "<img src=\"img/topics.png\" width=\"300\" style=\"float:left\" />"
   ]
  },
  {
   "cell_type": "markdown",
   "metadata": {},
   "source": [
    "<img style=\"float:left;\" src=\"img/result_e1.png\" width=\"320\"></img>"
   ]
  },
  {
   "cell_type": "markdown",
   "metadata": {},
   "source": [
    "<p style=\"background:#EE9023;color:white;\">End of Exercise 1.1</p>"
   ]
  },
  {
   "cell_type": "markdown",
   "metadata": {},
   "source": [
    "## Data Visualization (RViz)"
   ]
  },
  {
   "cell_type": "markdown",
   "metadata": {},
   "source": [
    "As you already have seen, in the Ignite Academy platform we are already providing you with a complete environment in order to directly work with the rtabmap_ros package. In the previous exercise, you identified some of the topics where the different sensors are publishing their readings. But... what about visualizing this readings?"
   ]
  },
  {
   "cell_type": "markdown",
   "metadata": {},
   "source": [
    "If you are already familiar with ROS, you probably will know that one of the key features that ROS provides is the <b>data visualization</b>. And if you already know this, you will also probably know that the most important tool in order to achieve this is <b>RViz</b>. In the following example, you will be visualizing the data that this simulation is providing."
   ]
  },
  {
   "cell_type": "markdown",
   "metadata": {},
   "source": [
    "<p style=\"background:#EE9023;color:white;\">Exercise 1.2</p>"
   ]
  },
  {
   "cell_type": "markdown",
   "metadata": {},
   "source": [
    "Hit the icon with a screen in the top-right corner of the IDE window \n",
    "<img src=\"img/font-awesome_desktop.png\"/> \n",
    "in order to open the Graphic Interface."
   ]
  },
  {
   "cell_type": "markdown",
   "metadata": {},
   "source": [
    "<table style=\"float:left;background: #407EAF\">\n",
    "<tr>\n",
    "<th>\n",
    "<p class=\"transparent\">Execute in WebShell #1</p><br>\n",
    "</th>\n",
    "</tr>\n",
    "</table>\n",
    "<br>"
   ]
  },
  {
   "cell_type": "raw",
   "metadata": {},
   "source": [
    "rosrun rviz rviz"
   ]
  },
  {
   "cell_type": "markdown",
   "metadata": {},
   "source": [
    "Add the necessary elements to RViz in order to visualize the following data:\n",
    "<br><br>\n",
    "a) RGB Image\n",
    "<br><br>\n",
    "b) Depth Cloud\n",
    "<br><br>\n",
    "c) Laser Scans"
   ]
  },
  {
   "cell_type": "markdown",
   "metadata": {},
   "source": [
    "<table style=\"float:left;\">\n",
    "<tr>\n",
    "<th>\n",
    "<p style=\"background:#3B8F10;color:white;\">Data for Exercise 1.2</p>\n",
    "<br>\n",
    "Check the following Notes in order to complete the Example:\n",
    "<br><br>\n",
    "<span style=\"color:orange\">Note 1: </span>You can add the RobotModel element in order to also visualize the robot in RViz.</i><br>\n",
    "<span style=\"color:orange\">Note 2: </span>You will have to set the Fixed Frame to \"base_link\" in order to be able to visualize the data.<br>\n",
    "<span style=\"color:orange\">Note 3: </span>Visualizing depth clouds requires a lot of processing, so it may slow down your computer.<br>\n",
    "</th>\n",
    "</tr>\n",
    "</table>"
   ]
  },
  {
   "cell_type": "markdown",
   "metadata": {},
   "source": [
    "<p style=\"background:#AE0202;color:white;\">Expected Result for Exercise 1.2</p>"
   ]
  },
  {
   "cell_type": "markdown",
   "metadata": {},
   "source": [
    "<img src=\"img/sensors_rviz.png\" width=\"600\" />"
   ]
  },
  {
   "cell_type": "markdown",
   "metadata": {},
   "source": [
    "<p style=\"background:#EE9023;color:white;\">End of Exercise 1.2</p>"
   ]
  },
  {
   "cell_type": "markdown",
   "metadata": {},
   "source": [
    "## Launching RTAB-Map"
   ]
  },
  {
   "cell_type": "markdown",
   "metadata": {},
   "source": [
    "The rtabmap_ros package, as many other ROS packages, has a set of parameters that you need to set up in order to properly launch it. So let's analyze some of the most important ones. For that, you can have a look at the launch file named <i>demo_launch_file.launch</i> that is contained in the <i>turtlebot_rtab</i> package. So, find the mentioned launch file, open it, and have a look at it. It should look like this:\n",
    "<br><br>\n",
    "<img src=\"img/demo_launch_file.png\" width=\"700\" />"
   ]
  },
  {
   "cell_type": "markdown",
   "metadata": {},
   "source": [
    "Before explaining some of these parameters, you need to know this one thing: when we talk about rtabmap_ros related parameters, we need to differentiate two kind of parameters: ROS Parameters and RTAB-Map Parameters."
   ]
  },
  {
   "cell_type": "markdown",
   "metadata": {},
   "source": [
    "### ROS Parameters"
   ]
  },
  {
   "cell_type": "markdown",
   "metadata": {},
   "source": [
    "The ROS parameters are for connecting the RTAB-Map library with ROS."
   ]
  },
  {
   "cell_type": "markdown",
   "metadata": {},
   "source": [
    "<ul>\n",
    "<li><b>frame_id (string, default: \"base_link\")</b>: The frame attached to the mobile base.</li>\n",
    "<li><b>odom_frame_id (string, default: \"\")</b>: The frame attached to odometry. If empty, rtabmap will subscribe to odom topic to get odometry. If set, odometry is got from tf (in this case, a covariance of 1 is used).\n",
    "</li>\n",
    "<li><b>subscribe_depth (bool, default: \"true\")</b>: Subscribe to depth image.</li>\n",
    "<li><b>subscribe_scan (bool, default: \"false\")</b>: Subscribe to laser scan.</li>\n",
    "<li><b>wait_for_transform (bool, default: \"true\")</b>: Wait (maximum wait_for_transform_duration sec) for transform when a tf transform is not still available.</li>\n",
    "<li><b>wait_for_transform_duration (double, default: 0.1)</b>: Wait duration for wait_for_transform. To avoid some possible errors, it is recommended to set this value to \"0.2\".</li>\n",
    "<li><b>database_path (string, default: \"~/.ros/rtabmap.db\")</b>: Path of the RTAB-Map's database.</li>\n",
    "</ul>"
   ]
  },
  {
   "cell_type": "markdown",
   "metadata": {},
   "source": [
    "### RTAB-Map Parameters"
   ]
  },
  {
   "cell_type": "markdown",
   "metadata": {},
   "source": [
    "The RTAB-Map's parameters are those related to the RTAB-Map library."
   ]
  },
  {
   "cell_type": "markdown",
   "metadata": {},
   "source": [
    "<ul>\n",
    "<li><b>RGBD/NeighborLinkRefining</b>: Correct odometry using the input laser topic using ICP.</li>\n",
    "<li><b>RGBD/ProximityBySpace</b>: Find local loop closures based on the robot position in the map. It is useful when the robot, for example, is coming back in the opposite direction. With camera facing back, global loop closures cannot be found. So using the position and previously added laser scans to the map, we find the transform using ICP. Be aware that on large-scale mapping, this method should be disabled because when the odometry is very erroneous, local ICP could give wrong results (false loop closures).</li>\n",
    "<li><b>RGBD/AngularUpdate</b>: The robot should move to update the map (if not 0).</li>\n",
    "<li><b>RGBD/LinearUpdate</b>: The robot should move to update the map (if not 0).</li>\n",
    "<li><b>RGBD/OptimizeFromGraphEnd</b>: Here we optimized from the latest node added to the map instead of the first. By optimizing from the last, the last pose keeps it's value and all the previous poses are corrected according to it (so /odom and /map will always match together). By optimizing from the first, all the successive nodes are corrected according to the first one (so there will be a transformation between /odom and /map to correct the last pose added). However, by optimizing from the first: when some nodes are transferred, the first referential of the local map may change, resulting in momentary changes in robot/map position (which are annoying in teleoperation).</li>\n",
    "<li><b>Optimizer/Slam2D</b>: Do 2D graph optimization (only optimize x, y and yaw values).</li>\n",
    "<li><b>Reg/Strategy</b>: We chose ICP to refine global loop closures found with ICP using the laser scans.</li>\n",
    "<li><b>Reg/Force3DoF</b>: Force 3DoF registration: roll, pitch and z won't be estimated.</li>\n",
    "<li><b>Vis/MinInliers</b>: Minimum visual words inliers (after RANSAC transformation between images of a loop closure) to accept the transformation.</li>\n",
    "<li><b>Vis/InlierDistance</b>: From the RANSAC transformation computed, the maximum distance of the visual word inliers.</li>\n",
    "<li><b>Rtabmap/TimeThr</b>: The maximum time allowed for map update. When this threshold is reached, some nodes are transferred in the Long-Term Memory to satisfy real-time constraints. The map will be published without these nodes (until retrieved from Long-Term Memory to Working Memory).</li>\n",
    "<li><b>Mem/RehearsalSimilarity</b>: In the papers, it is referred as the Weight Update threshold. If consecutive nodes have similar images (over this threshold), they are merged together, increasing the total weight of the merged node. The weighting mechanism is used for the memory management approach (less weighted nodes will be transferred first to Long-Term Memory).</li>\n",
    "</ul>"
   ]
  },
  {
   "cell_type": "markdown",
   "metadata": {},
   "source": [
    "<p style=\"color:green;\"><b>NOTE: Since this is just a Micro Course, we won't be analyzing in detail this parameters. You can have a complete look at all the RTAB-Map parameters here:</b> http://wiki.ros.org/rtabmap_ros</p>"
   ]
  },
  {
   "cell_type": "markdown",
   "metadata": {},
   "source": [
    "<p style=\"background:#EE9023;color:white;\">Exercise 1.3</p>\n",
    "<br>\n",
    "\n",
    "a) Create a new package named my_rtab_package. \n",
    "<br><br>\n",
    "b) Inside this package, create a launch file and add the necessary parameters."
   ]
  },
  {
   "cell_type": "markdown",
   "metadata": {},
   "source": [
    "<table style=\"float:left;\">\n",
    "<tr>\n",
    "<th>\n",
    "<p style=\"background:#3B8F10;color:white;\">Data for Exercise 1.3</p>\n",
    "<br>\n",
    "Check the following Notes in order to complete the Example:\n",
    "<br><br>\n",
    "<span style=\"color:orange\">Note 1: </span>If you don't know what parameters you need to set, just copy the ones that are being used in the example demo_launch_file.launch.</i>\n",
    "</th>\n",
    "</tr>\n",
    "</table>"
   ]
  },
  {
   "cell_type": "markdown",
   "metadata": {},
   "source": [
    "<p style=\"background:#EE9023;color:white;\">End of Exercise 1.3</p>"
   ]
  },
  {
   "cell_type": "markdown",
   "metadata": {},
   "source": [
    "### Subscribed Topics"
   ]
  },
  {
   "cell_type": "markdown",
   "metadata": {},
   "source": [
    "In order to work properly, the <i>rtabmap_ros</i> package needs to subscribe to some topics to get the data it needs. This topics are the following:"
   ]
  },
  {
   "cell_type": "markdown",
   "metadata": {},
   "source": [
    "<ul>\n",
    "<li><b>rgb/image (sensor_msgs/Image)</b>: RGB/Mono image. Should be rectified when subscribe_depth is true.</li>\n",
    "<li><b>rgb/camera_info (sensor_msgs/CameraInfo)</b>: RGB camera metadata.</li>\n",
    "<li><b>depth/image (sensor_msgs/Image)</b>: Registered depth image. Required if parameter subscribe_depth is true.</li>\n",
    "<li><b>scan (sensor_msgs/LaserScan)</b>: Laser scan stream. Required if parameter subscribe_scan is true.</li>\n",
    "<li><b>odom (nav_msgs/Odometry)</b>: Odometry stream. Required if parameters subscribe_depth or subscribe_stereo are true and odom_frame_id is not set.</li>\n",
    "</ul>"
   ]
  },
  {
   "cell_type": "markdown",
   "metadata": {},
   "source": [
    "Note that in each system, the name of these topics may vary. This makes (almost always) mandatory to do <b>remappings</b> from this topics to the ones that are actually providing this data in our system. You can see how this is done within the previously shown launch file.\n",
    "<br><br>\n",
    "<img src=\"img/rtabmap_remap.png\" width=\"600\" />"
   ]
  },
  {
   "cell_type": "markdown",
   "metadata": {},
   "source": [
    "<p style=\"background:#EE9023;color:white;\">Exercise 1.4</p>\n",
    "<br>\n",
    "Add to the launch file the necessary remappings in order to connect the rtabmap_ros package with the specific topics of this environment."
   ]
  },
  {
   "cell_type": "markdown",
   "metadata": {},
   "source": [
    "<p style=\"background:#EE9023;color:white;\">End of Exercise 1.4</p>"
   ]
  },
  {
   "cell_type": "markdown",
   "metadata": {},
   "source": [
    "### Arguments"
   ]
  },
  {
   "cell_type": "markdown",
   "metadata": {},
   "source": [
    "You can also specify the following arguments to the rtabmap_ros package:"
   ]
  },
  {
   "cell_type": "markdown",
   "metadata": {},
   "source": [
    "<ul>\n",
    "<li><b>\"--delete_db_on_start\"</b>: Delete the database before starting, otherwise the previous mapping session is loaded.</li>\n",
    "<li><b>\"--udebug\"</b>: Show RTAB-Map's debug/info/warning/error logs.</li>\n",
    "<li><b>\"--uinfo\"</b>: Show RTAB-Map's info/warning/error logs.</li>\n",
    "<li><b>\"--params\"</b>: Show RTAB-Map's parameters related to this node and exit.</li>\n",
    "<li><b>\"--params-all\"</b>: Show all RTAB-Map's parameters and exit.</li>\n",
    "</ul>\n"
   ]
  },
  {
   "cell_type": "markdown",
   "metadata": {},
   "source": [
    "<p style=\"background:#EE9023;color:white;\">Exercise 1.5</p>\n",
    "<br>\n",
    "\n",
    "Complete the launch file and launch it."
   ]
  },
  {
   "cell_type": "markdown",
   "metadata": {},
   "source": [
    "<p style=\"background:#AE0202;color:white;\">Expected Result for Exercise 1.5</p>"
   ]
  },
  {
   "cell_type": "markdown",
   "metadata": {},
   "source": [
    "<img src=\"img/rtabmap_launched.png\" width=\"800\" />"
   ]
  },
  {
   "cell_type": "markdown",
   "metadata": {},
   "source": [
    "<p style=\"background:#EE9023;color:white;\">End of Exercise 1.5</p>"
   ]
  },
  {
   "cell_type": "markdown",
   "metadata": {},
   "source": [
    "<p style=\"color:red;\"><b>NOTE: Please, do not look to this until you get really stucked.</b></p>"
   ]
  },
  {
   "cell_type": "markdown",
   "metadata": {},
   "source": [
    "Complete example launch file:"
   ]
  },
  {
   "cell_type": "code",
   "execution_count": null,
   "metadata": {
    "collapsed": true
   },
   "outputs": [],
   "source": [
    "<launch>\n",
    "  <group ns=\"rtabmap\">\n",
    "    <node name=\"rtabmap\" pkg=\"rtabmap_ros\" type=\"rtabmap\" output=\"screen\" args=\"--delete_db_on_start\">\n",
    "          <param name=\"frame_id\" type=\"string\" value=\"base_link\"/>\n",
    "\n",
    "          <param name=\"subscribe_depth\" type=\"bool\" value=\"true\"/>\n",
    "          <param name=\"subscribe_scan\" type=\"bool\" value=\"true\"/>\n",
    "\n",
    "          <remap from=\"odom\" to=\"/odom\"/>\n",
    "          <remap from=\"scan\" to=\"/kobuki/laser/scan\"/>\n",
    "\n",
    "          <remap from=\"rgb/image\" to=\"/camera/rgb/image_raw\"/>\n",
    "          <remap from=\"depth/image\" to=\"/camera/depth/image_raw\"/>\n",
    "          <remap from=\"rgb/camera_info\" to=\"/camera/rgb/camera_info\"/>\n",
    "\n",
    "          <!-- RTAB-Map's parameters -->\n",
    "          <param name=\"RGBD/NeighborLinkRefining\" type=\"string\" value=\"true\"/>\n",
    "          <param name=\"RGBD/ProximityBySpace\"     type=\"string\" value=\"true\"/>\n",
    "          <param name=\"RGBD/AngularUpdate\"        type=\"string\" value=\"0.01\"/>\n",
    "          <param name=\"RGBD/LinearUpdate\"         type=\"string\" value=\"0.01\"/>\n",
    "          <param name=\"RGBD/OptimizeFromGraphEnd\" type=\"string\" value=\"false\"/>\n",
    "          <param name=\"Optimizer/Slam2D\"          type=\"string\" value=\"true\"/>\n",
    "          <param name=\"Reg/Strategy\"              type=\"string\" value=\"1\"/> \n",
    "          <param name=\"Reg/Force3DoF\"             type=\"string\" value=\"true\"/>\n",
    "          <param name=\"Vis/MinInliers\"            type=\"string\" value=\"5\"/>\n",
    "          <param name=\"Vis/InlierDistance\"        type=\"string\" value=\"0.1\"/>\n",
    "          <param name=\"Rtabmap/TimeThr\"           type=\"string\" value=\"700\"/>\n",
    "          <param name=\"Mem/RehearsalSimilarity\"   type=\"string\" value=\"0.45\"/>\n",
    "    </node>\n",
    "  </group>\n",
    "</launch>"
   ]
  },
  {
   "cell_type": "markdown",
   "metadata": {},
   "source": [
    "## So... what now?"
   ]
  },
  {
   "cell_type": "markdown",
   "metadata": {},
   "source": [
    "At this point, you have managed to successfully launch the rtabmap_ros package. But you still have not given it a use. In the next Chapter, you will use this rtabmap_ros package to create a 3D map of an environment, and to autonomously navigate the robot within this environment."
   ]
  }
 ],
 "metadata": {
  "anaconda-cloud": {},
  "kernelspec": {
   "display_name": "Python [Root]",
   "language": "python",
   "name": "Python [Root]"
  },
  "language_info": {
   "codemirror_mode": {
    "name": "ipython",
    "version": 2
   },
   "file_extension": ".py",
   "mimetype": "text/x-python",
   "name": "python",
   "nbconvert_exporter": "python",
   "pygments_lexer": "ipython2",
   "version": "2.7.12"
  }
 },
 "nbformat": 4,
 "nbformat_minor": 0
}
