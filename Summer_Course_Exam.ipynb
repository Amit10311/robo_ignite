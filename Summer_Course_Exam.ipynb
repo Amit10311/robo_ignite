{
 "cells": [
  {
   "cell_type": "markdown",
   "metadata": {},
   "source": [
    "# ROS Summer Course"
   ]
  },
  {
   "cell_type": "markdown",
   "metadata": {},
   "source": [
    "<img src=\"img/robotignite_logo_text.png\" width=\"700\" />"
   ]
  },
  {
   "cell_type": "markdown",
   "metadata": {},
   "source": [
    "# Exam"
   ]
  },
  {
   "cell_type": "markdown",
   "metadata": {},
   "source": [
    "This exam is based on the Parrot AR Drone simulation."
   ]
  },
  {
   "cell_type": "markdown",
   "metadata": {},
   "source": [
    "<img src=\"img/drone.jpg\" width=\"400\" style=\"float:left;\"/>"
   ]
  },
  {
   "cell_type": "markdown",
   "metadata": {},
   "source": [
    "For passing the exam, we will ask you to perform different tasks with the simulated drone. For each task, very **specific instructions** will be provided: name of the package, names of the launch files and Python scripts, topic names to use, etc. \n",
    "\n",
    "It is **VERY IMPORTANT** that you strictly follow these instructions, since they will allow our automated correction system to properly test your exam, and assign a score to it. If the names you use are different from the ones specified in the exam instructions, your exercise will be marked as **FAILED**, even though it works correctly."
   ]
  },
  {
   "cell_type": "markdown",
   "metadata": {},
   "source": [
    "### Tasks to accomplish"
   ]
  },
  {
   "cell_type": "markdown",
   "metadata": {},
   "source": [
    "#### Task 0"
   ]
  },
  {
   "cell_type": "markdown",
   "metadata": {},
   "source": [
    "a) Create a new package named **summer_exam**, with **rospy** dependencies. Inside this package, you will place all the files related to the exam."
   ]
  },
  {
   "cell_type": "markdown",
   "metadata": {},
   "source": [
    "b) Inside the packge you will need to have, at least, the following 2 folders: **src** and **launch**. You will place all your Python scripts in the **src** folder, and all the launch files in the **launch** folder."
   ]
  },
  {
   "cell_type": "markdown",
   "metadata": {},
   "source": [
    "#### Task 1"
   ]
  },
  {
   "cell_type": "markdown",
   "metadata": {},
   "source": [
    "a) Create a new Python script, named **drone_takeoff.py**. Inside this file, you will add the necessary code that allows the drone to takeoff."
   ]
  },
  {
   "cell_type": "markdown",
   "metadata": {},
   "source": [
    "Create a launch file that starts your Python script, named **drone_takeoff.launch**. "
   ]
  },
  {
   "cell_type": "markdown",
   "metadata": {},
   "source": [
    "b) Create a new Python script, named **forward_motion.py**. Inside this file, you will add the necessary code that allows the drone to:\n",
    "\n",
    "* Take Off\n",
    "* Move forwards during 5 seconds\n",
    "* Stop and Land"
   ]
  },
  {
   "cell_type": "markdown",
   "metadata": {},
   "source": [
    "It should be something similar to the GIF displayed below:"
   ]
  },
  {
   "cell_type": "markdown",
   "metadata": {},
   "source": [
    "<img src=\"img/drone_motion.gif\" width=\"600\" />"
   ]
  },
  {
   "cell_type": "markdown",
   "metadata": {},
   "source": [
    "Create a launch file that starts your Python script, named **forward_motion.launch**. "
   ]
  },
  {
   "cell_type": "markdown",
   "metadata": {},
   "source": [
    "**Specifications**\n",
    "\n",
    "* The drone has to move forward during **5 seconds**, at an speed of **1 m/s**."
   ]
  },
  {
   "cell_type": "markdown",
   "metadata": {},
   "source": [
    "#### Task 2"
   ]
  },
  {
   "cell_type": "markdown",
   "metadata": {},
   "source": [
    "a) Create a new Python script, named **motion_service.py**. Inside this file, create a ROS Service that, when called, it will start the motion you created in the previous Task. The service will be called using an Empty message, and it will return also an Empty message."
   ]
  },
  {
   "cell_type": "markdown",
   "metadata": {},
   "source": [
    "Create a launch file that starts your Service Server, named **motion_service.launch**. "
   ]
  },
  {
   "cell_type": "markdown",
   "metadata": {},
   "source": [
    "**Specifications**\n",
    "\n",
    "* The name of the service has to be **/my_service**.\n",
    "* The service has to be called using an **Empty** message, with the following command:"
   ]
  },
  {
   "cell_type": "code",
   "execution_count": null,
   "metadata": {
    "collapsed": true
   },
   "outputs": [],
   "source": [
    "rosservice call /my_service \"{}\""
   ]
  },
  {
   "cell_type": "markdown",
   "metadata": {},
   "source": [
    "b) Create a new Python script, named **distance_motion_service.py**. Inside this file, modify the previous ROS Service you created, so that when the motion ends, it returns the distance moved by the drone in the x axis. The service will be called using an Empty message, and it will return a boolean indicating if everything went OK, and an string indicating the distance moved in meters."
   ]
  },
  {
   "cell_type": "markdown",
   "metadata": {},
   "source": [
    "Create a launch file that starts your Service Server, named **distance_motion_service.launch**. "
   ]
  },
  {
   "cell_type": "markdown",
   "metadata": {},
   "source": [
    "**Specifications**\n",
    "\n",
    "* The name of the service has to be **/my_service**.\n",
    "* The response of the service must contain:\n",
    "    * A **boolean** variable, indicating if the service was called successfully.\n",
    "    * An **string**, indicating the distance moved by the drone in the x axis, in the following format:"
   ]
  },
  {
   "cell_type": "code",
   "execution_count": null,
   "metadata": {
    "collapsed": true
   },
   "outputs": [],
   "source": [
    "The drone has moved X meters."
   ]
  },
  {
   "cell_type": "markdown",
   "metadata": {},
   "source": [
    "Being **X** the distanced moved by the drone in the x axis, in meters."
   ]
  },
  {
   "cell_type": "markdown",
   "metadata": {},
   "source": [
    "#### Task 3"
   ]
  },
  {
   "cell_type": "markdown",
   "metadata": {},
   "source": [
    "Create a new Python script, named **check_distance_action.py**. Inside this file, create an Action Server that, when called, it will start recording all the positions the drone is at every second, during 20 seconds."
   ]
  },
  {
   "cell_type": "markdown",
   "metadata": {},
   "source": [
    "Create a launch file that starts your Action Server, named **check_distance_action.launch**. "
   ]
  },
  {
   "cell_type": "markdown",
   "metadata": {},
   "source": [
    "**Specifications**\n",
    "\n",
    "* The name of the Action Server has to be **/rec_pose_as**.\n",
    "* **Goal**: No goal is sent, just an empty message indicating that the action server must start.\n",
    "* **Feedback**: No feedback must be provided.\n",
    "* **Result**: After 20 seconds, it will provide the whole list of positions."
   ]
  },
  {
   "cell_type": "markdown",
   "metadata": {},
   "source": [
    "#### Task 4"
   ]
  },
  {
   "cell_type": "markdown",
   "metadata": {},
   "source": [
    "Create a node that will coordinate everything you've done until now. It must:"
   ]
  },
  {
   "cell_type": "markdown",
   "metadata": {},
   "source": [
    "1. Call the Service Server you created in **Task 2.b**, so that the drone starts doing the motion.\n",
    "2. Start the Action Server you created in **Task 3.a**, so that it starts recording all the positions the drone visits while doing the motion.\n",
    "3. When the program ends, print the last Pose visited by the drone, using the following format:"
   ]
  },
  {
   "cell_type": "code",
   "execution_count": null,
   "metadata": {
    "collapsed": true
   },
   "outputs": [],
   "source": [
    "Last Pose:\n",
    "position:\n",
    "  x: 4.42772570267\n",
    "  y: 0.248469038002\n",
    "  z: 0.549997645865\n",
    "orientation:\n",
    "  x: 7.64257360692e-06\n",
    "  y: 1.62333927207e-06\n",
    "  z: -0.0391109641343\n",
    "  w: 0.999234873502"
   ]
  },
  {
   "cell_type": "markdown",
   "metadata": {},
   "source": [
    "Create a launch file that starts everything you need for the node, named **main_program.launch**. "
   ]
  },
  {
   "cell_type": "markdown",
   "metadata": {},
   "source": [
    "### How to proceed with the exam"
   ]
  },
  {
   "cell_type": "markdown",
   "metadata": {},
   "source": [
    "\n",
    "* You can use the learning environment to develop and test your code.\n",
    "* You can recover the previous lessons or consult the internet to search for information.\n",
    "* You have two hours to finish the exam.\n",
    "* Once you have your code done and working, use the IDE to download all of the packages and send them in a zip file to the email <i>aezquerro@theconstructsim.com</i>. Please send it before the two hours have passed.\n",
    "* We will send you your results and certificate (if applicable) next week.\n",
    "* In order to correct the exams, we use an automated system that tests the files you create. For this automated system, it is **VERY IMPORTANT** that you follow all the instructions given in the Exercises regarding the names of the files, services, etc. Don't forget to have a look at the **Specifications** section of each Exercise."
   ]
  },
  {
   "cell_type": "markdown",
   "metadata": {},
   "source": [
    "### Scoring"
   ]
  },
  {
   "cell_type": "markdown",
   "metadata": {},
   "source": [
    "Scoring is based on how many of the following phases you have achieved:\n",
    "\n",
    "* **Task 1.a.** The drone properly takes off when launching your program: **1.0 points**\n",
    "* **Task 1.b.** The drone properly executes the motion when launching your program: **1.5 points**\n",
    "* **Task 2.a.** The drone properly executes the motion when calling the service: **1.5 points**\n",
    "* **Task 2.b.** The Service properly returns the distance moved by the drone in the x axis: **1.5 points**\n",
    "* **Task 3.** The Action Server works properly and returns the poses visited by the drone qhen it finishes: **2.5 points**\n",
    "* **Task 4.** The main node coordinates everything properly, calling the Service to execute the motion, and calling the Action Server to get the last Pose visited by the drone: **2.0 points**\n",
    "\n",
    "<br>\n",
    "<b>Only those with an 8 out of 10 will get a certificate</b>. This means, you have correctly understood the concepts and know how to use them to solve a robotics problem.\n",
    "\n",
    "Having a 10 out of 10 means that you also know how to apply the concepts in order to accomplish a task. This should be your goal."
   ]
  }
 ],
 "metadata": {
  "anaconda-cloud": {},
  "kernelspec": {
   "display_name": "Python 2",
   "language": "python",
   "name": "python2"
  },
  "language_info": {
   "codemirror_mode": {
    "name": "ipython",
    "version": 2
   },
   "file_extension": ".py",
   "mimetype": "text/x-python",
   "name": "python",
   "nbconvert_exporter": "python",
   "pygments_lexer": "ipython2",
   "version": "2.7.12"
  },
  "latex_metadata": {
   "chapter": "Exam",
   "chapter_title": "Exam",
   "course_title": "ROS BASICS IN 5 DAYS"
  }
 },
 "nbformat": 4,
 "nbformat_minor": 1
}
