{
 "cells": [
  {
   "cell_type": "markdown",
   "metadata": {},
   "source": [
    "# ROS Summer Course "
   ]
  },
  {
   "cell_type": "markdown",
   "metadata": {},
   "source": [
    "<img src=\"img/robotignite_logo_text.png\" width=\"700\" />"
   ]
  },
  {
   "cell_type": "markdown",
   "metadata": {},
   "source": [
    "# Exam Week 2"
   ]
  },
  {
   "cell_type": "markdown",
   "metadata": {},
   "source": [
    "The exam is based on the Fetch robot."
   ]
  },
  {
   "cell_type": "markdown",
   "metadata": {},
   "source": [
    "<img src=\"img/fetch.png\" width=\"400\" />"
   ]
  },
  {
   "cell_type": "markdown",
   "metadata": {},
   "source": [
    "For passing the exam, we will ask you to perform different tasks with the simulated Fetch. For each task, very **specific instructions** will be provided: name of the package, names of the launch files and Python scripts, topic names to use, etc. \n",
    "\n",
    "It is **VERY IMPORTANT** that you strictly follow these instructions, since they will allow our automated correction system to properly test your exam, and assign a score to it. If the names you use are different from the ones specified in the exam instructions, your exercise will be marked as **FAILED**, even though it works correctly."
   ]
  },
  {
   "cell_type": "markdown",
   "metadata": {},
   "source": [
    "## Tasks to accomplish"
   ]
  },
  {
   "cell_type": "markdown",
   "metadata": {},
   "source": [
    "## Part 1"
   ]
  },
  {
   "cell_type": "markdown",
   "metadata": {},
   "source": [
    "#### Set up the workspace"
   ]
  },
  {
   "cell_type": "markdown",
   "metadata": {},
   "source": [
    "a) Create a new package named **fetch_nav**. Inside this package, you will place all the files related to the **Part 1** of the exam."
   ]
  },
  {
   "cell_type": "markdown",
   "metadata": {},
   "source": [
    "b) Inside the packge you will need to have, at least, the following 3 folders: **launch**, **config** and **src**. You will place all the launch files inside the **launch** folder, all the parameter files inside the **config** and all your Python scripts inside the **src** folder."
   ]
  },
  {
   "cell_type": "markdown",
   "metadata": {},
   "source": [
    "#### Task 1"
   ]
  },
  {
   "cell_type": "markdown",
   "metadata": {},
   "source": [
    "a) Create a new <span class=\"ign_green\">launch file</span> named **fetch_mapping.launch**, that will launch the slam_gmapping node and also will load the necessary parameters in order to properly configure the slam_gmapping node. "
   ]
  },
  {
   "cell_type": "markdown",
   "metadata": {},
   "source": [
    "b) Create and Save a map of the environment. You will name your map files as **exam_map**."
   ]
  },
  {
   "cell_type": "markdown",
   "metadata": {},
   "source": [
    "<span style=\"color:blue;\">**NOTE:** You can move the Fetch robot around using the keyborad by launching the following command:</span>"
   ]
  },
  {
   "cell_type": "code",
   "execution_count": null,
   "metadata": {
    "collapsed": true
   },
   "outputs": [],
   "source": [
    "roslaunch turtlebot_teleop keyboard_teleop.launch"
   ]
  },
  {
   "cell_type": "markdown",
   "metadata": {},
   "source": [
    "#### Task 2"
   ]
  },
  {
   "cell_type": "markdown",
   "metadata": {},
   "source": [
    "a) Create a new <span class=\"ign_green\">launch file</span>, named **fetch_localization.launch**, that will launch the amcl node and also will load the necessary parameters in order to properly configure the amcl node. "
   ]
  },
  {
   "cell_type": "markdown",
   "metadata": {},
   "source": [
    "#### Task 3"
   ]
  },
  {
   "cell_type": "markdown",
   "metadata": {},
   "source": [
    "a) Create a new <span class=\"ign_green\">**launch file**</span>, named **fetch_move_base.launch**, that will launch the move_base node and also load all the necessary parameter files."
   ]
  },
  {
   "cell_type": "markdown",
   "metadata": {},
   "source": [
    "b) Set up the move base system so that you can send a goal to the move_base node and Fetch can reach that goal without colliding with anything."
   ]
  },
  {
   "cell_type": "markdown",
   "metadata": {},
   "source": [
    "#### Task 4"
   ]
  },
  {
   "cell_type": "markdown",
   "metadata": {},
   "source": [
    "a) Create new a Python script, named **fetch_goal.py**, containing an Action Client that will send a goal position to the move_base Action Server. So, when launching this script, the Fetch robot will start moving towards the specified goal (of your choice)."
   ]
  },
  {
   "cell_type": "markdown",
   "metadata": {},
   "source": [
    "**Specifications**\n",
    "\n",
    "* The name of the launch file that will launch your Python script must be **fetch_goal.launch**."
   ]
  },
  {
   "cell_type": "markdown",
   "metadata": {},
   "source": [
    "## Part 2"
   ]
  },
  {
   "cell_type": "markdown",
   "metadata": {},
   "source": [
    "#### Task 5"
   ]
  },
  {
   "cell_type": "markdown",
   "metadata": {},
   "source": [
    "a) Create a MoveIt package for the Fetch robot arm, so that you can plan and execute trajectories. The name of this package must be **fetch_moveit_config**. The name of the launch file that starts MoveIt must be called **fetch_planning_execution.launch**.\n",
    "\n",
    "\n",
    "<span style=\"color:blue;\">**NOTE 1:** You will find the URDF file needed to create the MoveIt package in the **fetch_description** package, and it is named **fetch.urdf**.</span>\n",
    "\n",
    "<span style=\"color:blue;\">**NOTE 2:** In order to make the motion plans more likely to be successfull, you can raise the Fetch's robot torso by executing the following command.</span>"
   ]
  },
  {
   "cell_type": "code",
   "execution_count": null,
   "metadata": {
    "collapsed": true
   },
   "outputs": [],
   "source": [
    "roslaunch fetch_gazebo_demo move_torso.launch"
   ]
  },
  {
   "cell_type": "markdown",
   "metadata": {},
   "source": [
    "#### Task 6"
   ]
  },
  {
   "cell_type": "markdown",
   "metadata": {},
   "source": [
    "a) Inside the package you created in **Task 5**, create a new Python script, named **fetch_motions.py**. Here, you will add the necessary code so that the Fetch robot can reach the bellow position."
   ]
  },
  {
   "cell_type": "markdown",
   "metadata": {},
   "source": [
    "<img src=\"img/fetch_motion.png\" width=\"400\" />"
   ]
  },
  {
   "cell_type": "markdown",
   "metadata": {},
   "source": [
    "<span style=\"color:blue;\">**NOTE:** Below you can see the joints configuration for the above position.</span>"
   ]
  },
  {
   "cell_type": "markdown",
   "metadata": {},
   "source": [
    "<img src=\"img/fetch_pose_exam.png\" width=\"400\" />"
   ]
  },
  {
   "cell_type": "markdown",
   "metadata": {},
   "source": [
    "**Specifications**\n",
    "\n",
    "* The joint positions have to be the **EXACT ONES** shown in the above configuration."
   ]
  },
  {
   "cell_type": "markdown",
   "metadata": {},
   "source": [
    "## Part 3"
   ]
  },
  {
   "cell_type": "markdown",
   "metadata": {},
   "source": [
    "#### Task 7"
   ]
  },
  {
   "cell_type": "markdown",
   "metadata": {},
   "source": [
    "a) Create a new package, named **fetch_perception**. Inside the package, create a new launch file named **fetch_face_detector.launch**, that will start a face detector node. It has to be able to detect the face of the human that is inside the room."
   ]
  },
  {
   "cell_type": "markdown",
   "metadata": {},
   "source": [
    "#### Task 8"
   ]
  },
  {
   "cell_type": "markdown",
   "metadata": {},
   "source": [
    "a) Inside the **fetch_perception** package, create a new Python script, named **detect_human.py**. This program has to do the following:\n",
    "\n",
    "* It will use the face detection node you created in **Task 7** to check for any detection.\n",
    "* If a human (face) is detected, the Fetch robot will perform the motion you created in **Task 6**. \n",
    "* If it doesn't detect a face, it will do nothing."
   ]
  },
  {
   "cell_type": "markdown",
   "metadata": {},
   "source": [
    "**Specifications**\n",
    "\n",
    "* The above Python script must be launched with a launch file named **detect_human.launch**."
   ]
  },
  {
   "cell_type": "markdown",
   "metadata": {},
   "source": [
    "## How to proceed with the exam"
   ]
  },
  {
   "cell_type": "markdown",
   "metadata": {},
   "source": [
    "* You can use the learning environment to develop and test your code.\n",
    "* You can recover the previous lessons or consult the internet to search for information.\n",
    "* You have FOUR hours to finish the exam.\n",
    "* Once you have your code done and working, use the IDE to download all of the packages and send them in a zip file to the email <i>aezquerro@theconstructsim.com</i>. Please send it before the two hours have passed.\n",
    "* We will send you your results and certificate (if applicable) next week.\n",
    "* In order to correct the exams, we use an automated system that tests the files you create. For this automated system, it is **VERY IMPORTANT** that you follow all the instructions given in the Exercises regarding the names of the files, services, etc. Don't forget to have a look at the **Specifications** section of each Exercise."
   ]
  },
  {
   "cell_type": "markdown",
   "metadata": {},
   "source": [
    "## Scoring"
   ]
  },
  {
   "cell_type": "markdown",
   "metadata": {},
   "source": [
    "Scoring is based on how many of the following phases you have achieved:\n",
    "\n",
    "* **Task 1.** You have created a proper Map of the environment: **1.0 points**\n",
    "* **Task 2.** The robot properly localizes itself in the Map: **1.0 points**\n",
    "* **Task 3.** The robot can receive a goal and reach it properly: **1.0 points**\n",
    "* **Task 4.** The robot reachs the specified goal using the Action Client code: **1.0 points**\n",
    "* **Task 5.** The moveit package works correclty and you can plan and execute trajectories: **1.5 points**\n",
    "* **Task 6.** The robot arm does correctly reach the desired pose: **1.5 points**\n",
    "* **Task 7.** The robot can detect if it has a person in front: **1.0 points**\n",
    "* **Task 8.** The robot can detect if it has a person in front, and actuate depending on that: **2.0 points**\n",
    "\n",
    "<br>\n",
    "<b>Only those with an 8 out of 10 will get a certificate</b>. This means, you have correctly understood the concepts and know how to use them to solve a robotics problem.\n",
    "\n",
    "Having a 10 out of 10 means that you also know how to apply the concepts in order to accomplish a task. This should be your goal."
   ]
  }
 ],
 "metadata": {
  "anaconda-cloud": {},
  "kernelspec": {
   "display_name": "Python [Root]",
   "language": "python",
   "name": "Python [Root]"
  },
  "language_info": {
   "codemirror_mode": {
    "name": "ipython",
    "version": 2
   },
   "file_extension": ".py",
   "mimetype": "text/x-python",
   "name": "python",
   "nbconvert_exporter": "python",
   "pygments_lexer": "ipython2",
   "version": "2.7.12"
  }
 },
 "nbformat": 4,
 "nbformat_minor": 0
}
