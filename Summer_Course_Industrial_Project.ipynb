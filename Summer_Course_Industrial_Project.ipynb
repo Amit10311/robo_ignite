{
 "cells": [
  {
   "cell_type": "markdown",
   "metadata": {},
   "source": [
    "# Summer Course"
   ]
  },
  {
   "cell_type": "markdown",
   "metadata": {},
   "source": [
    "## Project"
   ]
  },
  {
   "cell_type": "markdown",
   "metadata": {},
   "source": [
    "<p style=\"background:green;color:white;\">SUMMARY</p>"
   ]
  },
  {
   "cell_type": "markdown",
   "metadata": {},
   "source": [
    "Estimated time of completion: <b>2 h</b>"
   ]
  },
  {
   "cell_type": "markdown",
   "metadata": {},
   "source": [
    "<p style=\"background:green;color:white;\">END OF SUMMARY</p>"
   ]
  },
  {
   "cell_type": "markdown",
   "metadata": {},
   "source": [
    "This last Unit is ment to put all the knowledge you've got during this Course together. You will do this by doing a Project, which will be based on the UR5 simulation. Using this simulation, you will have to practice everything you've learned during the Course: create an URDF, build a MoveIt Package, connect this package to the running simulation and finally perform some Motion Planning using Python. "
   ]
  },
  {
   "cell_type": "markdown",
   "metadata": {},
   "source": [
    "The Project will be divided in 4 parts. In order to complete it, just follow the steps tht will be described below. Are you ready? Then let's go!"
   ]
  },
  {
   "cell_type": "markdown",
   "metadata": {},
   "source": [
    "### 1. Build the URDF"
   ]
  },
  {
   "cell_type": "markdown",
   "metadata": {},
   "source": [
    "First of all, you will have to build an URDF for the robot. You can follow the steps described in Chapter 1 for that, or you can create a more complex environment, it's up to you! You will find the files you need in the <i><b>ur_description</b></i> package.\n",
    "\n",
    "Keep in mind, though, that the simulation will not change even if you modify the URDF, because the URDF file of this simulation is already created and launched. Here you have an example URDF file for the project."
   ]
  },
  {
   "cell_type": "markdown",
   "metadata": {},
   "source": [
    "<img src=\"img/ur5_urdf.png\" width=\"600\" />"
   ]
  },
  {
   "cell_type": "markdown",
   "metadata": {},
   "source": [
    "### 2. Build the MoveIt package"
   ]
  },
  {
   "cell_type": "markdown",
   "metadata": {},
   "source": [
    "Once you have created the URDF file, the next step will be to create a MoveIt package. Just follow the steps described in the Chapter 2 of this Course."
   ]
  },
  {
   "cell_type": "markdown",
   "metadata": {},
   "source": [
    "You should create 3 predefined Poses for the robot. For instance, they could be this 3:"
   ]
  },
  {
   "cell_type": "markdown",
   "metadata": {},
   "source": [
    "<div style=\"text-align: left\">\n",
    "<img src=\"img/pose1.png\" width=\"200\" style=\"float: left; margin: 0px 0px 15px 15px;\"/>\n",
    "<img src=\"img/pose2.png\" width=\"150\" style=\"float: left; margin: 0px 0px 15px 15px;\"/>\n",
    "<img src=\"img/pose3.png\" width=\"110\" style=\"float: left; margin: 0px 0px 15px 15px;\"/>\n",
    "</div>"
   ]
  },
  {
   "cell_type": "markdown",
   "metadata": {},
   "source": [
    "Once the package is created, test that it works properly by launching the <i><b>demo.launch</b></i> file, and Planning some trajectories."
   ]
  },
  {
   "cell_type": "markdown",
   "metadata": {},
   "source": [
    "It may happen that the trajectories that are shown in MoveIt are a little bit weird. In order to solve this, set the \"Planning Attempts\" Option to 4, just like in the picture below."
   ]
  },
  {
   "cell_type": "markdown",
   "metadata": {},
   "source": [
    "<img src=\"img/attempts.png\" width=\"200\" />"
   ]
  },
  {
   "cell_type": "markdown",
   "metadata": {},
   "source": [
    "At the end, you should be able to see something like this:"
   ]
  },
  {
   "cell_type": "markdown",
   "metadata": {},
   "source": [
    "<img src=\"img/planning_ur.gif\" width=\"400\" />"
   ]
  },
  {
   "cell_type": "markdown",
   "metadata": {},
   "source": [
    "### 3. Connect the MoveIt package with the simulation"
   ]
  },
  {
   "cell_type": "markdown",
   "metadata": {},
   "source": [
    "Once you can successfully perform Motion Planning in MoveIt, it's time to connect it to the simulation in order to be able to move the \"real\" robot. You can follow the last part of the 2nd Chapter to complete this."
   ]
  },
  {
   "cell_type": "markdown",
   "metadata": {},
   "source": [
    "At the end, you should be able to move the robot in the simulation, like this:"
   ]
  },
  {
   "cell_type": "markdown",
   "metadata": {},
   "source": [
    "<img src=\"img/ur5_sim.gif\" width=\"400\" />"
   ]
  },
  {
   "cell_type": "markdown",
   "metadata": {},
   "source": [
    "### 4. Python Script"
   ]
  },
  {
   "cell_type": "markdown",
   "metadata": {},
   "source": [
    "Once everything is working, and you are able to move the robot in the simulation through MoveIt, it's time to do it with code! In this last step of the Project, you will have to create a Python Script that does the following:"
   ]
  },
  {
   "cell_type": "markdown",
   "metadata": {},
   "source": [
    "<ul>\n",
    "<li>It moves the robot first to one of the predefined Poses you set in Step 2.</li>\n",
    "<li>Then, it moves the robot to the 2nd predefined Pose.</li>\n",
    "<li>After this, it goes back to the previous Pose.</li>\n",
    "<li>Finally, it returns to it's initial Pose.</li>\n",
    "</ul>"
   ]
  },
  {
   "cell_type": "markdown",
   "metadata": {},
   "source": [
    "Here you can see an example of what your Script should do."
   ]
  },
  {
   "cell_type": "markdown",
   "metadata": {},
   "source": [
    "<img src=\"img/multiple_moves.gif\" width=\"400\" />"
   ]
  },
  {
   "cell_type": "markdown",
   "metadata": {},
   "source": [
    "## <p style=\"background:red;color:white;\">Solutions</p>"
   ]
  },
  {
   "cell_type": "markdown",
   "metadata": {},
   "source": [
    "Please Try to do it by yourself unless you get stuck or need some inspiration. You will learn much more if you fight for each exercise."
   ]
  },
  {
   "cell_type": "markdown",
   "metadata": {},
   "source": [
    "<img src=\"img/robotignite_logo_text.png\"/>"
   ]
  },
  {
   "cell_type": "markdown",
   "metadata": {},
   "source": [
    "Follow this link to open the solutions for the ROS Industrial Project: [ROS Industrial Project Solutions](extra_files/summer_ind_project_solutions.ipynb)"
   ]
  }
 ],
 "metadata": {
  "anaconda-cloud": {},
  "kernelspec": {
   "display_name": "Python [Root]",
   "language": "python",
   "name": "Python [Root]"
  },
  "language_info": {
   "codemirror_mode": {
    "name": "ipython",
    "version": 2
   },
   "file_extension": ".py",
   "mimetype": "text/x-python",
   "name": "python",
   "nbconvert_exporter": "python",
   "pygments_lexer": "ipython2",
   "version": "2.7.12"
  }
 },
 "nbformat": 4,
 "nbformat_minor": 0
}
