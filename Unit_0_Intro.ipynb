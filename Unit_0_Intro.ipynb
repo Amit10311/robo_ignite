{
 "cells": [
  {
   "cell_type": "markdown",
   "metadata": {},
   "source": [
    "# <font class='ign_color'>TF in ROS</font>"
   ]
  },
  {
   "cell_type": "markdown",
   "metadata": {},
   "source": [
    "## Chapter 0: Introduction to the Course"
   ]
  },
  {
   "cell_type": "markdown",
   "metadata": {},
   "source": [
    "## Why TF?"
   ]
  },
  {
   "cell_type": "markdown",
   "metadata": {},
   "source": [
    "Physical system, especially robotics systems, have many coordinate frames that change over time.<br>\n",
    "For example, a robotic arm, like the one depicted below, has many different physical parts, each one with its own coordinate frame, which can move at the same time.<br>\n",
    "Therefore, some problems arise from this, such as:<br>\n",
    "<ul>\n",
    "    <li>\n",
    "    The Hokuyo laser sensor at the tip of the robot arm, or TCP, is registering distance readings. But these readings are registered in the <b>LaserFrame</b>. This means that when we need to interpret the data in the world frame, we will have to make some type of <b>conversion</b>. This conversion is based on how <b>ALL the Joints of the robot</b> were in each instance. This is not trivial, but it is very common to have in a robotics environment.\n",
    "\n",
    "    <table style=\"width:100%\">\n",
    "      <tr>\n",
    "        <th>\n",
    "        <figure>\n",
    "          <img id=\"fig-A.1\" src=\"img/iri.gif\" width=\"300\"/>\n",
    "           <center> <figcaption><h2>Wam Base-Frame View</h2></figcaption></center>\n",
    "        </figure>\n",
    "\n",
    "        </th>\n",
    "        <th>\n",
    "            <figure>\n",
    "          <img id=\"fig-A.2\" src=\"img/iri_laser.gif\" width=\"300\"/>\n",
    "           <center> <figcaption><h2>Wam Laser-Frame View</h2></figcaption></center>\n",
    "        </figure>\n",
    "        </th>    \n",
    "\n",
    "      </tr>\n",
    "    </table>\n",
    "    </li>\n",
    "    <li>What if you have several robots that only know their own positions in reference to the world, but not others'? No problem! With TF, you can make the <b>conversion</b> to extract that data.</li>\n",
    "    <li>What if the robot has a really complex articulation system? Well, the TF ROS tools have the possibility of making all of the conversions, only having a definition of the robot model.</li>\n",
    "</ul>"
   ]
  },
  {
   "cell_type": "markdown",
   "metadata": {},
   "source": [
    "## What's in the ROS TF Course?"
   ]
  },
  {
   "cell_type": "markdown",
   "metadata": {},
   "source": [
    "This course will center on hands-on experience, enabling you to:\n",
    "<ul>\n",
    "    <li>Publish and Subscribe to TF data topics</li>\n",
    "    <li>Use the tools necessary to visualise TF data</li>\n",
    "    <li>Publish fixed TF transforms</li>\n",
    "    <li>Use RobotStatePublisher to generate TF data for robots too complex to publish it manually</li>\n",
    "    <li>Understand the use of JointStatePublisher and how it relates to RobotMovement Controllers</li>\n",
    "</ul>"
   ]
  },
  {
   "cell_type": "markdown",
   "metadata": {},
   "source": [
    "## How will you learn all that?"
   ]
  },
  {
   "cell_type": "markdown",
   "metadata": {},
   "source": [
    "You will learn all these skills working with various simulations. Although some of the simulations may seem simple, they were selected purposely to make the learning experience faster and, most importantly, keep to the bare essentials of what you need to learn in this course.<br>\n",
    "These are the simulations you will be working with:"
   ]
  },
  {
   "cell_type": "markdown",
   "metadata": {},
   "source": [
    "<figure>\n",
    "          <img id=\"fig-A.1\" src=\"img/3dturtlesim.png\" width=\"600\"/>\n",
    "           <center> <figcaption><h2>3d Version of the Classical 2D TurtleSim</h2></figcaption></center>\n",
    "        </figure>"
   ]
  },
  {
   "cell_type": "markdown",
   "metadata": {},
   "source": [
    "<figure>\n",
    "  <img id=\"fig-A.1\" src=\"img/pi_robot.png\" width=\"300\"/>\n",
    "   <center> <figcaption><h2>Fully articulated Pi Robot</h2></figcaption></center>\n",
    "</figure>"
   ]
  },
  {
   "cell_type": "markdown",
   "metadata": {},
   "source": [
    "<figure>\n",
    "          <img id=\"fig-A.1\" src=\"img/multiple_turtleBot.png\" width=\"400\"/>\n",
    "           <center> <figcaption><h2>Multiple KobukiRobot Simulation</h2></figcaption></center>\n",
    "        </figure>"
   ]
  },
  {
   "cell_type": "markdown",
   "metadata": {},
   "source": [
    "## Minimum requirements for this course"
   ]
  },
  {
   "cell_type": "markdown",
   "metadata": {},
   "source": [
    "<ul>\n",
    "<li>A knowledge of mid-level python is required to understand all the examples in this course.</li>\n",
    "<li>Although this is a self-contained course, it is highly advisable to have a basic understanding on how ROS works.<br>\n",
    "You can gain that knowledge in the Course <b>ROS Basics in 5 days</b> in <a href=\"http://www.robotigniteacademy.com/en/\">RobotIgnite</a>.\n",
    "</li>\n",
    "<li>Also, Unix shell knowledge is required.</li>\n",
    "<li>A basic knowledge of how Coordinate-Frames work and their application.</li>\n",
    "</ul>"
   ]
  },
  {
   "cell_type": "markdown",
   "metadata": {},
   "source": [
    "## Thanks To"
   ]
  },
  {
   "cell_type": "markdown",
   "metadata": {},
   "source": [
    "This course wouldn't have been possible without the knowledge and work of the <a href=\"http://www.ros.org/\">ROS Community</a>, <a href=\"https://www.osrfoundation.org/\">OSRF</a>, <a href=\"http://gazebosim.org/\">Gazebo Team</a>, and <a href=\"http://robotics.cs.biu.ac.il/\">the BIU Robotics Consortium</a>.<br>\n",
    "Special thanks to <a href=\"https://www.blendswap.com/user/GenX\">GenX from BlendSwap</a> for the great 3D model of the Turtle.\n",
    "\n",
    "\n",
    "\n",
    "\n",
    "\n"
   ]
  },
  {
   "cell_type": "markdown",
   "metadata": {},
   "source": [
    "## Sources and Extra Information"
   ]
  },
  {
   "cell_type": "markdown",
   "metadata": {},
   "source": [
    "Basics:<br>\n",
    "<a href=\"https://en.wikipedia.org/wiki/Coordinate_system\">Coordinate system</a><br>\n",
    "<a href=\"https://en.wikipedia.org/wiki/Frame_of_reference\">Frame of reference</a><br>\n",
    "<a href=\"http://www.plasmapowders.com/thermal-spray-robot-basics-the-importance-of-the-tool-center-point.htm\">TCP and its importance</a><br>\n",
    "\n",
    "More Info:<br>\n",
    "<a href=\"http://gazebosim.org/tutorials/?tut=ros_urdf\">Gazebo RRBOT Tutorial</a><br>\n",
    "<a href=\"http://gazebosim.org/tutorials/?tut=ros_control\">Gazebo RRBOT Control Tutorial</a><br>\n",
    "<a href=\"http://wiki.ros.org/tf/Tutorials\">TF ROS Classical Tutorial</a><br>\n",
    "\n",
    "Simulation Sources:<br>\n",
    "<a href=\"https://github.com/ros-simulation/gazebo_ros_demos\">RRBOT Git</a><br>\n"
   ]
  }
 ],
 "metadata": {
  "anaconda-cloud": {},
  "kernelspec": {
   "display_name": "Python 3",
   "language": "python",
   "name": "python3"
  },
  "language_info": {
   "codemirror_mode": {
    "name": "ipython",
    "version": 3
   },
   "file_extension": ".py",
   "mimetype": "text/x-python",
   "name": "python",
   "nbconvert_exporter": "python",
   "pygments_lexer": "ipython3",
   "version": "3.6.1"
  }
 },
 "nbformat": 4,
 "nbformat_minor": 1
}
