{
 "cells": [
  {
   "cell_type": "markdown",
   "metadata": {},
   "source": [
    "# <font class='ign_color'>TF in ROS</font>"
   ]
  },
  {
   "cell_type": "markdown",
   "metadata": {},
   "source": [
    "## Chapter 1: TF Basics"
   ]
  },
  {
   "cell_type": "markdown",
   "metadata": {},
   "source": [
    "Traditionally, **TFs** are taught using a 2D simulation of two ROS turtles. But this is NOT the case!\n",
    "You will work with a 3D version of it as tribute. In this case, you will work with a <i>Staurotypus-salvini-Turtle-model</i> as **turtle1** and an <i>iRobot</i> cleaner robot as **turtle2**."
   ]
  },
  {
   "cell_type": "markdown",
   "metadata": {},
   "source": [
    "<table style=\"width:100%\">\n",
    "  <tr>\n",
    "    <th>\n",
    "    <figure>\n",
    "      <img id=\"fig-A.1\" src=\"img/turtle_sim.png\" width=\"300\"/>\n",
    "       <center> <figcaption><h2>Classical 2D TurtleSim</h2></figcaption></center>\n",
    "    </figure>\n",
    "\n",
    "    </th>\n",
    "    <th>\n",
    "        <figure>\n",
    "      <img id=\"fig-A.2\" src=\"img/3dturtlesim.png\" width=\"300\"/>\n",
    "       <center> <figcaption><h2>New 3D TurtleSim</h2></figcaption></center>\n",
    "    </figure>\n",
    "    </th>    \n",
    "\n",
    "  </tr>\n",
    "</table>"
   ]
  },
  {
   "cell_type": "markdown",
   "metadata": {},
   "source": [
    "So, let's begin!"
   ]
  },
  {
   "cell_type": "markdown",
   "metadata": {},
   "source": [
    "## 1. What you will be able to do after this Unit"
   ]
  },
  {
   "cell_type": "markdown",
   "metadata": {},
   "source": [
    "Execute the following ROS launch file to see what you will be able to do and understand after this lesson: "
   ]
  },
  {
   "cell_type": "markdown",
   "metadata": {},
   "source": [
    "This first command will make the iRobot start following the turtle.\n",
    "<table style=\"float:left;background: #407EAF\">\n",
    "<tr>\n",
    "<th>\n",
    "<p class=\"transparent\">Execute in WebShell #1</p>\n",
    "</th>\n",
    "</tr>\n",
    "</table>\n",
    "<br>"
   ]
  },
  {
   "cell_type": "code",
   "execution_count": null,
   "metadata": {
    "collapsed": true
   },
   "outputs": [],
   "source": [
    "roslaunch turtle_tf_3d irobot_follow_turtle.launch"
   ]
  },
  {
   "cell_type": "markdown",
   "metadata": {},
   "source": [
    "This second command allows us to move the turtle around with the keyboard.\n",
    "<table style=\"float:left;background: #407EAF\">\n",
    "<tr>\n",
    "<th>\n",
    "<p class=\"transparent\">Execute in WebShell #2</p>\n",
    "</th>\n",
    "</tr>\n",
    "</table>\n",
    "<br>"
   ]
  },
  {
   "cell_type": "code",
   "execution_count": null,
   "metadata": {
    "collapsed": true
   },
   "outputs": [],
   "source": [
    "roslaunch turtle_tf_3d turtle_keyboard_move.launch"
   ]
  },
  {
   "cell_type": "markdown",
   "metadata": {},
   "source": [
    "## 2. What does this have to do with TF anyway?"
   ]
  },
  {
   "cell_type": "markdown",
   "metadata": {},
   "source": [
    "Well, actually, quite a lot. You see, when launching the **irobot_follow_turtle.launch**, you are executing two main things:\n",
    "<ol>\n",
    "    <li>\n",
    "    A TF broadcaster that is publishing the TF of both turtles referred to the world frame.\n",
    "    </li>\n",
    "    <li>\n",
    "    A TF listener that reads that TF and uses it to calculate the direction that the iRobot has to move to follow the Real-turtle.\n",
    "    </li>\n",
    "</ol>"
   ]
  },
  {
   "cell_type": "markdown",
   "metadata": {},
   "source": [
    "## 3. Get an idea of what is happening"
   ]
  },
  {
   "cell_type": "markdown",
   "metadata": {},
   "source": [
    "There are several ways of seeing how the TFs work, but the best ones are graphical. This is because it's really difficult to have a general idea of TF only echoing the TF topic."
   ]
  },
  {
   "cell_type": "markdown",
   "metadata": {},
   "source": [
    "### 3.1 View_frames:"
   ]
  },
  {
   "cell_type": "markdown",
   "metadata": {},
   "source": [
    "The **view_frames** ROS node generates a diagram with the current TF tree of the system.<br>\n",
    "So, let's generate the TF tree of the current system."
   ]
  },
  {
   "cell_type": "markdown",
   "metadata": {},
   "source": [
    "<p style=\"background:#EE9023;color:white;\">Exercise 1.1</p>\n",
    "<br>\n",
    "In this exercise, you are going to see what is generated when publishing TF and how to use the **view_frames** tool.\n",
    "\n",
    "1. The first step is to launch the TF publisher, if you stopped it. This will start publishing the TF again:<br><br>\n",
    "<table style=\"float:left;background: #407EAF\">\n",
    "<tr>\n",
    "<th>\n",
    "<p class=\"transparent\">Execute in WebShell #1</p>\n",
    "</th>\n",
    "</tr>\n",
    "</table>"
   ]
  },
  {
   "cell_type": "code",
   "execution_count": null,
   "metadata": {
    "collapsed": true
   },
   "outputs": [],
   "source": [
    "roslaunch turtle_tf_3d irobot_follow_turtle.launch"
   ]
  },
  {
   "cell_type": "markdown",
   "metadata": {},
   "source": [
    "2. The second step is to generate the TF tree diagram. For this, go to your **catkin_ws/src** directory to access the PDF file once it's generated through the IDE:<br>\n",
    "<table style=\"float:left;background: #407EAF\">\n",
    "<tr>\n",
    "<th>\n",
    "<p class=\"transparent\">Execute in WebShell #2</p>\n",
    "</th>\n",
    "</tr>\n",
    "</table>"
   ]
  },
  {
   "cell_type": "code",
   "execution_count": null,
   "metadata": {
    "collapsed": true
   },
   "outputs": [],
   "source": [
    "roscd\n",
    "cd ../src\n",
    "rosrun tf view_frames"
   ]
  },
  {
   "cell_type": "markdown",
   "metadata": {},
   "source": [
    "Wait for the following result message:"
   ]
  },
  {
   "cell_type": "code",
   "execution_count": null,
   "metadata": {
    "collapsed": true
   },
   "outputs": [],
   "source": [
    "Listening to /tf for 5.000000 \n",
    "seconds                       \n",
    "Done Listening                \n",
    "dot - graphviz version 2.36.0 \n",
    "(20140111.2315)               \n",
    "                              \n",
    "Detected dot version 2.36     \n",
    "frames.pdf generated"
   ]
  },
  {
   "cell_type": "markdown",
   "metadata": {},
   "source": [
    "3. The last step is to download the TF tree diagram. For this, just **right-click** on the PDF file generated and select download. You can also visualize it directly in the Ignite platform, by just:<br>\n",
    "<table style=\"float:left;background: #407EAF\">\n",
    "<tr>\n",
    "<th>\n",
    "<p class=\"transparent\">Execute in WebShell #2</p>\n",
    "</th>\n",
    "</tr>\n",
    "</table>"
   ]
  },
  {
   "cell_type": "code",
   "execution_count": null,
   "metadata": {
    "collapsed": true
   },
   "outputs": [],
   "source": [
    "roscd\n",
    "cd ../src\n",
    "evince frames.pdf"
   ]
  },
  {
   "cell_type": "markdown",
   "metadata": {},
   "source": [
    "Click the Graphical Tools icon to visualize the **frames.pdf** file.\n",
    "<img src=\"img/font-awesome_desktop.png\"/>"
   ]
  },
  {
   "cell_type": "markdown",
   "metadata": {},
   "source": [
    "<p style=\"background:#EE9023;color:white;\">End of Exercise 1.1</p>"
   ]
  },
  {
   "cell_type": "markdown",
   "metadata": {},
   "source": [
    "If you followed the steps, you should have obtained a graph like this one:"
   ]
  },
  {
   "cell_type": "markdown",
   "metadata": {},
   "source": [
    "<img src=\"img/3dtrurtlesim_tf_viewframes.png\"/>"
   ]
  },
  {
   "cell_type": "markdown",
   "metadata": {},
   "source": [
    "Here you are getting the information that says that there are two frames being broadcast: **/turtle1** and **/turtle2**.\n",
    "\n",
    "Their common parent is the **/world** frame. It also gives you some extra information, like:<br>\n",
    "\n",
    "* **Broadcaster**: That's the name of the broadcaster of the TF data.\n",
    "* The **average rate** of publication; in this case, around 5.2Hz.\n",
    "* **Most recent transform** number and how old it is.\n",
    "* How much data the **TF buffer** has stored; in this case, 4.8 seconds of data.\n",
    "    "
   ]
  },
  {
   "cell_type": "markdown",
   "metadata": {},
   "source": [
    "### 3.2 rqt_tf_tree:"
   ]
  },
  {
   "cell_type": "markdown",
   "metadata": {},
   "source": [
    "**rqt_tf_tree** gives the same functionality as the **view_frames**, with an interesting extra: you can refresh and see changes without having to generate another PDF file each time.\n",
    "\n",
    "This is very useful when testing new TF broadcasts, and also for checking if what you are using is still publishing or if it's an old publication."
   ]
  },
  {
   "cell_type": "markdown",
   "metadata": {},
   "source": [
    "<p style=\"background:#EE9023;color:white;\">Exercise 1.2</p>\n",
    "<br>\n",
    "In this exercise, you are going to see how to use the **rqt_tf_tree** tool and how, when changing the TF published, this tool can update the changes with just a click of the refresh button.<br>\n",
    "\n",
    "0.- Stop any TF publication you might have by pressing [CTRL+C] in the WebShell you have them running. In your case, stop the \"roslaunch turtle_tf_3d irobot_follow_turtle.launch\" that you launched before."
   ]
  },
  {
   "cell_type": "markdown",
   "metadata": {},
   "source": [
    "1.- Start up the rqt_tf_tree ROS node. <br>\n",
    "<table style=\"float:left;background: #407EAF\">\n",
    "<tr>\n",
    "<th>\n",
    "<p class=\"transparent\">Execute in WebShell #1</p>\n",
    "</th>\n",
    "</tr>\n",
    "</table>"
   ]
  },
  {
   "cell_type": "code",
   "execution_count": null,
   "metadata": {
    "collapsed": true
   },
   "outputs": [],
   "source": [
    "rosrun rqt_tf_tree rqt_tf_tree"
   ]
  },
  {
   "cell_type": "markdown",
   "metadata": {},
   "source": [
    "<img src=\"img/rqt_tf_tree_1.png\"/>"
   ]
  },
  {
   "cell_type": "markdown",
   "metadata": {},
   "source": [
    "2.- Launch the publishing TF, if you stopped it. This will start publishing the TF again:<br><br>\n",
    "<table style=\"float:left;background: #407EAF\">\n",
    "<tr>\n",
    "<th>\n",
    "<p class=\"transparent\">Execute in WebShell #2</p>\n",
    "</th>\n",
    "</tr>\n",
    "</table>"
   ]
  },
  {
   "cell_type": "code",
   "execution_count": null,
   "metadata": {
    "collapsed": true
   },
   "outputs": [],
   "source": [
    "roslaunch turtle_tf_3d irobot_follow_turtle.launch"
   ]
  },
  {
   "cell_type": "markdown",
   "metadata": {},
   "source": [
    "3.- Then, click the refresh button in the rqt_tf_tree GUI, and see how it updates with the new data. Note also that each time you click the refresh button, the data from the broadcasters will increase, especially the <b>Most recent transform</b>, at the same time that the <b>Recorded at time</b> also increases. That's a good sign, indicating that the TF is being published."
   ]
  },
  {
   "cell_type": "markdown",
   "metadata": {},
   "source": [
    "<img src=\"img/rqt_tf_tree_2.png\"/>"
   ]
  },
  {
   "cell_type": "markdown",
   "metadata": {},
   "source": [
    "4.- Again, STOP the \"roslaunch turtle_tf_3d irobot_follow_turtle.launch\", and then refresh the rqt_tree_gui. What can you see now?\n",
    "\n",
    "You should see that the **Most recent transform** number doesn't update after clicking once or twice. This is because the TF stopped publishing and, therefore, you only have the old TF.<br>\n",
    "This is a common source of confusion because we would think that if we stop broadcasting, we shouldn't see any TF. But in reality, the old TF was kept, just not updated anymore."
   ]
  },
  {
   "cell_type": "markdown",
   "metadata": {},
   "source": [
    "<p style=\"background:#EE9023;color:white;\">End of Exercise 1.2</p>"
   ]
  },
  {
   "cell_type": "markdown",
   "metadata": {},
   "source": [
    "### 3.3 The Good old tf_echo"
   ]
  },
  {
   "cell_type": "markdown",
   "metadata": {},
   "source": [
    "Of course, you can see all this raw data through topics.<br>\n",
    "There is a topic named **/tf** where all the TFs are published. The only problem is that ALL of them are published. In simple systems like this one, that isn't a problem; but in massive systems, the quantity of data can be overwhelming. Therefore, the tf package gives a handy tool that filters which transform you are interested in and just shows you that one.\n",
    "\n",
    "Also, it makes the transforms between frames, which the /tf topic does not.<br>\n",
    "The /tf topic only publishes the direct TFs, not all the transforms between all the frames.\n",
    "**tf_echo** does return the transforms between any connected frames to you."
   ]
  },
  {
   "cell_type": "markdown",
   "metadata": {},
   "source": [
    "<p style=\"background:#EE9023;color:white;\">Exercise 1.3</p>\n",
    "<br>\n",
    "In this exercise, you are going to see how to echo the **/tf** topic and how to use the **tf_echo** tool to filter the /tf topic data.<br>\n",
    "\n",
    "1.- Launch the publishing TF, if you stopped it. This will start publishing the TF again:<br><br>\n",
    "<table style=\"float:left;background: #407EAF\">\n",
    "<tr>\n",
    "<th>\n",
    "<p class=\"transparent\">Execute in WebShell #1</p>\n",
    "</th>\n",
    "</tr>\n",
    "</table>"
   ]
  },
  {
   "cell_type": "code",
   "execution_count": null,
   "metadata": {
    "collapsed": true
   },
   "outputs": [],
   "source": [
    "roslaunch turtle_tf_3d irobot_follow_turtle.launch"
   ]
  },
  {
   "cell_type": "markdown",
   "metadata": {},
   "source": [
    "2.- Go to another WebShell and execute the following command to see one publication of the /tf topic directly:<br>\n",
    "<table style=\"float:left;background: #407EAF\">\n",
    "<tr>\n",
    "<th>\n",
    "<p class=\"transparent\">Execute in WebShell #2</p>\n",
    "</th>\n",
    "</tr>\n",
    "</table>"
   ]
  },
  {
   "cell_type": "code",
   "execution_count": null,
   "metadata": {
    "collapsed": true
   },
   "outputs": [],
   "source": [
    "rostopic echo -n1 /tf"
   ]
  },
  {
   "cell_type": "markdown",
   "metadata": {},
   "source": [
    "Note that the /tf topic makes one TF publication at a time; therefore, you will only see the turtle1 publication. Increase the number of topic echoes to see both. Try the following:<br>\n",
    "<table style=\"float:left;background: #407EAF\">\n",
    "<tr>\n",
    "<th>\n",
    "<p class=\"transparent\">Execute in WebShell #2</p>\n",
    "</th>\n",
    "</tr>\n",
    "</table>\n"
   ]
  },
  {
   "cell_type": "code",
   "execution_count": null,
   "metadata": {
    "collapsed": true
   },
   "outputs": [],
   "source": [
    "rostopic echo -n2 /tf\n",
    "rostopic echo -n3 /tf"
   ]
  },
  {
   "cell_type": "markdown",
   "metadata": {},
   "source": [
    "You should get an output similar to this:"
   ]
  },
  {
   "cell_type": "code",
   "execution_count": null,
   "metadata": {
    "collapsed": true
   },
   "outputs": [],
   "source": [
    "transforms:                                                                                                                     \n",
    "  -                                                                                                                             \n",
    "    header:                                                                                                                     \n",
    "      seq: 0                                                                                                                    \n",
    "      stamp:                                                                                                                    \n",
    "        secs: 7782                                                                                                              \n",
    "        nsecs: 825000000                                                                                                        \n",
    "      frame_id: /world                                                                                                          \n",
    "    child_frame_id: turtle1                                                                                                     \n",
    "    transform:                                                                                                                  \n",
    "      translation:                                                                                                              \n",
    "        x: -603.77572062                                                                                                        \n",
    "        y: 401.133842932                                                                                                        \n",
    "        z: 4.96028531518e-05                                                                                                    \n",
    "      rotation:                                                                                                                 \n",
    "        x: -1.75653333033e-05                                                                                                   \n",
    "        y: -4.59045846729e-05                                                                                                   \n",
    "        z: -0.348727560543                                                                                                      \n",
    "        w: 0.937224138668                                                                                                       \n",
    "---                                                                                                                             \n",
    "transforms:                                                                                                                     \n",
    "  -                                                                                                                             \n",
    "    header:                                                                                                                     \n",
    "      seq: 0                                                                                                                    \n",
    "      stamp:                                                                                                                    \n",
    "        secs: 7782                                                                                                              \n",
    "        nsecs: 825000000                                                                                                        \n",
    "      frame_id: /world                                                                                                          \n",
    "    child_frame_id: turtle2                                                                                                     \n",
    "    transform:                                                                                                                  \n",
    "      translation:                                                                                                              \n",
    "        x: -603.283849946                                                                                                       \n",
    "        y: 400.708855516                                                                                                        \n",
    "        z: 0.0400302771419                                                                                                      \n",
    "      rotation:                                                                                                                 \n",
    "        x: 0.000123779465356                                                                                                    \n",
    "        y: -4.61917728352e-05                                                                                                   \n",
    "        z: 0.937201791827                                                                                                       \n",
    "        w: 0.348787591438                                                                                                       \n",
    "---      "
   ]
  },
  {
   "cell_type": "markdown",
   "metadata": {},
   "source": [
    "3.- Now, filter the TF data with the <b>tf_echo</b> tool to only see a compact version of the transform between the /turtle1 frame and /turtle2 frame:<br>\n",
    "<table style=\"float:left;background: #407EAF\">\n",
    "<tr>\n",
    "<th>\n",
    "<p class=\"transparent\">Execute in WebShell #2</p>\n",
    "</th>\n",
    "</tr>\n",
    "</table>"
   ]
  },
  {
   "cell_type": "code",
   "execution_count": null,
   "metadata": {
    "collapsed": true
   },
   "outputs": [],
   "source": [
    "rosrun tf tf_echo turtle1 turtle2"
   ]
  },
  {
   "cell_type": "markdown",
   "metadata": {},
   "source": [
    "After possibly giving some warnings or errors until the system TF gets the TF data, it will output something like this:"
   ]
  },
  {
   "cell_type": "code",
   "execution_count": null,
   "metadata": {
    "collapsed": true
   },
   "outputs": [],
   "source": [
    "At time 8165.225                                                                                                                \n",
    "- Translation: [0.650, -0.000, 0.040]                                                                                           \n",
    "- Rotation: in Quaternion [0.000, -0.000, 1.000, 0.000]                                                                         \n",
    "            in RPY (radian) [-0.000, -0.000, 3.142]                                                                             \n",
    "            in RPY (degree) [-0.000, -0.027, 179.995]"
   ]
  },
  {
   "cell_type": "markdown",
   "metadata": {},
   "source": [
    "Here you can see the translation and rotation from turtle1 to turtle2, with its timestamp."
   ]
  },
  {
   "cell_type": "markdown",
   "metadata": {},
   "source": [
    "**This is giving you the transform between the /turtle1 frame and turtle2 frame.**"
   ]
  },
  {
   "cell_type": "markdown",
   "metadata": {},
   "source": [
    "<img src=\"img/tf_echo.png\"/>"
   ]
  },
  {
   "cell_type": "markdown",
   "metadata": {},
   "source": [
    "<p style=\"background:#EE9023;color:white;\">End of Exercise 1.3</p>"
   ]
  },
  {
   "cell_type": "markdown",
   "metadata": {},
   "source": [
    "### 3.4 RVIZ magic"
   ]
  },
  {
   "cell_type": "markdown",
   "metadata": {},
   "source": [
    "Of course, the best way to see if the TFs are being published and see the changes is representing each frame in space. Here RVIZ has you covered.<br>\n",
    "This is the best way to see what exactly the /tf topic is publishing."
   ]
  },
  {
   "cell_type": "markdown",
   "metadata": {},
   "source": [
    "<p style=\"background:#EE9023;color:white;\">Exercise 1.4</p>\n",
    "<br>\n",
    "In this exercise, you are going to represent the /tf topic data in 3D space and see how it changes when moving around the turtle.<br>\n",
    "\n",
    "1.- Launch the publishing TF, if you stopped it. This will start publishing the TF again and make the iRobot follow the turtle:<br><br>\n",
    "<table style=\"float:left;background: #407EAF\">\n",
    "<tr>\n",
    "<th>\n",
    "<p class=\"transparent\">Execute in WebShell #1</p>\n",
    "</th>\n",
    "</tr>\n",
    "</table>"
   ]
  },
  {
   "cell_type": "code",
   "execution_count": null,
   "metadata": {
    "collapsed": true
   },
   "outputs": [],
   "source": [
    "roslaunch turtle_tf_3d irobot_follow_turtle.launch"
   ]
  },
  {
   "cell_type": "markdown",
   "metadata": {},
   "source": [
    "2.-Execute the teleoperation command that will allow you to move the turtle around with the keyboard.\n",
    "<table style=\"float:left;background: #407EAF\">\n",
    "<tr>\n",
    "<th>\n",
    "<p class=\"transparent\">Execute in WebShell #2</p>\n",
    "</th>\n",
    "</tr>\n",
    "</table>\n",
    "<br>"
   ]
  },
  {
   "cell_type": "code",
   "execution_count": null,
   "metadata": {
    "collapsed": true
   },
   "outputs": [],
   "source": [
    "roslaunch turtle_tf_3d turtle_keyboard_move.launch"
   ]
  },
  {
   "cell_type": "markdown",
   "metadata": {},
   "source": [
    "3.- Start RVIZ.\n",
    "<table style=\"float:left;background: #407EAF\">\n",
    "<tr>\n",
    "<th>\n",
    "<p class=\"transparent\">Execute in WebShell #3</p>\n",
    "</th>\n",
    "</tr>\n",
    "</table>\n",
    "<br>"
   ]
  },
  {
   "cell_type": "code",
   "execution_count": null,
   "metadata": {
    "collapsed": true
   },
   "outputs": [],
   "source": [
    "rosrun rviz rviz"
   ]
  },
  {
   "cell_type": "markdown",
   "metadata": {},
   "source": [
    "Click the Graphical Tools icon to see RVIZ.\n",
    "<img src=\"img/font-awesome_desktop.png\"/><br>\n",
    "Then, add a TF element and select the Fixed Frame **/world**.<br>\n",
    "\n",
    "<span style=\"color:red;\">**NOTE**: If you are not sure about how to do this, please have a look at the **ROS Basics in 5 days** course, specifically the **Debbugging Tools** chapter, for a more detailed explanation."
   ]
  },
  {
   "cell_type": "markdown",
   "metadata": {},
   "source": [
    "<table style=\"width:100%\">\n",
    "      <tr>\n",
    "        <th>\n",
    "        <figure>\n",
    "          <img id=\"fig-A.1\" src=\"img/3dturtlesim.gif\" width=\"300\"/>\n",
    "           <center> <figcaption><h2>Simulator View</h2></figcaption></center>\n",
    "        </figure>\n",
    "\n",
    "        </th>\n",
    "        <th>\n",
    "            <figure>\n",
    "          <img id=\"fig-A.2\" src=\"img/3dturtlesim_rviz.gif\" width=\"500\"/>\n",
    "           <center> <figcaption><h2>RVIZ view</h2></figcaption></center>\n",
    "        </figure>\n",
    "        </th>    \n",
    "\n",
    "      </tr>\n",
    "    </table>"
   ]
  },
  {
   "cell_type": "markdown",
   "metadata": {},
   "source": [
    "<p style=\"background:#EE9023;color:white;\">End of Exercise 1.4</p>"
   ]
  },
  {
   "cell_type": "markdown",
   "metadata": {},
   "source": [
    "## 4. So, what is TF?"
   ]
  },
  {
   "cell_type": "markdown",
   "metadata": {},
   "source": [
    "As you can see in RVIZ, the data published into the **/tf** topic is nothing more than where each frame is in reference to its parent frame in space.\n",
    "\n",
    "This allows you to then use that information and calculate the transfrom between any frame inside the same tf_tree. If they are in different trees, TF won't be able to calculate the transform between them."
   ]
  },
  {
   "cell_type": "markdown",
   "metadata": {},
   "source": [
    "## Next Unit"
   ]
  },
  {
   "cell_type": "markdown",
   "metadata": {},
   "source": [
    "You will learn how to publish the TFs of the frames of both turtles referred to in the world frame.<br>\n",
    "You will also learn how to listen to those TF publications and use them to calculate the transforms needed for the iRobot to follow the turtle.<br>\n",
    "And you will learn how to publish additional fixed and moving transforms."
   ]
  }
 ],
 "metadata": {
  "anaconda-cloud": {},
  "kernelspec": {
   "display_name": "Python 3",
   "language": "python",
   "name": "python3"
  },
  "language_info": {
   "codemirror_mode": {
    "name": "ipython",
    "version": 3
   },
   "file_extension": ".py",
   "mimetype": "text/x-python",
   "name": "python",
   "nbconvert_exporter": "python",
   "pygments_lexer": "ipython3",
   "version": "3.6.1"
  }
 },
 "nbformat": 4,
 "nbformat_minor": 1
}
