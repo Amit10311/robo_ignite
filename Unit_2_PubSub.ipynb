{
 "cells": [
  {
   "cell_type": "markdown",
   "metadata": {},
   "source": [
    "# <font class='ign_color'>TF in ROS</font>"
   ]
  },
  {
   "cell_type": "markdown",
   "metadata": {},
   "source": [
    "## Chapter 2: TF Publish and Subscribe"
   ]
  },
  {
   "cell_type": "markdown",
   "metadata": {},
   "source": [
    "## 1. TF Publisher"
   ]
  },
  {
   "cell_type": "markdown",
   "metadata": {},
   "source": [
    "Now it's your turn to create your own TF publisher. These publishers are called <b>TF broadcasters</b>."
   ]
  },
  {
   "cell_type": "markdown",
   "metadata": {},
   "source": [
    "The following code publishes the TFs for the turtle (turtle1) and the iRobot (turtle2).<br>\n",
    "Please have a look at the below code first and try to guess what each piece of it does.<br>\n",
    "Then, continue reading for a detailed explanation of the main elements of the code."
   ]
  },
  {
   "cell_type": "markdown",
   "metadata": {},
   "source": [
    "<p style=\"background:#3B8F10;color:white;\" id=\"unit2_example1\">\n",
    "Python Program {U2.1.1.py}: multiple_broadcatser.py\n",
    "</p>"
   ]
  },
  {
   "cell_type": "code",
   "execution_count": 1,
   "metadata": {
    "collapsed": false
   },
   "outputs": [
    {
     "ename": "SyntaxError",
     "evalue": "invalid syntax (<ipython-input-1-34cf0dd3d72b>, line 36)",
     "output_type": "error",
     "traceback": [
      "\u001b[1;36m  File \u001b[1;32m\"<ipython-input-1-34cf0dd3d72b>\"\u001b[1;36m, line \u001b[1;32m36\u001b[0m\n\u001b[1;33m    print \"The Pose is not yet\"+str(robot_name)+\" available...Please try again later\"\u001b[0m\n\u001b[1;37m                              ^\u001b[0m\n\u001b[1;31mSyntaxError\u001b[0m\u001b[1;31m:\u001b[0m invalid syntax\n"
     ]
    }
   ],
   "source": [
    "#! /usr/bin/env python\n",
    "import rospy\n",
    "import time\n",
    "import tf\n",
    "from turtle_tf_3d.get_model_gazebo_pose import GazeboModel\n",
    "\n",
    "\n",
    "def handle_turtle_pose(pose_msg, robot_name):\n",
    "    br = tf.TransformBroadcaster()\n",
    "    \n",
    "    br.sendTransform((pose_msg.position.x,pose_msg.position.y,pose_msg.position.z),\n",
    "                     (pose_msg.orientation.x,pose_msg.orientation.y,pose_msg.orientation.z,pose_msg.orientation.w),\n",
    "                     rospy.Time.now(),\n",
    "                     robot_name,\n",
    "                     \"/world\")\n",
    "\n",
    "def publisher_of_tf():\n",
    "    \n",
    "    rospy.init_node('publisher_of_tf_node', anonymous=True)\n",
    "    robot_name_list = [\"turtle1\",\"turtle2\"]\n",
    "    gazebo_model_object = GazeboModel(robot_name_list)\n",
    "    \n",
    "    \n",
    "    for robot_name in robot_name_list:\n",
    "        pose_now = gazebo_model_object.get_model_pose(robot_name)\n",
    "    \n",
    "    # Leave enough time to be sure the Gazebo Model logs have finished\n",
    "    time.sleep(1)\n",
    "    rospy.loginfo(\"Ready..Starting to Publish TF data now...\")\n",
    "    \n",
    "    rate = rospy.Rate(5) # 5hz\n",
    "    while not rospy.is_shutdown():\n",
    "        for robot_name in robot_name_list:\n",
    "            pose_now = gazebo_model_object.get_model_pose(robot_name)\n",
    "            if not pose_now:\n",
    "                print \"The Pose is not yet\"+str(robot_name)+\" available...Please try again later\"\n",
    "            else:\n",
    "                handle_turtle_pose(pose_now, robot_name)\n",
    "        rate.sleep()\n",
    "    \n",
    "\n",
    "if __name__ == '__main__':\n",
    "    try:\n",
    "        publisher_of_tf()\n",
    "    except rospy.ROSInterruptException:\n",
    "        pass"
   ]
  },
  {
   "cell_type": "markdown",
   "metadata": {},
   "source": [
    "<p style=\"background:#3B8F10;color:white;\" id=\"unit2_example1\">\n",
    "END Python Program {U2.1.1.py}: multiple_broadcatser.py\n",
    "</p>"
   ]
  },
  {
   "cell_type": "markdown",
   "metadata": {},
   "source": [
    "### How to get the robot's position?"
   ]
  },
  {
   "cell_type": "markdown",
   "metadata": {},
   "source": [
    "This will depend on the localization system of your robot.<br>\n",
    "It could be retrieved from the /odom topic publishing the <b>odometry</b>.<br>\n",
    "It could be obtained from a <b>navigation system</b>.<br>\n",
    "It could be calculated through <b>GPS data</b>.<br>"
   ]
  },
  {
   "cell_type": "markdown",
   "metadata": {},
   "source": [
    "In this case, because it's a simulated environment, the Gazebo Simulator used can give you the position and orientation where each model is with perfect precision.<br>\n",
    "You can use a class that we created for making your life easier, called <b>GazeboModel</b>.<br>\n",
    "This class, among other functionalities, gives you the current pose of a model each time you ask for it.\n",
    "You just have to call the function <b>get_model_pose(robot_name)</b>.\n",
    "You can import it from the <b>turtle_tf_3d</b> package, in the <b>get_model_gazebo_pose</b> module."
   ]
  },
  {
   "cell_type": "code",
   "execution_count": null,
   "metadata": {
    "collapsed": true
   },
   "outputs": [],
   "source": [
    "from turtle_tf_3d.get_model_gazebo_pose import GazeboModel\n",
    "#\n",
    "#\n",
    "#\n",
    "robot_name_list = [\"turtle1\",\"turtle2\"]\n",
    "gazebo_model_object = GazeboModel(robot_name_list)\n",
    "    \n",
    "for robot_name in robot_name_list:\n",
    "    pose_now = gazebo_model_object.get_model_pose(robot_name)"
   ]
  },
  {
   "cell_type": "markdown",
   "metadata": {},
   "source": [
    "These lines of code make it possible to get the position and orientation of a Gazebo Model if it's in the current simulation."
   ]
  },
  {
   "cell_type": "markdown",
   "metadata": {},
   "source": [
    "### How do you transmit the current pose to the broadcaster?"
   ]
  },
  {
   "cell_type": "code",
   "execution_count": null,
   "metadata": {
    "collapsed": true
   },
   "outputs": [],
   "source": [
    "rate = rospy.Rate(5) # 5hz\n",
    "while not rospy.is_shutdown():\n",
    "    for robot_name in robot_name_list:\n",
    "        pose_now = gazebo_model_object.get_model_pose(robot_name)\n",
    "        if not pose_now:\n",
    "            print \"The Pose is not yet\"+str(robot_name)+\" available...Please try again later\"\n",
    "        else:\n",
    "            handle_turtle_pose(pose_now, robot_name)\n",
    "    rate.sleep()"
   ]
  },
  {
   "cell_type": "markdown",
   "metadata": {},
   "source": [
    "Essentially, this piece of code just gets the current pose of the desired models and sends it to the TF publisher, at a certain rate. 5 Hz, in this case."
   ]
  },
  {
   "cell_type": "markdown",
   "metadata": {},
   "source": [
    "### How the TF is published?"
   ]
  },
  {
   "cell_type": "code",
   "execution_count": null,
   "metadata": {
    "collapsed": true
   },
   "outputs": [],
   "source": [
    "def handle_turtle_pose(pose_msg, robot_name):\n",
    "    br = tf.TransformBroadcaster()\n",
    "    \n",
    "    br.sendTransform((pose_msg.position.x,pose_msg.position.y,pose_msg.position.z),\n",
    "                     (pose_msg.orientation.x,pose_msg.orientation.y,pose_msg.orientation.z,pose_msg.orientation.w),\n",
    "                     rospy.Time.now(),\n",
    "                     robot_name,\n",
    "                     \"/world\")"
   ]
  },
  {
   "cell_type": "markdown",
   "metadata": {},
   "source": [
    "This function is the one that makes the TF publish.<br>\n",
    "<ul>\n",
    "    <li>It creates an instance of the TransformBroadCaster</li>\n",
    "</ul>"
   ]
  },
  {
   "cell_type": "code",
   "execution_count": null,
   "metadata": {
    "collapsed": true
   },
   "outputs": [],
   "source": [
    "br = tf.TransformBroadcaster()"
   ]
  },
  {
   "cell_type": "markdown",
   "metadata": {},
   "source": [
    "<ul>\n",
    "    <li>\n",
    "    Publish the transform of the pose message:<br>\n",
    "    You have to publish each element of the position and orientation inside a parenthesis, otherwise it might not work.<br>\n",
    "    There is also a very important element, which is the <b>rospy.Time.now()</b>. This is because TF really depends on time to make everything work and be able to play with past messages.<br>\n",
    "    Then, state the name of the child-frame you want to assign that model (robot_name) and the parent-frame, which, in this case, is <b>/world</b>\n",
    "    </li>\n",
    "</ul>"
   ]
  },
  {
   "cell_type": "code",
   "execution_count": null,
   "metadata": {
    "collapsed": true
   },
   "outputs": [],
   "source": [
    "br.sendTransform((pose_msg.position.x,pose_msg.position.y,pose_msg.position.z),\n",
    "                     (pose_msg.orientation.x,pose_msg.orientation.y,pose_msg.orientation.z,pose_msg.orientation.w),\n",
    "                     rospy.Time.now(),\n",
    "                     robot_name,\n",
    "                     \"/world\")"
   ]
  },
  {
   "cell_type": "markdown",
   "metadata": {},
   "source": [
    "<p style=\"background:#EE9023;color:white;\">Exercise 2.1</p>\n",
    "<br>\n",
    "In this exercise, you are going to create your first TF publisher to publish the position and orientation of both turtle1 and turtle2.\n",
    "\n",
    "1.- First step: Stop any launch you had from previous exercises. For example, the <b>roslaunch turtle_tf_3d irobot_follow_turtle.launch</b>."
   ]
  },
  {
   "cell_type": "markdown",
   "metadata": {},
   "source": [
    "2.- Create a new ROS package that has <b>rospy and turtle_tf_3d</b> as dependencies.<br>\n",
    "3.- Create a python script that contains an explanation of the code above <a href=\"#unit2_example1\">(Python Program {U2.1.1.py})</a>."
   ]
  },
  {
   "cell_type": "markdown",
   "metadata": {},
   "source": [
    "4.- Execute your python code:\n",
    "<table style=\"float:left;background: #407EAF\">\n",
    "<tr>\n",
    "<th>\n",
    "<p class=\"transparent\">Execute in WebShell #1</p>\n",
    "</th>\n",
    "</tr>\n",
    "</table>"
   ]
  },
  {
   "cell_type": "code",
   "execution_count": null,
   "metadata": {
    "collapsed": true
   },
   "outputs": [],
   "source": [
    "rosrun your_package your_tf_broadcaster.py"
   ]
  },
  {
   "cell_type": "markdown",
   "metadata": {},
   "source": [
    "5.-Now, launch the following, which activates the TF topic listener in another WebShell. Then, based on the TF of both turtle1 and turtle2, this listener will calculate the direction and speed necessary to make the iRobot follow the turtle.\n",
    "<table style=\"float:left;background: #407EAF\">\n",
    "<tr>\n",
    "<th>\n",
    "<p class=\"transparent\">Execute in WebShell #2</p>\n",
    "</th>\n",
    "</tr>\n",
    "</table>"
   ]
  },
  {
   "cell_type": "code",
   "execution_count": null,
   "metadata": {
    "collapsed": true
   },
   "outputs": [],
   "source": [
    "roslaunch turtle_tf_3d run_turtle_tf_listener.launch"
   ]
  },
  {
   "cell_type": "markdown",
   "metadata": {},
   "source": [
    "6.- Check that everything is working as it should with the tf_echo, rqt_tf_tree, and RVIZ tools"
   ]
  },
  {
   "cell_type": "markdown",
   "metadata": {},
   "source": [
    "<p style=\"background:#EE9023;color:white;\">END Exercise 2.1</p>"
   ]
  },
  {
   "cell_type": "markdown",
   "metadata": {},
   "source": [
    "If all went well, the iRobot should be trying to follow the turtle now."
   ]
  },
  {
   "cell_type": "markdown",
   "metadata": {},
   "source": [
    "<p style=\"background:#EE9023;color:white;\">Exercise 2.2</p>\n",
    "<br>\n",
    "In this exercise, you are going to create a new publisher that publishes the TF of a new model, the coke_can.\n",
    "Here is data to help you on this exercise:\n",
    "<ol>\n",
    "    <li>\n",
    "    Execute the following command in the WebShell to see the exact name of the coke can model:<br><br>\n",
    "    **<i>rosservice call /gazebo/get_world_properties \"{}\"</i>**\n",
    "    </li>\n",
    "    <br>\n",
    "    <li>You have to retrieve its position in the same way that you did with the turtle and iRobot</li>\n",
    "<ol>"
   ]
  },
  {
   "cell_type": "markdown",
   "metadata": {},
   "source": [
    "<p style=\"background:#EE9023;color:white;\">END Exercise 2.2</p>"
   ]
  },
  {
   "cell_type": "markdown",
   "metadata": {},
   "source": [
    "If all went well, you should now have a third TF published for the coke_can, similar to the following:"
   ]
  },
  {
   "cell_type": "markdown",
   "metadata": {},
   "source": [
    "<img src=\"img/coke_can_exercise.png\"/>"
   ]
  },
  {
   "cell_type": "markdown",
   "metadata": {},
   "source": [
    "<img src=\"img/coke_can_exercise_rviz.png\"/>"
   ]
  },
  {
   "cell_type": "markdown",
   "metadata": {},
   "source": [
    "## 2. Subscriber"
   ]
  },
  {
   "cell_type": "markdown",
   "metadata": {},
   "source": [
    "Now it is time to do something useful with that published TF data. It's time you create a <b>listener</b>."
   ]
  },
  {
   "cell_type": "markdown",
   "metadata": {},
   "source": [
    "<p style=\"background:#3B8F10;color:white;\" id=\"unit2_example2\">\n",
    "Python Program {U2.2.1.py}: model1_to_model2_listener.py\n",
    "</p>"
   ]
  },
  {
   "cell_type": "code",
   "execution_count": null,
   "metadata": {
    "collapsed": true
   },
   "outputs": [],
   "source": [
    "#!/usr/bin/env python\n",
    "import sys\n",
    "import rospy\n",
    "import math\n",
    "import tf\n",
    "import geometry_msgs.msg\n",
    "\n",
    "if __name__ == '__main__':\n",
    "    rospy.init_node('tf_listener_turtle')\n",
    "\n",
    "    listener = tf.TransformListener()\n",
    "\n",
    "    if len(sys.argv) < 3:\n",
    "        print(\"usage: turtle_tf_listener.py follower_model_name model_to_be_followed_name\")\n",
    "    else:\n",
    "        follower_model_name = sys.argv[1]\n",
    "        model_to_be_followed_name = sys.argv[2]\n",
    "        \n",
    "        turtle_vel = rospy.Publisher(follower_model_name+'/cmd_vel', geometry_msgs.msg.Twist,queue_size=1)\n",
    "    \n",
    "        rate = rospy.Rate(10.0)\n",
    "        ctrl_c = False\n",
    "        \n",
    "        follower_model_frame = \"/\"+follower_model_name\n",
    "        model_to_be_followed_frame = \"/\"+model_to_be_followed_name\n",
    "        \n",
    "        def shutdownhook():\n",
    "            # works better than the rospy.is_shut_down()\n",
    "            global ctrl_c\n",
    "            print \"shutdown time! Stop the robot\"\n",
    "            cmd = geometry_msgs.msg.Twist()\n",
    "            cmd.linear.x = 0.0\n",
    "            cmd.angular.z = 0.0\n",
    "            turtle_vel.publish(cmd)\n",
    "            ctrl_c = True\n",
    "\n",
    "        rospy.on_shutdown(shutdownhook)\n",
    "        \n",
    "        while not ctrl_c:\n",
    "            try:\n",
    "                (trans,rot) = listener.lookupTransform(follower_model_frame, model_to_be_followed_frame, rospy.Time(0))\n",
    "            except (tf.LookupException, tf.ConnectivityException, tf.ExtrapolationException):\n",
    "                continue\n",
    "    \n",
    "            angular = 4 * math.atan2(trans[1], trans[0])\n",
    "            linear = 0.5 * math.sqrt(trans[0] ** 2 + trans[1] ** 2)\n",
    "            cmd = geometry_msgs.msg.Twist()\n",
    "            cmd.linear.x = linear\n",
    "            cmd.angular.z = angular\n",
    "            turtle_vel.publish(cmd)\n",
    "    \n",
    "            rate.sleep()"
   ]
  },
  {
   "cell_type": "markdown",
   "metadata": {},
   "source": [
    "<p style=\"background:#3B8F10;color:white;\" id=\"unit2_example2\">\n",
    "END Python Program {U2.2.1.py}: model1_to_model2_listener.py\n",
    "</p>"
   ]
  },
  {
   "cell_type": "markdown",
   "metadata": {},
   "source": [
    "### How to move the iRobot"
   ]
  },
  {
   "cell_type": "markdown",
   "metadata": {},
   "source": [
    "The movement of each robot will be different, of course. In this particular case, you have to publish the following in the topic:"
   ]
  },
  {
   "cell_type": "raw",
   "metadata": {},
   "source": [
    "/turtle2/cmd_vel"
   ]
  },
  {
   "cell_type": "code",
   "execution_count": null,
   "metadata": {
    "collapsed": true
   },
   "outputs": [],
   "source": [
    "#\n",
    "#\n",
    "#\n",
    "turtle_vel = rospy.Publisher(follower_model_name+'/cmd_vel', geometry_msgs.msg.Twist,queue_size=1)\n",
    "#\n",
    "#\n",
    "#\n",
    "angular = 4 * math.atan2(trans[1], trans[0])\n",
    "linear = 0.5 * math.sqrt(trans[0] ** 2 + trans[1] ** 2)\n",
    "cmd = geometry_msgs.msg.Twist()\n",
    "cmd.linear.x = linear\n",
    "cmd.angular.z = angular\n",
    "turtle_vel.publish(cmd)"
   ]
  },
  {
   "cell_type": "markdown",
   "metadata": {},
   "source": [
    "What is interesting is how it's calculated the Twist because it's extracted from the TF data."
   ]
  },
  {
   "cell_type": "code",
   "execution_count": null,
   "metadata": {
    "collapsed": true
   },
   "outputs": [],
   "source": [
    "(trans,rot) = listener.lookupTransform(follower_model_frame, model_to_be_followed_frame, rospy.Time(0))"
   ]
  },
  {
   "cell_type": "markdown",
   "metadata": {},
   "source": [
    "Remember when you executed the command:"
   ]
  },
  {
   "cell_type": "raw",
   "metadata": {},
   "source": [
    "rosrun tf tf_echo turtle1 turtle2"
   ]
  },
  {
   "cell_type": "markdown",
   "metadata": {},
   "source": [
    "You got the output:"
   ]
  },
  {
   "cell_type": "code",
   "execution_count": null,
   "metadata": {
    "collapsed": true
   },
   "outputs": [],
   "source": [
    "- Translation: [0.654, 0.018, 0.040]\n",
    "- Rotation: in Quaternion [-0.000, -0.000, 1.000, -0.013]\n",
    "            in RPY (radian) [-0.000, 0.000, -3.115]\n",
    "            in RPY (degree) [-0.000, 0.019, -178.502]"
   ]
  },
  {
   "cell_type": "markdown",
   "metadata": {},
   "source": [
    "You are using the translation x and y components to calculate the angle difference between the frame of turtle1 and turtle2 on the X-Y plane. Based on that difference, the angular speed will be larger with larger differences and, therefore, turn faster.\n",
    "The same is true for the linear speed. The linear speed depends on the distance on the X-Y plane between the turtle1 frame and the turtle2 frame. The greater the difference, the more speed for iRobot."
   ]
  },
  {
   "cell_type": "markdown",
   "metadata": {},
   "source": [
    "<figure>\n",
    "    <img id=\"fig-A.2\" src=\"img/axis_2d.png\" width=\"600\"/>\n",
    "    <center>\n",
    "        <figcaption><h2>Abstract representation. Bear in mind that it's not the exact transformation, but its merely for helping understand the code that was just explained.</h2></figcaption>\n",
    "    </center>\n",
    "</figure>"
   ]
  },
  {
   "cell_type": "markdown",
   "metadata": {},
   "source": [
    "<p style=\"background:#EE9023;color:white;\">Exercise 2.3</p>\n",
    "<br>\n",
    "In this exercise, you are going to create your first TF listener. You should listen to the TF published and move the <b>iRobot</b> to follow:\n",
    "<ol>\n",
    "    <li>/turtle1</li>\n",
    "    <li>/coke_can</li>\n",
    "<ol>"
   ]
  },
  {
   "cell_type": "markdown",
   "metadata": {},
   "source": [
    "<p style=\"background:#EE9023;color:white;\">END Exercise 2.3</p>"
   ]
  },
  {
   "cell_type": "markdown",
   "metadata": {},
   "source": [
    "You should see how the iRobot goes to the position of the realturtle or the coke_can."
   ]
  },
  {
   "cell_type": "markdown",
   "metadata": {},
   "source": [
    "## 3. Add More Frames"
   ]
  },
  {
   "cell_type": "markdown",
   "metadata": {},
   "source": [
    "Ok, now, what if you wanted to add extra frames referred to the /turtle1 frame? For example, a frame for each eye; for the iRobot, a frame for the ir-sensor.<br>\n",
    "Or even, what if you want to generate a totally abstract frame that turns the iRobot around in circles?<br>\n",
    "Well, let's find out!"
   ]
  },
  {
   "cell_type": "markdown",
   "metadata": {},
   "source": [
    "Here you have two examples of publishing frames: a fixed frame (that doesn't change over time) and a moving frame.<br>\n",
    "You could base their position on sensor readings, simulation parameters, or any other data. In this case, they will be set hardcoded.<br>\n",
    "We will call these new frames <b>/fixed_carrot</b> and <b>/moving_carrot</b>."
   ]
  },
  {
   "cell_type": "markdown",
   "metadata": {},
   "source": [
    "<p style=\"background:#3B8F10;color:white;\" id=\"unit2_example3\">\n",
    "Python Program {U2.3.1.py}: fixed_extra_frame_pub.py\n",
    "</p>"
   ]
  },
  {
   "cell_type": "code",
   "execution_count": null,
   "metadata": {
    "collapsed": true
   },
   "outputs": [],
   "source": [
    "#!/usr/bin/env python  \n",
    "import rospy\n",
    "import tf\n",
    "\n",
    "if __name__ == '__main__':\n",
    "    rospy.init_node('my_fixed_carrot_tf_broadcaster')\n",
    "    br = tf.TransformBroadcaster()\n",
    "    rate = rospy.Rate(3.0)\n",
    "    while not rospy.is_shutdown():\n",
    "        br.sendTransform((0.0, 2.0, 0.0),\n",
    "                         (0.0, 0.0, 0.0, 1.0),\n",
    "                         rospy.Time.now(),\n",
    "                         \"fixed_carrot\",\n",
    "                         \"turtle1\")\n",
    "        rate.sleep()"
   ]
  },
  {
   "cell_type": "markdown",
   "metadata": {},
   "source": [
    "<p style=\"background:#3B8F10;color:white;\">\n",
    "END Python Program {U2.3.1.py}: fixed_extra_frame_pub.py\n",
    "</p>"
   ]
  },
  {
   "cell_type": "markdown",
   "metadata": {},
   "source": [
    "The broadcaster publishes this new /fixed_carrot frame referred to the /turtle1 frame. It has the same orientation, but it's translated 2 meters into the Y-AXIS of the /turtle1 axis."
   ]
  },
  {
   "cell_type": "markdown",
   "metadata": {},
   "source": [
    "<p style=\"background:#3B8F10;color:white;\" id=\"unit2_example4\">\n",
    "Python Program {U2.3.2.py}: moving_extra_frame_pub.py\n",
    "</p>"
   ]
  },
  {
   "cell_type": "code",
   "execution_count": null,
   "metadata": {
    "collapsed": true
   },
   "outputs": [],
   "source": [
    "#!/usr/bin/env python  \n",
    "import rospy\n",
    "import tf\n",
    "import math\n",
    "\n",
    "if __name__ == '__main__':\n",
    "    rospy.init_node('my_moving_carrot_tf_broadcaster')\n",
    "    br = tf.TransformBroadcaster()\n",
    "    rate = rospy.Rate(5.0)\n",
    "    turning_speed_rate = 0.1\n",
    "    while not rospy.is_shutdown():\n",
    "        t = (rospy.Time.now().to_sec() * math.pi)*turning_speed_rate\n",
    "        # Map to only one turn maximum [0,2*pi)\n",
    "        rad_var = t % (2*math.pi)\n",
    "        br.sendTransform((1.0 * math.sin(rad_var), 1.0 * math.cos(rad_var), 0.0),\n",
    "                         (0.0, 0.0, 0.0, 1.0),\n",
    "                         rospy.Time.now(),\n",
    "                         \"moving_carrot\",\n",
    "                         \"turtle2\")\n",
    "        rate.sleep()"
   ]
  },
  {
   "cell_type": "markdown",
   "metadata": {},
   "source": [
    "<p style=\"background:#3B8F10;color:white;\">\n",
    "END Python Program {U2.3.2.py}: moving_extra_frame_pub.py\n",
    "</p>"
   ]
  },
  {
   "cell_type": "markdown",
   "metadata": {},
   "source": [
    "The broadcaster publishes this new /moving_carrot frame referred to the /turtle2 frame. It has the same orientation, but it translates in a circular motion around the /turtle2 frame of the X-Y plane. The speed can be changed through the turning_speed_rate variable."
   ]
  },
  {
   "cell_type": "markdown",
   "metadata": {},
   "source": [
    "<p style=\"background:#EE9023;color:white;\">Exercise 2.4</p>\n",
    "<br>\n",
    "In this exercise, you are going to make new versions of the two python examples <a href=\"#unit2_example3\">{U2.3.1.py}: fixed_extra_frame_pub.py</a> and <a href=\"#unit2_example4\">{U2.3.2.py}: moving_extra_frame_pub.py</a>.<br>\n",
    "You will have to:\n",
    "<ol>\n",
    "    <li>Publish a fixed frame referred to the iRobot (/turtle2 frame) that is translated = (1.0,0,3.0).</li>\n",
    "    <li>Publish a moving frame referred to the coke_can (/coke_can frame) that is translated (1.0,0,0) and turns on the Z-axis at a speed of 2 radians per second.</li>\n",
    "</ol>"
   ]
  },
  {
   "cell_type": "markdown",
   "metadata": {},
   "source": [
    "Things to bear in mind:\n",
    "<ol>\n",
    "    <li>You have to publish all the TF parent-frames that you use.</li>\n",
    "    <li>When working with Quaternions, you will have to know how to go from Quaternions to Euler and back. This is because rotations in Euler are really intuitive, but not at all in Quaternions.</li>\n",
    "</ol>"
   ]
  },
  {
   "cell_type": "markdown",
   "metadata": {},
   "source": [
    "### Quaternion to Euler:"
   ]
  },
  {
   "cell_type": "code",
   "execution_count": null,
   "metadata": {
    "collapsed": true
   },
   "outputs": [],
   "source": [
    "import tf\n",
    "quaternion = tf.transformations.quaternion_from_euler(roll,pitch,yaw)"
   ]
  },
  {
   "cell_type": "markdown",
   "metadata": {},
   "source": [
    "### Euler to Quaternion"
   ]
  },
  {
   "cell_type": "code",
   "execution_count": null,
   "metadata": {
    "collapsed": true
   },
   "outputs": [],
   "source": [
    "import tf\n",
    "quaternion_x = my_quaternion[0]\n",
    "quaternion_y = my_quaternion[1]\n",
    "quaternion_z = my_quaternion[2]\n",
    "quaternion_w = my_quaternion[3]\n",
    "explicit_quat = [quaternion_x, quaternion_y, quaternion_z, quaternion_w]\n",
    "your_euler = tf.transformations.euler_from_quaternion(explicit_quat)"
   ]
  },
  {
   "cell_type": "markdown",
   "metadata": {},
   "source": [
    "<p style=\"background:#EE9023;color:white;\">END Exercise 2.4</p>"
   ]
  },
  {
   "cell_type": "markdown",
   "metadata": {},
   "source": [
    "<p style=\"background:#EE9023;color:white;\">Exercise 2.5</p>"
   ]
  },
  {
   "cell_type": "markdown",
   "metadata": {},
   "source": [
    "Now, make your iRobot follow the new_frames (fixed_carrot and moving_carrot)."
   ]
  },
  {
   "cell_type": "markdown",
   "metadata": {},
   "source": [
    "<p style=\"background:#EE9023;color:white;\">END Exercise 2.5</p>"
   ]
  }
 ],
 "metadata": {
  "anaconda-cloud": {},
  "kernelspec": {
   "display_name": "Python [Root]",
   "language": "python",
   "name": "Python [Root]"
  },
  "language_info": {
   "codemirror_mode": {
    "name": "ipython",
    "version": 2
   },
   "file_extension": ".py",
   "mimetype": "text/x-python",
   "name": "python",
   "nbconvert_exporter": "python",
   "pygments_lexer": "ipython2",
   "version": "2.7.12"
  }
 },
 "nbformat": 4,
 "nbformat_minor": 1
}
