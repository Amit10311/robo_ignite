{
 "cells": [
  {
   "cell_type": "markdown",
   "metadata": {},
   "source": [
    "# <font class='ign_color'>TF in ROS</font>"
   ]
  },
  {
   "cell_type": "markdown",
   "metadata": {},
   "source": [
    "## Chapter 4: Static Transform"
   ]
  },
  {
   "cell_type": "markdown",
   "metadata": {},
   "source": [
    "This is a tiny topic that is explained because it's something very commonly to done in the real world, although by now, you could do it through a python TF publisher."
   ]
  },
  {
   "cell_type": "markdown",
   "metadata": {},
   "source": [
    "Now, let's imagine that you just mounted the laser onto your robot, so the transform between your laser and the base of the robot is not set. What could you do? There are basically two ways of publishing a transform:<br>\n",
    "<ul>\n",
    "<li>Use a <b>static_transform_publisher</b></li>\n",
    "<li>Use a <b>transform broadcaster</b></li>\n",
    "</ul>"
   ]
  },
  {
   "cell_type": "markdown",
   "metadata": {},
   "source": [
    "You already know how to create a broadcaster in python, and use the robot_state_publisher and publish a fixed TF.<br>\n",
    "But there are some cases where changing the URDF is not advisable or it simply makes no sense to add it to the robot model.urdf. These are the cases where publishing a static transform, especially through the launch file or commands, is more convenient:"
   ]
  },
  {
   "cell_type": "markdown",
   "metadata": {},
   "source": [
    "<ul>\n",
    "<li>If you temporarily add a sensor to the robot. That is, you add a sensor that will be used for a few days, and then it will be removed again. In a case like this, instead of changing the URDF files of the robot (which will probably be more cumbersome), you'll just create a transform broadcaster to add the transform of this new sensor.</li>\n",
    "<br>\n",
    "<li>You have a sensor that is external from your robot (and static). For instance, check out the following scenario:\n",
    "<br>\n",
    "<img src=\"img/iri_wam_kinect.png\" width=\"400\"></img>\n",
    "<br>\n",
    "You have a robotic arm and, separate from it, you also have a Kinect camera, which provides information about the table to the robotic arm. In this case, you won't specify the transforms of the Kinect camera in the URDF files of the robot since it's not a part of the robot. You'll also use a separate transform broadcaster.\n",
    "</li>\n",
    "</ul>"
   ]
  },
  {
   "cell_type": "markdown",
   "metadata": {},
   "source": [
    "## 1. How it's done in launch files and command line"
   ]
  },
  {
   "cell_type": "markdown",
   "metadata": {},
   "source": [
    "Using the command line, the structure of the command is the following:"
   ]
  },
  {
   "cell_type": "code",
   "execution_count": null,
   "metadata": {
    "collapsed": true
   },
   "outputs": [],
   "source": [
    "rosrun tf static_transform_publisher x y z yaw pitch roll frame_id child_frame_id period_in_ms"
   ]
  },
  {
   "cell_type": "markdown",
   "metadata": {},
   "source": [
    "Where:\n",
    "<ul>\n",
    "<li>x, y, and z are the offsets in meters</li>\n",
    "<li>yaw, pitch, and roll are the rotations in radians</li>\n",
    "<li>period_in_ms specifies how often to send the transform</li>\n",
    "</ul>"
   ]
  },
  {
   "cell_type": "markdown",
   "metadata": {},
   "source": [
    "You can also create a launch file that launches the command above, specifying the different values in the following way:"
   ]
  },
  {
   "cell_type": "code",
   "execution_count": null,
   "metadata": {
    "collapsed": true
   },
   "outputs": [],
   "source": [
    "<launch>\n",
    "    <node pkg=\"tf\" type=\"static_transform_publisher\" name=\"name_of_node\" \n",
    "          args=\"x y z yaw pitch roll frame_id child_frame_id period_in_ms\">\n",
    "    </node>\n",
    "</launch>"
   ]
  },
  {
   "cell_type": "markdown",
   "metadata": {},
   "source": [
    "## Practical Application"
   ]
  },
  {
   "cell_type": "markdown",
   "metadata": {},
   "source": [
    "<p style=\"background:#EE9023;color:white;\">Exercise 4.1</p>"
   ]
  },
  {
   "cell_type": "markdown",
   "metadata": {},
   "source": [
    "You have two turtlebots in this simulation.<br>\n",
    "Both are publishing their TFs with their own namespace (robot1 and robot2).<br>\n",
    "Run <b>rqt_tf_tree</b> to see the TF structure.<br>\n",
    "Run <b>rviz</b> to see if you can see both robots' TFs."
   ]
  },
  {
   "cell_type": "markdown",
   "metadata": {},
   "source": [
    "[TF tree of both turtlebots, turtle1 and turte2](extra_files/robot1_robot2_nostatic.svg)"
   ]
  },
  {
   "cell_type": "markdown",
   "metadata": {},
   "source": [
    "Do you see something odd?<br>\n",
    "There is no connection between them. This implies that RVIZ won't be able to show the two TF trees at the same time because the TF won't be able to calculate the transform between them. That's why, in RVIZ, you got something similar to this:<br>"
   ]
  },
  {
   "cell_type": "markdown",
   "metadata": {},
   "source": [
    "<table style=\"width:100%\">\n",
    "  <tr>\n",
    "    <th>\n",
    "    <figure>\n",
    "      <img id=\"fig-A.1\" src=\"img/robot1_rviz.png\" width=\"600\"/>\n",
    "       <center> <figcaption><h2>Robot1 TF</h2></figcaption></center>\n",
    "    </figure>\n",
    "\n",
    "    </th>\n",
    "    <th>\n",
    "        <figure>\n",
    "      <img id=\"fig-A.2\" src=\"img/robot2_rviz.png\" width=\"600\"/>\n",
    "       <center> <figcaption><h2>Robot2 TF</h2></figcaption></center>\n",
    "    </figure>\n",
    "    </th>\n",
    "  </tr>\n",
    "</table>"
   ]
  },
  {
   "cell_type": "markdown",
   "metadata": {},
   "source": [
    "So, the objective of this exercise is to:<br>\n",
    "<ul>\n",
    "    <li>Find the frame that they share. You can find it by moving the robots around and seeing which frame stays fixed in the same position. TIP: it has to do with odometry.</li>\n",
    "    <li>Create a launch file that publishes a static transform between both common frames, with rotation and translation 0, because they are the same frame.</li>\n",
    "    <li>If all went well when launching this launch file, you should now have both TF trees connected, and RVIZ should be able to show you both robots moving at the same time.</li>\n",
    "    <li>The solution is at the end of this unit, in case you get stuck</li>\n",
    "</ul>"
   ]
  },
  {
   "cell_type": "markdown",
   "metadata": {},
   "source": [
    "<p style=\"background:#EE9023;color:white;\">END Exercise 4.1</p>"
   ]
  },
  {
   "cell_type": "markdown",
   "metadata": {},
   "source": [
    "<img src=\"img/multiple_turtles.gif\"/>"
   ]
  },
  {
   "cell_type": "markdown",
   "metadata": {},
   "source": [
    "This way, you can now connect various robots together, without defining them in the same model.urdf."
   ]
  },
  {
   "cell_type": "markdown",
   "metadata": {},
   "source": [
    "<p style=\"background:green;color:white;\">Solution Exercise 4.1</p>"
   ]
  },
  {
   "cell_type": "code",
   "execution_count": null,
   "metadata": {
    "collapsed": true
   },
   "outputs": [],
   "source": [
    "<launch>\n",
    "<node pkg=\"tf\" type=\"static_transform_publisher\" name=\"world_frames_connection\" args=\"0 0 0 0 0 0 robot1_tf/odom robot2_tf/odom 100\"/>\n",
    "  \n",
    "</launch>"
   ]
  },
  {
   "cell_type": "markdown",
   "metadata": {},
   "source": [
    "Or command in the shell:"
   ]
  },
  {
   "cell_type": "code",
   "execution_count": null,
   "metadata": {
    "collapsed": true
   },
   "outputs": [],
   "source": [
    "rosrun tf static_transform_publisher 0 0 0 0 0 0 robot1_tf/odom robot2_tf/odom 100"
   ]
  },
  {
   "cell_type": "markdown",
   "metadata": {},
   "source": [
    "<p style=\"background:green;color:white;\">END Solution Exercise 4.1</p>"
   ]
  }
 ],
 "metadata": {
  "anaconda-cloud": {},
  "kernelspec": {
   "display_name": "Python 3",
   "language": "python",
   "name": "python3"
  },
  "language_info": {
   "codemirror_mode": {
    "name": "ipython",
    "version": 3
   },
   "file_extension": ".py",
   "mimetype": "text/x-python",
   "name": "python",
   "nbconvert_exporter": "python",
   "pygments_lexer": "ipython3",
   "version": "3.6.1"
  }
 },
 "nbformat": 4,
 "nbformat_minor": 1
}
