{
 "cells": [
  {
   "cell_type": "markdown",
   "metadata": {},
   "source": [
    "# <font class='ign_color'>TF in ROS</font>"
   ]
  },
  {
   "cell_type": "markdown",
   "metadata": {},
   "source": [
    "## MicroProject: Make your own robot publish TF"
   ]
  },
  {
   "cell_type": "markdown",
   "metadata": {},
   "source": [
    "The objective of this project is to have you apply all of the concepts and tools you learned through this course.<br>\n",
    "We highly recommend for you to try and create the robot whose simulation you would like to have. This way, you will feel the need to push your knowledge to the limit, and therefore, all of these TF concepts will sink in better.<br>"
   ]
  },
  {
   "cell_type": "markdown",
   "metadata": {},
   "source": [
    "## 1. Extra knowledge:"
   ]
  },
  {
   "cell_type": "markdown",
   "metadata": {},
   "source": [
    "In order to make your own robot, you will need to spawn it and remove it from the scene.<br>\n",
    "So, here is how you can spawn a URDF model and how you can delete it from the scene:"
   ]
  },
  {
   "cell_type": "markdown",
   "metadata": {},
   "source": [
    "### 1.1. Spawn a URDF model"
   ]
  },
  {
   "cell_type": "markdown",
   "metadata": {},
   "source": [
    "This is an example of a launch file you could use to spawn URDF models into a Gazebo world:"
   ]
  },
  {
   "cell_type": "code",
   "execution_count": null,
   "metadata": {
    "collapsed": true
   },
   "outputs": [],
   "source": [
    "<?xml version=\"1.0\" encoding=\"UTF-8\"?>\n",
    "\n",
    "<launch>\n",
    "\n",
    "    <arg name=\"x\" default=\"0.0\" />\n",
    "    <arg name=\"y\" default=\"0.0\" />\n",
    "    <arg name=\"z\" default=\"0.0\" />\n",
    "\n",
    "    <arg name=\"urdf_robot_file\" default=\"$(find your_pkg)/urdf/your_robot.urdf\" />\n",
    "    <arg name=\"robot_name\" default=\"your_robot_model_name\" />\n",
    "\n",
    "\n",
    "    <!-- Load the URDF into the ROS Parameter Server -->\n",
    "    <param name=\"robot_description\" command=\"cat $(arg urdf_robot_file)\" />\n",
    "\n",
    "    <!-- Run a python script to the send a service call to gazebo_ros to spawn a URDF robot -->\n",
    "    <node name=\"urdf_spawner\" pkg=\"gazebo_ros\" type=\"spawn_model\" respawn=\"false\" output=\"screen\"\n",
    "    args=\"-urdf -x $(arg x) -y $(arg y) -z $(arg z)  -model $(arg robot_name) -param robot_description\"/>\n",
    "</launch>"
   ]
  },
  {
   "cell_type": "markdown",
   "metadata": {},
   "source": [
    "### 1.2 Remove a model from Gazebo"
   ]
  },
  {
   "cell_type": "markdown",
   "metadata": {},
   "source": [
    "To remove a model, Gazebo has a service called <i>delete_model</i> available.<br>\n",
    "Just execute the following commands:"
   ]
  },
  {
   "cell_type": "markdown",
   "metadata": {},
   "source": [
    "<table style=\"float:left;background: #407EAF\">\n",
    "<tr>\n",
    "<th>\n",
    "<p class=\"transparent\">Execute in WebShell #1</p>\n",
    "</th>\n",
    "</tr>\n",
    "</table>"
   ]
  },
  {
   "cell_type": "code",
   "execution_count": null,
   "metadata": {
    "collapsed": true
   },
   "outputs": [],
   "source": [
    "rosservice call /gazebo/get_world_properties \"{}\""
   ]
  },
  {
   "cell_type": "markdown",
   "metadata": {},
   "source": [
    "This first command will give you all the models inside the world, in case you are not sure of the name of your model, or you want to be sure you deleted it."
   ]
  },
  {
   "cell_type": "markdown",
   "metadata": {},
   "source": [
    "<table style=\"float:left;background: #407EAF\">\n",
    "<tr>\n",
    "<th>\n",
    "<p class=\"transparent\">Execute in WebShell #1</p>\n",
    "</th>\n",
    "</tr>\n",
    "</table>"
   ]
  },
  {
   "cell_type": "code",
   "execution_count": null,
   "metadata": {
    "collapsed": true
   },
   "outputs": [],
   "source": [
    "rosservice call /gazebo/delete_model \"model_name: 'your_robot_model_name'\""
   ]
  },
  {
   "cell_type": "markdown",
   "metadata": {},
   "source": [
    "This second will remove the model from the scene in Gazebo."
   ]
  },
  {
   "cell_type": "markdown",
   "metadata": {},
   "source": [
    "Doing this, you can iterate on your robot design, without having to change a chapter and then back again to reset the whole simulation.<br>\n",
    "Of course, you can also continue and develop your simulation in the best Developer Environment:<br>\n",
    "<a href=\"http://rds.theconstructsim.com/\">RDS Robot Developement Studio</a><br>\n",
    "<a href=\"http://www.theconstructsim.com/the-ros-development-studio-by-the-construct/\">More information about RDS Robot Developement Studio</a><br>"
   ]
  },
  {
   "cell_type": "markdown",
   "metadata": {},
   "source": [
    "## 2. Guidelines"
   ]
  },
  {
   "cell_type": "markdown",
   "metadata": {},
   "source": [
    "Here you have some guidelines to give you ideas on how to do this:<br>\n",
    "<ol>\n",
    "    <li>Use the pi_robot_v2.urdf as a template.</li>\n",
    "    <li>You have a great example of how to do this, or you can even base your own project on the <a href=\"https://github.com/ros-simulation/gazebo_ros_demos\">RRBOT Git</a>. It's much more complex than the pi_robot example, but you will get a taste of how a big project is done.</li>\n",
    "    <li>You should start by defining a simple, two-link robot with one joint and one actuator.</li>\n",
    "    <li>Use materials to help you differentiate links for better model debugging</li>\n",
    "    <li>Define some static transforms in the launch file to position a table, external camera, or something you might want to have the TF from there to your robot.</li>\n",
    "    <li>Add some sensors to your robot, maybe cameras or lasers. The <a href=\"https://github.com/ros-simulation/gazebo_ros_demos\">RRBOT Git</a> is a good example for this as well.</li>    \n",
    "</ol>"
   ]
  },
  {
   "cell_type": "markdown",
   "metadata": {},
   "source": [
    "## 3. Have Fun"
   ]
  },
  {
   "cell_type": "markdown",
   "metadata": {},
   "source": [
    "So, this course ends here. Please feel free to post any photos or videos of your robot. We would be delighted to know what marvelous creations you come up with. Let us know."
   ]
  }
 ],
 "metadata": {
  "anaconda-cloud": {},
  "kernelspec": {
   "display_name": "Python 3",
   "language": "python",
   "name": "python3"
  },
  "language_info": {
   "codemirror_mode": {
    "name": "ipython",
    "version": 3
   },
   "file_extension": ".py",
   "mimetype": "text/x-python",
   "name": "python",
   "nbconvert_exporter": "python",
   "pygments_lexer": "ipython3",
   "version": "3.6.1"
  }
 },
 "nbformat": 4,
 "nbformat_minor": 1
}
