{
 "cells": [
  {
   "cell_type": "markdown",
   "metadata": {},
   "source": [
    "# ROS for Autonomous Cars 101 "
   ]
  },
  {
   "cell_type": "markdown",
   "metadata": {},
   "source": [
    "<img src=\"img/gas_station.png\">"
   ]
  },
  {
   "cell_type": "markdown",
   "metadata": {},
   "source": [
    "## Chapter 0: Introduction to the course"
   ]
  },
  {
   "cell_type": "markdown",
   "metadata": {},
   "source": [
    "Welcome to a short course on how to use ROS for autonoumous cars."
   ]
  },
  {
   "cell_type": "markdown",
   "metadata": {},
   "source": [
    "<p style=\"background:green;color:white;\">SUMMARY</p>"
   ]
  },
  {
   "cell_type": "markdown",
   "metadata": {},
   "source": [
    "Estimated time to completion: <b>10 minutes</b>"
   ]
  },
  {
   "cell_type": "markdown",
   "metadata": {},
   "source": [
    "In this course, you are going to learn the essentials for controlling autonomous cars using ROS. \n",
    "You are going to learn:<br>\n",
    "<ol>\n",
    "  <li>What sensors are required for an autonomous car and how to access them using ROS</li>\n",
    "  <li>How to do autonomous navigation using a GPS</li>\n",
    "  <li>How to create an obstacle-avoider for an autonomous car</li>\n",
    "  <li>How to interface ROS with a car that follows the DBW interface</li>\n",
    "</ol>"
   ]
  },
  {
   "cell_type": "markdown",
   "metadata": {},
   "source": [
    "The goal of this course is to show you the basic knowledge that you need to master in order to program Autonomous Cars for a **Level 3** of autonomy. This means that it is expected that all tasks should be performed autonomously, but at the same time, it is expected that a human driver will intervene whenever necessary. This level of autonomy is called **conditional automation**."
   ]
  },
  {
   "cell_type": "markdown",
   "metadata": {},
   "source": [
    "We would like to explain some more advanced subjects to you, like obstacles and traffic signal identification based on deep learning. Those subjects are required for a full Level 4 of autonomy (there is no need for a driver, everything will be handled by an automated system). There is no need for human driver intervention at this level, which is called High Automation. This kind of autonomous system will work in a particular area under specified weather conditions. But you will have learn these topics in a more advanced course."
   ]
  },
  {
   "cell_type": "markdown",
   "metadata": {},
   "source": [
    "#### Requirements"
   ]
  },
  {
   "cell_type": "markdown",
   "metadata": {},
   "source": [
    "You need to know how ROS works; how to create topics, read and publish on them, and use services and action clients.\n",
    "If you don't have that knowledge, we recommend that you take the <a href=\"https://www.robotigniteacademy.com/en/course/ros-in-5-days/details/\" target=\"_blank\">**ROS Basics in 5 days**</a> course."
   ]
  },
  {
   "cell_type": "markdown",
   "metadata": {},
   "source": [
    "<p style=\"background:green;color:white;\">END OF SUMMARY</p>"
   ]
  },
  {
   "cell_type": "markdown",
   "metadata": {},
   "source": [
    "## Introduction"
   ]
  },
  {
   "cell_type": "markdown",
   "metadata": {},
   "source": [
    "For this course, you are going to use the autonomous car simulated on the simulation window. It is important that you learn how to move it using the keyboard, since you will have to move it to specific places along the course.\n",
    "\n",
    "Let's move the car right now using a ROS program. For that, launch the following command into a WebShell:"
   ]
  },
  {
   "cell_type": "markdown",
   "metadata": {},
   "source": [
    "<table style=\"float:left;background: #407EAF\">\n",
    "<tr>\n",
    "<th>\n",
    "<p class=\"transparent\">Execute in WebShell #1</p>\n",
    "</th>\n",
    "</tr>\n",
    "</table>"
   ]
  },
  {
   "cell_type": "raw",
   "metadata": {},
   "source": [
    "roslaunch catvehicle_tests cmdvel_unsafetest.launch"
   ]
  },
  {
   "cell_type": "markdown",
   "metadata": {},
   "source": [
    "That command allows for manual control of the car using the keyboard through ROS topics. \n",
    "Move the car around, increase the speed, and get a feel for how the car performs.<br>\n",
    "The instructions on how to move the car with the keyboard are printed when launching the <b>keyboard_teleop.launch</b>."
   ]
  },
  {
   "cell_type": "markdown",
   "metadata": {},
   "source": [
    "<table style=\"width:100%\">\n",
    "  \n",
    "  <tr>\n",
    "    <th>\n",
    "    <figure>\n",
    "        <img src=\"img/key_i.png\"width=\"40\"></img>\n",
    "        \n",
    "    </figure>\n",
    "    </th>\n",
    "    <th>\n",
    "    <p style=\"text-align: center;\">Move forward</p>\n",
    "    </th> \n",
    "  </tr>\n",
    "  <tr>\n",
    "    <th>\n",
    "    <figure>\n",
    "        <img src=\"img/key_comma.png\"width=\"40\"></img>\n",
    "        \n",
    "    </figure>\n",
    "    </th>\n",
    "    <th>\n",
    "    <p style=\"text-align: center;\">Move backward</p>\n",
    "    </th> \n",
    "  </tr>\n",
    "  <tr>\n",
    "    <th>\n",
    "    <figure>\n",
    "        <img src=\"img/key_u.png\"width=\"40\"></img>\n",
    "        \n",
    "    </figure>\n",
    "    </th>\n",
    "    <th>\n",
    "    <p style=\"text-align: center;\">Turn left and Forward</p>\n",
    "    </th> \n",
    "  </tr>\n",
    "  <tr>\n",
    "    <th>\n",
    "    <figure>\n",
    "        <img src=\"img/key_o.png\"width=\"40\"></img>\n",
    "        \n",
    "    </figure>\n",
    "    </th>\n",
    "    <th>\n",
    "    <p style=\"text-align: center;\">Turn right and Forward</p>\n",
    "    </th> \n",
    "  </tr>\n",
    "  <tr>\n",
    "    <th>\n",
    "    <figure>\n",
    "        <img src=\"img/key_m.png\"width=\"40\"></img>\n",
    "        \n",
    "    </figure>\n",
    "    </th>\n",
    "    <th>\n",
    "    <p style=\"text-align: center;\">Turn left and Backward</p>\n",
    "    </th> \n",
    "  </tr>\n",
    "  <tr>\n",
    "    <th>\n",
    "    <figure>\n",
    "        <img src=\"img/key_dot.png\"width=\"40\"></img>\n",
    "        \n",
    "    </figure>\n",
    "    </th>\n",
    "    <th>\n",
    "    <p style=\"text-align: center;\">Turn right and Backward</p>\n",
    "    </th> \n",
    "  </tr>\n",
    "  <tr>\n",
    "    <th>\n",
    "    <figure>\n",
    "        <img src=\"img/key_k.png\"width=\"40\"></img>\n",
    "        \n",
    "    </figure>\n",
    "    </th>\n",
    "    <th>\n",
    "    <p style=\"text-align: center;\">Stop</p>\n",
    "    </th> \n",
    "  </tr>\n",
    "  <tr>\n",
    "    <th>\n",
    "    <figure>\n",
    "        <img src=\"img/key_q.png\"width=\"40\"></img>\n",
    "        <img src=\"img/key_z.png\"width=\"40\"></img>\n",
    "        \n",
    "    </figure>\n",
    "    </th>\n",
    "    <th>\n",
    "    <p style=\"text-align: center;\">Increase / Decrease Speed</p>\n",
    "    </th> \n",
    "  </tr>\n",
    "  \n",
    "</table>"
   ]
  },
  {
   "cell_type": "markdown",
   "metadata": {},
   "source": [
    "### Sensors"
   ]
  },
  {
   "cell_type": "markdown",
   "metadata": {},
   "source": [
    "The most important system in autonomous cars is the sensor array, that is, the group of sensors used for detecting obstacles and allowing the robot to localize itself in the world.<br>"
   ]
  },
  {
   "cell_type": "markdown",
   "metadata": {},
   "source": [
    "The sensors that you need to perform basic autonomous vehicle control are the following:<br>\n",
    "<ol>\n",
    "    <li>Laser</li>\n",
    "    <li>Camera</li>\n",
    "    <li>Lydar</li>\n",
    "    <li>GPS</li>\n",
    "</ol>"
   ]
  },
  {
   "cell_type": "markdown",
   "metadata": {
    "collapsed": true
   },
   "source": [
    "In the following picture, you can see where these sensors are located in the car:\n",
    "\n",
    "\n",
    "<img src=\"img/sensor_diagram.png\">"
   ]
  },
  {
   "cell_type": "markdown",
   "metadata": {},
   "source": [
    "In the next chapter of this course, you will learn how to access them, how to visualize them, and in which automation tasks they are involved."
   ]
  },
  {
   "cell_type": "markdown",
   "metadata": {},
   "source": [
    "### Autonomous navigation"
   ]
  },
  {
   "cell_type": "markdown",
   "metadata": {},
   "source": [
    "Even if the car has a laser, it is **not used for navigation,** like in traditional service robots. In service robots, a laser is used to implement SLAM algorithms that allow the robot to create a map and localize itself on it. For autonomous cars, a different approach is taken because it is **impractical to use maps for outdoor localization**.<br>\n",
    "**Lasers are used mainly for obstacle detection**.\n",
    "\n",
    "The laser is the most basic sensor from which information about the surroundings can be extracted.\n",
    "It's fast, simple, and reliable. It's the **first security measure** to avoid hitting anything.\n",
    "\n",
    "**Autonomous cars use GPS for localization**."
   ]
  },
  {
   "cell_type": "markdown",
   "metadata": {},
   "source": [
    "### The DBW interface for autonomous cars and CAN-Bus"
   ]
  },
  {
   "cell_type": "markdown",
   "metadata": {
    "collapsed": true
   },
   "source": [
    "You will use the DBW interface, which allows you to communicate with real cars through the CAN-Bus protocol.\n",
    "At the end of this MicroCourse, **you will not control the car as you would with a normal wheeled robot**, which is through Twist topics. Instead, you will **publish the state of the steering wheel, brake-pedal, throttle-pedal, and gear selected**. Just like real cars are controlled.\n",
    "\n",
    "Then, the DBW infrastructure will convert it into **CAN-Bus messages** and publish them into CAN-Bus-like topics.\n",
    "Finally, a node will read those CAN-Bus topics and send them to a CAN-Bus device, from which all the car systems will read and publish.\n",
    "\n",
    "Information in cars normally comes through CAN-Bus."
   ]
  },
  {
   "cell_type": "markdown",
   "metadata": {},
   "source": [
    "Ok, but... we are going to use a **SIMULATED** car. I want to learn how to move a **REAL** car with ROS!!\n",
    "\n",
    "Yeah, I know! Don't get angry! Actually, thanks to the magic of ROS, the algorithms you create here with a simulated car will **work exactly the same in a REAL CAR**.\n",
    "\n",
    "That's because this simulation has a simulated CAN-Bus driver device that mimics how the real one will work in the exact same way. The only difference will be that, in this simulation, you won't have as much information pouring into the CAN-Bus because it's only publishing the essential data for the car to move and navigate."
   ]
  },
  {
   "cell_type": "markdown",
   "metadata": {},
   "source": [
    "<table style=\"width:100%\">\n",
    "      <tr>\n",
    "        <th>\n",
    "        <figure>\n",
    "          <img id=\"fig-A.1\" src=\"img/autonomous_intro.png\" width=\"300\"/>\n",
    "           <center> <figcaption><h2>Simulated DBW MKZ</h2></figcaption></center>\n",
    "        </figure>\n",
    "\n",
    "        </th>\n",
    "        <th>\n",
    "            <figure>\n",
    "          <img id=\"fig-A.2\" src=\"img/LincolnMKZ_Udacity.jpeg\" width=\"300\"/>\n",
    "           <center> <figcaption><h2>Real DBW MKZ</h2></figcaption></center>\n",
    "        </figure>\n",
    "        </th>    \n",
    "\n",
    "      </tr>\n",
    "    </table>"
   ]
  },
  {
   "cell_type": "markdown",
   "metadata": {},
   "source": [
    "### Minimum requirements for this course"
   ]
  },
  {
   "cell_type": "markdown",
   "metadata": {
    "collapsed": true
   },
   "source": [
    "To be able to follow this course confortably, you have to fulfill the following requirements:\n",
    "\n",
    "* High level of Python\n",
    "* High level of C++ for some parts of the course\n",
    "* ROS basic knowledge. If you don't have it, then please do the <a href=\"https://www.robotigniteacademy.com/en/course/ros-in-5-days/details/\" target=\"_blank\">**ROS Basics in 5 days**</a> course\n",
    "* Basic Computer Science knowledge, such as HEX to DEC conversion\n",
    "* Basic Trigonometry Knowledge"
   ]
  },
  {
   "cell_type": "markdown",
   "metadata": {},
   "source": [
    "### Special thanks"
   ]
  },
  {
   "cell_type": "markdown",
   "metadata": {},
   "source": [
    "This course wouldn't have been possible without the amazing work done by the guys at Dataspeed Inc., who created the ADAS Development Vehicle kit and the ROS packages for DBW. To follow all of their work, please have a look at the following links:"
   ]
  },
  {
   "cell_type": "markdown",
   "metadata": {},
   "source": [
    "<img src=\"img/dataspeed_logo.png\" width=\"600\"/> "
   ]
  },
  {
   "cell_type": "markdown",
   "metadata": {},
   "source": [
    "Dataspeed Inc. website:<a href=\"http://dataspeedinc.com\">http://dataspeedinc.com</a><br>\n",
    "dbw_mkz_ros framework: https://bitbucket.org/DataspeedInc/dbw_mkz_ros<br>\n",
    "ADAS Development kit information:<a href=\"http://dataspeedinc.com/docs/ADAS_Kit.pdf\">http://dataspeedinc.com/docs/ADAS_Kit.pdf</a><br>"
   ]
  },
  {
   "cell_type": "markdown",
   "metadata": {},
   "source": [
    "This simulation has been based in the dbw_mkz_ros and the CatVehicle Test bed. So, we have to thank them, too, for publishing them."
   ]
  },
  {
   "cell_type": "markdown",
   "metadata": {},
   "source": [
    "dbw_mkz_ros framework: https://bitbucket.org/DataspeedInc/dbw_mkz_ros<br>\n",
    "CatVehicle TestBed: https://cps-vo.org/group/CATVehicleTestbed"
   ]
  },
  {
   "cell_type": "markdown",
   "metadata": {},
   "source": [
    "And of course, we have to thank the whole ROS community for all the work done in relation to the DBW package."
   ]
  },
  {
   "cell_type": "markdown",
   "metadata": {
    "collapsed": true
   },
   "source": [
    "ROS: http://www.ros.org/<br>\n",
    "Gazebo: http://gazebosim.org/"
   ]
  }
 ],
 "metadata": {
  "anaconda-cloud": {},
  "kernelspec": {
   "display_name": "Python 3",
   "language": "python",
   "name": "python3"
  },
  "language_info": {
   "codemirror_mode": {
    "name": "ipython",
    "version": 3
   },
   "file_extension": ".py",
   "mimetype": "text/x-python",
   "name": "python",
   "nbconvert_exporter": "python",
   "pygments_lexer": "ipython3",
   "version": "3.6.1"
  }
 },
 "nbformat": 4,
 "nbformat_minor": 1
}
