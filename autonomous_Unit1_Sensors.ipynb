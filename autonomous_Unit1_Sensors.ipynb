{
 "cells": [
  {
   "cell_type": "markdown",
   "metadata": {},
   "source": [
    "# Chapter 1: Sensors"
   ]
  },
  {
   "cell_type": "markdown",
   "metadata": {},
   "source": [
    "The most important system in Autonomous Vehicles is the **Sensor Array**.<br>\n",
    "Here you will learn the most essential sensors you need in order to control a fully autonomous vehicle.<br>"
   ]
  },
  {
   "cell_type": "markdown",
   "metadata": {},
   "source": [
    "The sensors you will learn how to use in this microcourse for autonomous vehicle control are:<br>\n",
    "<ol>\n",
    "    <li>Laser</li>\n",
    "    <li>Camera</li>\n",
    "    <li>GPS</li>\n",
    "</ol>"
   ]
  },
  {
   "cell_type": "markdown",
   "metadata": {},
   "source": [
    "### Laser"
   ]
  },
  {
   "cell_type": "markdown",
   "metadata": {},
   "source": [
    "The laser is the most basic sensor from which information about the surroundings can be extracted.<br>\n",
    "**It's fast, simple, and reliable.**<br>\n",
    "It's the first security measure to avoid hitting anything.<br>"
   ]
  },
  {
   "cell_type": "markdown",
   "metadata": {},
   "source": [
    "#### ROS Laser messages and the Topic where you can read them"
   ]
  },
  {
   "cell_type": "markdown",
   "metadata": {},
   "source": [
    "First, you need to learn some information about this laser topic."
   ]
  },
  {
   "cell_type": "markdown",
   "metadata": {},
   "source": [
    "<table style=\"float:left;background: #407EAF\">\n",
    "<tr>\n",
    "<th>\n",
    "<p class=\"transparent\">Execute in WebShell #1</p> \n",
    "</th>\n",
    "</tr>\n",
    "</table>"
   ]
  },
  {
   "cell_type": "code",
   "execution_count": null,
   "metadata": {
    "collapsed": true
   },
   "outputs": [],
   "source": [
    "rostopic info /catvehicle/front_laser_points "
   ]
  },
  {
   "cell_type": "markdown",
   "metadata": {},
   "source": [
    "You will get something similar to this:"
   ]
  },
  {
   "cell_type": "code",
   "execution_count": null,
   "metadata": {
    "collapsed": true
   },
   "outputs": [],
   "source": [
    "user ~ $ rostopic info /catvehicle/front_laser_points                                                                           \n",
    "Type: sensor_msgs/LaserScan                                                                                                     \n",
    "                                                                                                                                \n",
    "Publishers:                                                                                                                     \n",
    " * /gazebo (http://ip-172-31-34-201:60525/)                                                                                     \n",
    "                                                                                                                                \n",
    "Subscribers:                                                                                                                    \n",
    " * /catvehicle/distanceEstimator (http://ip-172-31-34-201:54760/)"
   ]
  },
  {
   "cell_type": "markdown",
   "metadata": {},
   "source": [
    "The messages are of type **\"LaserScan,\"** from the package **\"sensor_msgs.\"**<br>\n",
    "If you see the structure:"
   ]
  },
  {
   "cell_type": "markdown",
   "metadata": {},
   "source": [
    "<table style=\"float:left;background: #407EAF\">\n",
    "<tr>\n",
    "<th>\n",
    "<p class=\"transparent\">Execute in WebShell #1</p>  \n",
    "</th>\n",
    "</tr>\n",
    "</table>"
   ]
  },
  {
   "cell_type": "code",
   "execution_count": null,
   "metadata": {
    "collapsed": true
   },
   "outputs": [],
   "source": [
    "rosmsg show sensor_msgs/LaserScan "
   ]
  },
  {
   "cell_type": "markdown",
   "metadata": {},
   "source": [
    "You will get something similar to this:"
   ]
  },
  {
   "cell_type": "code",
   "execution_count": null,
   "metadata": {
    "collapsed": true
   },
   "outputs": [],
   "source": [
    "user ~ $ rosmsg show sensor_msgs/LaserScan \n",
    "std_msgs/Header header                                                                                                          \n",
    "  uint32 seq                                                                                                                    \n",
    "  time stamp                                                                                                                    \n",
    "  string frame_id                                                                                                               \n",
    "float32 angle_min                                                                                                               \n",
    "float32 angle_max                                                                                                               \n",
    "float32 angle_increment                                                                                                         \n",
    "float32 time_increment                                                                                                          \n",
    "float32 scan_time                                                                                                               \n",
    "float32 range_min                                                                                                               \n",
    "float32 range_max                                                                                                               \n",
    "float32[] ranges                                                                                                                \n",
    "float32[] intensities"
   ]
  },
  {
   "cell_type": "markdown",
   "metadata": {},
   "source": [
    "More details in the API: http://docs.ros.org/api/sensor_msgs/html/msg/LaserScan.html"
   ]
  },
  {
   "cell_type": "markdown",
   "metadata": {},
   "source": [
    "C++ Example of LaserScan Publish: http://wiki.ros.org/navigation/Tutorials/RobotSetup/Sensors"
   ]
  },
  {
   "cell_type": "markdown",
   "metadata": {},
   "source": [
    "And how does it look exactly? Type the following command in the WebShell and check it out for yourself.<br>\n",
    "This command will show the last message published. If you want to see the whole stream of data, just remove the **\"-n1\"** argument. Just bear in mind that it's a really fast and dense stream of data, so it might saturate your bandwidth if you're not careful."
   ]
  },
  {
   "cell_type": "markdown",
   "metadata": {},
   "source": [
    "<table style=\"float:left;background: #407EAF\">\n",
    "<tr>\n",
    "<th>\n",
    "<p class=\"transparent\">Execute in WebShell #1</p>   \n",
    "</th>\n",
    "</tr>\n",
    "</table>"
   ]
  },
  {
   "cell_type": "code",
   "execution_count": null,
   "metadata": {
    "collapsed": true
   },
   "outputs": [],
   "source": [
    "rostopic echo -n1 \"/catvehicle/front_laser_points\""
   ]
  },
  {
   "cell_type": "markdown",
   "metadata": {},
   "source": [
    "You will get something similar to this:"
   ]
  },
  {
   "cell_type": "code",
   "execution_count": 1,
   "metadata": {},
   "outputs": [
    {
     "ename": "SyntaxError",
     "evalue": "invalid syntax (<ipython-input-1-86432c267ad7>, line 1)",
     "output_type": "error",
     "traceback": [
      "\u001b[1;36m  File \u001b[1;32m\"<ipython-input-1-86432c267ad7>\"\u001b[1;36m, line \u001b[1;32m1\u001b[0m\n\u001b[1;33m    Topic: rostopic echo -n1 \"/catvehicle/front_laser_points\"\u001b[0m\n\u001b[1;37m                       ^\u001b[0m\n\u001b[1;31mSyntaxError\u001b[0m\u001b[1;31m:\u001b[0m invalid syntax\n"
     ]
    }
   ],
   "source": [
    "Topic: rostopic echo -n1 \"/catvehicle/front_laser_points\"\n",
    "23  seq: 7737                                                                                                                     \n",
    "  stamp:                                                                                                                        \n",
    "    secs: 1547                                                                                                                  \n",
    "    nsecs: 656000000                                                                                                            \n",
    "  frame_id: front_laser_link                                                                                                    \n",
    "angle_min: -1.57000005245                                                                                                       \n",
    "angle_max: 1.57000005245                                                                                                        \n",
    "angle_increment: 0.0175419002771                                                                                                \n",
    "time_increment: 0.0                                                                                                             \n",
    "scan_time: 0.0                                                                                                                  \n",
    "range_min: 1.5                                                                                                                  \n",
    "range_max: 80.0\n",
    "ranges: [46.0461311340332,... Numbers that indicate distance from the object detected, unless the distance is smaller than range_min or further than range_max ..., 26.936544]\n",
    "intensities: [1.781583370703586e-35,... This is the intensity of the signal, which not all devices have, so if they don't, it just gives this really low value, which is zero, ..., 1.781583370703586e-35]"
   ]
  },
  {
   "cell_type": "markdown",
   "metadata": {},
   "source": [
    "To visualize this sensor data, use Rviz.\n",
    "First, launch Rviz in any WebShell:"
   ]
  },
  {
   "cell_type": "markdown",
   "metadata": {},
   "source": [
    "<table style=\"float:left;background: #407EAF\">\n",
    "<tr>\n",
    "<th>\n",
    "<p class=\"transparent\">Execute in WebShell #1</p>  \n",
    "</th>\n",
    "</tr>\n",
    "</table>"
   ]
  },
  {
   "cell_type": "code",
   "execution_count": null,
   "metadata": {
    "collapsed": true
   },
   "outputs": [],
   "source": [
    "rosrun rviz rviz   "
   ]
  },
  {
   "cell_type": "markdown",
   "metadata": {},
   "source": [
    "Then, press the **Add** button and select the **\"LaserScan\"** display.<br>\n",
    "Now, select the topic **/catvehicle/front_laser_points** in the laser element.<br>\n",
    "Also, select the **/base_link** as **Fixed Frame**.<br>\n",
    "If you can't see the laser points, they may be too small. Change the Size to 0.1.<br>\n",
    "Finally, add the **RobotModel** to see the car model loaded in the parameter server.<br>\n",
    "You should see something like this:"
   ]
  },
  {
   "cell_type": "markdown",
   "metadata": {},
   "source": [
    "![Rviz Laser Image](img/rviz_sensors_laser.png)"
   ]
  },
  {
   "cell_type": "markdown",
   "metadata": {},
   "source": [
    "Move the car around and see how the laser sensors pick up the different objects."
   ]
  },
  {
   "cell_type": "markdown",
   "metadata": {},
   "source": [
    "### Camera"
   ]
  },
  {
   "cell_type": "markdown",
   "metadata": {},
   "source": [
    "Cameras are vital to Autonomous Vehicles.<br> \n",
    "They allow you to read street signs, detect pedestrians, and stay in your lane. You have one front-facing camera. But other car models can have up between four and six cameras to cover all of the visual space.<br>"
   ]
  },
  {
   "cell_type": "markdown",
   "metadata": {},
   "source": [
    "When you have a camera in ROS, you have many topics related to it:<br>"
   ]
  },
  {
   "cell_type": "markdown",
   "metadata": {},
   "source": [
    "<table style=\"float:left;background: #407EAF\">\n",
    "<tr>\n",
    "<th>\n",
    "<p class=\"transparent\">Execute in WebShell #1</p>  \n",
    "</th>\n",
    "</tr>\n",
    "</table>"
   ]
  },
  {
   "cell_type": "code",
   "execution_count": null,
   "metadata": {
    "collapsed": true
   },
   "outputs": [],
   "source": [
    "rostopic list | grep camera"
   ]
  },
  {
   "cell_type": "markdown",
   "metadata": {},
   "source": [
    "From all the topics published, the most relevant one is the **\"/catvehicle/camera_front/image_raw_front.\"**<br>\n",
    "This topic has the image data registered. To see it, you just have to add a new element to Rviz.<br>\n",
    "In this case, it's an **Image** element. Also, you will have to select the topic.<br>\n",
    "After about 15-30 seconds, you will get the image feed."
   ]
  },
  {
   "cell_type": "markdown",
   "metadata": {},
   "source": [
    "You can also use a dedicated image visualizer, **rqt_image**."
   ]
  },
  {
   "cell_type": "markdown",
   "metadata": {},
   "source": [
    "<table style=\"float:left;background: #407EAF\">\n",
    "<tr>\n",
    "<th>\n",
    "<p class=\"transparent\">Execute in WebShell #1</p>  \n",
    "</th>\n",
    "</tr>\n",
    "</table>"
   ]
  },
  {
   "cell_type": "code",
   "execution_count": null,
   "metadata": {
    "collapsed": true
   },
   "outputs": [],
   "source": [
    "rosrun rqt_image_view rqt_image_view "
   ]
  },
  {
   "cell_type": "markdown",
   "metadata": {},
   "source": [
    "To visualize it, open the ROS Graphical Interface by clicking on the following icon in the top-right corner of the IDE:<br>\n",
    "![Camera Icon Image](img/ros_graphic_tools_icon.png)<br>"
   ]
  },
  {
   "cell_type": "markdown",
   "metadata": {},
   "source": [
    "![Camera Rqt Image](img/rqt_image1.png)<br>\n",
    "![Camera Icon Image](img/rqt_image2.png)<br>"
   ]
  },
  {
   "cell_type": "markdown",
   "metadata": {},
   "source": [
    "Try other formats of the same image, such as ogg or compressed.\n",
    "\n",
    "Move around to see the image changing and to get a feel for what you can expect from your image recognition algorithms. Keep in mind that the topics go much faster. The visualization is much slower than the actual rate at which your algorithm will read from the topic."
   ]
  },
  {
   "cell_type": "markdown",
   "metadata": {},
   "source": [
    "<table style=\"float:left;background: #407EAF\">\n",
    "<tr>\n",
    "<th>\n",
    "<p class=\"transparent\">Execute in WebShell #1</p>\n",
    "</th>\n",
    "</tr>\n",
    "</table>"
   ]
  },
  {
   "cell_type": "code",
   "execution_count": null,
   "metadata": {
    "collapsed": true
   },
   "outputs": [],
   "source": [
    "rostopic hz /catvehicle/camera_front/image_raw_front"
   ]
  },
  {
   "cell_type": "code",
   "execution_count": null,
   "metadata": {
    "collapsed": true
   },
   "outputs": [],
   "source": [
    "rostopic hz /catvehicle/camera_front/image_raw_front\n",
    "subscribed to [/catvehicle/camera_front/image_raw_front]                                                                        \n",
    "WARNING: may be using simulated time                                                                                            \n",
    "average rate: 0.324                                                                                                             \n",
    "        min: 3.085s max: 3.085s std dev: 0.00000s window: 2                                                                     \n",
    "average rate: 0.555                                                                                                             \n",
    "        min: 0.516s max: 3.085s std dev: 1.28450s window: 3                                                                     \n",
    "average rate: 0.726                                                                                                             \n",
    "        min: 0.516s max: 3.085s std dev: 1.20752s window: 4                                                                     \n",
    "average rate: 0.877                                                                                                             \n",
    "        min: 0.427s max: 3.085s std dev: 1.12379s window: 5                                                                     \n",
    "average rate: 1.002                                                                                                             \n",
    "        min: 0.427s max: 3.085s std dev: 1.04458s window: 6  "
   ]
  },
  {
   "cell_type": "markdown",
   "metadata": {},
   "source": [
    "As you can see, the rate is around 1Hz, which is low for an image publisher. This is because, in order not to overpressure the simulation, the publishing rates were lowered."
   ]
  },
  {
   "cell_type": "markdown",
   "metadata": {},
   "source": [
    "The image message for the basic image topic is:"
   ]
  },
  {
   "cell_type": "code",
   "execution_count": null,
   "metadata": {
    "collapsed": true
   },
   "outputs": [],
   "source": [
    "user ~ $ rostopic info /catvehicle/camera_front/image_raw_front\n",
    "Type: sensor_msgs/Image                                                                                                         \n",
    "                                                                                                                                \n",
    "Publishers:                                                                                                                     \n",
    " * /gazebo (http://ip-172-31-14-242:39366/)                                                                                     \n",
    "                                                                                                                                \n",
    "Subscribers: None "
   ]
  },
  {
   "cell_type": "code",
   "execution_count": null,
   "metadata": {
    "collapsed": true
   },
   "outputs": [],
   "source": [
    "user ~ $ rosmsg show sensor_msgs/Image \n",
    "std_msgs/Header header                                                                                                          \n",
    "  uint32 seq                                                                                                                    \n",
    "  time stamp                                                                                                                    \n",
    "  string frame_id                                                                                                               \n",
    "uint32 height                                                                                                                   \n",
    "uint32 width                                                                                                                    \n",
    "string encoding                                                                                                                 \n",
    "uint8 is_bigendian                                                                                                              \n",
    "uint32 step                                                                                                                     \n",
    "uint8[] data "
   ]
  },
  {
   "cell_type": "markdown",
   "metadata": {},
   "source": [
    "More detailed information in the API: http://docs.ros.org/api/sensor_msgs/html/msg/Image.html"
   ]
  },
  {
   "cell_type": "markdown",
   "metadata": {},
   "source": [
    "To see the stream of data, just echo on the image topic, and prepare yourself for a band overload due to the huge amouont of image data."
   ]
  },
  {
   "cell_type": "markdown",
   "metadata": {},
   "source": [
    "<table style=\"float:left;background: #407EAF\">\n",
    "<tr>\n",
    "<th>\n",
    "<p class=\"transparent\">Execute in WebShell #1</p>\n",
    "</th>\n",
    "</tr>\n",
    "</table>"
   ]
  },
  {
   "cell_type": "code",
   "execution_count": null,
   "metadata": {
    "collapsed": true
   },
   "outputs": [],
   "source": [
    "rostopic echo -n1 /catvehicle/camera_front/image_raw_front"
   ]
  },
  {
   "cell_type": "code",
   "execution_count": null,
   "metadata": {
    "collapsed": true
   },
   "outputs": [],
   "source": [
    "user ~ $ rostopic echo -n1 /catvehicle/camera_front/image_raw_front\n",
    "header: \n",
    "  seq: 81\n",
    "  stamp: \n",
    "    secs: 683\n",
    "    nsecs:  62000000\n",
    "  frame_id: catvehicle/camera_front_link\n",
    "height: 800\n",
    "width: 800\n",
    "encoding: rgb8\n",
    "is_bigendian: 0\n",
    "step: 2400\n",
    "data: [...Image Data ...]"
   ]
  },
  {
   "cell_type": "markdown",
   "metadata": {},
   "source": [
    "### GPS"
   ]
  },
  {
   "cell_type": "markdown",
   "metadata": {
    "collapsed": true
   },
   "source": [
    "And finally, the GPS. The **GPS is probably the most important sensor in an Autonomous vehicle** because it allows it to know where to go and which path to take once you use it with Satellite Map data.<br>"
   ]
  },
  {
   "cell_type": "markdown",
   "metadata": {},
   "source": [
    "To view the GPS data stream, the name of the topic is **\"/fix\"** for latitude, longitude, and altitude information; and **\"/fix_velocity\"** for speed information.<br>"
   ]
  },
  {
   "cell_type": "markdown",
   "metadata": {},
   "source": [
    "<table style=\"float:left;background: #407EAF\">\n",
    "<tr>\n",
    "<th>\n",
    "<p class=\"transparent\">Execute in WebShell #1</p>\n",
    "</th>\n",
    "</tr>\n",
    "</table>"
   ]
  },
  {
   "cell_type": "code",
   "execution_count": null,
   "metadata": {
    "collapsed": true
   },
   "outputs": [],
   "source": [
    "rostopic info /fix\n",
    "rostopic info /fix_velocity"
   ]
  },
  {
   "cell_type": "code",
   "execution_count": null,
   "metadata": {
    "collapsed": true
   },
   "outputs": [],
   "source": [
    "user ~ $ rostopic info /fix                                                                                                     \n",
    "Type: sensor_msgs/NavSatFix                                                                                                     \n",
    "                                                                                                                                \n",
    "Publishers:                                                                                                                     \n",
    " * /gazebo (http://ip-172-31-14-242:39366/)                                                                                     \n",
    "                                                                                                                                \n",
    "Subscribers: None "
   ]
  },
  {
   "cell_type": "code",
   "execution_count": null,
   "metadata": {
    "collapsed": true
   },
   "outputs": [],
   "source": [
    "user ~ $ rostopic info /fix_velocity \n",
    "Type: geometry_msgs/Vector3Stamped                                                                                              \n",
    "                                                                                                                                \n",
    "Publishers:                                                                                                                     \n",
    " * /gazebo (http://ip-172-31-14-242:39366/)                                                                                     \n",
    "                                                                                                                                \n",
    "Subscribers: None"
   ]
  },
  {
   "cell_type": "markdown",
   "metadata": {},
   "source": [
    "The data stream will be of the following types, depending on the topic."
   ]
  },
  {
   "cell_type": "code",
   "execution_count": null,
   "metadata": {
    "collapsed": true
   },
   "outputs": [],
   "source": [
    "user ~ $ rostopic echo -n1 /fix\n",
    "header:                                                                                                                         \n",
    "  seq: 32213                                                                                                                    \n",
    "  stamp:                                                                                                                        \n",
    "    secs: 3221                                                                                                                  \n",
    "    nsecs: 400000000                                                                                                            \n",
    "  frame_id: /world                                                                                                              \n",
    "status:                                                                                                                         \n",
    "  status: 0                                                                                                                     \n",
    "  service: 0                                                                                                                    \n",
    "latitude: 49.9001090235                                                                                                         \n",
    "longitude: 8.89999753587                                                                                                        \n",
    "altitude: -0.731444120518                                                                                                       \n",
    "position_covariance: [25.01, 0.0, 0.0, 0.0, 25.01, 0.0, 0.0, 0.0, 25.01]                                                        \n",
    "position_covariance_type: 2                                                                                                     \n",
    "---                         "
   ]
  },
  {
   "cell_type": "markdown",
   "metadata": {},
   "source": [
    "Note that unless the autonomous vehicle is really fast, the increments of the value of latitude and longitude will go quite slow. Also, note that the noise of the position given by the GPS is simulated if you echo the whole stream of data."
   ]
  },
  {
   "cell_type": "code",
   "execution_count": null,
   "metadata": {
    "collapsed": true
   },
   "outputs": [],
   "source": [
    "user ~ $ rostopic echo -n1 /fix_velocity                                                                                        \n",
    "header:                                                                                                                         \n",
    "  seq: 33006                                                                                                                    \n",
    "  stamp:                                                                                                                        \n",
    "    secs: 3300                                                                                                                  \n",
    "    nsecs: 700000000                                                                                                            \n",
    "  frame_id: /world                                                                                                              \n",
    "vector:                                                                                                                         \n",
    "  x: -0.050835156007                                                                                                            \n",
    "  y: -0.0265822677885                                                                                                           \n",
    "  z: -0.0950885075646                                                                                                           \n",
    "--- "
   ]
  },
  {
   "cell_type": "markdown",
   "metadata": {},
   "source": [
    "So, how can you visualize it?"
   ]
  },
  {
   "cell_type": "markdown",
   "metadata": {
    "collapsed": true
   },
   "source": [
    "The GPS data can be visualized in the following ways:\n",
    "<ol>\n",
    "    <li>\n",
    "    Create your own markers: This will allow you to represent in Rviz waypoints in space as you desire. For more information : http://answers.ros.org/question/11135/plotting-a-markerarray-of-spheres-with-rviz/\n",
    "    </li>\n",
    "    <br>\n",
    "    <li>\n",
    "    Represent the GPS current position in Rviz using a plugin: This plugin allows you to position the autonomous vehicle in the corresponding real place on Earth, based on the GPS data published in the **/fix** topic. https://github.com/gareth-cross/rviz_satellite.<br>\n",
    "    To use it, just open the **catvehicle_gps.rviz** file, located in the **catvehicle** package, through Rviz. Select the folder **rviz_config** and the file **catvehicle_gps.rviz**.<br>\n",
    "    It can also be set manually, like this:\n",
    "    ![Camera Icon Image](img/add_mapbox.png)<br>\n",
    "    Then, set the topic where the GPS data is published (for instance, **/fix**) and the Robot Frame (for instance, **/catvehicle/odom**), and set the URL where the MapTiles are fetched from. This URL has to have the following structure:<br>\n",
    "    http://a.tiles.mapbox.com/v4/mapbox.satellite/{z}/{x}/{y}.jpg?access_token=YOUR_ACCESS_TOKEN<br><br>\n",
    "    The only thing that has to be changed is the **YOUR_ACCESS_TOKEN**, which is given by **MapBox** https://www.mapbox.com/install/js/cdn-add/.\n",
    "    If everything went well , Rviz should show something like this:\n",
    "    ![RViz Gps General](img/rviz_gps.png)<br>\n",
    "    ![RViz Gps General](img/autonomous_sensors_gps_2.png)<br>\n",
    "    ![RViz Gps Closeup](img/autonomous_sensors_gps.png)<br>\n",
    "    Obviously, to make the map correspond to the simulated world, the world should be an exact copy of the place and the coordinates should be set accordingly. In this example, the coordinates are (49.900090,8.899960,0.000000), which correspond to 64823 Groß-Umstadt, Germany. This can be managed through this web, whichc allows you to convert from address to coordinates easily: https://www.gps-coordinates.net/.\n",
    "    </li>\n",
    "</ol>"
   ]
  },
  {
   "cell_type": "markdown",
   "metadata": {
    "collapsed": true
   },
   "source": [
    "In the simulation, there is a file that sets all of the sensor messages to be visualized in Rviz. It's named **catvehicle.rviz** and **catvehicle_gps.rviz**. These two files can be found in the **catvehicle** package, inside the **rviz_config** folder.<br>"
   ]
  },
  {
   "cell_type": "markdown",
   "metadata": {},
   "source": [
    "## Congratulations , you now know all the sensors available in the car."
   ]
  },
  {
   "cell_type": "markdown",
   "metadata": {},
   "source": [
    "In the next unit, you will pratice moving the car with GPS data."
   ]
  }
 ],
 "metadata": {
  "anaconda-cloud": {},
  "kernelspec": {
   "display_name": "Python 3",
   "language": "python",
   "name": "python3"
  },
  "language_info": {
   "codemirror_mode": {
    "name": "ipython",
    "version": 3
   },
   "file_extension": ".py",
   "mimetype": "text/x-python",
   "name": "python",
   "nbconvert_exporter": "python",
   "pygments_lexer": "ipython3",
   "version": "3.6.1"
  }
 },
 "nbformat": 4,
 "nbformat_minor": 1
}
