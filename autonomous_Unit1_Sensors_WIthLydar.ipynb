{
 "cells": [
  {
   "cell_type": "markdown",
   "metadata": {},
   "source": [
    "# Unit 1: Sensors"
   ]
  },
  {
   "cell_type": "markdown",
   "metadata": {},
   "source": [
    "The most important system in Autonomous Vehicles is the Sensor Array.<br>\n",
    "Here you will learn the most essential sensors you need to control a fully autonomous vehicle.<br>"
   ]
  },
  {
   "cell_type": "markdown",
   "metadata": {},
   "source": [
    "## Basic Sensors List"
   ]
  },
  {
   "cell_type": "markdown",
   "metadata": {},
   "source": [
    "The sensors you need to perform basic autonomous vehicle control are:<br>\n",
    "<ol>\n",
    "    <li>Laser</li>\n",
    "    <li>Camera</li>\n",
    "    <li>Lydar</li>\n",
    "    <li>GPS</li>\n",
    "</ol>"
   ]
  },
  {
   "cell_type": "markdown",
   "metadata": {},
   "source": [
    "### Laser"
   ]
  },
  {
   "cell_type": "markdown",
   "metadata": {},
   "source": [
    "The laser is the most basic sensor from which information about the surroundings can be extracted.<br>\n",
    "Its fast, simple and reliable.<br>\n",
    "Its the first security mesure to avoid hitting anything.<br>"
   ]
  },
  {
   "cell_type": "markdown",
   "metadata": {},
   "source": [
    "#### ROS Laser messages and Topic from where to read them"
   ]
  },
  {
   "cell_type": "markdown",
   "metadata": {},
   "source": [
    "First thing is know some information about this laser topic."
   ]
  },
  {
   "cell_type": "markdown",
   "metadata": {},
   "source": [
    "<table style=\"float:left;background: #407EAF\">\n",
    "<tr>\n",
    "<th>\n",
    "<p class=\"transparent\">Execute in WebShell #1</p><br>\n",
    "rostopic info /catvehicle/front_laser_points  \n",
    "</th>\n",
    "</tr>\n",
    "</table>"
   ]
  },
  {
   "cell_type": "markdown",
   "metadata": {},
   "source": [
    "You will get something similar to this:"
   ]
  },
  {
   "cell_type": "raw",
   "metadata": {},
   "source": [
    "user ~ $ rostopic info /catvehicle/front_laser_points                                                                           \n",
    "Type: sensor_msgs/LaserScan                                                                                                     \n",
    "                                                                                                                                \n",
    "Publishers:                                                                                                                     \n",
    " * /gazebo (http://ip-172-31-34-201:60525/)                                                                                     \n",
    "                                                                                                                                \n",
    "Subscribers:                                                                                                                    \n",
    " * /catvehicle/distanceEstimator (http://ip-172-31-34-201:54760/)"
   ]
  },
  {
   "cell_type": "markdown",
   "metadata": {},
   "source": [
    "The messages are of type \"LaserScan\", from the package \"sensor_msgs\".<br>\n",
    "If you see the structure:"
   ]
  },
  {
   "cell_type": "markdown",
   "metadata": {},
   "source": [
    "<table style=\"float:left;background: #407EAF\">\n",
    "<tr>\n",
    "<th>\n",
    "<p class=\"transparent\">Execute in WebShell #1</p><br>\n",
    "rosmsg show sensor_msgs/LaserScan   \n",
    "</th>\n",
    "</tr>\n",
    "</table>"
   ]
  },
  {
   "cell_type": "markdown",
   "metadata": {},
   "source": [
    "You will get something similar to this:"
   ]
  },
  {
   "cell_type": "raw",
   "metadata": {},
   "source": [
    "user ~ $ rosmsg show sensor_msgs/LaserScan \n",
    "std_msgs/Header header                                                                                                          \n",
    "  uint32 seq                                                                                                                    \n",
    "  time stamp                                                                                                                    \n",
    "  string frame_id                                                                                                               \n",
    "float32 angle_min                                                                                                               \n",
    "float32 angle_max                                                                                                               \n",
    "float32 angle_increment                                                                                                         \n",
    "float32 time_increment                                                                                                          \n",
    "float32 scan_time                                                                                                               \n",
    "float32 range_min                                                                                                               \n",
    "float32 range_max                                                                                                               \n",
    "float32[] ranges                                                                                                                \n",
    "float32[] intensities"
   ]
  },
  {
   "cell_type": "markdown",
   "metadata": {},
   "source": [
    "More details in the API: http://docs.ros.org/api/sensor_msgs/html/msg/LaserScan.html"
   ]
  },
  {
   "cell_type": "markdown",
   "metadata": {},
   "source": [
    "C++ Example of LaserScan Publish: http://wiki.ros.org/navigation/Tutorials/RobotSetup/Sensors"
   ]
  },
  {
   "cell_type": "markdown",
   "metadata": {},
   "source": [
    "And how does it look exactly? Type the following command in the Webshell and check it yourself.<br>\n",
    "This command will show the last message published. If you want to see the stream of data just remove the \"-n1\" argument. Just bare in mind that its a really fast and dense stream of data so it might saturate your bandwidth if you're not carefull."
   ]
  },
  {
   "cell_type": "markdown",
   "metadata": {},
   "source": [
    "<table style=\"float:left;background: #407EAF\">\n",
    "<tr>\n",
    "<th>\n",
    "<p class=\"transparent\">Execute in WebShell #1</p><br>\n",
    "rostopic echo -n1 \"/catvehicle/front_laser_points\"   \n",
    "</th>\n",
    "</tr>\n",
    "</table>"
   ]
  },
  {
   "cell_type": "markdown",
   "metadata": {},
   "source": [
    "You will get something similar to this:"
   ]
  },
  {
   "cell_type": "raw",
   "metadata": {},
   "source": [
    "Topic: rostopic echo -n1 \"/catvehicle/front_laser_points\"\n",
    "23  seq: 7737                                                                                                                     \n",
    "  stamp:                                                                                                                        \n",
    "    secs: 1547                                                                                                                  \n",
    "    nsecs: 656000000                                                                                                            \n",
    "  frame_id: front_laser_link                                                                                                    \n",
    "angle_min: -1.57000005245                                                                                                       \n",
    "angle_max: 1.57000005245                                                                                                        \n",
    "angle_increment: 0.0175419002771                                                                                                \n",
    "time_increment: 0.0                                                                                                             \n",
    "scan_time: 0.0                                                                                                                  \n",
    "range_min: 1.5                                                                                                                  \n",
    "range_max: 80.0\n",
    "ranges: [46.0461311340332,... Numbers that indicate distance from the object detected that unless the distance is smaller than range_min or further than range_max ..., 26.936544]\n",
    "intensities: [1.781583370703586e-35,... This is the intensity if the signal which not all devices have so if they don't it just gives this reañy low value which is zero, ..., 1.781583370703586e-35]"
   ]
  },
  {
   "cell_type": "markdown",
   "metadata": {},
   "source": [
    "To visualize this sensor data, use RVIZ.\n",
    "First launch RVIZ in any webshell:"
   ]
  },
  {
   "cell_type": "markdown",
   "metadata": {},
   "source": [
    "<table style=\"float:left;background: #407EAF\">\n",
    "<tr>\n",
    "<th>\n",
    "<p class=\"transparent\">Execute in WebShell #1</p><br>\n",
    "rosrun rviz rviz   \n",
    "</th>\n",
    "</tr>\n",
    "</table>"
   ]
  },
  {
   "cell_type": "markdown",
   "metadata": {},
   "source": [
    "Then select the add button and select \"Laser\".<br>\n",
    "Then select in th elaser element the topic <b>/catvehicle/front_laser_points</b><br>\n",
    "Select as FixedFrame the /base_link.<br>\n",
    "Also add the RobotModel to see the car model loded in the param server.<br>\n",
    "You should see something like this:"
   ]
  },
  {
   "cell_type": "markdown",
   "metadata": {},
   "source": [
    "![Rviz Laser Image](img/rviz_sensors_laser.png)"
   ]
  },
  {
   "cell_type": "markdown",
   "metadata": {},
   "source": [
    "Move the Car arround and see how the laser sensors picks up the different objects."
   ]
  },
  {
   "cell_type": "markdown",
   "metadata": {},
   "source": [
    "### Camera"
   ]
  },
  {
   "cell_type": "markdown",
   "metadata": {},
   "source": [
    "Cameras are vital for Autonomous Vehicles.<br> \n",
    "It allows you to read street signs, detect pedestrians and stay in your lane. You have one front facing camera. But other car models can have up to 4 to six cameras to cover all the visual space.<br>"
   ]
  },
  {
   "cell_type": "markdown",
   "metadata": {},
   "source": [
    "When having a camera in ROS you have many topics related to it:<br>"
   ]
  },
  {
   "cell_type": "raw",
   "metadata": {},
   "source": [
    "user~$ rostopic list | grep camera"
   ]
  },
  {
   "cell_type": "markdown",
   "metadata": {},
   "source": [
    "From all the topics published the most relevant one is the \"/catvehicle/camera_front/image_raw_front\".<br>\n",
    "This topic has the image data registered. To see it you just have to add a new element in the rviz.<br>\n",
    "In this case its an <b>Image</b> element, and select the topic.<br>\n",
    "After around 15-30 seconds, you will get the image feed."
   ]
  },
  {
   "cell_type": "markdown",
   "metadata": {},
   "source": [
    "You can also use a dedicated image visualiser, <b>rqt_image<b><br>\n",
    "And then open the ROS Graphical Interface clicking on the ICON:<br>\n",
    "![Camera Icon Image](img/ros_graphic_tools_icon.png)<br>"
   ]
  },
  {
   "cell_type": "markdown",
   "metadata": {},
   "source": [
    "<table style=\"float:left;background: #407EAF\">\n",
    "<tr>\n",
    "<th>\n",
    "<p class=\"transparent\">Execute in WebShell #1</p><br>\n",
    "rosrun rqt_image_view rqt_image_view   \n",
    "</th>\n",
    "</tr>\n",
    "</table>"
   ]
  },
  {
   "cell_type": "markdown",
   "metadata": {},
   "source": [
    "![Camera Rqt Image](img/rqt_image1.png)<br>\n",
    "![Camera Icon Image](img/rqt_image2.png)<br>"
   ]
  },
  {
   "cell_type": "markdown",
   "metadata": {},
   "source": [
    "Try other formats of the same image such as ogg or compressed.<br>\n",
    "Move around to see the image changing and to get a feel of what you can espect for your image recognition algorithms. Although bare in mind that the topics go much faster, the visualization is much slower than the real rate at chich your algorithm will read from the topic."
   ]
  },
  {
   "cell_type": "markdown",
   "metadata": {},
   "source": [
    "<table style=\"float:left;background: #407EAF\">\n",
    "<tr>\n",
    "<th>\n",
    "<p class=\"transparent\">Execute in WebShell #1</p><br>\n",
    "rostopic hz /catvehicle/camera_front/image_raw_front\n",
    "</th>\n",
    "</tr>\n",
    "</table>"
   ]
  },
  {
   "cell_type": "raw",
   "metadata": {},
   "source": [
    "rostopic hz /catvehicle/camera_front/image_raw_front\n",
    "subscribed to [/catvehicle/camera_front/image_raw_front]                                                                        \n",
    "WARNING: may be using simulated time                                                                                            \n",
    "average rate: 0.324                                                                                                             \n",
    "        min: 3.085s max: 3.085s std dev: 0.00000s window: 2                                                                     \n",
    "average rate: 0.555                                                                                                             \n",
    "        min: 0.516s max: 3.085s std dev: 1.28450s window: 3                                                                     \n",
    "average rate: 0.726                                                                                                             \n",
    "        min: 0.516s max: 3.085s std dev: 1.20752s window: 4                                                                     \n",
    "average rate: 0.877                                                                                                             \n",
    "        min: 0.427s max: 3.085s std dev: 1.12379s window: 5                                                                     \n",
    "average rate: 1.002                                                                                                             \n",
    "        min: 0.427s max: 3.085s std dev: 1.04458s window: 6  "
   ]
  },
  {
   "cell_type": "markdown",
   "metadata": {},
   "source": [
    "As you can see the rate is around 1Hz, which is low for an image publisher. This is because to not over presure the simulation, the publishing rates were lowered."
   ]
  },
  {
   "cell_type": "markdown",
   "metadata": {},
   "source": [
    "The image message for the basic image topic is:"
   ]
  },
  {
   "cell_type": "raw",
   "metadata": {},
   "source": [
    "user ~ $ rostopic info /catvehicle/camera_front/image_raw_front\n",
    "Type: sensor_msgs/Image                                                                                                         \n",
    "                                                                                                                                \n",
    "Publishers:                                                                                                                     \n",
    " * /gazebo (http://ip-172-31-14-242:39366/)                                                                                     \n",
    "                                                                                                                                \n",
    "Subscribers: None "
   ]
  },
  {
   "cell_type": "raw",
   "metadata": {},
   "source": [
    "user ~ $ rosmsg show sensor_msgs/Image \n",
    "std_msgs/Header header                                                                                                          \n",
    "  uint32 seq                                                                                                                    \n",
    "  time stamp                                                                                                                    \n",
    "  string frame_id                                                                                                               \n",
    "uint32 height                                                                                                                   \n",
    "uint32 width                                                                                                                    \n",
    "string encoding                                                                                                                 \n",
    "uint8 is_bigendian                                                                                                              \n",
    "uint32 step                                                                                                                     \n",
    "uint8[] data "
   ]
  },
  {
   "cell_type": "markdown",
   "metadata": {},
   "source": [
    "More detailed infor in the API: http://docs.ros.org/api/sensor_msgs/html/msg/Image.html"
   ]
  },
  {
   "cell_type": "markdown",
   "metadata": {},
   "source": [
    "To see the stream of data, just echo on the image topic, preparing yourself for a band overload due to the huge image data."
   ]
  },
  {
   "cell_type": "markdown",
   "metadata": {},
   "source": [
    "<table style=\"float:left;background: #407EAF\">\n",
    "<tr>\n",
    "<th>\n",
    "<p class=\"transparent\">Execute in WebShell #1</p><br>\n",
    "rostopic echo -n1 /catvehicle/camera_front/image_raw_front\n",
    "</th>\n",
    "</tr>\n",
    "</table>"
   ]
  },
  {
   "cell_type": "raw",
   "metadata": {},
   "source": [
    "user ~ $ rostopic echo -n1 /catvehicle/camera_front/image_raw_front\n",
    "header: \n",
    "  seq: 81\n",
    "  stamp: \n",
    "    secs: 683\n",
    "    nsecs:  62000000\n",
    "  frame_id: catvehicle/camera_front_link\n",
    "height: 800\n",
    "width: 800\n",
    "encoding: rgb8\n",
    "is_bigendian: 0\n",
    "step: 2400\n",
    "data: [...Image Data ...]"
   ]
  },
  {
   "cell_type": "markdown",
   "metadata": {},
   "source": [
    "### Lydar"
   ]
  },
  {
   "cell_type": "markdown",
   "metadata": {},
   "source": [
    "Lydar sensors are an essential part of autonomous vehicles nowadays. It can give a 360º pointcloud around the vehicle. But it can be used for publishing only a section to allow better performance.<br>\n",
    "In your case this simulated car has around 120º field of view, and around 45º in vertical axis."
   ]
  },
  {
   "cell_type": "markdown",
   "metadata": {},
   "source": [
    "To visualise the Lydar PointCloud, just add a PointCloud elemnt in rviz and select it to read from the topic <b>/catvehicle/lidar_points</b>\n",
    "You might have to increase the pointcloid point size to around 0.1 to see the points."
   ]
  },
  {
   "cell_type": "raw",
   "metadata": {},
   "source": [
    "user ~ $ rostopic info /catvehicle/lidar_points\n",
    "Type: sensor_msgs/PointCloud                                                                                                    \n",
    "                                                                                                                                \n",
    "Publishers:                                                                                                                     \n",
    " * /gazebo (http://ip-172-31-14-242:39366/)                                                                                     \n",
    "                                                                                                                                \n",
    "Subscribers: None "
   ]
  },
  {
   "cell_type": "markdown",
   "metadata": {},
   "source": [
    "How does this PointCloud messages look like? They can be visualised with Rviz. As in the laser data, there is a rviz configuration file that has it all set up."
   ]
  },
  {
   "cell_type": "markdown",
   "metadata": {},
   "source": [
    "![Camera Rqt Image](img/rviz_sensors_lydar.png)<br>"
   ]
  },
  {
   "cell_type": "markdown",
   "metadata": {},
   "source": [
    "In this image it can be seen that this Lydar is set up to scan only 0.4 each side from the center, so 0.8 radians in total, 100 samples horizontal and 20 vertical.<br>\n",
    "As in the image data, be careful with echoing the data stream because it will easily saturate your bandwidth."
   ]
  },
  {
   "cell_type": "raw",
   "metadata": {},
   "source": [
    "rostopic echo -n1 /catvehicle/lidar_points\n",
    "\n",
    "header: \n",
    "  seq: 95\n",
    "  stamp: \n",
    "    secs: 1436\n",
    "    nsecs: 824000000\n",
    "  frame_id: velodyne_link\n",
    "points: \n",
    "  - \n",
    "    x: 16.1254119873\n",
    "    y: -6.75718307495\n",
    "    z: 0.456174612045\n",
    "    \n",
    "    ...\n",
    "    ...\n",
    "    ...\n",
    "    \n",
    "channels: \n",
    "  - \n",
    "    name: ''\n",
    "    values: [0,....,0.3]"
   ]
  },
  {
   "cell_type": "markdown",
   "metadata": {},
   "source": [
    "### GPS"
   ]
  },
  {
   "cell_type": "markdown",
   "metadata": {
    "collapsed": true
   },
   "source": [
    "And Finaly the GPS. The GPS is probably the most important sensor in an Autonomous vehicle, because it allows it to know where to go and which path to take once you use it with SateliteMap data.<br>"
   ]
  },
  {
   "cell_type": "markdown",
   "metadata": {},
   "source": [
    "To view the GPS data stream, the topic names \"/fix\" for latitud,longitud and altitude information, and \"/fix_velocity\" for speed information.<br>"
   ]
  },
  {
   "cell_type": "markdown",
   "metadata": {},
   "source": [
    "<table style=\"float:left;background: #407EAF\">\n",
    "<tr>\n",
    "<th>\n",
    "<p class=\"transparent\">Execute in WebShell #1</p><br>\n",
    "rostopic info /fix<br>\n",
    "rostopic info /fix_velocity\n",
    "</th>\n",
    "</tr>\n",
    "</table>"
   ]
  },
  {
   "cell_type": "raw",
   "metadata": {},
   "source": [
    "user ~ $ rostopic info /fix                                                                                                     \n",
    "Type: sensor_msgs/NavSatFix                                                                                                     \n",
    "                                                                                                                                \n",
    "Publishers:                                                                                                                     \n",
    " * /gazebo (http://ip-172-31-14-242:39366/)                                                                                     \n",
    "                                                                                                                                \n",
    "Subscribers: None "
   ]
  },
  {
   "cell_type": "raw",
   "metadata": {},
   "source": [
    "user ~ $ rostopic info /fix_velocity \n",
    "Type: geometry_msgs/Vector3Stamped                                                                                              \n",
    "                                                                                                                                \n",
    "Publishers:                                                                                                                     \n",
    " * /gazebo (http://ip-172-31-14-242:39366/)                                                                                     \n",
    "                                                                                                                                \n",
    "Subscribers: None"
   ]
  },
  {
   "cell_type": "markdown",
   "metadata": {},
   "source": [
    "The data stream will be of the following types depending on the topic."
   ]
  },
  {
   "cell_type": "raw",
   "metadata": {},
   "source": [
    "user ~ $ rostopic echo -n1 /fix\n",
    "header:                                                                                                                         \n",
    "  seq: 32213                                                                                                                    \n",
    "  stamp:                                                                                                                        \n",
    "    secs: 3221                                                                                                                  \n",
    "    nsecs: 400000000                                                                                                            \n",
    "  frame_id: /world                                                                                                              \n",
    "status:                                                                                                                         \n",
    "  status: 0                                                                                                                     \n",
    "  service: 0                                                                                                                    \n",
    "latitude: 49.9001090235                                                                                                         \n",
    "longitude: 8.89999753587                                                                                                        \n",
    "altitude: -0.731444120518                                                                                                       \n",
    "position_covariance: [25.01, 0.0, 0.0, 0.0, 25.01, 0.0, 0.0, 0.0, 25.01]                                                        \n",
    "position_covariance_type: 2                                                                                                     \n",
    "---                         "
   ]
  },
  {
   "cell_type": "markdown",
   "metadata": {},
   "source": [
    "Note that unless the autonomous vehicle is really fast the increments in the value of latitude and longitude will quite slowly. Also note that its simulated the noise of the position given by the GPS if you echo the whole stream of data."
   ]
  },
  {
   "cell_type": "raw",
   "metadata": {},
   "source": [
    "user ~ $ rostopic echo -n1 /fix_velocity                                                                                        \n",
    "header:                                                                                                                         \n",
    "  seq: 33006                                                                                                                    \n",
    "  stamp:                                                                                                                        \n",
    "    secs: 3300                                                                                                                  \n",
    "    nsecs: 700000000                                                                                                            \n",
    "  frame_id: /world                                                                                                              \n",
    "vector:                                                                                                                         \n",
    "  x: -0.050835156007                                                                                                            \n",
    "  y: -0.0265822677885                                                                                                           \n",
    "  z: -0.0950885075646                                                                                                           \n",
    "--- "
   ]
  },
  {
   "cell_type": "markdown",
   "metadata": {},
   "source": [
    "So how can it be visualized?"
   ]
  },
  {
   "cell_type": "markdown",
   "metadata": {
    "collapsed": true
   },
   "source": [
    "The GPS data can be visualized in the following ways:\n",
    "<ol>\n",
    "    <li>\n",
    "    Create your Own markers: This will allow you to represent in RVIZ waypoints in space as you desire. For more information : http://answers.ros.org/question/11135/plotting-a-markerarray-of-spheres-with-rviz/\n",
    "    </li>\n",
    "    <li>\n",
    "    Represent the GPS Current Position in RVIZ using a plugin: This plugin allows you to position the autonomous vehicle based in the GPS data published in /fix topic in the corresponding real place on Earth https://github.com/gareth-cross/rviz_satellite.<br>\n",
    "    To Use it just open the catvehicle_gps.rviz file in the catvehicle package through RVIZ.\n",
    "    It can also be set manually as follows:\n",
    "    ![Camera Icon Image](img/add_mapbox.png)<br>\n",
    "    Then set the topic where the GPS data is published (For example:  /fix ) , the RobotFrame ( for example /catvehicle/odom )and set the URL where to fetch the MapTiles. This URL has to have the following structure:<br>\n",
    "    http://a.tiles.mapbox.com/v4/mapbox.satellite/{z}/{x}/{y}.jpg?access_token=YOUR_ACCESS_TOKEN<br>\n",
    "    The Only thing that has to be changed is the YOUR_ACCESS_TOKEN which its given by MapBox https://www.mapbox.com/install/js/cdn-add/.\n",
    "    If everythin went well , RVIZ should show something like this:\n",
    "    ![RViz Gps General](img/rviz_gps.png)<br>\n",
    "    ![RViz Gps General](img/autonomous_sensors_gps_2.png)<br>\n",
    "    ![RViz Gps Closeup](img/autonomous_sensors_gps.png)<br>\n",
    "    Obviously to make the map correspond to the simulated world, the world should be an exact copy of the place and be set the coordenates accordingly. In this example the coordenates are (49.900090,8.899960,0.000000), whic correspond to 64823 Groß-Umstadt, Germany. This can be managed through this web that allows you to convert from address to coordinates easily: https://www.gps-coordinates.net/.\n",
    "    </li>\n",
    "</ol>"
   ]
  },
  {
   "cell_type": "markdown",
   "metadata": {
    "collapsed": true
   },
   "source": [
    "In the simulation there is a file that sets all the sensor messages to visualise in RVIZ named <b>catvehicle.rviz</b> and <b>catvehicle_gps.rviz</b>. These two files can be found in the catvehicle package.<br>\n",
    "Select open and go to \"/opt/ros/indigo/share/catvehicle/rviz_config/catvehicle_gps.rviz\" in the case of the GPS RVIZ file."
   ]
  },
  {
   "cell_type": "markdown",
   "metadata": {},
   "source": [
    "## Congratulations , you now know all the sensors available in the car."
   ]
  },
  {
   "cell_type": "markdown",
   "metadata": {},
   "source": [
    "In the next unit, you will pratice moving the car with GPS data."
   ]
  }
 ],
 "metadata": {
  "kernelspec": {
   "display_name": "Python 2",
   "language": "python",
   "name": "python2"
  },
  "language_info": {
   "codemirror_mode": {
    "name": "ipython",
    "version": 2
   },
   "file_extension": ".py",
   "mimetype": "text/x-python",
   "name": "python",
   "nbconvert_exporter": "python",
   "pygments_lexer": "ipython2",
   "version": "2.7.12"
  }
 },
 "nbformat": 4,
 "nbformat_minor": 0
}
