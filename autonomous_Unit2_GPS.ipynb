{
 "cells": [
  {
   "cell_type": "markdown",
   "metadata": {},
   "source": [
    "# Chapter 2: GPS Navigation"
   ]
  },
  {
   "cell_type": "markdown",
   "metadata": {},
   "source": [
    "GPS Navigation is a whole universe of knowledge, and there is a lot to learn. \n",
    "Here you have an exercise that will help you to get used to the movement of the car and navigating with GPS.<br>"
   ]
  },
  {
   "cell_type": "markdown",
   "metadata": {},
   "source": [
    "<p style=\"background:#EE9023;color:white;\">Exercise U2.1</p>"
   ]
  },
  {
   "cell_type": "markdown",
   "metadata": {},
   "source": [
    "The objective of this exercise is to make the car move through GPS readings to a defined location, or WayPoint.<br>\n",
    "To guide you, follow these steps:<br>\n",
    "<ul>\n",
    "<li>Create a GPS Subscriber: Subscribe to the **/fix** topic. Then, extract the latitude and longitude. Also, make a function that calculates the distance from the current position to a given waypoint. This distance has to be determined through an algorithm for Earth distance calculations. For instance, through the Vincency method.\n",
    "https://en.wikipedia.org/wiki/Vincenty%27s_formulae\n",
    "</li>\n",
    "<li>Create a Class that publishes in the appropriate topic to move the car. In this case, move without any security system, which is publishing in the **/catvehicle/cmd_vel_safe.**</li>\n",
    "<li>Create an Action Server that, given a waypoint, returns the distance to that waypoint until the target is reached. Because the distance is calculated in meters, it will be enough with integer values.</li>\n",
    "<li>Finally, create an Action Client that calls this server and moves the car to the given waypoint. You will have to implement an algorithm that, as distances change, can change the car's direction to get as close as possible.</li>\n",
    "</ul>"
   ]
  },
  {
   "cell_type": "markdown",
   "metadata": {},
   "source": [
    "<p style=\"color: green\">**NOTE**: Bear in mind that there is already a security feature implemented in the car. If the Twist messages aren't published at rates greater than 5Hz in the **/catvehicle/cmd_vel_safe** topic, it stops until the next message is sent.<br>\n",
    "This is due to the **\"DeadMansSwitch,\"** which we will talk about in the next chapter.</p>"
   ]
  },
  {
   "cell_type": "markdown",
   "metadata": {},
   "source": [
    "Just to make it clear, try the following:"
   ]
  },
  {
   "cell_type": "code",
   "execution_count": null,
   "metadata": {
    "collapsed": true
   },
   "outputs": [],
   "source": [
    "rostopic pub /catvehicle/cmd_vel_safe geometry_msgs/Twist \"linear:               \n",
    "  x: 1.0                      \n",
    "  y: 0.0                      \n",
    "  z: 0.0                      \n",
    "angular:                      \n",
    "  x: 0.0                      \n",
    "  y: 0.0                      \n",
    "  z: 0.0\""
   ]
  },
  {
   "cell_type": "markdown",
   "metadata": {},
   "source": [
    "This should only move the car for 1/5 of a second, which is the period corresponding to 5Hz of the DeadMansSwitch system. To make it move, you will have to publish at a rate of 5Hz or higher."
   ]
  },
  {
   "cell_type": "code",
   "execution_count": null,
   "metadata": {
    "collapsed": true
   },
   "outputs": [],
   "source": [
    "rostopic pub -r5 /cvehicle/cmd_vel_safe geometry_msgs/Twist \"linear:           \n",
    "  x: 1.0                      \n",
    "  y: 0.0                      \n",
    "  z: 0.0                      \n",
    "angular:                      \n",
    "  x: 0.0                      \n",
    "  y: 0.0                      \n",
    "  z: 0.0\""
   ]
  },
  {
   "cell_type": "markdown",
   "metadata": {},
   "source": [
    "And when you **CTRL-C**, it stops. If there is a system failure, this keeps the car from going wild. This way, if there is any mulfunction, the car will simply stop moving."
   ]
  },
  {
   "cell_type": "markdown",
   "metadata": {},
   "source": [
    "<p style=\"background:#EE9023;color:white;\">END Exercise U2.1</p>"
   ]
  },
  {
   "cell_type": "markdown",
   "metadata": {},
   "source": [
    "<p style=\"background:green;color:white;\">Solution Exercise U2.1</p>"
   ]
  },
  {
   "cell_type": "markdown",
   "metadata": {},
   "source": [
    "Please try to do it by yourself, unless you get stuck or need some inspiration. You will learn much more if you fight for each exercise."
   ]
  },
  {
   "cell_type": "markdown",
   "metadata": {},
   "source": [
    "<img src=\"img/robotignite_logo_text.png\"/>"
   ]
  },
  {
   "cell_type": "markdown",
   "metadata": {},
   "source": [
    "Here you have a possible solution to the core aspects of the exercise:"
   ]
  },
  {
   "cell_type": "markdown",
   "metadata": {},
   "source": [
    "### Create a GPS Subscriber"
   ]
  },
  {
   "cell_type": "code",
   "execution_count": 1,
   "metadata": {},
   "outputs": [
    {
     "ename": "ModuleNotFoundError",
     "evalue": "No module named 'rospy'",
     "output_type": "error",
     "traceback": [
      "\u001b[1;31m---------------------------------------------------------------------------\u001b[0m",
      "\u001b[1;31mModuleNotFoundError\u001b[0m                       Traceback (most recent call last)",
      "\u001b[1;32m<ipython-input-1-1e5ee59bebf4>\u001b[0m in \u001b[0;36m<module>\u001b[1;34m()\u001b[0m\n\u001b[0;32m      1\u001b[0m \u001b[1;31m#! /usr/bin/env python\u001b[0m\u001b[1;33m\u001b[0m\u001b[1;33m\u001b[0m\u001b[0m\n\u001b[0;32m      2\u001b[0m \u001b[1;33m\u001b[0m\u001b[0m\n\u001b[1;32m----> 3\u001b[1;33m \u001b[1;32mimport\u001b[0m \u001b[0mrospy\u001b[0m\u001b[1;33m\u001b[0m\u001b[0m\n\u001b[0m\u001b[0;32m      4\u001b[0m \u001b[1;32mfrom\u001b[0m \u001b[0msensor_msgs\u001b[0m\u001b[1;33m.\u001b[0m\u001b[0mmsg\u001b[0m \u001b[1;32mimport\u001b[0m \u001b[0mNavSatFix\u001b[0m\u001b[1;33m\u001b[0m\u001b[0m\n\u001b[0;32m      5\u001b[0m \u001b[1;31m#https://pypi.python.org/pypi/geopy\u001b[0m\u001b[1;33m\u001b[0m\u001b[1;33m\u001b[0m\u001b[0m\n",
      "\u001b[1;31mModuleNotFoundError\u001b[0m: No module named 'rospy'"
     ]
    }
   ],
   "source": [
    "#! /usr/bin/env python\n",
    "\n",
    "import rospy\n",
    "from sensor_msgs.msg import NavSatFix\n",
    "#https://pypi.python.org/pypi/geopy\n",
    "from geopy.distance import vincenty\n",
    "\n",
    "\"\"\"\n",
    "uint8 COVARIANCE_TYPE_UNKNOWN=0                                                                                                 \n",
    "uint8 COVARIANCE_TYPE_APPROXIMATED=1                                                                                            \n",
    "uint8 COVARIANCE_TYPE_DIAGONAL_KNOWN=2                                                                                          \n",
    "uint8 COVARIANCE_TYPE_KNOWN=3                                                                                                   \n",
    "std_msgs/Header header                                                                                                          \n",
    "  uint32 seq                                                                                                                    \n",
    "  time stamp                                                                                                                    \n",
    "  string frame_id                                                                                                               \n",
    "sensor_msgs/NavSatStatus status                                                                                                 \n",
    "  int8 STATUS_NO_FIX=-1                                                                                                         \n",
    "  int8 STATUS_FIX=0                                                                                                             \n",
    "  int8 STATUS_SBAS_FIX=1                                                                                                        \n",
    "  int8 STATUS_GBAS_FIX=2                                                                                                        \n",
    "  uint16 SERVICE_GPS=1                                                                                                          \n",
    "  uint16 SERVICE_GLONASS=2                                                                                                      \n",
    "  uint16 SERVICE_COMPASS=4                                                                                                      \n",
    "  uint16 SERVICE_GALILEO=8                                                                                                      \n",
    "  int8 status                                                                                                                   \n",
    "  uint16 service                                                                                                                \n",
    "float64 latitude                                                                                                                \n",
    "float64 longitude                                                                                                               \n",
    "float64 altitude                                                                                                                \n",
    "float64[9] position_covariance                                                                                                  \n",
    "uint8 position_covariance_type\n",
    "\"\"\"\n",
    "class WayPoint():\n",
    "    def __init__(self, latitude, longitude, altitude):\n",
    "        self.latitude = latitude\n",
    "        self.longitude = longitude\n",
    "        self.altitude = altitude\n",
    "        \n",
    "    def print_data(self):\n",
    "        return \"[\"+str(self.latitude)+\",\"+str(self.longitude)+\",\"+str(self.altitude)+\"]\"\n",
    "\n",
    "\n",
    "class GpsClass(object):\n",
    "    def __init__(self):\n",
    "        self._sub = rospy.Subscriber('/fix', NavSatFix, self.callback)\n",
    "        self.latitude = 0.0\n",
    "        self.longitude = 0.0\n",
    "        self.altitude = 0.0\n",
    "        self.testwaypoint = WayPoint(49.900090,8.899960,0.000000)\n",
    "    \n",
    "    def remove_noise(self,latitude,longitude,altitude):\n",
    "        \"\"\"\n",
    "        The GPS have Noise, so the always alscilation digits are removed\n",
    "        \"\"\"\n",
    "        return round(latitude,5),round(longitude,5),round(altitude,1)\n",
    "    \n",
    "    def callback(self,msg):\n",
    "        self.latitude, self.longitude, self.altitude = self.remove_noise(msg.latitude, msg.longitude, msg.altitude)\n",
    "        #rospy.loginfo('Origin [latitude,longitude,altitude]=[%f,%f,%f]', self.latitude, self.longitude, self.altitude)\n",
    "        #rospy.loginfo('Waypoint [latitude,longitude,altitude]=[%f,%f,%f]', self.testwaypoint.latitude, self.testwaypoint.longitude, self.testwaypoint.altitude)\n",
    "        #rospy.loginfo('Distance to WayPointTest=%f', self.distance_from_waypoint(self.testwaypoint))\n",
    "    \n",
    "    def distance_from_waypoint(self,waypoint):\n",
    "        \"\"\"\n",
    "        It's calculated only with longitude and latitude; altitude oscillates too much for a coherent reading, and \n",
    "        in this application, there is no reason to worry about it.\n",
    "        \"\"\"\n",
    "        origin = (self.latitude, self.longitude)\n",
    "        waypoint = (waypoint.latitude, waypoint.longitude)\n",
    "        return vincenty(origin, waypoint).meters\n",
    "    \n",
    "    def get_current_gps_pos(self):\n",
    "        \"\"\"\n",
    "        Returns newest GPS current position in a Waypoint Format\n",
    "        \"\"\"\n",
    "        return WayPoint(self.latitude, self.longitude, self.altitude)\n",
    "        \n",
    "\n",
    "if __name__ == '__main__':\n",
    "  rospy.init_node('gps_topic_subscriber')\n",
    "  GpsClass()\n",
    "  rospy.spin()\n"
   ]
  },
  {
   "cell_type": "markdown",
   "metadata": {},
   "source": [
    "### Notes about the GPS Class"
   ]
  },
  {
   "cell_type": "markdown",
   "metadata": {},
   "source": [
    "<ol>\n",
    "    <li>**distance_from_waypoint**: This function calculates the distance between the current GPS position and a given GPS Waypoint. This distance is calculated through Vincenty's formula. For more info: https://en.wikipedia.org/wiki/Vincenty's_formulae. This formula calculates the distance between two points in a spheroid, which gives a more precise distance than the classical euclidian distance.</li>\n",
    "    <li>**remove_noise**: This function crops the GPS data to the digits where the noise stops. Because of how GPS works, there is always noise, and in this simulation, it's simulated to be like this also.</li>\n",
    "    <li>**testwaypoint**: This waypoint is a point that is useful for testing.</li>\n",
    "    <li>At what rate is the GPS data published in the topic /fix ? Execute the following command to learn at what rate the values will be updated inside the class:<br><br>\n",
    "    **<i>rostopic hz /fix**</i><br><br>\n",
    "    The values will be around:<br>\n",
    "    average rate: 10.000<br>\n",
    "    </li>\n",
    "</ol>"
   ]
  },
  {
   "cell_type": "markdown",
   "metadata": {},
   "source": [
    "### Move To WayPoint GPS Action Server"
   ]
  },
  {
   "cell_type": "markdown",
   "metadata": {},
   "source": [
    "This action will wait for a client to send a waypoint number. Once received, it will constantly calculate the distance to that waypoint, and return the distance in meters, in integer format, as feedback. When the distance gets lower than the minimum, it will return the final distance as the result."
   ]
  },
  {
   "cell_type": "code",
   "execution_count": 2,
   "metadata": {},
   "outputs": [
    {
     "ename": "ModuleNotFoundError",
     "evalue": "No module named 'rospy'",
     "output_type": "error",
     "traceback": [
      "\u001b[1;31m---------------------------------------------------------------------------\u001b[0m",
      "\u001b[1;31mModuleNotFoundError\u001b[0m                       Traceback (most recent call last)",
      "\u001b[1;32m<ipython-input-2-f4dbcc2a6e6c>\u001b[0m in \u001b[0;36m<module>\u001b[1;34m()\u001b[0m\n\u001b[0;32m      1\u001b[0m \u001b[1;31m#! /usr/bin/env python\u001b[0m\u001b[1;33m\u001b[0m\u001b[1;33m\u001b[0m\u001b[0m\n\u001b[1;32m----> 2\u001b[1;33m \u001b[1;32mimport\u001b[0m \u001b[0mrospy\u001b[0m\u001b[1;33m\u001b[0m\u001b[0m\n\u001b[0m\u001b[0;32m      3\u001b[0m \u001b[1;32mimport\u001b[0m \u001b[0mactionlib\u001b[0m\u001b[1;33m\u001b[0m\u001b[0m\n\u001b[0;32m      4\u001b[0m \u001b[1;32mfrom\u001b[0m \u001b[0mgps_reader\u001b[0m \u001b[1;32mimport\u001b[0m \u001b[0mGpsClass\u001b[0m\u001b[1;33m,\u001b[0m \u001b[0mWayPoint\u001b[0m\u001b[1;33m\u001b[0m\u001b[0m\n\u001b[0;32m      5\u001b[0m \u001b[1;32mfrom\u001b[0m \u001b[0mactionlib\u001b[0m\u001b[1;33m.\u001b[0m\u001b[0mmsg\u001b[0m \u001b[1;32mimport\u001b[0m \u001b[0mTestFeedback\u001b[0m\u001b[1;33m,\u001b[0m \u001b[0mTestResult\u001b[0m\u001b[1;33m,\u001b[0m \u001b[0mTestAction\u001b[0m\u001b[1;33m\u001b[0m\u001b[0m\n",
      "\u001b[1;31mModuleNotFoundError\u001b[0m: No module named 'rospy'"
     ]
    }
   ],
   "source": [
    "#! /usr/bin/env python\n",
    "import rospy\n",
    "import actionlib\n",
    "from gps_reader import GpsClass, WayPoint\n",
    "from actionlib.msg import TestFeedback, TestResult, TestAction\n",
    "\"\"\"\n",
    "### Test.action ###\n",
    "int32 goal                                                                                                                      \n",
    "---                                                                                                                             \n",
    "int32 result                                                                                                                    \n",
    "---                                                                                                                             \n",
    "int32 feedback # This will give the distance from current pos to waypoint\n",
    "\"\"\"\n",
    "\n",
    "class MoveToGpsWayPointAServerClass(object):\n",
    "\n",
    "  def __init__(self):\n",
    "    # creates the action server\n",
    "    rospy.init_node('move_to_gps_waypoint_aserver_node')\n",
    "    # create messages that are used to publish feedback/result\n",
    "    self._feedback = TestFeedback()\n",
    "    self._result   = TestResult()\n",
    "    # init some internal constants\n",
    "    self._distance_error = 3.0 # A 3 metre error\n",
    "    self._action_rate = 10.0\n",
    "    waypoint1 = WayPoint(49.900090,8.899960,0.000000)\n",
    "    self._waypoint_dict = {1:waypoint1}\n",
    "    self._gps_class = GpsClass()\n",
    "    self._as = actionlib.SimpleActionServer(\"/move_to_gps_waypoint_aserver\", TestAction, self.goal_callback, False)\n",
    "    self._as.start()\n",
    "    rospy.loginfo('move_to_gps_waypoint_aserver initialised')\n",
    "\n",
    "    \n",
    "  def goal_callback(self, goal):\n",
    "    # this callback is called when the action server is called.\n",
    "    # this is the function that reads the GPS current position and publishes the appropriate Movement Command\n",
    "    \n",
    "    # helper variables\n",
    "    r = rospy.Rate(self._action_rate)\n",
    "    success = True\n",
    "    \n",
    "    # TODO: Fetch Data from topic GPS\n",
    "    \n",
    "    waypoint_gps_pos = self._waypoint_dict.get(goal.goal)\n",
    "    if waypoint_gps_pos != None:\n",
    "        \n",
    "        # Distance from current pos to the given waypoint\n",
    "        distance = self._gps_class.distance_from_waypoint(waypoint_gps_pos)\n",
    "        self._feedback.feedback = int(distance)\n",
    "        self._as.publish_feedback(self._feedback)\n",
    "        \n",
    "        start_gps_pos = self._gps_class.get_current_gps_pos()\n",
    "        # publish info to the console for the user\n",
    "        rospy.loginfo(\"#### move_to_gps_waypoint_as:\\nStart GPS Position=\"+ str(start_gps_pos.print_data()) + \"\\nWayPoint = \"+str(waypoint_gps_pos.print_data()) + \"\\nDistance =\"+str(distance)+\"\\n###\")\n",
    "        \n",
    "        # starts Moving To the WayPoint\n",
    "        while int(distance) >= int(self._distance_error):\n",
    "          rospy.loginfo('Distance From WayPoint:'+str(distance))\n",
    "          # check that preempt (cancellation) has not been requested by the action client\n",
    "          if self._as.is_preempt_requested():\n",
    "            rospy.loginfo('The WayPoint has been cancelled/preempted')\n",
    "            # the following line, sets the client in preempted state (goal cancelled)\n",
    "            self._as.set_preempted()\n",
    "            success = False\n",
    "            self._result.result = int(success)\n",
    "            break\n",
    "          \n",
    "          # builds the next feedback msg to be sent\n",
    "          self._feedback.feedback = int(distance)\n",
    "          # publish the feedback\n",
    "          self._as.publish_feedback(self._feedback)\n",
    "          # the sequence is computed at 1 Hz frequency\n",
    "          r.sleep()\n",
    "          \n",
    "          # Update Distance\n",
    "          distance = self._gps_class.distance_from_waypoint(waypoint_gps_pos)\n",
    "    \n",
    "    else:\n",
    "        success = False\n",
    "    # at this point, either the goal has been achieved (success==true)\n",
    "    # or the client preempted the goal (success==false)\n",
    "    # If success, then we publish the final result\n",
    "    # If not success, we do not publish anything in the result\n",
    "    if success:\n",
    "        rospy.loginfo(\"### move_to_gps_waypoint_as:\\nSucceeded to move from GPS Position=\"+ str(start_gps_pos.print_data()) + \"\\nWayPoint = \"+str(waypoint_gps_pos.print_data())+\"\\n###\")\n",
    "        rospy.loginfo('Distance From WayPoint:'+str(distance)+\",feedbackdistance=\"+str(self._feedback.feedback))\n",
    "    else:\n",
    "        rospy.loginfo(\"move_to_gps_waypoint_as: Failed\")\n",
    "    \n",
    "    self._result.result = int(success)\n",
    "    self._as.set_succeeded(self._result)\n",
    "      \n",
    "if __name__ == '__main__':\n",
    "  \n",
    "  MoveToGpsWayPointAServerClass()\n",
    "  rospy.spin()"
   ]
  },
  {
   "cell_type": "markdown",
   "metadata": {},
   "source": [
    "### Notes about MoveToGpsWayPointAServerClass"
   ]
  },
  {
   "cell_type": "markdown",
   "metadata": {},
   "source": [
    "* **The Action messages used**: the messages from the ROS package actionlib are used. The reasons for this are just to avoid creating custom action messages and simplifying the example. This action message has the following structure:<br>"
   ]
  },
  {
   "cell_type": "code",
   "execution_count": 3,
   "metadata": {},
   "outputs": [
    {
     "ename": "SyntaxError",
     "evalue": "invalid syntax (<ipython-input-3-babb21475582>, line 2)",
     "output_type": "error",
     "traceback": [
      "\u001b[1;36m  File \u001b[1;32m\"<ipython-input-3-babb21475582>\"\u001b[1;36m, line \u001b[1;32m2\u001b[0m\n\u001b[1;33m    int32 goal\u001b[0m\n\u001b[1;37m             ^\u001b[0m\n\u001b[1;31mSyntaxError\u001b[0m\u001b[1;31m:\u001b[0m invalid syntax\n"
     ]
    }
   ],
   "source": [
    "### Test.action ###\n",
    "int32 goal\n",
    "---\n",
    "int32 result\n",
    "---\n",
    "int32 feedback # This will give the distance from the current pos to the waypoint"
   ]
  },
  {
   "cell_type": "markdown",
   "metadata": {},
   "source": [
    "The same information can be retrieved with the following commands:"
   ]
  },
  {
   "cell_type": "code",
   "execution_count": null,
   "metadata": {
    "collapsed": true
   },
   "outputs": [],
   "source": [
    "roscd actionlib/action;\n",
    "cat Test.action"
   ]
  },
  {
   "cell_type": "markdown",
   "metadata": {},
   "source": [
    "* The **distance_error** is set to 3.0 meters. If it gets lower than 3, then the action server will consider the action ended and will return the result.\n",
    "\n",
    "\n",
    "* The **waypoint_dict**: This dictionary carries the waypoints available. In this case, only one has been implemented. If the client asks for a Waypoint number other than 1, the action will end with an error."
   ]
  },
  {
   "cell_type": "markdown",
   "metadata": {},
   "source": [
    "### Move To WayPoint GPS Action Client"
   ]
  },
  {
   "cell_type": "markdown",
   "metadata": {},
   "source": [
    "Here is an example of how to ask the GPS Action Server to perform an action. The client only has to send an integer that represents the number of the Waypoint to be reached as goal."
   ]
  },
  {
   "cell_type": "code",
   "execution_count": 4,
   "metadata": {},
   "outputs": [
    {
     "ename": "ModuleNotFoundError",
     "evalue": "No module named 'rospy'",
     "output_type": "error",
     "traceback": [
      "\u001b[1;31m---------------------------------------------------------------------------\u001b[0m",
      "\u001b[1;31mModuleNotFoundError\u001b[0m                       Traceback (most recent call last)",
      "\u001b[1;32m<ipython-input-4-0ceb50ae3a59>\u001b[0m in \u001b[0;36m<module>\u001b[1;34m()\u001b[0m\n\u001b[0;32m      1\u001b[0m \u001b[1;31m#! /usr/bin/env python\u001b[0m\u001b[1;33m\u001b[0m\u001b[1;33m\u001b[0m\u001b[0m\n\u001b[0;32m      2\u001b[0m \u001b[1;33m\u001b[0m\u001b[0m\n\u001b[1;32m----> 3\u001b[1;33m \u001b[1;32mimport\u001b[0m \u001b[0mrospy\u001b[0m\u001b[1;33m\u001b[0m\u001b[0m\n\u001b[0m\u001b[0;32m      4\u001b[0m \u001b[1;32mimport\u001b[0m \u001b[0mtime\u001b[0m\u001b[1;33m\u001b[0m\u001b[0m\n\u001b[0;32m      5\u001b[0m \u001b[1;32mimport\u001b[0m \u001b[0mactionlib\u001b[0m\u001b[1;33m\u001b[0m\u001b[0m\n",
      "\u001b[1;31mModuleNotFoundError\u001b[0m: No module named 'rospy'"
     ]
    }
   ],
   "source": [
    "#! /usr/bin/env python\n",
    "\n",
    "import rospy\n",
    "import time\n",
    "import actionlib\n",
    "from actionlib.msg import TestAction, TestGoal, TestResult, TestFeedback\n",
    "\"\"\"\n",
    "### Test.action ###\n",
    "int32 goal                                                                                                                      \n",
    "---                                                                                                                             \n",
    "int32 result                                                                                                                    \n",
    "---                                                                                                                             \n",
    "int32 feedback # This will give the distance from the current pos to the waypoint\n",
    "\"\"\"\n",
    "\"\"\"\n",
    "class SimpleGoalState:\n",
    "    PENDING = 0\n",
    "    ACTIVE = 1\n",
    "    DONE = 2\n",
    "    WARN = 3\n",
    "    ERROR = 4\n",
    "\n",
    "\"\"\"\n",
    "# We create some constants with the corresponding values from the SimpleGoalState class\n",
    "PENDING = 0\n",
    "ACTIVE = 1\n",
    "DONE = 2\n",
    "WARN = 3\n",
    "ERROR = 4\n",
    "\n",
    "# definition of the feedback callback. This will be called when feedback\n",
    "# is received from the action server\n",
    "# it just prints a message indicating a new message has been received\n",
    "def feedback_callback(feedback):\n",
    "    rospy.loginfo('Feedback Distnace = '+str(feedback.feedback))\n",
    "\n",
    "# initializes the action client node\n",
    "rospy.init_node('move_to_gps_waypoint_aclient_node')\n",
    "\n",
    "action_server_name = '/move_to_gps_waypoint_aserver'\n",
    "client = actionlib.SimpleActionClient(action_server_name, TestAction)\n",
    "\n",
    "# waits until the action server is up and running\n",
    "rospy.loginfo('Waiting for action Server '+action_server_name)\n",
    "client.wait_for_server()\n",
    "rospy.loginfo('Action Server Found...'+action_server_name)\n",
    "\n",
    "# creates a goal to send to the action server\n",
    "goal = TestGoal()\n",
    "goal.goal = 1 # indicates, move to waypoint number 1\n",
    "\n",
    "client.send_goal(goal, feedback_cb=feedback_callback)\n",
    "\n",
    "\n",
    "# You can access the SimpleAction Variable \"simple_state,\" that will be 1, if active; and 2 when finished.\n",
    "#It's a variable, so you'd better use a function like get_state.\n",
    "#state = client.simple_state\n",
    "# state_result will give the FINAL STATE. Will be 1 when Active, and 2 if NO ERROR, 3 If Any Warning, and 3 if ERROR\n",
    "state_result = client.get_state()\n",
    "\n",
    "rate = rospy.Rate(10)\n",
    "\n",
    "rospy.loginfo(\"state_result: \"+str(state_result))\n",
    "\n",
    "while state_result < DONE:\n",
    "    #rospy.loginfo(\"Doing Stuff while waiting for the Server to give a result....Nothing for the moment\")\n",
    "    rate.sleep()\n",
    "    state_result = client.get_state()\n",
    "    #rospy.loginfo(\"state_result: \"+str(state_result))\n",
    "    \n",
    "rospy.loginfo(\"[Result] State: \"+str(state_result))\n",
    "if state_result == ERROR:\n",
    "    rospy.logerr(\"Something went wrong in the Server Side\")\n",
    "if state_result == WARN:\n",
    "    rospy.logwarn(\"There is a warning in the Server Side\")\n"
   ]
  },
  {
   "cell_type": "markdown",
   "metadata": {
    "collapsed": true
   },
   "source": [
    "<p style=\"background:green;color:white;\">END Solution Exercise U2.1</p>"
   ]
  },
  {
   "cell_type": "markdown",
   "metadata": {},
   "source": [
    "## Congratulations! You now know how to navigate with GPS Data."
   ]
  },
  {
   "cell_type": "markdown",
   "metadata": {},
   "source": [
    "In the next unit, you will learn to implement an obstacle detection system using the laser data, and also what the DeadMansSwitch system is in cars."
   ]
  }
 ],
 "metadata": {
  "anaconda-cloud": {},
  "kernelspec": {
   "display_name": "Python 3",
   "language": "python",
   "name": "python3"
  },
  "language_info": {
   "codemirror_mode": {
    "name": "ipython",
    "version": 3
   },
   "file_extension": ".py",
   "mimetype": "text/x-python",
   "name": "python",
   "nbconvert_exporter": "python",
   "pygments_lexer": "ipython3",
   "version": "3.6.1"
  }
 },
 "nbformat": 4,
 "nbformat_minor": 1
}
