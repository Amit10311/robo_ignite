{
 "cells": [
  {
   "cell_type": "markdown",
   "metadata": {},
   "source": [
    "# Chapter 3: Detect Obstacles and Security"
   ]
  },
  {
   "cell_type": "markdown",
   "metadata": {},
   "source": [
    "The most  important element in autonomous vehicles is **security**.<br>\n",
    "To have a safer car, you need, at minimum, two elements:<br>\n",
    "<ul>\n",
    "<li>**Obstacle Detection**</li>\n",
    "<li>**System Failure Measures**</li>\n",
    "</ul>"
   ]
  },
  {
   "cell_type": "markdown",
   "metadata": {},
   "source": [
    "## Control the car movement Data Flow"
   ]
  },
  {
   "cell_type": "markdown",
   "metadata": {},
   "source": [
    "For security reasons, the car shouldn't be moved directly through a typical **/cmd_vel** topic, as you have been doing up until now.\n",
    "\n",
    "It needs two barriers:\n",
    "<ol>\n",
    "<li>**DeadMansSwitch**: When control communication is lost, autonomous vehicles have to move to a safe state. In this simple example, the car must stop in case the movement commands aren't published at a rate higher than 5Hz.</li>\n",
    "<li>**ObstacleDetection**: When an obstacle is detected, the vehicle must stop until the obstacle is removed. In this simple example, obstacles are detected.</li>\n",
    "</ol>"
   ]
  },
  {
   "cell_type": "markdown",
   "metadata": {
    "collapsed": true
   },
   "source": [
    "This is a diagram of a possible data flow:"
   ]
  },
  {
   "cell_type": "markdown",
   "metadata": {},
   "source": [
    "![Gazebo Simulation Sensor Image](img/new_catvehicle_graph.png)"
   ]
  },
  {
   "cell_type": "markdown",
   "metadata": {},
   "source": [
    "This flow can be divided into three parts:<br>\n",
    "\n",
    "* **External Control Input**: This would be the **/teleoptwist_keyboard** that publishes into the **/cmd_vel** topic. This could be a ROS compatible joystick, keyboard, or something similar. Then, the **/cmdvel_test** node will just redirect the **/cmd_vel** topic to the vehicle's internal **/catvehicle/cmd_vel** topic.<br>\n",
    "This would be the part implemented inside any action or service that is in charge of moving the vehicle.\n",
    "\n",
    "\n",
    "* **ObstacleDetection Flow**: The main piece is the **/obstacleStoppercatvehicle** node, which reads the input from the **/catvehicle/cmd_vel** topic and redirects it to the **/catvehicle/cmd_vel_safe** topic, based on the **/distanceEstimator/dist** values. If the distance to the nearest object is less than the minimum accepted, it replaces the **/catvehicle/cmd_vel** values with null values. Otherwise, it redirects **/catvehicle/cmd_vel** without changes to **/catvehicle/cmd_vel_safe**. Here is where the **ObstacleDetection** is implemented.<br>\n",
    "\n",
    "\n",
    "* **Speed commands to Controller commands**: This part converts the **/catvehicle/cmd_vel_safe** values into Controller Commands that indicate the torque for the rear wheels and the steering actuators. It's here that the **DeadMansSwitch** is implemented. If the **/catvehicle/cmd_vel_safe** is not published at a rate higher than 5Hz, it will replace the values with null values, until the next command is published. "
   ]
  },
  {
   "cell_type": "markdown",
   "metadata": {},
   "source": [
    "### System Failure Measures and DeadMansSwitch"
   ]
  },
  {
   "cell_type": "markdown",
   "metadata": {},
   "source": [
    "In a car there are hundreds of systems dedicated to this topic. But in this course, you will learn the most basic one of them all: **The DeadMansSwitch**.\n",
    "\n",
    "This system will essentially stop the car if the publication rate is lower than, in this case, 5Hz.\n",
    "You are going to learn how to implement such a system."
   ]
  },
  {
   "cell_type": "markdown",
   "metadata": {},
   "source": [
    "### Obstacle Detection"
   ]
  },
  {
   "cell_type": "markdown",
   "metadata": {},
   "source": [
    "**GPS** is only useful for localization.<br>\n",
    "For fast-appearing obstacles, **LaserData** is the best way to go.\n",
    "For more complex recognition, **Image** is the system used.<br>\n",
    "With all these sensors, obstacle detection in its many different forms is performed. In this unit, you will work with the most basic of them all: **LaserData**."
   ]
  },
  {
   "cell_type": "markdown",
   "metadata": {},
   "source": [
    "<p style=\"background:#EE9023;color:white;\">Exercise U3.1</p>"
   ]
  },
  {
   "cell_type": "markdown",
   "metadata": {},
   "source": [
    "Create a Python script that contains a publisher that sends commands to the joints of the car and wheels. You can call it **<i>cmdvel2gazebo.py</i>** for future reference.\n",
    "\n",
    "But it has to **ONLY** send them if it receives the Twist commands at a certain rate.<br>\n",
    "You will have to implement a **DeadMansSwitch**. You can have different security policies: maybe you can stop the car only until it receives a new message. Or maybe you want a more rigid system that blocks the car for 10 seconds and then tries again. Or it can even block and not work again until an enabling topic is written."
   ]
  },
  {
   "cell_type": "markdown",
   "metadata": {},
   "source": [
    "Data you need:<br>\n",
    "<ul>\n",
    "<li>The topic where the Twist commands come from is **/catvehicle/cmd_vel_safe**</li>\n",
    "<li>\n",
    "The Joint topics to move the car are:<br>\n",
    "**/catvehicle/front_left_steering_position_controller/command**<br>\n",
    "**/catvehicle/front_right_steering_position_controller/command**<br>\n",
    "**/catvehicle/joint1_velocity_controller/command**<br>\n",
    "**/catvehicle/joint2_velocity_controller/command**<br>\n",
    "</li>\n",
    "<li>The angle and speed of the wheels is set by you, based on the Twist messages received. But it would be great if you apply what is known as the **Ackerman Steering**.\n",
    "If you are unsure of how it works, we highly recommend that you have a look at this video, courtesy of **Jonathan Sprinkle**: https://www.youtube.com/watch?v=i6uBwudwA5o\n",
    "</li>\n",
    "</ul>"
   ]
  },
  {
   "cell_type": "markdown",
   "metadata": {},
   "source": [
    "<p style=\"background:#EE9023;color:white;\">END Exercise U3.1</p>"
   ]
  },
  {
   "cell_type": "markdown",
   "metadata": {},
   "source": [
    "<p style=\"background:green;color:white;\">Solution Exercise U3.1</p>"
   ]
  },
  {
   "cell_type": "markdown",
   "metadata": {},
   "source": [
    "Please try to do it by yourself, unless you get stuck or need some inspiration. You will learn much more if you fight for each exercise."
   ]
  },
  {
   "cell_type": "markdown",
   "metadata": {},
   "source": [
    "<img src=\"img/robotignite_logo_text.png\"/>"
   ]
  },
  {
   "cell_type": "markdown",
   "metadata": {},
   "source": [
    "This is an example of how it could be done, courtesy of Jonathan Sprinkle from Arizona Board of Regents:"
   ]
  },
  {
   "cell_type": "code",
   "execution_count": 1,
   "metadata": {},
   "outputs": [
    {
     "ename": "ModuleNotFoundError",
     "evalue": "No module named 'rospy'",
     "output_type": "error",
     "traceback": [
      "\u001b[1;31m---------------------------------------------------------------------------\u001b[0m",
      "\u001b[1;31mModuleNotFoundError\u001b[0m                       Traceback (most recent call last)",
      "\u001b[1;32m<ipython-input-1-1887208e6834>\u001b[0m in \u001b[0;36m<module>\u001b[1;34m()\u001b[0m\n\u001b[0;32m     29\u001b[0m \u001b[1;31m# so that the output in Gazebo will match the desired input velocity.\u001b[0m\u001b[1;33m\u001b[0m\u001b[1;33m\u001b[0m\u001b[0m\n\u001b[0;32m     30\u001b[0m \u001b[1;33m\u001b[0m\u001b[0m\n\u001b[1;32m---> 31\u001b[1;33m \u001b[1;32mimport\u001b[0m \u001b[0mrospy\u001b[0m\u001b[1;33m\u001b[0m\u001b[0m\n\u001b[0m\u001b[0;32m     32\u001b[0m \u001b[1;32mfrom\u001b[0m \u001b[0mstd_msgs\u001b[0m\u001b[1;33m.\u001b[0m\u001b[0mmsg\u001b[0m \u001b[1;32mimport\u001b[0m \u001b[0mString\u001b[0m\u001b[1;33m,\u001b[0m \u001b[0mFloat64\u001b[0m\u001b[1;33m\u001b[0m\u001b[0m\n\u001b[0;32m     33\u001b[0m \u001b[1;32mfrom\u001b[0m \u001b[0mgeometry_msgs\u001b[0m\u001b[1;33m.\u001b[0m\u001b[0mmsg\u001b[0m \u001b[1;32mimport\u001b[0m \u001b[0mTwist\u001b[0m\u001b[1;33m,\u001b[0m \u001b[0mPose\u001b[0m\u001b[1;33m\u001b[0m\u001b[0m\n",
      "\u001b[1;31mModuleNotFoundError\u001b[0m: No module named 'rospy'"
     ]
    }
   ],
   "source": [
    "#!/usr/bin/env python\n",
    "# \n",
    "# Author: Jonathan Sprinkle\n",
    "# Copyright (c) 2015-2016 Arizona Board of Regents\n",
    "# All rights reserved.\n",
    "# \n",
    "# Permission is hereby granted, without written agreement and without \n",
    "# license or royalty fees, to use, copy, modify, and distribute this\n",
    "# software and its documentation for any purpose, provided that the \n",
    "# above copyright notice and the following two paragraphs appear in \n",
    "# all copies of this software.\n",
    "# \n",
    "# IN NO EVENT SHALL THE ARIZONA BOARD OF REGENTS BE LIABLE TO ANY PARTY \n",
    "# FOR DIRECT, INDIRECT, SPECIAL, INCIDENTAL, OR CONSEQUENTIAL DAMAGES \n",
    "# ARISING OUT OF THE USE OF THIS SOFTWARE AND ITS DOCUMENTATION, EVEN \n",
    "# IF THE ARIZONA BOARD OF REGENTS HAS BEEN ADVISED OF THE POSSIBILITY OF \n",
    "# SUCH DAMAGE.\n",
    "# \n",
    "# THE ARIZONA BOARD OF REGENTS SPECIFICALLY DISCLAIMS ANY WARRANTIES, \n",
    "# INCLUDING, BUT NOT LIMITED TO, THE IMPLIED WARRANTIES OF MERCHANTABILITY \n",
    "# AND FITNESS FOR A PARTICULAR PURPOSE. THE SOFTWARE PROVIDED HEREUNDER\n",
    "# IS ON AN \"AS IS\" BASIS, AND THE ARIZONA BOARD OF REGENTS HAS NO OBLIGATION\n",
    "# TO PROVIDE MAINTENANCE, SUPPORT, UPDATES, ENHANCEMENTS, OR MODIFICATIONS.\n",
    "\n",
    "# This node converts cmd_vel inputs to the vehicle to the ROS topics that\n",
    "# are exposed in Gazebo for moving the vehicle in simulation. Notably, the\n",
    "# inputs to Gazebo are to joints on the wheel, so there is a multiplier of\n",
    "# 2.8101 that is applied to the joint's velocity whenever we try to move\n",
    "# so that the output in Gazebo will match the desired input velocity.\n",
    "\n",
    "import rospy\n",
    "from std_msgs.msg import String, Float64\n",
    "from geometry_msgs.msg import Twist, Pose\n",
    "import sys, getopt, math\n",
    "\n",
    "class cmdvel2gazebo:\n",
    "\n",
    "    def __init__(self,ns):\n",
    "        self.ns = ns\n",
    "        rospy.init_node('cmdvel2gazebo', anonymous=True)\n",
    "\n",
    "        # the format(ns) looks for the namespace in the ros parameter server, I guess\n",
    "        \n",
    "        rospy.Subscriber('/catvehicle/cmd_vel_safe', Twist, self.callback)\n",
    "        self.pub_steerL = rospy.Publisher('/catvehicle/front_left_steering_position_controller/command', Float64, queue_size=1)\n",
    "        self.pub_steerR = rospy.Publisher('/catvehicle/front_right_steering_position_controller/command', Float64, queue_size=1)\n",
    "        self.pub_rearL = rospy.Publisher('/catvehicle/joint1_velocity_controller/command', Float64, queue_size=1)\n",
    "        self.pub_rearR = rospy.Publisher('/catvehicle/joint2_velocity_controller/command', Float64, queue_size=1)\n",
    "\n",
    "        # initial velocity and tire angle are 0\n",
    "        self.x = 0\n",
    "        self.z = 0\n",
    "\n",
    "        # TODO: get wheelbase and treadwidth from SDF or \n",
    "        #       params database instead of hardcoded here\n",
    "\n",
    "        # car Wheelbase (in m)\n",
    "        # simulator value matches the 'real' car\n",
    "        self.L = 2.62\n",
    "\n",
    "        # car Tread\n",
    "        # this value is from the car's manual\n",
    "        # self.T=1.55\n",
    "\n",
    "        # car Tread\n",
    "        # this value is from the simulator\n",
    "        self.T=1.301\n",
    "\n",
    "        # how many seconds delay for the dead man's switch\n",
    "        # TODO: set timeout from launch file or rosparam\n",
    "        self.timeout=rospy.Duration.from_sec(0.2);\n",
    "        self.lastMsg=rospy.Time.now()\n",
    "\n",
    "        # we want maxsteer to be that of the \"inside\" tire, and since it is 0.6 in gazebo, we\n",
    "        # set our ideal steering angle max to be less than that, based on geometry\n",
    "        self.maxsteerInside=0.6;\n",
    "        # tan(maxsteerInside) = wheelbase/radius --> solve for max radius at this angle\n",
    "        rMax = self.L/math.tan(self.maxsteerInside);\n",
    "        # radius of inside tire is rMax, so radius of the ideal middle tire (rIdeal) is rMax+treadwidth/2\n",
    "        rIdeal = rMax+(self.T/2.0)\n",
    "        # tan(angle) = wheelbase/radius\n",
    "        self.maxsteer=math.atan2(self.L,rIdeal)\n",
    "        # the ideal max steering angle we can command is now set\n",
    "        rospy.logwarn(\"######### MAXIMUM ideal steering angle set to ==\"+str(self.maxsteer))\n",
    "        \n",
    "\n",
    "    def callback(self,data):\n",
    "        # 2.8101 is the gain factor in order to account for mechanical reduction of the tyres\n",
    "        self.x = 2.8101*data.linear.x\n",
    "        # constrain the ideal steering angle such that the ackermann steering is maxed out\n",
    "        self.z = max(-self.maxsteer,min(self.maxsteer,data.angular.z))\n",
    "        self.lastMsg = rospy.Time.now()\n",
    "\n",
    "    def publish(self):\n",
    "        # now that these values are published, we\n",
    "        # reset the velocity, so that if we don't hear new\n",
    "        # ones for the next timestep that we time out; note\n",
    "        # that the tire angle will not change\n",
    "        # NOTE: we only set self.x to be 0 after 200ms of timeout\n",
    "        delta_last_msg_time = rospy.Time.now() - self.lastMsg\n",
    "        msgs_too_old = delta_last_msg_time > self.timeout\n",
    "        if msgs_too_old:\n",
    "            #rospy.loginfo(rospy.get_caller_id() + \" timed out waiting for new input in /cmd_vel, setting velocity to 0.\")\n",
    "            self.x = 0\n",
    "            msgRear = Float64()\n",
    "            msgRear.data = self.x;\n",
    "            self.pub_rearL.publish(msgRear)\n",
    "            self.pub_rearR.publish(msgRear)\n",
    "            return\n",
    "        #rospy.loginfo(\"X = \"+ str(self.x)+ \", Z = \"+ str(self.z))\n",
    "        # The self.z is the delta angle in radians of the imaginary front wheel of ackerman model.\n",
    "        if self.z != 0:\n",
    "            T=self.T\n",
    "            L=self.L\n",
    "            # self.v is the linear *velocity*\n",
    "            r = L/math.fabs(math.tan(self.z))\n",
    "\n",
    "            rL = r-(math.copysign(1,self.z)*(T/2.0));\n",
    "            rR = r+(math.copysign(1,self.z)*(T/2.0))\n",
    "            msgRearR = Float64()\n",
    "            # the right tire will go a little faster when we turn left (positive angle)\n",
    "            # amount is proportional to the radius of the outside/ideal\n",
    "            msgRearR.data = self.x*rR/r;\n",
    "            msgRearL = Float64()\n",
    "            # the left tire will go a little slower when we turn left (positive angle)\n",
    "            # amount is proportional to the radius of the inside/ideal\n",
    "            msgRearL.data = self.x*rL/r;\n",
    "\n",
    "            self.pub_rearL.publish(msgRearL)\n",
    "            self.pub_rearR.publish(msgRearR)\n",
    "\n",
    "            msgSteerL = Float64()\n",
    "            msgSteerR = Float64()\n",
    "            # the left tire's angle is solved directly from geometry\n",
    "            msgSteerL.data = math.atan2(L,rL)*math.copysign(1,self.z)\n",
    "            self.pub_steerL.publish(msgSteerL)\n",
    "    \n",
    "            # the right tire's angle is solved directly from geometry\n",
    "            msgSteerR.data = math.atan2(L,rR)*math.copysign(1,self.z)\n",
    "            self.pub_steerR.publish(msgSteerR)\n",
    "        else:\n",
    "            # if we aren't turning, everything is easy!\n",
    "            msgRear = Float64()\n",
    "            msgRear.data = self.x;\n",
    "            self.pub_rearL.publish(msgRear)\n",
    "            self.pub_rearR.publish(msgRear)\n",
    "\n",
    "            msgSteer = Float64()\n",
    "            msgSteer.data = self.z\n",
    "\n",
    "            self.pub_steerL.publish(msgSteer)\n",
    "            self.pub_steerR.publish(msgSteer)\n",
    "def usage():\n",
    "    print('cmdvel2gazebo -n catvehicle')\n",
    "\n",
    "\n",
    "def main(argv):\n",
    "    # we eventually get the ns (namespace) from the ROS parameter server for this node\n",
    "    ns=''\n",
    "    node = cmdvel2gazebo(ns)\n",
    "    rate = rospy.Rate(10) # run at 10Hz\n",
    "    while not rospy.is_shutdown():\n",
    "        node.publish()\n",
    "        rate.sleep()\n",
    "\n",
    "if __name__ == '__main__':\n",
    "    main(sys.argv[1:])\n",
    "    try:\n",
    "        listener('catvehicle')\n",
    "    except rospy.ROSInterruptException:\n",
    "        pass\n",
    "\n",
    "\n"
   ]
  },
  {
   "cell_type": "markdown",
   "metadata": {},
   "source": [
    "Here are some interesting elements to be noted:<br>\n",
    "<ol>\n",
    "<li>Note that the wheels don't turn symmetrically. See the **\"if self.z != 0:\"** condition operations. Here, a different angle is given for the inner tire than to the outer one. This is to keep the wheels of the car from exerting unnecessary effort, and to make better turns.\n",
    "That's, in a nutshell, the **Ackermann Steering model**.<br> \n",
    "</li>\n",
    "<li>\n",
    "The **DeadMansSwitch** is implemented in this line here:<br>\n",
    "**<i>if rospy.Time.now() - self.lastMsg > self.timeout:</i>**<br>\n",
    "This will make the vehicle stop if it doesn't receive updates in the **cmd_vel_safe** commands within the timeout limit. But note that in this model, it just stops until it receives new messages. This will make the car start to stutter when the frequency lowers beneath 5Hz, but it won't stop.\n",
    "</li>\n",
    "</ol>"
   ]
  },
  {
   "cell_type": "markdown",
   "metadata": {},
   "source": [
    "<p style=\"background:green;color:white;\">END Solution Exercise U3.1</p>"
   ]
  },
  {
   "cell_type": "markdown",
   "metadata": {},
   "source": [
    "<p style=\"background:#EE9023;color:white;\">Exercise U3.2</p>"
   ]
  },
  {
   "cell_type": "markdown",
   "metadata": {},
   "source": [
    "Create the Obstacle Stopper.<br>\n",
    "To create it, follow these steps:\n",
    "* This node will have to read from the **/catvehicle/cmd_vel** topic and publish into the **/catvehicle/cmd_vel_safe** topic. **/catvehicle/cmd_vel_safe** is the topic where your **cmdvel2gazebo.py** script reads the Twist data.\n",
    "* You will have to read from the **/distanceEstimator/angle** and **/distanceEstimator/dist** topics.\n",
    "* Based on the readings of the **/distanceEstimator/** topics, this node will have to filter the Twist messages received in the **/catvehicle/cmd_vel** topic.<br>\n",
    "If the distance is lower than a value, the Twist that you publish in the **/catvehicle/cmd_vel_safe** topic will have to be a STOP message. \n",
    "* As EXTRA features, you can try to lower the speed if an obstacle is nearby, or even use the **/distanceEstimator/angle** topic to change the filtering behaviour."
   ]
  },
  {
   "cell_type": "markdown",
   "metadata": {},
   "source": [
    "<p style=\"background:#EE9023;color:white;\">END Exercise U3.2</p>"
   ]
  },
  {
   "cell_type": "markdown",
   "metadata": {},
   "source": [
    "<p style=\"background:green;color:white;\">Solution Exercise U3.2</p>"
   ]
  },
  {
   "cell_type": "markdown",
   "metadata": {},
   "source": [
    "Please try to do it by yourself, unless you get stuck or need some inspiration. You will learn much more if you fight for each exercise."
   ]
  },
  {
   "cell_type": "markdown",
   "metadata": {},
   "source": [
    "<img src=\"img/robotignite_logo_text.png\"/>"
   ]
  },
  {
   "cell_type": "markdown",
   "metadata": {},
   "source": [
    "This is an example of how it could be done:"
   ]
  },
  {
   "cell_type": "code",
   "execution_count": null,
   "metadata": {
    "collapsed": true
   },
   "outputs": [],
   "source": [
    "#!/usr/bin/env python\n",
    "import rospy\n",
    "from geometry_msgs.msg import Twist\n",
    "from std_msgs.msg import Float32\n",
    "\n",
    "class ObstacleStopper(object):\n",
    "    def __init__(self, minimum_distance=0.0):\n",
    "        self._minimum_distance = minimum_distance\n",
    "        rospy.Subscriber(\"/catvehicle/cmd_vel\", Twist, self.cmdvel_callback)\n",
    "        self.pub_cmdvel_safe = rospy.Publisher('/catvehicle/cmd_vel_safe', Twist, queue_size=0)\n",
    "        \n",
    "    def cmdvel_callback(self,data):\n",
    "        try:\n",
    "            closest_distance = rospy.wait_for_message('/distanceEstimator/dist', Float32, timeout=1).data\n",
    "        except:\n",
    "            rospy.logwarn(\"Time out /distanceEstimator/dist\")\n",
    "            closest_distance = None\n",
    "        \n",
    "        safe_twist = data\n",
    "        if closest_distance:\n",
    "            \n",
    "            object_detected = closest_distance < self._minimum_distance\n",
    "            if object_detected:\n",
    "                safe_twist.linear.x = 0.0\n",
    "            else:\n",
    "                pass\n",
    "\n",
    "        else:\n",
    "            safe_twist.linear.x = 0.0 \n",
    "        \n",
    "        self.pub_cmdvel_safe.publish(safe_twist)\n",
    "        \n",
    "    \n",
    "    \n",
    "    def listener(self):\n",
    "        rospy.spin()\n",
    "\n",
    "if __name__ == '__main__':\n",
    "    rospy.init_node('obstacle_stopper_node', anonymous=True)\n",
    "    os = ObstacleStopper(minimum_distance= 5.0)\n",
    "    os.listener()\n"
   ]
  },
  {
   "cell_type": "markdown",
   "metadata": {},
   "source": [
    "<p style=\"background:green;color:white;\">END Solution Exercise U3.2</p>"
   ]
  },
  {
   "cell_type": "markdown",
   "metadata": {},
   "source": [
    "## Congratulations!! "
   ]
  },
  {
   "cell_type": "markdown",
   "metadata": {},
   "source": [
    "You now know how to navigate safely without bumping into people and other cars. You also have a security feature that will come in handy if any of the systems break."
   ]
  },
  {
   "cell_type": "markdown",
   "metadata": {},
   "source": [
    "The Final Chapter will teach you how all this is done in a real car, using CAN-Bus messages instead of topics to move the car and retrieve the GPS data."
   ]
  }
 ],
 "metadata": {
  "kernelspec": {
   "display_name": "Python 3",
   "language": "python",
   "name": "python3"
  },
  "language_info": {
   "codemirror_mode": {
    "name": "ipython",
    "version": 3
   },
   "file_extension": ".py",
   "mimetype": "text/x-python",
   "name": "python",
   "nbconvert_exporter": "python",
   "pygments_lexer": "ipython3",
   "version": "3.6.1"
  }
 },
 "nbformat": 4,
 "nbformat_minor": 1
}
