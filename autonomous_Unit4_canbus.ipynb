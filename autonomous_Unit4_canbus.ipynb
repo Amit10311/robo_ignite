{
 "cells": [
  {
   "cell_type": "markdown",
   "metadata": {},
   "source": [
    "# Chapter 4: CAN-Bus"
   ]
  },
  {
   "cell_type": "markdown",
   "metadata": {},
   "source": [
    "As you can imagine, cars don't use ROS to publish and subscribe to data from the car.<br>\n",
    "The use of a **bus standard named CAN** is widespread, created by the people at Bosch.<br>\n",
    "CAN-Bus is one of the five protocols used in the on-board diagnostics (OBD)-II vehicle diagnostics standard.<br>\n",
    "Its main property is the ability to multiplex electrical wiring, which comes in handy for avoiding the need for hundreds of different cables to send and receive information from all the electrical devices in a system."
   ]
  },
  {
   "cell_type": "markdown",
   "metadata": {},
   "source": [
    "If you are familiar with CAN-Bus, you can skip to the first exercise, U4.1."
   ]
  },
  {
   "cell_type": "markdown",
   "metadata": {},
   "source": [
    "## What Do CAN-Bus messages look like?"
   ]
  },
  {
   "cell_type": "markdown",
   "metadata": {},
   "source": [
    "There is a huge variety of CAN-Bus flavors, although the core is more or less the same.<br>\n",
    "Here we will concentrate on the essentials to understand what is going on and be able to send messages through CAN-Bus."
   ]
  },
  {
   "cell_type": "markdown",
   "metadata": {},
   "source": [
    "So, a CAN-Bus message has three main parts:\n",
    "\n",
    "* Identifier <span style=\"color: green\">(green)</span>: It's 11 bits long.\n",
    "* Data length code (DLC) <span style=\"color: yellow\">(yellow)</span>: It's 4 bits long.\n",
    "* Data field <span style=\"color: red\">(red)</span>: It's 0–64 bits (0-8 bytes) long."
   ]
  },
  {
   "cell_type": "markdown",
   "metadata": {},
   "source": [
    "<img src=\"img/CAN-Bus_message.png\"/>"
   ]
  },
  {
   "cell_type": "markdown",
   "metadata": {},
   "source": [
    "It has more elements, but as fas as we are concerned, these are the essential parts.<br>\n",
    "So, each sensor will be watching for its own identifier, which is the only information that matters to it.<br>\n",
    "It will also publish the data this sensor generates with the same identifier.<br>\n",
    "There are basicaly two \"cables.\" They are normally referred to as **tx** and **rx**. You can think of them as tx being the CAN-Bus output, and rx being the CAN-Bus input; although, as we said earlier, there is much more to it than that."
   ]
  },
  {
   "cell_type": "markdown",
   "metadata": {},
   "source": [
    "## How do I use CAN-Bus in the simulation?"
   ]
  },
  {
   "cell_type": "markdown",
   "metadata": {},
   "source": [
    "The simulation you are using is designed so that it works as a real car would.<br>\n",
    "This means that all of the information sent and received from the physical car comes from the CAN-Bus.<br>\n",
    "Let's have a look at the node configuration:"
   ]
  },
  {
   "cell_type": "markdown",
   "metadata": {
    "collapsed": true
   },
   "source": [
    "<table style=\"float:left;background: #407EAF\">\n",
    "<tr>\n",
    "<th>\n",
    "<p class=\"transparent\">Execute in Webshell #1</p>\n",
    "</th>\n",
    "</tr>\n",
    "</table>"
   ]
  },
  {
   "cell_type": "code",
   "execution_count": null,
   "metadata": {
    "collapsed": true
   },
   "outputs": [],
   "source": [
    "rqt_graph"
   ]
  },
  {
   "cell_type": "markdown",
   "metadata": {},
   "source": [
    "<table style=\"float:left;\">\n",
    "<tr>\n",
    "<th>\n",
    "Go to the graphical interface window (hit the icon with a screen in the IDE) \n",
    "<br><br>\n",
    "<div class='white_bg'><img src=\"img/font-awesome_desktop.png\"/><br></div>\n",
    "</th>\n",
    "</tr>\n",
    "</table>"
   ]
  },
  {
   "cell_type": "markdown",
   "metadata": {},
   "source": [
    "You will get something similar to the following:"
   ]
  },
  {
   "cell_type": "markdown",
   "metadata": {},
   "source": [
    "[Autonomous Vehicle ROS Node and Topics ALL](extra_files/autonomous_U4_rosgraph_original.png)<br>"
   ]
  },
  {
   "cell_type": "markdown",
   "metadata": {},
   "source": [
    "This graph is quite complex. That's because you are visualizing the entire simulated system.<br>\n",
    "As far as you are concerned, you only need to have the following structure in mind:"
   ]
  },
  {
   "cell_type": "markdown",
   "metadata": {},
   "source": [
    "[Autonomous Vehicle ROS Node and Topics Real](extra_files/autonomous_U4_rosgraph_simple_real.png)<br>"
   ]
  },
  {
   "cell_type": "markdown",
   "metadata": {},
   "source": [
    "This is how it would be if you used a real car.<br>\n",
    "You would only have to publish into the **/can_bus_dbw/can_tx** to make the car move, the lights activate, and so on. Anytime you wanted to send a message, it would have to be published into this topic. Then, a node would just read from that topic and connect to the CAN-Bus driver device through a USB.\n",
    "It is the same process to read data. You would receive it from **/can_bus_dbw/can_rx**.\n",
    "\n",
    "But, as you can see, there is already a node reading from those topics. It's the **/vehicle/dbw_node**. This node is the one in charge of reading the CAN-Bus encoded style topic **/can_bus_dbw/can_rx** and publishing into more user-friendly topics. These user-friendly topics are, for instance, **/vehicle/steering**, **/vehicle/gps/fix**, and **/vehicle/gps/vel**.\n",
    "\n",
    "The same thing happens when sending information. It reads from standard ROS topics, like **/vehicle/brake_cmd** or **/vehicle/throttle_cmd**, and encodes it into the CAN-Bus format to publish in **/can_bus_dbw/can_tx**."
   ]
  },
  {
   "cell_type": "markdown",
   "metadata": {},
   "source": [
    "But, wait! We are not using the real car!\n",
    "\n",
    "But, as you can see in the following graph, this is how your program will publish into topics that the **/vehicle/dbw_node** will read. And then, publishing into the CAN-Bus topics will be EXACTLY the same as with a real car."
   ]
  },
  {
   "cell_type": "markdown",
   "metadata": {},
   "source": [
    "[Autonomous Vehicle ROS Node and Topics Simulation](extra_files/autonomous_U4_rosgraph_simple.png)<br>"
   ]
  },
  {
   "cell_type": "markdown",
   "metadata": {},
   "source": [
    "The only difference is that instead of using a real CAN-Bus driver device, the system interfaces with a simulated one. But because you are using the same exact CAN-Bus topics (**/can_bus_dbw/can_tx and /can_bus_dbw/can_rx**), there is no difference between working with a REAL or SIMULATED car for you."
   ]
  },
  {
   "cell_type": "markdown",
   "metadata": {},
   "source": [
    "### That's the power of ROS."
   ]
  },
  {
   "cell_type": "markdown",
   "metadata": {},
   "source": [
    "<p style=\"background:#EE9023;color:white;\">Exercise U4.1</p>"
   ]
  },
  {
   "cell_type": "markdown",
   "metadata": {},
   "source": [
    "Create a ROS node that moves the car by publishing into the appropriate topics that the dbw_node is subscribed to.<br>\n",
    "Then, the dbw_node will publish all that information into the Can-Bus output topic **/can_bus_dbw/can_tx**.<br>\n",
    "Which topics are they? Well, they are the topics that register real information on how a car is controlled, and not through something artificial, like a Twist message.<br><br>\n",
    "These topics are:<br><br>\n",
    "**/vehicle/brake_cmd, BrakeCmd from dbw_mkz_msgs package**<br>\n",
    "**/vehicle/throttle_cmd, ThrottleCmd from dbw_mkz_msgs package**<br>\n",
    "**/vehicle/steering_cmd, SteeringCmd from dbw_mkz_msgs package**<br>\n",
    "**/vehicle/gear_cmd, GearCmd from dbw_mkz_msgs package**<br>\n",
    "<br>\n",
    "As you can see, you move the car by steering the wheel, and using the brake, throttle, pedals, and gear selection. Just like a normal car.\n",
    "\n",
    "There are some details that you have to keep in mind to make this work:\n",
    "<ul>\n",
    "<li>Before publishing into the aforementioned topics, dbw_node needs to receive a message in the <b>/vehicle/enable</b> topic. This avoids accidental publications.</li>\n",
    "<li>Make sure that the <b>/vehicle/enable</b> has been published. Because ROS topics do not always work, especially in the first calls, you will have to make sure the topic was published before doing anything else.</li>\n",
    "<li>\n",
    "The values in the topic messages are critical in some cases because they might modify the value sent, or not send it at all.<br>\n",
    "These cases are:<br>\n",
    "<b>brake_command_object.pedal_cmd_type = 1</b>, Recommended CMD_PEDAL=1 to be able to send unitless values. See BrakeCmd.msg for more options.<br>\n",
    "<b>throttle_command_object.pedal_cmd_type = 1</b>, Recommended CMD_PEDAL=1 to be able to send unitless values. See ThrottleCmd.msg for more options.<br>\n",
    "</li>\n",
    "<li>\n",
    "The Gear value is also quite arbitrary. Therefore, have a look at the Gear.msg to see the options available. For example, setting the Direct Gear (Forwards) is DRIVE=4, integer value 4.\n",
    "</li>\n",
    "</ul>\n",
    "\n"
   ]
  },
  {
   "cell_type": "markdown",
   "metadata": {},
   "source": [
    "<p style=\"background:#EE9023;color:white;\">END Exercise U4.1</p>"
   ]
  },
  {
   "cell_type": "markdown",
   "metadata": {},
   "source": [
    "<p style=\"background:#AE0202;color:white;\">Expected Result for Exercise U4.1</p>"
   ]
  },
  {
   "cell_type": "markdown",
   "metadata": {},
   "source": [
    "You should be able to move the car in any direction.<br>\n",
    "Check to make sure that when you press the brake, it goes slower; and when it exceeds certain values, the car stops.<br>\n",
    "Make sure that you can reverse the car, or that if you don't put D or R, the car doesn't move."
   ]
  },
  {
   "cell_type": "markdown",
   "metadata": {},
   "source": [
    "<p style=\"background:green;color:white;\">Solution Exercise U4.1</p>"
   ]
  },
  {
   "cell_type": "markdown",
   "metadata": {},
   "source": [
    "Please try to do it by yourself, unless you get stuck or need some inspiration. You will learn much more if you fight for each exercise."
   ]
  },
  {
   "cell_type": "markdown",
   "metadata": {},
   "source": [
    "<img src=\"img/robotignite_logo_text.png\"/>"
   ]
  },
  {
   "cell_type": "code",
   "execution_count": null,
   "metadata": {
    "collapsed": true
   },
   "outputs": [],
   "source": [
    "#!/usr/bin/env python\n",
    "# license removed for brevity\n",
    "import rospy\n",
    "import random\n",
    "from dbw_mkz_msgs.msg import BrakeCmd\n",
    "from dbw_mkz_msgs.msg import ThrottleCmd\n",
    "from dbw_mkz_msgs.msg import SteeringCmd\n",
    "from dbw_mkz_msgs.msg import GearCmd, Gear\n",
    "from dataspeed_can_msgs.msg import CanMessage\n",
    "from std_msgs.msg import Empty\n",
    "\n",
    "class CarControl(object):\n",
    "    def __init__(self):\n",
    "        self.pub_brake_cmd = rospy.Publisher('/vehicle/brake_cmd', BrakeCmd, queue_size=1)\n",
    "        self.pub_throttle_cmd = rospy.Publisher('/vehicle/throttle_cmd', ThrottleCmd, queue_size=1)\n",
    "        self.pub_steering_cmd = rospy.Publisher('/vehicle/steering_cmd', SteeringCmd, queue_size=1)\n",
    "        self.pub_gear_cmd = rospy.Publisher('/vehicle/gear_cmd', GearCmd, queue_size=1)\n",
    "        \n",
    "        # We create this pub sub to check that the enable is sent, otherwise no publishing will be taken by dbw\n",
    "        self._enable_dbw = False\n",
    "        self.pub_enable = rospy.Publisher('/vehicle/enable', Empty, queue_size=1)\n",
    "        sub = rospy.Subscriber(\"/vehicle/enable\", Empty, self.enable_callback)\n",
    "        self.enable_dbw_inputs_loop()\n",
    "        \n",
    "        # We wait for the Gazebo system to be available before publishing anything\n",
    "        rospy.wait_for_service('/gazebo/set_physics_properties')\n",
    "        rospy.loginfo(\"Gazebo Ready...\")\n",
    "\n",
    "    \n",
    "    def enable_callback(self,data):\n",
    "        self._enable_dbw = True\n",
    "\n",
    "    def enable_dbw_inputs_loop(self):\n",
    "        \"\"\"\n",
    "        We publish enable to enable dbw to allow commands from outside\n",
    "        rostopic pub /vehicle/enable std_msgs/Empty \"{}\"\n",
    "        \"\"\"\n",
    "        rate = rospy.Rate(1)\n",
    "        while not self._enable_dbw:\n",
    "            rospy.loginfo(\"Try to enable /vehicle/enable, STATUS =  \"+str(self._enable_dbw))\n",
    "            self.enable_dbw_inputs()\n",
    "            rate.sleep()\n",
    "        rospy.loginfo(\"dbw inputs ENABLED...\")\n",
    "\n",
    "    def enable_dbw_inputs(self):\n",
    "        \n",
    "        empty_message = Empty()\n",
    "        rospy.loginfo(\"Publish Enable Command in /vehicle/enable \")\n",
    "        self.pub_enable.publish(empty_message)\n",
    "\n",
    "    def cmd_publisher(self):\n",
    "        \"\"\"\n",
    "        This makes the simulated function of all the basic controles of a car being used:\n",
    "        brake, throttle, gear and steering_wheel.\n",
    "        :return:\n",
    "        \"\"\"\n",
    "        \n",
    "        rate = rospy.Rate(5)\n",
    "        speed = 1.0\n",
    "        while not rospy.is_shutdown():\n",
    "            rospy.loginfo(\"########### Starting CarControl Cmd Publish Round... ###########\")\n",
    "            self.throttle_cmd_publisher(throttle_value=speed)\n",
    "            self.brake_cmd_publisher(brake_value=0.0)\n",
    "            self.steering_cmd_publisher(angle_rad=0.0)\n",
    "            self.gear_cmd_publisher(gear_value=4)\n",
    "            rate.sleep()\n",
    "            \n",
    "    \n",
    "    def throttle_cmd_publisher(self, throttle_value=0.0):\n",
    "        \"\"\"\n",
    "        ID = 98 in BUSCAN\n",
    "        # Throttle pedal\n",
    "        # Options defined below\n",
    "        float32 pedal_cmd\n",
    "        uint8 pedal_cmd_type\n",
    "        \n",
    "        # Enable\n",
    "        bool enable\n",
    "        \n",
    "        # Ignore driver overrides\n",
    "        bool ignore\n",
    "        \n",
    "        # Watchdog counter (optional)\n",
    "        uint8 count\n",
    "        \n",
    "        uint8 CMD_NONE=0\n",
    "        uint8 CMD_PEDAL=1   # Unitless, range 0.15 to 0.80\n",
    "        uint8 CMD_PERCENT=2 # Percent of maximum throttle, range 0 to 1\n",
    "        \"\"\"\n",
    "        #msg_str = \"Publishing Throttle message in /vehicle/throttle_cmd %s\" % rospy.get_time()\n",
    "        #rospy.loginfo(msg_str)\n",
    "        throttle_command_object = ThrottleCmd()\n",
    "        #throttle_command_object.pedal_cmd = random.uniform(0.15, 0.8)\n",
    "        throttle_command_object.pedal_cmd = throttle_value\n",
    "        throttle_command_object.pedal_cmd_type = 1\n",
    "        throttle_command_object.enable = False\n",
    "        throttle_command_object.ignore = False\n",
    "        throttle_command_object.count = 0\n",
    "        rospy.loginfo(\"Throttle Publish ::>\"+str(throttle_command_object.pedal_cmd))\n",
    "        self.pub_throttle_cmd.publish(throttle_command_object)\n",
    "    \n",
    "    def brake_cmd_publisher(self, brake_value=0.0):\n",
    "        \"\"\"\n",
    "        ID = 96 in BusCan\n",
    "        # Brake pedal\n",
    "        # Options defined below\n",
    "        float32 pedal_cmd\n",
    "        uint8 pedal_cmd_type\n",
    "        \n",
    "        # Brake On Off (BOO), brake lights\n",
    "        bool boo_cmd\n",
    "        \n",
    "        # Enable\n",
    "        bool enable\n",
    "        \n",
    "        # Ignore driver overrides\n",
    "        bool ignore\n",
    "        \n",
    "        # Watchdog counter (optional)\n",
    "        uint8 count\n",
    "        \n",
    "        uint8 CMD_NONE=0\n",
    "        uint8 CMD_PEDAL=1   # Unitless, range 0.15 to 0.50\n",
    "        uint8 CMD_PERCENT=2 # Percent of maximum torque, range 0 to 1\n",
    "        uint8 CMD_TORQUE=3  # Nm, range 0 to 3250\n",
    "        \n",
    "        float32 TORQUE_BOO=520  # Nm, brake lights threshold\n",
    "        float32 TORQUE_MAX=3412 # Nm, maximum torque\n",
    "        \"\"\"\n",
    "        #msg_str = \"Publishing Brake message in /vehicle/brake_cmd %s\" % rospy.get_time()\n",
    "        #rospy.loginfo(msg_str)\n",
    "        brake_command_object = BrakeCmd()\n",
    "        #brake_command_object.pedal_cmd = random.uniform(0.15, 0.5)\n",
    "        brake_command_object.pedal_cmd = brake_value\n",
    "        brake_command_object.pedal_cmd_type = 1\n",
    "        brake_command_object.boo_cmd = False\n",
    "        brake_command_object.enable = False\n",
    "        brake_command_object.ignore = False\n",
    "        brake_command_object.count = 0\n",
    "        rospy.loginfo(\"Brake Publish ::>\"+str(brake_command_object.pedal_cmd))\n",
    "        self.pub_brake_cmd.publish(brake_command_object)\n",
    "    \n",
    "    def steering_cmd_publisher(self, angle_rad=0.0):\n",
    "        \"\"\"\n",
    "        ID = 100 in BusCan\n",
    "        # Steering Wheel\n",
    "        float32 steering_wheel_angle_cmd        # rad, range -8.2 to 8.2\n",
    "        float32 steering_wheel_angle_velocity   # rad/s, range 0 to 8.7, 0 = maximum\n",
    "        \n",
    "        # Enable\n",
    "        bool enable\n",
    "        \n",
    "        # Ignore driver overrides\n",
    "        bool ignore\n",
    "        \n",
    "        # Disable the driver override audible warning\n",
    "        bool quiet\n",
    "        \n",
    "        # Watchdog counter (optional)\n",
    "        uint8 count\n",
    "        \"\"\"\n",
    "        #msg_str = \"Publishing Steering message in /vehicle/steering_cmd %s\" % rospy.get_time()\n",
    "        #rospy.loginfo(msg_str)\n",
    "        steering_command_object = SteeringCmd()\n",
    "        #steering_command_object.steering_wheel_angle_cmd = random.uniform(-8.2, 8.2)\n",
    "        steering_command_object.steering_wheel_angle_cmd = angle_rad\n",
    "        steering_command_object.steering_wheel_angle_velocity = random.uniform(0.0, 8.7)\n",
    "        #steering_command_object.steering_wheel_angle_velocity = 0.8\n",
    "        \n",
    "        steering_command_object.enable = False\n",
    "        steering_command_object.ignore = False\n",
    "        steering_command_object.quiet = False\n",
    "        steering_command_object.count = 0\n",
    "        rospy.loginfo(\"Steering Publish ::>\"+str(steering_command_object.steering_wheel_angle_cmd))\n",
    "        self.pub_steering_cmd.publish(steering_command_object)\n",
    "        \n",
    "    def gear_cmd_publisher(self,gear_value=0):\n",
    "        \"\"\"\n",
    "        ID = 102 in BusCan\n",
    "        # Gear command enumeration\n",
    "        Gear cmd\n",
    "        >>>\n",
    "        \n",
    "        uint8 gear\n",
    "        \n",
    "        uint8 NONE=0\n",
    "        uint8 PARK=1\n",
    "        uint8 REVERSE=2\n",
    "        uint8 NEUTRAL=3\n",
    "        uint8 DRIVE=4\n",
    "        uint8 LOW=5\n",
    "        >>>\n",
    "        \n",
    "        gear is an uint8, but in the MsgGearCmd in dispatch.h only gets 3 Bits, which make up to\n",
    "        8 (0-7) possible gears, which could be: 1,2,3,4,5,R,P,N.\n",
    "        But in th emessage deffinition the only options given are None, Park, Reverse, Neutral, Drive and Low.\n",
    "        so 6 options (0-5)\n",
    "        \"\"\"\n",
    "        #msg_str = \"Publishing Gear message in /vehicle/gear_cmd %s\" % rospy.get_time()\n",
    "        #rospy.loginfo(msg_str)\n",
    "        gear_command_object = GearCmd()\n",
    "        gear_object = Gear()\n",
    "        #gear_object.gear = random.randint(0, 5)\n",
    "        gear_object.gear = gear_value\n",
    "        gear_command_object.cmd = gear_object\n",
    "        rospy.loginfo(\"Gear Publish ::>\"+str(gear_object.gear))\n",
    "        self.pub_gear_cmd.publish(gear_command_object)\n",
    "    \n",
    "\n",
    "\n",
    "\n",
    "if __name__ == '__main__':\n",
    "    rospy.init_node('sterring_throttle_brake_gear_publisher_node', anonymous=True)\n",
    "    car_control_object = CarControl()\n",
    "    try:\n",
    "        car_control_object.cmd_publisher()\n",
    "    except rospy.ROSInterruptException:\n",
    "        print \"Exception occured\"\n",
    "        pass"
   ]
  },
  {
   "cell_type": "markdown",
   "metadata": {},
   "source": [
    "<p style=\"background:green;color:white;\">Solution Exercise U4.1</p>"
   ]
  },
  {
   "cell_type": "markdown",
   "metadata": {},
   "source": [
    "Okay, great! Now you can move the SIMULATED car or the REAL car with the node you've just created."
   ]
  },
  {
   "cell_type": "markdown",
   "metadata": {},
   "source": [
    "## Congratulations!!"
   ]
  },
  {
   "cell_type": "markdown",
   "metadata": {},
   "source": [
    "If you are interested in learning more about CAN-Bus, in ROS or in general, stay a bit longer.<br>\n",
    "Just bear in mind that you <b>will have to know C++ to be able to understand some parts.<b>"
   ]
  },
  {
   "cell_type": "markdown",
   "metadata": {},
   "source": [
    "<p style=\"background:#EE9023;color:white;\">Exercise EXTRA U4.2</p>"
   ]
  },
  {
   "cell_type": "markdown",
   "metadata": {},
   "source": [
    "The objective of this exercise is to show you the basics of how the CAN-Bus encoding works, and how this particular system does it.<br>\n",
    "The exercise is the following:<br>\n",
    "Write a node that is subscribed to both CAN topics and decodes the CAN encoded data.<br>\n",
    "Things to keep in mind:<br>\n",
    "<ul>\n",
    "<li>First, just subscribe to the topics <b>/can_bus_dbw/can_rx</b> and <b>/can_bus_dbw/can_tx</b>. See the data that is sent? Try to identify the CAN-Bus structure you learned in the intro of this unit. Can you get the ID? The data? The data length code?</li>\n",
    "<li>\n",
    "Indentify which ID corresponds to which kind of information. Is it throttle information? Brake?<br>\n",
    "To know this, you will have to access the <b>dbw_mkz_can package</b>, the dispatch.h file inside the included folder.<br>\n",
    "Here you have the extract of the data you need. Keep in mind that the numbers are in HEX format, so change them to DECIMAL format first.\n",
    "</li>\n",
    "<li style=\"color:red\">Please be aware that the brake, throttle, steering. and gear information are published in the /can_bus_dbw/can_tx (output); while the GPS data comes from the /can_bus_dbw/can_rx (input)</li>\n",
    "</ul>"
   ]
  },
  {
   "cell_type": "raw",
   "metadata": {},
   "source": [
    "enum {\n",
    "  ID_BRAKE_CMD            = 0x060,\n",
    "  ID_BRAKE_REPORT         = 0x061,\n",
    "  ID_THROTTLE_CMD         = 0x062,\n",
    "  ID_THROTTLE_REPORT      = 0x063,\n",
    "  ID_STEERING_CMD         = 0x064,\n",
    "  ID_STEERING_REPORT      = 0x065,\n",
    "  ID_GEAR_CMD             = 0x066,\n",
    "  ID_GEAR_REPORT          = 0x067,\n",
    "  ID_MISC_CMD             = 0x068,\n",
    "  ID_MISC_REPORT          = 0x069,\n",
    "  ID_REPORT_WHEEL_SPEED   = 0x06A,\n",
    "  ID_REPORT_ACCEL         = 0x06B,\n",
    "  ID_REPORT_GYRO          = 0x06C,\n",
    "  ID_REPORT_GPS1          = 0x06D,\n",
    "  ID_REPORT_GPS2          = 0x06E,\n",
    "  ID_REPORT_GPS3          = 0x06F,\n",
    "  ID_REPORT_SUSPENSION    = 0x070,\n",
    "  ID_REPORT_TIRE_PRESSURE = 0x071,\n",
    "  ID_REPORT_FUEL_LEVEL    = 0x072,\n",
    "  ID_REPORT_SURROUND      = 0x073,\n",
    "  ID_REPORT_BRAKE_INFO    = 0x074,\n",
    "  ID_REPORT_THROTTLE_INFO = 0x075,\n",
    "  ID_VERSION              = 0x07F,\n",
    "};"
   ]
  },
  {
   "cell_type": "markdown",
   "metadata": {},
   "source": [
    "<ul>\n",
    "<li>Now, for the hardcore people, decode the data from each transmission.<br>\n",
    "For this, you will have to dig deep into the code.<br>\n",
    "You need to know how each topic message is processed and converted to CAN.<br>\n",
    "This way, you will be able to reconvert the CAN data to standard data.<br>\n",
    "Here you have a snippet on how the GearCmd is processed and published in the can_tx, and also how a more complex one publishes the SteeringCmd. If you want to see all the messages, you will have to take a look at the <b>DbwNode.cpp</b> in the <b>dbw_mkz_can</b> package.\n",
    "Try these two first and then dig into the throttle and brake.\n",
    "</li>\n",
    "<li>All the cpp and h files have been copied to a folder for your easy access. This folder is in the package <b>dbw_mkz_can</b> and it's called <b>extra_docs</b>. Here you can find <b>DbwNode.cpp</b>, <b>DbwNode.h</b>, and <b>dispatch.h</b>.</li>\n",
    "</ul>"
   ]
  },
  {
   "cell_type": "raw",
   "metadata": {},
   "source": [
    "void DbwNode::recvGearCmd(const dbw_mkz_msgs::GearCmd::ConstPtr& msg)\n",
    "{\n",
    "  dataspeed_can_msgs::CanMessage out;\n",
    "  out.id = ID_GEAR_CMD;\n",
    "  out.extended = false;\n",
    "  out.dlc = sizeof(MsgGearCmd);\n",
    "  MsgGearCmd *ptr = (MsgGearCmd*)out.data.elems;\n",
    "  memset(ptr, 0x00, sizeof(*ptr));\n",
    "  if (enabled()) {\n",
    "    ptr->GCMD = msg->cmd.gear;\n",
    "  }\n",
    "  pub_can_.publish(out);\n",
    "}"
   ]
  },
  {
   "cell_type": "raw",
   "metadata": {},
   "source": [
    "void DbwNode::recvSteeringCmd(const dbw_mkz_msgs::SteeringCmd::ConstPtr& msg)\n",
    "{\n",
    "  dataspeed_can_msgs::CanMessage out;\n",
    "  out.id = ID_STEERING_CMD;\n",
    "  out.extended = false;\n",
    "  out.dlc = sizeof(MsgSteeringCmd);\n",
    "  MsgSteeringCmd *ptr = (MsgSteeringCmd*)out.data.elems;\n",
    "  memset(ptr, 0x00, sizeof(*ptr));\n",
    "  if (enabled()) {\n",
    "    ptr->SCMD = std::max((float)-4700, std::min((float)4700, (float)(msg->steering_wheel_angle_cmd * (180 / M_PI * 10))));\n",
    "    \n",
    "    if (fabsf(msg->steering_wheel_angle_velocity) > 0) {\n",
    "      ptr->SVEL = std::max((float)1, std::min((float)254, (float)roundf(fabsf(msg->steering_wheel_angle_velocity) * 180 / M_PI / 2)));\n",
    "    }\n",
    "    if (msg->enable) {\n",
    "      ptr->EN = 1;\n",
    "    }\n",
    "  }\n",
    "  if (clear()) {\n",
    "    ptr->CLEAR = 1;\n",
    "  }\n",
    "  if (msg->ignore) {\n",
    "    ptr->IGNORE = 1;\n",
    "  }\n",
    "  if (msg->quiet) {\n",
    "    ptr->QUIET = 1;\n",
    "  }\n",
    "  ptr->count = msg->count;\n",
    "  pub_can_.publish(out);\n",
    "}"
   ]
  },
  {
   "cell_type": "markdown",
   "metadata": {},
   "source": [
    "<ul>\n",
    "<li>Now to read from the <b>/can_bus_dbw/can_rx</b>, the most difficult of all: The GPS.<br>\n",
    "GPS is really challenging because it's made up of three different CAN-Bus messages that have to be grouped by time and then generate the data. This is the snippet where the GPS data is encoded into the three different CAN-Bus messages:</li>\n",
    "</ul>"
   ]
  },
  {
   "cell_type": "raw",
   "metadata": {},
   "source": [
    "void CanSimNode::recvFixGps(const sensor_msgs::NavSatFix::ConstPtr& msg)\n",
    "{\n",
    "    dataspeed_can_msgs::CanMessageStamped out1;\n",
    "    dataspeed_can_msgs::CanMessageStamped out2;\n",
    "    dataspeed_can_msgs::CanMessageStamped out3;\n",
    "    \n",
    "    out1.msg.id = ID_REPORT_GPS1;\n",
    "    out2.msg.id = ID_REPORT_GPS2;\n",
    "    out3.msg.id = ID_REPORT_GPS3;\n",
    "    \n",
    "    out1.msg.extended = false;\n",
    "    out2.msg.extended = false;\n",
    "    out3.msg.extended = false;\n",
    "    \n",
    "    // We have to use structures like the ones defined in distpatch.h\n",
    "    out1.msg.dlc = sizeof(MsgReportGps1);\n",
    "    out2.msg.dlc = sizeof(MsgReportGps2);\n",
    "    out3.msg.dlc = sizeof(MsgReportGps3);\n",
    "\n",
    "    out1.header.stamp = msg->header.stamp;\n",
    "    out2.header.stamp = msg->header.stamp;\n",
    "    out3.header.stamp = msg->header.stamp;\n",
    "\n",
    "    MsgReportGps1 *ptr1 = (MsgReportGps1*)out1.msg.data.elems;\n",
    "    MsgReportGps2 *ptr2 = (MsgReportGps2*)out2.msg.data.elems;\n",
    "    MsgReportGps3 *ptr3 = (MsgReportGps3*)out3.msg.data.elems;\n",
    "    \n",
    "    memset(ptr1, 0x00, sizeof(*ptr1));\n",
    "    memset(ptr2, 0x00, sizeof(*ptr2));\n",
    "    memset(ptr3, 0x00, sizeof(*ptr3));\n",
    "\n",
    "    float latitude = msg->latitude;\n",
    "    float longitude = msg->longitude;\n",
    "    float altitude = msg->altitude;\n",
    "    \n",
    "    // Conversions due to the other side, probably GPS model specifics and precision wanted.\n",
    "    ptr1->latitude = (int)(latitude*3e6);\n",
    "    ptr1->longitude = (int)(longitude*3e6);\n",
    "    ptr3->altitude = (int)(altitude / 0.25);\n",
    "\n",
    "    // For setting status to sensor_msgs::NavSatStatus::STATUS_FIX\n",
    "    ptr3->quality = 2;\n",
    "\n",
    "    float heading_angle_rad = atan(current_fixgps_velocity_.vector.y/current_fixgps_velocity_.vector.x);\n",
    "    float heading_angle_degrees_100 = heading_angle_rad * (180.0 / M_PI ) * 100;\n",
    "    ptr3->heading = (int)heading_angle_degrees_100;\n",
    "    \n",
    "    float speed_XY_magnitude = sqrt((current_fixgps_velocity_.vector.x*current_fixgps_velocity_.vector.x)+(current_fixgps_velocity_.vector.y*current_fixgps_velocity_.vector.y));\n",
    "    ptr3->speed = int(speed_XY_magnitude / 0.44704);\n",
    "\n",
    "    //std::time_t time_result = std::time(NULL);\n",
    "    \n",
    "    struct tm *theTime;\n",
    "\ttime_t tim;\n",
    "\ttime(&tim);\n",
    "\ttheTime = localtime(&tim);\n",
    "\tint hours = theTime->tm_hour;\n",
    "    \n",
    "    ptr2->utc_year = (int)(theTime->tm_year - 100);\n",
    "    ptr2->utc_month = (int)(theTime->tm_mon + 1);\n",
    "    ptr2->utc_day = (int)theTime->tm_mday;\n",
    "    ptr2->utc_hours = (int)theTime->tm_hour;\n",
    "    ptr2->utc_minutes = (int)theTime->tm_min;\n",
    "    ptr2->utc_seconds = (int)theTime->tm_sec;\n",
    "\n",
    "    pub_can_.publish(out1);\n",
    "    pub_can_.publish(out2);\n",
    "    pub_can_.publish(out3);\n",
    "\n",
    "}"
   ]
  },
  {
   "cell_type": "markdown",
   "metadata": {},
   "source": [
    "<p style=\"background:#AE0202;color:white;\">Expected Result for Exercise U4.2</p>"
   ]
  },
  {
   "cell_type": "markdown",
   "metadata": {},
   "source": [
    "The sent data must coincide with the data read from the CAN-Bus topics.<br>\n",
    "In the case of the <b>/can_bus_dbw/can_rx</b> GPS data, it has to coincide with the data published in the /fix, and /fix_velocity published by the simulation."
   ]
  },
  {
   "cell_type": "markdown",
   "metadata": {},
   "source": [
    "<p style=\"background:#EE9023;color:white;\">END EXTRA Exercise U4.2</p>"
   ]
  },
  {
   "cell_type": "markdown",
   "metadata": {},
   "source": [
    "Further References:<br>\n",
    "https://www.kvaser.com/can-protocol-tutorial/<br>\n",
    "http://www.socialledge.com/sjsu/index.php?title=CAN_BUS_Tutorial<br>\n",
    "https://es.wikipedia.org/wiki/Bus_CAN<br>\n",
    "http://www.canbus.us/<br>\n",
    "<br>\n",
    "Books:<br>\n",
    "https://www.amazon.es/Comprehensible-Guide-Controller-Area-Network/dp/0976511606<br>\n",
    "http://www.canbus.us/index.php/links/can-books<br>\n",
    "\n",
    "Original Protocol:\n",
    "http://www.bosch-semiconductors.de/media/ubk_semiconductors/pdf_1/canliteratur/can2spec.pdf"
   ]
  },
  {
   "cell_type": "markdown",
   "metadata": {},
   "source": [
    "CAN-Bus Hardware:\n",
    "https://bitbucket.org/DataspeedInc/dbw_mkz_ros/downloads/ADAS_Kit_20161206.zip"
   ]
  },
  {
   "cell_type": "markdown",
   "metadata": {},
   "source": [
    "Image Source Udacity Car Real:\n",
    "http://www.creativeshot.com/corporate/commercial/udacity-self-driving-nanodegree-program/"
   ]
  }
 ],
 "metadata": {
  "anaconda-cloud": {},
  "kernelspec": {
   "display_name": "Python 3",
   "language": "python",
   "name": "python3"
  },
  "language_info": {
   "codemirror_mode": {
    "name": "ipython",
    "version": 3
   },
   "file_extension": ".py",
   "mimetype": "text/x-python",
   "name": "python",
   "nbconvert_exporter": "python",
   "pygments_lexer": "ipython3",
   "version": "3.6.1"
  }
 },
 "nbformat": 4,
 "nbformat_minor": 1
}
