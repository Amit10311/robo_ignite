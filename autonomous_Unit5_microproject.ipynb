{
 "cells": [
  {
   "cell_type": "markdown",
   "metadata": {},
   "source": [
    "# Unit5: MicroProject"
   ]
  },
  {
   "cell_type": "markdown",
   "metadata": {},
   "source": [
    "<img src=\"img/autonomus_gastation.png\"/>"
   ]
  },
  {
   "cell_type": "markdown",
   "metadata": {},
   "source": [
    "So, now you are ready to make your first autonomous navigation program.<br>\n",
    "Here you are in a tiny village and your objective is to get to the <b style=\"color:green\">GasStation</b>.<br>\n",
    "To consider the project done, you have to fulfill the following:<br>\n",
    "<ul>\n",
    "<li>\n",
    "Navigate using the GPS data published in these three topics:<br>\n",
    "<b style=\"color: green\">\n",
    "/vehicle/gps/fix<br>\n",
    "/vehicle/gps/vel<br>\n",
    "/vehicle/gps/time<br>\n",
    "</b>\n",
    "This data comes from the CAN-Bus, and it's the only data that would be available in the real car.\n",
    "</li>\n",
    "<li>You also have access to the Lydar, laser, and front camera data. These topics would be inside the ROS environment because they aren't sent through the CAN-Bus. \n",
    "They would have their own physical connection directly to your onboard PC.<br>\n",
    "The topics are:<br>\n",
    "<b style=\"color: green\">\n",
    "/catvehicle/front_laser_points<br>\n",
    "/catvehicle/camera_front/image_raw_front<br>\n",
    "</b>\n",
    "</li>\n",
    "<li>You have to move the Car with the topics:<br>\n",
    "<b style=\"color: green\">\n",
    "/vehicle/brake_cmd<br>\n",
    "/vehicle/throttle_cmd<br>\n",
    "/vehicle/steering_cmd<br>\n",
    "/vehicle/gear_cmd<br>\n",
    "</b>\n",
    "Because these are the only topics that will be available in a Real Car.\n",
    "</li>\n",
    "<li>Always keep in mind that there is an ObstacleDetector system that will stop the car if it goes too near to an object, and a DeadMansSwitch that will stop the car if the rate of publication of the control topics is not high enough (around 5Hz is okay).\n",
    "</li>\n",
    "<li>The navigation algorithms can be based on GPS, laser, or even camera. Be adventurous.</li>\n",
    "</ul>"
   ]
  },
  {
   "cell_type": "markdown",
   "metadata": {},
   "source": [
    "### So have fun and we are eager to see what algorithms you come up with."
   ]
  }
 ],
 "metadata": {
  "kernelspec": {
   "display_name": "Python 3",
   "language": "python",
   "name": "python3"
  },
  "language_info": {
   "codemirror_mode": {
    "name": "ipython",
    "version": 3
   },
   "file_extension": ".py",
   "mimetype": "text/x-python",
   "name": "python",
   "nbconvert_exporter": "python",
   "pygments_lexer": "ipython3",
   "version": "3.6.1"
  }
 },
 "nbformat": 4,
 "nbformat_minor": 1
}
