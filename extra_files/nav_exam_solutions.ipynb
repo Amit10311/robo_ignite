{
 "cells": [
  {
   "cell_type": "markdown",
   "metadata": {},
   "source": [
    "## Solutions for Exam"
   ]
  },
  {
   "cell_type": "markdown",
   "metadata": {},
   "source": [
    "<img src=\"../img/robotignite_logo_text.png\"/>"
   ]
  },
  {
   "cell_type": "markdown",
   "metadata": {},
   "source": [
    "## Index: "
   ]
  },
  {
   "cell_type": "markdown",
   "metadata": {},
   "source": [
    "* <a href=\"#SolutionStep1\">Solution Step 1</a>\n",
    "* <a href=\"#SolutionStep2\">Solution Step 2</a>\n",
    "* <a href=\"#SolutionStep3\">Solution Step 3</a>"
   ]
  },
  {
   "cell_type": "markdown",
   "metadata": {},
   "source": [
    "## Solution Step 1 <p id=\"SolutionStep1\"></p>"
   ]
  },
  {
   "cell_type": "markdown",
   "metadata": {},
   "source": [
    "Create a map of the whole simulation environment. Steps to be done include:\n",
    "* Create a package with name *YOUR_NAME_mapping*\n",
    "* Create the launch file for launching the gmapping. Name the file mapping_start.launch\n",
    "* Launch that launch file to start the mapping system\n",
    "* Check that everything is correct by using the Rviz\n",
    "* Move the robot around so the map is created. Use the following command to launch the keyboard control:"
   ]
  },
  {
   "cell_type": "code",
   "execution_count": null,
   "metadata": {
    "collapsed": true
   },
   "outputs": [],
   "source": [
    "roslaunch summit_xl_gazebo keyboard_teleop.launch"
   ]
  },
  {
   "cell_type": "markdown",
   "metadata": {},
   "source": [
    "* Once you have finished the map, save it inside the package you created with name YOUR_NAME_map"
   ]
  },
  {
   "cell_type": "markdown",
   "metadata": {},
   "source": [
    "<p style=\"background:#3B8F10;color:white;\" id=\"prg-2-1\">**Launch File: mapping_start.launch** </p>"
   ]
  },
  {
   "cell_type": "code",
   "execution_count": null,
   "metadata": {
    "collapsed": true
   },
   "outputs": [],
   "source": [
    "<launch>\n",
    "    <node pkg=\"gmapping\" type=\"slam_gmapping\" name=\"slam_gmapping\" output=\"screen\">\n",
    "      <!-- simulation remap from=\"scan\" to=\"/hokuyo_laser_topic\"/ -->\n",
    "      <!-- real -->\n",
    "      <!-- remap from=\"scan\" to=\"/scan_filtered\"/ -->\n",
    "      <remap from=\"scan\" to =\"/hokuyo_base/scan\"/>\n",
    "      <!-- param name=\"map_udpate_interval\" value=\"5.0\"/ -->\n",
    "      <param name=\"base_frame\" value=\"base_footprint\"/>\n",
    "      <param name=\"odom_frame\" value=\"odom\"/>\n",
    "      <param name=\"map_udpate_interval\" value=\"5.0\"/>\n",
    "      <!--<param name=\"maxRange\" value=\"7.0\"/> -->\n",
    "      <param name=\"maxUrange\" value=\"7.0\"/>\n",
    "      <param name=\"sigma\" value=\"0.05\"/>\n",
    "      <param name=\"kernelSize\" value=\"1\"/>\n",
    "      <param name=\"lstep\" value=\"0.05\"/>\n",
    "      <param name=\"astep\" value=\"0.05\"/>\n",
    "      <param name=\"iterations\" value=\"5\"/>\n",
    "      <param name=\"lsigma\" value=\"0.075\"/>\n",
    "      <param name=\"ogain\" value=\"3.0\"/>\n",
    "      <param name=\"lskip\" value=\"0\"/>\n",
    "      <param name=\"srr\" value=\"0.1\"/>\n",
    "      <param name=\"srt\" value=\"0.2\"/>\n",
    "      <param name=\"str\" value=\"0.1\"/>\n",
    "      <param name=\"stt\" value=\"0.2\"/>\n",
    "      <param name=\"linearUpdate\" value=\"0.2\"/>\n",
    "      <param name=\"angularUpdate\" value=\"0.1\"/>\n",
    "      <param name=\"temporalUpdate\" value=\"3.0\"/>\n",
    "      <param name=\"resampleThreshold\" value=\"0.5\"/>\n",
    "      <param name=\"particles\" value=\"100\"/>\n",
    "      <param name=\"xmin\" value=\"-50.0\"/>\n",
    "      <param name=\"ymin\" value=\"-50.0\"/>\n",
    "      <param name=\"xmax\" value=\"50.0\"/>\n",
    "      <param name=\"ymax\" value=\"50.0\"/>\n",
    "      <param name=\"delta\" value=\"0.05\"/>\n",
    "      <param name=\"llsamplerange\" value=\"0.01\"/>\n",
    "      <param name=\"llsamplestep\" value=\"0.01\"/>\n",
    "      <param name=\"lasamplerange\" value=\"0.005\"/>\n",
    "      <param name=\"lasamplestep\" value=\"0.005\"/>\n",
    "    </node>\n",
    "</launch>"
   ]
  },
  {
   "cell_type": "markdown",
   "metadata": {},
   "source": [
    "<p style=\"background:#3B8F10;color:white;\" id=\"prg-2-1\">**END Launch File: mapping_start.launch** </p>"
   ]
  },
  {
   "cell_type": "markdown",
   "metadata": {},
   "source": [
    "<p style=\"background:#3B8F10;color:white;\" id=\"prg-2-1\">**Map File: my_map.pgm** </p>"
   ]
  },
  {
   "cell_type": "markdown",
   "metadata": {},
   "source": [
    "<img src=\"../img/fetch_map.png\" width=\"400\"></img>"
   ]
  },
  {
   "cell_type": "markdown",
   "metadata": {},
   "source": [
    "<p style=\"background:#3B8F10;color:white;\" id=\"prg-2-1\">**END Map File: my_map.pgm** </p>"
   ]
  },
  {
   "cell_type": "markdown",
   "metadata": {},
   "source": [
    "<p style=\"background:#3B8F10;color:white;\" id=\"prg-2-1\">**Map File: my_map.yaml** </p>"
   ]
  },
  {
   "cell_type": "code",
   "execution_count": null,
   "metadata": {
    "collapsed": true
   },
   "outputs": [],
   "source": [
    "image: my_map.pgm\n",
    "resolution: 0.050000\n",
    "origin: [-50.000000, -50.000000, 0.000000]\n",
    "negate: 0\n",
    "occupied_thresh: 0.65\n",
    "free_thresh: 0.196"
   ]
  },
  {
   "cell_type": "markdown",
   "metadata": {},
   "source": [
    "<p style=\"background:#3B8F10;color:white;\" id=\"prg-2-1\">**END Map File: my_map.yaml** </p>"
   ]
  },
  {
   "cell_type": "markdown",
   "metadata": {},
   "source": [
    "## Solution Step 2 <p id=\"SolutionStep2\"></p>"
   ]
  },
  {
   "cell_type": "markdown",
   "metadata": {},
   "source": [
    "Use the map created in the previous point to localize the robot on it."
   ]
  },
  {
   "cell_type": "markdown",
   "metadata": {},
   "source": [
    "* Create a package with name *YOUR_NAME_localization*\n",
    "* Create a launch file for launching the amcl. Name the file localization_start.launch\n",
    "* Remember that you need to have *somebody* publishing the map you created on the previous exercise\n",
    "* Launch that launch file to start the localization system\n",
    "* Localize the robot using the Rviz\n",
    "* Take a screen capture of your robot localized in Rviz. Name the screenshot as *YOUR_NAME_localization.png* and save it inside the *YOUR_NAME_localization* package. You should provide something like the following figure:"
   ]
  },
  {
   "cell_type": "markdown",
   "metadata": {},
   "source": [
    "<p style=\"background:#3B8F10;color:white;\" id=\"prg-2-1\">**Launch File: localization_start.launch** </p>"
   ]
  },
  {
   "cell_type": "code",
   "execution_count": null,
   "metadata": {
    "collapsed": true
   },
   "outputs": [],
   "source": [
    "<launch>\n",
    "\n",
    "<!-- Run the map server -->\n",
    "<arg name=\"map_file\" default=\"/home/user/catkin_ws/src/YOUR_NAME_mapping/YOUR_NAME_map.yaml\"/>\n",
    "<node name=\"map_server\" pkg=\"map_server\" type=\"map_server\" args=\"$(arg map_file)\" />\n",
    "\n",
    "<node pkg=\"amcl\" type=\"amcl\" name=\"amcl\" output=\"screen\">\n",
    "\n",
    "  <remap from=\"scan\" to=\"/hokuyo_base/scan\" />\n",
    "  <remap from=\"cmd_vel\" to=\"/summit_xl_controller/cmd_vel\"/>\n",
    "\n",
    "  <!-- Publish scans from best pose at a max of 10 Hz -->\n",
    "  <param name=\"odom_model_type\" value=\"diff\"/>\n",
    "  <param name=\"odom_alpha5\" value=\"0.1\"/>\n",
    "  <param name=\"transform_tolerance\" value=\"0.2\" />\n",
    "  <param name=\"gui_publish_rate\" value=\"10.0\"/>\n",
    "  <param name=\"laser_max_beams\" value=\"30\"/>\n",
    "  <param name=\"min_particles\" value=\"500\"/>\n",
    "  <param name=\"max_particles\" value=\"5000\"/>\n",
    "  <param name=\"kld_err\" value=\"0.05\"/>\n",
    "  <param name=\"kld_z\" value=\"0.99\"/>\n",
    "  <param name=\"odom_alpha1\" value=\"0.2\"/>\n",
    "  <param name=\"odom_alpha2\" value=\"0.2\"/>\n",
    "  <param name=\"odom_alpha3\" value=\"0.8\"/>\n",
    "  <param name=\"odom_alpha4\" value=\"0.2\"/>\n",
    "  <param name=\"laser_z_hit\" value=\"0.5\"/>\n",
    "  <param name=\"laser_z_short\" value=\"0.05\"/>\n",
    "  <param name=\"laser_z_max\" value=\"0.05\"/>\n",
    "  <param name=\"laser_z_rand\" value=\"0.5\"/>\n",
    "  <param name=\"laser_sigma_hit\" value=\"0.2\"/>\n",
    "  <param name=\"laser_lambda_short\" value=\"0.1\"/>\n",
    "  <param name=\"laser_lambda_short\" value=\"0.1\"/>\n",
    "  <param name=\"laser_model_type\" value=\"likelihood_field\"/>\n",
    "  <param name=\"laser_likelihood_max_dist\" value=\"2.0\"/>\n",
    "  <param name=\"update_min_d\" value=\"0.2\"/>\n",
    "  <param name=\"update_min_a\" value=\"0.5\"/>\n",
    "  <param name=\"odom_frame_id\" value=\"odom\"/>\n",
    "  <param name=\"base_frame_id\" value=\"base_footprint\"/>\n",
    "  <param name=\"global_frame_id\" value=\"map\"/>\n",
    "  <param name=\"resample_interval\" value=\"1\"/>\n",
    "  <param name=\"transform_tolerance\" value=\"0.1\"/>\n",
    "  <param name=\"recovery_alpha_slow\" value=\"0.0\"/>\n",
    "  <param name=\"recovery_alpha_fast\" value=\"0.0\"/>\n",
    "  <param name=\"initial_pose_x\" value =\"0.0\"/>\n",
    "  <param name=\"initial_pose_y\" value =\"0.0\"/>\n",
    "  <param name=\"initial_pose_a\" value =\"0.0\"/>\n",
    "\n",
    "</node>\n",
    "\n",
    "</launch>"
   ]
  },
  {
   "cell_type": "markdown",
   "metadata": {},
   "source": [
    "<p style=\"background:#3B8F10;color:white;\" id=\"prg-2-1\">**END Launch File: localization_start.launch** </p>"
   ]
  },
  {
   "cell_type": "markdown",
   "metadata": {},
   "source": [
    "## Solution Step 3 <p id=\"SolutionStep3\"></p>"
   ]
  },
  {
   "cell_type": "markdown",
   "metadata": {},
   "source": [
    "Create a ROS program that makes the robot move around forever and gets the position of the robot every 5 seconds"
   ]
  },
  {
   "cell_type": "markdown",
   "metadata": {},
   "source": [
    "* Create a package with name *YOUR_NAME_move* which depends on *rospy*\n",
    "* Inside that package, create a ROS program that makes the robot move making a square of 1.5 meters each side\n",
    "* Launch the localization system of the previous exercise and localize the robot\n",
    "* Your program must get the position provided by the localization system (hint: the localization is publishing the robot position on a topic called */amcl_pose*)\n",
    "* While the robot is moving doing the 1.5 meters square, the position of the robot must be recorded in a file every 5 seconds. \n",
    "* Name that file as *YOUR_NAME_locations.txt* and save it inside your *YOUR_NAME_move* package"
   ]
  },
  {
   "cell_type": "markdown",
   "metadata": {},
   "source": [
    "<p style=\"background:#3B8F10;color:white;\" id=\"prg-2-1\">**Python File: summit_square.py** </p>"
   ]
  },
  {
   "cell_type": "code",
   "execution_count": null,
   "metadata": {
    "collapsed": true
   },
   "outputs": [],
   "source": [
    "#!/usr/bin/env python\n",
    "import rospy\n",
    "from geometry_msgs.msg import Twist\n",
    "from geometry_msgs.msg import PoseWithCovarianceStamped\n",
    "from rosgraph_msgs.msg import Clock\n",
    "import time\n",
    "\n",
    "class MoveSummit():\n",
    "    \n",
    "    def __init__(self):\n",
    "        self.summit_vel_publisher = rospy.Publisher('/cmd_vel', Twist, queue_size=1)\n",
    "        self.pose_sub = rospy.Subscriber('/amcl_pose', PoseWithCovarianceStamped , self.sub_callback)\n",
    "        self.pose = PoseWithCovarianceStamped()\n",
    "        self.ctrl_c = False\n",
    "        rospy.on_shutdown(self.shutdownhook)\n",
    "        self.rate = rospy.Rate(5) # 10hz\n",
    "        \n",
    "    \n",
    "    def sub_callback(self, msg):\n",
    "        self._pose = msg\n",
    "    \n",
    "    def publish_once_in_cmd_vel(self, cmd):\n",
    "        \"\"\"\n",
    "        This is because publishing in topics sometimes fails teh first time you publish.\n",
    "        In continuos publishing systems there is no big deal but in systems that publish only\n",
    "        once it IS very important.\n",
    "        \"\"\"\n",
    "        while not self.ctrl_c:\n",
    "            connections = self.summit_vel_publisher.get_num_connections()\n",
    "            if connections > 0:\n",
    "                self.summit_vel_publisher.publish(cmd)\n",
    "                break\n",
    "            else:\n",
    "                self.rate.sleep()\n",
    "    \n",
    "    \n",
    "    def shutdownhook(self):\n",
    "            # works better than the rospy.is_shut_down()\n",
    "            self.stop_summit()\n",
    "            self.ctrl_c = True\n",
    "\n",
    "    def stop_summit(self):\n",
    "\n",
    "        cmd = Twist()\n",
    "        cmd.linear.x = 0.0\n",
    "        cmd.angular.z = 0.0\n",
    "        self.publish_once_in_cmd_vel(cmd)\n",
    "\n",
    "\n",
    "    def move_x_time(self, moving_time, linear_speed=0.6, angular_speed=0.3):\n",
    "        \n",
    "        cmd = Twist()\n",
    "        cmd.linear.x = linear_speed\n",
    "        cmd.angular.z = angular_speed\n",
    "        \n",
    "        i = 0.0\n",
    "        while i <= moving_time:\n",
    "            self.summit_vel_publisher.publish(cmd)\n",
    "            self.rate.sleep()\n",
    "            i += 0.2\n",
    "            \n",
    "        self.stop_summit()\n",
    "    \n",
    "    def move_square(self):\n",
    "        \n",
    "        while not self.ctrl_c:\n",
    "            # Move Forwards\n",
    "            self.move_x_time(moving_time=2.4, linear_speed=0.6, angular_speed=0.0)\n",
    "            # Stop\n",
    "            self.move_x_time(moving_time=4.0, linear_speed=0.0, angular_speed=0.0)\n",
    "            # Turn \n",
    "            self.move_x_time(moving_time=2.8, linear_speed=0.0, angular_speed=0.3)\n",
    "            # Stop\n",
    "            self.move_x_time(moving_time=0.1, linear_speed=0.0, angular_speed=0.0)\n",
    "            \n",
    "        \n",
    "\n",
    "            \n",
    "if __name__ == '__main__':\n",
    "    rospy.init_node('move_summit_test', anonymous=True)\n",
    "    movesummit_object = MoveSummit()\n",
    "    try:\n",
    "        movesummit_object.move_square()\n",
    "    except rospy.ROSInterruptException:\n",
    "        pass"
   ]
  },
  {
   "cell_type": "markdown",
   "metadata": {},
   "source": [
    "<p style=\"background:#3B8F10;color:white;\" id=\"prg-2-1\">**END Python File: summit_square.py** </p>"
   ]
  },
  {
   "cell_type": "markdown",
   "metadata": {},
   "source": [
    "Modified code to write Pose into a file every 5 seconds."
   ]
  },
  {
   "cell_type": "markdown",
   "metadata": {},
   "source": [
    "<p style=\"background:#3B8F10;color:white;\" id=\"prg-2-1\">**Python File: summit_square.py** </p>"
   ]
  },
  {
   "cell_type": "code",
   "execution_count": null,
   "metadata": {
    "collapsed": true
   },
   "outputs": [],
   "source": [
    "#!/usr/bin/env python\n",
    "import rospy\n",
    "from geometry_msgs.msg import Twist\n",
    "from geometry_msgs.msg import PoseWithCovarianceStamped\n",
    "from rosgraph_msgs.msg import Clock\n",
    "import time\n",
    "\n",
    "class MoveSummit():\n",
    "    \n",
    "    def __init__(self):\n",
    "        self.summit_vel_publisher = rospy.Publisher('/cmd_vel', Twist, queue_size=1)\n",
    "        self.pose_sub = rospy.Subscriber('/amcl_pose', PoseWithCovarianceStamped , self.sub_callback)\n",
    "        self.clock_sub = rospy.Subscriber('/clock', Clock , self.sub_clock)\n",
    "        self.pose = PoseWithCovarianceStamped()\n",
    "        self.ctrl_c = False\n",
    "        rospy.on_shutdown(self.shutdownhook)\n",
    "        self.rate = rospy.Rate(5) # 10hz\n",
    "        \n",
    "        \n",
    "    def sub_clock(self, msg):\n",
    "        if (msg.clock.secs % 5) == 0:\n",
    "            with open('your_name_locations.txt', 'w') as file:\n",
    "                file.write(str(self._pose) + ':\\n==========\\n')\n",
    "        \n",
    "    \n",
    "    def sub_callback(self, msg):\n",
    "        self._pose = msg\n",
    "    \n",
    "    def publish_once_in_cmd_vel(self, cmd):\n",
    "        \"\"\"\n",
    "        This is because publishing in topics sometimes fails teh first time you publish.\n",
    "        In continuos publishing systems there is no big deal but in systems that publish only\n",
    "        once it IS very important.\n",
    "        \"\"\"\n",
    "        while not self.ctrl_c:\n",
    "            connections = self.summit_vel_publisher.get_num_connections()\n",
    "            if connections > 0:\n",
    "                self.summit_vel_publisher.publish(cmd)\n",
    "                break\n",
    "            else:\n",
    "                self.rate.sleep()\n",
    "    \n",
    "    \n",
    "    def shutdownhook(self):\n",
    "            # works better than the rospy.is_shut_down()\n",
    "            self.stop_summit()\n",
    "            self.ctrl_c = True\n",
    "\n",
    "    def stop_summit(self):\n",
    "\n",
    "        cmd = Twist()\n",
    "        cmd.linear.x = 0.0\n",
    "        cmd.angular.z = 0.0\n",
    "        self.publish_once_in_cmd_vel(cmd)\n",
    "\n",
    "\n",
    "    def move_x_time(self, moving_time, linear_speed=0.6, angular_speed=0.3):\n",
    "        \n",
    "        cmd = Twist()\n",
    "        cmd.linear.x = linear_speed\n",
    "        cmd.angular.z = angular_speed\n",
    "        \n",
    "        i = 0.0\n",
    "        while i <= moving_time:\n",
    "            self.summit_vel_publisher.publish(cmd)\n",
    "            self.rate.sleep()\n",
    "            i += 0.2\n",
    "            \n",
    "        self.stop_summit()\n",
    "    \n",
    "    def move_square(self):\n",
    "        \n",
    "        while not self.ctrl_c:\n",
    "            # Move Forwards\n",
    "            self.move_x_time(moving_time=2.4, linear_speed=0.6, angular_speed=0.0)\n",
    "            # Stop\n",
    "            self.move_x_time(moving_time=4.0, linear_speed=0.0, angular_speed=0.0)\n",
    "            # Turn \n",
    "            self.move_x_time(moving_time=2.8, linear_speed=0.0, angular_speed=0.3)\n",
    "            # Stop\n",
    "            self.move_x_time(moving_time=0.1, linear_speed=0.0, angular_speed=0.0)\n",
    "            \n",
    "        \n",
    "\n",
    "            \n",
    "if __name__ == '__main__':\n",
    "    rospy.init_node('move_summit_test', anonymous=True)\n",
    "    movesummit_object = MoveSummit()\n",
    "    try:\n",
    "        movesummit_object.move_square()\n",
    "    except rospy.ROSInterruptException:\n",
    "        pass"
   ]
  },
  {
   "cell_type": "markdown",
   "metadata": {},
   "source": [
    "<p style=\"background:#3B8F10;color:white;\" id=\"prg-2-1\">**END Python File: summit_square.py** </p>"
   ]
  }
 ],
 "metadata": {
  "anaconda-cloud": {},
  "kernelspec": {
   "display_name": "Python [Root]",
   "language": "python",
   "name": "Python [Root]"
  },
  "language_info": {
   "codemirror_mode": {
    "name": "ipython",
    "version": 2
   },
   "file_extension": ".py",
   "mimetype": "text/x-python",
   "name": "python",
   "nbconvert_exporter": "python",
   "pygments_lexer": "ipython2",
   "version": "2.7.12"
  }
 },
 "nbformat": 4,
 "nbformat_minor": 0
}
