{
 "cells": [
  {
   "cell_type": "markdown",
   "metadata": {},
   "source": [
    "# <font class='ign_color'>ROS IN 5 DAYS </font>"
   ]
  },
  {
   "cell_type": "markdown",
   "metadata": {},
   "source": [
    "# APPENDIX B: Solution Test"
   ]
  },
  {
   "cell_type": "markdown",
   "metadata": {},
   "source": [
    "This is a test notebook to see if we can put the solutions in notebook<br>"
   ]
  },
  {
   "cell_type": "markdown",
   "metadata": {},
   "source": [
    "Index: \n",
    "* <a href=\"#Solution1\">Solution1</a>\n",
    "* <a href=\"#Solution2\">Solution2</a>\n",
    "* <a href=\"#extra_exercises\">Extra Exercises</a>"
   ]
  },
  {
   "cell_type": "markdown",
   "metadata": {},
   "source": [
    "## Solution1 <p id=\"Solution1\"></p>"
   ]
  },
  {
   "cell_type": "markdown",
   "metadata": {},
   "source": [
    "<img src=\"../img/RDS_logo.png\" width=\"400\"/>"
   ]
  },
  {
   "cell_type": "markdown",
   "metadata": {},
   "source": [
    "## Solution2 <p id=\"Solution2\"></p>"
   ]
  },
  {
   "cell_type": "markdown",
   "metadata": {},
   "source": [
    "<img src=\"../img/robotignite_logo_text.png\" width=\"500\"/>"
   ]
  },
  {
   "cell_type": "markdown",
   "metadata": {},
   "source": [
    "## EXTRA EXERCISES? <p id=\"extra_exercises\"></p>"
   ]
  },
  {
   "cell_type": "markdown",
   "metadata": {},
   "source": [
    "Once you have finished the Course, there are still a lot of interesting ROS subjects to learn.\n",
    "<ul>\n",
    "   <li>\n",
    "   Take more some of our more advanced Main Courses at the <a href=\"http://www.robotigniteacademy.com/\">Robot Ignite Academy</a>, like Navigation, Perception, and Manipulation.\n",
    "   </li>\n",
    "   <li>\n",
    "   Or, you can get more specific, but very useful, knowledge, such as how to work with TFs or URDFs, or how to get started with ROS Industrial.\n",
    "   </li>\n",
    "   <li>\n",
    "   You can also download simulation robot models to practice in a local installation of ROS through <a href=\"http://www.theconstructsim.com/shop-landing-page-default/\">Robository</a>.\n",
    "   </li> \n",
    "</ul>"
   ]
  }
 ],
 "metadata": {
  "anaconda-cloud": {},
  "kernelspec": {
   "display_name": "Python 2",
   "language": "python",
   "name": "python2"
  },
  "language_info": {
   "codemirror_mode": {
    "name": "ipython",
    "version": 2
   },
   "file_extension": ".py",
   "mimetype": "text/x-python",
   "name": "python",
   "nbconvert_exporter": "python",
   "pygments_lexer": "ipython2",
   "version": "2.7.12"
  }
 },
 "nbformat": 4,
 "nbformat_minor": 1
}
