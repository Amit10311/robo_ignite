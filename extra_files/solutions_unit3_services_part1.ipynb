{
 "cells": [
  {
   "cell_type": "markdown",
   "metadata": {},
   "source": [
    "# Solutions for Unit 3 Services Part 1"
   ]
  },
  {
   "cell_type": "markdown",
   "metadata": {},
   "source": [
    "<img src=\"../img/robotignite_logo_text.png\"/>"
   ]
  },
  {
   "cell_type": "markdown",
   "metadata": {},
   "source": [
    "## Index: \n",
    "* <a href=\"#SolutionExercise3-1\">Solution Exercise 3.1</a>"
   ]
  },
  {
   "cell_type": "markdown",
   "metadata": {},
   "source": [
    "## Solution Exercise 3.1 <p id=\"SolutionExercise3-1\"></p>"
   ]
  },
  {
   "cell_type": "markdown",
   "metadata": {},
   "source": [
    "* First of all, create a package to place all the future code. For better future reference, you can call it **unit_3_services**, with dependencies **rospy** and **iri_wam_reproduce_trajectory**."
   ]
  },
  {
   "cell_type": "markdown",
   "metadata": {},
   "source": [
    "First of all we have to create a new package where we will save all the code related to the **Services** theme. This will be for Unit3 Part1 and Part2."
   ]
  },
  {
   "cell_type": "markdown",
   "metadata": {},
   "source": [
    "<table style=\"float:left;background: #407EAF\">\n",
    "<tr>\n",
    "<th>\n",
    "<p class=\"transparent\">Execute in WebShell #1</p>\n",
    "</th>\n",
    "</tr>\n",
    "</table>"
   ]
  },
  {
   "cell_type": "raw",
   "metadata": {},
   "source": [
    "roscd;cd ../src\n",
    "catkin_create_pkg unit_3_services rospy iri_wam_reproduce_trajectory\n",
    "cd unit_3_services\n",
    "mkdir launch"
   ]
  },
  {
   "cell_type": "markdown",
   "metadata": {},
   "source": [
    "* Create a launch that starts the **/execute_strajectory** service , called **my_robot_arm_demo.launch**. As explained in the <a href=\"#example3.3\">example 3.3</a>, this service is launched by the launch **start_service.launch** in the package **iri_wam_reproduce_trajectory**."
   ]
  },
  {
   "cell_type": "markdown",
   "metadata": {},
   "source": [
    "Then, we have to create a launch file that we will call **my_robot_arm_demo.launch**.<br>\n",
    "In this launch we will add all the launches needed to complete this exercise."
   ]
  },
  {
   "cell_type": "markdown",
   "metadata": {},
   "source": [
    "<p style=\"background:#3B8F10;color:white;\" id=\"prg-3-1\">**Launch File: my_robot_arm_demo.launch** </p>"
   ]
  },
  {
   "cell_type": "code",
   "execution_count": null,
   "metadata": {
    "collapsed": true
   },
   "outputs": [],
   "source": [
    "<launch>\n",
    "\n",
    "  <include file=\"$(find iri_wam_reproduce_trajectory)/launch/start_service.launch\"/>\n",
    "\n",
    "  <!-- Here will go our python script that calls the execute_trajectory service -->\n",
    "\n",
    "</launch>"
   ]
  },
  {
   "cell_type": "markdown",
   "metadata": {},
   "source": [
    "<p style=\"background:#3B8F10;color:white;\" id=\"prg-3-1\">END **Launch File: my_robot_arm_demo.launch** </p>"
   ]
  },
  {
   "cell_type": "markdown",
   "metadata": {},
   "source": [
    "Once we have it we have to launch it and check that the service **execute_trajectory** is working:"
   ]
  },
  {
   "cell_type": "markdown",
   "metadata": {},
   "source": [
    "<table style=\"float:left;background: #407EAF\">\n",
    "<tr>\n",
    "<th>\n",
    "<p class=\"transparent\">Execute in WebShell #1</p>\n",
    "</th>\n",
    "</tr>\n",
    "</table>"
   ]
  },
  {
   "cell_type": "code",
   "execution_count": null,
   "metadata": {
    "collapsed": true
   },
   "outputs": [],
   "source": [
    "roslaunch unit_3_services my_robot_arm_demo.launch"
   ]
  },
  {
   "cell_type": "markdown",
   "metadata": {},
   "source": [
    "Check that you have terminated the first demo, otherwise the system will tell you in the terminal where you launched the first demo:"
   ]
  },
  {
   "cell_type": "raw",
   "metadata": {},
   "source": [
    "[ WARN] [1506621085.854497817, 4552.117000000]: Shutdown request received.\n",
    "[ WARN] [1506621085.854552030, 4552.117000000]: Reason given for shutdown: [new node registered with same name]\n",
    "[ERROR] [1506621085.965156755, 4552.207000000]: Failed to execute [get_food.txt] trajectory"
   ]
  },
  {
   "cell_type": "markdown",
   "metadata": {},
   "source": [
    "This is because , when you launch a new node with the same name, it will sometimes kill the previous one. Is good practice to not relay on the system to kill older nodes."
   ]
  },
  {
   "cell_type": "markdown",
   "metadata": {},
   "source": [
    "<table style=\"float:left;background: #407EAF\">\n",
    "<tr>\n",
    "<th>\n",
    "<p class=\"transparent\">Execute in WebShell #2</p>\n",
    "</th>\n",
    "</tr>\n",
    "</table>"
   ]
  },
  {
   "cell_type": "raw",
   "metadata": {},
   "source": [
    "rosservice list | grep execute_trajectory"
   ]
  },
  {
   "cell_type": "markdown",
   "metadata": {},
   "source": [
    "You should get the following output"
   ]
  },
  {
   "cell_type": "code",
   "execution_count": null,
   "metadata": {
    "collapsed": true
   },
   "outputs": [],
   "source": [
    "user:~/catkin_ws$ rosservice list | grep execute_trajectory\n",
    "/execute_trajectory"
   ]
  },
  {
   "cell_type": "markdown",
   "metadata": {},
   "source": [
    "* Get information of what type of service message does this **execute_trajectory** service use."
   ]
  },
  {
   "cell_type": "markdown",
   "metadata": {},
   "source": [
    "For this you have to execute the commands for getting more informatuon about a service. Remember that the launch **my_robot_arm_demo.launch** has to be running:"
   ]
  },
  {
   "cell_type": "markdown",
   "metadata": {},
   "source": [
    "<table style=\"float:left;background: #407EAF\">\n",
    "<tr>\n",
    "<th>\n",
    "<p class=\"transparent\">Execute in WebShell #2</p>\n",
    "</th>\n",
    "</tr>\n",
    "</table>"
   ]
  },
  {
   "cell_type": "raw",
   "metadata": {},
   "source": [
    "rosservice info /execute_trajectory"
   ]
  },
  {
   "cell_type": "markdown",
   "metadata": {},
   "source": [
    "You should get:"
   ]
  },
  {
   "cell_type": "raw",
   "metadata": {},
   "source": [
    "user:~/catkin_ws$ rosservice info /execute_trajectory\n",
    "Node: /iri_wam_reproduce_trajectory\n",
    "URI: rosrpc://ip-172-31-1-3:57245\n",
    "Type: iri_wam_reproduce_trajectory/ExecTraj\n",
    "Args: file"
   ]
  },
  {
   "cell_type": "markdown",
   "metadata": {},
   "source": [
    "This tells us that if we have to call the service **execute_trajectory**, we will need to use the service message type **ExecTraj** from package **iri_wam_reproduce_trajectory**."
   ]
  },
  {
   "cell_type": "markdown",
   "metadata": {},
   "source": [
    "So now we want to see the morfology of this messages to be able to know what to put in the **ServiceRequest** variable when we call the service."
   ]
  },
  {
   "cell_type": "markdown",
   "metadata": {},
   "source": [
    "<table style=\"float:left;background: #407EAF\">\n",
    "<tr>\n",
    "<th>\n",
    "<p class=\"transparent\">Execute in WebShell #2</p>\n",
    "</th>\n",
    "</tr>\n",
    "</table>"
   ]
  },
  {
   "cell_type": "raw",
   "metadata": {},
   "source": [
    "rossrv show iri_wam_reproduce_trajectory/ExecTraj"
   ]
  },
  {
   "cell_type": "markdown",
   "metadata": {},
   "source": [
    "This should be the output:"
   ]
  },
  {
   "cell_type": "raw",
   "metadata": {},
   "source": [
    "user:~/catkin_ws$ rossrv show iri_wam_reproduce_trajectory/ExecTraj\n",
    "string file\n",
    "---\n"
   ]
  },
  {
   "cell_type": "markdown",
   "metadata": {},
   "source": [
    "As you can see this ServiceMessage called **ExecTraj** has:"
   ]
  },
  {
   "cell_type": "markdown",
   "metadata": {},
   "source": [
    "**Request**: only a variable called **file**, of type **String**. String is a basic message type that yo can find in the **std_msgs** package."
   ]
  },
  {
   "cell_type": "markdown",
   "metadata": {},
   "source": [
    "**Response**: In this case it has none. So no response will be given when this service is called. It will be what we know as **Empty** response."
   ]
  },
  {
   "cell_type": "markdown",
   "metadata": {},
   "source": [
    "Now that we have all the information about the service we can start creating the python program to call it."
   ]
  },
  {
   "cell_type": "markdown",
   "metadata": {},
   "source": [
    "* Make the arm robot move following a trajectory specified in a file.<br>\n",
    "Modify the previous code of <a href=\"#example3.5\">example 3.5</a> that called **/gazebo/delete_model**, to call the **/execute_trajectory** service instead. The new python file could be called **exercise_3_1.py** for future reference."
   ]
  },
  {
   "cell_type": "markdown",
   "metadata": {},
   "source": [
    "So to modify the **example 3.5**, you have to change the **type** the service message and also the **service name**. You have to also adapt the variables sent as request.  That is, the path to the file that describes the trajectory of the robot arm that you can to execute."
   ]
  },
  {
   "cell_type": "markdown",
   "metadata": {},
   "source": [
    "<p style=\"background:#3B8F10;color:white;\" id=\"prg-3-1\">**Python File: exercise_3_1.py** </p>"
   ]
  },
  {
   "cell_type": "code",
   "execution_count": null,
   "metadata": {
    "collapsed": true
   },
   "outputs": [],
   "source": [
    "#! /usr/bin/env python\n",
    "\n",
    "import rospy\n",
    "from iri_wam_reproduce_trajectory.srv import ExecTraj, ExecTrajRequest # Import the service message used by the service /gazebo/delete_model\n",
    "\n",
    "rospy.init_node('service_execute_trajectory_client') # Initialise a ROS node with the name service_client\n",
    "rospy.wait_for_service('/execute_trajectory') # Wait for the service client /execute_trajectory to be running\n",
    "execute_trajectory_service_client = rospy.ServiceProxy('/execute_trajectory', ExecTraj) # Create the connection to the service\n",
    "execute_trajectory_request_object = ExecTrajRequest() # Create an object of type ExecTrajRequest\n",
    "\n",
    "\"\"\"\n",
    "user:~/catkin_ws$ rossrv show iri_wam_reproduce_trajectory/ExecTraj\n",
    "string file\n",
    "---\n",
    "\n",
    "\"\"\"\n",
    "\n",
    "execute_trajectory_request_object.file = \"file_path\" # Fill the variable file of this object with the desired file path\n",
    "result = execute_trajectory_service_client(execute_trajectory_request_object) # Send through the connection the path to the trajectory file to be executed\n",
    "print result # Print the result type ExecTrajResponse"
   ]
  },
  {
   "cell_type": "markdown",
   "metadata": {},
   "source": [
    "<p style=\"background:#3B8F10;color:white;\" id=\"prg-3-1\">END **Python File: exercise_3_1.py** </p>"
   ]
  },
  {
   "cell_type": "markdown",
   "metadata": {},
   "source": [
    "As you can see , you need to specify the **file_path** into the **file** variable of the **Request**. But...Where are these **trajectory files anyway**?"
   ]
  },
  {
   "cell_type": "markdown",
   "metadata": {},
   "source": [
    "* Here you have the code necessary to get the path to the trajectory_files based on the package where they are. Here the trajectory_file **get_food.txt** is selected but you can use any of the available in the **config** folder in the package **iri_wam_reproduce_trajectory**."
   ]
  },
  {
   "cell_type": "code",
   "execution_count": null,
   "metadata": {
    "collapsed": true
   },
   "outputs": [],
   "source": [
    "import rospkg<br>\n",
    "rospack = rospkg.RosPack()<br>\n",
    "# This rospack.get_path() works in the same way as $(find name_of_package) in the launch files.<br>\n",
    "traj = rospack.get_path('iri_wam_reproduce_trajectory') + \"/config/get_food.txt\""
   ]
  },
  {
   "cell_type": "markdown",
   "metadata": {},
   "source": [
    "As you can see the trajecory_files are inside the package **iri_wam_reproduce_trajectory**. Lets have a look at that package and find the folder **config** where all the trajectory files are."
   ]
  },
  {
   "cell_type": "markdown",
   "metadata": {},
   "source": [
    "<table style=\"float:left;background: #407EAF\">\n",
    "<tr>\n",
    "<th>\n",
    "<p class=\"transparent\">Execute in WebShell #2</p>\n",
    "</th>\n",
    "</tr>\n",
    "</table>"
   ]
  },
  {
   "cell_type": "raw",
   "metadata": {},
   "source": [
    "roscd iri_wam_reproduce_trajectory\n",
    "cd config\n",
    "ls"
   ]
  },
  {
   "cell_type": "markdown",
   "metadata": {},
   "source": [
    "You will get:"
   ]
  },
  {
   "cell_type": "raw",
   "metadata": {},
   "source": [
    "user:/opt/ros/indigo/share/iri_wam_reproduce_trajectory/config$ ls\n",
    "get_food.txt  init_pos.txt  release_food.txt"
   ]
  },
  {
   "cell_type": "markdown",
   "metadata": {},
   "source": [
    "If we have a look at one of these **trajectory_files** with the **vim** WebConsole editor, or we copy one f these files to our workspace in **/home/user/carkin_ws/src**, you will see how they work. Lets check out the **get_food.txt** file."
   ]
  },
  {
   "cell_type": "code",
   "execution_count": null,
   "metadata": {
    "collapsed": true
   },
   "outputs": [],
   "source": [
    "roscd unit_3_services\n",
    "mkdir config\n",
    "roscd iri_wam_reproduce_trajectory/config\n",
    "cp get_food.txt /home/user/catkin_ws/src/unit_3_services/config"
   ]
  },
  {
   "cell_type": "code",
   "execution_count": null,
   "metadata": {
    "collapsed": true
   },
   "outputs": [],
   "source": [
    "0.0112138,0.942628,0.133408,1.65916,-0.214736,-1.05983,-0.430974,0.00213521,0.313696,0.0892853,-0.29252,-0.110414,0.0677202,0.140693,-0.00383239,-0.0665293,0.0935825,-0.27529,-0.393899,0.351521,-0.0444471,0.579301,2.77829,-2.87128,0.0812354,-0.336139,-0.000311573,0.0183247,-1.86726,1.48766,3.67008,-1.55314,0.302464,0.355123,0.0429483,0.0256781,-0.100288,0.0139974,-0.00673008,-0.00101568,-0.000844474,-1.56452e-05,-0.687394,-2.01554,2.78754,0.84521,-0.523724,0.667854,0.0283819\n",
    "0.0112557,0.948886,0.135215,1.65325,-0.217031,-1.0584,-0.428172,0.0020552,0.31212,0.0911877,-0.297971,-0.118286,0.0750198,0.139555,-0.00413107,-0.0884723,0.0962923,-0.269863,-0.392985,0.375216,-0.0669714,0.566718,2.75946,-2.81956,0.0580163,-0.300554,-0.00282943,-0.0253767,-1.86951,1.50267,3.68917,-1.56147,0.306648,0.359253,0.0428217,0.0280618,-0.133746,0.0155503,-0.010118,-0.00110025,-0.0010578,-1.80724e-05,-0.550031,-3.1407,2.94782,-2.77195,-1.55137,0.36242,-0.0223026\n",
    "0.0112958,0.955107,0.13706,1.64723,-0.219483,-1.05681,-0.425398,0.00196969,0.31013,0.0931383,-0.303284,-0.126112,0.0827353,0.137977,-0.00438779,-0.108162,0.0984662,-0.261782,-0.38954,0.393589,-0.088439,0.591821,2.68984,-2.77308,0.0552174,-0.250296,-0.0489743,0.0163657,-1.8719,1.51752,3.70853,-1.56945,0.311127,0.363222,0.042624,0.0266758,-0.161783,0.0161316,-0.0108963,-0.00112793,-0.00122445,-2.09172e-05,-1.45157,-3.65336,2.54961,-3.98732,-0.158789,0.0574192,0.0163606\n",
    "0.0113343,0.961284,0.138945,1.64111,-0.22209,-....."
   ]
  },
  {
   "cell_type": "markdown",
   "metadata": {},
   "source": [
    "Its a sequence of joint values that the service **execute_trajectory** will read based on the path given in the call."
   ]
  },
  {
   "cell_type": "markdown",
   "metadata": {},
   "source": [
    "So we just have to add this file searching snippet code to our main python code exercise_3_1.py:"
   ]
  },
  {
   "cell_type": "markdown",
   "metadata": {},
   "source": [
    "<p style=\"background:#3B8F10;color:white;\" id=\"prg-3-1\">**Python File: Update exercise_3_1.py** </p>"
   ]
  },
  {
   "cell_type": "code",
   "execution_count": null,
   "metadata": {
    "collapsed": true
   },
   "outputs": [],
   "source": [
    "#! /usr/bin/env python\n",
    "import rospkg\n",
    "import rospy\n",
    "from iri_wam_reproduce_trajectory.srv import ExecTraj, ExecTrajRequest # Import the service message used by the service /gazebo/delete_model\n",
    "\n",
    "rospy.init_node('service_execute_trajectory_client') # Initialise a ROS node with the name service_client\n",
    "rospy.wait_for_service('/execute_trajectory') # Wait for the service client /execute_trajectory to be running\n",
    "execute_trajectory_service_client = rospy.ServiceProxy('/execute_trajectory', ExecTraj) # Create the connection to the service\n",
    "execute_trajectory_request_object = ExecTrajRequest() # Create an object of type ExecTrajRequest\n",
    "\n",
    "\"\"\"\n",
    "user:~/catkin_ws$ rossrv show iri_wam_reproduce_trajectory/ExecTraj\n",
    "string file\n",
    "---\n",
    "\n",
    "\"\"\"\n",
    "\n",
    "rospack = rospkg.RosPack()\n",
    "# This rospack.get_path() works in the same way as $(find name_of_package) in the launch files.<br>\n",
    "trajectory_file_path = rospack.get_path('iri_wam_reproduce_trajectory') + \"/config/get_food.txt\"\n",
    "\n",
    "\n",
    "execute_trajectory_request_object.file = trajectory_file_path # Fill the variable file of this object with the desired file path\n",
    "result = execute_trajectory_service_client(execute_trajectory_request_object) # Send through the connection the path to the trajectory file to be executed\n",
    "print result # Print the result type ExecTrajResponse"
   ]
  },
  {
   "cell_type": "markdown",
   "metadata": {},
   "source": [
    "<p style=\"background:#3B8F10;color:white;\" id=\"prg-3-1\">**Python File: Update exercise_3_1.py** </p>"
   ]
  },
  {
   "cell_type": "markdown",
   "metadata": {},
   "source": [
    "* Add the call of **exercise_3_1.py** to the main launch **my_robot_arm_demo.launch**."
   ]
  },
  {
   "cell_type": "code",
   "execution_count": null,
   "metadata": {
    "collapsed": true
   },
   "outputs": [],
   "source": [
    "<launch>\n",
    "\n",
    "  <include file=\"$(find iri_wam_reproduce_trajectory)/launch/start_service.launch\"/>\n",
    "\n",
    "  <!-- Here will go our python script that calls the execute_trajectory service -->\n",
    "    <node pkg =\"unit_3_services\"\n",
    "        type=\"exercise_3_1.py\"\n",
    "        name=\"service_execute_trajectory_client\"\n",
    "        output=\"screen\">\n",
    "  </node>\n",
    "  \n",
    "  \n",
    "</launch>"
   ]
  },
  {
   "cell_type": "markdown",
   "metadata": {},
   "source": [
    "* Now Launch the **my_robot_arm_demo.launch** and see how the robot performs the trajectory."
   ]
  },
  {
   "cell_type": "markdown",
   "metadata": {},
   "source": [
    "You should get in case of executeing the trajectory **get_food.txt**, the following movement:"
   ]
  },
  {
   "cell_type": "markdown",
   "metadata": {},
   "source": [
    "<img src=\"../img/basic_unit3_exercise3-1.gif\"/>"
   ]
  }
 ],
 "metadata": {
  "anaconda-cloud": {},
  "kernelspec": {
   "display_name": "Python [Root]",
   "language": "python",
   "name": "Python [Root]"
  },
  "language_info": {
   "codemirror_mode": {
    "name": "ipython",
    "version": 2
   },
   "file_extension": ".py",
   "mimetype": "text/x-python",
   "name": "python",
   "nbconvert_exporter": "python",
   "pygments_lexer": "ipython2",
   "version": "2.7.12"
  }
 },
 "nbformat": 4,
 "nbformat_minor": 1
}
