{
 "cells": [
  {
   "cell_type": "markdown",
   "metadata": {},
   "source": [
    "# Solutions for Unit 3 Services Part 2"
   ]
  },
  {
   "cell_type": "markdown",
   "metadata": {},
   "source": [
    "<img src=\"../img/robotignite_logo_text.png\"/>"
   ]
  },
  {
   "cell_type": "markdown",
   "metadata": {},
   "source": [
    "## Index: \n",
    "* <a href=\"#SolutionExercise3-2\">Solution Exercise 3.2</a>\n",
    "* <a href=\"#SolutionExercise3-3\">Solution Exercise 3.3</a>"
   ]
  },
  {
   "cell_type": "markdown",
   "metadata": {},
   "source": [
    "<p id=\"SolutionExercise3-2\"></p>"
   ]
  },
  {
   "cell_type": "markdown",
   "metadata": {},
   "source": [
    "## Solution Exercise 3.2"
   ]
  },
  {
   "cell_type": "markdown",
   "metadata": {},
   "source": [
    "* The objective of this exercise 3.2 is to create a service that when called, BB8 robot moves in a square like trajectory."
   ]
  },
  {
   "cell_type": "markdown",
   "metadata": {},
   "source": [
    "Nothing to comment."
   ]
  },
  {
   "cell_type": "markdown",
   "metadata": {},
   "source": [
    "* You can work on a new package or use the one you created for exercise 3.1, called **unit_3_services**."
   ]
  },
  {
   "cell_type": "markdown",
   "metadata": {},
   "source": [
    "In this case, we are going to work on the package **unit_3_services**. ALthough note that you could work on a new package, or even separate the **service server** into one package, and the **service client** into another package. As you wish. We work on the same package for be clear in the explanation."
   ]
  },
  {
   "cell_type": "markdown",
   "metadata": {},
   "source": [
    "* Create a python file that has a class inside that allows the movement of the BB8 in a square  <a href=\"#fig-3.1\">{Fig-3.1}</a>. This class could be called, for reference, **MoveBB8**. And the python code that contains it, could called <a href=\"#move_bb8_py\">move_bb8.py</a>.<br>\n",
    "To move BB-8, you just have to write in the **/cmd_vel** Topic, as you did in Unit1 Topics.<br>\n",
    "Bear in mind that although this is a simulation, BB-8 has weight and, therefore, it won't stop immediately due to inertia.<br>\n",
    "Also, when turning, friction and inertia will be playing a role. Bear in mind that by only moving through /cmd_vel, you don't have a way of checking if it turned the way you wanted (it's called an open loop system).\n",
    "Unless, of course, you find a way to have some positional feedback information. That's a challenge for advanced AstroMech builders (if you want to try, think about using the /odom topic).<br>\n",
    "But for considering the movement Ok, you just have to more or less move in a square, doesnt have to be perfect."
   ]
  },
  {
   "cell_type": "markdown",
   "metadata": {},
   "source": [
    "So first of all we create the python file **move_bb8.py** in the package **unit_3_services**. You can put it inside the **scripts** folder or inside the **src** folder. This depends on whether you intend to use this class as a python module that will be accessed outside this package by other packages or not.<br>\n",
    "If you want it to be used outside this **unit_3_services**, it's advisibale to put it inside the src folder, inside a folder called like the package, with a **__init__.py** file. Because this is outside the scope of this unit, we will stick to the basic **scripts** location. You will learn how to do the more complex method in the **sphero project**."
   ]
  },
  {
   "cell_type": "markdown",
   "metadata": {},
   "source": [
    "Here you have the python file with the class **MoveBB8**, that moves the BB8 in a square in open loop."
   ]
  },
  {
   "cell_type": "markdown",
   "metadata": {},
   "source": [
    "<p style=\"background:#3B8F10;color:white;\" id=\"move_bb8_py\">**Python Program: move_bb8.py** </p><br>"
   ]
  },
  {
   "cell_type": "code",
   "execution_count": null,
   "metadata": {
    "collapsed": true
   },
   "outputs": [],
   "source": [
    "#!/usr/bin/env python\n",
    "import rospy\n",
    "from geometry_msgs.msg import Twist\n",
    "import time\n",
    "\n",
    "class MoveBB8():\n",
    "    \n",
    "    def __init__(self):\n",
    "        self.bb8_vel_publisher = rospy.Publisher('/cmd_vel', Twist, queue_size=1)\n",
    "        self.ctrl_c = False\n",
    "        rospy.on_shutdown(self.shutdownhook)\n",
    "        self.rate = rospy.Rate(10) # 10hz\n",
    "    \n",
    "    \n",
    "    \n",
    "    def publish_once_in_cmd_vel(self, cmd):\n",
    "        \"\"\"\n",
    "        This is because publishing in topics sometimes fails teh first time you publish.\n",
    "        In continuos publishing systems there is no big deal but in systems that publish only\n",
    "        once it IS very important.\n",
    "        \"\"\"\n",
    "        while not self.ctrl_c:\n",
    "            connections = self.bb8_vel_publisher.get_num_connections()\n",
    "            if connections > 0:\n",
    "                self.bb8_vel_publisher.publish(cmd)\n",
    "                rospy.loginfo(\"Cmd Published\")\n",
    "                break\n",
    "            else:\n",
    "                self.rate.sleep()\n",
    "    \n",
    "    \n",
    "    def shutdownhook(self):\n",
    "            # works better than the rospy.is_shut_down()\n",
    "            self.stop_bb8()\n",
    "            self.ctrl_c = True\n",
    "\n",
    "    def stop_bb8(self):\n",
    "        rospy.loginfo(\"shutdown time! Stop the robot\")\n",
    "        cmd = Twist()\n",
    "        cmd.linear.x = 0.0\n",
    "        cmd.angular.z = 0.0\n",
    "        self.publish_once_in_cmd_vel(cmd)\n",
    "\n",
    "\n",
    "    def move_x_time(self, moving_time, linear_speed=0.2, angular_speed=0.2):\n",
    "        \n",
    "        cmd = Twist()\n",
    "        cmd.linear.x = linear_speed\n",
    "        cmd.angular.z = angular_speed\n",
    "        \n",
    "        rospy.loginfo(\"Moving Forwards\")\n",
    "        self.publish_once_in_cmd_vel(cmd)\n",
    "        time.sleep(moving_time)\n",
    "        self.stop_bb8()\n",
    "        rospy.loginfo(\"######## Finished Moving Forwards\")\n",
    "    \n",
    "    def move_square(self):\n",
    "        \n",
    "        i = 0\n",
    "        while not self.ctrl_c and i < 4:\n",
    "            # Move Forwards\n",
    "            self.move_x_time(moving_time=2.0, linear_speed=0.2, angular_speed=0.0)\n",
    "            # Stop\n",
    "            self.move_x_time(moving_time=4.0, linear_speed=0.0, angular_speed=0.0)\n",
    "            # Turn \n",
    "            self.move_x_time(moving_time=3.5, linear_speed=0.0, angular_speed=0.2)\n",
    "            # Stop\n",
    "            self.move_x_time(moving_time=0.1, linear_speed=0.0, angular_speed=0.0)\n",
    "            \n",
    "            i += 1\n",
    "        rospy.loginfo(\"######## Finished Moving in a Square\")\n",
    "        \n",
    "\n",
    "            \n",
    "if __name__ == '__main__':\n",
    "    rospy.init_node('move_bb8_test', anonymous=True)\n",
    "    movebb8_object = MoveBB8()\n",
    "    try:\n",
    "        movebb8_object.move_square()\n",
    "    except rospy.ROSInterruptException:\n",
    "        pass\n"
   ]
  },
  {
   "cell_type": "markdown",
   "metadata": {},
   "source": [
    "<p style=\"background:#3B8F10;color:white;\" id=\"move_bb8_py\">END **Python Program: move_bb8.py** </p><br>"
   ]
  },
  {
   "cell_type": "markdown",
   "metadata": {},
   "source": [
    "* Add a service server that accepts an <b>Empty</b> Service messages and activates the square movement. This service could be called **/move_bb8_in_square**<br>\n",
    "This activation will be done through a call to the Class **MoveBB8**.<br>\n",
    "For that, you have to create a very similar python file as <a href=\"#prg-3-7\">simple_service_server.py</a>. You could call it **bb8_move_in_square_service_server.py**."
   ]
  },
  {
   "cell_type": "markdown",
   "metadata": {},
   "source": [
    "So the first step is to create a python file called <a href=\"#bb8_move_in_square_service_server_py\">bb8_move_in_square_service_server.py</a>, which will be a modified version of the example given in **example 3.7**."
   ]
  },
  {
   "cell_type": "markdown",
   "metadata": {},
   "source": [
    "<p style=\"background:#3B8F10;color:white;\" id=\"bb8_move_in_square_service_server_py\">**Python Program: bb8_move_in_square_service_server.py** </p>"
   ]
  },
  {
   "cell_type": "code",
   "execution_count": null,
   "metadata": {
    "collapsed": true
   },
   "outputs": [],
   "source": [
    "#! /usr/bin/env python\n",
    "\n",
    "import rospy\n",
    "from std_srvs.srv import Empty, EmptyResponse # you import the service message python classes generated from Empty.srv.\n",
    "from move_bb8 import MoveBB8\n",
    "\n",
    "def my_callback(request):\n",
    "    rospy.loginfo(\"The Service move_bb8_in_square has been called\")\n",
    "    movebb8_object = MoveBB8()\n",
    "    movebb8_object.move_square()\n",
    "    rospy.loginfo(\"Finished service move_bb8_in_square that was called called\")\n",
    "    return EmptyResponse() # the service Response class, in this case EmptyResponse\n",
    "    #return MyServiceResponse(len(request.words.split())) \n",
    "\n",
    "rospy.init_node('service_move_bb8_in_square_server') \n",
    "my_service = rospy.Service('/move_bb8_in_square', Empty , my_callback) # create the Service called move_bb8_in_square with the defined callback\n",
    "rospy.loginfo(\"Service /move_bb8_in_square Ready\")\n",
    "rospy.spin() # mantain the service open."
   ]
  },
  {
   "cell_type": "markdown",
   "metadata": {},
   "source": [
    "<p style=\"background:#3B8F10;color:white;\">END **Python Program: bb8_move_in_square_service_server.py** </p>"
   ]
  },
  {
   "cell_type": "markdown",
   "metadata": {},
   "source": [
    "Once you have it , test it through a **call** in the WebConsole to the service **/move_bb8_in_square**."
   ]
  },
  {
   "cell_type": "markdown",
   "metadata": {},
   "source": [
    "<table style=\"float:left;background: #407EAF\">\n",
    "<tr>\n",
    "<th>\n",
    "<p class=\"transparent\">Execute in WebShell #1</p>\n",
    "</th>\n",
    "</tr>\n",
    "</table>\n",
    "<br>"
   ]
  },
  {
   "cell_type": "code",
   "execution_count": null,
   "metadata": {
    "collapsed": true
   },
   "outputs": [],
   "source": [
    "rosservice call /move_bb8_in_square [TAB]+[TAB]"
   ]
  },
  {
   "cell_type": "markdown",
   "metadata": {},
   "source": [
    "You should get BB8 moving like so:"
   ]
  },
  {
   "cell_type": "markdown",
   "metadata": {},
   "source": [
    "<img src=\"../img/basic_unit3_exercise3-2.gif\"/>"
   ]
  },
  {
   "cell_type": "markdown",
   "metadata": {},
   "source": [
    "* Create a launch file called **start_bb8_move_in_square_service_server.launch**. Inside it you have to start a node that launches the **bb8_move_in_square_service_server.py**. "
   ]
  },
  {
   "cell_type": "markdown",
   "metadata": {},
   "source": [
    "So this is the <a href=\"#start_bb8_move_in_square_service_server_launch\">start_bb8_move_in_square_service_server.launch</a> that launches the **bb8_move_in_square_service_server.py**."
   ]
  },
  {
   "cell_type": "markdown",
   "metadata": {},
   "source": [
    "<p style=\"background:#3B8F10;color:white;\" id=\"start_bb8_move_in_square_service_server_launch\">**Launch Program: start_bb8_move_in_square_service_server.launch** </p>"
   ]
  },
  {
   "cell_type": "code",
   "execution_count": null,
   "metadata": {
    "collapsed": true
   },
   "outputs": [],
   "source": [
    "<launch>\n",
    "    <!-- Start Service Server for move_bb8_in_square service -->\n",
    "    <node pkg=\"unit_3_services\" type=\"bb8_move_in_square_service_server.py\" name=\"service_move_bb8_in_square_server\"  output=\"screen\">\n",
    "    </node>\n",
    "</launch>"
   ]
  },
  {
   "cell_type": "markdown",
   "metadata": {},
   "source": [
    "<p style=\"background:#3B8F10;color:white;\">END **Launch Program: start_bb8_move_in_square_service_server.launch** </p>"
   ]
  },
  {
   "cell_type": "markdown",
   "metadata": {},
   "source": [
    "Test it by launching this launch **start_bb8_move_in_square_service_server.launch** and calling the service as before. Is the exact same procedure , only that we are launching the service server through a launch file, instead of directly through a python file."
   ]
  },
  {
   "cell_type": "markdown",
   "metadata": {},
   "source": [
    "* Create a new python code, called **bb8_move_in_square_service_client.py**, that calls the service **/move_bb8_in_square**. Remember how it was done in **Unit3 Services Part1**.<br>\n",
    "Then generate a new launch file, called **call_bb8_move_in_square_service_server.launch**, that executes the **bb8_move_in_square_service_client.py** through a node."
   ]
  },
  {
   "cell_type": "markdown",
   "metadata": {},
   "source": [
    "The <a href=\"#bb8_move_in_square_service_client_py\">bb8_move_in_square_service_client.py</a> should be similar to this:"
   ]
  },
  {
   "cell_type": "markdown",
   "metadata": {},
   "source": [
    "<p style=\"background:#3B8F10;color:white;\" id=\"bb8_move_in_square_service_client_py\">**Python Program: bb8_move_in_square_service_client.py** </p>"
   ]
  },
  {
   "cell_type": "code",
   "execution_count": null,
   "metadata": {
    "collapsed": true
   },
   "outputs": [],
   "source": [
    "#! /usr/bin/env python\n",
    "import rospkg\n",
    "import rospy\n",
    "from std_srvs.srv import Empty, EmptyRequest # you import the service message python classes generated from Empty.srv.\n",
    "\n",
    "rospy.init_node('service_move_bb8_in_square_client') # Initialise a ROS node with the name service_client\n",
    "rospy.wait_for_service('/move_bb8_in_square') # Wait for the service client /move_bb8_in_square to be running\n",
    "move_bb8_in_square_service_client = rospy.ServiceProxy('/move_bb8_in_square', Empty) # Create the connection to the service\n",
    "move_bb8_in_square_request_object = EmptyRequest() # Create an object of type EmptyRequest\n",
    "\n",
    "result = move_bb8_in_square_service_client(move_bb8_in_square_request_object) # Send through the connection the path to the trajectory file to be executed\n",
    "print result # Print the result given by the service called"
   ]
  },
  {
   "cell_type": "markdown",
   "metadata": {},
   "source": [
    "<p style=\"background:#3B8F10;color:white;\">END **Python Program: bb8_move_in_square_service_client.py** </p>"
   ]
  },
  {
   "cell_type": "markdown",
   "metadata": {},
   "source": [
    "The <a href=\"#call_bb8_move_in_square_service_server_launch\">call_bb8_move_in_square_service_server.launch</a> should be like this:"
   ]
  },
  {
   "cell_type": "markdown",
   "metadata": {},
   "source": [
    "<p style=\"background:#3B8F10;color:white;\" id=\"call_bb8_move_in_square_service_server_launch\">**Launch Program: call_bb8_move_in_square_service_server.launch** </p>"
   ]
  },
  {
   "cell_type": "code",
   "execution_count": null,
   "metadata": {
    "collapsed": true
   },
   "outputs": [],
   "source": [
    "<launch>\n",
    "    <!-- Start Service Server for move_bb8_in_square service -->\n",
    "    <node pkg=\"unit_3_services\" type=\"bb8_move_in_square_service_client.py\" name=\"service_move_bb8_in_square_client\"  output=\"screen\">\n",
    "    </node>\n",
    "</launch>"
   ]
  },
  {
   "cell_type": "markdown",
   "metadata": {},
   "source": [
    "<p style=\"background:#3B8F10;color:white;\" id=\"start_bb8_move_in_square_service_server_launch\">**Launch Program: call_bb8_move_in_square_service_server.launch** </p>"
   ]
  },
  {
   "cell_type": "markdown",
   "metadata": {},
   "source": [
    "* When launched **call_bb8_move_in_square_service_server.launch**, bb8 should move in a square."
   ]
  },
  {
   "cell_type": "markdown",
   "metadata": {},
   "source": [
    "This should works exactly thesame way as the other calls you have performed. But in this case you launch **start_bb8_move_in_square_service_server.launch** and the in another terminal you launch **call_bb8_move_in_square_service_server.launch**."
   ]
  },
  {
   "cell_type": "markdown",
   "metadata": {},
   "source": [
    "<p id=\"SolutionExercise3-3\"></p>"
   ]
  },
  {
   "cell_type": "markdown",
   "metadata": {},
   "source": [
    "## Solution Exercise 3.3"
   ]
  },
  {
   "cell_type": "markdown",
   "metadata": {},
   "source": [
    "* Upgrade the python file **move_bb8.py** so that it can move BB8 in a square of variable size."
   ]
  },
  {
   "cell_type": "markdown",
   "metadata": {},
   "source": [
    "Here you have the modified version of the <a href=\"#move_bb8_py_mod\">move_bb8.py</a> file:"
   ]
  },
  {
   "cell_type": "markdown",
   "metadata": {},
   "source": [
    "<p style=\"background:#3B8F10;color:white;\" id=\"move_bb8_py_mod\">**Python File: move_bb8.py** </p>"
   ]
  },
  {
   "cell_type": "code",
   "execution_count": null,
   "metadata": {
    "collapsed": true
   },
   "outputs": [],
   "source": [
    "#!/usr/bin/env python\n",
    "import rospy\n",
    "from geometry_msgs.msg import Twist\n",
    "import time\n",
    "import math\n",
    "\n",
    "class MoveBB8():\n",
    "    \n",
    "    def __init__(self):\n",
    "        self.bb8_vel_publisher = rospy.Publisher('/cmd_vel', Twist, queue_size=1)\n",
    "        self.ctrl_c = False\n",
    "        rospy.on_shutdown(self.shutdownhook)\n",
    "        self.rate = rospy.Rate(10) # 10hz\n",
    "    \n",
    "    \n",
    "    \n",
    "    def publish_once_in_cmd_vel(self, cmd):\n",
    "        \"\"\"\n",
    "        This is because publishing in topics sometimes fails teh first time you publish.\n",
    "        In continuos publishing systems there is no big deal but in systems that publish only\n",
    "        once it IS very important.\n",
    "        \"\"\"\n",
    "        while not self.ctrl_c:\n",
    "            connections = self.bb8_vel_publisher.get_num_connections()\n",
    "            if connections > 0:\n",
    "                self.bb8_vel_publisher.publish(cmd)\n",
    "                rospy.loginfo(\"Cmd Published\")\n",
    "                break\n",
    "            else:\n",
    "                self.rate.sleep()\n",
    "    \n",
    "    \n",
    "    def shutdownhook(self):\n",
    "            # works better than the rospy.is_shut_down()\n",
    "            self.stop_bb8()\n",
    "            self.ctrl_c = True\n",
    "\n",
    "    def stop_bb8(self):\n",
    "        rospy.loginfo(\"shutdown time! Stop the robot\")\n",
    "        cmd = Twist()\n",
    "        cmd.linear.x = 0.0\n",
    "        cmd.angular.z = 0.0\n",
    "        self.publish_once_in_cmd_vel(cmd)\n",
    "\n",
    "\n",
    "    def move_x_time(self, moving_time, linear_speed=0.2, angular_speed=0.2):\n",
    "        \n",
    "        cmd = Twist()\n",
    "        cmd.linear.x = linear_speed\n",
    "        cmd.angular.z = angular_speed\n",
    "        \n",
    "        rospy.loginfo(\"Moving Forwards\")\n",
    "        self.publish_once_in_cmd_vel(cmd)\n",
    "        time.sleep(moving_time)\n",
    "        self.stop_bb8()\n",
    "        rospy.loginfo(\"######## Finished Moving Forwards\")\n",
    "    \n",
    "    def move_square(self, side=0.2):\n",
    "        \n",
    "        i = 0\n",
    "        # More Speed, more time to stop\n",
    "        time_magnitude = side / 0.2\n",
    "        \n",
    "        while not self.ctrl_c and i < 4:\n",
    "            # Move Forwards\n",
    "            self.move_x_time(moving_time=2.0*time_magnitude, linear_speed=0.2, angular_speed=0.0)\n",
    "            # Stop\n",
    "            self.move_x_time(moving_time=4.0, linear_speed=0.0, angular_speed=0.0)\n",
    "            # Turn, the turning is not afected by the length of the side we want\n",
    "            self.move_x_time(moving_time=4.0, linear_speed=0.0, angular_speed=0.2)\n",
    "            # Stop\n",
    "            self.move_x_time(moving_time=0.1, linear_speed=0.0, angular_speed=0.0)\n",
    "            \n",
    "            i += 1\n",
    "        rospy.loginfo(\"######## Finished Moving in a Square\")\n",
    "        \n",
    "\n",
    "            \n",
    "if __name__ == '__main__':\n",
    "    rospy.init_node('move_bb8_test', anonymous=True)\n",
    "    movebb8_object = MoveBB8()\n",
    "    try:\n",
    "        movebb8_object.move_square(side=0.6)\n",
    "    except rospy.ROSInterruptException:\n",
    "        pass\n"
   ]
  },
  {
   "cell_type": "markdown",
   "metadata": {},
   "source": [
    "<p style=\"background:#3B8F10;color:white;\">END **Python File: move_bb8.py** </p>"
   ]
  },
  {
   "cell_type": "markdown",
   "metadata": {},
   "source": [
    "As you can see, the changes are very small. Just a few comments:"
   ]
  },
  {
   "cell_type": "code",
   "execution_count": null,
   "metadata": {
    "collapsed": true
   },
   "outputs": [],
   "source": [
    "while not self.ctrl_c and i < 4:\n",
    "            # Move Forwards\n",
    "            self.move_x_time(moving_time=2.0*time_magnitude, linear_speed=0.2, angular_speed=0.0)\n",
    "            # Stop"
   ]
  },
  {
   "cell_type": "markdown",
   "metadata": {},
   "source": [
    "We only change the time BB8 is moving forwards to describe a bigger or smaller Square. Of course, without calibration nor closed loop controle, its very difficult to make it create a perfect size square. But the objective is not that. The objective is that the square changes, it doenst have to be exact."
   ]
  },
  {
   "cell_type": "markdown",
   "metadata": {},
   "source": [
    "* Create a new python file, called **bb8_move_custom_service_server.py**, modifying the service server that accepts an Empty Service message and activates the square movement that you created in Exercise 3.2. This new service could be called **/move_bb8_in_square_custom**. This new service will have to use service messages of type **BB8CustomServiceMessage** defined here:"
   ]
  },
  {
   "cell_type": "markdown",
   "metadata": {},
   "source": [
    "The first thing is to create the <a href=\"#BB8CustomServiceMessage_srv\">BB8CustomServiceMessage.srv</a>, creating a **srv** folder inside the package **unit_3_services*."
   ]
  },
  {
   "cell_type": "markdown",
   "metadata": {},
   "source": [
    "<p style=\"background:#3B8F10;color:white;\" id=\"BB8CustomServiceMessage_srv\">**Service Message: BB8CustomServiceMessage.srv** </p>"
   ]
  },
  {
   "cell_type": "code",
   "execution_count": null,
   "metadata": {
    "collapsed": true
   },
   "outputs": [],
   "source": [
    "float64 side       # The distance of each side of the square\n",
    "int32 repetitions    # The number of times BB-8 has to execute the square movement when the service is called\n",
    "---\n",
    "bool success         # Did it achieve it?"
   ]
  },
  {
   "cell_type": "markdown",
   "metadata": {},
   "source": [
    "<p style=\"background:#3B8F10;color:white;\" id=\"BB8CustomServiceMessage_srv\">END **Service Message: BB8CustomServiceMessage.srv** </p>"
   ]
  },
  {
   "cell_type": "markdown",
   "metadata": {},
   "source": [
    "We have to also modify the <a href=\"#CMakelists_txt\">CMakelists.txt</a> and the <a href=\"#package_xml\">package.xml</a>"
   ]
  },
  {
   "cell_type": "markdown",
   "metadata": {},
   "source": [
    "<p style=\"background:#3B8F10;color:white;\" id=\"CMakelists_txt\">**CMakelists.txt** </p>"
   ]
  },
  {
   "cell_type": "code",
   "execution_count": null,
   "metadata": {
    "collapsed": true
   },
   "outputs": [],
   "source": [
    "cmake_minimum_required(VERSION 2.8.3)\n",
    "project(unit_3_services)\n",
    "\n",
    "\n",
    "## Here go all the packages needed to COMPILE the messages of topic, services and actions.\n",
    "## Its only geting its paths, and not really importing them to be used in the compilation.\n",
    "## Its only for further functions in CMakeLists.txt to be able to find those packages.\n",
    "## In package.xml you have to state them as build\n",
    "find_package(catkin REQUIRED COMPONENTS\n",
    "  std_msgs\n",
    "  message_generation\n",
    ")\n",
    "\n",
    "## Generate services in the 'srv' folder\n",
    "## In this function will be all the action messages of this package ( in the action folder ) to be compiled.\n",
    "## You can state that it gets all the actions inside the action directory: DIRECTORY action\n",
    "## Or just the action messages stated explicitly: FILES my_custom_action.action\n",
    "## In your case you only need to do one of two things, as you wish.\n",
    "add_service_files(\n",
    "  FILES\n",
    "  BB8CustomServiceMessage.srv\n",
    ")\n",
    "\n",
    "## Here is where the packages needed for the action messages compilation are imported.\n",
    "generate_messages(\n",
    "  DEPENDENCIES\n",
    "  std_msgs\n",
    ")\n",
    "\n",
    "## State here all the packages that will be needed by someone that executes something from your package.\n",
    "## All the packages stated here must be in the package.xml as run_depend\n",
    "catkin_package(\n",
    "  CATKIN_DEPENDS rospy\n",
    ")\n",
    "\n",
    "\n",
    "include_directories(\n",
    "  ${catkin_INCLUDE_DIRS}\n",
    ")"
   ]
  },
  {
   "cell_type": "markdown",
   "metadata": {},
   "source": [
    "<p style=\"background:#3B8F10;color:white;\" id=\"package_xml\">**package.xml** </p>"
   ]
  },
  {
   "cell_type": "code",
   "execution_count": null,
   "metadata": {
    "collapsed": true
   },
   "outputs": [],
   "source": [
    "<?xml version=\"1.0\"?>\n",
    "<package>\n",
    "  <name>unit_3_services</name>\n",
    "  <version>0.0.0</version>\n",
    "  <description>The unit_3_services package</description>\n",
    "\n",
    "  <maintainer email=\"user@todo.todo\">user</maintainer>\n",
    "\n",
    "  <license>TODO</license>\n",
    "\n",
    "  <buildtool_depend>catkin</buildtool_depend>\n",
    "  <build_depend>rospy</build_depend>\n",
    "  <build_depend>message_generation</build_depend>\n",
    "  <run_depend>rospy</run_depend>\n",
    "  <run_depend>message_runtime</run_depend>\n",
    "\n",
    "\n",
    "  <!-- The export tag contains other, unspecified, tags -->\n",
    "  <export>\n",
    "    <!-- Other tools can request additional information be placed here -->\n",
    "  </export>\n",
    "</package>"
   ]
  },
  {
   "cell_type": "markdown",
   "metadata": {},
   "source": [
    "Once you have it just compile and source in **ALL the webwhells** that you are going to use so that ROS can find the new Messages."
   ]
  },
  {
   "cell_type": "code",
   "execution_count": null,
   "metadata": {
    "collapsed": true
   },
   "outputs": [],
   "source": [
    "roscd;cd ..\n",
    "catkin_make\n",
    "source devel/setup.bash"
   ]
  },
  {
   "cell_type": "markdown",
   "metadata": {},
   "source": [
    "And check it finds the messages:"
   ]
  },
  {
   "cell_type": "code",
   "execution_count": null,
   "metadata": {
    "collapsed": true
   },
   "outputs": [],
   "source": [
    "rossrv list | grep BB8CustomServiceMessage"
   ]
  },
  {
   "cell_type": "markdown",
   "metadata": {},
   "source": [
    "You should get:"
   ]
  },
  {
   "cell_type": "code",
   "execution_count": null,
   "metadata": {
    "collapsed": true
   },
   "outputs": [],
   "source": [
    "unit_3_services/BB8CustomServiceMessage"
   ]
  },
  {
   "cell_type": "markdown",
   "metadata": {},
   "source": [
    "* Use the data passed to this new **/move_bb8_in_square_custom** to change the way BB-8 moves.<br>\n",
    "Depending on the **side** value, the service must move the BB-8 has to generate a shape of a square based on the **side** given.<br>\n",
    "Also, the BB-8 must repeat the shape as many times as indicated in the **repetitions** variable of the message.<br> Finally, it must return True if everything went OK in the **success** variable. "
   ]
  },
  {
   "cell_type": "markdown",
   "metadata": {},
   "source": [
    "Now its time to create the <a href=\"#bb8_move_custom_service_server.py\">bb8_move_custom_service_server.py</a>, using the new service messages **BB8CustomServiceMessage**."
   ]
  },
  {
   "cell_type": "markdown",
   "metadata": {},
   "source": [
    "<p style=\"background:#3B8F10;color:white;\" id=\"bb8_move_custom_service_server.py\">**Python File: bb8_move_custom_service_server.py** </p>"
   ]
  },
  {
   "cell_type": "code",
   "execution_count": null,
   "metadata": {
    "collapsed": true
   },
   "outputs": [],
   "source": [
    "#! /usr/bin/env python\n",
    "\n",
    "import rospy\n",
    "from unit_3_services.srv import BB8CustomServiceMessage, BB8CustomServiceMessageResponse\n",
    "from move_bb8 import MoveBB8\n",
    "\n",
    "\"\"\"\n",
    "# BB8CustomServiceMessage\n",
    "float64 side       # The distance of each side of the square\n",
    "int32 repetitions    # The number of times BB-8 has to execute the square movement when the service is called\n",
    "---\n",
    "bool success         # Did it achieve it?\n",
    "\"\"\"\n",
    "\n",
    "def my_callback(request):\n",
    "    rospy.loginfo(\"The Service move_bb8_in_square_custom has been called\")\n",
    "    \n",
    "    movebb8_object = MoveBB8()\n",
    "    \n",
    "    # We need to add because if we ask 0 repetitions means to execute once, not zero times.\n",
    "    repetitions_of_square = request.repetitions + 1\n",
    "    new_side = request.side\n",
    "    for i in range(repetitions_of_square):\n",
    "        rospy.loginfo(\"Start Movement with side = \"+str(new_side)+\"Repetition = \"+str(i))\n",
    "        movebb8_object.move_square(side=new_side)\n",
    "        \n",
    "    rospy.loginfo(\"Finished service move_bb8_in_square that was called called\")\n",
    "    response = BB8CustomServiceMessageResponse()\n",
    "    response.success = True\n",
    "    return response\n",
    "\n",
    "rospy.init_node('service_move_bb8_in_square_custom_server') \n",
    "my_service = rospy.Service('/move_bb8_in_square_custom', BB8CustomServiceMessage , my_callback) # create the Service called move_bb8_in_square with the defined callback\n",
    "rospy.loginfo(\"Service /move_bb8_in_square_custom Ready\")\n",
    "rospy.spin() # mantain the service open."
   ]
  },
  {
   "cell_type": "markdown",
   "metadata": {},
   "source": [
    "<p style=\"background:#3B8F10;color:white;\">END **Python File: bb8_move_custom_service_server.py** </p>"
   ]
  },
  {
   "cell_type": "markdown",
   "metadata": {},
   "source": [
    "* Create a new launch called **start_bb8_move_custom_service_server.launch** that launches the server launched in the python file **bb8_move_custom_service_server.py**.\n",
    "* Test that when calling this new service **/move_bb8_in_square_custom**, BB8 moves accordingly."
   ]
  },
  {
   "cell_type": "markdown",
   "metadata": {},
   "source": [
    "This **start_bb8_move_custom_service_server.launch** is the same as the one made in Exercise 3.2, changing the python launched to **bb8_move_custom_service_server.py**."
   ]
  },
  {
   "cell_type": "code",
   "execution_count": null,
   "metadata": {
    "collapsed": true
   },
   "outputs": [],
   "source": [
    "<launch>\n",
    "    <!-- Start Service Server for move_bb8_in_square service -->\n",
    "    <node pkg=\"unit_3_services\" type=\"bb8_move_custom_service_server.py\" name=\"service_move_bb8_in_square_custom_server\"  output=\"screen\">\n",
    "    </node>\n",
    "</launch>"
   ]
  },
  {
   "cell_type": "markdown",
   "metadata": {},
   "source": [
    "* Create a new service client that calls the service **/move_bb8_in_square_custom** and makes BB8 move in a small square **twice** and in a big square **once**. It could be called **bb8_move_custom_service_client.py** and the launch that starts it **call_bb8_move_in_square_custom_service_server.launch**."
   ]
  },
  {
   "cell_type": "markdown",
   "metadata": {},
   "source": [
    "We first create the <a href=\"#bb8_move_custom_service_client_py\">bb8_move_custom_service_client.py</a> that will execute a call to perform the two small squares and one big square."
   ]
  },
  {
   "cell_type": "markdown",
   "metadata": {},
   "source": [
    "<p style=\"background:#3B8F10;color:white;\" id=\"bb8_move_custom_service_client_py\">**Python File: bb8_move_custom_service_client.py** </p>"
   ]
  },
  {
   "cell_type": "code",
   "execution_count": null,
   "metadata": {
    "collapsed": true
   },
   "outputs": [],
   "source": [
    "#! /usr/bin/env python\n",
    "import rospkg\n",
    "import rospy\n",
    "from unit_3_services.srv import BB8CustomServiceMessage, BB8CustomServiceMessageRequest\n",
    "\n",
    "\n",
    "rospy.init_node('service_move_bb8_in_square_custom_client') # Initialise a ROS node with the name service_client\n",
    "rospy.wait_for_service('/move_bb8_in_square_custom') # Wait for the service client /move_bb8_in_square to be running\n",
    "move_bb8_in_square_service_client = rospy.ServiceProxy('/move_bb8_in_square_custom', BB8CustomServiceMessage) # Create the connection to the service\n",
    "move_bb8_in_square_request_object = BB8CustomServiceMessageRequest() # Create an object of type EmptyRequest\n",
    "\n",
    "\n",
    "\"\"\"\n",
    "# BB8CustomServiceMessage\n",
    "float64 side       # The distance of each side of the square\n",
    "int32 repetitions    # The number of times BB-8 has to execute the square movement when the service is called\n",
    "---\n",
    "bool success         # Did it achieve it?\n",
    "\"\"\"\n",
    "move_bb8_in_square_request_object.side = 0.1\n",
    "move_bb8_in_square_request_object.repetitions = 2\n",
    "\n",
    "rospy.loginfo(\"Start Two Small Squares...\")\n",
    "result = move_bb8_in_square_service_client(move_bb8_in_square_request_object) # Send through the connection the path to the trajectory file to be executed\n",
    "rospy.loginfo(str(result)) # Print the result given by the service called\n",
    "\n",
    "move_bb8_in_square_request_object.side = 0.6\n",
    "move_bb8_in_square_request_object.repetitions = 1\n",
    "\n",
    "rospy.loginfo(\"Start One Big Square...\")\n",
    "result = move_bb8_in_square_service_client(move_bb8_in_square_request_object) # Send through the connection the path to the trajectory file to be executed\n",
    "rospy.loginfo(str(result))\n",
    "\n",
    "rospy.loginfo(\"END of Service call...\")"
   ]
  },
  {
   "cell_type": "markdown",
   "metadata": {},
   "source": [
    "<p style=\"background:#3B8F10;color:white;\">END **Python File: bb8_move_custom_service_client.py** </p>"
   ]
  },
  {
   "cell_type": "markdown",
   "metadata": {},
   "source": [
    "And now we have to create a launch that launches this python node ,called <a href=\"#call_bb8_move_in_square_custom_service_server_launch\">call_bb8_move_in_square_custom_service_server.launch</a>:"
   ]
  },
  {
   "cell_type": "markdown",
   "metadata": {},
   "source": [
    "<p style=\"background:#3B8F10;color:white;\" id=\"call_bb8_move_in_square_custom_service_server_launch\">**Launch File: call_bb8_move_in_square_custom_service_server.launch** </p>"
   ]
  },
  {
   "cell_type": "code",
   "execution_count": null,
   "metadata": {
    "collapsed": true
   },
   "outputs": [],
   "source": [
    "<launch>\n",
    "    <!-- Start Service Server for move_bb8_in_square service -->\n",
    "    <node pkg=\"unit_3_services\" type=\"bb8_move_custom_service_client.py\" name=\"service_move_bb8_in_square_custom_client\"  output=\"screen\">\n",
    "    </node>\n",
    "</launch>"
   ]
  },
  {
   "cell_type": "markdown",
   "metadata": {},
   "source": [
    "<p style=\"background:#3B8F10;color:white;\">END **Launch File: call_bb8_move_in_square_custom_service_server.launch** </p>"
   ]
  },
  {
   "cell_type": "markdown",
   "metadata": {},
   "source": [
    "The finally you just have to test all the pipeline, so you have to launch the server launch in one web shell and the client in the other. It should make the robot move as desired."
   ]
  },
  {
   "cell_type": "markdown",
   "metadata": {},
   "source": [
    "<table style=\"float:left;background: #407EAF\">\n",
    "<tr>\n",
    "<th>\n",
    "<p class=\"transparent\">Execute in WebShell #1</p>\n",
    "</th>\n",
    "</tr>\n",
    "</table>\n",
    "<br>"
   ]
  },
  {
   "cell_type": "code",
   "execution_count": null,
   "metadata": {
    "collapsed": true
   },
   "outputs": [],
   "source": [
    "roslaunch unit_3_services start_bb8_move_custom_service_server.launch"
   ]
  },
  {
   "cell_type": "markdown",
   "metadata": {},
   "source": [
    "<table style=\"float:left;background: #407EAF\">\n",
    "<tr>\n",
    "<th>\n",
    "<p class=\"transparent\">Execute in WebShell #2</p>\n",
    "</th>\n",
    "</tr>\n",
    "</table>\n",
    "<br>"
   ]
  },
  {
   "cell_type": "code",
   "execution_count": null,
   "metadata": {
    "collapsed": true
   },
   "outputs": [],
   "source": [
    "roslaunch unit_3_services call_bb8_move_in_square_custom_service_server.launch"
   ]
  },
  {
   "cell_type": "markdown",
   "metadata": {},
   "source": [
    "You should get something similar to this, but slower, because this has been accelerated for practical reasons:"
   ]
  },
  {
   "cell_type": "markdown",
   "metadata": {},
   "source": [
    "<img src=\"../img/basic_unit3_exercise3-3_final.gif\"/>"
   ]
  },
  {
   "cell_type": "markdown",
   "metadata": {},
   "source": [
    "## Solution EXTRA Odometry:"
   ]
  },
  {
   "cell_type": "markdown",
   "metadata": {},
   "source": [
    "Here you have an example of how to access and move based on the odometry readings. Bare in mind that the odometry is not perfect, and therefore there are some inexactitudes, specially in the orientation. The position is quite precise. This is why robots need other localization systems, but thats a very advanced topics. If you are interesetd, please do the **ROS navigation** course or the robot courses of **Jackal robot** or ** Summit XL**."
   ]
  },
  {
   "cell_type": "markdown",
   "metadata": {},
   "source": [
    "<p style=\"background:#3B8F10;color:white;\" id=\"UPGRADE_move_bb8_py\">UPGRADE **Python File: move_bb8.py** </p>"
   ]
  },
  {
   "cell_type": "code",
   "execution_count": null,
   "metadata": {
    "collapsed": true
   },
   "outputs": [],
   "source": [
    "#!/usr/bin/env python\n",
    "import rospy\n",
    "from geometry_msgs.msg import Twist\n",
    "import time\n",
    "import math\n",
    "from nav_msgs.msg import Odometry\n",
    "import tf\n",
    "\n",
    "\"\"\"\n",
    "rosmsg show nav_msgs/Odometry\n",
    "std_msgs/Header header\n",
    "  uint32 seq\n",
    "  time stamp\n",
    "  string frame_id\n",
    "string child_frame_id\n",
    "geometry_msgs/PoseWithCovariance pose\n",
    "  geometry_msgs/Pose pose\n",
    "    geometry_msgs/Point position\n",
    "      float64 x\n",
    "      float64 y\n",
    "      float64 z\n",
    "    geometry_msgs/Quaternion orientation\n",
    "      float64 x\n",
    "      float64 y\n",
    "      float64 z\n",
    "      float64 w\n",
    "  float64[36] covariance\n",
    "geometry_msgs/TwistWithCovariance twist\n",
    "  geometry_msgs/Twist twist\n",
    "    geometry_msgs/Vector3 linear\n",
    "      float64 x\n",
    "      float64 y\n",
    "      float64 z\n",
    "    geometry_msgs/Vector3 angular\n",
    "      float64 x\n",
    "      float64 y\n",
    "      float64 z\n",
    "  float64[36] covariance\n",
    "\"\"\"\n",
    "\n",
    "\n",
    "class OdomTools(object):\n",
    "    def __init__(self):\n",
    "        self.init_odom()\n",
    "        self.odom_subscriber = rospy.Subscriber(\"/odom\", Odometry, self.odom_callback)\n",
    "\n",
    "    def init_odom(self):\n",
    "        self._odometry = None\n",
    "        while self._odometry is None:\n",
    "            try:                \n",
    "                self._odometry = rospy.wait_for_message(\"/odom\", Odometry, timeout=1)\n",
    "            except:\n",
    "                rospy.loginfo(\"/odom topic is not ready yet, retrying\")\n",
    "        \n",
    "        rospy.loginfo(\"/odom topic READY\")\n",
    "        \n",
    "\n",
    "    def odom_callback(self,msg):\n",
    "        self._odometry = msg\n",
    "    \n",
    "    def get_odom_position(self):\n",
    "        return self._odometry.pose.pose.position\n",
    "        \n",
    "    def get_odom_orientation(self):\n",
    "        return self._odometry.pose.pose.orientation\n",
    "    \n",
    "    def calculate_distance_change(self,init_point, finish_point):\n",
    "        \n",
    "        delta_x = finish_point.x - init_point.x\n",
    "        delta_y = finish_point.y - init_point.y\n",
    "        delta_z = finish_point.z - init_point.z\n",
    "        \n",
    "        delta_x2 = pow(delta_x,2)\n",
    "        delta_y2 = pow(delta_y,2)\n",
    "        delta_z2 = pow(delta_z,2)\n",
    "        \n",
    "        distance = math.sqrt(delta_x2+delta_y2+delta_z2)\n",
    "        \n",
    "        return distance\n",
    "        \n",
    "    def calculate_yaw_angle_change(self,init_orientation, finish_orientation):\n",
    "\n",
    "        explicit_init_quat = [init_orientation.x, init_orientation.y, init_orientation.z, init_orientation.w]\n",
    "        explicit_finish_quat = [finish_orientation.x, finish_orientation.y, finish_orientation.z, finish_orientation.w]\n",
    "\n",
    "        init_euler = tf.transformations.euler_from_quaternion(explicit_init_quat)\n",
    "        finish_euler = tf.transformations.euler_from_quaternion(explicit_finish_quat)\n",
    "\n",
    "        delta_yaw=finish_euler[2]- init_euler[2]\n",
    "        \n",
    "        return delta_yaw\n",
    "\n",
    "class MoveBB8():\n",
    "    \n",
    "    def __init__(self):\n",
    "        self.odom_object = OdomTools()\n",
    "        self.bb8_vel_publisher = rospy.Publisher('/cmd_vel', Twist, queue_size=1)\n",
    "        self.ctrl_c = False\n",
    "        rospy.on_shutdown(self.shutdownhook)\n",
    "        self.rate = rospy.Rate(10) # 10hz\n",
    "    \n",
    "        \n",
    "    \n",
    "    def publish_once_in_cmd_vel(self, cmd):\n",
    "        \"\"\"\n",
    "        This is because publishing in topics sometimes fails teh first time you publish.\n",
    "        In continuos publishing systems there is no big deal but in systems that publish only\n",
    "        once it IS very important.\n",
    "        \"\"\"\n",
    "        while not self.ctrl_c:\n",
    "            connections = self.bb8_vel_publisher.get_num_connections()\n",
    "            if connections > 0:\n",
    "                self.bb8_vel_publisher.publish(cmd)\n",
    "                rospy.loginfo(\"Cmd Published\")\n",
    "                break\n",
    "            else:\n",
    "                self.rate.sleep()\n",
    "    \n",
    "    \n",
    "    def shutdownhook(self):\n",
    "            # works better than the rospy.is_shut_down()\n",
    "            self.stop_bb8()\n",
    "            self.ctrl_c = True\n",
    "\n",
    "    def stop_bb8(self):\n",
    "        rospy.loginfo(\"shutdown time! Stop the robot\")\n",
    "        cmd = Twist()\n",
    "        cmd.linear.x = 0.0\n",
    "        cmd.angular.z = 0.0\n",
    "        self.publish_once_in_cmd_vel(cmd)\n",
    "\n",
    "\n",
    "    def move_x_time(self, moving_time, linear_speed=0.2, angular_speed=0.2):\n",
    "        \n",
    "        cmd = Twist()\n",
    "        cmd.linear.x = linear_speed\n",
    "        cmd.angular.z = angular_speed\n",
    "        \n",
    "        rospy.loginfo(\"Moving Forwards\")\n",
    "        self.publish_once_in_cmd_vel(cmd)\n",
    "        time.sleep(moving_time)\n",
    "        self.stop_bb8()\n",
    "        rospy.loginfo(\"######## Finished Moving Forwards\")\n",
    "    \n",
    "    def move_square(self, side=0.2):\n",
    "        \n",
    "        i = 0\n",
    "        # More Speed, more time to stop\n",
    "        time_magnitude = side / 0.2\n",
    "        \n",
    "        while not self.ctrl_c and i < 4:\n",
    "            # Move Forwards\n",
    "            self.move_x_time(moving_time=2.0*time_magnitude, linear_speed=0.2, angular_speed=0.0)\n",
    "            # Stop\n",
    "            self.move_x_time(moving_time=4.0, linear_speed=0.0, angular_speed=0.0)\n",
    "            # Turn, the turning is not afected by the length of the side we want\n",
    "            self.move_x_time(moving_time=4.0, linear_speed=0.0, angular_speed=0.2)\n",
    "            # Stop\n",
    "            self.move_x_time(moving_time=0.1, linear_speed=0.0, angular_speed=0.0)\n",
    "            \n",
    "            i += 1\n",
    "        rospy.loginfo(\"######## Finished Moving in a Square\")\n",
    "        \n",
    "    def move_distance(self, distance_to_move,linear_speed=0.2):\n",
    "        \n",
    "        cmd = Twist()\n",
    "        cmd.linear.x = linear_speed\n",
    "        cmd.angular.z = 0.0\n",
    "        \n",
    "        \n",
    "        init_position = self.odom_object.get_odom_position()\n",
    "        final_position = self.odom_object.get_odom_position()\n",
    "        distance_moved = self.odom_object.calculate_distance_change(init_position,final_position)\n",
    "        \n",
    "        while distance_moved < distance_to_move:\n",
    "            rospy.loginfo(\"Moving\")\n",
    "            self.publish_once_in_cmd_vel(cmd)\n",
    "            self.rate.sleep()\n",
    "            final_position = self.odom_object.get_odom_position()\n",
    "            distance_moved = self.odom_object.calculate_distance_change(init_position,final_position)\n",
    "            rospy.loginfo(\"Distance Moved::>\"+str(distance_moved))\n",
    "        \n",
    "        rospy.loginfo(\"Stopping...\")\n",
    "        cmd.linear.x = 0.0\n",
    "        cmd.angular.z = 0.0\n",
    "        self.publish_once_in_cmd_vel(cmd)\n",
    "        \n",
    "    def move_angle(self, angle_to_turn, angular_speed=0.2):\n",
    "        \n",
    "        cmd = Twist()\n",
    "        cmd.linear.x = 0.0\n",
    "        cmd.angular.z = angular_speed\n",
    "        \n",
    "        init_orientation = self.odom_object.get_odom_orientation()\n",
    "        finish_orientation = self.odom_object.get_odom_orientation()\n",
    "        delta_yaw = self.odom_object.calculate_yaw_angle_change(init_orientation, finish_orientation)\n",
    "        \n",
    "        while delta_yaw < angle_to_turn:\n",
    "            rospy.loginfo(\"Turning\")\n",
    "            self.publish_once_in_cmd_vel(cmd)\n",
    "            self.rate.sleep()\n",
    "            finish_orientation = self.odom_object.get_odom_orientation()\n",
    "            delta_yaw = self.odom_object.calculate_yaw_angle_change(init_orientation, finish_orientation)\n",
    "            rospy.loginfo(\"Angle Moved::>\"+str(delta_yaw))\n",
    "        \n",
    "        rospy.loginfo(\"Stopping...\")\n",
    "        cmd.linear.x = 0.0\n",
    "        cmd.angular.z = 0.0\n",
    "        self.publish_once_in_cmd_vel(cmd)\n",
    "    \n",
    "    def calibrate_turning(self):\n",
    "        \n",
    "        init_orientation = self.odom_object.get_odom_orientation()\n",
    "        while not self.ctrl_c:\n",
    "            \n",
    "            finish_orientation = self.odom_object.get_odom_orientation()\n",
    "            delta_yaw = self.odom_object.calculate_yaw_angle_change(init_orientation, finish_orientation)\n",
    "            rospy.loginfo(\"Angle Moved::>\"+str(delta_yaw))\n",
    "            self.rate.sleep()\n",
    "        \n",
    "        \n",
    "            \n",
    "if __name__ == '__main__':\n",
    "    rospy.init_node('move_bb8_test', anonymous=True)\n",
    "    movebb8_object = MoveBB8()\n",
    "    try:\n",
    "        #movebb8_object.move_square(side=0.6)\n",
    "        #movebb8_object.move_cicle(radius=20.0)\n",
    "        movebb8_object.move_distance(distance_to_move=1.0,linear_speed=0.2)\n",
    "        \n",
    "    except rospy.ROSInterruptException:\n",
    "        pass\n"
   ]
  },
  {
   "cell_type": "markdown",
   "metadata": {},
   "source": [
    "<p style=\"background:#3B8F10;color:white;\" >END UPGRADE **Python File: move_bb8.py** </p>"
   ]
  },
  {
   "cell_type": "markdown",
   "metadata": {},
   "source": [
    "As you can see its a next step in movement. Of ocurse this could be better if implemented a PID controle to get to the exact position. and orientation. But thats also another topic. If you are interested, please do the course on **Perception** where we talk about using the **pid** ros package for this purpose."
   ]
  },
  {
   "cell_type": "code",
   "execution_count": null,
   "metadata": {
    "collapsed": true
   },
   "outputs": [],
   "source": []
  }
 ],
 "metadata": {
  "anaconda-cloud": {},
  "kernelspec": {
   "display_name": "Python [Root]",
   "language": "python",
   "name": "Python [Root]"
  },
  "language_info": {
   "codemirror_mode": {
    "name": "ipython",
    "version": 2
   },
   "file_extension": ".py",
   "mimetype": "text/x-python",
   "name": "python",
   "nbconvert_exporter": "python",
   "pygments_lexer": "ipython2",
   "version": "2.7.12"
  }
 },
 "nbformat": 4,
 "nbformat_minor": 1
}
