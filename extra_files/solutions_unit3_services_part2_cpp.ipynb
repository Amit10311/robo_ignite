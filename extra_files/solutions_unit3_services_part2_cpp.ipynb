{
 "cells": [
  {
   "cell_type": "markdown",
   "metadata": {},
   "source": [
    "# Solutions for Unit 3 Services Part 2"
   ]
  },
  {
   "cell_type": "markdown",
   "metadata": {},
   "source": [
    "<img src=\"../img/robotignite_logo_text.png\"/>"
   ]
  },
  {
   "cell_type": "markdown",
   "metadata": {},
   "source": [
    "## Index: \n",
    "* <a href=\"#SolutionExercise3-2\">Solution Exercise 3.4</a>\n",
    "* <a href=\"#SolutionExercise3-3\">Solution Exercise 3.5</a>"
   ]
  },
  {
   "cell_type": "markdown",
   "metadata": {},
   "source": [
    "<p id=\"SolutionExercise3-2\"></p>"
   ]
  },
  {
   "cell_type": "markdown",
   "metadata": {},
   "source": [
    "## Solution Exercise 3.4"
   ]
  },
  {
   "cell_type": "markdown",
   "metadata": {},
   "source": [
    "* The objective of this exercise 3.2 is to create a service that when called, BB8 robot moves in a square like trajectory."
   ]
  },
  {
   "cell_type": "markdown",
   "metadata": {},
   "source": [
    "Nothing to comment."
   ]
  },
  {
   "cell_type": "markdown",
   "metadata": {},
   "source": [
    "* You can work on a new package or use the one you created for exercise 3.1, as you prefer. In this case, we are going to work on the package **unit_3_services**"
   ]
  },
  {
   "cell_type": "markdown",
   "metadata": {},
   "source": [
    "* Create a C++ file that has a class inside that allows the movement of the BB8 in a square  <a href=\"#fig-3.1\">{Fig-3.1}</a>. This class could be called, for reference, **MoveBB8**. And the C++ code that contains it, could called <a href=\"#move_bb8_py\">move_bb8.cpp</a>.<br>\n",
    "To move BB-8, you just have to write in the **/cmd_vel** Topic, as you did in Unit1 Topics.<br>\n",
    "Bear in mind that although this is a simulation, BB-8 has weight and, therefore, it won't stop immediately due to inertia.<br>\n",
    "Also, when turning, friction and inertia will be playing a role. Bear in mind that by only moving through /cmd_vel, you don't have a way of checking if it turned the way you wanted (it's called an open loop system).\n",
    "Unless, of course, you find a way to have some positional feedback information. That's a challenge for advanced AstroMech builders (if you want to try, think about using the /odom topic).<br>\n",
    "But for considering the movement Ok, you just have to more or less move in a square, doesnt have to be perfect."
   ]
  },
  {
   "cell_type": "markdown",
   "metadata": {},
   "source": [
    "So first of all we create the C++ file **move_bb8.cpp** in the package **unit_3_services**."
   ]
  },
  {
   "cell_type": "markdown",
   "metadata": {},
   "source": [
    "Here you have the C++ file with the class **MoveBB8**, that moves the BB8 in a square in open loop."
   ]
  },
  {
   "cell_type": "markdown",
   "metadata": {},
   "source": [
    "<p style=\"background:#3B8F10;color:white;\" id=\"move_bb8_py\">**C++ Program: move_bb8.cpp** </p>"
   ]
  },
  {
   "cell_type": "code",
   "execution_count": null,
   "metadata": {
    "collapsed": true
   },
   "outputs": [],
   "source": [
    "#include <ros/ros.h>\n",
    "#include <geometry_msgs/Twist.h>\n",
    "#include <std_srvs/Empty.h>\n",
    "\n",
    "class MoveBB8\n",
    "{\n",
    "    // Other variables\n",
    "    bool running_;\n",
    "    int state_;\n",
    "    int rate_hz_;\n",
    "    float duration_;\n",
    "    int times_;\n",
    "\n",
    "    // ROS Objects\n",
    "    ros::NodeHandle nh_;\n",
    "    ros::Rate *rate_;\n",
    "\n",
    "    // ROS Publishers\n",
    "    ros::Publisher pub_cmd_vel_;\n",
    "  \n",
    "    public:\n",
    "  \n",
    "        MoveBB8()\n",
    "        {\n",
    "            // Other variables\n",
    "            running_ = false;\n",
    "            state_ = 0;\n",
    "            rate_hz_ = 20;\n",
    "            duration_ = 0;\n",
    "            times_ = 4 * 1;\n",
    "\n",
    "            // ROS Objects\n",
    "            rate_ = new ros::Rate(rate_hz_);\n",
    "            \n",
    "            // ROS Publishers\n",
    "            pub_cmd_vel_ = nh_.advertise<geometry_msgs::Twist>(\"/cmd_vel\", 1);\n",
    "        }\n",
    "        \n",
    "        ~MoveBB8(void)\n",
    "        {\n",
    "        \n",
    "        }\n",
    "\n",
    "        void rateSleep(void)\n",
    "        {\n",
    "            rate_->sleep();\n",
    "        }\n",
    "\n",
    "        geometry_msgs::Twist getStateVelocity() {\n",
    "            geometry_msgs::Twist vel;\n",
    "            switch (state_) {\n",
    "                case 0:\n",
    "                    // go ahead\n",
    "                    vel.linear.x = 0.2;\n",
    "                    vel.angular.z = 0;\n",
    "                    break;\n",
    "                case 1:\n",
    "                    // stop\n",
    "                    vel.linear.x = 0;\n",
    "                    vel.angular.z = 0;\n",
    "                    break;\n",
    "                case 2:\n",
    "                    // turn right\n",
    "                    vel.linear.x = 0;\n",
    "                    vel.angular.z = 0.2;\n",
    "                    break;\n",
    "                case 3:\n",
    "                    // stop\n",
    "                    vel.linear.x = 0;\n",
    "                    vel.angular.z = 0;\n",
    "                    break;\n",
    "            }\n",
    "            return vel;\n",
    "        }\n",
    "\n",
    "        void runTimeStateMachine(void)\n",
    "        {\n",
    "            geometry_msgs::Twist vel;\n",
    "            running_ = true;\n",
    "\n",
    "            if (!running_)\n",
    "            {\n",
    "                vel.linear.x = 0;\n",
    "                vel.angular.z = 0;\n",
    "                pub_cmd_vel_.publish(vel);\n",
    "                return;\n",
    "            }\n",
    "\n",
    "            vel = this->getStateVelocity();\n",
    "\n",
    "            pub_cmd_vel_.publish(vel);\n",
    "\n",
    "            duration_ -= 1/(float)rate_hz_;\n",
    "\n",
    "            ROS_INFO(\"State [%d], Vel[%.2f, %.2f], Duration [%.2f]\", state_, vel.linear.x, vel.angular.z, duration_);\n",
    "\n",
    "            if (duration_ <= 0) {\n",
    "                float state_duration[4] = {2.0, 3.8, 4.0, 0.1};\n",
    "                int next_state = state_ + 1;\n",
    "                if (state_ == 3)\n",
    "                {\n",
    "                    next_state = 0;\n",
    "                    times_ -= 1;\n",
    "                }\n",
    "                int next_state_duration = state_duration[next_state];\n",
    "                this->changeState(next_state, next_state_duration);\n",
    "            }\n",
    "\n",
    "            if (times_ == 0) {\n",
    "                running_ = false;\n",
    "                vel.linear.x = 0;\n",
    "                vel.angular.z = 0;\n",
    "                pub_cmd_vel_.publish(vel);\n",
    "            }\n",
    "        }\n",
    "\n",
    "        void changeState(int state, float duration)\n",
    "        {\n",
    "            state_ = state;\n",
    "            duration_ = duration;\n",
    "            ROS_INFO(\"Change to state [%d]\", state_);\n",
    "        }\n",
    "    \n",
    "};\n",
    "\n",
    "int main(int argc, char** argv)\n",
    "{\n",
    "  ros::init(argc, argv, \"MoveBB8Server\");\n",
    "  \n",
    "  MoveBB8 moveBB8;\n",
    "\n",
    "  while (ros::ok())\n",
    "  {\n",
    "      moveBB8.runTimeStateMachine();\n",
    "\n",
    "      moveBB8.rateSleep();\n",
    "\n",
    "      ros::spinOnce();\n",
    "  }\n",
    "  \n",
    "  return 0;\n",
    "}"
   ]
  },
  {
   "cell_type": "markdown",
   "metadata": {},
   "source": [
    "<p style=\"background:#3B8F10;color:white;\" id=\"move_bb8_py\">END **C++ Program: move_bb8.cpp** </p>"
   ]
  },
  {
   "cell_type": "markdown",
   "metadata": {},
   "source": [
    "* Add a service server that accepts an <b>Empty</b> Service messages and activates the square movement. This service could be called **/perform_square**.<br>\n",
    "This activation will be done through a call to the Class **MoveBB8**.<br>"
   ]
  },
  {
   "cell_type": "markdown",
   "metadata": {},
   "source": [
    "So the first step is to create a C++ file called <a href=\"#bb8_move_in_square_service_server_py\">bb8_move_in_square_service_server.cpp</a>, which will be a modified version of the previous **move_bb8.cpp** file."
   ]
  },
  {
   "cell_type": "markdown",
   "metadata": {},
   "source": [
    "<p style=\"background:#3B8F10;color:white;\" id=\"bb8_move_in_square_service_server_py\">**C++ Program: bb8_move_in_square_service_server.cpp** </p>"
   ]
  },
  {
   "cell_type": "code",
   "execution_count": null,
   "metadata": {
    "collapsed": true
   },
   "outputs": [],
   "source": [
    "#include <ros/ros.h>\n",
    "#include <geometry_msgs/Twist.h>\n",
    "#include <std_srvs/Empty.h>\n",
    "\n",
    "class MoveBB8\n",
    "{\n",
    "    // Other variables\n",
    "    bool running_;\n",
    "    int state_;\n",
    "    int rate_hz_;\n",
    "    float duration_;\n",
    "    int times_;\n",
    "\n",
    "    // ROS Objects\n",
    "    ros::NodeHandle nh_;\n",
    "    ros::Rate *rate_;\n",
    "\n",
    "    // ROS Services\n",
    "    ros::ServiceServer srv_perform_square_;\n",
    "\n",
    "    // ROS Publishers\n",
    "    ros::Publisher pub_cmd_vel_;\n",
    "  \n",
    "    public:\n",
    "  \n",
    "        MoveBB8()\n",
    "        {\n",
    "            // Other variables\n",
    "            running_ = false;\n",
    "            state_ = 0;\n",
    "            rate_hz_ = 20;\n",
    "            duration_ = 0;\n",
    "            times_ = 0;\n",
    "\n",
    "            // ROS Objects\n",
    "            rate_ = new ros::Rate(rate_hz_);\n",
    "\n",
    "            // ROS Services\n",
    "            srv_perform_square_ = nh_.advertiseService(\"/perform_square\", &MoveBB8::my_callback, this);\n",
    "            \n",
    "            // ROS Publishers\n",
    "            pub_cmd_vel_ = nh_.advertise<geometry_msgs::Twist>(\"/cmd_vel\", 1);\n",
    "        }\n",
    "        \n",
    "        ~MoveBB8(void)\n",
    "        {\n",
    "        \n",
    "        }\n",
    "\n",
    "        void rateSleep(void)\n",
    "        {\n",
    "            rate_->sleep();\n",
    "        }\n",
    "\n",
    "        geometry_msgs::Twist getStateVelocity() {\n",
    "            geometry_msgs::Twist vel;\n",
    "            switch (state_) {\n",
    "                case 0:\n",
    "                    // go ahead\n",
    "                    vel.linear.x = 0.2;\n",
    "                    vel.angular.z = 0;\n",
    "                    break;\n",
    "                case 1:\n",
    "                    // stop\n",
    "                    vel.linear.x = 0;\n",
    "                    vel.angular.z = 0;\n",
    "                    break;\n",
    "                case 2:\n",
    "                    // turn right\n",
    "                    vel.linear.x = 0;\n",
    "                    vel.angular.z = 0.2;\n",
    "                    break;\n",
    "                case 3:\n",
    "                    // stop\n",
    "                    vel.linear.x = 0;\n",
    "                    vel.angular.z = 0;\n",
    "                    break;\n",
    "            }\n",
    "            return vel;\n",
    "        }\n",
    "\n",
    "        void runTimeStateMachine(void)\n",
    "        {\n",
    "            geometry_msgs::Twist vel;\n",
    "\n",
    "            if (!running_)\n",
    "            {\n",
    "                vel.linear.x = 0;\n",
    "                vel.angular.z = 0;\n",
    "                pub_cmd_vel_.publish(vel);\n",
    "                return;\n",
    "            }\n",
    "\n",
    "            vel = this->getStateVelocity();\n",
    "\n",
    "            pub_cmd_vel_.publish(vel);\n",
    "\n",
    "            duration_ -= 1/(float)rate_hz_;\n",
    "\n",
    "            ROS_INFO(\"State [%d], Vel[%.2f, %.2f], Duration [%.2f]\", state_, vel.linear.x, vel.angular.z, duration_);\n",
    "\n",
    "            if (duration_ <= 0) {\n",
    "                float state_duration[4] = {2.0, 3.8, 4.0, 0.1};\n",
    "                int next_state = state_ + 1;\n",
    "                if (state_ == 3)\n",
    "                {\n",
    "                    next_state = 0;\n",
    "                    times_ -= 1;\n",
    "                }\n",
    "                int next_state_duration = state_duration[next_state];\n",
    "                this->changeState(next_state, next_state_duration);\n",
    "            }\n",
    "\n",
    "            if (times_ == 0) {\n",
    "                running_ = false;\n",
    "                vel.linear.x = 0;\n",
    "                vel.angular.z = 0;\n",
    "                pub_cmd_vel_.publish(vel);\n",
    "            }\n",
    "        }\n",
    "\n",
    "        void changeState(int state, float duration)\n",
    "        {\n",
    "            state_ = state;\n",
    "            duration_ = duration;\n",
    "            ROS_INFO(\"Change to state [%d]\", state_);\n",
    "        }\n",
    "        \n",
    "        bool my_callback(std_srvs::Empty::Request &req,\n",
    "                        std_srvs::Empty::Response &res)\n",
    "        {\n",
    "            running_ = !running_;\n",
    "            // once for each side of the square\n",
    "            times_ = 4 * 1;\n",
    "            return running_;\n",
    "        }\n",
    "    \n",
    "};\n",
    "\n",
    "int main(int argc, char** argv)\n",
    "{\n",
    "  ros::init(argc, argv, \"MoveBB8Server\");\n",
    "  \n",
    "  MoveBB8 moveBB8;\n",
    "\n",
    "  while (ros::ok())\n",
    "  {\n",
    "      moveBB8.runTimeStateMachine();\n",
    "\n",
    "      moveBB8.rateSleep();\n",
    "\n",
    "      ros::spinOnce();\n",
    "  }\n",
    "\n",
    "  ros::spin();\n",
    "  \n",
    "  return 0;\n",
    "}"
   ]
  },
  {
   "cell_type": "markdown",
   "metadata": {},
   "source": [
    "<p style=\"background:#3B8F10;color:white;\">END **C++ Program: bb8_move_in_square_service_server.cpp** </p>"
   ]
  },
  {
   "cell_type": "markdown",
   "metadata": {},
   "source": [
    "Remember, in order to generate the C++ executable, just add the following to your **CMakeLists.txt** file."
   ]
  },
  {
   "cell_type": "code",
   "execution_count": null,
   "metadata": {
    "collapsed": true
   },
   "outputs": [],
   "source": [
    "add_executable(bb8_move_in_square_service_server src/bb8_move_in_square_service_server.cpp)\n",
    "add_dependencies(bb8_move_in_square_service_server ${bb8_move_in_square_service_server_EXPORTED_TARGETS} ${catkin_EXPORTED_TARGETS})\n",
    "target_link_libraries(bb8_move_in_square_service_server\n",
    "   ${catkin_LIBRARIES}\n",
    " )"
   ]
  },
  {
   "cell_type": "markdown",
   "metadata": {},
   "source": [
    "Once you have everything properly compiled, you can test it through a **call** in the WebConsole to the service **/perform_square**."
   ]
  },
  {
   "cell_type": "markdown",
   "metadata": {},
   "source": [
    "<table style=\"float:left;background: #407EAF\">\n",
    "<tr>\n",
    "<th>\n",
    "<p class=\"transparent\">Execute in WebShell #1</p>\n",
    "</th>\n",
    "</tr>\n",
    "</table>\n",
    "<br>"
   ]
  },
  {
   "cell_type": "code",
   "execution_count": null,
   "metadata": {
    "collapsed": true
   },
   "outputs": [],
   "source": [
    "rosservice call /perform_square [TAB]+[TAB]"
   ]
  },
  {
   "cell_type": "markdown",
   "metadata": {},
   "source": [
    "You should get BB8 moving like so:"
   ]
  },
  {
   "cell_type": "markdown",
   "metadata": {},
   "source": [
    "<img src=\"../img/basic_unit3_exercise3-2.gif\"/>"
   ]
  },
  {
   "cell_type": "markdown",
   "metadata": {},
   "source": [
    "* Create a launch file called **start_bb8_move_in_square_service_server.launch**. Inside it you have to start a node that launches the **bb8_move_in_square_service_server.cpp**. "
   ]
  },
  {
   "cell_type": "markdown",
   "metadata": {},
   "source": [
    "So this is the <a href=\"#start_bb8_move_in_square_service_server_launch\">start_bb8_move_in_square_service_server.launch</a> that launches the **bb8_move_in_square_service_server.cpp**."
   ]
  },
  {
   "cell_type": "markdown",
   "metadata": {},
   "source": [
    "<p style=\"background:#3B8F10;color:white;\" id=\"start_bb8_move_in_square_service_server_launch\">**Launch Program: start_bb8_move_in_square_service_server.launch** </p>"
   ]
  },
  {
   "cell_type": "code",
   "execution_count": null,
   "metadata": {
    "collapsed": true
   },
   "outputs": [],
   "source": [
    "<launch>\n",
    "    <!-- Start Service Server for move_bb8_in_square service -->\n",
    "    <node pkg=\"unit_3_services\" type=\"bb8_move_in_square_service_server\" name=\"MoveBB8Server\"  output=\"screen\">\n",
    "    </node>\n",
    "</launch>"
   ]
  },
  {
   "cell_type": "markdown",
   "metadata": {},
   "source": [
    "<p style=\"background:#3B8F10;color:white;\">END **Launch Program: start_bb8_move_in_square_service_server.launch** </p>"
   ]
  },
  {
   "cell_type": "markdown",
   "metadata": {},
   "source": [
    "Test it by launching this launch **start_bb8_move_in_square_service_server.launch** and calling the service as before. Is the exact same procedure , only that we are launching the service server through a launch file, instead of directly through a C++ executable."
   ]
  },
  {
   "cell_type": "markdown",
   "metadata": {},
   "source": [
    "* Create a new C++ code, called **bb8_move_in_square_service_client.cpp**, that calls the service **/perform_square**. Remember how it was done in **Unit3 Services Part1**.<br>\n",
    "Then generate a new launch file, called **call_bb8_move_in_square_service_server.launch**, that executes the **bb8_move_in_square_service_client.cpp** through a node."
   ]
  },
  {
   "cell_type": "markdown",
   "metadata": {},
   "source": [
    "The <a href=\"#bb8_move_in_square_service_client_py\">bb8_move_in_square_service_client.cpp</a> should be similar to this:"
   ]
  },
  {
   "cell_type": "markdown",
   "metadata": {},
   "source": [
    "<p style=\"background:#3B8F10;color:white;\" id=\"bb8_move_in_square_service_client_py\">**C++ Program: bb8_move_in_square_service_client.cpp** </p>"
   ]
  },
  {
   "cell_type": "code",
   "execution_count": null,
   "metadata": {
    "collapsed": true
   },
   "outputs": [],
   "source": [
    "#include \"ros/ros.h\"\n",
    "#include \"std_srvs/Empty.h\" \n",
    "// Import the service message used by the service /perform_square\n",
    "\n",
    "int main(int argc, char **argv)\n",
    "{\n",
    "  ros::init(argc, argv, \"service_move_bb8_in_square_client\"); // Initialise a ROS node\n",
    "  ros::NodeHandle nh;\n",
    "  \n",
    "  // Create the connection to the service /perform_square\n",
    "  ros::ServiceClient perform_square_service_client = nh.serviceClient<std_srvs::Empty>(\"/perform_square\");\n",
    "  std_srvs::Empty srv; // Create an object of type Empty\n",
    "  \n",
    "  if (perform_square_service_client.call(srv)) \n",
    "  {\n",
    "    ROS_INFO(\"Service successfully called. Moving BB8 in a square.\");\n",
    "  }\n",
    "  else\n",
    "  {\n",
    "    ROS_ERROR(\"Failed to call service /perform_square\");\n",
    "    return 1;\n",
    "  }\n",
    "\n",
    "  return 0;\n",
    "}"
   ]
  },
  {
   "cell_type": "markdown",
   "metadata": {},
   "source": [
    "<p style=\"background:#3B8F10;color:white;\">END **C++ Program: bb8_move_in_square_service_client.cpp** </p>"
   ]
  },
  {
   "cell_type": "markdown",
   "metadata": {},
   "source": [
    "The <a href=\"#call_bb8_move_in_square_service_server_launch\">call_bb8_move_in_square_service_server.launch</a> should be like this:"
   ]
  },
  {
   "cell_type": "markdown",
   "metadata": {},
   "source": [
    "<p style=\"background:#3B8F10;color:white;\" id=\"call_bb8_move_in_square_service_server_launch\">**Launch Program: call_bb8_move_in_square_service_server.launch** </p>"
   ]
  },
  {
   "cell_type": "code",
   "execution_count": null,
   "metadata": {
    "collapsed": true
   },
   "outputs": [],
   "source": [
    "<launch>\n",
    "    <!-- Start Service Server for move_bb8_in_square service -->\n",
    "    <node pkg=\"unit_3_services\" type=\"bb8_move_in_square_service_client\" name=\"service_move_bb8_in_square_client\"  output=\"screen\">\n",
    "    </node>\n",
    "</launch>"
   ]
  },
  {
   "cell_type": "markdown",
   "metadata": {},
   "source": [
    "<p style=\"background:#3B8F10;color:white;\" id=\"start_bb8_move_in_square_service_server_launch\">**Launch Program: call_bb8_move_in_square_service_server.launch** </p>"
   ]
  },
  {
   "cell_type": "markdown",
   "metadata": {},
   "source": [
    "To generate the C++ executable, add the following to your **CMakeLists.txt**:"
   ]
  },
  {
   "cell_type": "code",
   "execution_count": null,
   "metadata": {
    "collapsed": true
   },
   "outputs": [],
   "source": [
    "add_executable(bb8_move_in_square_service_client src/bb8_move_in_square_service_client.cpp)\n",
    "add_dependencies(bb8_move_in_square_service_client ${bb8_move_in_square_service_client_EXPORTED_TARGETS} ${catkin_EXPORTED_TARGETS})\n",
    "target_link_libraries(bb8_move_in_square_service_client\n",
    "   ${catkin_LIBRARIES}\n",
    " )"
   ]
  },
  {
   "cell_type": "markdown",
   "metadata": {},
   "source": [
    "* When launched **call_bb8_move_in_square_service_server.launch**, bb8 should move in a square."
   ]
  },
  {
   "cell_type": "markdown",
   "metadata": {},
   "source": [
    "This should works exactly the same way as the other calls you have performed. But in this case you launch **start_bb8_move_in_square_service_server.launch** and the in another terminal you launch **call_bb8_move_in_square_service_server.launch**."
   ]
  },
  {
   "cell_type": "markdown",
   "metadata": {},
   "source": [
    "<p id=\"SolutionExercise3-3\"></p>"
   ]
  },
  {
   "cell_type": "markdown",
   "metadata": {},
   "source": [
    "## Solution Exercise 3.5"
   ]
  },
  {
   "cell_type": "markdown",
   "metadata": {},
   "source": [
    "* Upgrade the C++ file **move_bb8.cpp** so that it can move BB8 in a square of variable size."
   ]
  },
  {
   "cell_type": "markdown",
   "metadata": {},
   "source": [
    "As you may have seen in the code, this is already done. The only thing you need to do in order to modify the size of the square BB8 performs, is to change the time that it will move forwards. This can be done in the following line:"
   ]
  },
  {
   "cell_type": "code",
   "execution_count": null,
   "metadata": {
    "collapsed": true
   },
   "outputs": [],
   "source": [
    "float state_duration[4] = {2.0, 3.8, 4.0, 0.1}; // It will move forward for 2 seconds\n",
    "float state_duration[4] = {4.0, 3.8, 4.0, 0.1}; // It will move forward for 4 seconds (bigger square)"
   ]
  },
  {
   "cell_type": "markdown",
   "metadata": {},
   "source": [
    "So basically, we only change the time BB8 is moving forwards to describe a bigger or smaller Square. Of course, without calibration nor closed loop controle, it's very difficult to make it create a perfect size square. But the objective is not that. The objective is that the square changes, it doesn't have to be exact."
   ]
  },
  {
   "cell_type": "markdown",
   "metadata": {},
   "source": [
    "* Create a new C++ file, called **bb8_move_custom_service_server.cpp**, modifying the service server that accepts an Empty Service message and activates the square movement that you created in Exercise 3.4. This new service could be called **/move_bb8_in_square_custom**. This new service will have to use service messages of type **BB8CustomServiceMessage** defined here:"
   ]
  },
  {
   "cell_type": "markdown",
   "metadata": {},
   "source": [
    "The first thing is to create the <a href=\"#BB8CustomServiceMessage_srv\">BB8CustomServiceMessage.srv</a>, creating a **srv** folder inside the package **unit_3_services**."
   ]
  },
  {
   "cell_type": "markdown",
   "metadata": {},
   "source": [
    "<p style=\"background:#3B8F10;color:white;\" id=\"BB8CustomServiceMessage_srv\">**Service Message: BB8CustomServiceMessage.srv** </p>"
   ]
  },
  {
   "cell_type": "code",
   "execution_count": null,
   "metadata": {
    "collapsed": true
   },
   "outputs": [],
   "source": [
    "float64 side       # The distance of each side of the square\n",
    "int32 repetitions    # The number of times BB-8 has to execute the square movement when the service is called\n",
    "---\n",
    "bool success         # Did it achieve it?"
   ]
  },
  {
   "cell_type": "markdown",
   "metadata": {},
   "source": [
    "<p style=\"background:#3B8F10;color:white;\" id=\"BB8CustomServiceMessage_srv\">END **Service Message: BB8CustomServiceMessage.srv** </p>"
   ]
  },
  {
   "cell_type": "markdown",
   "metadata": {},
   "source": [
    "We have to also modify the <a href=\"#CMakelists_txt\">CMakelists.txt</a> and the <a href=\"#package_xml\">package.xml</a>, as explained in the notebook, to compile the new service message."
   ]
  },
  {
   "cell_type": "markdown",
   "metadata": {},
   "source": [
    "<p style=\"background:#3B8F10;color:white;\" id=\"CMakelists_txt\">**CMakelists.txt** </p>"
   ]
  },
  {
   "cell_type": "code",
   "execution_count": null,
   "metadata": {
    "collapsed": true
   },
   "outputs": [],
   "source": [
    "cmake_minimum_required(VERSION 2.8.3)\n",
    "project(unit_3_services)\n",
    "\n",
    "\n",
    "## Here go all the packages needed to COMPILE the messages of topic, services and actions.\n",
    "## Its only geting its paths, and not really importing them to be used in the compilation.\n",
    "## Its only for further functions in CMakeLists.txt to be able to find those packages.\n",
    "## In package.xml you have to state them as build\n",
    "find_package(catkin REQUIRED COMPONENTS\n",
    "  roscpp\n",
    "  std_msgs\n",
    "  message_generation\n",
    ")\n",
    "\n",
    "## Generate services in the 'srv' folder\n",
    "## In this function will be all the action messages of this package ( in the action folder ) to be compiled.\n",
    "## You can state that it gets all the actions inside the action directory: DIRECTORY action\n",
    "## Or just the action messages stated explicitly: FILES my_custom_action.action\n",
    "## In your case you only need to do one of two things, as you wish.\n",
    "add_service_files(\n",
    "  FILES\n",
    "  BB8CustomServiceMessage.srv\n",
    ")\n",
    "\n",
    "## Here is where the packages needed for the action messages compilation are imported.\n",
    "generate_messages(\n",
    "  DEPENDENCIES\n",
    "  std_msgs\n",
    ")\n",
    "\n",
    "## State here all the packages that will be needed by someone that executes something from your package.\n",
    "## All the packages stated here must be in the package.xml as run_depend\n",
    "catkin_package(\n",
    "  CATKIN_DEPENDS roscpp\n",
    ")\n",
    "\n",
    "\n",
    "include_directories(\n",
    "  ${catkin_INCLUDE_DIRS}\n",
    ")"
   ]
  },
  {
   "cell_type": "markdown",
   "metadata": {},
   "source": [
    "<p style=\"background:#3B8F10;color:white;\" id=\"package_xml\">**package.xml** </p>"
   ]
  },
  {
   "cell_type": "code",
   "execution_count": null,
   "metadata": {
    "collapsed": true
   },
   "outputs": [],
   "source": [
    "<?xml version=\"1.0\"?>\n",
    "<package>\n",
    "  <name>unit_3_services</name>\n",
    "  <version>0.0.0</version>\n",
    "  <description>The unit_3_services package</description>\n",
    "\n",
    "  <maintainer email=\"user@todo.todo\">user</maintainer>\n",
    "\n",
    "  <license>TODO</license>\n",
    "\n",
    "  <buildtool_depend>catkin</buildtool_depend>\n",
    "  <build_depend>roscpp</build_depend>\n",
    "  <build_depend>message_generation</build_depend>\n",
    "  <run_depend>roscpp</run_depend>\n",
    "  <run_depend>message_runtime</run_depend>\n",
    "\n",
    "\n",
    "  <!-- The export tag contains other, unspecified, tags -->\n",
    "  <export>\n",
    "    <!-- Other tools can request additional information be placed here -->\n",
    "  </export>\n",
    "</package>"
   ]
  },
  {
   "cell_type": "markdown",
   "metadata": {},
   "source": [
    "Once you have it just compile and source in **ALL the WebShells** that you are going to use so that ROS can find the new Messages."
   ]
  },
  {
   "cell_type": "code",
   "execution_count": null,
   "metadata": {
    "collapsed": true
   },
   "outputs": [],
   "source": [
    "roscd;cd ..\n",
    "catkin_make\n",
    "source devel/setup.bash"
   ]
  },
  {
   "cell_type": "markdown",
   "metadata": {},
   "source": [
    "And check it finds the messages:"
   ]
  },
  {
   "cell_type": "code",
   "execution_count": null,
   "metadata": {
    "collapsed": true
   },
   "outputs": [],
   "source": [
    "rossrv list | grep BB8CustomServiceMessage"
   ]
  },
  {
   "cell_type": "markdown",
   "metadata": {},
   "source": [
    "You should get:"
   ]
  },
  {
   "cell_type": "code",
   "execution_count": null,
   "metadata": {
    "collapsed": true
   },
   "outputs": [],
   "source": [
    "unit_3_services/BB8CustomServiceMessage"
   ]
  },
  {
   "cell_type": "markdown",
   "metadata": {},
   "source": [
    "* Use the data passed to this new **/move_bb8_in_square_custom** to change the way BB-8 moves.<br>\n",
    "Depending on the **side** value, the service must move the BB-8 has to generate a shape of a square based on the **side** given.<br>\n",
    "Also, the BB-8 must repeat the shape as many times as indicated in the **repetitions** variable of the message.<br> Finally, it must return True if everything went OK in the **success** variable. "
   ]
  },
  {
   "cell_type": "markdown",
   "metadata": {},
   "source": [
    "Now it's time to create the <a href=\"#bb8_move_custom_service_server.cpp\">bb8_move_custom_service_server.cpp</a>, using the new service messages **BB8CustomServiceMessage**."
   ]
  },
  {
   "cell_type": "markdown",
   "metadata": {},
   "source": [
    "<p style=\"background:#3B8F10;color:white;\" id=\"bb8_move_custom_service_server.cpp\">**C++ File: bb8_move_custom_service_server.cpp** </p>"
   ]
  },
  {
   "cell_type": "code",
   "execution_count": null,
   "metadata": {
    "collapsed": true
   },
   "outputs": [],
   "source": [
    "#include <ros/ros.h>\n",
    "#include <geometry_msgs/Twist.h>\n",
    "#include <unit_3_services/BB8CustomServiceMessage.h>\n",
    "\n",
    "class MoveBB8\n",
    "{\n",
    "    // Other variables\n",
    "    bool running_;\n",
    "    int state_;\n",
    "    int rate_hz_;\n",
    "    float duration_;\n",
    "    int times_;\n",
    "    float radius_;\n",
    "    int repetitions_;\n",
    "\n",
    "    // ROS Objects\n",
    "    ros::NodeHandle nh_;\n",
    "    ros::Rate *rate_;\n",
    "\n",
    "    // ROS Services\n",
    "    ros::ServiceServer srv_perform_square_;\n",
    "\n",
    "    // ROS Publishers\n",
    "    ros::Publisher pub_cmd_vel_;\n",
    "  \n",
    "    public:\n",
    "  \n",
    "        MoveBB8()\n",
    "        {\n",
    "            // Other variables\n",
    "            running_ = false;\n",
    "            state_ = 0;\n",
    "            rate_hz_ = 20;\n",
    "            duration_ = 0;\n",
    "            times_ = 0;\n",
    "            radius_ = 0;\n",
    "            repetitions_ = 0;\n",
    "\n",
    "            // ROS Objects\n",
    "            rate_ = new ros::Rate(rate_hz_);\n",
    "\n",
    "            // ROS Services\n",
    "            srv_perform_square_ = nh_.advertiseService(\"/perform_square\", &MoveBB8::my_callback, this);\n",
    "            \n",
    "            // ROS Publishers\n",
    "            pub_cmd_vel_ = nh_.advertise<geometry_msgs::Twist>(\"/cmd_vel\", 1);\n",
    "        }\n",
    "        \n",
    "        ~MoveBB8(void)\n",
    "        {\n",
    "        \n",
    "        }\n",
    "\n",
    "        void rateSleep(void)\n",
    "        {\n",
    "            rate_->sleep();\n",
    "        }\n",
    "\n",
    "        geometry_msgs::Twist getStateVelocity() {\n",
    "            geometry_msgs::Twist vel;\n",
    "            switch (state_) {\n",
    "                case 0:\n",
    "                    // go ahead\n",
    "                    vel.linear.x = 0.2;\n",
    "                    vel.angular.z = 0;\n",
    "                    break;\n",
    "                case 1:\n",
    "                    // stop\n",
    "                    vel.linear.x = 0;\n",
    "                    vel.angular.z = 0;\n",
    "                    break;\n",
    "                case 2:\n",
    "                    // turn right\n",
    "                    vel.linear.x = 0;\n",
    "                    vel.angular.z = 0.2;\n",
    "                    break;\n",
    "                case 3:\n",
    "                    // stop\n",
    "                    vel.linear.x = 0;\n",
    "                    vel.angular.z = 0;\n",
    "                    break;\n",
    "            }\n",
    "            return vel;\n",
    "        }\n",
    "\n",
    "        void runTimeStateMachine(void)\n",
    "        {\n",
    "            geometry_msgs::Twist vel;\n",
    "\n",
    "            if (!running_)\n",
    "            {\n",
    "                vel.linear.x = 0;\n",
    "                vel.angular.z = 0;\n",
    "                pub_cmd_vel_.publish(vel);\n",
    "                return;\n",
    "            }\n",
    "\n",
    "            vel = this->getStateVelocity();\n",
    "\n",
    "            pub_cmd_vel_.publish(vel);\n",
    "\n",
    "            duration_ -= 1/(float)rate_hz_;\n",
    "\n",
    "            ROS_INFO(\"State [%d], Vel[%.2f, %.2f], Duration [%.2f]\", state_, vel.linear.x, vel.angular.z, duration_);\n",
    "\n",
    "            if (duration_ <= 0) {\n",
    "                float state_duration[4] = {radius_, 3.8, 4.0, 0.1};\n",
    "                int next_state = state_ + 1;\n",
    "                if (state_ == 3)\n",
    "                {\n",
    "                    next_state = 0;\n",
    "                    times_ -= 1;\n",
    "                }\n",
    "                int next_state_duration = state_duration[next_state];\n",
    "                this->changeState(next_state, next_state_duration);\n",
    "            }\n",
    "\n",
    "            if (times_ == 0) {\n",
    "                running_ = false;\n",
    "                vel.linear.x = 0;\n",
    "                vel.angular.z = 0;\n",
    "                pub_cmd_vel_.publish(vel);\n",
    "            }\n",
    "        }\n",
    "\n",
    "        void changeState(int state, float duration)\n",
    "        {\n",
    "            state_ = state;\n",
    "            duration_ = duration;\n",
    "            ROS_INFO(\"Change to state [%d]\", state_);\n",
    "        }\n",
    "        \n",
    "        bool my_callback(unit_3_services::BB8CustomServiceMessage::Request &req,\n",
    "                        unit_3_services::BB8CustomServiceMessage::Response &res)\n",
    "        {\n",
    "            running_ = !running_;\n",
    "            radius_ = req.radius;\n",
    "            repetitions_ = req.repetitions;\n",
    "            times_ = 4 * repetitions_;\n",
    "            return running_;\n",
    "        }\n",
    "    \n",
    "};\n",
    "\n",
    "int main(int argc, char** argv)\n",
    "{\n",
    "  ros::init(argc, argv, \"MoveBB8Server\");\n",
    "  \n",
    "  MoveBB8 moveBB8;\n",
    "\n",
    "  while (ros::ok())\n",
    "  {\n",
    "      moveBB8.runTimeStateMachine();\n",
    "\n",
    "      moveBB8.rateSleep();\n",
    "\n",
    "      ros::spinOnce();\n",
    "  }\n",
    "\n",
    "  ros::spin();\n",
    "  \n",
    "  return 0;\n",
    "}"
   ]
  },
  {
   "cell_type": "markdown",
   "metadata": {},
   "source": [
    "<p style=\"background:#3B8F10;color:white;\">END **C++ File: bb8_move_custom_service_server.cpp** </p>"
   ]
  },
  {
   "cell_type": "markdown",
   "metadata": {},
   "source": [
    "As you can see in the code above, we are receiving the **side** and **repetitions** values from the request message:"
   ]
  },
  {
   "cell_type": "code",
   "execution_count": null,
   "metadata": {
    "collapsed": true
   },
   "outputs": [],
   "source": [
    "bool my_callback(unit_3_services::BB8CustomServiceMessage::Request &req,\n",
    "                        unit_3_services::BB8CustomServiceMessage::Response &res)\n",
    "        {\n",
    "            running_ = !running_;\n",
    "            // once for each side of the square\n",
    "            radius_ = req.radius;\n",
    "            repetitions_ = req.repetitions;\n",
    "            times_ = 4 * repetitions_;\n",
    "            return running_;\n",
    "        }"
   ]
  },
  {
   "cell_type": "markdown",
   "metadata": {},
   "source": [
    "Then, we are just using these values to set the number of repetitions:"
   ]
  },
  {
   "cell_type": "code",
   "execution_count": null,
   "metadata": {
    "collapsed": true
   },
   "outputs": [],
   "source": [
    "times_ = 4 * repetitions_;"
   ]
  },
  {
   "cell_type": "markdown",
   "metadata": {},
   "source": [
    "and to set the radius of the square:"
   ]
  },
  {
   "cell_type": "code",
   "execution_count": null,
   "metadata": {
    "collapsed": true
   },
   "outputs": [],
   "source": [
    "float state_duration[4] = {radius_, 3.8, 4.0, 0.1};"
   ]
  },
  {
   "cell_type": "markdown",
   "metadata": {},
   "source": [
    "And that's it! Let's continue."
   ]
  },
  {
   "cell_type": "markdown",
   "metadata": {},
   "source": [
    "* Create a new launch called **start_bb8_move_custom_service_server.launch** that launches the server launched in the C++ file **bb8_move_custom_service_server.cpp**.\n",
    "* Test that when calling this new service **/move_bb8_in_square_custom**, BB8 moves accordingly."
   ]
  },
  {
   "cell_type": "markdown",
   "metadata": {},
   "source": [
    "This **start_bb8_move_custom_service_server.launch** is the same as the one made in Exercise 3.4, changing the C++ executable launched to **bb8_move_custom_service_server**."
   ]
  },
  {
   "cell_type": "code",
   "execution_count": null,
   "metadata": {
    "collapsed": true
   },
   "outputs": [],
   "source": [
    "<launch>\n",
    "    <!-- Start Service Server for move_bb8_in_square service -->\n",
    "    <node pkg=\"unit_3_services\" type=\"bb8_move_custom_service_server\" name=\"service_move_bb8_in_square_custom_server\"  output=\"screen\">\n",
    "    </node>\n",
    "</launch>"
   ]
  },
  {
   "cell_type": "markdown",
   "metadata": {},
   "source": [
    "* Create a new service client that calls the service **/move_bb8_in_square_custom** and makes BB8 move in a small square **twice** and in a big square **once**. It could be called **bb8_move_custom_service_client.cpp** and the launch that starts it **call_bb8_move_in_square_custom_service_server.launch**."
   ]
  },
  {
   "cell_type": "markdown",
   "metadata": {},
   "source": [
    "We first create the <a href=\"#bb8_move_custom_service_client_cpp\">bb8_move_custom_service_client.cpp</a> that will execute a call to perform the two small squares and one big square."
   ]
  },
  {
   "cell_type": "markdown",
   "metadata": {},
   "source": [
    "<p style=\"background:#3B8F10;color:white;\" id=\"bb8_move_custom_service_client_cpp\">**C++ File: bb8_move_custom_service_client.cpp** </p>"
   ]
  },
  {
   "cell_type": "code",
   "execution_count": null,
   "metadata": {
    "collapsed": true
   },
   "outputs": [],
   "source": [
    "#include \"ros/ros.h\"\n",
    "#include \"unit_3_services/BB8CustomServiceMessage.h\" \n",
    "// Import the service message used by the service /perform_square\n",
    "\n",
    "int main(int argc, char **argv)\n",
    "{\n",
    "  ros::init(argc, argv, \"service_move_bb8_in_square_client\"); // Initialise a ROS node\n",
    "  ros::NodeHandle nh;\n",
    "  \n",
    "  // Create the connection to the service /perform_square\n",
    "  ros::ServiceClient perform_square_service_client = nh.serviceClient<unit_3_services::BB8CustomServiceMessage>(\"/perform_square\");\n",
    "  unit_3_services::BB8CustomServiceMessage srv; // Create an object of type Empty\n",
    "  srv.request.radius = 3.0;\n",
    "  srv.request.repetitions = 2;\n",
    "  \n",
    "  if (perform_square_service_client.call(srv)) \n",
    "  {\n",
    "    ROS_INFO(\"Service successfully called. Moving BB8 in a square.\");\n",
    "  }\n",
    "  else\n",
    "  {\n",
    "    ROS_ERROR(\"Failed to call service /perform_square\");\n",
    "    return 1;\n",
    "  }\n",
    "\n",
    "  return 0;\n",
    "}"
   ]
  },
  {
   "cell_type": "markdown",
   "metadata": {},
   "source": [
    "<p style=\"background:#3B8F10;color:white;\">END **C++ File: bb8_move_custom_service_client.cpp** </p>"
   ]
  },
  {
   "cell_type": "markdown",
   "metadata": {},
   "source": [
    "And now we have to create a launch that launches this C++ node ,called <a href=\"#call_bb8_move_in_square_custom_service_server_launch\">call_bb8_move_in_square_custom_service_server.launch</a>:"
   ]
  },
  {
   "cell_type": "markdown",
   "metadata": {},
   "source": [
    "<p style=\"background:#3B8F10;color:white;\" id=\"call_bb8_move_in_square_custom_service_server_launch\">**Launch File: call_bb8_move_in_square_custom_service_server.launch** </p>"
   ]
  },
  {
   "cell_type": "code",
   "execution_count": null,
   "metadata": {
    "collapsed": true
   },
   "outputs": [],
   "source": [
    "<launch>\n",
    "    <!-- Start Service Server for move_bb8_in_square service -->\n",
    "    <node pkg=\"unit_3_services\" type=\"bb8_move_custom_service_client\" name=\"service_move_bb8_in_square_custom_client\"  output=\"screen\">\n",
    "    </node>\n",
    "</launch>"
   ]
  },
  {
   "cell_type": "markdown",
   "metadata": {},
   "source": [
    "<p style=\"background:#3B8F10;color:white;\">END **Launch File: call_bb8_move_in_square_custom_service_server.launch** </p>"
   ]
  },
  {
   "cell_type": "markdown",
   "metadata": {},
   "source": [
    "In order to generate the C++ executables of this 2 last scripts, add this to the **CMakeLists.txt** file."
   ]
  },
  {
   "cell_type": "code",
   "execution_count": null,
   "metadata": {
    "collapsed": true
   },
   "outputs": [],
   "source": [
    "add_executable(bb8_move_custom_service_server src/bb8_move_custom_service_server.cpp)\n",
    "add_dependencies(bb8_move_custom_service_server ${bb8_move_custom_service_server_EXPORTED_TARGETS} ${catkin_EXPORTED_TARGETS})\n",
    "target_link_libraries(bb8_move_custom_service_server\n",
    "   ${catkin_LIBRARIES}\n",
    " )\n",
    "\n",
    "add_executable(bb8_move_custom_service_client src/bb8_move_custom_service_client.cpp)\n",
    "add_dependencies(bb8_move_custom_service_client ${bb8_move_custom_service_client_EXPORTED_TARGETS} ${catkin_EXPORTED_TARGETS})\n",
    "target_link_libraries(bb8_move_custom_service_client\n",
    "   ${catkin_LIBRARIES}\n",
    " )"
   ]
  },
  {
   "cell_type": "markdown",
   "metadata": {},
   "source": [
    "Finally, you just have to test all the pipeline. So you have to launch the server launch in one web shell and the client in the other. It should make the robot move as desired."
   ]
  },
  {
   "cell_type": "markdown",
   "metadata": {},
   "source": [
    "<table style=\"float:left;background: #407EAF\">\n",
    "<tr>\n",
    "<th>\n",
    "<p class=\"transparent\">Execute in WebShell #1</p>\n",
    "</th>\n",
    "</tr>\n",
    "</table>\n",
    "<br>"
   ]
  },
  {
   "cell_type": "code",
   "execution_count": null,
   "metadata": {
    "collapsed": true
   },
   "outputs": [],
   "source": [
    "roslaunch unit_3_services start_bb8_move_custom_service_server.launch"
   ]
  },
  {
   "cell_type": "markdown",
   "metadata": {},
   "source": [
    "<table style=\"float:left;background: #407EAF\">\n",
    "<tr>\n",
    "<th>\n",
    "<p class=\"transparent\">Execute in WebShell #2</p>\n",
    "</th>\n",
    "</tr>\n",
    "</table>\n",
    "<br>"
   ]
  },
  {
   "cell_type": "code",
   "execution_count": null,
   "metadata": {
    "collapsed": true
   },
   "outputs": [],
   "source": [
    "roslaunch unit_3_services call_bb8_move_in_square_custom_service_server.launch"
   ]
  },
  {
   "cell_type": "markdown",
   "metadata": {},
   "source": [
    "You should get something similar to this, but slower, because this has been accelerated for practical reasons:"
   ]
  },
  {
   "cell_type": "markdown",
   "metadata": {},
   "source": [
    "<img src=\"../img/basic_unit3_exercise3-3_final.gif\"/>"
   ]
  }
 ],
 "metadata": {
  "anaconda-cloud": {},
  "kernelspec": {
   "display_name": "Python [Root]",
   "language": "python",
   "name": "Python [Root]"
  },
  "language_info": {
   "codemirror_mode": {
    "name": "ipython",
    "version": 2
   },
   "file_extension": ".py",
   "mimetype": "text/x-python",
   "name": "python",
   "nbconvert_exporter": "python",
   "pygments_lexer": "ipython2",
   "version": "2.7.12"
  }
 },
 "nbformat": 4,
 "nbformat_minor": 1
}
