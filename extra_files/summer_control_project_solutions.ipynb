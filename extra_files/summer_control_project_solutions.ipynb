{
 "cells": [
  {
   "cell_type": "markdown",
   "metadata": {},
   "source": [
    "## Solutions for ROS Control Project"
   ]
  },
  {
   "cell_type": "markdown",
   "metadata": {},
   "source": [
    "<img src=\"../img/robotignite_logo_text.png\"/>"
   ]
  },
  {
   "cell_type": "markdown",
   "metadata": {},
   "source": [
    "## Index: "
   ]
  },
  {
   "cell_type": "markdown",
   "metadata": {},
   "source": [
    "* <a href=\"#SolutionStep2\">Solution Step 2</a>\n",
    "* <a href=\"#SolutionStep3\">Solution Step 3</a>\n",
    "* <a href=\"#SolutionStep4\">Solution Step 4</a>"
   ]
  },
  {
   "cell_type": "markdown",
   "metadata": {},
   "source": [
    "## Solution Step 2: Build the control package <p id=\"SolutionStep2\"></p>"
   ]
  },
  {
   "cell_type": "markdown",
   "metadata": {},
   "source": [
    "First of all, you'll need to create a new package."
   ]
  },
  {
   "cell_type": "markdown",
   "metadata": {},
   "source": [
    "<table style=\"float:left;background: #407EAF\">\n",
    "<tr>\n",
    "<th>\n",
    "<p class=\"transparent\">Execute in WebShell #1</p>\n",
    "</th>\n",
    "</tr>\n",
    "</table>"
   ]
  },
  {
   "cell_type": "code",
   "execution_count": null,
   "metadata": {
    "collapsed": true
   },
   "outputs": [],
   "source": [
    "cd ~/catkin_ws/src;"
   ]
  },
  {
   "cell_type": "code",
   "execution_count": null,
   "metadata": {
    "collapsed": true
   },
   "outputs": [],
   "source": [
    "catkin_create_pkg project_control"
   ]
  },
  {
   "cell_type": "markdown",
   "metadata": {},
   "source": [
    "Next, you will create 2 new folders inside your package: **config** and **launch**. Inside these folders, you will place the following files. Inside the **config** folder, you will place the **project_control.yaml** file, and inside the **launch** folder you will place the **project_control.launch** file."
   ]
  },
  {
   "cell_type": "markdown",
   "metadata": {},
   "source": [
    "<p style=\"background:#3B8F10;color:white;\" id=\"prg-2-1\">**Param File: project_control.yaml** </p>"
   ]
  },
  {
   "cell_type": "code",
   "execution_count": null,
   "metadata": {
    "collapsed": true
   },
   "outputs": [],
   "source": [
    "ur5:\n",
    "\n",
    "  joint_state_controller:\n",
    "    type: joint_state_controller/JointStateController\n",
    "    publish_rate: 50  \n",
    "\n",
    "  shoulder_pan_joint_position_controller:\n",
    "    type: position_controllers/JointPositionController\n",
    "    joint: shoulder_pan_joint\n",
    "    pid: {p: 100.0, i: 0.01, d: 10.0}\n",
    "    \n",
    "  shoulder_lift_joint_position_controller:\n",
    "    type: position_controllers/JointPositionController\n",
    "    joint: shoulder_lift_joint\n",
    "    pid: {p: 100.0, i: 0.01, d: 10.0}\n",
    "    \n",
    "  elbow_joint_position_controller:\n",
    "    type: position_controllers/JointPositionController\n",
    "    joint: elbow_joint\n",
    "    pid: {p: 100.0, i: 0.01, d: 10.0}\n",
    "  \n",
    "  wrist_1_joint_position_controller:\n",
    "    type: position_controllers/JointPositionController\n",
    "    joint: wrist_1_joint\n",
    "    pid: {p: 100.0, i: 0.01, d: 10.0}\n",
    "    \n",
    "  wrist_2_joint_position_controller:\n",
    "    type: position_controllers/JointPositionController\n",
    "    joint: wrist_2_joint\n",
    "    pid: {p: 100.0, i: 0.01, d: 10.0}\n",
    "    \n",
    "  wrist_3_joint_position_controller:\n",
    "    type: position_controllers/JointPositionController\n",
    "    joint: wrist_3_joint\n",
    "    pid: {p: 100.0, i: 0.01, d: 10.0}"
   ]
  },
  {
   "cell_type": "markdown",
   "metadata": {},
   "source": [
    "<p style=\"background:#3B8F10;color:white;\" id=\"prg-2-1\">**END Param File: project_control.yaml** </p>"
   ]
  },
  {
   "cell_type": "markdown",
   "metadata": {},
   "source": [
    "<p style=\"background:#3B8F10;color:white;\" id=\"prg-2-1\">**Launch File: project_control.launch** </p>"
   ]
  },
  {
   "cell_type": "code",
   "execution_count": null,
   "metadata": {
    "collapsed": true
   },
   "outputs": [],
   "source": [
    "<launch>\n",
    "\n",
    "  <!-- Load joint controller configurations from YAML file to parameter server -->\n",
    "  <rosparam file=\"$(find project_control)/config/project_control.yaml\" command=\"load\"/>\n",
    "\n",
    "  <!-- load the controllers -->\n",
    "  <node name=\"controller_spawner\" pkg=\"controller_manager\" type=\"spawner\" respawn=\"false\"\n",
    "\toutput=\"screen\" ns=\"/ur5\" args=\"joint_state_controller \n",
    "\t                                shoulder_pan_joint_position_controller\n",
    "\t\t\t\t\t                        shoulder_lift_joint_position_controller\n",
    "\t\t\t\t\t                        elbow_joint_position_controller\n",
    "\t\t\t\t\t                        wrist_1_joint_position_controller\n",
    "\t\t\t\t\t                        wrist_2_joint_position_controller\n",
    "\t\t\t\t\t                        wrist_3_joint_position_controller\n",
    "\t\t\t\t\t                        \"/>\n",
    "\n",
    "</launch>"
   ]
  },
  {
   "cell_type": "markdown",
   "metadata": {},
   "source": [
    "<p style=\"background:#3B8F10;color:white;\" id=\"prg-2-1\">**END Launch File: project_control.launch** </p>"
   ]
  },
  {
   "cell_type": "markdown",
   "metadata": {},
   "source": [
    "## Solution Step 3: Test your package <p id=\"SolutionStep3\"></p>"
   ]
  },
  {
   "cell_type": "markdown",
   "metadata": {},
   "source": [
    "First of all, let's launch our ROS control package."
   ]
  },
  {
   "cell_type": "markdown",
   "metadata": {},
   "source": [
    "<table style=\"float:left;background: #407EAF\">\n",
    "<tr>\n",
    "<th>\n",
    "<p class=\"transparent\">Execute in WebShell #1</p>\n",
    "</th>\n",
    "</tr>\n",
    "</table>"
   ]
  },
  {
   "cell_type": "code",
   "execution_count": null,
   "metadata": {
    "collapsed": true
   },
   "outputs": [],
   "source": [
    "roslaunch project_control project_control.launch"
   ]
  },
  {
   "cell_type": "markdown",
   "metadata": {},
   "source": [
    "If everything goes OK, you should get an output like this one:"
   ]
  },
  {
   "cell_type": "markdown",
   "metadata": {},
   "source": [
    "<img src=\"../img/control_project1.png\" width=\"800\" />"
   ]
  },
  {
   "cell_type": "markdown",
   "metadata": {},
   "source": [
    "And you will also get the following topics."
   ]
  },
  {
   "cell_type": "markdown",
   "metadata": {},
   "source": [
    "<table style=\"float:left;background: #407EAF\">\n",
    "<tr>\n",
    "<th>\n",
    "<p class=\"transparent\">Execute in WebShell #1</p>\n",
    "</th>\n",
    "</tr>\n",
    "</table>"
   ]
  },
  {
   "cell_type": "code",
   "execution_count": null,
   "metadata": {
    "collapsed": true
   },
   "outputs": [],
   "source": [
    "rostopic list"
   ]
  },
  {
   "cell_type": "markdown",
   "metadata": {},
   "source": [
    "<img src=\"../img/control_project2.png\" width=\"600\" />"
   ]
  },
  {
   "cell_type": "markdown",
   "metadata": {},
   "source": [
    "Now, you will be able to control the joints of the robot by publishing into the corresponding topics. For instance, try to execute the following command"
   ]
  },
  {
   "cell_type": "code",
   "execution_count": null,
   "metadata": {
    "collapsed": true
   },
   "outputs": [],
   "source": [
    "rostopic pub /ur5/shoulder_lift_joint_position_controller/command std_msgs/Float64 \"data: -1.5\""
   ]
  },
  {
   "cell_type": "markdown",
   "metadata": {},
   "source": [
    "You will see the robot move to the following position:"
   ]
  },
  {
   "cell_type": "markdown",
   "metadata": {},
   "source": [
    "<img src=\"../img/control_project3.png\" width=\"500\" />"
   ]
  },
  {
   "cell_type": "markdown",
   "metadata": {},
   "source": [
    "## Solution Step 4: Create a controller <p id=\"SolutionStep4\"></p>"
   ]
  },
  {
   "cell_type": "markdown",
   "metadata": {},
   "source": [
    "### 1. Create the package"
   ]
  },
  {
   "cell_type": "markdown",
   "metadata": {},
   "source": [
    "<table style=\"float:left;background: #407EAF\">\n",
    "<tr>\n",
    "<th>\n",
    "Execute in WebShell #1\n",
    "</th>\n",
    "</tr>\n",
    "</table>"
   ]
  },
  {
   "cell_type": "markdown",
   "metadata": {},
   "source": [
    "catkin_create_pkg project_controller roscpp pluginlib controller_interface hardware_interface"
   ]
  },
  {
   "cell_type": "markdown",
   "metadata": {},
   "source": [
    "### 2. Create the source code"
   ]
  },
  {
   "cell_type": "markdown",
   "metadata": {},
   "source": [
    "<p style=\"background:#3B8F10;color:white;\" id=\"prg-2-1\">**Cpp File: project_controller.cpp** </p>"
   ]
  },
  {
   "cell_type": "code",
   "execution_count": null,
   "metadata": {
    "collapsed": true
   },
   "outputs": [],
   "source": [
    "#include <controller_interface/controller.h>\n",
    "#include <hardware_interface/joint_command_interface.h>\n",
    "#include <pluginlib/class_list_macros.h>\n",
    "\n",
    "namespace controller_ns{\n",
    "\n",
    "class PositionController : public controller_interface::Controller<hardware_interface::PositionJointInterface>\n",
    "{\n",
    "public:\n",
    "  bool init(hardware_interface::PositionJointInterface* hw, ros::NodeHandle &n)\n",
    "  {\n",
    "    // get joint name from the parameter server\n",
    "    std::string my_joint;\n",
    "    if (!n.getParam(\"joint\", my_joint)){\n",
    "      ROS_ERROR(\"Could not find joint name\");\n",
    "      return false;\n",
    "    }\n",
    "\n",
    "    // get the joint object to use in the realtime loop\n",
    "    joint_ = hw->getHandle(my_joint);  // throws on failure\n",
    "    return true;\n",
    "  }\n",
    "\n",
    "  void update(const ros::Time& time, const ros::Duration& period)\n",
    "  {\n",
    "    double error = setpoint_ - joint_.getPosition();\n",
    "    joint_.setCommand(pos_);\n",
    "  }\n",
    "\n",
    "  void starting(const ros::Time& time) { }\n",
    "  void stopping(const ros::Time& time) { }\n",
    "\n",
    "private:\n",
    "  hardware_interface::JointHandle joint_;\n",
    "  //static const double gain_ = 2.25;\n",
    "  static const double setpoint_ = 1.00;\n",
    "  static const double pos_ = -1.00;\n",
    "};\n",
    "PLUGINLIB_EXPORT_CLASS(controller_ns::PositionController, controller_interface::ControllerBase);\n",
    "}//namespace"
   ]
  },
  {
   "cell_type": "markdown",
   "metadata": {},
   "source": [
    "<p style=\"background:#3B8F10;color:white;\" id=\"prg-2-1\">**END Cpp File: project_controller.cpp** </p>"
   ]
  },
  {
   "cell_type": "markdown",
   "metadata": {},
   "source": [
    "### 3. Create the plugin description file"
   ]
  },
  {
   "cell_type": "markdown",
   "metadata": {},
   "source": [
    "<p style=\"background:#3B8F10;color:white;\" id=\"prg-2-1\">**XML File: controller_plugins.xml** </p>"
   ]
  },
  {
   "cell_type": "code",
   "execution_count": null,
   "metadata": {
    "collapsed": true
   },
   "outputs": [],
   "source": [
    "<library path=\"lib/libproject_controller_lib\">\n",
    "  <class name=\"project_controller/PositionController\" \n",
    "         type=\"controller_ns::PositionController\"           \n",
    "         base_class_type=\"controller_interface::ControllerBase\" />\n",
    "</library>"
   ]
  },
  {
   "cell_type": "markdown",
   "metadata": {},
   "source": [
    "<p style=\"background:#3B8F10;color:white;\" id=\"prg-2-1\">**END XML File: controller_plugins.xml** </p>"
   ]
  },
  {
   "cell_type": "markdown",
   "metadata": {},
   "source": [
    "### 4. Update package.xml"
   ]
  },
  {
   "cell_type": "markdown",
   "metadata": {},
   "source": [
    "<p style=\"background:#3B8F10;color:white;\" id=\"prg-2-1\">**XML File: package.xml** </p>"
   ]
  },
  {
   "cell_type": "code",
   "execution_count": null,
   "metadata": {
    "collapsed": true
   },
   "outputs": [],
   "source": [
    "<?xml version=\"1.0\"?>\n",
    "<package>\n",
    "  <name>project_controller</name>\n",
    "  <version>0.0.0</version>\n",
    "  <description>The project_controller package</description>\n",
    "\n",
    "  <!-- One maintainer tag required, multiple allowed, one person per tag --> \n",
    "  <!-- Example:  -->\n",
    "  <!-- <maintainer email=\"jane.doe@example.com\">Jane Doe</maintainer> -->\n",
    "  <maintainer email=\"user@todo.todo\">user</maintainer>\n",
    "\n",
    "\n",
    "  <!-- One license tag required, multiple allowed, one license per tag -->\n",
    "  <!-- Commonly used license strings: -->\n",
    "  <!--   BSD, MIT, Boost Software License, GPLv2, GPLv3, LGPLv2.1, LGPLv3 -->\n",
    "  <license>TODO</license>\n",
    "\n",
    "  <buildtool_depend>catkin</buildtool_depend>\n",
    "  <build_depend>controller_interface</build_depend>\n",
    "  <build_depend>hardware_interface</build_depend>\n",
    "  <build_depend>pluginlib</build_depend>\n",
    "  <build_depend>roscpp</build_depend>\n",
    "  <run_depend>controller_interface</run_depend>\n",
    "  <run_depend>hardware_interface</run_depend>\n",
    "  <run_depend>pluginlib</run_depend>\n",
    "  <run_depend>roscpp</run_depend>\n",
    "\n",
    "\n",
    "  <!-- The export tag contains other, unspecified, tags -->\n",
    "  <export>\n",
    "    <!-- Other tools can request additional information be placed here -->\n",
    "    <controller_interface plugin=\"${prefix}/controller_plugins.xml\"/>\n",
    "\n",
    "  </export>\n",
    "</package>\n"
   ]
  },
  {
   "cell_type": "markdown",
   "metadata": {},
   "source": [
    "<p style=\"background:#3B8F10;color:white;\" id=\"prg-2-1\">**END XML File: package.xml** </p>"
   ]
  },
  {
   "cell_type": "markdown",
   "metadata": {},
   "source": [
    "### 5. Update CMakeLists.txt"
   ]
  },
  {
   "cell_type": "markdown",
   "metadata": {},
   "source": [
    "<p style=\"background:#3B8F10;color:white;\" id=\"prg-2-1\">**Build section of CMakeLists.txt** </p>"
   ]
  },
  {
   "cell_type": "code",
   "execution_count": null,
   "metadata": {
    "collapsed": true
   },
   "outputs": [],
   "source": [
    "###########\n",
    "## Build ##\n",
    "###########\n",
    "\n",
    "## Specify additional locations of header files\n",
    "## Your package locations should be listed before other locations\n",
    "# include_directories(include)\n",
    "include_directories(\n",
    "  ${catkin_INCLUDE_DIRS}\n",
    ")\n",
    "\n",
    "## Declare a C++ library\n",
    "add_library(project_controller_lib src/project_controller.cpp)\n",
    "\n",
    "## Add cmake target dependencies of the library\n",
    "## as an example, code may need to be generated before libraries\n",
    "## either from message generation or dynamic reconfigure\n",
    "# add_dependencies(${PROJECT_NAME} ${${PROJECT_NAME}_EXPORTED_TARGETS} ${catkin_EXPORTED_TARGETS})\n",
    "\n",
    "## Declare a C++ executable\n",
    "## With catkin_make all packages are built within a single CMake context\n",
    "## The recommended prefix ensures that target names across packages don't collide\n",
    "# add_executable(${PROJECT_NAME}_node src/project_controller_node.cpp)\n",
    "\n",
    "## Rename C++ executable without prefix\n",
    "## The above recommended prefix causes long target names, the following renames the\n",
    "## target back to the shorter version for ease of user use\n",
    "## e.g. \"rosrun someones_pkg node\" instead of \"rosrun someones_pkg someones_pkg_node\"\n",
    "# set_target_properties(${PROJECT_NAME}_node PROPERTIES OUTPUT_NAME node PREFIX \"\")\n",
    "\n",
    "## Add cmake target dependencies of the executable\n",
    "## same as for the library above\n",
    "# add_dependencies(${PROJECT_NAME}_node ${${PROJECT_NAME}_EXPORTED_TARGETS} ${catkin_EXPORTED_TARGETS})\n",
    "\n",
    "## Specify libraries to link a library or executable target against\n",
    "target_link_libraries(project_controller_lib ${catkin_LIBRARIES})\n"
   ]
  },
  {
   "cell_type": "markdown",
   "metadata": {},
   "source": [
    "<p style=\"background:#3B8F10;color:white;\" id=\"prg-2-1\">**END Build section of CMakeLists.txt** </p>"
   ]
  },
  {
   "cell_type": "markdown",
   "metadata": {},
   "source": [
    "### 6. Build the controller"
   ]
  },
  {
   "cell_type": "markdown",
   "metadata": {},
   "source": [
    "<table style=\"float:left;background: #407EAF\">\n",
    "<tr>\n",
    "<th>\n",
    "Execute in WebShell #1\n",
    "</th>\n",
    "</tr>\n",
    "</table>"
   ]
  },
  {
   "cell_type": "code",
   "execution_count": null,
   "metadata": {
    "collapsed": true
   },
   "outputs": [],
   "source": [
    "roscd; cd ..;"
   ]
  },
  {
   "cell_type": "code",
   "execution_count": null,
   "metadata": {
    "collapsed": true
   },
   "outputs": [],
   "source": [
    "catkin_make"
   ]
  },
  {
   "cell_type": "code",
   "execution_count": null,
   "metadata": {
    "collapsed": true
   },
   "outputs": [],
   "source": [
    "source devel/setup.bash"
   ]
  },
  {
   "cell_type": "markdown",
   "metadata": {},
   "source": [
    "If everything goes OK, you should be able to see your plugin when executing the following command:"
   ]
  },
  {
   "cell_type": "markdown",
   "metadata": {},
   "source": [
    "<table style=\"float:left;background: #407EAF\">\n",
    "<tr>\n",
    "<th>\n",
    "Execute in WebShell #1\n",
    "</th>\n",
    "</tr>\n",
    "</table>"
   ]
  },
  {
   "cell_type": "code",
   "execution_count": null,
   "metadata": {
    "collapsed": true
   },
   "outputs": [],
   "source": [
    "rospack plugins --attrib=plugin controller_interface"
   ]
  },
  {
   "cell_type": "markdown",
   "metadata": {},
   "source": [
    "<img src=\"../img/control_project_list.png\" width=\"800\" />"
   ]
  },
  {
   "cell_type": "markdown",
   "metadata": {},
   "source": [
    "### 7. Modify the configuration file"
   ]
  },
  {
   "cell_type": "markdown",
   "metadata": {},
   "source": [
    "<p style=\"background:#3B8F10;color:white;\" id=\"prg-2-1\">**Param File: project_control.yaml** </p>"
   ]
  },
  {
   "cell_type": "code",
   "execution_count": null,
   "metadata": {
    "collapsed": true
   },
   "outputs": [],
   "source": [
    "ur5:\n",
    "\n",
    "  joint_state_controller:\n",
    "    type: joint_state_controller/JointStateController\n",
    "    publish_rate: 50  \n",
    "\n",
    "  shoulder_pan_joint_position_controller:\n",
    "    type: position_controllers/JointPositionController\n",
    "    joint: shoulder_pan_joint\n",
    "    pid: {p: 100.0, i: 0.01, d: 10.0}\n",
    "    \n",
    "  shoulder_lift_joint_position_controller:\n",
    "    type: project_controller/PositionController\n",
    "    joint: shoulder_lift_joint\n",
    "    pid: {p: 100.0, i: 0.01, d: 10.0}\n",
    "    \n",
    "  elbow_joint_position_controller:\n",
    "    type: position_controllers/JointPositionController\n",
    "    joint: elbow_joint\n",
    "    pid: {p: 100.0, i: 0.01, d: 10.0}\n",
    "  \n",
    "  wrist_1_joint_position_controller:\n",
    "    type: position_controllers/JointPositionController\n",
    "    joint: wrist_1_joint\n",
    "    pid: {p: 100.0, i: 0.01, d: 10.0}\n",
    "    \n",
    "  wrist_2_joint_position_controller:\n",
    "    type: position_controllers/JointPositionController\n",
    "    joint: wrist_2_joint\n",
    "    pid: {p: 100.0, i: 0.01, d: 10.0}\n",
    "    \n",
    "  wrist_3_joint_position_controller:\n",
    "    type: position_controllers/JointPositionController\n",
    "    joint: wrist_3_joint\n",
    "    pid: {p: 100.0, i: 0.01, d: 10.0}"
   ]
  },
  {
   "cell_type": "markdown",
   "metadata": {},
   "source": [
    "<p style=\"background:#3B8F10;color:white;\" id=\"prg-2-1\">**END Param File: project_control.yaml** </p>"
   ]
  },
  {
   "cell_type": "markdown",
   "metadata": {},
   "source": [
    "### 8. Launch it"
   ]
  },
  {
   "cell_type": "markdown",
   "metadata": {},
   "source": [
    "Finally, when your start your new control file:"
   ]
  },
  {
   "cell_type": "markdown",
   "metadata": {},
   "source": [
    "<table style=\"float:left;background: #407EAF\">\n",
    "<tr>\n",
    "<th>\n",
    "Execute in WebShell #1\n",
    "</th>\n",
    "</tr>\n",
    "</table>"
   ]
  },
  {
   "cell_type": "code",
   "execution_count": null,
   "metadata": {
    "collapsed": true
   },
   "outputs": [],
   "source": [
    "roslaunch project_control project_control.launch"
   ]
  },
  {
   "cell_type": "markdown",
   "metadata": {},
   "source": [
    "You should see how the UR5 robot automatically moves to the following position:"
   ]
  },
  {
   "cell_type": "markdown",
   "metadata": {},
   "source": [
    "<img src=\"../img/control_project3.png\" width=\"500\" />"
   ]
  }
 ],
 "metadata": {
  "anaconda-cloud": {},
  "kernelspec": {
   "display_name": "Python [Root]",
   "language": "python",
   "name": "Python [Root]"
  },
  "language_info": {
   "codemirror_mode": {
    "name": "ipython",
    "version": 2
   },
   "file_extension": ".py",
   "mimetype": "text/x-python",
   "name": "python",
   "nbconvert_exporter": "python",
   "pygments_lexer": "ipython2",
   "version": "2.7.12"
  }
 },
 "nbformat": 4,
 "nbformat_minor": 0
}
