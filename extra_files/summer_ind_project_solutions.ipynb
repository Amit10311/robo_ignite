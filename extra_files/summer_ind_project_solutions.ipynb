{
 "cells": [
  {
   "cell_type": "markdown",
   "metadata": {},
   "source": [
    "## Solutions for ROS Industrial Project"
   ]
  },
  {
   "cell_type": "markdown",
   "metadata": {},
   "source": [
    "<img src=\"../img/robotignite_logo_text.png\"/>"
   ]
  },
  {
   "cell_type": "markdown",
   "metadata": {},
   "source": [
    "## Index: "
   ]
  },
  {
   "cell_type": "markdown",
   "metadata": {},
   "source": [
    "* <a href=\"#SolutionStep1\">Solution Step 1</a>\n",
    "* <a href=\"#SolutionStep2\">Solution Step 2</a>\n",
    "* <a href=\"#SolutionStep3\">Solution Step 3</a>\n",
    "* <a href=\"#SolutionStep4\">Solution Step 4</a>"
   ]
  },
  {
   "cell_type": "markdown",
   "metadata": {},
   "source": [
    "## Solution Step 1: Build the URDF <p id=\"SolutionStep1\"></p>"
   ]
  },
  {
   "cell_type": "markdown",
   "metadata": {},
   "source": [
    "<p style=\"background:#3B8F10;color:white;\" id=\"prg-2-1\">**URDF File: project.urdf.xacro** </p>"
   ]
  },
  {
   "cell_type": "code",
   "execution_count": null,
   "metadata": {
    "collapsed": true
   },
   "outputs": [],
   "source": [
    "<?xml version=\"1.0\"?>\n",
    "<robot xmlns:xacro=\"http://ros.org/wiki/xacro\"\n",
    "       name=\"ur5\" >\n",
    "\n",
    "  <!-- common stuff -->\n",
    "  <xacro:include filename=\"$(find ur_description)/urdf/common.gazebo.xacro\" />\n",
    "\n",
    "  <!-- ur5 -->\n",
    "  <xacro:include filename=\"$(find ur_description)/urdf/ur5.urdf.xacro\" />\n",
    "\n",
    "  <!-- arm -->\n",
    "  <xacro:ur5_robot prefix=\"\" joint_limited=\"false\"/>\n",
    "\n",
    "  <link name=\"world\" />\n",
    "  \n",
    "  <link name=\"table\">\n",
    "    <visual>\n",
    "      <geometry>\n",
    "        <box size=\"1 1 0.05\"/>\n",
    "      </geometry>\n",
    "    </visual>\n",
    "    <collision>\n",
    "      <geometry>\n",
    "        <box size=\"1 1 0.05\"/>\n",
    "      </geometry>\n",
    "    </collision>\n",
    "  </link>\n",
    "  \n",
    "  <joint name=\"world_to_table\" type=\"fixed\">\n",
    "  <parent link=\"world\"/>\n",
    "  <child link=\"table\"/>\n",
    "  <origin xyz=\"0 0 0.5\" rpy=\"0 0 0\"/>\n",
    "</joint>\n",
    "\n",
    "<joint name=\"table_to_robot\" type=\"fixed\">\n",
    "  <parent link=\"table\"/>\n",
    "  <child link=\"base_link\"/>\n",
    "  <origin xyz=\"0 0 0\" rpy=\"0 0 0\"/>\n",
    "</joint>\n",
    "\n",
    "</robot>"
   ]
  },
  {
   "cell_type": "markdown",
   "metadata": {},
   "source": [
    "<p style=\"background:#3B8F10;color:white;\" id=\"prg-2-1\">**END URDF File: project.urdf.xacro** </p>"
   ]
  },
  {
   "cell_type": "markdown",
   "metadata": {},
   "source": [
    "## Solution Step 2: Build the MoveIt package <p id=\"SolutionStep2\"></p>"
   ]
  },
  {
   "cell_type": "markdown",
   "metadata": {},
   "source": [
    "#### 1. Load the URDF created in the previous step."
   ]
  },
  {
   "cell_type": "markdown",
   "metadata": {},
   "source": [
    "<img src=\"../img/project1.png\" width=\"500\" />"
   ]
  },
  {
   "cell_type": "markdown",
   "metadata": {},
   "source": [
    "#### 2. Create a Virtual Joint."
   ]
  },
  {
   "cell_type": "markdown",
   "metadata": {},
   "source": [
    "<img src=\"../img/project2.png\" width=\"500\" />"
   ]
  },
  {
   "cell_type": "markdown",
   "metadata": {},
   "source": [
    "#### 3. Create the Planning Group."
   ]
  },
  {
   "cell_type": "markdown",
   "metadata": {},
   "source": [
    "<img src=\"../img/project3.png\" width=\"500\" />"
   ]
  },
  {
   "cell_type": "markdown",
   "metadata": {},
   "source": [
    "#### 4. Create a couple of predefined poses for testing."
   ]
  },
  {
   "cell_type": "markdown",
   "metadata": {},
   "source": [
    "<img src=\"../img/project4.png\" width=\"500\" />"
   ]
  },
  {
   "cell_type": "markdown",
   "metadata": {},
   "source": [
    "<img src=\"../img/project5.png\" width=\"500\" />"
   ]
  },
  {
   "cell_type": "markdown",
   "metadata": {},
   "source": [
    "#### 5. Name your package as project_moveit_config."
   ]
  },
  {
   "cell_type": "markdown",
   "metadata": {},
   "source": [
    "## Solution Step 3: Connect the MoveIt package with the simulation <p id=\"SolutionStep3\"></p>"
   ]
  },
  {
   "cell_type": "markdown",
   "metadata": {},
   "source": [
    "<p style=\"background:#3B8F10;color:white;\" id=\"prg-2-1\">**Param File: controllers.yaml** </p>"
   ]
  },
  {
   "cell_type": "code",
   "execution_count": null,
   "metadata": {
    "collapsed": true
   },
   "outputs": [],
   "source": [
    "controller_list:\n",
    "  - name: arm_controller\n",
    "    action_ns: \"follow_joint_trajectory\"\n",
    "    type: FollowJointTrajectory\n",
    "    joints: [shoulder_pan_joint, shoulder_lift_joint, elbow_joint, wrist_1_joint, wrist_2_joint, wrist_3_joint]"
   ]
  },
  {
   "cell_type": "markdown",
   "metadata": {},
   "source": [
    "<p style=\"background:#3B8F10;color:white;\" id=\"prg-2-1\">**END Param File: controllers.yaml** </p>"
   ]
  },
  {
   "cell_type": "markdown",
   "metadata": {},
   "source": [
    "<p style=\"background:#3B8F10;color:white;\" id=\"prg-2-1\">**Param File: joint_names.yaml** </p>"
   ]
  },
  {
   "cell_type": "code",
   "execution_count": null,
   "metadata": {
    "collapsed": true
   },
   "outputs": [],
   "source": [
    "controller_joint_names: [shoulder_pan_joint, shoulder_lift_joint, elbow_joint, wrist_1_joint, wrist_2_joint, wrist_3_joint]"
   ]
  },
  {
   "cell_type": "markdown",
   "metadata": {},
   "source": [
    "<p style=\"background:#3B8F10;color:white;\" id=\"prg-2-1\">**END Param File: joint_names.yaml** </p>"
   ]
  },
  {
   "cell_type": "markdown",
   "metadata": {},
   "source": [
    "<p style=\"background:#3B8F10;color:white;\" id=\"prg-2-1\">**Launch File: ur5_moveit_controller_manager.launch.xml** </p>"
   ]
  },
  {
   "cell_type": "code",
   "execution_count": null,
   "metadata": {
    "collapsed": true
   },
   "outputs": [],
   "source": [
    "<launch>\n",
    "  <rosparam file=\"$(find project_moveit_config)/config/controllers.yaml\"/>\n",
    "  <param name=\"use_controller_manager\" value=\"false\"/>\n",
    "  <param name=\"trajectory_execution/execution_duration_monitoring\" value=\"false\"/>\n",
    "  <param name=\"moveit_controller_manager\" value=\"moveit_simple_controller_manager/MoveItSimpleControllerManager\"/>\n",
    "</launch>"
   ]
  },
  {
   "cell_type": "markdown",
   "metadata": {},
   "source": [
    "<p style=\"background:#3B8F10;color:white;\" id=\"prg-2-1\">**END Launch File: ur5_moveit_controller_manager.launch.xml** </p>"
   ]
  },
  {
   "cell_type": "markdown",
   "metadata": {},
   "source": [
    "<p style=\"background:#3B8F10;color:white;\" id=\"prg-2-1\">**Launch File: project_planning_execution.launch** </p>"
   ]
  },
  {
   "cell_type": "code",
   "execution_count": null,
   "metadata": {
    "collapsed": true
   },
   "outputs": [],
   "source": [
    "<launch>\n",
    "\n",
    "  <rosparam command=\"load\" file=\"$(find project_moveit_config)/config/joint_names.yaml\"/>\n",
    "\n",
    "  <include file=\"$(find project_moveit_config)/launch/planning_context.launch\" >\n",
    "    <arg name=\"load_robot_description\" value=\"true\" />\n",
    "  </include>\n",
    "\n",
    "  <node name=\"joint_state_publisher\" pkg=\"joint_state_publisher\" type=\"joint_state_publisher\">\n",
    "    <param name=\"/use_gui\" value=\"false\"/>\n",
    "    <rosparam param=\"/source_list\">[/joint_states]</rosparam>\n",
    "  </node>\n",
    "\n",
    "  <include file=\"$(find project_moveit_config)/launch/move_group.launch\">\n",
    "    <arg name=\"publish_monitored_planning_scene\" value=\"true\" />\n",
    "  </include>\n",
    "\n",
    "  <include file=\"$(find project_moveit_config)/launch/moveit_rviz.launch\">\n",
    "    <arg name=\"config\" value=\"true\"/>\n",
    "  </include>\n",
    "\n",
    "</launch>"
   ]
  },
  {
   "cell_type": "markdown",
   "metadata": {},
   "source": [
    "<p style=\"background:#3B8F10;color:white;\" id=\"prg-2-1\">**END Launch File: project_planning_execution.launch** </p>"
   ]
  },
  {
   "cell_type": "markdown",
   "metadata": {},
   "source": [
    "## Solution Step 4: Python Script <p id=\"SolutionStep4\"></p>"
   ]
  },
  {
   "cell_type": "markdown",
   "metadata": {},
   "source": [
    "<p style=\"background:#3B8F10;color:white;\" id=\"prg-2-1\">**Python File: project_motion.py** </p>"
   ]
  },
  {
   "cell_type": "code",
   "execution_count": null,
   "metadata": {
    "collapsed": true
   },
   "outputs": [],
   "source": [
    "#! /usr/bin/env python\n",
    "\n",
    "import sys\n",
    "import copy\n",
    "import rospy\n",
    "import moveit_commander\n",
    "import moveit_msgs.msg\n",
    "import geometry_msgs.msg\n",
    "\n",
    "moveit_commander.roscpp_initialize(sys.argv)\n",
    "rospy.init_node('move_group_python_interface_tutorial', anonymous=True)\n",
    "\n",
    "robot = moveit_commander.RobotCommander()\n",
    "scene = moveit_commander.PlanningSceneInterface()    \n",
    "group = moveit_commander.MoveGroupCommander(\"manipulator\")\n",
    "display_trajectory_publisher = rospy.Publisher('/move_group/display_planned_path', moveit_msgs.msg.DisplayTrajectory)\n",
    "\n",
    "group_variable_values = group.get_current_joint_values()\n",
    "\n",
    "group_variable_values[1] = -1.55\n",
    "group_variable_values[2] = 1.55\n",
    "group.set_joint_value_target(group_variable_values)\n",
    "\n",
    "plan2 = group.plan()\n",
    "\n",
    "group.go(wait=True)\n",
    "\n",
    "group_variable_values[1] = -1.55\n",
    "group_variable_values[2] = 0\n",
    "group.set_joint_value_target(group_variable_values)\n",
    "\n",
    "plan2 = group.plan()\n",
    "\n",
    "group.go(wait=True)\n",
    "\n",
    "group_variable_values[1] = -1.55\n",
    "group_variable_values[2] = 1.55\n",
    "group.set_joint_value_target(group_variable_values)\n",
    "\n",
    "plan2 = group.plan()\n",
    "\n",
    "group.go(wait=True)\n",
    "\n",
    "group_variable_values[1] = 0\n",
    "group_variable_values[2] = 0\n",
    "group.set_joint_value_target(group_variable_values)\n",
    "\n",
    "rospy.sleep(5)\n",
    "\n",
    "group.go(wait=True)\n",
    "\n",
    "moveit_commander.roscpp_shutdown()"
   ]
  },
  {
   "cell_type": "markdown",
   "metadata": {},
   "source": [
    "<p style=\"background:#3B8F10;color:white;\" id=\"prg-2-1\">**END Python File: project_motion.py** </p>"
   ]
  }
 ],
 "metadata": {
  "anaconda-cloud": {},
  "kernelspec": {
   "display_name": "Python [Root]",
   "language": "python",
   "name": "Python [Root]"
  },
  "language_info": {
   "codemirror_mode": {
    "name": "ipython",
    "version": 2
   },
   "file_extension": ".py",
   "mimetype": "text/x-python",
   "name": "python",
   "nbconvert_exporter": "python",
   "pygments_lexer": "ipython2",
   "version": "2.7.12"
  }
 },
 "nbformat": 4,
 "nbformat_minor": 0
}
