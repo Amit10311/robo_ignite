{
 "cells": [
  {
   "cell_type": "markdown",
   "metadata": {},
   "source": [
    "## Solutions for Navigation Project"
   ]
  },
  {
   "cell_type": "markdown",
   "metadata": {},
   "source": [
    "<img src=\"../img/robotignite_logo_text.png\"/>"
   ]
  },
  {
   "cell_type": "markdown",
   "metadata": {},
   "source": [
    "## Index: "
   ]
  },
  {
   "cell_type": "markdown",
   "metadata": {},
   "source": [
    "* <a href=\"#SolutionStep1\">Solution Step 1</a>\n",
    "* <a href=\"#SolutionStep2\">Solution Step 2</a>\n",
    "* <a href=\"#SolutionStep3\">Solution Step 3</a>\n",
    "* <a href=\"#SolutionStep4\">Solution Step 4</a>"
   ]
  },
  {
   "cell_type": "markdown",
   "metadata": {},
   "source": [
    "## Solution Step 1: Generate a Map of the Environment <p id=\"SolutionStep1\"></p>"
   ]
  },
  {
   "cell_type": "markdown",
   "metadata": {},
   "source": [
    "<table style=\"float:left;background: #407EAF\">\n",
    "<tr>\n",
    "<th>\n",
    "<p class=\"transparent\">3. Create the launch file for the gmapping node.</p>\n",
    "</th>\n",
    "</tr>\n",
    "</table>"
   ]
  },
  {
   "cell_type": "markdown",
   "metadata": {},
   "source": [
    "<p style=\"background:#3B8F10;color:white;\" id=\"prg-2-1\">**Launch File: my_summit_mapping.launch** </p>"
   ]
  },
  {
   "cell_type": "code",
   "execution_count": null,
   "metadata": {
    "collapsed": true
   },
   "outputs": [],
   "source": [
    "<launch>\n",
    "    <node pkg=\"gmapping\" type=\"slam_gmapping\" name=\"slam_gmapping\" output=\"screen\">\n",
    "      <!-- simulation remap from=\"scan\" to=\"/hokuyo_laser_topic\"/ -->\n",
    "      <!-- real -->\n",
    "      <!-- remap from=\"scan\" to=\"/scan_filtered\"/ -->\n",
    "      <remap from=\"scan\" to =\"/hokuyo_base/scan\"/>\n",
    "      <!-- param name=\"map_udpate_interval\" value=\"5.0\"/ -->\n",
    "      <param name=\"base_frame\" value=\"base_footprint\"/>\n",
    "      <param name=\"odom_frame\" value=\"odom\"/>\n",
    "      <param name=\"map_udpate_interval\" value=\"5.0\"/>\n",
    "      <param name=\"maxUrange\" value=\"7.0\"/>\n",
    "      <param name=\"sigma\" value=\"0.05\"/>\n",
    "      <param name=\"kernelSize\" value=\"1\"/>\n",
    "      <param name=\"lstep\" value=\"0.05\"/>\n",
    "      <param name=\"astep\" value=\"0.05\"/>\n",
    "      <param name=\"iterations\" value=\"5\"/>\n",
    "      <param name=\"lsigma\" value=\"0.075\"/>\n",
    "      <param name=\"ogain\" value=\"3.0\"/>\n",
    "      <param name=\"lskip\" value=\"0\"/>\n",
    "      <param name=\"srr\" value=\"0.1\"/>\n",
    "      <param name=\"srt\" value=\"0.2\"/>\n",
    "      <param name=\"str\" value=\"0.1\"/>\n",
    "      <param name=\"stt\" value=\"0.2\"/>\n",
    "      <param name=\"linearUpdate\" value=\"0.2\"/>\n",
    "      <param name=\"angularUpdate\" value=\"0.1\"/>\n",
    "      <param name=\"temporalUpdate\" value=\"3.0\"/>\n",
    "      <param name=\"resampleThreshold\" value=\"0.5\"/>\n",
    "      <param name=\"particles\" value=\"100\"/>\n",
    "      <param name=\"xmin\" value=\"-50.0\"/>\n",
    "      <param name=\"ymin\" value=\"-50.0\"/>\n",
    "      <param name=\"xmax\" value=\"50.0\"/>\n",
    "      <param name=\"ymax\" value=\"50.0\"/>\n",
    "      <param name=\"delta\" value=\"0.05\"/>\n",
    "      <param name=\"llsamplerange\" value=\"0.01\"/>\n",
    "      <param name=\"llsamplestep\" value=\"0.01\"/>\n",
    "      <param name=\"lasamplerange\" value=\"0.005\"/>\n",
    "      <param name=\"lasamplestep\" value=\"0.005\"/>\n",
    "    </node>\n",
    "</launch>"
   ]
  },
  {
   "cell_type": "markdown",
   "metadata": {},
   "source": [
    "<p style=\"background:#3B8F10;color:white;\" id=\"prg-2-1\">**END Launch File: my_summit_mapping.launch** </p>"
   ]
  },
  {
   "cell_type": "markdown",
   "metadata": {},
   "source": [
    "<table style=\"float:left;background: #407EAF\">\n",
    "<tr>\n",
    "<th>\n",
    "<p class=\"transparent\">7. Create a launch file that launches the map_server node.</p>\n",
    "</th>\n",
    "</tr>\n",
    "</table>"
   ]
  },
  {
   "cell_type": "markdown",
   "metadata": {},
   "source": [
    "<p style=\"background:#3B8F10;color:white;\" id=\"prg-2-1\">**Launch File: map_provider.launch** </p>"
   ]
  },
  {
   "cell_type": "code",
   "execution_count": null,
   "metadata": {
    "collapsed": true
   },
   "outputs": [],
   "source": [
    "<launch>\n",
    "    <node name=\"map_server\" pkg=\"map_server\" type=\"map_server\" args=\"$(find my_summit_mapping)/maps/exam_map.yaml\"/>\n",
    "</launch>"
   ]
  },
  {
   "cell_type": "markdown",
   "metadata": {},
   "source": [
    "<p style=\"background:#3B8F10;color:white;\" id=\"prg-2-1\">**END Launch File: map_provider.launch** </p>"
   ]
  },
  {
   "cell_type": "markdown",
   "metadata": {},
   "source": [
    "## Solution Step 2: Make the Robot Localize itself in the Map <p id=\"SolutionStep2\"></p>"
   ]
  },
  {
   "cell_type": "markdown",
   "metadata": {},
   "source": [
    "<table style=\"float:left;background: #407EAF\">\n",
    "<tr>\n",
    "<th>\n",
    "<p class=\"transparent\">2. Create the launch file for the amcl node</p>\n",
    "</th>\n",
    "</tr>\n",
    "</table>"
   ]
  },
  {
   "cell_type": "markdown",
   "metadata": {},
   "source": [
    "<p style=\"background:#3B8F10;color:white;\" id=\"prg-2-1\">**Launch File: my_summit_localization.launch** </p>"
   ]
  },
  {
   "cell_type": "code",
   "execution_count": null,
   "metadata": {
    "collapsed": true
   },
   "outputs": [],
   "source": [
    "<launch>\n",
    "\n",
    "<!-- Run the map server -->\n",
    "<include file=\"$(find my_summit_mapping)/launch/map_provider.launch\" />\n",
    "\n",
    "<node pkg=\"amcl\" type=\"amcl\" name=\"amcl\" output=\"screen\">\n",
    "\n",
    "  <remap from=\"scan\" to=\"/hokuyo_base/scan\" />\n",
    "  <remap from=\"cmd_vel\" to=\"/summit_xl_controller/cmd_vel\"/>\n",
    "\n",
    "  <!-- Publish scans from best pose at a max of 10 Hz -->\n",
    "  <param name=\"odom_model_type\" value=\"diff\"/>\n",
    "  <param name=\"odom_alpha5\" value=\"0.1\"/>\n",
    "  <param name=\"transform_tolerance\" value=\"0.2\" />\n",
    "  <param name=\"gui_publish_rate\" value=\"10.0\"/>\n",
    "  <param name=\"laser_max_beams\" value=\"30\"/>\n",
    "  <param name=\"min_particles\" value=\"500\"/>\n",
    "  <param name=\"max_particles\" value=\"5000\"/>\n",
    "  <param name=\"kld_err\" value=\"0.05\"/>\n",
    "  <param name=\"kld_z\" value=\"0.99\"/>\n",
    "  <param name=\"odom_alpha1\" value=\"0.2\"/>\n",
    "  <param name=\"odom_alpha2\" value=\"0.2\"/>\n",
    "  <param name=\"odom_alpha3\" value=\"0.8\"/>\n",
    "  <param name=\"odom_alpha4\" value=\"0.2\"/>\n",
    "  <param name=\"laser_z_hit\" value=\"0.5\"/>\n",
    "  <param name=\"laser_z_short\" value=\"0.05\"/>\n",
    "  <param name=\"laser_z_max\" value=\"0.05\"/>\n",
    "  <param name=\"laser_z_rand\" value=\"0.5\"/>\n",
    "  <param name=\"laser_sigma_hit\" value=\"0.2\"/>\n",
    "  <param name=\"laser_lambda_short\" value=\"0.1\"/>\n",
    "  <param name=\"laser_lambda_short\" value=\"0.1\"/>\n",
    "  <param name=\"laser_model_type\" value=\"likelihood_field\"/>\n",
    "  <param name=\"laser_likelihood_max_dist\" value=\"2.0\"/>\n",
    "  <param name=\"update_min_d\" value=\"0.2\"/>\n",
    "  <param name=\"update_min_a\" value=\"0.5\"/>\n",
    "  <param name=\"odom_frame_id\" value=\"odom\"/>\n",
    "  <param name=\"base_frame_id\" value=\"base_footprint\"/>\n",
    "  <param name=\"global_frame_id\" value=\"map\"/>\n",
    "  <param name=\"resample_interval\" value=\"1\"/>\n",
    "  <param name=\"transform_tolerance\" value=\"0.1\"/>\n",
    "  <param name=\"recovery_alpha_slow\" value=\"0.0\"/>\n",
    "  <param name=\"recovery_alpha_fast\" value=\"0.0\"/>\n",
    "  <param name=\"initial_pose_x\" value =\"0.0\"/>\n",
    "  <param name=\"initial_pose_y\" value =\"0.0\"/>\n",
    "  <param name=\"initial_pose_a\" value =\"0.0\"/>\n",
    "\n",
    "</node>\n",
    "\n",
    "</launch>"
   ]
  },
  {
   "cell_type": "markdown",
   "metadata": {},
   "source": [
    "<p style=\"background:#3B8F10;color:white;\" id=\"prg-2-1\">**END Launch File: my_summit_localization.launch** </p>"
   ]
  },
  {
   "cell_type": "markdown",
   "metadata": {},
   "source": [
    "<table style=\"float:left;background: #407EAF\">\n",
    "<tr>\n",
    "<th>\n",
    "<p class=\"transparent\">4. Create the spots table.</p>\n",
    "</th>\n",
    "</tr>\n",
    "</table>"
   ]
  },
  {
   "cell_type": "markdown",
   "metadata": {},
   "source": [
    "<p style=\"background:#3B8F10;color:white;\" id=\"prg-2-1\">**YAML File: spots.yaml** </p>"
   ]
  },
  {
   "cell_type": "code",
   "execution_count": null,
   "metadata": {
    "collapsed": true
   },
   "outputs": [],
   "source": [
    "turtle:\n",
    " position:\n",
    "  x: -4.28077294766\n",
    "  y: -3.68536082784\n",
    "  z: 0.0\n",
    " orientation:\n",
    "  x: 0.0\n",
    "  y: 0.0\n",
    "  z: 0.0491798419191\n",
    "  w: 0.998789939451\n",
    "\n",
    "table:\n",
    " position:\n",
    "  x: 3.72727024704\n",
    "  y: 1.62105207312\n",
    "  z: 0.0\n",
    " orientation:\n",
    "  x: 0.0\n",
    "  y: 0.0\n",
    "  z: 0.488753291806\n",
    "  w: 0.872422042219\n",
    "  \n",
    "room:\n",
    " position:\n",
    "  x: -2.76879232751\n",
    "  y: 2.92468779625\n",
    "  z: 0.0\n",
    " orientation:\n",
    "  x: 0.0\n",
    "  y: 0.0\n",
    "  z: 0.723179606064\n",
    "  w: 0.690660015763"
   ]
  },
  {
   "cell_type": "markdown",
   "metadata": {},
   "source": [
    "<p style=\"background:#3B8F10;color:white;\" id=\"prg-2-1\">**END YAML File: spots.yaml** </p>"
   ]
  },
  {
   "cell_type": "markdown",
   "metadata": {},
   "source": [
    "<table style=\"float:left;background: #407EAF\">\n",
    "<tr>\n",
    "<th>\n",
    "<p class=\"transparent\">5. Create a ROS Service that saves the different spots into a file.</p>\n",
    "</th>\n",
    "</tr>\n",
    "</table>"
   ]
  },
  {
   "cell_type": "markdown",
   "metadata": {},
   "source": [
    "<p style=\"background:#3B8F10;color:white;\" id=\"prg-2-1\">**Python File: save_spots.py** </p>"
   ]
  },
  {
   "cell_type": "code",
   "execution_count": null,
   "metadata": {
    "collapsed": true
   },
   "outputs": [],
   "source": [
    "#! /usr/bin/env python\n",
    "\n",
    "import rospy\n",
    "from my_summit_localization.srv import MyServiceMsg, MyServiceMsgResponse\n",
    "from geometry_msgs.msg import Pose\n",
    "from geometry_msgs.msg import PoseWithCovarianceStamped\n",
    "import time\n",
    "\n",
    "\n",
    "class SaveSpots(object):\n",
    "    def __init__(self, srv_name='/save_spot'):\n",
    "        self._srv_name = srv_name\n",
    "        self._pose = PoseWithCovarianceStamped()\n",
    "        self.detection_dict = {\"turtle\":self._pose, \"table\":self._pose, \"room\":self._pose}\n",
    "        self._my_service = rospy.Service(self._srv_name, MyServiceMsg , self.srv_callback)\n",
    "        self._pose_sub = rospy.Subscriber('/amcl_pose', PoseWithCovarianceStamped , self.sub_callback)\n",
    "\n",
    "    def sub_callback(self, msg):\n",
    "        self._pose = msg\n",
    "    \n",
    "    def srv_callback(self, request):\n",
    "        \n",
    "        label = request.label\n",
    "        response = MyServiceMsgResponse()\n",
    "        \"\"\"\n",
    "        ---                                                                                                 \n",
    "        bool navigation_successfull\n",
    "        string message # Direction\n",
    "        \"\"\"\n",
    "        \n",
    "        if label == \"turtle\":\n",
    "            self.detection_dict[\"turtle\"] = self._pose\n",
    "            response.message = \"Saved Pose for turtle spot\"\n",
    "            \n",
    "        elif label == \"table\":\n",
    "            self.detection_dict[\"table\"] = self._pose\n",
    "            response.message = \"Saved Pose for table spot\"\n",
    "            \n",
    "        elif label == \"room\":\n",
    "            self.detection_dict[\"room\"] = self._pose\n",
    "            response.message = \"Saved Pose for room spot\"\n",
    "            \n",
    "        elif label == \"end\":\n",
    "            with open('spots.txt', 'w') as file:\n",
    "                \n",
    "                for key, value in self.detection_dict.iteritems():\n",
    "                    if value:\n",
    "                        file.write(str(key) + ':\\n----------\\n' + str(value) + '\\n===========\\n')\n",
    "                \n",
    "                response.message = \"Written Poses to spots.txt file\"\n",
    "                \n",
    "        else:\n",
    "            response.message = \"No label with this name. Try with turtle, table, room or end(to write the file)\"\n",
    "        \n",
    "        \n",
    "        response.navigation_successfull = True\n",
    "        \n",
    "        return response\n",
    "\n",
    "\n",
    "if __name__ == \"__main__\":\n",
    "    rospy.init_node('spot_recorder', log_level=rospy.INFO) \n",
    "    save_spots_object = SaveSpots()\n",
    "    rospy.spin() # mantain the service open."
   ]
  },
  {
   "cell_type": "markdown",
   "metadata": {},
   "source": [
    "<p style=\"background:#3B8F10;color:white;\" id=\"prg-2-1\">**END Python File: save_spots.py** </p>"
   ]
  },
  {
   "cell_type": "markdown",
   "metadata": {},
   "source": [
    "## Solution Step 3: Set Up the Path Planning System <p id=\"SolutionStep3\"></p>"
   ]
  },
  {
   "cell_type": "markdown",
   "metadata": {},
   "source": [
    "<table style=\"float:left;background: #407EAF\">\n",
    "<tr>\n",
    "<th>\n",
    "<p class=\"transparent\">2. Create the action server, the client, and the program to compute out of the maze.</p>\n",
    "</th>\n",
    "</tr>\n",
    "</table>"
   ]
  },
  {
   "cell_type": "markdown",
   "metadata": {},
   "source": [
    "<p style=\"background:#3B8F10;color:white;\" id=\"prg-2-1\">**Launch File: move_base.launch** </p>"
   ]
  },
  {
   "cell_type": "code",
   "execution_count": null,
   "metadata": {
    "collapsed": true
   },
   "outputs": [],
   "source": [
    "<launch>\n",
    "  <!--- Run AMCL -->\n",
    "  <include file=\"$(find my_summit_localization)/launch/my_summit_localization.launch\" />\n",
    "  <remap from=\"cmd_vel\" to=\"/move_base/cmd_vel\" />\n",
    "\n",
    "  <!-- Run move_base -->\n",
    "  <node pkg=\"move_base\" type=\"move_base\" respawn=\"false\" name=\"move_base\" output=\"screen\">\n",
    "    <rosparam file=\"$(find my_summit_path_planning)/config/move_base_params.yaml\" command=\"load\" />\n",
    "    <rosparam file=\"$(find my_summit_path_planning)/config/costmap_common_params.yaml\" command=\"load\" ns=\"global_costmap\" />\n",
    "    <rosparam file=\"$(find my_summit_path_planning)/config/costmap_common_params.yaml\" command=\"load\" ns=\"local_costmap\" />\n",
    "    <rosparam file=\"$(find my_summit_path_planning)/config/local_costmap_params.yaml\" command=\"load\" />\n",
    "    <param name=\"local_costmap/width\" value=\"10.0\"/>\n",
    "    <param name=\"local_costmap/height\" value=\"10.0\"/>\n",
    "    <rosparam file=\"$(find my_summit_path_planning)/config/global_costmap_params_map.yaml\" command=\"load\" />\n",
    "    <rosparam file=\"$(find my_summit_path_planning)/config/dwa_local_planner_params.yaml\" command=\"load\" />\n",
    "    <rosparam file=\"$(find my_summit_path_planning)/config/global_planner_params.yaml\" command=\"load\" />\n",
    "\n",
    "    <param name=\"base_global_planner\" value=\"navfn/NavfnROS\" />\n",
    "    <param name=\"base_local_planner\" value=\"dwa_local_planner/DWAPlannerROS\" />\n",
    "    <param name=\"controller_frequency\" value=\"5.0\" />\n",
    "    <param name=\"controller_patience\" value=\"15.0\" />\n",
    "  </node>\n",
    "\n",
    "</launch>"
   ]
  },
  {
   "cell_type": "markdown",
   "metadata": {},
   "source": [
    "<p style=\"background:#3B8F10;color:white;\" id=\"prg-2-1\">**END Launch File: move_base.launch** </p>"
   ]
  },
  {
   "cell_type": "markdown",
   "metadata": {},
   "source": [
    "<p style=\"background:#3B8F10;color:white;\" id=\"prg-2-1\">**Param File: move_base_params.yaml** </p>"
   ]
  },
  {
   "cell_type": "code",
   "execution_count": null,
   "metadata": {
    "collapsed": true
   },
   "outputs": [],
   "source": [
    "controller_frequency: 10.0\n",
    "planner_patience: 5.0\n",
    "controller_patience: 15.0\n",
    "conservative_reset_dist: 3.0\n",
    "recovery_behavior_enabled: true\n",
    "clearing_rotation_allowed: true\n",
    "shutdown_costmaps: false\n",
    "oscillation_timeout: 0.0\n",
    "oscillation_distance: 0.5\n",
    "planner_frequency: 0.2"
   ]
  },
  {
   "cell_type": "markdown",
   "metadata": {},
   "source": [
    "<p style=\"background:#3B8F10;color:white;\" id=\"prg-2-1\">**END Param File: move_base_params.yaml** </p>"
   ]
  },
  {
   "cell_type": "markdown",
   "metadata": {},
   "source": [
    "<p style=\"background:#3B8F10;color:white;\" id=\"prg-2-1\">**Param File: costmap_common_params.yaml** </p>"
   ]
  },
  {
   "cell_type": "code",
   "execution_count": null,
   "metadata": {
    "collapsed": true
   },
   "outputs": [],
   "source": [
    "obstacle_range: 2.5\n",
    "raytrace_range: 3.0\n",
    "\n",
    "footprint: [[0.35, -0.3], [0.35, 0.3], [-0.35,0.3], [-0.35, -0.3]]\n",
    "\n",
    "publish_frequency: 1.0\n",
    "\n",
    "inflation_layer:\n",
    "  inflation_radius: 0.5\n",
    "\n",
    "obstacle_layer:\n",
    "  observation_sources: hokuyo_laser\n",
    "  hokuyo_laser: {sensor_frame: hokuyo_base_link, data_type: LaserScan, topic: /scan, marking: true, clearing: true}\n",
    "  \n",
    "static:\n",
    "  map_topic: /map\n",
    "  subscribe_to_updates: true"
   ]
  },
  {
   "cell_type": "markdown",
   "metadata": {},
   "source": [
    "<p style=\"background:#3B8F10;color:white;\" id=\"prg-2-1\">**END Param File: costmap_common_params.yaml** </p>"
   ]
  },
  {
   "cell_type": "markdown",
   "metadata": {},
   "source": [
    "<p style=\"background:#3B8F10;color:white;\" id=\"prg-2-1\">**Param File: global_costmap_params_map.yaml** </p>"
   ]
  },
  {
   "cell_type": "code",
   "execution_count": null,
   "metadata": {
    "collapsed": true
   },
   "outputs": [],
   "source": [
    "global_costmap:\n",
    "  global_frame: /map\n",
    "  robot_base_frame: /base_footprint\n",
    "  update_frequency: 5.0\n",
    "  static_map: true\n",
    "  \n",
    "  plugins:\n",
    "  - {name: static,                  type: \"costmap_2d::StaticLayer\"}\n",
    "  - {name: obstacles_layer,         type: \"costmap_2d::VoxelLayer\"}\n",
    "  - {name: inflation_layer,         type: \"costmap_2d::InflationLayer\"}"
   ]
  },
  {
   "cell_type": "markdown",
   "metadata": {},
   "source": [
    "<p style=\"background:#3B8F10;color:white;\" id=\"prg-2-1\">**END Param File: global_costmap_params_map.yaml** </p>"
   ]
  },
  {
   "cell_type": "markdown",
   "metadata": {},
   "source": [
    "<p style=\"background:#3B8F10;color:white;\" id=\"prg-2-1\">**Param File: local_costmap_params.yaml** </p>"
   ]
  },
  {
   "cell_type": "code",
   "execution_count": null,
   "metadata": {
    "collapsed": true
   },
   "outputs": [],
   "source": [
    "local_costmap:\n",
    "  global_frame: /odom\n",
    "  robot_base_frame: /base_footprint\n",
    "  update_frequency: 5.0\n",
    "  static_map: false\n",
    "  rolling_window: true\n",
    "  width: 5.0\n",
    "  height: 5.0\n",
    "  resolution: 0.05 \n",
    "\n",
    "  # padding is 0.1 by default, making difficult to pass through narrow places\n",
    "  footprint_padding: 0.0\n",
    "  \n",
    "  plugins:\n",
    "  - {name: obstacles_layer,           type: \"costmap_2d::ObstacleLayer\"}\n",
    "  - {name: inflation_layer,           type: \"costmap_2d::InflationLayer\"}"
   ]
  },
  {
   "cell_type": "markdown",
   "metadata": {},
   "source": [
    "<p style=\"background:#3B8F10;color:white;\" id=\"prg-2-1\">**END Param File: local_costmap_params.yaml** </p>"
   ]
  },
  {
   "cell_type": "markdown",
   "metadata": {},
   "source": [
    "<p style=\"background:#3B8F10;color:white;\" id=\"prg-2-1\">**Param File: global_planner_params.yaml** </p>"
   ]
  },
  {
   "cell_type": "code",
   "execution_count": null,
   "metadata": {
    "collapsed": true
   },
   "outputs": [],
   "source": [
    "NavfnROS:\n",
    "  visualize_potential: false    \n",
    "  allow_unknown: false          \n",
    "                                \n",
    "  planner_window_x: 0.0         \n",
    "  planner_window_y: 0.0         \n",
    "\n",
    "  default_tolerance: 0.0"
   ]
  },
  {
   "cell_type": "markdown",
   "metadata": {},
   "source": [
    "<p style=\"background:#3B8F10;color:white;\" id=\"prg-2-1\">**END Param File: global_planner_params.yaml** </p>"
   ]
  },
  {
   "cell_type": "markdown",
   "metadata": {},
   "source": [
    "<p style=\"background:#3B8F10;color:white;\" id=\"prg-2-1\">**Param File: dwa_local_planner_params.yaml** </p>"
   ]
  },
  {
   "cell_type": "code",
   "execution_count": null,
   "metadata": {
    "collapsed": true
   },
   "outputs": [],
   "source": [
    "DWAPlannerROS:\n",
    "\n",
    "# Robot Configuration Parameters - Kobuki\n",
    "  max_vel_x: 0.5  # 0.55\n",
    "  min_vel_x: 0.0\n",
    "\n",
    "  max_vel_y: 0.0  # diff drive robot\n",
    "  min_vel_y: 0.0  # diff drive robot\n",
    "\n",
    "  max_trans_vel: 0.5 # choose slightly less than the base's capability\n",
    "  min_trans_vel: 0.1  # this is the min trans velocity when there is negligible rotational velocity\n",
    "  trans_stopped_vel: 0.1\n",
    "\n",
    "  # Warning!\n",
    "  #   do not set min_trans_vel to 0.0 otherwise dwa will always think translational velocities\n",
    "  #   are non-negligible and small in place rotational velocities will be created.\n",
    "\n",
    "  max_rot_vel: 1.5  # choose slightly less than the base's capability\n",
    "  min_rot_vel: 0.1  # this is the min angular velocity when there is negligible translational velocity\n",
    "  rot_stopped_vel: 0.0\n",
    "\n",
    "  acc_lim_x: 1.0 # maximum is theoretically 2.0, but we\n",
    "  acc_lim_theta: 2.0\n",
    "  acc_lim_y: 0.0      # diff drive robot\n",
    "\n",
    "# Goal Tolerance Parameters\n",
    "  yaw_goal_tolerance: 0.3  # 0.05\n",
    "  xy_goal_tolerance: 0.15  # 0.10\n",
    "  # latch_xy_goal_tolerance: false\n",
    "\n",
    "# Forward Simulation Parameters\n",
    "  sim_time: 2.0       # 1.7\n",
    "  vx_samples: 6       # 3\n",
    "  vy_samples: 1       # diff drive robot, there is only one sample\n",
    "  vtheta_samples: 20  # 20\n",
    "\n",
    "# Trajectory Scoring Parameters\n",
    "  path_distance_bias: 64.0      # 32.0   - weighting for how much it should stick to the global path plan\n",
    "  goal_distance_bias: 24.0      # 24.0   - weighting for how much it should attempt to reach its goal\n",
    "  occdist_scale: 0.5            # 0.01   - weighting for how much the controller should avoid obstacles\n",
    "  forward_point_distance: 0.325 # 0.325  - how far along to place an additional scoring point\n",
    "  stop_time_buffer: 0.2         # 0.2    - amount of time a robot must stop in before colliding for a valid traj.\n",
    "  scaling_speed: 0.25           # 0.25   - absolute velocity at which to start scaling the robot's footprint\n",
    "  max_scaling_factor: 0.2       # 0.2    - how much to scale the robot's footprint when at speed.\n",
    "\n",
    "# Oscillation Prevention Parameters\n",
    "  oscillation_reset_dist: 0.05  # 0.05   - how far to travel before resetting oscillation flags\n",
    "\n",
    "# Debugging\n",
    "  publish_traj_pc : true\n",
    "  publish_cost_grid_pc: true\n",
    "  global_frame_id: odom\n",
    "\n",
    "\n",
    "# Differential-drive robot configuration - necessary?\n",
    "  holonomic_robot: false"
   ]
  },
  {
   "cell_type": "markdown",
   "metadata": {},
   "source": [
    "<p style=\"background:#3B8F10;color:white;\" id=\"prg-2-1\">**END Param File: dwa_local_planner_params.yaml** </p>"
   ]
  },
  {
   "cell_type": "markdown",
   "metadata": {},
   "source": [
    "## Solution Step 4: Create a ROS program that interacts with the Navigation Stack <p id=\"SolutionStep4\"></p>"
   ]
  },
  {
   "cell_type": "markdown",
   "metadata": {},
   "source": [
    "<table style=\"float:left;background: #407EAF\">\n",
    "<tr>\n",
    "<th>\n",
    "<p class=\"transparent\">3. Create the Service Server.</p>\n",
    "</th>\n",
    "</tr>\n",
    "</table>"
   ]
  },
  {
   "cell_type": "markdown",
   "metadata": {},
   "source": [
    "<p style=\"background:#3B8F10;color:white;\" id=\"prg-2-1\">**Python File: get_coordinates_service_server.py** </p>"
   ]
  },
  {
   "cell_type": "code",
   "execution_count": null,
   "metadata": {
    "collapsed": true
   },
   "outputs": [],
   "source": [
    "#! /usr/bin/env python\n",
    "\n",
    "import rospy\n",
    "from my_summit_localization.srv import MyServiceMsg, MyServiceMsgResponse\n",
    "from geometry_msgs.msg import Pose\n",
    "from geometry_msgs.msg import PoseWithCovarianceStamped\n",
    "from send_coordinates_action_client import SendCoordinates\n",
    "import actionlib\n",
    "import time\n",
    "import os\n",
    "import rosparam\n",
    "\n",
    "\n",
    "class GetCoordinates(object):\n",
    "    def __init__(self, srv_name='/get_coordinates'):\n",
    "        self._srv_name = srv_name\n",
    "        self._my_service = rospy.Service(self._srv_name, MyServiceMsg , self.srv_callback)\n",
    "\n",
    "    \n",
    "    def srv_callback(self, request):\n",
    "        \n",
    "        label = request.label\n",
    "        response = MyServiceMsgResponse()\n",
    "        \"\"\"\n",
    "        ---                                                                                                 \n",
    "        bool navigation_successfull\n",
    "        string message # Direction\n",
    "        \"\"\"\n",
    "        \n",
    "        os.chdir(\"/home/user/catkin_ws/src/my_summit_navigation/spots\")\n",
    "        paramlist=rosparam.load_file(\"spots.yaml\",default_namespace=None)\n",
    "        \n",
    "        for params,ns in paramlist: #ns,param\n",
    "        \n",
    "            for key, value in params.iteritems():\n",
    "                if key == request.label:\n",
    "                    rosparam.upload_params(ns,params) #ns,param\n",
    "                    response.message = \"Correctly uploaded parameters\"\n",
    "                    \n",
    "        send_coordinates = SendCoordinates(request.label)\n",
    "        \n",
    "        response.navigation_successfull = True\n",
    "        \n",
    "        return response\n",
    "\n",
    "\n",
    "if __name__ == \"__main__\":\n",
    "    rospy.init_node('get_coordinates_node', log_level=rospy.INFO) \n",
    "    get_coordinates_object = GetCoordinates()\n",
    "    rospy.spin() # mantain the service open."
   ]
  },
  {
   "cell_type": "markdown",
   "metadata": {},
   "source": [
    "<p style=\"background:#3B8F10;color:white;\" id=\"prg-2-1\">**END Python File: get_coordinates_service_server.py** </p>"
   ]
  },
  {
   "cell_type": "markdown",
   "metadata": {},
   "source": [
    "<table style=\"float:left;background: #407EAF\">\n",
    "<tr>\n",
    "<th>\n",
    "<p class=\"transparent\">4. Create the Action Client.</p>\n",
    "</th>\n",
    "</tr>\n",
    "</table>"
   ]
  },
  {
   "cell_type": "markdown",
   "metadata": {},
   "source": [
    "<p style=\"background:#3B8F10;color:white;\" id=\"prg-2-1\">**Python File: send_coordinates_action_client.py** </p>"
   ]
  },
  {
   "cell_type": "code",
   "execution_count": null,
   "metadata": {
    "collapsed": true
   },
   "outputs": [],
   "source": [
    "#! /usr/bin/env python\n",
    "\n",
    "import rospy\n",
    "from my_summit_localization.srv import MyServiceMsg, MyServiceMsgResponse\n",
    "from geometry_msgs.msg import Pose\n",
    "from geometry_msgs.msg import PoseWithCovarianceStamped\n",
    "from actionlib_msgs.msg import GoalStatus\n",
    "from move_base_msgs.msg import MoveBaseActionGoal, MoveBaseAction, MoveBaseResult, MoveBaseGoal\n",
    "import actionlib\n",
    "import time\n",
    "import os\n",
    "import rosparam\n",
    "\n",
    "\n",
    "class SendCoordinates(object):\n",
    "    def __init__(self, label):\n",
    "        \n",
    "        client = actionlib.SimpleActionClient('/move_base', MoveBaseAction)\n",
    "        rate = rospy.Rate(1)\n",
    "\n",
    "        goal=MoveBaseGoal()\n",
    "        goal_tmp = Pose()\n",
    "        \n",
    "        self._ctrl_c = False\n",
    "        rospy.on_shutdown(self.shutdownhook)\n",
    "        \n",
    "        \n",
    "        tag = label\n",
    "        \n",
    "        while not self._ctrl_c:\n",
    "    \n",
    "            goal_tmp.position.x=rosparam.get_param(tag+'/position/x')\n",
    "            goal_tmp.position.y=rosparam.get_param(tag+'/position/y')\n",
    "            goal_tmp.position.z=rosparam.get_param(tag+'/position/z')\n",
    "            goal_tmp.orientation.x=rosparam.get_param(tag+'/orientation/x')\n",
    "            goal_tmp.orientation.y=rosparam.get_param(tag+'/orientation/y')\n",
    "            goal_tmp.orientation.z=rosparam.get_param(tag+'/orientation/z')\n",
    "            goal_tmp.orientation.w=rosparam.get_param(tag+'/orientation/w')\n",
    "            goal.target_pose.pose=goal_tmp\n",
    "            goal.target_pose.header.frame_id='map'\n",
    "            \n",
    "            client.wait_for_server()\n",
    "            client.send_goal(goal, feedback_cb=self.callback)\n",
    "            client.wait_for_result()\n",
    "            result=client.get_state()\n",
    "                \n",
    "            #print result\n",
    "            if result==3:\n",
    "                print('successfuly reached point')\n",
    "                self.shutdownhook()\n",
    "                \n",
    "            \n",
    "    def shutdownhook(self):\n",
    "            \n",
    "        rospy.loginfo(\"shutdown time!\")\n",
    "        self._ctrl_c = True\n",
    "        \n",
    "    def callback(self, data):\n",
    "        return \n",
    "\n",
    "\n",
    "if __name__ == \"__main__\":\n",
    "    rospy.init_node('send_coordinates_node', log_level=rospy.INFO) \n",
    "    #send_coordinates_object = SendCoordinates(\"table\")\n",
    "    rospy.spin() # mantain the service open."
   ]
  },
  {
   "cell_type": "markdown",
   "metadata": {},
   "source": [
    "<p style=\"background:#3B8F10;color:white;\" id=\"prg-2-1\">**END Python File: send_coordinates_action_client.py** </p>"
   ]
  },
  {
   "cell_type": "markdown",
   "metadata": {},
   "source": [
    "<table style=\"float:left;background: #407EAF\">\n",
    "<tr>\n",
    "<th>\n",
    "<p class=\"transparent\">5. Create a launch file that manages everything.</p>\n",
    "</th>\n",
    "</tr>\n",
    "</table>"
   ]
  },
  {
   "cell_type": "markdown",
   "metadata": {},
   "source": [
    "<p style=\"background:#3B8F10;color:white;\" id=\"prg-2-1\">**Python File: get_coordinates_service_server.py** </p>"
   ]
  },
  {
   "cell_type": "code",
   "execution_count": null,
   "metadata": {
    "collapsed": true
   },
   "outputs": [],
   "source": [
    "<launch>\n",
    "    \n",
    "    <include file=\"$(find my_summit_path_planning)/launch/move_base.launch\" />\n",
    "    \n",
    "    <node pkg=\"my_summit_navigation\" type=\"get_coordinates_service_server.py\" name=\"get_coordinates_node\" output=\"screen\">\n",
    "        \n",
    "    </node>\n",
    "    \n",
    "</launch>"
   ]
  },
  {
   "cell_type": "markdown",
   "metadata": {},
   "source": [
    "<p style=\"background:#3B8F10;color:white;\" id=\"prg-2-1\">**END Python File: get_coordinates_service_server.py** </p>"
   ]
  }
 ],
 "metadata": {
  "anaconda-cloud": {},
  "kernelspec": {
   "display_name": "Python [Root]",
   "language": "python",
   "name": "Python [Root]"
  },
  "language_info": {
   "codemirror_mode": {
    "name": "ipython",
    "version": 2
   },
   "file_extension": ".py",
   "mimetype": "text/x-python",
   "name": "python",
   "nbconvert_exporter": "python",
   "pygments_lexer": "ipython2",
   "version": "2.7.12"
  }
 },
 "nbformat": 4,
 "nbformat_minor": 0
}
