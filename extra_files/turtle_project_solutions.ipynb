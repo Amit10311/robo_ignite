{
 "cells": [
  {
   "cell_type": "markdown",
   "metadata": {},
   "source": [
    "## Solutions for Turtlebot Project"
   ]
  },
  {
   "cell_type": "markdown",
   "metadata": {},
   "source": [
    "<img src=\"../img/robotignite_logo_text.png\"/>"
   ]
  },
  {
   "cell_type": "markdown",
   "metadata": {},
   "source": [
    "## Index: "
   ]
  },
  {
   "cell_type": "markdown",
   "metadata": {},
   "source": [
    "* <a href=\"#SolutionStep1\">Solution Step 1</a>\n",
    "* <a href=\"#SolutionStep2\">Solution Step 2</a>\n",
    "* <a href=\"#SolutionStep3\">Solution Step 3</a>\n",
    "* <a href=\"#SolutionStep4\">Solution Step 4</a>"
   ]
  },
  {
   "cell_type": "markdown",
   "metadata": {},
   "source": [
    "## Solution Step 1: Read and Write Topics <p id=\"SolutionStep1\"></p>"
   ]
  },
  {
   "cell_type": "markdown",
   "metadata": {},
   "source": [
    "<table style=\"float:left;background: #407EAF\">\n",
    "<tr>\n",
    "<th>\n",
    "<p class=\"transparent\">2. Create the Topic Publisher to move Turtlebot.</p>\n",
    "</th>\n",
    "</tr>\n",
    "</table>"
   ]
  },
  {
   "cell_type": "markdown",
   "metadata": {},
   "source": [
    "<p style=\"background:#3B8F10;color:white;\" id=\"prg-2-1\">**Python File: cmd_vel_publisher.py** </p>"
   ]
  },
  {
   "cell_type": "code",
   "execution_count": null,
   "metadata": {
    "collapsed": true
   },
   "outputs": [],
   "source": [
    "#! /usr/bin/env python\n",
    "\n",
    "import rospy\n",
    "from geometry_msgs.msg import Twist\n",
    "\n",
    "\n",
    "class CmdVelPub(object):\n",
    "    def __init__(self):\n",
    "        self._cmd_vel_pub = rospy.Publisher('/cmd_vel', Twist, queue_size=1)\n",
    "        self._twist_object = Twist()\n",
    "        self.linearspeed = 0.3\n",
    "        self.angularspeed = 0.5\n",
    "        \n",
    "    def move_robot(self, direction):\n",
    "        if direction == \"forwards\":\n",
    "            self._twist_object.linear.x = self.linearspeed\n",
    "            self._twist_object.angular.z = 0.0\n",
    "        elif direction == \"right\":\n",
    "            self._twist_object.linear.x = 0.0\n",
    "            self._twist_object.angular.z = -self.angularspeed\n",
    "        elif direction == \"left\":\n",
    "            self._twist_object.linear.x = 0.0\n",
    "            self._twist_object.angular.z = self.angularspeed\n",
    "        elif direction == \"backwards\":\n",
    "            self._twist_object.linear.x = -self.linearspeed\n",
    "            self._twist_object.angular.z = 0.0\n",
    "        elif direction == \"stop\":\n",
    "            self._twist_object.linear.x = 0.0\n",
    "            self._twist_object.angular.z = 0.0\n",
    "        else:\n",
    "            pass\n",
    "        \n",
    "        self._cmd_vel_pub.publish(self._twist_object)\n",
    "\n",
    "\n",
    "if __name__ == \"__main__\":\n",
    "    rospy.init_node('cmd_vel_publisher_node')\n",
    "    cmd_publisher_object = CmdVelPub()\n",
    "    \n",
    "    rate = rospy.Rate(1)\n",
    "    \n",
    "    ctrl_c = False\n",
    "    def shutdownhook():\n",
    "        # works better than the rospy.is_shut_down()\n",
    "        global ctrl_c\n",
    "        global twist_object\n",
    "        global pub\n",
    "        \n",
    "        rospy.loginfo(\"shutdown time!\")\n",
    "        \n",
    "        ctrl_c = True\n",
    "        cmd_publisher_object.move_robot(direction=\"stop\")\n",
    "    \n",
    "    rospy.on_shutdown(shutdownhook)\n",
    "    \n",
    "    while not ctrl_c:\n",
    "        cmd_publisher_object.move_robot(direction=\"forwards\")\n",
    "        rate.sleep()"
   ]
  },
  {
   "cell_type": "markdown",
   "metadata": {},
   "source": [
    "<p style=\"background:#3B8F10;color:white;\" id=\"prg-2-1\">**END Python File: cmd_vel_publisher.py** </p>"
   ]
  },
  {
   "cell_type": "markdown",
   "metadata": {},
   "source": [
    "<table style=\"float:left;background: #407EAF\">\n",
    "<tr>\n",
    "<th>\n",
    "<p class=\"transparent\">3. Create Two Topic Subscribers that extract the data that you need from the Odometry and the Laser.</p>\n",
    "</th>\n",
    "</tr>\n",
    "</table>"
   ]
  },
  {
   "cell_type": "markdown",
   "metadata": {},
   "source": [
    "<p style=\"background:#3B8F10;color:white;\" id=\"prg-2-1\">**Python File: laser_sub.py** </p>"
   ]
  },
  {
   "cell_type": "code",
   "execution_count": null,
   "metadata": {
    "collapsed": true
   },
   "outputs": [],
   "source": [
    "#! /usr/bin/env python\n",
    "\n",
    "import rospy\n",
    "import time\n",
    "from sensor_msgs.msg import LaserScan\n",
    "\n",
    "class LaserTopicReader(object):\n",
    "    def __init__(self, topic_name = '/kobuki/laser/scan'):\n",
    "        self._topic_name = topic_name\n",
    "        self._sub = rospy.Subscriber(self._topic_name, LaserScan, self.topic_callback)\n",
    "        self._laserdata = LaserScan()\n",
    "        self._front = 0.0\n",
    "        self._right = 0.0\n",
    "        self._left = 0.0\n",
    "    \n",
    "    def topic_callback(self, msg):\n",
    "        self._laserdata = msg\n",
    "        rospy.logdebug(self._laserdata)\n",
    "    \n",
    "    def get_laserdata(self):\n",
    "        \"\"\"\n",
    "        Returns the newest odom data\n",
    "\n",
    "        std_msgs/Header header\n",
    "          uint32 seq\n",
    "          time stamp\n",
    "          string frame_id\n",
    "        float32 angle_min\n",
    "        float32 angle_max\n",
    "        float32 angle_increment\n",
    "        float32 time_increment\n",
    "        float32 scan_time\n",
    "        float32 range_min\n",
    "        float32 range_max\n",
    "        float32[] ranges\n",
    "        float32[] intensities                                                                                                               \n",
    "        \n",
    "        \"\"\"\n",
    "        return self._laserdata    \n",
    "    \n",
    "if __name__ == \"__main__\":\n",
    "    rospy.init_node('laser_topic_subscriber', log_level=rospy.INFO)\n",
    "    laser_reader_object = LaserTopicReader()\n",
    "    time.sleep(2)\n",
    "    rate = rospy.Rate(0.5)\n",
    "    \n",
    "    ctrl_c = False\n",
    "    def shutdownhook():\n",
    "        # works better than the rospy.is_shut_down()\n",
    "        global ctrl_c\n",
    "        print \"shutdown time!\"\n",
    "        ctrl_c = True\n",
    "\n",
    "    rospy.on_shutdown(shutdownhook)\n",
    "    \n",
    "    while not ctrl_c:\n",
    "        data = laser_reader_object.get_laserdata()\n",
    "        rospy.loginfo(data)\n",
    "        rate.sleep()"
   ]
  },
  {
   "cell_type": "markdown",
   "metadata": {},
   "source": [
    "<p style=\"background:#3B8F10;color:white;\" id=\"prg-2-1\">**END Python File: laser_sub.py** </p>"
   ]
  },
  {
   "cell_type": "markdown",
   "metadata": {},
   "source": [
    "<p style=\"background:#3B8F10;color:white;\" id=\"prg-2-1\">**Python File: odom_topic_subscriber.py** </p>"
   ]
  },
  {
   "cell_type": "code",
   "execution_count": null,
   "metadata": {
    "collapsed": true
   },
   "outputs": [],
   "source": [
    "#! /usr/bin/env python\n",
    "\n",
    "import rospy\n",
    "from nav_msgs.msg import Odometry\n",
    "\n",
    "class OdomTopicReader(object):\n",
    "    def __init__(self, topic_name = '/odom'):\n",
    "        self._topic_name = topic_name\n",
    "        self._sub = rospy.Subscriber(self._topic_name, Odometry, self.topic_callback)\n",
    "        self._odomdata = Odometry()\n",
    "    \n",
    "    def topic_callback(self, msg):\n",
    "        self._odomdata = msg\n",
    "        rospy.logdebug(self._odomdata)\n",
    "    \n",
    "    def get_odomdata(self):\n",
    "        \"\"\"\n",
    "        Returns the newest odom data\n",
    "\n",
    "        std_msgs/Header header                                                                                                                 \n",
    "          uint32 seq                                                                                                                           \n",
    "          time stamp                                                                                                                           \n",
    "          string frame_id                                                                                                                      \n",
    "        string child_frame_id                                                                                                                  \n",
    "        geometry_msgs/PoseWithCovariance pose                                                                                                  \n",
    "          geometry_msgs/Pose pose                                                                                                              \n",
    "            geometry_msgs/Point position                                                                                                       \n",
    "              float64 x                                                                                                                        \n",
    "              float64 y                                                                                                                        \n",
    "              float64 z                                                                                                                        \n",
    "            geometry_msgs/Quaternion orientation                                                                                               \n",
    "              float64 x                                                                                                                        \n",
    "              float64 y                                                                                                                        \n",
    "              float64 z                                                                                                                        \n",
    "              float64 w                                                                                                                        \n",
    "          float64[36] covariance                                                                                                               \n",
    "        geometry_msgs/TwistWithCovariance twist                                                                                                \n",
    "          geometry_msgs/Twist twist                                                                                                            \n",
    "            geometry_msgs/Vector3 linear                                                                                                       \n",
    "              float64 x                                                                                                                        \n",
    "              float64 y                                                                                                                        \n",
    "              float64 z                                                                                                                        \n",
    "            geometry_msgs/Vector3 angular                                                                                                      \n",
    "              float64 x                                                                                                                        \n",
    "              float64 y                                                                                                                        \n",
    "              float64 z                                                                                                                        \n",
    "          float64[36] covariance                                                                                                               \n",
    "        \n",
    "        \"\"\"\n",
    "        return self._odomdata\n",
    "    \n",
    "if __name__ == \"__main__\":\n",
    "    rospy.init_node('odom_topic_subscriber', log_level=rospy.INFO)\n",
    "    odom_reader_object = OdomTopicReader()\n",
    "    rospy.loginfo(odom_reader_object.get_odomdata())\n",
    "    rate = rospy.Rate(0.5)\n",
    "    \n",
    "    ctrl_c = False\n",
    "    def shutdownhook():\n",
    "        # works better than the rospy.is_shut_down()\n",
    "        global ctrl_c\n",
    "        print \"shutdown time!\"\n",
    "        ctrl_c = True\n",
    "\n",
    "    rospy.on_shutdown(shutdownhook)\n",
    "    \n",
    "    while not ctrl_c:\n",
    "        data = odom_reader_object.get_odomdata()\n",
    "        rospy.loginfo(data)\n",
    "        rate.sleep()"
   ]
  },
  {
   "cell_type": "markdown",
   "metadata": {},
   "source": [
    "<p style=\"background:#3B8F10;color:white;\" id=\"prg-2-1\">**END Python File: odom_topic_subscriber.py** </p>"
   ]
  },
  {
   "cell_type": "markdown",
   "metadata": {},
   "source": [
    "## Solution Step 2: Use Topics through Services <p id=\"SolutionStep2\"></p>"
   ]
  },
  {
   "cell_type": "markdown",
   "metadata": {},
   "source": [
    "<table style=\"float:left;background: #407EAF\">\n",
    "<tr>\n",
    "<th>\n",
    "<p class=\"transparent\">2. Modify the /kobuki/laser/scan topic subscriber</p>\n",
    "</th>\n",
    "</tr>\n",
    "</table>"
   ]
  },
  {
   "cell_type": "markdown",
   "metadata": {},
   "source": [
    "<p style=\"background:#3B8F10;color:white;\" id=\"prg-2-1\">**Python File: laser_sub.py** </p>"
   ]
  },
  {
   "cell_type": "code",
   "execution_count": null,
   "metadata": {
    "collapsed": true
   },
   "outputs": [],
   "source": [
    "#! /usr/bin/env python\n",
    "\n",
    "import rospy\n",
    "import time\n",
    "from sensor_msgs.msg import LaserScan\n",
    "\n",
    "class LaserTopicReader(object):\n",
    "    def __init__(self, topic_name = '/kobuki/laser/scan'):\n",
    "        self._topic_name = topic_name\n",
    "        self._sub = rospy.Subscriber(self._topic_name, LaserScan, self.topic_callback)\n",
    "        self._laserdata = LaserScan()\n",
    "        self._front = 0.0\n",
    "        self._right = 0.0\n",
    "        self._left = 0.0\n",
    "    \n",
    "    def topic_callback(self, msg):\n",
    "        self._laserdata = msg\n",
    "        rospy.logdebug(self._laserdata)\n",
    "    \n",
    "    def get_laserdata(self):\n",
    "        \"\"\"\n",
    "        Returns the newest odom data\n",
    "\n",
    "        std_msgs/Header header\n",
    "          uint32 seq\n",
    "          time stamp\n",
    "          string frame_id\n",
    "        float32 angle_min\n",
    "        float32 angle_max\n",
    "        float32 angle_increment\n",
    "        float32 time_increment\n",
    "        float32 scan_time\n",
    "        float32 range_min\n",
    "        float32 range_max\n",
    "        float32[] ranges\n",
    "        float32[] intensities                                                                                                               \n",
    "        \n",
    "        \"\"\"\n",
    "        return self._laserdata\n",
    "        \n",
    "    def crash_detector(self):\n",
    "        \n",
    "        self._front = self._laserdata.ranges[360]\n",
    "        self._right = self._laserdata.ranges[0]\n",
    "        self._left = self._laserdata.ranges[719]\n",
    "        rospy.loginfo(\"Front Distance == \"+str(self._front))\n",
    "        rospy.loginfo(\"Left Distance == \"+str(self._left))\n",
    "        rospy.loginfo(\"Right Distance == \"+str(self._right))\n",
    "        \n",
    "        \n",
    "        return self.convert_to_dict()\n",
    "        \n",
    "        \n",
    "    def convert_to_dict(self):\n",
    "        \"\"\"\n",
    "        Converts the fiven message to a dictionary telling in which direction there is a detection\n",
    "        \"\"\"\n",
    "        detect_dict = {}\n",
    "        # We consider that when there is a big Z axis component there has been a very big front crash\n",
    "        detection_dict = {\"front\":self._front,\n",
    "                          \"left\":self._left,\n",
    "                          \"right\":self._right}\n",
    "        return detection_dict\n",
    "        \n",
    "    \n",
    "if __name__ == \"__main__\":\n",
    "    rospy.init_node('laser_topic_subscriber', log_level=rospy.INFO)\n",
    "    laser_reader_object = LaserTopicReader()\n",
    "    time.sleep(2)\n",
    "    rate = rospy.Rate(0.5)\n",
    "    \n",
    "    ctrl_c = False\n",
    "    def shutdownhook():\n",
    "        # works better than the rospy.is_shut_down()\n",
    "        global ctrl_c\n",
    "        print \"shutdown time!\"\n",
    "        ctrl_c = True\n",
    "\n",
    "    rospy.on_shutdown(shutdownhook)\n",
    "    \n",
    "    while not ctrl_c:\n",
    "        data = laser_reader_object.get_laserdata()\n",
    "        laser_reader_object.crash_detector()\n",
    "        rate.sleep()"
   ]
  },
  {
   "cell_type": "markdown",
   "metadata": {},
   "source": [
    "<p style=\"background:#3B8F10;color:white;\" id=\"prg-2-1\">**END Python File: laser_sub.py** </p>"
   ]
  },
  {
   "cell_type": "markdown",
   "metadata": {},
   "source": [
    "<table style=\"float:left;background: #407EAF\">\n",
    "<tr>\n",
    "<th>\n",
    "<p class=\"transparent\">3. Create the Server and client that tell you if there is a potential crash, and in what direction to move</p>\n",
    "</th>\n",
    "</tr>\n",
    "</table>"
   ]
  },
  {
   "cell_type": "markdown",
   "metadata": {},
   "source": [
    "<p style=\"background:#3B8F10;color:white;\" id=\"prg-2-1\">**Python File: direction_service_server.py** </p>"
   ]
  },
  {
   "cell_type": "code",
   "execution_count": null,
   "metadata": {
    "collapsed": true
   },
   "outputs": [],
   "source": [
    "#! /usr/bin/env python\n",
    "\n",
    "import rospy\n",
    "from std_srvs.srv import Trigger, TriggerResponse\n",
    "from laser_sub import LaserTopicReader\n",
    "import time\n",
    "\n",
    "\n",
    "class CrashDirectionService(object):\n",
    "    def __init__(self, srv_name='/crash_direction_service'):\n",
    "        self._srv_name = srv_name\n",
    "        self._laser_reader_object = LaserTopicReader()\n",
    "        self.detection_dict = {\"front\":0.0, \"left\":0.0, \"right\":0.0}\n",
    "        self._my_service = rospy.Service(self._srv_name, Trigger , self.srv_callback)\n",
    "\n",
    "    def srv_callback(self, request):\n",
    "        self.detection_dict = self._laser_reader_object.crash_detector()\n",
    "        \n",
    "        message = self.direction_to_move()\n",
    "        \n",
    "        rospy.logdebug(\"DIRECTION ==> \"+message)\n",
    "        \n",
    "        response = TriggerResponse()\n",
    "        \"\"\"\n",
    "        ---                                                                                                 \n",
    "        bool success   # indicate if crashed                                       \n",
    "        string message # Direction\n",
    "        \"\"\"\n",
    "        response.success = self.potential_crash()\n",
    "        response.message = message\n",
    "        \n",
    "        return response\n",
    "\n",
    "    \n",
    "    def potential_crash(self):\n",
    "        \n",
    "        if self.detection_dict[\"front\"] < 0.8:\n",
    "            return True\n",
    "        else:\n",
    "            return False\n",
    "    \n",
    "    def direction_to_move(self):\n",
    "\n",
    "        if self.detection_dict[\"right\"] > self.detection_dict[\"left\"]:\n",
    "            message = \"right\"\n",
    "        \n",
    "        else:\n",
    "            message = \"left\"\n",
    "        \n",
    "        return message\n",
    "\n",
    "if __name__ == \"__main__\":\n",
    "    rospy.init_node('crash_direction_service_server', log_level=rospy.INFO) \n",
    "    dir_serv_object = CrashDirectionService()\n",
    "    rospy.spin() # mantain the service open."
   ]
  },
  {
   "cell_type": "markdown",
   "metadata": {},
   "source": [
    "<p style=\"background:#3B8F10;color:white;\" id=\"prg-2-1\">**END Python File: direction_service_server.py** </p>"
   ]
  },
  {
   "cell_type": "markdown",
   "metadata": {},
   "source": [
    "<p style=\"background:#3B8F10;color:white;\" id=\"prg-2-1\">**Python File: direction_service_client.py** </p>"
   ]
  },
  {
   "cell_type": "code",
   "execution_count": null,
   "metadata": {
    "collapsed": true
   },
   "outputs": [],
   "source": [
    "#! /usr/bin/env python\n",
    "\n",
    "import rospy\n",
    "from std_srvs.srv import Trigger, TriggerRequest\n",
    "import sys \n",
    "\n",
    "rospy.init_node('crash_direction_service_client') # initialise a ROS node with the name service_client\n",
    "service_name = \"/crash_direction_service\"\n",
    "rospy.wait_for_service(service_name) # wait for the service client /gazebo/delete_model to be running\n",
    "direction_service = rospy.ServiceProxy(service_name, Trigger) # create the connection to the service\n",
    "request_object = TriggerRequest()\n",
    "\n",
    "rate = rospy.Rate(5)\n",
    "\n",
    "ctrl_c = False\n",
    "def shutdownhook():\n",
    "    # works better than the rospy.is_shut_down()\n",
    "    global ctrl_c\n",
    "    print \"shutdown time!\"\n",
    "    ctrl_c = True\n",
    "\n",
    "rospy.on_shutdown(shutdownhook)\n",
    "\n",
    "while not ctrl_c:\n",
    "    result = direction_service(request_object) # send through the connection the name of the object to be deleted by the service\n",
    "    \"\"\"\n",
    "    ---                             \n",
    "    bool success   # indicate succes\n",
    "    string message # informational, \n",
    "    \"\"\"\n",
    "    if result.success:\n",
    "        rospy.logwarn(\"Success ==\"+str(result.success)) # print the result given by the service called\n",
    "        rospy.logwarn(\"Direction To Go==\"+str(result.message)) # print the result given by the service called\n",
    "    else:\n",
    "        rospy.loginfo(\"Success ==\"+str(result.success)) # print the result given by the service called\n",
    "        rospy.loginfo(\"Direction To Go==\"+str(result.message)) # print the result given by the service called\n",
    "    rate.sleep()"
   ]
  },
  {
   "cell_type": "markdown",
   "metadata": {},
   "source": [
    "<p style=\"background:#3B8F10;color:white;\" id=\"prg-2-1\">**END Python File: direction_service_client.py** </p>"
   ]
  },
  {
   "cell_type": "markdown",
   "metadata": {},
   "source": [
    "## Solution Step 3: Use Topics through Actions <p id=\"SolutionStep3\"></p>"
   ]
  },
  {
   "cell_type": "markdown",
   "metadata": {},
   "source": [
    "<table style=\"float:left;background: #407EAF\">\n",
    "<tr>\n",
    "<th>\n",
    "<p class=\"transparent\">2. Create the action server, the client, and the program to compute out of the maze.</p>\n",
    "</th>\n",
    "</tr>\n",
    "</table>"
   ]
  },
  {
   "cell_type": "markdown",
   "metadata": {},
   "source": [
    "<p style=\"background:#3B8F10;color:white;\" id=\"prg-2-1\">**Python File: record_odom_action_server.py** </p>"
   ]
  },
  {
   "cell_type": "code",
   "execution_count": null,
   "metadata": {
    "collapsed": true
   },
   "outputs": [],
   "source": [
    "#! /usr/bin/env python\n",
    "\n",
    "import rospy\n",
    "from std_srvs.srv import Trigger, TriggerRequest\n",
    "import sys \n",
    "\n",
    "rospy.init_node('crash_direction_service_client') # initialise a ROS node with the name service_client\n",
    "service_name = \"/crash_direction_service\"\n",
    "rospy.wait_for_service(service_name) # wait for the service client /gazebo/delete_model to be running\n",
    "direction_service = rospy.ServiceProxy(service_name, Trigger) # create the connection to the service\n",
    "request_object = TriggerRequest()\n",
    "\n",
    "rate = rospy.Rate(5)\n",
    "\n",
    "ctrl_c = False\n",
    "def shutdownhook():\n",
    "    # works better than the rospy.is_shut_down()\n",
    "    global ctrl_c\n",
    "    print \"shutdown time!\"\n",
    "    ctrl_c = True\n",
    "\n",
    "rospy.on_shutdown(shutdownhook)\n",
    "\n",
    "while not ctrl_c:\n",
    "    result = direction_service(request_object) # send through the connection the name of the object to be deleted by the service\n",
    "    \"\"\"\n",
    "    ---                             \n",
    "    bool success   # indicate succes\n",
    "    string message # informational, \n",
    "    \"\"\"\n",
    "    if result.success:\n",
    "        rospy.logwarn(\"Success ==\"+str(result.success)) # print the result given by the service called\n",
    "        rospy.logwarn(\"Direction To Go==\"+str(result.message)) # print the result given by the service called\n",
    "    else:\n",
    "        rospy.loginfo(\"Success ==\"+str(result.success)) # print the result given by the service called\n",
    "        rospy.loginfo(\"Direction To Go==\"+str(result.message)) # print the result given by the service called\n",
    "    rate.sleep()"
   ]
  },
  {
   "cell_type": "markdown",
   "metadata": {},
   "source": [
    "<p style=\"background:#3B8F10;color:white;\" id=\"prg-2-1\">**END Python File: record_odom_action_server.py** </p>"
   ]
  },
  {
   "cell_type": "markdown",
   "metadata": {},
   "source": [
    "<p style=\"background:#3B8F10;color:white;\" id=\"prg-2-1\">**Python File: record_odom_action_client.py** </p>"
   ]
  },
  {
   "cell_type": "code",
   "execution_count": null,
   "metadata": {
    "collapsed": true
   },
   "outputs": [],
   "source": [
    "#! /usr/bin/env python\n",
    "\n",
    "import rospy\n",
    "from std_srvs.srv import Trigger, TriggerRequest\n",
    "import sys \n",
    "\n",
    "rospy.init_node('crash_direction_service_client') # initialise a ROS node with the name service_client\n",
    "service_name = \"/crash_direction_service\"\n",
    "rospy.wait_for_service(service_name) # wait for the service client /gazebo/delete_model to be running\n",
    "direction_service = rospy.ServiceProxy(service_name, Trigger) # create the connection to the service\n",
    "request_object = TriggerRequest()\n",
    "\n",
    "rate = rospy.Rate(5)\n",
    "\n",
    "ctrl_c = False\n",
    "def shutdownhook():\n",
    "    # works better than the rospy.is_shut_down()\n",
    "    global ctrl_c\n",
    "    print \"shutdown time!\"\n",
    "    ctrl_c = True\n",
    "\n",
    "rospy.on_shutdown(shutdownhook)\n",
    "\n",
    "while not ctrl_c:\n",
    "    result = direction_service(request_object) # send through the connection the name of the object to be deleted by the service\n",
    "    \"\"\"\n",
    "    ---                             \n",
    "    bool success   # indicate succes\n",
    "    string message # informational, \n",
    "    \"\"\"\n",
    "    if result.success:\n",
    "        rospy.logwarn(\"Success ==\"+str(result.success)) # print the result given by the service called\n",
    "        rospy.logwarn(\"Direction To Go==\"+str(result.message)) # print the result given by the service called\n",
    "    else:\n",
    "        rospy.loginfo(\"Success ==\"+str(result.success)) # print the result given by the service called\n",
    "        rospy.loginfo(\"Direction To Go==\"+str(result.message)) # print the result given by the service called\n",
    "    rate.sleep()"
   ]
  },
  {
   "cell_type": "markdown",
   "metadata": {},
   "source": [
    "<p style=\"background:#3B8F10;color:white;\" id=\"prg-2-1\">**END Python File: record_odom_action_client.py** </p>"
   ]
  },
  {
   "cell_type": "markdown",
   "metadata": {},
   "source": [
    "<p style=\"background:#3B8F10;color:white;\" id=\"prg-2-1\">**Python File: odometry_analysis.py** </p>"
   ]
  },
  {
   "cell_type": "code",
   "execution_count": null,
   "metadata": {
    "collapsed": true
   },
   "outputs": [],
   "source": [
    "#! /usr/bin/env python\n",
    "\n",
    "import rospy\n",
    "from nav_msgs.msg import Odometry\n",
    "from geometry_msgs.msg import Vector3\n",
    "import math \n",
    "\n",
    "\n",
    "class OdometryAnalysis(object):\n",
    "    def __init__(self):\n",
    "        pass\n",
    "    \n",
    "    def get_distance_moved(self, odmetry_data_list):\n",
    "        \n",
    "        distance = None\n",
    "        \n",
    "        if len(odmetry_data_list) >= 2 :\n",
    "            start_odom = odmetry_data_list[0]\n",
    "            end_odom = odmetry_data_list[len(odmetry_data_list)-1]\n",
    "            \n",
    "            start_position = start_odom.pose.pose.position\n",
    "            end_position = end_odom.pose.pose.position\n",
    "            \n",
    "            rospy.loginfo(\"start_position ==>\"+str(start_position))\n",
    "            rospy.loginfo(\"end_position ==>\"+str(end_position))\n",
    "            \n",
    "            \n",
    "            distance_vector = self.create_vector(start_position, end_position)\n",
    "            rospy.loginfo(\"Distance Vector ==>\"+str(distance_vector))\n",
    "            \n",
    "            distance = abs(distance_vector.y)\n",
    "            rospy.loginfo(\"Distance ==>\"+str(distance))\n",
    "        \n",
    "        else:\n",
    "            rospy.logerr(\"Odom array doesnt have the minimum number of elements = \"+str(len(odmetry_data_list)))\n",
    "        \n",
    "        return distance\n",
    "        \n",
    "    def create_vector(self, p1, p2):\n",
    "        \n",
    "        distance_vector = Vector3()\n",
    "        distance_vector.x = p2.x - p1.x\n",
    "        distance_vector.y = p2.y - p1.y\n",
    "        distance_vector.z = p2.z - p1.z\n",
    "        \n",
    "        return distance_vector\n",
    "    \n",
    "\n",
    "\n",
    "def check_if_out_maze(goal_distance, odom_result_array):\n",
    "    odom_analysis_object = OdometryAnalysis()\n",
    "    distance = odom_analysis_object.get_distance_moved(odom_result_array)\n",
    "    rospy.loginfo(\"Distance Moved=\"+str(distance))\n",
    "    \n",
    "    return distance > goal_distance"
   ]
  },
  {
   "cell_type": "markdown",
   "metadata": {},
   "source": [
    "<p style=\"background:#3B8F10;color:white;\" id=\"prg-2-1\">**END Python File: odometry_analysis.py** </p>"
   ]
  },
  {
   "cell_type": "markdown",
   "metadata": {},
   "source": [
    "## Solution Step 4: Create a Main Program to Manage Everything <p id=\"SolutionStep4\"></p>"
   ]
  },
  {
   "cell_type": "markdown",
   "metadata": {},
   "source": [
    "<table style=\"float:left;background: #407EAF\">\n",
    "<tr>\n",
    "<th>\n",
    "<p class=\"transparent\">2. Create a launch file that launches the Action Server, the Service Server, and the main program.</p>\n",
    "</th>\n",
    "</tr>\n",
    "</table>"
   ]
  },
  {
   "cell_type": "markdown",
   "metadata": {},
   "source": [
    "<p style=\"background:#3B8F10;color:white;\" id=\"prg-2-1\">**Launch File: main_launch.launch** </p>"
   ]
  },
  {
   "cell_type": "code",
   "execution_count": null,
   "metadata": {
    "collapsed": true
   },
   "outputs": [],
   "source": [
    "<launch>\n",
    "    \n",
    "    <node pkg =\"turtle_project_sol\"\n",
    "        type=\"record_odom_action_server.py\"\n",
    "        name=\"record_odom_action_server_node\"\n",
    "        output=\"screen\">\n",
    "  </node>\n",
    "  \n",
    "  <node pkg =\"turtle_project_sol\"\n",
    "        type=\"direction_service_server.py\"\n",
    "        name=\"crash_direction_service_server\"\n",
    "        output=\"screen\">\n",
    "  </node>\n",
    "\n",
    "  <node pkg =\"turtle_project_sol\"\n",
    "        type=\"main_program.py\"\n",
    "        name=\"turtlebot_main_node\"\n",
    "        output=\"screen\">\n",
    "  </node>\n",
    "    \n",
    "</launch>"
   ]
  },
  {
   "cell_type": "markdown",
   "metadata": {},
   "source": [
    "<p style=\"background:#3B8F10;color:white;\" id=\"prg-2-1\">**END Launch File: main_launch.launch** </p>"
   ]
  },
  {
   "cell_type": "markdown",
   "metadata": {},
   "source": [
    "<table style=\"float:left;background: #407EAF\">\n",
    "<tr>\n",
    "<th>\n",
    "<p class=\"transparent\">3. Create the main program.</p>\n",
    "</th>\n",
    "</tr>\n",
    "</table>"
   ]
  },
  {
   "cell_type": "markdown",
   "metadata": {},
   "source": [
    "<p style=\"background:#3B8F10;color:white;\" id=\"prg-2-1\">**Python File: main_program.py** </p>"
   ]
  },
  {
   "cell_type": "code",
   "execution_count": null,
   "metadata": {
    "collapsed": true
   },
   "outputs": [],
   "source": [
    "#! /usr/bin/env python\n",
    "\n",
    "import rospy\n",
    "import actionlib\n",
    "import time\n",
    "from std_srvs.srv import Trigger, TriggerRequest\n",
    "from turtle_project_sol.msg import record_odomGoal, record_odomFeedback, record_odomResult, record_odomAction\n",
    "from cmd_vel_publisher import CmdVelPub\n",
    "from odometry_analysis import OdometryAnalysis\n",
    "from odometry_analysis import check_if_out_maze\n",
    "\n",
    "class ControlTurtlebot(object):\n",
    "    def __init__(self, goal_distance):\n",
    "        self._goal_distance = goal_distance\n",
    "        self.init_direction_service_client()\n",
    "        self.init_rec_odom_action_client()\n",
    "        self.init_move_turtlebot_publisher()\n",
    "        \n",
    "    def init_direction_service_client(self, service_name = \"/crash_direction_service\"):\n",
    "        rospy.loginfo('Waiting for Service Server')\n",
    "        rospy.wait_for_service(service_name) # wait for the service client /gazebo/delete_model to be running\n",
    "        rospy.loginfo('Service Server Found...')\n",
    "        self._direction_service = rospy.ServiceProxy(service_name, Trigger) # create the connection to the service\n",
    "        self._request_object = TriggerRequest()\n",
    "        \n",
    "    def make_direction_request(self):\n",
    "        \n",
    "        result = self._direction_service(self._request_object) # send the name of the object to be deleted by the service through the connection\n",
    "        return result\n",
    "    \n",
    "    def init_rec_odom_action_client(self):\n",
    "        self._rec_odom_action_client = actionlib.SimpleActionClient('/rec_odom_as', record_odomAction)\n",
    "        # waits until the action server is up and running\n",
    "        rospy.loginfo('Waiting for action Server')\n",
    "        self._rec_odom_action_client.wait_for_server()\n",
    "        rospy.loginfo('Action Server Found...')\n",
    "        self._rec_odom_action_goal = record_odomGoal()\n",
    "    \n",
    "    def send_goal_to_rec_odom_action_server(self):\n",
    "        self._rec_odom_action_client.send_goal(self._rec_odom_action_goal, feedback_cb=self.rec_odom_feedback_callback)\n",
    "        \n",
    "    def rec_odom_feedback_callback(self,feedback):\n",
    "        rospy.loginfo(\"Rec Odom Feedback feedback ==>\"+str(feedback))\n",
    "    \n",
    "    def rec_odom_finished(self):\n",
    "        \n",
    "        has_finished = ( self._rec_odom_action_client.get_state() >= 2 )\n",
    "        \n",
    "        return has_finished\n",
    "    \n",
    "    def get_result_rec_odom(self):\n",
    "        return self._rec_odom_action_client.get_result()\n",
    "        \n",
    "    def init_move_turtlebot_publisher(self):\n",
    "        self._cmdvelpub_object = CmdVelPub()\n",
    "\n",
    "    def move_turtlebot(self, direction):\n",
    "        self._cmdvelpub_object.move_robot(direction)\n",
    "\n",
    "    def got_out_maze(self, odom_result_array):\n",
    "        return check_if_out_maze(self._goal_distance, odom_result_array)\n",
    "\n",
    "rospy.init_node(\"turtlebot_main_node\", log_level=rospy.INFO)\n",
    "control_turtlebot_object = ControlTurtlebot(goal_distance=8.77)\n",
    "rate = rospy.Rate(10)\n",
    "\n",
    "control_turtlebot_object.send_goal_to_rec_odom_action_server()\n",
    "i = 0\n",
    "\n",
    "while not control_turtlebot_object.rec_odom_finished():\n",
    "\n",
    "    direction_to_go = control_turtlebot_object.make_direction_request()\n",
    "    \n",
    "    if direction_to_go.success is False:\n",
    "        control_turtlebot_object.move_turtlebot(\"forwards\")\n",
    "    else:\n",
    "        control_turtlebot_object.move_turtlebot(\"stop\")\n",
    "        time.sleep(2)\n",
    "        control_turtlebot_object.move_turtlebot(direction_to_go.message)\n",
    "        if i==0:\n",
    "            time.sleep(6.1)\n",
    "            \n",
    "        elif i==1:\n",
    "            time.sleep(6.15)\n",
    "            \n",
    "        elif i==2:\n",
    "            time.sleep(7)\n",
    "            \n",
    "        else:\n",
    "            time.sleep(6.2)\n",
    "        \n",
    "        i=i+1    \n",
    "        control_turtlebot_object.move_turtlebot(\"stop\")\n",
    "        time.sleep(2)\n",
    "        \n",
    "    rate.sleep()\n",
    "    \n",
    "\n",
    "\n",
    "odom_result = control_turtlebot_object.get_result_rec_odom()\n",
    "odom_result_array = odom_result.result_odom_array\n",
    "\n",
    "if control_turtlebot_object.got_out_maze(odom_result_array):\n",
    "    control_turtlebot_object.move_turtlebot(\"stop\")\n",
    "    time.sleep(2)\n",
    "    rospy.loginfo(\"Out of Maze\")\n",
    "else:\n",
    "    rospy.loginfo(\"In Maze\")\n",
    "    control_turtlebot_object.move_turtlebot(\"stop\")\n",
    "    time.sleep(2)\n",
    "\n",
    "rospy.loginfo(\"Turtlebot Maze test Finished\")"
   ]
  },
  {
   "cell_type": "markdown",
   "metadata": {},
   "source": [
    "<p style=\"background:#3B8F10;color:white;\" id=\"prg-2-1\">**END Python File: main_program.py** </p>"
   ]
  }
 ],
 "metadata": {
  "anaconda-cloud": {},
  "kernelspec": {
   "display_name": "Python [Root]",
   "language": "python",
   "name": "Python [Root]"
  },
  "language_info": {
   "codemirror_mode": {
    "name": "ipython",
    "version": 2
   },
   "file_extension": ".py",
   "mimetype": "text/x-python",
   "name": "python",
   "nbconvert_exporter": "python",
   "pygments_lexer": "ipython2",
   "version": "2.7.12"
  }
 },
 "nbformat": 4,
 "nbformat_minor": 0
}
