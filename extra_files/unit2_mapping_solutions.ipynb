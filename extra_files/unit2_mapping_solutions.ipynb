{
 "cells": [
  {
   "cell_type": "markdown",
   "metadata": {},
   "source": [
    "## Solutions for Unit 2 Mapping"
   ]
  },
  {
   "cell_type": "markdown",
   "metadata": {},
   "source": [
    "<img src=\"../img/robotignite_logo_text.png\"/>"
   ]
  },
  {
   "cell_type": "markdown",
   "metadata": {},
   "source": [
    "## Index: "
   ]
  },
  {
   "cell_type": "markdown",
   "metadata": {},
   "source": [
    "* <a href=\"#SolutionExercise2-5\">Solution Exercise 2.5</a>\n",
    "* <a href=\"#SolutionExercise2-7\">Solution Exercise 2.7</a>\n",
    "* <a href=\"#SolutionExercise2-10\">Solution Exercise 2.10</a>\n",
    "* <a href=\"#SolutionExercise2-11\">Solution Exercise 2.11</a>\n",
    "* <a href=\"#SolutionExercise2-12\">Solution Exercise 2.12</a>\n",
    "* <a href=\"#SolutionExercise2-13\">Solution Exercise 2.13</a>\n",
    "* <a href=\"#SolutionExercise2-15\">Solution Exercise 2.15</a>"
   ]
  },
  {
   "cell_type": "markdown",
   "metadata": {},
   "source": [
    "## Solution Exercise 2.5 <p id=\"SolutionExercise2-5\"></p>"
   ]
  },
  {
   "cell_type": "markdown",
   "metadata": {},
   "source": [
    "<p style=\"background:#EE9023;color:white;\">**Exercise 2.5**</p>"
   ]
  },
  {
   "cell_type": "markdown",
   "metadata": {},
   "source": [
    "For this exercise, we will assume that our map file is called **my_map.yaml**, and that it is placed into the **catkin_ws/src** directory."
   ]
  },
  {
   "cell_type": "markdown",
   "metadata": {},
   "source": [
    "<p style=\"background:#3B8F10;color:white;\" id=\"prg-2-1\">**Launch File: move_robot.launch** </p>"
   ]
  },
  {
   "cell_type": "code",
   "execution_count": null,
   "metadata": {
    "collapsed": true
   },
   "outputs": [],
   "source": [
    "<launch>\n",
    "    <arg name=\"map_file\" default=\"/home/user/catkin_ws/src/my_map.yaml\"/>\n",
    "    <node name=\"map_server\" pkg=\"map_server\" type=\"map_server\" args=\"$(arg map_file)\" />\n",
    "</launch>"
   ]
  },
  {
   "cell_type": "markdown",
   "metadata": {},
   "source": [
    "<p style=\"background:#3B8F10;color:white;\" id=\"prg-2-1\">**END Launch File: move_robot.launch** </p>"
   ]
  },
  {
   "cell_type": "markdown",
   "metadata": {},
   "source": [
    "## Solution Exercise 2.7 <p id=\"SolutionExercise2-7\"></p>"
   ]
  },
  {
   "cell_type": "markdown",
   "metadata": {},
   "source": [
    "<p style=\"background:#EE9023;color:white;\">**Exercise 2.7**</p>"
   ]
  },
  {
   "cell_type": "markdown",
   "metadata": {},
   "source": [
    "Create a Service Client that calls to the service **/static_map**."
   ]
  },
  {
   "cell_type": "markdown",
   "metadata": {},
   "source": [
    "<p style=\"background:#3B8F10;color:white;\" id=\"prg-2-1\">**Launch File: call_map_service.launch** </p>"
   ]
  },
  {
   "cell_type": "code",
   "execution_count": null,
   "metadata": {
    "collapsed": true
   },
   "outputs": [],
   "source": [
    "<launch>\n",
    "    <node pkg=\"get_map_data\" type=\"call_map_service.py\" name=\"service_client\" output=\"screen\" />\n",
    "</launch>"
   ]
  },
  {
   "cell_type": "markdown",
   "metadata": {},
   "source": [
    "<p style=\"background:#3B8F10;color:white;\" id=\"prg-2-1\">**END Launch File: call_map_service.launch** </p>"
   ]
  },
  {
   "cell_type": "markdown",
   "metadata": {},
   "source": [
    "<p style=\"background:#3B8F10;color:white;\" id=\"prg-2-1\">**Python File: call_map_service.py** </p>"
   ]
  },
  {
   "cell_type": "code",
   "execution_count": null,
   "metadata": {
    "collapsed": true
   },
   "outputs": [],
   "source": [
    "#! /usr/bin/env python\n",
    "\n",
    "import rospy\n",
    "from nav_msgs.srv import GetMap, GetMapRequest\n",
    "import sys \n",
    "\n",
    "rospy.init_node('service_client') # Initialise a ROS node with the name service_client\n",
    "rospy.wait_for_service('/static_map') # Wait for the service /static_map to be running\n",
    "get_map_service = rospy.ServiceProxy('/static_map', GetMap) # Create the connection to the service\n",
    "get_map = GetMapRequest() # Create an object of type GetMapRequest\n",
    "result = get_map_service(get_map) # Call the service\n",
    "print result # Print the result given by the service called"
   ]
  },
  {
   "cell_type": "markdown",
   "metadata": {},
   "source": [
    "<p style=\"background:#3B8F10;color:white;\" id=\"prg-2-1\">**END Python File: call_map_service.py** </p>"
   ]
  },
  {
   "cell_type": "markdown",
   "metadata": {},
   "source": [
    "## Solution Exercise 2.10 <p id=\"SolutionExercise2-10\"></p>"
   ]
  },
  {
   "cell_type": "markdown",
   "metadata": {},
   "source": [
    "<p style=\"background:#EE9023;color:white;\">**Exercise 2.10**</p>"
   ]
  },
  {
   "cell_type": "markdown",
   "metadata": {},
   "source": [
    "Create a package and a launch file in order to launch a static_transform_publisher node. This node should publish the transform between the Kinect camera mounted on the robot and the base link of the robot."
   ]
  },
  {
   "cell_type": "markdown",
   "metadata": {},
   "source": [
    "<p style=\"background:#3B8F10;color:white;\" id=\"prg-2-1\">**Launch File: pub_static_tf.launch** </p>"
   ]
  },
  {
   "cell_type": "code",
   "execution_count": null,
   "metadata": {
    "collapsed": true
   },
   "outputs": [],
   "source": [
    "<launch>\n",
    "    <node pkg=\"tf\" type=\"static_transform_publisher\" name=\"static_tf_node\" \n",
    "          args=\"1 0 0 0 0 0 base_link kinect_link 30\">\n",
    "    </node>\n",
    "</launch>"
   ]
  },
  {
   "cell_type": "markdown",
   "metadata": {},
   "source": [
    "<p style=\"background:#3B8F10;color:white;\" id=\"prg-2-1\">**END Launch File: pub_static_tf.launch** </p>"
   ]
  },
  {
   "cell_type": "markdown",
   "metadata": {},
   "source": [
    "## Solution Exercise 2.11 <p id=\"SolutionExercise2-11\"></p>"
   ]
  },
  {
   "cell_type": "markdown",
   "metadata": {},
   "source": [
    "<p style=\"background:#EE9023;color:white;\">**Exercise 2.11**</p>"
   ]
  },
  {
   "cell_type": "markdown",
   "metadata": {},
   "source": [
    "<p style=\"background:#3B8F10;color:white;\" id=\"prg-2-1\">**Launch File: my_gmapping_launch.launch** </p>"
   ]
  },
  {
   "cell_type": "code",
   "execution_count": null,
   "metadata": {
    "collapsed": true
   },
   "outputs": [],
   "source": [
    "<launch>\n",
    "  <arg name=\"scan_topic\"  default=\"kobuki/laser/scan\" />\n",
    "  <arg name=\"base_frame\"  default=\"base_footprint\"/>\n",
    "  <arg name=\"odom_frame\"  default=\"odom\"/>\n",
    "\n",
    "  <node pkg=\"gmapping\" type=\"slam_gmapping\" name=\"slam_gmapping\" output=\"screen\">\n",
    "    <param name=\"base_frame\" value=\"$(arg base_frame)\"/>\n",
    "    <param name=\"odom_frame\" value=\"$(arg odom_frame)\"/>\n",
    "    <param name=\"map_update_interval\" value=\"15.0\"/>\n",
    "    <param name=\"maxUrange\" value=\"6.0\"/>\n",
    "    <param name=\"maxRange\" value=\"8.0\"/>\n",
    "    <param name=\"sigma\" value=\"0.05\"/>\n",
    "    <param name=\"kernelSize\" value=\"1\"/>\n",
    "    <param name=\"lstep\" value=\"0.05\"/>\n",
    "    <param name=\"astep\" value=\"0.05\"/>\n",
    "    <param name=\"iterations\" value=\"5\"/>\n",
    "    <param name=\"lsigma\" value=\"0.075\"/>\n",
    "    <param name=\"ogain\" value=\"3.0\"/>\n",
    "    <param name=\"lskip\" value=\"0\"/>\n",
    "    <param name=\"minimumScore\" value=\"200\"/>\n",
    "    <param name=\"srr\" value=\"0.01\"/>\n",
    "    <param name=\"srt\" value=\"0.02\"/>\n",
    "    <param name=\"str\" value=\"0.01\"/>\n",
    "    <param name=\"stt\" value=\"0.02\"/>\n",
    "    <param name=\"linearUpdate\" value=\"0.5\"/>\n",
    "    <param name=\"angularUpdate\" value=\"0.436\"/>\n",
    "    <param name=\"temporalUpdate\" value=\"-1.0\"/>\n",
    "    <param name=\"resampleThreshold\" value=\"0.5\"/>\n",
    "    <param name=\"particles\" value=\"80\"/>\n",
    "  <!--\n",
    "    <param name=\"xmin\" value=\"-50.0\"/>\n",
    "    <param name=\"ymin\" value=\"-50.0\"/>\n",
    "    <param name=\"xmax\" value=\"50.0\"/>\n",
    "    <param name=\"ymax\" value=\"50.0\"/>\n",
    "  make the starting size small for the benefit of the Android client's memory...\n",
    "  -->\n",
    "    <param name=\"xmin\" value=\"-1.0\"/>\n",
    "    <param name=\"ymin\" value=\"-1.0\"/>\n",
    "    <param name=\"xmax\" value=\"1.0\"/>\n",
    "    <param name=\"ymax\" value=\"1.0\"/>\n",
    "\n",
    "    <param name=\"delta\" value=\"0.05\"/>\n",
    "    <param name=\"llsamplerange\" value=\"0.01\"/>\n",
    "    <param name=\"llsamplestep\" value=\"0.01\"/>\n",
    "    <param name=\"lasamplerange\" value=\"0.005\"/>\n",
    "    <param name=\"lasamplestep\" value=\"0.005\"/>\n",
    "    <remap from=\"scan\" to=\"$(arg scan_topic)\"/>\n",
    "  </node>\n",
    "</launch>"
   ]
  },
  {
   "cell_type": "markdown",
   "metadata": {},
   "source": [
    "<p style=\"background:#3B8F10;color:white;\" id=\"prg-2-1\">**END Launch File: my_gmapping_launch.launch** </p>"
   ]
  },
  {
   "cell_type": "markdown",
   "metadata": {},
   "source": [
    "## Solution Exercise 2.12 <p id=\"SolutionExercise2-12\"></p>"
   ]
  },
  {
   "cell_type": "markdown",
   "metadata": {},
   "source": [
    "<p style=\"background:#EE9023;color:white;\">**Exercise 2.12**</p>"
   ]
  },
  {
   "cell_type": "markdown",
   "metadata": {},
   "source": [
    "<p style=\"background:#3B8F10;color:white;\" id=\"prg-2-1\">**Launch File: my_gmapping_launch.launch** </p>"
   ]
  },
  {
   "cell_type": "code",
   "execution_count": null,
   "metadata": {
    "collapsed": true
   },
   "outputs": [],
   "source": [
    "<launch>\n",
    "  <arg name=\"scan_topic\"  default=\"kobuki/laser/scan\" />\n",
    "  <arg name=\"base_frame\"  default=\"base_footprint\"/>\n",
    "  <arg name=\"odom_frame\"  default=\"odom\"/>\n",
    "\n",
    "  <node pkg=\"gmapping\" type=\"slam_gmapping\" name=\"slam_gmapping\" output=\"screen\">\n",
    "    <param name=\"base_frame\" value=\"$(arg base_frame)\"/>\n",
    "    <param name=\"odom_frame\" value=\"$(arg odom_frame)\"/>\n",
    "    <param name=\"map_update_interval\" value=\"5.0\"/>\n",
    "    <param name=\"maxUrange\" value=\"2.0\"/>\n",
    "    <param name=\"maxRange\" value=\"8.0\"/>\n",
    "    <param name=\"sigma\" value=\"0.05\"/>\n",
    "    <param name=\"kernelSize\" value=\"1\"/>\n",
    "    <param name=\"lstep\" value=\"0.05\"/>\n",
    "    <param name=\"astep\" value=\"0.05\"/>\n",
    "    <param name=\"iterations\" value=\"5\"/>\n",
    "    <param name=\"lsigma\" value=\"0.075\"/>\n",
    "    <param name=\"ogain\" value=\"3.0\"/>\n",
    "    <param name=\"lskip\" value=\"0\"/>\n",
    "    <param name=\"minimumScore\" value=\"200\"/>\n",
    "    <param name=\"srr\" value=\"0.01\"/>\n",
    "    <param name=\"srt\" value=\"0.02\"/>\n",
    "    <param name=\"str\" value=\"0.01\"/>\n",
    "    <param name=\"stt\" value=\"0.02\"/>\n",
    "    <param name=\"linearUpdate\" value=\"0.5\"/>\n",
    "    <param name=\"angularUpdate\" value=\"0.436\"/>\n",
    "    <param name=\"temporalUpdate\" value=\"-1.0\"/>\n",
    "    <param name=\"resampleThreshold\" value=\"0.5\"/>\n",
    "    <param name=\"particles\" value=\"80\"/>\n",
    "  <!--\n",
    "    <param name=\"xmin\" value=\"-50.0\"/>\n",
    "    <param name=\"ymin\" value=\"-50.0\"/>\n",
    "    <param name=\"xmax\" value=\"50.0\"/>\n",
    "    <param name=\"ymax\" value=\"50.0\"/>\n",
    "  make the starting size small for the benefit of the Android client's memory...\n",
    "  -->\n",
    "    <param name=\"xmin\" value=\"-1.0\"/>\n",
    "    <param name=\"ymin\" value=\"-1.0\"/>\n",
    "    <param name=\"xmax\" value=\"1.0\"/>\n",
    "    <param name=\"ymax\" value=\"1.0\"/>\n",
    "\n",
    "    <param name=\"delta\" value=\"0.05\"/>\n",
    "    <param name=\"llsamplerange\" value=\"0.01\"/>\n",
    "    <param name=\"llsamplestep\" value=\"0.01\"/>\n",
    "    <param name=\"lasamplerange\" value=\"0.005\"/>\n",
    "    <param name=\"lasamplestep\" value=\"0.005\"/>\n",
    "    <remap from=\"scan\" to=\"$(arg scan_topic)\"/>\n",
    "  </node>\n",
    "</launch>"
   ]
  },
  {
   "cell_type": "markdown",
   "metadata": {},
   "source": [
    "<p style=\"background:#3B8F10;color:white;\" id=\"prg-2-1\">**END Launch File: my_gmapping_launch.launch** </p>"
   ]
  },
  {
   "cell_type": "markdown",
   "metadata": {},
   "source": [
    "## Solution Exercise 2.13 <p id=\"SolutionExercise2-13\"></p>"
   ]
  },
  {
   "cell_type": "markdown",
   "metadata": {},
   "source": [
    "<p style=\"background:#EE9023;color:white;\">**Exercise 2.13**</p>"
   ]
  },
  {
   "cell_type": "markdown",
   "metadata": {},
   "source": [
    "<p style=\"background:#3B8F10;color:white;\" id=\"prg-2-1\">**Launch File: my_gmapping_launch.launch** </p>"
   ]
  },
  {
   "cell_type": "code",
   "execution_count": null,
   "metadata": {
    "collapsed": true
   },
   "outputs": [],
   "source": [
    "<launch>\n",
    "  <arg name=\"scan_topic\"  default=\"kobuki/laser/scan\" />\n",
    "  <arg name=\"base_frame\"  default=\"base_footprint\"/>\n",
    "  <arg name=\"odom_frame\"  default=\"odom\"/>\n",
    "\n",
    "  <node pkg=\"gmapping\" type=\"slam_gmapping\" name=\"slam_gmapping\" output=\"screen\">\n",
    "    <param name=\"base_frame\" value=\"$(arg base_frame)\"/>\n",
    "    <param name=\"odom_frame\" value=\"$(arg odom_frame)\"/>\n",
    "    <param name=\"map_update_interval\" value=\"5.0\"/>\n",
    "    <param name=\"maxUrange\" value=\"6.0\"/>\n",
    "    <param name=\"maxRange\" value=\"8.0\"/>\n",
    "    <param name=\"sigma\" value=\"0.05\"/>\n",
    "    <param name=\"kernelSize\" value=\"1\"/>\n",
    "    <param name=\"lstep\" value=\"0.05\"/>\n",
    "    <param name=\"astep\" value=\"0.05\"/>\n",
    "    <param name=\"iterations\" value=\"5\"/>\n",
    "    <param name=\"lsigma\" value=\"0.075\"/>\n",
    "    <param name=\"ogain\" value=\"3.0\"/>\n",
    "    <param name=\"lskip\" value=\"0\"/>\n",
    "    <param name=\"minimumScore\" value=\"200\"/>\n",
    "    <param name=\"srr\" value=\"0.01\"/>\n",
    "    <param name=\"srt\" value=\"0.02\"/>\n",
    "    <param name=\"str\" value=\"0.01\"/>\n",
    "    <param name=\"stt\" value=\"0.02\"/>\n",
    "    <param name=\"linearUpdate\" value=\"0.5\"/>\n",
    "    <param name=\"angularUpdate\" value=\"0.436\"/>\n",
    "    <param name=\"temporalUpdate\" value=\"-1.0\"/>\n",
    "    <param name=\"resampleThreshold\" value=\"0.5\"/>\n",
    "    <param name=\"particles\" value=\"80\"/>\n",
    "  <!--\n",
    "    <param name=\"xmin\" value=\"-50.0\"/>\n",
    "    <param name=\"ymin\" value=\"-50.0\"/>\n",
    "    <param name=\"xmax\" value=\"50.0\"/>\n",
    "    <param name=\"ymax\" value=\"50.0\"/>\n",
    "  make the starting size small for the benefit of the Android client's memory...\n",
    "  -->\n",
    "    <param name=\"xmin\" value=\"-100.0\"/>\n",
    "    <param name=\"ymin\" value=\"-100.0\"/>\n",
    "    <param name=\"xmax\" value=\"100.0\"/>\n",
    "    <param name=\"ymax\" value=\"100.0\"/>\n",
    "\n",
    "    <param name=\"delta\" value=\"0.05\"/>\n",
    "    <param name=\"llsamplerange\" value=\"0.01\"/>\n",
    "    <param name=\"llsamplestep\" value=\"0.01\"/>\n",
    "    <param name=\"lasamplerange\" value=\"0.005\"/>\n",
    "    <param name=\"lasamplestep\" value=\"0.005\"/>\n",
    "    <remap from=\"scan\" to=\"$(arg scan_topic)\"/>\n",
    "  </node>\n",
    "</launch>"
   ]
  },
  {
   "cell_type": "markdown",
   "metadata": {},
   "source": [
    "<p style=\"background:#3B8F10;color:white;\" id=\"prg-2-1\">**END Launch File: my_gmapping_launch.launch** </p>"
   ]
  },
  {
   "cell_type": "markdown",
   "metadata": {},
   "source": [
    "## Solution Exercise 2.15 <p id=\"SolutionExercise2-15\"></p>"
   ]
  },
  {
   "cell_type": "markdown",
   "metadata": {},
   "source": [
    "<p style=\"background:#EE9023;color:white;\">**Exercise 2.15**</p>"
   ]
  },
  {
   "cell_type": "markdown",
   "metadata": {},
   "source": [
    "<p style=\"background:#3B8F10;color:white;\" id=\"prg-2-1\">**Launch File: my_gmapping_launch.launch** </p>"
   ]
  },
  {
   "cell_type": "code",
   "execution_count": null,
   "metadata": {
    "collapsed": true
   },
   "outputs": [],
   "source": [
    "<launch>\n",
    "     <arg name=\"scan_topic\" default=\"/kobuki/laser/scan\" />\n",
    "    \n",
    "   <!-- Defining parameters for slam_gmapping node -->\n",
    "\n",
    "     <node pkg=\"gmapping\" type=\"slam_gmapping\" name=\"slam_gmapping\"\n",
    "     output=\"screen\">\n",
    "        \n",
    "       <rosparam file=\"$(find my_mapping_launcher)/params/gmapping_params.yaml\" command=\"load\" />\n",
    "    \n",
    "       <remap from=\"scan\" to=\"$(arg scan_topic)\"/>\n",
    "        \n",
    "     </node>\n",
    "    \n",
    "</launch>"
   ]
  },
  {
   "cell_type": "markdown",
   "metadata": {},
   "source": [
    "<p style=\"background:#3B8F10;color:white;\" id=\"prg-2-1\">**END Launch File: my_gmapping_launch.launch** </p>"
   ]
  },
  {
   "cell_type": "markdown",
   "metadata": {},
   "source": [
    "<p style=\"background:#3B8F10;color:white;\" id=\"prg-2-1\">**Params File: gmapping_params.yaml** </p>"
   ]
  },
  {
   "cell_type": "code",
   "execution_count": null,
   "metadata": {
    "collapsed": true
   },
   "outputs": [],
   "source": [
    "base_frame: base_footprint\n",
    "odom_frame: odom\n",
    "map_update_interval: 5.0\n",
    "maxUrange: 6.0\n",
    "maxRange: 8.0\n",
    "\n",
    "minimumScore: 200\n",
    "\n",
    "linearUpdate: 0.5\n",
    "angularUpdate: 0.436\n",
    "temporalUpdate: -1.0\n",
    "resampleThreshold: 0.5\n",
    "particles: 80\n",
    "xmin: -1.0\n",
    "ymin: -1.0\n",
    "xmax: 1.0\n",
    "ymax: 1.0\n",
    "\n",
    "delta: 0.05\n",
    "llsamplerange: 0.01\n",
    "llsamplestep: 0.01\n",
    "lasamplerange: 0.005\n",
    "lasamplestep: 0.005"
   ]
  },
  {
   "cell_type": "markdown",
   "metadata": {},
   "source": [
    "<p style=\"background:#3B8F10;color:white;\" id=\"prg-2-1\">**END Params File: gmapping_params.yaml** </p>"
   ]
  }
 ],
 "metadata": {
  "anaconda-cloud": {},
  "kernelspec": {
   "display_name": "Python [Root]",
   "language": "python",
   "name": "Python [Root]"
  },
  "language_info": {
   "codemirror_mode": {
    "name": "ipython",
    "version": 2
   },
   "file_extension": ".py",
   "mimetype": "text/x-python",
   "name": "python",
   "nbconvert_exporter": "python",
   "pygments_lexer": "ipython2",
   "version": "2.7.12"
  }
 },
 "nbformat": 4,
 "nbformat_minor": 0
}
