{
 "cells": [
  {
   "cell_type": "markdown",
   "metadata": {},
   "source": [
    "## Solutions for Unit 2 Topics Part 1"
   ]
  },
  {
   "cell_type": "markdown",
   "metadata": {},
   "source": [
    "<img src=\"../img/robotignite_logo_text.png\"/>"
   ]
  },
  {
   "cell_type": "markdown",
   "metadata": {},
   "source": [
    "## Index: "
   ]
  },
  {
   "cell_type": "markdown",
   "metadata": {},
   "source": [
    "* <a href=\"#SolutionExercise2-1\">Solution Exercise 2.2</a>"
   ]
  },
  {
   "cell_type": "markdown",
   "metadata": {},
   "source": [
    "## Solution Exercise 2.2 <p id=\"SolutionExercise2-1\"></p>"
   ]
  },
  {
   "cell_type": "markdown",
   "metadata": {},
   "source": [
    "<p style=\"background:#EE9023;color:white;\">**Exercise 2.2**</p>"
   ]
  },
  {
   "cell_type": "markdown",
   "metadata": {},
   "source": [
    "For this exercise, we will assume that our package is called **exercise_22**, our launch file is called **move_robot.launch** and our C++ file is called **move_robot.cpp**."
   ]
  },
  {
   "cell_type": "markdown",
   "metadata": {},
   "source": [
    "<p style=\"background:#3B8F10;color:white;\" id=\"prg-2-1\">**Launch File: move_robot.launch** </p>"
   ]
  },
  {
   "cell_type": "code",
   "execution_count": null,
   "metadata": {
    "collapsed": true
   },
   "outputs": [],
   "source": [
    "<launch>\n",
    "    <node pkg=\"exercise_22\" type=\"move_robot\" name=\"move_robot_node\" output=\"screen\" />\n",
    "</launch>"
   ]
  },
  {
   "cell_type": "markdown",
   "metadata": {},
   "source": [
    "<p style=\"background:#3B8F10;color:white;\" id=\"prg-2-1\">**END Launch File: move_robot.launch** </p>"
   ]
  },
  {
   "cell_type": "markdown",
   "metadata": {},
   "source": [
    "<p style=\"background:#3B8F10;color:white;\" id=\"prg-2-1\">**C++ File: move_robot.cpp** </p>"
   ]
  },
  {
   "cell_type": "code",
   "execution_count": null,
   "metadata": {
    "collapsed": true
   },
   "outputs": [],
   "source": [
    "#include <ros/ros.h>\n",
    "#include <geometry_msgs/Twist.h>\n",
    "\n",
    "int main(int argc, char** argv) {\n",
    "\n",
    "    ros::init(argc, argv, \"move_robot_node\");\n",
    "    ros::NodeHandle nh;\n",
    "    \n",
    "    ros::Publisher pub = nh.advertise<geometry_msgs::Twist>(\"cmd_vel\", 1000);\n",
    "    ros::Rate loop_rate(2);\n",
    "    \n",
    "    geometry_msgs::Twist vel;\n",
    "    vel.linear.x = 0.5;\n",
    "    vel.angular.z = 0.5;\n",
    "    \n",
    "    while (ros::ok())\n",
    "    {\n",
    "        pub.publish(vel);\n",
    "        ros::spinOnce();\n",
    "        loop_rate.sleep();\n",
    "    }\n",
    "    \n",
    "    return 0;\n",
    "}"
   ]
  },
  {
   "cell_type": "markdown",
   "metadata": {},
   "source": [
    "<p style=\"background:#3B8F10;color:white;\" id=\"prg-2-1\">**END C++ File: move_robot.cpp** </p>"
   ]
  },
  {
   "cell_type": "markdown",
   "metadata": {},
   "source": [
    "Also, you will need to add the following lines to your **CMakeLists.txt** file, in order to create the executable of your code."
   ]
  },
  {
   "cell_type": "code",
   "execution_count": null,
   "metadata": {
    "collapsed": true
   },
   "outputs": [],
   "source": [
    "add_executable(move_robot src/move_robot.cpp)\n",
    "add_dependencies(move_robot ${move_robot_EXPORTED_TARGETS} ${catkin_EXPORTED_TARGETS})\n",
    "target_link_libraries(move_robot\n",
    "   ${catkin_LIBRARIES}\n",
    " )"
   ]
  },
  {
   "cell_type": "markdown",
   "metadata": {},
   "source": [
    "After compiling and executing the launch file, you should get something like this:"
   ]
  },
  {
   "cell_type": "markdown",
   "metadata": {},
   "source": [
    "<img src=\"../img/kobuki_circle.gif\" width=\"500\"></img>"
   ]
  }
 ],
 "metadata": {
  "anaconda-cloud": {},
  "kernelspec": {
   "display_name": "Python [Root]",
   "language": "python",
   "name": "Python [Root]"
  },
  "language_info": {
   "codemirror_mode": {
    "name": "ipython",
    "version": 2
   },
   "file_extension": ".py",
   "mimetype": "text/x-python",
   "name": "python",
   "nbconvert_exporter": "python",
   "pygments_lexer": "ipython2",
   "version": "2.7.12"
  }
 },
 "nbformat": 4,
 "nbformat_minor": 0
}
