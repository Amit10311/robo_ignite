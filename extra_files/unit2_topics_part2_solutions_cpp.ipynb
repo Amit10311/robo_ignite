{
 "cells": [
  {
   "cell_type": "markdown",
   "metadata": {},
   "source": [
    "## Solutions for Unit 2 Topics Part 2"
   ]
  },
  {
   "cell_type": "markdown",
   "metadata": {},
   "source": [
    "<img src=\"../img/robotignite_logo_text.png\"/>"
   ]
  },
  {
   "cell_type": "markdown",
   "metadata": {},
   "source": [
    "## Index: "
   ]
  },
  {
   "cell_type": "markdown",
   "metadata": {},
   "source": [
    "* <a href=\"#SolutionExercise2-2\">Solution Exercise 2.4</a>\n",
    "* <a href=\"#SolutionExercise2-3\">Solution Exercise 2.5</a>\n",
    "* <a href=\"#SolutionMiniProject\">Solution Mini Project</a>"
   ]
  },
  {
   "cell_type": "markdown",
   "metadata": {},
   "source": [
    "## Solution Exercise 2.4<p id=\"SolutionExercise2-2\"></p>"
   ]
  },
  {
   "cell_type": "markdown",
   "metadata": {},
   "source": [
    "<p style=\"background:#EE9023;color:white;\">**Exercise 2.4**</p>"
   ]
  },
  {
   "cell_type": "markdown",
   "metadata": {},
   "source": [
    "For this exercise, we will assume that our package is called **topics_24**, our launch file is called **odom_subscriber.launch** and our C++ file is called **odom_subscriber.cpp**."
   ]
  },
  {
   "cell_type": "markdown",
   "metadata": {},
   "source": [
    "<p style=\"background:#3B8F10;color:white;\" id=\"la-2-2\">**Launch File: odom_subscriber.launch** </p>"
   ]
  },
  {
   "cell_type": "code",
   "execution_count": null,
   "metadata": {
    "collapsed": true
   },
   "outputs": [],
   "source": [
    "<launch>\n",
    "    <node pkg=\"topics_24\" type=\"odom_subscriber\" name=\"odom_sub_node\" output=\"screen\" />\n",
    "</launch>"
   ]
  },
  {
   "cell_type": "markdown",
   "metadata": {},
   "source": [
    "<p style=\"background:#3B8F10;color:white;\" id=\"prg-2-2\">**C++ File: odom_subscriber.cpp** </p>"
   ]
  },
  {
   "cell_type": "code",
   "execution_count": null,
   "metadata": {
    "collapsed": true
   },
   "outputs": [],
   "source": [
    "#include <ros/ros.h>\n",
    "#include <nav_msgs/Odometry.h>\n",
    "\n",
    "void counterCallback(const nav_msgs::Odometry::ConstPtr& msg)\n",
    "{\n",
    "  ROS_INFO(\"%s\", msg->header.frame_id.c_str());\n",
    "  //ROS_INFO(\"%f\", msg->twist.twist.linear.x);\n",
    "  //ROS_INFO(\"%f\", msg->pose.pose.position.x);\n",
    "}\n",
    "\n",
    "int main(int argc, char** argv) {\n",
    "\n",
    "    ros::init(argc, argv, \"odom_sub_node\");\n",
    "    ros::NodeHandle nh;\n",
    "    \n",
    "    ros::Subscriber sub = nh.subscribe(\"odom\", 1000, counterCallback);\n",
    "    \n",
    "    ros::spin();\n",
    "    \n",
    "    return 0;\n",
    "}"
   ]
  },
  {
   "cell_type": "markdown",
   "metadata": {},
   "source": [
    "<p style=\"background:#3B8F10;color:white;\" id=\"prg-2-1\">**END C++ File: odom_subscriber.cpp** </p>"
   ]
  },
  {
   "cell_type": "markdown",
   "metadata": {},
   "source": [
    "Finally, you will need to add the following lines to the **CMakeLists.txt** files in order to generate the executable on compilation:"
   ]
  },
  {
   "cell_type": "code",
   "execution_count": null,
   "metadata": {
    "collapsed": true
   },
   "outputs": [],
   "source": [
    "add_executable(odom_subscriber src/odom_subscriber.cpp)\n",
    "add_dependencies(odom_subscriber ${odom_subscriber_EXPORTED_TARGETS} ${catkin_EXPORTED_TARGETS})\n",
    "target_link_libraries(odom_subscriber\n",
    "   ${catkin_LIBRARIES}\n",
    " )"
   ]
  },
  {
   "cell_type": "markdown",
   "metadata": {},
   "source": [
    "Once compiled, you will get the following output when executing your launch file."
   ]
  },
  {
   "cell_type": "markdown",
   "metadata": {},
   "source": [
    "<img src=\"../img/sol_odom_sub.png\" width=\"600\" />"
   ]
  },
  {
   "cell_type": "markdown",
   "metadata": {},
   "source": [
    "Summarizing, you need to take into account that the **msg** variable that is recevied by the **counterCallback** function will contain the whole **Odometry** message. So, you will need to access each specific part of the message in order to be able to print them with **ROS_INFO**, since it doesn't allow you to print the whole Odometry message."
   ]
  },
  {
   "cell_type": "markdown",
   "metadata": {},
   "source": [
    "So, for instance, here you have how a whole **Odometry** message would look like:"
   ]
  },
  {
   "cell_type": "markdown",
   "metadata": {},
   "source": [
    "<img src=\"../img/odom_msg_sol.png\" width=\"1000\" />"
   ]
  },
  {
   "cell_type": "markdown",
   "metadata": {},
   "source": [
    "You can have a look at this yourself by typing into your WebShell the following command:"
   ]
  },
  {
   "cell_type": "code",
   "execution_count": null,
   "metadata": {
    "collapsed": true
   },
   "outputs": [],
   "source": [
    "rostopic echo /odom -n1"
   ]
  },
  {
   "cell_type": "markdown",
   "metadata": {},
   "source": [
    "Also, you can have a look at how this message is defined and all the variables that it contains by typing the following command:"
   ]
  },
  {
   "cell_type": "code",
   "execution_count": null,
   "metadata": {
    "collapsed": true
   },
   "outputs": [],
   "source": [
    "rosmsg show nav_msgs/Odometry"
   ]
  },
  {
   "cell_type": "markdown",
   "metadata": {},
   "source": [
    "You will get something like this:"
   ]
  },
  {
   "cell_type": "markdown",
   "metadata": {},
   "source": [
    "<img src=\"../img/rosmsg_show_odom.png\" width=\"500\" />"
   ]
  },
  {
   "cell_type": "markdown",
   "metadata": {},
   "source": [
    "So here, you can have a look at the whole structure of the Odometry message in order to better understand how to properly access the different levels of the message (which is shown in the <a href=\"#prg-2-2\">code</a>)."
   ]
  },
  {
   "cell_type": "markdown",
   "metadata": {},
   "source": [
    "## Solution Exercise 2.5 <p id=\"SolutionExercise2-3\"></p>"
   ]
  },
  {
   "cell_type": "markdown",
   "metadata": {},
   "source": [
    "<p style=\"background:#EE9023;color:white;\">**Exercise 2.5**</p>"
   ]
  },
  {
   "cell_type": "markdown",
   "metadata": {},
   "source": [
    "For this exercise, we will assume that our package is called **topics_25**, for future references"
   ]
  },
  {
   "cell_type": "markdown",
   "metadata": {},
   "source": [
    "So, for the exercise 2.3, we will have to create a custom message that defines an age of the robot in years, months, and days. For that, the first you will have to do is to create a folder called **msg** inside the **topics_25** package."
   ]
  },
  {
   "cell_type": "code",
   "execution_count": null,
   "metadata": {
    "collapsed": true
   },
   "outputs": [],
   "source": [
    "roscd topics_25\n",
    "mkdir msg"
   ]
  },
  {
   "cell_type": "markdown",
   "metadata": {},
   "source": [
    "Then, inside this **msg** folder, you will have to create a file called **Age.msg**, with the following content inside it:"
   ]
  },
  {
   "cell_type": "markdown",
   "metadata": {},
   "source": [
    "<p style=\"background:#3B8F10;color:white;\" id=\"prg-2-1\">**Message File: Age.msg** </p>"
   ]
  },
  {
   "cell_type": "code",
   "execution_count": null,
   "metadata": {
    "collapsed": true
   },
   "outputs": [],
   "source": [
    "float32 years\n",
    "float32 months\n",
    "float32 days"
   ]
  },
  {
   "cell_type": "markdown",
   "metadata": {},
   "source": [
    "<p style=\"background:#3B8F10;color:white;\" id=\"prg-2-1\">**END Message File: Age.msg** </p>"
   ]
  },
  {
   "cell_type": "markdown",
   "metadata": {},
   "source": [
    "Then, you will also have to modify the **CMakeLists.txt** and **package.xml** files, as it is described in the Topics Notebook. If you are lost and don't know how to proceed, below you can check working examples of this files:"
   ]
  },
  {
   "cell_type": "markdown",
   "metadata": {},
   "source": [
    "<p style=\"background:#3B8F10;color:white;\" id=\"prg-2-1\">**CMakeLists.txt** </p>"
   ]
  },
  {
   "cell_type": "code",
   "execution_count": null,
   "metadata": {
    "collapsed": true
   },
   "outputs": [],
   "source": [
    "cmake_minimum_required(VERSION 2.8.3)\n",
    "project(topics_25)\n",
    "\n",
    "## Here go all the packages needed to COMPILE the messages of topic, services and actions.\n",
    "## Its only geting its paths, and not really importing them to be used in the compilation.\n",
    "## Its only for further functions in CMakeLists.txt to be able to find those packages.\n",
    "## In package.xml you have to state them as build\n",
    "find_package(catkin REQUIRED COMPONENTS\n",
    "  roscpp\n",
    "  std_msgs\n",
    "  message_generation\n",
    ")\n",
    "\n",
    "## Generate topic messages in the 'msg' folder\n",
    "## In this function will be placed all the topic messages files of this package ( in the msg folder ) to be compiled.\n",
    "add_message_files(\n",
    "  FILES\n",
    "  Age.msg\n",
    ")\n",
    "\n",
    "## Here is where the packages needed for the topic messages compilation are imported.\n",
    "generate_messages(\n",
    "  DEPENDENCIES\n",
    "  std_msgs\n",
    ")\n",
    "\n",
    "## State here all the packages that will be needed by someone that executes something from your package.\n",
    "## All the packages stated here must be in the package.xml as run_depend\n",
    "catkin_package(\n",
    "  CATKIN_DEPENDS roscpp std_msgs message_runtime\n",
    ")\n",
    "\n",
    "include_directories(\n",
    "  ${catkin_INCLUDE_DIRS}\n",
    ")"
   ]
  },
  {
   "cell_type": "markdown",
   "metadata": {},
   "source": [
    "<p style=\"background:#3B8F10;color:white;\" id=\"prg-2-1\">**END CMakeLists.txt** </p>"
   ]
  },
  {
   "cell_type": "markdown",
   "metadata": {},
   "source": [
    "<p style=\"background:#3B8F10;color:white;\" id=\"prg-2-1\">**package.xml** </p>"
   ]
  },
  {
   "cell_type": "code",
   "execution_count": null,
   "metadata": {
    "collapsed": true
   },
   "outputs": [],
   "source": [
    "<?xml version=\"1.0\"?>\n",
    "<package>\n",
    "  <name>topics_25</name>\n",
    "  <version>0.0.0</version>\n",
    "  <description>The topics_25 package</description>\n",
    "\n",
    "\n",
    "  <maintainer email=\"user@todo.todo\">user</maintainer>\n",
    "\n",
    "  <license>TODO</license>\n",
    "\n",
    " <buildtool_depend>catkin</buildtool_depend>\n",
    "  <build_depend>roscpp</build_depend>\n",
    "  <build_depend>std_msgs</build_depend>\n",
    "  <build_depend>message_generation</build_depend> \n",
    "  <run_depend>roscpp</run_depend>\n",
    "  <run_depend>std_msgs</run_depend>\n",
    "  <run_depend>message_runtime</run_depend>\n",
    "\n",
    "  <export>\n",
    "\n",
    "  </export>\n",
    "</package>"
   ]
  },
  {
   "cell_type": "markdown",
   "metadata": {},
   "source": [
    "<p style=\"background:#3B8F10;color:white;\" id=\"prg-2-1\">**END package.xml** </p>"
   ]
  },
  {
   "cell_type": "markdown",
   "metadata": {},
   "source": [
    "Once all of these is done, you will need to compile your package and source **ALL the webshells** that you are going to use so that ROS can find the new Messages."
   ]
  },
  {
   "cell_type": "code",
   "execution_count": null,
   "metadata": {
    "collapsed": true
   },
   "outputs": [],
   "source": [
    "roscd\n",
    "cd ..\n",
    "catkin_make\n",
    "source devel/setup.bash"
   ]
  },
  {
   "cell_type": "markdown",
   "metadata": {},
   "source": [
    "And finally, check if you can find your new message:"
   ]
  },
  {
   "cell_type": "code",
   "execution_count": null,
   "metadata": {
    "collapsed": true
   },
   "outputs": [],
   "source": [
    "rosmsg list | grep Age"
   ]
  },
  {
   "cell_type": "markdown",
   "metadata": {},
   "source": [
    "You should see something like this:"
   ]
  },
  {
   "cell_type": "code",
   "execution_count": null,
   "metadata": {
    "collapsed": true
   },
   "outputs": [],
   "source": [
    "topics_25/Age"
   ]
  },
  {
   "cell_type": "markdown",
   "metadata": {},
   "source": [
    "Once this is done and working, all you have to do is to create Publisher that publishes this message into a topic. Below you can check both the launch file and the Python file:"
   ]
  },
  {
   "cell_type": "markdown",
   "metadata": {},
   "source": [
    "<p style=\"background:#3B8F10;color:white;\" id=\"prg-2-1\">**Launch File: publish_age.launch** </p>"
   ]
  },
  {
   "cell_type": "code",
   "execution_count": null,
   "metadata": {
    "collapsed": true
   },
   "outputs": [],
   "source": [
    "<launch>\n",
    "    <node pkg=\"topics_25\" type=\"publish_age\" name=\"publish_age_node\" output=\"screen\" />\n",
    "</launch>"
   ]
  },
  {
   "cell_type": "markdown",
   "metadata": {},
   "source": [
    "<p style=\"background:#3B8F10;color:white;\" id=\"prg-2-1\">**END Launch File: publish_age.launch** </p>"
   ]
  },
  {
   "cell_type": "markdown",
   "metadata": {},
   "source": [
    "<p style=\"background:#3B8F10;color:white;\" id=\"prg-2-1\">**C++ File: publish_age.cpp** </p>"
   ]
  },
  {
   "cell_type": "code",
   "execution_count": null,
   "metadata": {
    "collapsed": true
   },
   "outputs": [],
   "source": [
    "#include <ros/ros.h>\n",
    "#include <topics_25/Age.h>\n",
    "\n",
    "int main(int argc, char** argv) {\n",
    "\n",
    "    ros::init(argc, argv, \"publish_age_node\");\n",
    "    ros::NodeHandle nh;\n",
    "    \n",
    "    ros::Publisher pub = nh.advertise<topics_25::Age>(\"age_info\", 1000);\n",
    "    ros::Rate loop_rate(2);\n",
    "    \n",
    "    topics_25::Age age;\n",
    "    age.years = 5;\n",
    "    age.months = 10;\n",
    "    age.days = 21;\n",
    "    \n",
    "    while (ros::ok())\n",
    "    {\n",
    "        pub.publish(age);\n",
    "        ros::spinOnce();\n",
    "        loop_rate.sleep();\n",
    "    }\n",
    "    \n",
    "    return 0;\n",
    "}"
   ]
  },
  {
   "cell_type": "markdown",
   "metadata": {},
   "source": [
    "<p style=\"background:#3B8F10;color:white;\" id=\"prg-2-1\">**END C++ File: publish_age.cpp** </p>"
   ]
  },
  {
   "cell_type": "markdown",
   "metadata": {},
   "source": [
    "As always, you'll need to add the following lines to your **CMakeLists.txt** file:"
   ]
  },
  {
   "cell_type": "code",
   "execution_count": null,
   "metadata": {
    "collapsed": true
   },
   "outputs": [],
   "source": [
    "add_executable(publish_age src/publish_age.cpp)\n",
    "add_dependencies(publish_age ${publish_age_EXPORTED_TARGETS} ${catkin_EXPORTED_TARGETS})\n",
    "target_link_libraries(publish_age\n",
    "   ${catkin_LIBRARIES}\n",
    " )\n",
    "add_dependencies(publish_age topics_25_generate_messages_cpp)"
   ]
  },
  {
   "cell_type": "markdown",
   "metadata": {},
   "source": [
    "Finally, you can launch your Publisher:"
   ]
  },
  {
   "cell_type": "code",
   "execution_count": null,
   "metadata": {
    "collapsed": true
   },
   "outputs": [],
   "source": [
    "roslaunch topics_25 publish_age.launch"
   ]
  },
  {
   "cell_type": "markdown",
   "metadata": {},
   "source": [
    "In order to check the published message, you will need to listen to the specified topic. Remember that you will need to **source ALL the webshells** where you will use or visualize the Age message."
   ]
  },
  {
   "cell_type": "code",
   "execution_count": null,
   "metadata": {
    "collapsed": true
   },
   "outputs": [],
   "source": [
    "rostopic echo /age_info"
   ]
  },
  {
   "cell_type": "markdown",
   "metadata": {},
   "source": [
    "You will get something like this:"
   ]
  },
  {
   "cell_type": "markdown",
   "metadata": {},
   "source": [
    "<img src=\"../img/echo_age_info.png\" width=\"500\" />"
   ]
  },
  {
   "cell_type": "markdown",
   "metadata": {},
   "source": [
    "## Solution Mini Project <p id=\"SolutionMiniProject\"></p>"
   ]
  },
  {
   "cell_type": "markdown",
   "metadata": {},
   "source": [
    "<p style=\"background:#EE9023;color:white;\">**Mini Project**</p>"
   ]
  },
  {
   "cell_type": "markdown",
   "metadata": {},
   "source": [
    "First of all, let's make clear that **there are MANY WAYS to solve this Mini Project**. The solution we are going to present is just one of the options, and it is ment to show you how you can proceed in case you are completely lost. We encourage you to take this solution as an example, and then modify it as you please to improve it."
   ]
  },
  {
   "cell_type": "markdown",
   "metadata": {},
   "source": [
    "For this exercise, we will assume that our package is called **topics_mini_project**, our launch file is called **mini_project.launch**, and our C++ file is called **mini_project.cpp**."
   ]
  },
  {
   "cell_type": "markdown",
   "metadata": {},
   "source": [
    "<p style=\"background:#3B8F10;color:white;\" id=\"prg-2-1\">**Launch File: mini_project.launch** </p>"
   ]
  },
  {
   "cell_type": "code",
   "execution_count": null,
   "metadata": {
    "collapsed": true
   },
   "outputs": [],
   "source": [
    "<launch>\n",
    "    <node pkg=\"topics_mini_project\" type=\"mini_project\" name=\"mini_project_node\" output=\"screen\" />\n",
    "</launch>"
   ]
  },
  {
   "cell_type": "markdown",
   "metadata": {},
   "source": [
    "<p style=\"background:#3B8F10;color:white;\" id=\"prg-2-1\">**END Launch File: mini_project.launch** </p>"
   ]
  },
  {
   "cell_type": "markdown",
   "metadata": {},
   "source": [
    "<p style=\"background:#3B8F10;color:white;\" id=\"prg-2-1\">**C++ File: mini_project.cpp** </p>"
   ]
  },
  {
   "cell_type": "code",
   "execution_count": null,
   "metadata": {
    "collapsed": true
   },
   "outputs": [],
   "source": [
    "#include <ros/ros.h>\n",
    "#include <sensor_msgs/LaserScan.h>\n",
    "#include <geometry_msgs/Twist.h>\n",
    "\n",
    "float linX, angZ;\n",
    "\n",
    "void counterCallback(const sensor_msgs::LaserScan::ConstPtr& msg)\n",
    "{\n",
    "  ROS_INFO(\"%f\", msg->ranges[360]); //We print the distance to an obstacle in front of the robot\n",
    "  \n",
    "  //If the distance to an obstacle in front of the robot is bigger than 1 meter, the robot will move forward\n",
    "  if (msg->ranges[360] > 1)\n",
    "  {\n",
    "    linX = 0.1;\n",
    "    angZ = 0.0;\n",
    "  }\n",
    "  //If the distance to an obstacle in front of the robot is smaller than 1 meter, the robot will turn left\n",
    "  if (msg->ranges[360] < 1)\n",
    "  {\n",
    "    linX = 0.0;\n",
    "    angZ = 0.2;\n",
    "  }\n",
    "  //If the distance to an obstacle at the left side of the robot is smaller than 0.3 meters, the robot will turn right\n",
    "  if (msg->ranges[719] < 0.3)\n",
    "  {\n",
    "    linX = 0.0;\n",
    "    angZ = -0.2;\n",
    "  }\n",
    "  //If the distance to an obstacle at the right side of the robot is smaller than 0.3 meters, the robot will turn left\n",
    "  if (msg->ranges[0] < 0.3)\n",
    "  {\n",
    "    linX = 0.0;\n",
    "    angZ = 0.2;\n",
    "  }\n",
    "  \n",
    "}\n",
    "\n",
    "int main(int argc, char** argv) {\n",
    "\n",
    "    ros::init(argc, argv, \"sub_node\");\n",
    "    ros::NodeHandle nh;\n",
    "    ros::Subscriber sub = nh.subscribe(\"/kobuki/laser/scan\", 1000, counterCallback); //We subscribe to laser's topic\n",
    "    ros::Publisher pub = nh.advertise<geometry_msgs::Twist>(\"cmd_vel\", 1000);\n",
    "    geometry_msgs::Twist move;\n",
    "    \n",
    "    ros::Rate rate(2);\n",
    "\n",
    "    while(ros::ok()){\n",
    "      \n",
    "      move.linear.x = linX;\n",
    "      move.angular.z = angZ;\n",
    "      pub.publish(move);\n",
    "      \n",
    "      rate.sleep();\n",
    "      ros::spinOnce();\n",
    "      \n",
    "    }\n",
    "    \n",
    "    return 0;\n",
    "}"
   ]
  },
  {
   "cell_type": "markdown",
   "metadata": {},
   "source": [
    "<p style=\"background:#3B8F10;color:white;\" id=\"prg-2-1\">**END C++ File: mini_project.cpp** </p>"
   ]
  },
  {
   "cell_type": "markdown",
   "metadata": {},
   "source": [
    "So, in the above C++ code, we are generating a very simple logic:\n",
    "\n",
    "* If there's no obstacle closer than 1 meter in front of the robot: **move forward**\n",
    "* If there's an obstacle closer than 1 meter in front of the robot: **turn left**\n",
    "* If there's an obstacle closer than 1 meter at the right side of the robot: **turn left**\n",
    "* If there's an obstacle closer than 1 meter at the left side of the robot: **turn right**"
   ]
  },
  {
   "cell_type": "markdown",
   "metadata": {},
   "source": [
    "So, at the end, you will get something like this:"
   ]
  },
  {
   "cell_type": "markdown",
   "metadata": {},
   "source": [
    "The robot moves forward until it detects an obstacle in front of it which is closer than 1 meter, so it begins to turn left in order to avoid it."
   ]
  },
  {
   "cell_type": "markdown",
   "metadata": {},
   "source": [
    "<img src=\"../img/mini_project_1.gif\" width=\"600\" />"
   ]
  },
  {
   "cell_type": "markdown",
   "metadata": {},
   "source": [
    "The robot keeps turning left and moving forward until it detects that it has an obstacle at the right side which is closer than 1 meter, so it stops and turns left in order to avoid it."
   ]
  },
  {
   "cell_type": "markdown",
   "metadata": {},
   "source": [
    "<img src=\"../img/mini_project_2.gif\" width=\"600\" />"
   ]
  }
 ],
 "metadata": {
  "anaconda-cloud": {},
  "kernelspec": {
   "display_name": "Python [Root]",
   "language": "python",
   "name": "Python [Root]"
  },
  "language_info": {
   "codemirror_mode": {
    "name": "ipython",
    "version": 2
   },
   "file_extension": ".py",
   "mimetype": "text/x-python",
   "name": "python",
   "nbconvert_exporter": "python",
   "pygments_lexer": "ipython2",
   "version": "2.7.12"
  }
 },
 "nbformat": 4,
 "nbformat_minor": 1
}
