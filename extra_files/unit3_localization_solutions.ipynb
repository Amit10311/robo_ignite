{
 "cells": [
  {
   "cell_type": "markdown",
   "metadata": {},
   "source": [
    "## Solutions for Unit 3 Localization"
   ]
  },
  {
   "cell_type": "markdown",
   "metadata": {},
   "source": [
    "<img src=\"../img/robotignite_logo_text.png\"/>"
   ]
  },
  {
   "cell_type": "markdown",
   "metadata": {},
   "source": [
    "## Index: "
   ]
  },
  {
   "cell_type": "markdown",
   "metadata": {},
   "source": [
    "* <a href=\"#SolutionExercise3-3\">Solution Exercise 3.3</a>\n",
    "* <a href=\"#SolutionExercise3-5\">Solution Exercise 3.5</a>\n",
    "* <a href=\"#SolutionExercise3-8\">Solution Exercise 3.8</a>\n",
    "* <a href=\"#SolutionExercise3-9\">Solution Exercise 3.9</a>\n",
    "* <a href=\"#SolutionExercise3-10\">Solution Exercise 3.10</a>\n",
    "* <a href=\"#SolutionExercise3-11\">Solution Exercise 3.11</a>\n",
    "* <a href=\"#SolutionExercise3-12\">Solution Exercise 3.12</a>"
   ]
  },
  {
   "cell_type": "markdown",
   "metadata": {},
   "source": [
    "## Solution Exercise 3.3 <p id=\"SolutionExercise3-3\"></p>"
   ]
  },
  {
   "cell_type": "markdown",
   "metadata": {},
   "source": [
    "<p style=\"background:#EE9023;color:white;\">**Exercise 3.3**</p>"
   ]
  },
  {
   "cell_type": "markdown",
   "metadata": {},
   "source": [
    "<p style=\"background:#3B8F10;color:white;\" id=\"prg-2-1\">**Launch File: change_map.launch** </p>"
   ]
  },
  {
   "cell_type": "code",
   "execution_count": null,
   "metadata": {
    "collapsed": true
   },
   "outputs": [],
   "source": [
    "<?xml version=\"1.0\"?>\n",
    "<launch>\n",
    "    \n",
    "  <arg name=\"map_file\" default=\"$(find husky_navigation)/maps/playpen_map.yaml\"/>\n",
    "  <node name=\"map_server\" pkg=\"map_server\" type=\"map_server\" args=\"$(arg map_file)\" />\n",
    "\n",
    "  <arg name=\"use_map_topic\" default=\"true\"/>\n",
    "  <arg name=\"scan_topic\" default=\"scan\" />\n",
    "\n",
    "  <node pkg=\"amcl\" type=\"amcl\" name=\"amcl\">\n",
    "    <param name=\"use_map_topic\" value=\"$(arg use_map_topic)\"/>\n",
    "    <!-- Publish scans from best pose at a max of 10 Hz -->\n",
    "    <param name=\"odom_model_type\" value=\"diff\"/>\n",
    "    <param name=\"odom_alpha5\" value=\"0.1\"/>\n",
    "    <param name=\"gui_publish_rate\" value=\"10.0\"/>\n",
    "    <param name=\"laser_max_beams\" value=\"60\"/>\n",
    "    <param name=\"laser_max_range\" value=\"12.0\"/>\n",
    "    <param name=\"min_particles\" value=\"500\"/>\n",
    "    <param name=\"max_particles\" value=\"2000\"/>\n",
    "    <param name=\"kld_err\" value=\"0.05\"/>\n",
    "    <param name=\"kld_z\" value=\"0.99\"/>\n",
    "    <param name=\"odom_alpha1\" value=\"0.2\"/>\n",
    "    <param name=\"odom_alpha2\" value=\"0.2\"/>\n",
    "    <!-- translation std dev, m -->\n",
    "    <param name=\"odom_alpha3\" value=\"0.2\"/>\n",
    "    <param name=\"odom_alpha4\" value=\"0.2\"/>\n",
    "    <param name=\"laser_z_hit\" value=\"0.5\"/>\n",
    "    <param name=\"laser_z_short\" value=\"0.05\"/>\n",
    "    <param name=\"laser_z_max\" value=\"0.05\"/>\n",
    "    <param name=\"laser_z_rand\" value=\"0.5\"/>\n",
    "    <param name=\"laser_sigma_hit\" value=\"0.2\"/>\n",
    "    <param name=\"laser_lambda_short\" value=\"0.1\"/>\n",
    "    <param name=\"laser_model_type\" value=\"likelihood_field\"/>\n",
    "    <!-- <param name=\"laser_model_type\" value=\"beam\"/> -->\n",
    "    <param name=\"laser_likelihood_max_dist\" value=\"2.0\"/>\n",
    "    <param name=\"update_min_d\" value=\"0.25\"/>\n",
    "    <param name=\"update_min_a\" value=\"0.2\"/>\n",
    "    <param name=\"odom_frame_id\" value=\"odom\"/>\n",
    "    <param name=\"resample_interval\" value=\"1\"/>\n",
    "    <!-- Increase tolerance because the computer can get quite busy -->\n",
    "    <param name=\"transform_tolerance\" value=\"1.0\"/>\n",
    "    <param name=\"recovery_alpha_slow\" value=\"0.0\"/>\n",
    "    <param name=\"recovery_alpha_fast\" value=\"0.0\"/>\n",
    "    <remap from=\"scan\" to=\"$(arg scan_topic)\"/>    \n",
    "  </node>\n",
    "\n",
    "</launch>"
   ]
  },
  {
   "cell_type": "markdown",
   "metadata": {},
   "source": [
    "<p style=\"background:#3B8F10;color:white;\" id=\"prg-2-1\">**END Launch File: change_map.launch** </p>"
   ]
  },
  {
   "cell_type": "markdown",
   "metadata": {},
   "source": [
    "## Solution Exercise 3.5 <p id=\"SolutionExercise3-5\"></p>"
   ]
  },
  {
   "cell_type": "markdown",
   "metadata": {},
   "source": [
    "<p style=\"background:#EE9023;color:white;\">**Exercise 3.5**</p>"
   ]
  },
  {
   "cell_type": "markdown",
   "metadata": {},
   "source": [
    "<p style=\"background:#3B8F10;color:white;\" id=\"prg-2-1\">**Launch File: get_pose_service.launch** </p>"
   ]
  },
  {
   "cell_type": "code",
   "execution_count": null,
   "metadata": {
    "collapsed": true
   },
   "outputs": [],
   "source": [
    "<launch>\n",
    "    <node pkg=\"get_pose\" type=\"get_pose_service.py\" name=\"service_server\" output=\"screen\">       \n",
    "    </node>\n",
    "</launch>"
   ]
  },
  {
   "cell_type": "markdown",
   "metadata": {},
   "source": [
    "<p style=\"background:#3B8F10;color:white;\" id=\"prg-2-1\">**END Launch File: get_pose_service.launch** </p>"
   ]
  },
  {
   "cell_type": "markdown",
   "metadata": {},
   "source": [
    "<p style=\"background:#3B8F10;color:white;\" id=\"prg-2-1\">**Python File: get_pose_service.py** </p>"
   ]
  },
  {
   "cell_type": "code",
   "execution_count": null,
   "metadata": {
    "collapsed": true
   },
   "outputs": [],
   "source": [
    "#! /usr/bin/env python\n",
    "\n",
    "import rospy\n",
    "from std_srvs.srv import Empty, EmptyResponse # Import the service message python classes generated from Empty.srv.\n",
    "from geometry_msgs.msg import PoseWithCovarianceStamped, Pose\n",
    "\n",
    "robot_pose = Pose()\n",
    "\n",
    "def service_callback(request):\n",
    "    print \"Robot Pose:\"\n",
    "    print robot_pose\n",
    "    return EmptyResponse() # the service Response class, in this case EmptyResponse\n",
    "    \n",
    "def sub_callback(msg):\n",
    "    global robot_pose\n",
    "    robot_pose = msg.pose.pose\n",
    "    \n",
    "\n",
    "rospy.init_node('service_server') \n",
    "my_service = rospy.Service('/get_pose_service', Empty , service_callback) # create the Service called get_pose_service with the defined callback\n",
    "sub_pose = rospy.Subscriber('/amcl_pose', PoseWithCovarianceStamped, sub_callback)\n",
    "rospy.spin() # mantain the service open."
   ]
  },
  {
   "cell_type": "markdown",
   "metadata": {},
   "source": [
    "<p style=\"background:#3B8F10;color:white;\" id=\"prg-2-1\">**END Python File: get_pose_service.py** </p>"
   ]
  },
  {
   "cell_type": "markdown",
   "metadata": {},
   "source": [
    "## Solution Exercise 3.8 <p id=\"SolutionExercise3-8\"></p>"
   ]
  },
  {
   "cell_type": "markdown",
   "metadata": {},
   "source": [
    "<p style=\"background:#EE9023;color:white;\">**Exercise 3.8**</p>"
   ]
  },
  {
   "cell_type": "markdown",
   "metadata": {},
   "source": [
    "<p style=\"background:#3B8F10;color:white;\" id=\"prg-2-1\">**Launch File: my_amcl_launch.launch** </p>"
   ]
  },
  {
   "cell_type": "code",
   "execution_count": null,
   "metadata": {
    "collapsed": true
   },
   "outputs": [],
   "source": [
    "<launch>\n",
    "  \n",
    "  <arg name=\"map_file\" default=\"$(find husky_navigation)/maps/my_map.yaml\"/>\n",
    "  <node name=\"map_server\" pkg=\"map_server\" type=\"map_server\" args=\"$(arg map_file)\" />\n",
    "\n",
    "  <arg name=\"use_map_topic\" default=\"true\"/>\n",
    "  <arg name=\"scan_topic\" default=\"scan\" />\n",
    "\n",
    "  <node pkg=\"amcl\" type=\"amcl\" name=\"amcl\">\n",
    "    <param name=\"use_map_topic\" value=\"$(arg use_map_topic)\"/>\n",
    "    <!-- Publish scans from best pose at a max of 10 Hz -->\n",
    "    <param name=\"odom_model_type\" value=\"diff\"/>\n",
    "    <param name=\"odom_alpha5\" value=\"0.1\"/>\n",
    "    <param name=\"gui_publish_rate\" value=\"10.0\"/>\n",
    "    <param name=\"laser_max_beams\" value=\"60\"/>\n",
    "    <param name=\"laser_max_range\" value=\"12.0\"/>\n",
    "    <param name=\"min_particles\" value=\"1\"/>\n",
    "    <param name=\"max_particles\" value=\"5\"/>\n",
    "    <param name=\"kld_err\" value=\"0.05\"/>\n",
    "    <param name=\"kld_z\" value=\"0.99\"/>\n",
    "    <param name=\"odom_alpha1\" value=\"0.2\"/>\n",
    "    <param name=\"odom_alpha2\" value=\"0.2\"/>\n",
    "    <!-- translation std dev, m -->\n",
    "    <param name=\"odom_alpha3\" value=\"0.2\"/>\n",
    "    <param name=\"odom_alpha4\" value=\"0.2\"/>\n",
    "    <param name=\"laser_z_hit\" value=\"0.5\"/>\n",
    "    <param name=\"laser_z_short\" value=\"0.05\"/>\n",
    "    <param name=\"laser_z_max\" value=\"0.05\"/>\n",
    "    <param name=\"laser_z_rand\" value=\"0.5\"/>\n",
    "    <param name=\"laser_sigma_hit\" value=\"0.2\"/>\n",
    "    <param name=\"laser_lambda_short\" value=\"0.1\"/>\n",
    "    <param name=\"laser_model_type\" value=\"likelihood_field\"/>\n",
    "    <!-- <param name=\"laser_model_type\" value=\"beam\"/> -->\n",
    "    <param name=\"laser_likelihood_max_dist\" value=\"2.0\"/>\n",
    "    <param name=\"update_min_d\" value=\"0.25\"/>\n",
    "    <param name=\"update_min_a\" value=\"0.2\"/>\n",
    "    <param name=\"odom_frame_id\" value=\"odom\"/>\n",
    "    <param name=\"resample_interval\" value=\"1\"/>\n",
    "    <!-- Increase tolerance because the computer can get quite busy -->\n",
    "    <param name=\"transform_tolerance\" value=\"1.0\"/>\n",
    "    <param name=\"recovery_alpha_slow\" value=\"0.0\"/>\n",
    "    <param name=\"recovery_alpha_fast\" value=\"0.0\"/>\n",
    "    <remap from=\"scan\" to=\"$(arg scan_topic)\"/>    \n",
    "  </node>\n",
    "\n",
    "</launch>\n"
   ]
  },
  {
   "cell_type": "markdown",
   "metadata": {},
   "source": [
    "<p style=\"background:#3B8F10;color:white;\" id=\"prg-2-1\">**END Launch File: my_amcl_launch.launch** </p>"
   ]
  },
  {
   "cell_type": "markdown",
   "metadata": {},
   "source": [
    "## Solution Exercise 3.9 <p id=\"SolutionExercise3-9\"></p>"
   ]
  },
  {
   "cell_type": "markdown",
   "metadata": {},
   "source": [
    "<p style=\"background:#EE9023;color:white;\">**Exercise 3.9**</p>"
   ]
  },
  {
   "cell_type": "markdown",
   "metadata": {},
   "source": [
    "<p style=\"background:#3B8F10;color:white;\" id=\"prg-2-1\">**Launch File: my_amcl_launch.launch** </p>"
   ]
  },
  {
   "cell_type": "code",
   "execution_count": null,
   "metadata": {
    "collapsed": true
   },
   "outputs": [],
   "source": [
    "<launch>\n",
    "  \n",
    "  <arg name=\"map_file\" default=\"$(find husky_navigation)/maps/my_map.yaml\"/>\n",
    "  <node name=\"map_server\" pkg=\"map_server\" type=\"map_server\" args=\"$(arg map_file)\" />\n",
    "\n",
    "  <arg name=\"use_map_topic\" default=\"true\"/>\n",
    "  <arg name=\"scan_topic\" default=\"scan\" />\n",
    "\n",
    "  <node pkg=\"amcl\" type=\"amcl\" name=\"amcl\">\n",
    "    <param name=\"use_map_topic\" value=\"$(arg use_map_topic)\"/>\n",
    "    <!-- Publish scans from best pose at a max of 10 Hz -->\n",
    "    <param name=\"odom_model_type\" value=\"diff\"/>\n",
    "    <param name=\"odom_alpha5\" value=\"0.1\"/>\n",
    "    <param name=\"gui_publish_rate\" value=\"10.0\"/>\n",
    "    <param name=\"laser_max_beams\" value=\"60\"/>\n",
    "    <param name=\"laser_max_range\" value=\"1.0\"/>\n",
    "    <param name=\"min_particles\" value=\"500\"/>\n",
    "    <param name=\"max_particles\" value=\"2000\"/>\n",
    "    <param name=\"kld_err\" value=\"0.05\"/>\n",
    "    <param name=\"kld_z\" value=\"0.99\"/>\n",
    "    <param name=\"odom_alpha1\" value=\"0.2\"/>\n",
    "    <param name=\"odom_alpha2\" value=\"0.2\"/>\n",
    "    <!-- translation std dev, m -->\n",
    "    <param name=\"odom_alpha3\" value=\"0.2\"/>\n",
    "    <param name=\"odom_alpha4\" value=\"0.2\"/>\n",
    "    <param name=\"laser_z_hit\" value=\"0.5\"/>\n",
    "    <param name=\"laser_z_short\" value=\"0.05\"/>\n",
    "    <param name=\"laser_z_max\" value=\"0.05\"/>\n",
    "    <param name=\"laser_z_rand\" value=\"0.5\"/>\n",
    "    <param name=\"laser_sigma_hit\" value=\"0.2\"/>\n",
    "    <param name=\"laser_lambda_short\" value=\"0.1\"/>\n",
    "    <param name=\"laser_model_type\" value=\"likelihood_field\"/>\n",
    "    <!-- <param name=\"laser_model_type\" value=\"beam\"/> -->\n",
    "    <param name=\"laser_likelihood_max_dist\" value=\"2.0\"/>\n",
    "    <param name=\"update_min_d\" value=\"0.25\"/>\n",
    "    <param name=\"update_min_a\" value=\"0.2\"/>\n",
    "    <param name=\"odom_frame_id\" value=\"odom\"/>\n",
    "    <param name=\"resample_interval\" value=\"1\"/>\n",
    "    <!-- Increase tolerance because the computer can get quite busy -->\n",
    "    <param name=\"transform_tolerance\" value=\"1.0\"/>\n",
    "    <param name=\"recovery_alpha_slow\" value=\"0.0\"/>\n",
    "    <param name=\"recovery_alpha_fast\" value=\"0.0\"/>\n",
    "    <remap from=\"scan\" to=\"$(arg scan_topic)\"/>    \n",
    "  </node>\n",
    "\n",
    "</launch>\n"
   ]
  },
  {
   "cell_type": "markdown",
   "metadata": {},
   "source": [
    "<p style=\"background:#3B8F10;color:white;\" id=\"prg-2-1\">**END Launch File: my_amcl_launch.launch** </p>"
   ]
  },
  {
   "cell_type": "markdown",
   "metadata": {},
   "source": [
    "## Solution Exercise 3.10 <p id=\"SolutionExercise3-10\"></p>"
   ]
  },
  {
   "cell_type": "markdown",
   "metadata": {},
   "source": [
    "<p style=\"background:#EE9023;color:white;\">**Exercise 3.10**</p>"
   ]
  },
  {
   "cell_type": "markdown",
   "metadata": {},
   "source": [
    "<p style=\"background:#3B8F10;color:white;\" id=\"prg-2-1\">**Launch File: my_amcl_launch.launch** </p>"
   ]
  },
  {
   "cell_type": "code",
   "execution_count": null,
   "metadata": {
    "collapsed": true
   },
   "outputs": [],
   "source": [
    "<?xml version=\"1.0\"?>\n",
    "<launch>\n",
    "\n",
    "  <arg name=\"scan_topic\" default=\"scan\" />\n",
    "  <arg name=\"map_file\" default=\"$(find husky_navigation)/maps/my_map.yaml\"/>\n",
    "\n",
    "  <node name=\"map_server\" pkg=\"map_server\" type=\"map_server\" args=\"$(arg map_file)\" />\n",
    "\n",
    "  <node pkg=\"amcl\" type=\"amcl\" name=\"amcl\">\n",
    "    <rosparam file=\"$(find my_amcl_launcher)/params/my_amcl_params.yaml\" command=\"load\" />\n",
    "    <remap from=\"scan\" to=\"$(arg scan_topic)\"/>\n",
    "  </node>\n",
    "\n",
    "</launch>"
   ]
  },
  {
   "cell_type": "markdown",
   "metadata": {},
   "source": [
    "<p style=\"background:#3B8F10;color:white;\" id=\"prg-2-1\">**END Launch File: my_amcl_launch.launch** </p>"
   ]
  },
  {
   "cell_type": "markdown",
   "metadata": {},
   "source": [
    "<p style=\"background:#3B8F10;color:white;\" id=\"prg-2-1\">**Params File: my_amcl_params.yaml** </p>"
   ]
  },
  {
   "cell_type": "code",
   "execution_count": null,
   "metadata": {
    "collapsed": true
   },
   "outputs": [],
   "source": [
    "use_map_topic: true\n",
    "odom_model_type: diff\n",
    "odom_frame_id: odom\n",
    "\n",
    "gui_publish_rate: 10.0\n",
    "min_particles: 500\n",
    "max_particles: 2000\n",
    "kld_err: 0.05\n",
    "update_min_d: 0.25\n",
    "update_min_a: 0.2\n",
    "resample_interval: 1\n",
    "transform_tolerance: 1.0\n",
    "\n",
    "laser_max_beams: 60\n",
    "laser_max_range: 12.0\n",
    "laser_z_hit: 0.5\n",
    "laser_z_short: 0.05\n",
    "laser_z_max: 0.05\n",
    "laser_z_rand: 0.5"
   ]
  },
  {
   "cell_type": "markdown",
   "metadata": {},
   "source": [
    "<p style=\"background:#3B8F10;color:white;\" id=\"prg-2-1\">**END Params File: my_amcl_params.yaml** </p>"
   ]
  },
  {
   "cell_type": "markdown",
   "metadata": {},
   "source": [
    "## Solution Exercise 3.11 <p id=\"SolutionExercise3-11\"></p>"
   ]
  },
  {
   "cell_type": "markdown",
   "metadata": {},
   "source": [
    "<p style=\"background:#EE9023;color:white;\">**Exercise 3.11**</p>"
   ]
  },
  {
   "cell_type": "markdown",
   "metadata": {},
   "source": [
    "<p style=\"background:#3B8F10;color:white;\" id=\"prg-2-1\">**Launch File: init_particles_caller.launch** </p>"
   ]
  },
  {
   "cell_type": "code",
   "execution_count": null,
   "metadata": {
    "collapsed": true
   },
   "outputs": [],
   "source": [
    "<launch>\n",
    "    <node pkg=\"initialize_particles\" type=\"init_particles_caller.py\" name=\"service_client\" output=\"screen\">\n",
    "        \n",
    "    </node>\n",
    "</launch>"
   ]
  },
  {
   "cell_type": "markdown",
   "metadata": {},
   "source": [
    "<p style=\"background:#3B8F10;color:white;\" id=\"prg-2-1\">**END Launch File: init_particles_caller.launch** </p>"
   ]
  },
  {
   "cell_type": "markdown",
   "metadata": {},
   "source": [
    "<p style=\"background:#3B8F10;color:white;\" id=\"prg-2-1\">**Python File: init_particles_caller.py** </p>"
   ]
  },
  {
   "cell_type": "code",
   "execution_count": null,
   "metadata": {
    "collapsed": true
   },
   "outputs": [],
   "source": [
    "#! /usr/bin/env python\n",
    "\n",
    "import rospy\n",
    "from std_srvs.srv import Empty, EmptyRequest\n",
    "import sys \n",
    "\n",
    "rospy.init_node('service_client')\n",
    "rospy.wait_for_service('/global_localization')\n",
    "disperse_particles_service = rospy.ServiceProxy('/global_localization', Empty)\n",
    "msg = EmptyRequest()\n",
    "result = disperse_particles_service(msg)\n",
    "print result"
   ]
  },
  {
   "cell_type": "markdown",
   "metadata": {},
   "source": [
    "<p style=\"background:#3B8F10;color:white;\" id=\"prg-2-1\">**END Python File: init_particles_caller.py** </p>"
   ]
  }
 ],
 "metadata": {
  "anaconda-cloud": {},
  "kernelspec": {
   "display_name": "Python [Root]",
   "language": "python",
   "name": "Python [Root]"
  },
  "language_info": {
   "codemirror_mode": {
    "name": "ipython",
    "version": 2
   },
   "file_extension": ".py",
   "mimetype": "text/x-python",
   "name": "python",
   "nbconvert_exporter": "python",
   "pygments_lexer": "ipython2",
   "version": "2.7.12"
  }
 },
 "nbformat": 4,
 "nbformat_minor": 0
}
