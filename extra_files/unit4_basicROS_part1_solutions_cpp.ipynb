{
 "cells": [
  {
   "cell_type": "markdown",
   "metadata": {},
   "source": [
    "## Solutions for Unit 4 Actions Part 1"
   ]
  },
  {
   "cell_type": "markdown",
   "metadata": {},
   "source": [
    "<img src=\"../img/robotignite_logo_text.png\"/>"
   ]
  },
  {
   "cell_type": "markdown",
   "metadata": {},
   "source": [
    "## Index: "
   ]
  },
  {
   "cell_type": "markdown",
   "metadata": {},
   "source": [
    "* <a href=\"#SolutionExercise4-6\">Solution Exercise 4.6</a>"
   ]
  },
  {
   "cell_type": "markdown",
   "metadata": {},
   "source": [
    "## Solution Exercise 4.6 <p id=\"SolutionExercise4-6\"></p>"
   ]
  },
  {
   "cell_type": "markdown",
   "metadata": {},
   "source": [
    "<p style=\"background:#EE9023;color:white;\">**Exercise 4.6**</p>"
   ]
  },
  {
   "cell_type": "markdown",
   "metadata": {},
   "source": [
    "For this exercise, we will assume that our package is called **exercise_46**, our launch file is called **move_drone.launch**, and our C++ file is called **move_drone.cpp**."
   ]
  },
  {
   "cell_type": "markdown",
   "metadata": {},
   "source": [
    "First of all, you have to make sure that the Action Server is up and running. Otherwise, you won't be able to complete this exercise. For that, you can execute the following command:"
   ]
  },
  {
   "cell_type": "code",
   "execution_count": null,
   "metadata": {
    "collapsed": true
   },
   "outputs": [],
   "source": [
    "rostopic list | grep ardrone_action_server"
   ]
  },
  {
   "cell_type": "markdown",
   "metadata": {},
   "source": [
    "If the Action Server is running, you will see this:"
   ]
  },
  {
   "cell_type": "markdown",
   "metadata": {},
   "source": [
    "<img src=\"../img/ardrone_as_sol.png\" width=\"600\" />"
   ]
  },
  {
   "cell_type": "markdown",
   "metadata": {},
   "source": [
    "If you don't get this output, it means that your Action Server is not running, so you will have to launch it. For that, just execute the following command:"
   ]
  },
  {
   "cell_type": "code",
   "execution_count": null,
   "metadata": {
    "collapsed": true
   },
   "outputs": [],
   "source": [
    "roslaunch ardrone_as action_server.launch"
   ]
  },
  {
   "cell_type": "markdown",
   "metadata": {},
   "source": [
    "When you are sure that the Action Server is running, you can then proceed with the Exercise. Below you can check a possible solution to this Exercise."
   ]
  },
  {
   "cell_type": "markdown",
   "metadata": {},
   "source": [
    "<p style=\"background:#3B8F10;color:white;\" id=\"prg-2-1\">**Launch File: move_drone.launch** </p>"
   ]
  },
  {
   "cell_type": "code",
   "execution_count": null,
   "metadata": {
    "collapsed": true
   },
   "outputs": [],
   "source": [
    "<launch>\n",
    "    <node pkg=\"exercise_46\" type=\"move_drone\" name=\"drone_action_client\" output=\"screen\" />\n",
    "</launch>"
   ]
  },
  {
   "cell_type": "markdown",
   "metadata": {},
   "source": [
    "<p style=\"background:#3B8F10;color:white;\" id=\"prg-2-1\">**END Launch File: move_drone.launch** </p>"
   ]
  },
  {
   "cell_type": "markdown",
   "metadata": {},
   "source": [
    "<p style=\"background:#3B8F10;color:white;\" id=\"prg-2-1\">**C++ File: move_drone.cpp** </p>"
   ]
  },
  {
   "cell_type": "code",
   "execution_count": null,
   "metadata": {
    "collapsed": true
   },
   "outputs": [],
   "source": [
    "#include <ros/ros.h>\n",
    "#include <ardrone_as/ArdroneAction.h> // Note: \"Action\" is appended\n",
    "#include <actionlib/client/simple_action_client.h>\n",
    "#include <geometry_msgs/Twist.h>\n",
    "#include <std_msgs/Empty.h>\n",
    "\n",
    "int nImage = 0;\n",
    "\n",
    "void doneCb(const actionlib::SimpleClientGoalState& state,\n",
    "            const ardrone_as::ArdroneResultConstPtr& result)\n",
    "{\n",
    "  ROS_INFO(\"[State Result]: %s\", state.toString().c_str());\n",
    "  ROS_INFO(\"The Action has been completed\");\n",
    "  //ros::shutdown();\n",
    "}\n",
    "\n",
    "// Called once when the goal becomes active\n",
    "void activeCb()\n",
    "{\n",
    "  ROS_INFO(\"Goal just went active\");\n",
    "}\n",
    "\n",
    "void feedbackCb(const ardrone_as::ArdroneFeedbackConstPtr& feedback)\n",
    "{\n",
    "  ROS_INFO(\"[Feedback] image n.%d received\", nImage);\n",
    "  ++nImage;\n",
    "}\n",
    "\n",
    "int main(int argc, char** argv)\n",
    "{\n",
    "  ros::init(argc, argv, \"drone_action_client\");\n",
    "  ros::NodeHandle nh;\n",
    "  \n",
    "  actionlib::SimpleActionClient<ardrone_as::ArdroneAction> client(\"ardrone_action_server\", true);\n",
    "  client.waitForServer();\n",
    "    \n",
    "  ros::Publisher move = nh.advertise<geometry_msgs::Twist>(\"/cmd_vel\", 1000);\n",
    "  geometry_msgs::Twist move_msg;\n",
    "  ros::Publisher takeoff = nh.advertise<std_msgs::Empty>(\"/drone/takeoff\", 1000);\n",
    "  std_msgs::Empty takeoff_msg;\n",
    "  ros::Publisher land = nh.advertise<std_msgs::Empty>(\"/drone/land\", 1000);\n",
    "  std_msgs::Empty land_msg;\n",
    "\n",
    "  ardrone_as::ArdroneGoal goal;\n",
    "  goal.nseconds = 10;\n",
    "  \n",
    "  client.sendGoal(goal, &doneCb, &activeCb, &feedbackCb);\n",
    "  //client.waitForResult();\n",
    "  \n",
    "  ros::Rate loop_rate(1);\n",
    "  actionlib::SimpleClientGoalState state_result = client.getState();\n",
    "  ROS_INFO(\"[State Result]: %s\", state_result.toString().c_str());\n",
    "  \n",
    "  int i = 0;\n",
    "  while (i < 4)\n",
    "  {\n",
    "      takeoff.publish(takeoff_msg);\n",
    "      ROS_INFO(\"Taking Off Drone...\");\n",
    "      loop_rate.sleep();\n",
    "      i++;\n",
    "  }\n",
    "    \n",
    "  while ( state_result == actionlib::SimpleClientGoalState::ACTIVE || state_result == actionlib::SimpleClientGoalState::PENDING )\n",
    "  {\n",
    "    ROS_INFO(\"Moving drone around while waiting for the Server to give a result...\");\n",
    "    move_msg.linear.x = 1;\n",
    "    move_msg.angular.z = 1;\n",
    "    move.publish(move_msg);\n",
    "    loop_rate.sleep();\n",
    "    state_result = client.getState();\n",
    "    ROS_INFO(\"[State Result]: %s\", state_result.toString().c_str());\n",
    "  }\n",
    "  \n",
    "  i = 0;\n",
    "  while (i < 4)\n",
    "  {\n",
    "      move_msg.linear.x = 0;\n",
    "      move_msg.angular.z = 0;\n",
    "      move.publish(move_msg);\n",
    "      land.publish(land_msg);\n",
    "      ROS_INFO(\"Landing Drone...\");\n",
    "      loop_rate.sleep();\n",
    "      i++;\n",
    "  }\n",
    "    \n",
    "  return 0;\n",
    "}"
   ]
  },
  {
   "cell_type": "markdown",
   "metadata": {},
   "source": [
    "<p style=\"background:#3B8F10;color:white;\" id=\"prg-2-1\">**END C++ File: move_drone.cpp** </p>"
   ]
  },
  {
   "cell_type": "markdown",
   "metadata": {},
   "source": [
    "So, as you can see in the above code, the logic of the C++ code is quite simple:\n",
    "\n",
    "* During the first 3 seconds, the drone will takeoff.\n",
    "* Then, it will begin to move doing circles until the Action finishes\n",
    "* When the Action finished, the drone will land"
   ]
  },
  {
   "cell_type": "markdown",
   "metadata": {},
   "source": [
    "<img src=\"../img/move_drone_sol.gif\" width=\"600\" />"
   ]
  }
 ],
 "metadata": {
  "anaconda-cloud": {},
  "kernelspec": {
   "display_name": "Python [Root]",
   "language": "python",
   "name": "Python [Root]"
  },
  "language_info": {
   "codemirror_mode": {
    "name": "ipython",
    "version": 2
   },
   "file_extension": ".py",
   "mimetype": "text/x-python",
   "name": "python",
   "nbconvert_exporter": "python",
   "pygments_lexer": "ipython2",
   "version": "2.7.12"
  }
 },
 "nbformat": 4,
 "nbformat_minor": 0
}
