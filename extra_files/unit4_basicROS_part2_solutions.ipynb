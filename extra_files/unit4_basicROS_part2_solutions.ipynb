{
 "cells": [
  {
   "cell_type": "markdown",
   "metadata": {},
   "source": [
    "## Solutions for Unit 4 Actions Part 2"
   ]
  },
  {
   "cell_type": "markdown",
   "metadata": {},
   "source": [
    "<img src=\"../img/robotignite_logo_text.png\"/>"
   ]
  },
  {
   "cell_type": "markdown",
   "metadata": {},
   "source": [
    "## Index: "
   ]
  },
  {
   "cell_type": "markdown",
   "metadata": {},
   "source": [
    "* <a href=\"#SolutionExercise4-13\">Solution Exercise 4.13</a>\n",
    "* <a href=\"#SolutionExercise4-14\">Solution Exercise 4.14</a>"
   ]
  },
  {
   "cell_type": "markdown",
   "metadata": {},
   "source": [
    "## Solution Exercise 4.13 <p id=\"SolutionExercise4-13\"></p>"
   ]
  },
  {
   "cell_type": "markdown",
   "metadata": {},
   "source": [
    "<p style=\"background:#EE9023;color:white;\">**Exercise 4.13**</p>"
   ]
  },
  {
   "cell_type": "markdown",
   "metadata": {},
   "source": [
    "For this exercise, we will assume that our package is called **exercise_413**, our launch file is called **move_drone_square.launch**, and our Python file is called **move_drone_square.py**."
   ]
  },
  {
   "cell_type": "markdown",
   "metadata": {},
   "source": [
    "<p style=\"background:#3B8F10;color:white;\" id=\"prg-2-1\">**Launch File: move_drone_square.launch** </p>"
   ]
  },
  {
   "cell_type": "code",
   "execution_count": null,
   "metadata": {
    "collapsed": true
   },
   "outputs": [],
   "source": [
    "<launch>\n",
    "    <node pkg=\"exercise_413\" type=\"move_drone_square.py\" name=\"move_drone_square\" output=\"screen\" />\n",
    "</launch>"
   ]
  },
  {
   "cell_type": "markdown",
   "metadata": {},
   "source": [
    "<p style=\"background:#3B8F10;color:white;\" id=\"prg-2-1\">**END Launch File: move_drone_square.launch** </p>"
   ]
  },
  {
   "cell_type": "markdown",
   "metadata": {},
   "source": [
    "<p style=\"background:#3B8F10;color:white;\" id=\"prg-2-1\">**Python File: move_drone_square.py** </p>"
   ]
  },
  {
   "cell_type": "code",
   "execution_count": null,
   "metadata": {
    "collapsed": true
   },
   "outputs": [],
   "source": [
    "#! /usr/bin/env python\n",
    "import rospy\n",
    "import time\n",
    "import actionlib\n",
    "\n",
    "from actionlib.msg import TestFeedback, TestResult, TestAction\n",
    "from geometry_msgs.msg import Twist\n",
    "from std_msgs.msg import Empty\n",
    "\n",
    "class MoveSquareClass(object):\n",
    "    \n",
    "  # create messages that are used to publish feedback/result\n",
    "  _feedback = TestFeedback()\n",
    "  _result   = TestResult()\n",
    "\n",
    "  def __init__(self):\n",
    "    # creates the action server\n",
    "    self._as = actionlib.SimpleActionServer(\"move_drone_square_as\", TestAction, self.goal_callback, False)\n",
    "    self._as.start()\n",
    "    self.ctrl_c = False\n",
    "    self.rate = rospy.Rate(10)\n",
    "    \n",
    "  \n",
    "  def publish_once_in_cmd_vel(self, cmd):\n",
    "    \"\"\"\n",
    "    This is because publishing in topics sometimes fails teh first time you publish.\n",
    "    In continuos publishing systems there is no big deal but in systems that publish only\n",
    "    once it IS very important.\n",
    "    \"\"\"\n",
    "    while not self.ctrl_c:\n",
    "        connections = self._pub_cmd_vel.get_num_connections()\n",
    "        if connections > 0:\n",
    "            self._pub_cmd_vel.publish(cmd)\n",
    "            rospy.loginfo(\"Publish in cmd_vel...\")\n",
    "            break\n",
    "        else:\n",
    "            self.rate.sleep()\n",
    "            \n",
    "  # function that stops the drone from any movement\n",
    "  def stop_drone(self):\n",
    "    rospy.loginfo(\"Stopping...\")\n",
    "    self._move_msg.linear.x = 0.0\n",
    "    self._move_msg.angular.z = 0.0\n",
    "    self.publish_once_in_cmd_vel(self._move_msg)\n",
    "        \n",
    "  # function that makes the drone turn 90 degrees\n",
    "  def turn_drone(self):\n",
    "    rospy.loginfo(\"Turning...\")\n",
    "    self._move_msg.linear.x = 0.0\n",
    "    self._move_msg.angular.z = 1.0\n",
    "    self.publish_once_in_cmd_vel(self._move_msg)\n",
    "    \n",
    "  # function that makes the drone move forward\n",
    "  def move_forward_drone(self):\n",
    "    rospy.loginfo(\"Moving forward...\")\n",
    "    self._move_msg.linear.x = 1.0\n",
    "    self._move_msg.angular.z = 0.0\n",
    "    self.publish_once_in_cmd_vel(self._move_msg)\n",
    "    \n",
    "  def goal_callback(self, goal):\n",
    "    # this callback is called when the action server is called.\n",
    "    # this is the function that computes the Fibonacci sequence\n",
    "    # and returns the sequence to the node that called the action server\n",
    "    \n",
    "    # helper variables\n",
    "    r = rospy.Rate(1)\n",
    "    success = True\n",
    "    \n",
    "    # define the different publishers and messages that will be used\n",
    "    self._pub_cmd_vel = rospy.Publisher('/cmd_vel', Twist, queue_size=1)\n",
    "    self._move_msg = Twist()\n",
    "    self._pub_takeoff = rospy.Publisher('/drone/takeoff', Empty, queue_size=1)\n",
    "    self._takeoff_msg = Empty()\n",
    "    self._pub_land = rospy.Publisher('/drone/land', Empty, queue_size=1)\n",
    "    self._land_msg = Empty()\n",
    "    \n",
    "    # make the drone takeoff\n",
    "    i=0\n",
    "    while not i == 3:\n",
    "        self._pub_takeoff.publish(self._takeoff_msg)\n",
    "        rospy.loginfo('Taking off...')\n",
    "        time.sleep(1)\n",
    "        i += 1\n",
    "    \n",
    "    # define the seconds to move in each side of the square (which is taken from the goal) and the seconds to turn\n",
    "    sideSeconds = goal.goal\n",
    "    turnSeconds = 1.8\n",
    "    \n",
    "    i = 0\n",
    "    for i in xrange(0, 4):\n",
    "    \n",
    "      # check that preempt (cancelation) has not been requested by the action client\n",
    "      if self._as.is_preempt_requested():\n",
    "        rospy.loginfo('The goal has been cancelled/preempted')\n",
    "        # the following line, sets the client in preempted state (goal cancelled)\n",
    "        self._as.set_preempted()\n",
    "        success = False\n",
    "        # we end the calculation of the Fibonacci sequence\n",
    "        break\n",
    "    \n",
    "      # Logic that makes the robot move forward and turn\n",
    "      self.move_forward_drone()\n",
    "      time.sleep(sideSeconds)\n",
    "      self.turn_drone()\n",
    "      time.sleep(turnSeconds)\n",
    "      \n",
    "      # build and publish the feedback message\n",
    "      self._feedback.feedback = i\n",
    "      self._as.publish_feedback(self._feedback)\n",
    "      # the sequence is computed at 1 Hz frequency\n",
    "      r.sleep()\n",
    "    \n",
    "    # at this point, either the goal has been achieved (success==true)\n",
    "    # or the client preempted the goal (success==false)\n",
    "    # If success, then we publish the final result\n",
    "    # If not success, we do not publish anything in the result\n",
    "    if success:\n",
    "      self._result.result = (sideSeconds*4) + (turnSeconds*4)\n",
    "      rospy.loginfo('The total seconds it took the drone to perform the square was %i' % self._result.result )\n",
    "      self._as.set_succeeded(self._result)\n",
    "        \n",
    "      # make the drone stop and land\n",
    "      self.stop_drone()\n",
    "      i=0\n",
    "      while not i == 3:\n",
    "          self._pub_land.publish(self._land_msg)\n",
    "          rospy.loginfo('Landing...')\n",
    "          time.sleep(1)\n",
    "          i += 1\n",
    "      \n",
    "if __name__ == '__main__':\n",
    "  rospy.init_node('move_square')\n",
    "  MoveSquareClass()\n",
    "  rospy.spin()"
   ]
  },
  {
   "cell_type": "markdown",
   "metadata": {},
   "source": [
    "<p style=\"background:#3B8F10;color:white;\" id=\"prg-2-1\">**END Python File: move_drone_square.py** </p>"
   ]
  },
  {
   "cell_type": "markdown",
   "metadata": {},
   "source": [
    "As you can see, in the above code we are using the seconds to move in each side of the square in order to define if the square will be bigger or smaller. So, for more seconds defined in the goal, the square will be bigger. This could be done in many ways, like checking the odometry to identify the distance the drone is actually moving, but that's quite more complex, and it's not the purpose of the exercise. The purpose of this Exercise is that you learn how to build a proper Action Server, and interact with the goal, feedback and result of the Action."
   ]
  },
  {
   "cell_type": "markdown",
   "metadata": {},
   "source": [
    "In order to test this code, you have to first launch the Action Server (which is defined in the aboce Python file). You can do that by using the following command:"
   ]
  },
  {
   "cell_type": "code",
   "execution_count": null,
   "metadata": {
    "collapsed": true
   },
   "outputs": [],
   "source": [
    "roslaunch exercise_413 move_drone_saquare.launch"
   ]
  },
  {
   "cell_type": "markdown",
   "metadata": {},
   "source": [
    "Now, if you execute the following command:"
   ]
  },
  {
   "cell_type": "code",
   "execution_count": null,
   "metadata": {
    "collapsed": true
   },
   "outputs": [],
   "source": [
    "rostopic list | grep move_drone_square"
   ]
  },
  {
   "cell_type": "markdown",
   "metadata": {},
   "source": [
    "You will see something like this:"
   ]
  },
  {
   "cell_type": "markdown",
   "metadata": {},
   "source": [
    "<img src=\"../img/move_drone_square_as.png\" width=\"600\" />"
   ]
  },
  {
   "cell_type": "markdown",
   "metadata": {},
   "source": [
    "This means you Action Server is up and ready to receive a goal."
   ]
  },
  {
   "cell_type": "markdown",
   "metadata": {},
   "source": [
    "So now, let's publish a goal to this Action Server. You can do this by two methods (as you saw in the Part 1 of the Actions notebooks):"
   ]
  },
  {
   "cell_type": "markdown",
   "metadata": {},
   "source": [
    "* Creating an Action Client\n",
    "* Publishing a goal directly through the action topics"
   ]
  },
  {
   "cell_type": "markdown",
   "metadata": {},
   "source": [
    "For this case, let's use the 2nd method. You should then publish a message to the **move_drone_square_as/goal** topic, just like this:"
   ]
  },
  {
   "cell_type": "markdown",
   "metadata": {},
   "source": [
    "<img src=\"../img/goal_square_sol.png\" width=\"800\" />"
   ]
  },
  {
   "cell_type": "markdown",
   "metadata": {},
   "source": [
    "You will see the drone doing something like this:"
   ]
  },
  {
   "cell_type": "markdown",
   "metadata": {},
   "source": [
    "<img src=\"../img/drone_square_sol.gif\" width=\"600\" />"
   ]
  },
  {
   "cell_type": "markdown",
   "metadata": {},
   "source": [
    "Finally, you can check the **feedback** and **result** topics of the Action, to check if they're publishing the desired values."
   ]
  },
  {
   "cell_type": "code",
   "execution_count": null,
   "metadata": {
    "collapsed": true
   },
   "outputs": [],
   "source": [
    "rostopic echo /move_drone_square_as/feedback"
   ]
  },
  {
   "cell_type": "markdown",
   "metadata": {},
   "source": [
    "<img src=\"../img/feedback_square_sol.png\" width=\"600\" />"
   ]
  },
  {
   "cell_type": "code",
   "execution_count": null,
   "metadata": {
    "collapsed": true
   },
   "outputs": [],
   "source": [
    "rostopic echo /move_drone_square_as/result"
   ]
  },
  {
   "cell_type": "markdown",
   "metadata": {},
   "source": [
    "<img src=\"../img/result_square_sol.png\" width=\"600\" />"
   ]
  },
  {
   "cell_type": "markdown",
   "metadata": {},
   "source": [
    "## Solution Exercise 4.14 <p id=\"SolutionExercise4-14\"></p>"
   ]
  },
  {
   "cell_type": "markdown",
   "metadata": {},
   "source": [
    "<p style=\"background:#EE9023;color:white;\">**Exercise 4.14**</p>"
   ]
  },
  {
   "cell_type": "markdown",
   "metadata": {},
   "source": [
    "For this exercise, we will assume that our package is called **exercise_414**, our launch file is called **action_custom_msg.launch**, and our Python file is called **action_custom_msg.py**."
   ]
  },
  {
   "cell_type": "markdown",
   "metadata": {},
   "source": [
    "So, for the exercise 4.14, we will have to create a custom action message that will defines the movement of the drone by using a string, that can be **UP** or **DOWN**. As feedback, it will also return a string indicating which action is taking place at the moment. As a result, it will return nothing."
   ]
  },
  {
   "cell_type": "markdown",
   "metadata": {},
   "source": [
    "For that, the first you will have to do is to create a folder called **action** inside the **exercise_414** package."
   ]
  },
  {
   "cell_type": "code",
   "execution_count": null,
   "metadata": {
    "collapsed": true
   },
   "outputs": [],
   "source": [
    "roscd exercise_414\n",
    "mkdir action"
   ]
  },
  {
   "cell_type": "markdown",
   "metadata": {},
   "source": [
    "Then, isnide this **action** folder, you will have to create a file called **CustomActionMsg.action**, with the following content inside it:"
   ]
  },
  {
   "cell_type": "markdown",
   "metadata": {},
   "source": [
    "<p style=\"background:#3B8F10;color:white;\" id=\"prg-2-1\">**Message File: CustomActionMsg.action** </p>"
   ]
  },
  {
   "cell_type": "code",
   "execution_count": null,
   "metadata": {
    "collapsed": true
   },
   "outputs": [],
   "source": [
    "string goal\n",
    "---\n",
    "---\n",
    "string feedback"
   ]
  },
  {
   "cell_type": "markdown",
   "metadata": {},
   "source": [
    "<p style=\"background:#3B8F10;color:white;\" id=\"prg-2-1\">**END Message File: CustomActionMsg.action** </p>"
   ]
  },
  {
   "cell_type": "markdown",
   "metadata": {},
   "source": [
    "As you can see, we define both the goal and the feedback as strings, while we leave the result in blank."
   ]
  },
  {
   "cell_type": "markdown",
   "metadata": {},
   "source": [
    "Then, you will also have to modify the **CMakeLists.txt** and **package.xml** files, as it is described in the Actions Notebooks. If you are lost and don't know how to proceed, below you can check working examples of this files:"
   ]
  },
  {
   "cell_type": "markdown",
   "metadata": {},
   "source": [
    "<p style=\"background:#3B8F10;color:white;\" id=\"prg-2-1\">**CMakeLists.txt** </p>"
   ]
  },
  {
   "cell_type": "code",
   "execution_count": null,
   "metadata": {
    "collapsed": true
   },
   "outputs": [],
   "source": [
    "cmake_minimum_required(VERSION 2.8.3)\n",
    "project(exercise_414)\n",
    "\n",
    "## Find catkin macros and libraries\n",
    "## if COMPONENTS list like find_package(catkin REQUIRED COMPONENTS xyz)\n",
    "## is used, also find other catkin packages\n",
    "find_package(catkin REQUIRED COMPONENTS\n",
    "  std_msgs \n",
    "  actionlib_msgs\n",
    ")\n",
    "\n",
    "## Generate actions in the 'action' folder\n",
    "add_action_files(\n",
    "   FILES\n",
    "   CustomActionMsg.action\n",
    " )\n",
    "\n",
    "## Generate added messages and services with any dependencies listed here\n",
    "generate_messages(\n",
    "   DEPENDENCIES\n",
    "   std_msgs actionlib_msgs\n",
    " )\n",
    "\n",
    "catkin_package(\n",
    " CATKIN_DEPENDS rospy\n",
    ")\n",
    "\n",
    "## Specify additional locations of header files\n",
    "## Your package locations should be listed before other locations\n",
    "# include_directories(include)\n",
    "include_directories(\n",
    "  ${catkin_INCLUDE_DIRS}\n",
    ")"
   ]
  },
  {
   "cell_type": "markdown",
   "metadata": {},
   "source": [
    "<p style=\"background:#3B8F10;color:white;\" id=\"prg-2-1\">**END CMakeLists.txt** </p>"
   ]
  },
  {
   "cell_type": "markdown",
   "metadata": {},
   "source": [
    "<p style=\"background:#3B8F10;color:white;\" id=\"prg-2-1\">**package.xml** </p>"
   ]
  },
  {
   "cell_type": "code",
   "execution_count": null,
   "metadata": {
    "collapsed": true
   },
   "outputs": [],
   "source": [
    "<?xml version=\"1.0\"?>\n",
    "<package>\n",
    "  <name>exercise_414</name>\n",
    "  <version>0.0.0</version>\n",
    "  <description>The exercise_414 package</description>\n",
    "  <maintainer email=\"user@todo.todo\">user</maintainer>\n",
    "  <license>TODO</license>\n",
    "\n",
    "  <buildtool_depend>catkin</buildtool_depend>\n",
    "  <build_depend>std_msgs</build_depend>\n",
    "  <build_depend>actionlib_msgs</build_depend>\n",
    "  \n",
    "  <run_depend>rospy</run_depend>\n",
    "\n",
    "  <export>\n",
    "  </export>\n",
    "</package>"
   ]
  },
  {
   "cell_type": "markdown",
   "metadata": {},
   "source": [
    "<p style=\"background:#3B8F10;color:white;\" id=\"prg-2-1\">**END package.xml** </p>"
   ]
  },
  {
   "cell_type": "markdown",
   "metadata": {},
   "source": [
    "Once all of these is done, you will need to compile your package and source **ALL the webwhells** that you are going to use so that ROS can find the new Messages."
   ]
  },
  {
   "cell_type": "markdown",
   "metadata": {},
   "source": [
    "roscd\n",
    "cd ..\n",
    "catkin_make\n",
    "source devel/setup.bash"
   ]
  },
  {
   "cell_type": "markdown",
   "metadata": {},
   "source": [
    "And finally, check if you can find your new message:"
   ]
  },
  {
   "cell_type": "code",
   "execution_count": null,
   "metadata": {
    "collapsed": true
   },
   "outputs": [],
   "source": [
    "rosmsg list | grep CustomActionMsg"
   ]
  },
  {
   "cell_type": "markdown",
   "metadata": {},
   "source": [
    "You should see something like this:"
   ]
  },
  {
   "cell_type": "code",
   "execution_count": null,
   "metadata": {
    "collapsed": true
   },
   "outputs": [],
   "source": [
    "exercise_414/CustomActionMsgAction\n",
    "exercise_414/CustomActionMsgActionFeedback\n",
    "exercise_414/CustomActionMsgActionGoal\n",
    "exercise_414/CustomActionMsgActionResult\n",
    "exercise_414/CustomActionMsgFeedback\n",
    "exercise_414/CustomActionMsgGoal\n",
    "exercise_414/CustomActionMsgResult"
   ]
  },
  {
   "cell_type": "markdown",
   "metadata": {},
   "source": [
    "Once this is done and working, you can proceed to create the Action Server that will use this new message. Below you can check both the launch file and the Python file:"
   ]
  },
  {
   "cell_type": "markdown",
   "metadata": {},
   "source": [
    "<p style=\"background:#3B8F10;color:white;\" id=\"prg-2-1\">**Launch File: action_custom_msg.launch** </p>"
   ]
  },
  {
   "cell_type": "code",
   "execution_count": null,
   "metadata": {
    "collapsed": true
   },
   "outputs": [],
   "source": [
    "<launch>\n",
    "    <node pkg=\"exercise_414\" type=\"action_custom_msg.py\" name=\"action_custom_msg\" output=\"screen\" />\n",
    "</launch>"
   ]
  },
  {
   "cell_type": "markdown",
   "metadata": {},
   "source": [
    "<p style=\"background:#3B8F10;color:white;\" id=\"prg-2-1\">**END Launch File: action_custom_msg.launch** </p>"
   ]
  },
  {
   "cell_type": "markdown",
   "metadata": {},
   "source": [
    "<p style=\"background:#3B8F10;color:white;\" id=\"prg-2-1\">**Python File: action_custom_msg.py** </p>"
   ]
  },
  {
   "cell_type": "code",
   "execution_count": null,
   "metadata": {
    "collapsed": true
   },
   "outputs": [],
   "source": [
    "#! /usr/bin/env python\n",
    "import rospy\n",
    "import time\n",
    "import actionlib\n",
    "\n",
    "from exercise_414.msg import CustomActionMsgFeedback, CustomActionMsgResult, CustomActionMsgAction\n",
    "from geometry_msgs.msg import Twist\n",
    "from std_msgs.msg import Empty\n",
    "\n",
    "class CustomActionMsgClass(object):\n",
    "    \n",
    "  # create messages that are used to publish feedback/result\n",
    "  _feedback = CustomActionMsgFeedback()\n",
    "  _result   = CustomActionMsgResult()\n",
    "\n",
    "  def __init__(self):\n",
    "    # creates the action server\n",
    "    self._as = actionlib.SimpleActionServer(\"action_custom_msg_as\", CustomActionMsgAction, self.goal_callback, False)\n",
    "    self._as.start()\n",
    "\n",
    "    \n",
    "  def goal_callback(self, goal):\n",
    "    # this callback is called when the action server is called.\n",
    "    # this is the function that computes the Fibonacci sequence\n",
    "    # and returns the sequence to the node that called the action server\n",
    "    \n",
    "    # helper variables\n",
    "    success = True\n",
    "    r = rospy.Rate(1)\n",
    "    \n",
    "    # define the different publishers and messages that will be used\n",
    "    self._pub_takeoff = rospy.Publisher('/drone/takeoff', Empty, queue_size=1)\n",
    "    self._takeoff_msg = Empty()\n",
    "    self._pub_land = rospy.Publisher('/drone/land', Empty, queue_size=1)\n",
    "    self._land_msg = Empty()\n",
    "    \n",
    "    # Get the goal word: UP or DOWN\n",
    "    up_or_down = goal.goal\n",
    "    \n",
    "    i = 0\n",
    "    for i in xrange(0, 4):\n",
    "    \n",
    "      # check that preempt (cancelation) has not been requested by the action client\n",
    "      if self._as.is_preempt_requested():\n",
    "        rospy.loginfo('The goal has been cancelled/preempted')\n",
    "        # the following line, sets the client in preempted state (goal cancelled)\n",
    "        self._as.set_preempted()\n",
    "        success = False\n",
    "        # we end the calculation of the Fibonacci sequence\n",
    "        break\n",
    "    \n",
    "      # Logic that makes the robot move UP or DOWN\n",
    "      if up_or_down == 'UP':\n",
    "        \n",
    "        self._pub_takeoff.publish(self._takeoff_msg)\n",
    "        self._feedback.feedback = 'Going UP'\n",
    "        self._as.publish_feedback(self._feedback)\n",
    "    \n",
    "      if up_or_down == 'DOWN':\n",
    "        \n",
    "        self._pub_land.publish(self._land_msg)\n",
    "        self._feedback.feedback = 'Going DOWN'\n",
    "        self._as.publish_feedback(self._feedback)\n",
    "    \n",
    "      # the sequence is computed at 1 Hz frequency\n",
    "      r.sleep()\n",
    "    \n",
    "    # at this point, either the goal has been achieved (success==true)\n",
    "    # or the client preempted the goal (success==false)\n",
    "    # If success, then we publish the final result\n",
    "    # If not success, we do not publish anything in the result\n",
    "    if success:\n",
    "      self._result = Empty()\n",
    "      self._as.set_succeeded(self._result)\n",
    "      \n",
    "      \n",
    "if __name__ == '__main__':\n",
    "  rospy.init_node('action_custom_msg')\n",
    "  CustomActionMsgClass()\n",
    "  rospy.spin()"
   ]
  },
  {
   "cell_type": "markdown",
   "metadata": {},
   "source": [
    "<p style=\"background:#3B8F10;color:white;\" id=\"prg-2-1\">**END Python File: action_custom_msg.py** </p>"
   ]
  },
  {
   "cell_type": "markdown",
   "metadata": {},
   "source": [
    "As you can see, in the above code we are using the **/drone/takeoff** and **/drone/land** topics in order to move UP or DOWN, since they make the drone move aproximately 1 meter. You could also use the **/cmd_vel** topic, but that's up to you."
   ]
  },
  {
   "cell_type": "markdown",
   "metadata": {},
   "source": [
    "In order to test this code, you have to first launch the Action Server (which is defined in the above Python file). You can do that by using the following command:"
   ]
  },
  {
   "cell_type": "code",
   "execution_count": null,
   "metadata": {
    "collapsed": true
   },
   "outputs": [],
   "source": [
    "roslaunch exercise_414 action_custom_msg.launch"
   ]
  },
  {
   "cell_type": "markdown",
   "metadata": {},
   "source": [
    "Now, if you execute the following command:"
   ]
  },
  {
   "cell_type": "code",
   "execution_count": null,
   "metadata": {
    "collapsed": true
   },
   "outputs": [],
   "source": [
    "rostopic list | grep action_custom_msg"
   ]
  },
  {
   "cell_type": "markdown",
   "metadata": {},
   "source": [
    "You will see something like this:"
   ]
  },
  {
   "cell_type": "markdown",
   "metadata": {},
   "source": [
    "<img src=\"../img/action_custom_msg_as.png\" width=\"600\" />"
   ]
  },
  {
   "cell_type": "markdown",
   "metadata": {},
   "source": [
    "This means you Action Server is up and ready to receive a goal."
   ]
  },
  {
   "cell_type": "markdown",
   "metadata": {},
   "source": [
    "So now, let's publish a goal to this Action Server. You can do this by two methods (as you saw in the Part 1 of the Actions notebooks):"
   ]
  },
  {
   "cell_type": "markdown",
   "metadata": {},
   "source": [
    "* Creating an Action Client\n",
    "* Publishing a goal directly through the action topics"
   ]
  },
  {
   "cell_type": "markdown",
   "metadata": {},
   "source": [
    "For this case, let's use the 2nd method. You should then publish a message to the **action_custom_msg_as/goal** topic, just like this:"
   ]
  },
  {
   "cell_type": "markdown",
   "metadata": {},
   "source": [
    "<img src=\"../img/action_custom_msg_as_goal.png\" width=\"800\" />"
   ]
  },
  {
   "cell_type": "markdown",
   "metadata": {},
   "source": [
    "You will see the drone doing something like this:"
   ]
  },
  {
   "cell_type": "markdown",
   "metadata": {},
   "source": [
    "<img src=\"../img/up_or_down1.gif\" width=\"600\" />"
   ]
  },
  {
   "cell_type": "markdown",
   "metadata": {},
   "source": [
    "<img src=\"../img/up_or_down2.gif\" width=\"600\" />"
   ]
  },
  {
   "cell_type": "markdown",
   "metadata": {},
   "source": [
    "Finally, you can check the **feedback** and **result** topics of the Action, to check if they're publishing the desired values."
   ]
  },
  {
   "cell_type": "code",
   "execution_count": null,
   "metadata": {
    "collapsed": true
   },
   "outputs": [],
   "source": [
    "rostopic echo /action_custom_msg_as/feedback"
   ]
  },
  {
   "cell_type": "markdown",
   "metadata": {},
   "source": [
    "<img src=\"../img/action_custom_msg_as_feedback.png\" width=\"600\" />"
   ]
  },
  {
   "cell_type": "markdown",
   "metadata": {},
   "source": [
    "<img src=\"../img/action_custom_msg_as_feedback2.png\" width=\"600\" />"
   ]
  },
  {
   "cell_type": "markdown",
   "metadata": {
    "collapsed": true
   },
   "source": [
    "In this case, there's no result to be shown."
   ]
  }
 ],
 "metadata": {
  "anaconda-cloud": {},
  "kernelspec": {
   "display_name": "Python [Root]",
   "language": "python",
   "name": "Python [Root]"
  },
  "language_info": {
   "codemirror_mode": {
    "name": "ipython",
    "version": 2
   },
   "file_extension": ".py",
   "mimetype": "text/x-python",
   "name": "python",
   "nbconvert_exporter": "python",
   "pygments_lexer": "ipython2",
   "version": "2.7.12"
  }
 },
 "nbformat": 4,
 "nbformat_minor": 0
}
