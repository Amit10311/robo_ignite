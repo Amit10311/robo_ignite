{
 "cells": [
  {
   "cell_type": "markdown",
   "metadata": {},
   "source": [
    "## Solutions for Unit 4 Actions Part 2"
   ]
  },
  {
   "cell_type": "markdown",
   "metadata": {},
   "source": [
    "<img src=\"../img/robotignite_logo_text.png\"/>"
   ]
  },
  {
   "cell_type": "markdown",
   "metadata": {},
   "source": [
    "## Index: "
   ]
  },
  {
   "cell_type": "markdown",
   "metadata": {},
   "source": [
    "* <a href=\"#SolutionExercise4-13\">Solution Exercise 4.13</a>\n",
    "* <a href=\"#SolutionExercise4-14\">Solution Exercise 4.14</a>"
   ]
  },
  {
   "cell_type": "markdown",
   "metadata": {},
   "source": [
    "## Solution Exercise 4.13 <p id=\"SolutionExercise4-13\"></p>"
   ]
  },
  {
   "cell_type": "markdown",
   "metadata": {},
   "source": [
    "<p style=\"background:#EE9023;color:white;\">**Exercise 4.13**</p>"
   ]
  },
  {
   "cell_type": "markdown",
   "metadata": {},
   "source": [
    "For this exercise, we will assume that our package is called **exercise_413**, our launch file is called **move_drone_square.launch**, and our C++ file is called **move_drone_square.cpp**."
   ]
  },
  {
   "cell_type": "markdown",
   "metadata": {},
   "source": [
    "<p style=\"background:#3B8F10;color:white;\" id=\"prg-2-1\">**Launch File: move_drone_square.launch** </p>"
   ]
  },
  {
   "cell_type": "code",
   "execution_count": null,
   "metadata": {
    "collapsed": true
   },
   "outputs": [],
   "source": [
    "<launch>\n",
    "    <node pkg=\"exercise_413\" type=\"move_drone_square\" name=\"move_drone_square\" output=\"screen\" />\n",
    "</launch>"
   ]
  },
  {
   "cell_type": "markdown",
   "metadata": {},
   "source": [
    "<p style=\"background:#3B8F10;color:white;\" id=\"prg-2-1\">**END Launch File: move_drone_square.launch** </p>"
   ]
  },
  {
   "cell_type": "markdown",
   "metadata": {},
   "source": [
    "<p style=\"background:#3B8F10;color:white;\" id=\"prg-2-1\">**C++ File: move_drone_square.cpp** </p>"
   ]
  },
  {
   "cell_type": "code",
   "execution_count": null,
   "metadata": {
    "collapsed": true
   },
   "outputs": [],
   "source": [
    "#include <ros/ros.h>\n",
    "#include <actionlib/server/simple_action_server.h>\n",
    "#include <actionlib/TestAction.h>\n",
    "#include <geometry_msgs/Twist.h>\n",
    "#include <std_msgs/Empty.h>\n",
    "\n",
    "class MoveSquareAction\n",
    "{\n",
    "protected:\n",
    "\n",
    "  ros::NodeHandle nh_;\n",
    "  // NodeHandle instance must be created before this line. Otherwise strange error occurs.\n",
    "  actionlib::SimpleActionServer<actionlib::TestAction> as_; \n",
    "  std::string action_name_;\n",
    "  // create messages that are used to publish feedback and result\n",
    "  actionlib::TestFeedback feedback_;\n",
    "  actionlib::TestResult result_;\n",
    "  \n",
    "  // Create needed messages\n",
    "  int rate_hz_;\n",
    "  bool success_;\n",
    "  int sideSeconds_;\n",
    "  int turnSeconds_;\n",
    "  \n",
    "  ros::Rate *rate_;      \n",
    "  ros::Publisher move_pub_;\n",
    "  geometry_msgs::Twist move_msg_;\n",
    "  ros::Publisher takeoff_pub_;\n",
    "  std_msgs::Empty takeoff_msg_;\n",
    "  ros::Publisher land_pub_;\n",
    "  std_msgs::Empty land_msg_;\n",
    "\n",
    "public:\n",
    "\n",
    "  MoveSquareAction(std::string name) :\n",
    "    as_(nh_, name, boost::bind(&MoveSquareAction::executeCB, this, _1), false),\n",
    "    action_name_(name)\n",
    "  {\n",
    "    as_.start();\n",
    "    rate_hz_ = 1;\n",
    "    success_ = true;\n",
    "    turnSeconds_ = 2;\n",
    "    \n",
    "    rate_ = new ros::Rate(rate_hz_);\n",
    "    move_pub_ = nh_.advertise<geometry_msgs::Twist>(\"/cmd_vel\", 1000);\n",
    "    takeoff_pub_ = nh_.advertise<std_msgs::Empty>(\"/drone/takeoff\", 1000);\n",
    "    land_pub_ = nh_.advertise<std_msgs::Empty>(\"/drone/land\", 1000);\n",
    "  }\n",
    "\n",
    "  ~MoveSquareAction(void)\n",
    "  {\n",
    "  }\n",
    "\n",
    "  void executeCB(const actionlib::TestGoalConstPtr &goal)\n",
    "  {\n",
    "    \n",
    "    // Takeoff the drone\n",
    "    this->takeoff_drone();\n",
    "\n",
    "    // start executing the action\n",
    "    for(int i=0; i<4; i++)\n",
    "    {\n",
    "      // check that preempt has not been requested by the client\n",
    "      if (as_.isPreemptRequested() || !ros::ok())\n",
    "      {\n",
    "        ROS_INFO(\"%s: Preempted\", action_name_.c_str());\n",
    "        // set the action state to preempted\n",
    "        as_.setPreempted();\n",
    "        success_ = false;\n",
    "        break;\n",
    "      }\n",
    "      \n",
    "      //Perdorm the square\n",
    "      sideSeconds_ = goal->goal;\n",
    "      this->move_forward_drone(sideSeconds_);\n",
    "      this->turn_drone(turnSeconds_);\n",
    "      \n",
    "            \n",
    "      feedback_.feedback = i;\n",
    "      // publish the feedback\n",
    "      as_.publishFeedback(feedback_);\n",
    "      // this sleep is not necessary, the sequence is computed at 1 Hz for demonstration purposes\n",
    "      rate_->sleep();\n",
    "    }\n",
    "\n",
    "    if(success_)\n",
    "    {\n",
    "      result_.result = (sideSeconds_*4) + (turnSeconds_*4);\n",
    "      ROS_INFO(\"The total seconds it took the drone to perform the square was %i seconds\", result_.result);\n",
    "      ROS_INFO(\"%s: Succeeded\", action_name_.c_str());\n",
    "      // set the action state to succeeded\n",
    "      as_.setSucceeded(result_);\n",
    "      // Stop and land drone\n",
    "      this->stop_drone();\n",
    "      this->land_drone();\n",
    "    }\n",
    "  }\n",
    "    \n",
    "  // Functions to control the drone    \n",
    "  void stop_drone(void)\n",
    "  {\n",
    "    ROS_INFO(\"Stopping Drone...\");\n",
    "    int i = 0;\n",
    "    while (i < 3)\n",
    "    {\n",
    "      move_msg_.linear.x = 0;\n",
    "      move_msg_.angular.z = 0;\n",
    "      move_pub_.publish(move_msg_);\n",
    "      i++;\n",
    "      rate_->sleep();\n",
    "    }\n",
    "  }\n",
    "    \n",
    "  void move_forward_drone(int side_secs)\n",
    "  {\n",
    "    ROS_INFO(\"Moving forward Drone...\");\n",
    "    int i = 0;\n",
    "    while (i < side_secs)\n",
    "    {\n",
    "      move_msg_.linear.x = 1;\n",
    "      move_msg_.angular.z = 0;\n",
    "      move_pub_.publish(move_msg_);\n",
    "      i++;\n",
    "      rate_->sleep();\n",
    "    }\n",
    "  }\n",
    "    \n",
    "  void turn_drone(int turn_secs)\n",
    "  {\n",
    "    ROS_INFO(\"Turning Drone...\");\n",
    "    int i = 0;\n",
    "    while (i < turn_secs)\n",
    "    {\n",
    "      move_msg_.linear.x = 0;\n",
    "      move_msg_.angular.z = 0.55;\n",
    "      move_pub_.publish(move_msg_);\n",
    "      i++;\n",
    "      rate_->sleep();\n",
    "    }\n",
    "  }\n",
    "  \n",
    "  void takeoff_drone(void)\n",
    "  {\n",
    "    ROS_INFO(\"Taking Off Drone...\");\n",
    "    int i = 0;\n",
    "    while (i < 4)\n",
    "    {\n",
    "      takeoff_pub_.publish(takeoff_msg_);\n",
    "      i++;\n",
    "      rate_->sleep();\n",
    "    }\n",
    "  }\n",
    "  \n",
    "  void land_drone(void)\n",
    "  {\n",
    "    ROS_INFO(\"Landing Drone...\");\n",
    "    int i = 0;\n",
    "    while (i < 4)\n",
    "    {\n",
    "      land_pub_.publish(land_msg_);\n",
    "      i++;\n",
    "      rate_->sleep();\n",
    "    }\n",
    "  }\n",
    "\n",
    "};\n",
    "\n",
    "int main(int argc, char** argv)\n",
    "{\n",
    "  ros::init(argc, argv, \"move_square_drone\");\n",
    "\n",
    "  MoveSquareAction move_square(\"move_drone_square_as\");\n",
    "  ros::spin();\n",
    "\n",
    "  return 0;\n",
    "}"
   ]
  },
  {
   "cell_type": "markdown",
   "metadata": {},
   "source": [
    "<p style=\"background:#3B8F10;color:white;\" id=\"prg-2-1\">**END C++ File: move_drone_square.cpp** </p>"
   ]
  },
  {
   "cell_type": "markdown",
   "metadata": {},
   "source": [
    "As you can see, in the above code we are using the seconds to move in each side of the square in order to define if the square will be bigger or smaller. So, for more seconds defined in the goal, the square will be bigger. This could be done in many ways, like checking the odometry to identify the distance the drone is actually moving, but that's quite more complex, and it's not the purpose of the exercise. The purpose of this Exercise is that you learn how to build a proper Action Server, and interact with the goal, feedback and result of the Action."
   ]
  },
  {
   "cell_type": "markdown",
   "metadata": {},
   "source": [
    "In order to test this code, you have to first launch the Action Server (which is defined in the above C++ file). You can do that by using the following command:"
   ]
  },
  {
   "cell_type": "code",
   "execution_count": null,
   "metadata": {
    "collapsed": true
   },
   "outputs": [],
   "source": [
    "roslaunch exercise_413 move_drone_saquare.launch"
   ]
  },
  {
   "cell_type": "markdown",
   "metadata": {},
   "source": [
    "Now, if you execute the following command:"
   ]
  },
  {
   "cell_type": "code",
   "execution_count": null,
   "metadata": {
    "collapsed": true
   },
   "outputs": [],
   "source": [
    "rostopic list | grep move_drone_square"
   ]
  },
  {
   "cell_type": "markdown",
   "metadata": {},
   "source": [
    "You will see something like this:"
   ]
  },
  {
   "cell_type": "markdown",
   "metadata": {},
   "source": [
    "<img src=\"../img/move_drone_square_as.png\" width=\"600\" />"
   ]
  },
  {
   "cell_type": "markdown",
   "metadata": {},
   "source": [
    "This means you Action Server is up and ready to receive a goal."
   ]
  },
  {
   "cell_type": "markdown",
   "metadata": {},
   "source": [
    "So now, let's publish a goal to this Action Server. You can do this by two methods (as you saw in the Part 1 of the Actions notebooks):"
   ]
  },
  {
   "cell_type": "markdown",
   "metadata": {},
   "source": [
    "* Creating an Action Client\n",
    "* Publishing a goal directly through the action topics"
   ]
  },
  {
   "cell_type": "markdown",
   "metadata": {},
   "source": [
    "For this case, let's use the 2nd method. You should then publish a message to the **move_drone_square_as/goal** topic, just like this:"
   ]
  },
  {
   "cell_type": "markdown",
   "metadata": {},
   "source": [
    "<img src=\"../img/goal_square_sol.png\" width=\"800\" />"
   ]
  },
  {
   "cell_type": "markdown",
   "metadata": {},
   "source": [
    "You will see the drone doing something like this:"
   ]
  },
  {
   "cell_type": "markdown",
   "metadata": {},
   "source": [
    "<img src=\"../img/drone_square_sol.gif\" width=\"600\" />"
   ]
  },
  {
   "cell_type": "markdown",
   "metadata": {},
   "source": [
    "Finally, you can check the **feedback** and **result** topics of the Action, to check if they're publishing the desired values."
   ]
  },
  {
   "cell_type": "code",
   "execution_count": null,
   "metadata": {
    "collapsed": true
   },
   "outputs": [],
   "source": [
    "rostopic echo /move_drone_square_as/feedback"
   ]
  },
  {
   "cell_type": "markdown",
   "metadata": {},
   "source": [
    "<img src=\"../img/feedback_square_sol.png\" width=\"600\" />"
   ]
  },
  {
   "cell_type": "code",
   "execution_count": null,
   "metadata": {
    "collapsed": true
   },
   "outputs": [],
   "source": [
    "rostopic echo /move_drone_square_as/result"
   ]
  },
  {
   "cell_type": "markdown",
   "metadata": {},
   "source": [
    "<img src=\"../img/result_square_sol.png\" width=\"600\" />"
   ]
  },
  {
   "cell_type": "markdown",
   "metadata": {},
   "source": [
    "## Solution Exercise 4.14 <p id=\"SolutionExercise4-14\"></p>"
   ]
  },
  {
   "cell_type": "markdown",
   "metadata": {},
   "source": [
    "<p style=\"background:#EE9023;color:white;\">**Exercise 4.14**</p>"
   ]
  },
  {
   "cell_type": "markdown",
   "metadata": {},
   "source": [
    "For this exercise, we will assume that our package is called **exercise_414**, our launch file is called **action_custom_msg.launch**, and our C++ file is called **action_custom_msg.cpp**."
   ]
  },
  {
   "cell_type": "markdown",
   "metadata": {},
   "source": [
    "So, for the exercise 4.14, we will have to create a custom action message that will defines the movement of the drone by using a string, that can be **UP** or **DOWN**. As feedback, it will also return a string indicating which action is taking place at the moment. As a result, it will return nothing."
   ]
  },
  {
   "cell_type": "markdown",
   "metadata": {},
   "source": [
    "For that, the first you will have to do is to create a folder called **action** inside the **exercise_414** package."
   ]
  },
  {
   "cell_type": "code",
   "execution_count": null,
   "metadata": {
    "collapsed": true
   },
   "outputs": [],
   "source": [
    "roscd exercise_414\n",
    "mkdir action"
   ]
  },
  {
   "cell_type": "markdown",
   "metadata": {},
   "source": [
    "Then, inside this **action** folder, you will have to create a file called **CustomActionMsg.action**, with the following content inside it:"
   ]
  },
  {
   "cell_type": "markdown",
   "metadata": {},
   "source": [
    "<p style=\"background:#3B8F10;color:white;\" id=\"prg-2-1\">**Message File: CustomActionMsg.action** </p>"
   ]
  },
  {
   "cell_type": "code",
   "execution_count": null,
   "metadata": {
    "collapsed": true
   },
   "outputs": [],
   "source": [
    "string goal\n",
    "---\n",
    "---\n",
    "string feedback"
   ]
  },
  {
   "cell_type": "markdown",
   "metadata": {},
   "source": [
    "<p style=\"background:#3B8F10;color:white;\" id=\"prg-2-1\">**END Message File: CustomActionMsg.action** </p>"
   ]
  },
  {
   "cell_type": "markdown",
   "metadata": {},
   "source": [
    "As you can see, we define both the goal and the feedback as strings, while we leave the result in blank."
   ]
  },
  {
   "cell_type": "markdown",
   "metadata": {},
   "source": [
    "Then, you will also have to modify the **CMakeLists.txt** and **package.xml** files, as it is described in the Actions Notebooks. If you are lost and don't know how to proceed, below you can check working examples of this files:"
   ]
  },
  {
   "cell_type": "markdown",
   "metadata": {},
   "source": [
    "<p style=\"background:#3B8F10;color:white;\" id=\"prg-2-1\">**CMakeLists.txt** </p>"
   ]
  },
  {
   "cell_type": "code",
   "execution_count": null,
   "metadata": {
    "collapsed": true
   },
   "outputs": [],
   "source": [
    "cmake_minimum_required(VERSION 2.8.3)\n",
    "project(exercise_414)\n",
    "\n",
    "find_package(catkin REQUIRED COMPONENTS\n",
    "  actionlib\n",
    "  actionlib_msgs\n",
    "  roscpp\n",
    ")\n",
    "\n",
    "## Generate actions in the 'action' folder\n",
    "add_action_files(\n",
    "   FILES\n",
    "   CustomActionMsg.action\n",
    "#   Action2.action\n",
    " )\n",
    "\n",
    "generate_messages(\n",
    "   DEPENDENCIES\n",
    "   actionlib_msgs\n",
    " )\n",
    "\n",
    "catkin_package(\n",
    "  CATKIN_DEPENDS actionlib actionlib_msgs roscpp\n",
    ")\n",
    "\n",
    "###########\n",
    "## Build ##\n",
    "###########\n",
    "\n",
    "add_executable(action_custom_msg src/action_custom_msg.cpp)\n",
    "add_dependencies(action_custom_msg ${action_custom_msg_EXPORTED_TARGETS} ${catkin_EXPORTED_TARGETS})\n",
    "target_link_libraries(action_custom_msg\n",
    "${catkin_LIBRARIES}\n",
    ")\n",
    "\n",
    "add_dependencies(action_custom_msg exercise_414_generate_messages_cpp)\n",
    "\n",
    "include_directories(\n",
    "  ${catkin_INCLUDE_DIRS}\n",
    ")\n"
   ]
  },
  {
   "cell_type": "markdown",
   "metadata": {},
   "source": [
    "<p style=\"background:#3B8F10;color:white;\" id=\"prg-2-1\">**END CMakeLists.txt** </p>"
   ]
  },
  {
   "cell_type": "markdown",
   "metadata": {},
   "source": [
    "<p style=\"background:#3B8F10;color:white;\" id=\"prg-2-1\">**package.xml** </p>"
   ]
  },
  {
   "cell_type": "code",
   "execution_count": null,
   "metadata": {
    "collapsed": true
   },
   "outputs": [],
   "source": [
    "<?xml version=\"1.0\"?>\n",
    "<package>\n",
    "  <name>exercise_414</name>\n",
    "  <version>0.0.0</version>\n",
    "  <description>The my_custom_action_msg_pkg package</description>\n",
    "  <maintainer email=\"user@todo.todo\">user</maintainer>\n",
    "  <license>TODO</license>\n",
    "\n",
    "  <buildtool_depend>catkin</buildtool_depend>\n",
    "  <build_depend>actionlib</build_depend>\n",
    "  <build_depend>actionlib_msgs</build_depend>\n",
    "  <build_depend>roscpp</build_depend>\n",
    "  <run_depend>actionlib</run_depend>\n",
    "  <run_depend>actionlib_msgs</run_depend>\n",
    "  <run_depend>roscpp</run_depend>\n",
    "\n",
    "  <export>\n",
    "  </export>\n",
    "</package>"
   ]
  },
  {
   "cell_type": "markdown",
   "metadata": {},
   "source": [
    "<p style=\"background:#3B8F10;color:white;\" id=\"prg-2-1\">**END package.xml** </p>"
   ]
  },
  {
   "cell_type": "markdown",
   "metadata": {},
   "source": [
    "Once all of these is done, you will need to compile your package and source **ALL the webwhells** that you are going to use so that ROS can find the new Messages."
   ]
  },
  {
   "cell_type": "markdown",
   "metadata": {},
   "source": [
    "roscd\n",
    "cd ..\n",
    "catkin_make\n",
    "source devel/setup.bash"
   ]
  },
  {
   "cell_type": "markdown",
   "metadata": {},
   "source": [
    "And finally, check if you can find your new message:"
   ]
  },
  {
   "cell_type": "code",
   "execution_count": null,
   "metadata": {
    "collapsed": true
   },
   "outputs": [],
   "source": [
    "rosmsg list | grep CustomActionMsg"
   ]
  },
  {
   "cell_type": "markdown",
   "metadata": {},
   "source": [
    "You should see something like this:"
   ]
  },
  {
   "cell_type": "code",
   "execution_count": null,
   "metadata": {
    "collapsed": true
   },
   "outputs": [],
   "source": [
    "exercise_414/CustomActionMsgAction\n",
    "exercise_414/CustomActionMsgActionFeedback\n",
    "exercise_414/CustomActionMsgActionGoal\n",
    "exercise_414/CustomActionMsgActionResult\n",
    "exercise_414/CustomActionMsgFeedback\n",
    "exercise_414/CustomActionMsgGoal\n",
    "exercise_414/CustomActionMsgResult"
   ]
  },
  {
   "cell_type": "markdown",
   "metadata": {},
   "source": [
    "Once this is done and working, you can proceed to create the Action Server that will use this new message. Below you can check both the launch file and the C++ file:"
   ]
  },
  {
   "cell_type": "markdown",
   "metadata": {},
   "source": [
    "<p style=\"background:#3B8F10;color:white;\" id=\"prg-2-1\">**Launch File: action_custom_msg.launch** </p>"
   ]
  },
  {
   "cell_type": "code",
   "execution_count": null,
   "metadata": {
    "collapsed": true
   },
   "outputs": [],
   "source": [
    "<launch>\n",
    "    <node pkg=\"exercise_414\" type=\"action_custom_msg\" name=\"action_custom_msg\" output=\"screen\" />\n",
    "</launch>"
   ]
  },
  {
   "cell_type": "markdown",
   "metadata": {},
   "source": [
    "<p style=\"background:#3B8F10;color:white;\" id=\"prg-2-1\">**END Launch File: action_custom_msg.launch** </p>"
   ]
  },
  {
   "cell_type": "markdown",
   "metadata": {},
   "source": [
    "<p style=\"background:#3B8F10;color:white;\" id=\"prg-2-1\">**C++ File: action_custom_msg.cpp** </p>"
   ]
  },
  {
   "cell_type": "code",
   "execution_count": null,
   "metadata": {
    "collapsed": true
   },
   "outputs": [],
   "source": [
    "#include <ros/ros.h>\n",
    "#include <actionlib/server/simple_action_server.h>\n",
    "#include <exercise_414/CustomActionMsgAction.h>\n",
    "#include <geometry_msgs/Twist.h>\n",
    "#include <std_msgs/Empty.h>\n",
    "\n",
    "class MoveSquareAction\n",
    "{\n",
    "protected:\n",
    "\n",
    "  ros::NodeHandle nh_;\n",
    "  // NodeHandle instance must be created before this line. Otherwise strange error occurs.\n",
    "  actionlib::SimpleActionServer<exercise_414::CustomActionMsgAction> as_; \n",
    "  std::string action_name_;\n",
    "  // create messages that are used to publish feedback and result\n",
    "  exercise_414::CustomActionMsgFeedback feedback_;\n",
    "  exercise_414::CustomActionMsgResult result_;\n",
    "  \n",
    "  // Create needed messages\n",
    "  int rate_hz_;\n",
    "  bool success_;\n",
    "  int sideSeconds_;\n",
    "  int turnSeconds_;\n",
    "  std::string upDown_;\n",
    "  \n",
    "  ros::Rate *rate_;      \n",
    "  ros::Publisher move_pub_;\n",
    "  geometry_msgs::Twist move_msg_;\n",
    "  ros::Publisher takeoff_pub_;\n",
    "  std_msgs::Empty takeoff_msg_;\n",
    "  ros::Publisher land_pub_;\n",
    "  std_msgs::Empty land_msg_;\n",
    "\n",
    "public:\n",
    "\n",
    "  MoveSquareAction(std::string name) :\n",
    "    as_(nh_, name, boost::bind(&MoveSquareAction::executeCB, this, _1), false),\n",
    "    action_name_(name)\n",
    "  {\n",
    "    as_.start();\n",
    "    rate_hz_ = 1;\n",
    "    success_ = true;\n",
    "    turnSeconds_ = 2;\n",
    "    \n",
    "    rate_ = new ros::Rate(rate_hz_);\n",
    "    move_pub_ = nh_.advertise<geometry_msgs::Twist>(\"/cmd_vel\", 1000);\n",
    "    takeoff_pub_ = nh_.advertise<std_msgs::Empty>(\"/drone/takeoff\", 1000);\n",
    "    land_pub_ = nh_.advertise<std_msgs::Empty>(\"/drone/land\", 1000);\n",
    "  }\n",
    "\n",
    "  ~MoveSquareAction(void)\n",
    "  {\n",
    "  }\n",
    "\n",
    "  void executeCB(const exercise_414::CustomActionMsgGoalConstPtr &goal)\n",
    "  {\n",
    "    \n",
    "    std::string upDown = goal->goal;\n",
    "\n",
    "    // start executing the action\n",
    "    for(int i=0; i<4; i++)\n",
    "    {\n",
    "      // check that preempt has not been requested by the client\n",
    "      if (as_.isPreemptRequested() || !ros::ok())\n",
    "      {\n",
    "        ROS_INFO(\"%s: Preempted\", action_name_.c_str());\n",
    "        // set the action state to preempted\n",
    "        as_.setPreempted();\n",
    "        success_ = false;\n",
    "        break;\n",
    "      }\n",
    "      \n",
    "      if (upDown == \"UP\")\n",
    "      {\n",
    "          this->takeoff_drone();\n",
    "      }\n",
    "      \n",
    "      if (upDown == \"DOWN\")\n",
    "      {\n",
    "          this->land_drone();\n",
    "      }\n",
    "      \n",
    "      feedback_.feedback = i;\n",
    "      // publish the feedback\n",
    "      as_.publishFeedback(feedback_);\n",
    "      \n",
    "      rate_->sleep();\n",
    "    }\n",
    "\n",
    "    if(success_)\n",
    "    {\n",
    "      \n",
    "      ROS_INFO(\"%s: Succeeded\", action_name_.c_str());\n",
    "      // set the action state to succeeded\n",
    "      as_.setSucceeded(result_);\n",
    "      \n",
    "    }\n",
    "  }\n",
    "    \n",
    "  // Functions to control the drone    \n",
    "  void stop_drone(void)\n",
    "  {\n",
    "    ROS_INFO(\"Stopping Drone...\");\n",
    "    int i = 0;\n",
    "    while (i < 3)\n",
    "    {\n",
    "      move_msg_.linear.x = 0;\n",
    "      move_msg_.angular.z = 0;\n",
    "      move_pub_.publish(move_msg_);\n",
    "      i++;\n",
    "      rate_->sleep();\n",
    "    }\n",
    "  }\n",
    "    \n",
    "  void move_forward_drone(int side_secs)\n",
    "  {\n",
    "    ROS_INFO(\"Moving forward Drone...\");\n",
    "    int i = 0;\n",
    "    while (i < side_secs)\n",
    "    {\n",
    "      move_msg_.linear.x = 1;\n",
    "      move_msg_.angular.z = 0;\n",
    "      move_pub_.publish(move_msg_);\n",
    "      i++;\n",
    "      rate_->sleep();\n",
    "    }\n",
    "  }\n",
    "    \n",
    "  void turn_drone(int turn_secs)\n",
    "  {\n",
    "    ROS_INFO(\"Turning Drone...\");\n",
    "    int i = 0;\n",
    "    while (i < turn_secs)\n",
    "    {\n",
    "      move_msg_.linear.x = 0;\n",
    "      move_msg_.angular.z = 0.55;\n",
    "      move_pub_.publish(move_msg_);\n",
    "      i++;\n",
    "      rate_->sleep();\n",
    "    }\n",
    "  }\n",
    "  \n",
    "  void takeoff_drone(void)\n",
    "  {\n",
    "    ROS_INFO(\"Taking Off Drone...\");\n",
    "    int i = 0;\n",
    "    while (i < 4)\n",
    "    {\n",
    "      takeoff_pub_.publish(takeoff_msg_);\n",
    "      i++;\n",
    "      rate_->sleep();\n",
    "    }\n",
    "  }\n",
    "  \n",
    "  void land_drone(void)\n",
    "  {\n",
    "    ROS_INFO(\"Landing Drone...\");\n",
    "    int i = 0;\n",
    "    while (i < 4)\n",
    "    {\n",
    "      land_pub_.publish(land_msg_);\n",
    "      i++;\n",
    "      rate_->sleep();\n",
    "    }\n",
    "  }\n",
    "\n",
    "};\n",
    "\n",
    "int main(int argc, char** argv)\n",
    "{\n",
    "  ros::init(argc, argv, \"action_custom_msg\");\n",
    "\n",
    "  MoveSquareAction move_square(\"action_custom_msg_as\");\n",
    "  ros::spin();\n",
    "\n",
    "  return 0;\n",
    "}"
   ]
  },
  {
   "cell_type": "markdown",
   "metadata": {},
   "source": [
    "<p style=\"background:#3B8F10;color:white;\" id=\"prg-2-1\">**END C++ File: action_custom_msg.cpp** </p>"
   ]
  },
  {
   "cell_type": "markdown",
   "metadata": {},
   "source": [
    "As you can see, in the above code we are using the **/drone/takeoff** and **/drone/land** topics in order to move UP or DOWN, since they make the drone move aproximately 1 meter. You could also use the **/cmd_vel** topic, but that's up to you."
   ]
  },
  {
   "cell_type": "markdown",
   "metadata": {},
   "source": [
    "In order to test this code, you have to first launch the Action Server (which is defined in the above C++ file). You can do that by using the following command:"
   ]
  },
  {
   "cell_type": "code",
   "execution_count": null,
   "metadata": {
    "collapsed": true
   },
   "outputs": [],
   "source": [
    "roslaunch exercise_414 action_custom_msg.launch"
   ]
  },
  {
   "cell_type": "markdown",
   "metadata": {},
   "source": [
    "Now, if you execute the following command:"
   ]
  },
  {
   "cell_type": "code",
   "execution_count": null,
   "metadata": {
    "collapsed": true
   },
   "outputs": [],
   "source": [
    "rostopic list | grep action_custom_msg"
   ]
  },
  {
   "cell_type": "markdown",
   "metadata": {},
   "source": [
    "You will see something like this:"
   ]
  },
  {
   "cell_type": "markdown",
   "metadata": {},
   "source": [
    "<img src=\"../img/action_custom_msg_as.png\" width=\"600\" />"
   ]
  },
  {
   "cell_type": "markdown",
   "metadata": {},
   "source": [
    "This means you Action Server is up and ready to receive a goal."
   ]
  },
  {
   "cell_type": "markdown",
   "metadata": {},
   "source": [
    "So now, let's publish a goal to this Action Server. You can do this by two methods (as you saw in the Part 1 of the Actions notebooks):"
   ]
  },
  {
   "cell_type": "markdown",
   "metadata": {},
   "source": [
    "* Creating an Action Client\n",
    "* Publishing a goal directly through the action topics"
   ]
  },
  {
   "cell_type": "markdown",
   "metadata": {},
   "source": [
    "For this case, let's use the 2nd method. You should then publish a message to the **action_custom_msg_as/goal** topic, just like this:"
   ]
  },
  {
   "cell_type": "markdown",
   "metadata": {},
   "source": [
    "<img src=\"../img/action_custom_msg_as_goal.png\" width=\"800\" />"
   ]
  },
  {
   "cell_type": "markdown",
   "metadata": {},
   "source": [
    "You will see the drone doing something like this:"
   ]
  },
  {
   "cell_type": "markdown",
   "metadata": {},
   "source": [
    "<img src=\"../img/up_or_down1.gif\" width=\"600\" />"
   ]
  },
  {
   "cell_type": "markdown",
   "metadata": {},
   "source": [
    "<img src=\"../img/up_or_down2.gif\" width=\"600\" />"
   ]
  },
  {
   "cell_type": "markdown",
   "metadata": {},
   "source": [
    "Finally, you can check the **feedback** and **result** topics of the Action, to check if they're publishing the desired values."
   ]
  },
  {
   "cell_type": "code",
   "execution_count": null,
   "metadata": {
    "collapsed": true
   },
   "outputs": [],
   "source": [
    "rostopic echo /action_custom_msg_as/feedback"
   ]
  },
  {
   "cell_type": "markdown",
   "metadata": {},
   "source": [
    "<img src=\"../img/action_custom_msg_as_feedback.png\" width=\"600\" />"
   ]
  },
  {
   "cell_type": "markdown",
   "metadata": {},
   "source": [
    "<img src=\"../img/action_custom_msg_as_feedback2.png\" width=\"600\" />"
   ]
  },
  {
   "cell_type": "markdown",
   "metadata": {
    "collapsed": true
   },
   "source": [
    "In this case, there's no result to be shown."
   ]
  }
 ],
 "metadata": {
  "anaconda-cloud": {},
  "kernelspec": {
   "display_name": "Python 2",
   "language": "python",
   "name": "python2"
  },
  "language_info": {
   "codemirror_mode": {
    "name": "ipython",
    "version": 2
   },
   "file_extension": ".py",
   "mimetype": "text/x-python",
   "name": "python",
   "nbconvert_exporter": "python",
   "pygments_lexer": "ipython2",
   "version": "2.7.12"
  }
 },
 "nbformat": 4,
 "nbformat_minor": 1
}
