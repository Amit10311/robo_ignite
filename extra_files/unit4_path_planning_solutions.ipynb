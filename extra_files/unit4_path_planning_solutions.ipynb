{
 "cells": [
  {
   "cell_type": "markdown",
   "metadata": {},
   "source": [
    "## Solutions for Unit 4 Path Planning"
   ]
  },
  {
   "cell_type": "markdown",
   "metadata": {},
   "source": [
    "<img src=\"../img/robotignite_logo_text.png\"/>"
   ]
  },
  {
   "cell_type": "markdown",
   "metadata": {},
   "source": [
    "## Index: "
   ]
  },
  {
   "cell_type": "markdown",
   "metadata": {},
   "source": [
    "* <a href=\"#SolutionExercise4-4\">Solution Exercise 4.4</a>\n",
    "* <a href=\"#SolutionExercise4-5\">Solution Exercise 4.5</a>\n",
    "* <a href=\"#SolutionExercise4-8\">Solution Exercise 4.8</a>\n",
    "* <a href=\"#SolutionExercise4-11\">Solution Exercise 4.11</a>"
   ]
  },
  {
   "cell_type": "markdown",
   "metadata": {},
   "source": [
    "## Solution Exercise 4.4 <p id=\"SolutionExercise4-4\"></p>"
   ]
  },
  {
   "cell_type": "markdown",
   "metadata": {},
   "source": [
    "<p style=\"background:#EE9023;color:white;\">**Exercise 4.4**</p>"
   ]
  },
  {
   "cell_type": "markdown",
   "metadata": {},
   "source": [
    "<p style=\"background:#3B8F10;color:white;\" id=\"prg-2-1\">**Launch File: send_goal_client.launch** </p>"
   ]
  },
  {
   "cell_type": "code",
   "execution_count": null,
   "metadata": {
    "collapsed": true
   },
   "outputs": [],
   "source": [
    "<launch>\n",
    "    <node pkg=\"send_goals\" type=\"send_goal_client.py\" name=\"move_base_action_client\" output=\"screen\">        \n",
    "    </node>\n",
    "</launch>"
   ]
  },
  {
   "cell_type": "markdown",
   "metadata": {},
   "source": [
    "<p style=\"background:#3B8F10;color:white;\" id=\"prg-2-1\">**END Launch File: send_goal_client.launch** </p>"
   ]
  },
  {
   "cell_type": "markdown",
   "metadata": {},
   "source": [
    "<p style=\"background:#3B8F10;color:white;\" id=\"prg-2-1\">**Python File: send_goal_client.py** </p>"
   ]
  },
  {
   "cell_type": "code",
   "execution_count": null,
   "metadata": {
    "collapsed": true
   },
   "outputs": [],
   "source": [
    "#! /usr/bin/env python\n",
    "import rospy\n",
    "import time\n",
    "import actionlib\n",
    "from move_base_msgs.msg import MoveBaseAction, MoveBaseGoal, MoveBaseResult, MoveBaseFeedback\n",
    "\n",
    "# definition of the feedback callback. This will be called when feedback\n",
    "# is received from the action server\n",
    "# it just prints a message indicating a new message has been received\n",
    "def feedback_callback(feedback):\n",
    "    \n",
    "    print('[Feedback] Going to Goal Pose...')\n",
    "\n",
    "# initializes the action client node\n",
    "rospy.init_node('move_base_action_client')\n",
    "\n",
    "# create the connection to the action server\n",
    "client = actionlib.SimpleActionClient('/move_base', MoveBaseAction)\n",
    "# waits until the action server is up and running\n",
    "client.wait_for_server()\n",
    "\n",
    "# creates a goal to send to the action server\n",
    "goal = MoveBaseGoal()\n",
    "goal.target_pose.header.frame_id = 'map'\n",
    "goal.target_pose.pose.position.x = 1.16\n",
    "goal.target_pose.pose.position.y = -4.76\n",
    "goal.target_pose.pose.position.z = 0.0\n",
    "goal.target_pose.pose.orientation.x = 0.0\n",
    "goal.target_pose.pose.orientation.y = 0.0\n",
    "goal.target_pose.pose.orientation.z = 0.75\n",
    "goal.target_pose.pose.orientation.w = 0.66\n",
    "\n",
    "# sends the goal to the action server, specifying which feedback function\n",
    "# to call when feedback received\n",
    "client.send_goal(goal, feedback_cb=feedback_callback)\n",
    "\n",
    "# Uncomment these lines to test goal preemption:\n",
    "#time.sleep(3.0)\n",
    "#client.cancel_goal()  # would cancel the goal 3 seconds after starting\n",
    "\n",
    "# wait until the result is obtained\n",
    "# you can do other stuff here instead of waiting\n",
    "# and check for status from time to time \n",
    "# status = client.get_state()\n",
    "# check the client API link below for more info\n",
    "\n",
    "client.wait_for_result()\n",
    "\n",
    "print('[Result] State: %d'%(client.get_state()))"
   ]
  },
  {
   "cell_type": "markdown",
   "metadata": {},
   "source": [
    "<p style=\"background:#3B8F10;color:white;\" id=\"prg-2-1\">**END Python File: send_goal_client.py** </p>"
   ]
  },
  {
   "cell_type": "markdown",
   "metadata": {},
   "source": [
    "## Solution Exercise 4.5 <p id=\"SolutionExercise4-5\"></p>"
   ]
  },
  {
   "cell_type": "markdown",
   "metadata": {},
   "source": [
    "<p style=\"background:#EE9023;color:white;\">**Exercise 4.5**</p>"
   ]
  },
  {
   "cell_type": "markdown",
   "metadata": {},
   "source": [
    "<p style=\"background:#3B8F10;color:white;\" id=\"prg-2-1\">**Launch File: my_move_base_launch_1.launch** </p>"
   ]
  },
  {
   "cell_type": "code",
   "execution_count": null,
   "metadata": {
    "collapsed": true
   },
   "outputs": [],
   "source": [
    "<?xml version=\"1.0\"?>\n",
    "<launch>\n",
    "\n",
    "  <!-- Run the map server -->\n",
    "  <arg name=\"map_file\" default=\"$(find husky_navigation)/maps/my_map.yaml\"/>\n",
    "  <node name=\"map_server\" pkg=\"map_server\" type=\"map_server\" args=\"$(arg map_file)\" />\n",
    "\n",
    "  <!--- Run AMCL -->\n",
    "  <include file=\"$(find husky_navigation)/launch/amcl.launch\" />\n",
    "\n",
    "  <!--- Run Move Base -->\n",
    "  <include file=\"$(find my_move_base_launcher)/launch/my_move_base_launch_2.launch\" />\n",
    "\n",
    "</launch>"
   ]
  },
  {
   "cell_type": "markdown",
   "metadata": {},
   "source": [
    "<p style=\"background:#3B8F10;color:white;\" id=\"prg-2-1\">**END Launch File: my_move_base_launch_1.launch** </p>"
   ]
  },
  {
   "cell_type": "markdown",
   "metadata": {},
   "source": [
    "<p style=\"background:#3B8F10;color:white;\" id=\"prg-2-1\">**Launch File: my_move_base_launch_2.launch** </p>"
   ]
  },
  {
   "cell_type": "code",
   "execution_count": null,
   "metadata": {
    "collapsed": true
   },
   "outputs": [],
   "source": [
    "<?xml version=\"1.0\"?>\n",
    "<launch>\n",
    "\n",
    "  <arg name=\"no_static_map\" default=\"false\"/>\n",
    "\n",
    "  <arg name=\"base_global_planner\" default=\"navfn/NavfnROS\"/>\n",
    "  <arg name=\"base_local_planner\" default=\"dwa_local_planner/DWAPlannerROS\"/>\n",
    "  <!-- <arg name=\"base_local_planner\" default=\"base_local_planner/TrajectoryPlannerROS\"/> -->\n",
    "\n",
    "  <node pkg=\"move_base\" type=\"move_base\" respawn=\"false\" name=\"move_base\" output=\"screen\">\n",
    "\n",
    "    <param name=\"base_global_planner\" value=\"$(arg base_global_planner)\"/>\n",
    "    <param name=\"base_local_planner\" value=\"$(arg base_local_planner)\"/>  \n",
    "    <rosparam file=\"$(find my_move_base_launcher)/params/my_move_base_params.yaml\" command=\"load\"/>\n",
    "\n",
    "    <!-- observation sources located in costmap_common.yaml -->\n",
    "    <rosparam file=\"$(find husky_navigation)/config/costmap_common.yaml\" command=\"load\" ns=\"global_costmap\" />\n",
    "    <rosparam file=\"$(find husky_navigation)/config/costmap_common.yaml\" command=\"load\" ns=\"local_costmap\" />\n",
    "\n",
    "    <!-- local costmap, needs size -->\n",
    "    <rosparam file=\"$(find husky_navigation)/config/costmap_local.yaml\" command=\"load\" ns=\"local_costmap\" />\n",
    "    <param name=\"local_costmap/width\" value=\"10.0\"/>\n",
    "    <param name=\"local_costmap/height\" value=\"10.0\"/>\n",
    "\n",
    "    <!-- static global costmap, static map provides size -->\n",
    "    <rosparam file=\"$(find husky_navigation)/config/costmap_global_static.yaml\" command=\"load\" ns=\"global_costmap\" unless=\"$(arg no_static_map)\"/>\n",
    "    \n",
    "    <!-- global costmap with laser, for odom_navigation_demo -->\n",
    "    <rosparam file=\"$(find husky_navigation)/config/costmap_global_laser.yaml\" command=\"load\" ns=\"global_costmap\" if=\"$(arg no_static_map)\"/>\n",
    "    <param name=\"global_costmap/width\" value=\"100.0\" if=\"$(arg no_static_map)\"/>\n",
    "    <param name=\"global_costmap/height\" value=\"100.0\" if=\"$(arg no_static_map)\"/>\n",
    "  </node>\n",
    "\n",
    "</launch>\n"
   ]
  },
  {
   "cell_type": "markdown",
   "metadata": {},
   "source": [
    "<p style=\"background:#3B8F10;color:white;\" id=\"prg-2-1\">**END Launch File: my_move_base_launch_2.launch** </p>"
   ]
  },
  {
   "cell_type": "markdown",
   "metadata": {},
   "source": [
    "<p style=\"background:#3B8F10;color:white;\" id=\"prg-2-1\">**Launch File: my_move_base_params.yaml** </p>"
   ]
  },
  {
   "cell_type": "code",
   "execution_count": null,
   "metadata": {
    "collapsed": true
   },
   "outputs": [],
   "source": [
    "controller_frequency: 1.0\n",
    "recovery_behaviour_enabled: true\n",
    "\n",
    "NavfnROS:\n",
    "  allow_unknown: true # Specifies whether or not to allow navfn to create plans that traverse unknown space.\n",
    "  default_tolerance: 0.1 # A tolerance on the goal point for the planner.\n",
    "\n",
    "TrajectoryPlannerROS:\n",
    "  # Robot Configuration Parameters\n",
    "  acc_lim_x: 2.5\n",
    "  acc_lim_theta:  3.2\n",
    "\n",
    "  max_vel_x: 1.0\n",
    "  min_vel_x: 0.0\n",
    "\n",
    "  max_vel_theta: 1.0\n",
    "  min_vel_theta: -1.0\n",
    "  min_in_place_vel_theta: 0.2\n",
    "\n",
    "  holonomic_robot: false\n",
    "  escape_vel: -0.1\n",
    "\n",
    "  # Goal Tolerance Parameters\n",
    "  yaw_goal_tolerance: 0.1\n",
    "  xy_goal_tolerance: 0.2\n",
    "  latch_xy_goal_tolerance: false\n",
    "\n",
    "  # Forward Simulation Parameters\n",
    "  sim_time: 2.0\n",
    "  sim_granularity: 0.02\n",
    "  angular_sim_granularity: 0.02\n",
    "  vx_samples: 6\n",
    "  vtheta_samples: 20\n",
    "  controller_frequency: 20.0\n",
    "\n",
    "  # Trajectory scoring parameters\n",
    "  meter_scoring: true # Whether the gdist_scale and pdist_scale parameters should assume that goal_distance and path_distance are expressed in units of meters or cells. Cells are assumed by default (false).\n",
    "  occdist_scale:  0.1 #The weighting for how much the controller should attempt to avoid obstacles. default 0.01\n",
    "  pdist_scale: 0.75  #     The weighting for how much the controller should stay close to the path it was given . default 0.6\n",
    "  gdist_scale: 1.0 #     The weighting for how much the controller should attempt to reach its local goal, also controls speed  default 0.8\n",
    "\n",
    "  heading_lookahead: 0.325  #How far to look ahead in meters when scoring different in-place-rotation trajectories\n",
    "  heading_scoring: false  #Whether to score based on the robot's heading to the path or its distance from the path. default false\n",
    "  heading_scoring_timestep: 0.8   #How far to look ahead in time in seconds along the simulated trajectory when using heading scoring (double, default: 0.8)\n",
    "  dwa: true #Whether to use the Dynamic Window Approach (DWA)_ or whether to use Trajectory Rollout\n",
    "  simple_attractor: false\n",
    "  publish_cost_grid_pc: true  \n",
    "\n",
    "  # Oscillation Prevention Parameters\n",
    "  oscillation_reset_dist: 0.25 #How far the robot must travel in meters before oscillation flags are reset (double, default: 0.05)\n",
    "  escape_reset_dist: 0.1\n",
    "  escape_reset_theta: 0.1\n",
    "\n",
    "DWAPlannerROS:\n",
    "  # Robot configuration parameters  \n",
    "  acc_lim_x: 2.5\n",
    "  acc_lim_y: 0\n",
    "  acc_lim_th: 3.2\n",
    "\n",
    "  max_vel_x: 0.5\n",
    "  min_vel_x: 0.0\n",
    "  max_vel_y: 0\n",
    "  min_vel_y: 0\n",
    "\n",
    "  max_trans_vel: 0.5\n",
    "  min_trans_vel: 0.1\n",
    "  max_rot_vel: 1.0\n",
    "  min_rot_vel: 0.2\n",
    "\n",
    "  # Goal Tolerance Parameters\n",
    "  yaw_goal_tolerance: 0.1\n",
    "  xy_goal_tolerance: 0.2\n",
    "  latch_xy_goal_tolerance: false"
   ]
  },
  {
   "cell_type": "markdown",
   "metadata": {},
   "source": [
    "<p style=\"background:#3B8F10;color:white;\" id=\"prg-2-1\">**END Launch File: my_move_base_params.yaml** </p>"
   ]
  },
  {
   "cell_type": "markdown",
   "metadata": {},
   "source": [
    "## Solution Exercise 4.8 <p id=\"SolutionExercise4-8\"></p>"
   ]
  },
  {
   "cell_type": "markdown",
   "metadata": {},
   "source": [
    "<p style=\"background:#EE9023;color:white;\">**Exercise 4.8**</p>"
   ]
  },
  {
   "cell_type": "markdown",
   "metadata": {},
   "source": [
    "<p style=\"background:#3B8F10;color:white;\" id=\"prg-2-1\">**Launch File: my_move_base_launch_1.launch** </p>"
   ]
  },
  {
   "cell_type": "code",
   "execution_count": null,
   "metadata": {
    "collapsed": true
   },
   "outputs": [],
   "source": [
    "<?xml version=\"1.0\"?>\n",
    "<launch>\n",
    "\n",
    "  <!-- Run the map server -->\n",
    "  <arg name=\"map_file\" default=\"$(find husky_navigation)/maps/my_map.yaml\"/>\n",
    "  <node name=\"map_server\" pkg=\"map_server\" type=\"map_server\" args=\"$(arg map_file)\" />\n",
    "\n",
    "  <!--- Run AMCL -->\n",
    "  <include file=\"$(find husky_navigation)/launch/amcl.launch\" />\n",
    "\n",
    "  <!--- Run Move Base -->\n",
    "  <include file=\"$(find my_move_base_launcher)/launch/my_move_base_launch_2.launch\" />\n",
    "\n",
    "</launch>"
   ]
  },
  {
   "cell_type": "markdown",
   "metadata": {},
   "source": [
    "<p style=\"background:#3B8F10;color:white;\" id=\"prg-2-1\">**END Launch File: my_move_base_launch_1.launch** </p>"
   ]
  },
  {
   "cell_type": "markdown",
   "metadata": {},
   "source": [
    "<p style=\"background:#3B8F10;color:white;\" id=\"prg-2-1\">**Launch File: my_move_base_launch_2.launch** </p>"
   ]
  },
  {
   "cell_type": "code",
   "execution_count": null,
   "metadata": {
    "collapsed": true
   },
   "outputs": [],
   "source": [
    "<?xml version=\"1.0\"?>\n",
    "<launch>\n",
    "\n",
    "  <arg name=\"no_static_map\" default=\"false\"/>\n",
    "\n",
    "  <arg name=\"base_global_planner\" default=\"carrot_planner/CarrotPlanner\"/>\n",
    "  <arg name=\"base_local_planner\" default=\"dwa_local_planner/DWAPlannerROS\"/>\n",
    "  <!-- <arg name=\"base_local_planner\" default=\"base_local_planner/TrajectoryPlannerROS\"/> -->\n",
    "\n",
    "  <node pkg=\"move_base\" type=\"move_base\" respawn=\"false\" name=\"move_base\" output=\"screen\">\n",
    "\n",
    "    <param name=\"base_global_planner\" value=\"$(arg base_global_planner)\"/>\n",
    "    <param name=\"base_local_planner\" value=\"$(arg base_local_planner)\"/>  \n",
    "    <rosparam file=\"$(find my_move_base_launcher)/params/my_move_base_params.yaml\" command=\"load\"/>\n",
    "\n",
    "    <!-- observation sources located in costmap_common.yaml -->\n",
    "    <rosparam file=\"$(find husky_navigation)/config/costmap_common.yaml\" command=\"load\" ns=\"global_costmap\" />\n",
    "    <rosparam file=\"$(find husky_navigation)/config/costmap_common.yaml\" command=\"load\" ns=\"local_costmap\" />\n",
    "\n",
    "    <!-- local costmap, needs size -->\n",
    "    <rosparam file=\"$(find husky_navigation)/config/costmap_local.yaml\" command=\"load\" ns=\"local_costmap\" />\n",
    "    <param name=\"local_costmap/width\" value=\"10.0\"/>\n",
    "    <param name=\"local_costmap/height\" value=\"10.0\"/>\n",
    "\n",
    "    <!-- static global costmap, static map provides size -->\n",
    "    <rosparam file=\"$(find husky_navigation)/config/costmap_global_static.yaml\" command=\"load\" ns=\"global_costmap\" unless=\"$(arg no_static_map)\"/>\n",
    "    \n",
    "    <!-- global costmap with laser, for odom_navigation_demo -->\n",
    "    <rosparam file=\"$(find husky_navigation)/config/costmap_global_laser.yaml\" command=\"load\" ns=\"global_costmap\" if=\"$(arg no_static_map)\"/>\n",
    "    <param name=\"global_costmap/width\" value=\"100.0\" if=\"$(arg no_static_map)\"/>\n",
    "    <param name=\"global_costmap/height\" value=\"100.0\" if=\"$(arg no_static_map)\"/>\n",
    "  </node>\n",
    "\n",
    "</launch>\n"
   ]
  },
  {
   "cell_type": "markdown",
   "metadata": {},
   "source": [
    "<p style=\"background:#3B8F10;color:white;\" id=\"prg-2-1\">**END Launch File: my_move_base_launch_2.launch** </p>"
   ]
  },
  {
   "cell_type": "markdown",
   "metadata": {},
   "source": [
    "## Solution Exercise 4.11 <p id=\"SolutionExercise4-11\"></p>"
   ]
  },
  {
   "cell_type": "markdown",
   "metadata": {},
   "source": [
    "<p style=\"background:#EE9023;color:white;\">**Exercise 4.11**</p>"
   ]
  },
  {
   "cell_type": "markdown",
   "metadata": {},
   "source": [
    "<p style=\"background:#3B8F10;color:white;\" id=\"prg-2-1\">**Launch File: my_move_base_launch_1.launch** </p>"
   ]
  },
  {
   "cell_type": "code",
   "execution_count": null,
   "metadata": {
    "collapsed": true
   },
   "outputs": [],
   "source": [
    "<?xml version=\"1.0\"?>\n",
    "<launch>\n",
    "\n",
    "  <!-- Run the map server -->\n",
    "  <arg name=\"map_file\" default=\"$(find husky_navigation)/maps/my_map.yaml\"/>\n",
    "  <node name=\"map_server\" pkg=\"map_server\" type=\"map_server\" args=\"$(arg map_file)\" />\n",
    "\n",
    "  <!--- Run AMCL -->\n",
    "  <include file=\"$(find husky_navigation)/launch/amcl.launch\" />\n",
    "\n",
    "  <!--- Run Move Base -->\n",
    "  <include file=\"$(find my_move_base_launcher)/launch/my_move_base_launch_2.launch\" />\n",
    "\n",
    "</launch>"
   ]
  },
  {
   "cell_type": "markdown",
   "metadata": {},
   "source": [
    "<p style=\"background:#3B8F10;color:white;\" id=\"prg-2-1\">**END Launch File: my_move_base_launch_1.launch** </p>"
   ]
  },
  {
   "cell_type": "markdown",
   "metadata": {},
   "source": [
    "<p style=\"background:#3B8F10;color:white;\" id=\"prg-2-1\">**Launch File: my_move_base_launch_2.launch** </p>"
   ]
  },
  {
   "cell_type": "code",
   "execution_count": null,
   "metadata": {
    "collapsed": true
   },
   "outputs": [],
   "source": [
    "<?xml version=\"1.0\"?>\n",
    "<launch>\n",
    "\n",
    "  <arg name=\"no_static_map\" default=\"false\"/>\n",
    "\n",
    "  <arg name=\"base_global_planner\" default=\"navfn/NavfnROS\"/>\n",
    "  <arg name=\"base_local_planner\" default=\"dwa_local_planner/DWAPlannerROS\"/>\n",
    "  <!-- <arg name=\"base_local_planner\" default=\"base_local_planner/TrajectoryPlannerROS\"/> -->\n",
    "\n",
    "  <node pkg=\"move_base\" type=\"move_base\" respawn=\"false\" name=\"move_base\" output=\"screen\">\n",
    "\n",
    "    <param name=\"base_global_planner\" value=\"$(arg base_global_planner)\"/>\n",
    "    <param name=\"base_local_planner\" value=\"$(arg base_local_planner)\"/>  \n",
    "    <rosparam file=\"$(find my_move_base_launcher)/params/my_move_base_params.yaml\" command=\"load\"/>\n",
    "\n",
    "    <!-- observation sources located in costmap_common.yaml -->\n",
    "    <rosparam file=\"$(find husky_navigation)/config/costmap_common.yaml\" command=\"load\" ns=\"global_costmap\" />\n",
    "    <rosparam file=\"$(find husky_navigation)/config/costmap_common.yaml\" command=\"load\" ns=\"local_costmap\" />\n",
    "\n",
    "    <!-- local costmap, needs size -->\n",
    "    <rosparam file=\"$(find husky_navigation)/config/costmap_local.yaml\" command=\"load\" ns=\"local_costmap\" />\n",
    "    <param name=\"local_costmap/width\" value=\"10.0\"/>\n",
    "    <param name=\"local_costmap/height\" value=\"10.0\"/>\n",
    "\n",
    "    <!-- static global costmap, static map provides size -->\n",
    "    <rosparam file=\"$(find my_move_base_launcher)/params/my_global_costmap_params.yaml\" command=\"load\" ns=\"global_costmap\" unless=\"$(arg no_static_map)\"/>\n",
    "    \n",
    "    <!-- global costmap with laser, for odom_navigation_demo -->\n",
    "    <rosparam file=\"$(find husky_navigation)/config/costmap_global_laser.yaml\" command=\"load\" ns=\"global_costmap\" if=\"$(arg no_static_map)\"/>\n",
    "    <param name=\"global_costmap/width\" value=\"100.0\" if=\"$(arg no_static_map)\"/>\n",
    "    <param name=\"global_costmap/height\" value=\"100.0\" if=\"$(arg no_static_map)\"/>\n",
    "  </node>\n",
    "\n",
    "</launch>\n"
   ]
  },
  {
   "cell_type": "markdown",
   "metadata": {},
   "source": [
    "<p style=\"background:#3B8F10;color:white;\" id=\"prg-2-1\">**END Launch File: my_move_base_launch_2.launch** </p>"
   ]
  },
  {
   "cell_type": "markdown",
   "metadata": {},
   "source": [
    "<p style=\"background:#3B8F10;color:white;\" id=\"prg-2-1\">**Launch File: my_global_costmap_params.yaml** </p>"
   ]
  },
  {
   "cell_type": "code",
   "execution_count": null,
   "metadata": {
    "collapsed": true
   },
   "outputs": [],
   "source": [
    "global_frame: map\n",
    "rolling_window: true\n",
    "track_unknown_space: true\n",
    "\n",
    "plugins:\n",
    "  - {name: static,                  type: \"costmap_2d::StaticLayer\"}\n",
    "  - {name: obstacles_laser,         type: \"costmap_2d::VoxelLayer\"}\n",
    "  - {name: inflation,               type: \"costmap_2d::InflationLayer\"}"
   ]
  },
  {
   "cell_type": "markdown",
   "metadata": {},
   "source": [
    "<p style=\"background:#3B8F10;color:white;\" id=\"prg-2-1\">**END Launch File: my_global_costmap_params.yaml** </p>"
   ]
  }
 ],
 "metadata": {
  "anaconda-cloud": {},
  "kernelspec": {
   "display_name": "Python [Root]",
   "language": "python",
   "name": "Python [Root]"
  },
  "language_info": {
   "codemirror_mode": {
    "name": "ipython",
    "version": 2
   },
   "file_extension": ".py",
   "mimetype": "text/x-python",
   "name": "python",
   "nbconvert_exporter": "python",
   "pygments_lexer": "ipython2",
   "version": "2.7.12"
  }
 },
 "nbformat": 4,
 "nbformat_minor": 0
}
