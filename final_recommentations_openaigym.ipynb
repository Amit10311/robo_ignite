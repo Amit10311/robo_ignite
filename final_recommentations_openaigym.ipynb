{
 "cells": [
  {
   "cell_type": "markdown",
   "metadata": {},
   "source": [
    "# I'm finished, now what?"
   ]
  },
  {
   "cell_type": "markdown",
   "metadata": {},
   "source": [
    "## Get a CERTIFICATE for LinkedIn <p id=\"certificate\"></p>"
   ]
  },
  {
   "cell_type": "markdown",
   "metadata": {},
   "source": [
    "After finishing the Course, you can get a **CERTIFICATE** in order to prove that you have completed the whole Course and, hence, that you have the ROS knowledge related to that Course. This certificate will be added to your **LinkedIn** profile. \n",
    "\n",
    "Of course, you won't be able to get the certificate if you have not completed the course. By clicking on the button below, you will do a request in order to get this certificate. Then, the Robot Ignite Academy team will evaluate the work you have done, and will decide if you get the certificate or not.\n",
    "\n",
    "So, if you want to request your certificate and let everyone know about your ROS knowledge, just click on the button below!"
   ]
  },
  {
   "cell_type": "markdown",
   "metadata": {},
   "source": [
    "<div><a href=\"https://www.linkedin.com/profile/add?startTask=CERTIFICATION_NAME\" rel=\"nofollow\" target=\"_blank\"><img src=\"https://download.linkedin.com/desktop/add2profile/buttons/en_US.png \" alt=\"LinkedIn Add to Profile button\"></a></div>"
   ]
  },
  {
   "cell_type": "markdown",
   "metadata": {},
   "source": [
    "## ROS Development Studio (RDS)"
   ]
  },
  {
   "cell_type": "markdown",
   "metadata": {},
   "source": [
    "<img src=\"img/RDS_logo.png\" width=\"500\"/>"
   ]
  },
  {
   "cell_type": "markdown",
   "metadata": {},
   "source": [
    "You have various options to continue your work in OpenAI-Gym.<br>\n",
    "<ul>\n",
    "    <li>\n",
    "    You have the original Gym-Gazebo TurtleBot simulation available, Gym-ready in <a href=\"http://www.theconstructsim.com/rds-ros-development-studio/\">RosDevelopementStudio</a>. You just have to launch it and you will be able to not only use it as you have in this course, but change any aspect of the simulation, like changing worlds, adding sensors, and so on.<br>\n",
    "    \n",
    "    <img src=\"img/rds_gym_gazebo.png\" width=\"800\"/>\n",
    "    \n",
    "    </li>\n",
    "    <li>If you are interested only in the Gazebo side, you have a plug and play simulations available in <a href=\"http://www.theconstructsim.com/rds-ros-development-studio/\">RosDevelopementStudio</a>  to apply your new Gym knowledge to new robot simulations, like Husky, BB8, or Wam arms.<br>\n",
    "    <img src=\"img/rds_examples.png\" width=\"800\"/>\n",
    "    \n",
    "    </li>\n",
    "    \n",
    "    \n",
    "    \n",
    "    \n",
    "    <li>You can download the original Gym-Gazebo code from <a href=\"https://github.com/erlerobot/gym-gazebo\">Gym-Gazebo-Git</a>.</li>\n",
    "    <li>You can use the original Gym simulations and games following this fantastic tutorial. <li>You can download the original Gym-Gazebo code from <a href=\"https://gym.openai.com/docs\">Gym-Docs</a> .</li>\n",
    "</ul>"
   ]
  },
  {
   "cell_type": "markdown",
   "metadata": {},
   "source": [
    "# Want to learn more?"
   ]
  },
  {
   "cell_type": "markdown",
   "metadata": {},
   "source": [
    "<img src=\"img/robotignite_logo_text.png\" width=\"500\"/>"
   ]
  },
  {
   "cell_type": "markdown",
   "metadata": {},
   "source": [
    "Once you have finished the course, you can still learn a lot of interesting ROS subjects.\n",
    "<ul>\n",
    "   <li>\n",
    "   Take the more advanced courses that we offer at <a href=\"http://www.robotigniteacademy.com/\">Ignite Academy</a>, like  Perception or Manipulation.\n",
    "   </li>\n",
    "   <li>\n",
    "   Or you can go to the <a href=\"http://wiki.ros.org/\">ROS Wiki</a> and check out the official documentation of ROS, now with different eyes.\n",
    "   </li>\n",
    "   <li>\n",
    "   You can download simulation robot models to practice in a local installation of ROS through <a href=\"http://www.theconstructsim.com/shop-landing-page-default/\">Robository</a>.\n",
    "   </li> \n",
    "</ul>"
   ]
  },
  {
   "cell_type": "markdown",
   "metadata": {
    "collapsed": true
   },
   "source": [
    "# Thank You and hope to see you soon "
   ]
  },
  {
   "cell_type": "markdown",
   "metadata": {},
   "source": [
    "<img src=\"img/tc_logo.png\" width=\"500\"/>"
   ]
  }
 ],
 "metadata": {
  "anaconda-cloud": {},
  "kernelspec": {
   "display_name": "Python 3",
   "language": "python",
   "name": "python3"
  },
  "language_info": {
   "codemirror_mode": {
    "name": "ipython",
    "version": 3
   },
   "file_extension": ".py",
   "mimetype": "text/x-python",
   "name": "python",
   "nbconvert_exporter": "python",
   "pygments_lexer": "ipython3",
   "version": "3.6.1"
  }
 },
 "nbformat": 4,
 "nbformat_minor": 1
}
