{
 "cells": [
  {
   "cell_type": "markdown",
   "metadata": {},
   "source": [
    "# <font class='ign_color'>OpenAI MicroCourse </font>"
   ]
  },
  {
   "cell_type": "markdown",
   "metadata": {},
   "source": [
    "## Chapter 0: What is OpenAI gym?"
   ]
  },
  {
   "cell_type": "markdown",
   "metadata": {},
   "source": [
    "OpenAI-Gym makes comparing different AI learning algorithms much easier and robust. It allows easy bench-marking for AI and gives access to other people's algorithms to speed up the AI development process.\n",
    "\n",
    "OpenAI-Gym provides an infrastructure that allows the re-usability of AI learning algorithms with any agent."
   ]
  },
  {
   "cell_type": "markdown",
   "metadata": {},
   "source": [
    "<img />\n",
    "<table style=\"width:100%\">\n",
    "  <tr>\n",
    "    <th>\n",
    "    <figure>\n",
    "      <img id=\"fig-A.1\" src=\"img/hopper_example.gif\" width=\"300\"/>\n",
    "       <center> <figcaption><h2>3d Hopper Learning System</h2></figcaption></center>\n",
    "    </figure>\n",
    "    \n",
    "    </th>\n",
    "    <th>\n",
    "        <figure>\n",
    "      <img id=\"fig-A.2\" src=\"img/mspackman_example.gif\" width=\"230\"/>\n",
    "       <center> <figcaption><h2>MsPacman Game</h2></figcaption></center>\n",
    "    </figure>\n",
    "    </th>    \n",
    "        \n",
    "  </tr>\n",
    "</table>"
   ]
  },
  {
   "cell_type": "markdown",
   "metadata": {},
   "source": [
    "These two totally different simulation systems are using the same AI Algorithm and the same communication system to retreive data from the state of the environment and the rewards obtained. They also use the same system to send the actions that will have to be performed in the next time step."
   ]
  },
  {
   "cell_type": "markdown",
   "metadata": {},
   "source": [
    "This re-usability and high-level performance is obtained through the **OpenAI-Gym API**. Specifically, it is done by creating what is known as **environments**, which are defined in a single file.\n",
    "\n",
    "The objective of this course is to teach you **how to use OpenAI-Gym, using environments defined for the Gazebo Simulator**. This means that, despite the examples in this course that will be exclusively in Gazebo Simulations, the knowledge acquired will be applicable to any system. You will be able to define environments for Gazebo, but also for other simulators, or even other systems."
   ]
  },
  {
   "cell_type": "markdown",
   "metadata": {},
   "source": [
    "## What's in this OpenAI Gazebo-Gym Course?"
   ]
  },
  {
   "cell_type": "markdown",
   "metadata": {},
   "source": [
    "At the end of the course, the following topics will have been addressed:<br>\n",
    "<ol>\n",
    "    <li>Basics of openai-gym API</li>\n",
    "    <li>Definition of environment files for openai-gym, focusing on Gazebo-ROS simulations.</li>\n",
    "    <li>Importation of environments and communication with Gazebo simulations through ROS.</li>\n",
    "    <li>Registration of learning results and data plot</li>\n",
    "    <li>Creation of your own environment through a hands-on example with a drone in Gazebo.</li>\n",
    "</ol>"
   ]
  },
  {
   "cell_type": "markdown",
   "metadata": {},
   "source": [
    "## But How Will You Learn all That?"
   ]
  },
  {
   "cell_type": "markdown",
   "metadata": {},
   "source": [
    "Through hands-on experience from day one! For this MicroCourse, you will work with two different simulations: Turtlebot and Parrot AR-Drone."
   ]
  },
  {
   "cell_type": "markdown",
   "metadata": {},
   "source": [
    "**Turtlebot Simulation**"
   ]
  },
  {
   "cell_type": "markdown",
   "metadata": {},
   "source": [
    "<img src=\"img/turtlebot_intro.png\" width=\"800\"/>"
   ]
  },
  {
   "cell_type": "markdown",
   "metadata": {},
   "source": [
    "**Parrot AR-Drone Simulation**"
   ]
  },
  {
   "cell_type": "markdown",
   "metadata": {},
   "source": [
    "<img src=\"img/drone_intro.png\" width=\"800\"/>"
   ]
  },
  {
   "cell_type": "markdown",
   "metadata": {},
   "source": [
    "The methodology will be as follows:"
   ]
  },
  {
   "cell_type": "markdown",
   "metadata": {},
   "source": [
    "* First, you are going to launch an example of all the systems working.\n",
    "* Then, you will generate your own learning script that communicates with the defined environment.\n",
    "* Afterwards, you will redefine your own environment.\n",
    "* You will then generate all of this for a totally different robot simulation, and see that your scripts work for it in exactly the same way.\n",
    "* Finally, you will plot all your results after the learning is complete, and also during the learning."
   ]
  },
  {
   "cell_type": "markdown",
   "metadata": {},
   "source": [
    "## Minimum requirements for this course"
   ]
  },
  {
   "cell_type": "markdown",
   "metadata": {},
   "source": [
    "* A mid-Python level is required to understand all the examples in this course.\n",
    "* Although this is a self-contained course, it it highly advisable to have a basic understanding of how ROS works. You can get that knowledge in the Ignite course <a href=\"https://www.robotigniteacademy.com/en/course/ros-in-5-days/details/\" target=\"_blank\">**ROS Basics in 5 days**</a>.\n",
    "* Also, basic Unix Shell knowledge is required.\n",
    "* As for AI, we highly recommend you read this book, which will give you a more than sufficient understanding of AI reinforcement algorithms: <a href=\"https://mitpress.mit.edu/books/reinforcement-learning\">Reinforcement-learning</a> by Richard S. Sutton and Andrew G. Barto."
   ]
  },
  {
   "cell_type": "markdown",
   "metadata": {},
   "source": [
    "## Special thanks to:"
   ]
  },
  {
   "cell_type": "markdown",
   "metadata": {},
   "source": [
    "* This course wouldn't have been possible if it weren't for the OpenAI organization that generated this magnificent infrastructure. For more about them, please follow the links:\n",
    "<br><br>\n",
    "<img src=\"img/openai_logo_text.png\" width=\"500\"/>\n",
    "OpenAI: https://gym.openai.com/<br>\n",
    "OpenAI Gym Basic Tutorials: https://gym.openai.com/docs"
   ]
  },
  {
   "cell_type": "markdown",
   "metadata": {},
   "source": [
    "* Also, a big shout out to the guys at Erle Robotics for this magnificent OpenAI-Gym Add-on for Gazebo. Please go to their website and git for the code used and more amazing robotics products.<br>\n",
    "<img src=\"img/erle_logo_text.png\" width=\"600\"/>\n",
    "<br><br>\n",
    "ErleRobotics : http://erlerobotics.com/blog/<br>\n",
    "Gym Gazebo : https://github.com/erlerobot/gym-gazebo"
   ]
  },
  {
   "cell_type": "markdown",
   "metadata": {
    "collapsed": true
   },
   "source": [
    "# Interested? Well, dive in!"
   ]
  }
 ],
 "metadata": {
  "anaconda-cloud": {},
  "kernelspec": {
   "display_name": "Python 3",
   "language": "python",
   "name": "python3"
  },
  "language_info": {
   "codemirror_mode": {
    "name": "ipython",
    "version": 3
   },
   "file_extension": ".py",
   "mimetype": "text/x-python",
   "name": "python",
   "nbconvert_exporter": "python",
   "pygments_lexer": "ipython3",
   "version": "3.6.1"
  }
 },
 "nbformat": 4,
 "nbformat_minor": 1
}
