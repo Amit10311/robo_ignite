{
 "cells": [
  {
   "cell_type": "markdown",
   "metadata": {},
   "source": [
    "# <font class='ign_color'>一周学会ROS</font>"
   ]
  },
  {
   "cell_type": "markdown",
   "metadata": {},
   "source": [
    "# 前言：一周学会ROS指南"
   ]
  },
  {
   "cell_type": "markdown",
   "metadata": {},
   "source": [
    "\n",
    "<table style=\"width:100%\">\n",
    "  <tr>\n",
    "    <th>预计完成时间：30分钟<br><br>你将在本单元学习到哪些内容？\n",
    "     <ul>\n",
    "  <li>本课程的主要目标</li>\n",
    "  <li>课程内容</li>\n",
    "  <li>理论与实践</li>\n",
    "  <li><a href=\"#how_to_proceed\">如何开始？</a></li>\n",
    "  <li>完成本课程后的下一步骤</li>\n",
    "  <li>测试所学内容</li>\n",
    "</ul>\n",
    "\n",
    "   </th>\n",
    "  </tr>\n",
    "</table>"
   ]
  },
  {
   "cell_type": "markdown",
   "metadata": {},
   "source": [
    "## 本单元目标"
   ]
  },
  {
   "cell_type": "markdown",
   "metadata": {},
   "source": [
    "本单元目标是：为你提供基础的工具及知识，让你能够了解并创建任意基础的ROS相关的项目。\n",
    "你将能够移动机器人、理解其传感器数据、处理并行任务、查看复杂数据的视觉表现形式（如点云Point Cloud 等）及其他更多功能。<br>\n",
    "该课程将提供有关知识，让你学会使用复杂ROS包进行目标识别、文本转换语音、导航及其他所有使用ROS开发代码的领域。"
   ]
  },
  {
   "cell_type": "markdown",
   "metadata": {},
   "source": [
    "## 课程内容"
   ]
  },
  {
   "cell_type": "markdown",
   "metadata": {},
   "source": [
    "该课程分为 <span class=\"ign_red\">两个主要部分</span>:<br>\n",
    "    <ol>\n",
    "        <li><span class=\"ign_green\">通过练习来学习ROS</span>: 该部分包含若干单元，各单元会分别讲解ROS的一个主题。但你将学会如何执行代码及使用不同的机器人（如TurtleBot、Ardrone、Wam 或BB-8）。<span class=\"ign_blue\">理论与实践相结合。</span>.</li>\n",
    "        <li><span class=\"ign_green\">Sphero机器人实践练习</span>: 学以致用，你将把在各个单元中所学的知识，<span class=\"ign_blue\">实践于一个控制Sphero 机器人的全面练习中</span>. 此练习的目标是仅通过imu和odometry数据，使 Sphero机器人走出迷宫。</li>\n",
    "    </ol>"
   ]
  },
  {
   "cell_type": "markdown",
   "metadata": {},
   "source": [
    "### 通过练习来学习ROS："
   ]
  },
  {
   "cell_type": "markdown",
   "metadata": {},
   "source": [
    "你将在此学到：<br>\n",
    "<ul>\n",
    "<li>单元1：如何运作ROS基础结构。</li>\n",
    "<li>单元2：ROS主题。</li>\n",
    "<li>单元3：ROS服务。</li>\n",
    "<li>单元4：ROS行动。</li>\n",
    "<li>单元5：ROS调试工具。</li>\n",
    "</ul>"
   ]
  },
  {
   "cell_type": "markdown",
   "metadata": {},
   "source": [
    "每个单元将于<span class=\"ign_green\">约4-5小时的课时</span>中完成。"
   ]
  },
  {
   "cell_type": "markdown",
   "metadata": {},
   "source": [
    "### Sphero机器人实践："
   ]
  },
  {
   "cell_type": "markdown",
   "metadata": {},
   "source": [
    "该实践练习分为多个部分，每个部分发展以下内容：<br>\n",
    "<ul>\n",
    "<li>实践篇1：创建主题发布者与订阅者，以移动Sphero机器人与读取imu数据及odometry数据。</li>\n",
    "<li>实践篇2：创建服务，使用其读取imu并得知移动方向。</li>\n",
    "<li>实践篇3：创建动作，使用其记录odometry并得知Sphero机器人的已移动的距离。</li>\n",
    "<li>实践篇4：创建一个全面的程序，以读/写于主题、使用服务及动作。该篇将让Sphero机器人走出迷宫并结束该课程。</li>\n",
    "</ul>"
   ]
  },
  {
   "cell_type": "markdown",
   "metadata": {},
   "source": [
    "### <span id=\"how_to_proceed\" style=\"color: #E46906\">如何进行？</span>"
   ]
  },
  {
   "cell_type": "markdown",
   "metadata": {},
   "source": [
    "你可以按自己的意愿和节奏去学习本课程，但我们建议你依照以下顺序进行学习：<br>"
   ]
  },
  {
   "cell_type": "markdown",
   "metadata": {},
   "source": [
    "<div class=\"tree\">\n",
    "    <ol>\n",
    "        <li>\n",
    "            <p>第一天</p>\n",
    "            <ul>\n",
    "                <li>单元1：如何运作ROS基础结构，<span class=\"ign_blue\">时间：1.5小时</span></li>\n",
    "                <li><span class=\"ign_green\">开始</span>单元2：ROS主题，<span class=\"ign_blue\">时间：2.5小时</span></li>\n",
    "                <li>实践篇1：创建主题发布者与订阅者，<span class=\"ign_blue\">时间2小时</span></li>\n",
    "            </ul>\n",
    "            <br>\n",
    "        </li>\n",
    "        \n",
    "        <li>\n",
    "            <p>第二天</p>\n",
    "            <ul>\n",
    "                <li><span class=\"ign_red\">结束</span>单元2：ROS主题，<span class=\"ign_blue\">时间：2.5小时</span></li>\n",
    "                <li>单元5：ROS调试工具，<span class=\"ign_blue\">时间：1.5小时</span></li>\n",
    "                <li>实践篇1：创建主题发布者与订阅者，<span class=\"ign_blue\">时间2小时</span></li>\n",
    "            </ul>\n",
    "            <br>\n",
    "        </li>\n",
    "        \n",
    "        <li>\n",
    "            <p>第三天</p>\n",
    "            <ul>\n",
    "                <li><span class=\"ign_green\">开始</span>单元3：ROS服务，<span class=\"ign_blue\">时间：4小时</span></li>\n",
    "                <li>实践篇2：创建服务，<span class=\"ign_blue\">时间：2小时</span></li>\n",
    "            </ul>\n",
    "            <br>\n",
    "        </li>\n",
    "        \n",
    "        <li>\n",
    "            <p>第四天</p>\n",
    "            <ul>\n",
    "                <li><span class=\"ign_red\">结束</span>单元3：ROS服务，<span class=\"ign_blue\">时间：1.5小时</span></li>\n",
    "                <li><span class=\"ign_green\">开始</span>单元4：ROS动作，<span class=\"ign_blue\">时间：2.5小时</span></li>\n",
    "                <li>实践篇3：创建动作，<span class=\"ign_blue\">时间：2小时</span></li>\n",
    "            </ul>\n",
    "            <br>\n",
    "        </li>\n",
    "        \n",
    "        <li>\n",
    "            <p>第五天</p>\n",
    "            <ul>\n",
    "                <li><span class=\"ign_red\">结束</span>单元4：ROS动作，<span class=\"ign_blue\">时间：3小时</span></li>\n",
    "                <li>实践篇4：创建全面程序，<span class=\"ign_blue\">时间：3小时</span></li>\n",
    "            </ul>\n",
    "            <br>\n",
    "        </li>\n",
    "    </ol>\n",
    "</div>"
   ]
  },
  {
   "cell_type": "markdown",
   "metadata": {},
   "source": [
    "### 其它选择"
   ]
  },
  {
   "cell_type": "markdown",
   "metadata": {},
   "source": [
    "如果您对如此简单、快速学习ROS的方式感到兴奋，但仍然偏好于以自己的节奏来深化学习，不用担心！你还有另一个选择。\n",
    "<br><br>\n",
    "The Construct发行了本课程的书籍版本，所以您可以结合此书继续深化课程学习。您可以订购此书通过<a href=\"http://www.theconstructsim.com/ros-in-5-days-book-page\">这个链接</a>。\n",
    "<br><br>\n",
    "<img src=\"img/ros_book.png\" width=\"300\"/>"
   ]
  },
  {
   "cell_type": "markdown",
   "metadata": {},
   "source": [
    "### 完成本课程后的下一步骤"
   ]
  },
  {
   "cell_type": "markdown",
   "metadata": {},
   "source": [
    "课程结束后，你可以开始学习更多的<a href=\"http://www.robotigniteacademy.com/\">Ignite（点燃）</a> 课程，将你所学的所有知识应用到<a href=\"http://www.theconstructsim.com/the-construct-new-homepage/\">The Construct</a>的免费模拟环境中。你还可以通过<a href=\"http://www.theconstructsim.com/shop-landing-page-default/\">Robository</a> 下载机器人模型，在本地安装的od ROS上进行实践，也可前往<a href=\"http://wiki.ros.org/\">ROS Wiki</a>."
   ]
  },
  {
   "cell_type": "markdown",
   "metadata": {},
   "source": [
    "### 通过在线考试获取ROS证书"
   ]
  },
  {
   "cell_type": "markdown",
   "metadata": {},
   "source": [
    "我们提供ROS认证考试，以评估您的ROS水平。某些专业工程师职位将要求此ROS证书。\n",
    "认证考试分为不同级别。如果你完成了此课程，那么你将具备参与黄带级别认证考试的资格：ROS的基础知识。其它更高级别的考试将要求更多的ROS专业知识。\n",
    "该认证考试是在线的，由<a href=\"http://www.theconstructsim.com\">The Construct</a>公司主办。你可以点击访问<a href=\"http://www.mylanderpages.com/theconstruct/ROSExamFree\">这个页面</a>来参与考试。"
   ]
  },
  {
   "cell_type": "code",
   "execution_count": null,
   "metadata": {
    "collapsed": true
   },
   "outputs": [],
   "source": []
  }
 ],
 "metadata": {
  "kernelspec": {
   "display_name": "Python [Root]",
   "language": "python",
   "name": "Python [Root]"
  },
  "language_info": {
   "codemirror_mode": {
    "name": "ipython",
    "version": 2
   },
   "file_extension": ".py",
   "mimetype": "text/x-python",
   "name": "python",
   "nbconvert_exporter": "python",
   "pygments_lexer": "ipython2",
   "version": "2.7.12"
  }
 },
 "nbformat": 4,
 "nbformat_minor": 1
}
