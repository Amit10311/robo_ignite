{
 "cells": [
  {
   "cell_type": "markdown",
   "metadata": {},
   "source": [
    "# <font class='ign_color'>ROS EN UNA SOLA SEMANA </font>"
   ]
  },
  {
   "cell_type": "markdown",
   "metadata": {},
   "source": [
    "# Capítulo 0: Guía para ROS en una Sola Semana"
   ]
  },
  {
   "cell_type": "markdown",
   "metadata": {},
   "source": [
    "\n",
    "<table style=\"width:100%\">\n",
    "  <tr>\n",
    "    <th>Tiempo estimado para completarlo: 30 minutes<br><br>¿Qué vas a aprender en esta unidad?\n",
    "     <ul>\n",
    "  <li>Objetivo principal de este curso</li>\n",
    "  <li>En qué consiste este curso</li>\n",
    "  <li>Teoría y Proyecto</li>\n",
    "  <li><a href=\"#how_to_proceed\">Cómo proceder?</a></li>\n",
    "  <li>Dónde acudir cuando termine</li>\n",
    "  <li>Examen para comprobar qué has aprendido</li>\n",
    "</ul>\n",
    "\n",
    "   </th>\n",
    "  </tr>\n",
    "</table>"
   ]
  },
  {
   "cell_type": "markdown",
   "metadata": {},
   "source": [
    "## Objetivo principal de este curso"
   ]
  },
  {
   "cell_type": "markdown",
   "metadata": {},
   "source": [
    "El objetivo de este curso es darte las herramientas básicas y conocimientos para poder entender y crear cualquier proyecto básico relacionado con ROS. Serás capaz de mover robots, leer los datos de sus sensores, hacer tareas en paralelo, ver representaciones visuales de datos complejos, tales como nubes de puntos... Y mucho más.<br>\n",
    "Este curso te dará los conocimientos para empezar a utilizar paquetes de ROS complejos para el reconocimiento de objetos, texto a voz, navegación y todas las otras áreas en las que ROS dispone de código desarrollado."
   ]
  },
  {
   "cell_type": "markdown",
   "metadata": {},
   "source": [
    "## En qué consiste este curso"
   ]
  },
  {
   "cell_type": "markdown",
   "metadata": {},
   "source": [
    "Este curso se divide en <span class=\"ign_red\">dos partes principales</span>:<br>\n",
    "    <ol>\n",
    "        <li><span class=\"ign_green\">Aprender ROS con ejercicios</span>: Esta parte se compone de unidades, cada una de las cuales te enseña algún tema sobre ROS. Para ello aprenderás ejecutando código y usando diferentes tipos de robots. Robots como Turtlebot, Ardrone, Wam o BB-8. <span class=\"ign_blue\">Teoría a través de experiencia práctica</span>.</li>\n",
    "        <li><span class=\"ign_green\">Proyecto Sphero</span>: Aquí aplicarás lo que has aprendido en cada unidad en un <span class=\"ign_blue\">proyecto completo controlando un robot Sphero</span>. El objetivo es hacer que el Sphero salga de un laberinto solo con datos IMU y odometría.</li>\n",
    "    </ol>"
   ]
  },
  {
   "cell_type": "markdown",
   "metadata": {},
   "source": [
    "### Aprender ROS con ejercicios:"
   ]
  },
  {
   "cell_type": "markdown",
   "metadata": {},
   "source": [
    "Aquí aprenderás:<br>\n",
    "<ul>\n",
    "<li>Unidad 1: Cómo funciona la estructura básica de ROS.</li>\n",
    "<li>Unidad 2: Tópicos ROS</li>\n",
    "<li>Unidad 3: Servicios ROS.</li>\n",
    "<li>Unidad 4: Acciones ROS.</li>\n",
    "<li>Unidad 5: Herramientas de depuración ROS.</li>\n",
    "</ul>"
   ]
  },
  {
   "cell_type": "markdown",
   "metadata": {},
   "source": [
    "Cada unidad está destinada a ser realizada en aproximadamente <span class=\"ign_green\">una sesión de unas 4 o 5 horas</span>."
   ]
  },
  {
   "cell_type": "markdown",
   "metadata": {},
   "source": [
    "### Proyecto Sphero:"
   ]
  },
  {
   "cell_type": "markdown",
   "metadata": {},
   "source": [
    "Se divide en varias secciones, cada una de ellas desarrollando los siguientes puntos:<br>\n",
    "<ul>\n",
    "<li>Sección 1 del proyecto: crear publicadores y suscriptores para mover el Sphero y lectura de los datos IMU y de odometría.</li>\n",
    "<li>Sección 2 del proyecto: crear un servicio que cuando se utiliza lee las IMU y le indica el camino a seguir.</li>\n",
    "<li>Sección 3 del proyecto: crear una acción que cuando se utiliza registra la odometría y le dice a Sphero qué distancia se ha movido.</li>\n",
    "<li>Sección 4 del proyecto: crear un programa global que lee/escribe en los Topicos, y utiliza el servicio y la acción. Esto hará que el Sphero pueda salir en algún momento del laberinto y finalizar el programa.</li>\n",
    "</ul>"
   ]
  },
  {
   "cell_type": "markdown",
   "metadata": {},
   "source": [
    "### <span id=\"how_to_proceed\" style=\"color: #E46906\">¿Cómo proceder?</span>"
   ]
  },
  {
   "cell_type": "markdown",
   "metadata": {},
   "source": [
    "Obviamente puedes hacerlo como quieras, pero te recomendamos seguir el siguiente orden:<br>"
   ]
  },
  {
   "cell_type": "markdown",
   "metadata": {},
   "source": [
    "<div class=\"tree\">\n",
    "    <ol>\n",
    "        <li>\n",
    "            <p>DÍA 1</p>\n",
    "            <ul>\n",
    "                <li>Unidad 1: Cómo funciona la Estructura Básica de ROS, <span class=\"ign_blue\">Tiempo: 1'5 h</span></li>\n",
    "                <li><span class=\"ign_green\">Comenzar </span>Unidad 2: Topicos ROS,<span class=\"ign_blue\">Tiempo: 2'5 h</span></li>\n",
    "                <li>Sección 1 del proyecto: Crear publicadores y suscriptores de topicos, <span class=\"ign_blue\">Tiempo: 2 h</span></li>\n",
    "            </ul>\n",
    "            <br>\n",
    "        </li>\n",
    "        \n",
    "        <li>\n",
    "            <p>DÍA 2</p>\n",
    "            <ul>\n",
    "                <li><span class=\"ign_red\">Terminar </span>Unidad 2: Topicos ROS, <span class=\"ign_blue\">Tiempo: 2'5 h</span></li>\n",
    "                <li>Unidad 5: Herramientas de depuración ROS, <span class=\"ign_blue\">Tiempo: 1'5 h</span></li>\n",
    "                <li>Sección 1 del proyecto: Crear publicadores y suscriptores de topicos, <span class=\"ign_blue\">Tiempo: 2 h</span></li>\n",
    "            </ul>\n",
    "            <br>\n",
    "        </li>\n",
    "        \n",
    "        <li>\n",
    "            <p>DÍA 3</p>\n",
    "            <ul>\n",
    "                <li><span class=\"ign_green\">Comenzar </span>Unidad 3: Servicios ROS, <span class=\"ign_blue\">Tiempo: 4 h</span></li>\n",
    "                <li>Sección 2 del proyecto: Crear un servicio, <span class=\"ign_blue\">Tiempo: 2 h</span></li>\n",
    "            </ul>\n",
    "            <br>\n",
    "        </li>\n",
    "        \n",
    "        <li>\n",
    "            <p>DÍA 4</p>\n",
    "            <ul>\n",
    "                <li><span class=\"ign_red\">Terminar </span>Unidad 3: Servicios ROS, <span class=\"ign_blue\">Tiempo: 1'5 h</span></li>\n",
    "                <li><span class=\"ign_green\">Comenzar </span>Unidad 4: Acciones ROS, <span class=\"ign_blue\">Tiempo: 2'5 h</span></li>\n",
    "                <li>Sección 3 del proyecto: Crear una acción, <span class=\"ign_blue\">Tiempo: 2 h</span></li>\n",
    "            </ul>\n",
    "            <br>\n",
    "        </li>\n",
    "        \n",
    "        <li>\n",
    "            <p>DÍA 5</p>\n",
    "            <ul>\n",
    "                <li><span class=\"ign_red\">Terminar </span>Unidad 4: Acciones ROS, <span class=\"ign_blue\">Tiempo: 3 h</span></li>\n",
    "                <li>Sección 4 del proyecto: Crear un programa global, <span class=\"ign_blue\">Tiempo: 3 h</span></li>\n",
    "            </ul>\n",
    "            <br>\n",
    "        </li>\n",
    "    </ol>\n",
    "</div>"
   ]
  },
  {
   "cell_type": "markdown",
   "metadata": {},
   "source": [
    "### Otras Opciones"
   ]
  },
  {
   "cell_type": "markdown",
   "metadata": {},
   "source": [
    "Si te emociona la posibilidad de aprender ROS de una forma sencilla y rápida, pero aún sientes que te gustaría poder hacerlo más a tu ritmo... no te preocupes!\n",
    "<br><br>\n",
    "The Construct ha lanzado una <b>versión del Curso en Libro</b>, de manera que puedas completar el curso de la forma que tú prefieras. Puedes encargar el libro en <a href=\"http://www.theconstructsim.com/ros-in-5-days-book-page\">este link</a>. \n",
    "<br><br>\n",
    "<img src=\"img/ros_book.png\" width=\"300\"/>"
   ]
  },
  {
   "cell_type": "markdown",
   "metadata": {},
   "source": [
    "### Dónde acudir cuando termines"
   ]
  },
  {
   "cell_type": "markdown",
   "metadata": {},
   "source": [
    "Cuando hayas terminado este curso,  puedes hacer más cursos <a href=\"http://www.robotigniteacademy.com/\">Ignite</a>, puedes aplicar todo lo aprendido en el entorno de simulación gratuito de <a href=\"http://www.theconstructsim.com/the-construct-new-homepage/\">TheConstruct</a>, puedes descargar los modelos de robots para poner en práctica en una instalación local de ROS a través de <a href=\"http://www.theconstructsim.com/shop-landing-page-default/\">Robository</a> y puedes ir a la <a href=\"http://wiki.ros.org/\">ROS Wiki</a>."
   ]
  },
  {
   "cell_type": "markdown",
   "metadata": {},
   "source": [
    "### Obtén un Certificado de ROS haciendo el examen Online"
   ]
  },
  {
   "cell_type": "markdown",
   "metadata": {},
   "source": [
    "Robot Ignite Academy provee un examen de certifiación de ROS para evaluar tu nivel de ROS. Éste certificado puede ser necesario para ciertos empleos que requieran de ingenieros con conocimientos de ROS.<br><br>\n",
    "Hay varios niveles de de certificación. SI has completado éste curso, entonces estás listo para hacer el <b>nivel de certifiación amarillo</b>: Conocimientos básico de ROS. Certificados de nivel superior requieren un mayor conocimientos de ROS.<br><br>\n",
    "Este examen de certifiación se hace de manera online y es ofrecido por <a href=\"http://www.theconstructsim.com\">The Construct</a>. Puedes hacer el examen de certifiación visitando <a href=\"http://www.mylanderpages.com/theconstruct/ROSExamFree\">esta página</a>.\n"
   ]
  },
  {
   "cell_type": "code",
   "execution_count": null,
   "metadata": {
    "collapsed": true
   },
   "outputs": [],
   "source": []
  }
 ],
 "metadata": {
  "anaconda-cloud": {},
  "kernelspec": {
   "display_name": "Python [Root]",
   "language": "python",
   "name": "Python [Root]"
  },
  "language_info": {
   "codemirror_mode": {
    "name": "ipython",
    "version": 2
   },
   "file_extension": ".py",
   "mimetype": "text/x-python",
   "name": "python",
   "nbconvert_exporter": "python",
   "pygments_lexer": "ipython2",
   "version": "2.7.12"
  }
 },
 "nbformat": 4,
 "nbformat_minor": 1
}
