{
 "cells": [
  {
   "cell_type": "markdown",
   "metadata": {},
   "source": [
    "# <font class='ign_color'>五天学会 ROS课程</font>"
   ]
  },
  {
   "cell_type": "markdown",
   "metadata": {},
   "source": [
    "# 第1章：基础概念"
   ]
  },
  {
   "cell_type": "markdown",
   "metadata": {},
   "source": [
    "<table style=\"width:100%\">\n",
    "  <tr>\n",
    "    <th>预计完成时间：1小时<br><br>你将在本单元内学习哪些内容？\n",
    "<ul>\n",
    "  <li>什么是“包”（package）</li>\n",
    "  <li>如何创建与处理包</li>\n",
    "  <li>如何启动ROS程序（启动文件）</li>\n",
    "  <li>创建基础ROS程序（Python）</li>\n",
    "  <li>基础ROS概念：节点、参数服务器、环境变量、Ros节点(ROScore)</li>\n",
    "</ul></th>\n",
    "    <th><img src=\"img/kobuki.jpg\" width=\"212\" height=\"236\" /></th> \n",
    "  </tr>\n",
    "</table>"
   ]
  },
  {
   "cell_type": "markdown",
   "metadata": {},
   "source": [
    "什么是<b>ROS</b>？这可能是每个人来学习该课程的疑问。但是，我想告诉你，你目前还没准备好了解该问题的答案，所以……让我们先从别的方面入手吧。"
   ]
  },
  {
   "cell_type": "markdown",
   "metadata": {},
   "source": [
    "## 通过ROS移动机器人"
   ]
  },
  {
   "cell_type": "markdown",
   "metadata": {},
   "source": [
    "在屏幕的右上角，你会获得自己的第一个模拟机器人：Turtlebot-2机器人。<br>\n",
    "<h3>让我们移动这个机器人吧！</h3>\n",
    "<br>\n",
    "如何移动Turtlebot机器人呢？<br>\n",
    "最简单的方式是通过执行现有的ROS程序来控制该机器人。通过使用一些名为[启动文件<i>launch files</i>的特殊文件来执行ROS程序。<br><br>\n",
    "由于已经存在一个现有的ROS程序，所以你可以通过键盘来操作机器人。让我们启动该ROS程序来遥控你的机器人。"
   ]
  },
  {
   "cell_type": "markdown",
   "metadata": {},
   "source": [
    "<p style=\"background:#407EAF;color:white;\">示例 1.1</p><br>\n",
    "在 WebShell number #1 执行下述指令<br>\n",
    "\n",
    "<table style=\"float:left;background: #407EAF\">\n",
    "<tr>\n",
    "<th>\n",
    "<p class=\"transparent\">在WebShell #1中执行</p><br>\n",
    "roslaunch turtlebot_teleop keyboard_teleop.launch  <br>\n",
    "</th>\n",
    "</tr>\n",
    "</table>\n",
    "<br>"
   ]
  },
  {
   "cell_type": "markdown",
   "metadata": {},
   "source": [
    "<table style=\"float:left;background: #407EAF\">\n",
    "<tr>\n",
    "<th>\n",
    "<p style=\"background: #407EAF; color:white\">WebShell #1输出</p>\n",
    "</th>\n",
    "</tr>\n",
    "</table>"
   ]
  },
  {
   "cell_type": "raw",
   "metadata": {},
   "source": [
    "Control Your Turtlebot!\n",
    "---------------------------\n",
    "Moving around:\n",
    "   u    i    o\n",
    "   j    k    l\n",
    "   m    ,    .\n",
    "\n",
    "q/z : increase/decrease max speeds by 10%\n",
    "w/x : increase/decrease only linear speed by 10%\n",
    "e/c : increase/decrease only angular speed by 10%\n",
    "space key, k : force stop\n",
    "anything else : stop smoothly\n",
    "\n",
    "CTRL-C to quit"
   ]
  },
  {
   "cell_type": "markdown",
   "metadata": {},
   "source": [
    "<table style=\"float:left;\">\n",
    "<tr>\n",
    "<th>\n",
    "<p style=\"background:#3B8F10;color:white;\">练习1.1的资料</p><br>\n",
    "现在，你可使用WebShell Output中指示的按键来移动机器人<br>\n",
    "<span style=\"color:orange\">i</span>: 前进<br>\n",
    "<span style=\"color:orange\">,</span>: 后退<br>\n",
    "<span style=\"color:orange\">k</span>: 停止<br>\n",
    "<span style=\"color:orange\">l</span>: 左转<br>\n",
    "<span style=\"color:orange\">j</span>: 右转<br>\n",
    "<span style=\"color:orange\">u</span>: 右转并前进<br>\n",
    "<span style=\"color:orange\">o</span>: 左转并前进<br>\n",
    "<span style=\"color:orange\">m</span>: 左转并后退<br>\n",
    "<span style=\"color:orange\">.</span>: 右转并后退<br>\n",
    "\n",
    "<span style=\"color:orange\">q/z</span>: 加速/减速<br>\n",
    "\n",
    "试试看！！当你结束操作时，你可使用Ctrl+C停止运行该程序。<br>\n",
    "</th>\n",
    "</tr>\n",
    "</table>"
   ]
  },
  {
   "cell_type": "markdown",
   "metadata": {},
   "source": [
    "<i class=\"ign_green\">roslaunch </i>是用于启动ROS程序的指令。结构如下："
   ]
  },
  {
   "cell_type": "raw",
   "metadata": {},
   "source": [
    "roslaunch <package_name> <launch_file>"
   ]
  },
  {
   "cell_type": "markdown",
   "metadata": {},
   "source": [
    "正如你所见，该指令有两个参数：第一个参数是包含了启动文件(launch file)的包的名称，第二个参数为启动文件(launch file)本身的名称（该启动文件保存于包中）。"
   ]
  },
  {
   "cell_type": "markdown",
   "metadata": {},
   "source": [
    "## 现在……那什么是包呢(package)？"
   ]
  },
  {
   "cell_type": "markdown",
   "metadata": {},
   "source": [
    "ROS使用包来组织其程序。你可以将包视为一个特定ROS程序所包含的所有文件；所有cpp文件、python文件、配置文件、编译文件与参数文件。\n",
    "包中的所有文件按以下结构组织：\n"
   ]
  },
  {
   "cell_type": "markdown",
   "metadata": {},
   "source": [
    "<table>\n",
    "<tr>\n",
    "<th>\n",
    "<ul>\n",
    "<li>启动文件夹</li>\n",
    "</ul>\n",
    "</th>\n",
    "<th>\n",
    "包含启动文件\n",
    "</th>\n",
    "</tr>\n",
    "\n",
    "<tr>\n",
    "<th>\n",
    "<ul>\n",
    "<li>src文件夹</li>\n",
    "</ul>\n",
    "</th>\n",
    "<th>\n",
    "源文件（cpp、python）\n",
    "</th>\n",
    "</tr>\n",
    "\n",
    "<tr>\n",
    "<th>\n",
    "<ul>\n",
    "<li>CMakeLists.txt</li>\n",
    "</ul>\n",
    "</th>\n",
    "<th>\n",
    "编写的cmake规则列表\n",
    "</th>\n",
    "</tr>\n",
    "\n",
    "<tr>\n",
    "<th>\n",
    "<ul>\n",
    "<li>package.xml</li>\n",
    "</ul>\n",
    "</th>\n",
    "<th>\n",
    "包的信息与相关性\n",
    "</th>\n",
    "</tr>\n",
    "\n",
    "</table>\n"
   ]
  },
  {
   "cell_type": "markdown",
   "metadata": {},
   "source": [
    "若前往任意ROS包，ROS会提供一个名为<i class=\"ign_green\">roscd</i>的指令。当输入："
   ]
  },
  {
   "cell_type": "raw",
   "metadata": {},
   "source": [
    " roscd <package_name>"
   ]
  },
  {
   "cell_type": "markdown",
   "metadata": {},
   "source": [
    "会带你前往包<i>package_name</i>所在位置。"
   ]
  },
  {
   "cell_type": "markdown",
   "metadata": {},
   "source": [
    "<p style=\"background:#407EAF;color:white;\">示例1.2</p><br>\n",
    "前往Web Shell #1，查看turtlebot_teleop包，并检查其具有该结构。<br>\n",
    "\n",
    "<table style=\"float:left;background: #407EAF\">\n",
    "<tr>\n",
    "<th>\n",
    "<p class=\"transparent\">在WebShell number #1 中执行</p><br>\n",
    "roscd turtlebot_teleop<br>\n",
    "ls<br>\n",
    "</th>\n",
    "</tr>\n",
    "</table>\n",
    "<br>"
   ]
  },
  {
   "cell_type": "markdown",
   "metadata": {},
   "source": [
    "你想要执行的每个ROS程序都会在一个包中进行组织。<br>\n",
    "你创建的每个ROS程序都会在一个包中进行组织。<br>\n",
    "包是ROS程序的主要组织系统。"
   ]
  },
  {
   "cell_type": "markdown",
   "metadata": {},
   "source": [
    "## 那么……什么是启动文件？"
   ]
  },
  {
   "cell_type": "markdown",
   "metadata": {},
   "source": [
    "我们已知，ROS通过使用启动文件来执行程序。但是……他们是如何工作的呢？让我们来了解下。\n"
   ]
  },
  {
   "cell_type": "markdown",
   "metadata": {},
   "source": [
    "<p id=\"example-1.3\" style=\"background:#407EAF;color:white;\">示例1.3</p><br>\n",
    "打开turtlebot_teleop包内的启动文件夹，并查看keyboard_teleop.启动文件。<br>\n",
    "\n",
    "<table style=\"float:left;background: #407EAF\">\n",
    "<tr>\n",
    "<th>\n",
    "<p class=\"transparent\">在WebShell number #1 中执行</p><br>\n",
    "roscd turtlebot_teleop<br>\n",
    "cd launch<br>\n",
    "cat keyboard_teleop.launch<br>\n",
    "</th>\n",
    "</tr>\n",
    "</table>\n",
    "<br>"
   ]
  },
  {
   "cell_type": "markdown",
   "metadata": {},
   "source": [
    "<table style=\"float:left;background: #407EAF\">\n",
    "<tr>\n",
    "<th>\n",
    "<p style=\"background: #407EAF; color:white\">WebShell #1输出</p>\n",
    "</th>\n",
    "</tr>\n",
    "</table>"
   ]
  },
  {
   "cell_type": "raw",
   "metadata": {},
   "source": [
    "<launch>\n",
    "  <!-- turtlebot_teleop_key already has its own built in velocity smoother -->\n",
    "  <node pkg=\"turtlebot_teleop\" type=\"turtlebot_teleop_key.py\" name=\"turtlebot_teleop_keyboard\"  output=\"screen\">\n",
    "    <param name=\"scale_linear\" value=\"0.5\" type=\"double\"/>\n",
    "    <param name=\"scale_angular\" value=\"1.5\" type=\"double\"/>\n",
    "    <remap from=\"turtlebot_teleop_keyboard/cmd_vel\" to=\"/cmd_vel\"/>   <!-- cmd_vel_mux/input/teleop\"/-->\n",
    "  </node>\n",
    "</launch>"
   ]
  },
  {
   "cell_type": "markdown",
   "metadata": {},
   "source": [
    "<font class='ign_red'>在启动文件夹中，有一些额外标签用于设置参数及重测图(remaps)。现在，不要担心这些标签，请关注于节点标签。</font>"
   ]
  },
  {
   "cell_type": "markdown",
   "metadata": {},
   "source": [
    "所有的启动文件包含在一个启动标签内。其中，你可看到一个节点标签，我们在其中指出了下述参数："
   ]
  },
  {
   "cell_type": "markdown",
   "metadata": {},
   "source": [
    "<ol>\n",
    "<li>pkg=\"package_name\" # 包含python文件的包的名称 </li>\n",
    "<li>type=\"python_file_name.py\" # 包含我们程序代码的Python文件的名称 </li>\n",
    "<li>name=\"node_name\" # 将启动Python文件的ROS节点的名称 </li>\n",
    "<li>output=\"type_of_output\" # 通过这些渠道，显现你输出的Python文件 </li>\n",
    "</ol>\n",
    "\n",
    "<p style=\"background:#407EAF;color:white;\">示例1.3结束</p><br>"
   ]
  },
  {
   "cell_type": "markdown",
   "metadata": {},
   "source": [
    "## 创建包"
   ]
  },
  {
   "cell_type": "markdown",
   "metadata": {},
   "source": [
    "目前为止，我们已经查看了已创建的包的结构……现在，让我们自己创建一个包。\n",
    "\n",
    "当你想要创建包时，我们需要在特定的ROS工作区中操作，该工作区名为catkin工作区。该工作区是你硬盘中的目录（你的ROS 包必须存在此工作区, 你才能够使用ROS 包）。通常，该catkin工作区目录名为catkin_ws。"
   ]
  },
  {
   "cell_type": "markdown",
   "metadata": {},
   "source": [
    "<p id=\"example-1.4\" style=\"background:#407EAF;color:white;\">示例1.4</p><br>\n",
    "前往你web shell中的catkin_ws。<br>\n",
    "首先在shell中输入roscd。你会看到，你进入catkin_ws/devel目录。由于你想要前往工作区，只需输入cd .来移动目录1。你必须/home/user/catkin_ws.停止上移。<br>\n",
    "\n",
    "<table style=\"float:left;background: #407EAF\">\n",
    "<tr>\n",
    "<th>\n",
    "<p class=\"transparent\">在WebShell number #1</p><br>\n",
    "roscd<br>\n",
    "cd ..<br>\n",
    "pwd<br>\n",
    "</th>\n",
    "</tr>\n",
    "</table>\n",
    "<br><br><br><br><br><br><br>\n",
    "\n",
    "\n",
    "<table style=\"float:left;\" class=\"transparent\">\n",
    "<tr>\n",
    "<th>\n",
    "<p style=\"background: #407EAF\">WebShell #1输出</p><br>\n",
    "user ~ $ pwd<br>\n",
    "/home/user/catkin_ws\n",
    "</th>\n",
    "</tr>\n",
    "</table>\n",
    "<br><br><br><br><br><br><br>\n",
    "\n",
    "在该工作区中，你将拥有一个名为‘src’的目录。该文件夹将包含我们创建的所有包。每当我们创建一个包时，我们必须在该目录内（'catkin_ws/src'）。在你的web shell中输入“cd src”以移动至源目录。<br>\n",
    "\n",
    "<table style=\"float:left;background: #407EAF\">\n",
    "<tr>\n",
    "<th>\n",
    "<p class=\"transparent\">在WebShell number #1 中执行</p><br>\n",
    "cd src<br>\n",
    "</th>\n",
    "</tr>\n",
    "</table>\n",
    "<br><br><br><br><br>\n",
    "\n",
    "现在，我们已经准备好创建我们第一个包了！请在你的web shell中输入：<br>\n",
    "\n",
    "<table style=\"float:left;background: #407EAF\">\n",
    "<tr>\n",
    "<th>\n",
    "<p class=\"transparent\">在WebShell number #1 中执行</p><br>\n",
    "catkin_create_pkg my_package rospy<br>\n",
    "</th>\n",
    "</tr>\n",
    "</table>\n",
    "<br><br><br><br><br>\n",
    "\n",
    "这将会在我们的“src”目录中创建一个新的且包含文件的包 。我们稍后再查看这个。现在，让我们来看看如何构建该指令：<br>\n",
    "\n",
    "<span class=\"ign_green\">catkin_create_pkg &lt;package_name&gt; &lt;package_dependecies&gt;</span><br><br>\n",
    "\n",
    "<p style=\"background:#407EAF;color:white;\">示例1.4结束</p><br>"
   ]
  },
  {
   "cell_type": "markdown",
   "metadata": {},
   "source": [
    "<p style=\"background:#407EAF;color:white;\">示例1.5</p><br>\n",
    "为了确认我们已成功创建一个包，我们可使用与包有关的一些ROS指令。例如，我们输入：<br>\n",
    "\n",
    "<table style=\"float:left;background: #407EAF\">\n",
    "<tr>\n",
    "<th>\n",
    "<p class=\"transparent\">在WebShell number #1 中执行</p><br>\n",
    "rospack list<br>\n",
    "rospack list | grep my_package<br>\n",
    "roscd my_package \n",
    "</th>\n",
    "</tr>\n",
    "</table>\n",
    "<br><br><br><br><br><br><br>\n",
    "\n",
    "<span class=\"ign_green\">rospack list</span>: 将看到一个你的ROS中所有包的列表。<br>\n",
    "<span class=\"ign_green\">rospack list | grep my_package</span>: 在ROS系统的包中过滤出my_package包。<br>\n",
    "<span class=\"ign_green\">roscd my_package</span>: 前往相应的包\n",
    "\n",
    "你还可以通过经IDE查看已创建的包及其内容 (<a href=\"#fig-1.1\">与图1.1类似</a>)<br>\n",
    "<figure>\n",
    "  <img id=\"fig-1.1\" src=\"img/my_package.png\"><br>\n",
    "   <center> <figcaption>图1.1—IDE已创建的包my_package</figcaption></center>\n",
    "</figure>\n",
    "<br><br>\n",
    "\n",
    "\n",
    "<p style=\"background:#407EAF;color:white;\">示例1.5结束</p><br>"
   ]
  },
  {
   "cell_type": "markdown",
   "metadata": {},
   "source": [
    "## 我的第一个ROS程序"
   ]
  },
  {
   "cell_type": "markdown",
   "metadata": {},
   "source": [
    "现在，你应该已拥有了第一个创建的包……但是现在你需要对这个包进行一些操作！让我们开始处理我们的首个ROS程序吧！"
   ]
  },
  {
   "cell_type": "markdown",
   "metadata": {},
   "source": [
    "\n",
    "<table style=\"float:left;\">\n",
    "<tr>\n",
    "<th>\n",
    "<p style=\"background:#EE9023;color:white;\">练习1.1</p>\n",
    "    <ol>\n",
    "    \n",
    "        <li>\n",
    "        在my_package创建src目录，一个python文件将被执行。在这个练习中，只需要复制此python代码<a href=\"#simple_python\">simple.py</a>。你可以直接在你包的src目录中右击IDE来创建它, 并选择新的文件<a href=\"#fig-1.3\">{图-1.3}</a>\n",
    "        </li>\n",
    "    \n",
    "        <li>\n",
    "        在你的包中创建一个启动目录， <a href=\"#example-1.4\">{示例 1.4}</a>.<br>\n",
    "        <table style=\"float:left;background: #407EAF\">\n",
    "        <tr>\n",
    "        <th>\n",
    "        <p class=\"transparent\">在WebShell #1中执行</p><br>\n",
    "        roscd my_package<br>\n",
    "        mkdir launch<br>\n",
    "        </th>\n",
    "        </tr>\n",
    "        </table>\n",
    "        <br><br><br><br><br><br>\n",
    "        你也可以通过IDE来创建它。<br>\n",
    "        </li>\n",
    "        \n",
    "        <li>\n",
    "        在启动目录中创建一个新的启动文件<br>\n",
    "        <table style=\"float:left;background: #407EAF\">\n",
    "        <tr>\n",
    "        <th>\n",
    "        <p class=\"transparent\">在WebShell #1中执行</p><br>\n",
    "        touch launch/my_launch_file.launch<br>\n",
    "        </th>\n",
    "        </tr>\n",
    "        </table>\n",
    "        <br><br><br><br><br>\n",
    "        你也可以通过IDE来创建它。<br>\n",
    "        </li>\n",
    "        \n",
    "        <li>\n",
    "        填写此启动文件，如同我们之前在本课程中所见到的<a href=\"#example-1.3\">{示例1.3}</a>.<br>\n",
    "        <font class='ign_green'>提示：你可以在turtlebot_teleop包和keyboard_teleop.launch文件中复制，并修改它。如果这样做，请删除参数和重新映射标记，并只保留节点标记。因为你不需要那些参数。</font><br>\n",
    "        最后启动的应该类似此 <a href=\"#my_package_launch_file\">my_package_launch_file.launch</a>格式<br>\n",
    "        </li>\n",
    "        <li>\n",
    "         最后在WebShell中启动roslaunch命令，以启动你的程序。\n",
    "         <table style=\"float:left;background: #407EAF\">\n",
    "        <tr>\n",
    "        <th>\n",
    "        <p class=\"transparent\">在WebShell #1中执行</p><br>\n",
    "        roslaunch my_package my_package_launch_file.launch<br>\n",
    "        </th>\n",
    "        </tr>\n",
    "        </table>\n",
    "        <br><br><br><br><br><br><br>\n",
    "        </li>\n",
    "    </ol>\n",
    "<p style=\"background:#AE0202;color:white;\">练习1.1的预期结果</p><br>\n",
    "你应该在roslaunch命令的输出中看到Leia’s引号。\n",
    "\n",
    "<table class=\"transparent float_l\">\n",
    "<tr>\n",
    "<th>\n",
    "<p style=\"background: #407EAF\">WebShell #1中输出</p><br>\n",
    "user catkin_ws $ roslaunch my_package my_launch_file.launch<br>\n",
    "... logging to /home/user/.ros/log/d29014ac-911c-11e6-b306-02f9ff83faab/roslaunch-ip-172-31-30-5-28204.log<br>\n",
    "Checking log directory for disk usage. This may take awhile.<br>\n",
    "Press Ctrl-C to interrupt<br>\n",
    "Done checking log file disk usage. Usage is <1GB.<br>\n",
    "<br>\n",
    "started roslaunch server http://ip-172-31-30-5:40504/<br>\n",
    "<br>\n",
    "SUMMARY<br>\n",
    "========<br>\n",
    "<br>\n",
    "PARAMETERS<br>\n",
    " * /rosdistro: indigo<br>\n",
    " * /rosversion: 1.11.20<br>\n",
    "<br>\n",
    "NODES<br>\n",
    "  /<br>\n",
    "    ObiWan (my_package/simple.py)<br>\n",
    "<br>\n",
    "ROS_MASTER_URI=http://localhost:11311<br>\n",
    "<br>\n",
    "core service [/rosout] found<br>\n",
    "process[ObiWan-1]: started with pid [28228]<br>\n",
    "<span class=\"ign_red\">Help me Obi-Wan Kenobi, you're my only hope</span><br>\n",
    "[ObiWan-1] process has finished cleanly<br>\n",
    "log file: /home/user/.ros/log/d29014ac-911c-11e6-b306-02f9ff83faab/ObiWan-1*.log<br>\n",
    "all processes on machine have died, roslaunch will exit<br>\n",
    "shutting down processing monitor...<br>\n",
    "... shutting down processing monitor complete<br>\n",
    "done<br>\n",
    "</th>\n",
    "</tr>\n",
    "</table>\n",
    "<br><br><br><br><br><br><br>\n",
    "<br><br><br><br><br><br><br>\n",
    "<br><br><br><br><br><br><br>\n",
    "<br><br><br><br><br><br><br>\n",
    "<br><br><br><br><br><br><br>\n",
    "<span class=\"ign_red\">有时，ROS将不会检测到你刚刚创建的包，所以你将无法做一个roslaunch。这种情况下， 你可以强制ROS使用以下指令来刷新包列表：</span><br>\n",
    "\n",
    "<table style=\"float:left;background: #407EAF\">\n",
    "        <tr>\n",
    "        <th>\n",
    "        <p class=\"transparent\">在WebShell #1中执行</p><br>\n",
    "        rospack profile<br>\n",
    "        </th>\n",
    "        </tr>\n",
    "        </table>\n",
    "</th>\n",
    "</tr>\n",
    "</table>"
   ]
  },
  {
   "cell_type": "markdown",
   "metadata": {},
   "source": [
    "<p style=\"background:#3B8F10;color:white;\" id=\"simple_python\">Python 程序 {1.1a-py}: simple.py </p><br>"
   ]
  },
  {
   "cell_type": "code",
   "execution_count": null,
   "metadata": {
    "collapsed": true
   },
   "outputs": [],
   "source": [
    "#! /usr/bin/env python\n",
    "\n",
    "import rospy\n",
    "\n",
    "rospy.init_node('ObiWan')\n",
    "print \"Help me Obi-Wan Kenobi, you're my only hope\""
   ]
  },
  {
   "cell_type": "markdown",
   "metadata": {},
   "source": [
    "你可能想知道这整行代码的意思是吗？好的，让我们来逐行解释：\n"
   ]
  },
  {
   "cell_type": "code",
   "execution_count": null,
   "metadata": {
    "collapsed": false
   },
   "outputs": [],
   "source": [
    "#! /usr/bin/env python \n",
    "# 此行代码将确保解译器在$PATH环境中第一个被使用。每当开始创建一个Python文件时，我们都需要在最顶部输入此行代码。\n",
    "\n",
    "import rospy # 我们输入 rospy,这是一个用于ROS的Python库。\n",
    "\n",
    "rospy.init_node('ObiWan') # 我们启动一个名为ObiWan的节点\n",
    "\n",
    "print \"Help me Obi-Wan Kenobi, you're my only hope\" # 一个简单的Python print\n"
   ]
  },
  {
   "cell_type": "markdown",
   "metadata": {},
   "source": [
    "<font class='ign_red'>注意：如果你从shell中创建Python文件，可能会发生在 创建后没有执行权限的情况。当发生此情况时，ROS将无法找到它。如果你发生此情况，你可以通过键入以下命令来授予此文件的执行权限:  <i>chmod +x name_of_the_file.py</i></font>"
   ]
  },
  {
   "cell_type": "markdown",
   "metadata": {},
   "source": [
    "<p style=\"background:#3B8F10;color:white;\">结束Python编程 {1.1-py}: simple.py </p><br>"
   ]
  },
  {
   "cell_type": "markdown",
   "metadata": {},
   "source": [
    "<p style=\"background:#3B8F10;color:white;\" id=\"my_package_launch_file\">启动文件 {1.1-l}: my_package_launch_file.launch </p><br>"
   ]
  },
  {
   "cell_type": "markdown",
   "metadata": {},
   "source": [
    "你应该在此my_launch_file.launch文件中找到相似的东西<br>"
   ]
  },
  {
   "cell_type": "raw",
   "metadata": {},
   "source": [
    "<launch>\n",
    "    <!-- My Package launch file -->\n",
    "    <node pkg=\"my_package\" type=\"simple.py\" name=\"ObiWan\"  output=\"screen\">\n",
    "    </node>\n",
    "</launch>"
   ]
  },
  {
   "cell_type": "markdown",
   "metadata": {},
   "source": [
    "<p style=\"background:#3B8F10;color:white;\" id=\"my_package_launch_file\">结束启动文件 {1.1-l}: my_package_launch_file.launch </p><br>"
   ]
  },
  {
   "cell_type": "markdown",
   "metadata": {},
   "source": [
    "## ROS节点"
   ]
  },
  {
   "cell_type": "markdown",
   "metadata": {},
   "source": [
    "你已经在以前的代码中曾发起一个节点，但是……什么是节点呢？ROS节点是程序用于获取ROS功能的基本进程。查看正在运行的节点的ROS指令是：\n"
   ]
  },
  {
   "cell_type": "raw",
   "metadata": {},
   "source": [
    "rosnode list"
   ]
  },
  {
   "cell_type": "markdown",
   "metadata": {},
   "source": [
    "<p style=\"background:#407EAF;color:white;\">示例1.6</p><br>\n",
    "在新的shell中输入该指令，并查看你刚发起的节点（ObiWan）。<br>\n",
    "\n",
    "<table style=\"float:left;background: #407EAF\">\n",
    "<tr>\n",
    "<th>\n",
    "<p class=\"transparent\">Execute in WebShell #1</p><br>\n",
    "rosnode list<br>\n",
    "</th>\n",
    "</tr>\n",
    "</table>\n",
    "<br><br><br><br><br><br>\n",
    "\n",
    "找不到？那么，这是因为当Phthon程序结束时，该节点被终止了。<br>\n",
    "我们来改一下。<br>\n",
    "更新你的Python文件 <a href=\"#simple_python\">simple.py</a> 通过输入以下代码:"
   ]
  },
  {
   "cell_type": "markdown",
   "metadata": {},
   "source": [
    "<p style=\"background:#3B8F10;color:white;\" id=\"simple_loop_python\">Python编程 {1.1b-py}: simple_loop.py </p><br>"
   ]
  },
  {
   "cell_type": "code",
   "execution_count": null,
   "metadata": {
    "collapsed": true
   },
   "outputs": [],
   "source": [
    "#! /usr/bin/env python\n",
    "\n",
    "import rospy\n",
    "\n",
    "rospy.init_node(\"ObiWan\")\n",
    "rate = rospy.Rate(2)               # 我们创建了一个Rate目标\n",
    "while not rospy.is_shutdown():     # 我们阻止程序在Ctrl + C之前结束\n",
    "   print \"Help me Obi-Wan Kenobi, you're my only hope\"\n",
    "   rate.sleep()                    # 我们休眠所需的时间以维持上述固定的Rate。"
   ]
  },
  {
   "cell_type": "markdown",
   "metadata": {},
   "source": [
    "<p style=\"background:#3B8F10;color:white;\">结束Python编程 {1.1b-py}: simple_loop.py </p><br>"
   ]
  },
  {
   "cell_type": "markdown",
   "metadata": {},
   "source": [
    "使用roslaunch命令再次启动你的程序<br>\n",
    "<table style=\"float:left;background: #407EAF\">\n",
    "<tr>\n",
    "<th>\n",
    "<p class=\"transparent\">在WebShell number #1 中执行</p><br>\n",
    "roslaunch my_package my_package_launch_file.launch<br>\n",
    "</th>\n",
    "</tr>\n",
    "</table>\n",
    "<br><br><br><br><br><br>\n",
    "\n",
    "\n",
    "现在再试一下:<br>\n",
    "<table style=\"float:left;background: #407EAF\">\n",
    "<tr>\n",
    "<th>\n",
    "<p class=\"transparent\">在WebShell number #1 中执行</p><br>\n",
    "rosnode list<br>\n",
    "</th>\n",
    "</tr>\n",
    "</table>\n",
    "<br><br><br><br><br><br>\n",
    "\n",
    "现在看到你的节点了吗？"
   ]
  },
  {
   "cell_type": "markdown",
   "metadata": {},
   "source": [
    "<table class=\"transparent float_l\">\n",
    "<tr>\n",
    "<th>\n",
    "<p style=\"background: #407EAF\">WebShell #1输出</p><br>\n",
    "user ~ $ rosnode list<br>\n",
    "/ObiWan<br>\n",
    "/cmd_vel_mux<br>\n",
    "/gazebo<br>\n",
    "/mobile_base_nodelet_manager<br>\n",
    "/robot_state_publisher<br>\n",
    "/rosout<br>\n",
    "</th>\n",
    "</tr>\n",
    "</table>"
   ]
  },
  {
   "cell_type": "markdown",
   "metadata": {},
   "source": [
    "为了查看有关节点的信息，我们可以使用以下指令：\n",
    "    "
   ]
  },
  {
   "cell_type": "raw",
   "metadata": {},
   "source": [
    "rosnode info /ObiWan"
   ]
  },
  {
   "cell_type": "markdown",
   "metadata": {},
   "source": [
    "该指令将显示我们节点所拥有的所有连接的相关信息。"
   ]
  },
  {
   "cell_type": "markdown",
   "metadata": {},
   "source": [
    "<table style=\"float:left;background: #407EAF\">\n",
    "<tr>\n",
    "<th>\n",
    "<p class=\"transparent\">在WebShell number #1 中执行</p><br>\n",
    "rosnode info /ObiWan\n",
    "</th>\n",
    "</tr>\n",
    "</table>"
   ]
  },
  {
   "cell_type": "markdown",
   "metadata": {},
   "source": [
    "<table class=\"transparent float_l\">\n",
    "<tr>\n",
    "<th>\n",
    "<p style=\"background: #407EAF\">WebShell #1输出</p><br>\n",
    "user ~ $ rosnode info /ObiWan<br>\n",
    "--------------------------------------------------------------------------------<br>\n",
    "Node [/ObiWan]<br>\n",
    "Publications:<br>\n",
    " * /rosout [rosgraph_msgs/Log]<br>\n",
    "<br>\n",
    "Subscriptions:<br>\n",
    " * /clock [rosgraph_msgs/Clock]<br>\n",
    "<br>\n",
    "Services:<br>\n",
    " * /ObiWan/set_logger_level<br>\n",
    " * /ObiWan/get_loggers<br>\n",
    "<br>\n",
    "<br>\n",
    "contacting node http://ip-172-31-30-5:58680/ ...<br>\n",
    "Pid: 1215<br>\n",
    "Connections:<br>\n",
    " * topic: /rosout<br>\n",
    "    * to: /rosout<br>\n",
    "    * direction: outbound<br>\n",
    "    * transport: TCPROS<br>\n",
    " * topic: /clock<br>\n",
    "    * to: /gazebo (http://ip-172-31-30-5:46415/)<br>\n",
    "    * direction: inbound<br>\n",
    "    * transport: TCPROS<br>\n",
    "</th>\n",
    "</tr>\n",
    "</table>"
   ]
  },
  {
   "cell_type": "markdown",
   "metadata": {},
   "source": [
    "现在，别担心指令的输出，在完成下一部分的学习之后你会了解更多。"
   ]
  },
  {
   "cell_type": "markdown",
   "metadata": {},
   "source": [
    "<p style=\"background:#407EAF;color:white;\">示例1.1结束</p><br>"
   ]
  },
  {
   "cell_type": "markdown",
   "metadata": {},
   "source": [
    "## 编译包"
   ]
  },
  {
   "cell_type": "markdown",
   "metadata": {},
   "source": [
    "创建包时，你通常需要编译该包以运行。ROS所用的编译指令如下："
   ]
  },
  {
   "cell_type": "raw",
   "metadata": {},
   "source": [
    "catkin_make"
   ]
  },
  {
   "cell_type": "markdown",
   "metadata": {},
   "source": [
    "该指令将编译你的整个“src”目录，并需在你的“catkin_ws”目录中进行。这是强制的。如果你试图从另一个目录进行编译，将不起作用。\n"
   ]
  },
  {
   "cell_type": "markdown",
   "metadata": {},
   "source": [
    "<p style=\"background:#407EAF;color:white;\">示例1.7</p><br>"
   ]
  },
  {
   "cell_type": "markdown",
   "metadata": {},
   "source": [
    "前往你的catkin_ws目录并编译你的源文件夹。你可通过输入以下内容完成："
   ]
  },
  {
   "cell_type": "markdown",
   "metadata": {},
   "source": [
    "<table style=\"float:left;background: #407EAF\">\n",
    "<tr>\n",
    "<th>\n",
    "<p class=\"transparent\">在WebShell number #1 中执行</p><br>\n",
    "roscd; cd ..<br>\n",
    "catkin_make\n",
    "</th>\n",
    "</tr>\n",
    "</table>"
   ]
  },
  {
   "cell_type": "markdown",
   "metadata": {},
   "source": [
    "某些情况下（例如，大型项目中）你可能不想编译所有的包，而只想编译你更改过的包。可通过下述指令完成："
   ]
  },
  {
   "cell_type": "raw",
   "metadata": {},
   "source": [
    "catkin_make --only-pkg-with-deps <package_name>"
   ]
  },
  {
   "cell_type": "markdown",
   "metadata": {},
   "source": [
    "该指令将仅编译指定的包及其相关内容。"
   ]
  },
  {
   "cell_type": "markdown",
   "metadata": {},
   "source": [
    "尝试通过该指令编辑你的包命名为<span class=\"ign_green\">my_package</span>."
   ]
  },
  {
   "cell_type": "markdown",
   "metadata": {},
   "source": [
    "<table style=\"float:left;background: #407EAF\">\n",
    "<tr>\n",
    "<th>\n",
    "<p class=\"transparent\">在WebShell number #1 中执行</p><br>\n",
    "catkin_make --only-pkg-with-deps my_package\n",
    "</th>\n",
    "</tr>\n",
    "</table>"
   ]
  },
  {
   "cell_type": "markdown",
   "metadata": {},
   "source": [
    "<p style=\"background:#407EAF;color:white;\">示例1.7结束</p><br>"
   ]
  },
  {
   "cell_type": "markdown",
   "metadata": {},
   "source": [
    "## 参数服务器"
   ]
  },
  {
   "cell_type": "markdown",
   "metadata": {},
   "source": [
    "参数服务器是ROS用于保存参数的目录。这些参数可在运行时被节点使用，且通常用作静态数据，如配置参数。"
   ]
  },
  {
   "cell_type": "markdown",
   "metadata": {},
   "source": [
    "要前往参数列表，可输入："
   ]
  },
  {
   "cell_type": "raw",
   "metadata": {},
   "source": [
    "rosparam list"
   ]
  },
  {
   "cell_type": "markdown",
   "metadata": {},
   "source": [
    "要获取特定参数的数值，可输入："
   ]
  },
  {
   "cell_type": "raw",
   "metadata": {},
   "source": [
    "rosparam get <parameter_name>"
   ]
  },
  {
   "cell_type": "markdown",
   "metadata": {},
   "source": [
    "要设定特定参数的数值，可输入："
   ]
  },
  {
   "cell_type": "raw",
   "metadata": {},
   "source": [
    "rosparam set <parameter_name> <value>"
   ]
  },
  {
   "cell_type": "markdown",
   "metadata": {},
   "source": [
    "<p style=\"background:#407EAF;color:white;\">示例1.8</p><br>\n",
    "获取'/camera/imager_rate'参数的数值，并改为'4.0'<br>\n",
    "\n",
    "<table style=\"float:left;background: #407EAF\">\n",
    "<tr>\n",
    "<th>\n",
    "<p class=\"transparent\">在WebShell number #1 中执行</p><br>\n",
    "rosparam get /camera/imager_rate<br>\n",
    "rosparam set /camera/imager_rate 4.0<br>\n",
    "rosparam get /camera/imager_rate<br>\n",
    "</th>\n",
    "</tr>\n",
    "</table>\n",
    "<br><br><br><br><br><br><br>\n",
    "<p style=\"background:#407EAF;color:white;\">示例1.8结束</p><br>"
   ]
  },
  {
   "cell_type": "markdown",
   "metadata": {},
   "source": [
    "## 环境变量"
   ]
  },
  {
   "cell_type": "markdown",
   "metadata": {},
   "source": [
    "为了正常运行，ROS使用一组环境变量。你可通过输入下述内容检查这些变量："
   ]
  },
  {
   "cell_type": "raw",
   "metadata": {},
   "source": [
    "export | grep ROS"
   ]
  },
  {
   "cell_type": "markdown",
   "metadata": {},
   "source": [
    "<font class='ign_color'>注意1：取决于你使用的电脑类型，有可能会无法在你的web shell上直接输入|符号。若出现该情况，通过RIGHT-CLIC在WebShell上复制/粘贴该指令，并从浏览器选择粘贴。使用该方法，无论你使用任何电脑配置，你都可在你的webshell上输入任意内容。</font>"
   ]
  },
  {
   "cell_type": "raw",
   "metadata": {},
   "source": [
    "user ~ $ export | grep ROS\n",
    "declare -x ROSLISP_PACKAGE_DIRECTORIES=\"/home/user/catkin_ws/devel/share/common-lisp\"\n",
    "declare -x ROS_DISTRO=\"indigo\"\n",
    "declare -x ROS_ETC_DIR=\"/opt/ros/indigo/etc/ros\"\n",
    "declare -x ROS_MASTER_URI=\"http://localhost:11311\"\n",
    "declare -x ROS_PACKAGE_PATH=\"/home/user/catkin_ws/src:/opt/ros/indigo/share:/opt/ros/indigo/stacks\"\n",
    "declare -x ROS_ROOT=\"/opt/ros/indigo/share/ros\""
   ]
  },
  {
   "cell_type": "markdown",
   "metadata": {},
   "source": [
    "最重要的变量为ROS_MASTER_URI 与 ROS_PACKAGE_PATH。"
   ]
  },
  {
   "cell_type": "raw",
   "metadata": {},
   "source": [
    "ROS_MASTER_URI -> 包含该master的url。\n",
    "ROS_PACKAGE_PATH -> 包含路径在ROS包。"
   ]
  },
  {
   "cell_type": "markdown",
   "metadata": {},
   "source": [
    "<font class='ign_color'>在你使用的该课程的平台上，我们已经创建了一个别名以显示ROS的环境变量。该别名为\"rosenv\"。在你的shell中输入\"rosenv\"，你将获得ROS环境变量的列表。你需要知道，这不是一个正式的ROS指令，所以你只能在使用该平台时使用该指令。</font>"
   ]
  },
  {
   "cell_type": "markdown",
   "metadata": {},
   "source": [
    "## Roscore"
   ]
  },
  {
   "cell_type": "markdown",
   "metadata": {},
   "source": [
    "为了让这一切运行，我们需要拥有一个可运行的roscore。该roscore是管理所有ROS系统的主过程。你永远需要一个可运行的roscore来运行ROS。启动roscore的指令为："
   ]
  },
  {
   "cell_type": "raw",
   "metadata": {},
   "source": [
    "roscore"
   ]
  },
  {
   "cell_type": "markdown",
   "metadata": {},
   "source": [
    "<figure>\n",
    "  <img id=\"fig-1.2\" src=\"img/roscore.jpg\"></img>\n",
    "   <center> <figcaption>图1.2-ROS Core图解</figcaption></center>\n",
    "</figure>"
   ]
  },
  {
   "cell_type": "markdown",
   "metadata": {},
   "source": [
    "<font class='ign_red'>处理roslaunch时，若检测到无运行的roscore，它会自动启动一个。</font>"
   ]
  },
  {
   "cell_type": "markdown",
   "metadata": {},
   "source": [
    "<font class='ign_color'>在你使用的该课程平台上，当你进入一个课程时，它会自动为你启动一个roscore，因此你无需手动启动。</font>"
   ]
  },
  {
   "cell_type": "markdown",
   "metadata": {},
   "source": [
    "## 那么，现在我们能解答什么是ROS了吗?"
   ]
  },
  {
   "cell_type": "markdown",
   "metadata": {},
   "source": [
    "从根本上说，ROS是一个框架，该框架使我们能够完成以上的这些操作，提供管理所有这些操作的过程及这些过程之间通信的背景……以及其它不计其数的作用！！在该培训中，你只接触到ROS的表皮，和ROS的基本概念。ROS是一个极为强大的工具。若你深入学习我们的课程，你将学到与ROS有关的更多知识，你会发现你能够使用你的机器人处理几乎任何事。"
   ]
  },
  {
   "cell_type": "markdown",
   "metadata": {},
   "source": [
    "---"
   ]
  }
 ],
 "metadata": {
  "anaconda-cloud": {},
  "kernelspec": {
   "display_name": "Python 2",
   "language": "python",
   "name": "python2"
  },
  "language_info": {
   "codemirror_mode": {
    "name": "ipython",
    "version": 2
   },
   "file_extension": ".py",
   "mimetype": "text/x-python",
   "name": "python",
   "nbconvert_exporter": "python",
   "pygments_lexer": "ipython2",
   "version": "2.7.11"
  },
  "nbpresent": {
   "slides": {},
   "themes": {
    "default": "31006857-3e5b-4c40-a94d-8ea8ade74bc7",
    "theme": {
     "31006857-3e5b-4c40-a94d-8ea8ade74bc7": {
      "backgrounds": {
       "backgroundColor": {
        "background-color": "backgroundColor",
        "id": "backgroundColor"
       }
      },
      "id": "31006857-3e5b-4c40-a94d-8ea8ade74bc7",
      "palette": {
       "backgroundColor": {
        "id": "backgroundColor",
        "rgb": [
         34,
         34,
         34
        ]
       },
       "headingColor": {
        "id": "headingColor",
        "rgb": [
         238,
         238,
         238
        ]
       },
       "linkColor": {
        "id": "linkColor",
        "rgb": [
         170,
         34,
         51
        ]
       },
       "mainColor": {
        "id": "mainColor",
        "rgb": [
         238,
         238,
         238
        ]
       }
      },
      "rules": {
       "a": {
        "color": "linkColor"
       },
       "h1": {
        "color": "headingColor",
        "font-family": "Ubuntu",
        "font-size": 7
       },
       "h2": {
        "color": "headingColor",
        "font-family": "Ubuntu",
        "font-size": 5
       },
       "h3": {
        "color": "headingColor",
        "font-family": "Ubuntu",
        "font-size": 3.75
       },
       "h4": {
        "color": "headingColor",
        "font-family": "Ubuntu",
        "font-size": 3
       },
       "h5": {
        "color": "headingColor",
        "font-family": "Ubuntu"
       },
       "h6": {
        "color": "headingColor",
        "font-family": "Ubuntu"
       },
       "h7": {
        "color": "headingColor",
        "font-family": "Ubuntu"
       },
       "li": {
        "color": "mainColor",
        "font-family": "Ubuntu",
        "font-size": 5
       },
       "p": {
        "color": "mainColor",
        "font-family": "Ubuntu",
        "font-size": 5
       }
      },
      "text-base": {
       "color": "mainColor",
       "font-family": "Ubuntu",
       "font-size": 5
      }
     }
    }
   }
  }
 },
 "nbformat": 4,
 "nbformat_minor": 0
}
