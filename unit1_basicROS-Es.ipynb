{
 "cells": [
  {
   "cell_type": "markdown",
   "metadata": {},
   "source": [
    "# <font class='ign_color'>ROS EN UNA SOLA SEMANA</font>"
   ]
  },
  {
   "cell_type": "markdown",
   "metadata": {},
   "source": [
    "# Capítulo 1: Conceptos Básicos"
   ]
  },
  {
   "cell_type": "markdown",
   "metadata": {},
   "source": [
    "<table style=\"width:100%\">\n",
    "  <tr>\n",
    "    <th>Tiempo estimado para completarlo: 1'5 hours<br><br>¿Qué vas a aprender en esta unidad?\n",
    "<ul>\n",
    "  <li>Qué es un paquete</li>\n",
    "  <li>Cómo crear y trabajar con paquetes</li>\n",
    "  <li>Cómo poner en marcha un programa de ROS (archivos launch)</li>\n",
    "  <li>Crear un programa básico de ROS (Python)</li>\n",
    "  <li>Conceptos básicos de ROS: nodos, Parameter Server, variables de entorno, Roscore </li>\n",
    "</ul></th>\n",
    "    <th><img src=\"img/kobuki.jpg\" width=\"212\" height=\"236\" /></th> \n",
    "  </tr>\n",
    "</table>"
   ]
  },
  {
   "cell_type": "markdown",
   "metadata": {},
   "source": [
    "¿Qué es <b>ROS?</b> Esta es probablemente la pregunta que os ha traído a todos hasta aquí. Bueno, permitidme que os diga que todavía no estáis preparados para entender la respuesta a esta pregunta, así que... vamos a trabajar un poco primero."
   ]
  },
  {
   "cell_type": "markdown",
   "metadata": {},
   "source": [
    "## Mover un robot con ROS"
   ]
  },
  {
   "cell_type": "markdown",
   "metadata": {},
   "source": [
    "En la esquina derecha de la pantalla, tienes tu primer robot simulado: el Turtlebot-2. <br>\n",
    "<h3>¡Vamos a mover ese robot!</h3>\n",
    "<br>\n",
    "¿Cómo puedes mover el Turtlebot?<br>\n",
    "La forma más sencilla es ejecutando un programa de ROS ya existente que utiliza ROS para controlar el robot. Un programa de ROS se ejecuta mediante el uso de algunos archivos especiales denominados <i>archivos launch</i>.<br><br>\n",
    "Dado que existe un programa de ROS ya hecho que permite mover el robot a través del teclado, vamos a lanzar ese programa para controlar el robot. "
   ]
  },
  {
   "cell_type": "markdown",
   "metadata": {},
   "source": [
    "<p style=\"background:#407EAF;color:white;\">Ejemplo 1.1</p><br>\n",
    "Ejecuta el siguiente comando en la WebShell número #1<br>\n",
    "\n",
    "<table style=\"float:left;background: #407EAF\">\n",
    "<tr>\n",
    "<th>\n",
    "<p class=\"transparent\">Ejecutar en WebShell #1</p><br>\n",
    "roslaunch turtlebot_teleop keyboard_teleop.launch  <br>\n",
    "</th>\n",
    "</tr>\n",
    "</table>\n",
    "<br>"
   ]
  },
  {
   "cell_type": "markdown",
   "metadata": {},
   "source": [
    "<table style=\"float:left;background: #407EAF\">\n",
    "<tr>\n",
    "<th>\n",
    "<p style=\"background: #407EAF; color:white\">Salida de la WebShell #1</p>\n",
    "</th>\n",
    "</tr>\n",
    "</table>"
   ]
  },
  {
   "cell_type": "raw",
   "metadata": {},
   "source": [
    "Control Your Turtlebot!\n",
    "---------------------------\n",
    "Moving around:\n",
    "   u    i    o\n",
    "   j    k    l\n",
    "   m    ,    .\n",
    "\n",
    "q/z : increase/decrease max speeds by 10%\n",
    "w/x : increase/decrease only linear speed by 10%\n",
    "e/c : increase/decrease only angular speed by 10%\n",
    "space key, k : force stop\n",
    "anything else : stop smoothly\n",
    "\n",
    "CTRL-C to quit"
   ]
  },
  {
   "cell_type": "markdown",
   "metadata": {},
   "source": [
    "<table style=\"float:left;\">\n",
    "<tr>\n",
    "<th>\n",
    "<p style=\"background:#3B8F10;color:white;\">Datos para el Ejemplo 1.1</p><br>\n",
    "Ahora, puedes utilizar las teclas indicadas en la salida de la WebShell para mover el robot.<br>\n",
    "<span style=\"color:orange\">i</span>: Moverse hacia delante<br>\n",
    "<span style=\"color:orange\">,</span>: Moverse hacia atrás<br>\n",
    "<span style=\"color:orange\">k</span>: Parar<br>\n",
    "<span style=\"color:orange\">l</span>: Girar a la izquierda<br>\n",
    "<span style=\"color:orange\">j</span>: Girar a la derecha<br>\n",
    "<span style=\"color:orange\">u</span>: Girar a la derecha y avanzar<br>\n",
    "<span style=\"color:orange\">o</span>: Girar a la izquierda y avanzar<br>\n",
    "<span style=\"color:orange\">m</span>: Girar a la izquierda y retroceder<br>\n",
    "<span style=\"color:orange\">.</span>: Girar a la derecha y retroceder<br>\n",
    "\n",
    "<span style=\"color:orange\">q/z</span>: Aumentar/Disminuir la velocidad<br>\n",
    "\n",
    "¡Inténtalo! Cuando hayas terminado, puedes pulsar  Ctrl + C para detener la ejecución del programa. <br>\n",
    "</th>\n",
    "</tr>\n",
    "</table>"
   ]
  },
  {
   "cell_type": "markdown",
   "metadata": {},
   "source": [
    "<i class=\"ign_green\">roslaunch</i> es el comando que se utiliza para poner en marcha un programa de ROS. Su estructura es la siguiente:"
   ]
  },
  {
   "cell_type": "raw",
   "metadata": {},
   "source": [
    "roslaunch <nombre_del_paquete> <archivo_launch>"
   ]
  },
  {
   "cell_type": "markdown",
   "metadata": {},
   "source": [
    "Como puedes ver, esta orden tiene dos parámetros: el primero es <b>el nombre del paquete</b> que contiene el archivo launch y el segundo es <b>el nombre del archivo launch</b> a ejecutar en sí (que está almacenado en el paquete)."
   ]
  },
  {
   "cell_type": "markdown",
   "metadata": {},
   "source": [
    "## Pero... ¿qué es un paquete?"
   ]
  },
  {
   "cell_type": "markdown",
   "metadata": {},
   "source": [
    "ROS utiliza paquetes para organizar sus programas. Se puede pensar en un paquete como <b>todos los archivos que un programa específico ROS contiene</b>; todos sus archivos cpp, python, archivos de configuración, archivos de compilación y archivos de parámetros.<br>\n",
    "Todos esos archivos del paquete se organizan con la estructura siguiente: "
   ]
  },
  {
   "cell_type": "markdown",
   "metadata": {},
   "source": [
    "<table>\n",
    "<tr>\n",
    "<th>\n",
    "<ul>\n",
    "<li>carpeta <i>launch</i></li>\n",
    "</ul>\n",
    "</th>\n",
    "<th>\n",
    "Contiene los archivos launch\n",
    "</th>\n",
    "</tr>\n",
    "\n",
    "<tr>\n",
    "<th>\n",
    "<ul>\n",
    "<li>carpeta <i>src</i></li>\n",
    "</ul>\n",
    "</th>\n",
    "<th>\n",
    "Archivos fuente (cpp, python)\n",
    "</th>\n",
    "</tr>\n",
    "\n",
    "<tr>\n",
    "<th>\n",
    "<ul>\n",
    "<li>CMakeLists.txt</li>\n",
    "</ul>\n",
    "</th>\n",
    "<th>\n",
    "Lista de reglas cmake para la compilación\n",
    "</th>\n",
    "</tr>\n",
    "\n",
    "<tr>\n",
    "<th>\n",
    "<ul>\n",
    "<li>package.xml</li>\n",
    "</ul>\n",
    "</th>\n",
    "<th>\n",
    "Información sobre el paquete y dependencias\n",
    "</th>\n",
    "</tr>\n",
    "\n",
    "</table>\n"
   ]
  },
  {
   "cell_type": "markdown",
   "metadata": {},
   "source": [
    "Para ir a cualquier paquete de ROS, ROS te proporciona un comando llamado <i class=\"ign_green\">roscd</i>. Al escribir:"
   ]
  },
  {
   "cell_type": "raw",
   "metadata": {},
   "source": [
    " roscd <nombre_del_paquete>"
   ]
  },
  {
   "cell_type": "markdown",
   "metadata": {},
   "source": [
    "Te llevará a la ruta donde se encuentra el paquete <i>nombre_del_paquete</i>.<br>"
   ]
  },
  {
   "cell_type": "markdown",
   "metadata": {},
   "source": [
    "<p style=\"background:#407EAF;color:white;\">Ejemplo 1.2</p><br>\n",
    "Ve a la Web Shell #1, navega al paquete turtlebot_teleop y comprueba que tiene esa estructura. <br>\n",
    "\n",
    "<table style=\"float:left;background: #407EAF\">\n",
    "<tr>\n",
    "<th>\n",
    "<p class=\"transparent\">Ejecuta en la WebShell #1</p><br>\n",
    "roscd turtlebot_teleop<br>\n",
    "ls<br>\n",
    "</th>\n",
    "</tr>\n",
    "</table>\n",
    "<br>"
   ]
  },
  {
   "cell_type": "markdown",
   "metadata": {},
   "source": [
    "Cada programa de ROS que se desees ejecutar estará organizado en un paquete. <br>\n",
    "Cada programa de ROS que crees tendrá que estar organizado en un paquete.<br>\n",
    "Los paquetes son el sistema principal de organización de los programas ROS. "
   ]
  },
  {
   "cell_type": "markdown",
   "metadata": {},
   "source": [
    "## Y... ¿qué es un archivo launch? "
   ]
  },
  {
   "cell_type": "markdown",
   "metadata": {},
   "source": [
    "Hemos visto que las ROS utiliza archivos launch con el fin de ejecutar programas. Pero... ¿cómo funcionan? Echemos un vistazo."
   ]
  },
  {
   "cell_type": "markdown",
   "metadata": {},
   "source": [
    "<p id=\"example-1.3\" style=\"background:#407EAF;color:white;\">Ejemplo 1.3</p><br>\n",
    "Abre la carpeta launch dentro del paquete turtlebot_teleop y comprueba el archivo keyboard_teleop.launch.<br>\n",
    "\n",
    "<table style=\"float:left;background: #407EAF\">\n",
    "<tr>\n",
    "<th>\n",
    "<p class=\"transparent\">Ejecuta en la WebShell #1</p><br>\n",
    "roscd turtlebot_teleop<br>\n",
    "cd launch<br>\n",
    "cat keyboard_teleop.launch<br>\n",
    "</th>\n",
    "</tr>\n",
    "</table>\n",
    "<br>"
   ]
  },
  {
   "cell_type": "markdown",
   "metadata": {},
   "source": [
    "<table style=\"float:left;background: #407EAF\">\n",
    "<tr>\n",
    "<th>\n",
    "<p style=\"background: #407EAF; color:white\">Salida de la WebShell #1</p>\n",
    "</th>\n",
    "</tr>\n",
    "</table>"
   ]
  },
  {
   "cell_type": "raw",
   "metadata": {},
   "source": [
    "<launch>\n",
    "  <!-- turtlebot_teleop_key already has its own built in velocity smoother -->\n",
    "  <node pkg=\"turtlebot_teleop\" type=\"turtlebot_teleop_key.py\" name=\"turtlebot_teleop_keyboard\"  output=\"screen\">\n",
    "    <param name=\"scale_linear\" value=\"0.5\" type=\"double\"/>\n",
    "    <param name=\"scale_angular\" value=\"1.5\" type=\"double\"/>\n",
    "    <remap from=\"turtlebot_teleop_keyboard/cmd_vel\" to=\"/cmd_vel\"/>   <!-- cmd_vel_mux/input/teleop\"/-->\n",
    "  </node>\n",
    "</launch>"
   ]
  },
  {
   "cell_type": "markdown",
   "metadata": {},
   "source": [
    "<font class='ign_red'>En el archivo launch tienes algunas etiquetas (tags) adicionales para establecer los parámetros y remapeos. Por ahora, no te preocupes por esas etiquetas y céntrate en la etiqueta nodo.</font>"
   ]
  },
  {
   "cell_type": "markdown",
   "metadata": {},
   "source": [
    "Todos los archivos launch contienen una etiqueta launch. En el interior de esta, puedes ver una etiqueta nodo, donde especificamos los siguientes parámetros:"
   ]
  },
  {
   "cell_type": "markdown",
   "metadata": {},
   "source": [
    "<ol>\n",
    "<li>pkg=\"nombre_del_paquete\" # Nombre del paquete que contiene el archivo de python </li>\n",
    "<li>type=\"nombre_del_fichero_python.py\" # Nombre del archivo de Python que contiene el código para nuestro programa </li>\n",
    "<li>name=\"nombre_del_nodo\" # Nombre del nodo ROS que lanzará nuestro fichero de Python </li>\n",
    "<li>output=\"tipo_de_salida\" # A través de qué canal se imprimirá la salida del archivo de Python </li>\n",
    "</ol>\n",
    "\n",
    "<p style=\"background:#407EAF;color:white;\">Fin del ejemplo 1.3</p><br>"
   ]
  },
  {
   "cell_type": "markdown",
   "metadata": {},
   "source": [
    "## Crea un paquete"
   ]
  },
  {
   "cell_type": "markdown",
   "metadata": {},
   "source": [
    "Hasta ahora hemos estado revisando la estructura de un paquete ya construido... pero ahora vamos a crear uno nosotros mismos.\n",
    "\n",
    "Cuando queremos crear paquetes, tenemos que trabajar en un espacio de trabajo ROS muy específico , que se conoce como <i>catkin workspace</i>. El <i>catkin workspace</i> es el directorio de tu disco duro en el que deben encontrarse tus propios paquetes ROS para que puedan ser utilizados por ROS. Por lo general, el directorio que contiene el<i>catkin workspace</i> se llama <i>catkin_ws</i>."
   ]
  },
  {
   "cell_type": "markdown",
   "metadata": {},
   "source": [
    "<p id=\"example-1.4\" style=\"background:#407EAF;color:white;\">Ejemplo 1.4</p><br>\n",
    "Ve al directorio catkin_ws en tu consola web.<br>\n",
    "Para hacerlo, teclea <i>roscd</i> en la <i>consola</i>. Verás que te manda al directorio <i>catkin_ws/devel</i>. Puesto que quieres ir al workspace, simplemente escribe <i>cd ..</i> para subir 1 directorio. Deberías terminar aquí, en <i>/home/user/catkin_ws</i>.<br>\n",
    "\n",
    "<table style=\"float:left;background: #407EAF\">\n",
    "<tr>\n",
    "<th>\n",
    "<p class=\"transparent\">Ejecuta en la WebShell #1</p><br>\n",
    "roscd<br>\n",
    "cd ..<br>\n",
    "pwd<br>\n",
    "</th>\n",
    "</tr>\n",
    "</table>\n",
    "<br><br><br><br><br><br><br>\n",
    "\n",
    "\n",
    "<table class=\"transparent float_l\">\n",
    "<tr>\n",
    "<th>\n",
    "<p style=\"background: #407EAF\">Salida de la WebShell #1</p><br>\n",
    "user ~ $ pwd<br>\n",
    "/home/user/catkin_ws\n",
    "</th>\n",
    "</tr>\n",
    "</table>\n",
    "<br><br><br><br><br><br><br>\n",
    "\n",
    "Dentro de este espacio de trabajo, vamos a tener un directorio llamado 'src'. Esta carpeta contendrá todos los paquetes que creemos. Siempre que creemos un paquete, tenemos que estar en este directorio ('catkin_ws /src'). Escribe en tu consola web \"cd src\" para moverte al directorio source.<br>\n",
    "\n",
    "<table style=\"float:left;background: #407EAF\">\n",
    "<tr>\n",
    "<th>\n",
    "<p class=\"transparent\">Ejecuta en la WebShell #1</p><br>\n",
    "cd src<br>\n",
    "</th>\n",
    "</tr>\n",
    "</table>\n",
    "<br><br><br><br><br>\n",
    "\n",
    "¡Ahora estamos listos para crear nuestro primer paquete! Para crear un paquete, escribe en tu consola web:<br>\n",
    "\n",
    "<table style=\"float:left;background: #407EAF\">\n",
    "<tr>\n",
    "<th>\n",
    "<p class=\"transparent\">Execute in WebShell #1</p><br>\n",
    "catkin_create_pkg my_package rospy<br>\n",
    "</th>\n",
    "</tr>\n",
    "</table>\n",
    "<br><br><br><br><br>\n",
    "\n",
    "Esto creará dentro de nuestro directorio \"src\" un nuevo paquete con algunos archivos dentro. Esto lo comprobaremos más adelante. Ahora, veamos cómo se construye este comando:<br>\n",
    "\n",
    "<span class=\"ign_green\">catkin_create_pkg &lt;nombre_del_paquete&gt; &lt;dependencias_del_paquete&gt;</span><br><br>\n",
    "\n",
    "<p style=\"background:#407EAF;color:white;\">Fin del Ejemplo 1.4</p><br>"
   ]
  },
  {
   "cell_type": "markdown",
   "metadata": {},
   "source": [
    "<p style=\"background:#407EAF;color:white;\">Ejemplo 1.5</p><br>\n",
    "Con el fin de comprobar que nuestro paquete ha sido creado con éxito, podemos utilizar algunos comandos de ROS relacionados con los paquetes. Por ejemplo, vamos a teclear:<br>\n",
    "\n",
    "<table style=\"float:left;background: #407EAF\">\n",
    "<tr>\n",
    "<th>\n",
    "<p class=\"transparent\"Ejecutar en la WebShell #1</p><br>\n",
    "rospack list<br>\n",
    "rospack list | grep my_package<br>\n",
    "roscd my_package \n",
    "</th>\n",
    "</tr>\n",
    "</table>\n",
    "<br><br><br><br><br><br><br>\n",
    "\n",
    "<span class=\"ign_green\">rospack list</span>:Te da una lista con todos los paquetes en tu sistema ROS.<br>\n",
    "<span class=\"ign_green\">rospack list | grep my_package</span>: Filtra dentro de los paquetes del sistema ROS el paquete my_package.<br>\n",
    "<span class=\"ign_green\">roscd my_package</span>: Te lleva al paquete .\n",
    "\n",
    "También puedes ver el paquete creado y su contenido, con tan solo abrirlo a través del IDE ( similar a la <a href=\"#fig-1.1\">{Figura 1.1}</a>)<br>\n",
    "<figure>\n",
    "  <img id=\"fig-1.1\" src=\"img/my_package.png\"><br>\n",
    "   <center> <figcaption>Fig.1.1 - Paquete my_package en el IDE</figcaption></center>\n",
    "</figure>\n",
    "<br><br>\n",
    "\n",
    "\n",
    "<p style=\"background:#407EAF;color:white;\">Fin del Ejemplo 1.5</p><br>"
   ]
  },
  {
   "cell_type": "markdown",
   "metadata": {},
   "source": [
    "## Mi primer programa ROS"
   ]
  },
  {
   "cell_type": "markdown",
   "metadata": {},
   "source": [
    "Llegados a este punto, deberías tener tu primer paquete creado... ¡pero ahora tienes que hacer algo con él! ¡Vamos a hacer nuestro primer programa ROS! "
   ]
  },
  {
   "cell_type": "markdown",
   "metadata": {},
   "source": [
    "\n",
    "<table style=\"float:left;\">\n",
    "<tr>\n",
    "<th>\n",
    "<p style=\"background:#EE9023;color:white;\">Ejercicio 1.1</p>\n",
    "    <ol>\n",
    "    \n",
    "        <li>\n",
    "        Crea en el directorio \"src\" de <span class=\"ign_green\">my_package</span>, el archivo Python que ejecutaremos. Para éste ejercicio simplemente copia el siguiente código Python <a href=\"#simple_python\">simple.py</a>. Puedes crearlo haciendo CLICK DERECHO en el IDE en directorio \"src\" de tu paquete, y seleccionando <span style=\"color: orange\">New File</span> <a href=\"#fig-1.3\">{Fig-1.3}</a>.\n",
    "        </li>\n",
    "    \n",
    "        <li>\n",
    "        Crea un directorio <i class=\"ign_green\">launch</i> dentro del paquete llamado <span class=\"ign_green\">my_package</span> <a href=\"#example-1.4\">{Ejemplo 1.4}</a>.<br>\n",
    "        <table style=\"float:left;background: #407EAF\">\n",
    "        <tr>\n",
    "        <th>\n",
    "        <p class=\"transparent\">Ejecuta en la WebShell #1</p><br>\n",
    "        roscd my_package<br>\n",
    "        mkdir launch<br>\n",
    "        </th>\n",
    "        </tr>\n",
    "        </table>\n",
    "        <br><br><br><br><br><br>\n",
    "        También puedes crearlo a través del IDE.<br>\n",
    "        </li>\n",
    "        \n",
    "        <li>\n",
    "        Crea un nuevo archivo launch dentro del directorio launch<br>\n",
    "        <table style=\"float:left;background: #407EAF\">\n",
    "        <tr>\n",
    "        <th>\n",
    "        <p class=\"transparent\">Ejecuta en la WebShell #1</p><br>\n",
    "        touch launch/my_launch_file.launch<br>\n",
    "        </th>\n",
    "        </tr>\n",
    "        </table>\n",
    "        <br><br><br><br><br>\n",
    "        También puedes crearlo a través del IDE.<br>\n",
    "        </li>\n",
    "        \n",
    "        <li>\n",
    "        Rellena el archivo launch tal y como hemos visto previamente en el curso <a href=\"#example-1.3\">{Ejemplo 1.3}</a>.<br>\n",
    "        <font class='ign_green'>SUGERENCIA: puedes copiar el archivo keyboard_teleop.launch y modificarlo. Si lo haces, quita las etiquetas (tags) param y remap, y deja solo la etiqueta node, ya que no necesitas esos parametros.</font><br>\n",
    "        El archivo launch final deberia ser algo similar a ésto <a href=\"#my_package_launch_file\">my_package_launch_file.launch</a><br>\n",
    "        </li>\n",
    "        <li>\n",
    "         Finalmente ejecuta el comando roslaunch en la WebShell para lanzar tu programa.\n",
    "         <table style=\"float:left;background: #407EAF\">\n",
    "        <tr>\n",
    "        <th>\n",
    "        <p class=\"transparent\">Ejecuta en la WebsShell #1</p><br>\n",
    "        roslaunch my_package my_launch_file.launch<br>\n",
    "        </th>\n",
    "        </tr>\n",
    "        </table>\n",
    "        <br><br><br><br><br><br><br>\n",
    "        </li>\n",
    "    </ol>\n",
    "<p style=\"background:#AE0202;color:white;\">Resultado esperado para el ejercicio 1.1</p><br>\n",
    "Deberías ver la frase de Leia entre la salida del comando roslaunch.\n",
    "\n",
    "<table class=\"transparent float_l\">\n",
    "<tr>\n",
    "<th>\n",
    "<p style=\"background: #407EAF\">Salida de la WebShell #1</p><br>\n",
    "user catkin_ws $ roslaunch my_package my_launch_file.launch<br>\n",
    "... logging to /home/user/.ros/log/d29014ac-911c-11e6-b306-02f9ff83faab/roslaunch-ip-172-31-30-5-28204.log<br>\n",
    "Checking log directory for disk usage. This may take awhile.<br>\n",
    "Press Ctrl-C to interrupt<br>\n",
    "Done checking log file disk usage. Usage is <1GB.<br>\n",
    "<br>\n",
    "started roslaunch server http://ip-172-31-30-5:40504/<br>\n",
    "<br>\n",
    "SUMMARY<br>\n",
    "========<br>\n",
    "<br>\n",
    "PARAMETERS<br>\n",
    " * /rosdistro: indigo<br>\n",
    " * /rosversion: 1.11.20<br>\n",
    "<br>\n",
    "NODES<br>\n",
    "  /<br>\n",
    "    ObiWan (my_package/simple.py)<br>\n",
    "<br>\n",
    "ROS_MASTER_URI=http://localhost:11311<br>\n",
    "<br>\n",
    "core service [/rosout] found<br>\n",
    "process[ObiWan-1]: started with pid [28228]<br>\n",
    "<span class=\"ign_red\">Help me Obi-Wan Kenobi, you're my only hope</span><br>\n",
    "[ObiWan-1] process has finished cleanly<br>\n",
    "log file: /home/user/.ros/log/d29014ac-911c-11e6-b306-02f9ff83faab/ObiWan-1*.log<br>\n",
    "all processes on machine have died, roslaunch will exit<br>\n",
    "shutting down processing monitor...<br>\n",
    "... shutting down processing monitor complete<br>\n",
    "done<br>\n",
    "</th>\n",
    "</tr>\n",
    "</table>\n",
    "<br><br><br><br><br><br><br>\n",
    "<br><br><br><br><br><br><br>\n",
    "<br><br><br><br><br><br><br>\n",
    "<br><br><br><br><br><br><br>\n",
    "<br><br><br><br><br><br><br>\n",
    "<span class=\"ign_red\">A veces ROS no detectará un nuevo paquete cuando se acaba de crear, por lo que no podrás hacer un roslaunch. En este caso, puedes forzar a ROS a hacer una actualización de su lista de paquetes con el comando:</span><br>\n",
    "\n",
    "<table style=\"float:left;background: #407EAF\">\n",
    "        <tr>\n",
    "        <th>\n",
    "        <p class=\"transparent\">Ejecuta en la WebShell #1</p><br>\n",
    "        rospack profile<br>\n",
    "        </th>\n",
    "        </tr>\n",
    "        </table>\n",
    "</th>\n",
    "</tr>\n",
    "</table>"
   ]
  },
  {
   "cell_type": "markdown",
   "metadata": {},
   "source": [
    "<p style=\"background:#3B8F10;color:white;\" id=\"simple_python\">Programa Python {1.1a-py}: simple.py </p><br>"
   ]
  },
  {
   "cell_type": "code",
   "execution_count": null,
   "metadata": {
    "collapsed": true
   },
   "outputs": [],
   "source": [
    "#! /usr/bin/env python\n",
    "\n",
    "import rospy\n",
    "\n",
    "rospy.init_node('ObiWan')\n",
    "print \"Help me Obi-Wan Kenobi, you're my only hope\""
   ]
  },
  {
   "cell_type": "markdown",
   "metadata": {},
   "source": [
    "Te debes estar preguntando qué significa todo este código... ¿verdad? Bueno, vamos a explicarlo línea a línea: \n"
   ]
  },
  {
   "cell_type": "code",
   "execution_count": null,
   "metadata": {
    "collapsed": false
   },
   "outputs": [],
   "source": [
    "#! /usr/bin/env python \n",
    "# Esta línea asegura que el intérprete utilizado es el primero en tu $PATH de entorno. Siempre que creamos un archivo Python tendremos que empezar con esta línea en la parte superior.\n",
    "\n",
    "import rospy # Importamos rospy, que es una biblioteca de Python para ROS.\n",
    "\n",
    "rospy.init_node('ObiWan') # Iniciamos un nodo llamado ObiWan\n",
    "\n",
    "print \"Help me Obi-Wan Kenobi, you're my only hope\" # Un simple comando print de Python\n"
   ]
  },
  {
   "cell_type": "markdown",
   "metadata": {},
   "source": [
    "<font class='ign_red'>NOTA: Si creas el archivo de Python desde la consola, puede suceder que se cree sin permisos de ejecución. Si esto sucede, ROS no será capaz de encontrarlo. Si este es tu caso, puedes dar permisos de ejecución al archivo escribiendo el siguiente comando:\n",
    "<i>chmod +x nombre_del_fichero.py</i></font>"
   ]
  },
  {
   "cell_type": "markdown",
   "metadata": {},
   "source": [
    "<p style=\"background:#3B8F10;color:white;\">FIN del Programa Python {1.1-py}: simple.py </p><br>"
   ]
  },
  {
   "cell_type": "markdown",
   "metadata": {},
   "source": [
    "<p style=\"background:#3B8F10;color:white;\" id=\"my_package_launch_file\">Fichero Launch {1.1-l}: my_package_launch_file.launch </p><br>"
   ]
  },
  {
   "cell_type": "markdown",
   "metadata": {},
   "source": [
    "Deberías tener algo similar a ésto en tu my_launch_file.launch:<br>"
   ]
  },
  {
   "cell_type": "raw",
   "metadata": {},
   "source": [
    "<launch>\n",
    "    <!-- My Package launch file -->\n",
    "    <node pkg=\"my_package\" type=\"simple.py\" name=\"ObiWan\"  output=\"screen\">\n",
    "    </node>\n",
    "</launch>"
   ]
  },
  {
   "cell_type": "markdown",
   "metadata": {},
   "source": [
    "<p style=\"background:#3B8F10;color:white;\" id=\"my_package_launch_file\">FIN del archivo launch {1.1-l}: my_package_launch_file.launch </p><br>"
   ]
  },
  {
   "cell_type": "markdown",
   "metadata": {},
   "source": [
    "## Nodos ROS"
   ]
  },
  {
   "cell_type": "markdown",
   "metadata": {},
   "source": [
    "Has iniciado un nodo en el código anterior, pero ... ¿qué es un nodo? Los nodos ROS son básicamente procesos que nuestros programas utilizan para acceder a funcionalidades ROS. El comando ROS para ver qué nodos están funcionando actualmente es: "
   ]
  },
  {
   "cell_type": "raw",
   "metadata": {},
   "source": [
    "rosnode list"
   ]
  },
  {
   "cell_type": "markdown",
   "metadata": {},
   "source": [
    "<p style=\"background:#407EAF;color:white;\">Ejemplo 1.6</p><br>\n",
    "Escribe este comando en una nueva consola y busca el nodo que acabas de iniciar (ObiWan).<br>\n",
    "\n",
    "<table style=\"float:left;background: #407EAF\">\n",
    "<tr>\n",
    "<th>\n",
    "<p class=\"transparent\">Ejecuta en la WebShell #1</p><br>\n",
    "rosnode list<br>\n",
    "</th>\n",
    "</tr>\n",
    "</table>\n",
    "<br><br><br><br><br><br>\n",
    "\n",
    "¿No puedes encontrarlo? Bueno, esto es debido a que el nodo se destruyó cuando terminó el programa de Python. Vamos a cambiar eso.<br>\n",
    "Actualiza el archivo de Python <a href=\"#simple_python\">simple.py</a> con el siguiente código:"
   ]
  },
  {
   "cell_type": "markdown",
   "metadata": {},
   "source": [
    "<p style=\"background:#3B8F10;color:white;\" id=\"simple_loop_python\">Programa Python {1.1b-py}: simple_loop.py </p><br>"
   ]
  },
  {
   "cell_type": "code",
   "execution_count": null,
   "metadata": {
    "collapsed": false
   },
   "outputs": [],
   "source": [
    "#! /usr/bin/env python\n",
    "\n",
    "import rospy\n",
    "\n",
    "rospy.init_node(\"ObiWan\")\n",
    "rate = rospy.Rate(2)               # Creamos un objeto Rate\n",
    "while not rospy.is_shutdown():     # Hacemos que el programa no termine hasta que se haga Ctrl + C\n",
    "   print \"Help me Obi-Wan Kenobi, you're my only hope\"\n",
    "   rate.sleep()                    # Dormimos el tiempo necesario para mantener el Rate fijado arriba"
   ]
  },
  {
   "cell_type": "markdown",
   "metadata": {},
   "source": [
    "<p style=\"background:#3B8F10;color:white;\">FIN del Programa Python {1.1b-py}: simple_loop.py </p><br>"
   ]
  },
  {
   "cell_type": "markdown",
   "metadata": {},
   "source": [
    "Lanza tu programa de nuevo usando el comando roslaunch.<br>\n",
    "<table style=\"float:left;background: #407EAF\">\n",
    "<tr>\n",
    "<th>\n",
    "<p class=\"transparent\">Ejecuta en la WebShell #1</p><br>\n",
    "roslaunch my_package my_launch_file.launch<br>\n",
    "</th>\n",
    "</tr>\n",
    "</table>\n",
    "<br><br><br><br><br><br>\n",
    "\n",
    "\n",
    "Ahora, prueba de nuevo:<br>\n",
    "<table style=\"float:left;background: #407EAF\">\n",
    "<tr>\n",
    "<th>\n",
    "<p class=\"transparent\">Ejecuta en la WebShell #1</p><br>\n",
    "rosnode list<br>\n",
    "</th>\n",
    "</tr>\n",
    "</table>\n",
    "<br><br><br><br><br><br>\n",
    "\n",
    "Puedes ahora ver el nodo?"
   ]
  },
  {
   "cell_type": "markdown",
   "metadata": {},
   "source": [
    "<table class=\"transparent float_l\">\n",
    "<tr>\n",
    "<th>\n",
    "<p style=\"background: #407EAF\">Salida de la WebShell #1</p><br>\n",
    "user ~ $ rosnode list<br>\n",
    "/ObiWan<br>\n",
    "/cmd_vel_mux<br>\n",
    "/gazebo<br>\n",
    "/mobile_base_nodelet_manager<br>\n",
    "/robot_state_publisher<br>\n",
    "/rosout<br>\n",
    "</th>\n",
    "</tr>\n",
    "</table>"
   ]
  },
  {
   "cell_type": "markdown",
   "metadata": {},
   "source": [
    "Para ver información acerca de nuestro nodo, podemos usar el siguiente comando: \n",
    "    "
   ]
  },
  {
   "cell_type": "raw",
   "metadata": {},
   "source": [
    "rosnode info /ObiWan"
   ]
  },
  {
   "cell_type": "markdown",
   "metadata": {},
   "source": [
    "Este comando nos mostrará información sobre todas las conexiones que tiene nuestro nodo. "
   ]
  },
  {
   "cell_type": "markdown",
   "metadata": {},
   "source": [
    "<table style=\"float:left;background: #407EAF\">\n",
    "<tr>\n",
    "<th>\n",
    "<p class=\"transparent\">Ejecuta en la WebShell #1</p><br>\n",
    "rosnode info /ObiWan\n",
    "</th>\n",
    "</tr>\n",
    "</table>"
   ]
  },
  {
   "cell_type": "markdown",
   "metadata": {},
   "source": [
    "<table class=\"transparent float_l\">\n",
    "<tr>\n",
    "<th>\n",
    "<p style=\"background: #407EAF\">Salida de la WebShell #1</p><br>\n",
    "user ~ $ rosnode info /ObiWan<br>\n",
    "--------------------------------------------------------------------------------<br>\n",
    "Node [/ObiWan]<br>\n",
    "Publications:<br>\n",
    " * /rosout [rosgraph_msgs/Log]<br>\n",
    "<br>\n",
    "Subscriptions:<br>\n",
    " * /clock [rosgraph_msgs/Clock]<br>\n",
    "<br>\n",
    "Services:<br>\n",
    " * /ObiWan/set_logger_level<br>\n",
    " * /ObiWan/get_loggers<br>\n",
    "<br>\n",
    "<br>\n",
    "contacting node http://ip-172-31-30-5:58680/ ...<br>\n",
    "Pid: 1215<br>\n",
    "Connections:<br>\n",
    " * topic: /rosout<br>\n",
    "    * to: /rosout<br>\n",
    "    * direction: outbound<br>\n",
    "    * transport: TCPROS<br>\n",
    " * topic: /clock<br>\n",
    "    * to: /gazebo (http://ip-172-31-30-5:46415/)<br>\n",
    "    * direction: inbound<br>\n",
    "    * transport: TCPROS<br>\n",
    "</th>\n",
    "</tr>\n",
    "</table>"
   ]
  },
  {
   "cell_type": "markdown",
   "metadata": {},
   "source": [
    "Por ahora, no te preocupes por la respuesta del comando, entenderás más a medida que avances a través de los siguientes tutoriales. "
   ]
  },
  {
   "cell_type": "markdown",
   "metadata": {},
   "source": [
    "<p style=\"background:#407EAF;color:white;\">FIN del Ejemplo 1.1</p><br>"
   ]
  },
  {
   "cell_type": "markdown",
   "metadata": {},
   "source": [
    "## Compila un paquete"
   ]
  },
  {
   "cell_type": "markdown",
   "metadata": {},
   "source": [
    "Cuando se crea un paquete, por lo general tendrás que compilarlo para que funcione. El comando usado por ROS para compilar es el siguiente: "
   ]
  },
  {
   "cell_type": "raw",
   "metadata": {},
   "source": [
    "catkin_make"
   ]
  },
  {
   "cell_type": "markdown",
   "metadata": {},
   "source": [
    "Este comando compilará todo tu directorio \"src\", y debe hacerse en el directorio \"catkin_ws\". Esto es OBLIGATORIO. Si intentas compilar desde otro directorio, no funcionará. \n"
   ]
  },
  {
   "cell_type": "markdown",
   "metadata": {},
   "source": [
    "<p style=\"background:#407EAF;color:white;\">Ejemplo 1.7</p><br>"
   ]
  },
  {
   "cell_type": "markdown",
   "metadata": {},
   "source": [
    "Ve a tu directorio catkin_ws y compila tu carpeta source. Puedes hacer esto escribiendo:"
   ]
  },
  {
   "cell_type": "markdown",
   "metadata": {},
   "source": [
    "<table style=\"float:left;background: #407EAF\">\n",
    "<tr>\n",
    "<th>\n",
    "<p class=\"transparent\">Ejecuta en la WebShell #1</p><br>\n",
    "roscd; cd ..<br>\n",
    "catkin_make\n",
    "</th>\n",
    "</tr>\n",
    "</table>"
   ]
  },
  {
   "cell_type": "markdown",
   "metadata": {},
   "source": [
    "A veces (por ejemplo, en grandes proyectos) no querrás compilar todos los paquetes, sino solamente aquel o aquellos en los que hayas hecho cambios. Puedes hacerlo con el siguiente comando:"
   ]
  },
  {
   "cell_type": "raw",
   "metadata": {},
   "source": [
    "catkin_make --only-pkg-with-deps <nombre_del_paquete>"
   ]
  },
  {
   "cell_type": "markdown",
   "metadata": {},
   "source": [
    "This command will only compile the packages specified and its dependencies."
   ]
  },
  {
   "cell_type": "markdown",
   "metadata": {},
   "source": [
    "Tratar de compilar el paquete <span class=\"ign_green\">my_package</span> con este comando."
   ]
  },
  {
   "cell_type": "markdown",
   "metadata": {},
   "source": [
    "<table style=\"float:left;background: #407EAF\">\n",
    "<tr>\n",
    "<th>\n",
    "<p class=\"transparent\">Ejecuta en la WebShell #1</p><br>\n",
    "catkin_make --only-pkg-with-deps my_package\n",
    "</th>\n",
    "</tr>\n",
    "</table>"
   ]
  },
  {
   "cell_type": "markdown",
   "metadata": {},
   "source": [
    "<p style=\"background:#407EAF;color:white;\">FIN del Ejemplo 1.7</p><br>"
   ]
  },
  {
   "cell_type": "markdown",
   "metadata": {},
   "source": [
    "## Parameter Server"
   ]
  },
  {
   "cell_type": "markdown",
   "metadata": {},
   "source": [
    "Un Parameter Server es un diccionario que ROS utiliza para almacenar parámetros. Estos parámetros pueden ser usados por los nodos en tiempo de ejecución y normalmente se utilizan para datos estáticos, tales como parámetros de configuración. "
   ]
  },
  {
   "cell_type": "markdown",
   "metadata": {},
   "source": [
    "Para obtener una lista de estos parámetros puedes escribir:"
   ]
  },
  {
   "cell_type": "raw",
   "metadata": {},
   "source": [
    "rosparam list"
   ]
  },
  {
   "cell_type": "markdown",
   "metadata": {},
   "source": [
    "Para obtener un valor de un parámetro determinado, puedes escribir:"
   ]
  },
  {
   "cell_type": "raw",
   "metadata": {},
   "source": [
    "rosparam get <nombre_del_parametro>"
   ]
  },
  {
   "cell_type": "markdown",
   "metadata": {},
   "source": [
    "Y para establecer el valor de un parámetro, puedes escribir:"
   ]
  },
  {
   "cell_type": "raw",
   "metadata": {},
   "source": [
    "rosparam set <nombre_del_parametro> <valor>"
   ]
  },
  {
   "cell_type": "markdown",
   "metadata": {},
   "source": [
    "<p style=\"background:#407EAF;color:white;\">Ejemplo 1.8</p><br>\n",
    "Para obtener el valor del parametro '/camera/imager_rate', y cambiarlo a '4.0' tendrás que hacer lo siguiente:<br>\n",
    "\n",
    "<table style=\"float:left;background: #407EAF\">\n",
    "<tr>\n",
    "<th>\n",
    "<p class=\"transparent\">Ejecuta en la WebShell #1</p><br>\n",
    "rosparam get /camera/imager_rate<br>\n",
    "rosparam set /camera/imager_rate 4.0<br>\n",
    "rosparam get /camera/imager_rate<br>\n",
    "</th>\n",
    "</tr>\n",
    "</table>\n",
    "<br><br><br><br><br><br><br>\n",
    "<p style=\"background:#407EAF;color:white;\">FIN del ejemplo 1.8</p><br>"
   ]
  },
  {
   "cell_type": "markdown",
   "metadata": {},
   "source": [
    "## Variables de Entorno"
   ]
  },
  {
   "cell_type": "markdown",
   "metadata": {},
   "source": [
    "ROS utiliza un conjunto de variables de entorno para funcionar correctamente. Puedes comprobar estas variables escribiendo:"
   ]
  },
  {
   "cell_type": "raw",
   "metadata": {},
   "source": [
    "export | grep ROS"
   ]
  },
  {
   "cell_type": "markdown",
   "metadata": {},
   "source": [
    "<font class='ign_color'>NOTA 1: dependiendo de tu ordenador, podría suceder que NO puedas escribir el símbolo | directamente en tu consola web. Si es el caso, simplemente copia/pega el comando con CLIC DERECHO en la WebShell y selecciona Pegar en el explorador. Esta característica te permite escribir cualquier cosa en tu WebShell independientemente de la configuración de tu equipo. </font>"
   ]
  },
  {
   "cell_type": "raw",
   "metadata": {},
   "source": [
    "user ~ $ export | grep ROS\n",
    "declare -x ROSLISP_PACKAGE_DIRECTORIES=\"/home/user/catkin_ws/devel/share/common-lisp\"\n",
    "declare -x ROS_DISTRO=\"indigo\"\n",
    "declare -x ROS_ETC_DIR=\"/opt/ros/indigo/etc/ros\"\n",
    "declare -x ROS_MASTER_URI=\"http://localhost:11311\"\n",
    "declare -x ROS_PACKAGE_PATH=\"/home/user/catkin_ws/src:/opt/ros/indigo/share:/opt/ros/indigo/stacks\"\n",
    "declare -x ROS_ROOT=\"/opt/ros/indigo/share/ros\""
   ]
  },
  {
   "cell_type": "markdown",
   "metadata": {},
   "source": [
    "Las variables más importantes son el ROS_MASTER_URI y la ROS_PACKAGE_PATH. "
   ]
  },
  {
   "cell_type": "raw",
   "metadata": {},
   "source": [
    "ROS_MASTER_URI -> Contiene la dirección url del master.\n",
    "ROS_PACKAGE_PATH -> Contiene las rutas donde ROS tiene paquetes."
   ]
  },
  {
   "cell_type": "markdown",
   "metadata": {},
   "source": [
    "<font class='ign_color'>En la plataforma que estás utilizando para este curso hemos creado un alias para mostrar las variables de entorno de ROS. Este alias es \"rosenv\". Al escribir esto en tu consola, obtendrás una lista de las variables de entorno ROS. Es importante que sepas que esto no es un comando de ROS oficial, por lo que solo se puede utilizar mientras se trabaja en esta plataforma.</font>"
   ]
  },
  {
   "cell_type": "markdown",
   "metadata": {},
   "source": [
    "## Roscore"
   ]
  },
  {
   "cell_type": "markdown",
   "metadata": {},
   "source": [
    "Para que todo esto funcione necesitamos un roscore en ejecución. El roscore es el proceso principal que gestiona todo el sistema de ROS. Siempre hay que tener un roscore corriendo con el fin de trabajar con ROS. El comando que lanza una roscore es:"
   ]
  },
  {
   "cell_type": "raw",
   "metadata": {},
   "source": [
    "roscore"
   ]
  },
  {
   "cell_type": "markdown",
   "metadata": {},
   "source": [
    "<figure>\n",
    "  <img id=\"fig-1.2\" src=\"img/roscore.jpg\"></img>\n",
    "   <center> <figcaption>Fig.1.2 - ROS Core Diagram</figcaption></center>\n",
    "</figure>"
   ]
  },
  {
   "cell_type": "markdown",
   "metadata": {},
   "source": [
    "<font class='ign_red'>Al hacer un roslaunch, si se detecta que no hay roscore en ejecución, se iniciará automáticamente uno.</font>"
   ]
  },
  {
   "cell_type": "markdown",
   "metadata": {},
   "source": [
    "<font class='ign_color'>En la plataforma que estás utilizando para este curso, cuando entras en un curso se pone en marcha automáticamente un roscore para ti, por lo que no es necesario lanzar uno.</font>"
   ]
  },
  {
   "cell_type": "markdown",
   "metadata": {},
   "source": [
    "## Bueno y ahora... ¿qué es ROS?"
   ]
  },
  {
   "cell_type": "markdown",
   "metadata": {},
   "source": [
    "ROS es básicamente el marco que nos permite hacer todo esto, que proporciona el fondo para gestionar todos estos procesos y las comunicaciones entre ellos... ¡y mucho más ! En este tutorial acabas de raspar la superficie de ROS, los conceptos básicos. ROS es una herramienta extremadamente potente. ¡Si te sumerges en nuestros cursos aprenderás mucho más sobre ROS y verás que eres capaz de hacer casi cualquier cosa con tus robots!"
   ]
  },
  {
   "cell_type": "markdown",
   "metadata": {},
   "source": [
    "## Material adicional para aprender más"
   ]
  },
  {
   "cell_type": "markdown",
   "metadata": {},
   "source": [
    "Paquetes ROS: http://wiki.ros.org/Packages<br>\n",
    "Nodos Ros: http://wiki.ros.org/Nodes<br>\n",
    "Parameter Server: http://wiki.ros.org/Parameter%20Server<br>\n",
    "Roscore: http://wiki.ros.org/roscore<br>\n",
    "Variables de Entorno de ROS: http://wiki.ros.org/ROS/EnvironmentVariables"
   ]
  }
 ],
 "metadata": {
  "anaconda-cloud": {},
  "kernelspec": {
   "display_name": "Python [Root]",
   "language": "python",
   "name": "Python [Root]"
  },
  "language_info": {
   "codemirror_mode": {
    "name": "ipython",
    "version": 2
   },
   "file_extension": ".py",
   "mimetype": "text/x-python",
   "name": "python",
   "nbconvert_exporter": "python",
   "pygments_lexer": "ipython2",
   "version": "2.7.12"
  },
  "nbpresent": {
   "slides": {},
   "themes": {
    "default": "31006857-3e5b-4c40-a94d-8ea8ade74bc7",
    "theme": {
     "31006857-3e5b-4c40-a94d-8ea8ade74bc7": {
      "backgrounds": {
       "backgroundColor": {
        "background-color": "backgroundColor",
        "id": "backgroundColor"
       }
      },
      "id": "31006857-3e5b-4c40-a94d-8ea8ade74bc7",
      "palette": {
       "backgroundColor": {
        "id": "backgroundColor",
        "rgb": [
         34,
         34,
         34
        ]
       },
       "headingColor": {
        "id": "headingColor",
        "rgb": [
         238,
         238,
         238
        ]
       },
       "linkColor": {
        "id": "linkColor",
        "rgb": [
         170,
         34,
         51
        ]
       },
       "mainColor": {
        "id": "mainColor",
        "rgb": [
         238,
         238,
         238
        ]
       }
      },
      "rules": {
       "a": {
        "color": "linkColor"
       },
       "h1": {
        "color": "headingColor",
        "font-family": "Ubuntu",
        "font-size": 7
       },
       "h2": {
        "color": "headingColor",
        "font-family": "Ubuntu",
        "font-size": 5
       },
       "h3": {
        "color": "headingColor",
        "font-family": "Ubuntu",
        "font-size": 3.75
       },
       "h4": {
        "color": "headingColor",
        "font-family": "Ubuntu",
        "font-size": 3
       },
       "h5": {
        "color": "headingColor",
        "font-family": "Ubuntu"
       },
       "h6": {
        "color": "headingColor",
        "font-family": "Ubuntu"
       },
       "h7": {
        "color": "headingColor",
        "font-family": "Ubuntu"
       },
       "li": {
        "color": "mainColor",
        "font-family": "Ubuntu",
        "font-size": 5
       },
       "p": {
        "color": "mainColor",
        "font-family": "Ubuntu",
        "font-size": 5
       }
      },
      "text-base": {
       "color": "mainColor",
       "font-family": "Ubuntu",
       "font-size": 5
      }
     }
    }
   }
  }
 },
 "nbformat": 4,
 "nbformat_minor": 0
}
