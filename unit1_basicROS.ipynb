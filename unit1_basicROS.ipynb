{
 "cells": [
  {
   "cell_type": "markdown",
   "metadata": {},
   "source": [
    "# <font class='ign_color'>ROS IN 5 DAYS </font>"
   ]
  },
  {
   "cell_type": "markdown",
   "metadata": {},
   "source": [
    "# Unit 1: Basic Concepts"
   ]
  },
  {
   "cell_type": "markdown",
   "metadata": {
    "caption": "Kobuki",
    "image": true,
    "name": "kobuki_wall",
    "width": "15cm"
   },
   "source": [
    "<img src=\"img/kobuki_wall.png\" width=\"800\"/>"
   ]
  },
  {
   "cell_type": "markdown",
   "metadata": {},
   "source": [
    "<b>Estimated time to completion:</b> 1'5 hours\n",
    "<br><br>\n",
    "<b>Simulated robot:</b> Turtlebot\n",
    "<br><br>\n",
    "<b>What will you learn with this unit?</b>\n",
    "\n",
    "* How to structure and launch ROS programs (packages and launch files)\n",
    "* How to create basic ROS programs (Python based)\n",
    "* Basic ROS concepts: Nodes, Parameter Server, Environment Variables, Roscore"
   ]
  },
  {
   "cell_type": "markdown",
   "metadata": {
    "caption": "Kobuki Robot",
    "image": true,
    "name": "kobuki",
    "width": "7cm"
   },
   "source": [
    "<img src=\"img/kobuki.jpg\" width=\"212\" height=\"236\" />"
   ]
  },
  {
   "cell_type": "markdown",
   "metadata": {},
   "source": [
    "## What is ROS? \n",
    "This is probably the question that has brought you all here. Well, let me tell you that you are still not prepared to understand the answer to this question, so... let's get some work done first."
   ]
  },
  {
   "cell_type": "markdown",
   "metadata": {},
   "source": [
    "## Move a Robot with ROS"
   ]
  },
  {
   "cell_type": "markdown",
   "metadata": {},
   "source": [
    "On the right corner of the screen, you have your first simulated robot: the Turtlebot 2 robot against a large wall."
   ]
  },
  {
   "cell_type": "markdown",
   "metadata": {
    "caption": "Robot Ignite Environment",
    "image": true,
    "name": "screen_1",
    "width": "15cm"
   },
   "source": [
    "<img src=\"img/screen_1.jpg\"/>"
   ]
  },
  {
   "cell_type": "markdown",
   "metadata": {},
   "source": [
    "<h3>**Let's move that robot!**</h3>\n",
    "<br>\n",
    "How can you move the Turtlebot?<br>\n",
    "The easiest way is by executing an existing ROS program to control the robot. A ROS program is executed by using some special files called <b>launch files</b>.<br><br>\n",
    "Since a previously-made ROS program already exists that allows you to move the robot using the keyboard, let's <i>launch</i> that ROS program to teleoperate the robot. "
   ]
  },
  {
   "cell_type": "markdown",
   "metadata": {},
   "source": [
    "<p style=\"background:#407EAF;color:white;\">**Example 1.1**</p>"
   ]
  },
  {
   "cell_type": "markdown",
   "metadata": {},
   "source": [
    "Execute the following command in WebShell number #1<br>\n",
    "\n",
    "<table style=\"float:left;background: #407EAF\">\n",
    "<tr>\n",
    "<th>\n",
    "<p class=\"transparent\">Execute in WebShell #1</p>\n",
    "</th>\n",
    "</tr>\n",
    "</table>\n",
    "<br>"
   ]
  },
  {
   "cell_type": "code",
   "execution_count": null,
   "metadata": {
    "collapsed": true
   },
   "outputs": [],
   "source": [
    "roslaunch turtlebot_teleop keyboard_teleop.launch"
   ]
  },
  {
   "cell_type": "markdown",
   "metadata": {},
   "source": [
    "<table style=\"float:left;background: #407EAF\">\n",
    "<tr>\n",
    "<th>\n",
    "<p style=\"background: #407EAF; color:white\">WebShell #1 Output</p>\n",
    "</th>\n",
    "</tr>\n",
    "</table>"
   ]
  },
  {
   "cell_type": "code",
   "execution_count": null,
   "metadata": {
    "collapsed": true
   },
   "outputs": [],
   "source": [
    "Control Your Turtlebot!\n",
    "---------------------------\n",
    "Moving around:\n",
    "   u    i    o\n",
    "   j    k    l\n",
    "   m    ,    .\n",
    "\n",
    "q/z : increase/decrease max speeds by 10%\n",
    "w/x : increase/decrease only linear speed by 10%\n",
    "e/c : increase/decrease only angular speed by 10%\n",
    "space key, k : force stop\n",
    "anything else : stop smoothly\n",
    "\n",
    "CTRL-C to quit"
   ]
  },
  {
   "cell_type": "markdown",
   "metadata": {},
   "source": [
    "Now, you can use the keys indicated in the WebShell Output in order to move the robot around. The basic keys are the following:"
   ]
  },
  {
   "cell_type": "markdown",
   "metadata": {},
   "source": [
    "<table style=\"width:100%\">\n",
    "  \n",
    "  <tr>\n",
    "    <th>\n",
    "    <figure>\n",
    "        <img src=\"img/key_i.png\"width=\"40\"></img>\n",
    "        \n",
    "    </figure>\n",
    "    </th>\n",
    "    <th>\n",
    "    <p style=\"text-align: center;\">Move forward</p>\n",
    "    </th> \n",
    "  </tr>\n",
    "  <tr>\n",
    "    <th>\n",
    "    <figure>\n",
    "        <img src=\"img/key_comma.png\"width=\"40\"></img>\n",
    "        \n",
    "    </figure>\n",
    "    </th>\n",
    "    <th>\n",
    "    <p style=\"text-align: center;\">Move backward</p>\n",
    "    </th> \n",
    "  </tr>\n",
    "  <tr>\n",
    "    <th>\n",
    "    <figure>\n",
    "        <img src=\"img/key_j.png\"width=\"40\"></img>\n",
    "        \n",
    "    </figure>\n",
    "    </th>\n",
    "    <th>\n",
    "    <p style=\"text-align: center;\">Turn left</p>\n",
    "    </th> \n",
    "  </tr>\n",
    "  <tr>\n",
    "    <th>\n",
    "    <figure>\n",
    "        <img src=\"img/key_l.png\"width=\"40\"></img>\n",
    "        \n",
    "    </figure>\n",
    "    </th>\n",
    "    <th>\n",
    "    <p style=\"text-align: center;\">Turn right</p>\n",
    "    </th> \n",
    "  </tr>\n",
    "  <tr>\n",
    "    <th>\n",
    "    <figure>\n",
    "        <img src=\"img/key_k.png\"width=\"40\"></img>\n",
    "        \n",
    "    </figure>\n",
    "    </th>\n",
    "    <th>\n",
    "    <p style=\"text-align: center;\">Stop</p>\n",
    "    </th> \n",
    "  </tr>\n",
    "  <tr>\n",
    "    <th>\n",
    "    <figure>\n",
    "        <img src=\"img/key_q.png\"width=\"40\"></img>\n",
    "        <img src=\"img/key_z.png\"width=\"40\"></img>\n",
    "        \n",
    "    </figure>\n",
    "    </th>\n",
    "    <th>\n",
    "    <p style=\"text-align: center;\">Increase / Decrease Speed</p>\n",
    "    </th> \n",
    "  </tr>\n",
    "  \n",
    "</table>"
   ]
  },
  {
   "cell_type": "markdown",
   "metadata": {},
   "source": [
    "Try it!! When you're done, you can press **Ctrl+C** to stop the execution of the program."
   ]
  },
  {
   "cell_type": "markdown",
   "metadata": {},
   "source": [
    "**<i class=\"ign_green\">roslaunch</i>** is the command used to launch a ROS program. Its structure goes as follows:"
   ]
  },
  {
   "cell_type": "code",
   "execution_count": null,
   "metadata": {
    "collapsed": true
   },
   "outputs": [],
   "source": [
    "roslaunch <package_name> <launch_file>"
   ]
  },
  {
   "cell_type": "markdown",
   "metadata": {},
   "source": [
    "As you can see, that command has two parameters: the first one is <b>the name of the package</b> that contains the launch file, and the second one is <b>the name of the launch file</b> itself (which is stored inside the package)."
   ]
  },
  {
   "cell_type": "markdown",
   "metadata": {},
   "source": [
    "<p style=\"background:#407EAF;color:white;\">END **Example 1.1**</p><br>"
   ]
  },
  {
   "cell_type": "markdown",
   "metadata": {},
   "source": [
    "## Now... what's a package?"
   ]
  },
  {
   "cell_type": "markdown",
   "metadata": {},
   "source": [
    "ROS uses <b>packages</b> to organize its programs. You can think of a package as <b>all the files that a specific ROS program contains</b>; all its cpp files, python files, configuration files, compilation files, launch files, and parameters files.\n",
    "\n",
    "\n",
    "All those files in the package are organized with the following structure:"
   ]
  },
  {
   "cell_type": "markdown",
   "metadata": {},
   "source": [
    "* **launch** folder: Contains launch files\n",
    "* **src** folder: Source files (cpp, python)\n",
    "* **CMakeLists.txt**: List of cmake rules for compilation\n",
    "* **package.xml**: Package information and dependencies"
   ]
  },
  {
   "cell_type": "markdown",
   "metadata": {},
   "source": [
    "To go to any ROS package, ROS gives you a command named <i class=\"ign_green\">roscd</i>. When typing:"
   ]
  },
  {
   "cell_type": "code",
   "execution_count": null,
   "metadata": {
    "collapsed": true
   },
   "outputs": [],
   "source": [
    " roscd <package_name>"
   ]
  },
  {
   "cell_type": "markdown",
   "metadata": {},
   "source": [
    "It will take you to the path where the package <i>package_name</i> is located.<br>"
   ]
  },
  {
   "cell_type": "markdown",
   "metadata": {},
   "source": [
    "<p style=\"background:#407EAF;color:white;\">**Example 1.2**</p><br>"
   ]
  },
  {
   "cell_type": "markdown",
   "metadata": {},
   "source": [
    "Go to WebShell #1, navigate to the turtlebot_teleop package, and check that it has that structure.<br>\n",
    "\n",
    "<table style=\"float:left;background: #407EAF\">\n",
    "<tr>\n",
    "<th>\n",
    "<p class=\"transparent\">Execute in WebShell #1</p>\n",
    "</th>\n",
    "</tr>\n",
    "</table>\n",
    "<br>"
   ]
  },
  {
   "cell_type": "code",
   "execution_count": null,
   "metadata": {
    "collapsed": true
   },
   "outputs": [],
   "source": [
    "roscd turtlebot_teleop\n",
    "ls"
   ]
  },
  {
   "cell_type": "markdown",
   "metadata": {},
   "source": [
    "<img src=\"img/turtlebot_teleop_contents.png\" width=\"800\" />"
   ]
  },
  {
   "cell_type": "markdown",
   "metadata": {},
   "source": [
    "Every ROS program that you want to execute is organized in a package.<br>\n",
    "Every ROS program that you create will have to be organized in a package.<br>\n",
    "Packages are the main organization system of ROS programs."
   ]
  },
  {
   "cell_type": "markdown",
   "metadata": {},
   "source": [
    "<p style=\"background:#407EAF;color:white;\">END **Example 1.2**</p><br>"
   ]
  },
  {
   "cell_type": "markdown",
   "metadata": {},
   "source": [
    "## And... what's a launch file?"
   ]
  },
  {
   "cell_type": "markdown",
   "metadata": {},
   "source": [
    "We've seen that ROS uses launch files in order to execute programs. But... how do they work? Let's have a look.\n"
   ]
  },
  {
   "cell_type": "markdown",
   "metadata": {},
   "source": [
    "<p id=\"example-1.3\" style=\"background:#407EAF;color:white;\">**Example 1.3**</p><br>"
   ]
  },
  {
   "cell_type": "markdown",
   "metadata": {},
   "source": [
    "Open the **launch** folder inside the **turtlebot_teleop** package and check the **keyboard_teleop.launch file**.<br>\n",
    "\n",
    "<table style=\"float:left;background: #407EAF\">\n",
    "<tr>\n",
    "<th>\n",
    "<p class=\"transparent\">Execute in WebShell #1</p>\n",
    "</th>\n",
    "</tr>\n",
    "</table>\n",
    "<br>"
   ]
  },
  {
   "cell_type": "code",
   "execution_count": null,
   "metadata": {
    "collapsed": true
   },
   "outputs": [],
   "source": [
    "roscd turtlebot_teleop\n",
    "cd launch\n",
    "cat keyboard_teleop.launch"
   ]
  },
  {
   "cell_type": "markdown",
   "metadata": {},
   "source": [
    "<table style=\"float:left;background: #407EAF\">\n",
    "<tr>\n",
    "<th>\n",
    "<p style=\"background: #407EAF; color:white\">WebShell #1 Output</p>\n",
    "</th>\n",
    "</tr>\n",
    "</table>"
   ]
  },
  {
   "cell_type": "code",
   "execution_count": null,
   "metadata": {
    "collapsed": true
   },
   "outputs": [],
   "source": [
    "<launch>\n",
    "  <!-- turtlebot_teleop_key already has its own built in velocity smoother -->\n",
    "  <node pkg=\"turtlebot_teleop\" type=\"turtlebot_teleop_key.py\" name=\"turtlebot_teleop_keyboard\"  output=\"screen\">\n",
    "    <param name=\"scale_linear\" value=\"0.5\" type=\"double\"/>\n",
    "    <param name=\"scale_angular\" value=\"1.5\" type=\"double\"/>\n",
    "    <remap from=\"turtlebot_teleop_keyboard/cmd_vel\" to=\"/cmd_vel\"/>   <!-- cmd_vel_mux/input/teleop\"/-->\n",
    "  </node>\n",
    "</launch>"
   ]
  },
  {
   "cell_type": "markdown",
   "metadata": {},
   "source": [
    "<font class='ign_red'>In the launch file, you have some extra tags for setting parameters and remaps. For now, don't worry about those tags and focus on the node tag.</font>"
   ]
  },
  {
   "cell_type": "markdown",
   "metadata": {},
   "source": [
    "All launch files are contained within a **&lt;launch&gt;** tag. Inside that tag, you can see a **&lt;node&gt;** tag, where we specify the following parameters:"
   ]
  },
  {
   "cell_type": "markdown",
   "metadata": {},
   "source": [
    "\n",
    "1. **pkg=\"package_name\"** # Name of the package that contains the code of the ROS program to execute \n",
    "2. **type=\"python_file_name.py\"** # Name of the program file that we want to execute \n",
    "3. **name=\"node_name\"** # Name of the ROS node that will launch our Python file \n",
    "4. **output=\"type_of_output\"** # Through which channel you will print the output of the Python file "
   ]
  },
  {
   "cell_type": "markdown",
   "metadata": {},
   "source": [
    "<p style=\"background:#407EAF;color:white;\">**END Example 1.3**</p>"
   ]
  },
  {
   "cell_type": "markdown",
   "metadata": {},
   "source": [
    "## Create a package"
   ]
  },
  {
   "cell_type": "markdown",
   "metadata": {},
   "source": [
    "Until now we've been checking the structure of an already-built package... but now, let's create one ourselves.\n",
    "\n",
    "When we want to create packages, we need to work in a very specific ROS workspace, which is known as **<i> the catkin workspace</i>**. The catkin workspace is the directory in your hard disk where your own **ROS packages must reside** in order to be usable by ROS. Usually, the **<i>catkin workspace</i>** directory is called **<i>catkin_ws</i>**."
   ]
  },
  {
   "cell_type": "markdown",
   "metadata": {},
   "source": [
    "<p id=\"example-1.4\" style=\"background:#407EAF;color:white;\">**Example 1.4**</p><br>\n",
    "Go to the catkin_ws in your WebShell.\n",
    "\n",
    "\n",
    "In order to do this, type **<i>roscd</i>** in the <i>shell</i>. You'll see that you are thrown to a **<i>catkin_ws/devel</i>** directory. Since you want to go to the workspace, just type **<i>cd ..</i>** to move up 1 directory. You must end up here in the **<i>/home/user/catkin_ws</i>**.<br>\n",
    "\n",
    "<table style=\"float:left;background: #407EAF\">\n",
    "<tr>\n",
    "<th>\n",
    "<p class=\"transparent\">Execute in WebShell #1</p>\n",
    "</th>\n",
    "</tr>\n",
    "</table>"
   ]
  },
  {
   "cell_type": "code",
   "execution_count": null,
   "metadata": {
    "collapsed": true
   },
   "outputs": [],
   "source": [
    "roscd\n",
    "cd ..\n",
    "pwd"
   ]
  },
  {
   "cell_type": "markdown",
   "metadata": {},
   "source": [
    "<p style=\"background: #407EAF\">WebShell #1 Output</p>"
   ]
  },
  {
   "cell_type": "code",
   "execution_count": null,
   "metadata": {
    "collapsed": true
   },
   "outputs": [],
   "source": [
    "user ~ $ pwd\n",
    "/home/user/catkin_ws"
   ]
  },
  {
   "cell_type": "markdown",
   "metadata": {},
   "source": [
    "Inside this workspace, there is a directory called **src**. This folder will contain all the packages created. Every time you want to create a new package, you have to be in this directory (**catkin_ws/src**). Type in your WebShell **<i>cd src</i>** in order to move to the source directory.<br>\n",
    "\n",
    "<table style=\"float:left;background: #407EAF\">\n",
    "<tr>\n",
    "<th>\n",
    "<p class=\"transparent\">Execute in WebShell #1</p>\n",
    "</th>\n",
    "</tr>\n",
    "</table>"
   ]
  },
  {
   "cell_type": "code",
   "execution_count": null,
   "metadata": {
    "collapsed": true
   },
   "outputs": [],
   "source": [
    "cd src"
   ]
  },
  {
   "cell_type": "markdown",
   "metadata": {},
   "source": [
    "Now we are ready to create our first package! In order to create a package, type in your WebShell:<br>\n",
    "\n",
    "<table style=\"float:left;background: #407EAF\">\n",
    "<tr>\n",
    "<th>\n",
    "<p class=\"transparent\">Execute in WebShell #1</p>\n",
    "</th>\n",
    "</tr>\n",
    "</table>"
   ]
  },
  {
   "cell_type": "code",
   "execution_count": null,
   "metadata": {
    "collapsed": true
   },
   "outputs": [],
   "source": [
    "catkin_create_pkg my_package rospy"
   ]
  },
  {
   "cell_type": "markdown",
   "metadata": {},
   "source": [
    "This will create inside our **src** directory a new package with some files in it. We'll check this later. Now, let's see how this command is built:"
   ]
  },
  {
   "cell_type": "code",
   "execution_count": null,
   "metadata": {
    "collapsed": true
   },
   "outputs": [],
   "source": [
    "catkin_create_pkg <package_name> <package_dependecies>"
   ]
  },
  {
   "cell_type": "markdown",
   "metadata": {},
   "source": [
    "The **package_name** is the name of the package you want to create, and the **package_dependencies** are the names of other ROS packages that your package depends on."
   ]
  },
  {
   "cell_type": "markdown",
   "metadata": {},
   "source": [
    "<p style=\"background:#407EAF;color:white;\">END Example 1.4</p>"
   ]
  },
  {
   "cell_type": "markdown",
   "metadata": {},
   "source": [
    "<p style=\"background:#407EAF;color:white;\">**Example 1.5**</p>"
   ]
  },
  {
   "cell_type": "markdown",
   "metadata": {},
   "source": [
    "In order to check that our package has been created successfully, we can use some ROS commands related to packages. For example, let's type:<br>\n",
    "\n",
    "<table style=\"float:left;background: #407EAF\">\n",
    "<tr>\n",
    "<th>\n",
    "<p class=\"transparent\">Execute in WebShell #1</p>\n",
    "</th>\n",
    "</tr>\n",
    "</table>"
   ]
  },
  {
   "cell_type": "code",
   "execution_count": null,
   "metadata": {
    "collapsed": true
   },
   "outputs": [],
   "source": [
    "rospack list\n",
    "rospack list | grep my_package\n",
    "roscd my_package "
   ]
  },
  {
   "cell_type": "markdown",
   "metadata": {},
   "source": [
    "<span style=\"color:green;\"><b>rospack list</b></span>: Gives you a list with all of the packages in your ROS system.<br>\n",
    "<span style=\"color:green;\"><b>rospack list | grep my_package</b></span>: Filters, from all of the packages located in the ROS system, the package named <i>my_package</i>.<br>\n",
    "<span style=\"color:green;\"><b>roscd my_package</b></span>: Takes you to the location in the Hard Drive of the package, named <i>my_package</i>.\n",
    "<br><br>\n",
    "You can also see the package created and its contents by just opening it through the IDE (similar to <a href=\"#fig-1.1\">{Figure 1.1}</a>)<br>"
   ]
  },
  {
   "cell_type": "markdown",
   "metadata": {
    "caption": "IDE created package",
    "image": true,
    "name": "my_package",
    "width": "5cm"
   },
   "source": [
    "<figure>\n",
    "  <img id=\"fig-1.1\" src=\"img/my_package.png\"><br>\n",
    "   <center> <figcaption>Fig.1.1 - IDE created package my_package</figcaption></center>\n",
    "</figure>"
   ]
  },
  {
   "cell_type": "markdown",
   "metadata": {},
   "source": [
    "<p style=\"background:#407EAF;color:white;\">END **Example 1.5**</p><br>"
   ]
  },
  {
   "cell_type": "markdown",
   "metadata": {},
   "source": [
    "## My first ROS program"
   ]
  },
  {
   "cell_type": "markdown",
   "metadata": {},
   "source": [
    "At this point, you should have your first package created... but now you need to do something with it! \n",
    "Let's do our first ROS program! "
   ]
  },
  {
   "cell_type": "markdown",
   "metadata": {},
   "source": [
    "<p style=\"background:#407EAF;color:white;\">**Example 1.6**</p>"
   ]
  },
  {
   "cell_type": "markdown",
   "metadata": {},
   "source": [
    "1- Create in the **src** directory in <span style=\"color:green;\">my_package</span> a Python file that will be executed. For this exercise, just copy this simple python code <a href=\"#simple_python\">simple.py</a>. You can create it directly by **RIGHT clicking** on the IDE on the src directory of your package, selecting <span style=\"color: orange\">New File,</span> and writing the name of the file on the box that will appear."
   ]
  },
  {
   "cell_type": "markdown",
   "metadata": {
    "caption": "New File Creation",
    "image": true,
    "name": "new_file",
    "width": "5cm"
   },
   "source": [
    "<img src=\"img/new_file.png\"/>"
   ]
  },
  {
   "cell_type": "markdown",
   "metadata": {},
   "source": [
    "A new Tab should have appeared on the IDE with empty content.\n",
    "Then, copy the content of <a href=\"#simple_python\">simple.py</a> into the new file. Finally, press **Ctrl-S** to save your file with the changes. The Tab in the IDE will go from <i>Green</i> to <i>no color</i> (see pictures below).<br>"
   ]
  },
  {
   "cell_type": "markdown",
   "metadata": {
    "caption": "Unsaved",
    "image": true,
    "name": "non_saved",
    "width": "6cm"
   },
   "source": [
    "<img src=\"img/non_saved.png\" />"
   ]
  },
  {
   "cell_type": "markdown",
   "metadata": {
    "caption": "Saved",
    "image": true,
    "name": "saved",
    "width": "6cm"
   },
   "source": [
    "<img src=\"img/saved.png\" />"
   ]
  },
  {
   "cell_type": "markdown",
   "metadata": {},
   "source": [
    "2- Create a <i class=\"ign_green\">launch</i> directory inside the package named <span class=\"ign_green\">my_package</span> <a href=\"#example-1.4\">{Example 1.4}</a>.<br>\n",
    "<table style=\"float:left;background: #407EAF\">\n",
    "<tr>\n",
    "<th>\n",
    "<p class=\"transparent\">Execute in WebShell #1</p>\n",
    "</th>\n",
    "</tr>\n",
    "</table>"
   ]
  },
  {
   "cell_type": "code",
   "execution_count": null,
   "metadata": {
    "collapsed": true
   },
   "outputs": [],
   "source": [
    "roscd my_package\n",
    "mkdir launch"
   ]
  },
  {
   "cell_type": "markdown",
   "metadata": {},
   "source": [
    "You can also create it through the IDE."
   ]
  },
  {
   "cell_type": "markdown",
   "metadata": {},
   "source": [
    "3- Create a new launch file inside the launch directory.<br>\n",
    "<table style=\"float:left;background: #407EAF\">\n",
    "<tr>\n",
    "<th>\n",
    "<p class=\"transparent\">Execute in WebShell #1</p>\n",
    "</th>\n",
    "</tr>\n",
    "</table>"
   ]
  },
  {
   "cell_type": "code",
   "execution_count": null,
   "metadata": {
    "collapsed": true
   },
   "outputs": [],
   "source": [
    "touch launch/my_package_launch_file.launch"
   ]
  },
  {
   "cell_type": "markdown",
   "metadata": {},
   "source": [
    "You can also create it through the IDE."
   ]
  },
  {
   "cell_type": "markdown",
   "metadata": {},
   "source": [
    "4- Fill this launch file as we've previously seen in this course <a href=\"#example-1.3\">{Example 1.3}</a>."
   ]
  },
  {
   "cell_type": "markdown",
   "metadata": {},
   "source": [
    "**HINT: You can copy from the turtlebot_teleop package, the keyboard_teleop.launch file and modify it. If you do so, remove the param and remap tags and leave only the node tag, because you don't need those parameters.**</font>"
   ]
  },
  {
   "cell_type": "markdown",
   "metadata": {},
   "source": [
    "The final launch file should be something similar to this <a href=\"#my_package_launch_file\">my_package_launch_file.launch</a>.<br><br>"
   ]
  },
  {
   "cell_type": "markdown",
   "metadata": {},
   "source": [
    "5- Finally, execute the roslaunch command in the WebShell in order to launch your program."
   ]
  },
  {
   "cell_type": "markdown",
   "metadata": {},
   "source": [
    "<table style=\"float:left;background: #407EAF\">\n",
    "<tr>\n",
    "<th>\n",
    "<p class=\"transparent\">Execute in WebShell #1</p>\n",
    "</th>\n",
    "</tr>\n",
    "</table>"
   ]
  },
  {
   "cell_type": "code",
   "execution_count": null,
   "metadata": {
    "collapsed": true
   },
   "outputs": [],
   "source": [
    "roslaunch my_package my_package_launch_file.launch"
   ]
  },
  {
   "cell_type": "markdown",
   "metadata": {},
   "source": [
    "<p style=\"background:#407EAF;color:white;\">END **Example 1.6**</p>"
   ]
  },
  {
   "cell_type": "markdown",
   "metadata": {},
   "source": [
    "<p style=\"background:#AE0202;color:white;\">**Expected Result for Example 1.6**</p>"
   ]
  },
  {
   "cell_type": "markdown",
   "metadata": {},
   "source": [
    "You should see Leia's quote among the output of the roslaunch command."
   ]
  },
  {
   "cell_type": "markdown",
   "metadata": {},
   "source": [
    "<p style=\"background: #407EAF\">WebShell #1 Output</p>"
   ]
  },
  {
   "cell_type": "code",
   "execution_count": null,
   "metadata": {
    "collapsed": true
   },
   "outputs": [],
   "source": [
    "user catkin_ws $ roslaunch my_package my_package_launch_file.launch\n",
    "... logging to /home/user/.ros/log/d29014ac-911c-11e6-b306-02f9ff83faab/roslaunch-ip-172-31-30-5-28204.log\n",
    "Checking log directory for disk usage. This may take awhile.\n",
    "Press Ctrl-C to interrupt\n",
    "Done checking log file disk usage. Usage is <1GB.\n",
    "\n",
    "started roslaunch server http://ip-172-31-30-5:40504/\n",
    "\n",
    "SUMMARY\n",
    "========\n",
    "\n",
    "PARAMETERS\n",
    " * /rosdistro: indigo\n",
    " * /rosversion: 1.11.20\n",
    "\n",
    "NODES\n",
    "  /\n",
    "    ObiWan (my_package/simple.py)\n",
    "\n",
    "ROS_MASTER_URI=http://localhost:11311\n",
    "\n",
    "core service [/rosout] found\n",
    "process[ObiWan-1]: started with pid [28228]\n",
    "Help me Obi-Wan Kenobi, you're my only hope\n",
    "[ObiWan-1] process has finished cleanly\n",
    "log file: /home/user/.ros/log/d29014ac-911c-11e6-b306-02f9ff83faab/ObiWan-1*.log\n",
    "all processes on machine have died, roslaunch will exit\n",
    "shutting down processing monitor...\n",
    "... shutting down processing monitor complete\n",
    "done"
   ]
  },
  {
   "cell_type": "markdown",
   "metadata": {},
   "source": [
    "<p style=\"background:#AE0202;color:white;\">END **Expected Result for Example 1.6**</p>"
   ]
  },
  {
   "cell_type": "markdown",
   "metadata": {},
   "source": [
    "Sometimes ROS won't detect a new package when you have just created it, so you won't be able to do a roslaunch. In this case, you can force ROS to do a refresh of its package list with the command:"
   ]
  },
  {
   "cell_type": "markdown",
   "metadata": {},
   "source": [
    "<table style=\"float:left;background: #407EAF\">\n",
    "<tr>\n",
    "<th>\n",
    "<p class=\"transparent\">Execute in WebShell #1</p>\n",
    "</th>\n",
    "</tr>\n",
    "</table>"
   ]
  },
  {
   "cell_type": "code",
   "execution_count": null,
   "metadata": {
    "collapsed": true
   },
   "outputs": [],
   "source": [
    "rospack profile"
   ]
  },
  {
   "cell_type": "markdown",
   "metadata": {},
   "source": [
    "<p style=\"background:#3B8F10;color:white;\" id=\"simple_python\">**Python Program {1.1a-py}: simple.py** </p>"
   ]
  },
  {
   "cell_type": "code",
   "execution_count": null,
   "metadata": {
    "collapsed": true
   },
   "outputs": [],
   "source": [
    "#! /usr/bin/env python\n",
    "\n",
    "import rospy\n",
    "\n",
    "rospy.init_node('ObiWan')\n",
    "print \"Help me Obi-Wan Kenobi, you're my only hope\""
   ]
  },
  {
   "cell_type": "markdown",
   "metadata": {},
   "source": [
    "You may be wondering what this whole code means, right? Well, let's explain it line by line:\n"
   ]
  },
  {
   "cell_type": "code",
   "execution_count": null,
   "metadata": {
    "collapsed": false
   },
   "outputs": [],
   "source": [
    "#! /usr/bin/env python \n",
    "# This line will ensure the interpreter used is the first one on your environment's $PATH. Every Python file needs\n",
    "# to start with this line at the top.\n",
    "\n",
    "import rospy # Import the rospy, which is a Python library for ROS.\n",
    "\n",
    "rospy.init_node('ObiWan') # Initiate a node called ObiWan\n",
    "\n",
    "print \"Help me Obi-Wan Kenobi, you're my only hope\" # A simple Python print\n"
   ]
  },
  {
   "cell_type": "markdown",
   "metadata": {},
   "source": [
    "<font style=\"color:red;\">**NOTE**: If you create your Python file from the shell, it may happen that it's created without execution permissions. If this happens, ROS won't be able to find it. If this is your case, you can give execution permissions to the file by typing the next command: **<i>chmod +x name_of_the_file.py</i>**</font>"
   ]
  },
  {
   "cell_type": "markdown",
   "metadata": {},
   "source": [
    "<p style=\"background:#3B8F10;color:white;\">**END Python Program {1.1-py}: simple.py** </p><br>"
   ]
  },
  {
   "cell_type": "markdown",
   "metadata": {},
   "source": [
    "<p style=\"background:#3B8F10;color:white;\" id=\"my_package_launch_file\">**Launch File {1.1-l}: my_package_launch_file.launch** </p>"
   ]
  },
  {
   "cell_type": "markdown",
   "metadata": {},
   "source": [
    "You should have something similar to this in your my_package_launch_file.launch:"
   ]
  },
  {
   "cell_type": "markdown",
   "metadata": {},
   "source": [
    "<p style=\"color:red;\"><b>NOTE: </b>Keep in mind that in the example below, the Python file in the attribute <b>type</b> is named <b>simple.py</b>. So, if you have named your Python file with a different name, this will be different.</p> "
   ]
  },
  {
   "cell_type": "code",
   "execution_count": null,
   "metadata": {
    "collapsed": true
   },
   "outputs": [],
   "source": [
    "<launch>\n",
    "    <!-- My Package launch file -->\n",
    "    <node pkg=\"my_package\" type=\"simple.py\" name=\"ObiWan\"  output=\"screen\">\n",
    "    </node>\n",
    "</launch>"
   ]
  },
  {
   "cell_type": "markdown",
   "metadata": {},
   "source": [
    "<p style=\"background:#3B8F10;color:white;\" id=\"my_package_launch_file\">**END Launch File {1.1-l}: my_package_launch_file.launch** </p>"
   ]
  },
  {
   "cell_type": "markdown",
   "metadata": {},
   "source": [
    "### Common Issues"
   ]
  },
  {
   "cell_type": "markdown",
   "metadata": {},
   "source": [
    "From our experience, we've seen that it is a common issue when working with Python scripts in this Course, that users get an error similar to this one:"
   ]
  },
  {
   "cell_type": "markdown",
   "metadata": {},
   "source": [
    "<img src=\"img/cannot_found_err.png\" width=\"1000\" />"
   ]
  },
  {
   "cell_type": "markdown",
   "metadata": {},
   "source": [
    "This error usually appears to users when they create a Python script from the WebShell. It happens because when created from the shell, the Python scripts don't have execution permissions. You can check the permissions of a file using the following command, inside the directory where the file is located at:"
   ]
  },
  {
   "cell_type": "markdown",
   "metadata": {},
   "source": [
    "<table style=\"float:left;background: #407EAF\">\n",
    "<tr>\n",
    "<th>\n",
    "<p class=\"transparent\">Execute in WebShell #1</p>\n",
    "</th>\n",
    "</tr>\n",
    "</table>"
   ]
  },
  {
   "cell_type": "code",
   "execution_count": null,
   "metadata": {
    "collapsed": true
   },
   "outputs": [],
   "source": [
    "ls -la"
   ]
  },
  {
   "cell_type": "markdown",
   "metadata": {},
   "source": [
    "<img src=\"img/no_exec.png\" width=\"600\" />"
   ]
  },
  {
   "cell_type": "markdown",
   "metadata": {},
   "source": [
    "The first row in the left indicates the permissions of this file. In this case, we have **-rw-rw-r-**. So, you only have **read(r)** and **write(w)** permissions on this file, but not execution permissions (which are represented with an **x**)."
   ]
  },
  {
   "cell_type": "markdown",
   "metadata": {},
   "source": [
    "To add execution permissions to a file, you can use the following command:"
   ]
  },
  {
   "cell_type": "markdown",
   "metadata": {},
   "source": [
    "<table style=\"float:left;background: #407EAF\">\n",
    "<tr>\n",
    "<th>\n",
    "<p class=\"transparent\">Execute in WebShell #1</p>\n",
    "</th>\n",
    "</tr>\n",
    "</table>"
   ]
  },
  {
   "cell_type": "code",
   "execution_count": null,
   "metadata": {
    "collapsed": true
   },
   "outputs": [],
   "source": [
    "chmod +x name_of_file.py"
   ]
  },
  {
   "cell_type": "markdown",
   "metadata": {},
   "source": [
    "Using this command, you will see that execution permissions are added to the file. Also, the file will appear now in green color."
   ]
  },
  {
   "cell_type": "markdown",
   "metadata": {},
   "source": [
    "<img src=\"img/yes_exec.png\" width=\"600\" />"
   ]
  },
  {
   "cell_type": "markdown",
   "metadata": {},
   "source": [
    "Doing this, the error shown above will disappear."
   ]
  },
  {
   "cell_type": "markdown",
   "metadata": {},
   "source": [
    "## ROS Nodes"
   ]
  },
  {
   "cell_type": "markdown",
   "metadata": {},
   "source": [
    "You've initiated a node in the previous code but... what's a node? ROS nodes are basically programs made in ROS. The ROS command to see what nodes are actually running in a computer is:\n"
   ]
  },
  {
   "cell_type": "code",
   "execution_count": null,
   "metadata": {
    "collapsed": true
   },
   "outputs": [],
   "source": [
    "rosnode list"
   ]
  },
  {
   "cell_type": "markdown",
   "metadata": {},
   "source": [
    "<p style=\"background:#407EAF;color:white;\">**Example 1.7**</p>"
   ]
  },
  {
   "cell_type": "markdown",
   "metadata": {},
   "source": [
    "Type this command in a new shell and look for the node you've just initiated (ObiWan).\n",
    "\n",
    "<table style=\"float:left;background: #407EAF\">\n",
    "<tr>\n",
    "<th>\n",
    "<p class=\"transparent\">Execute in WebShell #1</p>\n",
    "</th>\n",
    "</tr>\n",
    "</table>"
   ]
  },
  {
   "cell_type": "code",
   "execution_count": null,
   "metadata": {
    "collapsed": true
   },
   "outputs": [],
   "source": [
    "rosnode list"
   ]
  },
  {
   "cell_type": "markdown",
   "metadata": {},
   "source": [
    "You can't find it? I know you can't. That's because the node is killed when the Python program ends.<br>\n",
    "Let's change that.\n",
    "\n",
    "\n",
    "Update your Python file <a href=\"#simple_python\">simple.py</a> with the following code:"
   ]
  },
  {
   "cell_type": "markdown",
   "metadata": {},
   "source": [
    "<p style=\"background:#3B8F10;color:white;\" id=\"simple_loop_python\">**Python Program {1.1b-py}: simple_loop.py** </p>"
   ]
  },
  {
   "cell_type": "code",
   "execution_count": null,
   "metadata": {
    "collapsed": true
   },
   "outputs": [],
   "source": [
    "#! /usr/bin/env python\n",
    "\n",
    "import rospy\n",
    "\n",
    "rospy.init_node(\"ObiWan\")\n",
    "rate = rospy.Rate(2)               # We create a Rate object of 2Hz\n",
    "while not rospy.is_shutdown():     # Endless loop until Ctrl + C\n",
    "   print \"Help me Obi-Wan Kenobi, you're my only hope\"\n",
    "   rate.sleep()                    # We sleep the needed time to maintain the Rate fixed above\n",
    "    \n",
    "# This program creates an endless loop that repeats itself 2 times per second (2Hz) until somebody presses Ctrl + C\n",
    "# in the Shell"
   ]
  },
  {
   "cell_type": "markdown",
   "metadata": {},
   "source": [
    "<p style=\"background:#3B8F10;color:white;\">**END Python Program {1.1b-py}: simple_loop.py** </p>"
   ]
  },
  {
   "cell_type": "markdown",
   "metadata": {},
   "source": [
    "Launch your program again using the roslaunch command.\n",
    "<table style=\"float:left;background: #407EAF\">\n",
    "<tr>\n",
    "<th>\n",
    "<p class=\"transparent\">Execute in WebShell #1</p>\n",
    "</th>\n",
    "</tr>\n",
    "</table>"
   ]
  },
  {
   "cell_type": "code",
   "execution_count": null,
   "metadata": {
    "collapsed": true
   },
   "outputs": [],
   "source": [
    "roslaunch my_package my_package_launch_file.launch"
   ]
  },
  {
   "cell_type": "markdown",
   "metadata": {},
   "source": [
    "Now try again in another Web Shell:<br>\n",
    "<table style=\"float:left;background: #407EAF\">\n",
    "<tr>\n",
    "<th>\n",
    "<p class=\"transparent\">Execute in WebShell #2</p>\n",
    "</th>\n",
    "</tr>\n",
    "</table>"
   ]
  },
  {
   "cell_type": "code",
   "execution_count": null,
   "metadata": {
    "collapsed": true
   },
   "outputs": [],
   "source": [
    "rosnode list"
   ]
  },
  {
   "cell_type": "markdown",
   "metadata": {},
   "source": [
    "Can you now see your node?"
   ]
  },
  {
   "cell_type": "markdown",
   "metadata": {},
   "source": [
    "<p style=\"background: #407EAF\">WebShell #2 Output</p>"
   ]
  },
  {
   "cell_type": "code",
   "execution_count": null,
   "metadata": {
    "collapsed": true
   },
   "outputs": [],
   "source": [
    "user ~ $ rosnode list\n",
    "/ObiWan\n",
    "/cmd_vel_mux\n",
    "/gazebo\n",
    "/mobile_base_nodelet_manager\n",
    "/robot_state_publisher\n",
    "/rosout"
   ]
  },
  {
   "cell_type": "markdown",
   "metadata": {},
   "source": [
    "In order to see information about our node, we can use the next command:\n",
    "    "
   ]
  },
  {
   "cell_type": "code",
   "execution_count": null,
   "metadata": {
    "collapsed": true
   },
   "outputs": [],
   "source": [
    "rosnode info /ObiWan"
   ]
  },
  {
   "cell_type": "markdown",
   "metadata": {},
   "source": [
    "This command will show us information about all the connections that our Node has."
   ]
  },
  {
   "cell_type": "markdown",
   "metadata": {},
   "source": [
    "<table style=\"float:left;background: #407EAF\">\n",
    "<tr>\n",
    "<th>\n",
    "<p class=\"transparent\">Execute in WebShell #2</p>\n",
    "</th>\n",
    "</tr>\n",
    "</table>"
   ]
  },
  {
   "cell_type": "code",
   "execution_count": null,
   "metadata": {
    "collapsed": true
   },
   "outputs": [],
   "source": [
    "rosnode info /ObiWan"
   ]
  },
  {
   "cell_type": "markdown",
   "metadata": {},
   "source": [
    "<p style=\"background: #407EAF\">WebShell #2 Output</p>"
   ]
  },
  {
   "cell_type": "code",
   "execution_count": null,
   "metadata": {
    "collapsed": true
   },
   "outputs": [],
   "source": [
    "user ~ $ rosnode info /ObiWan\n",
    "--------------------------------------------------------------------------------\n",
    "Node [/ObiWan]\n",
    "Publications:\n",
    " * /rosout [rosgraph_msgs/Log]\n",
    "\n",
    "Subscriptions:\n",
    " * /clock [rosgraph_msgs/Clock]\n",
    "\n",
    "Services:\n",
    " * /ObiWan/set_logger_level\n",
    " * /ObiWan/get_loggers\n",
    "\n",
    "\n",
    "contacting node http://ip-172-31-30-5:58680/ ...\n",
    "Pid: 1215\n",
    "Connections:\n",
    " * topic: /rosout\n",
    "    * to: /rosout\n",
    "    * direction: outbound\n",
    "    * transport: TCPROS\n",
    " * topic: /clock\n",
    "    * to: /gazebo (http://ip-172-31-30-5:46415/)\n",
    "    * direction: inbound\n",
    "    * transport: TCPROS"
   ]
  },
  {
   "cell_type": "markdown",
   "metadata": {},
   "source": [
    "For now, don't worry about the output of the command. You will understand more while going through the next chapters."
   ]
  },
  {
   "cell_type": "markdown",
   "metadata": {},
   "source": [
    "<p style=\"background:#407EAF;color:white;\">**END Example 1.7**</p>"
   ]
  },
  {
   "cell_type": "markdown",
   "metadata": {},
   "source": [
    "## Compile a package"
   ]
  },
  {
   "cell_type": "markdown",
   "metadata": {},
   "source": [
    "When you create a package, you will usually need to compile it in order to make it work. The command used by ROS to compile is the next one:"
   ]
  },
  {
   "cell_type": "code",
   "execution_count": null,
   "metadata": {
    "collapsed": true
   },
   "outputs": [],
   "source": [
    "catkin_make"
   ]
  },
  {
   "cell_type": "markdown",
   "metadata": {},
   "source": [
    "This command will compile your whole <b>src</b> directory, and <b>it needs to be issued in your <i>catkin_ws</i> directory in order to work. This is MANDATORY.</b> If you try to compile from another directory, it won't work.\n"
   ]
  },
  {
   "cell_type": "markdown",
   "metadata": {},
   "source": [
    "<p style=\"background:#407EAF;color:white;\">**Example 1.8**</p>"
   ]
  },
  {
   "cell_type": "markdown",
   "metadata": {},
   "source": [
    "Go to your catkin_ws directory and compile your source folder. You can do this by typing:"
   ]
  },
  {
   "cell_type": "markdown",
   "metadata": {},
   "source": [
    "<table style=\"float:left;background: #407EAF\">\n",
    "<tr>\n",
    "<th>\n",
    "<p class=\"transparent\">Execute in WebShell #1</p>\n",
    "</th>\n",
    "</tr>\n",
    "</table>"
   ]
  },
  {
   "cell_type": "code",
   "execution_count": null,
   "metadata": {
    "collapsed": true
   },
   "outputs": [],
   "source": [
    "roscd; cd ..\n",
    "catkin_make"
   ]
  },
  {
   "cell_type": "markdown",
   "metadata": {},
   "source": [
    "Sometimes (for example, in large projects) you will not want to compile all of your packages, but just the one(s) where you've made changes. You can do this with the following command:"
   ]
  },
  {
   "cell_type": "code",
   "execution_count": null,
   "metadata": {
    "collapsed": true
   },
   "outputs": [],
   "source": [
    "catkin_make --only-pkg-with-deps <package_name>"
   ]
  },
  {
   "cell_type": "markdown",
   "metadata": {},
   "source": [
    "This command will only compile the packages specified and its dependencies."
   ]
  },
  {
   "cell_type": "markdown",
   "metadata": {},
   "source": [
    "Try to compile your package named <span class=\"ign_green\">my_package</span> with this command."
   ]
  },
  {
   "cell_type": "markdown",
   "metadata": {},
   "source": [
    "<table style=\"float:left;background: #407EAF\">\n",
    "<tr>\n",
    "<th>\n",
    "<p class=\"transparent\">Execute in WebShell #1</p>\n",
    "</th>\n",
    "</tr>\n",
    "</table>"
   ]
  },
  {
   "cell_type": "code",
   "execution_count": null,
   "metadata": {
    "collapsed": true
   },
   "outputs": [],
   "source": [
    "catkin_make --only-pkg-with-deps my_package"
   ]
  },
  {
   "cell_type": "markdown",
   "metadata": {},
   "source": [
    "<p style=\"background:#407EAF;color:white;\">**END Example 1.8**</p>"
   ]
  },
  {
   "cell_type": "markdown",
   "metadata": {},
   "source": [
    "## Parameter Server"
   ]
  },
  {
   "cell_type": "markdown",
   "metadata": {},
   "source": [
    "A Parameter Server is a **dictionary** that ROS uses to store parameters. These parameters can be used by nodes at runtime and are normally used for static data, such as configuration parameters."
   ]
  },
  {
   "cell_type": "markdown",
   "metadata": {},
   "source": [
    "To get a list of these parameters, you can type:"
   ]
  },
  {
   "cell_type": "code",
   "execution_count": null,
   "metadata": {
    "collapsed": true
   },
   "outputs": [],
   "source": [
    "rosparam list"
   ]
  },
  {
   "cell_type": "markdown",
   "metadata": {},
   "source": [
    "To get a value of a particular parameter, you can type:"
   ]
  },
  {
   "cell_type": "code",
   "execution_count": null,
   "metadata": {
    "collapsed": true
   },
   "outputs": [],
   "source": [
    "rosparam get <parameter_name>"
   ]
  },
  {
   "cell_type": "markdown",
   "metadata": {},
   "source": [
    "And to set a value to a parameter, you can type:"
   ]
  },
  {
   "cell_type": "code",
   "execution_count": null,
   "metadata": {
    "collapsed": true
   },
   "outputs": [],
   "source": [
    "rosparam set <parameter_name> <value>"
   ]
  },
  {
   "cell_type": "markdown",
   "metadata": {},
   "source": [
    "<p style=\"background:#407EAF;color:white;\">**Example 1.9**</p>"
   ]
  },
  {
   "cell_type": "markdown",
   "metadata": {},
   "source": [
    "To get the value of the '/camera/imager_rate' parameter, and change it to '4.0,' you will have to do the following:\n",
    "<table style=\"float:left;background: #407EAF\">\n",
    "<tr>\n",
    "<th>\n",
    "<p class=\"transparent\">Execute in WebShell #1</p>\n",
    "</th>\n",
    "</tr>\n",
    "</table>"
   ]
  },
  {
   "cell_type": "code",
   "execution_count": null,
   "metadata": {
    "collapsed": true
   },
   "outputs": [],
   "source": [
    "rosparam get /camera/imager_rate\n",
    "rosparam set /camera/imager_rate 4.0\n",
    "rosparam get /camera/imager_rate"
   ]
  },
  {
   "cell_type": "markdown",
   "metadata": {},
   "source": [
    "<p style=\"background:#407EAF;color:white;\">**END Example 1.9**</p>"
   ]
  },
  {
   "cell_type": "markdown",
   "metadata": {},
   "source": [
    "You can create and delete new parameters for your own use, but do not worry about this right now. You will learn more about this in more advanced tutorials"
   ]
  },
  {
   "cell_type": "markdown",
   "metadata": {},
   "source": [
    "## Roscore"
   ]
  },
  {
   "cell_type": "markdown",
   "metadata": {},
   "source": [
    "In order to have all of this working, we need to have a roscore running. The roscore is the **main process** that manages all of the ROS system. You always need to have a roscore running in order to work with ROS. The command that launches a roscore is:"
   ]
  },
  {
   "cell_type": "code",
   "execution_count": null,
   "metadata": {
    "collapsed": true
   },
   "outputs": [],
   "source": [
    "roscore"
   ]
  },
  {
   "cell_type": "markdown",
   "metadata": {
    "caption": "ROS Core Diagram",
    "image": true,
    "name": "roscore",
    "width": "10cm"
   },
   "source": [
    "<figure>\n",
    "  <img id=\"fig-1.2\" src=\"img/roscore.jpg\"></img>\n",
    "   <center> <figcaption>Fig.1.2 - ROS Core Diagram</figcaption></center>\n",
    "</figure>"
   ]
  },
  {
   "cell_type": "markdown",
   "metadata": {},
   "source": [
    "<font style=\"color:green;\">**NOTE**: At the platform you are using for this course, when you enter a course it automatically launches a roscore for you, so you don't need to launch one.</font>"
   ]
  },
  {
   "cell_type": "markdown",
   "metadata": {},
   "source": [
    "## Environment Variables"
   ]
  },
  {
   "cell_type": "markdown",
   "metadata": {},
   "source": [
    "ROS uses a set of Linux system environment variables in order to work properly. You can check these variables by typing:"
   ]
  },
  {
   "cell_type": "code",
   "execution_count": null,
   "metadata": {
    "collapsed": true
   },
   "outputs": [],
   "source": [
    "export | grep ROS"
   ]
  },
  {
   "cell_type": "markdown",
   "metadata": {},
   "source": [
    "<font style=\"color:green;\">**NOTE 1**: Depending on your computer, it could happen that you can't type the **|** symbol directly in your WebShell. If that's the case, just **copy/paste** the command by **RIGHT-CLICKING** on the WebShell and select **<i>Paste from Browser</i>**. This feature will allow you to write anything on your WebShell, no matter what your computer configuration is.</font>"
   ]
  },
  {
   "cell_type": "code",
   "execution_count": null,
   "metadata": {
    "collapsed": true
   },
   "outputs": [],
   "source": [
    "user ~ $ export | grep ROS\n",
    "declare -x ROSLISP_PACKAGE_DIRECTORIES=\"/home/user/catkin_ws/devel/share/common-lisp\"\n",
    "declare -x ROS_DISTRO=\"indigo\"\n",
    "declare -x ROS_ETC_DIR=\"/opt/ros/indigo/etc/ros\"\n",
    "declare -x ROS_MASTER_URI=\"http://localhost:11311\"\n",
    "declare -x ROS_PACKAGE_PATH=\"/home/user/catkin_ws/src:/opt/ros/indigo/share:/opt/ros/indigo/stacks\"\n",
    "declare -x ROS_ROOT=\"/opt/ros/indigo/share/ros\""
   ]
  },
  {
   "cell_type": "markdown",
   "metadata": {},
   "source": [
    "The most important variables are the **ROS_MASTER_URI** and the **ROS_PACKAGE_PATH**."
   ]
  },
  {
   "cell_type": "code",
   "execution_count": null,
   "metadata": {
    "collapsed": true
   },
   "outputs": [],
   "source": [
    "ROS_MASTER_URI -> Contains the url where the ROS Core is being executed. Usually, your own computer (localhost).\n",
    "ROS_PACKAGE_PATH -> Contains the paths in your Hard Drive where ROS has packages in it."
   ]
  },
  {
   "cell_type": "markdown",
   "metadata": {},
   "source": [
    "<font style=\"color:green;\">**NOTE 2**: At the platform you are using for this course, we have created an alias to display the environment variables of ROS. This alias is **<i>rosenv</i>**. By typing this on your shell, you'll get a list of ROS environment variables. It is important that you know that this is **not an official ROS command**, so you can only use it while working on this platform.</font>"
   ]
  },
  {
   "cell_type": "markdown",
   "metadata": {},
   "source": [
    "## So now... what is ROS?"
   ]
  },
  {
   "cell_type": "markdown",
   "metadata": {},
   "source": [
    "ROS is basically the framework that allows us to do all that we showed along this chapter. It provides the background to manage all these processes and communications between them... and much, much more!! In this tutorial you've just scratched the surface of ROS, the basic concepts. ROS is an extremely powerful tool. If you dive into our courses you'll learn much more about ROS and you'll find yourself able to do almost anything with your robots!"
   ]
  },
  {
   "cell_type": "markdown",
   "metadata": {},
   "source": [
    "## Additional material to learn more:"
   ]
  },
  {
   "cell_type": "markdown",
   "metadata": {},
   "source": [
    "ROS Packages: http://wiki.ros.org/Packages\n",
    "\n",
    "Ros Nodes: http://wiki.ros.org/Nodes\n",
    "\n",
    "Parameter Server: http://wiki.ros.org/Parameter%20Server\n",
    "\n",
    "Roscore: http://wiki.ros.org/roscore\n",
    "\n",
    "ROS Environment Variables: http://wiki.ros.org/ROS/EnvironmentVariables"
   ]
  }
 ],
 "metadata": {
  "anaconda-cloud": {},
  "kernelspec": {
   "display_name": "Python [Root]",
   "language": "python",
   "name": "Python [Root]"
  },
  "language_info": {
   "codemirror_mode": {
    "name": "ipython",
    "version": 2
   },
   "file_extension": ".py",
   "mimetype": "text/x-python",
   "name": "python",
   "nbconvert_exporter": "python",
   "pygments_lexer": "ipython2",
   "version": "2.7.12"
  },
  "latex_metadata": {
   "chapter": "1 - Basic Concepts",
   "chapter_title": "Unit 1. Basic Concepts",
   "course_title": "ROS BASICS IN 5 DAYS"
  },
  "nbpresent": {
   "slides": {},
   "themes": {
    "default": "31006857-3e5b-4c40-a94d-8ea8ade74bc7",
    "theme": {
     "31006857-3e5b-4c40-a94d-8ea8ade74bc7": {
      "backgrounds": {
       "backgroundColor": {
        "background-color": "backgroundColor",
        "id": "backgroundColor"
       }
      },
      "id": "31006857-3e5b-4c40-a94d-8ea8ade74bc7",
      "palette": {
       "backgroundColor": {
        "id": "backgroundColor",
        "rgb": [
         34,
         34,
         34
        ]
       },
       "headingColor": {
        "id": "headingColor",
        "rgb": [
         238,
         238,
         238
        ]
       },
       "linkColor": {
        "id": "linkColor",
        "rgb": [
         170,
         34,
         51
        ]
       },
       "mainColor": {
        "id": "mainColor",
        "rgb": [
         238,
         238,
         238
        ]
       }
      },
      "rules": {
       "a": {
        "color": "linkColor"
       },
       "h1": {
        "color": "headingColor",
        "font-family": "Ubuntu",
        "font-size": 7
       },
       "h2": {
        "color": "headingColor",
        "font-family": "Ubuntu",
        "font-size": 5
       },
       "h3": {
        "color": "headingColor",
        "font-family": "Ubuntu",
        "font-size": 3.75
       },
       "h4": {
        "color": "headingColor",
        "font-family": "Ubuntu",
        "font-size": 3
       },
       "h5": {
        "color": "headingColor",
        "font-family": "Ubuntu"
       },
       "h6": {
        "color": "headingColor",
        "font-family": "Ubuntu"
       },
       "h7": {
        "color": "headingColor",
        "font-family": "Ubuntu"
       },
       "li": {
        "color": "mainColor",
        "font-family": "Ubuntu",
        "font-size": 5
       },
       "p": {
        "color": "mainColor",
        "font-family": "Ubuntu",
        "font-size": 5
       }
      },
      "text-base": {
       "color": "mainColor",
       "font-family": "Ubuntu",
       "font-size": 5
      }
     }
    }
   }
  }
 },
 "nbformat": 4,
 "nbformat_minor": 1
}
