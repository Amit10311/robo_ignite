{
 "cells": [
  {
   "cell_type": "markdown",
   "metadata": {},
   "source": [
    "# <font class='ign_color'>ROS IN A SINGLE WEEK</font>"
   ]
  },
  {
   "cell_type": "markdown",
   "metadata": {},
   "source": [
    "# 单元2: Topics"
   ]
  },
  {
   "cell_type": "markdown",
   "metadata": {},
   "source": [
    "<table style=\"width:100%\">\n",
    "  <tr>\n",
    "    <th>预计完成时间: 2.5 小时<br><br>你将在这个单元学到什么？\n",
    "<ul>\n",
    "  <li>什么是 ROS topics 并如何控制运用</li>\n",
    "  <li>什么是publisher（发布器）并如何创建它</li>\n",
    "  <li>什么是topic messages（主题消息），它们是如何运行的 </li>\n",
    "</ul></th>\n",
    "    <th><img src=\"img/kobuki.jpg\" width=\"212\" height=\"236\" /></th> \n",
    "  </tr>\n",
    "</table>"
   ]
  },
  {
   "cell_type": "markdown",
   "metadata": {},
   "source": [
    "## 第一部分: Publisher （发布器）"
   ]
  },
  {
   "cell_type": "markdown",
   "metadata": {},
   "source": [
    "<table style=\"float:left;\">\n",
    "<tr>\n",
    "<th>\n",
    "<p style=\"background:#407EAF;color:white;\">例子 2.1</p><br>\n",
    "执行以下Python 代码 <a href=\"#prg-2-1\">simple_topic_publisher.py </a> （点击）然后点击IPython notebook右上角的运行按钮。<br> \n",
    "<img src=\"img/font-awesome_step-forward.png\" style=\"float:left\"/><br>\n",
    "<br><br>\n",
    "你也可以按 <i>[CTRL]+[Enter]</i> 来运行它。<br>\n",
    "</th>\n",
    "</tr>\n",
    "</table>"
   ]
  },
  {
   "cell_type": "markdown",
   "metadata": {},
   "source": [
    "<p style=\"background:#3B8F10;color:white;\" id=\"prg-2-1\">Python Program {2.1}: simple_topic_publisher.py </p><br>"
   ]
  },
  {
   "cell_type": "code",
   "execution_count": null,
   "metadata": {
    "collapsed": false
   },
   "outputs": [],
   "source": [
    "#! /usr/bin/env python\n",
    "\n",
    "import rospy\n",
    "from std_msgs.msg import Int32 \n",
    "\n",
    "rospy.init_node('topic_publisher')\n",
    "pub = rospy.Publisher('counter', Int32, queue_size=1)\n",
    "rate = rospy.Rate(2)\n",
    "count = 0\n",
    "\n",
    "while not rospy.is_shutdown(): \n",
    "  pub.publish(count)\n",
    "  count += 1\n",
    "  rate.sleep()"
   ]
  },
  {
   "cell_type": "markdown",
   "metadata": {},
   "source": [
    "<p style=\"background:#3B8F10;color:white;\" id=\"prg-2-1\">结束 Python Program {2.1}: simple_topic_publisher.py </p><br>"
   ]
  },
  {
   "cell_type": "markdown",
   "metadata": {},
   "source": [
    "怎么样，什么都没有发生吗？ 不应该的...让我们来检查一下。"
   ]
  },
  {
   "cell_type": "markdown",
   "metadata": {},
   "source": [
    "在你的web shell中输入 <i>rostopic list</i> 然后检查一个名为 '/counter'的topic。"
   ]
  },
  {
   "cell_type": "markdown",
   "metadata": {},
   "source": [
    "<table style=\"float:left;background: #407EAF\">\n",
    "<tr>\n",
    "<th>\n",
    "<p style=\"background: #FFFFFF\">在 WebShell #1中执行</p><br>\n",
    "rostopic list | grep  '/counter'<br>\n",
    "</th>\n",
    "</tr>\n",
    "</table>\n",
    "<br>"
   ]
  },
  {
   "cell_type": "markdown",
   "metadata": {},
   "source": [
    "<table style=\"float:left;background: #FFFFFF\">\n",
    "<tr>\n",
    "<th>\n",
    "<p style=\"background: #407EAF\">WebShell #1 输出</p><br>\n",
    "user ~ $ rostopic list | grep '/counter'<br>\n",
    "/counter\n",
    "</th>\n",
    "</tr>\n",
    "</table>"
   ]
  },
  {
   "cell_type": "markdown",
   "metadata": {},
   "source": [
    "到这里，你只需列出所有在运行中的topic，并用<b>grep</b>指令过滤包含了 <i>/counter</i>的那些（topic）。如果出现了，那该topic应该是在运行中的。 "
   ]
  },
  {
   "cell_type": "markdown",
   "metadata": {},
   "source": [
    "现在，输入 <i>rostopic info /counter</i>。"
   ]
  },
  {
   "cell_type": "markdown",
   "metadata": {},
   "source": [
    "<table style=\"float:left;background: #407EAF\">\n",
    "<tr>\n",
    "<th>\n",
    "<p style=\"background: #FFFFFF\">在 WebShell #1中执行</p><br>\n",
    "rostopic info /counter<br>\n",
    "</th>\n",
    "</tr>\n",
    "</table>\n",
    "<br>"
   ]
  },
  {
   "cell_type": "markdown",
   "metadata": {},
   "source": [
    "<table style=\"float:left;background: #FFFFFF\">\n",
    "<tr>\n",
    "<th>\n",
    "<p style=\"background: #407EAF\">WebShell #1 输出</p><br>\n",
    "user ~ $ rostopic info /counter<br>\n",
    "Type: std_msgs/Int32<br>\n",
    "<br>                       \n",
    "Publishers:<br>\n",
    " * /topic_publisher (http://ip-172-31-16-133:47971/)<br>\n",
    "<br>\n",
    "Subscribers: None<br>\n",
    "</th>\n",
    "</tr>\n",
    "</table>"
   ]
  },
  {
   "cell_type": "markdown",
   "metadata": {},
   "source": [
    "现在，输入 <i>rostopic echo /counter</i> 然后检查topic的实时输出。"
   ]
  },
  {
   "cell_type": "markdown",
   "metadata": {},
   "source": [
    "<table style=\"float:left;background: #407EAF\">\n",
    "<tr>\n",
    "<th>\n",
    "<p style=\"background: #FFFFFF\">在 WebShell #1中执行</p><br>\n",
    "rostopic echo /counter<br>\n",
    "</th>\n",
    "</tr>\n",
    "</table>\n",
    "<br>"
   ]
  },
  {
   "cell_type": "markdown",
   "metadata": {},
   "source": [
    "你应该看到一个接一个的连续数字，如下所示: "
   ]
  },
  {
   "cell_type": "markdown",
   "metadata": {},
   "source": [
    "<table style=\"float:left;background: #FFFFFF\">\n",
    "<tr>\n",
    "<th>\n",
    "<p style=\"background: #407EAF\">WebShell #1 Output</p><br>\n",
    "rostopic echo /counter<br>\n",
    "data:<br>\n",
    "985<br>\n",
    "---<br>\n",
    "data:<br>\n",
    "986<br>\n",
    "---<br>\n",
    "data:<br>\n",
    "987<br>\n",
    "---<br>\n",
    "data:<br>\n",
    "988<br>\n",
    "---<br>\n",
    "</th>\n",
    "</tr>\n",
    "</table>"
   ]
  },
  {
   "cell_type": "markdown",
   "metadata": {},
   "source": [
    "Ok，所有...刚刚发生了什么呢? 让我们更详细地来解释它。首先，让我们碾碎来解释已执行的代码。"
   ]
  },
  {
   "cell_type": "code",
   "execution_count": 3,
   "metadata": {
    "collapsed": false
   },
   "outputs": [
    {
     "ename": "ImportError",
     "evalue": "No module named rospy",
     "output_type": "error",
     "traceback": [
      "\u001b[0;31m---------------------------------------------------------------------------\u001b[0m",
      "\u001b[0;31mImportError\u001b[0m                               Traceback (most recent call last)",
      "\u001b[0;32m<ipython-input-3-19b8948e8f84>\u001b[0m in \u001b[0;36m<module>\u001b[0;34m()\u001b[0m\n\u001b[1;32m      1\u001b[0m \u001b[0;31m#! /usr/bin/env python\u001b[0m\u001b[0;34m\u001b[0m\u001b[0;34m\u001b[0m\u001b[0m\n\u001b[1;32m      2\u001b[0m \u001b[0;34m\u001b[0m\u001b[0m\n\u001b[0;32m----> 3\u001b[0;31m \u001b[0;32mimport\u001b[0m \u001b[0mrospy\u001b[0m                               \u001b[0;31m# 输入 Python library 到 ROS\u001b[0m\u001b[0;34m\u001b[0m\u001b[0m\n\u001b[0m\u001b[1;32m      4\u001b[0m \u001b[0;32mfrom\u001b[0m \u001b[0mstd_msgs\u001b[0m\u001b[0;34m.\u001b[0m\u001b[0mmsg\u001b[0m \u001b[0;32mimport\u001b[0m \u001b[0mInt32\u001b[0m             \u001b[0;31m# 从 std_msgs 包输入 Int32 message\u001b[0m\u001b[0;34m\u001b[0m\u001b[0m\n\u001b[1;32m      5\u001b[0m \u001b[0;34m\u001b[0m\u001b[0m\n",
      "\u001b[0;31mImportError\u001b[0m: No module named rospy"
     ]
    }
   ],
   "source": [
    "#! /usr/bin/env python\n",
    "\n",
    "import rospy                               # 输入 Python library 到 ROS\n",
    "from std_msgs.msg import Int32             # 从 std_msgs 包输入 Int32 message \n",
    "\n",
    "rospy.init_node('topic_publisher')         # 启动一个名为 'topic_publisher' 的节点\n",
    "pub = rospy.Publisher('counter', Int32)    # 创建一个发布器对象，其将会发布在 /counter topic\n",
    "                                           # type Int32 的message\n",
    "\n",
    "rate = rospy.Rate(2)                       # 设置发布速率为 2 Hz\n",
    "count = 0                                  # 初始化 'count' 变量\n",
    "\n",
    "while not rospy.is_shutdown():             # 创建一个循环直到有人停止程序的执行\n",
    "  pub.publish(count)                       # 发布带有 'count' 变量的message\n",
    "  count += 1                               # 'count' 变量的增量\n",
    "  rate.sleep()                             # 确保发布速率保持在 2 Hz"
   ]
  },
  {
   "cell_type": "markdown",
   "metadata": {},
   "source": [
    "所以基本上，这段代码做的是启动一个节点，和创建一个保持发布一系列连续整数在'/counter' topic 中的发布器。现在，你可能想知道...什么是发布器(publisher)? <b>发布器是一个将信息发布到topic的节点</b>。那... 什么是topic(主题)呢? <b>Topic是一个充当管（道）的渠道，使其它ROS节点可以发布或读取信息</b>。现在让我们来看看一些和topics有关的指令 (有些你已经使用过了)。"
   ]
  },
  {
   "cell_type": "markdown",
   "metadata": {},
   "source": [
    "要在ROS系统中 <b>获取可用topics的列表</b> ，你需要使用以下指令："
   ]
  },
  {
   "cell_type": "raw",
   "metadata": {},
   "source": [
    "rostopic list"
   ]
  },
  {
   "cell_type": "markdown",
   "metadata": {},
   "source": [
    "要 <b>读取发布在topic中的信息</b> 则使用以下命令:"
   ]
  },
  {
   "cell_type": "raw",
   "metadata": {},
   "source": [
    "rostopic echo <topic_name>"
   ]
  },
  {
   "cell_type": "markdown",
   "metadata": {},
   "source": [
    "此命令将开始显示所有正在发布到topic中的信息，有时候 (比如: 当有大量信息时，或当信息具有很大结构时) 可能会很烦人。若发生这种情况，你可以  <b>只读取发布到topic中的最后一条message</b> 通过使用以下指令:"
   ]
  },
  {
   "cell_type": "raw",
   "metadata": {},
   "source": [
    "rostopic echo <topic_name> -n1"
   ]
  },
  {
   "cell_type": "markdown",
   "metadata": {},
   "source": [
    "要<b>获取关于某个topic的信息</b>，请使用以下命令:"
   ]
  },
  {
   "cell_type": "raw",
   "metadata": {},
   "source": [
    "rostopic info <topic_name>"
   ]
  },
  {
   "cell_type": "markdown",
   "metadata": {},
   "source": [
    "最后，你可以通过下面这个命令来检查<i>rostopic</i>指令的不同选项:"
   ]
  },
  {
   "cell_type": "raw",
   "metadata": {},
   "source": [
    "rostopic -h"
   ]
  },
  {
   "cell_type": "markdown",
   "metadata": {},
   "source": [
    "## Messages"
   ]
  },
  {
   "cell_type": "markdown",
   "metadata": {},
   "source": [
    "你可能已经注意到了，topics通过messages来处理信息。 <br>\n",
    "这你之前执行的代码情况中，所用的message是Int32，但ROS提供了很多不同的messages。你也可以创建你自己的，但还是建议你尽量使用ROS的默认 messages。 <br>\n",
    "Messages被定义在'.msg'文件中，它们位于一个程序包中的 'msg' 的目录。"
   ]
  },
  {
   "cell_type": "markdown",
   "metadata": {},
   "source": [
    "要 <b>获取关于message的信息</b> 请使用以下指令:"
   ]
  },
  {
   "cell_type": "raw",
   "metadata": {},
   "source": [
    "rosmsg show <message>"
   ]
  },
  {
   "cell_type": "markdown",
   "metadata": {},
   "source": [
    "<p style=\"background:#407EAF;color:white;\">例子 2.2</p><br>"
   ]
  },
  {
   "cell_type": "markdown",
   "metadata": {},
   "source": [
    "例如，让我们来尝试获取有关Int32 message的信息。输入 <i>rosmsg show Int32</i> 然后检查输出。"
   ]
  },
  {
   "cell_type": "markdown",
   "metadata": {},
   "source": [
    "<table style=\"float:left;background: #407EAF\">\n",
    "<tr>\n",
    "<th>\n",
    "<p style=\"background: #FFFFFF\">在 WebShell #1中执行</p><br>\n",
    "rosmsg show Int32<br>\n",
    "</th>\n",
    "</tr>\n",
    "</table>\n",
    "<br>"
   ]
  },
  {
   "cell_type": "markdown",
   "metadata": {},
   "source": [
    "<table style=\"float:left;background: #FFFFFF\">\n",
    "<tr>\n",
    "<th>\n",
    "<p style=\"background: #407EAF\">WebShell #1 输出</p><br>\n",
    "user ~ $ rosmsg show Int32<br>\n",
    "[std_msgs/Int32]:<br>\n",
    "int32 data<br>\n",
    "</th>\n",
    "</tr>\n",
    "</table>"
   ]
  },
  {
   "cell_type": "markdown",
   "metadata": {},
   "source": [
    "在这个情况中，<i style=\"color: green\">Int32</i> message 只有一个变量名为 <i style=\"color: green\">data</i> 为 <i style=\"color: green\">int32</i>类型。这个 Int32 类型来自包 std_msgs，你可以在 <i style=\"color: green\">msg<i> 目录中找到它。"
   ]
  },
  {
   "cell_type": "markdown",
   "metadata": {},
   "source": [
    "<p style=\"background:#407EAF;color:white;\">结束 练习2.2</p><br>"
   ]
  },
  {
   "cell_type": "markdown",
   "metadata": {},
   "source": [
    "现在你已经准备就绪来创建你自己的发布器了，让我们继续吧!"
   ]
  },
  {
   "cell_type": "markdown",
   "metadata": {},
   "source": [
    "<table style=\"float:left;\">\n",
    "<tr>\n",
    "<th>\n",
    "<p style=\"background:#EE9023;color:white;\">练习 2.1</p><br>\n",
    "<ul>\n",
    " <li>创建一个包，带有启动文件来启动代码<a href=\"#prg-2-1\">simple_topic_publisher.py</a>.</li>\n",
    " <li>修改此代码以发布数据到M /cmd_vel topic。 </li>\n",
    "</ul>\n",
    "<br>\n",
    "<p style=\"background:#3B8F10;color:white;\">练习 2.1的数据</p><br>\n",
    "<ol>\n",
    "\n",
    "<li>\n",
    "'/cmd_vel' topic 是用于移动机器人的topic。做一个rostopic info /cmd_vel 为了获得关于该topic的信息，比如它使用的message。.\n",
    "</li>\n",
    "\n",
    "<li>\n",
    "为了填充Twist message，你需要创建一个message的实例。在Python中像这样做:\n",
    "var = Twist().\n",
    "</li>\n",
    "\n",
    "<li>\n",
    " 为了获知Twist messages的结构，你需要使用rosmsg来显示指令， 以及topic /cmd_vel所用的message类型。\n",
    "</li>\n",
    "\n",
    "<li>\n",
    "在这种情况下，机器人使用不同的驱动器插件来移动。这意味着，你需要填到Twist message中的唯一值是 linear x （线性x） 和 angular z （角z）。\n",
    "</li>\n",
    "\n",
    "<li>\n",
    "幅度以m/s为单位，因此建议你使用0到1之间的值。比如0'5。\n",
    "</li>\n",
    "\n",
    "</ol>\n",
    "</th>\n",
    "</tr>\n",
    "</table>"
   ]
  },
  {
   "cell_type": "code",
   "execution_count": null,
   "metadata": {
    "collapsed": true
   },
   "outputs": [],
   "source": []
  }
 ],
 "metadata": {
  "anaconda-cloud": {},
  "kernelspec": {
   "display_name": "Python [default]",
   "language": "python",
   "name": "python2"
  },
  "language_info": {
   "codemirror_mode": {
    "name": "ipython",
    "version": 2
   },
   "file_extension": ".py",
   "mimetype": "text/x-python",
   "name": "python",
   "nbconvert_exporter": "python",
   "pygments_lexer": "ipython2",
   "version": "2.7.12"
  }
 },
 "nbformat": 4,
 "nbformat_minor": 0
}
