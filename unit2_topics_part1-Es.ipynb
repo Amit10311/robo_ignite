{
 "cells": [
  {
   "cell_type": "markdown",
   "metadata": {},
   "source": [
    "# <font class='ign_color'>ROS EN UNA SOLA SEMANA</font>"
   ]
  },
  {
   "cell_type": "markdown",
   "metadata": {},
   "source": [
    "# Capítulo 2: Tópicos"
   ]
  },
  {
   "cell_type": "markdown",
   "metadata": {},
   "source": [
    "<table style=\"width:100%\">\n",
    "  <tr>\n",
    "    <th>Tiempo estimado para completarlo: 2.5 horas<br><br>Qué vas a aprender en esta unidad?\n",
    "<ul>\n",
    "  <li>Qué son los Tópicos en ROS y como usarlos</li>\n",
    "  <li>Qué es un Publisher y como crear uno</li>\n",
    "  <li>Qué son los mensajes de tópicos y como funcionan</li>\n",
    "</ul></th>\n",
    "    <th><img src=\"img/kobuki.jpg\" width=\"212\" height=\"236\" /></th> \n",
    "  </tr>\n",
    "</table>"
   ]
  },
  {
   "cell_type": "markdown",
   "metadata": {},
   "source": [
    "## Parte 1: Publisher"
   ]
  },
  {
   "cell_type": "markdown",
   "metadata": {},
   "source": [
    "<table style=\"float:left;\">\n",
    "<tr>\n",
    "<th>\n",
    "<p style=\"background:#407EAF;color:white;\">Ejemplo 2.1</p><br>\n",
    "Ejecuta el siguiente código Python <a href=\"#prg-2-1\">simple_topic_publisher.py </a> clicando en él y después clicando en el botón de Play en la esquina superior derecha del IPython notebook.<br> \n",
    "<img src=\"img/font-awesome_step-forward.png\" style=\"float:left\"/><br>\n",
    "<br><br>\n",
    "También puedes pulsar <i>[CTRL]+[Enter]</i> para ejecutarlo.<br>\n",
    "</th>\n",
    "</tr>\n",
    "</table>"
   ]
  },
  {
   "cell_type": "markdown",
   "metadata": {},
   "source": [
    "<p style=\"background:#3B8F10;color:white;\" id=\"prg-2-1\">Programa Python {2.1}: simple_topic_publisher.py </p>"
   ]
  },
  {
   "cell_type": "code",
   "execution_count": null,
   "metadata": {
    "collapsed": false
   },
   "outputs": [],
   "source": [
    "#! /usr/bin/env python\n",
    "\n",
    "import rospy\n",
    "from std_msgs.msg import Int32 \n",
    "\n",
    "rospy.init_node('topic_publisher')\n",
    "pub = rospy.Publisher('counter', Int32, queue_size=1)\n",
    "rate = rospy.Rate(2)\n",
    "count = 0\n",
    "\n",
    "while not rospy.is_shutdown(): \n",
    "  pub.publish(count)\n",
    "  count += 1\n",
    "  rate.sleep()"
   ]
  },
  {
   "cell_type": "markdown",
   "metadata": {},
   "source": [
    "<p style=\"background:#3B8F10;color:white;\" id=\"prg-2-1\">FIN del Programa Python {2.1}: simple_topic_publisher.py </p>"
   ]
  },
  {
   "cell_type": "markdown",
   "metadata": {},
   "source": [
    "No ocurre nada? Bueno, eso no es del todo cierto. Comprobemos algunas cosas."
   ]
  },
  {
   "cell_type": "markdown",
   "metadata": {},
   "source": [
    "EN tu consola web, escribe <i>rostopic list</i> y busca un tópico que se llama '/counter'."
   ]
  },
  {
   "cell_type": "markdown",
   "metadata": {},
   "source": [
    "<table style=\"float:left;background: #407EAF\">\n",
    "<tr>\n",
    "<th>\n",
    "<p style=\"background: #FFFFFF\">Ejecuta en el WebShell #1</p><br>\n",
    "rostopic list | grep  '/counter'<br>\n",
    "</th>\n",
    "</tr>\n",
    "</table>\n",
    "<br>"
   ]
  },
  {
   "cell_type": "markdown",
   "metadata": {},
   "source": [
    "<table style=\"float:left;background: #FFFFFF\">\n",
    "<tr>\n",
    "<th>\n",
    "<p style=\"background: #407EAF\">Salida del WebShell #1</p><br>\n",
    "user ~ $ rostopic list | grep '/counter'<br>\n",
    "/counter\n",
    "</th>\n",
    "</tr>\n",
    "</table>"
   ]
  },
  {
   "cell_type": "markdown",
   "metadata": {},
   "source": [
    "Ahora acabas de listar todos los tópicos que están actualmente en marcha y has filtrado mediante el comando <b>grep</b> los que contengan la palabra <i>/counter</i>. Si aparece, entonces el tópicos está corriendo como debería."
   ]
  },
  {
   "cell_type": "markdown",
   "metadata": {},
   "source": [
    "Ahora escribe <i>rostopic info /counter</i>."
   ]
  },
  {
   "cell_type": "markdown",
   "metadata": {},
   "source": [
    "<table style=\"float:left;background: #407EAF\">\n",
    "<tr>\n",
    "<th>\n",
    "<p style=\"background: #FFFFFF\">Ejecuta en el WebShell #1</p><br>\n",
    "rostopic info /counter<br>\n",
    "</th>\n",
    "</tr>\n",
    "</table>\n",
    "<br>"
   ]
  },
  {
   "cell_type": "markdown",
   "metadata": {},
   "source": [
    "<table style=\"float:left;background: #FFFFFF\">\n",
    "<tr>\n",
    "<th>\n",
    "<p style=\"background: #407EAF\"> Salida del WebShell #1</p><br>\n",
    "user ~ $ rostopic info /counter<br>\n",
    "Type: std_msgs/Int32<br>\n",
    "<br>                       \n",
    "Publishers:<br>\n",
    " * /topic_publisher (http://ip-172-31-16-133:47971/)<br>\n",
    "<br>\n",
    "Subscribers: None<br>\n",
    "</th>\n",
    "</tr>\n",
    "</table>"
   ]
  },
  {
   "cell_type": "markdown",
   "metadata": {},
   "source": [
    "Ahora, escribe <i>rostopic echo /counter</i> y observa la salida del tópico en tiempo real."
   ]
  },
  {
   "cell_type": "markdown",
   "metadata": {},
   "source": [
    "<table style=\"float:left;background: #407EAF\">\n",
    "<tr>\n",
    "<th>\n",
    "<p style=\"background: #FFFFFF\">Ejecuta en el WebShell #1</p><br>\n",
    "rostopic echo /counter<br>\n",
    "</th>\n",
    "</tr>\n",
    "</table>\n",
    "<br>"
   ]
  },
  {
   "cell_type": "markdown",
   "metadata": {},
   "source": [
    "Deberías ver una sucesión de números consecutivos, similar a la siguiente: "
   ]
  },
  {
   "cell_type": "markdown",
   "metadata": {},
   "source": [
    "<table style=\"float:left;background: #FFFFFF\">\n",
    "<tr>\n",
    "<th>\n",
    "<p style=\"background: #407EAF\"> Salida del WebShell #1</p><br>\n",
    "rostopic echo /counter<br>\n",
    "data:<br>\n",
    "985<br>\n",
    "---<br>\n",
    "data:<br>\n",
    "986<br>\n",
    "---<br>\n",
    "data:<br>\n",
    "987<br>\n",
    "---<br>\n",
    "data:<br>\n",
    "988<br>\n",
    "---<br>\n",
    "</th>\n",
    "</tr>\n",
    "</table>"
   ]
  },
  {
   "cell_type": "markdown",
   "metadata": {},
   "source": [
    "Bien, entonces... qué acaba de pasar? Expliquémoslo con más detalle. Primero, analicemos el código que hemos ejecutado con más detalle."
   ]
  },
  {
   "cell_type": "code",
   "execution_count": null,
   "metadata": {
    "collapsed": true
   },
   "outputs": [],
   "source": [
    "#! /usr/bin/env python\n",
    "\n",
    "import rospy                               # Importamos libreria de Python para ROS\n",
    "from std_msgs.msg import Int32             # Importamos el mensaje Int32 del paquete std_msgs\n",
    "\n",
    "rospy.init_node('topic_publisher')         # Iniciamos un nodo llamado 'topic_publisher'\n",
    "pub = rospy.Publisher('counter', Int32)    # Creamos un objeto Publisher, que publicará en el tópico /counter\n",
    "                                           # mensajes de tipo Int32\n",
    "\n",
    "rate = rospy.Rate(2)                       # Declaramos un ratio de publicación de 2 Hz\n",
    "count = 0                                  # Inicializamos la variable 'count'\n",
    "\n",
    "while not rospy.is_shutdown():             # Creamos un bucle que funcionará hasta que el alguien pare la ejecución del programa\n",
    "  pub.publish(count)                       # Publicamos el mensaje que contiene la variable 'count'\n",
    "  count += 1                               # Incrementamos la variable 'count'\n",
    "  rate.sleep()                             # Nos aseguramos de que el ratio de publicación se mantiene a 2 Hz"
   ]
  },
  {
   "cell_type": "markdown",
   "metadata": {},
   "source": [
    "Básicamente, lo que hace este código es inicializar un nodo y crear un Publisher que publica en el tópico '/counter' una secuencia de números enteros consecutivos. Y ahora te preguntarás... qué es un publisher? <b>Un publisher es un nodo que publica mensajes en un tópico</b>. De acuerdo, pero... qué es un tópico? <b>Un tópico es un canal que actúa como una tubería, en el que otros nodos de ROS pueden publicar o leer información</b>. Veamos ahora algunos comandos relacionados con los tópicos (algunos de ellos ya los has usado)."
   ]
  },
  {
   "cell_type": "markdown",
   "metadata": {},
   "source": [
    "Para <b>obtener una lista de tópicos disponibles</b> en un sistema ROS, tienes que usar el siguiente comando:"
   ]
  },
  {
   "cell_type": "raw",
   "metadata": {},
   "source": [
    "rostopic list"
   ]
  },
  {
   "cell_type": "markdown",
   "metadata": {},
   "source": [
    "Para <b>leer la información que está siendo publicada en un tópico</b> usa el siguiente comando:"
   ]
  },
  {
   "cell_type": "raw",
   "metadata": {},
   "source": [
    "rostopic echo <nombre_del_topico>"
   ]
  },
  {
   "cell_type": "markdown",
   "metadata": {},
   "source": [
    "Este comando te mostrará toda la información que está siendo publicada en el tópico especificado, lo que a veces (p.e.: cuando hay una cantidad masiva de información, o cuando los mensajes tienen una estructura muy larga) puede ser molesto. En estos casos, puedes simplemente <b>leer el último mensaje publicado en el tópico</b> con el siguiente comando:"
   ]
  },
  {
   "cell_type": "raw",
   "metadata": {},
   "source": [
    "rostopic echo <nombre_del_topico> -n1"
   ]
  },
  {
   "cell_type": "markdown",
   "metadata": {},
   "source": [
    "Para <b>obtener información de un tópico específico</b> usa el siguiente comando:"
   ]
  },
  {
   "cell_type": "raw",
   "metadata": {},
   "source": [
    "rostopic info <nombre_del_topico>"
   ]
  },
  {
   "cell_type": "markdown",
   "metadata": {},
   "source": [
    "Finalmente, puedes ver las diferentes opciones que te da el comando <i>rostopic</i> usando el siguiente comando:"
   ]
  },
  {
   "cell_type": "raw",
   "metadata": {},
   "source": [
    "rostopic -h"
   ]
  },
  {
   "cell_type": "markdown",
   "metadata": {},
   "source": [
    "## Mensajes"
   ]
  },
  {
   "cell_type": "markdown",
   "metadata": {},
   "source": [
    "Como te habrás percatado, los tópicos manejan la información a través de mensajes. <br>\n",
    "En el caso del código que has ejecutado previamente, el mensaje era un Int32, pero ROS provee muchos tipos de mensajes diferentes. También puedes crear tus propios mensajes, pero se recomeinda usar mensajes por defecto de ROS siempre que sea posible. <br>\n",
    "Los mensajes se definen en ficheros '.msg', que se encuentran en el directorio 'msg'de un paquete."
   ]
  },
  {
   "cell_type": "markdown",
   "metadata": {},
   "source": [
    "Para <b>obtener información sobre un mensaje</b> usa el siguiente comando:"
   ]
  },
  {
   "cell_type": "raw",
   "metadata": {},
   "source": [
    "rosmsg show <mensaje>"
   ]
  },
  {
   "cell_type": "markdown",
   "metadata": {},
   "source": [
    "<p style=\"background:#407EAF;color:white;\">Ejemplo 2.2</p>"
   ]
  },
  {
   "cell_type": "markdown",
   "metadata": {},
   "source": [
    "Por ejemplo, tratemos de obtener información sobre el mensaje Int32. Escribe <i>rosmsg show Int32</i> y observa la salida."
   ]
  },
  {
   "cell_type": "markdown",
   "metadata": {},
   "source": [
    "<table style=\"float:left;background: #407EAF\">\n",
    "<tr>\n",
    "<th>\n",
    "<p style=\"background: #FFFFFF\">Ejecuta en el WebShell #1</p><br>\n",
    "rosmsg show Int32<br>\n",
    "</th>\n",
    "</tr>\n",
    "</table>\n",
    "<br>"
   ]
  },
  {
   "cell_type": "markdown",
   "metadata": {},
   "source": [
    "<table style=\"float:left;background: #FFFFFF\">\n",
    "<tr>\n",
    "<th>\n",
    "<p style=\"background: #407EAF\"> Salida del WebShell #1</p><br>\n",
    "user ~ $ rosmsg show Int32<br>\n",
    "[std_msgs/Int32]:<br>\n",
    "int32 data<br>\n",
    "</th>\n",
    "</tr>\n",
    "</table>"
   ]
  },
  {
   "cell_type": "markdown",
   "metadata": {},
   "source": [
    "En este caso el mensaje <i style=\"color: green\">Int32</i> solo tiene una variable llamada <i style=\"color: green\">data</i> de tipo <i style=\"color: green\">int32</i>. El mensaje Int32 viene del paquete std_msgs, y podrás encontrarlo en el directorio <i style=\"color: green\">msg<i>."
   ]
  },
  {
   "cell_type": "markdown",
   "metadata": {},
   "source": [
    "<p style=\"background:#407EAF;color:white;\">FIN del Ejemplo 2.2</p>"
   ]
  },
  {
   "cell_type": "markdown",
   "metadata": {},
   "source": [
    "Ahora ya estás listo para crear tu propio Publisher, así que vamos a por ello!"
   ]
  },
  {
   "cell_type": "markdown",
   "metadata": {},
   "source": [
    "<table style=\"float:left;\">\n",
    "<tr>\n",
    "<th>\n",
    "<p style=\"background:#EE9023;color:white;\">Ejercicio 2.1</p><br>\n",
    "<ul>\n",
    " <li>Crea un paquete con un fichero launch que lance el código <a href=\"#prg-2-1\">simple_topic_publisher.py</a>.</li>\n",
    " <li>Modifica el código para que publique información en el tópico /cmd_vel. </li>\n",
    "</ul>\n",
    "<br>\n",
    "<p style=\"background:#3B8F10;color:white;\">Información para el Ejercicio 2.1</p><br>\n",
    "<ol>\n",
    "\n",
    "<li>\n",
    "El tópico '/cmd_vel' es el tópico usado para mover el robot. Haz un rostopic info /cmd_vel para obtener información sobre este tópico, como el tipo de mensaje que usa.\n",
    "</li>\n",
    "\n",
    "<li>\n",
    "Para rellenar el mensaje Twist, necesitas crear una instancia del mensaje. En Python, esto se hace así:\n",
    "var = Twist().\n",
    "</li>\n",
    "\n",
    "<li>\n",
    " Para saber la estructura de los mensajes Twist, has de usar el comando rosmsg show, especificando el tipo de mensaje que usa el tópico /cmd_vel.\n",
    "</li>\n",
    "\n",
    "<li>\n",
    "En este caso el robot se mueve a través de un differential drive. Esto significa que los únicos valores que necesitas rellenar en el mensaje Twist son la linear x y la angular z.\n",
    "</li>\n",
    "\n",
    "<li>\n",
    "Las magnitudes están en m/s, así que se recomienda usar valores entre 0 y 1. Por ejemplo, 0'5.\n",
    "</li>\n",
    "\n",
    "</ol>\n",
    "</th>\n",
    "</tr>\n",
    "</table>"
   ]
  }
 ],
 "metadata": {
  "anaconda-cloud": {},
  "kernelspec": {
   "display_name": "Python [Root]",
   "language": "python",
   "name": "Python [Root]"
  },
  "language_info": {
   "codemirror_mode": {
    "name": "ipython",
    "version": 2
   },
   "file_extension": ".py",
   "mimetype": "text/x-python",
   "name": "python",
   "nbconvert_exporter": "python",
   "pygments_lexer": "ipython2",
   "version": "2.7.12"
  }
 },
 "nbformat": 4,
 "nbformat_minor": 0
}
