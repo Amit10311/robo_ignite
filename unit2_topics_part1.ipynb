{
 "cells": [
  {
   "cell_type": "markdown",
   "metadata": {},
   "source": [
    "# <font class='ign_color'>ROS IN 5 DAYS</font>"
   ]
  },
  {
   "cell_type": "markdown",
   "metadata": {},
   "source": [
    "# Unit 2: Topics"
   ]
  },
  {
   "cell_type": "markdown",
   "metadata": {
    "caption": "Kobuki",
    "image": true,
    "name": "kobuki_wall",
    "width": "15cm"
   },
   "source": [
    "<img src=\"img/kobuki_wall.png\" width=\"800\"/>"
   ]
  },
  {
   "cell_type": "markdown",
   "metadata": {},
   "source": [
    "<b>Estimated time to completion:</b> 2.5 hours\n",
    "<br><br>\n",
    "<b>Simulation:</b> Turtlebot\n",
    "<br><br>\n",
    "<b>What will you learn with this unit?</b>\n",
    "\n",
    "* What are ROS topics and how to manage them</li>\n",
    "* What is a publisher and how to create one</li>\n",
    "* What are topic messages and how they work</li>"
   ]
  },
  {
   "cell_type": "markdown",
   "metadata": {
    "caption": "Kobuki Robot",
    "image": true,
    "name": "kobuki",
    "width": "7cm"
   },
   "source": [
    "<img src=\"img/kobuki.jpg\" width=\"212\" height=\"236\" />"
   ]
  },
  {
   "cell_type": "markdown",
   "metadata": {},
   "source": [
    "## Part 1: Publisher"
   ]
  },
  {
   "cell_type": "markdown",
   "metadata": {},
   "source": [
    "<p style=\"background:#407EAF;color:white;\">**Example 2.1**</p><br>\n",
    "Execute the following Python code <a href=\"#prg-2-1\">simple_topic_publisher.py </a> by clicking on it and then clicking on the play button on the top right-hand corner of the IPython notebook.<br> \n",
    "<div class='white_bg'><img src=\"img/font-awesome_step-forward.png\" style=\"float:left\"/><br><br></div>\n",
    "<br>\n",
    "You can also press **[CTRL]+[Enter]** to execute it."
   ]
  },
  {
   "cell_type": "markdown",
   "metadata": {},
   "source": [
    "<p style=\"background:#407EAF;color:white;\">**END Example 2.1**</p>"
   ]
  },
  {
   "cell_type": "markdown",
   "metadata": {},
   "source": [
    "<p style=\"background:#3B8F10;color:white;\" id=\"prg-2-1\">**Python Program {2.1}: simple_topic_publisher.py**</p>"
   ]
  },
  {
   "cell_type": "code",
   "execution_count": null,
   "metadata": {
    "collapsed": true
   },
   "outputs": [],
   "source": [
    "#! /usr/bin/env python\n",
    "\n",
    "import rospy\n",
    "from std_msgs.msg import Int32 \n",
    "\n",
    "rospy.init_node('topic_publisher')\n",
    "pub = rospy.Publisher('/counter', Int32, queue_size=1)\n",
    "rate = rospy.Rate(2)\n",
    "count = Int32()\n",
    "count.data = 0\n",
    "\n",
    "while not rospy.is_shutdown(): \n",
    "  pub.publish(count)\n",
    "  count.data += 1\n",
    "  rate.sleep()"
   ]
  },
  {
   "cell_type": "markdown",
   "metadata": {},
   "source": [
    "<p style=\"background:#3B8F10;color:white;\" id=\"prg-2-1\">**END Python Program {2.1}: simple_topic_publisher.py** </p>"
   ]
  },
  {
   "cell_type": "markdown",
   "metadata": {},
   "source": [
    "Nothing happens? Well... that's not actually true! You have just created a topic named **/counter**, and published through it as an integer that increases indefinitely. Let's check some things.\n",
    "\n",
    "A topic is like a pipe. **Nodes use topics to publish information for other nodes** so that they can communicate.\n",
    "<br>\n",
    "You can find out, at any time, the number of topics in the system by doing a <i>**rostopic list**</i>. You can also check for a specific topic."
   ]
  },
  {
   "cell_type": "markdown",
   "metadata": {},
   "source": [
    "On your webshell, type <i>**rostopic list**</i> and check for a topic named '/counter'."
   ]
  },
  {
   "cell_type": "markdown",
   "metadata": {},
   "source": [
    "<table style=\"float:left;background: #407EAF\">\n",
    "<tr>\n",
    "<th>\n",
    "<p class=\"transparent\">Execute in WebShell #1</p>\n",
    "</th>\n",
    "</tr>\n",
    "</table>"
   ]
  },
  {
   "cell_type": "code",
   "execution_count": null,
   "metadata": {
    "collapsed": true
   },
   "outputs": [],
   "source": [
    "rostopic list | grep  '/counter'"
   ]
  },
  {
   "cell_type": "markdown",
   "metadata": {},
   "source": [
    "<table class=\"transparent float_l\">\n",
    "<tr>\n",
    "<th>\n",
    "<p style=\"background: #407EAF\">WebShell #1 Output</p>\n",
    "</th>\n",
    "</tr>\n",
    "</table>"
   ]
  },
  {
   "cell_type": "code",
   "execution_count": null,
   "metadata": {
    "collapsed": true
   },
   "outputs": [],
   "source": [
    "user ~ $ rostopic list | grep '/counter'\n",
    "/counter"
   ]
  },
  {
   "cell_type": "markdown",
   "metadata": {},
   "source": [
    "Here, you have just listed all of the topics running right now and filtered with the <b>grep</b> command the ones that contain the word <i>/counter</i>. If it appears, then the topic is running as it should.\n",
    "\n",
    "You can request information about a topic by doing <i>**rostopic info &lt;name_of_topic&gt;**</i>."
   ]
  },
  {
   "cell_type": "markdown",
   "metadata": {},
   "source": [
    "Now, type <i>**rostopic info /counter**</i>."
   ]
  },
  {
   "cell_type": "markdown",
   "metadata": {},
   "source": [
    "<table style=\"float:left;background: #407EAF\">\n",
    "<tr>\n",
    "<th>\n",
    "<p class=\"transparent\">Execute in WebShell #1</p>\n",
    "</th>\n",
    "</tr>\n",
    "</table>"
   ]
  },
  {
   "cell_type": "code",
   "execution_count": null,
   "metadata": {
    "collapsed": true
   },
   "outputs": [],
   "source": [
    "rostopic info /counter"
   ]
  },
  {
   "cell_type": "markdown",
   "metadata": {},
   "source": [
    "<table class=\"transparent float_l\">\n",
    "<tr>\n",
    "<th>\n",
    "<p style=\"background: #407EAF\">WebShell #1 Output</p>\n",
    "</th>\n",
    "</tr>\n",
    "</table>"
   ]
  },
  {
   "cell_type": "code",
   "execution_count": null,
   "metadata": {
    "collapsed": true
   },
   "outputs": [],
   "source": [
    "user ~ $ rostopic info /counter\n",
    "Type: std_msgs/Int32\n",
    "\n",
    "Publishers:\n",
    " * /topic_publisher (http://ip-172-31-16-133:47971/)\n",
    "\n",
    "Subscribers: None"
   ]
  },
  {
   "cell_type": "markdown",
   "metadata": {},
   "source": [
    "The output indicates the type of information published (**std_msgs/Int32**), the node that is publishing this information (**/topic_publisher**), and if there is a node listening to that info (None in this case)."
   ]
  },
  {
   "cell_type": "markdown",
   "metadata": {},
   "source": [
    "Now, type **_rostopic echo /counter_** and check the output of the topic in realtime."
   ]
  },
  {
   "cell_type": "markdown",
   "metadata": {},
   "source": [
    "<table style=\"float:left;background: #407EAF\">\n",
    "<tr>\n",
    "<th>\n",
    "<p class=\"transparent\">Execute in WebShell #1</p>\n",
    "</th>\n",
    "</tr>\n",
    "</table>\n",
    "<br>"
   ]
  },
  {
   "cell_type": "code",
   "execution_count": null,
   "metadata": {
    "collapsed": true
   },
   "outputs": [],
   "source": [
    "rostopic echo /counter"
   ]
  },
  {
   "cell_type": "markdown",
   "metadata": {},
   "source": [
    "You should see a succession of consecutive numbers, similar to the following: "
   ]
  },
  {
   "cell_type": "markdown",
   "metadata": {},
   "source": [
    "<table class=\"transparent float_l\">\n",
    "<tr>\n",
    "<th>\n",
    "<p style=\"background: #407EAF\">WebShell #1 Output</p>\n",
    "</th>\n",
    "</tr>\n",
    "</table>"
   ]
  },
  {
   "cell_type": "code",
   "execution_count": null,
   "metadata": {
    "collapsed": true
   },
   "outputs": [],
   "source": [
    "rostopic echo /counter\n",
    "data:\n",
    "985\n",
    "---\n",
    "data:\n",
    "986\n",
    "---\n",
    "data:\n",
    "987\n",
    "---\n",
    "data:\n",
    "988\n",
    "---"
   ]
  },
  {
   "cell_type": "markdown",
   "metadata": {},
   "source": [
    "Ok, so... what has just happened? Let's explain it in more detail. First, let's crumble the code we've executed. You can check the comments in the code below explaining what each line of the code does:"
   ]
  },
  {
   "cell_type": "code",
   "execution_count": null,
   "metadata": {
    "collapsed": true
   },
   "outputs": [],
   "source": [
    "#! /usr/bin/env python\n",
    "\n",
    "import rospy                               # Import the Python library for ROS\n",
    "from std_msgs.msg import Int32             # Import the Int32 message from the std_msgs package\n",
    "\n",
    "rospy.init_node('topic_publisher')         # Initiate a Node named 'topic_publisher'\n",
    "pub = rospy.Publisher('counter', Int32)    # Create a Publisher object, that will publish on the /counter topic\n",
    "                                           #  messages of type Int32\n",
    "\n",
    "rate = rospy.Rate(2)                       # Set a publish rate of 2 Hz\n",
    "count = Int32()                            # Create a var of type Int32\n",
    "count.data = 0                             # Initialize 'count' variable\n",
    "\n",
    "while not rospy.is_shutdown():             # Create a loop that will go until someone stops the program execution\n",
    "  pub.publish(count)                       # Publish the message within the 'count' variable\n",
    "  count.data += 1                          # Increment 'count' variable\n",
    "  rate.sleep()                             # Make sure the publish rate maintains at 2 Hz"
   ]
  },
  {
   "cell_type": "markdown",
   "metadata": {},
   "source": [
    "So basically, what this code does is to **initiate a node and create a publisher that keeps publishing into the '/counter' topic a sequence of consecutive integers**. Summarizing:\n",
    "\n",
    "**A publisher is a node that keeps publishing a message into a topic**. So now... what's a topic? \n",
    "\n",
    "**A topic is a channel that acts as a pipe, where other ROS nodes can either publish or read information**. Let's now see some commands related to topics (some of them you've already used)."
   ]
  },
  {
   "cell_type": "markdown",
   "metadata": {},
   "source": [
    "To <b>get a list of available topics</b> in a ROS system, you have to use the next command:"
   ]
  },
  {
   "cell_type": "code",
   "execution_count": null,
   "metadata": {
    "collapsed": true
   },
   "outputs": [],
   "source": [
    "rostopic list"
   ]
  },
  {
   "cell_type": "markdown",
   "metadata": {},
   "source": [
    "To <b>read the information that is being published in a topic,</b> use the next command:"
   ]
  },
  {
   "cell_type": "code",
   "execution_count": null,
   "metadata": {
    "collapsed": true
   },
   "outputs": [],
   "source": [
    "rostopic echo <topic_name>"
   ]
  },
  {
   "cell_type": "markdown",
   "metadata": {},
   "source": [
    "This command will start printing all of the information that is being published into the topic, which sometimes (ie: when there's a massive amount of information, or when messages have a very large structure) can be annoying. In this case, you can <b>read just the last message published into a topic</b> with the next command:"
   ]
  },
  {
   "cell_type": "code",
   "execution_count": null,
   "metadata": {
    "collapsed": true
   },
   "outputs": [],
   "source": [
    "rostopic echo <topic_name> -n1"
   ]
  },
  {
   "cell_type": "markdown",
   "metadata": {},
   "source": [
    "To <b>get information about a certain topic,</b> use the next command:"
   ]
  },
  {
   "cell_type": "code",
   "execution_count": null,
   "metadata": {
    "collapsed": true
   },
   "outputs": [],
   "source": [
    "rostopic info <topic_name>"
   ]
  },
  {
   "cell_type": "markdown",
   "metadata": {},
   "source": [
    "Finally, you can check the different options that <i>rostopic</i> command has by using the next command:"
   ]
  },
  {
   "cell_type": "code",
   "execution_count": null,
   "metadata": {
    "collapsed": true
   },
   "outputs": [],
   "source": [
    "rostopic -h"
   ]
  },
  {
   "cell_type": "markdown",
   "metadata": {},
   "source": [
    "<p style=\"background:red;color:white;\">**IMPORTANT NOTE**</p>"
   ]
  },
  {
   "cell_type": "markdown",
   "metadata": {},
   "source": [
    "When you have finished with this section of the Notebook, make sure to <b>STOP</b> the previously executed code by selecting the cell with the code and clicking on the <b>Interrupt kernel</b> button at the top right corner of the Notebook. This is very important for doing the Next Unit properly."
   ]
  },
  {
   "cell_type": "markdown",
   "metadata": {},
   "source": [
    "<p style=\"background:red;color:white;\">**IMPORTANT NOTE**</p>"
   ]
  },
  {
   "cell_type": "markdown",
   "metadata": {},
   "source": [
    "## Messages"
   ]
  },
  {
   "cell_type": "markdown",
   "metadata": {},
   "source": [
    "As you may have noticed, topics handle information through messages. There are many different types of messages.\n",
    "\n",
    "In the case of the code you executed before, the message type was an **std_msgs/Int32**, but ROS provides a lot of different messages. You can even create your own messages, but it is recommended to use ROS default messages when its possible. \n",
    "\n",
    "Messages are defined in **.msg** files, which are located inside a **msg** directory of a package."
   ]
  },
  {
   "cell_type": "markdown",
   "metadata": {},
   "source": [
    "To <b>get information about a message,</b> you use the next command:"
   ]
  },
  {
   "cell_type": "code",
   "execution_count": null,
   "metadata": {
    "collapsed": true
   },
   "outputs": [],
   "source": [
    "rosmsg show <message>"
   ]
  },
  {
   "cell_type": "markdown",
   "metadata": {},
   "source": [
    "<p style=\"background:#407EAF;color:white;\">**Example 2.2**</p>"
   ]
  },
  {
   "cell_type": "markdown",
   "metadata": {},
   "source": [
    "For example, let's try to get information about the std_msgs/Int32 message. Type the following command and check the output."
   ]
  },
  {
   "cell_type": "markdown",
   "metadata": {},
   "source": [
    "<table style=\"float:left;background: #407EAF\">\n",
    "<tr>\n",
    "<th>\n",
    "<p class=\"transparent\">Execute in WebShell #1</p>\n",
    "</th>\n",
    "</tr>\n",
    "</table>"
   ]
  },
  {
   "cell_type": "code",
   "execution_count": null,
   "metadata": {
    "collapsed": true
   },
   "outputs": [],
   "source": [
    "rosmsg show std_msgs/Int32"
   ]
  },
  {
   "cell_type": "markdown",
   "metadata": {},
   "source": [
    "<table class=\"transparent float_l\">\n",
    "<tr>\n",
    "<th>\n",
    "<p style=\"background: #407EAF\">WebShell #1 Output</p>\n",
    "</th>\n",
    "</tr>\n",
    "</table>"
   ]
  },
  {
   "cell_type": "code",
   "execution_count": null,
   "metadata": {
    "collapsed": true
   },
   "outputs": [],
   "source": [
    "user ~ $ rosmsg show std_msgs/Int32\n",
    "[std_msgs/Int32]:\n",
    "int32 data"
   ]
  },
  {
   "cell_type": "markdown",
   "metadata": {},
   "source": [
    "In this case, the **Int32** message has only one variable named **data** of type **int32**. This Int32 message comes from the package **std_msgs**, and you can find it in its **msg** directory. If you want, you can have a look at the Int32.msg file by executing the following command:"
   ]
  },
  {
   "cell_type": "code",
   "execution_count": null,
   "metadata": {
    "collapsed": true
   },
   "outputs": [],
   "source": [
    "roscd std_msgs/msg/"
   ]
  },
  {
   "cell_type": "markdown",
   "metadata": {},
   "source": [
    "<p style=\"background:#407EAF;color:white;\">**END Example 2.2**</p>"
   ]
  },
  {
   "cell_type": "markdown",
   "metadata": {},
   "source": [
    "Now you're ready to create your own publisher and make the robot move, so let's go for it!"
   ]
  },
  {
   "cell_type": "markdown",
   "metadata": {},
   "source": [
    "<p style=\"background:#EE9023;color:white;\">**Exercise 2.1**</p><br>\n",
    "<ul>\n",
    " <li>Create a package with a launch file that launches the code <a href=\"#prg-2-1\">simple_topic_publisher.py</a>.</li>\n",
    " <li>Modify the code you used previously to publish data to the /cmd_vel topic. </li>\n",
    " <li>Launch the program and check that the robot moves.</li>\n",
    "</ul>"
   ]
  },
  {
   "cell_type": "markdown",
   "metadata": {},
   "source": [
    "<p style=\"background:#3B8F10;color:white;\">**Data for Excercice 2.1**</p><br>\n",
    "\n",
    "1.- The /cmd_vel topic is the topic used to move the robot. Do a <i>**rostopic info /cmd_vel**</i> in order to get information about this topic, and identify the message it uses. You have to modify the code to use that message.\n",
    "\n",
    "2.- In order to fill the Twist message, you need to create an instance of the message. In Python, this is done like this:\n",
    "**var = Twist()**\n",
    "\n",
    "3.- In order to know the structure of the Twist messages, you need to use the **_rosmsg show_** command, with the type of the message used by the topic **/cmd_vel**.\n",
    "\n",
    "4.- In this case, the robot uses a differential drive plugin to move. That is, the robot can only move linearly in the **x** axis, or rotationaly in the angular **z** axis. This means that the only values that you need to fill in the Twist message are the linear **x** and the angular **z**.\n",
    "\n",
    "\n",
    "<img src=\"img/xyz.jpg\" width=\"100\"></img>\n",
    "\n",
    "\n",
    "5.- The magnitudes of the Twist message are in m/s, so it is recommended to use values between 0 and 1. For example, 0'5 m/s."
   ]
  },
  {
   "cell_type": "markdown",
   "metadata": {},
   "source": [
    "<p style=\"background:#EE9023;color:white;\">**END Exercise 2.1**</p>"
   ]
  },
  {
   "cell_type": "markdown",
   "metadata": {},
   "source": [
    "<p style=\"background:green;color:white;\">Solution Exercise 2.1</p>"
   ]
  },
  {
   "cell_type": "markdown",
   "metadata": {},
   "source": [
    "Please Try to do it by yourself unless you get stuck or need some inspiration. You will learn much more if you fight for each exercise."
   ]
  },
  {
   "cell_type": "markdown",
   "metadata": {},
   "source": [
    "<img src=\"img/robotignite_logo_text.png\"/>"
   ]
  },
  {
   "cell_type": "markdown",
   "metadata": {},
   "source": [
    "Follow this link to open the solutions notebook for Unit3 Services Part1:[Topics Part1 Solutions](extra_files/unit2_topics_part1_solutions.ipynb)"
   ]
  },
  {
   "cell_type": "markdown",
   "metadata": {},
   "source": [
    "<p style=\"background:green;color:white;\">END Solution Exercise 2.1</p>"
   ]
  }
 ],
 "metadata": {
  "anaconda-cloud": {},
  "kernelspec": {
   "display_name": "Python [Root]",
   "language": "python",
   "name": "Python [Root]"
  },
  "language_info": {
   "codemirror_mode": {
    "name": "ipython",
    "version": 2
   },
   "file_extension": ".py",
   "mimetype": "text/x-python",
   "name": "python",
   "nbconvert_exporter": "python",
   "pygments_lexer": "ipython2",
   "version": "2.7.12"
  },
  "latex_metadata": {
   "chapter": "2 - Topics",
   "chapter_title": "Unit 2. Topics Part1",
   "course_title": "ROS BASICS IN 5 DAYS"
  }
 },
 "nbformat": 4,
 "nbformat_minor": 1
}
