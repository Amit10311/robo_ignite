{
 "cells": [
  {
   "cell_type": "markdown",
   "metadata": {},
   "source": [
    "# <font class='ign_color'>ROS IN A SINGLE WEEK</font>"
   ]
  },
  {
   "cell_type": "markdown",
   "metadata": {},
   "source": [
    "# Chapter 2: Topics"
   ]
  },
  {
   "cell_type": "markdown",
   "metadata": {},
   "source": [
    "<table style=\"width:100%\">\n",
    "  <tr>\n",
    "    <th>预计完成时间: 2'5 小时<br><br>你将在这个单元学到什么？<ul>\n",
    "  <li>什么是订阅器，以及如何创建</li>\n",
    "  <li>如何创建自己的消息</li>\n",
    "</ul></th>\n",
    "    <th><img src=\"img/kobuki.jpg\" width=\"212\" height=\"236\" /></th> \n",
    "  </tr>\n",
    "</table>"
   ]
  },
  {
   "cell_type": "markdown",
   "metadata": {},
   "source": [
    "##  第二部分: 订阅器"
   ]
  },
  {
   "cell_type": "markdown",
   "metadata": {},
   "source": [
    "之前我们已学到，主题是一个让节点可以编写或读取信息的渠道。你也看到了通过发布器（publisher)你可以在一个主题中编写，现在你可能在猜想，那应该也有一个类似的工具来读取主题中的信息吧？是的！它就是订阅器。让我们来实践一下：<b>订阅器是一个可读取主题中信息的节点</b>。 让我们来实践一下："
   ]
  },
  {
   "cell_type": "markdown",
   "metadata": {},
   "source": [
    "<table style=\"float:left;\">\n",
    "<tr>\n",
    "<th>\n",
    "<p style=\"background:#EE9023;color:white;\">练习 2.2</p><br>\n",
    "执行以下Python代码 <a href=\"#prg-2-2\">simple_topic_subscriber.py</a> （点击）然后再点击IPython notebook右上角的运行键。<br> \n",
    "<img src=\"img/font-awesome_step-forward.png\" style=\"float:left\"/><br>\n",
    "<br><br>\n",
    "你也可以按 <i>[CTRL]+[Enter]</i> 来执行它。<br>\n",
    "<br>\n",
    "</th>\n",
    "</tr>\n",
    "</table>"
   ]
  },
  {
   "cell_type": "markdown",
   "metadata": {},
   "source": [
    "<p style=\"background:#3B8F10;color:white;\" id=\"prg-2-2\">Python Program {2.2}: simple_topic_subscriber.py </p><br>"
   ]
  },
  {
   "cell_type": "code",
   "execution_count": null,
   "metadata": {
    "collapsed": false
   },
   "outputs": [],
   "source": [
    "#! /usr/bin/env python\n",
    "\n",
    "import rospy\n",
    "from std_msgs.msg import Int32 \n",
    "\n",
    "def callback(msg): \n",
    "  print msg.data\n",
    "\n",
    "rospy.init_node('topic_subscriber')\n",
    "sub = rospy.Subscriber('counter', Int32, callback)\n",
    "rospy.spin()"
   ]
  },
  {
   "cell_type": "markdown",
   "metadata": {},
   "source": [
    "<p style=\"background:#3B8F10;color:white;\">结束 Python Program {2.2}: simple_topic_subscriber.py </p><br>"
   ]
  },
  {
   "cell_type": "markdown",
   "metadata": {},
   "source": [
    "怎么样，什么都没有发生吗？ 不可能的...让我们来检查一下。"
   ]
  },
  {
   "cell_type": "markdown",
   "metadata": {},
   "source": [
    "到你的web shell然后输入<i>rostopic echo /counter</i>"
   ]
  },
  {
   "cell_type": "markdown",
   "metadata": {},
   "source": [
    "<table style=\"float:left;background: #407EAF\">\n",
    "<tr>\n",
    "<th>\n",
    "<p style=\"background: #FFFFFF\">在 WebShell #1中执行</p><br>\n",
    "rostopic echo /counter<br>\n",
    "</th>\n",
    "</tr>\n",
    "</table>\n",
    "<br>"
   ]
  },
  {
   "cell_type": "markdown",
   "metadata": {},
   "source": [
    "你应该看到像这样的输出："
   ]
  },
  {
   "cell_type": "markdown",
   "metadata": {},
   "source": [
    "<table style=\"float:left;background: #FFFFFF\">\n",
    "<tr>\n",
    "<th>\n",
    "<p style=\"background: #407EAF\">WebShell #1 输出</p><br>\n",
    "user ~ $ rostopic echo /counter<br>\n",
    "WARNING: no messages received and simulated time is active.<br>\n",
    "Is /clock being published?<br>\n",
    "</th>\n",
    "</tr>\n",
    "</table>"
   ]
  },
  {
   "cell_type": "markdown",
   "metadata": {},
   "source": [
    "而这是什么意思呢？这意味着没有人在 /counter发布任何东西，所以无信息可读取。让我们尝试在主题中发布一些东西吧，看看会发生什么。在这之前，先为你介绍一个新的命令："
   ]
  },
  {
   "cell_type": "raw",
   "metadata": {},
   "source": [
    "rostopic pub <topic_name> <message_type> <value>"
   ]
  },
  {
   "cell_type": "markdown",
   "metadata": {},
   "source": [
    "此命令将发布消息到你指定的主题中。"
   ]
  },
  {
   "cell_type": "markdown",
   "metadata": {},
   "source": [
    "打开另一个web shell (有 <i>rostopic echo</i> 的那个webshell保持打开) 并输入这个命令： <i>rostopic pub /counter std_msgs/Int32 5</i>"
   ]
  },
  {
   "cell_type": "markdown",
   "metadata": {},
   "source": [
    "<table style=\"float:left;background: #407EAF\">\n",
    "<tr>\n",
    "<th>\n",
    "<p style=\"background: #FFFFFF\">在 WebShell #2中执行</p><br>\n",
    "rostopic pub /counter std_msgs/Int32 5<br>\n",
    "</th>\n",
    "</tr>\n",
    "</table>\n",
    "<br>"
   ]
  },
  {
   "cell_type": "markdown",
   "metadata": {},
   "source": [
    "前往并再次检查你在<i>rostopic echo</i>的输出. 你应该看到像这样的东西: . "
   ]
  },
  {
   "cell_type": "markdown",
   "metadata": {},
   "source": [
    "<table style=\"float:left;background: #FFFFFF\">\n",
    "<tr>\n",
    "<th>\n",
    "<p style=\"background: #407EAF\">WebShell #1 输出</p><br>\n",
    "user ~ $ rostopic echo /counter<br>\n",
    "警告：没有收到信息而模拟时间是运行的。<br>\n",
    "Is /clock being published?<br>\n",
    "data:<br>\n",
    "5<br>\n",
    "---<br>\n",
    "</th>\n",
    "</tr>\n",
    "</table>"
   ]
  },
  {
   "cell_type": "markdown",
   "metadata": {},
   "source": [
    "现在检查你刚在IPython notebook中输出的代码（代码右下方的部分）。你应该看到像这样的东西："
   ]
  },
  {
   "cell_type": "markdown",
   "metadata": {},
   "source": [
    "<img src=\"img/ipython_output.png\" />"
   ]
  },
  {
   "cell_type": "markdown",
   "metadata": {},
   "source": [
    "在解释一切的更多东西之前，先让我们来解释一下你所执行的代码。"
   ]
  },
  {
   "cell_type": "code",
   "execution_count": 3,
   "metadata": {
    "collapsed": false
   },
   "outputs": [
    {
     "ename": "ImportError",
     "evalue": "No module named rospy",
     "output_type": "error",
     "traceback": [
      "\u001b[0;31m---------------------------------------------------------------------------\u001b[0m",
      "\u001b[0;31mImportError\u001b[0m                               Traceback (most recent call last)",
      "\u001b[0;32m<ipython-input-3-8a1c995669cd>\u001b[0m in \u001b[0;36m<module>\u001b[0;34m()\u001b[0m\n\u001b[1;32m      1\u001b[0m \u001b[0;31m#! /usr/bin/env python\u001b[0m\u001b[0;34m\u001b[0m\u001b[0;34m\u001b[0m\u001b[0m\n\u001b[1;32m      2\u001b[0m \u001b[0;34m\u001b[0m\u001b[0m\n\u001b[0;32m----> 3\u001b[0;31m \u001b[0;32mimport\u001b[0m \u001b[0mrospy\u001b[0m\u001b[0;34m\u001b[0m\u001b[0m\n\u001b[0m\u001b[1;32m      4\u001b[0m \u001b[0;32mfrom\u001b[0m \u001b[0mstd_msgs\u001b[0m\u001b[0;34m.\u001b[0m\u001b[0mmsg\u001b[0m \u001b[0;32mimport\u001b[0m \u001b[0mInt32\u001b[0m\u001b[0;34m\u001b[0m\u001b[0m\n\u001b[1;32m      5\u001b[0m \u001b[0;34m\u001b[0m\u001b[0m\n",
      "\u001b[0;31mImportError\u001b[0m: No module named rospy"
     ]
    }
   ],
   "source": [
    "#! /usr/bin/env python\n",
    "\n",
    "import rospy                                          \n",
    "from std_msgs.msg import Int32 \n",
    "\n",
    "def callback(msg):                                    # 定义一个名为“回调（callback）”的函数来接收参数 \n",
    "                                                      # 命名为 'msg'\n",
    "  \n",
    "    print msg.data                                      # 在'msg'参数中输出 '数据(data)'值\n",
    "\n",
    "rospy.init_node('topic_subscriber')                   # 启动一个名为 'topic_subscriber'的节点\n",
    "\n",
    "sub = rospy.Subscriber('counter', Int32, callback)    # 创建一个将听从 /counter的订阅器对象\n",
    "                                                      #  topic和将在每次读取时调用回调（callback）”函数\n",
    "                                                      #  来自topic的一些东西\n",
    "rospy.spin()                                          # 创建一个循环以保持程序运行"
   ]
  },
  {
   "cell_type": "markdown",
   "metadata": {},
   "source": [
    "现在，让我们来解释刚刚发生了什么。基本上你已创建了一个听从 /counter topic的订阅器节点，每当它读取的时候，会调用一个显示msg的函数。最初无任何东西可见，是由于无人发布东西到 /counter topic，但当你执行 <i>rostopic pub</i> 命令，并发布一个消息到/counter topic后，函数就在IPython的输出中显示出数值，你也可以看到消息在 <i>rostopic echo</i> 输出。现在一切都明了了是吗？"
   ]
  },
  {
   "cell_type": "markdown",
   "metadata": {},
   "source": [
    "现在让我们来做些练习，把你学的东西付诸于实践！"
   ]
  },
  {
   "cell_type": "markdown",
   "metadata": {},
   "source": [
    "<table style=\"float:left;\">\n",
    "<tr>\n",
    "<th>\n",
    "<p id=\"ex-2.3\" style=\"background:#EE9023;color:white;\">练习 2.3</p><br>\n",
    "创建一个启动代码的包。修改它以显示机器人的里程计<br>\n",
    "<p style=\"background:#3B8F10;color:white;\">练习 2.3的数据</p><br>\n",
    "<ol>\n",
    "<li><font color='green'><b>机器人的里程计被发布到/odom主题。</b></font></li>\n",
    "<li><font color='green'><b>需要确定哪个消息使用 /odom主题，以及该消息的结构。</b></font></li>\n",
    "</ol>\n",
    "</th>\n",
    "</tr>\n",
    "</table>"
   ]
  },
  {
   "cell_type": "markdown",
   "metadata": {},
   "source": [
    "<table style=\"float:left;\">\n",
    "<tr>\n",
    "<th>\n",
    "<p style=\"background:#EE9023;color:white;\">练习 2.4</p><br>\n",
    "<ol>\n",
    "<li>添加到上一个包 <a href=\"#ex-2.3\">{练习 2.3}</a>，一个python文件创建一个指示机器人年龄的发布器。</li>\n",
    "<li>为此，你需要创建一个名为Age.msg的消息。请参阅详细解释 <a href=\"#custom_topic_compilation\">如何为自定义主题消息编译准备CMakeLists.txt 和 package.xml</a></li>\n",
    "</ol>\n",
    "</th>\n",
    "</tr>\n",
    "</table>"
   ]
  },
  {
   "cell_type": "markdown",
   "metadata": {},
   "source": [
    "<div id=\"custom_topic_compilation\"></div>"
   ]
  },
  {
   "cell_type": "markdown",
   "metadata": {},
   "source": [
    "## 何为自定义主题消息编译准备CMakeLists.txt 和 package.xml"
   ]
  },
  {
   "cell_type": "markdown",
   "metadata": {},
   "source": [
    "现在...你可能在想如何创建一个新的消息？让我们先来解释一些东西："
   ]
  },
  {
   "cell_type": "markdown",
   "metadata": {},
   "source": [
    "为了创建消息，你需要：\n",
    "<ul>\n",
    "  <li>在你的包中创建一个名为'msg'的目录</li>\n",
    "  <li>在此目录中，创建一个名为Age.msg 的文件 （更多信息在下方)</li>\n",
    "  <li>修改 package.xml 文件 (更多信息在下方)</li>\n",
    "  <li>修改CMakeLists.txt 文件 (更多信息在下方)</li>\n",
    "  <li>编译</li>\n",
    "  <li>在代码中使用</li>\n",
    "</ul>"
   ]
  },
  {
   "cell_type": "markdown",
   "metadata": {},
   "source": [
    "<b>Age.msg</b> 文件必须包含:"
   ]
  },
  {
   "cell_type": "raw",
   "metadata": {},
   "source": [
    "  float32 years\n",
    "  float32 months\n",
    "  float32 days"
   ]
  },
  {
   "cell_type": "markdown",
   "metadata": {},
   "source": [
    "<b>修改 package.xml</b>"
   ]
  },
  {
   "cell_type": "raw",
   "metadata": {},
   "source": [
    "<build_depend>message_generation</build_depend> \n",
    "<run_depend>message_runtime</run_depend>"
   ]
  },
  {
   "cell_type": "markdown",
   "metadata": {},
   "source": [
    "只需将以下两行添加到你的 package.xml 文件。"
   ]
  },
  {
   "cell_type": "markdown",
   "metadata": {},
   "source": [
    "这是package.xml 的最小表达式。"
   ]
  },
  {
   "cell_type": "raw",
   "metadata": {},
   "source": [
    "<?xml version=\"1.0\"?>\n",
    "<package>\n",
    "  <name>topic_ex</name>\n",
    "  <version>0.0.0</version>\n",
    "  <description>The topic_ex package</description>\n",
    "\n",
    "\n",
    "  <maintainer email=\"user@todo.todo\">user</maintainer>\n",
    "\n",
    "  <license>TODO</license>\n",
    "\n",
    " <buildtool_depend>catkin</buildtool_depend>\n",
    "  <build_depend>rospy</build_depend>\n",
    "  <build_depend>message_generation</build_depend> \n",
    "  <run_depend>rospy</run_depend>\n",
    "  <run_depend>message_runtime</run_depend>\n",
    "\n",
    "  <export>\n",
    "\n",
    "  </export>\n",
    "</package>"
   ]
  },
  {
   "cell_type": "markdown",
   "metadata": {},
   "source": [
    "### 在 CMakeLists.txt"
   ]
  },
  {
   "cell_type": "markdown",
   "metadata": {},
   "source": [
    "你将必须在 CMakeLists.txt 中编辑以下四个函数：\n",
    "<ul>\n",
    "<li><span style=\"color:green\"><a href=\"#find_package\">find_package()</a></span></li>\n",
    "<li><span style=\"color:green\"><a href=\"#add_message_files\">add_message_files()</a></span></li>\n",
    "<li><span style=\"color:green\"><a href=\"#generate_messages\">generate_messages()</a></span></li>\n",
    "<li><span style=\"color:green\"><a href=\"#catkin_package\">catkin_package()</a></span></li>\n",
    "</ul>"
   ]
  },
  {
   "cell_type": "markdown",
   "metadata": {},
   "source": [
    "<span style=\"color: green\" id=\"find_package\">find_package()</span>"
   ]
  },
  {
   "cell_type": "markdown",
   "metadata": {},
   "source": [
    "这里所有的包需要编辑主题、服务、行动的消息。只获取它们的路径，而不是真输入以被用于编译中。只有在CMakeLists.txt进一步的功能中才能找到这些包。在package.xml 你必须将它们设为<b>build_depend</b>的状态。\n"
   ]
  },
  {
   "cell_type": "markdown",
   "metadata": {},
   "source": [
    "<font color='green'><b>提示 1：如果在你的IDE中打开CMakeLists.txt 文件，你将看到几乎所有文件都已注释。其中包括一些你将要修改的行列。不要复制和粘贴下面这行，而是在文件中找到它们并取消注释，然后再添加缺失的部分。</b></font>"
   ]
  },
  {
   "cell_type": "raw",
   "metadata": {},
   "source": [
    "find_package(catkin REQUIRED COMPONENTS\n",
    "       rospy\n",
    "       std_msgs\n",
    "       message_generation   # 在这里添加message_generation，于其它包之后\n",
    ")"
   ]
  },
  {
   "cell_type": "markdown",
   "metadata": {},
   "source": [
    "<span style=\"color: green\" id=\"catkin_package\">catkin_package()</span>"
   ]
  },
  {
   "cell_type": "markdown",
   "metadata": {},
   "source": [
    "在这里所有的包将需要由某一人在你的包中执行一些动作。\n",
    "这里所说的所有包都必须在package.xml 中作为<b>run_depend</b>。"
   ]
  },
  {
   "cell_type": "raw",
   "metadata": {},
   "source": [
    "catkin_package(\n",
    "      CATKIN_DEPENDS message_runtime   #在这里，这不是唯一的东西\n",
    ")"
   ]
  },
  {
   "cell_type": "markdown",
   "metadata": {},
   "source": [
    "<span style=\"color: green\" id=\"add_message_files\">add_message_files()</span>"
   ]
  },
  {
   "cell_type": "markdown",
   "metadata": {},
   "source": [
    "在这个函数中会将这个包的所有的消息 （在msg文件夹中） 进行编译。你可以声明它得到msg目录中的所有消息：DIRECTORY msg 或者只是得到明确声明的消息：FILES my_custom_action.msg 在你的情况中，你只需根据你的需要选择任意一个。"
   ]
  },
  {
   "cell_type": "raw",
   "metadata": {},
   "source": [
    "add_message_files(\n",
    "      FILES\n",
    "      Age.msg\n",
    "    ) # 不要忘记去掉括号和add_message_files"
   ]
  },
  {
   "cell_type": "markdown",
   "metadata": {},
   "source": [
    "<span style=\"color: green\" id=\"generate_messages\">generate_messages()</span>"
   ]
  },
  {
   "cell_type": "markdown",
   "metadata": {},
   "source": [
    "这里是包需要为服务消息编译输入的地方。"
   ]
  },
  {
   "cell_type": "raw",
   "metadata": {},
   "source": [
    "generate_messages(\n",
    "      DEPENDENCIES\n",
    "      std_msgs\n",
    ") # 别忘了取消此处批注"
   ]
  },
  {
   "cell_type": "markdown",
   "metadata": {},
   "source": [
    "这是CMakaelist.txt运行所需的最小表达式:"
   ]
  },
  {
   "cell_type": "raw",
   "metadata": {},
   "source": [
    "cmake_minimum_required(VERSION 2.8.3)\n",
    "project(topic_ex)\n",
    "\n",
    "find_package(catkin REQUIRED COMPONENTS\n",
    "  std_msgs\n",
    "  message_generation\n",
    ")\n",
    "\n",
    " add_message_files(\n",
    "   FILES\n",
    "   Age.msg\n",
    " )\n",
    "\n",
    " generate_messages(\n",
    "   DEPENDENCIES\n",
    "   std_msgs\n",
    " )\n",
    "\n",
    "\n",
    "catkin_package(\n",
    "  CATKIN_DEPENDS rospy message_runtime\n",
    ")\n",
    "\n",
    "include_directories(\n",
    "  ${catkin_INCLUDE_DIRS}\n",
    ")"
   ]
  },
  {
   "cell_type": "markdown",
   "metadata": {},
   "source": [
    "现在你需要编译msgs。 为此，你需要在WebShell中输入:"
   ]
  },
  {
   "cell_type": "markdown",
   "metadata": {},
   "source": [
    "<table style=\"float:left;background: #407EAF\">\n",
    "<tr>\n",
    "<th>\n",
    "<p style=\"background: #FFFFFF\">在WebShell #1中执行</p><br>\n",
    "roscd; cd ..<br>\n",
    "catkin_make<br>\n",
    "source devel/setup.bash<br>\n",
    "</th>\n",
    "</tr>\n",
    "</table>\n",
    "<br>"
   ]
  },
  {
   "cell_type": "markdown",
   "metadata": {},
   "source": [
    "<span style=\"color: red\">\n",
    "这非常重要！当你通过catkin_make消息编译时，这是一个额外步骤。你必须在Webshell中输入，在catkin_ws: source devel/setup。这将执行这个设置于其它东西间的bash文件，通过catkin_make创建新生成的消息。\n",
    "<br>\n",
    "如果你不这样做，它可能会给你一个python输入错误，说它找不到生成的消息。\n",
    "\n",
    "</span>"
   ]
  },
  {
   "cell_type": "markdown",
   "metadata": {},
   "source": [
    "<font color='green'><b>提示2：要验证你的消息是否已成功创建，请在你的 Webshell 输入 <i>rosmsg show Age</i>。 如果显示Age消息的结构，就意味着你的消息已成功创建，并可以使用了。</b></font>"
   ]
  },
  {
   "cell_type": "markdown",
   "metadata": {},
   "source": [
    "<table style=\"float:left;background: #407EAF\">\n",
    "<tr>\n",
    "<th>\n",
    "<p style=\"background: #FFFFFF\">在WebShell #1中执行</p><br>\n",
    "rosmsg show Age<br>\n",
    "</th>\n",
    "</tr>\n",
    "</table>\n",
    "<br>"
   ]
  },
  {
   "cell_type": "markdown",
   "metadata": {},
   "source": [
    "<table style=\"float:left;background: #FFFFFF\">\n",
    "<tr>\n",
    "<th>\n",
    "<p style=\"background: #407EAF\">WebShell #1 Output</p><br>\n",
    "user ~ $ rosmsg show Age<br>\n",
    "[topic_ex/Age]:<br>\n",
    "float32 years<br>\n",
    "float32 months<br>\n",
    "float32 days<br>\n",
    "</th>\n",
    "</tr>\n",
    "</table>"
   ]
  },
  {
   "cell_type": "markdown",
   "metadata": {},
   "source": [
    "<table style=\"float:left;background: white\">\n",
    "<tr>\n",
    "<th>\n",
    "<p style=\"background: orange\">注意</p><br>\n",
    "在ROS中有一个问题：当你从msg目录导入msgs时可能会出现问题。 如果你的包有着与python文件相同的名称，当你输入信息时将可能出现找不到msg元素的错误。 这是由于python的运作问题，因此你必须要小心，不要给python文件和其父包取同一名称。\n",
    ".<br>\n",
    "例如:<br>\n",
    "包的名称 = \"my_package\" 和 python file的名称 = \"my_package.py\" , 系统将显示出现错误，因为它将尝试从<span style=\"color:orange\">my_package.py中输入信息从一个不存在的目录 .msg。</span>\n",
    "</th>\n",
    "</tr>\n",
    "</table>\n",
    "<br>"
   ]
  },
  {
   "cell_type": "markdown",
   "metadata": {
    "collapsed": true
   },
   "source": [
    "## 主题（Topics) 小项目"
   ]
  },
  {
   "cell_type": "markdown",
   "metadata": {},
   "source": [
    "根据你在本课程中所学的所有内容，你现在能做一个小项目了，结合所有的东西：订阅器（subscribers）、发布器（publisher）、消息...你将需要运用所有的这些概念以获得成功！"
   ]
  },
  {
   "cell_type": "markdown",
   "metadata": {},
   "source": [
    "在这个项目中，你将需要创建一个代码以使机器人躲避眼前的方形障碍物。为了帮助你实现目标，让我们把项目分成小目标：\n",
    "<ul>\n",
    "<li>1. 你需要创建一个发布器（Publisher），写在  /cmd_vel 主题中以移动机器人。</li>\n",
    "<li>2. 你需要创建一个订阅器（Subscriber），从 /kobuki/laser/scan 主题读取. 只是激光发布数据的主题。</li>\n",
    "<li>3. 根据从激光主题获得的读数，你必须要更改你发送到/cmd_vel主题的数据, 以躲避方形障碍物.</li>"
   ]
  },
  {
   "cell_type": "markdown",
   "metadata": {},
   "source": [
    "<font color='green'><b>提示 1 : 发布到/kobuki/laser/scan主题的数据具有较大的结构。对于这个项目，你只需注意'ranges'数组.</b></font>"
   ]
  },
  {
   "cell_type": "markdown",
   "metadata": {},
   "source": [
    "<table style=\"float:left;background: #407EAF\">\n",
    "<tr>\n",
    "<th>\n",
    "<p style=\"background: #FFFFFF\">在WebShell #1中执行</p><br>\n",
    "rosmsg show sensor_msgs/LaserScan<br>\n",
    "</th>\n",
    "</tr>\n",
    "</table>\n",
    "<br>"
   ]
  },
  {
   "cell_type": "markdown",
   "metadata": {},
   "source": [
    "<table style=\"float:left;background: #FFFFFF\">\n",
    "<tr>\n",
    "<th>\n",
    "<p style=\"background: #407EAF\">WebShell #1 Output</p><br>\n",
    "user ~ $ rosmsg show sensor_msgs/LaserScan<br>\n",
    "std_msgs/Header header<br>\n",
    "  uint32 seq<br>\n",
    "  time stamp<br>\n",
    "  string frame_id<br>\n",
    "float32 angle_min<br>\n",
    "float32 angle_max<br>\n",
    "float32 angle_increment<br>\n",
    "float32 time_increment<br>\n",
    "float32 scan_time<br>\n",
    "float32 range_min<br>\n",
    "float32 range_max<br>\n",
    "float32[] ranges<br>\n",
    "float32[] intensities<br>\n",
    "</th>\n",
    "</tr>\n",
    "</table>"
   ]
  },
  {
   "cell_type": "markdown",
   "metadata": {},
   "source": [
    "<font color='green'><b>提示 2 : 'ranges' 数组中有很多值。 中间的那些代表激光正在机器人面前运作的读数。意为：数组中间的那些值是检查到方形障碍物的值。所以为了躲避方形障碍物，你只需读取那些数值。</b></font>"
   ]
  },
  {
   "cell_type": "markdown",
   "metadata": {},
   "source": [
    "<font color='green'><b>提示 3 : 激光射程为30米。当你的读数值接近30时，意味着激光未检测到任何东西。如果你得到一个值在30以下，则意味着激光检测到在该方向有障碍物。</b></font>"
   ]
  },
  {
   "cell_type": "markdown",
   "metadata": {},
   "source": [
    "<font color='green'><b>提示 4 : \n",
    "激光的视野范围是180度。这意味着在“范围（ranges）”数组的开始和末尾处的值，将是与激光侧面读数相关的值，而位于数组中间的值，将是与激光前方读数相关的值。</b></font>"
   ]
  },
  {
   "cell_type": "code",
   "execution_count": null,
   "metadata": {
    "collapsed": true
   },
   "outputs": [],
   "source": []
  }
 ],
 "metadata": {
  "anaconda-cloud": {},
  "kernelspec": {
   "display_name": "Python [default]",
   "language": "python",
   "name": "python2"
  },
  "language_info": {
   "codemirror_mode": {
    "name": "ipython",
    "version": 2
   },
   "file_extension": ".py",
   "mimetype": "text/x-python",
   "name": "python",
   "nbconvert_exporter": "python",
   "pygments_lexer": "ipython2",
   "version": "2.7.12"
  }
 },
 "nbformat": 4,
 "nbformat_minor": 0
}
