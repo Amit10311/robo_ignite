{
 "cells": [
  {
   "cell_type": "markdown",
   "metadata": {},
   "source": [
    "# <font class='ign_color'>ROS EN UNA SOLA SEMANA</font>"
   ]
  },
  {
   "cell_type": "markdown",
   "metadata": {},
   "source": [
    "# Capítulo 2: Tópicos"
   ]
  },
  {
   "cell_type": "markdown",
   "metadata": {},
   "source": [
    "<table style=\"width:100%\">\n",
    "  <tr>\n",
    "    <th>Tiempo estimado para completarlo: 2'5 horas<br><br>Qué vas a aprender en esta unidad?\n",
    "<ul>\n",
    "  <li>Qué es un Subscriber y cómo crear uno</li>\n",
    "  <li>Cómo crear tu propio mensaje</li>\n",
    "</ul></th>\n",
    "    <th><img src=\"img/kobuki.jpg\" width=\"212\" height=\"236\" /></th> \n",
    "  </tr>\n",
    "</table>"
   ]
  },
  {
   "cell_type": "markdown",
   "metadata": {},
   "source": [
    "## Parte 2: Subscriber"
   ]
  },
  {
   "cell_type": "markdown",
   "metadata": {},
   "source": [
    "Has aprendido que un tópico es un canal donde los nodos pueden leer o escribir información. Tamnién has visto que puedes escribir en un tópico usando un Publsiher, así que debes estar pensando que debería haber también una herramienta similar para poder leer información de un tópico. Y estás en lo ciert! Eso es un Subscriber. <b>Un Subscriber es un nodo que lee información de un tópico</b>. Ejecutemos el siguiente código:"
   ]
  },
  {
   "cell_type": "markdown",
   "metadata": {},
   "source": [
    "<table style=\"float:left;\">\n",
    "<tr>\n",
    "<th>\n",
    "<p style=\"background:#EE9023;color:white;\">Exercise 2.2</p><br>\n",
    "Ejecuta el siguiente código Python <a href=\"#prg-2-2\">simple_topic_subscriber.py</a> clicando en él y después clicando en el botón de Play en la esquina superior derecha del IPython notebook.<br> \n",
    "<img src=\"img/font-awesome_step-forward.png\" style=\"float:left\"/><br>\n",
    "<br><br>\n",
    "También puedes pulsar <i>[CTRL]+[Enter]</i> para ejecutarlo.<br>\n",
    "<br>\n",
    "</th>\n",
    "</tr>\n",
    "</table>"
   ]
  },
  {
   "cell_type": "markdown",
   "metadata": {},
   "source": [
    "<p style=\"background:#3B8F10;color:white;\" id=\"prg-2-2\">Programa Python {2.2}: simple_topic_subscriber.py </p><br>"
   ]
  },
  {
   "cell_type": "code",
   "execution_count": null,
   "metadata": {
    "collapsed": false
   },
   "outputs": [],
   "source": [
    "#! /usr/bin/env python\n",
    "\n",
    "import rospy\n",
    "from std_msgs.msg import Int32 \n",
    "\n",
    "def callback(msg): \n",
    "  print msg.data\n",
    "\n",
    "rospy.init_node('topic_subscriber')\n",
    "sub = rospy.Subscriber('counter', Int32, callback)\n",
    "rospy.spin()"
   ]
  },
  {
   "cell_type": "markdown",
   "metadata": {},
   "source": [
    "<p style=\"background:#3B8F10;color:white;\">FIN del Programa Python {2.2}: simple_topic_subscriber.py </p><br>"
   ]
  },
  {
   "cell_type": "markdown",
   "metadata": {},
   "source": [
    "Qué ocurre? No sucede nada de nuevo? Bueno, eso no es del todo cierto... Comprobemos algunas cosas."
   ]
  },
  {
   "cell_type": "markdown",
   "metadata": {},
   "source": [
    "Ve a tu consla web y escribe <i>rostopic echo /counter</i>"
   ]
  },
  {
   "cell_type": "markdown",
   "metadata": {},
   "source": [
    "<table style=\"float:left;background: #407EAF\">\n",
    "<tr>\n",
    "<th>\n",
    "<p style=\"background: #FFFFFF\">Ejecuta en el WebShell #1</p><br>\n",
    "rostopic echo /counter<br>\n",
    "</th>\n",
    "</tr>\n",
    "</table>\n",
    "<br>"
   ]
  },
  {
   "cell_type": "markdown",
   "metadata": {},
   "source": [
    "Deberías ver algo como esto:"
   ]
  },
  {
   "cell_type": "markdown",
   "metadata": {},
   "source": [
    "<table style=\"float:left;background: #FFFFFF\">\n",
    "<tr>\n",
    "<th>\n",
    "<p style=\"background: #407EAF\">Salida del WebShell #1</p><br>\n",
    "user ~ $ rostopic echo /counter<br>\n",
    "WARNING: no messages received and simulated time is active.<br>\n",
    "Is /clock being published?<br>\n",
    "</th>\n",
    "</tr>\n",
    "</table>"
   ]
  },
  {
   "cell_type": "markdown",
   "metadata": {},
   "source": [
    "Y qué quiere decir esto? Esto significa que nadie está publicando en el tópico /counter, así que no hay ninguna información para ser leída. Publiquemos algo en el tópico y veamos qué pasa. Para ello, introduzcamos un nuevo comando:"
   ]
  },
  {
   "cell_type": "raw",
   "metadata": {},
   "source": [
    "rostopic pub <nombre_del_topico> <tipo_de_mensaje> <valor>"
   ]
  },
  {
   "cell_type": "markdown",
   "metadata": {},
   "source": [
    "Este comando publicará el mensaje en tópico especificado"
   ]
  },
  {
   "cell_type": "markdown",
   "metadata": {},
   "source": [
    "Abre otra consola web (deja la que tiene el <i>rostopic echo</i> abierta) y escribe el siguiente comando: <i>rostopic pub /counter std_msgs/Int32 5</i>"
   ]
  },
  {
   "cell_type": "markdown",
   "metadata": {},
   "source": [
    "<table style=\"float:left;background: #407EAF\">\n",
    "<tr>\n",
    "<th>\n",
    "<p style=\"background: #FFFFFF\">Ejecuta en el WebShell #2</p><br>\n",
    "rostopic pub /counter std_msgs/Int32 5<br>\n",
    "</th>\n",
    "</tr>\n",
    "</table>\n",
    "<br>"
   ]
  },
  {
   "cell_type": "markdown",
   "metadata": {},
   "source": [
    "Ahora ve y comprueba de nuevo la salida de la consola donde ejecutaste el <i>rostopic echo</i>. Deberías ver algo similar a esto: . "
   ]
  },
  {
   "cell_type": "markdown",
   "metadata": {},
   "source": [
    "<table style=\"float:left;background: #FFFFFF\">\n",
    "<tr>\n",
    "<th>\n",
    "<p style=\"background: #407EAF\">Salida del WebShell #1</p><br>\n",
    "user ~ $ rostopic echo /counter<br>\n",
    "WARNING: no messages received and simulated time is active.<br>\n",
    "Is /clock being published?<br>\n",
    "data:<br>\n",
    "5<br>\n",
    "---<br>\n",
    "</th>\n",
    "</tr>\n",
    "</table>"
   ]
  },
  {
   "cell_type": "markdown",
   "metadata": {},
   "source": [
    "Ahora comprueba la salida del código que acabas de ejecutar en el IPython notebook (es la parte justo debajo del código). Deberías ver algo como esto:"
   ]
  },
  {
   "cell_type": "markdown",
   "metadata": {},
   "source": [
    "<img src=\"img/ipython_output.png\" />"
   ]
  },
  {
   "cell_type": "markdown",
   "metadata": {},
   "source": [
    "Antes de explicarlo todo más detalladamente, analicemos el código que acabas de ejecutar."
   ]
  },
  {
   "cell_type": "code",
   "execution_count": 1,
   "metadata": {
    "collapsed": true
   },
   "outputs": [],
   "source": [
    "#! /usr/bin/env python\n",
    "\n",
    "import rospy                                          \n",
    "from std_msgs.msg import Int32 \n",
    "\n",
    "def callback(msg):                                    # Define una función llamada 'callback' que recibe un parámetro \n",
    "                                                      # llamado 'msg'\n",
    "  \n",
    "    print msg.data                                    # Imprime el valor 'data' dentro del parámetro 'msg'\n",
    "\n",
    "rospy.init_node('topic_subscriber')                   # Inicia un nodo llamado 'topic_subscriber'\n",
    "\n",
    "sub = rospy.Subscriber('counter', Int32, callback)    # Crea un objeto Subscriber que leerá el tópico /counter\n",
    "                                                      #  y llamará a la función 'callback' cada vez que lea algo\n",
    "                                                      #  del tópico\n",
    "rospy.spin()                                          # Crea un bucle que mantendrá el programa en ejecución "
   ]
  },
  {
   "cell_type": "markdown",
   "metadata": {},
   "source": [
    "Ahora sí, expliquemos qué acaba de suceder. Básicamente, has creado un nodo Subscriber que escucha al tópico /counter y cada vez que lee algo llama a una función que imprime el parámetro msg. Inicialmente no sucedió nada porque nadie estaba publicando en el tópico /counter, pero cuando has ejecutado el comando <i>rostopic pub</i>, has publicado un mensaje en el tópico /counter, así que la función ha impreso el número en la salida del Ipython notebook y también has podido ver ese mensaje en la salida del <i>rostopic echo</i>. Ahora todo cobra sentido, verdad?"
   ]
  },
  {
   "cell_type": "markdown",
   "metadata": {},
   "source": [
    "Ahora hagamos algunos ejercicios para poner en práctica lo que acabas de aprender!"
   ]
  },
  {
   "cell_type": "markdown",
   "metadata": {},
   "source": [
    "<table style=\"float:left;\">\n",
    "<tr>\n",
    "<th>\n",
    "<p id=\"ex-2.3\" style=\"background:#EE9023;color:white;\">Ejercicio 2.3</p><br>\n",
    "Crea un paquete que lance el código. Modifícalo para que imprima la odometría del robot.<br>\n",
    "<p style=\"background:#3B8F10;color:white;\">Información para el Ejercicio 2.3</p><br>\n",
    "<ol>\n",
    "<li><font color='green'><b>La odometría del robot se publica en el tópico /odom.</b></font></li>\n",
    "<li><font color='green'><b>Necesitarás averiguar qué tipo de mensaje usa el tópico /odom, y cómo es la estructura del mensaje.</b></font></li>\n",
    "</ol>\n",
    "</th>\n",
    "</tr>\n",
    "</table>"
   ]
  },
  {
   "cell_type": "markdown",
   "metadata": {},
   "source": [
    "<table style=\"float:left;\">\n",
    "<tr>\n",
    "<th>\n",
    "<p style=\"background:#EE9023;color:white;\">Ejercicio 2.4</p><br>\n",
    "<ol>\n",
    "<li>Añade al paquete anterior <a href=\"#ex-2.3\">{Ejercicio 2.3}</a>, un fichero Python que cree un Publisher que indique la edad del robot.</li>\n",
    "<li>Para ello, necesitarás crear un nuevo mensaje llamado Age.msg. Lee la siguiente información detallada <a href=\"#custom_topic_compilation\">Cómo preparar los ficheros CMakeLists.txt y package.xml para la compilación de mensajes de tópicos personalizados</a></li>\n",
    "</ol>\n",
    "</th>\n",
    "</tr>\n",
    "</table>"
   ]
  },
  {
   "cell_type": "markdown",
   "metadata": {},
   "source": [
    "<div id=\"custom_topic_compilation\"></div>"
   ]
  },
  {
   "cell_type": "markdown",
   "metadata": {},
   "source": [
    "## Cómo preparar los ficheros CMakeLists.txt y package.xml para la compilación de mensajes de tópicos personalizados"
   ]
  },
  {
   "cell_type": "markdown",
   "metadata": {},
   "source": [
    "Ahora te estarás preguntando... y cómo creo un mensaje nuevo? Expliquemos algunas cosas."
   ]
  },
  {
   "cell_type": "markdown",
   "metadata": {},
   "source": [
    "Para crear un mensaje necesitarás:\n",
    "<ul>\n",
    "  <li>Crea un directorio llamado 'msg' dentro de tu paquete</li>\n",
    "  <li>Dentro de este directorio, crea un fichero llamado Age.msg (más información abajo)</li>\n",
    "  <li>Modifica el fichero package.xml (más información abajo)</li>\n",
    "  <li>Modifica el fichero CMakeLists.txt (más información abajo)</li>\n",
    "  <li>Compila</li>\n",
    "  <li>Usa el mensaje en el código</li>\n",
    "</ul>"
   ]
  },
  {
   "cell_type": "markdown",
   "metadata": {},
   "source": [
    "El fichero <b>Age.msg</b> debe contener esto:"
   ]
  },
  {
   "cell_type": "raw",
   "metadata": {},
   "source": [
    "  float32 years\n",
    "  float32 months\n",
    "  float32 days"
   ]
  },
  {
   "cell_type": "markdown",
   "metadata": {},
   "source": [
    "<b>Modifica el package.xml</b>"
   ]
  },
  {
   "cell_type": "raw",
   "metadata": {},
   "source": [
    "<build_depend>message_generation</build_depend> \n",
    "<run_depend>message_runtime</run_depend>"
   ]
  },
  {
   "cell_type": "markdown",
   "metadata": {},
   "source": [
    "Simplemente añade estas 2 líneas a tu fichero package.xml."
   ]
  },
  {
   "cell_type": "markdown",
   "metadata": {},
   "source": [
    "Esto es lo mínimo que debe contener el package.xml"
   ]
  },
  {
   "cell_type": "raw",
   "metadata": {},
   "source": [
    "<?xml version=\"1.0\"?>\n",
    "<package>\n",
    "  <name>topic_ex</name>\n",
    "  <version>0.0.0</version>\n",
    "  <description>The topic_ex package</description>\n",
    "\n",
    "\n",
    "  <maintainer email=\"user@todo.todo\">user</maintainer>\n",
    "\n",
    "  <license>TODO</license>\n",
    "\n",
    " <buildtool_depend>catkin</buildtool_depend>\n",
    "  <build_depend>rospy</build_depend>\n",
    "  <build_depend>message_generation</build_depend> \n",
    "  <run_depend>rospy</run_depend>\n",
    "  <run_depend>message_runtime</run_depend>\n",
    "\n",
    "  <export>\n",
    "\n",
    "  </export>\n",
    "</package>"
   ]
  },
  {
   "cell_type": "markdown",
   "metadata": {},
   "source": [
    "### En el CMakeLists.txt"
   ]
  },
  {
   "cell_type": "markdown",
   "metadata": {},
   "source": [
    "Tendrás que editar estas 4 funciones dentro del CMakeLists.txt:\n",
    "<ul>\n",
    "<li><span style=\"color:green\"><a href=\"#find_package\">find_package()</a></span></li>\n",
    "<li><span style=\"color:green\"><a href=\"#add_message_files\">add_message_files()</a></span></li>\n",
    "<li><span style=\"color:green\"><a href=\"#generate_messages\">generate_messages()</a></span></li>\n",
    "<li><span style=\"color:green\"><a href=\"#catkin_package\">catkin_package()</a></span></li>\n",
    "</ul>"
   ]
  },
  {
   "cell_type": "markdown",
   "metadata": {},
   "source": [
    "<span style=\"color: green\" id=\"find_package\">find_package()</span>"
   ]
  },
  {
   "cell_type": "markdown",
   "metadata": {},
   "source": [
    "Aquí van todos los paquetes necesarios para COMPILAR los mensajes de tópicos, servicios y actions. Simplemente está cogiendo sus paths, no los está importando para usarlos en la compilación. Simplemente es para que futuras funciones del CMakeLists.txt sean capaces de encontrar esos paquetes.\n",
    "En el package.xml debes colocarlos como <b>build_depend</b>.\n"
   ]
  },
  {
   "cell_type": "markdown",
   "metadata": {},
   "source": [
    "<font color='green'><b>PISTA 1: Si abres el fichero CMakeLists.txt en tu IDE, verás que prácticamente todo el fichero está comentado. Esto incluye algunas de las líneas que tendrás que modificar. En vez de copiar/pegar las funciones que verás abajo, encuéntralas en el fichero y descoméntalas, y entonces añade las partes que faltan.</b></font>"
   ]
  },
  {
   "cell_type": "raw",
   "metadata": {},
   "source": [
    "find_package(catkin REQUIRED COMPONENTS\n",
    "       rospy\n",
    "       std_msgs\n",
    "       message_generation   # Añade message_generation aquí, después de los otros paquetes\n",
    ")"
   ]
  },
  {
   "cell_type": "markdown",
   "metadata": {},
   "source": [
    "<span style=\"color: green\" id=\"catkin_package\">catkin_package()</span>"
   ]
  },
  {
   "cell_type": "markdown",
   "metadata": {},
   "source": [
    "Coloca aquí todos los paquetes que serán necesarios para alguien que ejecute algo de tu paquete.\n",
    "Todos los paquetes que estén aquí deben estar en el package.xml como <b>run_depend</b>."
   ]
  },
  {
   "cell_type": "raw",
   "metadata": {},
   "source": [
    "catkin_package(\n",
    "      CATKIN_DEPENDS message_runtime   # Esto NO será lo único que contenga esta función\n",
    ")"
   ]
  },
  {
   "cell_type": "markdown",
   "metadata": {},
   "source": [
    "<span style=\"color: green\" id=\"add_message_files\">add_message_files()</span>"
   ]
  },
  {
   "cell_type": "markdown",
   "metadata": {},
   "source": [
    "En esta función pondremos todos los mensajes de este paquete ( dentro del directorio msg ) que queramos compilar.<br> Podemos indicar que coja todos los mensajes dentro del directorio msg: DIRECTORY msg<br> \n",
    "o simplemente los mensajes especificados: FILES my_custom_action.msg.<br>\n",
    "En tu caso puedes hacer cualquiera de las 2, como prefieras."
   ]
  },
  {
   "cell_type": "raw",
   "metadata": {},
   "source": [
    "add_message_files(\n",
    "      FILES\n",
    "      Age.msg\n",
    "    ) # No te olvides de DESCOMENTAR el paréntesis y add_message_files"
   ]
  },
  {
   "cell_type": "markdown",
   "metadata": {},
   "source": [
    "<span style=\"color: green\" id=\"generate_messages\">generate_messages()</span>"
   ]
  },
  {
   "cell_type": "markdown",
   "metadata": {},
   "source": [
    "Aquí es donde los paquetes necesarios para la compilación de los mensajes son importados."
   ]
  },
  {
   "cell_type": "raw",
   "metadata": {},
   "source": [
    "generate_messages(\n",
    "      DEPENDENCIES\n",
    "      std_msgs\n",
    ") "
   ]
  },
  {
   "cell_type": "markdown",
   "metadata": {},
   "source": [
    "Esto es lo mínimo que debe contener el fichero CMakaelist.txt para funcionar:"
   ]
  },
  {
   "cell_type": "raw",
   "metadata": {},
   "source": [
    "cmake_minimum_required(VERSION 2.8.3)\n",
    "project(topic_ex)\n",
    "\n",
    "find_package(catkin REQUIRED COMPONENTS\n",
    "  std_msgs\n",
    "  message_generation\n",
    ")\n",
    "\n",
    " add_message_files(\n",
    "   FILES\n",
    "   Age.msg\n",
    " )\n",
    "\n",
    " generate_messages(\n",
    "   DEPENDENCIES\n",
    "   std_msgs\n",
    " )\n",
    "\n",
    "\n",
    "catkin_package(\n",
    "  CATKIN_DEPENDS rospy message_runtime\n",
    ")\n",
    "\n",
    "include_directories(\n",
    "  ${catkin_INCLUDE_DIRS}\n",
    ")"
   ]
  },
  {
   "cell_type": "markdown",
   "metadata": {},
   "source": [
    "Ahora debes compilar los mensajes. Para ello escribe en una WebShell lo siguiente:"
   ]
  },
  {
   "cell_type": "markdown",
   "metadata": {},
   "source": [
    "<table style=\"float:left;background: #407EAF\">\n",
    "<tr>\n",
    "<th>\n",
    "<p style=\"background: #FFFFFF\">Ejecuta en el WebShell #1</p><br>\n",
    "roscd; cd ..<br>\n",
    "catkin_make<br>\n",
    "source devel/setup.bash<br>\n",
    "</th>\n",
    "</tr>\n",
    "</table>\n",
    "<br>"
   ]
  },
  {
   "cell_type": "markdown",
   "metadata": {},
   "source": [
    "<span style=\"color: red\">\n",
    "Esto es realmente importante! Cuando compilar mensajes a través de catkin_make hay un paso extra. Debes escribir en la consola, en el directorio catkin_ws: source devel/setup.bash. Esto ejecuta este fichero bash que configura, entre otras cosas, los nuevos mensajes generados a través del catkin_make.<br>\n",
    "Si no haces esto, podrías tener un error de importación de Python, diciendo que no encuentra el mensajes generado.\n",
    "</span>"
   ]
  },
  {
   "cell_type": "markdown",
   "metadata": {},
   "source": [
    "<font color='green'><b>PISTA 2: Para verificar que tu mensaje ha sido creado correctamente, escribe en tu web shell <i>rosmsg show Age</i>. Si la estructura del mensaje Age aparece, quiere decir que tu mensaje ha sido creado correctamente y está listo para ser usado.</b></font>"
   ]
  },
  {
   "cell_type": "markdown",
   "metadata": {},
   "source": [
    "<table style=\"float:left;background: #407EAF\">\n",
    "<tr>\n",
    "<th>\n",
    "<p style=\"background: #FFFFFF\">Ejecuta en el WebShell #1</p><br>\n",
    "rosmsg show Age<br>\n",
    "</th>\n",
    "</tr>\n",
    "</table>\n",
    "<br>"
   ]
  },
  {
   "cell_type": "markdown",
   "metadata": {},
   "source": [
    "<table style=\"float:left;background: #FFFFFF\">\n",
    "<tr>\n",
    "<th>\n",
    "<p style=\"background: #407EAF\">Salida del WebShell #1</p><br>\n",
    "user ~ $ rosmsg show Age<br>\n",
    "[topic_ex/Age]:<br>\n",
    "float32 years<br>\n",
    "float32 months<br>\n",
    "float32 days<br>\n",
    "</th>\n",
    "</tr>\n",
    "</table>"
   ]
  },
  {
   "cell_type": "markdown",
   "metadata": {},
   "source": [
    "<table style=\"float:left;background: white\">\n",
    "<tr>\n",
    "<th>\n",
    "<p style=\"background: orange\">ATENCIÓN</p><br>\n",
    "Hay un problema en ROS que puede dar problemas al importar los mensajes del directorio msg. Si tu paquete tiene el mismo nombre que el fichero Python que hace el import del mensaje, tendrás un error de que no encuentra el directorio msg. Esto es debido al funcionamiento de Python, así que debes tener cuidado de no nombrar el fichero Python exactamente igual que el nombre del paquete que lo contiene.<br>\n",
    "Ejemplo:<br>\n",
    "nombre del paquete = \"my_package\" y nombre del fichero Python = \"my_package.py\", dará un error de import porque <span style=\"color:orange\">intentará importar del fichero my_package.py el mensaje de un directorio .msg que no existe.</span>\n",
    "</th>\n",
    "</tr>\n",
    "</table>\n",
    "<br>"
   ]
  },
  {
   "cell_type": "markdown",
   "metadata": {
    "collapsed": true
   },
   "source": [
    "## Mini Proyecto de Tópicos"
   ]
  },
  {
   "cell_type": "markdown",
   "metadata": {},
   "source": [
    "Con todo lo que has aprendido durante esta unidad, ya eres capaz de hacer un pequeño proyecto para ponerlo todo en práctica. Subscribers, Publisher, Mensajes... necesitarás usar todos estos conceptos para tener éxito!"
   ]
  },
  {
   "cell_type": "markdown",
   "metadata": {},
   "source": [
    "En este proyecto, crearás un código para hacer que el robot esquive el muro que tiene delante. Para ayudarte a conseguirlo, dividamos el proyecto en partes más pequeñas:\n",
    "<ul>\n",
    "<li>1. Necesitarás crear un Publisher que escriba en el tópico /cmd_vel para mover el robot.</li>\n",
    "<li>2. Necesitarás crear un Subscriber que lea del tópico /kobuki/laser/scan. Este es el tópico en el que el láser publica sus lecturas.</li>\n",
    "<li>3. Dependiendo de las lecturas que hagas del tópico del láser, tendrás que cambiar los mensajes que le mandas al tópico /cmd_vel, para poder esquivar el muro.</li>"
   ]
  },
  {
   "cell_type": "markdown",
   "metadata": {},
   "source": [
    "<font color='green'><b>PISTA 1: La información que se publica en el tópico /kobuki/laser/scan tiene una estructura muy grande. Para este proyecto, simplemente debes prestar atención al array 'ranges'.</b></font>"
   ]
  },
  {
   "cell_type": "markdown",
   "metadata": {},
   "source": [
    "<table style=\"float:left;background: #407EAF\">\n",
    "<tr>\n",
    "<th>\n",
    "<p style=\"background: #FFFFFF\">Ejecuta en el WebShell #1</p><br>\n",
    "rosmsg show sensor_msgs/LaserScan<br>\n",
    "</th>\n",
    "</tr>\n",
    "</table>\n",
    "<br>"
   ]
  },
  {
   "cell_type": "markdown",
   "metadata": {},
   "source": [
    "<table style=\"float:left;background: #FFFFFF\">\n",
    "<tr>\n",
    "<th>\n",
    "<p style=\"background: #407EAF\">Salida del WebShell #1</p><br>\n",
    "user ~ $ rosmsg show sensor_msgs/LaserScan<br>\n",
    "std_msgs/Header header<br>\n",
    "  uint32 seq<br>\n",
    "  time stamp<br>\n",
    "  string frame_id<br>\n",
    "float32 angle_min<br>\n",
    "float32 angle_max<br>\n",
    "float32 angle_increment<br>\n",
    "float32 time_increment<br>\n",
    "float32 scan_time<br>\n",
    "float32 range_min<br>\n",
    "float32 range_max<br>\n",
    "float32[] ranges<br>\n",
    "float32[] intensities<br>\n",
    "</th>\n",
    "</tr>\n",
    "</table>"
   ]
  },
  {
   "cell_type": "markdown",
   "metadata": {},
   "source": [
    "<font color='green'><b>PISTA 2: El array 'ranges' contiene muchos valores. Los valores del medio representan las lecturas que el láser está haciendo justo en frente suyo. Esto quiere decir que los valores del medio del array serán los que detectarán el muro. Así que para poder detectar y esquivar el muro, sólo necesitas leer estos valores.</b></font>"
   ]
  },
  {
   "cell_type": "markdown",
   "metadata": {},
   "source": [
    "<font color='green'><b>PISTA 3: El láser tiene un rango de 30m. Cuando recibas lecturas de valores alrededor de 30, significa que el láser no está detectando nada. Si recibes valores por debajo de 30, significará que el láser está detectando algun tipo de obstáculo en esa dirección.</b></font>"
   ]
  },
  {
   "cell_type": "markdown",
   "metadata": {},
   "source": [
    "<font color='green'><b>PISTA 4: El alcance del laser es de aproximadamente 180 grados. Esto significa que los valores del principio y el final del array 'ranges' serán los que correspondan a las lecturas de los laterales del láser, mientras que los valores del medio del array serán los relacionados con las lecturas en frente del láser.</b></font>"
   ]
  },
  {
   "cell_type": "markdown",
   "metadata": {},
   "source": [
    "## Material adicional para aprender más"
   ]
  },
  {
   "cell_type": "markdown",
   "metadata": {
    "collapsed": true
   },
   "source": [
    "Tópicos ROS: http://wiki.ros.org/Topics<br>\n",
    "Mensajes ROS: http://wiki.ros.org/Messages<br>\n",
    "Ficheros msg: http://wiki.ros.org/msg<br>\n",
    "Crear un Publisher y Subscriber (Python): http://wiki.ros.org/ROS/Tutorials/WritingPublisherSubscriber(python)<br>\n",
    "Examinando el Publisher y el Subscriber: http://wiki.ros.org/ROS/Tutorials/ExaminingPublisherSubscriber"
   ]
  }
 ],
 "metadata": {
  "anaconda-cloud": {},
  "kernelspec": {
   "display_name": "Python [Root]",
   "language": "python",
   "name": "Python [Root]"
  },
  "language_info": {
   "codemirror_mode": {
    "name": "ipython",
    "version": 2
   },
   "file_extension": ".py",
   "mimetype": "text/x-python",
   "name": "python",
   "nbconvert_exporter": "python",
   "pygments_lexer": "ipython2",
   "version": "2.7.12"
  }
 },
 "nbformat": 4,
 "nbformat_minor": 0
}
