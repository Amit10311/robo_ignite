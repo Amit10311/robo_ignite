{
 "cells": [
  {
   "cell_type": "markdown",
   "metadata": {},
   "source": [
    "# <font class='ign_color'>ROS IN A SINGLE WEEK</font>"
   ]
  },
  {
   "cell_type": "markdown",
   "metadata": {},
   "source": [
    "# 单元 3: Services 在ROS"
   ]
  },
  {
   "cell_type": "markdown",
   "metadata": {},
   "source": [
    "<table style=\"width:100%\">\n",
    "  <tr>\n",
    "    <th>预计完成时间: 2'5 小时<br><br>你将在这个单元学到什么？\n",
    "<ul>\n",
    "  <li>什么是service</li>\n",
    "  <li>如何控制机器人的service</li>\n",
    "  <li>如何呼叫service </li>\n",
    "</ul></th>\n",
    "    <th><img src=\"img/iri_wam.jpg\" width=\"239\" height=\"238\" /></th> \n",
    "  </tr>\n",
    "</table>"
   ]
  },
  {
   "cell_type": "markdown",
   "metadata": {},
   "source": [
    "## 第一部分"
   ]
  },
  {
   "cell_type": "markdown",
   "metadata": {},
   "source": [
    "恭喜你目前已经学会了 <b>50%</b> 的ROS基础知识！<br>\n",
    "其实使用topics你就大致可以为你的宇航技工机器人（astromech droid）做任何你所需和想做的。很多ROS包只需使用topics就能完美完成工作。<br><br>\n",
    "那为何还要学习 <b>服务（Services）</b>呢? <br>\n",
    "这是因为在一些情况下，使用topics太过繁琐或有不足之处。你当然可以自己写一个程式，但service就像是他人已经为你写好了一些功能强大的函式，你只需要把这个函式需要的输入丢给他，他就会帮你处理然后再把结果反馈给你。 Services协助我们的工作更加高效。"
   ]
  },
  {
   "cell_type": "markdown",
   "metadata": {},
   "source": [
    "## Topics - Services - Actions"
   ]
  },
  {
   "cell_type": "markdown",
   "metadata": {},
   "source": [
    "要了解什么services和如何运用它，就需要将其与topics和actions进行比较。<br>\n",
    "想象一下你有一个BB-8机器人。 它具有激光传感器，面部识别系统和导航系统。 激光将使用 <b>Topics</b> 发布所有激光在20hz的读数。 我们使用topics是因为我们随时需要信息来用于其它系统，比如用于导航系统对信息的读取。<br><br>\n",
    "面部识别系统将使用 <b>Service</b>. 你将调用Service，然后<b>等待</b>直到它识别并给出在BB-8面前的人的名称。<br>\n",
    "导航系统将使用 <b>Action</b>。你将调用Action来进行移动操作，<b>当</b>它在执行此任务时你还可以干点别的，比如想想今晚吃点什么之类的。Action将沿着移动到坐标的过程给予<b>反馈</b> (比如说：到所目标坐标的距离)。\n"
   ]
  },
  {
   "cell_type": "markdown",
   "metadata": {},
   "source": [
    "所以...<b>Service</b> 和 <b>Action</b> 有什么区别呢？<br>\n",
    "Services是<b>同步</b>的。当你使用它时，在它给你一个结果前你不能做其它操作（比如使其停止）。\n",
    "<br>\n",
    "Actions是<b>异步</b>的. 这好比一个可控的穿针引线的过程，比如你开始运行一个设好的让机器人动的程序，过程中突然出现其它障碍物，如果使用service，它是不会停下来的。相反，使用actions，是可以被停止的，执行的状态更为直观可控。"
   ]
  },
  {
   "cell_type": "markdown",
   "metadata": {},
   "source": [
    "<strong> 总结: 使用services时，在你执行完某过程前你无法继续其它操作。 </strong>"
   ]
  },
  {
   "cell_type": "markdown",
   "metadata": {},
   "source": [
    "## Services 简介"
   ]
  },
  {
   "cell_type": "markdown",
   "metadata": {},
   "source": [
    "介绍已经够多了, 现在让我们实践到机器人中吧!<br>\n",
    "到 <i>仿真程序终端（terminal）</i> ，然后做以下操作:"
   ]
  },
  {
   "cell_type": "markdown",
   "metadata": {},
   "source": [
    "<table style=\"float:left;background: #407EAF\">\n",
    "<tr>\n",
    "<th>\n",
    "<p style=\"background: #FFFFFF\">在WebShell #1中执行</p><br>\n",
    "roslaunch iri_wam_aff_demo start_demo.launch<br>\n",
    "</th>\n",
    "</tr>\n",
    "</table>\n",
    "<br>"
   ]
  },
  {
   "cell_type": "markdown",
   "metadata": {},
   "source": [
    "这将使 Wam机器人模拟手臂 (robot-arm） 移动.<br>\n",
    "\n",
    "### 你刚刚做了什么?<br>\n",
    "\n",
    "启动文件启动了两个节点:                                                                                                         \n",
    "<ul>\n",
    "  <li>/iri_wam_reproduce_trajectory</li>\n",
    "  <li>/iri_wam_aff_demo</li>\n",
    "</ul>\n",
    "\n",
    "第一个节点提供了 <i>/execute_trajectory</i> 的service. 这是包含 <b>service server</b>的节点.\n",
    "第二个节点, 执行对该service的调用. 当service被调用时, 机器人将根据给定的轨迹运行。这是包含 <b>service client</b>的节点。<br>\n",
    "\n",
    "#### 让我们来了解更多 services。\n",
    "\n",
    "让我们先来看看Wam机器人可用的services列表. 首先, 打开另一个shell. 你必须让 <i>start_demo.launch</i> 保持运行，否则services将不会在那看到它们。<br>\n",
    "\n",
    "<table style=\"float:left;\">\n",
    "<tr>\n",
    "<th>\n",
    "在那个运行 roslaunch <i style=\"color: green\">start_demo.launch</i> 的shell中执行以下命令:\n",
    "</th>\n",
    "</tr>\n",
    "</table>"
   ]
  },
  {
   "cell_type": "markdown",
   "metadata": {},
   "source": [
    "<table style=\"float:left;background: #407EAF\">\n",
    "<tr>\n",
    "<th>\n",
    "<p style=\"background: #FFFFFF\">在WebShell #2中执行</p><br>\n",
    "rosservice list<br>\n",
    "</th>\n",
    "</tr>\n",
    "</table>\n",
    "<br>"
   ]
  },
  {
   "cell_type": "markdown",
   "metadata": {},
   "source": [
    "你应该看到类似以下的画面, 列出了所有可用的services:"
   ]
  },
  {
   "cell_type": "markdown",
   "metadata": {},
   "source": [
    "<table style=\"float:left;background: #FFFFFF\">\n",
    "<tr>\n",
    "<th>\n",
    "<p style=\"background: #407EAF\">WebShell #2 Output</p><br>\n",
    "user ~ $ rosservice list<br>\n",
    "/camera/rgb/image_raw/compressed/set_parameters<br>\n",
    "/camera/rgb/image_raw/compressedDepth/set_parameters<br>\n",
    "/camera/rgb/image_raw/theora/set_parameters<br>\n",
    "/camera/set_camera_info<br>\n",
    "/camera/set_parameters<br>\n",
    "<span style=\"color: orange\">/execute_trajectory</span><br>\n",
    "/gazebo/apply_body_wrench<br>\n",
    "...\n",
    "</th>\n",
    "</tr>\n",
    "</table>"
   ]
  },
  {
   "cell_type": "markdown",
   "metadata": {},
   "source": [
    "<font color='red'><b>注意: 如果 /execute_trajectory 服务器未列出，有可能是因为你停止了 <i>start_demo.launch</i>。 如果是这样的情况，请重新启动并再次检查service。</b></font>"
   ]
  },
  {
   "cell_type": "markdown",
   "metadata": {},
   "source": [
    "services很少是吗？有些归于模拟器系统（如  /gazebo/... ），有些归于 Kinect Camera 相机（如/camera/...） 或归于机器人本身 （如 /iri_wam/...）.\n",
    "你可以看到service <i>/execute_trajectory</i> 如何在此列出。<br>\n",
    "\n",
    "\n",
    "你可以通过发出以下指令来获取更多关于任一service的更多信息："
   ]
  },
  {
   "cell_type": "raw",
   "metadata": {},
   "source": [
    "rosservice info /name_of_your_service"
   ]
  },
  {
   "cell_type": "markdown",
   "metadata": {},
   "source": [
    "<table style=\"float:left;\">\n",
    "<tr>\n",
    "<th>\n",
    "执行以下指令以获取更多 <i>/execute_trajectory</i>的相关信息:\n",
    "</th>\n",
    "</tr>\n",
    "</table>"
   ]
  },
  {
   "cell_type": "markdown",
   "metadata": {},
   "source": [
    "<table style=\"float:left;background: #407EAF\">\n",
    "<tr>\n",
    "<th>\n",
    "<p style=\"background: #FFFFFF\">在 WebShell #2中执行</p><br>\n",
    "rosservice info /execute_trajectory<br>\n",
    "</th>\n",
    "</tr>\n",
    "</table>\n",
    "<br>"
   ]
  },
  {
   "cell_type": "markdown",
   "metadata": {},
   "source": [
    "<table style=\"float:left;background: #FFFFFF\">\n",
    "<tr>\n",
    "<th>\n",
    "<p style=\"background: #407EAF\">WebShell #2 输出</p><br>\n",
    "user ~ $ rosservice info /execute_trajectory<br>\n",
    "Node: /iri_wam_reproduce_trajectory<br>\n",
    "URI: rosrpc://ip-172-31-17-169:35175<br>\n",
    "Type: iri_wam_reproduce_trajectory/ExecTraj<br>\n",
    "Args: file<br>\n",
    "</th>\n",
    "</tr>\n",
    "</table>"
   ]
  },
  {
   "cell_type": "markdown",
   "metadata": {},
   "source": [
    "这里你有两个数据的相关部分.\n",
    "<ul>\n",
    "<li>节点: 声明给出该service的节点。 这是当你请求service时，将执行你的代码的程序。</li>\n",
    "<li>类型：它表示该service使用的消息类型。 它与topics有相同的结构。 它总是由 <i>package_where_the_service_message_is_defined</i><b> / </b> <i>Name_of_the_File_where_Service_message_is_defined</i>构成。在这种情况下的包是 <i>iri_wam_reproduce_trajectory</i>，而定义service消息的文件叫 <i>ExecTraj</i>。</li>\n",
    "<li>Args: 这里你可以找到这个service调用时需要的参数。 在这种情况下，它只需要把一个<i>轨迹文件路径（trajectory file path）</i> 存储在变量<i>文件</i>中。</li>\n",
    "</ul>"
   ]
  },
  {
   "cell_type": "markdown",
   "metadata": {},
   "source": [
    "想知道这个 <i>/execute_trajectory</i> Service 是如何启动的？<br>\n",
    "\n",
    "<table style=\"float:left;\">\n",
    "<tr>\n",
    "<th>\n",
    "通过WebShell检查 <i>start_demo.launch</i> 文件。\n",
    "</th>\n",
    "</tr>\n",
    "</table><br><br>"
   ]
  },
  {
   "cell_type": "markdown",
   "metadata": {},
   "source": [
    "你还记得如何直接找到包以及在哪里找到启动文件吗？<br>"
   ]
  },
  {
   "cell_type": "markdown",
   "metadata": {},
   "source": [
    "<table style=\"float:left;background: #407EAF\">\n",
    "<tr>\n",
    "<th>\n",
    "<p style=\"background: #FFFFFF\">在WebShell #2中执行</p><br>\n",
    "roscd iri_wam_aff_demo<br>\n",
    "cd launch/<br>\n",
    "cat start_demo.launch<br>\n",
    "</th>\n",
    "</tr>\n",
    "</table>\n",
    "<br>"
   ]
  },
  {
   "cell_type": "markdown",
   "metadata": {},
   "source": [
    "你应该得到如下所示的东西："
   ]
  },
  {
   "cell_type": "raw",
   "metadata": {},
   "source": [
    "<launch>\n",
    "\n",
    "  <include file=\"$(find iri_wam_reproduce_trajectory)/launch/start_service.launch\"/>\n",
    "\n",
    "  <node pkg =\"iri_wam_aff_demo\"\n",
    "        type=\"iri_wam_aff_demo_node\"\n",
    "        name=\"iri_wam_aff_demo\"\n",
    "        output=\"screen\">\n",
    "  </node>\n",
    "\n",
    "</launch>"
   ]
  },
  {
   "cell_type": "markdown",
   "metadata": {},
   "source": [
    "第一步，调用另一个启动文件。<br>该启动文件启动提供 <i>/execute_trajectory</i> service的节点。 注意，它使用一个特殊的ROS启动文件函数来找到给定的包的路径。<br>"
   ]
  },
  {
   "cell_type": "raw",
   "metadata": {
    "raw_mimetype": "text/html"
   },
   "source": [
    "<include file=\"$(find package_where_launch_is)/launch/my_launch_file.launch\"/>"
   ]
  },
  {
   "cell_type": "markdown",
   "metadata": {},
   "source": [
    "第二步启动一个节点，就像你在 <b>ROS Basics Unit</b> 学到的。它将调用 <i>/execute_trajectory</i> 服务以使机器人移动。 "
   ]
  },
  {
   "cell_type": "raw",
   "metadata": {
    "raw_mimetype": "text/html"
   },
   "source": [
    "<node pkg =\"package_where_cpp_is\"\n",
    "\ttype=\"name_of_binary_after_compiling_cpp\"\n",
    "        name=\"name_of_the_node_initialised_in_cpp\"\n",
    "        output=\"screen\">\n",
    "  </node>"
   ]
  },
  {
   "cell_type": "markdown",
   "metadata": {},
   "source": [
    "## 如何调用一个 service"
   ]
  },
  {
   "cell_type": "markdown",
   "metadata": {},
   "source": [
    "你可以在控制台手动调用service。 这对于测试非常有帮助，并且具有service工作原理的基本概念。"
   ]
  },
  {
   "cell_type": "raw",
   "metadata": {},
   "source": [
    "rosservice call /the_service_name TAB-TAB"
   ]
  },
  {
   "cell_type": "markdown",
   "metadata": {},
   "source": [
    "<font color=\"green\"><b>信息: <i>TAB-TAB</i> 表示你必须快速按下 <i>TAB</i> 键两次。 这将自动补全将被发送的Service消息的结构。只需要填写一个值。</b></font><br>"
   ]
  },
  {
   "cell_type": "markdown",
   "metadata": {},
   "source": [
    "<table style=\"float:left;\">\n",
    "<tr>\n",
    "<th>\n",
    "调用名为 <i>/gazebo/delete_model</i> 的service。\n",
    "</th>\n",
    "</tr>\n",
    "</table>"
   ]
  },
  {
   "cell_type": "markdown",
   "metadata": {},
   "source": [
    "<table style=\"float:left;background: #407EAF\">\n",
    "<tr>\n",
    "<th>\n",
    "<p style=\"background: #FFFFFF\">在 WebShell #2中执行</p><br>\n",
    "rosservice call /gazebo/delete_model [TAB]+[TAB]<br>\n",
    "</th>\n",
    "</tr>\n",
    "</table>\n",
    "<br>"
   ]
  },
  {
   "cell_type": "markdown",
   "metadata": {},
   "source": [
    "当你点击 [TAB]+[TAB] ，ROS 自动补全并具有一个需要输入／请求service的结构。<br>\n",
    "这种情况下，它将给出以下结构：<br>\n",
    "    \"model_name: '<span style=\"color: blue\">the_name_of_the_object_you_want_to_delete</span>'\""
   ]
  },
  {
   "cell_type": "markdown",
   "metadata": {},
   "source": [
    "这是一个由模拟器提供的Service允许你删除场景中的任何物体。\n",
    "\n",
    "<table style=\"float:left;\">\n",
    "<tr>\n",
    "<th>\n",
    "尝试删除桌子. 它的模型名（model_name）是 <i>cafe_table</i>。<br>\n",
    "</th>\n",
    "</tr>\n",
    "</table>"
   ]
  },
  {
   "cell_type": "markdown",
   "metadata": {},
   "source": [
    "<table style=\"float:left;background: #407EAF\">\n",
    "<tr>\n",
    "<th>\n",
    "<p style=\"background: #FFFFFF\">在 WebShell #2中执行</p><br>\n",
    "rosservice call /gazebo/delete_model \"model_name: 'cafe_table'\"<br>\n",
    "</th>\n",
    "</tr>\n",
    "</table>\n",
    "<br>"
   ]
  },
  {
   "cell_type": "markdown",
   "metadata": {},
   "source": [
    "它消失了吗？干得好！<br>\n",
    "想获得所有在模拟器中的模型名（model_names）列表吗？"
   ]
  },
  {
   "cell_type": "markdown",
   "metadata": {},
   "source": [
    "<table style=\"float:left;background: #407EAF\">\n",
    "<tr>\n",
    "<th>\n",
    "<p style=\"background: #FFFFFF\">在 WebShell #2中执行</p><br>\n",
    "rostopic echo /gazebo/model_states -n1<br>\n",
    "</th>\n",
    "</tr>\n",
    "</table>\n",
    "<br>"
   ]
  },
  {
   "cell_type": "markdown",
   "metadata": {},
   "source": [
    "<font color=\"red\"><b>但别太激动把物体都删除了，否则你最后连个机器人都没有。</b></font>"
   ]
  },
  {
   "cell_type": "markdown",
   "metadata": {},
   "source": [
    "但你如何与一个service编程相互作用呢？<br>\n",
    "\n",
    "<table style=\"float:left;\">\n",
    "<tr>\n",
    "<th>\n",
    "尝试执行这段Python代码。<br>\n",
    "</th>\n",
    "</tr>\n",
    "</table>"
   ]
  },
  {
   "cell_type": "markdown",
   "metadata": {},
   "source": [
    "<table style=\"float:left;\">\n",
    "<tr>\n",
    "<th>\n",
    "<p style=\"background:#407EAF;color:white;\">例子 3.1</p><br>\n",
    "执行以下的Python代码 <a href=\"#prg-3-1\">simple_service_client.py</a> （请点击），然后再点击Python notebook右上角的运行按钮.<br> \n",
    "<img src=\"img/font-awesome_step-forward.png\" style=\"float:left\"/><br>\n",
    "<br><br>\n",
    "你也可以点击 <i>[CTRL]+[Enter]</i> 来执行它。<br>\n",
    "<br>\n",
    "</th>\n",
    "</tr>\n",
    "</table>"
   ]
  },
  {
   "cell_type": "markdown",
   "metadata": {},
   "source": [
    "你认为它会做些什么呢？<br>"
   ]
  },
  {
   "cell_type": "markdown",
   "metadata": {},
   "source": [
    "<p style=\"background:#3B8F10;color:white;\" id=\"prg-3-1\">Python Program {3.1}: simple_service_client </p><br>"
   ]
  },
  {
   "cell_type": "code",
   "execution_count": 3,
   "metadata": {
    "collapsed": false
   },
   "outputs": [
    {
     "ename": "ImportError",
     "evalue": "No module named rospy",
     "output_type": "error",
     "traceback": [
      "\u001b[0;31m---------------------------------------------------------------------------\u001b[0m",
      "\u001b[0;31mImportError\u001b[0m                               Traceback (most recent call last)",
      "\u001b[0;32m<ipython-input-3-274d196840ab>\u001b[0m in \u001b[0;36m<module>\u001b[0;34m()\u001b[0m\n\u001b[1;32m      1\u001b[0m \u001b[0;31m#! /usr/bin/env python\u001b[0m\u001b[0;34m\u001b[0m\u001b[0;34m\u001b[0m\u001b[0m\n\u001b[1;32m      2\u001b[0m \u001b[0;34m\u001b[0m\u001b[0m\n\u001b[0;32m----> 3\u001b[0;31m \u001b[0;32mimport\u001b[0m \u001b[0mrospy\u001b[0m\u001b[0;34m\u001b[0m\u001b[0m\n\u001b[0m\u001b[1;32m      4\u001b[0m \u001b[0;32mfrom\u001b[0m \u001b[0mgazebo_msgs\u001b[0m\u001b[0;34m.\u001b[0m\u001b[0msrv\u001b[0m \u001b[0;32mimport\u001b[0m \u001b[0mDeleteModel\u001b[0m \u001b[0;31m#  使用 service /gazebo/delete_model 来导入 service消息\u001b[0m\u001b[0;34m\u001b[0m\u001b[0m\n\u001b[1;32m      5\u001b[0m \u001b[0;32mimport\u001b[0m \u001b[0msys\u001b[0m\u001b[0;34m\u001b[0m\u001b[0m\n",
      "\u001b[0;31mImportError\u001b[0m: No module named rospy"
     ]
    }
   ],
   "source": [
    "#! /usr/bin/env python\n",
    "\n",
    "import rospy\n",
    "from gazebo_msgs.srv import DeleteModel #  使用 service /gazebo/delete_model 来导入 service消息\n",
    "import sys \n",
    "\n",
    "rospy.init_node('service_client') # 初始化名为 service_client 的ROS节点\n",
    "rospy.wait_for_service('/gazebo/delete_model') # 等待 service client /gazebo/delete_model 开始运行\n",
    "delete_model_service = rospy.ServiceProxy('/gazebo/delete_model', DeleteModel) # 创建与service的连接\n",
    "result = delete_model_service(\"bowl_1\") # 通过连接发送将要被service删除的物体的名称\n",
    "print result # 显示由调用的service给出的结果"
   ]
  },
  {
   "cell_type": "markdown",
   "metadata": {},
   "source": [
    "<p style=\"background:#3B8F10;color:white;\">结束 Python Program {3.1}: simple_service_client </p><br>"
   ]
  },
  {
   "cell_type": "markdown",
   "metadata": {},
   "source": [
    "你应该看到了 bowl_1 再执行这段代码后消失了。<br>"
   ]
  },
  {
   "cell_type": "markdown",
   "metadata": {},
   "source": [
    "但等一下...你怎么知道service使用的service消息结构呢？ 你在调用service时需要先发送些什么吗？<br>\n",
    "你可以调用运行所需的service，然后按TAB-TAB来查看它的结构，就像你之前做的一样，但有个缺点就是这样做太低效了，并且只有当service处于<b>活动状态</b>时才有效。<br>\n",
    "相反，你只需使用以下命令："
   ]
  },
  {
   "cell_type": "raw",
   "metadata": {},
   "source": [
    "rossrv show name_of_the_package/Name_of_Service_message"
   ]
  },
  {
   "cell_type": "markdown",
   "metadata": {},
   "source": [
    "<table style=\"float:left;\">\n",
    "<tr>\n",
    "<th>\n",
    "执行一下命令来查看 <i>DeleteModel</i><i>信息的结构</i>:\n",
    "</th>\n",
    "</tr>\n",
    "</table>"
   ]
  },
  {
   "cell_type": "markdown",
   "metadata": {},
   "source": [
    "<table style=\"float:left;background: #407EAF\">\n",
    "<tr>\n",
    "<th>\n",
    "<p style=\"background: #FFFFFF\">在 WebShell #2中执行</p><br>\n",
    "rossrv show gazebo_msgs/DeleteModel<br>\n",
    "</th>\n",
    "</tr>\n",
    "</table>\n",
    "<br>"
   ]
  },
  {
   "cell_type": "markdown",
   "metadata": {},
   "source": [
    "你应该看到如下所示的东西："
   ]
  },
  {
   "cell_type": "markdown",
   "metadata": {},
   "source": [
    "<table style=\"float:left;background: #FFFFFF\">\n",
    "<tr>\n",
    "<th>\n",
    "<p style=\"background: #407EAF\">WebShell #2 输出</p><br>\n",
    "user catkin_ws $ rossrv show gazebo_msgs/DeleteModel<br>\n",
    "string model_name<br>\n",
    "---<br>\n",
    "bool success<br>\n",
    "string status_message<br>\n",
    "</th>\n",
    "</tr>\n",
    "</table>"
   ]
  },
  {
   "cell_type": "markdown",
   "metadata": {},
   "source": [
    "有点熟悉的样子？ 是的，因为它和Topics信息有着相同的结构，带有一些插件。<br>\n",
    "<ul>\n",
    "    <li>Service消息的扩展名为 <b><i>.srv</i></b>。请记住Topics信息的扩展名则为 <i>.msg</i></li>\n",
    "</ul>"
   ]
  },
  {
   "cell_type": "markdown",
   "metadata": {},
   "source": [
    "<ul>\n",
    "\n",
    "    <li>Service 信息被定义在 <i>srv</i> 目录里头而不是在 <i>msg</i> 目录。<br>\n",
    "    \n",
    "        <table style=\"float:left;\">\n",
    "        <tr>\n",
    "        <th>\n",
    "        你可以输入以下命令来检查它。<br>\n",
    "        </th>\n",
    "        </tr>\n",
    "        </table>\n",
    "    \n",
    "    </li>\n",
    "\n",
    "\n",
    "</ul>"
   ]
  },
  {
   "cell_type": "markdown",
   "metadata": {},
   "source": [
    "<table style=\"float:left;background: #407EAF\">\n",
    "<tr>\n",
    "<th>\n",
    "<p style=\"background: #FFFFFF\">在 WebShell #2中执行</p><br>\n",
    "roscd gazebo_msgs; ls srv<br>\n",
    "</th>\n",
    "</tr>\n",
    "</table>\n",
    "<br>"
   ]
  },
  {
   "cell_type": "markdown",
   "metadata": {},
   "source": [
    "<ul>\n",
    "    <li>\n",
    "        Service 信息有 <b>两个</b> 部分:<br>\n",
    "            请求（REQUEST)<br>\n",
    "            ---<br>\n",
    "            响应(RESPONSE)<br>\n",
    "        在此情况下，请求（REQUEST） 应为 <i>model_name</i> 而响应（RESPONSE）应为 <i>success, status_message</i>.\n",
    "        元素的数量可以任由你决定。你甚至可以不设置，如果你觉得这与你的service不想干的话。最重要的元素是三个短划线 <b>---</b> 用将其定义为Service信息。\n",
    "    </li>\n",
    "</ul>\n"
   ]
  },
  {
   "cell_type": "markdown",
   "metadata": {},
   "source": [
    "<table style=\"float:left;\">\n",
    "<tr>\n",
    "<th>\n",
    "<p id=\"ex-2.3\" style=\"background:#EE9023;color:white;\">练习 3.1</p><br>\n",
    "<ol>\n",
    "<li>创建一个包含启动和Python文件的包。 对于Python文件，请修改之前调用的/ gazebo / delete_model的代码，改为调用/ execute_trajectory Service</li>\n",
    "\n",
    "<li>\n",
    "请确保 /execute_trajectory Service 正在运行，否则手动启动它。<br>\n",
    " <font color='green'><b>提示: ：检查iri_wam_aff_demo的启动文件，然后使用你之前学到的关于 <i>roslaunch</i> 学到的知识。</b></font><br><br>\n",
    "        <font color='red'><b>注意：你应该把start_demo.launch断开了。 你只需要/ execute_trajectory Service，如果你启动了start_demo，将有一个service已经在使用execute_traj，这是那个你希望你的启动文件执行的工作。</b></font>\n",
    "</li>\n",
    "\n",
    "<li>获取Service消息的类型</li>\n",
    "<li>使用适合的service类型修改程序。</li>\n",
    "<li>使用适合的数据（描述机器人手臂轨迹的文件名称）填写service消息。</li>\n",
    "<li>调用service</li>\n",
    "</ol>\n",
    "\n",
    "<p style=\"background:#3B8F10;color:white;\">练习 3.1 的数据</p><br>\n",
    "<ol>\n",
    "\n",
    "<li>\n",
    "<font color='green'><b>你需要知道如何使用Python找到轨迹文件:</b></font><br>\n",
    "输入 rospkg<br>\n",
    "rospack = rospkg.RosPack()<br>\n",
    "# 这个 rospack.get_path() 的运作方式和在启动文件中的 $(find name_of_package) 相同。<br>\n",
    "traj = rospack.get_path('iri_wam_reproduce_trajectory') + \"/config/get_food.txt\"<br>\n",
    "\n",
    "</li>\n",
    "\n",
    "</ol>\n",
    "</th>\n",
    "</tr>\n",
    "</table>"
   ]
  },
  {
   "cell_type": "code",
   "execution_count": null,
   "metadata": {
    "collapsed": true
   },
   "outputs": [],
   "source": []
  },
  {
   "cell_type": "code",
   "execution_count": null,
   "metadata": {
    "collapsed": true
   },
   "outputs": [],
   "source": []
  }
 ],
 "metadata": {
  "anaconda-cloud": {},
  "celltoolbar": "Raw Cell Format",
  "kernelspec": {
   "display_name": "Python [default]",
   "language": "python",
   "name": "python2"
  },
  "language_info": {
   "codemirror_mode": {
    "name": "ipython",
    "version": 2
   },
   "file_extension": ".py",
   "mimetype": "text/x-python",
   "name": "python",
   "nbconvert_exporter": "python",
   "pygments_lexer": "ipython2",
   "version": "2.7.12"
  }
 },
 "nbformat": 4,
 "nbformat_minor": 0
}
