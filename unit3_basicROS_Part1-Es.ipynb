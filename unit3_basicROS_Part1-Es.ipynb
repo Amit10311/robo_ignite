{
 "cells": [
  {
   "cell_type": "markdown",
   "metadata": {},
   "source": [
    "# <font class='ign_color'>ROS EN UNA SOLA SEMANA</font>"
   ]
  },
  {
   "cell_type": "markdown",
   "metadata": {},
   "source": [
    "# Capítulo 3: Servicios en ROS"
   ]
  },
  {
   "cell_type": "markdown",
   "metadata": {},
   "source": [
    "<table style=\"width:100%\">\n",
    "  <tr>\n",
    "    <th>Tiempo estimado para completarlo: 2'5 horas<br><br>Qué vas a aprender en esta unidad?\n",
    "<ul>\n",
    "  <li>Qué es un servicio de ROS</li>\n",
    "  <li>Cómo manejar los servicios de un robot</li>\n",
    "  <li>Cómo llamar a un servicio</li>\n",
    "</ul></th>\n",
    "    <th><img src=\"img/iri_wam.jpg\" width=\"239\" height=\"238\" /></th> \n",
    "  </tr>\n",
    "</table>"
   ]
  },
  {
   "cell_type": "markdown",
   "metadata": {},
   "source": [
    "## Parte 1"
   ]
  },
  {
   "cell_type": "markdown",
   "metadata": {},
   "source": [
    "¡Enhorabuena! Ahora conoces un <b>50%</b> de los conceptos básicos de ROS!<br>\n",
    "La razón es porque con tópicos ya puedes hacer más o menos cualquier que necesites en ROS. Muchos paquetes de ROS solo usan tópicos y cumplem su función perfectamente.<br><br>\n",
    "Entonces... para qué necesitamos aprender <b>Servicios</b>? <br>\n",
    "Bueno, eso es porque en algunos casos los tópicos son insuficientes o simplemente muy incómodos de usar. Por supuesto que puedes destruir la <i>Estrella de la Muerte</i> con un palo, pero tardarás años en lograrlo. Mucho mejor es decirle a Luke Skywalker que lo haga por ti, cierto? Pues lo mismo con los servicios, simplemente te harán la vida más fácil. "
   ]
  },
  {
   "cell_type": "markdown",
   "metadata": {},
   "source": [
    "## Tópicos - Servicios - Actions"
   ]
  },
  {
   "cell_type": "markdown",
   "metadata": {},
   "source": [
    "Para entender qué son los servicios y cuando usarlos, tienes que compararlos con tópicos y actions.<br>\n",
    "Imagina que tienes tu propio robot BB-8. Tiene un sensor láser, un sistema de reconocimiento facial y un sistema de navegación. El láser usará un <b>Tópico</b> para publicar ahí todas las lecturas del láser a 20hz. Usamos un tópico porque necesitamos tener esa información disponible todo el tiempo para que otros sistemas, como el de navegación, la puedan leer.<br><br>\n",
    "El sistema de reconocimiento facial usará un <b>Servicio</b>. Llamarás al servicio y <b>ESPERARÁS</b> hasta que te de el nombre de la persona que el BB-8 tiene en frente.<br>\n",
    "El sistema de navegación usará una <b>Action</b>. Llamarás a la action para que el robot vaya a alguna parte y <b>MIENTRAS</b> está realizando la tarea ejecutarás otras tareas como quejarte de lo cansino que es C-3PO. Y es action te dará un <b>Feedback</b> (por ejemplo: la distancia que falta hasta las coordenadas deseadas) durante el proceso de moverse a las coordenadas.\n"
   ]
  },
  {
   "cell_type": "markdown",
   "metadata": {},
   "source": [
    "Así que... Cual es la diferencia entre un <b>Servicio</b> y una <b>Action</b>?<br>\n",
    "Los Servicios son <b>Síncronos</b>. Cuando lo llamas no puedes continuar hasta que te de un resultado.<br>\n",
    "Las Actions son <b>Asíncronas</b>. Es como lanzar un thread, puedes realizar otras tareas mientras la action está siendo ejecutada y te va dando feedback de como está yendo el proceso."
   ]
  },
  {
   "cell_type": "markdown",
   "metadata": {},
   "source": [
    "<strong> Conclusión: Usa servicios cuando no puedas continuar hasta que hayas realizado un cierto proceso. </strong>"
   ]
  },
  {
   "cell_type": "markdown",
   "metadata": {},
   "source": [
    "## Introducción a Servicios"
   ]
  },
  {
   "cell_type": "markdown",
   "metadata": {},
   "source": [
    "Suficiente charla por ahora, juguemos un poco con el robot!<br>\n",
    "Ve al <i>terminal</i> y escribe el siguiente comando:"
   ]
  },
  {
   "cell_type": "markdown",
   "metadata": {},
   "source": [
    "<table style=\"float:left;background: #407EAF\">\n",
    "<tr>\n",
    "<th>\n",
    "<p style=\"background: #FFFFFF\">Ejecuta en el WebShell #1</p><br>\n",
    "roslaunch iri_wam_aff_demo start_demo.launch<br>\n",
    "</th>\n",
    "</tr>\n",
    "</table>\n",
    "<br>"
   ]
  },
  {
   "cell_type": "markdown",
   "metadata": {},
   "source": [
    "Esto hará que el brazo robótico Wam de la simulación empiece a moverse.<br>\n",
    "\n",
    "### Que acabas de hacer?<br>\n",
    "\n",
    "El fichero launch ha lanzado 2 nodos:                                                                                                         \n",
    "<ul>\n",
    "  <li>/iri_wam_reproduce_trajectory</li>\n",
    "  <li>/iri_wam_aff_demo</li>\n",
    "</ul>\n",
    "\n",
    "El primer nodo proporciona el servicio <i>/execute_trajectory</i>. Este es el nodo que contiene el <b>service server</b>.\n",
    "El segundo nodo, ejecuta llamas a ese servicio. Cuando el servicio es llamado, el robot ejecutará una trayectoria dada. Este nodo contiene el <b>service client</b>.<br>\n",
    "\n",
    "#### Descubramos más sobre los servicios. \n",
    "\n",
    "Veamos una lista de los servicios disponibles en el robot Wam. Para ello, abre otro terminal. Tienes que dejar el <i>start_demo.launch</i> corriendo, o no podrás ver los servicios disponibles.<br>\n",
    "\n",
    "<table style=\"float:left;\">\n",
    "<tr>\n",
    "<th>\n",
    "Ejecuta el siguiente comando en una consola diferente a la que tiene el roslaunch <i style=\"color: green\">start_demo.launch</i> corriendo:\n",
    "</th>\n",
    "</tr>\n",
    "</table>"
   ]
  },
  {
   "cell_type": "markdown",
   "metadata": {},
   "source": [
    "<table style=\"float:left;background: #407EAF\">\n",
    "<tr>\n",
    "<th>\n",
    "<p style=\"background: #FFFFFF\">Ejecuta en el WebShell #2</p><br>\n",
    "rosservice list<br>\n",
    "</th>\n",
    "</tr>\n",
    "</table>\n",
    "<br>"
   ]
  },
  {
   "cell_type": "markdown",
   "metadata": {},
   "source": [
    "Deberías ver algo como en la siguiente imagen, listando todos los servicios disponibles:"
   ]
  },
  {
   "cell_type": "markdown",
   "metadata": {},
   "source": [
    "<table style=\"float:left;background: #FFFFFF\">\n",
    "<tr>\n",
    "<th>\n",
    "<p style=\"background: #407EAF\">Salida del WebShell #2</p><br>\n",
    "user ~ $ rosservice list<br>\n",
    "/camera/rgb/image_raw/compressed/set_parameters<br>\n",
    "/camera/rgb/image_raw/compressedDepth/set_parameters<br>\n",
    "/camera/rgb/image_raw/theora/set_parameters<br>\n",
    "/camera/set_camera_info<br>\n",
    "/camera/set_parameters<br>\n",
    "<span style=\"color: orange\">/execute_trajectory</span><br>\n",
    "/gazebo/apply_body_wrench<br>\n",
    "...\n",
    "</th>\n",
    "</tr>\n",
    "</table>"
   ]
  },
  {
   "cell_type": "markdown",
   "metadata": {},
   "source": [
    "<font color='red'><b>ATENCIÓN: Si el servicio /execute_trajectory no aparece en la lista, quizás sea porque has parado el <i>start_demo.launch</i>. Si este es el caso, lánzalo de nuevo y busca el servicio.</b></font>"
   ]
  },
  {
   "cell_type": "markdown",
   "metadata": {},
   "source": [
    "Hay unos cuantos servicios, no? Algunos están relacionados con el sistema del simulador ( /gazebo/... ), otros a la cámara Kinect (/camera/...) o son proporcionados por el propio robot ( /iri_wam/...).\n",
    "Puedes ver cómo el servicio <i>/execute_trajectory</i> está listado ahí.<br>\n",
    "\n",
    "\n",
    "Puedes obtener más información sobre cualquier servicio escribiendo el comando:"
   ]
  },
  {
   "cell_type": "raw",
   "metadata": {},
   "source": [
    "rosservice info /nombre_del_servicio"
   ]
  },
  {
   "cell_type": "markdown",
   "metadata": {},
   "source": [
    "<table style=\"float:left;\">\n",
    "<tr>\n",
    "<th>\n",
    "Ejecuta el siguiente comando para conocer más sobre el servicio <i>/execute_trajectory</i>:\n",
    "</th>\n",
    "</tr>\n",
    "</table>"
   ]
  },
  {
   "cell_type": "markdown",
   "metadata": {},
   "source": [
    "<table style=\"float:left;background: #407EAF\">\n",
    "<tr>\n",
    "<th>\n",
    "<p style=\"background: #FFFFFF\">Ejecuta en el WebShell #2</p><br>\n",
    "rosservice info /execute_trajectory<br>\n",
    "</th>\n",
    "</tr>\n",
    "</table>\n",
    "<br>"
   ]
  },
  {
   "cell_type": "markdown",
   "metadata": {},
   "source": [
    "<table style=\"float:left;background: #FFFFFF\">\n",
    "<tr>\n",
    "<th>\n",
    "<p style=\"background: #407EAF\">Salida del WebShell #2</p><br>\n",
    "user ~ $ rosservice info /execute_trajectory<br>\n",
    "Node: /iri_wam_reproduce_trajectory<br>\n",
    "URI: rosrpc://ip-172-31-17-169:35175<br>\n",
    "Type: iri_wam_reproduce_trajectory/ExecTraj<br>\n",
    "Args: file<br>\n",
    "</th>\n",
    "</tr>\n",
    "</table>"
   ]
  },
  {
   "cell_type": "markdown",
   "metadata": {},
   "source": [
    "Aquí tienes 2 partes importantes de información.\n",
    "<ul>\n",
    "<li>Node: Indica el nodo que proporciona ese servicio. Es el programa que ejecutará tu código cuando llames a ese servicio.</li>\n",
    "<li>Type: Indica el tipo de mensaje que es usado por ese servicio. Tiene la misma estructura que los mensajes de Tópicos. Siempre se indica <i>paquete_donde_se_define_el_mensaje_del_servicio</i><b> / </b> <i>nombre_del_fichero_donde_se_define_el_mensaje</i>. En este caso el paquete es <i>iri_wam_reproduce_trajectory</i>, y el fichero donde se define el Mensaje del Servicio se llama <i>ExecTraj</i>.</li>\n",
    "<li>Args: Aquí tendrás los argumentos que el servicio requiere cuando es llamado. En este caso sólo requiere un <i>path del fichero de la trayectoria</i> almacenado en la variable <i>file</i>.</li>\n",
    "</ul>"
   ]
  },
  {
   "cell_type": "markdown",
   "metadata": {},
   "source": [
    "Quieres saber cómo se inicia el Servicio <i>/execute_trajectory</i>?<br>\n",
    "\n",
    "<table style=\"float:left;\">\n",
    "<tr>\n",
    "<th>\n",
    "Revisa el fichero <i>start_demo.launch</i> a través del Web Shell.\n",
    "</th>\n",
    "</tr>\n",
    "</table><br><br>"
   ]
  },
  {
   "cell_type": "markdown",
   "metadata": {},
   "source": [
    "Recuerdas cómo ir directamente a un paquete y dónde encontrar los ficheros launch?<br>"
   ]
  },
  {
   "cell_type": "markdown",
   "metadata": {},
   "source": [
    "<table style=\"float:left;background: #407EAF\">\n",
    "<tr>\n",
    "<th>\n",
    "<p style=\"background: #FFFFFF\">Ejecuta en el WebShell #2</p><br>\n",
    "roscd iri_wam_aff_demo<br>\n",
    "cd launch/<br>\n",
    "cat start_demo.launch<br>\n",
    "</th>\n",
    "</tr>\n",
    "</table>\n",
    "<br>"
   ]
  },
  {
   "cell_type": "markdown",
   "metadata": {},
   "source": [
    "Deberías ver algo como esto:"
   ]
  },
  {
   "cell_type": "raw",
   "metadata": {},
   "source": [
    "<launch>\n",
    "\n",
    "  <include file=\"$(find iri_wam_reproduce_trajectory)/launch/start_service.launch\"/>\n",
    "\n",
    "  <node pkg =\"iri_wam_aff_demo\"\n",
    "        type=\"iri_wam_aff_demo_node\"\n",
    "        name=\"iri_wam_aff_demo\"\n",
    "        output=\"screen\">\n",
    "  </node>\n",
    "\n",
    "</launch>"
   ]
  },
  {
   "cell_type": "markdown",
   "metadata": {},
   "source": [
    "La primera parte, llama a otro fichero launch.<br>Ese fichero launch inicia el nodo que proporciona el servicio <i>/execute_trajectory</i>. Date cuenta que está usando una función especial de ROS para encontrar el path del paquete especificado.<br>"
   ]
  },
  {
   "cell_type": "raw",
   "metadata": {
    "raw_mimetype": "text/html"
   },
   "source": [
    "<include file=\"$(find paquete_donde_se_encuentra_el_launch)/launch/mi_fichero_launch.launch\"/>"
   ]
  },
  {
   "cell_type": "markdown",
   "metadata": {},
   "source": [
    "La segunda parte lanza un nodo tal y como aprendiste en la unidad <b>ROS Basics</b> que llamará al servicio <i>/execute_trajectory</i> para mover el robot."
   ]
  },
  {
   "cell_type": "raw",
   "metadata": {
    "raw_mimetype": "text/html"
   },
   "source": [
    "<node pkg =\"paquete_donde_se_encuentra_el_cpp\"\n",
    "\ttype=\"nombre_del_binario_tras_compilar_el_cpp\"\n",
    "        name=\"nombre_del_nodo_inicializado_en_el_cpp\"\n",
    "        output=\"screen\">\n",
    "  </node>"
   ]
  },
  {
   "cell_type": "markdown",
   "metadata": {},
   "source": [
    "## Cómo llamar a un servicio"
   ]
  },
  {
   "cell_type": "markdown",
   "metadata": {},
   "source": [
    "Puedes llamar a un servicio manualmente desde la consola. Esto es muy útil para testeo y para tener una idea básica de como funcionan los servicios.\n"
   ]
  },
  {
   "cell_type": "raw",
   "metadata": {},
   "source": [
    "rosservice call /nombre_del_servicio TAB-TAB"
   ]
  },
  {
   "cell_type": "markdown",
   "metadata": {},
   "source": [
    "<font color=\"green\"><b>Info: <i>TAB-TAB</i> significa que tienes que presionar rápidamente la tecla <i>TAB</i> 2 veces. Esto autocompletará la estructura del mensaje del servicio que quieres enviar. Ahora simplemente rellena los valores.</b></font><br>"
   ]
  },
  {
   "cell_type": "markdown",
   "metadata": {},
   "source": [
    "<table style=\"float:left;\">\n",
    "<tr>\n",
    "<th>\n",
    "Llama al servicio con el nombre <i>/gazebo/delete_model</i>.\n",
    "</th>\n",
    "</tr>\n",
    "</table>"
   ]
  },
  {
   "cell_type": "markdown",
   "metadata": {},
   "source": [
    "<table style=\"float:left;background: #407EAF\">\n",
    "<tr>\n",
    "<th>\n",
    "<p style=\"background: #FFFFFF\">Ejecuta en el WebShell #2</p><br>\n",
    "rosservice call /gazebo/delete_model [TAB]+[TAB]<br>\n",
    "</th>\n",
    "</tr>\n",
    "</table>\n",
    "<br>"
   ]
  },
  {
   "cell_type": "markdown",
   "metadata": {},
   "source": [
    "Cuando haces [TAB]+[TAB] un elemento extra aparece. ROS autocompleta con la estructura necesaria para llamar al servicio.<br>\n",
    "En este caso proporciona la estructura siguiente:<br>\n",
    "    \"model_name: '<span style=\"color: blue\">nombre_del_objeto_que_quieres_borrar</span>'\""
   ]
  },
  {
   "cell_type": "markdown",
   "metadata": {},
   "source": [
    "Este es un servicio proporcionado por el simulador que te permite borrar cualquier modelo de la escena.\n",
    "\n",
    "<table style=\"float:left;\">\n",
    "<tr>\n",
    "<th>\n",
    "Prueba a borrar la mesa. Su model_name es <i>cafe_table</i>.<br>\n",
    "</th>\n",
    "</tr>\n",
    "</table>"
   ]
  },
  {
   "cell_type": "markdown",
   "metadata": {},
   "source": [
    "<table style=\"float:left;background: #407EAF\">\n",
    "<tr>\n",
    "<th>\n",
    "<p style=\"background: #FFFFFF\">Ejecuta en el WebShell #2</p><br>\n",
    "rosservice call /gazebo/delete_model \"model_name: 'cafe_table'\"<br>\n",
    "</th>\n",
    "</tr>\n",
    "</table>\n",
    "<br>"
   ]
  },
  {
   "cell_type": "markdown",
   "metadata": {},
   "source": [
    "Ha desaparecido? Genial!<br>\n",
    "Quieres obtener una lista de todos los model_names de la simulación?"
   ]
  },
  {
   "cell_type": "markdown",
   "metadata": {},
   "source": [
    "<table style=\"float:left;background: #407EAF\">\n",
    "<tr>\n",
    "<th>\n",
    "<p style=\"background: #FFFFFF\">Ejecuta en el WebShell #2</p><br>\n",
    "rostopic echo /gazebo/model_states -n1<br>\n",
    "</th>\n",
    "</tr>\n",
    "</table>\n",
    "<br>"
   ]
  },
  {
   "cell_type": "markdown",
   "metadata": {},
   "source": [
    "<font color=\"red\"><b>Pero no te emociones demasiado borrando objetos o te quedarás sin robot!</b></font>"
   ]
  },
  {
   "cell_type": "markdown",
   "metadata": {},
   "source": [
    "Pero como interactuas con un servicio mediante código?<br>\n",
    "\n",
    "<table style=\"float:left;\">\n",
    "<tr>\n",
    "<th>\n",
    "Ejecuta el siguiente código Python.<br>\n",
    "</th>\n",
    "</tr>\n",
    "</table>"
   ]
  },
  {
   "cell_type": "markdown",
   "metadata": {},
   "source": [
    "<table style=\"float:left;\">\n",
    "<tr>\n",
    "<th>\n",
    "<p style=\"background:#407EAF;color:white;\">Ejemplo 3.1</p><br>\n",
    "Ejecuta el siguiente código Python <a href=\"#prg-3-1\">simple_service_client.py</a> clicando en él y después clicando en el botón de Play en la esquina superior derecha del IPython notebook.<br> \n",
    "<img src=\"img/font-awesome_step-forward.png\" style=\"float:left\"/><br>\n",
    "<br><br>\n",
    "También puedes pulsar <i>[CTRL]+[Enter]</i> para ejecutarlo.<br>\n",
    "<br>\n",
    "</th>\n",
    "</tr>\n",
    "</table>"
   ]
  },
  {
   "cell_type": "markdown",
   "metadata": {},
   "source": [
    "Qué crees que hará?<br>"
   ]
  },
  {
   "cell_type": "markdown",
   "metadata": {},
   "source": [
    "<p style=\"background:#3B8F10;color:white;\" id=\"prg-3-1\">Programa Python {3.1}: simple_service_client </p><br>"
   ]
  },
  {
   "cell_type": "code",
   "execution_count": null,
   "metadata": {
    "collapsed": false
   },
   "outputs": [],
   "source": [
    "#! /usr/bin/env python\n",
    "\n",
    "import rospy\n",
    "from gazebo_msgs.srv import DeleteModel # importel mensaje de servicio usado por el servicio /gazebo/delete_model\n",
    "import sys \n",
    "\n",
    "rospy.init_node('service_client') # inicializa un nodo ROS con el nombre service_client\n",
    "rospy.wait_for_service('/gazebo/delete_model') # espera a que el service client /gazebo/delete_model esté corriendo\n",
    "delete_model_service = rospy.ServiceProxy('/gazebo/delete_model', DeleteModel) # crea la connexión con el servicio\n",
    "result = delete_model_service(\"bowl_1\") # envía a través de la llamada el nombre del objeto a eliminar por el servicio\n",
    "print result # imprime el resultado que devuelve el servicio llamado"
   ]
  },
  {
   "cell_type": "markdown",
   "metadata": {},
   "source": [
    "<p style=\"background:#3B8F10;color:white;\">FIN del Programa Python {3.1}: simple_service_client </p><br>"
   ]
  },
  {
   "cell_type": "markdown",
   "metadata": {},
   "source": [
    "Deberías haber visto el modelo bowl_1 desaparecer tras ejecutar el código.<br>"
   ]
  },
  {
   "cell_type": "markdown",
   "metadata": {},
   "source": [
    "Pero espera un momento... Cómo sabes la estructura del mensaje de servicio usada por el servicio? Qué argumentos tienes que enviar cuándo llamas al servicio?<br>\n",
    "Podrías llamar al servicio que quisieras, que esté corriendo, y presionar TAB-TAB para ver la estructura del mensaje como hiciste anteriormente, pero es demasiado ineficiente y sólo funciona cuando el servicio está <b>activo</b>.<br>\n",
    "En lugar de esto, usa simplemente el siguiente comando:"
   ]
  },
  {
   "cell_type": "raw",
   "metadata": {},
   "source": [
    "rossrv show nombre_del_paquete/nombre_del_mensaje_del_servicio"
   ]
  },
  {
   "cell_type": "markdown",
   "metadata": {},
   "source": [
    "<table style=\"float:left;\">\n",
    "<tr>\n",
    "<th>\n",
    "Ejecuta el siguiente comando para ver la <i>estructura del mensaje <i>DeleteModel</i></i>:\n",
    "</th>\n",
    "</tr>\n",
    "</table>"
   ]
  },
  {
   "cell_type": "markdown",
   "metadata": {},
   "source": [
    "<table style=\"float:left;background: #407EAF\">\n",
    "<tr>\n",
    "<th>\n",
    "<p style=\"background: #FFFFFF\">Ejecuta en el WebShell #2</p><br>\n",
    "rossrv show gazebo_msgs/DeleteModel<br>\n",
    "</th>\n",
    "</tr>\n",
    "</table>\n",
    "<br>"
   ]
  },
  {
   "cell_type": "markdown",
   "metadata": {},
   "source": [
    "Deberías ver algo como esto:"
   ]
  },
  {
   "cell_type": "markdown",
   "metadata": {},
   "source": [
    "<table style=\"float:left;background: #FFFFFF\">\n",
    "<tr>\n",
    "<th>\n",
    "<p style=\"background: #407EAF\">Salida del WebShell #2</p><br>\n",
    "user catkin_ws $ rossrv show gazebo_msgs/DeleteModel<br>\n",
    "string model_name<br>\n",
    "---<br>\n",
    "bool success<br>\n",
    "string status_message<br>\n",
    "</th>\n",
    "</tr>\n",
    "</table>"
   ]
  },
  {
   "cell_type": "markdown",
   "metadata": {},
   "source": [
    "Te resulta familiar? Debería, porque es la misma estructura que en los mensajes de Tópicos, con algún añadido.<br>\n",
    "<ul>\n",
    "    <li>Los mensajes de Servicios tienen la extensions <b><i>.srv</i></b>. Recuerda que los mensajes de Tópicos tenian la extensión <i>.msg</i></li>\n",
    "</ul>"
   ]
  },
  {
   "cell_type": "markdown",
   "metadata": {},
   "source": [
    "<ul>\n",
    "\n",
    "    <li>Los mensajes de Servicios están definidos dentro del directorio <i>srv</i> en lugar del directorio <i>msg</i> .<br>\n",
    "    \n",
    "        <table style=\"float:left;\">\n",
    "        <tr>\n",
    "        <th>\n",
    "        Puedes escribir el siguiente comando para comprobarlo.<br>\n",
    "        </th>\n",
    "        </tr>\n",
    "        </table>\n",
    "    \n",
    "    </li>\n",
    "\n",
    "\n",
    "</ul>"
   ]
  },
  {
   "cell_type": "markdown",
   "metadata": {},
   "source": [
    "<table style=\"float:left;background: #407EAF\">\n",
    "<tr>\n",
    "<th>\n",
    "<p style=\"background: #FFFFFF\">Ejecuta en el WebShell #2</p><br>\n",
    "roscd gazebo_msgs; ls srv<br>\n",
    "</th>\n",
    "</tr>\n",
    "</table>\n",
    "<br>"
   ]
  },
  {
   "cell_type": "markdown",
   "metadata": {},
   "source": [
    "<ul>\n",
    "    <li>\n",
    "        Los mensajes de Servicios tienen <b>DOS</b> partes:<br>\n",
    "            REQUEST<br>\n",
    "            ---<br>\n",
    "            RESPONSE<br>\n",
    "        En este caso el REQUEST siendo <i>model_name</i> y la RESPONSE siendo <i>success, status_message</i>.\n",
    "        El número de elementos puede ser el que quieras. Incluso puedes dejarlo vacío si crees que es irrelevante para tu servicio. La parte importante son los tres guiones <b>---</b> que lo definen como un Mensaje de Servicio.\n",
    "    </li>\n",
    "</ul>\n"
   ]
  },
  {
   "cell_type": "markdown",
   "metadata": {},
   "source": [
    "<table style=\"float:left;\">\n",
    "<tr>\n",
    "<th>\n",
    "<p id=\"ex-2.3\" style=\"background:#EE9023;color:white;\">Ejercicio 3.1</p><br>\n",
    "<ol>\n",
    "<li>Crea un paquete con sus ficheros launch y Python. En el fichero Python, modifica el código anterior que llamaba a /gazebo/delete_model, para que llame al servicio /execute_trajectory</li>\n",
    "\n",
    "<li>\n",
    "Asegúrate de que el servicio /execute_trajectory está corriendo, y si no, lánzalo manualmente.<br>\n",
    " <font color='green'><b>PISTA: Revisa el fichero launch del paquete iri_wam_aff_demo, y usa lo que has aprendido sobre <i>roslaunch</i></b></font><br><br>\n",
    "        <font color='red'><b>ATENCIÓN: Debes matar el start_demo.launch. Sólo necesitas el servicio /execute_trajectory , si tienes el start_demo lazado, ya habrá un servicio usando execute_traj, que es que trabajo que TÚ quieres realizar.</b></font>\n",
    "</li>\n",
    "\n",
    "<li>Obtén el tipo de mensaje del servicio</li>\n",
    "<li>Modifica el código con los tipos correctos.</li>\n",
    "<li>Rellena el mensaje del servicio con la información adecuada (el path del fichero que describe la trayectoria que quieres ejecutar) .</li>\n",
    "<li>Llama al servicio</li>\n",
    "</ol>\n",
    "\n",
    "<p style=\"background:#3B8F10;color:white;\">Información para el Ejercicio 3.1</p><br>\n",
    "<ol>\n",
    "\n",
    "<li>\n",
    "<font color='green'><b>Necesitas saber cómo encontrar los ficheros de trayectorias en Python:</b></font><br>\n",
    "import rospkg<br>\n",
    "rospack = rospkg.RosPack()<br>\n",
    "# Este rospack.get_path() funciona de la misma manera que $(find name_of_package) en los ficheros launch.<br>\n",
    "traj = rospack.get_path('iri_wam_reproduce_trajectory') + \"/config/get_food.txt\"<br>\n",
    "\n",
    "</li>\n",
    "\n",
    "</ol>\n",
    "</th>\n",
    "</tr>\n",
    "</table>"
   ]
  },
  {
   "cell_type": "code",
   "execution_count": null,
   "metadata": {
    "collapsed": true
   },
   "outputs": [],
   "source": []
  }
 ],
 "metadata": {
  "anaconda-cloud": {},
  "celltoolbar": "Raw Cell Format",
  "kernelspec": {
   "display_name": "Python 2",
   "language": "python",
   "name": "python2"
  },
  "language_info": {
   "codemirror_mode": {
    "name": "ipython",
    "version": 2
   },
   "file_extension": ".py",
   "mimetype": "text/x-python",
   "name": "python",
   "nbconvert_exporter": "python",
   "pygments_lexer": "ipython2",
   "version": "2.7.11"
  }
 },
 "nbformat": 4,
 "nbformat_minor": 0
}
