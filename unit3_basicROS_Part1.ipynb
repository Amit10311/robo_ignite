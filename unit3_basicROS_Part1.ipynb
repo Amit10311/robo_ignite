{
 "cells": [
  {
   "cell_type": "markdown",
   "metadata": {},
   "source": [
    "# <font class='ign_color'>ROS IN 5 DAYS</font>"
   ]
  },
  {
   "cell_type": "markdown",
   "metadata": {},
   "source": [
    "# Unit 3: Services in ROS"
   ]
  },
  {
   "cell_type": "markdown",
   "metadata": {
    "caption": "Iri Wam Robot",
    "image": true,
    "name": "iri_wam",
    "width": "8cm"
   },
   "source": [
    "<img src=\"img/iri_wam.jpg\" width=\"500\" />"
   ]
  },
  {
   "cell_type": "markdown",
   "metadata": {},
   "source": [
    "<b>Estimated time to completion:</b> 2.5 hours\n",
    "<br><br>\n",
    "<b>What will you learn with this unit?</b>\n",
    "\n",
    "* What a service is\n",
    "* How to manage services of a robot\n",
    "* How to call a service"
   ]
  },
  {
   "cell_type": "markdown",
   "metadata": {},
   "source": [
    "## Part 1"
   ]
  },
  {
   "cell_type": "markdown",
   "metadata": {},
   "source": [
    "Congratulations! You now know **75%** of ROS-basics!\n",
    "\n",
    "\n",
    "The reason is that, with topics, you can do more or less whatever you want and need for your astromech droid. Many ROS packages only use topics and have the work perfectly done.\n",
    "\n",
    "\n",
    "Then why do you need to learn about **services**?\n",
    "\n",
    "Well, that's because for some cases, topics are insufficient or just too cumbersome to use. Of course, you can destroy the <i>Death Star</i> with a stick, but you will just spend ages doing it. Better tell Luke SkyWalker to do it for you, right? Well, it's the same with services. They just make life easier. "
   ]
  },
  {
   "cell_type": "markdown",
   "metadata": {},
   "source": [
    "## Topics - Services - Actions"
   ]
  },
  {
   "cell_type": "markdown",
   "metadata": {},
   "source": [
    "To understand what services are and when to use them, you have to compare them with topics and actions.\n",
    "\n",
    "Imagine you have your own personal BB-8 robot. It has a laser sensor, a face-recognition system, and a navigation system. The laser will use a **Topic** to publish all of the laser readings at 20hz. We use a topic because we need to have that information available all the time for other ROS systems, such as the navigation system.\n",
    "\n",
    "\n",
    "The Face-recognition system will provide a **Service**. Your ROS program will call that service and **WAIT** until it gives you the name of the person BB-8 has in front of it.\n",
    "\n",
    "\n",
    "The navigation system will provide an **Action**. Your ROS program will call the action to move the robot somewhere, and **WHILE** it's performing that task, your program will perform other tasks, such as complain about how tiring C-3PO is. And that action will give you **Feedback** (for example: distance left to the desired coordinates) along the process of moving to the coordinates."
   ]
  },
  {
   "cell_type": "markdown",
   "metadata": {},
   "source": [
    "So... What's the difference between a **Service** and an **Action**?\n",
    "\n",
    "Services are <b>Synchronous</b>. When your ROS program calls a service, your program can't continue until it receives a result from the service.<br>\n",
    "Actions are <b>Asynchronous</b>. It's like launching a new thread. When your ROS program calls an action, your program can perform other tasks while the action is being performed in another thread."
   ]
  },
  {
   "cell_type": "markdown",
   "metadata": {},
   "source": [
    "**Conclusion: Use services when your program can't continue until it receives the result from the service.**"
   ]
  },
  {
   "cell_type": "markdown",
   "metadata": {},
   "source": [
    "## Services Introduction"
   ]
  },
  {
   "cell_type": "markdown",
   "metadata": {},
   "source": [
    "Enough talk for now, let's go play with a robot and launch a prepared demo!"
   ]
  },
  {
   "cell_type": "markdown",
   "metadata": {},
   "source": [
    "<p style=\"background:#407EAF;color:white;\">**Example 3.1**</p>"
   ]
  },
  {
   "cell_type": "markdown",
   "metadata": {},
   "source": [
    "Go to the WebShell and do the following:"
   ]
  },
  {
   "cell_type": "markdown",
   "metadata": {},
   "source": [
    "<table style=\"float:left;background: #407EAF\">\n",
    "<tr>\n",
    "<th>\n",
    "<p class=\"transparent\">Execute in WebShell #1</p>\n",
    "</th>\n",
    "</tr>\n",
    "</table>\n",
    "<br>"
   ]
  },
  {
   "cell_type": "code",
   "execution_count": null,
   "metadata": {
    "collapsed": true
   },
   "outputs": [],
   "source": [
    "roslaunch iri_wam_aff_demo start_demo.launch"
   ]
  },
  {
   "cell_type": "markdown",
   "metadata": {},
   "source": [
    "This will make the Wam robot-arm of the simulation move. You should get something similar to this:"
   ]
  },
  {
   "cell_type": "markdown",
   "metadata": {},
   "source": [
    "<img src=\"img/basic_unit3_example1-1.gif\"/>"
   ]
  },
  {
   "cell_type": "markdown",
   "metadata": {},
   "source": [
    "<p style=\"background:#407EAF;color:white;\">END **Example 3.1**</p>"
   ]
  },
  {
   "cell_type": "markdown",
   "metadata": {},
   "source": [
    "### What did you do just now?"
   ]
  },
  {
   "cell_type": "markdown",
   "metadata": {},
   "source": [
    "The launch file has launched two nodes (Yes! You can launch more than one node with a single launch file):\n",
    "\n",
    "* /iri_wam_reproduce_trajectory\n",
    "* /iri_wam_aff_demo\n",
    "\n",
    "\n",
    "The first node provides the **<i>/execute_trajectory</i>** service. This is the node that contains the **service**.\n",
    "The second node, performs calls to that service. When the service is called, the robot will execute a given trajectory."
   ]
  },
  {
   "cell_type": "markdown",
   "metadata": {},
   "source": [
    "### Let's learn more about services. "
   ]
  },
  {
   "cell_type": "markdown",
   "metadata": {},
   "source": [
    "<p style=\"background:#407EAF;color:white;\">**Example 3.2**</p>"
   ]
  },
  {
   "cell_type": "markdown",
   "metadata": {},
   "source": [
    "Let's see a list of the available services in the Wam robot. For that, open another shell.<br>\n",
    "**You have to leave the <i>start_demo.launch</i> running, otherwise the services won't be there to see them.<br>**"
   ]
  },
  {
   "cell_type": "markdown",
   "metadata": {},
   "source": [
    "Execute the following command in a different shell from the one that has the roslaunch **start_demo.launch** running:"
   ]
  },
  {
   "cell_type": "markdown",
   "metadata": {},
   "source": [
    "<table style=\"float:left;background: #407EAF\">\n",
    "<tr>\n",
    "<th>\n",
    "<p class=\"transparent\">Execute in WebShell #2</p>\n",
    "</th>\n",
    "</tr>\n",
    "</table>\n",
    "<br>"
   ]
  },
  {
   "cell_type": "code",
   "execution_count": null,
   "metadata": {
    "collapsed": true
   },
   "outputs": [],
   "source": [
    "rosservice list"
   ]
  },
  {
   "cell_type": "markdown",
   "metadata": {},
   "source": [
    "You should see something like the following image, listing all the services available:"
   ]
  },
  {
   "cell_type": "markdown",
   "metadata": {},
   "source": [
    "<p style=\"background: #407EAF\">WebShell #2 Output</p>"
   ]
  },
  {
   "cell_type": "code",
   "execution_count": null,
   "metadata": {
    "collapsed": true
   },
   "outputs": [],
   "source": [
    "user ~ $ rosservice list\n",
    "/camera/rgb/image_raw/compressed/set_parameters\n",
    "/camera/rgb/image_raw/compressedDepth/set_parameters\n",
    "/camera/rgb/image_raw/theora/set_parameters\n",
    "/camera/set_camera_info\n",
    "/camera/set_parameters\n",
    "/execute_trajectory\n",
    "/gazebo/apply_body_wrench\n",
    "..."
   ]
  },
  {
   "cell_type": "markdown",
   "metadata": {},
   "source": [
    "<font style=\"color:red;\"><b>WARNING: If the <i>/execute_trajectory</i> server is not listed, maybe that's because you stopped the <i>start_demo.launch</i>. If that is the case, launch it again and check for the service.</b></font>"
   ]
  },
  {
   "cell_type": "markdown",
   "metadata": {},
   "source": [
    "There are a few services, aren't there? Some refer to the simulator system (<i>/gazebo/...</i>), and others refer to the Kinect Camera (<i>/camera/...</i>) or are given by the robot himself (<i>/iri_wam/...</i>).\n",
    "You can see how the service <i>/execute_trajectory</i> is listed there.<br>\n",
    "\n",
    "\n",
    "You can get more information about any service by issuing the following command:"
   ]
  },
  {
   "cell_type": "code",
   "execution_count": null,
   "metadata": {
    "collapsed": true
   },
   "outputs": [],
   "source": [
    "rosservice info /name_of_your_service"
   ]
  },
  {
   "cell_type": "markdown",
   "metadata": {},
   "source": [
    "Execute the following command to know more about the service **<i>/execute_trajectory</i>**."
   ]
  },
  {
   "cell_type": "markdown",
   "metadata": {},
   "source": [
    "<table style=\"float:left;background: #407EAF\">\n",
    "<tr>\n",
    "<th>\n",
    "<p class=\"transparent\">Execute in WebShell #2</p>\n",
    "</th>\n",
    "</tr>\n",
    "</table>\n",
    "<br>"
   ]
  },
  {
   "cell_type": "code",
   "execution_count": null,
   "metadata": {
    "collapsed": true
   },
   "outputs": [],
   "source": [
    "rosservice info /execute_trajectory"
   ]
  },
  {
   "cell_type": "markdown",
   "metadata": {},
   "source": [
    "<p style=\"background: #407EAF\">WebShell #2 Output</p>"
   ]
  },
  {
   "cell_type": "code",
   "execution_count": null,
   "metadata": {
    "collapsed": true
   },
   "outputs": [],
   "source": [
    "user ~ $ rosservice info /execute_trajectory\n",
    "Node: /iri_wam_reproduce_trajectory\n",
    "URI: rosrpc://ip-172-31-17-169:35175\n",
    "Type: iri_wam_reproduce_trajectory/ExecTraj\n",
    "Args: file"
   ]
  },
  {
   "cell_type": "markdown",
   "metadata": {},
   "source": [
    "Here you have two relevant parts of data.\n",
    "\n",
    "* **Node**: It states the node that provides (has created) that service.\n",
    "* **Type**: It refers to the kind of message used by this service. It has the same structure as topics do. It's always made of **<i>package_where_the_service_message_is_defined</i> /  <i>Name_of_the_File_where_Service_message_is_defined</i>**. In this case, the package is **<i>iri_wam_reproduce_trajectory</i>**, and the file where the Service Message is defined is called **<i>ExecTraj</i>**.\n",
    "* **Args**: Here you can find the arguments that this service takes when called. In this case, it only takes a **<i>trajectory file path</i>** stored in the variable called **<i>file</i>**.\n"
   ]
  },
  {
   "cell_type": "markdown",
   "metadata": {},
   "source": [
    "<p style=\"background:#407EAF;color:white;\">END **Example 3.2**</p>"
   ]
  },
  {
   "cell_type": "markdown",
   "metadata": {},
   "source": [
    "### Want to know how this <i>/execute_trajectory</i> service is started?"
   ]
  },
  {
   "cell_type": "markdown",
   "metadata": {},
   "source": [
    "Here you have an example on how to check the **start_demo.launch** file through WebShell."
   ]
  },
  {
   "cell_type": "markdown",
   "metadata": {},
   "source": [
    "<p style=\"background:#407EAF;color:white;\" id=\"example3.3\">**Example 3.3**</p>"
   ]
  },
  {
   "cell_type": "markdown",
   "metadata": {},
   "source": [
    "Do you remember how to go directly to a package and where to find the launch files?<br>"
   ]
  },
  {
   "cell_type": "markdown",
   "metadata": {},
   "source": [
    "<table style=\"float:left;background: #407EAF\">\n",
    "<tr>\n",
    "<th>\n",
    "<p class=\"transparent\">Execute in WebShell #2</p>\n",
    "</th>\n",
    "</tr>\n",
    "</table>"
   ]
  },
  {
   "cell_type": "code",
   "execution_count": null,
   "metadata": {
    "collapsed": true
   },
   "outputs": [],
   "source": [
    "roscd iri_wam_aff_demo\n",
    "cd launch/\n",
    "cat start_demo.launch"
   ]
  },
  {
   "cell_type": "markdown",
   "metadata": {},
   "source": [
    "You should get something like this:"
   ]
  },
  {
   "cell_type": "code",
   "execution_count": null,
   "metadata": {
    "collapsed": true
   },
   "outputs": [],
   "source": [
    "<launch>\n",
    "\n",
    "  <include file=\"$(find iri_wam_reproduce_trajectory)/launch/start_service.launch\"/>\n",
    "\n",
    "  <node pkg =\"iri_wam_aff_demo\"\n",
    "        type=\"iri_wam_aff_demo_node\"\n",
    "        name=\"iri_wam_aff_demo\"\n",
    "        output=\"screen\">\n",
    "  </node>\n",
    "\n",
    "</launch>"
   ]
  },
  {
   "cell_type": "markdown",
   "metadata": {},
   "source": [
    "<b>Some interesting things here</b>:\n",
    "<br><br>\n",
    "1) The first part of the launch file calls another launch file called **<i>start_service.launch</i>**.\n",
    "<br><br>\n",
    "That launch file starts the node that provides the <i>/execute_trajectory</i> service. Note that it's using a special ROS launch file function to find the path of the package given.<br>"
   ]
  },
  {
   "cell_type": "code",
   "execution_count": null,
   "metadata": {
    "collapsed": true,
    "raw_mimetype": "text/html"
   },
   "outputs": [],
   "source": [
    "<include file=\"$(find package_where_launch_is)/launch/my_launch_file.launch\"/>"
   ]
  },
  {
   "cell_type": "markdown",
   "metadata": {},
   "source": [
    "2) The second part launches a node just as you learned in the <b>ROS Basics Unit</b>. That node is the one that will call the <i>/execute_trajectory</i> service in order to make the robot move."
   ]
  },
  {
   "cell_type": "markdown",
   "metadata": {},
   "source": [
    "3) The second node is not a Python node, but a cpp compiled (binary) one. You can build ROS programs either in Cpp or Python. This course focuses on Python."
   ]
  },
  {
   "cell_type": "code",
   "execution_count": null,
   "metadata": {
    "collapsed": true,
    "raw_mimetype": "text/html"
   },
   "outputs": [],
   "source": [
    "<node pkg =\"package_where_cpp_is\"\n",
    "      type=\"name_of_binary_after_compiling_cpp\"\n",
    "      name=\"name_of_the_node_initialised_in_cpp\"\n",
    "      output=\"screen\">\n",
    "</node>"
   ]
  },
  {
   "cell_type": "markdown",
   "metadata": {},
   "source": [
    "<p style=\"background:#407EAF;color:white;\">END **Example 3.3**</p>"
   ]
  },
  {
   "cell_type": "markdown",
   "metadata": {},
   "source": [
    "## How to call a service"
   ]
  },
  {
   "cell_type": "markdown",
   "metadata": {},
   "source": [
    "You can call a service manually from the console. This is very useful for testing and having a basic idea of how the service works.\n"
   ]
  },
  {
   "cell_type": "code",
   "execution_count": null,
   "metadata": {
    "collapsed": true
   },
   "outputs": [],
   "source": [
    "rosservice call /the_service_name TAB-TAB"
   ]
  },
  {
   "cell_type": "markdown",
   "metadata": {},
   "source": [
    "<font class=\"ign_green\"><b>Info: <i>TAB-TAB</i> means that you have to quickly press the <i>TAB</i> key twice. This will autocomplete the structure of the Service message to be sent for you. Then, you only have to fill in the values.</b></font><br>"
   ]
  },
  {
   "cell_type": "markdown",
   "metadata": {},
   "source": [
    "<p style=\"background:#407EAF;color:white;\">**Example 3.4**</p>"
   ]
  },
  {
   "cell_type": "markdown",
   "metadata": {},
   "source": [
    "Let's call the service with the name **/gazebo/delete_model** by issuing the following command."
   ]
  },
  {
   "cell_type": "markdown",
   "metadata": {},
   "source": [
    "<table style=\"float:left;background: #407EAF\">\n",
    "<tr>\n",
    "<th>\n",
    "<p class=\"transparent\">Execute in WebShell #2</p>\n",
    "</th>\n",
    "</tr>\n",
    "</table>\n",
    "<br>"
   ]
  },
  {
   "cell_type": "code",
   "execution_count": null,
   "metadata": {
    "collapsed": true
   },
   "outputs": [],
   "source": [
    "rosservice call /gazebo/delete_model [TAB]+[TAB]"
   ]
  },
  {
   "cell_type": "markdown",
   "metadata": {},
   "source": [
    "When you [TAB]+[TAB], an extra element appears. ROS autocompletes with the structure needed to input/request the service.<br>\n",
    "In this case, it gives the following structure:\n",
    "<br><br>\n",
    "<b>\"model_name: '<span class=\"ign_blue\">the_name_of_the_object_you_want_to_delete</span>'\"</b>"
   ]
  },
  {
   "cell_type": "markdown",
   "metadata": {},
   "source": [
    "The **/gazebo/delete_model** Service is a service provided by the simulator that allows you **to delete any object in the scene**."
   ]
  },
  {
   "cell_type": "markdown",
   "metadata": {},
   "source": [
    "Use that service to remove the table. The model_name of the table in the simulation is **cafe_table**."
   ]
  },
  {
   "cell_type": "markdown",
   "metadata": {},
   "source": [
    "<table style=\"float:left;background: #407EAF\">\n",
    "<tr>\n",
    "<th>\n",
    "<p class=\"transparent\">Execute in WebShell #2</p>\n",
    "</th>\n",
    "</tr>\n",
    "</table>\n",
    "<br>"
   ]
  },
  {
   "cell_type": "code",
   "execution_count": null,
   "metadata": {
    "collapsed": true
   },
   "outputs": [],
   "source": [
    "rosservice call /gazebo/delete_model \"model_name: 'cafe_table'\""
   ]
  },
  {
   "cell_type": "markdown",
   "metadata": {},
   "source": [
    "Did it dissappear? You should have seen something similar to this:"
   ]
  },
  {
   "cell_type": "markdown",
   "metadata": {},
   "source": [
    "<img src=\"img/basic_unit3_example3-4.gif\"/>"
   ]
  },
  {
   "cell_type": "markdown",
   "metadata": {},
   "source": [
    "Now, if you want to do this with any object of the simulation, you will have to learn how to get the list of objects in the scene.<br>\n",
    "Do the following:"
   ]
  },
  {
   "cell_type": "markdown",
   "metadata": {},
   "source": [
    "<table style=\"float:left;background: #407EAF\">\n",
    "<tr>\n",
    "<th>\n",
    "<p class=\"transparent\">Execute in WebShell #2</p>\n",
    "</th>\n",
    "</tr>\n",
    "</table>\n",
    "<br>"
   ]
  },
  {
   "cell_type": "code",
   "execution_count": null,
   "metadata": {
    "collapsed": true
   },
   "outputs": [],
   "source": [
    "rostopic echo /gazebo/model_states -n1"
   ]
  },
  {
   "cell_type": "markdown",
   "metadata": {},
   "source": [
    "You should get a list similar to this one:"
   ]
  },
  {
   "cell_type": "code",
   "execution_count": null,
   "metadata": {
    "collapsed": true
   },
   "outputs": [],
   "source": [
    "user:~$ rostopic echo /gazebo/model_states -n1\n",
    "name: ['ground_plane', 'kinect', 'bowl_2', 'bowl_1', 'unit_box_1', 'iri_wam']\n",
    "pose:\n",
    "    ...(the poses of each one of the models in the list in order)"
   ]
  },
  {
   "cell_type": "markdown",
   "metadata": {},
   "source": [
    "<font class=\"ign_red\"><b>But don't get too excited deleting objects or you'll end up without a robot.</b></font>"
   ]
  },
  {
   "cell_type": "markdown",
   "metadata": {},
   "source": [
    "<p style=\"background:#407EAF;color:white;\">END **Example 3.4**</p>"
   ]
  },
  {
   "cell_type": "markdown",
   "metadata": {},
   "source": [
    "### But how do you interact with a service programatically?"
   ]
  },
  {
   "cell_type": "markdown",
   "metadata": {},
   "source": [
    "<p style=\"background:#407EAF;color:white;\" id=\"example3.5\">**Example 3.5**</p>"
   ]
  },
  {
   "cell_type": "markdown",
   "metadata": {},
   "source": [
    "Execute the following Python code <a href=\"#prg-3-1\">simple_service_client.py</a> by clicking on it and then clicking on the play button on the top right-hand corner of the IPython notebook.<br> "
   ]
  },
  {
   "cell_type": "markdown",
   "metadata": {},
   "source": [
    "<div class='white_bg'><img src=\"img/font-awesome_step-forward.png\" style=\"float:left\"/><br><br></div>"
   ]
  },
  {
   "cell_type": "markdown",
   "metadata": {},
   "source": [
    "You can also press **[CTRL]+[Enter]** to execute it."
   ]
  },
  {
   "cell_type": "markdown",
   "metadata": {},
   "source": [
    "What do you think it will do?<br>"
   ]
  },
  {
   "cell_type": "markdown",
   "metadata": {},
   "source": [
    "<p style=\"background:#3B8F10;color:white;\" id=\"prg-3-5\">**Python Program {3.5}: simple_service_client.py** </p><br>"
   ]
  },
  {
   "cell_type": "code",
   "execution_count": null,
   "metadata": {
    "collapsed": true
   },
   "outputs": [],
   "source": [
    "#! /usr/bin/env python\n",
    "\n",
    "import rospy\n",
    "from gazebo_msgs.srv import DeleteModel, DeleteModelRequest # Import the service message used by the service /gazebo/delete_model\n",
    "import sys \n",
    "\n",
    "rospy.init_node('service_client') # Initialise a ROS node with the name service_client\n",
    "rospy.wait_for_service('/gazebo/delete_model') # Wait for the service client /gazebo/delete_model to be running\n",
    "delete_model_service = rospy.ServiceProxy('/gazebo/delete_model', DeleteModel) # Create the connection to the service\n",
    "kk = DeleteModelRequest() # Create an object of type DeleteModelRequest\n",
    "kk.model_name = \"bowl_1\" # Fill the variable model_name of this object with the desired value\n",
    "result = delete_model_service(kk) # Send through the connection the name of the object to be deleted by the service\n",
    "print result # Print the result given by the service called"
   ]
  },
  {
   "cell_type": "markdown",
   "metadata": {},
   "source": [
    "<p style=\"background:#3B8F10;color:white;\">**END Python Program {3.5}: simple_service_client.py** </p>"
   ]
  },
  {
   "cell_type": "markdown",
   "metadata": {},
   "source": [
    "You should have seen the bowl_1 disappear after executing this snippet of code.<br>"
   ]
  },
  {
   "cell_type": "markdown",
   "metadata": {},
   "source": [
    "<img src=\"img/basic_unit3_example3-5.gif\"/>"
   ]
  },
  {
   "cell_type": "markdown",
   "metadata": {},
   "source": [
    "<p style=\"background:#407EAF;color:white;\">END **Example 3.5**</p>"
   ]
  },
  {
   "cell_type": "markdown",
   "metadata": {},
   "source": [
    "### How to know the structure of the service message used by the service?"
   ]
  },
  {
   "cell_type": "markdown",
   "metadata": {},
   "source": [
    "<p style=\"background:#407EAF;color:white;\" id=\"example3.6\">**Example 3.6**</p>"
   ]
  },
  {
   "cell_type": "markdown",
   "metadata": {},
   "source": [
    "You can do a **rosservice info ** to know the type of service message that it uses."
   ]
  },
  {
   "cell_type": "code",
   "execution_count": null,
   "metadata": {
    "collapsed": true
   },
   "outputs": [],
   "source": [
    "rosservice info /name_of_the_service"
   ]
  },
  {
   "cell_type": "markdown",
   "metadata": {},
   "source": [
    "This will return you the **name_of_the_package/Name_of_Service_message**"
   ]
  },
  {
   "cell_type": "markdown",
   "metadata": {},
   "source": [
    "Then, you can explore the structure of that service message with the following command:"
   ]
  },
  {
   "cell_type": "code",
   "execution_count": null,
   "metadata": {
    "collapsed": true
   },
   "outputs": [],
   "source": [
    "rossrv show name_of_the_package/Name_of_Service_message"
   ]
  },
  {
   "cell_type": "markdown",
   "metadata": {},
   "source": [
    "Execute the following command to see what is the service message used by the **/gazebo/delete_model** service:"
   ]
  },
  {
   "cell_type": "markdown",
   "metadata": {},
   "source": [
    "<table style=\"float:left;background: #407EAF\">\n",
    "<tr>\n",
    "<th>\n",
    "<p class=\"transparent\">Execute in WebShell #2</p>\n",
    "</th>\n",
    "</tr>\n",
    "</table>\n",
    "<br>"
   ]
  },
  {
   "cell_type": "code",
   "execution_count": null,
   "metadata": {
    "collapsed": true
   },
   "outputs": [],
   "source": [
    "rosservice info /gazebo/delete_model"
   ]
  },
  {
   "cell_type": "markdown",
   "metadata": {},
   "source": [
    "You should see something like this:"
   ]
  },
  {
   "cell_type": "markdown",
   "metadata": {},
   "source": [
    "<p style=\"background: #407EAF\">WebShell #2 Output</p>"
   ]
  },
  {
   "cell_type": "code",
   "execution_count": null,
   "metadata": {
    "collapsed": true
   },
   "outputs": [],
   "source": [
    "Node: /gazebo\n",
    "URI: rosrpc://ip-172-31-35-239:50272\n",
    "Type: gazebo_msgs/DeleteModel\n",
    "Args: model_name"
   ]
  },
  {
   "cell_type": "markdown",
   "metadata": {},
   "source": [
    "Now, execute the following command to see the structure of the message **DeleteModel**:"
   ]
  },
  {
   "cell_type": "markdown",
   "metadata": {},
   "source": [
    "<table style=\"float:left;background: #407EAF\">\n",
    "<tr>\n",
    "<th>\n",
    "<p class=\"transparent\">Execute in WebShell #2</p>\n",
    "</th>\n",
    "</tr>\n",
    "</table>\n",
    "<br>"
   ]
  },
  {
   "cell_type": "code",
   "execution_count": null,
   "metadata": {
    "collapsed": true
   },
   "outputs": [],
   "source": [
    "rossrv show gazebo_msgs/DeleteModel"
   ]
  },
  {
   "cell_type": "markdown",
   "metadata": {},
   "source": [
    "You should see something like this:"
   ]
  },
  {
   "cell_type": "markdown",
   "metadata": {},
   "source": [
    "<p style=\"background: #407EAF\">WebShell #2 Output</p>"
   ]
  },
  {
   "cell_type": "code",
   "execution_count": null,
   "metadata": {
    "collapsed": true
   },
   "outputs": [],
   "source": [
    "user catkin_ws $ rossrv show gazebo_msgs/DeleteModel\n",
    "string model_name\n",
    "---\n",
    "bool success\n",
    "string status_message"
   ]
  },
  {
   "cell_type": "markdown",
   "metadata": {},
   "source": [
    "Does it seem familiar? It should, because it's the same structure as the Topics messages, with some addons."
   ]
  },
  {
   "cell_type": "markdown",
   "metadata": {},
   "source": [
    "#### 1- Service message files have the extension **<i>.srv</i>**. Remember that Topic message files have the extension **<i>.msg</i>**"
   ]
  },
  {
   "cell_type": "markdown",
   "metadata": {},
   "source": [
    "#### 2- Service message files are defined inside a **<i>srv</i>** directory. Remember that Topic message files are defined inside a **<i>msg</i>** directory."
   ]
  },
  {
   "cell_type": "markdown",
   "metadata": {},
   "source": [
    "You can type the following command to check it."
   ]
  },
  {
   "cell_type": "markdown",
   "metadata": {},
   "source": [
    "<table style=\"float:left;background: #407EAF\">\n",
    "<tr>\n",
    "<th>\n",
    "<p class=\"transparent\">Execute in WebShell #2</p>\n",
    "</th>\n",
    "</tr>\n",
    "</table>"
   ]
  },
  {
   "cell_type": "code",
   "execution_count": null,
   "metadata": {
    "collapsed": true
   },
   "outputs": [],
   "source": [
    "roscd gazebo_msgs; ls srv"
   ]
  },
  {
   "cell_type": "markdown",
   "metadata": {},
   "source": [
    "#### 3- Service messages have **TWO** parts:"
   ]
  },
  {
   "cell_type": "markdown",
   "metadata": {},
   "source": [
    "<p style=\"color: blue;\">**REQUEST**</p><br>\n",
    "\n",
    "---<br>\n",
    "\n",
    "<p style=\"color: green;\">**RESPONSE**</p>"
   ]
  },
  {
   "cell_type": "markdown",
   "metadata": {},
   "source": [
    "In the case of the DeleteModel service, <span style=\"color: blue;\">**REQUEST**</span> contains a string called **<i>model_name</i>** and <span style=\"color: green;\">**RESPONSE**</span> is composed of a boolean named **<i>success</i>**, and a string named **<i>status_message</i>**.\n",
    "<br><br>\n",
    "The Number of elements on each part of the service message can vary depending on the service needs. You can even put none if you find that it is irrelevant for your service. The important part of the message is the three dashes <b>---</b>, because they define the file as a Service Message."
   ]
  },
  {
   "cell_type": "markdown",
   "metadata": {},
   "source": [
    "Summarizing:\n",
    "\n",
    "The <span style=\"color: blue;\">**REQUEST**</span> is the part of the service message that defines **HOW you will do a call** to your service. This means, what variables you will have to pass to the Service Server so that it is able to complete its task.\n",
    "\n",
    "The <span style=\"color: green;\">**RESPONSE**</span> is the part of the service message that defines **HOW your service will respond** after completing its functionality. If, for instance, it will return an string with a certaing message saying that everything went well, or if it will return nothing, etc..."
   ]
  },
  {
   "cell_type": "markdown",
   "metadata": {},
   "source": [
    "<p style=\"background:#407EAF;color:white;\">END **Example 3.6**</p>"
   ]
  },
  {
   "cell_type": "markdown",
   "metadata": {},
   "source": [
    "<p id=\"ex-2.3\" style=\"background:#EE9023;color:white;\">**Exercise 3.1**</p>"
   ]
  },
  {
   "cell_type": "markdown",
   "metadata": {},
   "source": [
    "* First of all, create a package to place all the future code. For better future reference, you can call it **unit_3_services**, with dependencies **rospy** and **iri_wam_reproduce_trajectory**.\n",
    "* Create a launch called **my_robot_arm_demo.launch**, that starts the **/execute_trajectory** service. As explained in the <a href=\"#example3.3\">Example 3.3</a>, this service is launched by the launch file **start_service.launch**, which is in the package **iri_wam_reproduce_trajectory**.\n",
    "* Get information of what type of service message does this **/execute_trajectory** service uses, as explained in <a href=\"#example3.6\">Example 3.6</a>.\n",
    "* Make the robotic arm move following a trajectory, which is specified in a file.<br>\n",
    "Modify the previous code of <a href=\"#example3.5\">Example 3.5</a>, which called the **/gazebo/delete_model** service, to call now the **/execute_trajectory** service instead. The new Python file could be called **exercise_3_1.py**, for future reference.\n",
    "* Here you have the code necessary to get the path to the trajectory files based on the package where they are. Here, the trajectory file **get_food.txt** is selected, but you can use any of the available in the **config** folder of the  **iri_wam_reproduce_trajectory** package."
   ]
  },
  {
   "cell_type": "code",
   "execution_count": null,
   "metadata": {
    "collapsed": true
   },
   "outputs": [],
   "source": [
    "import rospkg\n",
    "rospack = rospkg.RosPack()\n",
    "# This rospack.get_path() works in the same way as $(find name_of_package) in the launch files.\n",
    "traj = rospack.get_path('iri_wam_reproduce_trajectory') + \"/config/get_food.txt\""
   ]
  },
  {
   "cell_type": "markdown",
   "metadata": {},
   "source": [
    "* Modify the main launch file **my_robot_arm_demo.launch**, so that now it also launches the Python code you have just created in **exercise_3_1.py**.\n",
    "* Finally, execute the **my_robot_arm_demo.launch** file and see how the robot performs the trajectory."
   ]
  },
  {
   "cell_type": "markdown",
   "metadata": {},
   "source": [
    "<p id=\"ex-2.3\" style=\"background:#EE9023;color:white;\">END **Exercise 3.1**</p>"
   ]
  },
  {
   "cell_type": "markdown",
   "metadata": {},
   "source": [
    "<p style=\"background:green;color:white;\">Solution Exercise 3.1</p>"
   ]
  },
  {
   "cell_type": "markdown",
   "metadata": {},
   "source": [
    "Please Try to do it by yourself unless you get stuck or need some inspiration. You will learn much more if you fight for each exercise."
   ]
  },
  {
   "cell_type": "markdown",
   "metadata": {},
   "source": [
    "<img src=\"img/robotignite_logo_text.png\"/>"
   ]
  },
  {
   "cell_type": "markdown",
   "metadata": {},
   "source": [
    "Follow this link to open the solutions notebook for Unit3 Services Part1:[solutions_unit3_services_part1](extra_files/solutions_unit3_services_part1.ipynb)"
   ]
  },
  {
   "cell_type": "markdown",
   "metadata": {},
   "source": [
    "<p style=\"background:green;color:white;\">END Solution Exercise 3.1</p>"
   ]
  },
  {
   "cell_type": "markdown",
   "metadata": {},
   "source": [
    "## Summary"
   ]
  },
  {
   "cell_type": "markdown",
   "metadata": {},
   "source": [
    "Services provide functionality to other nodes. If a node knows how to delete an object on the simulation, it can provide that functionality to other nodes through a service call, so they can call the service when they need to delete something.\n",
    "<br><br>\n",
    "Services allow the specialization of nodes (each node specializes in one thing)."
   ]
  }
 ],
 "metadata": {
  "anaconda-cloud": {},
  "kernelspec": {
   "display_name": "Python [Root]",
   "language": "python",
   "name": "Python [Root]"
  },
  "language_info": {
   "codemirror_mode": {
    "name": "ipython",
    "version": 2
   },
   "file_extension": ".py",
   "mimetype": "text/x-python",
   "name": "python",
   "nbconvert_exporter": "python",
   "pygments_lexer": "ipython2",
   "version": "2.7.12"
  },
  "latex_metadata": {
   "chapter": "3 - Services in ROS",
   "chapter_title": "Unit 3. Services in ROS Part 1",
   "course_title": "ROS BASICS IN 5 DAYS"
  }
 },
 "nbformat": 4,
 "nbformat_minor": 1
}
