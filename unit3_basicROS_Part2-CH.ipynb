{
 "cells": [
  {
   "cell_type": "markdown",
   "metadata": {},
   "source": [
    "# <font class='ign_color'>ROS IN A SINGLE WEEK</font>"
   ]
  },
  {
   "cell_type": "markdown",
   "metadata": {},
   "source": [
    "# 单元 3: Service 在ROS"
   ]
  },
  {
   "cell_type": "markdown",
   "metadata": {},
   "source": [
    "<table style=\"width:100%\">\n",
    "  <tr>\n",
    "    <th>预计完成时间: 3 hours<br><br>你将在这个单元学到什么？\n",
    "<ul>\n",
    "  <li>如何给出一个 service</li>\n",
    "  <li>创建你自己的 action 服务器信息</li>\n",
    "</ul></th>\n",
    "    <th><img src=\"img/bb8.jpg\" width=\"228\" height=\"279\" /></th> \n",
    "  </tr>\n",
    "</table>"
   ]
  },
  {
   "cell_type": "markdown",
   "metadata": {},
   "source": [
    "## 第二部分: 如何给出一个Service"
   ]
  },
  {
   "cell_type": "markdown",
   "metadata": {},
   "source": [
    "到目前，我们使用的services都是由他人创建的。现在让我们来创建自己的service。<br>\n",
    "<table style=\"float:left;\">\n",
    "<tr>\n",
    "<th>\n",
    "试着输入以下Python代码:\n",
    "</th>\n",
    "</tr>\n",
    "</table>\n"
   ]
  },
  {
   "cell_type": "markdown",
   "metadata": {},
   "source": [
    "<table style=\"float:left;\">\n",
    "<tr>\n",
    "<th>\n",
    "<p style=\"background:#407EAF;color:white;\">例子 3.2</p><br>\n",
    "执行以下的Python代码 <a href=\"#prg-3-2\">simple_service_server.py</a> （点击）然后再点击IPython Notebook右上角的运行按钮。<br> \n",
    "<img src=\"img/font-awesome_step-forward.png\" style=\"float:left\"/><br>\n",
    "<br><br>\n",
    "你也可以按 <i>[CTRL]+[Enter]</i> 来执行它。<br>\n",
    "<br>\n",
    "</th>\n",
    "</tr>\n",
    "</table>"
   ]
  },
  {
   "cell_type": "markdown",
   "metadata": {},
   "source": [
    "<p style=\"background:#3B8F10;color:white;\" id=\"prg-3-2\">Python Program {3.2}: simple_service_server.py </p><br>"
   ]
  },
  {
   "cell_type": "code",
   "execution_count": null,
   "metadata": {},
   "outputs": [],
   "source": [
    "#! /usr/bin/env python\n",
    "\n",
    "import rospy\n",
    "from std_srvs.srv import Empty, EmptyResponse # you import the service message python classes generated from Empty.srv.\n",
    "\n",
    "\n",
    "def my_callback(request):\n",
    "    print \"My_callback has been called\"\n",
    "    return EmptyResponse() # the service Response class, in this case EmptyResponse\n",
    "    #return MyServiceResponse(len(request.words.split())) \n",
    "\n",
    "rospy.init_node('service_client') \n",
    "my_service = rospy.Service('/my_service', Empty , my_callback) # create the Service called my_service with the defined callback\n",
    "rospy.spin() # mantain the service open."
   ]
  },
  {
   "cell_type": "markdown",
   "metadata": {},
   "source": [
    "<p style=\"background:#3B8F10;color:white;\">结束 Python Program {3.2}: simple_service_server.py </p><br>"
   ]
  },
  {
   "cell_type": "markdown",
   "metadata": {},
   "source": [
    "发生了些什么吗?<br>\n",
    "当然还没，你才刚刚创建了Service服务器。"
   ]
  },
  {
   "cell_type": "markdown",
   "metadata": {},
   "source": [
    "<table style=\"float:left;\">\n",
    "<tr>\n",
    "<th>\n",
    "现在你需要<b>调用</b>它. 请手动调用service <i>/my_service</i> 。别忘了之前说过的调用时的结构，记得双击 TAB-TAB 来自动补全  ServiceCall 消息。\n",
    "</th>\n",
    "</tr>\n",
    "</table>\n"
   ]
  },
  {
   "cell_type": "markdown",
   "metadata": {},
   "source": [
    "<table style=\"float:left;background: #407EAF\">\n",
    "<tr>\n",
    "<th>\n",
    "<p style=\"background: #FFFFFF\">在 WebShell #1中执行</p><br>\n",
    "rosservice call /my_service [TAB]+[TAB]<br>\n",
    "</th>\n",
    "</tr>\n",
    "</table>\n",
    "<br>"
   ]
  },
  {
   "cell_type": "markdown",
   "metadata": {},
   "source": [
    "运行了吗？你应该看到'我的回调函数已被调用（My callback function has been called）' 的消息用Python代码显示在shell的输出中。非常好！让我们继续。<br><br>\n",
    "<font color=\"green\">信息: 请注意在例子中，my_callback函数中有一条带注释的行。 这是一个示例，向你展示如何访问你的service的调用者给出的请求。 它总是如此所示 <b>request.<i>variables_in_the_request_part_of_srv_message</i></b>.<br> 它还向你展示了什么类型的对象你需要返回。 通常使用 <b>Response</b> python类， 它总是具有这样的结构： <i>name_of_the_serviceResponse()</i>。</font>"
   ]
  },
  {
   "cell_type": "markdown",
   "metadata": {},
   "source": [
    "<table style=\"float:left;\">\n",
    "<tr>\n",
    "<th>\n",
    "<p style=\"background:#EE9023;color:white;\">练习 3.2</p><br>\n",
    "<ol>\n",
    "<li>创建一个包使BB-8在正方形中移动 <a href=\"#fig-3.1\">{图-3.1}</a>。 要移动BB-8，你只需要在 <i>/cmd_vel</i> Topic中编写，如同你在之前单元中做的一样。请注意，虽然这是一个模拟器，但真实的BB-8机器人是有重量，由于惯性它不会立即停止。 同样的在转弯时会有摩擦和惯性作用。 还有一点，由于只通过 <i>/cmd_vel</i> 来移动，你会没有办法检查当它根据你所希望的转弯。 这是一个开环系统。 除非你找到获得一些位置反馈信息的方法。 这是给进阶的AstroMech建设者的挑战。</li>\n",
    "  <li>添加一个service接受 空服务（Empty Service）消息并激活方形运转。 为此，你需要创建一个非常相似于上面的python文件例子。</li>\n",
    "  <li>创建一个新的包，具有一个启动（launch）来调用你刚创建的service。</li>\n",
    "</ol>\n",
    "</th>\n",
    "</tr>\n",
    "</table>"
   ]
  },
  {
   "cell_type": "markdown",
   "metadata": {},
   "source": [
    "<figure>\n",
    "  <img id=\"fig-3.1\" src=\"img/bb8_excercice.png\"></img>\n",
    "   <center> <figcaption>图.3.1 - BB8 方形运动图</figcaption></center>\n",
    "</figure>"
   ]
  },
  {
   "cell_type": "markdown",
   "metadata": {},
   "source": [
    "## 第三部分: 如何创建你自己的 action 服务器消息"
   ]
  },
  {
   "cell_type": "markdown",
   "metadata": {
    "collapsed": true
   },
   "source": [
    "如果可用的service消息不符合你的需求该怎么办？你可以像使用Topic消息一样创建你自己的service消息.<br>\n",
    "你需要按照以下步骤执行。"
   ]
  },
  {
   "cell_type": "markdown",
   "metadata": {},
   "source": [
    "<ul>\n",
    "    <li>创建一个这样的包：</li>\n",
    "</ul>"
   ]
  },
  {
   "cell_type": "markdown",
   "metadata": {},
   "source": [
    "<table style=\"float:left;background: #407EAF\">\n",
    "<tr>\n",
    "<th>\n",
    "<p style=\"background: #FFFFFF\">在 WebShell #1中执行</p><br>\n",
    "roscd;cd ..;cd src<br>\n",
    "catkin_create_pkg my_custom_srv_msg_pkg rospy<br>\n",
    "</th>\n",
    "</tr>\n",
    "</table>\n",
    "<br>"
   ]
  },
  {
   "cell_type": "markdown",
   "metadata": {},
   "source": [
    "<ul>\n",
    "    <li>使用以下结构来创建你自己的Service message。 你可以放置尽可能多的变量，根据你对任何由ROS  <a href=\"http://wiki.ros.org/msg\">Msg ROS Types</a>支持的类型的需求。在你的包中创建 <i>srv</i> 文件夹，如同你使用Topics <i>msg</i> 文件夹做的一样。然后根据需要使用IDE或终端创建MyCustomServiceMessage.srv。</li>\n",
    "</ul>"
   ]
  },
  {
   "cell_type": "markdown",
   "metadata": {},
   "source": [
    "<table style=\"float:left;background: #407EAF\">\n",
    "<tr>\n",
    "<th>\n",
    "<p style=\"background: #FFFFFF\">在 WebShell #1中执行</p><br>\n",
    "roscd my_custom_srv_msg_pkg/<br>\n",
    "mkdir srv<br>\n",
    "vim srv/MyCustomServiceMessage.srv<br>\n",
    "</th>\n",
    "</tr>\n",
    "</table>\n",
    "<br>"
   ]
  },
  {
   "cell_type": "markdown",
   "metadata": {},
   "source": [
    "如果你觉得不能与 vim 兼容，你也可以通过 IDE 创建 <i>MyCustomServiceMessage.srv</i>。"
   ]
  },
  {
   "cell_type": "markdown",
   "metadata": {},
   "source": [
    "<b>MyCustomServiceMessage.srv</b> 大致如下所示:"
   ]
  },
  {
   "cell_type": "raw",
   "metadata": {},
   "source": [
    "float64 radius\n",
    "int32 repetitions\n",
    "---\n",
    "bool success"
   ]
  },
  {
   "cell_type": "markdown",
   "metadata": {},
   "source": [
    "## 如何为自定义service编译准备 CMakeLists.txt 和 package.xml"
   ]
  },
  {
   "cell_type": "markdown",
   "metadata": {},
   "source": [
    "你需要在包中编辑两个文件，如在Topics所述:\n",
    "<ul>\n",
    "<li>CMakeLists.txt</li>\n",
    "<li>package.xml</li>\n",
    "</ul>"
   ]
  },
  {
   "cell_type": "markdown",
   "metadata": {},
   "source": [
    "### 在 package.xml 中: "
   ]
  },
  {
   "cell_type": "markdown",
   "metadata": {},
   "source": [
    "<ol>\n",
    "<li>\n",
    "添加编译消息所需的所有包。<br>\n",
    "在这种情况下，你只需要添加 <i>message_generation</i>。<br>\n",
    "你将需要导入这些包为 <b>build_depend</b>。<br>\n",
    "</li>\n",
    "<li>\n",
    "另一方面，如果你需要一个包来执行包中的程序，那么你必须将这些包导入为 <b>run_depend</b>。\n",
    "</li>\n",
    "</ol>"
   ]
  },
  {
   "cell_type": "markdown",
   "metadata": {},
   "source": [
    "在种情况下，你应该得到一个 package.xml 如下所示："
   ]
  },
  {
   "cell_type": "raw",
   "metadata": {
    "raw_mimetype": "text/html"
   },
   "source": [
    "<build_depend>message_generation</build_depend>\n",
    "<run_depend>message_runtime</run_depend>"
   ]
  },
  {
   "cell_type": "markdown",
   "metadata": {},
   "source": [
    "类似以下所示:"
   ]
  },
  {
   "cell_type": "raw",
   "metadata": {},
   "source": [
    "<?xml version=\"1.0\"?>\n",
    "<package>\n",
    "  <name>my_custom_srv_msg_pkg</name>\n",
    "  <version>0.0.0</version>\n",
    "  <description>The my_custom_srv_msg_pkg package</description>\n",
    "\n",
    "  <maintainer email=\"user@todo.todo\">user</maintainer>\n",
    "\n",
    "  <license>TODO</license>\n",
    "\n",
    "  <buildtool_depend>catkin</buildtool_depend>\n",
    "  <build_depend>rospy</build_depend>\n",
    "  <build_depend>message_generation</build_depend>\n",
    "  <run_depend>rospy</run_depend>\n",
    "  <run_depend>message_runtime</run_depend>\n",
    "\n",
    "  <export>\n",
    "  </export>\n",
    "</package>"
   ]
  },
  {
   "cell_type": "markdown",
   "metadata": {},
   "source": [
    "### 在 CMakeLists.txt 中"
   ]
  },
  {
   "cell_type": "markdown",
   "metadata": {},
   "source": [
    "你将需要编辑四个在 CMakeLists.txt 中的函数:\n",
    "<ul>\n",
    "<li><span style=\"color:green\"><a href=\"#find_package\">find_package()</a></span></li>\n",
    "<li><span style=\"color:green\"><a href=\"#add_action_files\">add_service_files()</a></span></li>\n",
    "<li><span style=\"color:green\"><a href=\"#generate_messages\">generate_messages()</a></span></li>\n",
    "<li><span style=\"color:green\"><a href=\"#catkin_package\">catkin_package()</a></span></li>\n",
    "</ul>\n"
   ]
  },
  {
   "cell_type": "markdown",
   "metadata": {},
   "source": [
    "<span style=\"color: green\" id=\"find_package\">find_package()</span>"
   ]
  },
  {
   "cell_type": "markdown",
   "metadata": {},
   "source": [
    "这里所有的包需要编译topic, services 和 actions 的messages。 这只是获取它们的路径，而不是真正导入他们以使用于编译中。 其仅用于在CMakeLists.txt中更多的函数得以找到这些包。<br>\n",
    "在package.xml中，必须将它们声明为<b>build_depend</b>。"
   ]
  },
  {
   "cell_type": "code",
   "execution_count": null,
   "metadata": {
    "collapsed": true
   },
   "outputs": [],
   "source": [
    "find_package(catkin REQUIRED COMPONENTS\n",
    "  std_msgs\n",
    "  message_generation\n",
    ")"
   ]
  },
  {
   "cell_type": "markdown",
   "metadata": {},
   "source": [
    "<span style=\"color: green\" id=\"add_action_files\">add_service_files()</span>"
   ]
  },
  {
   "cell_type": "markdown",
   "metadata": {},
   "source": [
    "在这个函数中，会将这个包的所有service messages（在srv文件夹中）进行编译。 你可以声明它获取srv目录中的所有服务：DIRECTORY srv 或者只是明确声明service messages：FILES my_custom_action.srv 在你的情况中，你只需要如你所愿做二者之一。"
   ]
  },
  {
   "cell_type": "code",
   "execution_count": null,
   "metadata": {
    "collapsed": true
   },
   "outputs": [],
   "source": [
    "add_service_files(\n",
    "  FILES\n",
    "  MyCustomServiceMessage.srv\n",
    ")"
   ]
  },
  {
   "cell_type": "markdown",
   "metadata": {},
   "source": [
    "<span style=\"color: green\" id=\"generate_messages\">generate_messages()</span>"
   ]
  },
  {
   "cell_type": "code",
   "execution_count": null,
   "metadata": {
    "collapsed": true
   },
   "outputs": [],
   "source": [
    "generate_messages(\n",
    "  DEPENDENCIES\n",
    "  std_msgs\n",
    ")"
   ]
  },
  {
   "cell_type": "markdown",
   "metadata": {},
   "source": [
    "<span style=\"color: green\" id=\"catkin_package\">catkin_package()</span>"
   ]
  },
  {
   "cell_type": "markdown",
   "metadata": {},
   "source": [
    "在这里所有的包将需要由某人在你包中执行一些行为。 此处包都必须在package.xml中作为 <b>run_depend</b>。"
   ]
  },
  {
   "cell_type": "raw",
   "metadata": {},
   "source": [
    "catkin_package(\n",
    "      CATKIN_DEPENDS\n",
    "      rospy\n",
    ")"
   ]
  },
  {
   "cell_type": "markdown",
   "metadata": {},
   "source": [
    "一旦完成，你应该得到相似于以下的示例："
   ]
  },
  {
   "cell_type": "raw",
   "metadata": {},
   "source": [
    "cmake_minimum_required(VERSION 2.8.3)\n",
    "project(my_custom_srv_msg_pkg)\n",
    "\n",
    "\n",
    "## Here go all the packages needed to COMPILE the messages of topic, services and actions.\n",
    "## Its only geting its paths, and not really importing them to be used in the compilation.\n",
    "## Its only for further functions in CMakeLists.txt to be able to find those packages.\n",
    "## In package.xml you have to state them as build\n",
    "find_package(catkin REQUIRED COMPONENTS\n",
    "  std_msgs\n",
    "  message_generation\n",
    ")\n",
    "\n",
    "## Generate services in the 'srv' folder\n",
    "## In this function will be all the action messages of this package ( in the action folder ) to be compiled.\n",
    "## You can state that it gets all the actions inside the action directory: DIRECTORY action\n",
    "## Or just the action messages stated explicitly: FILES my_custom_action.action\n",
    "## In your case you only need to do one of two things, as you wish.\n",
    "add_service_files(\n",
    "  FILES\n",
    "  MyCustomServiceMessage.srv\n",
    ")\n",
    "\n",
    "## Here is where the packages needed for the action messages compilation are imported.\n",
    "generate_messages(\n",
    "  DEPENDENCIES\n",
    "  std_msgs\n",
    ")\n",
    "\n",
    "## State here all the packages that will be needed by someone that executes something from your package.\n",
    "## All the packages stated here must be in the package.xml as run_depend\n",
    "catkin_package(\n",
    "  CATKIN_DEPENDS rospy\n",
    ")\n",
    "\n",
    "\n",
    "include_directories(\n",
    "  ${catkin_INCLUDE_DIRS}\n",
    ")"
   ]
  },
  {
   "cell_type": "markdown",
   "metadata": {},
   "source": [
    "<ul>\n",
    "    <li>一旦完成，编译你的包:</li>\n",
    "</ul>\n"
   ]
  },
  {
   "cell_type": "raw",
   "metadata": {},
   "source": [
    "roscd;cd ..\n",
    "catkin_make\n",
    "source devel/setup.bash"
   ]
  },
  {
   "cell_type": "markdown",
   "metadata": {},
   "source": [
    "<span style=\"color: red\">\n",
    "这非常重要！当你通过catkin_make消息编译时，有一个额外的步骤。 您必须在Webshell中的catkin_ws输入：source devel / setup.bash中键入Webshell。 这将执行此bash文件，它设置除其他外新生成的消息都由catkin_make创建。<br>\n",
    "如果你不这样做，它可能会给你一个python输入错误，说它找不到生成的消息。\n",
    "</span>"
   ]
  },
  {
   "cell_type": "markdown",
   "metadata": {},
   "source": [
    "你应该在所有messages中看到类似这样的东西:<br>\n",
    "<i>从 SRV my_custom_srv_msg_pkg/MyCustomServiceMessage 生成Python代码。</i><br>\n",
    "为检查你准备好用于使用类型的系统中有这样的东西："
   ]
  },
  {
   "cell_type": "markdown",
   "metadata": {},
   "source": [
    "<table style=\"float:left;background: #407EAF\">\n",
    "<tr>\n",
    "<th>\n",
    "<p style=\"background: #FFFFFF\">在 WebShell #1中执行</p><br>\n",
    "rossrv list | grep MyCustomServiceMessage\n",
    "</th>\n",
    "</tr>\n",
    "</table>"
   ]
  },
  {
   "cell_type": "markdown",
   "metadata": {},
   "source": [
    "你应该看到这样的输出:"
   ]
  },
  {
   "cell_type": "markdown",
   "metadata": {},
   "source": [
    "<table style=\"float:left;background: #FFFFFF\">\n",
    "<tr>\n",
    "<th>\n",
    "<p style=\"background: #407EAF\">WebShell #1 输出</p><br>\n",
    "user ~ $ rossrv list | grep MyCustomServiceMessage<br>\n",
    "<span style=\"color: red\">my_custom_srv_msg_pkg/MyCustomServiceMessage</span><br>\n",
    "</th>\n",
    "</tr>\n",
    "</table>"
   ]
  },
  {
   "cell_type": "markdown",
   "metadata": {},
   "source": [
    "就是这样! 现在只需要创建一个使用此数据的Service服务器。如下所示："
   ]
  },
  {
   "cell_type": "markdown",
   "metadata": {},
   "source": [
    "<p style=\"background:#3B8F10;color:white;\" id=\"prg-3-3\">Python Program {3.3}: custom_service_server.py </p><br>"
   ]
  },
  {
   "cell_type": "code",
   "execution_count": null,
   "metadata": {},
   "outputs": [],
   "source": [
    "#! /usr/bin/env python\n",
    "\n",
    "import rospy\n",
    "from my_custom_srv_msg_pkg.srv import MyCustomServiceMessage, MyCustomServiceMessageResponse # you import the service message python classes generated from Empty.srv.\n",
    "\n",
    "\n",
    "def my_callback(request):\n",
    "    \n",
    "    print \"Request Data==> radius=\"+str(request.radius)+\", repetitions = \"+str(request.repetitions)\n",
    "    my_response = MyCustomServiceMessageResponse()\n",
    "    if request.radius > 5.0:\n",
    "        my_response.success = True\n",
    "    else:\n",
    "        my_response.success = False\n",
    "    return  my_response# the service Responce class, in this case EmptyResponse\n",
    "\n",
    "rospy.init_node('service_client') \n",
    "my_service = rospy.Service('/my_service', MyCustomServiceMessage , my_callback) # create the Service called my_service with the defined callback\n",
    "rospy.spin() # mantain the service open."
   ]
  },
  {
   "cell_type": "markdown",
   "metadata": {},
   "source": [
    "<p style=\"background:#3B8F10;color:white;\">结束 Python Program {3.3}: custom_service_server.py </p><br>"
   ]
  },
  {
   "cell_type": "markdown",
   "metadata": {},
   "source": [
    "<table style=\"float:left;\">\n",
    "<tr>\n",
    "<th>\n",
    "<p style=\"background:#EE9023;color:white;\">练习 3.3</p><br>\n",
    "<ol>\n",
    "  <li>修改你在练习 2.1中的包以接受你的自定义消息，而不是接受空服务（Empty Service)消息。</li>\n",
    "  <li>使用由你的自定义消息传递的数据，以更改BB-8执行正方形中所需的service方式。 <i>请求（request）</i> 变量如你所想的关键。</li>\n",
    "  <li>修改调用sercice的 launch（启动）以执行自定义消息的调用。</li>\n",
    "</ol>\n",
    "</th>\n",
    "</tr>\n",
    "</table>"
   ]
  },
  {
   "cell_type": "markdown",
   "metadata": {},
   "source": [
    "<figure>\n",
    "  <img id=\"fig-3.2\" src=\"img/bb8_exercice_extra.png\"></img>\n",
    "   <center> <figcaption>图.3.2 - BB8 动态正方形/环绕运动图</figcaption></center>\n",
    "</figure>"
   ]
  },
  {
   "cell_type": "markdown",
   "metadata": {},
   "source": [
    "恭喜你！你已经准备就绪了添加任何你想要的Services到你的个人宇航技工机器人（astromech droid）中!"
   ]
  },
  {
   "cell_type": "code",
   "execution_count": null,
   "metadata": {
    "collapsed": true
   },
   "outputs": [],
   "source": []
  }
 ],
 "metadata": {
  "anaconda-cloud": {},
  "celltoolbar": "Raw Cell Format",
  "kernelspec": {
   "display_name": "Python 2",
   "language": "python",
   "name": "python2"
  },
  "language_info": {
   "codemirror_mode": {
    "name": "ipython",
    "version": 2
   },
   "file_extension": ".py",
   "mimetype": "text/x-python",
   "name": "python",
   "nbconvert_exporter": "python",
   "pygments_lexer": "ipython2",
   "version": "2.7.12"
  }
 },
 "nbformat": 4,
 "nbformat_minor": 1
}
