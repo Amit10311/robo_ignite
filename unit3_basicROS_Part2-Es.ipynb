{
 "cells": [
  {
   "cell_type": "markdown",
   "metadata": {},
   "source": [
    "# <font class='ign_color'>ROS EN UNA SOLA SEMANA</font>"
   ]
  },
  {
   "cell_type": "markdown",
   "metadata": {},
   "source": [
    "# Capítulo 3: Servicios en ROS"
   ]
  },
  {
   "cell_type": "markdown",
   "metadata": {},
   "source": [
    "<table style=\"width:100%\">\n",
    "  <tr>\n",
    "    <th>Tiempo estimado para completarlo: 3 horas<br><br>Qué vas a aprender en esta unidad?\n",
    "<ul>\n",
    "  <li>Cómo proporcionar un servicio</li>\n",
    "  <li>Crea tu propio Mensaje de Servicio</li>\n",
    "</ul></th>\n",
    "    <th><img src=\"img/bb8.jpg\" width=\"228\" height=\"279\" /></th> \n",
    "  </tr>\n",
    "</table>"
   ]
  },
  {
   "cell_type": "markdown",
   "metadata": {},
   "source": [
    "## Parte 2: Como proporcionar un Servicio"
   ]
  },
  {
   "cell_type": "markdown",
   "metadata": {},
   "source": [
    "Hasta ahora has usado servicios que otros proporcionaban. Ahora vas a crear el tuyo propio.<br>\n",
    "<table style=\"float:left;\">\n",
    "<tr>\n",
    "<th>\n",
    "Prueba el siguiente código Python:\n",
    "</th>\n",
    "</tr>\n",
    "</table>\n"
   ]
  },
  {
   "cell_type": "markdown",
   "metadata": {},
   "source": [
    "<table style=\"float:left;\">\n",
    "<tr>\n",
    "<th>\n",
    "<p style=\"background:#407EAF;color:white;\">Ejemplo 3.2</p><br>\n",
    "Ejecuta el siguiente código Python <a href=\"#prg-3-2\">simple_service_server.py</a> clicando en él y después clicando en el botón de Play en la esquina superior derecha del IPython notebook.<br> \n",
    "<img src=\"img/font-awesome_step-forward.png\" style=\"float:left\"/><br>\n",
    "<br><br>\n",
    "También puedes pulsar <i>[CTRL]+[Enter]</i> para ejecutarlo.<br>\n",
    "<br>\n",
    "</th>\n",
    "</tr>\n",
    "</table>"
   ]
  },
  {
   "cell_type": "markdown",
   "metadata": {},
   "source": [
    "<p style=\"background:#3B8F10;color:white;\" id=\"prg-3-2\">Programa Python {3.2}: simple_service_server.py </p><br>"
   ]
  },
  {
   "cell_type": "code",
   "execution_count": null,
   "metadata": {},
   "outputs": [],
   "source": [
    "#! /usr/bin/env python\n",
    "\n",
    "import rospy\n",
    "from std_srvs.srv import Empty, EmptyResponse # importas las clases Python de los mensajes de servicios generadas \n",
    "                                              # por el fichero Empty.srv.\n",
    "\n",
    "\n",
    "def my_callback(request):\n",
    "    print \"My_callback has been called\"\n",
    "    return EmptyResponse() # la clase de la Response del servicio, en este caso EmptyResponse\n",
    "    #return MyServiceResponse(len(request.words.split())) \n",
    "\n",
    "rospy.init_node('service_client') \n",
    "my_service = rospy.Service('/my_service', Empty , my_callback) # crea el Servicio my_service con el callback definido\n",
    "rospy.spin() # mantiene el servicio abierto"
   ]
  },
  {
   "cell_type": "markdown",
   "metadata": {},
   "source": [
    "<p style=\"background:#3B8F10;color:white;\">FIN del Programa Python {3.2}: simple_service_server.py </p><br>"
   ]
  },
  {
   "cell_type": "markdown",
   "metadata": {},
   "source": [
    "Ha ocurrido algo?<br>\n",
    "Por supuesto que no! Sólo has creado el service server. "
   ]
  },
  {
   "cell_type": "markdown",
   "metadata": {},
   "source": [
    "<table style=\"float:left;\">\n",
    "<tr>\n",
    "<th>\n",
    "Ahora tienes que <b>LLAMARLO</b>. Así que llama al servicio <i>/my_service</i> manualmente. Recuerda la estructura para hacer llamadas comentada previamente y no olvides el TAB-TAB para autocompletar el mensaje de la llamada.\n",
    "</th>\n",
    "</tr>\n",
    "</table>\n"
   ]
  },
  {
   "cell_type": "markdown",
   "metadata": {},
   "source": [
    "<table style=\"float:left;background: #407EAF\">\n",
    "<tr>\n",
    "<th>\n",
    "<p style=\"background: #FFFFFF\">Ejecuta en el WebShell #1</p><br>\n",
    "rosservice call /my_service [TAB]+[TAB]<br>\n",
    "</th>\n",
    "</tr>\n",
    "</table>\n",
    "<br>"
   ]
  },
  {
   "cell_type": "markdown",
   "metadata": {},
   "source": [
    "Ha funcionado? Deberías haber visto el mensaje 'My callback function has been called' impreso en la salida del código Python (justo abajo del código). Genial!<br><br>\n",
    "<font color=\"green\">Info: Dáte cuenta que en el ejemplo hay una línea comentada en la función my_callback. Ahí tienes un ejemplo de cómo acceder a la request proporcionada por el que llame a tu servicio. Siempre es <b>request.<i>variables_en_la_parte_del_request_del_mensaje</i></b>.<br> También te muestra qué tipo de objeto deberías devolver. Normalmente se usa la clase Python <b>Response</b>. Siempre tiene la estructura <i>nombre_del_servicioResponse()</i>.</font>"
   ]
  },
  {
   "cell_type": "markdown",
   "metadata": {},
   "source": [
    "<table style=\"float:left;\">\n",
    "<tr>\n",
    "<th>\n",
    "<p style=\"background:#EE9023;color:white;\">Ejercicio 3.2</p><br>\n",
    "<ol>\n",
    "<li>Crea un paquete que haga que el BB-8 se mueva en un cuadrado <a href=\"#fig-3.1\">{Fig-3.1}</a>. Para mover el BB-8, simplemente tienes que escribir en el tópico <i>/cmd_vel</i> como hiciste en la unidad previa. Ten en cuenta que a pesar de que esto es una simulación, el BB-8 tiene peso y por lo tanto no se parará inmediatamente debido a la inercia. También cuando gire habrá fricciones e inercia en juego. Ten en cuenta también que simplemente moviéndolo por el tópico <i>/cmd_vel</i>, no tienes manera de comprobar si ha girado lo que tu querías. Es un sistema de lazo abierto. A menos que encuentres alguna manera de obtener feedback posicional. Esto es un reto para estudiantes avanzados!</li>\n",
    "  <li>Añade un servicio que acepte un mensaje Empty y active el movimiento en cuadrado. Para ello debes crear un fichero Python muy similar al que has visto más arriba.</li>\n",
    "  <li>Crea un nuevo paquete que tenga un launch que llame al servicio que acabas de crear.</li>\n",
    "</ol>\n",
    "</th>\n",
    "</tr>\n",
    "</table>"
   ]
  },
  {
   "cell_type": "markdown",
   "metadata": {},
   "source": [
    "<figure>\n",
    "  <img id=\"fig-3.1\" src=\"img/bb8_excercice.png\"></img>\n",
    "   <center> <figcaption>Fig.3.1 - BB8 Square Movement Diagram</figcaption></center>\n",
    "</figure>"
   ]
  },
  {
   "cell_type": "markdown",
   "metadata": {},
   "source": [
    "## Parte 3: Cómo crear tu propio mensaje de servicio"
   ]
  },
  {
   "cell_type": "markdown",
   "metadata": {
    "collapsed": true
   },
   "source": [
    "Qué sucede si los mensajes de servicios disponibles no se ajustan a tus necesidades? Creas tu propio mensajes como hiciste en Tópicos.<br>\n",
    "Necesitarás seguir los siguientes pasos."
   ]
  },
  {
   "cell_type": "markdown",
   "metadata": {},
   "source": [
    "<ul>\n",
    "    <li>Crea un paquete</li>\n",
    "</ul>"
   ]
  },
  {
   "cell_type": "markdown",
   "metadata": {},
   "source": [
    "<table style=\"float:left;background: #407EAF\">\n",
    "<tr>\n",
    "<th>\n",
    "<p style=\"background: #FFFFFF\">Ejecuta en el WebShell #1</p><br>\n",
    "roscd;cd ..;cd src<br>\n",
    "catkin_create_pkg my_custom_srv_msg_pkg rospy<br>\n",
    "</th>\n",
    "</tr>\n",
    "</table>\n",
    "<br>"
   ]
  },
  {
   "cell_type": "markdown",
   "metadata": {},
   "source": [
    "<ul>\n",
    "    <li>Crea tu propio Mensaje de Servicio con la siguiente estructura. Puedes poner tantas variables como necesites soportadas por ROS <a href=\"http://wiki.ros.org/msg\">Msg ROS Types</a>. Crea un directorio <i>srv</i> en tu paquete, tal como hiciste con el directorio <i>msg</i> en Tópicos. Ahora crea un fichero MyCustomServiceMessage.srv mediante el IDE o con la consola, como prefieras.</li>\n",
    "</ul>"
   ]
  },
  {
   "cell_type": "markdown",
   "metadata": {},
   "source": [
    "<table style=\"float:left;background: #407EAF\">\n",
    "<tr>\n",
    "<th>\n",
    "<p style=\"background: #FFFFFF\">Ejecuta en el WebShell #1</p><br>\n",
    "roscd my_custom_srv_msg_pkg/<br>\n",
    "mkdir srv<br>\n",
    "vim srv/MyCustomServiceMessage.srv<br>\n",
    "</th>\n",
    "</tr>\n",
    "</table>\n",
    "<br>"
   ]
  },
  {
   "cell_type": "markdown",
   "metadata": {},
   "source": [
    "También puedes crear el fichero <i>MyCustomServiceMessage.srv</i> a través del IDE si no te sientes cómodo usando vim."
   ]
  },
  {
   "cell_type": "markdown",
   "metadata": {},
   "source": [
    "El fichero <b>MyCustomServiceMessage.srv</b> podría ser algo así:"
   ]
  },
  {
   "cell_type": "raw",
   "metadata": {},
   "source": [
    "float64 radius\n",
    "int32 repetitions\n",
    "---\n",
    "bool success"
   ]
  },
  {
   "cell_type": "markdown",
   "metadata": {},
   "source": [
    "## Cómo preparar los ficheros CMakeLists.txt y package.xml para la compilación"
   ]
  },
  {
   "cell_type": "markdown",
   "metadata": {},
   "source": [
    "Tienes que editar 2 ficheros dentro del paquete, tal como se explicó en Tópics:\n",
    "<ul>\n",
    "<li>CMakeLists.txt</li>\n",
    "<li>package.xml</li>\n",
    "</ul>"
   ]
  },
  {
   "cell_type": "markdown",
   "metadata": {},
   "source": [
    "### En el package.xml:"
   ]
  },
  {
   "cell_type": "markdown",
   "metadata": {},
   "source": [
    "<ol>\n",
    "<li>\n",
    "Añade todos los paquetes necesarios para compilar los mensajes.<br>\n",
    "En este caso sólo necesitas añadir el <i>message_generation</i>.<br>\n",
    "Deberás importar estos paquetes como <b>build_depend</b>.<br>\n",
    "</li>\n",
    "<li>\n",
    "Por el contrario, si necesitas un paquete para la ejecución de programas dentro de tu paquete, tendrás que importar esos paquetes como <b>run_depend</b>.\n",
    "</li>\n",
    "</ol>"
   ]
  },
  {
   "cell_type": "markdown",
   "metadata": {},
   "source": [
    "En este caso deberías tener un package.xml similar a este:"
   ]
  },
  {
   "cell_type": "raw",
   "metadata": {
    "raw_mimetype": "text/html"
   },
   "source": [
    "<build_depend>message_generation</build_depend>\n",
    "<run_depend>message_runtime</run_depend>"
   ]
  },
  {
   "cell_type": "markdown",
   "metadata": {},
   "source": [
    "Deberías tener algo similar a:"
   ]
  },
  {
   "cell_type": "raw",
   "metadata": {},
   "source": [
    "<?xml version=\"1.0\"?>\n",
    "<package>\n",
    "  <name>my_custom_srv_msg_pkg</name>\n",
    "  <version>0.0.0</version>\n",
    "  <description>The my_custom_srv_msg_pkg package</description>\n",
    "\n",
    "  <maintainer email=\"user@todo.todo\">user</maintainer>\n",
    "\n",
    "  <license>TODO</license>\n",
    "\n",
    "  <buildtool_depend>catkin</buildtool_depend>\n",
    "  <build_depend>rospy</build_depend>\n",
    "  <build_depend>message_generation</build_depend>\n",
    "  <run_depend>rospy</run_depend>\n",
    "  <run_depend>message_runtime</run_depend>\n",
    "\n",
    "  <export>\n",
    "  </export>\n",
    "</package>"
   ]
  },
  {
   "cell_type": "markdown",
   "metadata": {},
   "source": [
    "### En el CMakeLists.txt"
   ]
  },
  {
   "cell_type": "markdown",
   "metadata": {},
   "source": [
    "Tendrás que editar 4 funciones dentro del CMakeLists.txt:\n",
    "<ul>\n",
    "<li><span style=\"color:green\"><a href=\"#find_package\">find_package()</a></span></li>\n",
    "<li><span style=\"color:green\"><a href=\"#add_action_files\">add_service_files()</a></span></li>\n",
    "<li><span style=\"color:green\"><a href=\"#generate_messages\">generate_messages()</a></span></li>\n",
    "<li><span style=\"color:green\"><a href=\"#catkin_package\">catkin_package()</a></span></li>\n",
    "</ul>\n"
   ]
  },
  {
   "cell_type": "markdown",
   "metadata": {},
   "source": [
    "<span style=\"color: green\" id=\"find_package\">find_package()</span>"
   ]
  },
  {
   "cell_type": "markdown",
   "metadata": {},
   "source": [
    "Aquí van todos los paquetes necesarios para COMPILAR los mensajes de tópicos, servicios y actions. Simplemente está cogiendo sus paths, no los está importando para usarlos en la compilación. Simplemente es para que futuras funciones del CMakeLists.txt sean capaces de encontrar esos paquetes.\n",
    "En el package.xml debes colocarlos como <b>build_depend</b>."
   ]
  },
  {
   "cell_type": "code",
   "execution_count": null,
   "metadata": {
    "collapsed": true
   },
   "outputs": [],
   "source": [
    "find_package(catkin REQUIRED COMPONENTS\n",
    "  std_msgs\n",
    "  message_generation\n",
    ")"
   ]
  },
  {
   "cell_type": "markdown",
   "metadata": {},
   "source": [
    "<span style=\"color: green\" id=\"add_action_files\">add_service_files()</span>"
   ]
  },
  {
   "cell_type": "markdown",
   "metadata": {},
   "source": [
    "En esta función estarán todos los mensajes de servicios ( que están en el directorio srv ) que quieras compilar.<br>\n",
    "Puedes indicar que coja todos los mensajes dentro del directorio srv: DIRECTORY srv<br>\n",
    "o sólo los mensajes que indiques específicamente: FILES my_custom_action.srv<br>\n",
    "En tu caso puedes hacer cualquiera de los 2, como prefieras."
   ]
  },
  {
   "cell_type": "code",
   "execution_count": null,
   "metadata": {
    "collapsed": true
   },
   "outputs": [],
   "source": [
    "add_service_files(\n",
    "  FILES\n",
    "  MyCustomServiceMessage.srv\n",
    ")"
   ]
  },
  {
   "cell_type": "markdown",
   "metadata": {},
   "source": [
    "<span style=\"color: green\" id=\"generate_messages\">generate_messages()</span>"
   ]
  },
  {
   "cell_type": "markdown",
   "metadata": {},
   "source": [
    "Aquí es donde los paquetes necesarios para la compilación de los mensajes son importados."
   ]
  },
  {
   "cell_type": "code",
   "execution_count": null,
   "metadata": {
    "collapsed": true
   },
   "outputs": [],
   "source": [
    "generate_messages(\n",
    "  DEPENDENCIES\n",
    "  std_msgs\n",
    ")"
   ]
  },
  {
   "cell_type": "markdown",
   "metadata": {},
   "source": [
    "<span style=\"color: green\" id=\"catkin_package\">catkin_package()</span>"
   ]
  },
  {
   "cell_type": "markdown",
   "metadata": {},
   "source": [
    "Coloca aquí todos los paquetes que serán necesarios para alguien que ejecute algo de tu paquete.\n",
    "Todos los paquetes que estén aquí deben estar en el package.xml como <b>run_depend</b>."
   ]
  },
  {
   "cell_type": "raw",
   "metadata": {},
   "source": [
    "catkin_package(\n",
    "      CATKIN_DEPENDS\n",
    "      rospy\n",
    ")"
   ]
  },
  {
   "cell_type": "markdown",
   "metadata": {},
   "source": [
    "Cuando termines, deberías tener algo similar a esto:"
   ]
  },
  {
   "cell_type": "raw",
   "metadata": {},
   "source": [
    "cmake_minimum_required(VERSION 2.8.3)\n",
    "project(my_custom_srv_msg_pkg)\n",
    "\n",
    "\n",
    "## Here go all the packages needed to COMPILE the messages of topic, services and actions.\n",
    "## Its only geting its paths, and not really importing them to be used in the compilation.\n",
    "## Its only for further functions in CMakeLists.txt to be able to find those packages.\n",
    "## In package.xml you have to state them as build\n",
    "find_package(catkin REQUIRED COMPONENTS\n",
    "  std_msgs\n",
    "  message_generation\n",
    ")\n",
    "\n",
    "## Generate services in the 'srv' folder\n",
    "## In this function will be all the action messages of this package ( in the action folder ) to be compiled.\n",
    "## You can state that it gets all the actions inside the action directory: DIRECTORY action\n",
    "## Or just the action messages stated explicitly: FILES my_custom_action.action\n",
    "## In your case you only need to do one of two things, as you wish.\n",
    "add_service_files(\n",
    "  FILES\n",
    "  MyCustomServiceMessage.srv\n",
    ")\n",
    "\n",
    "## Here is where the packages needed for the action messages compilation are imported.\n",
    "generate_messages(\n",
    "  DEPENDENCIES\n",
    "  std_msgs\n",
    ")\n",
    "\n",
    "## State here all the packages that will be needed by someone that executes something from your package.\n",
    "## All the packages stated here must be in the package.xml as run_depend\n",
    "catkin_package(\n",
    "  CATKIN_DEPENDS rospy\n",
    ")\n",
    "\n",
    "\n",
    "include_directories(\n",
    "  ${catkin_INCLUDE_DIRS}\n",
    ")"
   ]
  },
  {
   "cell_type": "markdown",
   "metadata": {},
   "source": [
    "<ul>\n",
    "    <li>Cuando termines, compila tu paquete:</li>\n",
    "</ul>\n"
   ]
  },
  {
   "cell_type": "raw",
   "metadata": {},
   "source": [
    "roscd;cd ..\n",
    "catkin_make\n",
    "source devel/setup.bash"
   ]
  },
  {
   "cell_type": "markdown",
   "metadata": {},
   "source": [
    "<span style=\"color: red\">\n",
    "Esto es realmente importante! Cuando compilar mensajes a través de catkin_make hay un paso extra. Debes escribir en la consola, en el directorio catkin_ws: source devel/setup.bash. Esto ejecuta este fichero bash que configura, entre otras cosas, los nuevos mensajes generados a través del catkin_make.<br>\n",
    "Si no haces esto, podrías tener un error de importación de Python, diciendo que no encuentra el mensajes generado.\n",
    "</span>"
   ]
  },
  {
   "cell_type": "markdown",
   "metadata": {},
   "source": [
    "Deberías ver entre todos los mensajes algo como esto:<br>\n",
    "<i>Generating Python code from SRV my_custom_srv_msg_pkg/MyCustomServiceMessage</i><br>\n",
    "Para comprobar que se han generado completamente, escribe:"
   ]
  },
  {
   "cell_type": "markdown",
   "metadata": {},
   "source": [
    "<table style=\"float:left;background: #407EAF\">\n",
    "<tr>\n",
    "<th>\n",
    "<p style=\"background: #FFFFFF\">Execute in WebShell #1</p><br>\n",
    "rossrv list | grep MyCustomServiceMessage\n",
    "</th>\n",
    "</tr>\n",
    "</table>"
   ]
  },
  {
   "cell_type": "markdown",
   "metadata": {},
   "source": [
    "Deberías ver algo como:"
   ]
  },
  {
   "cell_type": "markdown",
   "metadata": {},
   "source": [
    "<table style=\"float:left;background: #FFFFFF\">\n",
    "<tr>\n",
    "<th>\n",
    "<p style=\"background: #407EAF\">WebShell #1 Output</p><br>\n",
    "user ~ $ rossrv list | grep MyCustomServiceMessage<br>\n",
    "<span style=\"color: red\">my_custom_srv_msg_pkg/MyCustomServiceMessage</span><br>\n",
    "</th>\n",
    "</tr>\n",
    "</table>"
   ]
  },
  {
   "cell_type": "markdown",
   "metadata": {},
   "source": [
    "Ya lo tienes! Ahora simplemente crea el Service Server que use esta información. Algo similar a esto:"
   ]
  },
  {
   "cell_type": "markdown",
   "metadata": {},
   "source": [
    "<p style=\"background:#3B8F10;color:white;\" id=\"prg-3-3\">Programa Python {3.3}: custom_service_server.py </p><br>"
   ]
  },
  {
   "cell_type": "code",
   "execution_count": null,
   "metadata": {},
   "outputs": [],
   "source": [
    "#! /usr/bin/env python\n",
    "\n",
    "import rospy\n",
    "from my_custom_srv_msg_pkg.srv import MyCustomServiceMessage, MyCustomServiceMessageResponse # importas las clases Python del Mensaje de Servicio \n",
    "                                                                                         # generadas en MyCustomServiceMessage.srv.\n",
    "\n",
    "\n",
    "def my_callback(request):\n",
    "    \n",
    "    print \"Request Data==> radius=\"+str(request.radius)+\", repetitions = \"+str(request.repetitions)\n",
    "    my_response = MyCustomServiceMessageResponse()\n",
    "    if request.radius > 5.0:\n",
    "        my_response.success = True\n",
    "    else:\n",
    "        my_response.success = False\n",
    "    return  my_response # la clase de la Response del Servicio, en este caso MyCustomServiceMessageResponse\n",
    "\n",
    "rospy.init_node('service_client') \n",
    "my_service = rospy.Service('/my_service', MyCustomServiceMessage , my_callback) # crea el servicio my_service con la callback my_callback\n",
    "rospy.spin() # mantenemos el servicio abierto"
   ]
  },
  {
   "cell_type": "markdown",
   "metadata": {},
   "source": [
    "<p style=\"background:#3B8F10;color:white;\">FIN del Programa Python {3.3}: custom_service_server.py </p><br>"
   ]
  },
  {
   "cell_type": "markdown",
   "metadata": {},
   "source": [
    "<table style=\"float:left;\">\n",
    "<tr>\n",
    "<th>\n",
    "<p style=\"background:#EE9023;color:white;\">Ejercicio 3.3</p><br>\n",
    "<ol>\n",
    "  <li>Modifica el paquete que hiciste en el ejercicio 2.1 para aceptar en lugar de mensajes de tipo Empty, tu mensaje personalizado.</li>\n",
    "  <li>Usa la información pasada a través de tus mensajes para cambiar la manera en que el BB-8 realiza el servicio de moverse en cuadrado. La variable <i>request</i> es la clave como debes imaginar.</li>\n",
    "  <li>Modifica el launch que llama al servicio para que realice la llamada con tu mensaje.</li>\n",
    "</ol>\n",
    "</th>\n",
    "</tr>\n",
    "</table>"
   ]
  },
  {
   "cell_type": "markdown",
   "metadata": {},
   "source": [
    "<figure>\n",
    "  <img id=\"fig-3.2\" src=\"img/bb8_exercice_extra.png\"></img>\n",
    "   <center> <figcaption>Fig.3.2 - Diagrama de movimiento dinámico del BB8 en cuadrado/circulo</figcaption></center>\n",
    "</figure>"
   ]
  },
  {
   "cell_type": "markdown",
   "metadata": {},
   "source": [
    "Enhorabuena! Ya estás listo para añadir todos los Servicios que quieras a tu propio androide personal!"
   ]
  },
  {
   "cell_type": "markdown",
   "metadata": {
    "collapsed": true
   },
   "source": [
    "## Material adicional para aprender más"
   ]
  },
  {
   "cell_type": "markdown",
   "metadata": {},
   "source": [
    "Servicios ROS: http://wiki.ros.org/Services<br>\n",
    "Creando un Servicio y un Client (Python): http://wiki.ros.org/ROS/Tutorials/WritingServiceClient(python)<br>\n",
    "Ficheros srv: http://wiki.ros.org/srv"
   ]
  }
 ],
 "metadata": {
  "anaconda-cloud": {},
  "celltoolbar": "Raw Cell Format",
  "kernelspec": {
   "display_name": "Python 2",
   "language": "python",
   "name": "python2"
  },
  "language_info": {
   "codemirror_mode": {
    "name": "ipython",
    "version": 2
   },
   "file_extension": ".py",
   "mimetype": "text/x-python",
   "name": "python",
   "nbconvert_exporter": "python",
   "pygments_lexer": "ipython2",
   "version": "2.7.12"
  }
 },
 "nbformat": 4,
 "nbformat_minor": 1
}
