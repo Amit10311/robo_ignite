{
 "cells": [
  {
   "cell_type": "markdown",
   "metadata": {},
   "source": [
    "# Chapter 3: Plot your results and upload them "
   ]
  },
  {
   "cell_type": "markdown",
   "metadata": {},
   "source": [
    "In this unit, you will learn how to plot the observations recorded through the experiment.<br>\n",
    "You will also learn to upload your experiments to the OpenAI webpage for everyone to compare their algorithms to yours."
   ]
  },
  {
   "cell_type": "markdown",
   "metadata": {},
   "source": [
    "## Plot Results from Monitor"
   ]
  },
  {
   "cell_type": "markdown",
   "metadata": {},
   "source": [
    "Launch a learning script, for instance, the <b>simple_qlearn.py</b>."
   ]
  },
  {
   "cell_type": "markdown",
   "metadata": {},
   "source": [
    "<table style=\"float:left;background: #407EAF\">\n",
    "<tr>\n",
    "<th>\n",
    "<p class=\"transparent\">Execute in WebShell #1</p>\n",
    "</th>\n",
    "</tr>\n",
    "</table>"
   ]
  },
  {
   "cell_type": "code",
   "execution_count": null,
   "metadata": {
    "collapsed": true
   },
   "outputs": [],
   "source": [
    "rosrun gym_construct simple_qlearn.py"
   ]
  },
  {
   "cell_type": "markdown",
   "metadata": {},
   "source": [
    "Once launched, it will generate the monitor data in the path = **outdir** = **'/tmp/gazebo_gym_experiments'**."
   ]
  },
  {
   "cell_type": "markdown",
   "metadata": {},
   "source": [
    "<table style=\"float:left;background: #407EAF\">\n",
    "<tr>\n",
    "<th>\n",
    "<p class=\"transparent\">Execute in WebShell #1</p>\n",
    "</th>\n",
    "</tr>\n",
    "</table>"
   ]
  },
  {
   "cell_type": "code",
   "execution_count": null,
   "metadata": {
    "collapsed": true
   },
   "outputs": [],
   "source": [
    "cd /tmp/gazebo_gym_experiments\n",
    "ls"
   ]
  },
  {
   "cell_type": "markdown",
   "metadata": {},
   "source": [
    "You should get the following experiment monitor files:\n",
    "\n",
    "**openaigym.episode_batch.xxxx.stats.json**<br>\n",
    "**openaigym.manifest.xxxx.manifest.json**"
   ]
  },
  {
   "cell_type": "markdown",
   "metadata": {},
   "source": [
    "So now, let's plot it. For that, just execute the following script:"
   ]
  },
  {
   "cell_type": "markdown",
   "metadata": {},
   "source": [
    "<table style=\"float:left;background: #407EAF\">\n",
    "<tr>\n",
    "<th>\n",
    "<p class=\"transparent\">Execute in WebShell #1</p>\n",
    "</th>\n",
    "</tr>\n",
    "</table>"
   ]
  },
  {
   "cell_type": "code",
   "execution_count": null,
   "metadata": {
    "collapsed": true
   },
   "outputs": [],
   "source": [
    "rosrun gym_construct plot_gazebo_gym_experiments.py"
   ]
  },
  {
   "cell_type": "markdown",
   "metadata": {},
   "source": [
    "This script will save a copy of the plot data in the path <b>/tmp/experiment_data_plot.png</b>, and open a plot window in the Graphical Interface window. To open the Graphical Interface window, just click on the following button, on the upper right-hand corner of the IDE:"
   ]
  },
  {
   "cell_type": "markdown",
   "metadata": {},
   "source": [
    "<img src=\"img/graphical_interface.png\"/>"
   ]
  },
  {
   "cell_type": "markdown",
   "metadata": {},
   "source": [
    "You should see the episodes' data scores plotted like so:"
   ]
  },
  {
   "cell_type": "markdown",
   "metadata": {},
   "source": [
    "<img src=\"img/plot_example.png\"/>"
   ]
  },
  {
   "cell_type": "markdown",
   "metadata": {},
   "source": [
    "Take a look at the code inside:"
   ]
  },
  {
   "cell_type": "markdown",
   "metadata": {},
   "source": [
    "<p style=\"background:green;color:white;\">**plot_gazebo_gym_experiments.py**</p>"
   ]
  },
  {
   "cell_type": "code",
   "execution_count": 1,
   "metadata": {},
   "outputs": [
    {
     "ename": "SyntaxError",
     "evalue": "Missing parentheses in call to 'print' (<ipython-input-1-1c540af380e0>, line 3)",
     "output_type": "error",
     "traceback": [
      "\u001b[1;36m  File \u001b[1;32m\"<ipython-input-1-1c540af380e0>\"\u001b[1;36m, line \u001b[1;32m3\u001b[0m\n\u001b[1;33m    print sys.path\u001b[0m\n\u001b[1;37m            ^\u001b[0m\n\u001b[1;31mSyntaxError\u001b[0m\u001b[1;31m:\u001b[0m Missing parentheses in call to 'print'\n"
     ]
    }
   ],
   "source": [
    "#!/usr/bin/env python\n",
    "import sys\n",
    "print sys.path\n",
    "#sys.path.append(\"/usr/local/lib/python2.7/dist-packages/\")\n",
    "#sys.path.remove(\"/usr/lib/python2.7/dist-packages\")\n",
    "import numpy as np\n",
    "print np.__file__\n",
    "print np.__version__\n",
    "import os\n",
    "import gym\n",
    "\n",
    "import matplotlib\n",
    "import matplotlib.pyplot as plt\n",
    "import itertools\n",
    "import sys\n",
    "import argparse\n",
    "\n",
    "from scipy.interpolate import pchip\n",
    "\n",
    "class LivePlot(object):\n",
    "    def __init__(self, outdir, data_key='episode_rewards', line_color='blue'):\n",
    "        \"\"\"\n",
    "        Liveplot renders a graph of either episode_rewards or episode_lengths\n",
    "        Args:\n",
    "            outdir (outdir): Monitor output file location used to populate the graph\n",
    "            data_key (Optional[str]): The key in the json to graph (episode_rewards or episode_lengths).\n",
    "            line_color (Optional[dict]): Color of the plot.\n",
    "        \"\"\"\n",
    "        #data_key can be set to 'episode_lengths'\n",
    "        self.outdir = outdir\n",
    "        self._last_data = None\n",
    "        self.data_key = data_key\n",
    "        self.line_color = line_color\n",
    "\n",
    "        #styling options\n",
    "        matplotlib.rcParams['toolbar'] = 'None'\n",
    "        plt.style.use('ggplot')\n",
    "        plt.xlabel(\"episodes\")\n",
    "        plt.ylabel(\"cumulated episode rewards\")\n",
    "        fig = plt.gcf().canvas.set_window_title('averaged_simulation_graph')\n",
    "        matplotlib.rcParams.update({'font.size': 15})\n",
    "\n",
    "    def plot(self, full=True, dots=False, average=0, interpolated=0):\n",
    "        results = gym.monitoring.load_results(self.outdir)\n",
    "        data =  results[self.data_key]\n",
    "        avg_data = []\n",
    "\n",
    "        if full:\n",
    "            plt.plot(data, color='blue')\n",
    "        if dots:\n",
    "            plt.plot(data, '.', color='black')\n",
    "        if average > 0:\n",
    "            average = int(average)\n",
    "            for i, val in enumerate(data):\n",
    "                if i%average==0:\n",
    "                    if (i+average) < len(data)+average:\n",
    "                        avg =  sum(data[i:i+average])/average\n",
    "                        avg_data.append(avg)\n",
    "            new_data = expand(avg_data,average)\n",
    "            plt.plot(new_data, color='red', linewidth=2.5) \n",
    "        if interpolated > 0:\n",
    "            avg_data = []\n",
    "            avg_data_points = []\n",
    "            n = len(data)/interpolated\n",
    "            if n == 0:\n",
    "                n = 1\n",
    "            data_fix = 0\n",
    "            for i, val in enumerate(data):\n",
    "                if i%n==0:\n",
    "                    if (i+n) <= len(data)+n:\n",
    "                        avg =  sum(data[i:i+n])/n\n",
    "                        avg_data.append(avg)\n",
    "                        avg_data_points.append(i)\n",
    "                if (i+n) == len(data):\n",
    "                    data_fix = n\n",
    "            \n",
    "            x = np.arange(len(avg_data))\n",
    "            y = np.array(avg_data)\n",
    "            #print x\n",
    "            #print y\n",
    "            #print str(len(avg_data)*n)\n",
    "            #print data_fix\n",
    "            interp = pchip(avg_data_points, avg_data)\n",
    "            xx = np.linspace(0, len(data)-data_fix, 1000)\n",
    "            plt.plot(xx, interp(xx), color='green', linewidth=3.5)        \n",
    "\n",
    "        # pause so matplotlib will display\n",
    "        # may want to figure out matplotlib animation or use a different library in the future\n",
    "        # plt.pause(0.000001)\n",
    "\n",
    "def expand(lst, n):\n",
    "    lst = [[i]*n for i in lst]\n",
    "    lst = list(itertools.chain.from_iterable(lst))\n",
    "    return lst\n",
    "\n",
    "def pause():\n",
    "    programPause = raw_input(\"Press the <ENTER> key to finish...\")\n",
    "\n",
    "if __name__ == '__main__':\n",
    "    \n",
    "    outdir = '/tmp/gazebo_gym_experiments'\n",
    "    plotter = LivePlot(outdir)\n",
    "\n",
    "    parser = argparse.ArgumentParser()\n",
    "    parser.add_argument(\"-f\", \"--full\", action='store_true', help=\"print the full data plot with lines\")\n",
    "    parser.add_argument(\"-d\", \"--dots\", action='store_true', help=\"print the full data plot with dots\")\n",
    "    parser.add_argument(\"-a\", \"--average\", type=int, nargs='?', const=50, metavar=\"N\", help=\"plot an averaged graph using N as average size delimiter. Default = 50\")\n",
    "    parser.add_argument(\"-i\", \"--interpolated\", type=int, nargs='?', const=50, metavar=\"M\", help=\"plot an interpolated graph using M as interpolation amount. Default = 50\")\n",
    "    args = parser.parse_args()\n",
    "\n",
    "    if len(sys.argv)==1:\n",
    "        # When no arguments are given, plot the full data graph\n",
    "        plotter.plot(full=True)\n",
    "    else:\n",
    "        plotter.plot(full=args.full, dots=args.dots, average=args.average, interpolated=args.interpolated)\n",
    "\n",
    "    plt_save_path = \"/tmp/experiment_data_plot.png\"\n",
    "    plt.savefig(plt_save_path)\n",
    "    print (\"Saved plot in \"+plt_save_path)\n",
    "    print \"Showing Plot in RemoteScreen\"\n",
    "    plt.show()\n",
    "    # pause()\n"
   ]
  },
  {
   "cell_type": "markdown",
   "metadata": {},
   "source": [
    "<p style=\"background:green;color:white;\">**plot_gazebo_gym_experiments.py**</p>"
   ]
  },
  {
   "cell_type": "markdown",
   "metadata": {},
   "source": [
    "All of the code is quite self-explanatory. You can modify some plotting options and change, of course, the source of the data, as well as the place to save them.<br>\n",
    "As you can see, you will need a large quantity of episodes to see if your learning algorithm is really working."
   ]
  },
  {
   "cell_type": "markdown",
   "metadata": {},
   "source": [
    "<p style=\"background:#EE9023;color:white;\">**Exercise 3.1**</p>"
   ]
  },
  {
   "cell_type": "markdown",
   "metadata": {},
   "source": [
    "Make your own version of a plot. For that, retrieve the original file and copy it to your workspace."
   ]
  },
  {
   "cell_type": "markdown",
   "metadata": {},
   "source": [
    "<table style=\"float:left;background: #407EAF\">\n",
    "<tr>\n",
    "<th>\n",
    "<p class=\"transparent\">Execute in WebShell #1</p>\n",
    "</th>\n",
    "</tr>\n",
    "</table>"
   ]
  },
  {
   "cell_type": "code",
   "execution_count": null,
   "metadata": {
    "collapsed": true
   },
   "outputs": [],
   "source": [
    "roscd gym_construct/scripts\n",
    "cp plot_gazebo_gym_experiments.py /home/user/catkin_ws/src/"
   ]
  },
  {
   "cell_type": "markdown",
   "metadata": {},
   "source": [
    "<table style=\"float:left;background: #407EAF\">\n",
    "<tr>\n",
    "<th>\n",
    "<p class=\"transparent\">Execute in WebShell #1</p>\n",
    "</th>\n",
    "</tr>\n",
    "</table>"
   ]
  },
  {
   "cell_type": "code",
   "execution_count": null,
   "metadata": {
    "collapsed": true
   },
   "outputs": [],
   "source": [
    "python /home/user/catkin_ws/src/plot_gazebo_gym_experiments.py"
   ]
  },
  {
   "cell_type": "markdown",
   "metadata": {},
   "source": [
    "This way, you will be able to edit the file and work with it in the IDE without any issue. You can save the image in the path **/home/user/catkin_ws/src**. This way, you will be able to visualize it directly in the IDE. If not, you can also use this command to open it in an image editor and visualize it in the Graphical Interface:"
   ]
  },
  {
   "cell_type": "markdown",
   "metadata": {},
   "source": [
    "<table style=\"float:left;background: #407EAF\">\n",
    "<tr>\n",
    "<th>\n",
    "<p class=\"transparent\">Execute in WebShell #1</p>\n",
    "</th>\n",
    "</tr>\n",
    "</table>"
   ]
  },
  {
   "cell_type": "code",
   "execution_count": null,
   "metadata": {
    "collapsed": true
   },
   "outputs": [],
   "source": [
    "eog path_to_your_image_file"
   ]
  },
  {
   "cell_type": "markdown",
   "metadata": {},
   "source": [
    "## Upload Results from Monitor"
   ]
  },
  {
   "cell_type": "markdown",
   "metadata": {},
   "source": [
    "<p style=\"background:#CD2122;color:white;\">**WARNING**</p><br>\n",
    "**The upload for the Gym-Gazebo module is not yet supported by Gym**. However, we think it is necessary to explain how it would be done in the basic Gym module because it's a neat feature that we hope will also be available for Gym-Gazebo in the near future.\n",
    "\n",
    "So you won't be able to do this with this Turtlebot Gazebo simulation."
   ]
  },
  {
   "cell_type": "markdown",
   "metadata": {},
   "source": [
    "<p style=\"background:#CD2122;color:white;\">**END of WARNING**</p>"
   ]
  },
  {
   "cell_type": "markdown",
   "metadata": {},
   "source": [
    "To upload your experiment to the OpenAI Web, you have to follow these steps:"
   ]
  },
  {
   "cell_type": "markdown",
   "metadata": {},
   "source": [
    "#### 1. **Get the API Key**"
   ]
  },
  {
   "cell_type": "markdown",
   "metadata": {},
   "source": [
    "Click the API key link at the end of the example section in the README file:\n",
    "https://github.com/openai/gym/blob/master/README.rst<br>\n",
    "\n",
    "Which is this direct link here :<br>\n",
    "https://gym.openai.com/settings/profile<br><br>\n",
    "Accept the terms (you accept by giving your email address) and it will take you to your user's space :<br>\n",
    "https://gym.openai.com/users/YOUR_USERNAME\n",
    "\n",
    "You will get the API_Key on the top right-hand corner."
   ]
  },
  {
   "cell_type": "markdown",
   "metadata": {},
   "source": [
    "#### 2. **Execute code**"
   ]
  },
  {
   "cell_type": "markdown",
   "metadata": {},
   "source": [
    "Execute the learning code in order to generate all of the monitor data."
   ]
  },
  {
   "cell_type": "markdown",
   "metadata": {},
   "source": [
    "#### 3. **Upload it through the Gym API**"
   ]
  },
  {
   "cell_type": "markdown",
   "metadata": {},
   "source": [
    "Just execute this code in this same notebook, through the Python notebook, or execute a Python script with this code inside:"
   ]
  },
  {
   "cell_type": "code",
   "execution_count": null,
   "metadata": {
    "collapsed": true
   },
   "outputs": [],
   "source": [
    "import gym\n",
    "gym.upload('/tmp/gazebo_gym_experiments', api_key='YOUR_API_KEY')"
   ]
  },
  {
   "cell_type": "markdown",
   "metadata": {},
   "source": [
    "You get a link :  https://gym.openai.com/evaluations/SOME_NUMBER_HERE\n",
    "\n",
    "To appear in your Zone, you have to execute a minimum of 100 episodes\n",
    "https://gym.openai.com/users/YOUR_USERNAME"
   ]
  }
 ],
 "metadata": {
  "kernelspec": {
   "display_name": "Python 3",
   "language": "python",
   "name": "python3"
  },
  "language_info": {
   "codemirror_mode": {
    "name": "ipython",
    "version": 3
   },
   "file_extension": ".py",
   "mimetype": "text/x-python",
   "name": "python",
   "nbconvert_exporter": "python",
   "pygments_lexer": "ipython3",
   "version": "3.6.1"
  }
 },
 "nbformat": 4,
 "nbformat_minor": 1
}
