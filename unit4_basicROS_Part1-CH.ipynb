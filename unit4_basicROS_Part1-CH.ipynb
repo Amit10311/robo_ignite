{
 "cells": [
  {
   "cell_type": "markdown",
   "metadata": {},
   "source": [
    "# <font class='ign_color'>ROS IN A SINGLE WEEK</font>"
   ]
  },
  {
   "cell_type": "markdown",
   "metadata": {},
   "source": [
    "# 单元 4: ROS Actions"
   ]
  },
  {
   "cell_type": "markdown",
   "metadata": {},
   "source": [
    "<table style=\"width:100%\">\n",
    "  <tr>\n",
    "    <th>预计完成时间: 3 hours<br><br>你将在这个单元学到什么？\n",
    "<ul>\n",
    "  <li>什么是 ROS action</li>\n",
    "  <li>如何控制机器人的行动（actions）</li>\n",
    "  <li>如何调用一个action服务器</li>\n",
    "</ul></th>\n",
    "    <th><img src=\"img/drone.jpg\" width=\"291\" height=\"248\" /></th> \n",
    "  </tr>\n",
    "</table>"
   ]
  },
  {
   "cell_type": "markdown",
   "metadata": {},
   "source": [
    "## 第一部分"
   ]
  },
  {
   "cell_type": "markdown",
   "metadata": {},
   "source": [
    "1) 你理解了之前所学的topics和services单元吗？<br>\n",
    "2) 之前所学内容对你来说清晰明朗了吗？<br>\n",
    "3) 开始本单元前你有没有好好吃顿早餐？<br>\n",
    "<br>\n",
    "\n",
    "如果你对所有这些问题的答案是肯定的，那么你已经准备好了开始学习ROS actions。 否则请回到之前的步骤，直到你对这三个问题的回答是肯定。"
   ]
  },
  {
   "cell_type": "markdown",
   "metadata": {},
   "source": [
    "#### 飞行器模拟（Quadrotor simulation）"
   ]
  },
  {
   "cell_type": "markdown",
   "metadata": {},
   "source": [
    "在开始学习ROS actions 之前，让我们先来看看有趣的飞行器模拟（quadrotor simulation）。<br>\n",
    "使飞行器起飞并通过键盘控制它。<br> \n",
    "如何能做到呢? \n",
    "\n",
    "通过发出以下指令："
   ]
  },
  {
   "cell_type": "markdown",
   "metadata": {},
   "source": [
    "\n",
    "<table style=\"float:left;background: #407EAF\">\n",
    "<tr>\n",
    "<th>\n",
    "<p style=\"background: #FFFFFF\">在 WebShell #1中执行</p><br>\n",
    "rostopic pub /drone/takeoff std_msgs/Empty \"{}\"<br>\n",
    "rosrun teleop_twist_keyboard teleop_twist_keyboard.py<br>\n",
    "rostopic pub /drone/land std_msgs/Empty \"{}\"<br>\n",
    "</th>\n",
    "</tr>\n",
    "</table>"
   ]
  },
  {
   "cell_type": "markdown",
   "metadata": {},
   "source": [
    "\n",
    "<b><i><span style=\"background:#EFF0F1;\">rosrun teleop_twist_keyboard teleop_twist_keyboard.py</span></i></b><br>\n",
    "<span style=\"color:green\">\"rosrun\"</span>: ROS命令，允许你在来自任何地方的任意包中，运行可执行文件，而不必先给出其完整路径或cd / roscd。<br>\n",
    "<span style=\"color:green\">\"teleop_twist_keyboard\"</span>: 可执行文件的包名称。 在这种情况下，python可执行文件。<br>\n",
    "<span style=\"color:green\">\"teleop_twist_keyboard.py\"</span>: Python可执行文件将运行。 在这种情况下，它是一个允许你通过键盘输入移动命令的可执行文件。 执行时，它会显示移动机器人的说明。<br>\n",
    "    \n",
    "<p style=\"background:#3B8F10;color:white;\">结束代码说明 #1</p><br>"
   ]
  },
  {
   "cell_type": "markdown",
   "metadata": {},
   "source": [
    "<figure>\n",
    "  <img id=\"图-4.1\" src=\"img/unit4_quadrotor.gif\"></img>\n",
    "   <center> <figcaption>图.4.1 - 无人机（Ardrone）通过 teleop_twist_keyboard.py. 移动</figcaption></center>\n",
    "</figure>"
   ]
  },
  {
   "cell_type": "markdown",
   "metadata": {},
   "source": [
    "\n",
    "<table style=\"float:left;\">\n",
    "<tr>\n",
    "<th>\n",
    "<p style=\"background:#EE9023;color:white;\">练习 4.1</p><br>\n",
    "尝试起飞，移动和降落如图所示的无人机。 <a href=\"#图-4.1\">{图:4.1}</a><br>\n",
    "</th>\n",
    "</tr>\n",
    "</table>\n"
   ]
  },
  {
   "cell_type": "markdown",
   "metadata": {},
   "source": [
    "### 什么是 actions"
   ]
  },
  {
   "cell_type": "markdown",
   "metadata": {},
   "source": [
    "#### Actions 类似于对 services 的异步调用"
   ]
  },
  {
   "cell_type": "markdown",
   "metadata": {},
   "source": [
    "Actions与services相同。 当调用action时，你正在调用另一个节点提供的功能。 就像service一样。 区别就在于，当你调用service时，必须等待service完成操作。<b>但当你调用action时，你不必等待操作完成。</b> \n",
    "\n",
    "<b>因此，action是对另一个节点的功能的异步调用。</b>."
   ]
  },
  {
   "cell_type": "markdown",
   "metadata": {},
   "source": [
    "<ul>\n",
    "<li>\n",
    "提供功能（被调用的）的节点必须包含 <b>action server（操作服务器）</b>。\n",
    "<i>Action server</i> 允许其它节点调用该action功能。</li>\n",
    "<li>\n",
    "调用该功能的节点必须包含 <b>action client（操作客户端）</b>。\n",
    "<i>Action client</i> 允许节点连接到 <i>action server</i>。\n",
    "</li>\n",
    "</ul>\n",
    "\n",
    "\n"
   ]
  },
  {
   "cell_type": "markdown",
   "metadata": {},
   "source": [
    "<figure>\n",
    "  <img id=\"fig-4.2\" src=\"img/action_interface.png\"/>\n",
    "   <center> <figcaption>图.4.2 - Action Interface Diagram （操作接口图）</figcaption></center>\n",
    "</figure>"
   ]
  },
  {
   "cell_type": "markdown",
   "metadata": {},
   "source": [
    "现在让我们看看Action(操作)中的操作"
   ]
  },
  {
   "cell_type": "markdown",
   "metadata": {},
   "source": [
    "<table style=\"float:left;\">\n",
    "<tr>\n",
    "<th>\n",
    "<p style=\"background:#EE9023;color:white;\" id=\"ex-4-2\">练习 4.2</p><br>\n",
    "转到shell中然后使用以下命令来启动 ardrone action server （无人机操作服务器）:<br>\n",
    "<span style=\"color:red\">保持此程序在教程的其它部分中运行，因为它是提供你将要用到的action server的程序。</span>\n",
    "\n",
    "<table style=\"float:left;background: #407EAF\">\n",
    "<tr>\n",
    "<th>\n",
    "<p style=\"background: #FFFFFF\">在 WebShell #1中执行, <span style=\"color:red\">让它运行</span></p><br>\n",
    "roslaunch ardrone_as action_server.launch<br>\n",
    "</th>\n",
    "</tr>\n",
    "</table>\n",
    "<br>\n",
    "</th>\n",
    "</tr>\n",
    "</table>"
   ]
  },
  {
   "cell_type": "markdown",
   "metadata": {},
   "source": [
    "<b>问题:</b><br>\n",
    "<ul>\n",
    "  <li>你如何获知哪些topic是可用的？</li>\n",
    "</ul>"
   ]
  },
  {
   "cell_type": "markdown",
   "metadata": {
    "collapsed": true
   },
   "source": [
    "<table style=\"float:left;background: #407EAF\">\n",
    "<tr>\n",
    "<th>\n",
    "<p style=\"background: #FFFFFF\">在 WebShell #2中执行</p><br>\n",
    "rostopic list\n",
    "</th>\n",
    "</tr>\n",
    "</table>"
   ]
  },
  {
   "cell_type": "markdown",
   "metadata": {},
   "source": [
    "<ul>\n",
    "  <li>你如何获知哪些service是可用的?</li>\n",
    "</ul>"
   ]
  },
  {
   "cell_type": "markdown",
   "metadata": {
    "collapsed": true
   },
   "source": [
    "<table style=\"float:left;background: #407EAF\">\n",
    "<tr>\n",
    "<th>\n",
    "<p style=\"background: #FFFFFF\">在 WebShell #2中执行</p><br>\n",
    "rosservice list\n",
    "</th>\n",
    "</tr>\n",
    "</table>"
   ]
  },
  {
   "cell_type": "markdown",
   "metadata": {},
   "source": [
    "<ul>\n",
    "  <li>你如何获知哪些ction server是可用的？</li>\n",
    "</ul>"
   ]
  },
  {
   "cell_type": "markdown",
   "metadata": {
    "collapsed": true
   },
   "source": [
    "<table style=\"float:left;background: #407EAF\">\n",
    "<tr>\n",
    "<th>\n",
    "<p style=\"background: #FFFFFF\">在 WebShell #2中执行</p><br>\n",
    "rosaction list\n",
    "</th>\n",
    "</tr>\n",
    "</table>"
   ]
  },
  {
   "cell_type": "markdown",
   "metadata": {},
   "source": [
    "<br><br><br><br>\n",
    "<center>\n",
    "    <h3>你猜错了!!!</h3>\n",
    "    <figure>\n",
    "      <img id=\"图-4.3\" src=\"img/giphy.gif\" height=\"420\" width=\"420\"/>\n",
    "       <center> <figcaption>图.4.3 - Didn't Say The Magic Word </figcaption></center>\n",
    "    </figure>\n",
    "</center>\n",
    "<br><br><br><br>"
   ]
  },
  {
   "cell_type": "markdown",
   "metadata": {},
   "source": [
    "为了找到可用于机器人身上的actions，你必须做一个 <i>rostopic list</i>"
   ]
  },
  {
   "cell_type": "markdown",
   "metadata": {},
   "source": [
    "<table style=\"float:left;background: #407EAF\">\n",
    "<tr>\n",
    "<th>\n",
    "<p style=\"background: #FFFFFF\">在 WebShell #2中执行</p><br>\n",
    "rostopic list\n",
    "</th>\n",
    "</tr>\n",
    "</table>\n",
    "\n"
   ]
  },
  {
   "cell_type": "markdown",
   "metadata": {},
   "source": [
    "<table style=\"float:left;background: #407EAF\">\n",
    "<tr>\n",
    "<th>\n",
    "<p style=\"background: #FFFFFF\">WebShell #2 输出</p><br>\n",
    "user ~ $ rostopic list<br>\n",
    "...<br>\n",
    "...<br>\n",
    "/<span style=\"color: white\">ardrone_action_server</span>/<span style=\"color: orange\">cancel</span><br>\n",
    "/<span style=\"color: white\">ardrone_action_server</span>/<span style=\"color: orange\">feedback</span><br>\n",
    "/<span style=\"color: white\">ardrone_action_server</span>/<span style=\"color: orange\">goal</span><br>\n",
    "/<span style=\"color: white\">ardrone_action_server</span>/<span style=\"color: orange\">result</span><br>\n",
    "/<span style=\"color: white\">ardrone_action_server</span>/<span style=\"color: orange\">status</span><br>\n",
    "...<br>\n",
    "...<br>\n",
    "</th>\n",
    "</tr>\n",
    "</table>\n",
    "\n"
   ]
  },
  {
   "cell_type": "markdown",
   "metadata": {},
   "source": [
    "当机器人提供一个action时，你将在topics list中看到有5个具有相同基本名称的topics，以及subtopics(子主题）的 <i>取消（cancel），反馈（feedback），目标（goal），结果（result）</i> 和 <i>状态（stattus）</i>。\n",
    "\n",
    "例如，在以前的rostopic列表中，列出了如下所示的topics："
   ]
  },
  {
   "cell_type": "raw",
   "metadata": {},
   "source": [
    "/ardrone_action_server/cancel\n",
    "/ardrone_action_server/feedback\n",
    "/ardrone_action_server/goal\n",
    "/ardrone_action_server/result\n",
    "/ardrone_action_server/status"
   ]
  },
  {
   "cell_type": "markdown",
   "metadata": {},
   "source": [
    "这是因为你之前使用了命令 <b>roslaunch ardrone_as action_server.launch</b><a href=\"#ex-4-2\">( 练习 4.2 )</a>  来启动 <b>ardone_action_server</b>。 这意味着<b>存在一个名为 <i>ardrone_action_server</i></b>。"
   ]
  },
  {
   "cell_type": "markdown",
   "metadata": {},
   "source": [
    "每个action server 都会创建5个topics，因此你始终能得知存在action server，因为你识别了这5个topics。"
   ]
  },
  {
   "cell_type": "markdown",
   "metadata": {},
   "source": [
    "因此在示例中:<br>\n",
    "<span style=\"background: #407EAF; color: white\"><b>ardrone_action_server</b></span>: 是Action Server的名称<br>\n",
    "<span style=\"background: #407EAF;color: orange\"><b>cancel, feedback, goal, result and status</b></span>: 这些信息是用于与action server通信。"
   ]
  },
  {
   "cell_type": "markdown",
   "metadata": {},
   "source": [
    "### 调用一个 action server"
   ]
  },
  {
   "cell_type": "markdown",
   "metadata": {},
   "source": [
    "<i>ardrone_action_server</i> action server是一个你可以调用的action。如果调用它，它将开始用前置摄像头拍摄照片，对于在调用消息中指定的秒数（它是你在调用中指定的参数），每秒拍摄一张。"
   ]
  },
  {
   "cell_type": "markdown",
   "metadata": {},
   "source": [
    "<b>调用action server意味着向其发送消息</b>。 与 <i>topics</i> 和 <i>services</i>的方式相同，所有的工作通过消息传递。\n",
    "\n",
    "<ul>\n",
    "  <li>Topic的消息由单个部分组成：topic提供信息。<br></li>\n",
    "  <li>Service的消息有两部分：goal (目标)和response(响应)。<br></li>\n",
    "  <li><b>Action server的消息分为三个部分：goal(目标)，result(结果)和feedback(反馈)。</b></li>\n",
    "</ul>"
   ]
  },
  {
   "cell_type": "markdown",
   "metadata": {},
   "source": [
    "使用的所有action messages都被定义在其包的 <b><i>action</i> directory(目录)</b>中。<br><br>\n",
    "前往 <i>ardrone_as</i> 包，你会看到它包含一个名为 <i>action</i> 的目录。在该 <i>action</i> 目录内，有一个名为 <i>Ardrone.action</i> 的文件。这是指定action使用的消息类型的文件。\n",
    "\n",
    "在shell中键入以下命令以查看消息结构："
   ]
  },
  {
   "cell_type": "markdown",
   "metadata": {},
   "source": [
    "<table style=\"float:left;\">\n",
    "<tr>\n",
    "<th>\n",
    "<p style=\"background:#EE9023;color:white;\">练习 4.3</p><br>\n",
    "在shell中键入以下命令来查看消息结构:<br>\n",
    "\n",
    "<table style=\"float:left;background: #407EAF\">\n",
    "<tr>\n",
    "<th>\n",
    "<p style=\"background: #FFFFFF\">在 WebShell #2中执行</p><br>\n",
    "roscd ardrone_as/action; cat Ardrone.action<br>\n",
    "</th>\n",
    "</tr>\n",
    "</table>\n",
    "<br>\n",
    "</th>\n",
    "</tr>\n",
    "</table>"
   ]
  },
  {
   "cell_type": "markdown",
   "metadata": {},
   "source": [
    "<table style=\"float:left;background: #407EAF\">\n",
    "<tr>\n",
    "<th>\n",
    "<p style=\"background: #FFFFFF\">WebShell #2 输出</p><br>\n",
    "user ~ $ roscd ardrone_as/action; cat Ardrone.action<br>\n",
    "#<span style=\"color:orange\">goal</span> 无人机的<br>\n",
    "<span style=\"color:white\">int32 nseconds</span>  # 无人机将拍摄照片的秒数<br>\n",
    "<span style=\"color:red\">---</span><br>\n",
    "#<span style=\"color:orange\">result</span><br>\n",
    "<span style=\"color:white\">sensor_msgs/CompressedImage[] allPictures </span># 一个包含沿着nseconds拍摄的所有照片的数组<br>\n",
    "<span style=\"color:red\">---</span><br>\n",
    "#<span style=\"color:orange\">feedback</span><br>\n",
    "<span style=\"color:white\">sensor_msgs/CompressedImage lastImage  </span># 最后一张拍摄的照片<br>\n",
    "</th>\n",
    "</tr>\n",
    "</table>"
   ]
  },
  {
   "cell_type": "markdown",
   "metadata": {},
   "source": [
    "你可以在上一步中看到message如何由三部分组成：<br>\n",
    "<span style=\"color: orange\"><b>goal</b></span>: 由一个类型为<i>Int32</i>且名为<i>nseconds</i>的变量组成。这个Int32类型是一个标准的ROS message，因此可以在 <a href=\"http://wiki.ros.org/std_msgs\" target=\"Empty\">std_msgs package</a> 中找到它。因为它是一个ROS的标准包，所以它不需要指示包在哪可以找到Int32。<br>\n",
    "<span style=\"color: orange\"><b>result</b></span>:由一个类型为<i>CompressedImage[]</i>且名为<i>allPictures</i>的变量中，在 <a href=\"http://wiki.ros.org/sensor_msgs\" target=\"Empty\">sensor_msgs package</a> 中可找到。<br>\n",
    "<span style=\"color: orange\"><b>feedback</b></span>: 由一个类型为<i>CompressedImage[]</i>且名为<i>lastImage</i>的变量组成，在 <a href=\"http://wiki.ros.org/sensor_msgs\" target=\"Empty\">sensor_msgs package</a> 中可找到。<br>\n",
    "\n",
    "你将在第二部分中学习如何创建自己的action messages。 现在，你只需理解每次调用一个action时，message默认包含三个部分，且每个部分可以包含 <b>多个</b> 变量。"
   ]
  },
  {
   "cell_type": "markdown",
   "metadata": {},
   "source": [
    "### Actions 提供反馈"
   ]
  },
  {
   "cell_type": "markdown",
   "metadata": {},
   "source": [
    "由于调用action server不会中断你的线程，action servers会提供一个称为 <b><i>the feedback（反馈）</i></b>的message. \n",
    "Feedback（是一个action server每隔一段时间生成一次指示action如何进行中的message。 它是在action尚未完成时生成的。"
   ]
  },
  {
   "cell_type": "markdown",
   "metadata": {},
   "source": [
    "### 如何调用一个 action server"
   ]
  },
  {
   "cell_type": "markdown",
   "metadata": {},
   "source": [
    "调用action server的方法是通过执行一个 <i><b>action client</b></i>。\n",
    "\n",
    "以下是一个示例的解释如何执行一个action client来调用ardrone_action_server，并使它拍10秒的照片。"
   ]
  },
  {
   "cell_type": "markdown",
   "metadata": {},
   "source": [
    "<table style=\"float:left;\">\n",
    "<tr>\n",
    "<th>\n",
    "<p style=\"background:#EE9023;color:white;\">练习 4.4</p><br>\n",
    "执行一下 Python 代码 <a href=\"#prg-4-4a\">ardone_action_client.py</a>（点击） 如何再点击IPython notebook右上角的运行按钮。<br> \n",
    "<img src=\"img/font-awesome_step-forward.png\" style=\"float:left\"/><br>\n",
    "<br><br>\n",
    "你也可以按 <i>[CTRL]+[Enter]</i> 来执行它。<br>\n",
    "观察反馈消息是如何接收的 (显示在代码下面)。<br>\n",
    "\n",
    "<font color=\"red\">请记住</font> 你必须确认 <font color=\"red\"><i>roslaunch ardrone_as action_server.launch</i> 在运行</font> ( 可能在 Webshell #1 ) ，否则将由于无actionServer被连接到而无法运行。\n",
    "<br>\n",
    "</th>\n",
    "</tr>\n",
    "</table>"
   ]
  },
  {
   "cell_type": "markdown",
   "metadata": {},
   "source": [
    "<p style=\"background:#3B8F10;color:white;\" id=\"prg-4-4a\">Python Program {4.4a}: ardrone_action_client.py </p><br>"
   ]
  },
  {
   "cell_type": "code",
   "execution_count": 2,
   "metadata": {
    "collapsed": false
   },
   "outputs": [
    {
     "ename": "ImportError",
     "evalue": "No module named rospy",
     "output_type": "error",
     "traceback": [
      "\u001b[0;31m---------------------------------------------------------------------------\u001b[0m",
      "\u001b[0;31mImportError\u001b[0m                               Traceback (most recent call last)",
      "\u001b[0;32m<ipython-input-2-b1d7da3f8322>\u001b[0m in \u001b[0;36m<module>\u001b[0;34m()\u001b[0m\n\u001b[1;32m      1\u001b[0m \u001b[0;31m#! /usr/bin/env python\u001b[0m\u001b[0;34m\u001b[0m\u001b[0;34m\u001b[0m\u001b[0m\n\u001b[0;32m----> 2\u001b[0;31m \u001b[0;32mimport\u001b[0m \u001b[0mrospy\u001b[0m\u001b[0;34m\u001b[0m\u001b[0m\n\u001b[0m\u001b[1;32m      3\u001b[0m \u001b[0;32mimport\u001b[0m \u001b[0mtime\u001b[0m\u001b[0;34m\u001b[0m\u001b[0m\n\u001b[1;32m      4\u001b[0m \u001b[0;32mimport\u001b[0m \u001b[0mactionlib\u001b[0m\u001b[0;34m\u001b[0m\u001b[0m\n\u001b[1;32m      5\u001b[0m \u001b[0;32mfrom\u001b[0m \u001b[0mardrone_as\u001b[0m\u001b[0;34m.\u001b[0m\u001b[0mmsg\u001b[0m \u001b[0;32mimport\u001b[0m \u001b[0mArdroneAction\u001b[0m\u001b[0;34m,\u001b[0m \u001b[0mArdroneGoal\u001b[0m\u001b[0;34m,\u001b[0m \u001b[0mArdroneResult\u001b[0m\u001b[0;34m,\u001b[0m \u001b[0mArdroneFeedback\u001b[0m\u001b[0;34m\u001b[0m\u001b[0m\n",
      "\u001b[0;31mImportError\u001b[0m: No module named rospy"
     ]
    }
   ],
   "source": [
    "#! /usr/bin/env python\n",
    "import rospy\n",
    "import time\n",
    "import actionlib\n",
    "from ardrone_as.msg import ArdroneAction, ArdroneGoal, ArdroneResult, ArdroneFeedback\n",
    "\n",
    "nImage = 1\n",
    "\n",
    "# 反馈回调（feedback callback）的定义.这将在反馈时调用\n",
    "# 从action server接收\n",
    "# 只是显示一条 message 指示已收到一条新消息\n",
    "def feedback_callback(feedback):\n",
    "    global nImage\n",
    "    print('[Feedback] image n.%d received'%nImage)\n",
    "    nImage += 1\n",
    "\n",
    "# 初始化action client节点\n",
    "rospy.init_node('drone_action_client')\n",
    "\n",
    "# 创建与action server的连接\n",
    "client = actionlib.SimpleActionClient('/ardrone_action_server', ArdroneAction)\n",
    "# 等待直到action server启动并运行\n",
    "client.wait_for_server()\n",
    "\n",
    "# 创建一个goal（目标）发送到action server\n",
    "goal = ArdroneGoal()\n",
    "goal.nseconds = 10 # 表示：目标拍摄时长设为10秒\n",
    "\n",
    "# 发送goal到action server，指定哪个反馈函数\n",
    "# 在收到反馈时调用\n",
    "client.send_goal(goal, feedback_cb=feedback_callback)\n",
    "\n",
    "# 取消注释这些行列以测试目标优先权:\n",
    "#time.sleep(3.0)\n",
    "#client.cancel_goal()  # 将在开始后3秒取消goal\n",
    "\n",
    "# 等待直到获取结果\n",
    "# 等待过程中你可以做其它的事\n",
    "# 但请不时检查状态\n",
    "# status = client.get_state()\n",
    "# 查看在more info下面的 client API 链接\n",
    "\n",
    "client.wait_for_result()\n",
    "\n",
    "print('[Result] State: %d'%(client.get_state()))"
   ]
  },
  {
   "cell_type": "markdown",
   "metadata": {},
   "source": [
    "<p style=\"background:#3B8F10;color:white;\">Code Explanation Python Program: {4.4a}</p><br>\n",
    "调用action server的代码非常简单:\n",
    "<ul>\n",
    "<li>首先你要创建一个client连接到你想要的action server:<br><br>    \n",
    "    <i>client = actionlib.SimpleActionClient(<span style=\"color:green\">'/ardrone_action_server'</span>, <span style=\"color:orange\">ArdroneAction</span>)</i><br>    \n",
    "    <i>client = actionlib.SimpleActionClient(<span style=\"color:green\">'/the_action_client_server_name'</span>, <span style=\"color:orange\">the_action_server_action_message_python_object</span>)</i><br><br>\n",
    "    <ul>\n",
    "    <li><span style=\"color:green\">第一个参数</span> 是要你要连接的action server的名称。<br></li>\n",
    "    <li><span style=\"color:orange\">第二个参数</span> 是它action使用的类型。 如果你的action message文件被称为 <i>Ardrone.action</i> 那么你必须指定的类型是 <i>ArdroneAction</i>。相同的规则适用于任何其他类型 (<i>R2Action</i> for an <i>R2.action</i> 或 <i>LukeAction</i> for a <i>Luke.action</i> file)</li>\n",
    "    </ul>\n",
    "</li>\n",
    "<li>然后你创建一个 goal:<br>\n",
    "    <center><i>goal = ArdroneGoal()</i></center><br>\n",
    "    由于goal message需要提供拍摄照片的秒数，因此你必须在goal类中设置该参数：<br><br>\n",
    "    <center><i>goal.nseconds = 10</i></center><br>\n",
    "</li>\n",
    "<li>接下来，将goal发送到action server中：<br>\n",
    "   <center><i>client.send_goal(goal, feedback_cb=feedback_callback)</i></center>\n",
    "   此时，action server已经接收到目标并开始执行它（拍摄10秒钟）。 此外，反馈消息正在接收中。 每当接收到反馈消息时，feedback_callback <i>feedback_callback</i> 被执行。\n",
    "</li>\n",
    "<li>最后等待结果：<br>\n",
    "   <center><i>client.wait_for_result()</i></center>\n",
    "</li>\n",
    "</ul>\n",
    "<p style=\"background:#3B8F10;color:white;\">结束 Code Explanation {4.4a}</p><br>"
   ]
  },
  {
   "cell_type": "markdown",
   "metadata": {},
   "source": [
    "### 如何在Action进行中执行任务"
   ]
  },
  {
   "cell_type": "markdown",
   "metadata": {},
   "source": [
    "你知道如何调用一个action和等待结果，但…这不就是service也能做的吗？ 那么你为什么还要学习Actions呢？<br>\n",
    "问得好！<br>\n",
    "因此，SimpleActionClient对象有两个函数，可用于了解正在执行的action是否已完成以及如何：<br>\n",
    "\n",
    "1)<i>wait_for_result()</i>: 这个函数很简单。 当调用它时，它将等待action完成操作并返回一个真值。 正如你所看到的，如果你想并行执行其他任务，但程序只有等到action完成操作才能停止，那是毫无用处的。<br>\n",
    "\n",
    "2)<i>get_state()</i>: 这个函数就有趣多了。 调用时它会返回一个整数，指示SimpleActionClient对象连接到的action的财状态。<br>\n",
    "\n",
    "0 ==> PENDING（待处理）<br>\n",
    "1 ==> ACTIVE（活动中）<br>\n",
    "2 ==> DONE（完成）<br>\n",
    "3 ==> WARN（警告）<br>\n",
    "4 ==> ERROR（错误）<br>\n",
    "\n",
    "这允许你创建一个循环结构，以检查由 get_state()返回的值是2或者更高。"
   ]
  },
  {
   "cell_type": "markdown",
   "metadata": {},
   "source": [
    "<table style=\"float:left;\">\n",
    "<tr>\n",
    "<th>\n",
    "<p style=\"background:#EE9023;color:white;\">练习 4.5</p><br>\n",
    "执行以下Python代码 {4.5a: wait_for_result_test.py} 和 {4.5b: no_wait_for_result_test.py} （点击二者）， 然后点击IPython notebook右上角的运行按钮。<br> \n",
    "<img src=\"img/font-awesome_step-forward.png\" style=\"float:left\"/><br>\n",
    "<br><br>\n",
    "你也可以按 <i>[CTRL]+[Enter]</i> 来执行它。<br>\n",
    "\n",
    "当程序完成后，不要忘记 <span style=\"color:red\">重启 Kernel（内核）</span>。这将清除所有由ROS通过python程序生成的节点。 这是必要的，因为python程序只能启动 <b>一个 </b> rospy 节点。因为这个笔记本只是一个分割的python脚本，如果你尝试连续执行两个snipet而不重新启动内核，它会表示rospy异常。 你可以通过点击图标来做到这一点。<br>\n",
    "<img src=\"img/refresh_icon.png\" style=\"float:left\"/>\n",
    "<br><br><br>\n",
    "\n",
    "\n",
    "观察它们之间的区别（显示在代码下面），并想想为什么会是这样。<br>\n",
    "\n",
    "<font color=\"red\">记住</font>，你必须有 <font color=\"red\"><i>roslaunch ardrone_as action_server.launch</i></font> 在运行中 ( 可能在 Webshell #1 )，否则将不会运行，因为将没有actionServer被连接到。<br>\n",
    "</th>\n",
    "</tr>\n",
    "</table>"
   ]
  },
  {
   "cell_type": "markdown",
   "metadata": {},
   "source": [
    "<p style=\"background:#3B8F10;color:white;\">Python Program {4.5a}: wait_for_result_test.py </p><br>"
   ]
  },
  {
   "cell_type": "code",
   "execution_count": 4,
   "metadata": {
    "collapsed": false
   },
   "outputs": [
    {
     "ename": "ImportError",
     "evalue": "No module named rospy",
     "output_type": "error",
     "traceback": [
      "\u001b[0;31m---------------------------------------------------------------------------\u001b[0m",
      "\u001b[0;31mImportError\u001b[0m                               Traceback (most recent call last)",
      "\u001b[0;32m<ipython-input-4-beb5942a23c2>\u001b[0m in \u001b[0;36m<module>\u001b[0;34m()\u001b[0m\n\u001b[1;32m      1\u001b[0m \u001b[0;31m#! /usr/bin/env python\u001b[0m\u001b[0;34m\u001b[0m\u001b[0;34m\u001b[0m\u001b[0m\n\u001b[1;32m      2\u001b[0m \u001b[0;34m\u001b[0m\u001b[0m\n\u001b[0;32m----> 3\u001b[0;31m \u001b[0;32mimport\u001b[0m \u001b[0mrospy\u001b[0m\u001b[0;34m\u001b[0m\u001b[0m\n\u001b[0m\u001b[1;32m      4\u001b[0m \u001b[0;32mimport\u001b[0m \u001b[0mtime\u001b[0m\u001b[0;34m\u001b[0m\u001b[0m\n\u001b[1;32m      5\u001b[0m \u001b[0;32mimport\u001b[0m \u001b[0mactionlib\u001b[0m\u001b[0;34m\u001b[0m\u001b[0m\n",
      "\u001b[0;31mImportError\u001b[0m: No module named rospy"
     ]
    }
   ],
   "source": [
    "#! /usr/bin/env python\n",
    "\n",
    "import rospy\n",
    "import time\n",
    "import actionlib\n",
    "from ardrone_as.msg import ArdroneAction, ArdroneGoal, ArdroneResult, ArdroneFeedback\n",
    "\n",
    "nImage = 1\n",
    "\n",
    "# 定义 feedback callback（反馈回调）. 这将在反馈时调用\n",
    "# 从 action server 接收\n",
    "# 它只显示一条 message，指示已收到一条新message\n",
    "def feedback_callback(feedback):\n",
    "    global nImage\n",
    "    print('[Feedback] image n.%d received'%nImage)\n",
    "    nImage += 1\n",
    "    \n",
    "\n",
    "# 初始化 action client 节点\n",
    "rospy.init_node('example_with_waitforresult_action_client_node')\n",
    "\n",
    "\n",
    "action_server_name = '/ardrone_action_server'\n",
    "client = actionlib.SimpleActionClient(action_server_name, ArdroneAction)\n",
    "\n",
    "# 等待直到 action server 启动并运行\n",
    "rospy.loginfo('Waiting for action Server '+action_server_name)\n",
    "client.wait_for_server()\n",
    "rospy.loginfo('Action Server Found...'+action_server_name)\n",
    "\n",
    "\n",
    "# 创建一个目标发送到 action server\n",
    "goal = ArdroneGoal()\n",
    "goal.nseconds = 10 # 表示拍摄10秒照片 \n",
    "\n",
    "client.send_goal(goal, feedback_cb=feedback_callback)\n",
    "rate = rospy.Rate(1)\n",
    "\n",
    "rospy.loginfo(\"让我们开始等待 Action 结束循环...\")\n",
    "while not client.wait_for_result():\n",
    "    rospy.loginfo(\"做点别的事在等待服务器给出结果的过程....\")\n",
    "    rate.sleep()\n",
    "\n",
    "rospy.loginfo(\"WaitForResult 完成示例\")"
   ]
  },
  {
   "cell_type": "markdown",
   "metadata": {},
   "source": [
    "<p style=\"background:#3B8F10;color:white;\">Python Program {4.5b}: no_wait_for_result_test.py </p><br>"
   ]
  },
  {
   "cell_type": "code",
   "execution_count": null,
   "metadata": {
    "collapsed": true
   },
   "outputs": [],
   "source": [
    "#! /usr/bin/env python\n",
    "\n",
    "import rospy\n",
    "import time\n",
    "import actionlib\n",
    "from ardrone_as.msg import ArdroneAction, ArdroneGoal, ArdroneResult, ArdroneFeedback\n",
    "\n",
    "\"\"\"\n",
    "class SimpleGoalState:\n",
    "    PENDING = 0\n",
    "    ACTIVE = 1\n",
    "    DONE = 2\n",
    "    WARN = 3\n",
    "    ERROR = 4\n",
    "\n",
    "\"\"\"\n",
    "# 我们创建一些来自 SimpleGoalState 类相应值的常数\n",
    "PENDING = 0\n",
    "ACTIVE = 1\n",
    "DONE = 2\n",
    "WARN = 3\n",
    "ERROR = 4\n",
    "\n",
    "nImage = 1\n",
    "\n",
    "# 定义 feedback callback。这将在反馈时调用 \n",
    "# 从 action server 接收\n",
    "# 它只显示一条 message，指示已收到一条新message\n",
    "def feedback_callback(feedback):\n",
    "    \"\"\"\n",
    "    Error that might jump\n",
    "    \n",
    "    self._feedback.lastImage = \n",
    "AttributeError: 'ArdroneAS' obj\n",
    "    \n",
    "    \"\"\"\n",
    "    global nImage\n",
    "    print('[Feedback] image n.%d received'%nImage)\n",
    "    nImage += 1\n",
    "\n",
    "# 初始化 action client 节点\n",
    "rospy.init_node('example_no_waitforresult_action_client_node')\n",
    "\n",
    "action_server_name = '/ardrone_action_server'\n",
    "client = actionlib.SimpleActionClient(action_server_name, ArdroneAction)\n",
    "\n",
    "# 等待直到 action server 启动并运行w\n",
    "rospy.loginfo('Waiting for action Server '+action_server_name)\n",
    "client.wait_for_server()\n",
    "rospy.loginfo('Action Server Found...'+action_server_name)\n",
    "\n",
    "# 创建一个目标发送到 action server\n",
    "goal = ArdroneGoal()\n",
    "goal.nseconds = 10 # 表示拍摄10秒照片 \n",
    "\n",
    "client.send_goal(goal, feedback_cb=feedback_callback)\n",
    "\n",
    "\n",
    "# 你可以访问 SimpleAction 变量 \"simple_state\"，活动中会出现1，出现2则是已完成。\n",
    "# 这是一个变量，最好使用一个类似于 get_state 的函数。\n",
    "# state = client.simple_state\n",
    "# state_result 将给出 FINAL STATE. 出现1是 Active（活动），出现2是NO ERROR（无错误），3是任何的Warning（警告），4是有ERROR（错误）\n",
    "state_result = client.get_state()\n",
    "\n",
    "rate = rospy.Rate(1)\n",
    "\n",
    "rospy.loginfo(\"state_result: \"+str(state_result))\n",
    "\n",
    "while state_result < DONE:\n",
    "    rospy.loginfo(\"Doing Stuff while waiting for the Server to give a result....\")\n",
    "    rate.sleep()\n",
    "    state_result = client.get_state()\n",
    "    rospy.loginfo(\"state_result: \"+str(state_result))\n",
    "    \n",
    "\n",
    "state_result = client.get_state()\n",
    "rospy.loginfo(\"[Result] State: \"+str(state_result))\n",
    "if state_result == ERROR:\n",
    "    rospy.logerr(\"Something went wrong in the Server Side\")\n",
    "if state_result == WARN:\n",
    "    rospy.logwarn(\"There is a warning in the Server Side\")\n",
    "\n",
    "#rospy.loginfo(\"[Result] State: \"+str(client.get_result()))"
   ]
  },
  {
   "cell_type": "markdown",
   "metadata": {},
   "source": [
    "<p style=\"background:#3B8F10;color:white;\">Code Explanation Python Programs: {4.5a} and {4.5b}</p><br>\n",
    "本质上的区别是，在4.5a 的log message(记录信息） <span style=\"color:green\"><i>rospy.loginfo（“做点别的事情当等待服务器给结果时…”）</i></span> 将永远不会显示，但在4.5b会。<br>\n",
    "\n",
    "这是因为在4.5a中，程序启动循环结构来检查由 <span style=\"color:green\"><i>client.wait_for_result()</i></span> 返回的值是True（对的）还是False（错的），但它将等待一个只有在Action已经完成时才返回的值。 因此它永远不会在循环结构中，因为它总是返回True（对的）的值。<br>\n",
    "\n",
    "另一方面，在4.5b程序中，会检查是否<span style=\"color:green\"><i>state_result &lt; DONE</i></span>。并且因为函数 <i>get_state()</i> 将立即返回action的当前状态，它允许并行执行其它任务。 在这种情况下会显示记录信息 <span style=\"color:red\">同时</span> 反馈也由Action的显示。\n",
    "<p style=\"background:#3B8F10;color:white;\">结束 Code Explanation Python Programs: {4.5a} and {4.5b}</p><br>"
   ]
  },
  {
   "cell_type": "markdown",
   "metadata": {},
   "source": [
    "你可以在此 <a href=\"http://docs.ros.org/jade/api/actionlib/html/classactionlib_1_1simple__action__client_1_1SimpleActionClient.html\"><b>client API</b></a> 的python中获得更多关于ROS action clients的信息"
   ]
  },
  {
   "cell_type": "markdown",
   "metadata": {},
   "source": [
    "<table style=\"float:left;\">\n",
    "<tr>\n",
    "<th>\n",
    "<p style=\"background:#EE9023;color:white;\">练习 4.6</p><br>\n",
    "<ul>\n",
    "  <li>从启动文件创建一个包，它包含和启动action client来自练习 {4.4a}: ardrone_action_client.py。</li>\n",
    "  <li>添加一些代码，使quadcopter(四轴飞行器)在action server被调用时移动（为了在机器人移动时拍摄图片）。</li>\n",
    "  <li>当拍摄完最后一张照片时停止四轴飞行器的运动（action server已完成）。</li>\n",
    "</ul>\n",
    "<br>\n",
    "<p style=\"background:#3B8F10;color:white;\">练习 4.6 的数据</p><br>\n",
    "1) 你可以发送Twist命令到四轴飞行器以移动它。 这些命令必须在 <font color=\"green\"><i>/cmd_vel</i> topic中发布 </font>。 记住 <i>TopicsUnit</i> 所学的。<br>\n",
    "2) 在等待接收到结果之前，必须发送移动命令，必须创建一个在检查完成的同时发送命令的循环。 为了能够在action进行时发送命令，你需要使用 <font color=\"green\">SimpleActionClient 的函数： <i>get_state()</i> </font>。如练习 {4.5b}所示例。\n",
    "</th>\n",
    "</tr>\n",
    "</table>"
   ]
  },
  {
   "cell_type": "markdown",
   "metadata": {
    "collapsed": true
   },
   "source": [
    "### Preempting a goal （抢占目标）\n",
    "\n",
    "种情况下，你可以随时取消发送到action server的命令。<br>\n",
    "取消正在执行的目标被称为 <b>preempt a goal（抢占目标）</b><br>\n",
    "<br>\n",
    "你可能因为不同原因需要抢先一个目标，例如，机器人因你的目标错乱了，最好是在机器人受到伤害前使其停止。<br>\n",
    "为了抢占目标，请将cancel_goal发送给client。<br>\n",
    "<br>"
   ]
  },
  {
   "cell_type": "raw",
   "metadata": {},
   "source": [
    "client.cancel_goal()"
   ]
  },
  {
   "cell_type": "markdown",
   "metadata": {},
   "source": [
    "<table style=\"float:left;\">\n",
    "<tr>\n",
    "<th>\n",
    "<p style=\"background:#EE9023;color:white;\">练习 4.7</p><br>\n",
    "执行以下Python代码 {4.6a: cancel_goal_test.py}各点击一次，然后点击IPython notebook右上角的运行按钮。<br> \n",
    "<img src=\"img/font-awesome_step-forward.png\" style=\"float:left\"/><br>\n",
    "<br><br>\n",
    "你也可以按 <i>[CTRL]+[Enter]</i> 来执行它。<br>\n",
    "\n",
    "当持续完成后，不要忘记 <span style=\"color:red\">重新启动 Kernel（内核）</span>。这将清除所有由ROS通过python程序生成的节点。 这是必要的，因为python程序只能启动 <b>一个</b> rospy节点。因为这个notebook只是一个分割的python脚本，如果你尝试连续执行两个snipets而不重新启动内核，它会表示rospy异常。 \n",
    "你可以通过点击图标来实现。<br>\n",
    "<img src=\"img/refresh_icon.png\" style=\"float:left\"/>\n",
    "<br><br><br>\n",
    "\n",
    "\n",
    "观察它们之间的差异(显示在代码下面) 并思考为何会这样<br>\n",
    "\n",
    "<font color=\"red\">请记住</font> 你必须有 <font color=\"red\"><i>roslaunch ardrone_as action_server.launch</i></font> 在运行中( 可能在 Webshell #1 ) ，否则这将无法运行，因为没有actionServer被连接到。\n",
    "<br>\n",
    "</th>\n",
    "</tr>\n",
    "</table>"
   ]
  },
  {
   "cell_type": "markdown",
   "metadata": {},
   "source": [
    "<p style=\"background:#3B8F10;color:white;\">Python Program {4.7a}: cancel_goal_test.py </p><br>"
   ]
  },
  {
   "cell_type": "code",
   "execution_count": null,
   "metadata": {
    "collapsed": true
   },
   "outputs": [],
   "source": [
    "#! /usr/bin/env python\n",
    "\n",
    "import rospy\n",
    "import time\n",
    "import actionlib\n",
    "from ardrone_as.msg import ArdroneAction, ArdroneGoal, ArdroneResult, ArdroneFeedback\n",
    "\n",
    "# 我们创建一些来自 SimpleGoalState 类相应值的常数\n",
    "PENDING = 0\n",
    "ACTIVE = 1\n",
    "DONE = 2\n",
    "WARN = 3\n",
    "ERROR = 4\n",
    "\n",
    "nImage = 1\n",
    "\n",
    "# 定义 feedback callback。这将在反馈时调用 \n",
    "# 从 action server 接收\n",
    "# 它只显示一条 message，指示已收到一条新message\n",
    "def feedback_callback(feedback):\n",
    "    \"\"\"\n",
    "    Error that might jump\n",
    "    \n",
    "    self._feedback.lastImage = \n",
    "AttributeError: 'ArdroneAS' obj\n",
    "    \n",
    "    \"\"\"\n",
    "    global nImage\n",
    "    print('[Feedback] image n.%d received'%nImage)\n",
    "    nImage += 1\n",
    "\n",
    "# 初始化 action client 节点\n",
    "rospy.init_node('example_no_waitforresult_action_client_node')\n",
    "\n",
    "action_server_name = '/ardrone_action_server'\n",
    "client = actionlib.SimpleActionClient(action_server_name, ArdroneAction)\n",
    "\n",
    "# 等待直到 action server 启动并运行\n",
    "rospy.loginfo('Waiting for action Server '+action_server_name)\n",
    "client.wait_for_server()\n",
    "rospy.loginfo('Action Server Found...'+action_server_name)\n",
    "\n",
    "# 创建一个目标发送到 action server\n",
    "goal = ArdroneGoal()\n",
    "goal.nseconds = 10 # 表示拍摄10秒照片\n",
    "\n",
    "client.send_goal(goal, feedback_cb=feedback_callback)\n",
    "\n",
    "\n",
    "# 你可以访问 SimpleAction 变量 \"simple_state\"，活动中会出现1，出现2则是已完成。\n",
    "# 这是一个变量，最好使用一个类似于 get_state 的函数。\n",
    "# state = client.simple_state\n",
    "# # state_result 将给出 FINAL STATE. 出现1是 Active（活动），出现2是NO ERROR（无错误），3是任何的Warning（警告），4是有ERROR（错误）\n",
    "state_result = client.get_state()\n",
    "\n",
    "rate = rospy.Rate(1)\n",
    "\n",
    "rospy.loginfo(\"state_result: \"+str(state_result))\n",
    "counter = 0\n",
    "while state_result < DONE:\n",
    "    rospy.loginfo(\"Doing Stuff while waiting for the Server to give a result....\")\n",
    "    counter += 1\n",
    "    rate.sleep()\n",
    "    state_result = client.get_state()\n",
    "    rospy.loginfo(\"state_result: \"+str(state_result)+\", counter =\"+str(counter))\n",
    "    if counter == 2:\n",
    "        rospy.logwarn(\"Canceling Goal...\")\n",
    "        client.cancel_goal()\n",
    "        rospy.logwarn(\"Goal Canceled\")\n",
    "        state_result = client.get_state()\n",
    "        rospy.loginfo(\"Update state_result after Cancel : \"+str(state_result)+\", counter =\"+str(counter))"
   ]
  },
  {
   "cell_type": "markdown",
   "metadata": {},
   "source": [
    "<p style=\"background:#3B8F10;color:white;\">Python编程代码说明: {4.7a}</p><br>\n",
    "它与{4.5b}的代码是几乎完全相同的，除了使用 <i>cancel_goal()</i> 函数。<br>\n",
    "这个程序计数到2，然后它会取消目标。这将触发服务器完成目标，因此函数 <i>get_state()</i> 返回到值 DONE ( 2 ).\n",
    "<p style=\"background:#3B8F10;color:white;\">结束Python编程代码说明: {4.7a}</p><br>"
   ]
  },
  {
   "cell_type": "markdown",
   "metadata": {},
   "source": [
    "有一个ROS跟Actions的问题。 当连接断开时，它会发出警告。 它一般发生在你取消一个目标或者你刚终止一个客户端对象的程序时。 警告由服务器端给出。<br>\n",
    "<i>[警告]呼入TCP / IP连接失败：来自发送方的连接在收到交接页眉之前终止。收到0字节。 请检查发件人的其他详细信息。</i><br>\n",
    "不用惊慌，它对你的程序没有影响。"
   ]
  },
  {
   "cell_type": "markdown",
   "metadata": {},
   "source": [
    "### 这一切是如何工作的?"
   ]
  },
  {
   "cell_type": "markdown",
   "metadata": {
    "collapsed": true
   },
   "source": [
    "你需要了解在actions中的通讯是如何工作的。 它不是让你用来编程。 正如你所见，编程一个action client非常简单。 但是，它将会发生你的代码有错误，而你将不得不对其进行调试。 为了进行正确的调试，你需要了解在 <i>action servers</i> 和 <i>action clients</i> 之间的通讯方式。"
   ]
  },
  {
   "cell_type": "markdown",
   "metadata": {},
   "source": [
    "如你所知，一个action server message有三个部分:<br>\n",
    "<ul>\n",
    "<li>the goal （目标）</li>\n",
    "<li>the result（结果）</li>\n",
    "<li>the feedback（反馈）</li>\n",
    "</ul>\n",
    "<br>\n",
    "每一个对应一个topic和一个message.<br>\n",
    "例如，在ardrone_action_server的情况中，topics的工作方式如下:<br>\n",
    "<ul>\n",
    "<li>the goal topic: <span style=\"color: green\">/ardrone_action_server/goal</span></li>\n",
    "<li>the result topic: <span style=\"color: green\">/ardrone_action_server/result</span></li>\n",
    "<li>the feedback topic: <span style=\"color: green\">/ardrone_action_server/feedback</span></li>\n",
    "</ul>\n",
    "<br>\n",
    "再次查看ActionClient+ActionServer通信图.<br>\n",
    "<figure>\n",
    "  <img id=\"fig-4.4\" src=\"img/action_interface.png\"/>\n",
    "   <center> <figcaption>图.4.4 - Action Interface Diagram Copy</figcaption></center>\n",
    "</figure>\n",
    "所有，步骤顺序如下所示: \n",
    "<ol>\n",
    "<li>当一个 <i>action client</i> 从节点 <span style=\"color:orange\">调用</span> 一个 <i>action server</i>，实际发生的是 <i>action client</i> 通过<i><span style=\"color: green\">/ardrone_action_server/goal</span></i> topic向 <i>action server</i> 发生请求的 <span style=\"color:orange\">目标（goal）</span></li>\n",
    "\n",
    "<li>当 <i>action server</i> <span style=\"color:orange\">开始</span> 执行目标时，它通过 <i><span style=\"color: green\">/ardrone_action_server/feedback</span></i> topic向 <i>action client</i> 发生反馈（feedback）。</li>\n",
    "\n",
    "<li>最后，当 <i>action server</i><span style=\"color:orange\">完成</span>目标时，它通过<i><span style=\"color:green\">/ardrone_action_server/result</span></i> topic向 <i>action client</i> 发送result(结果）。</li>\n",
    "</ol>"
   ]
  },
  {
   "cell_type": "markdown",
   "metadata": {},
   "source": [
    "如果你想看看在程序下面发生了什么，那就让我们来做以下这个练习。"
   ]
  },
  {
   "cell_type": "markdown",
   "metadata": {},
   "source": [
    "<table style=\"float:left;\">\n",
    "<tr>\n",
    "<th>\n",
    "<p style=\"background:#EE9023;color:white;\">练习 4.8</p><br>\n",
    "在开始执行之前请先阅读整个练习，因为在开始执行任何操作之前你必须要预先准备好。<br>\n",
    "\n",
    "<table style=\"float:left;background: #407EAF\">\n",
    "<tr>\n",
    "<th>\n",
    "<p style=\"background: #FFFFFF\">在 WebShell #1中执行: Demonize action_server 和 设goal回波</p><br>\n",
    "( 按 [CTRL]+[C] 来终止 ardrone_as action_server.launch （如果它已运行）)<br>\n",
    "roslaunch ardrone_as action_server.launch &<br>\n",
    "( 在完成后终止 :rosnode kill /ardrone_as )<br>\n",
    "rostopic echo /ardrone_action_server/goal\n",
    "</th>\n",
    "</tr>\n",
    "</table>\n",
    "<br><br><br><br><br><br><br><br>\n",
    "\n",
    "\n",
    "<table style=\"float:left;background: #407EAF\">\n",
    "<tr>\n",
    "<th>\n",
    "<p style=\"background: #FFFFFF\">在 WebShell #2中执行: 设feedback回波</span></p><br>\n",
    "rostopic echo /ardrone_action_server/feedback<br>\n",
    "</th>\n",
    "</tr>\n",
    "</table>\n",
    "<br><br><br><br><br>\n",
    "\n",
    "<table style=\"float:left;background: #407EAF\">\n",
    "<tr>\n",
    "<th>\n",
    "<p style=\"background: #FFFFFF\">在 WebShell #3中执行: 设result回波</span></p><br>\n",
    "rostopic echo /ardrone_action_server/result<br>\n",
    "</th>\n",
    "</tr>\n",
    "</table>\n",
    "<br><br><br><br><br>\n",
    "\n",
    "<table style=\"float:left;background: #407EAF\">\n",
    "<tr>\n",
    "<th>\n",
    "<p style=\"background: #FFFFFF\">在 WebShell #4中执行: 启动action server client</span></p><br>\n",
    "( 执行你在练习 4.6创建的启动，以便无人机开始拍摄照片和移动)<br>\n",
    "</th>\n",
    "</tr>\n",
    "</table>\n",
    "<br><br><br><br><br>\n",
    "\n",
    "\n",
    "当你有 <i>rostopic echo</i> 在 WebShells 1,2 和 3 中执行时，转到 WebShell 4并执行roslaunch命令以启动你的action client。如何执行以下操作:<br>\n",
    "<ul>\n",
    "<li>快速访问包含goal回波的终端 ( WebShell #1 )。应该出现一条消息指示你发送的目标（拍摄照片10秒）。</li>\n",
    "    <li>快速访问包含feedback回波的反馈终端 ( WebShell #2 )。应该每秒出现一体消息。这是由<i>action server</i>发给<i>action client</i>的反馈。</li>\n",
    "    <li>快速访问result终端 ( WebShell #3 )。如果在启动<i>action client</i>的10秒钟内, 则应该没有消息。如果你等到10秒钟过去了，你将会看到由<i>action server</i> 发到 <i>action client</i>的result消息.\n",
    "</ul><br>\n",
    "\n",
    "<p style=\"background:#3B8F10;color:white;\">练习 4.6的数据</p><br>\n",
    "这三个topics都有它们自己的消息类型。消息类型由ROS从 <i>.action</i> 文件自动构建。<br>\n",
    "\n",
    "例如，在 <i>ardrone_action_server</i>的情况中，<i>action file</i> 被称为 <b>Ardrone.action</b>.<br>\n",
    "\n",
    "当你编译包(用 <i>catkin_make</i>)，ROS将从<i>Ardrone.action</i> 文件生成以下消息类型:\n",
    "<ul>\n",
    "    <li>ArdroneActionGoal</li>\n",
    "    <li>ArdroneActionFeedback</li>\n",
    "    <li>ArdroneActionResult</li>\n",
    "</ul><br>\n",
    "每个action sercer的topic都使用其相应消息的相关类型。\n",
    "\n",
    "</th>\n",
    "</tr>\n",
    "</table>"
   ]
  },
  {
   "cell_type": "markdown",
   "metadata": {},
   "source": [
    "<table style=\"float:left;\">\n",
    "<tr>\n",
    "<th>\n",
    "<p style=\"background:#EE9023;color:white;\">练习 4.9</p><br>\n",
    "做一个任意action topics的<i>rostopic info</i>并检查其如上所诉的真正对应的类型。\n",
    "</th>\n",
    "</tr>\n",
    "</table>"
   ]
  },
  {
   "cell_type": "markdown",
   "metadata": {},
   "source": [
    "<table style=\"float:left;\">\n",
    "<tr>\n",
    "<th>\n",
    "<p style=\"background:#EE9023;color:white;\">练习 4.10</p><br>\n",
    "由于actions的工作方式，你可以直接调用发布在topics中的<i>ardrone_action_server action server</i> (通过模拟，Python代码action client在做什么)。理解这一点是很重要的因为你需要这些知识来调试你的程序。<br>\n",
    "\n",
    "\n",
    "<table style=\"float:left;background: #407EAF\">\n",
    "<tr>\n",
    "<th>\n",
    "<p style=\"background: #FFFFFF\">在 WebShell #1中执行: 运行 action_server</p><br>\n",
    "( 按 [CTRL]+[C] 来终止 ardrone_as action_server.如果它在运行中请启动它，或终止它如果你需要demonized :rosnode kill /ardrone_as ))<br>\n",
    "roslaunch ardrone_as action_server.launch<br>\n",
    "</th>\n",
    "</tr>\n",
    "</table>\n",
    "<br><br><br><br><br><br><br><br>\n",
    "\n",
    "\n",
    "\n",
    "让我们通过以下topics的练习来激活 <i>ardrone_action_server action server</i>。<br>\n",
    "使用 web shell 将目标发送到 <i>/ardrone_action_server</i> 操作服务器，然后观察在主题的中 <i>result</i> 和 <i>feedback</i> 发生了什么。<br>\n",
    "\n",
    "\n",
    "<table style=\"float:left;background: #407EAF\">\n",
    "<tr>\n",
    "<th>\n",
    "<p style=\"background: #FFFFFF\">在 WebShell #2中执行: 设feedback回波</p><br>\n",
    "rostopic pub /[name_of_action_server]/goal /[type_if_the_messages_used_by_the_topic] [TAB][TAB]<br>\n",
    "</th>\n",
    "</tr>\n",
    "</table>\n",
    "<br><br><br><br><br>\n",
    "\n",
    "<p style=\"background:#3B8F10;color:white;\">练习4.10数据</p><br>\n",
    "\n",
    "<font color=\"green\">\n",
    "\n",
    "<ul>\n",
    "    <li>\n",
    "    你无需手动键message，记住通过点击 TAB-TAB 来让ROS自动完成你的指令(或给予你选项)。<br>\n",
    "    </li>\n",
    "    <li>\n",
    "    一旦实现ROS自动完成你必须发出的message，你将需要修改参数 <i>nseconds</i>，因为默认值是0 (记得该参数指示拍摄图片的秒数)。通过键盘来移动到正确位置。这是由于shells只能这么工作。\n",
    "    </li>\n",
    "</ul>\n",
    "</font>\n",
    "\n",
    "<p style=\"background:#AE0202;color:white;\">练习4.10的预期结果</p><br>\n",
    "你应该看到和练习4.8一样的结果，区别在于目标已直接通过手动发送到目标topic，而不是通过python程序发布。 \n",
    "</th>\n",
    "</tr>\n",
    "</table>"
   ]
  },
  {
   "cell_type": "code",
   "execution_count": null,
   "metadata": {
    "collapsed": true
   },
   "outputs": [],
   "source": []
  }
 ],
 "metadata": {
  "anaconda-cloud": {},
  "kernelspec": {
   "display_name": "Python 2",
   "language": "python",
   "name": "python2"
  },
  "language_info": {
   "codemirror_mode": {
    "name": "ipython",
    "version": 2
   },
   "file_extension": ".py",
   "mimetype": "text/x-python",
   "name": "python",
   "nbconvert_exporter": "python",
   "pygments_lexer": "ipython2",
   "version": "2.7.12"
  }
 },
 "nbformat": 4,
 "nbformat_minor": 0
}
