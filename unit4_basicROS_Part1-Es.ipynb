{
 "cells": [
  {
   "cell_type": "markdown",
   "metadata": {},
   "source": [
    "# <font class='ign_color'>ROS EN UNA SOLA SEMANA</font>"
   ]
  },
  {
   "cell_type": "markdown",
   "metadata": {},
   "source": [
    "# Capítulo 4: ROS Actions"
   ]
  },
  {
   "cell_type": "markdown",
   "metadata": {},
   "source": [
    "<table style=\"width:100%\">\n",
    "  <tr>\n",
    "    <th>Tiempo estimado para completarlo: 3 horas<br><br>Qué vas a aprender en esta unidad?\n",
    "<ul>\n",
    "  <li>Qué es una action de ROS</li>\n",
    "  <li>Cómo manejar las actions de un robot</li>\n",
    "  <li>Cómo llamar a un action server</li>\n",
    "</ul></th>\n",
    "    <th><img src=\"img/drone.jpg\" width=\"291\" height=\"248\" /></th> \n",
    "  </tr>\n",
    "</table>"
   ]
  },
  {
   "cell_type": "markdown",
   "metadata": {},
   "source": [
    "## Parte 1"
   ]
  },
  {
   "cell_type": "markdown",
   "metadata": {},
   "source": [
    "1) Has entendido las unidades anteriores sobre tópicos y servicios?<br>\n",
    "2) Están claras en tu cabeza?<br>\n",
    "3) Has desayunado bien hoy?<br>\n",
    "\n",
    "Si tu respuesta a todas esas preguntas es SÍ, entonces estás listo para aprender ROS actions! Si no, vuelve hacia atrás y no vuelvas hasta que la respuesta a esas preguntas sean un SÍ. Vas a necesitarlo..."
   ]
  },
  {
   "cell_type": "markdown",
   "metadata": {},
   "source": [
    "#### Simulación del Quadrotor"
   ]
  },
  {
   "cell_type": "markdown",
   "metadata": {},
   "source": [
    "Antes de empezar a aprender sobre ROS Actions, tengamos algo de diversión con la simulación del Quadrotor.<br>\n",
    "Haz que el quadrotor despegue y controlalo con el teclado.<br> \n",
    "Qué como haces eso? \n",
    "\n",
    "Escribe el siguiente comando:"
   ]
  },
  {
   "cell_type": "markdown",
   "metadata": {},
   "source": [
    "Primera hay que despegar:"
   ]
  },
  {
   "cell_type": "markdown",
   "metadata": {},
   "source": [
    "<table style=\"float:left;background: #407EAF\">\n",
    "<tr>\n",
    "<th>\n",
    "<p class=\"transparent\">Execute in WebShell #1</p><br>\n",
    "rostopic pub /drone/takeoff std_msgs/Empty \"{}\"<br>\n",
    "</th>\n",
    "</tr>\n",
    "</table>"
   ]
  },
  {
   "cell_type": "markdown",
   "metadata": {},
   "source": [
    "Aprieta la teclas CTRL+C para pararlo y poder escribir mas comandos. En este caso los commandos para mover el drone con el teclado son:"
   ]
  },
  {
   "cell_type": "markdown",
   "metadata": {},
   "source": [
    "\n",
    "<table style=\"float:left;background: #407EAF\">\n",
    "<tr>\n",
    "<th>\n",
    "<p style=\"background: #FFFFFF\">Ejecuta en el WebShell #1</p><br>\n",
    "rosrun teleop_twist_keyboard teleop_twist_keyboard.py\n",
    "</th>\n",
    "</tr>\n",
    "</table>"
   ]
  },
  {
   "cell_type": "markdown",
   "metadata": {},
   "source": [
    "Para aterrizar el drone publica en el topico /drone/land:"
   ]
  },
  {
   "cell_type": "code",
   "execution_count": null,
   "metadata": {
    "collapsed": true
   },
   "outputs": [],
   "source": [
    "<table style=\"float:left;background: #407EAF\">\n",
    "<tr>\n",
    "<th>\n",
    "<p class=\"transparent\">Execute in WebShell #1</p><br>\n",
    "rostopic pub /drone/land std_msgs/Empty \"{}\"<br>\n",
    "</th>\n",
    "</tr>\n",
    "</table>"
   ]
  },
  {
   "cell_type": "markdown",
   "metadata": {},
   "source": [
    "<p style=\"background:#3B8F10;color:white;\">Explicación del Código #1</p><br>\n",
    "<b><i><span style=\"background:#EFF0F1;\">rosrun teleop_twist_keyboard teleop_twist_keyboard.py</span></i></b><br>\n",
    "<span style=\"color:green\">\"rosrun\"</span>: Comando ROS que te permite lanzar un ejecutable de un paquete desde cualquier sitio, sin necesidad de dar el path completo o ir primero ahí mediante cd/roscd.<br>\n",
    "<span style=\"color:green\">\"teleop_twist_keyboard\"</span>: Nombre del paquete donde está el ejecutable. En éste caso donde está el fichero Python.<br>\n",
    "<span style=\"color:green\">\"teleop_twist_keyboard.py\"</span>: Ejecutable Python que se va lanzar. En este caso es un ejecutable que te permite mandar ordenes de movimiento mediante el teclado. Cuando es ejecutado muestra las instrucciones para mover el robot.<br>\n",
    "    \n",
    "<p style=\"background:#3B8F10;color:white;\">Fin de Explicación del Código #1</p><br>"
   ]
  },
  {
   "cell_type": "markdown",
   "metadata": {},
   "source": [
    "<figure>\n",
    "  <img id=\"fig-4.1\" src=\"img/unit4_quadrotor.gif\"></img>\n",
    "   <center> <figcaption>Fig.4.1 - Ardrone dirigido mediante teleop_twist_keyboard.py.</figcaption></center>\n",
    "</figure>"
   ]
  },
  {
   "cell_type": "markdown",
   "metadata": {},
   "source": [
    "\n",
    "<table style=\"float:left;\">\n",
    "<tr>\n",
    "<th>\n",
    "<p style=\"background:#EE9023;color:white;\">Ejercicio 4.1</p><br>\n",
    "Intenta despegar, mover y aterrizar el drone como se muestra en la imagen <a href=\"#fig-4.1\">{Fig:4.1}</a><br>\n",
    "</th>\n",
    "</tr>\n",
    "</table>\n"
   ]
  },
  {
   "cell_type": "markdown",
   "metadata": {},
   "source": [
    "### Qué son las Actions"
   ]
  },
  {
   "cell_type": "markdown",
   "metadata": {},
   "source": [
    "#### Las Actions son como llamadas asíncronas a servicios"
   ]
  },
  {
   "cell_type": "markdown",
   "metadata": {},
   "source": [
    "Las Actions son como los servicios. Cuando llamas a una action, estás llamando a una funcionalidad que otro nodo provee. Justo lo mismo que con los servicios. La diferencia es que cuando llamas a un servicio, debes esperar hasta que el servicio termine. <b>Cuando llamas a una action, no tiene que esperar necesariamente a que la action se complete.</b> \n",
    "\n",
    "<b>Por tanto, una action es una llamada asíncrona a la funcionalidad de otro nodo</b>."
   ]
  },
  {
   "cell_type": "markdown",
   "metadata": {},
   "source": [
    "<ul>\n",
    "<li>\n",
    "El nodo que provee la funcionalidad (que es llamado) contiene un <b>action server</b>.\n",
    "El <i>action server</i> permite a otros nodos llamar a la funcionalidad de esa action.\n",
    "</li>\n",
    "<li>\n",
    "El nodo que llama a la funcionalidad contiene un <b>action client</b>.\n",
    "El <i>action client</i> permite a un nodo conectarse al <i>action server</i>.\n",
    "</li>\n",
    "</ul>\n",
    "\n",
    "\n"
   ]
  },
  {
   "cell_type": "markdown",
   "metadata": {},
   "source": [
    "<figure>\n",
    "  <img id=\"fig-4.2\" src=\"img/action_interface.png\"/>\n",
    "   <center> <figcaption>Fig.4.2 - Diagrama de Interfaz de un Action</figcaption></center>\n",
    "</figure>"
   ]
  },
  {
   "cell_type": "markdown",
   "metadata": {},
   "source": [
    "Ahora veamos una action en acción (Soy tan divertido!)"
   ]
  },
  {
   "cell_type": "markdown",
   "metadata": {},
   "source": [
    "<table style=\"float:left;\">\n",
    "<tr>\n",
    "<th>\n",
    "<p style=\"background:#EE9023;color:white;\" id=\"ex-4-2\">Ejercicio 4.2</p><br>\n",
    "Ve a una consola y lanza el action server del ardrone con el siguiente comando:<br>\n",
    "<span style=\"color:red\">Mantén este programa corriendo para el resto del tutorial, ya que es el que provee el action server que vas a estar usando.</span>\n",
    "\n",
    "<table style=\"float:left;background: #407EAF\">\n",
    "<tr>\n",
    "<th>\n",
    "<p style=\"background: #FFFFFF\">Ejecuta en el WebShell #1, <span style=\"color:red\">Mantenlo corriendo</span></p><br>\n",
    "roslaunch ardrone_as action_server.launch<br>\n",
    "</th>\n",
    "</tr>\n",
    "</table>\n",
    "<br>\n",
    "</th>\n",
    "</tr>\n",
    "</table>"
   ]
  },
  {
   "cell_type": "markdown",
   "metadata": {},
   "source": [
    "<b>Preguntas:</b><br>\n",
    "<ul>\n",
    "  <li>Cómo sabes que un tópico está disponible?</li>\n",
    "</ul>"
   ]
  },
  {
   "cell_type": "markdown",
   "metadata": {
    "collapsed": true
   },
   "source": [
    "<table style=\"float:left;background: #407EAF\">\n",
    "<tr>\n",
    "<th>\n",
    "<p style=\"background: #FFFFFF\">Ejecuta en el WebShell #2</p><br>\n",
    "rostopic list\n",
    "</th>\n",
    "</tr>\n",
    "</table>"
   ]
  },
  {
   "cell_type": "markdown",
   "metadata": {},
   "source": [
    "<ul>\n",
    "  <li>Cómo sabes que hay un servicio disponible?</li>\n",
    "</ul>"
   ]
  },
  {
   "cell_type": "markdown",
   "metadata": {
    "collapsed": true
   },
   "source": [
    "<table style=\"float:left;background: #407EAF\">\n",
    "<tr>\n",
    "<th>\n",
    "<p style=\"background: #FFFFFF\">Ejecuta en el WebShell #2</p><br>\n",
    "rosservice list\n",
    "</th>\n",
    "</tr>\n",
    "</table>"
   ]
  },
  {
   "cell_type": "markdown",
   "metadata": {},
   "source": [
    "<ul>\n",
    "  <li>Cómo sabes que hay un action server disponible?</li>\n",
    "</ul>"
   ]
  },
  {
   "cell_type": "markdown",
   "metadata": {
    "collapsed": true
   },
   "source": [
    "<table style=\"float:left;background: #407EAF\">\n",
    "<tr>\n",
    "<th>\n",
    "<p style=\"background: #FFFFFF\">Ejecuta en el WebShell #2</p><br>\n",
    "rosaction list\n",
    "</th>\n",
    "</tr>\n",
    "</table>"
   ]
  },
  {
   "cell_type": "markdown",
   "metadata": {},
   "source": [
    "<br><br><br><br>\n",
    "<center>\n",
    "    <h3>WRONG GUESS!!!</h3>\n",
    "    <figure>\n",
    "      <img id=\"fig-4.3\" src=\"img/giphy.gif\" height=\"420\" width=\"420\"/>\n",
    "       <center> <figcaption>Fig.4.3 - No dijiste la Palabra Mágica </figcaption></center>\n",
    "    </figure>\n",
    "</center>\n",
    "<br><br><br><br>"
   ]
  },
  {
   "cell_type": "markdown",
   "metadata": {},
   "source": [
    "Para ver qué actions están disponibles en un robot, debes hacer un <i>rostopic list</i>"
   ]
  },
  {
   "cell_type": "markdown",
   "metadata": {},
   "source": [
    "<table style=\"float:left;background: #407EAF\">\n",
    "<tr>\n",
    "<th>\n",
    "<p style=\"background: #FFFFFF\">Ejecuta en el WebShell #2</p><br>\n",
    "rostopic list\n",
    "</th>\n",
    "</tr>\n",
    "</table>\n",
    "\n"
   ]
  },
  {
   "cell_type": "markdown",
   "metadata": {},
   "source": [
    "<table style=\"float:left;background: #407EAF\">\n",
    "<tr>\n",
    "<th>\n",
    "<p style=\"background: #FFFFFF\">Salida del WebShell #2</p><br>\n",
    "user ~ $ rostopic list<br>\n",
    "...<br>\n",
    "...<br>\n",
    "/<span style=\"color: white\">ardrone_action_server</span>/<span style=\"color: orange\">cancel</span><br>\n",
    "/<span style=\"color: white\">ardrone_action_server</span>/<span style=\"color: orange\">feedback</span><br>\n",
    "/<span style=\"color: white\">ardrone_action_server</span>/<span style=\"color: orange\">goal</span><br>\n",
    "/<span style=\"color: white\">ardrone_action_server</span>/<span style=\"color: orange\">result</span><br>\n",
    "/<span style=\"color: white\">ardrone_action_server</span>/<span style=\"color: orange\">status</span><br>\n",
    "...<br>\n",
    "...<br>\n",
    "</th>\n",
    "</tr>\n",
    "</table>\n",
    "\n"
   ]
  },
  {
   "cell_type": "markdown",
   "metadata": {},
   "source": [
    "Cuando un robot provee una action, verás que en la lista de tópicos hay 5 tópicos con el mismo nombre de base, y con los subtópicos <i>cancel, feedback, goal, result</i> y <i>status</i>. \n",
    "\n",
    "Por ejemplo en el anterior rostopic list, los siguientes tópicos aparecen listados:"
   ]
  },
  {
   "cell_type": "raw",
   "metadata": {},
   "source": [
    "/ardrone_action_server/cancel\n",
    "/ardrone_action_server/feedback\n",
    "/ardrone_action_server/goal\n",
    "/ardrone_action_server/result\n",
    "/ardrone_action_server/status"
   ]
  },
  {
   "cell_type": "markdown",
   "metadata": {},
   "source": [
    "Esto es porque previamente has lanzado el <b>ardone_action_server</b> con el comando <b>roslaunch ardrone_as action_server.launch</b><a href=\"#ex-4-2\">( Ejercicio 4.2 )</a>. Esto significa que <b>existe un action server llamado <i>ardrone_action_server</i></b>. "
   ]
  },
  {
   "cell_type": "markdown",
   "metadata": {},
   "source": [
    "Todo action server crea esos 5 tópicos, así que siempre puedes decir que hay un action server porque has identificado esos 5 tópicos."
   ]
  },
  {
   "cell_type": "markdown",
   "metadata": {},
   "source": [
    "Por lo tanto en el ejemplo:<br>\n",
    "<span style=\"background: #407EAF; color: white\"><b>ardrone_action_server</b></span>: Es el nombre del Action Server<br>\n",
    "<span style=\"background: #407EAF;color: orange\"><b>cancel, feedback, goal, result and status</b></span>: Son los mensajes usados para comunicarse con el action server."
   ]
  },
  {
   "cell_type": "markdown",
   "metadata": {},
   "source": [
    "### Llamando a un action server"
   ]
  },
  {
   "cell_type": "markdown",
   "metadata": {},
   "source": [
    "El action server <i>ardrone_action_server</i> es una action que puedes llamar. Si la llamas, empezará a tomar fotos con la cámara frontal, una foto cada segundo, durante el numero de segundos especificado en el mensaje de llamada (es un parámetro que especificas en la llamada)."
   ]
  },
  {
   "cell_type": "markdown",
   "metadata": {},
   "source": [
    "<b>Llamar a un action server significa enviarle un mensaje</b>. De la misma manera que con <i>tópicos</i> y <i>servicios</i>, todo funciona mediante la circulación de mensajes.\n",
    "\n",
    "<ul>\n",
    "  <li>El mensaje de tun tópico está formado por una sola parte: la información que el tópico provee.<br></li>\n",
    "  <li>El mensaje de un servicio tiene 2 partes: El request, y la response.<br></li>\n",
    "  <li><b>El mensaje de un action tiene 3 partes: El goal, el result y el feedback.</b></li>\n",
    "</ul>"
   ]
  },
  {
   "cell_type": "markdown",
   "metadata": {},
   "source": [
    "Todos los mensajes de action usados están definidos en el <b>directorio <i>action</i> </b> de su paquete.<br><br>\n",
    "Puedes ir al paquete del <i>ardrone_as</i> y comprobar que contiene un directorio <i>action</i>. Dentro de ese directorio <i>action</i>, hay un fichero llamado <i>Ardrone.action</i>. Ese es el fichero que especifica el tipo de mensaje que usa la action.\n",
    "\n",
    "Escribe en una consola los siguientes comandos para ver la estructura del mensaje:"
   ]
  },
  {
   "cell_type": "markdown",
   "metadata": {},
   "source": [
    "<table style=\"float:left;\">\n",
    "<tr>\n",
    "<th>\n",
    "<p style=\"background:#EE9023;color:white;\">Ejercicio 4.3</p><br>\n",
    "Escribe en una consola los siguientes comandos para ver la estructura del mensaje:<br>\n",
    "\n",
    "<table style=\"float:left;background: #407EAF\">\n",
    "<tr>\n",
    "<th>\n",
    "<p style=\"background: #FFFFFF\">Ejecuta en el WebShell #2</p><br>\n",
    "roscd ardrone_as/action; cat Ardrone.action<br>\n",
    "</th>\n",
    "</tr>\n",
    "</table>\n",
    "<br>\n",
    "</th>\n",
    "</tr>\n",
    "</table>"
   ]
  },
  {
   "cell_type": "markdown",
   "metadata": {},
   "source": [
    "<table style=\"float:left;background: #407EAF\">\n",
    "<tr>\n",
    "<th>\n",
    "<p style=\"background: #FFFFFF\">Salida del WebShell #2</p><br>\n",
    "user ~ $ roscd ardrone_as/action; cat Ardrone.action<br>\n",
    "#<span style=\"color:orange\">goal</span> for the drone<br>\n",
    "<span style=\"color:white\">int32 nseconds</span>  # the number of seconds the drone will be taking pictures<br>\n",
    "<span style=\"color:red\">---</span><br>\n",
    "#<span style=\"color:orange\">result</span><br>\n",
    "<span style=\"color:white\">sensor_msgs/CompressedImage[] allPictures </span># an array containing all the pictures taken along the nseconds<br>\n",
    "<span style=\"color:red\">---</span><br>\n",
    "#<span style=\"color:orange\">feedback</span><br>\n",
    "<span style=\"color:white\">sensor_msgs/CompressedImage lastImage  </span># the last image taken<br>\n",
    "</th>\n",
    "</tr>\n",
    "</table>"
   ]
  },
  {
   "cell_type": "markdown",
   "metadata": {},
   "source": [
    "Puedes ver en el paso previo cómo el mensaje está formado por 3 partes:<br>\n",
    "<span style=\"color: orange\"><b>goal</b></span>: Consiste de una variable llamada <i>nseconds</i> de tipo <i>Int32</i>. Este tipo Int32 es un mensaje estándar de ROS, por lo que puede ser encontrado en el paquete <a href=\"http://wiki.ros.org/std_msgs\" target=\"Empty\">std_msgs</a>. Por ser un paquete estándar de ROS no es necesario indicar el paquete que contiene el mensaje Int32. <br>\n",
    "<span style=\"color: orange\"><b>result</b></span>: Consiste de una variable llamada <i>allPictures</i> de tipo <i>CompressedImage[]</i> que se encuentra en el paquete <a href=\"http://wiki.ros.org/sensor_msgs\" target=\"Empty\">sensor_msgs</a>.<br>\n",
    "<span style=\"color: orange\"><b>feedback</b></span>: Consiste de una variable llamada <i>lastImage</i> de tipo <i>CompressedImage[]</i> que se encuentra en el paquete <a href=\"http://wiki.ros.org/sensor_msgs\" target=\"Empty\">sensor_msgs</a>.<br>\n",
    "\n",
    "Aprenderás más adelante sobre como crear tu propio mensaje de action. Por ahora, sólo debes entender que cada vez que llamas a una action, el mensaje implicado contiene 3 partes, y que cada parte puede contener <b>más de una</b> variable."
   ]
  },
  {
   "cell_type": "markdown",
   "metadata": {},
   "source": [
    "### Las Actions dan feedback"
   ]
  },
  {
   "cell_type": "markdown",
   "metadata": {},
   "source": [
    "Debido al hecho de que llamar a un action server no interrumpe tu thread, los action servers proveen un mensaje llamado <b><i>feedback</i></b>. \n",
    "El feedback es un mensaje que el action server genera cada cierto tiempo para indicar cómo está yendo la action. Se genera mientras la action no ha sido completada."
   ]
  },
  {
   "cell_type": "markdown",
   "metadata": {},
   "source": [
    "### Cómo llamar a un action server"
   ]
  },
  {
   "cell_type": "markdown",
   "metadata": {},
   "source": [
    "La manera en la que llamas a un action server es creando un <i><b>action client</b></i>.\n",
    "\n",
    "El siguiente es un ejemplo de cómo implementar un action client que llame al ardrone_action_server y lo haga tomar fotografías durante 10 segundos."
   ]
  },
  {
   "cell_type": "markdown",
   "metadata": {},
   "source": [
    "<table style=\"float:left;\">\n",
    "<tr>\n",
    "<th>\n",
    "<p style=\"background:#EE9023;color:white;\">Ejercicio 4.4</p><br>\n",
    "Ejecuta el siguiente código Python <a href=\"#prg-4-4a\">ardone_action_client.py</a> clicando en él y después clicando en el botón de Play en la esquina superior derecha del IPython notebook.<br> \n",
    "<img src=\"img/font-awesome_step-forward.png\" style=\"float:left\"/><br>\n",
    "<br><br>\n",
    "También puedes pulsar <i>[CTRL]+[Enter]</i> para ejecutarlo.<br>\n",
    "Observa cómo los mensajes de feedback son recibidos (impresos debajo del código).<br>\n",
    "\n",
    "<font color=\"red\">Recuerda</font> que has de tener el <font color=\"red\"><i>roslaunch ardrone_as action_server.launch</i> corriendo</font> ( probablemente en el Webshell #1 ) , porque NO habrá ningún actionServer al que conectarse.\n",
    "<br>\n",
    "</th>\n",
    "</tr>\n",
    "</table>"
   ]
  },
  {
   "cell_type": "markdown",
   "metadata": {},
   "source": [
    "<p style=\"background:#3B8F10;color:white;\" id=\"prg-4-4a\">Programa Python {4.4a}: ardrone_action_client.py </p><br>"
   ]
  },
  {
   "cell_type": "code",
   "execution_count": null,
   "metadata": {
    "collapsed": false
   },
   "outputs": [],
   "source": [
    "#! /usr/bin/env python\n",
    "import rospy\n",
    "import time\n",
    "import actionlib\n",
    "from ardrone_as.msg import ArdroneAction, ArdroneGoal, ArdroneResult, ArdroneFeedback\n",
    "\n",
    "nImage = 1\n",
    "\n",
    "# definición de la función feedback_callback. Será llamada cuando se reciba feedback\n",
    "# del action server\n",
    "# simplemente imprime un mensaje indicaando que un nuevo mensaje ha llegado\n",
    "def feedback_callback(feedback):\n",
    "    global nImage\n",
    "    print('[Feedback] image n.%d received'%nImage)\n",
    "    nImage += 1\n",
    "\n",
    "# inicializa el nodo del action client\n",
    "rospy.init_node('drone_action_client')\n",
    "\n",
    "# crea la conexión al action server action server\n",
    "client = actionlib.SimpleActionClient('/ardrone_action_server', ArdroneAction)\n",
    "# espera hasta que el action server está corriendo\n",
    "client.wait_for_server()\n",
    "\n",
    "# crea un goal para enviarlo al action server\n",
    "goal = ArdroneGoal()\n",
    "goal.nseconds = 10 # indica que tome fotos durante 10 segundos\n",
    "\n",
    "# envía el goal al action server, especificando a qué función de feedback\n",
    "# llamar cuando se reciba feedback\n",
    "client.send_goal(goal, feedback_cb=feedback_callback)\n",
    "\n",
    "# Descomenta estas líneas para testear la cancelación del goal:\n",
    "#time.sleep(3.0)\n",
    "#client.cancel_goal()  # cancela el goal 3 segundos después de haber empezado\n",
    "\n",
    "# espera hasta que obtiene el resultado\n",
    "# puedes hacer otras cosas aquí en lugar de esperar\n",
    "# y comprobar el status de vez en cuando\n",
    "# status = client.get_state()\n",
    "\n",
    "client.wait_for_result()\n",
    "\n",
    "print('[Result] State: %d'%(client.get_state()))"
   ]
  },
  {
   "cell_type": "markdown",
   "metadata": {},
   "source": [
    "<p style=\"background:#3B8F10;color:white;\">Explicación del Código del Programa Python: {4.4a}</p><br>\n",
    "El código para llamar a un action server es muy simple:\n",
    "<ul>\n",
    "<li>Primero creas un client conectado al action server que quieras:<br><br>    \n",
    "    <i>client = actionlib.SimpleActionClient(<span style=\"color:green\">'/ardrone_action_server'</span>, <span style=\"color:orange\">ArdroneAction</span>)</i><br>    \n",
    "    <i>client = actionlib.SimpleActionClient(<span style=\"color:green\">'/nombre_del_action_server'</span>, <span style=\"color:orange\">nombre_de_la_clase_python_del_mensaje_action</span>)</i><br><br>\n",
    "    <ul>\n",
    "    <li><span style=\"color:green\">El primer parámetro</span> es el nombre del action server al que te queires conectar.<br></li>\n",
    "    <li><span style=\"color:orange\">El segundo parámetro</span> es el tipo de mensaje que usa. Si el fichero que contiene tu mensaje se llama <i>Ardrone.action</i> entonces el tipo que debes especificar es <i>ArdroneAction</i>. La misma regla se aplica a cualquier otro tipo (<i>R2Action</i> para <i>R2.action</i> o <i>LukeAction</i> para <i>Luke.action</i> )</li>\n",
    "    </ul>\n",
    "</li>\n",
    "<li>Después creas un goal:<br>\n",
    "    <center><i>goal = ArdroneGoal()</i></center><br>\n",
    "    Debido a que el mensaje goal necesita proveer el número de segundos que ha de tomar fotos, debes assignar ese parametro en la clase goal:<br><br>\n",
    "    <center><i>goal.nseconds = 10</i></center><br>\n",
    "</li>\n",
    "<li>Después, mandas el goal al action server:<br>\n",
    "   <center><i>client.send_goal(goal, feedback_cb=feedback_callback)</i></center>\n",
    "   En este punto, el action server ha recibido el goal y empezado a ejecutarlo (tomar fotos por 10 segundos). También, se van recibiendo mensajes de feedback. Cada vez que se recibe un mensaje de feedback, la función <i>feedback_callback</i> es ejecutada.\n",
    "</li>\n",
    "<li>Finalmente esperas al resultado:<br>\n",
    "   <center><i>client.wait_for_result()</i></center>\n",
    "</li>\n",
    "</ul>\n",
    "<p style=\"background:#3B8F10;color:white;\">Fin de la Explicación del Código {4.4a}</p><br>"
   ]
  },
  {
   "cell_type": "markdown",
   "metadata": {},
   "source": [
    "### Cómo ejecutar otras tareas mientras la Action está en progreso"
   ]
  },
  {
   "cell_type": "markdown",
   "metadata": {},
   "source": [
    "Ya sabes cómo llamar a una action y esperar al resultado, pero... Eso es exactamente lo que hacen los servicios! Entonces por que estás aprendiendo actions?<br>\n",
    "Buen punto!<br>\n",
    "Los objetos SimpleActionClient tienen 2 funciones que pueden ser usadas para saber si la action que se está ejecutando has ha finalizado y cómo:<br>\n",
    "\n",
    "1)<i>wait_for_result()</i>: Esta función es muy simple. Cuando se llama esperará a que la action haya terminado y retornará un valor true. Como puedes ver, es inútil si quieres ejecutar otras tareas en paralelo porque el programa se parará ahí hasta que la action haya terminado.<br>\n",
    "\n",
    "2)<i>get_state()</i>: Esta función es mucho más interesante. Cuando la llamas retorna un entero que indica en qué estado está la action action a la que el objeto SimpleActionClient está conectada.<br>\n",
    "\n",
    "0 ==> PENDING<br>\n",
    "1 ==> ACTIVE<br>\n",
    "2 ==> DONE<br>\n",
    "3 ==> WARN<br>\n",
    "4 ==> ERROR<br>\n",
    "\n",
    "Esto te permite crear un loop while que comprueba si el valor retornado por get_state() es 2 o mayor."
   ]
  },
  {
   "cell_type": "markdown",
   "metadata": {},
   "source": [
    "<table style=\"float:left;\">\n",
    "<tr>\n",
    "<th>\n",
    "<p style=\"background:#EE9023;color:white;\">Ejercicio 4.5</p><br>\n",
    "Ejecuta los siguientes códigos Python {4.5a: wait_for_result_test.py} y {4.5b: no_wait_for_result_test.py} clicando en cada uno de ellos (primero uno, después otro) y clicando en el botón de Play en la esquina superior derecha del IPython notebook.<br> \n",
    "<img src=\"img/font-awesome_step-forward.png\" style=\"float:left\"/><br>\n",
    "<br><br>\n",
    "También puedes pulsar <i>[CTRL]+[Enter]</i> para ejecutarlo.<br>\n",
    "\n",
    "Cuando el programa haya terminado, no te olvides de <span style=\"color:red\">hacer restart del Kernel</span>. Esto limpiará todos los nodos generados por ROS a través de los programas Python. Esto es necesario porque los programas Python sólo pueden lanzar <b>un</b> nodo rospy. Debido a que este notebook es simplemente un script de python dividido, te dará una rospy Exception si tratas de ejecutar 2 partes del código de manera consecutiva sin reiniciar el Kernel.\n",
    "Puedes hacer esto presionando este icono.<br>\n",
    "<img src=\"img/refresh_icon.png\" style=\"float:left\"/>\n",
    "<br><br><br>\n",
    "\n",
    "\n",
    "Observa la diferencia entre ellos (impreso debajo del código) y piensa a qué se debe .<br>\n",
    "\n",
    "<font color=\"red\">Recuerda</font> que has de tener el <font color=\"red\"><i>roslaunch ardrone_as action_server.launch</i></font> corriendo ( probablemente en el Webshell #1 ) , o esto no funcionará porque NO habrña ningún actionServer al que conectarse.\n",
    "<br>\n",
    "</th>\n",
    "</tr>\n",
    "</table>"
   ]
  },
  {
   "cell_type": "markdown",
   "metadata": {},
   "source": [
    "<p style=\"background:#3B8F10;color:white;\">Programa Python {4.5a}: wait_for_result_test.py </p><br>"
   ]
  },
  {
   "cell_type": "code",
   "execution_count": null,
   "metadata": {
    "collapsed": true
   },
   "outputs": [],
   "source": [
    "#! /usr/bin/env python\n",
    "\n",
    "import rospy\n",
    "import time\n",
    "import actionlib\n",
    "from ardrone_as.msg import ArdroneAction, ArdroneGoal, ArdroneResult, ArdroneFeedback\n",
    "\n",
    "nImage = 1\n",
    "\n",
    "# definición de la función feedback_callback. Será llamada cuando se reciba feedback\n",
    "# del action server\n",
    "# simplemente imprime un mensaje indicaando que un nuevo mensaje ha llegado\n",
    "def feedback_callback(feedback):\n",
    "    global nImage\n",
    "    print('[Feedback] image n.%d received'%nImage)\n",
    "    nImage += 1\n",
    "    \n",
    "\n",
    "# inicializa el nodo del action client\n",
    "rospy.init_node('example_with_waitforresult_action_client_node')\n",
    "\n",
    "\n",
    "action_server_name = '/ardrone_action_server'\n",
    "client = actionlib.SimpleActionClient(action_server_name, ArdroneAction)\n",
    "\n",
    "# espera hasta que el action server está corriendo\n",
    "rospy.loginfo('Waiting for action Server '+action_server_name)\n",
    "client.wait_for_server()\n",
    "rospy.loginfo('Action Server Found...'+action_server_name)\n",
    "\n",
    "\n",
    "# crea un goal para enviarlo al action server\n",
    "goal = ArdroneGoal()\n",
    "goal.nseconds = 10 # indica que tome fotos durante 10 segundos\n",
    "\n",
    "client.send_goal(goal, feedback_cb=feedback_callback)\n",
    "rate = rospy.Rate(1)\n",
    "\n",
    "rospy.loginfo(\"Lets Start The Wait for the Action To finish Loop...\")\n",
    "while not client.wait_for_result():\n",
    "    rospy.loginfo(\"Doing Stuff while waiting for the Server to give a result....\")\n",
    "    rate.sleep()\n",
    "\n",
    "rospy.loginfo(\"Example with WaitForResult Finished.\")"
   ]
  },
  {
   "cell_type": "markdown",
   "metadata": {},
   "source": [
    "<p style=\"background:#3B8F10;color:white;\">Python Program {4.5b}: no_wait_for_result_test.py </p><br>"
   ]
  },
  {
   "cell_type": "code",
   "execution_count": null,
   "metadata": {
    "collapsed": true
   },
   "outputs": [],
   "source": [
    "#! /usr/bin/env python\n",
    "\n",
    "import rospy\n",
    "import time\n",
    "import actionlib\n",
    "from ardrone_as.msg import ArdroneAction, ArdroneGoal, ArdroneResult, ArdroneFeedback\n",
    "\n",
    "\"\"\"\n",
    "class SimpleGoalState:\n",
    "    PENDING = 0\n",
    "    ACTIVE = 1\n",
    "    DONE = 2\n",
    "    WARN = 3\n",
    "    ERROR = 4\n",
    "\n",
    "\"\"\"\n",
    "# Creamos algunas constantes con los valores correspondiente de la clase SimpleGoalState\n",
    "PENDING = 0\n",
    "ACTIVE = 1\n",
    "DONE = 2\n",
    "WARN = 3\n",
    "ERROR = 4\n",
    "\n",
    "nImage = 1\n",
    "\n",
    "# definición de la función feedback_callback. Será llamada cuando se reciba feedback\n",
    "# del action server\n",
    "# simplemente imprime un mensaje indicaando que un nuevo mensaje ha llegado\n",
    "def feedback_callback(feedback):\n",
    "    \"\"\"\n",
    "    Error that might jump\n",
    "    \n",
    "    self._feedback.lastImage = \n",
    "AttributeError: 'ArdroneAS' obj\n",
    "    \n",
    "    \"\"\"\n",
    "    global nImage\n",
    "    print('[Feedback] image n.%d received'%nImage)\n",
    "    nImage += 1\n",
    "\n",
    "# inicializa el nodo del action client\n",
    "rospy.init_node('example_no_waitforresult_action_client_node')\n",
    "\n",
    "action_server_name = '/ardrone_action_server'\n",
    "client = actionlib.SimpleActionClient(action_server_name, ArdroneAction)\n",
    "\n",
    "# espera hasta que el action server está corriendo\n",
    "rospy.loginfo('Waiting for action Server '+action_server_name)\n",
    "client.wait_for_server()\n",
    "rospy.loginfo('Action Server Found...'+action_server_name)\n",
    "\n",
    "# crea un goal para enviarlo al action server\n",
    "goal = ArdroneGoal()\n",
    "goal.nseconds = 10 # indica que tome fotos durante 10 segundos\n",
    "\n",
    "client.send_goal(goal, feedback_cb=feedback_callback)\n",
    "\n",
    "\n",
    "# Puedes acceder a la variable SimpleAction \"simple_state\", que será 1 si está activo, y 2 cuando termine.\n",
    "# Es una variable, mejor usa una función como get_state.\n",
    "# state = client.simple_state\n",
    "# state_result dará el ESTADO FINAL. Será 1 si es Active, y 2 si es NO ERROR, 3 si hay algun Warning, y 4 si hay algun ERROR\n",
    "state_result = client.get_state()\n",
    "\n",
    "rate = rospy.Rate(1)\n",
    "\n",
    "rospy.loginfo(\"state_result: \"+str(state_result))\n",
    "\n",
    "while state_result < DONE:\n",
    "    rospy.loginfo(\"Doing Stuff while waiting for the Server to give a result....\")\n",
    "    rate.sleep()\n",
    "    state_result = client.get_state()\n",
    "    rospy.loginfo(\"state_result: \"+str(state_result))\n",
    "    \n",
    "\n",
    "state_result = client.get_state()\n",
    "rospy.loginfo(\"[Result] State: \"+str(state_result))\n",
    "if state_result == ERROR:\n",
    "    rospy.logerr(\"Something went wrong in the Server Side\")\n",
    "if state_result == WARN:\n",
    "    rospy.logwarn(\"There is a warning in the Server Side\")\n",
    "\n",
    "#rospy.loginfo(\"[Result] State: \"+str(client.get_result()))"
   ]
  },
  {
   "cell_type": "markdown",
   "metadata": {},
   "source": [
    "<p style=\"background:#3B8F10;color:white;\">Explicación del Código de los Programas Python: {4.5a} y {4.5b}</p><br>\n",
    "Básicamente la diferencia es que en el 4.5a el mensaje de log <span style=\"color:green\"><i>rospy.loginfo(\"Doing Stuff while waiting for the Server to give a result....\")</i></span> jamás será impreso mientras que en el 4.5b sí.<br>\n",
    "\n",
    "Esto es porque en el 4.5a el programa empieza el loop while para comprobar si el valor retornado por <span style=\"color:green\"><i>client.wait_for_result()</i></span> es True o False, pero esperará por un valor que sólo será retornado cuando la Action haya terminado. Por tanto jamás entrará en el loop while porque siempre retornará el valor True.<br>\n",
    "\n",
    "Por el contrario, en el programa 4.5b comprueba si <span style=\"color:green\"><i>state_result &lt; DONE</i></span>. Y debido a que la función <i>get_state()</i> retornará immediatamente el estado actual de la action, permite realizar otras tareas en paralelo. En este caso imprimir el mensaje de log <span style=\"color:red\">MIENTRAS</span> imprime también el Feedback enviado por la Action.\n",
    "<p style=\"background:#3B8F10;color:white;\">Fin Explicación del Código de los Programas Python: {4.5a} y {4.5b}</p><br>"
   ]
  },
  {
   "cell_type": "markdown",
   "metadata": {},
   "source": [
    "Puedes obtener más información sobre los action clients de ROS en python en esta <a href=\"http://docs.ros.org/jade/api/actionlib/html/classactionlib_1_1simple__action__client_1_1SimpleActionClient.html\"><b>client API</b></a>"
   ]
  },
  {
   "cell_type": "markdown",
   "metadata": {},
   "source": [
    "<table style=\"float:left;\">\n",
    "<tr>\n",
    "<th>\n",
    "<p style=\"background:#EE9023;color:white;\">Ejercicio 4.6</p><br>\n",
    "<ul>\n",
    "  <li>Crea un paquete que contenga y lance el action client del Ejercicio {4.4a}: ardrone_action_client.py, mediante un fichero launch.</li>\n",
    "  <li>Añade código que haga que el quadcopter se mueva mientras el action server ha sido llamado (para tomar fotos mientras el robot se está moviendo).</li>\n",
    "  <li>Detén el movimiento del quadcopter cuando la última foto haya sido tomada (el action server ha terminado).</li>\n",
    "</ul>\n",
    "<br>\n",
    "<p style=\"background:#3B8F10;color:white;\">Información para el Ejercicio 4.6</p><br>\n",
    "1) Puedes enviar comandos Twist al quadcopter para moverlo. Estos comandos deben ser publicado en el tópico<font color=\"green\"><i>/cmd_vel</i></font>. Recuerda la <i>Unidad de Tópicos</i>.<br>\n",
    "2) Debes enviar comandos de movimiento mientras esperas a recibir el resultado, teniendo que crear un bucle que mande comandos al mismo tiempo que comprueba el estado. Para ser capaz de enviar comandos mientras la action está en progreso, necesitas usar la función <font color=\"green\">SimpleActionClient <i>get_state()</i> </font>. Toma como ejemplo el Ejercicio {4.5b}.\n",
    "</th>\n",
    "</tr>\n",
    "</table>"
   ]
  },
  {
   "cell_type": "markdown",
   "metadata": {
    "collapsed": true
   },
   "source": [
    "### Haciendo Preempt de un goal\n",
    "\n",
    "Puedes cancelar un comando enviado a un action server en cualquier momento.<br>\n",
    "Cancelar un goal que está siendo ejecutado se llama <b>hacer preempt de un goal</b><br>\n",
    "<br>\n",
    "Podrías necesitar hacer preempt de un goal por muchas razones, como por ejemplo, el robot se vuelve \"loco\" tras enviarle el goal y es más segurlo pararlo antes de que cause algún daño.<br>\n",
    "Para hacer preempt de un goal, mandas el cancel_goal al client.<br>\n",
    "<br>"
   ]
  },
  {
   "cell_type": "raw",
   "metadata": {},
   "source": [
    "client.cancel_goal()"
   ]
  },
  {
   "cell_type": "markdown",
   "metadata": {},
   "source": [
    "<table style=\"float:left;\">\n",
    "<tr>\n",
    "<th>\n",
    "<p style=\"background:#EE9023;color:white;\">Ejercicio 4.7</p><br>\n",
    "Ejecuta el siguiente código Python {4.6a: cancel_goal_test.py} clicando en él y después clicando en el botón de Play en la esquina superior derecha del IPython notebook.<br> \n",
    "<img src=\"img/font-awesome_step-forward.png\" style=\"float:left\"/><br>\n",
    "<br><br>\n",
    "También puedes pulsar <i>[CTRL]+[Enter]</i> para ejecutarlo.<br>\n",
    "\n",
    "Cuando el programa haya terminado, no te olvides de <span style=\"color:red\">hacer restart del Kernel</span>. Esto limpiará todos los nodos generados por ROS a través de los programas Python. Esto es necesario porque los programas Python sólo pueden lanzar <b>un</b> nodo rospy. Debido a que este notebook es simplemente un script de python dividido, te dará una rospy Exception si tratas de ejecutar 2 partes del código de manera consecutiva sin reiniciar el Kernel.\n",
    "Puedes hacer esto presionando este icono.<br>\n",
    "<img src=\"img/refresh_icon.png\" style=\"float:left\"/>\n",
    "<br><br><br>\n",
    "\n",
    "\n",
    "Observa cómo el goal es cancelado.<br>\n",
    "\n",
    "<font color=\"red\">Recuerda</font> que has de tener el <font color=\"red\"><i>roslaunch ardrone_as action_server.launch</i></font> corriendo ( probablemente en el Webshell #1 ) , o esto no funcionará porque NO habrña ningún actionServer al que conectarse.\n",
    "<br>\n",
    "</th>\n",
    "</tr>\n",
    "</table>"
   ]
  },
  {
   "cell_type": "markdown",
   "metadata": {},
   "source": [
    "<p style=\"background:#3B8F10;color:white;\">Programa Python {4.6a}: cancel_goal_test.py </p><br>"
   ]
  },
  {
   "cell_type": "code",
   "execution_count": null,
   "metadata": {
    "collapsed": true
   },
   "outputs": [],
   "source": [
    "#! /usr/bin/env python\n",
    "\n",
    "import rospy\n",
    "import time\n",
    "import actionlib\n",
    "from ardrone_as.msg import ArdroneAction, ArdroneGoal, ArdroneResult, ArdroneFeedback\n",
    "\n",
    "# Creamos algunas constantes con los valores correspondiente de la clase SimpleGoalState\n",
    "PENDING = 0\n",
    "ACTIVE = 1\n",
    "DONE = 2\n",
    "WARN = 3\n",
    "ERROR = 4\n",
    "\n",
    "nImage = 1\n",
    "\n",
    "# definición de la función feedback_callback. Será llamada cuando se reciba feedback\n",
    "# del action server\n",
    "# simplemente imprime un mensaje indicaando que un nuevo mensaje ha llegado\n",
    "def feedback_callback(feedback):\n",
    "    \"\"\"\n",
    "    Error that might jump\n",
    "    \n",
    "    self._feedback.lastImage = \n",
    "AttributeError: 'ArdroneAS' obj\n",
    "    \n",
    "    \"\"\"\n",
    "    global nImage\n",
    "    print('[Feedback] image n.%d received'%nImage)\n",
    "    nImage += 1\n",
    "\n",
    "# inicializa el nodo del action client\n",
    "rospy.init_node('example_no_waitforresult_action_client_node')\n",
    "\n",
    "action_server_name = '/ardrone_action_server'\n",
    "client = actionlib.SimpleActionClient(action_server_name, ArdroneAction)\n",
    "\n",
    "# espera hasta que el action server está corriendo\n",
    "rospy.loginfo('Waiting for action Server '+action_server_name)\n",
    "client.wait_for_server()\n",
    "rospy.loginfo('Action Server Found...'+action_server_name)\n",
    "\n",
    "# crea un goal para enviarlo al action server\n",
    "goal = ArdroneGoal()\n",
    "goal.nseconds = 10 # indica que tome fotos durante 10 segundos\n",
    "\n",
    "client.send_goal(goal, feedback_cb=feedback_callback)\n",
    "\n",
    "\n",
    "# Puedes acceder a la variable SimpleAction \"simple_state\", que será 1 si está activo, y 2 cuando termine.\n",
    "# Es una variable, mejor usa una función como get_state.\n",
    "# state = client.simple_state\n",
    "# state_result dará el ESTADO FINAL. Será 1 si es Active, y 2 si es NO ERROR, 3 si hay algun Warning, y 4 si hay algun ERROR\n",
    "state_result = client.get_state()\n",
    "\n",
    "rate = rospy.Rate(1)\n",
    "\n",
    "rospy.loginfo(\"state_result: \"+str(state_result))\n",
    "counter = 0\n",
    "while state_result < DONE:\n",
    "    rospy.loginfo(\"Doing Stuff while waiting for the Server to give a result....\")\n",
    "    counter += 1\n",
    "    rate.sleep()\n",
    "    state_result = client.get_state()\n",
    "    rospy.loginfo(\"state_result: \"+str(state_result)+\", counter =\"+str(counter))\n",
    "    if counter == 2:\n",
    "        rospy.logwarn(\"Canceling Goal...\")\n",
    "        client.cancel_goal()\n",
    "        rospy.logwarn(\"Goal Canceled\")\n",
    "        state_result = client.get_state()\n",
    "        rospy.loginfo(\"Update state_result after Cancel : \"+str(state_result)+\", counter =\"+str(counter))"
   ]
  },
  {
   "cell_type": "markdown",
   "metadata": {},
   "source": [
    "<p style=\"background:#3B8F10;color:white;\">Explicación del Código del Programa Python: {4.6a}</p><br>\n",
    "Es exactamente el mismo código que {4.5b} excepto por el uso de la función <i>cancel_goal()</i>.<br>\n",
    "Este programa cuenta hasta 2, y entonces cancela el goal. Esto fuerza al server a finalizar el goal y por tanto la función <i>get_state()</i> retorna el valor DONE ( 2 ).\n",
    "<p style=\"background:#3B8F10;color:white;\">Fin Explicación del Código del Programa Python: {4.6a}</p><br>"
   ]
  },
  {
   "cell_type": "markdown",
   "metadata": {},
   "source": [
    "Hay un problema conocido en ROS con las Actions. Lanza un warning cuando la conexión es cortada. Normalmente pasa cuando cancelas un goal o terminas un programa con un objeto client en él. El warning se da en el lado del Server.<br>\n",
    "<i>[WARN] Inbound TCP/IP connection failed: connection from sender terminated before handshake header received. 0 bytes were received. Please check sender for additional details.</i><br>\n",
    "No entres en pánico, no afecta en nada a tus programas."
   ]
  },
  {
   "cell_type": "markdown",
   "metadata": {},
   "source": [
    "### Cómo funciona todo ésto?"
   ]
  },
  {
   "cell_type": "markdown",
   "metadata": {
    "collapsed": true
   },
   "source": [
    "Necesitás entender cómo funcionan las comunicaciones dentro de las actions. No es que lo vayas a usar para programar. Como ya has visto, programar un action client es muy simple. Sin embargo, pasará que tu código tendrá bugs y tendrás que debugarlo. Para poder hacer un buen debug cómo funciona la comunicación entre los <i>action servers</i> y los <i>action clients</i>."
   ]
  },
  {
   "cell_type": "markdown",
   "metadata": {},
   "source": [
    "Como ya sabes, el mensaje de un action server tiene 3 partes:<br>\n",
    "<ul>\n",
    "<li>el goal</li>\n",
    "<li>el result</li>\n",
    "<li>el feedback</li>\n",
    "</ul>\n",
    "<br>\n",
    "Cada una corresponde a un tópico y a un mensaje.<br>\n",
    "Por ejemplo, en el caso del ardrone_action_server, los tópicos funcionan de la siguiente manera:<br>\n",
    "<ul>\n",
    "<li>tópico goal: <span style=\"color: green\">/ardrone_action_server/goal</span></li>\n",
    "<li>tópico result: <span style=\"color: green\">/ardrone_action_server/result</span></li>\n",
    "<li>tópico feedback: <span style=\"color: green\">/ardrone_action_server/feedback</span></li>\n",
    "</ul>\n",
    "<br>\n",
    "Vuelve a mirar al diagrama de comunicación del ActionClient+ActionServer.<br>\n",
    "<figure>\n",
    "  <img id=\"fig-4.4\" src=\"img/action_interface.png\"/>\n",
    "   <center> <figcaption>Fig.4.4 - Cópia del Diagrama de Interfaz de un Action</figcaption></center>\n",
    "</figure>\n",
    "Así que, la secuencia de pasos es la siguiente: \n",
    "<ol>\n",
    "<li>Cuando un <i>action client</i> <span style=\"color:orange\">llama</span> a un <i>action server</i> desde un nodo, lo que realmente pasa es que el <i>action client</i> manda al <i>action server</i> el <span style=\"color:orange\">goal</span> solicitado a través del tópico <i><span style=\"color: green\">/ardrone_action_server/goal</span></i>. </li>\n",
    "\n",
    "<li>Cuando el <i>action server</i> <span style=\"color:orange\">empieza</span> a ejecutar el goal, manda al <i>action client</i> el <span style=\"color:orange\">feedback</span> a través del tópico <i><span style=\"color: green\">/ardrone_action_server/feedback</span></i>.</li>\n",
    "\n",
    "<li>Finalmente, cuando el <i>action server</i> ha <span style=\"color:orange\">terminado</span> de hacer el goal, manda al <i>action client</i> el <span style=\"color:orange\">result</span> a través del tópico <i><span style=\"color:green\">/ardrone_action_server/result</span></i>.</li>\n",
    "</ol>"
   ]
  },
  {
   "cell_type": "markdown",
   "metadata": {},
   "source": [
    "Si quieres ver cómo todo este baile ocurre bajo tú código, hagamos el siguiente ejercicio."
   ]
  },
  {
   "cell_type": "markdown",
   "metadata": {},
   "source": [
    "<table style=\"float:left;\">\n",
    "<tr>\n",
    "<th>\n",
    "<p style=\"background:#EE9023;color:white;\">Ejercicio 4.8</p><br>\n",
    "Lee el ejercicio completo antes de empezar a ejecutarlo, porque necesitas configurar correctamente antes de ejecutar nada.<br>\n",
    "\n",
    "<table style=\"float:left;background: #407EAF\">\n",
    "<tr>\n",
    "<th>\n",
    "<p style=\"background: #FFFFFF\">Ejecuta en el WebShell #1: Lanza en background el action_server u haz el echo del goal </p><br>\n",
    "( Pulsa [CTRL]+[C] para matar el ardrone_as action_server.launch si lo tenias corriendo)<br>\n",
    "roslaunch ardrone_as action_server.launch &<br>\n",
    "( para matarlo cuando termines :rosnode kill /ardrone_as )<br>\n",
    "rostopic echo /ardrone_action_server/goal\n",
    "</th>\n",
    "</tr>\n",
    "</table>\n",
    "<br><br><br><br><br><br><br><br>\n",
    "\n",
    "\n",
    "<table style=\"float:left;background: #407EAF\">\n",
    "<tr>\n",
    "<th>\n",
    "<p style=\"background: #FFFFFF\">Ejecuta en el WebShell #2: Haz echo del feedback</span></p><br>\n",
    "rostopic echo /ardrone_action_server/feedback<br>\n",
    "</th>\n",
    "</tr>\n",
    "</table>\n",
    "<br><br><br><br><br>\n",
    "\n",
    "<table style=\"float:left;background: #407EAF\">\n",
    "<tr>\n",
    "<th>\n",
    "<p style=\"background: #FFFFFF\">Ejecuta en el WebShell #3: Haz echo del result</span></p><br>\n",
    "rostopic echo /ardrone_action_server/result<br>\n",
    "</th>\n",
    "</tr>\n",
    "</table>\n",
    "<br><br><br><br><br>\n",
    "\n",
    "<table style=\"float:left;background: #407EAF\">\n",
    "<tr>\n",
    "<th>\n",
    "<p style=\"background: #FFFFFF\">Ejecuta en el WebShell #4: Lanza el action server client</span></p><br>\n",
    "( Ejecuta el launch que creaste en el Ejercicio 4.6, para que el drone empieze a moverse y tomar fotos )<br>\n",
    "</th>\n",
    "</tr>\n",
    "</table>\n",
    "<br><br><br><br><br>\n",
    "\n",
    "\n",
    "Cuando tengas los <i>rostopic echo</i> en las WebShells 1, 2 y 3 ejecutandose, ve al WebShell 4 y ejecuta el comando roslaunch para lanzar tu action client. Entonces haz lo siguiente:<br>\n",
    "<ul>\n",
    "<li>Visita rápidamente la consola que contiene el echo del goal ( WebShell #1 ). Debería haber aparecido un mensaje indicando el goal que has mandado (con 10 segundos para tomar fotos).</li>\n",
    "    <li>Visita rápidamente la consola que contiene el echo del feedback ( WebShell #2 ). Debería aparecer un nuevo mensaje cada segundo. Esto es el feedback enviado por el <i>action server</i> al <i>action client</i>.</li>\n",
    "    <li>Visita rápidamente la consola que contiene el echo del result ( WebShell #3 ). Si no han pasado 10 segundos desde que lanzaste el <i>action client</i>, entonces no debería haber ningún mensaje. Si esperas a que pasen los 10 segundos, verás aparecer el mensaje result enviado por el <i>action server</i> al <i>action client</i>.\n",
    "</ul><br>\n",
    "\n",
    "<p style=\"background:#3B8F10;color:white;\">Información para el ejercicio 4.8</p><br>\n",
    "Cada uno de estos 3 tópicos tiene su propio tipo de mensaje. El tipo de cada mensaje es construido automáticamente por ROS a partir del fichero <i>.action</i>.<br>\n",
    "\n",
    "Por ejemplo, en el caso del <i>ardrone_action_server</i> el <i>fichero action</i> se llama <b>Ardrone.action</b>.<br>\n",
    "\n",
    "Cuando compilas el paquete (con <i>catkin_make</i>), ROS generará automáticamente los siguientes tipos de mensajes a partir del fichero <i>Ardrone.action</i>:\n",
    "<ul>\n",
    "    <li>ArdroneActionGoal</li>\n",
    "    <li>ArdroneActionFeedback</li>\n",
    "    <li>ArdroneActionResult</li>\n",
    "</ul><br>\n",
    "Cada tópico del action server usa su respectivo tipo de mensaje asociado.\n",
    "\n",
    "</th>\n",
    "</tr>\n",
    "</table>"
   ]
  },
  {
   "cell_type": "markdown",
   "metadata": {},
   "source": [
    "<table style=\"float:left;\">\n",
    "<tr>\n",
    "<th>\n",
    "<p style=\"background:#EE9023;color:white;\">Ejercicio 4.9</p><br>\n",
    "Haz un <i>rostopic info</i> de cualquier de los tópicos del action y comprueba que los tipos realmente se corresponden con los indicados arriba.\n",
    "</th>\n",
    "</tr>\n",
    "</table>"
   ]
  },
  {
   "cell_type": "markdown",
   "metadata": {},
   "source": [
    "<table style=\"float:left;\">\n",
    "<tr>\n",
    "<th>\n",
    "<p style=\"background:#EE9023;color:white;\">Ejercicio 4.10</p><br>\n",
    "Debido a la forma en que funcionan las actions, puedes llamar al <i>action server ardrone_action_server</i> publicando directamente en los tópicos (emulando por tanto, lo que el código Python del action client está haciendo). Es importante que entiendas esto porque necesitarás estos conocimientos para debugar tus programas.<br>\n",
    "\n",
    "\n",
    "<table style=\"float:left;background: #407EAF\">\n",
    "<tr>\n",
    "<th>\n",
    "<p style=\"background: #FFFFFF\">Ejecuta en el WebShell #1: Lanza el action_server</p><br>\n",
    "( pressiona [CTRL]+[C] para matar el ardrone_as action_server.launch si lo tienes corriendo, o para matarlo si lo tienes corriendo en background haz lo siguiente: rosnode kill /ardrone_as ))<br>\n",
    "roslaunch ardrone_as action_server.launch<br>\n",
    "</th>\n",
    "</tr>\n",
    "</table>\n",
    "<br><br><br><br><br><br><br><br>\n",
    "\n",
    "\n",
    "\n",
    "Activemos el <i>action server ardrone_action_server</i> mediante tópicos con el siguiente ejercicio.<br>\n",
    "Usa la consola web para enviar un goal al action server <i>/ardrone_action_server</i>, y para observar qué sucede en los tópicos <i>result</i> y <i>feedback</i>.<br>\n",
    "\n",
    "\n",
    "<table style=\"float:left;background: #407EAF\">\n",
    "<tr>\n",
    "<th>\n",
    "<p style=\"background: #FFFFFF\">Ejecuta en el WebShell #2: Haz echo del feedback</p><br>\n",
    "rostopic pub /[nombre_del_action_server]/goal /[tipo_de_mensaje_usado_por_el_topico] [TAB][TAB]<br>\n",
    "</th>\n",
    "</tr>\n",
    "</table>\n",
    "<br><br><br><br><br>\n",
    "\n",
    "<p style=\"background:#3B8F10;color:white;\">Información para el Ejercicio 4.10</p><br>\n",
    "\n",
    "<font color=\"green\">\n",
    "\n",
    "<ul>\n",
    "    <li>\n",
    "    No necesitas escribir todo el mensaje a mano. Recuerda usar TAB-TAB para que ROS autocomplete tus comandos (o te de opciones).<br>\n",
    "    </li>\n",
    "    <li>\n",
    "    Cuando consigas que ROS autocomplete el mensaje que quieres enviar, tendrás que modificar el parámetro <i>nseconds</i>, porque el valor por defecto es 0 (recuerda que este parámetro indica el número de segundos para tomar fotos). Muévete a lugar correcto mediante el teclado. Esto es porque las consolas funcionan así, como debes saber.\n",
    "    </li>\n",
    "</ul>\n",
    "</font>\n",
    "\n",
    "<p style=\"background:#AE0202;color:white;\">Resultado Esperado para el Ejercicio 4.10</p><br>\n",
    "Deberías ver el mismo resultado que en el ejercicio 4.8, con la diferencia de que el goal ha sido enviado a mano directamente al tópico goal, en lugar de publicándolo a través de un programa Python.\n",
    "\n",
    "</th>\n",
    "</tr>\n",
    "</table>"
   ]
  },
  {
   "cell_type": "code",
   "execution_count": null,
   "metadata": {
    "collapsed": true
   },
   "outputs": [],
   "source": []
  }
 ],
 "metadata": {
  "anaconda-cloud": {},
  "kernelspec": {
   "display_name": "Python 2",
   "language": "python",
   "name": "python2"
  },
  "language_info": {
   "codemirror_mode": {
    "name": "ipython",
    "version": 2
   },
   "file_extension": ".py",
   "mimetype": "text/x-python",
   "name": "python",
   "nbconvert_exporter": "python",
   "pygments_lexer": "ipython2",
   "version": "2.7.12"
  }
 },
 "nbformat": 4,
 "nbformat_minor": 0
}
