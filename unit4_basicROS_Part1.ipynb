{
 "cells": [
  {
   "cell_type": "markdown",
   "metadata": {},
   "source": [
    "# <font class='ign_color'>ROS IN 5 DAYS</font>"
   ]
  },
  {
   "cell_type": "markdown",
   "metadata": {},
   "source": [
    "# Unit 4: ROS Actions"
   ]
  },
  {
   "cell_type": "markdown",
   "metadata": {
    "caption": "Drone",
    "image": true,
    "name": "drone",
    "width": "8cm"
   },
   "source": [
    "<img src=\"img/drone.jpg\" width=\"450\" />"
   ]
  },
  {
   "cell_type": "markdown",
   "metadata": {},
   "source": [
    "<b>Estimated time to completion:</b> 3 hours\n",
    "<br><br>\n",
    "<b>What will you learn with this unit?</b>\n",
    "\n",
    "* What is a ROS action\n",
    "* How to manage the actions of a robot\n",
    "* How to call an action server"
   ]
  },
  {
   "cell_type": "markdown",
   "metadata": {},
   "source": [
    "## Part 1"
   ]
  },
  {
   "cell_type": "markdown",
   "metadata": {},
   "source": [
    "1) Did you understand the previous sections about topics and services?<br>\n",
    "2) Are they clear to you?<br>\n",
    "3) Did you have a good breakfast today?<br>\n",
    "\n",
    "If your answers to all of those questions were yes, then you are ready to learn about ROS actions. Otherwise, go back and do not come back until all of those answers are a big YES. You are going to need it..."
   ]
  },
  {
   "cell_type": "markdown",
   "metadata": {},
   "source": [
    "#### Quadrotor simulation"
   ]
  },
  {
   "cell_type": "markdown",
   "metadata": {},
   "source": [
    "Before starting with ROS actions learning, let's have some fun with the quadrotor simulation.<br>\n",
    "Make the quadrotor take off and control it with the keyboard.<br> \n",
    "How would you do that? \n",
    "\n",
    "By issuing the following commands:"
   ]
  },
  {
   "cell_type": "markdown",
   "metadata": {},
   "source": [
    "First, you need to take off."
   ]
  },
  {
   "cell_type": "markdown",
   "metadata": {},
   "source": [
    "<table style=\"float:left;background: #407EAF\">\n",
    "<tr>\n",
    "<th>\n",
    "<p class=\"transparent\">Execute in WebShell #1</p>\n",
    "</th>\n",
    "</tr>\n",
    "</table>"
   ]
  },
  {
   "cell_type": "code",
   "execution_count": null,
   "metadata": {
    "collapsed": true
   },
   "outputs": [],
   "source": [
    "rostopic pub /drone/takeoff std_msgs/Empty \"{}\""
   ]
  },
  {
   "cell_type": "markdown",
   "metadata": {},
   "source": [
    "Hit **CTRL+C** to stop it and to be able to type more commands. In this case, the commands to move the drone with the keyboard."
   ]
  },
  {
   "cell_type": "markdown",
   "metadata": {},
   "source": [
    "\n",
    "<table style=\"float:left;background: #407EAF\">\n",
    "<tr>\n",
    "<th>\n",
    "<p class=\"transparent\">Execute in WebShell #1</p>\n",
    "</th>\n",
    "</tr>\n",
    "</table>"
   ]
  },
  {
   "cell_type": "code",
   "execution_count": null,
   "metadata": {
    "collapsed": true
   },
   "outputs": [],
   "source": [
    "rosrun teleop_twist_keyboard teleop_twist_keyboard.py"
   ]
  },
  {
   "cell_type": "markdown",
   "metadata": {},
   "source": [
    "To land the drone, just publish into the **/drone/land** topic:"
   ]
  },
  {
   "cell_type": "markdown",
   "metadata": {},
   "source": [
    "<table style=\"float:left;background: #407EAF\">\n",
    "<tr>\n",
    "<th>\n",
    "<p class=\"transparent\">Execute in WebShell #1</p>\n",
    "</th>\n",
    "</tr>\n",
    "</table>"
   ]
  },
  {
   "cell_type": "code",
   "execution_count": null,
   "metadata": {
    "collapsed": true
   },
   "outputs": [],
   "source": [
    "rostopic pub /drone/land std_msgs/Empty \"{}\""
   ]
  },
  {
   "cell_type": "markdown",
   "metadata": {},
   "source": [
    "<p style=\"background:#3B8F10;color:white;\">**Code Explanation #1**</p>"
   ]
  },
  {
   "cell_type": "markdown",
   "metadata": {},
   "source": [
    "**\"rosrun\"**: ROS command that allows you to run a ROS program without having to create a launch file to launch it (it is a different way from what we've been doing here).\n",
    "\n",
    "**\"teleop_twist_keyboard\"**: Name of the package where the ROS program is. In this case, where the python executable is.\n",
    "\n",
    "**\"teleop_twist_keyboard.py\"**: Python executable that will be run. In this case, it's an executable that allows you to input movement commands through the keyboard. When executed, it displays the instructions to move the robot."
   ]
  },
  {
   "cell_type": "markdown",
   "metadata": {},
   "source": [
    "<p style=\"background:#3B8F10;color:white;\">**End Code Explanation #1**</p>"
   ]
  },
  {
   "cell_type": "markdown",
   "metadata": {
    "caption": "Ardrone moved with teleop twist keyboard",
    "image": true,
    "name": "unit4_quadrotor",
    "width": "10cm"
   },
   "source": [
    "<figure>\n",
    "  <img id=\"fig-4.1\" src=\"img/unit4_quadrotor.gif\"></img>\n",
    "   <center> <figcaption>Fig.4.1 - Ardrone moved with teleop_twist_keyboard.py.</figcaption></center>\n",
    "</figure>"
   ]
  },
  {
   "cell_type": "markdown",
   "metadata": {},
   "source": [
    "<p style=\"background:#EE9023;color:white;\">**Exercise 4.1**</p><br>\n",
    "Try to takeoff, move, and land the drone using the keyboard, as shown in the gif in <a href=\"#fig-4.1\">{Fig:4.1}</a>"
   ]
  },
  {
   "cell_type": "markdown",
   "metadata": {},
   "source": [
    "<p style=\"background:#EE9023;color:white;\">**END Exercise 4.1**</p>"
   ]
  },
  {
   "cell_type": "markdown",
   "metadata": {},
   "source": [
    "### What are actions?"
   ]
  },
  {
   "cell_type": "markdown",
   "metadata": {},
   "source": [
    "#### Actions are like asynchronous calls to services"
   ]
  },
  {
   "cell_type": "markdown",
   "metadata": {},
   "source": [
    "Actions are very similar to services. When you call an action, you are calling a functionality that another node is providing. Just the same as with services. The difference is that when your node calls a service, it must wait until the service finishes. <b>When your node calls an action, it doesn't necessarily have to wait for the action to complete.</b> \n",
    "\n",
    "<b>Hence, an action is an asynchronous call to another node's functionality</b>."
   ]
  },
  {
   "cell_type": "markdown",
   "metadata": {},
   "source": [
    "\n",
    "\n",
    "* The node that provides the functionality has to contain an <b>action server</b>.\n",
    "The <i>action server</i> allows other nodes to call that action functionality.\n",
    "\n",
    "\n",
    "* The node that calls to the functionality has to contain an <b>action client</b>.\n",
    "The <i>action client</i> allows a node to connect to the <i>action server</i> of another node.\n",
    "\n",
    "\n",
    "\n",
    "\n"
   ]
  },
  {
   "cell_type": "markdown",
   "metadata": {
    "caption": "Action Interface Diagram showing the under-the-hood communication system",
    "image": true,
    "name": "action_interface",
    "width": "10cm"
   },
   "source": [
    "<figure>\n",
    "  <img id=\"fig-4.2\" src=\"img/action_interface.png\"/>\n",
    "  <br>\n",
    "  <center> <figcaption>Fig.4.2 - Action Interface Diagram showing the under-the-hood communication system</figcaption></center>\n",
    "</figure>"
   ]
  },
  {
   "cell_type": "markdown",
   "metadata": {},
   "source": [
    "Now let's see an action in action (I'm so funny!)"
   ]
  },
  {
   "cell_type": "markdown",
   "metadata": {},
   "source": [
    "<p style=\"background:#EE9023;color:white;\" id=\"ex-4-2\">**Exercise 4.2**</p><br>\n",
    "Go to a shell and launch the ardrone action server with the following command:<br><br>\n",
    "<span style=\"color:red;\">**Important!!** Keep this program running for the rest of the tutorial, since it is the one that provides the action server you are going to use.</span>\n",
    "\n",
    "<table style=\"float:left;background: #407EAF\">\n",
    "<tr>\n",
    "<th>\n",
    "<p class=\"transparent\">Execute in WebShell #1, <span class=\"ign_red\">Leave It Running</span></p>\n",
    "</th>\n",
    "</tr>\n",
    "</table>"
   ]
  },
  {
   "cell_type": "code",
   "execution_count": null,
   "metadata": {
    "collapsed": true
   },
   "outputs": [],
   "source": [
    "roslaunch ardrone_as action_server.launch"
   ]
  },
  {
   "cell_type": "markdown",
   "metadata": {},
   "source": [
    "<b>Questions:</b><br>\n",
    "\n",
    "* How do you know the whole list of topics available?\n"
   ]
  },
  {
   "cell_type": "markdown",
   "metadata": {
    "collapsed": true
   },
   "source": [
    "<table style=\"float:left;background: #407EAF\">\n",
    "<tr>\n",
    "<th>\n",
    "<p class=\"transparent\">Execute in WebShell #2</p>\n",
    "</th>\n",
    "</tr>\n",
    "</table>"
   ]
  },
  {
   "cell_type": "code",
   "execution_count": null,
   "metadata": {
    "collapsed": true
   },
   "outputs": [],
   "source": [
    "rostopic list"
   ]
  },
  {
   "cell_type": "markdown",
   "metadata": {},
   "source": [
    "\n",
    "* How do you know the whole list of services available?\n"
   ]
  },
  {
   "cell_type": "markdown",
   "metadata": {
    "collapsed": true
   },
   "source": [
    "<table style=\"float:left;background: #407EAF\">\n",
    "<tr>\n",
    "<th>\n",
    "<p class=\"transparent\">Execute in WebShell #2</p>\n",
    "</th>\n",
    "</tr>\n",
    "</table>"
   ]
  },
  {
   "cell_type": "code",
   "execution_count": null,
   "metadata": {
    "collapsed": true
   },
   "outputs": [],
   "source": [
    "rosservice list"
   ]
  },
  {
   "cell_type": "markdown",
   "metadata": {},
   "source": [
    "\n",
    "* How do you know the whole list of action servers available?\n"
   ]
  },
  {
   "cell_type": "markdown",
   "metadata": {
    "collapsed": true
   },
   "source": [
    "<table style=\"float:left;background: #407EAF\">\n",
    "<tr>\n",
    "<th>\n",
    "<p class=\"transparent\">Execute in WebShell #2</p>\n",
    "</th>\n",
    "</tr>\n",
    "</table>"
   ]
  },
  {
   "cell_type": "code",
   "execution_count": null,
   "metadata": {
    "collapsed": true
   },
   "outputs": [],
   "source": [
    "rosaction list"
   ]
  },
  {
   "cell_type": "markdown",
   "metadata": {
    "caption": "Did not Say The Magic Word",
    "image": true,
    "name": "giphy",
    "width": "10cm"
   },
   "source": [
    "<br><br><br><br>\n",
    "<center>\n",
    "    <h3>WRONG GUESS!!!</h3>\n",
    "    <figure>\n",
    "      <img id=\"fig-4.3\" src=\"img/giphy.gif\" height=\"420\" width=\"420\"/>\n",
    "       <center> <figcaption>Fig.4.3 - Didn't Say The Magic Word </figcaption></center>\n",
    "    </figure>\n",
    "</center>\n",
    "<br><br><br><br>"
   ]
  },
  {
   "cell_type": "markdown",
   "metadata": {},
   "source": [
    "In order to find which actions are available on a robot, you must do a **<i>rostopic list.</i>**"
   ]
  },
  {
   "cell_type": "markdown",
   "metadata": {},
   "source": [
    "<table style=\"float:left;background: #407EAF\">\n",
    "<tr>\n",
    "<th>\n",
    "<p class=\"transparent\">Execute in WebShell #2</p>\n",
    "</th>\n",
    "</tr>\n",
    "</table>\n",
    "\n"
   ]
  },
  {
   "cell_type": "code",
   "execution_count": null,
   "metadata": {
    "collapsed": true
   },
   "outputs": [],
   "source": [
    "rostopic list"
   ]
  },
  {
   "cell_type": "markdown",
   "metadata": {},
   "source": [
    "<table style=\"float:left;background: #407EAF\">\n",
    "<tr>\n",
    "<th>\n",
    "<p class=\"transparent\">WebShell #2 Output</p>\n",
    "</th>\n",
    "</tr>\n",
    "</table>"
   ]
  },
  {
   "cell_type": "code",
   "execution_count": null,
   "metadata": {
    "collapsed": true
   },
   "outputs": [],
   "source": [
    "user ~ $ rostopic list\n",
    "...\n",
    "...\n",
    "/ardrone_action_server/cancel\n",
    "/ardrone_action_server/feedback\n",
    "/ardrone_action_server/goal\n",
    "/ardrone_action_server/result\n",
    "/ardrone_action_server/status\n",
    "...\n",
    "..."
   ]
  },
  {
   "cell_type": "markdown",
   "metadata": {},
   "source": [
    "<p style=\"background:#EE9023;color:white;\" id=\"ex-4-2\">**END Exercise 4.2**</p>"
   ]
  },
  {
   "cell_type": "markdown",
   "metadata": {},
   "source": [
    "When a robot provides an action, you will see that in the topics list. There are 5 topics with the same base name, and with the subtopics **<i>cancel</i>**, **<i>feedback</i>**, **<i>goal</i>**, **<i>result</i>**, and **<i>status</i>**. \n",
    "\n",
    "For example, in the previous rostopic list, the following topics were listed:"
   ]
  },
  {
   "cell_type": "code",
   "execution_count": null,
   "metadata": {
    "collapsed": true
   },
   "outputs": [],
   "source": [
    "/ardrone_action_server/cancel\n",
    "/ardrone_action_server/feedback\n",
    "/ardrone_action_server/goal\n",
    "/ardrone_action_server/result\n",
    "/ardrone_action_server/status"
   ]
  },
  {
   "cell_type": "markdown",
   "metadata": {},
   "source": [
    "This is because you previously launched the <b>ardrone_action_server</b> with the command <b>roslaunch ardrone_as action_server.launch</b> <a href=\"#ex-4-2\">( Excercice 4.2 )</a>."
   ]
  },
  {
   "cell_type": "markdown",
   "metadata": {},
   "source": [
    "<b>Every action server creates those 5 topics, so you can always tell that an action server is there because you identified those 5 topics.</b>"
   ]
  },
  {
   "cell_type": "markdown",
   "metadata": {},
   "source": [
    "Therefore, in the example above:\n",
    "<br>\n",
    "\n",
    "* <span style=\"background: #407EAF; color: white\"><b>ardrone_action_server</b></span>: Is the name of the Action Server.\n",
    "<br><br>\n",
    "* <span style=\"background: #407EAF;color: orange\"><b>cancel, feedback, goal, result and status</b></span>: Are the messages used to comunicate with the Action Server.</li>\n"
   ]
  },
  {
   "cell_type": "markdown",
   "metadata": {},
   "source": [
    "### Calling an action server"
   ]
  },
  {
   "cell_type": "markdown",
   "metadata": {},
   "source": [
    "The **<i>ardrone_action_server</i>** action server is an action that you can call. If you call it, it will start taking pictures with the front camera, one picture every second, for the amount of seconds specified in the calling message (it is a parameter that you specify in the call)."
   ]
  },
  {
   "cell_type": "markdown",
   "metadata": {},
   "source": [
    "<b>Calling an action server means sending a message to it</b>. In the same way as with <i>topics</i> and <i>services</i>, it all works by passing messages around.\n",
    "\n",
    "\n",
    "* The message of a topic is composed of a single part: the information the topic provides.<br>\n",
    "* The message of a service has two parts: the goal and the response.<br>\n",
    "* <b>The message of an action server is divided into three parts: the goal, the result, and the feedback.</b>\n"
   ]
  },
  {
   "cell_type": "markdown",
   "metadata": {},
   "source": [
    "All of the action messages used are defined in the **<i>action</i>** directory of their package.<br><br>\n",
    "You can go to the **<i>ardrone_as</i>** package and see that it contains a directory called **<i>action</i>**. Inside that <i>action</i> directory, there is a file called **<i>Ardrone.action</i>**. That is the file that specifies the type of the message that the action uses.\n",
    "\n",
    "Type in a shell the following commands to see the message structure:"
   ]
  },
  {
   "cell_type": "markdown",
   "metadata": {},
   "source": [
    "<p style=\"background:#EE9023;color:white;\">**Exercise 4.3**</p><br>\n",
    "Type in a shell the following commands to see the message structure:<br>\n",
    "\n",
    "<table style=\"float:left;background: #407EAF\">\n",
    "<tr>\n",
    "<th>\n",
    "<p class=\"transparent\">Execute in WebShell #2</p>\n",
    "</th>\n",
    "</tr>\n",
    "</table>"
   ]
  },
  {
   "cell_type": "code",
   "execution_count": null,
   "metadata": {
    "collapsed": true
   },
   "outputs": [],
   "source": [
    "roscd ardrone_as/action; cat Ardrone.action"
   ]
  },
  {
   "cell_type": "markdown",
   "metadata": {},
   "source": [
    "<table style=\"float:left;background: #407EAF\">\n",
    "<tr>\n",
    "<th>\n",
    "<p class=\"transparent\">WebShell #2 Output</p>\n",
    "</th>\n",
    "</tr>\n",
    "</table>"
   ]
  },
  {
   "cell_type": "code",
   "execution_count": null,
   "metadata": {
    "collapsed": true
   },
   "outputs": [],
   "source": [
    "user ~ $ roscd ardrone_as/action; cat Ardrone.action\n",
    "#goal for the drone\n",
    "int32 nseconds  # the number of seconds the drone will be taking pictures\n",
    "---\n",
    "#result\n",
    "sensor_msgs/CompressedImage[] allPictures # an array containing all the pictures taken along the nseconds\n",
    "---\n",
    "#feedback\n",
    "sensor_msgs/CompressedImage lastImage  # the last image taken"
   ]
  },
  {
   "cell_type": "markdown",
   "metadata": {},
   "source": [
    "<p style=\"background:#EE9023;color:white;\">**END Exercise 4.3**</p>"
   ]
  },
  {
   "cell_type": "markdown",
   "metadata": {},
   "source": [
    "You can see in the previous step how the message is composed of three parts:\n",
    "<br><br>\n",
    "<span style=\"color: orange\"><b>goal</b></span>: Consists of a variable called **<i>nseconds</i>** of type **<i>Int32</i>**. This Int32 type is a standard ROS message, therefore, it can be found in the <a href=\"http://wiki.ros.org/std_msgs\" target=\"Empty\">std_msgs package</a>. Because it's a standard package of ROS, it's not needed to indicate the package where the <i>Int32</i> can be found. <br>\n",
    "<span style=\"color: orange\"><b>result</b></span>: Consists of a variable called **<i>allPictures</i>**, which is an array of type **<i>CompressedImage[]</i>**, found in the <a href=\"http://wiki.ros.org/sensor_msgs\" target=\"Empty\">sensor_msgs package</a>.<br>\n",
    "<span style=\"color: orange\"><b>feedback</b></span>: Consists of a variable called **<i>lastImage</i>** of type **<i>CompressedImage[]</i>**, found in the <a href=\"http://wiki.ros.org/sensor_msgs\" target=\"Empty\">sensor_msgs package</a>.<br>\n",
    "\n",
    "You will learn in the second part of this chapter about how to create your own action messages. For now, you must only understand that every time you call an action, the message implied contains three parts, and that each part can contain <b>more than one</b> variable."
   ]
  },
  {
   "cell_type": "markdown",
   "metadata": {},
   "source": [
    "### Actions provide feedback"
   ]
  },
  {
   "cell_type": "markdown",
   "metadata": {},
   "source": [
    "Due to the fact that calling an action server does not interrupt your thread, action servers provide a message called <b><i>the feedback</i></b>. \n",
    "The feedback is a message that the action server generates every once in a while to indicate how the action is going (informing the caller of the status of the requested action). It is generated while the action is in progress."
   ]
  },
  {
   "cell_type": "markdown",
   "metadata": {},
   "source": [
    "### How to call an action server"
   ]
  },
  {
   "cell_type": "markdown",
   "metadata": {},
   "source": [
    "The way you call an action server is by implementing an <i><b>action client</b></i>.\n",
    "\n",
    "The following is a self-explanatory example of how to implement an action client that calls the ardrone_action_server and makes it take pictures for 10 seconds."
   ]
  },
  {
   "cell_type": "markdown",
   "metadata": {},
   "source": [
    "<p style=\"background:#EE9023;color:white;\">**Exercise 4.4**</p><br>\n",
    "Execute the following Python code <a href=\"#prg-4-4a\">ardone_action_client.py</a> by clicking on it and then clicking on the play button on the top righ-hand corner of the IPython notebook.\n",
    "<br><br> \n",
    "<div class='white_bg'><img src=\"img/font-awesome_step-forward.png\" style=\"float:left\"/><br><br></div>\n",
    "<br>\n",
    "You can also press **<i>[CTRL]+[Enter]</i>** to execute it.<br><br>\n",
    "Observe how the feedback messages are received (printed below the code).<br>\n",
    "\n",
    "<font style=\"color:red;\">**Important!!** Remember that you have to have the **<i>roslaunch ardrone_as action_server.launch</i>** running (probably in WebShell #1), otherwise this won't work because there will be NO action server to be connected to.</font>"
   ]
  },
  {
   "cell_type": "markdown",
   "metadata": {},
   "source": [
    "<p style=\"background:#EE9023;color:white;\">**Exercise 4.4**</p>"
   ]
  },
  {
   "cell_type": "markdown",
   "metadata": {},
   "source": [
    "<p style=\"background:#3B8F10;color:white;\" id=\"prg-4-4a\">**Python Program {4.4a}: ardrone_action_client.py** </p>"
   ]
  },
  {
   "cell_type": "code",
   "execution_count": null,
   "metadata": {
    "collapsed": true
   },
   "outputs": [],
   "source": [
    "#! /usr/bin/env python\n",
    "import rospy\n",
    "import time\n",
    "import actionlib\n",
    "from ardrone_as.msg import ArdroneAction, ArdroneGoal, ArdroneResult, ArdroneFeedback\n",
    "\n",
    "nImage = 1\n",
    "\n",
    "# definition of the feedback callback. This will be called when feedback\n",
    "# is received from the action server\n",
    "# it just prints a message indicating a new message has been received\n",
    "def feedback_callback(feedback):\n",
    "    global nImage\n",
    "    print('[Feedback] image n.%d received'%nImage)\n",
    "    nImage += 1\n",
    "\n",
    "# initializes the action client node\n",
    "rospy.init_node('drone_action_client')\n",
    "\n",
    "# create the connection to the action server\n",
    "client = actionlib.SimpleActionClient('/ardrone_action_server', ArdroneAction)\n",
    "# waits until the action server is up and running\n",
    "client.wait_for_server()\n",
    "\n",
    "# creates a goal to send to the action server\n",
    "goal = ArdroneGoal()\n",
    "goal.nseconds = 10 # indicates, take pictures along 10 seconds\n",
    "\n",
    "# sends the goal to the action server, specifying which feedback function\n",
    "# to call when feedback received\n",
    "client.send_goal(goal, feedback_cb=feedback_callback)\n",
    "\n",
    "# Uncomment these lines to test goal preemption:\n",
    "#time.sleep(3.0)\n",
    "#client.cancel_goal()  # would cancel the goal 3 seconds after starting\n",
    "\n",
    "# wait until the result is obtained\n",
    "# you can do other stuff here instead of waiting\n",
    "# and check for status from time to time \n",
    "# status = client.get_state()\n",
    "# check the client API link below for more info\n",
    "\n",
    "client.wait_for_result()\n",
    "\n",
    "print('[Result] State: %d'%(client.get_state()))"
   ]
  },
  {
   "cell_type": "markdown",
   "metadata": {},
   "source": [
    "<p style=\"background:#3B8F10;color:white;\">**Code Explanation Python Program: {4.4a}**</p>"
   ]
  },
  {
   "cell_type": "markdown",
   "metadata": {},
   "source": [
    "The code to call an action server is very simple:\n",
    "\n",
    "* First, you create a client connected to the action server you want:<br><br>    \n",
    "    <center><i>client = actionlib.SimpleActionClient(<span style=\"color:green;\">'/ardrone_action_server'</span>, <span style=\"color:orange\">ArdroneAction</span>)</i></center>    \n",
    "    <center><i>client = actionlib.SimpleActionClient(<span style=\"color:green;\">'/the_action_server_name'</span>, <span style=\"color:orange\">the_action_server_message_python_object</span>)</i></center><br><br>\n",
    "    \n",
    " * <span style=\"color:green;\">First parameter</span> is the name of the action server you want to connecto to.<br>\n",
    " * <span style=\"color:orange\">Second parameter</span> is the type of action message that it uses. The convention goes as follows: \n",
    "<br><br>\n",
    "If your <b>action message file</b> was called **<i>Ardrone.action</i>**, then the type of action message you must specify is **<i>ArdroneAction</i>**. The same rule applies to any other type (**<i>R2Action</i>**, for an **<i>R2.action</i>** file or **<i>LukeAction</i>** for a **<i>Luke.action</i>** file). In our exercise it is:\n",
    "<br><br>\n",
    "<center><i>client = actionlib.SimpleAction('/ardrone_action_server', ArdroneAction)</i></center>\n",
    "\n",
    "    \n",
    "\n",
    "* Then you create a goal:\n",
    "<br><br>\n",
    "    <center><i>goal = ArdroneGoal()</i></center>\n",
    "    <br>\n",
    "    Again, the convention goes as follows:\n",
    "    <br><br>\n",
    "    If your <b>action message file</b> was called **<i>Ardrone.action</i>**, then the type of goal message you must specify is **<i>ArdroneGoal()</i>**. The same rule applies to any other type (**<i>R2Goal()</i>** for an **<i>R2.action</i>** file or **<i>LukeGoal()</i>** for a **<i>Luke.action</i>** file).\n",
    "    <br>\n",
    "    Because the goal message requires to provide the number of seconds taking pictures (in the **<i>nseconds variable</i>**), you must set that parameter in the goal class instance:<br><br>\n",
    "    <center><i>goal.nseconds = 10</i></center><br>\n",
    "\n",
    "* Next, you send the goal to the action server:\n",
    "<br><br>\n",
    "   <center><i>client.send_goal(goal, feedback_cb=feedback_callback)</i></center>\n",
    "   <br>\n",
    "   That sentence calls the action. In order to call it, you must specify 2 things:\n",
    "   \n",
    " 1. The goal parameters\n",
    " 2. A feedback function to be called from time to time to know the status of the action.\n",
    "   \n",
    "   <br>\n",
    "   At this point, the action server has received the goal and started to execute it (taking pictures for 10 seconds). Also, feedback messages are being received. Every time a feedback message is received, the **<i>feedback_callback</i>** function is executed.\n",
    "<br><br>\n",
    "* Finally, you wait for the result:\n",
    "<br><br>\n",
    "   <center><i>client.wait_for_result()</i></center>\n",
    "\n",
    "<br>"
   ]
  },
  {
   "cell_type": "markdown",
   "metadata": {},
   "source": [
    "<p style=\"background:#3B8F10;color:white;\">**End Code Explanation {4.4a}**</p>"
   ]
  },
  {
   "cell_type": "markdown",
   "metadata": {},
   "source": [
    "### How to perform other tasks while the Action is in progress"
   ]
  },
  {
   "cell_type": "markdown",
   "metadata": {},
   "source": [
    "You know how to call an action and wait for the result but... That's exactly what a service does! Then why are you learning actions?<br>\n",
    "Good point!<br><br>\n",
    "So, the **SimpleActionClient** objects have two functions that can be used for knowing if the action that is being performed has finished, and how:<br>\n",
    "\n",
    "1) <b>wait_for_result()</b>: This function is very simple. When called, it will wait until the action has finished and returns a true value. As you can see, it's useless if you want to perform other tasks in parallel because the program will stop there until the action is finished.<br>\n",
    "\n",
    "2) <b>get_state()</b>: This function is much more interesting. When called, it returns an integer that indicates in which state is the action that the SimpleActionClient object is connected to.<br>\n",
    "\n",
    "0 ==> PENDING<br>\n",
    "1 ==> ACTIVE<br>\n",
    "2 ==> DONE<br>\n",
    "3 ==> WARN<br>\n",
    "4 ==> ERROR<br>\n",
    "\n",
    "This allows you to create a while loop that checks if the value returned by get_state() is 2 or higher. If it is not, it means that the action is still in progress, so you can keep doing other things."
   ]
  },
  {
   "cell_type": "markdown",
   "metadata": {},
   "source": [
    "<p style=\"background:#EE9023;color:white;\">**Exercise 4.5**</p><br>\n",
    "Execute the following Python codes {4.5a: wait_for_result_test.py} and {4.5b: no_wait_for_result_test.py} by clicking on them, one at a time, and then clicking on the play button on the top righ-hand corner of the IPython notebook.\n",
    "<br><br> \n",
    "<div class='white_bg'><img src=\"img/font-awesome_step-forward.png\" style=\"float:left\"/><br><br></div>\n",
    "<br>\n",
    "You can also press **<i>[CTRL]+[Enter]</i>** to execute it.<br>\n",
    "\n",
    "When the program has finished, don't forget to <span class=\"ign_red\">restart the Kernel</span>. This will clean up all the nodes generated by ROS through the python program. This is necessary because python programs can only launch <b>one</b> rospy node. Because this notebook is just a divided python script, it will give rospy Exception if you try to execute two snipets consecutively without restarting the kernel.\n",
    "You can do it by pressing the icon.\n",
    "<br><br>\n",
    "<div class='white_bg'><img src=\"img/refresh_icon.png\" style=\"float:left\"/><br><br></div>\n",
    "<br>\n",
    "\n",
    "\n",
    "Observe the difference between them (the code is printed below) and think about why this is.<br><br>\n",
    "\n",
    "<font style=\"color:red;\">**Important!! Remember that you need to have the **<i>roslaunch ardrone_as action_server.launch</i>** running (probably in WebShell #1), otherwise this won't work because there will be NO actionServer to be connected to.</font>"
   ]
  },
  {
   "cell_type": "markdown",
   "metadata": {},
   "source": [
    "<p style=\"background:#EE9023;color:white;\">**END Exercise 4.5**</p>"
   ]
  },
  {
   "cell_type": "markdown",
   "metadata": {},
   "source": [
    "<p style=\"background:#3B8F10;color:white;\">**Python Program {4.5a}: wait_for_result_test.py** </p>"
   ]
  },
  {
   "cell_type": "code",
   "execution_count": null,
   "metadata": {
    "collapsed": true
   },
   "outputs": [],
   "source": [
    "#! /usr/bin/env python\n",
    "\n",
    "import rospy\n",
    "import time\n",
    "import actionlib\n",
    "from ardrone_as.msg import ArdroneAction, ArdroneGoal, ArdroneResult, ArdroneFeedback\n",
    "\n",
    "nImage = 1\n",
    "\n",
    "# definition of the feedback callback. This will be called when feedback\n",
    "# is received from the action server\n",
    "# it just prints a message indicating a new message has been received\n",
    "def feedback_callback(feedback):\n",
    "    global nImage\n",
    "    print('[Feedback] image n.%d received'%nImage)\n",
    "    nImage += 1\n",
    "    \n",
    "\n",
    "# initializes the action client node\n",
    "rospy.init_node('example_with_waitforresult_action_client_node')\n",
    "\n",
    "\n",
    "action_server_name = '/ardrone_action_server'\n",
    "client = actionlib.SimpleActionClient(action_server_name, ArdroneAction)\n",
    "\n",
    "# waits until the action server is up and running\n",
    "rospy.loginfo('Waiting for action Server '+action_server_name)\n",
    "client.wait_for_server()\n",
    "rospy.loginfo('Action Server Found...'+action_server_name)\n",
    "\n",
    "\n",
    "# creates a goal to send to the action server\n",
    "goal = ArdroneGoal()\n",
    "goal.nseconds = 10 # indicates, take pictures along 10 seconds\n",
    "\n",
    "client.send_goal(goal, feedback_cb=feedback_callback)\n",
    "rate = rospy.Rate(1)\n",
    "\n",
    "rospy.loginfo(\"Lets Start The Wait for the Action To finish Loop...\")\n",
    "while not client.wait_for_result():\n",
    "    rospy.loginfo(\"Doing Stuff while waiting for the Server to give a result....\")\n",
    "    rate.sleep()\n",
    "\n",
    "rospy.loginfo(\"Example with WaitForResult Finished.\")"
   ]
  },
  {
   "cell_type": "markdown",
   "metadata": {},
   "source": [
    "<p style=\"background:#3B8F10;color:white;\">**Python Program {4.5b}: no_wait_for_result_test.py** </p>"
   ]
  },
  {
   "cell_type": "code",
   "execution_count": null,
   "metadata": {
    "collapsed": true
   },
   "outputs": [],
   "source": [
    "#! /usr/bin/env python\n",
    "\n",
    "import rospy\n",
    "import time\n",
    "import actionlib\n",
    "from ardrone_as.msg import ArdroneAction, ArdroneGoal, ArdroneResult, ArdroneFeedback\n",
    "\n",
    "\"\"\"\n",
    "class SimpleGoalState:\n",
    "    PENDING = 0\n",
    "    ACTIVE = 1\n",
    "    DONE = 2\n",
    "    WARN = 3\n",
    "    ERROR = 4\n",
    "\n",
    "\"\"\"\n",
    "# We create some constants with the corresponing vaules from the SimpleGoalState class\n",
    "PENDING = 0\n",
    "ACTIVE = 1\n",
    "DONE = 2\n",
    "WARN = 3\n",
    "ERROR = 4\n",
    "\n",
    "nImage = 1\n",
    "\n",
    "# definition of the feedback callback. This will be called when feedback\n",
    "# is received from the action server\n",
    "# it just prints a message indicating a new message has been received\n",
    "def feedback_callback(feedback):\n",
    "    \"\"\"\n",
    "    Error that might jump\n",
    "    \n",
    "    self._feedback.lastImage = \n",
    "AttributeError: 'ArdroneAS' obj\n",
    "    \n",
    "    \"\"\"\n",
    "    global nImage\n",
    "    print('[Feedback] image n.%d received'%nImage)\n",
    "    nImage += 1\n",
    "\n",
    "# initializes the action client node\n",
    "rospy.init_node('example_no_waitforresult_action_client_node')\n",
    "\n",
    "action_server_name = '/ardrone_action_server'\n",
    "client = actionlib.SimpleActionClient(action_server_name, ArdroneAction)\n",
    "\n",
    "# waits until the action server is up and running\n",
    "rospy.loginfo('Waiting for action Server '+action_server_name)\n",
    "client.wait_for_server()\n",
    "rospy.loginfo('Action Server Found...'+action_server_name)\n",
    "\n",
    "# creates a goal to send to the action server\n",
    "goal = ArdroneGoal()\n",
    "goal.nseconds = 10 # indicates, take pictures along 10 seconds\n",
    "\n",
    "client.send_goal(goal, feedback_cb=feedback_callback)\n",
    "\n",
    "\n",
    "# You can access the SimpleAction Variable \"simple_state\", that will be 1 if active, and 2 when finished.\n",
    "#Its a variable, better use a function like get_state.\n",
    "#state = client.simple_state\n",
    "# state_result will give the FINAL STATE. Will be 1 when Active, and 2 if NO ERROR, 3 If Any Warning, and 3 if ERROR\n",
    "state_result = client.get_state()\n",
    "\n",
    "rate = rospy.Rate(1)\n",
    "\n",
    "rospy.loginfo(\"state_result: \"+str(state_result))\n",
    "\n",
    "while state_result < DONE:\n",
    "    rospy.loginfo(\"Doing Stuff while waiting for the Server to give a result....\")\n",
    "    rate.sleep()\n",
    "    state_result = client.get_state()\n",
    "    rospy.loginfo(\"state_result: \"+str(state_result))\n",
    "    \n",
    "rospy.loginfo(\"[Result] State: \"+str(state_result))\n",
    "if state_result == ERROR:\n",
    "    rospy.logerr(\"Something went wrong in the Server Side\")\n",
    "if state_result == WARN:\n",
    "    rospy.logwarn(\"There is a warning in the Server Side\")\n",
    "\n",
    "#rospy.loginfo(\"[Result] State: \"+str(client.get_result()))"
   ]
  },
  {
   "cell_type": "markdown",
   "metadata": {},
   "source": [
    "<p style=\"background:#3B8F10;color:white;\">**Code Explanation Python Programs: {4.5a} and {4.5b}**</p>"
   ]
  },
  {
   "cell_type": "markdown",
   "metadata": {},
   "source": [
    "Essentially, the difference is that in the first program (4.5a), the log message <span style=\"color:green;\"><i>rospy.loginfo(\"Doing Stuff while waiting for the Server to give a result....\")</i></span> will never be printed, while in the 4.5b it will.<br>\n",
    "\n",
    "This is because in 4.5a, the program starts the while loop to check if the value returned by <span style=\"color:green;\"><i>client.wait_for_result()</i></span> is True or False, but it will wait for a value that will only be returned when the Action has Finished. Therefore, it will never get inside the while loop because it will always return the value True.<br>\n",
    "\n",
    "On the other hand, in the 4.5b program, it checks if <span style=\"color:green;\"><i>state_result &lt; DONE</i></span>. And because the function **<i>get_state()</i>** will return the current state of the action immediately, it allows other tasks to perform in parallel. In this case, <b>printing the log message <span style=\"color:red;\">WHILE</span> printing also the feedback of the the Action</b>."
   ]
  },
  {
   "cell_type": "markdown",
   "metadata": {},
   "source": [
    "<p style=\"background:#3B8F10;color:white;\">**End Code Explanation Python Programs: {4.5a} and {4.5b}**</p>"
   ]
  },
  {
   "cell_type": "markdown",
   "metadata": {},
   "source": [
    "You can get more information about ROS action clients in python in this <a href=\"http://docs.ros.org/jade/api/actionlib/html/classactionlib_1_1simple__action__client_1_1SimpleActionClient.html\"><b>client API</b></a>"
   ]
  },
  {
   "cell_type": "markdown",
   "metadata": {},
   "source": [
    "<p style=\"background:#EE9023;color:white;\">**Exercise 4.6**</p><br>\n",
    "<ul>\n",
    "  <li>Create a package that contains and launches the action client from Excercice {4.4a}: <a href=\"#prg-4-4a\">ardrone_action_client.py</a>, from a launch file.</li>\n",
    "  <li>Add some code that makes the quadcopter move around while the action server has been called (in order to take pictures while the robot is moving).</li>\n",
    "  <li>Stop the movement of the quadcopter when the last picture has been taken (action server has finished).</li>\n",
    "</ul>\n",
    "<br>\n",
    "<p style=\"background:#3B8F10;color:white;\">**Data for Exercice 4.6**</p><br>\n",
    "1) You can send Twist commands to the quadcopter in order to move it. These commands have to be published in **<i>/cmd_vel</i>** topic. Remember the **<i>TopicsUnit</i>**.<br><br>\n",
    "2) You must send movement commands while waiting until the result is received, creating a loop that sends commands at the same time that check for completion. In order to be able to send commands while the action is in progress, you need to use the SimpleActionClient function **<i>get_state()</i>**."
   ]
  },
  {
   "cell_type": "markdown",
   "metadata": {},
   "source": [
    "<p style=\"background:#EE9023;color:white;\">**END Exercise 4.6**</p>"
   ]
  },
  {
   "cell_type": "markdown",
   "metadata": {},
   "source": [
    "<p style=\"background:green;color:white;\">Solution Exercise 4.6</p>"
   ]
  },
  {
   "cell_type": "markdown",
   "metadata": {},
   "source": [
    "Please Try to do it by yourself unless you get stuck or need some inspiration. You will learn much more if you fight for each exercise."
   ]
  },
  {
   "cell_type": "markdown",
   "metadata": {},
   "source": [
    "<img src=\"img/robotignite_logo_text.png\"/>"
   ]
  },
  {
   "cell_type": "markdown",
   "metadata": {},
   "source": [
    "Follow this link to open the solutions notebook for Unit3 Services Part1:[Actions Part1 Solutions](extra_files/unit4_basicROS_part1_solutions.ipynb)"
   ]
  },
  {
   "cell_type": "markdown",
   "metadata": {},
   "source": [
    "<p style=\"background:green;color:white;\">END Solution Exercise 4.6</p>"
   ]
  },
  {
   "cell_type": "markdown",
   "metadata": {
    "collapsed": true
   },
   "source": [
    "### Preempting a goal\n",
    "\n",
    "It happens that you can cancel a goal previously sent to an action server prior to its completion.<br>\n",
    "Cancelling a goal while it is being executed is called <b>preempting a goal</b><br>\n",
    "<br>\n",
    "You may need to preempt a goal for many reasons, like, for example, the robot went mad about your goal and it is safer to stop it prior to the robot doing some harm.\n",
    "<br><br>\n",
    "In order to preempt a goal, you send the cancel_goal to the server through the client connection.<br>"
   ]
  },
  {
   "cell_type": "code",
   "execution_count": null,
   "metadata": {
    "collapsed": true
   },
   "outputs": [],
   "source": [
    "client.cancel_goal()"
   ]
  },
  {
   "cell_type": "markdown",
   "metadata": {},
   "source": [
    "<p style=\"background:#EE9023;color:white;\">**Exercise 4.7**</p><br>\n",
    "Execute the following Python code {4.6a: cancel_goal_test.py} by clicking on it and then clicking on the play button on the top right-hand corner of the IPython notebook.\n",
    "<br><br> \n",
    "<div class='white_bg'><img src=\"img/font-awesome_step-forward.png\" style=\"float:left\"/><br><br></div>\n",
    "<br>\n",
    "You can also press **<i>[CTRL]+[Enter]</i>** to execute it.<br>\n",
    "\n",
    "When the program has finished, don't forget to <span class=\"ign_red\">restart the Kernel</span>. This will clean up all of the nodes generated by ROS through the python program. This is necessary because python programs can only launch <b>one</b> rospy node. Because this notebook is just a divided python script, it will give rospy Exception if you try to execute two snipets consecutively without restarting the kernel.\n",
    "You can do it by pressing the icon.\n",
    "<br><br>\n",
    "<div class='white_bg'><img src=\"img/refresh_icon.png\" style=\"float:left\"/><br><br></div>\n",
    "<br>\n",
    "\n",
    "See how the goal gets cancelled.<br><br>\n",
    "\n",
    "<font style=\"color:red;\">**Important!!** Remember that you have to have the **<i>roslaunch ardrone_as action_server.launch</i>** running (probably in WebShell #1), otherwise this won't work because there will be NO action server to be connected to.</font>"
   ]
  },
  {
   "cell_type": "markdown",
   "metadata": {},
   "source": [
    "<p style=\"background:#EE9023;color:white;\">**END Exercise 4.7**</p>"
   ]
  },
  {
   "cell_type": "markdown",
   "metadata": {},
   "source": [
    "<p style=\"background:#3B8F10;color:white;\">**Python Program {4.6a}: cancel_goal_test.py** </p>"
   ]
  },
  {
   "cell_type": "code",
   "execution_count": null,
   "metadata": {
    "collapsed": true
   },
   "outputs": [],
   "source": [
    "#! /usr/bin/env python\n",
    "\n",
    "import rospy\n",
    "import time\n",
    "import actionlib\n",
    "from ardrone_as.msg import ArdroneAction, ArdroneGoal, ArdroneResult, ArdroneFeedback\n",
    "\n",
    "# We create some constants with the corresponing vaules from the SimpleGoalState class\n",
    "PENDING = 0\n",
    "ACTIVE = 1\n",
    "DONE = 2\n",
    "WARN = 3\n",
    "ERROR = 4\n",
    "\n",
    "nImage = 1\n",
    "\n",
    "# definition of the feedback callback. This will be called when feedback\n",
    "# is received from the action server\n",
    "# it just prints a message indicating a new message has been received\n",
    "def feedback_callback(feedback):\n",
    "    \"\"\"\n",
    "    Error that might jump\n",
    "    \n",
    "    self._feedback.lastImage = \n",
    "AttributeError: 'ArdroneAS' obj\n",
    "    \n",
    "    \"\"\"\n",
    "    global nImage\n",
    "    print('[Feedback] image n.%d received'%nImage)\n",
    "    nImage += 1\n",
    "\n",
    "# initializes the action client node\n",
    "rospy.init_node('example_no_waitforresult_action_client_node')\n",
    "\n",
    "action_server_name = '/ardrone_action_server'\n",
    "client = actionlib.SimpleActionClient(action_server_name, ArdroneAction)\n",
    "\n",
    "# waits until the action server is up and running\n",
    "rospy.loginfo('Waiting for action Server '+action_server_name)\n",
    "client.wait_for_server()\n",
    "rospy.loginfo('Action Server Found...'+action_server_name)\n",
    "\n",
    "# creates a goal to send to the action server\n",
    "goal = ArdroneGoal()\n",
    "goal.nseconds = 10 # indicates, take pictures along 10 seconds\n",
    "\n",
    "client.send_goal(goal, feedback_cb=feedback_callback)\n",
    "\n",
    "\n",
    "# You can access the SimpleAction Variable \"simple_state\", that will be 1 if active, and 2 when finished.\n",
    "#Its a variable, better use a function like get_state.\n",
    "#state = client.simple_state\n",
    "# state_result will give the FINAL STATE. Will be 1 when Active, and 2 if NO ERROR, 3 If Any Warning, and 3 if ERROR\n",
    "state_result = client.get_state()\n",
    "\n",
    "rate = rospy.Rate(1)\n",
    "\n",
    "rospy.loginfo(\"state_result: \"+str(state_result))\n",
    "counter = 0\n",
    "while state_result < DONE:\n",
    "    rospy.loginfo(\"Doing Stuff while waiting for the Server to give a result....\")\n",
    "    counter += 1\n",
    "    rate.sleep()\n",
    "    state_result = client.get_state()\n",
    "    rospy.loginfo(\"state_result: \"+str(state_result)+\", counter =\"+str(counter))\n",
    "    if counter == 2:\n",
    "        rospy.logwarn(\"Canceling Goal...\")\n",
    "        client.cancel_goal()\n",
    "        rospy.logwarn(\"Goal Canceled\")\n",
    "        state_result = client.get_state()\n",
    "        rospy.loginfo(\"Update state_result after Cancel : \"+str(state_result)+\", counter =\"+str(counter))"
   ]
  },
  {
   "cell_type": "markdown",
   "metadata": {},
   "source": [
    "<p style=\"background:#3B8F10;color:white;\">**Code Explanation Python Program: {4.6a}**</p><br>\n",
    "It's exactly the same code as the {4.5b}, except for the use of the **<i>cancel_goal()</i>** function.<br><br>\n",
    "This program counts to 2, and then it cancels the goal. This triggers the server to finish the goal and, therefore, the function **<i>get_state()</i>** returns the value DONE ( 2 ).<br><br>\n",
    "<p style=\"background:#3B8F10;color:white;\">**End Code Explanation Python Program: {4.6a}**</p>"
   ]
  },
  {
   "cell_type": "markdown",
   "metadata": {},
   "source": [
    "There is a known ROS issue with Actions. It issues a warning when the connection is severed. It normally happens when you cancel a goal or you just terminate a program with a client object in it. The warning is given in the Server Side.<br><br>\n",
    "<span style=\"color:red;\"><i>[WARN] Inbound TCP/IP connection failed: connection from sender terminated before handshake header received. 0 bytes were received. Please check sender for additional details.</i></span>\n",
    "<br><br>\n",
    "Just don't panic, it has no effect on your program."
   ]
  },
  {
   "cell_type": "markdown",
   "metadata": {},
   "source": [
    "### How does all that work?"
   ]
  },
  {
   "cell_type": "markdown",
   "metadata": {
    "collapsed": true
   },
   "source": [
    "You need to understand how the communication inside the actions works. It is not that you are going to use it for programming. As you have seen, programming an action client is very simple. However, it will happen that your code will have bugs and you will have to debug it. In order to do proper debugging, you need to understand how the communication between <i>action servers</i> and <i>action clients</i> works."
   ]
  },
  {
   "cell_type": "markdown",
   "metadata": {},
   "source": [
    "As you already know, an action server message has three parts:<br>\n",
    "\n",
    "* the goal\n",
    "* the result\n",
    "* the feedback\n",
    "\n",
    "<br>\n",
    "Each one corresponds to a topic and to a type of message.<br>\n",
    "For example, in the case of the <b>ardrone_action_server</b>, the topics involved are the following:<br>\n",
    "\n",
    "* the goal topic: <span class=\"ign_green\">/ardrone_action_server/goal</span>\n",
    "* the result topic: <span class=\"ign_green\">/ardrone_action_server/result</span>\n",
    "* the feedback topic: <span class=\"ign_green\">/ardrone_action_server/feedback</span>\n",
    "\n",
    "<br>\n",
    "Look again at the ActionClient+ActionServer communication diagram."
   ]
  },
  {
   "cell_type": "markdown",
   "metadata": {
    "caption": "Action Interface Diagram",
    "image": true,
    "name": "action_interface",
    "width": "12cm"
   },
   "source": [
    "<figure>\n",
    "  <img id=\"fig-4.4\" src=\"img/action_interface.png\"/>\n",
    "   <center> <figcaption>Fig.4.4 - Action Interface Diagram Copy</figcaption></center>\n",
    "</figure>"
   ]
  },
  {
   "cell_type": "markdown",
   "metadata": {},
   "source": [
    "So, whenever an action server is called, the sequence of steps are as follows: \n",
    "\n",
    "1. When an **<i>action client</i>** <span style=\"color:orange\">calls</span> an **<i>action server</i>** from a node, what actually happens is that the **<i>action client</i>** sends to the **<i>action server</i>** the <span style=\"color:orange\">goal</span> requested through the <i><span style=\"color:green;\">/ardrone_action_server/goal</span></i> topic. \n",
    "\n",
    "2. When the **<i>action server</i>** <span style=\"color:orange\">starts</span> to execute the goal, it sends to the **<i>action client</i>** the <span style=\"color:orange\">feedback</span> through the <i><span style=\"color:green;\">/ardrone_action_server/feedback</span></i> topic.\n",
    "\n",
    "3. Finally, when the **<i>action server</i>** has <span style=\"color:orange\">finished</span> the goal, it sends to the **<i>action client</i>** the <span style=\"color:orange\">result</span> through the <i><span style=\"color:green;\">/ardrone_action_server/result</span></i> topic."
   ]
  },
  {
   "cell_type": "markdown",
   "metadata": {},
   "source": [
    "Now, let's do the following exercise in order to see how all this ballet happens underneath your programs."
   ]
  },
  {
   "cell_type": "markdown",
   "metadata": {},
   "source": [
    "<p style=\"background:#EE9023;color:white;\">**Exercise 4.8**</p><br>\n",
    "Read the whole exercise prior to executing it, because you have to get properly set up prior to the start of executing anything.<br>\n",
    "\n",
    "<table style=\"float:left;background: #407EAF\">\n",
    "<tr>\n",
    "<th>\n",
    "<p class=\"transparent\">Execute in WebShell #1: Demonize action_server and echo the goal topic</p><br>\n",
    "(press [CTRL]+[C] to kill the ardrone_as action_server.launch if you had it still running)\n",
    "</th>\n",
    "</tr>\n",
    "</table>"
   ]
  },
  {
   "cell_type": "code",
   "execution_count": null,
   "metadata": {
    "collapsed": true
   },
   "outputs": [],
   "source": [
    "roslaunch ardrone_as action_server.launch &"
   ]
  },
  {
   "cell_type": "markdown",
   "metadata": {},
   "source": [
    "(to kill it when finished, use the command: **<i>rosnode kill /ardrone_as</i>**)"
   ]
  },
  {
   "cell_type": "code",
   "execution_count": null,
   "metadata": {
    "collapsed": true
   },
   "outputs": [],
   "source": [
    "rostopic echo /ardrone_action_server/goal"
   ]
  },
  {
   "cell_type": "markdown",
   "metadata": {},
   "source": [
    "<table style=\"float:left;background: #407EAF\">\n",
    "<tr>\n",
    "<th>\n",
    "<p class=\"transparent\">Execute in WebShell #2: echo the feedback topic</span></p>\n",
    "</th>\n",
    "</tr>\n",
    "</table>"
   ]
  },
  {
   "cell_type": "code",
   "execution_count": null,
   "metadata": {
    "collapsed": true
   },
   "outputs": [],
   "source": [
    "rostopic echo /ardrone_action_server/feedback"
   ]
  },
  {
   "cell_type": "markdown",
   "metadata": {},
   "source": [
    "<table style=\"float:left;background: #407EAF\">\n",
    "<tr>\n",
    "<th>\n",
    "<p class=\"transparent\">Execute in WebShell #3: echo the result topic</span></p>\n",
    "</th>\n",
    "</tr>\n",
    "</table>"
   ]
  },
  {
   "cell_type": "code",
   "execution_count": null,
   "metadata": {
    "collapsed": true
   },
   "outputs": [],
   "source": [
    "rostopic echo /ardrone_action_server/result"
   ]
  },
  {
   "cell_type": "markdown",
   "metadata": {},
   "source": [
    "<table style=\"float:left;background: #407EAF\">\n",
    "<tr>\n",
    "<th>\n",
    "<p class=\"transparent\">Execute in WebShell #4: Launch the action server client</span></p><br>\n",
    "(Execute the launch you created in Exercice 4.6, so that the drone starts to take pictures and move around)<br>\n",
    "</th>\n",
    "</tr>\n",
    "</table>"
   ]
  },
  {
   "cell_type": "markdown",
   "metadata": {},
   "source": [
    "Now do the following:"
   ]
  },
  {
   "cell_type": "markdown",
   "metadata": {},
   "source": [
    "* Quickly visit the terminal that contained the goal echo (WebShell #1). A message should have appeared indicating the goal you sent (with 10 seconds of taking pictures).\n",
    "* Quickly visit the feedback terminal containing the feedback echo (WebShell #2). A new message should be appearing every second. This is the feedback sent by the **action server** to the **action client**.\n",
    "* Quickly visit the result terminal (WebShell #3). If 10 seconds have not yet passed since you launched the **action client**, then there should be no message. If you wait there until the 10 seconds pass, you will see the result message sent by the **action server** to the **action client** appear."
   ]
  },
  {
   "cell_type": "markdown",
   "metadata": {},
   "source": [
    "<p style=\"background:#3B8F10;color:white;\">Data for Excercice 4.8</p>"
   ]
  },
  {
   "cell_type": "markdown",
   "metadata": {},
   "source": [
    "Each one of those three topics have their own type of message. The type of the message is built automatically by ROS from the **.action** file.\n",
    "\n",
    "For example, in the case of the **ardrone_action_server** the **action file** is called **Ardrone.action**.\n",
    "\n",
    "When you compile the package (with **catkin_make**), ROS will generate the following types of messages from the **Ardrone.action** file:"
   ]
  },
  {
   "cell_type": "markdown",
   "metadata": {},
   "source": [
    "* ArdroneActionGoal\n",
    "* ArdroneActionFeedback\n",
    "* ArdroneActionResult"
   ]
  },
  {
   "cell_type": "markdown",
   "metadata": {},
   "source": [
    "Each topic of the action server uses its associated type of message accordingly."
   ]
  },
  {
   "cell_type": "markdown",
   "metadata": {},
   "source": [
    "<p style=\"background:#EE9023;color:white;\">**END Exercise 4.8**</p>"
   ]
  },
  {
   "cell_type": "markdown",
   "metadata": {},
   "source": [
    "<p style=\"background:#EE9023;color:white;\">**Exercise 4.9**</p><br>\n",
    "Do a <i>rostopic info</i> of any of the action topics and check that the types really correspond with the ones indicated above."
   ]
  },
  {
   "cell_type": "markdown",
   "metadata": {},
   "source": [
    "<p style=\"background:#EE9023;color:white;\">**END Exercise 4.9**</p>"
   ]
  },
  {
   "cell_type": "markdown",
   "metadata": {},
   "source": [
    "<p style=\"background:#EE9023;color:white;\">**Exercise 4.10**</p><br>\n",
    "Due to the way actions work, you can actually call the <i>ardrone_action_server action server</i> publishing in the topics directly (emulating by hence, what the Python code action client is doing). It is important that you understand this because you will need this knowledge to debug your programs.<br>\n",
    "\n",
    "\n",
    "<table style=\"float:left;background: #407EAF\">\n",
    "<tr>\n",
    "<th>\n",
    "<p class=\"transparent\">Execute in WebShell #1: Run the action server</p><br>\n",
    "(press [CTRL]+[C] to kill the ardrone_as action_server.launch if you had it still running. If you had it demonized, use the command: <i>rosnode kill /ardrone_as</i> )<br>\n",
    "roslaunch ardrone_as action_server.launch<br>"
   ]
  },
  {
   "cell_type": "code",
   "execution_count": null,
   "metadata": {
    "collapsed": false
   },
   "outputs": [],
   "source": [
    "roslaunch ardrone_as action_server.launch"
   ]
  },
  {
   "cell_type": "markdown",
   "metadata": {},
   "source": [
    "Let's activate the <i>ardrone_action_server</i> action server through topics with the following exercise.\n",
    "<br><br>\n",
    "Use the webshell to send a goal to the <i>/ardrone_action_server</i> action server, and to observe what happens in the <i>result</i> and <i>feedback</i> topics.\n",
    "<br>\n",
    "\n",
    "<table style=\"float:left;background: #407EAF\">\n",
    "<tr>\n",
    "<th>\n",
    "<p class=\"transparent\">Execute in WebShell #2: Send goal to the action server</p>\n",
    "</th>\n",
    "</tr>\n",
    "</table>"
   ]
  },
  {
   "cell_type": "code",
   "execution_count": null,
   "metadata": {
    "collapsed": true
   },
   "outputs": [],
   "source": [
    "rostopic pub /[name_of_action_server]/goal /[type_of_the_message_used_by_the_topic] [TAB][TAB]"
   ]
  },
  {
   "cell_type": "markdown",
   "metadata": {},
   "source": [
    "<p style=\"background:#AE0202;color:white;\">**Expected Result for Exercice 4.10**</p>"
   ]
  },
  {
   "cell_type": "markdown",
   "metadata": {},
   "source": [
    "You should see the same result as in exercice 4.8, with the difference that the goal has been sent by hand, publishing directly into the goal topic, instead of publishing through a Python program."
   ]
  },
  {
   "cell_type": "markdown",
   "metadata": {},
   "source": [
    "<p style=\"background:#3B8F10;color:white;\">**Data for Excercice 4.10**</p>"
   ]
  },
  {
   "cell_type": "markdown",
   "metadata": {},
   "source": [
    "* You don't have to type the message by hand. Remember to use TAB-TAB to make ROS autocomplete your commands (or give you options).\n",
    "\n",
    "\n",
    "* Once you achieve that, and ROS autocompletes the message you must send, you will have to modify the parameter **nseconds**, because the default value is zero (remember that parameter indicates the number of seconds taking pictures). Move to the correct place of the message using the keyboard."
   ]
  },
  {
   "cell_type": "markdown",
   "metadata": {},
   "source": [
    "<p style=\"background:#EE9023;color:white;\">**END Exercise 4.10**</p>"
   ]
  },
  {
   "cell_type": "markdown",
   "metadata": {},
   "source": [
    "### The axclient"
   ]
  },
  {
   "cell_type": "markdown",
   "metadata": {},
   "source": [
    "Until now, you've learnt to send goals to an Action Server using these 2 methods:\n",
    "\n",
    "* Publishing directly into the /goal topic of the Action Server\n",
    "* Publishing the goal using Python code\n",
    "\n",
    "<br>\n",
    "But, let me tell you that there's still one more method you can use in order to send goals to an Action Server, which is much easier and faster than the 2 methods you've learnt: using the <b>axclient</b>.\n",
    "\n",
    "The axclient is, basically, a GUI tool provided by the actionlib package, that allows you to interact with an Action Server in a very easy and visual way. The command used to launch the axclient is the following:"
   ]
  },
  {
   "cell_type": "code",
   "execution_count": null,
   "metadata": {
    "collapsed": true
   },
   "outputs": [],
   "source": [
    "rosrun actionlib axclient.py /<name_of_action_server>"
   ]
  },
  {
   "cell_type": "markdown",
   "metadata": {},
   "source": [
    "Want do you think? Do you want to try it? Let's go then!"
   ]
  },
  {
   "cell_type": "markdown",
   "metadata": {},
   "source": [
    "<p style=\"background:#EE9023;color:white;\">**Exercise 4.11**</p><br>\n",
    "Before starting with this exercise, make sure that you have your action server running. If it is not running, the axclient won't work.<br>\n",
    "\n",
    "\n",
    "<table style=\"float:left;background: #407EAF\">\n",
    "<tr>\n",
    "<th>\n",
    "<p class=\"transparent\">Execute in WebShell #1: Run the action server</p><br>\n",
    "(press [CTRL]+[C] to kill the ardrone_as action_server.launch if you had it still running. If you had it demonized, use the command: <i>rosnode kill /ardrone_as</i> )\n",
    "</th>\n",
    "</tr>\n",
    "</table>"
   ]
  },
  {
   "cell_type": "code",
   "execution_count": null,
   "metadata": {
    "collapsed": true
   },
   "outputs": [],
   "source": [
    "roslaunch ardrone_as action_server.launch"
   ]
  },
  {
   "cell_type": "markdown",
   "metadata": {},
   "source": [
    "Now, let's launch the axclient in order to send goals to the Action Server.\n",
    "<br>\n",
    "\n",
    "<table style=\"float:left;background: #407EAF\">\n",
    "<tr>\n",
    "<th>\n",
    "<p class=\"transparent\">Execute in WebShell #2: Launch axclient</p>\n",
    "</th>\n",
    "</tr>\n",
    "</table>"
   ]
  },
  {
   "cell_type": "code",
   "execution_count": null,
   "metadata": {
    "collapsed": true
   },
   "outputs": [],
   "source": [
    "rosrun actionlib axclient.py /ardrone_action_server"
   ]
  },
  {
   "cell_type": "markdown",
   "metadata": {},
   "source": [
    "In order to be able to visualize axclient, you will need to open the graphical interface window.\n",
    "To open this graphical interface window, just hit the icon with a screen in the IDE and a new tab will open.\n",
    "<br><br>\n",
    "<div class='white_bg'><img src=\"img/font-awesome_desktop.png\"/><br></div>\n",
    "Now, you should see in your new tab something like this:"
   ]
  },
  {
   "cell_type": "markdown",
   "metadata": {
    "caption": "Axclient GUI",
    "image": true,
    "name": "axclient",
    "width": "10cm"
   },
   "source": [
    "<img src=\"img/axclient.png\" width=\"500\">"
   ]
  },
  {
   "cell_type": "markdown",
   "metadata": {},
   "source": [
    "Now everything is settled, and you can start playing with axclient! For instance, you could send goals to the Action Server and visualize the different topics that take part in an Action, which you have learnt in this Chapter.\n",
    "\n",
    "<p style=\"background:#AE0202;color:white;\">**Expected Result for Exercice 4.11**</p><br>\n",
    "Action in process:"
   ]
  },
  {
   "cell_type": "markdown",
   "metadata": {
    "caption": "Action in progress",
    "image": true,
    "name": "axclient_in_process",
    "width": "10cm"
   },
   "source": [
    "<img src=\"img/axclient_in_process.png\" width=\"500\">"
   ]
  },
  {
   "cell_type": "markdown",
   "metadata": {},
   "source": [
    "Action succeeded:"
   ]
  },
  {
   "cell_type": "markdown",
   "metadata": {
    "caption": "Action Succeeded",
    "image": true,
    "name": "axclient_succeeded",
    "width": "10cm"
   },
   "source": [
    "<img src=\"img/axclient_succeeded.png\" width=\"500\">"
   ]
  },
  {
   "cell_type": "markdown",
   "metadata": {},
   "source": [
    "<p style=\"background:#3B8F10;color:white;\">**Data for Exercice 4.11**</p>"
   ]
  },
  {
   "cell_type": "markdown",
   "metadata": {},
   "source": [
    "* Sometimes you may find that when you click the SEND GOAL button, or when you try to change the value of the goal you want to send, you can't interact with the axclient screen. If that's the case, just go to another tab and return again to the tab with axclient, and everything will work fine."
   ]
  },
  {
   "cell_type": "markdown",
   "metadata": {},
   "source": [
    "<p style=\"background:#EE9023;color:white;\">**Exercise 4.11**</p>"
   ]
  },
  {
   "cell_type": "markdown",
   "metadata": {},
   "source": [
    "Maybe you're a little bit angry at us now, because we didn't show you this tool before? Don't be!!\n",
    "<br><br>\n",
    "The very simple reason why we didn't talk about this tool earlier is because we want you to learn how Actions really work inside. Once you have the knowledge, you are then ready to use the shortcuts."
   ]
  }
 ],
 "metadata": {
  "anaconda-cloud": {},
  "kernelspec": {
   "display_name": "Python [Root]",
   "language": "python",
   "name": "Python [Root]"
  },
  "language_info": {
   "codemirror_mode": {
    "name": "ipython",
    "version": 2
   },
   "file_extension": ".py",
   "mimetype": "text/x-python",
   "name": "python",
   "nbconvert_exporter": "python",
   "pygments_lexer": "ipython2",
   "version": "2.7.12"
  },
  "latex_metadata": {
   "chapter": "4 - ROS Actions",
   "chapter_title": "Unit 4. ROS Actions Part1",
   "course_title": "ROS BASICS IN 5 DAYS"
  }
 },
 "nbformat": 4,
 "nbformat_minor": 1
}
