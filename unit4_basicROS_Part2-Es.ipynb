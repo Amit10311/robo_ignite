{
 "cells": [
  {
   "cell_type": "markdown",
   "metadata": {},
   "source": [
    "# <font class='ign_color'>ROS EN UNA SOLA SEMANA</font>"
   ]
  },
  {
   "cell_type": "markdown",
   "metadata": {},
   "source": [
    "# Capítulo 4: ROS Actions"
   ]
  },
  {
   "cell_type": "markdown",
   "metadata": {},
   "source": [
    "<table style=\"width:100%\">\n",
    "  <tr>\n",
    "    <th>Tiempo estimado para completarlo: 2'5 horas<br><br>Qué vas a aprender en esta unidad?\n",
    "<ul>\n",
    "  <li>Cómo crear un action server</li>\n",
    "  <li>Cómo crear tu propio mensaje de actions</li>\n",
    "</ul></th>\n",
    "    <th><img src=\"img/drone.jpg\" width=\"291\" height=\"248\" /></th> \n",
    "  </tr>\n",
    "</table>"
   ]
  },
  {
   "cell_type": "markdown",
   "metadata": {},
   "source": [
    "## Parte 2"
   ]
  },
  {
   "cell_type": "markdown",
   "metadata": {},
   "source": [
    "En tu anterior lección, has aprendido cómo <b>llamar</b> a un action server. En esta lección vas a aprender cómo <b>crear</b> tu propio action server."
   ]
  },
  {
   "cell_type": "markdown",
   "metadata": {},
   "source": [
    "<figure>\n",
    "  <img id=\"fig-4.5\" src=\"img/action_interface.png\"/>\n",
    "   <center> <figcaption>Fig.4.5 - Action Interface Diagram Copy 2</figcaption></center>\n",
    "</figure>"
   ]
  },
  {
   "cell_type": "markdown",
   "metadata": {},
   "source": [
    "## Escribiendo unn action server"
   ]
  },
  {
   "cell_type": "markdown",
   "metadata": {},
   "source": [
    "<table style=\"float:left;\">\n",
    "<tr>\n",
    "<th>\n",
    "<p style=\"background:#EE9023;color:white;\">Ejercicio 4.11: Testea el Fibonacci Action Server a través del Notebook</p><br>\n",
    "Ejecuta el siguiente código Python clicando en él y después clicando en el botón de Play en la esquina superior derecha del IPython notebook.<br> \n",
    "<img src=\"img/font-awesome_step-forward.png\" style=\"float:left\"/><br>\n",
    "<br><br>\n",
    "También puedes pulsar <i>[CTRL]+[Enter]</i> para ejecutarlo.<br>\n",
    "<br>\n",
    "\n",
    "Cuando el programa haya terminado, no te olvides de <span style=\"color:red\">hacer restart del Kernel</span>. Esto limpiará todos los nodos generados por ROS a través de los programas Python. Esto es necesario porque los programas Python sólo pueden lanzar <b>un</b> nodo rospy. Debido a que este notebook es simplemente un script de python dividido, te dará una rospy Exception si tratas de ejecutar 2 partes del código de manera consecutiva sin reiniciar el Kernel.\n",
    "Puedes hacer esto presionando este icono.<br>\n",
    "<img src=\"img/refresh_icon.png\" style=\"float:left\"/>\n",
    "<br><br><br>\n",
    "\n",
    "\n",
    "Lo que hay a continuación es un ejemplo del código de un action server. Cuando lo llamas, el action server generará una secuencia Fibonacci de un orden dado. El mensaje goal del action server debe indicar el orden de la secuencia a calcular; el feedback es la propia secuencia mientras está siendo calculada, y el result es la secuencia Fibonacci final.\n",
    "<br>\n",
    "</th>\n",
    "</tr>\n",
    "</table>"
   ]
  },
  {
   "cell_type": "markdown",
   "metadata": {},
   "source": [
    "<p style=\"background:#3B8F10;color:white;\" id=\"prg-4.11a\">Programa Python {4.11a}: fibonacci_action_server.py </p><br>"
   ]
  },
  {
   "cell_type": "code",
   "execution_count": 1,
   "metadata": {
    "collapsed": false
   },
   "outputs": [],
   "source": [
    "import rospy\n",
    "\n",
    "import actionlib\n",
    "\n",
    "from actionlib_tutorials.msg import FibonacciFeedback, FibonacciResult, FibonacciAction\n",
    "\n",
    "class FibonacciClass(object):\n",
    "    \n",
    "  # create messages that are used to publish feedback/result\n",
    "  _feedback = FibonacciFeedback()\n",
    "  _result   = FibonacciResult()\n",
    "\n",
    "  def __init__(self):\n",
    "    # crea el action server\n",
    "    self._as = actionlib.SimpleActionServer(\"fibonacci_as\", FibonacciAction, self.goal_callback, False)\n",
    "    self._as.start()\n",
    "    \n",
    "  def goal_callback(self, goal):\n",
    "    # este callback es llamado cuando alguien llama al action server.\n",
    "    # esta es la función que calcula la secuencia Fibonacci\n",
    "    # y retorna la secuencia al nodo que haya llamado al action server\n",
    "    \n",
    "    # variables de ayuda\n",
    "    r = rospy.Rate(1)\n",
    "    success = True\n",
    "    \n",
    "    \n",
    "    self._feedback.sequence = []\n",
    "    self._feedback.sequence.append(0)\n",
    "    self._feedback.sequence.append(1)\n",
    "    \n",
    "    # publica información en la consola para el usuario\n",
    "    rospy.loginfo('\"fibonacci_as\": Executing, creating fibonacci sequence of order %i with seeds %i, %i' % ( goal.order, self._feedback.sequence[0], self._feedback.sequence[1]))\n",
    "    \n",
    "    # empieza a calcular la secuencia Fibonacci\n",
    "    fibonacciOrder = goal.order\n",
    "    for i in xrange(1, fibonacciOrder):\n",
    "    \n",
    "      # comprueba que el preempt (cancelación) no ha sido solicitado por el action client\n",
    "      if self._as.is_preempt_requested():\n",
    "        rospy.loginfo('The goal has been cancelled/preempted')\n",
    "        # la siguiente línea, pone el client en estado preempted (goal cancelado)\n",
    "        self._as.set_preempted()\n",
    "        success = False\n",
    "        # finalizamos el cálculo de la secuencia Fibonacci\n",
    "        break\n",
    "      \n",
    "      # construye el siguiente mensaje feedback para ser enviado\n",
    "      self._feedback.sequence.append(self._feedback.sequence[i] + self._feedback.sequence[i-1])\n",
    "      # publica el feedback\n",
    "      self._as.publish_feedback(self._feedback)\n",
    "      # la secuencia es calcula a 1 Hz\n",
    "      r.sleep()\n",
    "    \n",
    "    # en este punto, o bien el goal se ha completado exitosamente (success==true)\n",
    "    # o el client ha hecho preempt del goal (success==false)\n",
    "    # si es success, publicamos el result final\n",
    "    # si no es success, no publicamos nada en el result\n",
    "    if success:\n",
    "      self._result.sequence = self._feedback.sequence\n",
    "      rospy.loginfo('Succeeded calculating the Fibonacci of order %i' % fibonacciOrder )\n",
    "      self._as.set_succeeded(self._result)\n",
    "      \n",
    "if __name__ == '__main__':\n",
    "  rospy.init_node('fibonacci')\n",
    "  FibonacciClass()\n",
    "  rospy.spin()"
   ]
  },
  {
   "cell_type": "markdown",
   "metadata": {},
   "source": [
    "<p style=\"background:#3B8F10;color:white;\">Explicación Código del Programa Python: {4.11a}</p><br>\n",
    "En este caso, el action server está usando un mensaje definido en <i>Fibonacci.action</i>. Este mensaje ha sido creado por ROS en el paquete <i>actionlib_tutorials</i>.\n",
    "<p style=\"background:#3B8F10;color:white;\">Fin Explicación del Código del Programa Python: {4.11a}</p><br>"
   ]
  },
  {
   "cell_type": "markdown",
   "metadata": {},
   "source": [
    "<table style=\"float:left;\">\n",
    "<tr>\n",
    "<th>\n",
    "<p style=\"background:#EE9023;color:white;\">Ejercicio 4.12a: Comprueba la estructura del mensaje Fibonacci</p><br>\n",
    "Comprueba la estructura del mensaje Fibonacci.action, yendo al directorio <i>action</i> del paquete <i>actionlib_tutorials</i>.\n",
    "</th>\n",
    "</tr>\n",
    "</table>"
   ]
  },
  {
   "cell_type": "markdown",
   "metadata": {},
   "source": [
    "<table style=\"float:left;\">\n",
    "<tr>\n",
    "<th>\n",
    "<p style=\"background:#EE9023;color:white;\">Ejercicio 4.12b: Mira la salida de los tópicos feedback y result de Fibonacci</p><br>\n",
    "\n",
    "Lanza de nuevo el código python anterior <a href=\"#prg-4.11a\">{4.11a}</a> para tener el action server fibonacci corriendo.<br>\n",
    "Después ejecuta los siguientes comandos en sus respectivos WebShells.<br>\n",
    "\n",
    "<table style=\"float:left;background: #407EAF\">\n",
    "<tr>\n",
    "<th>\n",
    "<p style=\"background: #FFFFFF\">Ejecuta en el WebShell #1: Echo del Result</p><br>\n",
    "rostopic echo /fibonacci_as/result<br>\n",
    "</th>\n",
    "</tr>\n",
    "</table>\n",
    "<br><br><br><br><br>\n",
    "\n",
    "<table style=\"float:left;background: #407EAF\">\n",
    "<tr>\n",
    "<th>\n",
    "<p style=\"background: #FFFFFF\">Ejecuta en el WebShell #2: Echo del feedback</p><br>\n",
    "rostopic echo /fibonacci_as/feedback<br>\n",
    "</th>\n",
    "</tr>\n",
    "</table>\n",
    "<br><br><br><br><br>\n",
    "\n",
    "<table style=\"float:left;background: #407EAF\">\n",
    "<tr>\n",
    "<th>\n",
    "<p style=\"background: #FFFFFF\">Ejecuta en el WebShell #3: Envia el goal a tu fibonacci server</p><br>\n",
    "rostopic pub /fibonacci_as/goal actionlib_tutorials/FibonacciActionGoal [TAB][TAB]<br>\n",
    "</th>\n",
    "</tr>\n",
    "</table>\n",
    "<br><br><br><br><br>\n",
    "\n",
    "<p style=\"background:#3B8F10;color:white;\">Información para el Ejercicio 4.12b</p><br>\n",
    "<ul>\n",
    "<li>\n",
    "Los mensajes en el código Python se llaman FibonacciGoal, FibonacciResult y FibonacciFeedback, mientras que en los tópicos, se llaman FibonacciActionGoal, FibonacciActionResult y FibonacciActionFeedback.\n",
    "</li>\n",
    "<li>\n",
    "Cual es la diferencia entre <b>FibonacciGoal</b> y <b>FibonacciActionGoal</b>?\n",
    "</li>\n",
    "<li>\n",
    "Básicamente es que el <b>FibonacciGoal</b> está incomplete, no tiene algunos elementos necesarios para ser usado directamente en tópicos. Sólo es usado por objetos Python. <b>FibonacciActionGoal</b> es el que usan los mensajes, y el que debes usar cuando trates con los tópicos directamente.\n",
    "</li>\n",
    "</ul>\n",
    "\n",
    "\n",
    "\n",
    "\n",
    "<p style=\"background:#AE0202;color:white;\">Resultado Esperado para el Ejercicio 4.12b</p><br>\n",
    "Tras haber llamado a la action, el tópico feedback debería estar publicando el feedback, y el result cuando terminen los cálculos.\n",
    "\n",
    "\n",
    "<br>\n",
    "</th>\n",
    "</tr>\n",
    "</table>"
   ]
  },
  {
   "cell_type": "markdown",
   "metadata": {},
   "source": [
    "<table style=\"float:left;\">\n",
    "<tr>\n",
    "<th>\n",
    "<p style=\"background:#EE9023;color:white;\" id=\"ex-4-13\">Ejercicio 4.13: Crea un paquete con un Action Server que mueva el Ardrone en un cuadrado</p><br>\n",
    "Crea un paquete con un action server que mueva al drone en forma de cuadrado cuando sea llamado.<br>\n",
    "Llama al action server a través de tópicos y observa el result y el feedback.<br>\n",
    "Basa tu código en el ejemplo anterior <a href=\"#prg-4.11a\">{4.11a}</a> y en el client que hiciste en el ejercicio 4.6 que movía al drone mientras tomaba fotos.<br>\n",
    "\n",
    "<p style=\"background:#3B8F10;color:white;\">Información para el Ejercicio 4.13</p>\n",
    "<ul>\n",
    "<li>El tamaño de cada lado del cuadrado debe ser especificado en el mensaje del goal como un entero.</li>\n",
    "<li>El feedback debe publicar el segundo en el que el robot se encuentra mientras realiza el cuadrado.</li>\n",
    "<li>El result debe publicar el número total de segundos que el drone ha tardado en hacer el cuadrado</li>\n",
    "<li>Usa el mensaje <span style=\"color: orange\"><i>Test.action</i></span> para este action server. Usa el comando <span style=\"color: orange\"><i>locate Test.action</i></span> para encontrar donde se encuentra definido el mensaje.</li>\n",
    "</ul>\n",
    "\n",
    "<p style=\"background:#AE0202;color:white;\">Resultado Esperado para el Ejercicio 4.13</p><br>\n",
    "El resultado se muestra en la animación de debajo <a href=\"#fig-4.6\">{Fig:4.6}</a>\n",
    "\n",
    "</th>\n",
    "</tr>\n",
    "</table>"
   ]
  },
  {
   "cell_type": "markdown",
   "metadata": {},
   "source": [
    "\n",
    "\n",
    "\n",
    "<figure>\n",
    "  <img id=\"fig-4.6\" src=\"img/drone.gif\">\n",
    "   <center> <figcaption>Fig.4.6 - Ardrone movido a través de comandos enviado por un action server Ex 4.13</figcaption></center>\n",
    "</figure>"
   ]
  },
  {
   "cell_type": "markdown",
   "metadata": {},
   "source": [
    "## Cómo crear tu propio mensaje para el action server"
   ]
  },
  {
   "cell_type": "markdown",
   "metadata": {},
   "source": [
    "<b>Siempre se recomienda usar mensajes de actions ya proporcionados por ROS.</b><br>\n",
    "Estos puedes ser encontrados en los siguientes paquetes ROS:\n",
    "<ul>\n",
    "<li>actionlib</li>\n",
    "    <ul>\n",
    "    <li>Test.action</li>\n",
    "    <li>TestRequest.action </li>\n",
    "    <li>TwoInts.action</li>\n",
    "    </ul>\n",
    "<li>actionlib_tutorials</li>\n",
    "    <ul>\n",
    "    <li>Fibonacci.action</li>\n",
    "    <li>Averaging.action</li>\n",
    "    </ul>\n",
    "</ul>\n",
    "<br>"
   ]
  },
  {
   "cell_type": "markdown",
   "metadata": {},
   "source": [
    "Sin embargo, en el caso de que necesites crear tu propio mensaje, haz el siguiente ejercicio para saber cómo."
   ]
  },
  {
   "cell_type": "markdown",
   "metadata": {},
   "source": [
    "<table style=\"float:left;\">\n",
    "<tr>\n",
    "<th>\n",
    "<p style=\"background:#EE9023;color:white;\">Ejercicio 4.14: Crea tu propio mensaje de action</p><br>\n",
    "<ol>\n",
    "  <li>Crea un directorio <i>action</i> dentro de tu paquete</li>\n",
    "  <li>Crea un fichero NAME.action\n",
    "      <ul>\n",
    "        <li>El NAME del fichero del mensaje determinará más tarde el nombre de las clases que se usarán en el <i>action server</i> y/o el <i>action client</i></li>\n",
    "        <li>\n",
    "        Recuerda que el fichero NAME.action tiene que contener 3 partes, cada parte separada por 3 guiones.  \n",
    "        #<span style=\"color:orange\">goal</span><br>\n",
    "        <span style=\"color:green\">paquete_donde_está_el_mensaje/tipo_de_mensaje nombre_variable_goal</span><br>\n",
    "        <span style=\"color:red\">---</span><br>\n",
    "        #<span style=\"color:orange\">result</span><br>\n",
    "        <span style=\"color:green\">paquete_donde_está_el_mensaje/tipo_de_mensaje nombre_variable_result</span><br>\n",
    "        <span style=\"color:red\">---</span><br>\n",
    "        #<span style=\"color:orange\">feedback</span><br>\n",
    "        <span style=\"color:green\">paquete_donde_está_el_mensaje/tipo_de_mensaje nombre_variable_feedback</span>\n",
    "        <br><br>\n",
    "        </li>\n",
    "        <li>Si no necesitas alguna parte del mensaje (por ejemplo no necesitas mandar un feedback) puedes dejar esa parte vacía, pero debes especificar siempre los guines de separación</li>\n",
    "      </ul>\n",
    "  </li>\n",
    "  <li>Modifica los ficheros CMakeLists.txt y package.xml para incluir la compilación de mensajes de action. Mira la descripción <a href=\"#custom_compilation\">Cómo prepara el CMakeLists.txt y el package.xml para la compilación de mensajes de action</a>\n",
    "  </li>\n",
    "</ol>\n",
    "\n",
    "<br><br>\n",
    "Cuando todo esté correctamente configurado, simplemente tienes que compilar:<br>\n",
    "\n",
    "<table style=\"float:left;background: #407EAF\">\n",
    "<tr>\n",
    "<th>\n",
    "<p style=\"background: #FFFFFF\">Ejecuta en el WebShell #1</p><br>\n",
    "roscd; cd ..<br>\n",
    "catkin_make<br>\n",
    "source devel/setup.bash<br>\n",
    "rosmsg list | grep NAME<br>\n",
    "</th>\n",
    "</tr>\n",
    "</table>\n",
    "<br><br><br><br><br><br><br><br>\n",
    "\n",
    "\n",
    "<table style=\"float:left;background: #407EAF\">\n",
    "<tr>\n",
    "<th>\n",
    "<p style=\"background: #FFFFFF\">Salida del WebShell #1</p><br>\n",
    "my_custom_action_msg_pkg/NAMEAction<br>\n",
    "my_custom_action_msg_pkg/NAMEActionFeedback<br>\n",
    "my_custom_action_msg_pkg/NAMEActionGoal<br>\n",
    "my_custom_action_msg_pkg/NAMEActionResult<br>\n",
    "my_custom_action_msg_pkg/NAMEFeedback<br>\n",
    "my_custom_action_msg_pkg/NAMEGoal<br>\n",
    "my_custom_action_msg_pkg/NAMEResult<br>\n",
    "</th>\n",
    "</tr>\n",
    "</table>\n",
    "<br><br><br><br><br><br><br><br><br><br><br>\n",
    "\n",
    "\n",
    "\n",
    "\n",
    "\n",
    "</th>\n",
    "</tr>\n",
    "</table>"
   ]
  },
  {
   "cell_type": "markdown",
   "metadata": {},
   "source": [
    "<div id=\"custom_compilation\"></div>"
   ]
  },
  {
   "cell_type": "markdown",
   "metadata": {},
   "source": [
    "## Cómo preparar el CMakeLists.txt y el package.xml para la compilación de mensajes de action"
   ]
  },
  {
   "cell_type": "markdown",
   "metadata": {},
   "source": [
    "Debes editar 2 ficheros del paquete, como se explicó en Tópicos y Servicios:\n",
    "<ul>\n",
    "<li>CMakeLists.txt</li>\n",
    "<li>package.xml</li>\n",
    "</ul>"
   ]
  },
  {
   "cell_type": "markdown",
   "metadata": {},
   "source": [
    "### En el package.xml:"
   ]
  },
  {
   "cell_type": "markdown",
   "metadata": {},
   "source": [
    "<ol>\n",
    "<li>\n",
    "Añade todos los paquetes necesarios para compilar los mensajes.<br>\n",
    "Si, por ejemplo, una de las variables en tu fichero .action usa un mensaje definido fuera del paquete std_msgs, digamos nav_msgs/Odometry, necesitas importarlo. Para ello, deberás añadir como <b>build_depend</b> el paquete <b>nav_msgs</b> de esta manera:<br>\n",
    "<span style=\"color:green\">&lt;build_depend&gt;nav_msgs&lt;/build_depend&gt;</span>\n",
    "</li>\n",
    "<li>\n",
    "Por el contrario, si necesitas un paquete para la ejecución de los programas de tu paquete, deberás importar esos paquete como <b>run_depend</b> de esta manera:<br>\n",
    "<span style=\"color:green\">&lt;run_depend&gt;nav_msgs&lt;/run_depend&gt;</span>\n",
    "</li>\n",
    "</ol>"
   ]
  },
  {
   "cell_type": "markdown",
   "metadata": {},
   "source": [
    "Cuando compilas mensajes de action, es <span style=\"color: red\">siempre</span> necesario añadir el paquete <span style=\"color: red\">actionlib_msgs</span> como build_dependency.<br>\n",
    "<span style=\"color:red\">&lt;build_depend&gt;actionlib_msgs&lt;/build_depend&gt;</span><br>\n",
    "Esto es porque estos son los mensajes usados para la generación de los mensajes básicos de action como <i>goal, feedback y result</i>.<br>\n",
    "\n",
    "Cuando usas python, es <span style=\"color: red\">siempre</span> necesario añadir <span style=\"color: red\">rospy</span> como run_dependency.<br>\n",
    "<span style=\"color:red\">&lt;run_depend&gt;rospy&lt;/run_depend&gt;</span><br>\n",
    "Esto es debido a que el módulo python rospy es necesario para ejecutar tus códigos python en ROS."
   ]
  },
  {
   "cell_type": "markdown",
   "metadata": {},
   "source": [
    "### En el CMakeLists.txt"
   ]
  },
  {
   "cell_type": "markdown",
   "metadata": {},
   "source": [
    "Deberás editar 4 funciones dentro del CMakeLists.txt:\n",
    "<ul>\n",
    "<li><span style=\"color:green\"><a href=\"#find_package\">find_package()</a></span></li>\n",
    "<li><span style=\"color:green\"><a href=\"#add_action_files\">add_action_files()</a></span></li>\n",
    "<li><span style=\"color:green\"><a href=\"#generate_messages\">generate_messages()</a></span></li>\n",
    "<li><span style=\"color:green\"><a href=\"#catkin_package\">catkin_package()</a></span></li>\n",
    "</ul>\n"
   ]
  },
  {
   "cell_type": "markdown",
   "metadata": {},
   "source": [
    "<span style=\"color: green\" id=\"find_package\">find_package()</span>"
   ]
  },
  {
   "cell_type": "markdown",
   "metadata": {},
   "source": [
    "Aquí van todos los paquetes necesarios para COMPILAR los mensajes de tópicos, servicios y actions. Simplemente está cogiendo sus paths, no los está importando para usarlos en la compilación. Simplemente es para que futuras funciones del CMakeLists.txt sean capaces de encontrar esos paquetes.\n",
    "En el package.xml debes colocarlos como <b>build_depend</b>."
   ]
  },
  {
   "cell_type": "raw",
   "metadata": {},
   "source": [
    "find_package(catkin REQUIRED COMPONENTS\n",
    "      # ya hay otros paquetes listado aqui\n",
    "      actionlib_msgs\n",
    ")"
   ]
  },
  {
   "cell_type": "markdown",
   "metadata": {},
   "source": [
    "<span style=\"color: green\" id=\"add_action_files\">add_action_files()</span>"
   ]
  },
  {
   "cell_type": "markdown",
   "metadata": {},
   "source": [
    "En esta función estarán todos los mensajes de actions ( que están en el directorio action ) que quieras compilar.<br>\n",
    "Puedes indicar que coja todos los mensajes dentro del directorio action: DIRECTORY action<br>\n",
    "o sólo los mensajes que indiques específicamente: FILES my_custom_action.action<br>\n",
    "En tu caso puedes hacer cualquiera de los 2, como prefieras."
   ]
  },
  {
   "cell_type": "raw",
   "metadata": {},
   "source": [
    "add_action_files(\n",
    "      DIRECTORY action\n",
    "      FILES\n",
    "      NAME.action\n",
    ")"
   ]
  },
  {
   "cell_type": "markdown",
   "metadata": {},
   "source": [
    "<span style=\"color: green\" id=\"generate_messages\">generate_messages()</span>"
   ]
  },
  {
   "cell_type": "markdown",
   "metadata": {},
   "source": [
    "Aquí es donde los paquetes necesarios para la compilación de los mensajes son importados."
   ]
  },
  {
   "cell_type": "raw",
   "metadata": {},
   "source": [
    "generate_messages(\n",
    "      DEPENDENCIES\n",
    "      actionlib_msgs # there may be more\n",
    ")"
   ]
  },
  {
   "cell_type": "markdown",
   "metadata": {},
   "source": [
    "<span style=\"color: green\" id=\"catkin_package\">catkin_package()</span>"
   ]
  },
  {
   "cell_type": "markdown",
   "metadata": {},
   "source": [
    "Coloca aquí todos los paquetes que serán necesarios para alguien que ejecute algo de tu paquete.\n",
    "Todos los paquetes que estén aquí deben estar en el package.xml como <b>run_depend</b>."
   ]
  },
  {
   "cell_type": "raw",
   "metadata": {},
   "source": [
    "catkin_package(\n",
    "      CATKIN_DEPENDS\n",
    "      rospy\n",
    ")"
   ]
  },
  {
   "cell_type": "markdown",
   "metadata": {},
   "source": [
    "Deberías terminar con un CMakeLists.txt similar a este:"
   ]
  },
  {
   "cell_type": "raw",
   "metadata": {},
   "source": [
    "cmake_minimum_required(VERSION 2.8.3)\n",
    "project(my_custom_action_msg_pkg)\n",
    "\n",
    "## Find catkin macros and libraries\n",
    "## if COMPONENTS list like find_package(catkin REQUIRED COMPONENTS xyz)\n",
    "## is used, also find other catkin packages\n",
    "find_package(catkin REQUIRED COMPONENTS\n",
    "  std_msgs \n",
    "  actionlib_msgs\n",
    ")\n",
    "\n",
    "## Generate actions in the 'action' folder\n",
    "add_action_files(\n",
    "   FILES\n",
    "   MyCustomActionMsg.action\n",
    " )\n",
    "\n",
    "## Generate added messages and services with any dependencies listed here\n",
    "generate_messages(\n",
    "   DEPENDENCIES\n",
    "   std_msgs actionlib_msgs\n",
    " )\n",
    "\n",
    "catkin_package(\n",
    " CATKIN_DEPENDS rospy\n",
    ")\n",
    "\n",
    "## Specify additional locations of header files\n",
    "## Your package locations should be listed before other locations\n",
    "# include_directories(include)\n",
    "include_directories(\n",
    "  ${catkin_INCLUDE_DIRS}\n",
    ")"
   ]
  },
  {
   "cell_type": "markdown",
   "metadata": {},
   "source": [
    "Y un package.xml similar a este:"
   ]
  },
  {
   "cell_type": "raw",
   "metadata": {},
   "source": [
    "<?xml version=\"1.0\"?>\n",
    "<package>\n",
    "  <name>my_custom_action_msg_pkg</name>\n",
    "  <version>0.0.0</version>\n",
    "  <description>The my_custom_action_msg_pkg package</description>\n",
    "  <maintainer email=\"user@todo.todo\">user</maintainer>\n",
    "  <license>TODO</license>\n",
    "\n",
    "  <buildtool_depend>catkin</buildtool_depend>\n",
    "  <build_depend>std_msgs</build_depend>\n",
    "  <build_depend>actionlib_msgs</build_depend>\n",
    "  \n",
    "  <run_depend>rospy</run_depend>\n",
    "\n",
    "  <export>\n",
    "  </export>\n",
    "</package>"
   ]
  },
  {
   "cell_type": "markdown",
   "metadata": {},
   "source": [
    "<p style=\"background:green;color:white;\">Nota</p><br>\n",
    "Date cuenta que no has importado el paquete <b>std_msgs</b> en ninguna parte. Pero sin embargo puedes usar los mensajes declarados ahí en tus fichero .action. Esto es porque este paquete forma parte de los ficheros de sistema del roscore, así que ya están incluidos en los protocolos de compilación, y no necesitas declararlos."
   ]
  },
  {
   "cell_type": "markdown",
   "metadata": {},
   "source": [
    "<table style=\"float:left;\">\n",
    "<tr>\n",
    "<th>\n",
    "<p style=\"background:#EE9023;color:white;\">Ejercicio 4.12: Crea un paquete con un action server con un mensaje personalizado para mover el ardrone</p><br>\n",
    "<ul>\n",
    "  <li>En el anterior paquete que creaste <a href=\"#ex-4-13\">[Ex 4.13]</a>, crea un nuevo action server para el quadcopter</li>\n",
    "  <li>El action server recibirá como goal 2 palabras: ARRIBA o ABAJO</li>\n",
    "  <li>Cuando el action server reciba la palabara ARRIBA, moverá al drone 1 metro hacia arriba</li>\n",
    "  <li>Cuando el action server reciba la palabara ABAJO, moverá al drone 1 metro hacia abajo</li>\n",
    "  <li>Como feedback, publicará una vez por segundo qué acción está haciendo (subiendo o bajando)</li>\n",
    "  <li>Cuando finalice la action, eñ result no devolverá nada</li>\n",
    "</ul>\n",
    "\n",
    "<p style=\"background:#3B8F10;color:white;\">Información</p><br>\n",
    "<ul>\n",
    "<li>Necesitas crear un nuevo mensaje de action con los valores especificados como <i>String</i>. Este tipo puede ser importado del paquete <i>std_msgs</i>.</li>\n",
    "<li>La parte del result del mensaje estará vacía.</li>\n",
    "<li>Ya que estamos hablando de un drone, puedes especificar velocidades en 3 ejes. Deberás hacer eso en orden para mover el drone arriba y abajo.</li>\n",
    "</ul>\n",
    "</th>\n",
    "</tr>\n",
    "</table>"
   ]
  },
  {
   "cell_type": "markdown",
   "metadata": {
    "collapsed": true
   },
   "source": [
    "## Material adicional para aprender más"
   ]
  },
  {
   "cell_type": "markdown",
   "metadata": {},
   "source": [
    "ROS Actions: http://wiki.ros.org/actionlib<br>\n",
    "Cómo funcionan las actions de ROS (descripción detallada): http://wiki.ros.org/actionlib/DetailedDescription"
   ]
  }
 ],
 "metadata": {
  "anaconda-cloud": {},
  "kernelspec": {
   "display_name": "Python [Root]",
   "language": "python",
   "name": "Python [Root]"
  },
  "language_info": {
   "codemirror_mode": {
    "name": "ipython",
    "version": 2
   },
   "file_extension": ".py",
   "mimetype": "text/x-python",
   "name": "python",
   "nbconvert_exporter": "python",
   "pygments_lexer": "ipython2",
   "version": "2.7.12"
  }
 },
 "nbformat": 4,
 "nbformat_minor": 0
}
