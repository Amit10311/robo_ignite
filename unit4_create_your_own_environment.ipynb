{
 "cells": [
  {
   "cell_type": "markdown",
   "metadata": {},
   "source": [
    "# Chapter 4: Create a new environment "
   ]
  },
  {
   "cell_type": "markdown",
   "metadata": {
    "collapsed": true
   },
   "source": [
    "It's time to make your own environment!\n",
    "\n",
    "Here, you will learn how to create your own environment for the **Gym_Gazebo** module. For other systems, you just do the same steps, but in the general Gym module or your own custom version, similar to Gym_Gazebo, instead."
   ]
  },
  {
   "cell_type": "markdown",
   "metadata": {},
   "source": [
    "## Step 1: Know your environment"
   ]
  },
  {
   "cell_type": "markdown",
   "metadata": {},
   "source": [
    "**Learn what the possible inputs are for the control of your system. The actions it's able to perform.<br>\n",
    "Learn what kind of environmental data is available for learning.<br>\n",
    "What do you want to teach to your robot?<br>**"
   ]
  },
  {
   "cell_type": "markdown",
   "metadata": {},
   "source": [
    "In this case, you will be using a Parrot AR.Drone simulation. The drone has to learn how to fly low so that enemy drones can't detect it. But, it has to also know how to go over barriers without exceeding that maximum elevation or hitting them."
   ]
  },
  {
   "cell_type": "markdown",
   "metadata": {},
   "source": [
    "The sensors that will be used at the begining will be a **compass** and an **altitude sensor**.<br>\n",
    "The system will be controlled through five actions: **FORWARD, TURN LEFT, TURN RIGHT, GO UP, and GO DOWN.**<br>"
   ]
  },
  {
   "cell_type": "markdown",
   "metadata": {},
   "source": [
    "But first, let's test how the drone performs a little bit:"
   ]
  },
  {
   "cell_type": "markdown",
   "metadata": {},
   "source": [
    "First, you need it to take off."
   ]
  },
  {
   "cell_type": "markdown",
   "metadata": {},
   "source": [
    "<table style=\"float:left;background: #407EAF\">\n",
    "<tr>\n",
    "<th>\n",
    "<p class=\"transparent\">Execute in WebShell #1</p>\n",
    "</th>\n",
    "</tr>\n",
    "</table>"
   ]
  },
  {
   "cell_type": "code",
   "execution_count": null,
   "metadata": {
    "collapsed": true
   },
   "outputs": [],
   "source": [
    "rostopic pub /drone/takeoff std_msgs/Empty \"{}\""
   ]
  },
  {
   "cell_type": "markdown",
   "metadata": {},
   "source": [
    "Hit **CTRL+C** to stop it and be able to type more commands. In this case, the command is to move the drone with the keyboard."
   ]
  },
  {
   "cell_type": "markdown",
   "metadata": {},
   "source": [
    "Execute the following command in order to start a ROS program that will allow you to control the drone through the keybord."
   ]
  },
  {
   "cell_type": "markdown",
   "metadata": {},
   "source": [
    "<table style=\"float:left;background: #407EAF\">\n",
    "<tr>\n",
    "<th>\n",
    "<p class=\"transparent\">Execute in WebShell #1</p>\n",
    "</th>\n",
    "</tr>\n",
    "</table>"
   ]
  },
  {
   "cell_type": "code",
   "execution_count": null,
   "metadata": {
    "collapsed": true
   },
   "outputs": [],
   "source": [
    "rosrun teleop_twist_keyboard teleop_twist_keyboard.py"
   ]
  },
  {
   "cell_type": "markdown",
   "metadata": {},
   "source": [
    "The fpllowing are the basic keys used to control the drone:"
   ]
  },
  {
   "cell_type": "markdown",
   "metadata": {},
   "source": [
    "<table style=\"width:100%\">\n",
    "  <tr>\n",
    "    <th>\n",
    "    <figure>\n",
    "        <img src=\"img/key_1.png\"width=\"40\"></img>\n",
    "        \n",
    "    </figure>\n",
    "    </th>\n",
    "    <th>\n",
    "    <p style=\"text-align: center;\">Take-off</p>\n",
    "    </th> \n",
    "  </tr>\n",
    "  <tr>\n",
    "    <th>\n",
    "    <figure>\n",
    "        <img src=\"img/key_2.png\"width=\"40\"></img>\n",
    "        \n",
    "    </figure>\n",
    "    </th>\n",
    "    <th>\n",
    "    <p style=\"text-align: center;\">Land</p>\n",
    "    </th> \n",
    "  </tr>\n",
    "  <tr>\n",
    "    <th>\n",
    "    <figure>\n",
    "        <img src=\"img/key_i.png\"width=\"40\"></img>\n",
    "        \n",
    "    </figure>\n",
    "    </th>\n",
    "    <th>\n",
    "    <p style=\"text-align: center;\">Move forward</p>\n",
    "    </th> \n",
    "  </tr>\n",
    "  <tr>\n",
    "    <th>\n",
    "    <figure>\n",
    "        <img src=\"img/key_comma.png\"width=\"40\"></img>\n",
    "        \n",
    "    </figure>\n",
    "    </th>\n",
    "    <th>\n",
    "    <p style=\"text-align: center;\">Move backward</p>\n",
    "    </th> \n",
    "  </tr>\n",
    "  <tr>\n",
    "    <th>\n",
    "    <figure>\n",
    "        <img src=\"img/key_j.png\"width=\"40\"></img>\n",
    "        \n",
    "    </figure>\n",
    "    </th>\n",
    "    <th>\n",
    "    <p style=\"text-align: center;\">Turn left</p>\n",
    "    </th> \n",
    "  </tr>\n",
    "  <tr>\n",
    "    <th>\n",
    "    <figure>\n",
    "        <img src=\"img/key_l.png\"width=\"40\"></img>\n",
    "        \n",
    "    </figure>\n",
    "    </th>\n",
    "    <th>\n",
    "    <p style=\"text-align: center;\">Turn right</p>\n",
    "    </th> \n",
    "  </tr>\n",
    "  <tr>\n",
    "    <th>\n",
    "    <figure>\n",
    "        <img src=\"img/key_k.png\"width=\"40\"></img>\n",
    "        \n",
    "    </figure>\n",
    "    </th>\n",
    "    <th>\n",
    "    <p style=\"text-align: center;\">Stop</p>\n",
    "    </th> \n",
    "  </tr>\n",
    "</table>"
   ]
  },
  {
   "cell_type": "markdown",
   "metadata": {},
   "source": [
    "To land the drone, just publish this into the **/drone/land** topic:"
   ]
  },
  {
   "cell_type": "markdown",
   "metadata": {},
   "source": [
    "<table style=\"float:left;background: #407EAF\">\n",
    "<tr>\n",
    "<th>\n",
    "<p class=\"transparent\">Execute in WebShell #1</p>\n",
    "</th>\n",
    "</tr>\n",
    "</table>"
   ]
  },
  {
   "cell_type": "code",
   "execution_count": null,
   "metadata": {
    "collapsed": true
   },
   "outputs": [],
   "source": [
    "rostopic pub /drone/land std_msgs/Empty \"{}\""
   ]
  },
  {
   "cell_type": "markdown",
   "metadata": {},
   "source": [
    "## Step 2: What you have to edit and create"
   ]
  },
  {
   "cell_type": "markdown",
   "metadata": {},
   "source": [
    "You will now edit the Gym_Gazebo Python module, where all the enviroments are set up. Outside Gazebo, it would be the gym module. So, go to the following path: **/usr/local/lib/python2.7/dist-packages/gym\\_gazebo**.\n",
    "\n",
    "Inside, you will have to edit these two files:\n",
    "\n",
    "**\\_\\_init\\_\\_.py**<br>\n",
    "**scoreboard/\\_\\_init\\_\\_.py**\n",
    "\n",
    "You will have to also create a new environment script inside the **envs** folder.<br>\n",
    "See how it's already done a first version for you."
   ]
  },
  {
   "cell_type": "markdown",
   "metadata": {},
   "source": [
    "<p style=\"background:#EE9023;color:white;\">**Exercise 4.1**</p>"
   ]
  },
  {
   "cell_type": "markdown",
   "metadata": {},
   "source": [
    "Edit the **\\_\\_init\\_\\_.py** and **scoreboard/\\_\\_init\\_\\_.py** scripts to add a new **QuadCopter-v1** environment."
   ]
  },
  {
   "cell_type": "markdown",
   "metadata": {},
   "source": [
    "<p style=\"background:#CD2122;color:white;\">**WARNING**</p><br>\n",
    "Keep in mind that a very common error afterwards is that your learning script will sometimes give an error, stating that you can't reset, if the episode is not done yet. This is because your timelimit and the number of iterations don't correspond. So be careful with that.<br>\n",
    "<p style=\"background:#CD2122;color:white;\">**WARNING**</p>"
   ]
  },
  {
   "cell_type": "markdown",
   "metadata": {},
   "source": [
    "Once it's done, you have to create a new environment file inside the **envs** folder. You have an example file in the following path: **/usr/local/lib/python2.7/dist-packages/gym\\_gazebo/envs/gazebo_quadcopter.py**"
   ]
  },
  {
   "cell_type": "markdown",
   "metadata": {},
   "source": [
    "<p style=\"background:green;color:white;\">**gazebo_quadcopter.py**</p>"
   ]
  },
  {
   "cell_type": "code",
   "execution_count": null,
   "metadata": {
    "collapsed": true
   },
   "outputs": [],
   "source": [
    "import gym\n",
    "import rospy\n",
    "import roslaunch\n",
    "import time\n",
    "import numpy as np\n",
    "import tf\n",
    "import time\n",
    "from gym import utils, spaces\n",
    "from gym_gazebo.envs import gazebo_env\n",
    "from geometry_msgs.msg import Twist, Vector3Stamped, Pose\n",
    "from std_srvs.srv import Empty\n",
    "from hector_uav_msgs.msg import Altimeter\n",
    "from sensor_msgs.msg import Imu\n",
    "from std_msgs.msg import Empty as EmptyTopicMsg\n",
    "from gym.utils import seeding\n",
    "\n",
    "class QuadCopterEnv(gazebo_env.GazeboEnv):\n",
    "\n",
    "    def __init__(self):\n",
    "        # Launch the simulation with the given launchfile name\n",
    "        gazebo_env.GazeboEnv.__init__(self, \"GazeboCircuitTurtlebotLidar_v0.launch\")\n",
    "        self.vel_pub = rospy.Publisher('/cmd_vel', Twist, queue_size=5)\n",
    "        self.takeoff_pub = rospy.Publisher('/drone/takeoff', EmptyTopicMsg, queue_size=None)\n",
    "         \n",
    "        self.unpause = rospy.ServiceProxy('/gazebo/unpause_physics', Empty)\n",
    "        self.pause = rospy.ServiceProxy('/gazebo/pause_physics', Empty)\n",
    "        self.reset_proxy = rospy.ServiceProxy('/gazebo/reset_simulation', Empty)\n",
    "        \n",
    "        self.action_space = spaces.Discrete(5) #F,L,R\n",
    "        self.reward_range = (-np.inf, np.inf)\n",
    "\n",
    "        self._seed()\n",
    "\n",
    "\n",
    "    def calculate_dist_between_two_Points(self,p_init,p_end):\n",
    "        a = np.array((p_init.x ,p_init.y, p_init.z))\n",
    "        b = np.array((p_end.x ,p_end.y, p_end.z))\n",
    "        \n",
    "        dist = np.linalg.norm(a-b)\n",
    "        \n",
    "        return dist\n",
    "\n",
    "    def get_init_pose(self):\n",
    "        data_pose = None\n",
    "        while data_pose is None:\n",
    "            try:                \n",
    "                data_pose = rospy.wait_for_message('/drone/gt_pose', Pose, timeout=1)\n",
    "            except:\n",
    "                rospy.loginfo(\"Current drone pose not ready yet, retrying for setting up init pose\")\n",
    "        return data_pose\n",
    "\n",
    "\n",
    "    def init_desired_pose(self):\n",
    "        self.desired_pose = Pose()\n",
    "        self.desired_pose.position.z = 0.7\n",
    "        self.desired_pose.position.x = 14.0\n",
    "        self.desired_pose.position.y = 1.0\n",
    "        current_init_pose = self.get_init_pose()\n",
    "        \n",
    "        self.best_dist = self.calculate_dist_between_two_Points(current_init_pose.position, self.desired_pose.position)\n",
    "    \n",
    "\n",
    "    def check_topic_publishers_connection(self):\n",
    "        \n",
    "        rate = rospy.Rate(100) # 1hz\n",
    "        while(self.takeoff_pub.get_num_connections() == 0):\n",
    "            rospy.loginfo(\"No suscribers to take off yet, so we'll wait and try again\")\n",
    "            rate.sleep();\n",
    "        rospy.loginfo(\"Takeoff Publisher Connected\")\n",
    "\n",
    "        while(self.vel_pub.get_num_connections() == 0):\n",
    "            rospy.loginfo(\"No subscribers to Cmd_vel yet so we'll wait and try again\")\n",
    "            rate.sleep();\n",
    "        rospy.loginfo(\"Cmd_vel Publisher Connected\")\n",
    "        \n",
    "\n",
    "    def reset_cmd_vel_commands(self):\n",
    "        # We send an empty null Twist\n",
    "        vel_cmd = Twist()\n",
    "        vel_cmd.linear.z = 0.0\n",
    "        vel_cmd.angular.z = 0.0\n",
    "        self.vel_pub.publish(vel_cmd)\n",
    "\n",
    "\n",
    "    def takeoff_sequence(self, seconds_taking_off=1):\n",
    "        # Before taking off, be sure that cmd_vel value there is is null to avoid drifts\n",
    "        self.reset_cmd_vel_commands()\n",
    "        \n",
    "        takeoff_msg = EmptyTopicMsg()\n",
    "        print \"Taking-Off Start\"\n",
    "        self.takeoff_pub.publish(takeoff_msg)\n",
    "        time.sleep(seconds_taking_off)\n",
    "        print \"Taking-Off sequence completed\"\n",
    "        \n",
    "\n",
    "    def improved_distance_reward(self, current_pose):\n",
    "        current_dist = self.calculate_dist_between_two_Points(current_pose.position, self.desired_pose.position)\n",
    "        rospy.loginfo(\"Calculated Distance = \"+str(current_dist))\n",
    "        \n",
    "        if current_dist < self.best_dist:\n",
    "            reward = 100\n",
    "            self.best_dist = current_dist\n",
    "        elif current_dist == self.best_dist:\n",
    "            reward = 0\n",
    "        else:\n",
    "            reward = -100\n",
    "            print \"Made Distance bigger= \"+str(self.best_dist)\n",
    "        \n",
    "        return reward\n",
    "        \n",
    "    def process_data(self, data_position, data_imu):\n",
    "\n",
    "        max_altitude = 2.0\n",
    "        done = False\n",
    "        max_incl = 0.7\n",
    "\n",
    "        euler = tf.transformations.euler_from_quaternion([data_imu.orientation.x,data_imu.orientation.y,data_imu.orientation.z,data_imu.orientation.w])\n",
    "        roll = euler[0]\n",
    "        pitch = euler[1]\n",
    "        yaw = euler[2]\n",
    "\n",
    "        pitch_bad = not(-max_incl < pitch < max_incl)\n",
    "        roll_bad = not(-max_incl < roll < max_incl)\n",
    "        altitude_bad = data_position.position.z > max_altitude\n",
    "\n",
    "        if altitude_bad or pitch_bad or roll_bad:\n",
    "            print (\"(TOO_HIGH,TOO MUCH PITCH, TOO MUCH ROLL) >>> (\"+str(altitude_bad)+\",\"+str(pitch_bad)+\",\"+str(roll_bad)+\")\")\n",
    "            done = True\n",
    "            reward = -200\n",
    "        else:\n",
    "            reward = self.improved_distance_reward(data_position)\n",
    "\n",
    "        return reward,done\n",
    "\n",
    "    def _seed(self, seed=None):\n",
    "        self.np_random, seed = seeding.np_random(seed)\n",
    "        return [seed]\n",
    "\n",
    "    def _step(self, action):\n",
    "\n",
    "        rospy.wait_for_service('/gazebo/unpause_physics')\n",
    "        try:\n",
    "            self.unpause()\n",
    "        except rospy.ServiceException, e:\n",
    "            print (\"/gazebo/unpause_physics service call failed\")\n",
    "\n",
    "        speed_value = 1.0\n",
    "        if action == 0: #FORWARD\n",
    "            vel_cmd = Twist()\n",
    "            vel_cmd.linear.x = speed_value\n",
    "            vel_cmd.angular.z = 0.0\n",
    "            self.vel_pub.publish(vel_cmd)\n",
    "        elif action == 1: #LEFT\n",
    "            vel_cmd = Twist()\n",
    "            vel_cmd.linear.x = 0.05\n",
    "            vel_cmd.angular.z = speed_value\n",
    "            self.vel_pub.publish(vel_cmd)\n",
    "        elif action == 2: #RIGHT\n",
    "            vel_cmd = Twist()\n",
    "            vel_cmd.linear.x = 0.05\n",
    "            vel_cmd.angular.z = -speed_value\n",
    "            self.vel_pub.publish(vel_cmd)\n",
    "        elif action == 3: #Up\n",
    "            vel_cmd = Twist()\n",
    "            vel_cmd.linear.z = speed_value\n",
    "            vel_cmd.angular.z = 0.0\n",
    "            self.vel_pub.publish(vel_cmd)\n",
    "        elif action == 4: #Down\n",
    "            vel_cmd = Twist()\n",
    "            vel_cmd.linear.z = -speed_value\n",
    "            vel_cmd.angular.z = 0.0\n",
    "            self.vel_pub.publish(vel_cmd)\n",
    "\n",
    "        data_pose = None\n",
    "        while data_pose is None:\n",
    "            try:\n",
    "                data_pose = rospy.wait_for_message('/drone/gt_pose', Pose, timeout=5)\n",
    "            except:\n",
    "                pass\n",
    "\n",
    "        data_imu = None\n",
    "        while data_imu is None:\n",
    "            try:\n",
    "                data_imu = rospy.wait_for_message('/drone/imu', Imu, timeout=5)\n",
    "            except:\n",
    "                pass\n",
    "\n",
    "        \n",
    "        rospy.wait_for_service('/gazebo/pause_physics')\n",
    "        try:\n",
    "            self.pause()\n",
    "        except rospy.ServiceException, e:\n",
    "            print (\"/gazebo/pause_physics service call failed\")\n",
    "\n",
    "\n",
    "        reward,done = self.process_data(data_pose, data_imu)\n",
    "\n",
    "        # Promote going forwards instead of turning\n",
    "        if action == 0:\n",
    "            reward += 100\n",
    "        elif action == 1 or action == 2:\n",
    "            reward -= 50\n",
    "        elif action == 3:\n",
    "            reward -= 150\n",
    "        else:\n",
    "            reward -= 50\n",
    "\n",
    "        state = [data_pose.position.x]\n",
    "        return state, reward, done, {}\n",
    "\n",
    "    def _reset(self):\n",
    "\n",
    "        # Resets the state of the environment and returns an initial observation.\n",
    "        rospy.wait_for_service('/gazebo/reset_simulation')\n",
    "        try:\n",
    "            #reset_proxy.call()\n",
    "            self.reset_proxy()\n",
    "        except rospy.ServiceException, e:\n",
    "            print (\"/gazebo/reset_simulation service call failed\")\n",
    "\n",
    "        # Unpauses simulation to make observation\n",
    "        rospy.wait_for_service('/gazebo/unpause_physics')\n",
    "        try:\n",
    "            #resp_pause = pause.call()\n",
    "            self.unpause()\n",
    "        except rospy.ServiceException, e:\n",
    "            print (\"/gazebo/unpause_physics service call failed\")\n",
    "\n",
    "        self.check_topic_publishers_connection()\n",
    "        self.init_desired_pose()\n",
    "        self.takeoff_sequence()\n",
    "\n",
    "        data_pose = None\n",
    "        while data_pose is None:\n",
    "            try:\n",
    "                data_pose = rospy.wait_for_message('/drone/gt_pose', Pose, timeout=5)\n",
    "            except:\n",
    "                rospy.loginfo(\"/drone/gt_pose topic not ready\")\n",
    "                pass\n",
    "\n",
    "        \n",
    "        data_imu = None\n",
    "        while data_imu is None:\n",
    "            try:\n",
    "                data_imu = rospy.wait_for_message('/drone/imu', Imu, timeout=5)\n",
    "            except:\n",
    "                rospy.loginfo(\"/ardrone/imu topic not ready\")\n",
    "                pass\n",
    "\n",
    "        rospy.wait_for_service('/gazebo/pause_physics')\n",
    "        try:\n",
    "            #resp_pause = pause.call()\n",
    "            self.pause()\n",
    "        except rospy.ServiceException, e:\n",
    "            print (\"/gazebo/pause_physics service call failed\")\n",
    "\n",
    "        state = [data_pose.position.x]\n",
    "\n",
    "        return state\n"
   ]
  },
  {
   "cell_type": "markdown",
   "metadata": {},
   "source": [
    "<p style=\"background:green;color:white;\">**gazebo_quadcopter.py**</p>"
   ]
  },
  {
   "cell_type": "markdown",
   "metadata": {},
   "source": [
    "As explained in Chapter 2, the **QuadCopterEnv (gazebo_env.GazeboEnv)** has the same main methods that the turtlebot simulation environment had. The only differences are the sensors used, the observations returned, and the way the rewards and finished criteria are handled."
   ]
  },
  {
   "cell_type": "markdown",
   "metadata": {},
   "source": [
    "## Use the Environment just created to learn"
   ]
  },
  {
   "cell_type": "markdown",
   "metadata": {},
   "source": [
    "Execute the following command to see how this works"
   ]
  },
  {
   "cell_type": "markdown",
   "metadata": {},
   "source": [
    "<table style=\"float:left;background: #407EAF\">\n",
    "<tr>\n",
    "<th>\n",
    "<p class=\"transparent\">Execute in WebShell #1</p>\n",
    "</th>\n",
    "</tr>\n",
    "</table>"
   ]
  },
  {
   "cell_type": "code",
   "execution_count": null,
   "metadata": {
    "collapsed": true
   },
   "outputs": [],
   "source": [
    "rosrun gym_construct simple_qlearn_quadcopter.py"
   ]
  },
  {
   "cell_type": "markdown",
   "metadata": {},
   "source": [
    "<p style=\"background:green;color:white;\">**gazebo_quadcopter.py**</p>"
   ]
  },
  {
   "cell_type": "code",
   "execution_count": null,
   "metadata": {
    "collapsed": true
   },
   "outputs": [],
   "source": [
    "#!/usr/bin/env python\n",
    "import gym\n",
    "import gym_gazebo\n",
    "import time\n",
    "import numpy\n",
    "import random\n",
    "import time\n",
    "import matplotlib\n",
    "import matplotlib.pyplot as plt\n",
    "import qlearn\n",
    "# import liveplot\n",
    "from gym import wrappers\n",
    "from liveplot import LivePlot \n",
    "\n",
    "def render():\n",
    "    render_skip = 0 #Skip first X episodes.\n",
    "    render_interval = 50 #Show render of each Y episode.\n",
    "    render_episodes = 10 #Show Z episodes every rendering.\n",
    "\n",
    "    if (x%render_interval == 0) and (x != 0) and (x > render_skip):\n",
    "        env.render()\n",
    "    elif ((x-render_episodes)%render_interval == 0) and (x != 0) and (x > render_skip) and (render_episodes < x):\n",
    "        env.render(close=True)\n",
    "\n",
    "if __name__ == '__main__':\n",
    "\n",
    "    env = gym.make('QuadCopter-v0')\n",
    "    print \"Gym Makde done\"\n",
    "    outdir = '/tmp/gazebo_gym_experiments'\n",
    "    env = wrappers.Monitor(env, outdir, force=True)          # use this to avoid warnings\n",
    "    print \"Monitor Wrapper started\"\n",
    "    last_time_steps = numpy.ndarray(0)\n",
    "\n",
    "    qlearn = qlearn.QLearn(actions=range(env.action_space.n),\n",
    "                    alpha=0.1, gamma=0.8, epsilon=0.9)\n",
    "\n",
    "    initial_epsilon = qlearn.epsilon\n",
    "\n",
    "    epsilon_discount = 0.999 # 1098 eps to reach 0.1\n",
    "\n",
    "    start_time = time.time()\n",
    "    total_episodes = 3\n",
    "    highest_reward = 0\n",
    "\n",
    "    for x in range(total_episodes):\n",
    "        #done = False\n",
    "\n",
    "        cumulated_reward = 0 #Should going forward give more reward then L/R ?\n",
    "        print (\"Episode = \"+str(x))\n",
    "        observation = env.reset()\n",
    "        done = False\n",
    "        if qlearn.epsilon > 0.05:\n",
    "            qlearn.epsilon *= epsilon_discount\n",
    "\n",
    "        env.render()\n",
    "        print \"START EPISODE OBS>>>>\"+str(observation)+\"<<<<\"\n",
    "        print type(observation)\n",
    "        state = ''.join(map(str, observation))\n",
    "        \n",
    "        max_range = 1000\n",
    "        for i in range(max_range):\n",
    "\n",
    "            # Pick an action based on the current state\n",
    "            action = qlearn.chooseAction(state)\n",
    "            #print (\"Action Chosen\"+str(action))\n",
    "            # Execute the action and get feedback\n",
    "            observation, reward, done, info = env.step(action)\n",
    "            cumulated_reward += reward\n",
    "            #print (\"Reward=\"+str(reward))\n",
    "            if highest_reward < cumulated_reward:\n",
    "                highest_reward = cumulated_reward\n",
    "\n",
    "            print \"Step \"+str(i)+\" OBS>>>>\"+str(observation)+\"<<<<\"\n",
    "            print type(observation)\n",
    "            nextState = ''.join(map(str, observation))\n",
    "\n",
    "            qlearn.learn(state, action, reward, nextState)\n",
    "\n",
    "            #env.monitor.flush(force=True)\n",
    "\n",
    "            if not(done):\n",
    "                #print \"NOT done\"\n",
    "                state = nextState\n",
    "                if i >= max_range:\n",
    "                    done = True\n",
    "                    break \n",
    "            else:\n",
    "                print \"DONE\"\n",
    "                last_time_steps = numpy.append(last_time_steps, [int(i + 1)])\n",
    "                break \n",
    "\n",
    "        m, s = divmod(int(time.time() - start_time), 60)\n",
    "        h, m = divmod(m, 60)\n",
    "        print (\"EP: \"+str(x+1)+\" - [alpha: \"+str(round(qlearn.alpha,2))+\" - gamma: \"+str(round(qlearn.gamma,2))+\" - epsilon: \"+str(round(qlearn.epsilon,2))+\"] - Reward: \"+str(cumulated_reward)+\"     Time: %d:%02d:%02d\" % (h, m, s))\n",
    "\n",
    "    #Github table content\n",
    "    print (\"\\n|\"+str(total_episodes)+\"|\"+str(qlearn.alpha)+\"|\"+str(qlearn.gamma)+\"|\"+str(initial_epsilon)+\"*\"+str(epsilon_discount)+\"|\"+str(highest_reward)+\"| PICTURE |\")\n",
    "\n",
    "    l = last_time_steps.tolist()\n",
    "    l.sort()\n",
    "\n",
    "    #print(\"Parameters: a=\"+str)\n",
    "    print(\"Overall score: {:0.2f}\".format(last_time_steps.mean()))\n",
    "    print(\"Best 100 score: {:0.2f}\".format(reduce(lambda x, y: x + y, l[-100:]) / len(l[-100:])))\n",
    "\n",
    "    #env.monitor.close()\n",
    "    #env.close()\n"
   ]
  },
  {
   "cell_type": "markdown",
   "metadata": {},
   "source": [
    "<p style=\"background:green;color:white;\">**gazebo_quadcopter.py**</p>"
   ]
  },
  {
   "cell_type": "markdown",
   "metadata": {},
   "source": [
    "<p style=\"background:#EE9023;color:white;\">**Exercise 4.2**</p>"
   ]
  },
  {
   "cell_type": "markdown",
   "metadata": {},
   "source": [
    "* Create your own learning script that uses your own version of QuadCopter-v1. Where should you create it? In your own workspace **catkin_ws/src**, for instance.\n",
    "\n",
    "* Base it on the prior one, if you wish. Try to use other sensors, other rewards, and other criteria to state that the learning episode has finished.\n",
    "\n",
    "\n",
    "* Change the rewards and see how the emerging behaviour changes.\n",
    "\n",
    "\n",
    "* Why not use the cameras? If you feel adventurous, you could try to base the learning on images."
   ]
  },
  {
   "cell_type": "markdown",
   "metadata": {},
   "source": [
    "<p style=\"background:#EE9023;color:white;\">**END of Exercise 4.2**</p>"
   ]
  }
 ],
 "metadata": {
  "anaconda-cloud": {},
  "kernelspec": {
   "display_name": "Python 3",
   "language": "python",
   "name": "python3"
  },
  "language_info": {
   "codemirror_mode": {
    "name": "ipython",
    "version": 3
   },
   "file_extension": ".py",
   "mimetype": "text/x-python",
   "name": "python",
   "nbconvert_exporter": "python",
   "pygments_lexer": "ipython3",
   "version": "3.6.1"
  }
 },
 "nbformat": 4,
 "nbformat_minor": 1
}
