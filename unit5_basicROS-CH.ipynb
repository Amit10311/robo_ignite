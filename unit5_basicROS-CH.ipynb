{
 "cells": [
  {
   "cell_type": "markdown",
   "metadata": {},
   "source": [
    "<h1><font class='ign_color'>ROS IN A SINGLE WEEK</font></h1>"
   ]
  },
  {
   "cell_type": "markdown",
   "metadata": {},
   "source": [
    "# 单元 5: Debugging Tools （调试工具）"
   ]
  },
  {
   "cell_type": "markdown",
   "metadata": {},
   "source": [
    "<table style=\"width:100%\">\n",
    "  <tr>\n",
    "    <th>预计完成时间: 1'5 小时<br><br>你将在这个单元学到什么？\n",
    "<ul>\n",
    "  <li>ROS如何帮助你调试</li>\n",
    "  <li>添加ROS调试记录</li>\n",
    "  <li>过滤ROS记录</li>\n",
    "  <li>记录和回放传感器数据</li>\n",
    "  <li>标出Topic数据</li>\n",
    "  <li>绘制系统中不同节点之间的连接</li>\n",
    "  <li>RViz的基本使用</li>\n",
    "</ul></th>\n",
    "    <th><img src=\"img/iri_wam.jpg\" width=\"239\" height=\"238\" /></th> \n",
    "  </tr>\n",
    "</table>"
   ]
  },
  {
   "cell_type": "markdown",
   "metadata": {},
   "source": [
    "机器人技术中最难的也是最重要的部分是:知道如何把你的想法和所学知识运用到真正的项目中去。永远记住，在机器人技术项目中: 没有什么是如同理论一样运作的。现实中复杂得多，因此你需要工具来了解正在发生什么，并找出问题所在。\n",
    "这就是为什么调试和可视化工具对机器人技术来说至关重要，特别是在使用复杂数据格式时（比如：<i>images图像, lasers-scans激光扫描, pointclouds点云 或 kinematic data运动数据）。如 <a href=\"#fig-5.i\">{图-5.i}</a> 和 <a href=\"#fig-5.ii\">{图-5.ii}</a>示例<i>。"
   ]
  },
  {
   "cell_type": "markdown",
   "metadata": {},
   "source": [
    "<figure>\n",
    "    <img id=\"fig-5.i\" src=\"img/rviz_example1.jpg\"></img>\n",
    "    <center> <figcaption>图.5.i - Atlas Laser（阿特拉斯激光）</figcaption></center>\n",
    "</figure>\n",
    "    \n",
    "<figure>\n",
    "    <img id=\"fig-5.ii\" src=\"img/rviz_example2.jpg\"></img>\n",
    "    <center> <figcaption>图.5.ii - PR2 Laser 和 PointCloud</figcaption></center>\n",
    "</figure>"
   ]
  },
  {
   "cell_type": "markdown",
   "metadata": {},
   "source": [
    "所以在这里，你将看到最重要的工具，用于调试你的代码和可视化机器人系统中真正在发生的事情。"
   ]
  },
  {
   "cell_type": "markdown",
   "metadata": {},
   "source": [
    "### ROS What The F*ck!"
   ]
  },
  {
   "cell_type": "markdown",
   "metadata": {},
   "source": [
    "标题似乎在开玩笑，但并不是哈哈！ 当你真的完全不知道从哪开始解决问题时候<b><i>Roswtf</i></b> 简直是照亮生命的好工具。"
   ]
  },
  {
   "cell_type": "markdown",
   "metadata": {},
   "source": [
    "<table style=\"float:left;\">\n",
    "<tr>\n",
    "<th>\n",
    "到WebShell中输入以下指令:<br>\n",
    "</th>\n",
    "</tr>\n",
    "</table>"
   ]
  },
  {
   "cell_type": "markdown",
   "metadata": {},
   "source": [
    "<table style=\"float:left;background: #407EAF\">\n",
    "<tr>\n",
    "<th>\n",
    "<p style=\"background: #FFFFFF\">在 WebShell #1中执行</p><br>\n",
    "roswtf<br>\n",
    "</th>\n",
    "</tr>\n",
    "</table>"
   ]
  },
  {
   "cell_type": "markdown",
   "metadata": {},
   "source": [
    "<table id=\"webshell-out-5.1\" style=\"float:left;background: #FFFFFF\">\n",
    "<tr>\n",
    "<th>\n",
    "<p style=\"background: #407EAF\">WebShell #1 输出</p><br>\n",
    "user ~ $ roswtf<br>\n",
    "the rosdep view is empty: call 'sudo rosdep init' and 'rosdep update'<br>\n",
    "No package or stack in context<br>\n",
    "================================================================================<br>\n",
    "Static checks summary:<br>\n",
    "<br>\n",
    "Found 1 error(s).<br>\n",
    "<br>\n",
    "ERROR ROS Dep数据库未初始化: 请使用sudo rosdep init初始化rosdep数据库。<br>\n",
    "================================================================================<br>\n",
    "开始测试你的ROS图。这可能需要一些时间...<br>\n",
    "analyzing graph...<br>\n",
    "... done analyzing graph<br>\n",
    "running graph rules...<br>\n",
    "... done running graph rules<br>\n",
    "<br>\n",
    "在线检查摘要:<br>\n",
    "<br>\n",
    "找到2条警告。<br>\n",
    "警告有时候可能是好的，但有时候也许是出错了<br>\n",
    "<br>\n",
    "警告 以下节点订阅未连接:<br>\n",
    " * /gazebo:<br>\n",
    "   * /gazebo/set_model_state<br>\n",
    "   * /gazebo/set_link_state<br>\n",
    "   * /iri_wam/iri_wam_controller/follow_joint_trajectory/cancel<br>\n",
    "   * /iri_wam/iri_wam_controller/follow_joint_trajectory/goal<br>\n",
    "   * /iri_wam/e_stop<br>\n",
    "   * /iri_wam/iri_wam_controller/command<br>\n",
    "<br>\n",
    "警告 这些节点已死亡:<br>\n",
    " * urdf_spawner-4<br>\n",
    "</th>\n",
    "</tr>\n",
    "</table>"
   ]
  },
  {
   "cell_type": "markdown",
   "metadata": {},
   "source": [
    "在这种特殊情况下，它会告诉你<a href=\"#webshell-out-5.1\">{webshell-out-5.1}</a>那个<i>rosdep</i>包尚未初始化。这种情况无大碍，因为你在使用中的系统不用安装任何东西。但这让我们有个疑问: <b><i>roswtf</i> 是什么呢?</b>"
   ]
  },
  {
   "cell_type": "markdown",
   "metadata": {},
   "source": [
    "默认情况下，它检查 <b>t两个</b> ROS字段:\n",
    "<ul>\n",
    "    <li>\n",
    "      <b>File-system问题:</b> 它检查环境变量，包和启动文件等等。它查看任何有可能出错的不一致性（数据）。如果你单独使用 <i>roswtf</i>指令，它将只给你系统的总体状态。但你也可以先使用它来检查特定 <i>launch files（启动文件）</i> ，然后再使用它们。\n",
    "    </li>\n",
    "</ul>"
   ]
  },
  {
   "cell_type": "markdown",
   "metadata": {},
   "source": [
    "<table style=\"float:left;\">\n",
    "<tr>\n",
    "<th>\n",
    "到WebShell中并输入以下指令:<br>\n",
    "</th>\n",
    "</tr>\n",
    "</table>\n",
    "\n"
   ]
  },
  {
   "cell_type": "markdown",
   "metadata": {},
   "source": [
    "<table style=\"float:left;background: #407EAF\">\n",
    "<tr>\n",
    "<th>\n",
    "<p style=\"background: #FFFFFF\">在 WebShell #1中执行</p><br>\n",
    "roslaunch iri_wam_aff_demo false_start_demo.launch<br>\n",
    "</th>\n",
    "</tr>\n",
    "</table>"
   ]
  },
  {
   "cell_type": "markdown",
   "metadata": {},
   "source": [
    "<table id=\"webshell-out-5.1\" style=\"float:left;background: #FFFFFF\">\n",
    "<tr>\n",
    "<th>\n",
    "<p style=\"background: #407EAF\">WebShell #1 输出</p><br>\n",
    "user ~ $ roslaunch iri_wam_aff_demo false_start_demo.launch<br>\n",
    "... logging to /home/user/.ros/log/fd58c97c-9068-11e6-9889-02c6d37ebbf9/roslaunch-ip-172-31-20-234-12087.log<br>\n",
    "检查记录目录以查看磁盘使用情况。这可能需要一些时间。<br>\n",
    "按 Ctrl-C 以中断<br>\n",
    "完成检查磁盘使用情况的记录文件。空间为 <1GB.<br>\n",
    "<br>\n",
    "启动了 roslaunch 服务器 http://ip-172-31-20-234:38217/<br>\n",
    "<br>\n",
    "概要<br>\n",
    "========<br>\n",
    "<br>\n",
    "PARAMETERS<br>\n",
    " * /rosdistro: indigo<br>\n",
    " * /rosversion: 1.11.20<br>\n",
    "<br>\n",
    "NODES<br>\n",
    "  /<br>\n",
    "    iri_wam_aff_demo (iri_wam_reproduce_trajectory/iri_wam_aff_demo_node)<br>\n",
    "    iri_wam_reproduce_trajectory (iri_wam_reproduce_trajectory/iri_wam_reproduce_trajectory_node)<br>\n",
    "<br>\n",
    "ROS_MASTER_URI=http://localhost:11311<br>\n",
    "<br>\n",
    "core service [/rosout] 找到<br>\n",
    "\n",
    "\n",
    "process[iri_wam_reproduce_trajectory-1]: started with pid [12111]<br>\n",
    "<span style=\"color: red\">\n",
    "错误: 无法启动类型为[iri_wam_reproduce_trajectory/iri_wam_aff_demo_node]的节点: 无法找到节点[iri_wam_aff_demo_node]在 [iri_wam_reproduce_trajectory]包中\n",
    "</span>\n",
    "\n",
    "</th>\n",
    "</tr>\n",
    "</table>"
   ]
  },
  {
   "cell_type": "markdown",
   "metadata": {},
   "source": [
    "有任何线索吗? 它只是告诉你它找不到你的<i>iri_wam_aff_demo_node</i>。现在尝试在你启动文件中的<b>roswtf</b>以获取更多可能是问题所在的信息:"
   ]
  },
  {
   "cell_type": "markdown",
   "metadata": {},
   "source": [
    "<table style=\"float:left;\">\n",
    "<tr>\n",
    "<th>\n",
    "到WebShell中输入以下指令:<br>\n",
    "</th>\n",
    "</tr>\n",
    "</table>"
   ]
  },
  {
   "cell_type": "markdown",
   "metadata": {},
   "source": [
    "<table style=\"float:left;background: #407EAF\">\n",
    "<tr>\n",
    "<th>\n",
    "<p style=\"background: #FFFFFF\">在 WebShell #1中执行</p><br>\n",
    "roscd iri_wam_aff_demo/launch<br>\n",
    "roswtf false_start_demo.launch<br>\n",
    "</th>\n",
    "</tr>\n",
    "</table>"
   ]
  },
  {
   "cell_type": "markdown",
   "metadata": {},
   "source": [
    "<table id=\"webshell-out-5.1\" style=\"float:left;background: #FFFFFF\">\n",
    "<tr>\n",
    "<th>\n",
    "<p style=\"background: #407EAF\">WebShell #1 Output</p><br>\n",
    "user launch $ roswtf false_start_demo.launch<br>\n",
    "rosdep视图是空的: 调用 'sudo rosdep init' 和 'rosdep update'<br>\n",
    "[rospack] Error: the rosdep view is empty: call 'sudo rosdep init' and 'rosdep update'<br>\n",
    "================================================================================<br>\n",
    "静态检查概要:<br>\n",
    "<br>\n",
    "找到2个错误。<br>\n",
    "<br>\n",
    "错误 ROS Dep 数据库未初始化: 请使用sudo rosdep init初始化rosdep数据库。<br>\n",
    "<span style=\"color: red\">\n",
    "错误 无法在你的启动文件中找到一些节点。键入不正确或是需要构建:<br>\n",
    " * 节点 [iri_wam_aff_demo_node] 在 [iri_wam_reproduce_trajectory] 包中\n",
    "</span> \n",
    "<br>\n",
    "================================================================================<br>\n",
    "</th>\n",
    "</tr>\n",
    "</table>"
   ]
  },
  {
   "cell_type": "markdown",
   "metadata": {},
   "source": [
    "要使 <i>roswtf yourlaunchfile.launch</i> 工作，你需要去到文件路径所在处。这就是为什么你必须使用 <i>roscd</i>指令。<br>\n",
    "在这个情况中，它告知你它找不到 <i>iri_wam_aff_demo_node</i>。该情况是因为它是一个二进制，可能是你没有编译它或有拼写错误。基本上它是在告诉你在 <i>iri_wam_reproduce_trajectory</i>包中该节点不存在。<br>"
   ]
  },
  {
   "cell_type": "markdown",
   "metadata": {},
   "source": [
    "<ul>\n",
    "    <li><b>在线/图 问题:</b> Roswtf 也检查任何在节点，topics，actions等等连接中的不一致性。它会警告你是否有某些东西没有连接，或有些无需连接的地方反而连接了。 <b>这些警告不一定是提示你有错误</b>，只是ROS发现一些怪异的地方，它想让你知道这是一个错误的或只是由于你项目的连接方式有问题而已。</li>\n",
    "</ul>"
   ]
  },
  {
   "cell_type": "markdown",
   "metadata": {},
   "source": [
    "<table style=\"float:left;\">\n",
    "<tr>\n",
    "<th>\n",
    "到WebShell输入以下命令:<br>\n",
    "</th>\n",
    "</tr>\n",
    "</table>"
   ]
  },
  {
   "cell_type": "markdown",
   "metadata": {},
   "source": [
    "<table style=\"float:left;background: #407EAF\">\n",
    "<tr>\n",
    "<th>\n",
    "<p style=\"background: #FFFFFF\">在 WebShell #1中执行</p><br>\n",
    "roswtf<br>\n",
    "</th>\n",
    "</tr>\n",
    "</table>"
   ]
  },
  {
   "cell_type": "markdown",
   "metadata": {},
   "source": [
    "<table id=\"webshell-out-5.1\" style=\"float:left;background: #FFFFFF\">\n",
    "<tr>\n",
    "<th>\n",
    "<p style=\"background: #407EAF\">WebShell #1 输出</p><br>\n",
    "user ~ $ roswtf<br>\n",
    "the rosdep view is empty: call 'sudo rosdep init' and 'rosdep update'<br>\n",
    "No package or stack in context<br>\n",
    "================================================================================<br>\n",
    "静态检查概要:<br>\n",
    "<br>\n",
    "找到1个错误。<br>\n",
    "<br>\n",
    "错误 ROS Dep 数据库未初始化: 请通过sudo rosdep init来初始化rosdep数据库。<br>\n",
    "================================================================================<br>\n",
    "ROS graph. These may take awhile...<br>\n",
    "analyzing graph...<br>\n",
    "... done analyzing graph<br>\n",
    "running graph rules...<br>\n",
    "... done running graph rules<br>\n",
    "<br>\n",
    "在线检查概要:<br>\n",
    "<br>\n",
    "\n",
    "<span style=\"color: blue\">\n",
    "找到2个警告。<br>\n",
    "警告有时候可能是好的，但有时候也许是出错了<br>\n",
    "<br>\n",
    "警告 以下节点订阅未连接:<br>\n",
    " * /gazebo:<br>\n",
    "   * /gazebo/set_model_state<br>\n",
    "   * /gazebo/set_link_state<br>\n",
    "   * /iri_wam/iri_wam_controller/follow_joint_trajectory/cancel<br>\n",
    "   * /iri_wam/iri_wam_controller/follow_joint_trajectory/goal<br>\n",
    "   * /iri_wam/e_stop<br>\n",
    "   * /iri_wam/iri_wam_controller/command<br>\n",
    "<br>\n",
    "警告 这些节点已死亡:<br>\n",
    " * urdf_spawner-4<br>\n",
    " </span>\n",
    "</th>\n",
    "</tr>\n",
    "</table>"
   ]
  },
  {
   "cell_type": "markdown",
   "metadata": {},
   "source": [
    "你在一开始执行该命令，但你没有注意到下面的警告。这些警告是 <i>Graph issues（图形的问题）</i>。\n",
    "<ul>\n",
    "    <li>它指出有些订阅器没有连接到它们需要连接的topics: 这相当正常，因为它们它们可能是节点，只能在一开始或某些时刻连接。这里没有错误。</li>\n",
    "    <li>此处有一个连接到了通常无需连接的地方T: 这种情况更多的是看你正在如何使用系统。这里也没有错误。</li>\n",
    "    <li>第三个警告指出有一个节点死亡了: 这也是相当正常的，因为在此情况中的节点只在它们产生对象时运行，在完成使用后死亡。但ROS只是友好的提示你，以防如果它不该这样做的话。</li>\n",
    "</ul>\n"
   ]
  },
  {
   "cell_type": "markdown",
   "metadata": {},
   "source": [
    "### Ros Debugging Messages 和 Rqt-Console"
   ]
  },
  {
   "cell_type": "markdown",
   "metadata": {},
   "source": [
    "在本课程中你需要使用 <i>print()</i> 来显示你的程序执行情况的信息。 <b>Prints（显示）</b> 如同 <i>星球大战中的Dark Side of the Force（黑暗势力）</i>，所以你现在需要以 <i>Jedi（绝地）</i>的方式来做事情了。\n",
    "<b>LOGS（记录）</b> 是允许你只显示你每刻所需要的，而不必从代码中删除它们。<br>\n",
    "在记录系统中总是有层级的，如 <a href=\"#fig-5.1\">{图-5.1}</a>所示。在ROS记录中有<b>五个</b>层级。每个级别包括更深的层级。比如你在使用<b>Error（错误）</b>级别时，所有<b>Error（错误）</b>和<b>Fatal（致命）</b>的信息将会显示。如果你的级别是<b>Warning（警告）</b>，吗，那么所有<b>Warning</b>, <b>Error</b> 和 <b>Fatal</b>级别的信息将会显示。 "
   ]
  },
  {
   "cell_type": "markdown",
   "metadata": {},
   "source": [
    "<table style=\"width:100%\">\n",
    "  <tr>\n",
    "    <th>\n",
    "    <figure>\n",
    "        <img id=\"fig-5.1\" src=\"img/log_level.png\"></img>\n",
    "        <center> <figcaption>图.5.1 - LOG Levels（记录层级）</figcaption></center>\n",
    "    </figure>\n",
    "    </th>\n",
    "    <th>\n",
    "    Python模块<i>rospy</i> 被用于访问python中的功能。<br>\n",
    "    \n",
    "    DEBUG ==> rospy.logdebug(msg, *args)<br>\n",
    "    INFO ==> rospy.loginfo(msg, *args)<br>\n",
    "    WARNING ==> rospy.logwarn(msg, *args)<br>\n",
    "    ERROR ==> rospy.logerr(msg, *args)<br>\n",
    "    FATAL ==> rospy.logfatal(msg, *args)<br>\n",
    "    </th> \n",
    "  </tr>\n",
    "</table>\n",
    "\n"
   ]
  },
  {
   "cell_type": "markdown",
   "metadata": {},
   "source": [
    "<table style=\"float:left;\">\n",
    "<tr>\n",
    "<th>\n",
    "运行以下Python代码:<br>\n",
    "</th>\n",
    "</tr>\n",
    "</table>"
   ]
  },
  {
   "cell_type": "markdown",
   "metadata": {},
   "source": [
    "<table style=\"float:left;\">\n",
    "<tr>\n",
    "<th>\n",
    "<p style=\"background:#407EAF;color:white;\">例子 5.1</p><br>\n",
    "执行以下Python代码 <a href=\"#example-5.1\">logger_example.py</a> （点击），然后点击IPython notebook右上角的运行按钮。<br> \n",
    "<img src=\"img/font-awesome_step-forward.png\" style=\"float:left\"/><br>\n",
    "<br><br>\n",
    "你也可以按 <i>[CTRL]+[Enter]</i> 来执行它。<br>\n",
    "<br>\n",
    "</th>\n",
    "</tr>\n",
    "</table>"
   ]
  },
  {
   "cell_type": "markdown",
   "metadata": {},
   "source": [
    "<p style=\"background:#3B8F10;color:white;\" id=\"example-5.1\">Python Program {5.1}:  logger_example.py </p><br>"
   ]
  },
  {
   "cell_type": "code",
   "execution_count": 2,
   "metadata": {
    "collapsed": false
   },
   "outputs": [
    {
     "ename": "ImportError",
     "evalue": "No module named rospy",
     "output_type": "error",
     "traceback": [
      "\u001b[0;31m---------------------------------------------------------------------------\u001b[0m",
      "\u001b[0;31mImportError\u001b[0m                               Traceback (most recent call last)",
      "\u001b[0;32m<ipython-input-2-90e6bdc69a93>\u001b[0m in \u001b[0;36m<module>\u001b[0;34m()\u001b[0m\n\u001b[1;32m      1\u001b[0m \u001b[0;31m#! /usr/bin/env python\u001b[0m\u001b[0;34m\u001b[0m\u001b[0;34m\u001b[0m\u001b[0m\n\u001b[1;32m      2\u001b[0m \u001b[0;34m\u001b[0m\u001b[0m\n\u001b[0;32m----> 3\u001b[0;31m \u001b[0;32mimport\u001b[0m \u001b[0mrospy\u001b[0m\u001b[0;34m\u001b[0m\u001b[0m\n\u001b[0m\u001b[1;32m      4\u001b[0m \u001b[0;32mimport\u001b[0m \u001b[0mrandom\u001b[0m\u001b[0;34m\u001b[0m\u001b[0m\n\u001b[1;32m      5\u001b[0m \u001b[0;32mimport\u001b[0m \u001b[0mtime\u001b[0m\u001b[0;34m\u001b[0m\u001b[0m\n",
      "\u001b[0;31mImportError\u001b[0m: No module named rospy"
     ]
    }
   ],
   "source": [
    "#! /usr/bin/env python\n",
    "\n",
    "import rospy\n",
    "import random\n",
    "import time\n",
    "\n",
    "# 选项: DEBUG, INFO, WARN, ERROR, FATAL\n",
    "rospy.init_node('log_demo', log_level=rospy.DEBUG)\n",
    "rate = rospy.Rate(0.5)\n",
    "\n",
    "# 在 Kinetic ROS 中你可以使用定期记录发布（periodic log publication）。这里我们使用Indigo，所有还未能使用定期记录发布。\n",
    "#rospy.loginfo_throttle(120, \"DeathStars Minute info: \"+str(time.time()))\n",
    "\n",
    "while not rospy.is_shutdown():\n",
    "    rospy.logdebug(\"There is a missing droid\")\n",
    "    rospy.loginfo(\"The Emperors Capuchino is done\")\n",
    "    rospy.logwarn(\"The Revels are coming time \"+str(time.time()))\n",
    "    exhaust_number = random.randint(1,100)\n",
    "    port_number = random.randint(1,100)\n",
    "    rospy.logerr(\" The thermal exhaust port %s, right below the main port %s\", exhaust_number, port_number)\n",
    "    rospy.logfatal(\"The DeathStar Is EXPLODING\")\n",
    "    rate.sleep()\n",
    "    rospy.logfatal(\"END\")"
   ]
  },
  {
   "cell_type": "markdown",
   "metadata": {},
   "source": [
    "<p style=\"background:#3B8F10;color:white;\">结束 Python Program {5.1}:  logger_example.py </p><br>"
   ]
  },
  {
   "cell_type": "markdown",
   "metadata": {},
   "source": [
    "通过ROS系统读取所有记录的最佳位置是: <i>/rosout</i>"
   ]
  },
  {
   "cell_type": "markdown",
   "metadata": {},
   "source": [
    "<table style=\"float:left;\">\n",
    "<tr>\n",
    "<th>\n",
    "到WebShell输入以下指令:<br>\n",
    "</th>\n",
    "</tr>\n",
    "</table>"
   ]
  },
  {
   "cell_type": "markdown",
   "metadata": {},
   "source": [
    "<table style=\"float:left;background: #407EAF\">\n",
    "<tr>\n",
    "<th>\n",
    "<p style=\"background: #FFFFFF\">在 WebShell #1中执行</p><br>\n",
    "rostopic echo /rosout<br>\n",
    "</th>\n",
    "</tr>\n",
    "</table>"
   ]
  },
  {
   "cell_type": "markdown",
   "metadata": {},
   "source": [
    "你应该在系统中看到所有当前正在运行中的节点的ROS记录。"
   ]
  },
  {
   "cell_type": "markdown",
   "metadata": {},
   "source": [
    "<table style=\"float:left;\">\n",
    "<tr>\n",
    "<th>\n",
    "<p style=\"background:#EE9023;color:white;\" id=\"ex-5.1\">练习 5.1</p><br>\n",
    "<ol>\n",
    "<li>\n",
    "创建一个包，带有启动（文件）来启动一个用之前代码的python文件<a href=\"#example-5.1\">{logger_example.py}</a>.\n",
    "</li>\n",
    "<li>\n",
    "尝试更改在rospy.init_node中的LOG level（记录层级），然后查看根据所选择的层级，不同messages是如何显示或不显示在n /rosout topic中的。\n",
    "</li>\n",
    "</ol>\n",
    "</th>\n",
    "</tr>\n",
    "</table>"
   ]
  },
  {
   "cell_type": "markdown",
   "metadata": {},
   "source": [
    "如你所见，只有一个节点每2秒发布一次的数据量很大。 现在想象有<b>十个</b>节点，发布图像数据，激光数据，使用actions，services，发布你的DeepLearning节点的调试数据。\n",
    "数据量大到你很难得到你想要的数据。<br>\n",
    "所以 <b>rqt_console</b> 前来救援。"
   ]
  },
  {
   "cell_type": "markdown",
   "metadata": {},
   "source": [
    "<table style=\"float:left;\">\n",
    "<tr>\n",
    "<th>\n",
    "在WebShell #1中输入roslaunch指令以启动<a href=\"#ex-5.1\">练习 5.1</a>启动（文件）。<br> \n",
    "到图形界面窗口 (点击IDE中的那个显示屏图标) <img src=\"img/font-awesome_desktop.png\"/><br>\n",
    "然后在 WebShell #2中输入: <i>rqt_console</i>, 以激活GUI log printer。\n",
    "</th>\n",
    "</tr>\n",
    "</table>"
   ]
  },
  {
   "cell_type": "markdown",
   "metadata": {},
   "source": [
    "<table style=\"float:left;background: #407EAF\">\n",
    "<tr>\n",
    "<th>\n",
    "<p style=\"background: #FFFFFF\">在 WebShell #1中执行</p><br>\n",
    "roslaunch package_exercise_5p1 exercise_5p1.launch <br>\n",
    "</th>\n",
    "</tr>\n",
    "</table>"
   ]
  },
  {
   "cell_type": "markdown",
   "metadata": {},
   "source": [
    "<table style=\"float:left;background: #407EAF\">\n",
    "<tr>\n",
    "<th>\n",
    "<p style=\"background: #FFFFFF\">在 WebShell #2中执行</p><br>\n",
    "rqt_console<br>\n",
    "</th>\n",
    "</tr>\n",
    "</table>"
   ]
  },
  {
   "cell_type": "markdown",
   "metadata": {},
   "source": [
    "当你点击下面这个图标的时候，你将在浏览器中获得一个像<a href=\"#fig-5.2\">{图-5.2}</a>一样的窗口:<img src=\"img/font-awesome_desktop.png\"/> "
   ]
  },
  {
   "cell_type": "markdown",
   "metadata": {},
   "source": [
    "<figure>\n",
    "  <img id=\"fig-5.2\" src=\"img/rqt_console_init.jpg\"></img>\n",
    "   <center> <figcaption>图.5.2 - Rqt Console</figcaption></center>\n",
    "</figure>"
   ]
  },
  {
   "cell_type": "markdown",
   "metadata": {},
   "source": [
    "窗口分为三个小窗口。\n",
    "<ul>\n",
    "    <li>\n",
    "    第一个窗口输出记录日志。它拥有message的数据，severity/level，生成mesage和其它数据的节点。在这里将可以提取所有数据。</li>\n",
    "    <li>\n",
    "    第二个窗口允许你过滤第一个窗口中发出的messages，根据以下标准来排除它们: 节点， severity级别，或包含某个特定字节的message。要添加过滤器只需点击加号“＋”，然后选择所需的过滤器。\n",
    "    </li>\n",
    "    <li>\n",
    "    第三个窗口允许你在显示其它message时突出显示某些messages。\n",
    "    </li>\n",
    "</ul>\n",
    "\n",
    "你还需要知道，点击右上角的白色小齿轮，你可以更改显示messages的数量（尽可能让其保持小一些，以避免对你系统的性能产生影响）。"
   ]
  },
  {
   "cell_type": "markdown",
   "metadata": {},
   "source": [
    "<table style=\"float:left;\">\n",
    "<tr>\n",
    "<th>\n",
    "过滤记录日志，以便看到练习5.1中节点的Warning和Fatal messages\n",
    "</th>\n",
    "</tr>\n",
    "</table>"
   ]
  },
  {
   "cell_type": "markdown",
   "metadata": {},
   "source": [
    "你应该看到类似这样的东西 <a href=\"#fig-5.3\">{图-5.3}</a>:"
   ]
  },
  {
   "cell_type": "markdown",
   "metadata": {},
   "source": [
    "<figure>\n",
    "  <img id=\"fig-5.3\" src=\"img/rqt_console_filter.jpg\"></img>\n",
    "   <center> <figcaption>图.5.3 - Rqt Console Filter</figcaption></center>\n",
    "</figure>"
   ]
  },
  {
   "cell_type": "markdown",
   "metadata": {},
   "source": [
    "### Plot topic data（topic数据图）和  Rqt Plot （Rqt图）"
   ]
  },
  {
   "cell_type": "markdown",
   "metadata": {},
   "source": [
    "在任何数学学科中它们是非常常见的，但在机器人技术中尤为重要。你需要知道你的倾斜是否正确，你的速度是否合适，臂关节扭矩读数是否高于正常值，还是激光出现异常读数。对于所有这些类型的数据，你需要一个图形工具使你能够快速地和实时地了解你正在收到的所有数据。 \n",
    "所以 <b>rqt_plot</b> 在这派上用场了。<br>"
   ]
  },
  {
   "cell_type": "markdown",
   "metadata": {},
   "source": [
    "<font color=\"red\"><b>要继续操作，你需要先停止<a href=\"#ex-5.1\">练习 5.1</a> 在WebShell #1</i></b>中启动的节点</font><br>"
   ]
  },
  {
   "cell_type": "markdown",
   "metadata": {},
   "source": [
    "<table style=\"float:left;\">\n",
    "<tr>\n",
    "<th>\n",
    "<ul>\n",
    "    <li>\n",
    "        到WebShell输入以下命令以开始移动机器人手臂:<br>\n",
    "    </li>\n",
    "    \n",
    "</ul>\n",
    "\n",
    "\n",
    "</th>\n",
    "</tr>\n",
    "</table>"
   ]
  },
  {
   "cell_type": "markdown",
   "metadata": {},
   "source": [
    "<table style=\"float:left;background: #407EAF\">\n",
    "<tr>\n",
    "<th>\n",
    "<p style=\"background: #FFFFFF\">在 WebShell #1中执行</p><br>\n",
    "roslaunch iri_wam_aff_demo start_demo.launch<br>\n",
    "</th>\n",
    "</tr>\n",
    "</table>"
   ]
  },
  {
   "cell_type": "markdown",
   "metadata": {},
   "source": [
    "<table style=\"float:left;\">\n",
    "<tr>\n",
    "<th>\n",
    "<ul>\n",
    "    <li>\n",
    "        到另一个Webshell然后输入以下指令来查看机器人手臂的每个关节位置及力度:<br>\n",
    "    </li>\n",
    "    \n",
    "</ul>\n",
    "\n",
    "\n",
    "</th>\n",
    "</tr>\n",
    "</table>"
   ]
  },
  {
   "cell_type": "markdown",
   "metadata": {},
   "source": [
    "<table style=\"float:left;background: #407EAF\">\n",
    "<tr>\n",
    "<th>\n",
    "<p style=\"background: #FFFFFF\">在 WebShell #2中执行</p><br>\n",
    "rostopic echo /joint_states -n1<br>\n",
    "</th>\n",
    "</tr>\n",
    "</table>"
   ]
  },
  {
   "cell_type": "markdown",
   "metadata": {},
   "source": [
    "你可能发现了，只用数字数组来获知机器人关节发生了什么是相当艰巨的。<br>\n",
    "所以让我们来试试用这个 <b><i>rqt_plot</i></b> 指令以绘制这个数据的数组。 "
   ]
  },
  {
   "cell_type": "markdown",
   "metadata": {},
   "source": [
    "<table style=\"float:left;\">\n",
    "<tr>\n",
    "<th>\n",
    "转到图形界面，然后在终端输入下面的指令以打开rqt_plot GUI:<br>\n",
    "<span style=\"color: red\">记得点击 [CTRL]+[C] 以使<i>rostopic echo</i>停止</span>\n",
    "</th>\n",
    "</tr>\n",
    "</table>"
   ]
  },
  {
   "cell_type": "markdown",
   "metadata": {},
   "source": [
    "<table style=\"float:left;background: #407EAF\">\n",
    "<tr>\n",
    "<th>\n",
    "<p style=\"background: #FFFFFF\">在 WebShell #2中执行</p><br>\n",
    "rqt_plot<br>\n",
    "</th>\n",
    "</tr>\n",
    "</table>"
   ]
  },
  {
   "cell_type": "markdown",
   "metadata": {},
   "source": [
    "你看获得一个类似这样的窗口 <a href=\"#fig-5.4\">{图-5.4}</a>:"
   ]
  },
  {
   "cell_type": "markdown",
   "metadata": {},
   "source": [
    "<figure>\n",
    "  <img id=\"fig-5.4\" src=\"img/rqt_plot_init.jpg\"></img>\n",
    "   <center> <figcaption>图.5.4 - Rqt Plot</figcaption></center>\n",
    "</figure>"
   ]
  },
  {
   "cell_type": "markdown",
   "metadata": {},
   "source": [
    "在 <i>topic</i> 中输入，你需要编写topic的结构以引导到你想要绘制的数据。请记住若要绘制，必须是一个变量类型的数字。一旦你写完，点击<i style=\"color: green\">PLUS SIGN（加号标志）</i> 来开始绘制主题。<br>\n",
    "要遵守的结构如下:<br>\n",
    "<b><i>/topic_name/lvl1_variable/lvl2_var_indside_lvl1/.../variable[number_in_the_array_if_there_is]</i></b><br>\n",
    "在 <i>/joint_states</i> topic的情况中，它需要具有以下结构，你可以通过使用<i>rostopic info </i>类型的topic message，然后使用 <i>rosmsg 显示</i>来自<b>单元2</b>的指令:"
   ]
  },
  {
   "cell_type": "raw",
   "metadata": {},
   "source": [
    "std_msgs/Header header\n",
    "string[] name\n",
    "float64[] position\n",
    "float64[] velocity\n",
    "float64[] effort                                                                                                        "
   ]
  },
  {
   "cell_type": "markdown",
   "metadata": {},
   "source": [
    "你还需知道这两个主要按钮:\n",
    "<ul>\n",
    "    <li><i>Clean button清理按钮</i>: 根据不同ROS版本，其图标也会有所不同。\n",
    "    <img src=\"img/clear_new.png\"/>\n",
    "    <img src=\"img/clear_old.png\"/>\n",
    "    这个按钮非常重要的，因为一旦完成了绘制图形，它不会返回到初始时间，这对在绘制在时间上循环的数据时具有负面效果。 所以在读取新的数据前请先清理。</li>\n",
    "    <li><i>Gear齿轮按钮</i>:\n",
    "    <img src=\"img/gear_rqt_plot.png\"/>\n",
    "    允许你在三个系统之中选择一个来绘制。其中有的更为耗用资源，有的则拥有更好的功能。<br><font color=\"red\"><b> 更改为 QtPlot 来获得更好的性能</b></font><br> </li>\n",
    "</ul>"
   ]
  },
  {
   "cell_type": "markdown",
   "metadata": {},
   "source": [
    "<table style=\"float:left;\">\n",
    "<tr>\n",
    "<th>\n",
    "<p style=\"background:#EE9023;color:white;\" id=\"ex-5.2\">练习 5.2</p><br>\n",
    "<ol>\n",
    "<li>\n",
    "在rqt_plot中绘制由机器人的四个第一关节移动时所做的努力。\n",
    "</li>\n",
    "</ol>\n",
    "提示: /joint_states/position[0] 将用于实时绘制第一关节的位置。\n",
    "</th>\n",
    "</tr>\n",
    "</table>"
   ]
  },
  {
   "cell_type": "markdown",
   "metadata": {},
   "source": [
    "### 节点连接和Rqt图"
   ]
  },
  {
   "cell_type": "markdown",
   "metadata": {},
   "source": [
    "你的节点是否连接到正确的地方？为什么你没有接收到来自topic的数据?\n",
    "因为你可能有过ROS系统的经验，所以有这样的问题很正常。 <b>Rqt_graph</b>可以帮助你更容易弄明白。\n",
    "它显示一个在ROS中运行的节点的可视图和它的topic连接。指出是连接有问题而不是topics是很重要的。"
   ]
  },
  {
   "cell_type": "markdown",
   "metadata": {},
   "source": [
    "<font color=\"red\"><b>要继续操作请先停止 <i>start_demo.launch</i></b></font><br>"
   ]
  },
  {
   "cell_type": "markdown",
   "metadata": {},
   "source": [
    "<table style=\"float:left;\">\n",
    "<tr>\n",
    "<th>\n",
    "转到图形界面，然后在终端输入以下命令以打开rqt_graph GUI:<br>\n",
    "<i>记得在 WebShell #1中有 <span style=\"color:red\">roslaunch iri_wam_aff_demo start_demo.launch<span> </i>\n",
    "</th>\n",
    "</tr>\n",
    "</table>\n"
   ]
  },
  {
   "cell_type": "markdown",
   "metadata": {},
   "source": [
    "<table style=\"float:left;background: #407EAF\">\n",
    "<tr>\n",
    "<th>\n",
    "<p style=\"background: #FFFFFF\">在WebShell #2中执行</p><br>\n",
    "rqt_graph<br>\n",
    "</th>\n",
    "</tr>\n",
    "</table>"
   ]
  },
  {
   "cell_type": "markdown",
   "metadata": {},
   "source": [
    "你将会得到如下图所示的东西:"
   ]
  },
  {
   "cell_type": "markdown",
   "metadata": {},
   "source": [
    "<figure>\n",
    "    <img id=\"fig-5.5\" src=\"img/rqt_graph_init.jpg\"/><br>\n",
    "    <center> <figcaption>图.5.5 - Rqt-Graph Result</figcaption></center>\n",
    "</figure>"
   ]
  },
  {
   "cell_type": "markdown",
   "metadata": {},
   "source": [
    "在图片中<a href=\"#fig-5.5\">{图-5.5}</a> 你会看到当前运行的所有节点，通过它们用于彼此通信的topics连接。其中有两个你需要知道如何使用的重要元素:\n",
    "<ul>\n",
    "    <li>\n",
    "    刷新按钮，每次当你改变了运行系统中的某些东西后都需要点击刷新:\n",
    "    <img src=\"img/refresh_rqt_graph.png\"/>\n",
    "    </li>\n",
    "    <li>\n",
    "    过滤选项: 在刷新按钮旁有三个框。第一个框允许你选择：只要节点（node only)或也要topics(also topics)。第二个框允许你以节点名来进行过滤。 <br>\n",
    "    <img src=\"img/filtering_rqt_graph.png\"/><br>\n",
    "    这里是一个只显示 <i>/gazebo</i> 和 <i>/joint_states_relay</i>的过滤例子 <a href=\"#fig-5.6\">{图-5.6}</a>:\n",
    "    \n",
    "    </li>\n",
    "</ul>\n"
   ]
  },
  {
   "cell_type": "markdown",
   "metadata": {},
   "source": [
    "<figure>\n",
    "    <img id=\"fig-5.6\" src=\"img/rosgraph_init_filter.jpg\"/><br>\n",
    "    <center> <figcaption>图-5.6 - Rqt-Graph Result Filtered /gazebo and /joint_states_relay</figcaption></center>\n",
    "</figure>"
   ]
  },
  {
   "cell_type": "markdown",
   "metadata": {},
   "source": [
    "<table style=\"float:left;\">\n",
    "<tr>\n",
    "<th>\n",
    "<p style=\"background:#EE9023;color:white;\" id=\"ex-5.3\">练习 5.3</p><br>\n",
    "<ol>\n",
    "<li>\n",
    "创建一个可启动简单的Topic发布器和订阅器的包，然后过滤ros_graph输出，仅显示两个节点和你感兴趣的topic。\n",
    "</li>\n",
    "</ol>\n",
    "</th>\n",
    "</tr>\n",
    "</table>"
   ]
  },
  {
   "cell_type": "markdown",
   "metadata": {},
   "source": [
    "你应该得到如下图所示的东西 <a href=\"#fig-5.7\">{图-5.7}</a>:"
   ]
  },
  {
   "cell_type": "markdown",
   "metadata": {},
   "source": [
    "<figure>\n",
    "    <img id=\"fig-5.7\" src=\"img/rqt_graph_simple.jpg\"/><br>\n",
    "    <center> <figcaption>图-5.7 - Rqt-Graph from Exercise 5.7</figcaption></center>\n",
    "</figure>"
   ]
  },
  {
   "cell_type": "markdown",
   "metadata": {},
   "source": [
    "### 实验数据记录和Rosbags"
   ]
  },
  {
   "cell_type": "markdown",
   "metadata": {},
   "source": [
    "在机器人技术中有一个非常常见的状况:<br>\n",
    "你有一个很昂贵的真实机器人，比方说R2-D2，然后你把它放置到一个非常困难的地方，比方说放到死亡之星。你在那执行你的任务然后你回到基地。现在你想要重现在同样的条件下 R2-D2s 算法打开大门。但是你并没有死亡之星也没有R2-D2s，怎样才能得到同样精确的读数来进行你的测试呢？ 嘿，你可以记录它们啊！这也就是 <b>rosbag</b> 在所有生成的ROS topics所做的事情。\n",
    "它记录所有通过ROS topics系统的数据，并允许你通过一个普通文件来随时重现。"
   ]
  },
  {
   "cell_type": "markdown",
   "metadata": {},
   "source": [
    "使用rosbag的命令是:\n",
    "<ul>\n",
    "    <li>\n",
    "    当你想从你想要的Topics中<b>记录</b>数据:<br>\n",
    "    <i>rosbag record -O name_bag_file.bag name_topic_to_record1 name_topic_to_record2 ... name_topic_to_recordN</i>\n",
    "    </li>\n",
    "    <li>\n",
    "    当你想<b>提取</b>关于记录数据的基本消息:<br>\n",
    "    <i>rosbag info name_bag_file.bag</i>\n",
    "    </li>\n",
    "    <li>\n",
    "    当你想<b>重现</b>记录数据:<br>\n",
    "    <i>rosbag play name_bag_file.bag</i>\n",
    "    </li>\n",
    "</ul>"
   ]
  },
  {
   "cell_type": "markdown",
   "metadata": {},
   "source": [
    "<table style=\"float:left;\">\n",
    "<tr>\n",
    "<th>\n",
    "<p style=\"background:#407EAF;color:white;\" id=\"example-5.2\">练习 5.2</p><br>\n",
    "<ol>\n",
    "    <li>\n",
    "        转到WebShell然后输入以下指令，使机器人开始移动（如果你还没使它移动的话）:<br>\n",
    "        <table id=\"example-cmd-1\" style=\"float:left;background: #407EAF\">\n",
    "            <tr>\n",
    "            <th>\n",
    "            <p style=\"background: #FFFFFF\">在 WebShell #1中执行</p><br>\n",
    "            roslaunch iri_wam_aff_demo start_demo.launch<br>\n",
    "            </th>\n",
    "            </tr>\n",
    "        </table>\n",
    "        <br><br><br><br><br><br>\n",
    "    </li>\n",
    "        \n",
    "        <li>\n",
    "            转到另一个WebShell，到你的src目录，轻松访问来自IDE的.bag文件在你需要下载它们的时候。输入以下命令以记录来自/laser_scan的数据:<br>\n",
    "            \n",
    "            \n",
    "            <table id=\"example-cmd-2\" style=\"float:left;background: #407EAF\">\n",
    "                <tr>\n",
    "                <th>\n",
    "                <p style=\"background: #FFFFFF\">在 WebShell #2中执行</p><br>\n",
    "                <i>roscd; cd ../src</i><br>\n",
    "                <i>rosbag record -O laser.bag laser_scan</i>\n",
    "                </th>\n",
    "                </tr>\n",
    "            </table>\n",
    "            <br><br><br><br><br><br>\n",
    "            \n",
    "        </li>\n",
    "        \n",
    "        <li>\n",
    "            一旦记录了30秒左右的数据，请在 <a href=\"#example-cmd-2\">WebShell #2</a>的rosbag记录中按 <span style=\"color: green\">[CTRL]+[C]</span>来停止记录。通过输入以下内容来检查是否已生成一个laser.bag文件和获取相关信息:<br>\n",
    "            \n",
    "            <table style=\"float:left;background: #407EAF\">\n",
    "                <tr>\n",
    "                <th>\n",
    "                <p style=\"background: #FFFFFF\">在 WebShell #2中执行</p><br>\n",
    "                <i>rosbag info laser.bag</i>\n",
    "                </th>\n",
    "                </tr>\n",
    "            </table>\n",
    "            <br><br><br><br><br><br>\n",
    "        </li>\n",
    "        \n",
    "        <li>\n",
    "            一旦检查完，CTRL+C 在 <span style=\"color: red\">start_demo.launch</span> <a href=\"#example-cmd-1\">WebShell #1</a> 上以停止机器人。<br>\n",
    "        </li>\n",
    "        \n",
    "        <li>\n",
    "            一旦机器人停止，输入以下指令来重现 laser.bag。<i>-l</i>选项是为了无限循环rosbag直到你CTRL+C:<br>\n",
    "            \n",
    "            <table id=\"example-cmd-3\" style=\"float:left;background: #407EAF\">\n",
    "                <tr>\n",
    "                <th>\n",
    "                <p style=\"background: #FFFFFF\">在 WebShell #2中执行</p><br>\n",
    "                <i>rosbag play -l laser.bag</i>\n",
    "                </th>\n",
    "                </tr>\n",
    "            </table>\n",
    "            <br><br><br><br><br><br>\n",
    "        </li>\n",
    "        \n",
    "        <li>\n",
    "            转到 WebShell #3 然后输入以下指令以读取<i>/laser_scan </i> 的范围[100]:<br>\n",
    "            \n",
    "            <table id=\"example-cmd-4\" style=\"float:left;background: #407EAF\">\n",
    "                <tr>\n",
    "                <th>\n",
    "                <p style=\"background: #FFFFFF\">在 WebShell #3中执行</p><br>\n",
    "                <i>rostopic echo /laser_scan/ranges[100]</i>\n",
    "                </th>\n",
    "                </tr>\n",
    "            </table>\n",
    "            <br><br><br><br><br><br>\n",
    "        </li>\n",
    "        \n",
    "        <li>\n",
    "            在另一个WebShell中输入以下指令，像WebShell #4。 然后转到图形界面，并了解如何用rqt_plot绘制给定的数据:<br>\n",
    "                        \n",
    "            <table id=\"example-cmd-5\" style=\"float:left;background: #407EAF\">\n",
    "                <tr>\n",
    "                <th>\n",
    "                <p style=\"background: #FFFFFF\">在 WebShell #4中执行</p><br>\n",
    "                <i>rqt_plot /laser_scan/ranges[100]</i><br>\n",
    "                </th>\n",
    "                </tr>\n",
    "            </table>\n",
    "            <br><br><br><br><br><br>\n",
    "        </li>\n",
    "</ol>\n",
    "</th>\n",
    "</tr>\n",
    "</table>"
   ]
  },
  {
   "cell_type": "markdown",
   "metadata": {},
   "source": [
    "<font color=\"green\">运行了吗? 你发现哪里怪怪的吗?</font><br>\n",
    "有很多东西都错了，但重要的是你要记着这一点：<br>\n",
    "\n",
    "需要注意的第一件事情是当你回显 Topic /laser_scan， 你会得到突然变化的值。<br>\n",
    "尝试获取有关于是谁正在/laser_scan topic发布中（写在WebShell) 的更多信息:<br>\n",
    "\n",
    "<span style=\"color: red\">如果有些东西已经在之前运行中，请记得按 [CTRL]+[C]。</span><br>\n",
    "\n",
    "<table style=\"float:left;background: #407EAF\">\n",
    "    <tr>\n",
    "    <th>\n",
    "    <p style=\"background: #FFFFFF\">在 WebShell #3中执行</p><br>\n",
    "    <i>rostopic info /laser_scan</i><br>\n",
    "    </th>\n",
    "    </tr>\n",
    "</table>\n",
    "<br><br><br><br><br>\n",
    "\n",
    "\n",
    "\n",
    "\n",
    "你将获得类似于此的东西:<br><br>\n",
    "    \n"
   ]
  },
  {
   "cell_type": "markdown",
   "metadata": {},
   "source": [
    "<table style=\"float:left;background: #FFFFFF\">\n",
    "<tr>\n",
    "<th>\n",
    "<p style=\"background: #407EAF\">WebShell #3 输出</p><br>\n",
    "user ~ $ rostopic info /laser_scan<br>\n",
    "Type: sensor_msgs/LaserScan<br>\n",
    "<br>\n",
    "Publishers:<br>\n",
    " * /gazebo (http://ip-172-31-27-126:59384/)<br>\n",
    " * /play_1476284237447256367 (http://ip-172-31-27-126:41011/)<br>\n",
    "<br>\n",
    "Subscribers: None<br>                                                                               \n",
    "</th>\n",
    "</tr>\n",
    "</table>"
   ]
  },
  {
   "cell_type": "markdown",
   "metadata": {},
   "source": [
    "如你所见，有 <b>两个</b> 节点正在发布: gazebo (the simulation ) 和 play_x.<br>\n",
    "这意味着不只是rosbag在发布数据，模拟机器人也在发布。<br>\n",
    "因此，第一件要做的事情是 <span style=\"color: green\">暂停</span> 模拟器，然后gazebo会停止发布激光读数。<br>\n",
    "为此你需要执行以下指令:<br>\n",
    "\n",
    "<table style=\"float:left;background: #407EAF\">\n",
    "    <tr>\n",
    "    <th>\n",
    "    <p style=\"background: #FFFFFF\">在 WebShell #3中执行</p><br>\n",
    "    <i>rosservice call /gazebo/pause_physics \"{}\"</i><br>\n",
    "    </th>\n",
    "    </tr>\n",
    "</table>\n",
    "<br><br><br><br><br>\n",
    "\n",
    "\n",
    "\n",
    "并再次 <span style=\"color: green\">取消禁止</span>，只是为了让你知道:<br>\n",
    "\n",
    "<table style=\"float:left;background: #407EAF\">\n",
    "    <tr>\n",
    "    <th>\n",
    "    <p style=\"background: #FFFFFF\">在 WebShell #3中执行</p><br>\n",
    "    <i>rosservice call /gazebo/unpause_physics \"{}\"</i><br>\n",
    "    </th>\n",
    "    </tr>\n",
    "</table>\n",
    "<br><br><br><br><br>\n",
    "\n",
    "到此，你应该停止来自模拟机器人部分的所有发布，并只需离开rosbag以发布。\n"
   ]
  },
  {
   "cell_type": "markdown",
   "metadata": {},
   "source": [
    "现在你应该能在rqt_plot中看到它。<br>\n",
    "没有吗?<br>\n",
    "检查一下rqt_plot中的时间? 你看到时间在某个时间点不继续运行了?<br>\n",
    "那是因为你已经停止了虚拟器，所以时间不再运行了，除了你正在rosbag运行的微小时间框架。<br>\n",
    "一旦Rqt_plot达到最大时间，它将停止。它不返回到初始，因此如果值在最后时间段外更改，你将不会看到。 <br>\n",
    "\n",
    "<table style=\"float:left;\">\n",
    "<tr>\n",
    "<th>\n",
    "同样的，在你目前正在运行的rosbag运行器查看rosbag运行信息<br>\n",
    "</th>\n",
    "</tr>\n",
    "</table>\n",
    "<br><br>\n",
    "\n",
    "<table style=\"float:left;background: #FFFFFF\">\n",
    "<tr>\n",
    "<th>\n",
    "<p style=\"background: #407EAF\">WebShell #2 输出</p><br>\n",
    "user ~ $ rosbag play -l laser.bag<br>\n",
    "[ INFO ] [1471001445.5575545086]: 正在打开 laser.bag<br>\n",
    "<br>\n",
    "等待0.2秒在advertising topics... 完成后.\n",
    "<br>\n",
    "按空格键可切换暂停状态，或按's'来步行。<br>\n",
    "[RUNNING] Bag Time: 61.676140 Duration: 41.099140 / 41.452000<br>\n",
    "</th>\n",
    "</tr>\n",
    "</table>    "
   ]
  },
  {
   "cell_type": "markdown",
   "metadata": {},
   "source": [
    "在这个例子中你可以看到当前时间为<b>41.452秒</b>中的第<b>41.099</b>秒记录。<br>\n",
    "而Rosbag时间因此会达到最大值约为<b>62</b>秒。<br>\n",
    "<b>62</b>秒在这个情况中是rqt_plot将显示的时间最大值，并将在20秒左右开始。<br>\n",
    "因此你必须始终 <b>清除</b> 绘图区域（用在rqt_plot中的<b>清除按钮</b>）。<br>\n",
    "这样你应该得到类似<a href=\"#fig-5.8\">{图-5.8}</a>的东西:<br>\n",
    "\n",
    "<figure>\n",
    "    <img id=\"fig-5.8\" src=\"img/rosbag_rtqplot.gif\"/><br>\n",
    "    <center> <figcaption>图-5.8 - RosBag Rqt-Plot</figcaption></center>\n",
    "</figure>\n",
    "\n",
    "\n"
   ]
  },
  {
   "cell_type": "markdown",
   "metadata": {},
   "source": [
    "<span style=\"color: blue\">总结:</span><br>\n",
    "要使用rosbag文件你必须确保原始数据生成器(真正的机器人或模拟器) 没有发布，否则你将得到异常数据。你还要记住，如果你是从一个rosbag读取，时间是有限的和周期性的，因此你必须清除以查看所有时间段。"
   ]
  },
  {
   "cell_type": "markdown",
   "metadata": {},
   "source": [
    "当你没有任何东西并只运行一个光秃秃的<b>roscore</b>时，Rosbag是特别有用的。你将记录系统中所有的topics，当你有一个像这样的机器人:<br>"
   ]
  },
  {
   "cell_type": "raw",
   "metadata": {},
   "source": [
    "rosbag record -a"
   ]
  },
  {
   "cell_type": "markdown",
   "metadata": {},
   "source": [
    "这将记录<b>所有的</b>Topics。然后你可以重新运行它在一个贫乏的roscore系统，你将会得到所有的Topics就像你拥有机器人一样。"
   ]
  },
  {
   "cell_type": "markdown",
   "metadata": {},
   "source": [
    "\n",
    "<table style=\"float:left;\">\n",
    "<tr>\n",
    "<th>\n",
    "<font color=\"red\">在进一步操作前请检查你是否已完成以下操作:</font><br>\n",
    "<ul>\n",
    "    <li>\n",
    "    你已停止了rosbag运行（到WebShell #2中并点击[CTRL]+[C]）\n",
    "    </li>\n",
    "    <li>\n",
    "    你已经取消了暂停模拟器，使其正常工作:<br>\n",
    "    <table style=\"float:left;background: #407EAF\">\n",
    "        <tr>\n",
    "        <th>\n",
    "        <p style=\"background: #FFFFFF\">在 WebShell #3中执行</p><br>\n",
    "        <i>rosservice call /gazebo/unpause_physics \"{}\"</i><br>\n",
    "        </th>\n",
    "        </tr>\n",
    "    </table>\n",
    "    <br><br><br><br><br>\n",
    "\n",
    "    </li>\n",
    "</ul>\n",
    "</th>\n",
    "</tr>\n",
    "</table>\n"
   ]
  },
  {
   "cell_type": "markdown",
   "metadata": {},
   "source": [
    "### 可视化复杂数据和Rviz"
   ]
  },
  {
   "cell_type": "markdown",
   "metadata": {},
   "source": [
    "到了这一步你终于拥有了它！<b>HollyMolly!</b> Milenium Falcon! ROS调试中最重要的工具....<b>RVIZ</b>。<br>\n",
    "RVIZ是一个强大的可视化工具，允许你可视化<i>图片, PointClouds（点云）, Lasers（激光）, Kinematic Transformations（运动变换）, RobotModels（机器人模型</i>...等等无止境的东西。你甚至可以定义你自己的标记。它还是为什么ROS获得如此高接受度的原因之一。在有RVIZ之前，真的很难知道机器人到底看到了什么。下面是它的主要概念:<br>\n",
    "RVIZ <b>不是</b> 模拟器。再重复一遍，它 <b>不是</b> 模拟器。它本身不具有模拟的功能。<br>\n",
    "RVIZ 是一个表现虚拟器或真正机器人在Topics中发表内容的工具。"
   ]
  },
  {
   "cell_type": "markdown",
   "metadata": {},
   "source": [
    "RVIZ 是一个非常复杂的工具，你可能只为了熟悉它而需要花费一整节课时间。但你将会得到它给你的一个惊鸿一瞥。"
   ]
  },
  {
   "cell_type": "markdown",
   "metadata": {},
   "source": [
    "<font color=\"red\">\n",
    "<table style=\"float:left;\">\n",
    "<tr>\n",
    "<th>\n",
    "<b>记住，你必须已经取消暂停虚拟器，和停止robag如我们在rosbag部分所述。</b>\n",
    "</th>\n",
    "</tr>\n",
    "</table>\n",
    "</font>"
   ]
  },
  {
   "cell_type": "markdown",
   "metadata": {},
   "source": [
    "<table style=\"float:left;\">\n",
    "<tr>\n",
    "<th>\n",
    "<ol>\n",
    "<li>\n",
    "在 WebShell #2 中输入以下指令:<br>\n",
    "\n",
    "<table style=\"float:left;background: #407EAF\">\n",
    "<tr>\n",
    "<th>\n",
    "<p style=\"background: #FFFFFF\">在 WebShell #2中执行</p><br>\n",
    "<i>rosrun rviz rviz</i><br>\n",
    "</th>\n",
    "</tr>\n",
    "</table>\n",
    "<br><br><br><br><br>\n",
    "</li>\n",
    "\n",
    "<li>\n",
    "然后转到graphical界面以查看RVIZ GUI:<br>\n",
    "</li>\n",
    "</ol>\n",
    "</th>\n",
    "</tr>\n",
    "</table>"
   ]
  },
  {
   "cell_type": "markdown",
   "metadata": {},
   "source": [
    "你将会看到像这样的窗口<a href=\"#fig-5.9\">{图-5.9}</a>:"
   ]
  },
  {
   "cell_type": "markdown",
   "metadata": {},
   "source": [
    "<figure>\n",
    "    <img id=\"fig-5.9\" src=\"img/rviz_init.jpg\"/><br>\n",
    "    <center> <figcaption>图-5.9 - RVIZ Starting Window</figcaption></center>\n",
    "</figure>"
   ]
  },
  {
   "cell_type": "markdown",
   "metadata": {},
   "source": [
    "<font color=\"red\">\n",
    "<table style=\"float:left;\">\n",
    "<tr>\n",
    "<th>\n",
    "<b>注意: 如果你没有看到Rviz下方的部分 (有“add（添加）”按钮等的部分)，双击窗口顶部使其最大化，然后你应该就会看到了。</b>\n",
    "</th>\n",
    "</tr>\n",
    "</table>\n",
    "</font>"
   ]
  },
  {
   "cell_type": "markdown",
   "metadata": {},
   "source": [
    "你只需要关注几个元素来开始在享用RVIZ。\n",
    "<ul>\n",
    "    <li>\n",
    "    <b>Center Panel（中心面板）</b>: 这里是所有的魔力发生的地方。 大多数元素将呈现。 这是一个3D空间，你可以旋转（左键单击），转化（按鼠标中心按钮）和放大/缩小（左键单击）。\n",
    "    </li>\n",
    "    <li>\n",
    "    <b>LEFT Displays Panel（左显示面板）</b>: 这里是管理你所有想要可视化的元素的地方。 它可以保存在文件中，以避免每次输入时都必须设置。 你只需要用到两个元素：\n",
    "    <ul>\n",
    "        <li>\n",
    "        在 <i>Global Options（全局选项）</i> 中的 <b>Fixed Frame（固定参考系）</b>, 你需要选择最适合可视化数据的那个。它是所有将被关系到的参考系。 这对于运动变换（tf）尤为重要。\n",
    "        </li>\n",
    "        <li>\n",
    "        在 <i>Add button（添加按钮）</i>。 点击这里你将得到所有可以在RVIZ中默认表示的元素类型。\n",
    "        </li>\n",
    "    </ul>\n",
    "    </li>\n",
    "    \n",
    "</ul>"
   ]
  },
  {
   "cell_type": "markdown",
   "metadata": {},
   "source": [
    "<table style=\"float:left;\">\n",
    "<tr>\n",
    "<th>\n",
    "在RVIZ的图形界面添加一个<b>TF</b>元素，为此你只需点击add然后在目录<i>rviz</i>中选择TF，如<a href=\"#fig-5.10\">{图-5.10}</a>所示.<br>\n",
    "</th>\n",
    "</tr>\n",
    "</table>"
   ]
  },
  {
   "cell_type": "markdown",
   "metadata": {},
   "source": [
    "<figure>\n",
    "    <img id=\"fig-5.10\" src=\"img/rviz_add.jpg\"/><br>\n",
    "    <center> <figcaption>图-5.10 - RVIZ Add element（添加元素）</figcaption></center>\n",
    "</figure>"
   ]
  },
  {
   "cell_type": "markdown",
   "metadata": {},
   "source": [
    "<table style=\"float:left;\">\n",
    "<tr>\n",
    "<th>\n",
    "<ul>\n",
    "    <li>\n",
    "    到RVIZ的左面板，选择Fixed Frame <i>iri_wam_link_footprint</i> 并确保 TF 元素的小方框已勾选。稍等片刻你应该看到所有的Robots Elements Axis（机器人元素轴）显示在中心面板。<br>\n",
    "    </li>\n",
    "    <li>\n",
    "    现在，到 WebShell #1 中输入指令以移动机器人:<br>\n",
    "    <table style=\"float:left;background: #407EAF\">\n",
    "        <tr>\n",
    "        <th>\n",
    "        <p style=\"background: #FFFFFF\">在 WebShell #1中执行</p><br>\n",
    "        <i>roslaunch iri_wam_aff_demo start_demo.launch</i>\n",
    "        </th>\n",
    "        </tr>\n",
    "    </table>\n",
    "    <br><br><br><br><br>\n",
    "    \n",
    "    \n",
    "\n",
    "    </li>\n",
    "</ul>\n",
    "\n",
    "</th>\n",
    "</tr>\n",
    "</table>"
   ]
  },
  {
   "cell_type": "markdown",
   "metadata": {},
   "source": [
    "你应该看到像这样的东西:"
   ]
  },
  {
   "cell_type": "markdown",
   "metadata": {},
   "source": [
    "<figure>\n",
    "    <img id=\"fig-5.11\" src=\"img/rviz_unit5.gif\"/><br>\n",
    "    <center> <figcaption>图-5.11 - RVIZ TF 移动</figcaption></center>\n",
    "</figure>"
   ]
  },
  {
   "cell_type": "markdown",
   "metadata": {},
   "source": [
    "在 <a href=\"#fig-5.11\">{图-5.11}</a> 中你能看到所有的元素实时转换。这让你能够准确地看到什么连接转换被发送到了机器人手臂中，以检查它是否正常运行。"
   ]
  },
  {
   "cell_type": "markdown",
   "metadata": {},
   "source": [
    "<table style=\"float:left;\">\n",
    "<tr>\n",
    "<th>\n",
    "<ul>\n",
    "    <li>\n",
    "    现在按add然后选择 <i>RobotModel</i>。你会看到机器人表现出它自己的URDF模型。如<a href=\"#fig-5.12\">{图-5.12}</a>所示<br>\n",
    "    </li>\n",
    "</ul>\n",
    "\n",
    "</th>\n",
    "</tr>\n",
    "</table>"
   ]
  },
  {
   "cell_type": "markdown",
   "metadata": {},
   "source": [
    "<figure>\n",
    "    <img id=\"fig-5.12\" src=\"img/robotmodel.jpg\"/><br>\n",
    "    <center> <figcaption>图-5.12 - RVIZ 添加 Robot Model</figcaption></center>\n",
    "</figure>"
   ]
  },
  {
   "cell_type": "markdown",
   "metadata": {},
   "source": [
    "你会看到像 <a href=\"#fig-5.13\">{图-5.13}</a>一样的画面:"
   ]
  },
  {
   "cell_type": "markdown",
   "metadata": {},
   "source": [
    "<figure>\n",
    "    <img id=\"fig-5.13\" src=\"img/robotmodel.gif\"/><br>\n",
    "    <center> <figcaption>图-5.13 - RVIZ Robot Model 移动中</figcaption></center>\n",
    "</figure>"
   ]
  },
  {
   "cell_type": "markdown",
   "metadata": {},
   "source": [
    "为什么看不到桌子和碗? 有什么地方不对吗? 不是的!<br>\n",
    "记得: RVIZ <b>不是</b> 模拟（simulation），它只是表现 <b>TOPICS</b> 正在发布的东西。这种情况下，模型所表现的是 <i>RobotStatePublisher 结合 TF</i> 正在发布。机器人模型 只是 表现什么东西被定义为了robot_model，除此之外没有别的意思。<br>\n",
    "那你如何看到周围的物体对象呢? 如同机器人那样，通过相机，激光和其它topic数据看到。<br>\n",
    "<b>请记住: RVIZ 只是显示你的机器人看到什么，除此之外没有别的。</b>"
   ]
  },
  {
   "cell_type": "markdown",
   "metadata": {},
   "source": [
    "<table style=\"float:left;\">\n",
    "<tr>\n",
    "<th>\n",
    "<p style=\"background:#EE9023;color:white;\" id=\"ex-5.4\">练习 5.4</p><br>\n",
    "添加到RVIZ可视化以下元素:\n",
    "<ol>\n",
    "<li>\n",
    "RGB相机从Kinect看到什么。<br>\n",
    "<i>提示:topic必须被读取为 /camera/rgb/image_raw。可能需要一些时间来加载图片，只需一点等待的耐心。</i>\n",
    "</li>\n",
    "<li>\n",
    "安在机器人手臂末端执行器中的激光正在记录什么。 <i>提示: 你可以通过左面板中的元素来调整激光点的外观。</i>\n",
    "</li>\n",
    "<li>\n",
    "安在机器人手臂上的 PointCloud相机/Kinect 正在记录什么。 <i>提示: 你可以通过左面板中的元素来调整激光点的外观。你必须选择点来优化性能。</i>\n",
    "</li>\n",
    "</ol>\n",
    "</th>\n",
    "</tr>\n",
    "</table>"
   ]
  },
  {
   "cell_type": "markdown",
   "metadata": {},
   "source": [
    "提示: 你应该得到类似于如下所示的结果:<br>\n",
    "<font color=\"red\"><b>请注意，激活pointcloud对系统性能有很大的影响，这是由于要表现巨大的数据量。强烈建议你只用高端显卡使用它。</b></font><br><br>\n",
    "用激光，尺寸等的表现形式来运行，以及使用pointcloud配置。"
   ]
  },
  {
   "cell_type": "markdown",
   "metadata": {
    "collapsed": true
   },
   "source": [
    "<table style=\"width:100%\">\n",
    "  <tr>\n",
    "    \n",
    "    <th>\n",
    "    <figure>\n",
    "    <img id=\"fig-5.14\" src=\"img/rviz_finex.gif\"/><br>\n",
    "    <center> <figcaption>图-5.14 - RVIZ 机器人与相机和激光</figcaption></center>\n",
    "</figure>\n",
    "    </th>\n",
    "    \n",
    "    <th>\n",
    "    <figure>\n",
    "    <img id=\"fig-5.15\" src=\"img/rviz_finex_pointcloud.gif\"/><br>\n",
    "    <center> <figcaption>图-5.15 - RVIZ 机器人与相机，激光和点云(point-cloud)</figcaption></center>\n",
    "</figure>\n",
    "    </th> \n",
    "  </tr>\n",
    "</table>"
   ]
  },
  {
   "cell_type": "markdown",
   "metadata": {},
   "source": [
    "恭喜你! 现在你可以调试任何AstroMech（技工机器人）了！"
   ]
  },
  {
   "cell_type": "code",
   "execution_count": null,
   "metadata": {
    "collapsed": true
   },
   "outputs": [],
   "source": []
  }
 ],
 "metadata": {
  "kernelspec": {
   "display_name": "Python [default]",
   "language": "python",
   "name": "python2"
  },
  "language_info": {
   "codemirror_mode": {
    "name": "ipython",
    "version": 2
   },
   "file_extension": ".py",
   "mimetype": "text/x-python",
   "name": "python",
   "nbconvert_exporter": "python",
   "pygments_lexer": "ipython2",
   "version": "2.7.12"
  }
 },
 "nbformat": 4,
 "nbformat_minor": 0
}
