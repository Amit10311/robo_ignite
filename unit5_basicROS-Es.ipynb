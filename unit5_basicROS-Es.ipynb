{
 "cells": [
  {
   "cell_type": "markdown",
   "metadata": {},
   "source": [
    "<h1><font class='ign_color'>ROS EN UNA SOLA SEMANA</font></h1>"
   ]
  },
  {
   "cell_type": "markdown",
   "metadata": {},
   "source": [
    "# Capítulo 5: Herramientas de Debugging"
   ]
  },
  {
   "cell_type": "markdown",
   "metadata": {},
   "source": [
    "<table style=\"width:100%\">\n",
    "  <tr>\n",
    "    <th>Tiempo estimado para completarlo: 1'5 hours<br><br>Qué vas a aprender en esta unidad?\n",
    "<ul>\n",
    "  <li>Cómo te puede ayudar ROS What the F*ck a debugar</li>\n",
    "  <li>Añadir Debugging ROS logs</li>\n",
    "  <li>Filtrar ROS logs</li>\n",
    "  <li>Grabar y reproducir lecturas de sensores</li>\n",
    "  <li>Poner en Gráficos información de Tópicos</li>\n",
    "  <li>Dibuja las conexiones entre los diferentes nodos de tu sistema</li>\n",
    "  <li>Uso básico de RViz</li>\n",
    "</ul></th>\n",
    "    <th><img src=\"img/iri_wam.jpg\" width=\"239\" height=\"238\" /></th> \n",
    "  </tr>\n",
    "</table>"
   ]
  },
  {
   "cell_type": "markdown",
   "metadata": {},
   "source": [
    "Una de las partes más difíciles pero importantes en la robótica es: Saber cómo convertir tus ideas y conocimientos en proyectos. Hay una constante en los proyectos de robótica: nada funciona como en la teoría. La realidad es mucho más compleja y por lo tanto necesitas herramientas para averiguar qué está pasando y encontrar cual es el problema.\n",
    "Es por esto que las herramientas de debugging y visualización son esenciales en robótica, especialmente cuando trabajamos con formatos de información complejos tales como <i>imágenes, láseres-escáners, pointclouds o información cinemática. Algunos ejemplos se muestran en <a href=\"#fig-5.i\">{Fig-5.i}</a> y <a href=\"#fig-5.ii\">{Fig-5.ii}</a><i>."
   ]
  },
  {
   "cell_type": "markdown",
   "metadata": {},
   "source": [
    "<figure>\n",
    "    <img id=\"fig-5.i\" src=\"img/rviz_example1.jpg\"></img>\n",
    "    <center> <figcaption>Fig.5.i - Atlas Láser</figcaption></center>\n",
    "</figure>\n",
    "    \n",
    "<figure>\n",
    "    <img id=\"fig-5.ii\" src=\"img/rviz_example2.jpg\"></img>\n",
    "    <center> <figcaption>Fig.5.ii - PR2 Láser y PointCloud</figcaption></center>\n",
    "</figure>"
   ]
  },
  {
   "cell_type": "markdown",
   "metadata": {},
   "source": [
    "Aquí te presentaremos las herramientas más importantes para debugar tu código y visualizar qué está pasando realmente en tu sistema robótico."
   ]
  },
  {
   "cell_type": "markdown",
   "metadata": {},
   "source": [
    "### Ros What The F*ck!"
   ]
  },
  {
   "cell_type": "markdown",
   "metadata": {},
   "source": [
    "Parece una broma, pero no lo es! <b><i>Roswtf</i></b> es una gran herramienta para arrojar algo de luz cuando no tienes ni idea de por dónde empezar a resolver tu problema. "
   ]
  },
  {
   "cell_type": "markdown",
   "metadata": {},
   "source": [
    "<table style=\"float:left;\">\n",
    "<tr>\n",
    "<th>\n",
    "Ve al WebShell y escribe el siguiente comando:<br>\n",
    "</th>\n",
    "</tr>\n",
    "</table>"
   ]
  },
  {
   "cell_type": "markdown",
   "metadata": {},
   "source": [
    "<table style=\"float:left;background: #407EAF\">\n",
    "<tr>\n",
    "<th>\n",
    "<p style=\"background: #FFFFFF\">Ejecuta en el WebShell #1</p><br>\n",
    "roswtf<br>\n",
    "</th>\n",
    "</tr>\n",
    "</table>"
   ]
  },
  {
   "cell_type": "markdown",
   "metadata": {},
   "source": [
    "<table id=\"webshell-out-5.1\" style=\"float:left;background: #FFFFFF\">\n",
    "<tr>\n",
    "<th>\n",
    "<p style=\"background: #407EAF\">Salida del WebShell #1</p><br>\n",
    "user ~ $ roswtf<br>\n",
    "the rosdep view is empty: call 'sudo rosdep init' and 'rosdep update'<br>\n",
    "No package or stack in context<br>\n",
    "================================================================================<br>\n",
    "Static checks summary:<br>\n",
    "<br>\n",
    "Found 1 error(s).<br>\n",
    "<br>\n",
    "ERROR ROS Dep database not initialized: Please initialize rosdep database with sudo rosdep init.<br>\n",
    "================================================================================<br>\n",
    "Beginning tests of your ROS graph. These may take awhile...<br>\n",
    "analyzing graph...<br>\n",
    "... done analyzing graph<br>\n",
    "running graph rules...<br>\n",
    "... done running graph rules<br>\n",
    "<br>\n",
    "Online checks summary:<br>\n",
    "<br>\n",
    "Found 2 warning(s).<br>\n",
    "Warnings are things that may be just fine, but are sometimes at fault<br>\n",
    "<br>\n",
    "WARNING The following node subscriptions are unconnected:<br>\n",
    " * /gazebo:<br>\n",
    "   * /gazebo/set_model_state<br>\n",
    "   * /gazebo/set_link_state<br>\n",
    "   * /iri_wam/iri_wam_controller/follow_joint_trajectory/cancel<br>\n",
    "   * /iri_wam/iri_wam_controller/follow_joint_trajectory/goal<br>\n",
    "   * /iri_wam/e_stop<br>\n",
    "   * /iri_wam/iri_wam_controller/command<br>\n",
    "<br>\n",
    "WARNING These nodes have died:<br>\n",
    " * urdf_spawner-4<br>\n",
    "</th>\n",
    "</tr>\n",
    "</table>"
   ]
  },
  {
   "cell_type": "markdown",
   "metadata": {},
   "source": [
    "En este caso particular, te dice <a href=\"#webshell-out-5.1\">{webshell-out-5.1}</a> que el paquete <i>rosdep</i> no ha sido inicializado. En este caso no hay problema porque el sistema que estás usando no está hecho para instalar nada.\n",
    "Y esto nos lleva a la pregunta: <b>Qué hace <i>roswtf</i>?</b>"
   ]
  },
  {
   "cell_type": "markdown",
   "metadata": {},
   "source": [
    "Por defecto comprueba <b>dos</b> campos ROS:\n",
    "<ul>\n",
    "    <li>\n",
    "      <b>Problemas en el sistema de ficheros:</b> Comprueba variables de entorno, paquetes y ficheros launch, entre otras cosas. Busca cualquier inconsistencia que podría ser un error. Si usas el comando <i>roswtf</i> sin nada más, te dará un estado global de tu sistema . Pero puedes usarlo también para comprobar <i>ficheros launch</i> específicos antes de usarlos. \n",
    "    </li>\n",
    "</ul>"
   ]
  },
  {
   "cell_type": "markdown",
   "metadata": {},
   "source": [
    "<table style=\"float:left;\">\n",
    "<tr>\n",
    "<th>\n",
    "Ve al WebShell y escribe el siguiente comando:<br>\n",
    "</th>\n",
    "</tr>\n",
    "</table>\n",
    "\n"
   ]
  },
  {
   "cell_type": "markdown",
   "metadata": {},
   "source": [
    "<table style=\"float:left;background: #407EAF\">\n",
    "<tr>\n",
    "<th>\n",
    "<p style=\"background: #FFFFFF\">Ejecuta en el WebShell #1</p><br>\n",
    "roslaunch iri_wam_aff_demo false_start_demo.launch<br>\n",
    "</th>\n",
    "</tr>\n",
    "</table>"
   ]
  },
  {
   "cell_type": "markdown",
   "metadata": {},
   "source": [
    "<table id=\"webshell-out-5.1\" style=\"float:left;background: #FFFFFF\">\n",
    "<tr>\n",
    "<th>\n",
    "<p style=\"background: #407EAF\">Salida del WebShell #1</p><br>\n",
    "user ~ $ roslaunch iri_wam_aff_demo false_start_demo.launch<br>\n",
    "... logging to /home/user/.ros/log/fd58c97c-9068-11e6-9889-02c6d37ebbf9/roslaunch-ip-172-31-20-234-12087.log<br>\n",
    "Checking log directory for disk usage. This may take awhile.<br>\n",
    "Press Ctrl-C to interrupt<br>\n",
    "Done checking log file disk usage. Usage is <1GB.<br>\n",
    "<br>\n",
    "started roslaunch server http://ip-172-31-20-234:38217/<br>\n",
    "<br>\n",
    "SUMMARY<br>\n",
    "========<br>\n",
    "<br>\n",
    "PARAMETERS<br>\n",
    " * /rosdistro: indigo<br>\n",
    " * /rosversion: 1.11.20<br>\n",
    "<br>\n",
    "NODES<br>\n",
    "  /<br>\n",
    "    iri_wam_aff_demo (iri_wam_reproduce_trajectory/iri_wam_aff_demo_node)<br>\n",
    "    iri_wam_reproduce_trajectory (iri_wam_reproduce_trajectory/iri_wam_reproduce_trajectory_node)<br>\n",
    "<br>\n",
    "ROS_MASTER_URI=http://localhost:11311<br>\n",
    "<br>\n",
    "core service [/rosout] found<br>\n",
    "\n",
    "\n",
    "process[iri_wam_reproduce_trajectory-1]: started with pid [12111]<br>\n",
    "<span style=\"color: red\">\n",
    "ERROR: cannot launch node of type [iri_wam_reproduce_trajectory/iri_wam_aff_demo_node]: can't locate node[iri_wam_aff_demo_node] in package [iri_wam_reproduce_trajectory]\n",
    "</span>\n",
    "\n",
    "</th>\n",
    "</tr>\n",
    "</table>"
   ]
  },
  {
   "cell_type": "markdown",
   "metadata": {},
   "source": [
    "Alguna pista? Simplemente te dice que no es capaz de encontrar el <i>iri_wam_aff_demo_node</i>. Prueba ahora <b>roswtf</b> en ese fichero launch para obtener algo más de información sobre cual podría ser el problema:"
   ]
  },
  {
   "cell_type": "markdown",
   "metadata": {},
   "source": [
    "<table style=\"float:left;\">\n",
    "<tr>\n",
    "<th>\n",
    "Ve al WebShell y escribe los siguientes comandos:<br>\n",
    "</th>\n",
    "</tr>\n",
    "</table>"
   ]
  },
  {
   "cell_type": "markdown",
   "metadata": {},
   "source": [
    "<table style=\"float:left;background: #407EAF\">\n",
    "<tr>\n",
    "<th>\n",
    "<p style=\"background: #FFFFFF\">Ejecuta en el WebShell #1</p><br>\n",
    "roscd iri_wam_aff_demo/launch<br>\n",
    "roswtf false_start_demo.launch<br>\n",
    "</th>\n",
    "</tr>\n",
    "</table>"
   ]
  },
  {
   "cell_type": "markdown",
   "metadata": {},
   "source": [
    "<table id=\"webshell-out-5.1\" style=\"float:left;background: #FFFFFF\">\n",
    "<tr>\n",
    "<th>\n",
    "<p style=\"background: #407EAF\">Salida del WebShell #1</p><br>\n",
    "user launch $ roswtf false_start_demo.launch<br>\n",
    "the rosdep view is empty: call 'sudo rosdep init' and 'rosdep update'<br>\n",
    "[rospack] Error: the rosdep view is empty: call 'sudo rosdep init' and 'rosdep update'<br>\n",
    "================================================================================<br>\n",
    "Static checks summary:<br>\n",
    "<br>\n",
    "Found 2 error(s).<br>\n",
    "<br>\n",
    "ERROR ROS Dep database not initialized: Please initialize rosdep database with sudo rosdep init.<br>\n",
    "<span style=\"color: red\">\n",
    "ERROR Several nodes in your launch file could not be located. These are either typed incorrectly or need to be built:<br>\n",
    " * node [iri_wam_aff_demo_node] in package [iri_wam_reproduce_trajectory]\n",
    "</span> \n",
    "<br>\n",
    "================================================================================<br>\n",
    "</th>\n",
    "</tr>\n",
    "</table>"
   ]
  },
  {
   "cell_type": "markdown",
   "metadata": {},
   "source": [
    "Para hacer que <i>roswtf yourlaunchfile.launch</i> funcione, tienes que ir al path donde está el fichero. Esto es por lo que tuviste que usar el comando <i>roscd</i> previamente.<br>\n",
    "En este caso te está diciendo que no puede encontrar el <i>iri_wam_aff_demo_node</i>. Te indica que por ser un binario, podría ser que no lo hayas compilado o que hayas cometido algun error gramático. Básicamente te dice que en el paquete <i>iri_wam_reproduce_trajectory</i> el nodo no está.<br>"
   ]
  },
  {
   "cell_type": "markdown",
   "metadata": {},
   "source": [
    "<ul>\n",
    "    <li><b>Problemas de conexión:</b> Roswtf también comprueba cualquier incosistencia en las conexiones entre nodos, tópicos, actions y demás. Te advierte si algo no está conectado o está conectado donde no debería. <b>Estos avisos no son necesáriamente errores</b>, simplemente son cosas que ROS encuentra extrañas. Depende de ti saber si es un error o es simplemente la manera en que tu proyecto está conectado entre sí.</li>\n",
    "</ul>"
   ]
  },
  {
   "cell_type": "markdown",
   "metadata": {},
   "source": [
    "<table style=\"float:left;\">\n",
    "<tr>\n",
    "<th>\n",
    "Ve al WebShell y escribe el siguiente comando:<br>\n",
    "</th>\n",
    "</tr>\n",
    "</table>"
   ]
  },
  {
   "cell_type": "markdown",
   "metadata": {},
   "source": [
    "<table style=\"float:left;background: #407EAF\">\n",
    "<tr>\n",
    "<th>\n",
    "<p style=\"background: #FFFFFF\">Ejecuta en el WebShell #1</p><br>\n",
    "roswtf<br>\n",
    "</th>\n",
    "</tr>\n",
    "</table>"
   ]
  },
  {
   "cell_type": "markdown",
   "metadata": {},
   "source": [
    "<table id=\"webshell-out-5.1\" style=\"float:left;background: #FFFFFF\">\n",
    "<tr>\n",
    "<th>\n",
    "<p style=\"background: #407EAF\">WebShell #1 Output</p><br>\n",
    "user ~ $ roswtf<br>\n",
    "the rosdep view is empty: call 'sudo rosdep init' and 'rosdep update'<br>\n",
    "No package or stack in context<br>\n",
    "================================================================================<br>\n",
    "Static checks summary:<br>\n",
    "<br>\n",
    "Found 1 error(s).<br>\n",
    "<br>\n",
    "ERROR ROS Dep database not initialized: Please initialize rosdep database with sudo rosdep init.<br>\n",
    "================================================================================<br>\n",
    "Beginning tests of your ROS graph. These may take awhile...<br>\n",
    "analyzing graph...<br>\n",
    "... done analyzing graph<br>\n",
    "running graph rules...<br>\n",
    "... done running graph rules<br>\n",
    "<br>\n",
    "Online checks summary:<br>\n",
    "<br>\n",
    "\n",
    "<span style=\"color: blue\">\n",
    "Found 2 warning(s).<br>\n",
    "Warnings are things that may be just fine, but are sometimes at fault<br>\n",
    "<br>\n",
    "WARNING The following node subscriptions are unconnected:<br>\n",
    " * /gazebo:<br>\n",
    "   * /gazebo/set_model_state<br>\n",
    "   * /gazebo/set_link_state<br>\n",
    "   * /iri_wam/iri_wam_controller/follow_joint_trajectory/cancel<br>\n",
    "   * /iri_wam/iri_wam_controller/follow_joint_trajectory/goal<br>\n",
    "   * /iri_wam/e_stop<br>\n",
    "   * /iri_wam/iri_wam_controller/command<br>\n",
    "<br>\n",
    "WARNING These nodes have died:<br>\n",
    " * urdf_spawner-4<br>\n",
    " </span>\n",
    "</th>\n",
    "</tr>\n",
    "</table>"
   ]
  },
  {
   "cell_type": "markdown",
   "metadata": {},
   "source": [
    "Ya ejecutaste este comando al principio, pero no prestaste atención a los warnings de abajo. Estos warnings son <i>Problemas de Conexión</i>.\n",
    "<ul>\n",
    "    <li>Dice que algunos subcribers no están conectados a los tópicos a los que deberían estar conectados: Esto es bastante normal ya que deben ser nodos que sólo se conectan al inicio o en algun momento determinado. No hay error aquí.</li>\n",
    "    <li>Hay uno que está conectado dónde no debería: En este caso es más cosa de cómo funciona el sistema que estás usando. Tampoco hay error aquí.</li>\n",
    "    <li>El tercer warning declara que un nodo ha muerto: Esto también es bastante normal ya que hay nodos que sólo se ejecutan cuando hacen spawn de algún objeto, y después mueren. Pero ROS es tan amable que te lo indica, solo por si no debería ser así.</li>\n",
    "</ul>\n"
   ]
  },
  {
   "cell_type": "markdown",
   "metadata": {},
   "source": [
    "### Mensajes de Debugging de Ros y Rqt-Console"
   ]
  },
  {
   "cell_type": "markdown",
   "metadata": {},
   "source": [
    "Durante el curso has usado <i>print()</i> para imprimir información sobre como están yendo tus programas. Los <b>Prints</b> son el <i>Lado Oscuro de la Fuerza</i>, así que a partir de ahora utilizarás un método más <i>Jedi</i> de hacer las cosas.\n",
    "Los <b>LOGS</b> son el camino. Te permiten imprimir sólo lo que necesitas en cada momento, sin tener que eliminarlos del código.<br>\n",
    "En sistema de logsiempre hay niveles, como se muestra en <a href=\"#fig-5.1\">{Fig-5.1}</a>. En el caso de los logs de ROS hay <b>cinco</b> niveles. Cada nivel incluye subniveles. Por ejemplo si usas el nivel <b>Error</b>, todos los mensajes de <b>Error</b> y <b>Fatal</b> serán mostrados. Si tu nivel es <b>Warning</b>, entonces todos los mensajes para los niveles <b>Warning</b>, <b>Error</b> y <b>Fatal</b> serán mostrados."
   ]
  },
  {
   "cell_type": "markdown",
   "metadata": {},
   "source": [
    "<table style=\"width:100%\">\n",
    "  <tr>\n",
    "    <th>\n",
    "    <figure>\n",
    "        <img id=\"fig-5.1\" src=\"img/log_level.png\"></img>\n",
    "        <center> <figcaption>Fig.5.1 - Niveles de LOG</figcaption></center>\n",
    "    </figure>\n",
    "    </th>\n",
    "    <th>\n",
    "    El módulo Python <i>rospy</i> es usado para acceder a esta funcionalidad en Python.<br>\n",
    "    \n",
    "    DEBUG ==> rospy.logdebug(msg, *args)<br>\n",
    "    INFO ==> rospy.loginfo(msg, *args)<br>\n",
    "    WARNING ==> rospy.logwarn(msg, *args)<br>\n",
    "    ERROR ==> rospy.logerr(msg, *args)<br>\n",
    "    FATAL ==> rospy.logfatal(msg, *args)<br>\n",
    "    </th> \n",
    "  </tr>\n",
    "</table>\n",
    "\n"
   ]
  },
  {
   "cell_type": "markdown",
   "metadata": {},
   "source": [
    "<table style=\"float:left;\">\n",
    "<tr>\n",
    "<th>\n",
    "Ejecuta el siguiente código Python:<br>\n",
    "</th>\n",
    "</tr>\n",
    "</table>"
   ]
  },
  {
   "cell_type": "markdown",
   "metadata": {},
   "source": [
    "<table style=\"float:left;\">\n",
    "<tr>\n",
    "<th>\n",
    "<p style=\"background:#407EAF;color:white;\">Ejemplo 5.1</p><br>\n",
    "Ejecuta el siguiente código Python <a href=\"#example-5.1\">logger_example.py</a> clicando en él y después clicando en el botón de Play en la esquina superior derecha del IPython notebook.<br> \n",
    "<img src=\"img/font-awesome_step-forward.png\" style=\"float:left\"/><br>\n",
    "<br><br>\n",
    "También puedes pulsar <i>[CTRL]+[Enter]</i> para ejecutarlo.<br>\n",
    "<br>\n",
    "</th>\n",
    "</tr>\n",
    "</table>"
   ]
  },
  {
   "cell_type": "markdown",
   "metadata": {},
   "source": [
    "<p style=\"background:#3B8F10;color:white;\" id=\"example-5.1\">Programa Python {5.1}:  logger_example.py </p><br>"
   ]
  },
  {
   "cell_type": "code",
   "execution_count": null,
   "metadata": {
    "collapsed": false
   },
   "outputs": [],
   "source": [
    "#! /usr/bin/env python\n",
    "\n",
    "import rospy\n",
    "import random\n",
    "import time\n",
    "\n",
    "# Opciones: DEBUG, INFO, WARN, ERROR, FATAL\n",
    "rospy.init_node('log_demo', log_level=rospy.DEBUG)\n",
    "rate = rospy.Rate(0.5)\n",
    "\n",
    "# En Kinetic ROS puedes usar la publicación peródica de logs. Aquí estamos usando Indigo, asñi que aún no está disponible.\n",
    "#rospy.loginfo_throttle(120, \"DeathStars Minute info: \"+str(time.time()))\n",
    "\n",
    "while not rospy.is_shutdown():\n",
    "    rospy.logdebug(\"There is a missing droid\")\n",
    "    rospy.loginfo(\"The Emperors Capuchino is done\")\n",
    "    rospy.logwarn(\"The Revels are coming time \"+str(time.time()))\n",
    "    exhaust_number = random.randint(1,100)\n",
    "    port_number = random.randint(1,100)\n",
    "    rospy.logerr(\" The thermal exhaust port %s, right below the main port %s\", exhaust_number, port_number)\n",
    "    rospy.logfatal(\"The DeathStar Is EXPLODING\")\n",
    "    rate.sleep()\n",
    "    rospy.logfatal(\"END\")"
   ]
  },
  {
   "cell_type": "markdown",
   "metadata": {},
   "source": [
    "<p style=\"background:#3B8F10;color:white;\">FIN del Programa Python {5.1}:  logger_example.py </p><br>"
   ]
  },
  {
   "cell_type": "markdown",
   "metadata": {},
   "source": [
    "El mejor lugar para leer todos los logs de un Sistema ROS es: <i>/rosout</i>"
   ]
  },
  {
   "cell_type": "markdown",
   "metadata": {},
   "source": [
    "<table style=\"float:left;\">\n",
    "<tr>\n",
    "<th>\n",
    "Ve al WebShell y escribe el siguiente comando:<br>\n",
    "</th>\n",
    "</tr>\n",
    "</table>"
   ]
  },
  {
   "cell_type": "markdown",
   "metadata": {},
   "source": [
    "<table style=\"float:left;background: #407EAF\">\n",
    "<tr>\n",
    "<th>\n",
    "<p style=\"background: #FFFFFF\">Ejecuta en el WebShell #1</p><br>\n",
    "rostopic echo /rosout<br>\n",
    "</th>\n",
    "</tr>\n",
    "</table>"
   ]
  },
  {
   "cell_type": "markdown",
   "metadata": {},
   "source": [
    "Deberías ver todos los logs de ros en los diferentes nodos que estén corriendo actualmente en el sistema."
   ]
  },
  {
   "cell_type": "markdown",
   "metadata": {},
   "source": [
    "<table style=\"float:left;\">\n",
    "<tr>\n",
    "<th>\n",
    "<p style=\"background:#EE9023;color:white;\" id=\"ex-5.1\">Ejercicio 5.1</p><br>\n",
    "<ol>\n",
    "<li>\n",
    "Crea un paquete que tenga un fichero launch que lance un fichero python con el código anterior <a href=\"#example-5.1\">{logger_example.py}</a>.\n",
    "</li>\n",
    "<li>\n",
    "Prueba a cambiar el nivel de LOG en el rospy.init_node y comprueba cómo los diferentes mensajes son impresos o no en el tópico /rosout, dependiendo del nivel seleccionado. \n",
    "</li>\n",
    "</ol>\n",
    "</th>\n",
    "</tr>\n",
    "</table>"
   ]
  },
  {
   "cell_type": "markdown",
   "metadata": {},
   "source": [
    "Como puedes ver, con sólo 1 nodo publicando cada 2 segundos la cantidad de información es grande. Ahora imagina <b>diez</b> nodos, publicando información de imágenes, láser, usando actions, servicios, y publicando información de debugado de tu nodo de DeepLearning.\n",
    "Sería realmente complicado obtener o localizar la información que deseas.<br>\n",
    "Aquí es donde <b>rqt_console</b> viene al rescate."
   ]
  },
  {
   "cell_type": "markdown",
   "metadata": {},
   "source": [
    "<table style=\"float:left;\">\n",
    "<tr>\n",
    "<th>\n",
    "Escribe en el WebShell #1 el comando roslaunch para lanzar el launch del <a href=\"#ex-5.1\">Ejercicio 5.1</a>.<br> \n",
    "Ve a la ventana del Interfaz Grafico (pulsa el icono con una pantalla del IDE) <img src=\"img/font-awesome_desktop.png\"/><br>\n",
    "y escribe en el WebShell #2 : <i>rqt_console</i>, para activar el GUI de logs. \n",
    "</th>\n",
    "</tr>\n",
    "</table>"
   ]
  },
  {
   "cell_type": "markdown",
   "metadata": {},
   "source": [
    "<table style=\"float:left;background: #407EAF\">\n",
    "<tr>\n",
    "<th>\n",
    "<p style=\"background: #FFFFFF\">Ejecuta en el WebShell #1</p><br>\n",
    "roslaunch package_exercise_5p1 exercise_5p1.launch <br>\n",
    "</th>\n",
    "</tr>\n",
    "</table>"
   ]
  },
  {
   "cell_type": "markdown",
   "metadata": {},
   "source": [
    "<table style=\"float:left;background: #407EAF\">\n",
    "<tr>\n",
    "<th>\n",
    "<p style=\"background: #FFFFFF\">Ejecuta en el WebShell #2</p><br>\n",
    "rqt_console<br>\n",
    "</th>\n",
    "</tr>\n",
    "</table>"
   ]
  },
  {
   "cell_type": "markdown",
   "metadata": {},
   "source": [
    "Aparecerá una ventana similar a esta <a href=\"#fig-5.2\">{Fig-5.2}</a> en la pestaña del navegador que se abrirá al clicar en el botón:<img src=\"img/font-awesome_desktop.png\"/> "
   ]
  },
  {
   "cell_type": "markdown",
   "metadata": {},
   "source": [
    "<figure>\n",
    "  <img id=\"fig-5.2\" src=\"img/rqt_console_init.jpg\"></img>\n",
    "   <center> <figcaption>Fig.5.2 - Rqt Console</figcaption></center>\n",
    "</figure>"
   ]
  },
  {
   "cell_type": "markdown",
   "metadata": {},
   "source": [
    "La ventana está dividida en 3 subpaneles.\n",
    "<ul>\n",
    "    <li>\n",
    "    El primer panel muestra los logs. Tiene información sobre el mensaje, gravedad/nivel, el nodo que genera el mensaje y otra información. Aquí es de donde obtendrás toda la información.</li>\n",
    "    <li>\n",
    "    El segundo te permite filtrar los mensajes mostrados en el primer panel, basándose en criterios como: nodo, nivel de gravedad, o si contiene alguna palabra determinada. Para añadir un filtro simplemente pulsa el signo \"+\" y selecciona el que desees.\n",
    "    </li>\n",
    "    <li>\n",
    "    El tercer panel te permite resaltar ciertos mensajes, mientras muestra el resto.\n",
    "    </li>\n",
    "</ul>\n",
    "\n",
    "También debes saber que clicando en el pequeño engranaje blanco en la esquina superior derecha, puedes cambiar el número de mensajes mostrados. Trata de mantenerlo lo más bajo posible para evitar que ralentice tu sistema."
   ]
  },
  {
   "cell_type": "markdown",
   "metadata": {},
   "source": [
    "<table style=\"float:left;\">\n",
    "<tr>\n",
    "<th>\n",
    "Filtra los logs para que sólo veas los mensajes de Warning y Fatal del nodo del Ejercicio 5.1\n",
    "</th>\n",
    "</tr>\n",
    "</table>"
   ]
  },
  {
   "cell_type": "markdown",
   "metadata": {},
   "source": [
    "Deberías ver algo como <a href=\"#fig-5.3\">{Fig-5.3}</a>:"
   ]
  },
  {
   "cell_type": "markdown",
   "metadata": {},
   "source": [
    "<figure>\n",
    "  <img id=\"fig-5.3\" src=\"img/rqt_console_filter.jpg\"></img>\n",
    "   <center> <figcaption>Fig.5.3 - Filtro Rqt Console</figcaption></center>\n",
    "</figure>"
   ]
  },
  {
   "cell_type": "markdown",
   "metadata": {},
   "source": [
    "### Información de tópicos en Gráfico y Rqt Plot"
   ]
  },
  {
   "cell_type": "markdown",
   "metadata": {},
   "source": [
    "Esta es una necesidad muy común en cualquier disciplina científica pero especialmente importante en robótica. Necesitas saber si tu inclinación es correcta, tu velocidad es la adecuada, las lecturas del torque en el joint de un brazo son demasiado altas o el láser está teniendo lecturas anormales. Para todos estos tipos de información necesitas una herramienta gráfica que arroge algo de sentido a toda la información que estás recibiendo en tiempo real.\n",
    "Aquí es donde <b>rqt_plot</b> cobra sentido.<br>"
   ]
  },
  {
   "cell_type": "markdown",
   "metadata": {},
   "source": [
    "<font color=\"red\"><b>Para continuar deberías haber parado el nodo del <a href=\"#ex-5.1\">Ejercicio 5.1</a> lanzado en el WebShell #1</i></b></font><br>"
   ]
  },
  {
   "cell_type": "markdown",
   "metadata": {},
   "source": [
    "<table style=\"float:left;\">\n",
    "<tr>\n",
    "<th>\n",
    "<ul>\n",
    "    <li>\n",
    "        Ve al WebShell y escribe el siguiente comando para empezar a mover el brazo robótico:<br>\n",
    "    </li>\n",
    "    \n",
    "</ul>\n",
    "\n",
    "\n",
    "</th>\n",
    "</tr>\n",
    "</table>"
   ]
  },
  {
   "cell_type": "markdown",
   "metadata": {},
   "source": [
    "<table style=\"float:left;background: #407EAF\">\n",
    "<tr>\n",
    "<th>\n",
    "<p style=\"background: #FFFFFF\">Ejecuta en el WebShell #1</p><br>\n",
    "roslaunch iri_wam_aff_demo start_demo.launch<br>\n",
    "</th>\n",
    "</tr>\n",
    "</table>"
   ]
  },
  {
   "cell_type": "markdown",
   "metadata": {},
   "source": [
    "<table style=\"float:left;\">\n",
    "<tr>\n",
    "<th>\n",
    "<ul>\n",
    "    <li>\n",
    "        Ve a otro Webshell y escribe el siguiente comando para ver las positiones y efforts hechos por cada joints del brazo robótico:<br>\n",
    "    </li>\n",
    "    \n",
    "</ul>\n",
    "\n",
    "\n",
    "</th>\n",
    "</tr>\n",
    "</table>"
   ]
  },
  {
   "cell_type": "markdown",
   "metadata": {},
   "source": [
    "<table style=\"float:left;background: #407EAF\">\n",
    "<tr>\n",
    "<th>\n",
    "<p style=\"background: #FFFFFF\">Ejecuta en el WebShell #2</p><br>\n",
    "rostopic echo /joint_states -n1<br>\n",
    "</th>\n",
    "</tr>\n",
    "</table>"
   ]
  },
  {
   "cell_type": "markdown",
   "metadata": {},
   "source": [
    "Como probablemente verás, saber que está pasando en los joints de un robot con sólo arrays de números es bastante descorazonador.<br>\n",
    "Así que prueba ahora a usar el comando <b><i>rqt_plot</i></b> para ver toda esta información en un gráfico."
   ]
  },
  {
   "cell_type": "markdown",
   "metadata": {},
   "source": [
    "<table style=\"float:left;\">\n",
    "<tr>\n",
    "<th>\n",
    "Ve al interfaz gráfico y escribe en el terminal es siguiente comando para abrir el GUI del rqt_plot:<br>\n",
    "<span style=\"color: red\">Recuerda pulsar [CTRL]+[C] para detener el <i>rostopic echo</i></span>\n",
    "</th>\n",
    "</tr>\n",
    "</table>"
   ]
  },
  {
   "cell_type": "markdown",
   "metadata": {},
   "source": [
    "<table style=\"float:left;background: #407EAF\">\n",
    "<tr>\n",
    "<th>\n",
    "<p style=\"background: #FFFFFF\">Ejecuta en el WebShell #2</p><br>\n",
    "rqt_plot<br>\n",
    "</th>\n",
    "</tr>\n",
    "</table>"
   ]
  },
  {
   "cell_type": "markdown",
   "metadata": {},
   "source": [
    "Obtendrás una ventana similar a <a href=\"#fig-5.4\">{Fig-5.4}</a>:"
   ]
  },
  {
   "cell_type": "markdown",
   "metadata": {},
   "source": [
    "<figure>\n",
    "  <img id=\"fig-5.4\" src=\"img/rqt_plot_init.jpg\"></img>\n",
    "   <center> <figcaption>Fig.5.4 - Rqt Plot</figcaption></center>\n",
    "</figure>"
   ]
  },
  {
   "cell_type": "markdown",
   "metadata": {},
   "source": [
    "En el input que dice <i>topic</i>, debes colocar el tópico (estructura completa) que que contiene la información que quieres ver en el gráfico. Ten en cuenta que para que sea mostrada en el gráfico tiene que ser una variable de tipo numérica. Una vez escrito presiona el botón con el <i style=\"color: green\">SIGNO MÁS</i> para empezar a ver el Tópico en el gráfico.<br>\n",
    "La estructura que ha de seguir es la siguiente:<br>\n",
    "<b><i>/nombre_topico/variable_nivel1/variable_nivel2/.../variable[número_en_el_array_si_hay]</i></b><br>\n",
    "En el caso del tópico <i>/joint_states</i> tiene la siguiente estructura, que puedes saber extrayendo el mensaje del tópico mediante <i>rostopic info </i>, y usando después el comando <i>rosmsg show</i> de la <b>Unidad 2</b>:"
   ]
  },
  {
   "cell_type": "raw",
   "metadata": {},
   "source": [
    "std_msgs/Header header\n",
    "string[] name\n",
    "float64[] position\n",
    "float64[] velocity\n",
    "float64[] effort                                                                                                        "
   ]
  },
  {
   "cell_type": "markdown",
   "metadata": {},
   "source": [
    "Principalmente hay otros 2 botones que deberías conoces:\n",
    "<ul>\n",
    "    <li>El <i>Botón de Limpieza</i>: Dependiendo de la versión ROS el icono cambia. \n",
    "    <img src=\"img/clear_new.png\"/>\n",
    "    <img src=\"img/clear_old.png\"/>\n",
    "    Este botón es muy importante porque una vez que el gráfico ha sido dibujado no vuelve al tiempo inicial. Esto tiene un efecto negativo cuando se trata de información que se va repitiendo en el tiempo. Así que debes limpiarla antes de leer nueva información.</li>\n",
    "    <li>El <i>Engranaje</i>:\n",
    "    <img src=\"img/gear_rqt_plot.png\"/>\n",
    "    Te permite seleccionar uno de los 3 sistemas para dibujar información. Algunos de ellos consumen más recursos y otros tienen mejores características.<br><font color=\"red\"><b> Cambia a QtPlot para que vaya más rápido.</b></font><br> </li>\n",
    "</ul>"
   ]
  },
  {
   "cell_type": "markdown",
   "metadata": {},
   "source": [
    "<table style=\"float:left;\">\n",
    "<tr>\n",
    "<th>\n",
    "<p style=\"background:#EE9023;color:white;\" id=\"ex-5.2\">Ejercicio 5.2</p><br>\n",
    "<ol>\n",
    "<li>\n",
    "Crea un gráfica en rqt_plot del effort ejercido por los 4 primeros joints del robot mientras se mueve.\n",
    "</li>\n",
    "</ol>\n",
    "Pista: /joint_states/position[0] sería para visualizar la posición del primer joint en tiempo real.\n",
    "</th>\n",
    "</tr>\n",
    "</table>"
   ]
  },
  {
   "cell_type": "markdown",
   "metadata": {},
   "source": [
    "### Conexión de Nodos y Rqt graph"
   ]
  },
  {
   "cell_type": "markdown",
   "metadata": {},
   "source": [
    "Está tu nodo conectado al lugar correcto? Por qué no estás recibiendo información de un tópico?\n",
    "Estas preguntas son bastante frecuentes como ya debes haber experimentado en sistemas ROS. <b>Rqt_graph</b> puede ayudarte a averiguar estas cosas de una manera más sencilla.\n",
    "Muestra un gráfico de los nodos corriendo en ROS y sus conexiones a tópicos. Es importante apuntar que parece tener problemas con conexiones que no son tópicos."
   ]
  },
  {
   "cell_type": "markdown",
   "metadata": {},
   "source": [
    "<font color=\"red\"><b>Para continuar debes haber parado el <i>start_demo.launch</i></b></font><br>"
   ]
  },
  {
   "cell_type": "markdown",
   "metadata": {},
   "source": [
    "<table style=\"float:left;\">\n",
    "<tr>\n",
    "<th>\n",
    "Ve a la interfaz gráfica y escribe en un terminal el siguiente comando para abrir la GUI de rqt_graph:<br>\n",
    "<i>Recuerda tener en el WebShell #1 el <span style=\"color:red\">roslaunch iri_wam_aff_demo start_demo.launch<span> </i>\n",
    "</th>\n",
    "</tr>\n",
    "</table>\n"
   ]
  },
  {
   "cell_type": "markdown",
   "metadata": {},
   "source": [
    "<table style=\"float:left;background: #407EAF\">\n",
    "<tr>\n",
    "<th>\n",
    "<p style=\"background: #FFFFFF\">Ejecuta en el WebShell #2</p><br>\n",
    "rqt_graph<br>\n",
    "</th>\n",
    "</tr>\n",
    "</table>"
   ]
  },
  {
   "cell_type": "markdown",
   "metadata": {},
   "source": [
    "Obtendrás algo como en la siguiente imagen:"
   ]
  },
  {
   "cell_type": "markdown",
   "metadata": {},
   "source": [
    "<figure>\n",
    "    <img id=\"fig-5.5\" src=\"img/rqt_graph_init.jpg\"/><br>\n",
    "    <center> <figcaption>Fig.5.5 - Resultado del Rqt-Graph</figcaption></center>\n",
    "</figure>"
   ]
  },
  {
   "cell_type": "markdown",
   "metadata": {},
   "source": [
    "En el diagrama <a href=\"#fig-5.5\">{Fig-5.5}</a> se te presentarán todos los nodos actualmente corriendo, conectados por los tópicos que usan para comunicarse unos con otros. Hay 2 elementos principales que necesitas saber cómo usar:\n",
    "<ul>\n",
    "    <li>\n",
    "    El botón de refrescar, que tienes que pulsar cada vez que hagas algun cambio en el sistema:\n",
    "    <img src=\"img/refresh_rqt_graph.png\"/>\n",
    "    </li>\n",
    "    <li>\n",
    "    Las opciones de filtrado: Estas son las 3 cajitas justo al lado del botón de refrescar. El primer elemento te permite seleccionar si sólo quieres ver nodos o también tópicos. La segunda caja te permite filtrar por el nombre de los nodos.<br>\n",
    "    <img src=\"img/filtering_rqt_graph.png\"/><br>\n",
    "    Aquí tiene un ejemplo en el que filtras para visualizar sólo el <i>/gazebo</i> y el <i>/joint_states_relay</i> <a href=\"#fig-5.6\">{Fig-5.6}</a>:\n",
    "    \n",
    "    </li>\n",
    "</ul>\n"
   ]
  },
  {
   "cell_type": "markdown",
   "metadata": {},
   "source": [
    "<figure>\n",
    "    <img id=\"fig-5.6\" src=\"img/rosgraph_init_filter.jpg\"/><br>\n",
    "    <center> <figcaption>Fig-5.6 - Resultado de Rqt-Graph filtrando /gazebo y /joint_states_relay</figcaption></center>\n",
    "</figure>"
   ]
  },
  {
   "cell_type": "markdown",
   "metadata": {},
   "source": [
    "<table style=\"float:left;\">\n",
    "<tr>\n",
    "<th>\n",
    "<p style=\"background:#EE9023;color:white;\" id=\"ex-5.3\">Ejercicio 5.3</p><br>\n",
    "<ol>\n",
    "<li>\n",
    "Crea un paquete que lance un publisher y subscriber básicos, y filtra la salida de ros_graph para que te muestre sólo los 2 nodos y el tópico que te interesan.\n",
    "</li>\n",
    "</ol>\n",
    "</th>\n",
    "</tr>\n",
    "</table>"
   ]
  },
  {
   "cell_type": "markdown",
   "metadata": {},
   "source": [
    "Deberías ver algo así <a href=\"#fig-5.7\">{Fig-5.7}</a>:"
   ]
  },
  {
   "cell_type": "markdown",
   "metadata": {},
   "source": [
    "<figure>\n",
    "    <img id=\"fig-5.7\" src=\"img/rqt_graph_simple.jpg\"/><br>\n",
    "    <center> <figcaption>Fig-5.7 - Rqt-Graph del Ejercicio 5.7</figcaption></center>\n",
    "</figure>"
   ]
  },
  {
   "cell_type": "markdown",
   "metadata": {},
   "source": [
    "### Graba datos experimentales y Rosbags"
   ]
  },
  {
   "cell_type": "markdown",
   "metadata": {},
   "source": [
    "Un escenario muy común en robótica es el siguiente:<br>\n",
    "Tienes un robot real muy caro, digamos un R2-D2, y lo llevas a un lugar de muy difícil acceso, digamos la Estrella de la Muerte. Ejecutas tu misión ahí y vuelves a la base. Ahora quieres reproducir las mismas condiciones apra mejorar los algoritmos del R2-D2 para abrir puertas. Pero no tienes ni la Estrella de la Muerte ni a R2-D2. Cómo puedes tener exactamente las mismas lecturas de los sensores para realizar tus tests? Pues las grabas, por supuesto! Y esto es lo que <b>rosbag</b> hace con los tópicos de ROS.\n",
    "Graba toda la información que pasa por los tópicos de ROS y te permite reproducirlos en cualquier momento mediante un simple fichero."
   ]
  },
  {
   "cell_type": "markdown",
   "metadata": {},
   "source": [
    "Los comandos para trabajar con rosbag son:\n",
    "<ul>\n",
    "    <li>\n",
    "    Para <b>Grabar</b> datos de los Tópicos que quieras:<br>\n",
    "    <i>rosbag record -O nombre_fichero_bag.bag nombre_del_tópico_a_grabar1 nombre_del_tópico_a_grabar2 ... nombre_del_tópico_a_grabarN</i>\n",
    "    </li>\n",
    "    <li>\n",
    "    Para <b>Extraer</b> información general sobre los datos grabados:<br>\n",
    "    <i>rosbag info nombre_fichero_bag.bag</i>\n",
    "    </li>\n",
    "    <li>\n",
    "    Para <b>Reproducir</b> los datos grabados:<br>\n",
    "    <i>rosbag play nombre_fichero_bag.bag</i>\n",
    "    </li>\n",
    "</ul>"
   ]
  },
  {
   "cell_type": "markdown",
   "metadata": {},
   "source": [
    "<table style=\"float:left;\">\n",
    "<tr>\n",
    "<th>\n",
    "<p style=\"background:#407EAF;color:white;\" id=\"example-5.2\">Ejemplo 5.2</p><br>\n",
    "<ol>\n",
    "    <li>\n",
    "        Ve al WebShell y escribe el siguiente comando para hacer que el robot empiece a moverse si no lo está haciendo ya:<br>\n",
    "        <table id=\"example-cmd-1\" style=\"float:left;background: #407EAF\">\n",
    "            <tr>\n",
    "            <th>\n",
    "            <p style=\"background: #FFFFFF\">Ejecuta en el WebShell #1</p><br>\n",
    "            roslaunch iri_wam_aff_demo start_demo.launch<br>\n",
    "            </th>\n",
    "            </tr>\n",
    "        </table>\n",
    "        <br><br><br><br><br><br>\n",
    "    </li>\n",
    "        \n",
    "        <li>\n",
    "            Ve a otro WebShell, y accede al directorio src para un fácil acceso a tus ficheros .bag desde el IDE, en caso de que necesites descargarlos. Escribe el siguiente comando para grabar los datos del tópico /laser_scan:<br>\n",
    "            \n",
    "            \n",
    "            <table id=\"example-cmd-2\" style=\"float:left;background: #407EAF\">\n",
    "                <tr>\n",
    "                <th>\n",
    "                <p style=\"background: #FFFFFF\">Ejecuta en el WebShell #2</p><br>\n",
    "                <i>roscd; cd ../src</i><br>\n",
    "                <i>rosbag record -O laser.bag laser_scan</i>\n",
    "                </th>\n",
    "                </tr>\n",
    "            </table>\n",
    "            <br><br><br><br><br><br>\n",
    "            \n",
    "        </li>\n",
    "        \n",
    "        <li>\n",
    "            Cuando hayas grabado datos durante unos 30 segundos, presiona <span style=\"color: green\">[CTRL]+[C]</span> en la consola donde esté grabando el rosbag <a href=\"#example-cmd-2\">WebShell #2</a> para detener la grabación. Comprueba que se haya generado un fichero laser.bag y que contiene la información relevante escribiendo:<br>\n",
    "            \n",
    "            <table style=\"float:left;background: #407EAF\">\n",
    "                <tr>\n",
    "                <th>\n",
    "                <p style=\"background: #FFFFFF\">Ejecuta en el WebShell #2</p><br>\n",
    "                <i>rosbag info laser.bag</i>\n",
    "                </th>\n",
    "                </tr>\n",
    "            </table>\n",
    "            <br><br><br><br><br><br>\n",
    "        </li>\n",
    "        \n",
    "        <li>\n",
    "            Una vez comprobado, haz CTRL+C en el <span style=\"color: red\">start_demo.launch</span> <a href=\"#example-cmd-1\">WebShell #1</a> para detener el robot.<br>\n",
    "        </li>\n",
    "        \n",
    "        <li>\n",
    "            Cuando el robot se haya parado, escribe el siguiente comando para reproducir el fichero laser.bag. La opción <i>-l</i> es para generar un bucle infinito del rosbag hasta que presiones CTRL+C:<br>\n",
    "            \n",
    "            <table id=\"example-cmd-3\" style=\"float:left;background: #407EAF\">\n",
    "                <tr>\n",
    "                <th>\n",
    "                <p style=\"background: #FFFFFF\">Ejecuta en el WebShell #2</p><br>\n",
    "                <i>rosbag play -l laser.bag</i>\n",
    "                </th>\n",
    "                </tr>\n",
    "            </table>\n",
    "            <br><br><br><br><br><br>\n",
    "        </li>\n",
    "        \n",
    "        <li>\n",
    "            Ve al WebShell #3 y escribe el siguiente comando para leer el valor ranges[100] del Tópico <i>/laser_scan </i>:<br>\n",
    "            \n",
    "            <table id=\"example-cmd-4\" style=\"float:left;background: #407EAF\">\n",
    "                <tr>\n",
    "                <th>\n",
    "                <p style=\"background: #FFFFFF\">Ejecuta en el WebShell #3</p><br>\n",
    "                <i>rostopic echo /laser_scan/ranges[100]</i>\n",
    "                </th>\n",
    "                </tr>\n",
    "            </table>\n",
    "            <br><br><br><br><br><br>\n",
    "        </li>\n",
    "        \n",
    "        <li>\n",
    "            Ejecuta el siguiente comando en otro WebShell, como el WebShell #4. Entonces dirígete al interfaz gráfico y observa como muestra los datos en un gráfico mediante rqt_plot:<br>\n",
    "                        \n",
    "            <table id=\"example-cmd-5\" style=\"float:left;background: #407EAF\">\n",
    "                <tr>\n",
    "                <th>\n",
    "                <p style=\"background: #FFFFFF\">Ejecuta en el WebShell #4</p><br>\n",
    "                <i>rqt_plot /laser_scan/ranges[100]</i><br>\n",
    "                </th>\n",
    "                </tr>\n",
    "            </table>\n",
    "            <br><br><br><br><br><br>\n",
    "        </li>\n",
    "</ol>\n",
    "</th>\n",
    "</tr>\n",
    "</table>"
   ]
  },
  {
   "cell_type": "markdown",
   "metadata": {},
   "source": [
    "<font color=\"green\">Funciona? Ves algo raro?</font><br>\n",
    "Hay varias cosas que están mal pero es importante que memorices esto.<br>\n",
    "\n",
    "Lo primero que ves es que cuando haces un echo del Tópico /laser_scan, obtienes cambios bruscos en los valores.<br>\n",
    "Trata de obtener algo más de información sobre quién está publicando en el tópico /laser_scan escribiendo en el WebShell:<br>\n",
    "\n",
    "<span style=\"color: red\">Recuerda pulsar [CTRL]+[C] si tenías cualquier cosa corriendo antes.</span><br>\n",
    "\n",
    "<table style=\"float:left;background: #407EAF\">\n",
    "    <tr>\n",
    "    <th>\n",
    "    <p style=\"background: #FFFFFF\">Ejecuta en el WebShell #3</p><br>\n",
    "    <i>rostopic info /laser_scan</i><br>\n",
    "    </th>\n",
    "    </tr>\n",
    "</table>\n",
    "<br><br><br><br><br>\n",
    "\n",
    "\n",
    "\n",
    "\n",
    "Obtendrás algo similar a esto:<br><br>\n",
    "    \n"
   ]
  },
  {
   "cell_type": "markdown",
   "metadata": {},
   "source": [
    "<table style=\"float:left;background: #FFFFFF\">\n",
    "<tr>\n",
    "<th>\n",
    "<p style=\"background: #407EAF\">Salida del WebShell #3</p><br>\n",
    "user ~ $ rostopic info /laser_scan<br>\n",
    "Type: sensor_msgs/LaserScan<br>\n",
    "<br>\n",
    "Publishers:<br>\n",
    " * /gazebo (http://ip-172-31-27-126:59384/)<br>\n",
    " * /play_1476284237447256367 (http://ip-172-31-27-126:41011/)<br>\n",
    "<br>\n",
    "Subscribers: None<br>                                                                               \n",
    "</th>\n",
    "</tr>\n",
    "</table>"
   ]
  },
  {
   "cell_type": "markdown",
   "metadata": {},
   "source": [
    "Como puedes ver, <b>DOS</b> nodos están publicando: gazebo (la simulación) y play_x.<br>\n",
    "Esto significa que no sólo el rosbag está publicando datos pero también el robot simulado.<br>\n",
    "Así que lo primero que hay que hacer es <span style=\"color: green\">PAUSAR</span> la simulación, para que el nodo gazebo pare de publicar sus lecturas del láser.<br>\n",
    "Para ello ejecuta el siguiente comando:<br>\n",
    "\n",
    "<table style=\"float:left;background: #407EAF\">\n",
    "    <tr>\n",
    "    <th>\n",
    "    <p style=\"background: #FFFFFF\">Ejecuta en el WebShell #3</p><br>\n",
    "    <i>rosservice call /gazebo/pause_physics \"{}\"</i><br>\n",
    "    </th>\n",
    "    </tr>\n",
    "</table>\n",
    "<br><br><br><br><br>\n",
    "\n",
    "\n",
    "\n",
    "Y para <span style=\"color: green\">REPRODUCIRLO</span> de nuevo, sólo para que lo sepas, escribe:<br>\n",
    "\n",
    "<table style=\"float:left;background: #407EAF\">\n",
    "    <tr>\n",
    "    <th>\n",
    "    <p style=\"background: #FFFFFF\">Ejecuta en el WebShell #3</p><br>\n",
    "    <i>rosservice call /gazebo/unpause_physics \"{}\"</i><br>\n",
    "    </th>\n",
    "    </tr>\n",
    "</table>\n",
    "<br><br><br><br><br>\n",
    "\n",
    "Con esto deberías haber parado todas las publicaciones del robot simulado y dejado sólo al rosbag publicando.\n"
   ]
  },
  {
   "cell_type": "markdown",
   "metadata": {},
   "source": [
    "\n",
    "Ahora deberías ser capaz de visualizar los datos en el rqt_plot.<br>\n",
    "No?<br>\n",
    "Comprueba el tiempo que tienes en el rqt_plot? Ves que a partir de un cierto punto el tiempo no sigue corriendo?<br>\n",
    "Esto es porque has parado la simulación así que el tiempo ya no está corriendo, a parte del corto periodo de tiempo del rosbag que estás ejecutando.<br>\n",
    "Cuando el Rqt_plot alcanza el máximo tiempo, se detiene. No regresa al inicio, y por lo tanto si los valores cambian fuera del último periodo de tiempo mostrado, no verás nada.<br>\n",
    "\n",
    "<table style=\"float:left;\">\n",
    "<tr>\n",
    "<th>\n",
    "Observa también la información del rosbag play del rosbag que estás ejecutando actualmente<br>\n",
    "</th>\n",
    "</tr>\n",
    "</table>\n",
    "<br><br>\n",
    "\n",
    "<table style=\"float:left;background: #FFFFFF\">\n",
    "<tr>\n",
    "<th>\n",
    "<p style=\"background: #407EAF\">Salida del WebShell #2</p><br>\n",
    "user ~ $ rosbag play -l laser.bag<br>\n",
    "[ INFO ] [1471001445.5575545086]: Opening laser.bag<br>\n",
    "<br>\n",
    "Waiting 0.2 seconds after advertising topics... done.\n",
    "<br>\n",
    "Hit space to toggle paused, or 's' to step.<br>\n",
    "[RUNNING] Bag Time: 61.676140 Duration: 41.099140 / 41.452000<br>\n",
    "</th>\n",
    "</tr>\n",
    "</table>    "
   ]
  },
  {
   "cell_type": "markdown",
   "metadata": {},
   "source": [
    "En este ejemplo puedes ver como el tiempo actual es <b>41.099</b> de <b>41.452 segundos</b> grabados.<br>\n",
    "Así que el tiempo del Rosbag un máximo de alrededor de <b>62</b> segundos.<br>\n",
    "<b>62</b> segundos es el tiempo máximo que mostrará el rqt_plot, y empezará alrededor de 20 segundos.<br>\n",
    "Por lo tanto, tienes siempre que <b>LIMPIAR</b> el área del gráfico con el <b>botón de limpieza</b> en el rqt_plot.<br>\n",
    "e esta manera deberías obtener algo similar a <a href=\"#fig-5.8\">{Fig-5.8}</a>:<br>\n",
    "\n",
    "<figure>\n",
    "    <img id=\"fig-5.8\" src=\"img/rosbag_rtqplot.gif\"/><br>\n",
    "    <center> <figcaption>Fig-5.8 - RosBag Rqt-Plot</figcaption></center>\n",
    "</figure>\n",
    "\n",
    "\n"
   ]
  },
  {
   "cell_type": "markdown",
   "metadata": {},
   "source": [
    "<span style=\"color: blue\">Para resumir:</span><br>\n",
    "Para usar ficheros rosbag debes asegurarte que el generador de datos original ( el robot real o la simulación ) NO esté publicando, o obtendrás datos muy raros. También debes tener en cuenta que si estás leyendo de un rosbag, el tiempo es finito y cíclico, y por tanto has de limpiar el gráfico para poder ver todo el periodo de tiempo."
   ]
  },
  {
   "cell_type": "markdown",
   "metadata": {},
   "source": [
    "Rosbag es especialmente útil cuando no tienes nada y lanzas un <b>roscore</b> desnudo. Grabas todos los tópicos del sistema, cuando tienes el robot, de esta manera:<br>"
   ]
  },
  {
   "cell_type": "raw",
   "metadata": {},
   "source": [
    "rosbag record -a"
   ]
  },
  {
   "cell_type": "markdown",
   "metadata": {},
   "source": [
    "Esto grabará <b>TODOS</b> los Tópicos. Entonces puedes reproducirlos en un sistema con un roscore desnudo y obtendrás datos de todos los Tópicos como si tuvieses el robot!"
   ]
  },
  {
   "cell_type": "markdown",
   "metadata": {},
   "source": [
    "\n",
    "<table style=\"float:left;\">\n",
    "<tr>\n",
    "<th>\n",
    "<font color=\"red\">Antes de continuar comprueba que has hecho lo siguiente:</font><br>\n",
    "<ul>\n",
    "    <li>\n",
    "    Has parado el rosbag play yendo al WebShell #2 , donde se está ejecutando, y has hecho [CTRL]+[C]\n",
    "    </li>\n",
    "    <li>\n",
    "    Has vuelto a reproducir la simulación para que vuelva a funcionar normalmente:<br>\n",
    "    <table style=\"float:left;background: #407EAF\">\n",
    "        <tr>\n",
    "        <th>\n",
    "        <p style=\"background: #FFFFFF\">Ejecuta en el WebShell #3</p><br>\n",
    "        <i>rosservice call /gazebo/unpause_physics \"{}\"</i><br>\n",
    "        </th>\n",
    "        </tr>\n",
    "    </table>\n",
    "    <br><br><br><br><br>\n",
    "\n",
    "    </li>\n",
    "</ul>\n",
    "</th>\n",
    "</tr>\n",
    "</table>\n"
   ]
  },
  {
   "cell_type": "markdown",
   "metadata": {},
   "source": [
    "### VisualizDatos Complejos y Rviz"
   ]
  },
  {
   "cell_type": "markdown",
   "metadata": {},
   "source": [
    "Aquí lo tienes. El <b>No Va Más!</b> El Halcón Milenario! La herramienta más importante para debugar ROS....<b>RVIZ</b>.<br>\n",
    "RVIZ es una herramienta que te permite visualizar <i>Imágenes, PointClouds, Láseres, Transformaciones Cinemáticas, Modelos de Robots</i>...la lista es interminable. Incluso puedes definir tus propios marcadores. Es una de las razones por las que ROS ha tenido tanto éxito. Antes del RVIZ, era realmente complicado saber qué estaba viendo el Robot. Y este es el concepto principal:<br>\n",
    "RVIZ <b>NO</b> es una simulación. Repito: <b>NO</b> es una simulación.<br>\n",
    "RVIZ es una representación de lo que está siendo publicado en los tópicos, por la Simulación o por el Robot Real. "
   ]
  },
  {
   "cell_type": "markdown",
   "metadata": {},
   "source": [
    "RVIZ es una herramienta realmente compleja y te llevaría un curso completo poder llegar a dominarla. Pero en esta unidad podrás vislumbrar lo que puede llegar a ofrecerte."
   ]
  },
  {
   "cell_type": "markdown",
   "metadata": {},
   "source": [
    "<font color=\"red\">\n",
    "<table style=\"float:left;\">\n",
    "<tr>\n",
    "<th>\n",
    "<b>Recuerda que debes reproducir la simulación y detener el robag como se ha descrito en la sección previa.</b>\n",
    "</th>\n",
    "</tr>\n",
    "</table>\n",
    "</font>"
   ]
  },
  {
   "cell_type": "markdown",
   "metadata": {},
   "source": [
    "<table style=\"float:left;\">\n",
    "<tr>\n",
    "<th>\n",
    "<ol>\n",
    "<li>\n",
    "Escribe en el WebShell #2 el siguiente comando:<br>\n",
    "\n",
    "<table style=\"float:left;background: #407EAF\">\n",
    "<tr>\n",
    "<th>\n",
    "<p style=\"background: #FFFFFF\">Ejecuta en el WebShell #2</p><br>\n",
    "<i>rosrun rviz rviz</i><br>\n",
    "</th>\n",
    "</tr>\n",
    "</table>\n",
    "<br><br><br><br><br>\n",
    "</li>\n",
    "\n",
    "<li>\n",
    "Después dirígete al interfaz gráfico para ver el GUI del RVIZ:<br>\n",
    "</li>\n",
    "</ol>\n",
    "</th>\n",
    "</tr>\n",
    "</table>"
   ]
  },
  {
   "cell_type": "markdown",
   "metadata": {},
   "source": [
    "Se te presentará una ventana como <a href=\"#fig-5.9\">{Fig-5.9}</a>:"
   ]
  },
  {
   "cell_type": "markdown",
   "metadata": {},
   "source": [
    "<figure>\n",
    "    <img id=\"fig-5.9\" src=\"img/rviz_init.jpg\"/><br>\n",
    "    <center> <figcaption>Fig-5.9 - Ventana de Inicio de RVIZ</figcaption></center>\n",
    "</figure>"
   ]
  },
  {
   "cell_type": "markdown",
   "metadata": {},
   "source": [
    "<font color=\"red\">\n",
    "<table style=\"float:left;\">\n",
    "<tr>\n",
    "<th>\n",
    "<b>Nota: En caso de que no veas la parte inferior del Rviz (el botón Add, etc.), haz doble clic en la parte superior de la ventana para maximizarla. Ahora la verás correctamente.</b>\n",
    "</th>\n",
    "</tr>\n",
    "</table>\n",
    "</font>"
   ]
  },
  {
   "cell_type": "markdown",
   "metadata": {},
   "source": [
    "Sólo debes preocuparte de unos pocos elementos para empezar a disfrutar de RVIZ.\n",
    "<ul>\n",
    "    <li>\n",
    "    <b>Panel Central</b>: Aquí es donde toda la magia tiene lugar. Aquí se presentarán la mayoria de elemtnos. Es un espacio 3D que puedes rotar (PRESIONANDO CLIC IZQUIERDO), desplazar (PRESION BOTÓN CENTRAL DEL MOUSE) y hacer zoom (PRESIONANDO CLIC DERECHO).\n",
    "    </li>\n",
    "    <li>\n",
    "    <b>Panel Izquierdo</b>: Aquí es donde gestionas todos los elementos que quieres visualizar. Puedes guardar la configuración en un fichero para no tener que configurarlo cada vez que entras. Sólo necesitas usar 2 elementos:\n",
    "    <ul>\n",
    "        <li>\n",
    "        En <i>Global Options</i>, en <b>Fixed Frame</b>, tienes que seleccionar el que te vaya mejor para la visualización de los datos. Es el punto de referencia a partir del cual se referenciará todo. Esto es especialmente importante para transformaciones cinemáticas ( tf ).\n",
    "        </li>\n",
    "        <li>\n",
    "        El <i>botón Add</i>. Pulsando aquí obtienes todos los tipos de elementos que pueden ser representados en RVIZ por defecto.\n",
    "        </li>\n",
    "    </ul>\n",
    "    </li>\n",
    "    \n",
    "</ul>"
   ]
  },
  {
   "cell_type": "markdown",
   "metadata": {},
   "source": [
    "<table style=\"float:left;\">\n",
    "<tr>\n",
    "<th>\n",
    "Ve al RVIZ en el interfaz gráfico y Añade un elemento <b>TF</b>. Para ello simplemente pulsa Add y selecciona el elemento TF dentro del directorio <i>rviz</i>, como se muestra en <a href=\"#fig-5.10\">{Fig-5.10}</a>.<br>\n",
    "</th>\n",
    "</tr>\n",
    "</table>"
   ]
  },
  {
   "cell_type": "markdown",
   "metadata": {},
   "source": [
    "<figure>\n",
    "    <img id=\"fig-5.10\" src=\"img/rviz_add.jpg\"/><br>\n",
    "    <center> <figcaption>Fig-5.10 - Ventana Add en RVIZ</figcaption></center>\n",
    "</figure>"
   ]
  },
  {
   "cell_type": "markdown",
   "metadata": {},
   "source": [
    "<table style=\"float:left;\">\n",
    "<tr>\n",
    "<th>\n",
    "<ul>\n",
    "    <li>\n",
    "    Ve al panel izquierdo del RVIZ, selecciona como Fixed Frame <i>iri_wam_link_footprint</i> y asegúrate que el checkbox del elemento TF esté marcado. En unos instantes deberías ver todos los ejes del Robot representados en el Panel Central.<br>\n",
    "    </li>\n",
    "    <li>\n",
    "    Ahora, ve al WebShell #1 e introduce el siguiente comando para mover el robot:<br>\n",
    "    <table style=\"float:left;background: #407EAF\">\n",
    "        <tr>\n",
    "        <th>\n",
    "        <p style=\"background: #FFFFFF\">Execute in WebShell #1</p><br>\n",
    "        <i>roslaunch iri_wam_aff_demo start_demo.launch</i>\n",
    "        </th>\n",
    "        </tr>\n",
    "    </table>\n",
    "    <br><br><br><br><br>\n",
    "    \n",
    "    \n",
    "\n",
    "    </li>\n",
    "</ul>\n",
    "\n",
    "</th>\n",
    "</tr>\n",
    "</table>"
   ]
  },
  {
   "cell_type": "markdown",
   "metadata": {},
   "source": [
    "Deberías ver algo como esto:"
   ]
  },
  {
   "cell_type": "markdown",
   "metadata": {},
   "source": [
    "<figure>\n",
    "    <img id=\"fig-5.11\" src=\"img/rviz_unit5.gif\"/><br>\n",
    "    <center> <figcaption>Fig-5.11 - TFs moviendose en RVIZ</figcaption></center>\n",
    "</figure>"
   ]
  },
  {
   "cell_type": "markdown",
   "metadata": {},
   "source": [
    "Estás viendo en la <a href=\"#fig-5.11\">{Fig-5.11}</a> todas las transformaciones de los elementos en tiempo real. Esto te permite ver exactamente qué transformaciones de los joints se están enviando al brazo robótico para comprobar si están funcionando correctamente."
   ]
  },
  {
   "cell_type": "markdown",
   "metadata": {},
   "source": [
    "<table style=\"float:left;\">\n",
    "<tr>\n",
    "<th>\n",
    "<ul>\n",
    "    <li>\n",
    "    Ahora presiona Add y selecciona <i>RobotModel</i>.Deberías ver los modelos URDF que el robot tiene para representarse a él mismo, como se muestra en <a href=\"#fig-5.12\">{Fig-5.12}</a><br>\n",
    "    </li>\n",
    "</ul>\n",
    "\n",
    "</th>\n",
    "</tr>\n",
    "</table>"
   ]
  },
  {
   "cell_type": "markdown",
   "metadata": {},
   "source": [
    "<figure>\n",
    "    <img id=\"fig-5.12\" src=\"img/robotmodel.jpg\"/><br>\n",
    "    <center> <figcaption>Fig-5.12 - RVIZ Add Robot Model</figcaption></center>\n",
    "</figure>"
   ]
  },
  {
   "cell_type": "markdown",
   "metadata": {},
   "source": [
    "Ahora deberías ver algo así <a href=\"#fig-5.13\">{Fig-5.13}</a>:"
   ]
  },
  {
   "cell_type": "markdown",
   "metadata": {},
   "source": [
    "<figure>\n",
    "    <img id=\"fig-5.13\" src=\"img/robotmodel.gif\"/><br>\n",
    "    <center> <figcaption>Fig-5.13 - RVIZ Robot Model Moviéndose</figcaption></center>\n",
    "</figure>"
   ]
  },
  {
   "cell_type": "markdown",
   "metadata": {},
   "source": [
    "Por qué no ves la mesa? O el bol? Hay algo mal? Para nada!<br>\n",
    "Recuerda: RVIZ <b>NO</b> es una simulación, representa lo que los <b>TÓPICOS</b> están publicando. En este caso los modelos que son representados son los que el <i>RobotStatePublisher combinado con el TF</i> están publicando. El robot model SÓLO representa lo que está definido como robot_model, nada más.<br>\n",
    "Entonces cómo puedo ver los objetos de alrededor? Pues tal y como hacen los robots, a través de las cámaras, láseres y otros datos de tópicos.<br>\n",
    "<b>Recuerda: RVIZ muestra lo que el robot está viendo, nada más.</b>"
   ]
  },
  {
   "cell_type": "markdown",
   "metadata": {},
   "source": [
    "<table style=\"float:left;\">\n",
    "<tr>\n",
    "<th>\n",
    "<p style=\"background:#EE9023;color:white;\" id=\"ex-5.4\">Ejercicio 5.4</p><br>\n",
    "Añade al RVIZ la visualización de los siguientes elementos:\n",
    "<ol>\n",
    "<li>\n",
    "Lo que la cámara RGB de la Kinect está viendo.<br>\n",
    "<i>PISTA: el tópico que ha de leer es /camera/rgb/image_raw. Puede tardar un poco en cargar las imágenes, así que sé paciente.</i>\n",
    "</li>\n",
    "<li>\n",
    "Lo que el Láser montado en el end effector del brazo robótico está detectando. <i>PISTA: Puedes ajustar la apariencia de los puntos del láser a través del elemento en el PANEL IZQUIERDO.</i>\n",
    "</li>\n",
    "<li>\n",
    "Lo que la Cámara PointCloud / Kinect montada en frente del brazo robótico está registrando. <i>PISTA: Puedes ajustar la apariencia de los puntos del pointcloud a través del elemento en PANEL IZQUIERDO. Deberías seleccionar puntos para un mejor rendimiento.</i>\n",
    "</li>\n",
    "</ol>\n",
    "</th>\n",
    "</tr>\n",
    "</table>"
   ]
  },
  {
   "cell_type": "markdown",
   "metadata": {},
   "source": [
    "Nota: Deberías obtener un resultado similar al mostrado aquí:<br>\n",
    "<font color=\"red\"><b>Ten en cuenta que al activar el pointcloud tiene un gran impacto en el rendimiento del sistema. Esto es debido a la masiva cantidad de información a representar. Se recomienda usarlo sólo con una targeta gráfica potente.</b></font><br><br>\n",
    "Juega con los tipos de representaciones del láser, tamaño y demás, asi como con la configuración del pointcloud."
   ]
  },
  {
   "cell_type": "markdown",
   "metadata": {
    "collapsed": true
   },
   "source": [
    "<table style=\"width:100%\">\n",
    "  <tr>\n",
    "    \n",
    "    <th>\n",
    "    <figure>\n",
    "    <img id=\"fig-5.14\" src=\"img/rviz_finex.gif\"/><br>\n",
    "    <center> <figcaption>Fig-5.14 - RVIZ Robot con cámara y láser</figcaption></center>\n",
    "</figure>\n",
    "    </th>\n",
    "    \n",
    "    <th>\n",
    "    <figure>\n",
    "    <img id=\"fig-5.15\" src=\"img/rviz_finex_pointcloud.gif\"/><br>\n",
    "    <center> <figcaption>Fig-5.15 - RVIZ Robot con cámara, láser y point-cloud</figcaption></center>\n",
    "</figure>\n",
    "    </th> \n",
    "  </tr>\n",
    "</table>"
   ]
  },
  {
   "cell_type": "markdown",
   "metadata": {},
   "source": [
    "Enhorabuena! Ahora ya estás listo para debugar cualquier robot! "
   ]
  },
  {
   "cell_type": "markdown",
   "metadata": {
    "collapsed": true
   },
   "source": [
    "## Material adicional para aprender más"
   ]
  },
  {
   "cell_type": "markdown",
   "metadata": {},
   "source": [
    "roswtf: http://wiki.ros.org/roswtf<br>\n",
    "Sistema de Logs de ROS: http://wiki.ros.org/rospy/Overview/Logging<br>\n",
    "rqt_console: http://wiki.ros.org/rqt_console<br>\n",
    "rqt_plot: http://wiki.ros.org/rqt_plot<br>\n",
    "rqt_graph: http://wiki.ros.org/rqt_graph<br>\n",
    "Rosbag: http://wiki.ros.org/rosbag<br>\n",
    "Rviz: http://wiki.ros.org/rviz"
   ]
  }
 ],
 "metadata": {
  "kernelspec": {
   "display_name": "Python [Root]",
   "language": "python",
   "name": "Python [Root]"
  },
  "language_info": {
   "codemirror_mode": {
    "name": "ipython",
    "version": 2
   },
   "file_extension": ".py",
   "mimetype": "text/x-python",
   "name": "python",
   "nbconvert_exporter": "python",
   "pygments_lexer": "ipython2",
   "version": "2.7.12"
  }
 },
 "nbformat": 4,
 "nbformat_minor": 0
}
